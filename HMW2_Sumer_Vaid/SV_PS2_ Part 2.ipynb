{
 "cells": [
  {
   "cell_type": "code",
   "execution_count": 54,
   "metadata": {
    "collapsed": false
   },
   "outputs": [],
   "source": [
    "import numpy as np\n",
    "import pandas as pd\n",
    "import matplotlib.pyplot as plt\n",
    "import scipy as sp\n",
    "import math\n",
    "import scipy.stats as sts\n",
    "import scipy.optimize as opt"
   ]
  },
  {
   "cell_type": "code",
   "execution_count": 23,
   "metadata": {
    "collapsed": false
   },
   "outputs": [
    {
     "name": "stdout",
     "output_type": "stream",
     "text": [
      "     ﻿sick    age  children  avgtemp_winter\n",
      "0     1.67  57.47      3.04           54.10\n",
      "1     0.71  26.77      1.20           36.54\n",
      "2     1.39  41.85      2.31           32.38\n",
      "3     1.37  51.27      2.46           52.94\n",
      "4     1.45  44.22      2.72           45.90\n",
      "5     0.62  44.67      1.20           68.60\n",
      "6     1.06  27.92      1.84           29.42\n",
      "7     1.29  44.87      2.40           50.49\n",
      "8     1.05  53.68      1.65           55.12\n",
      "9     1.18  39.63      1.96           37.30\n",
      "10    1.21  44.73      1.98           41.21\n",
      "11    0.63  41.05      1.04           56.73\n",
      "12    0.67  30.44      1.08           41.38\n",
      "13    0.64  37.77      0.94           47.97\n",
      "14    0.86  30.46      1.39           34.33\n",
      "15    1.25  46.54      2.10           44.26\n",
      "16    0.88  51.92      1.53           65.57\n",
      "17    0.12  15.46      0.00           33.46\n",
      "18    1.53  59.02      2.67           55.67\n",
      "19    1.36  45.63      2.35           42.02\n",
      "20    0.73  42.65      1.03           48.89\n",
      "21    0.15  28.09      0.00           46.28\n",
      "22    0.60  35.63      0.89           47.29\n",
      "23    1.28  54.79      2.20           56.59\n",
      "24    0.89  42.76      1.29           42.77\n",
      "25    0.46  38.50      0.60           53.20\n",
      "26    1.03  36.14      1.57           32.03\n",
      "27    0.42  20.16      0.55           30.97\n",
      "28    0.60  40.30      0.93           54.33\n",
      "29    1.86  55.48      3.53           52.19\n",
      "..     ...    ...       ...             ...\n",
      "170   0.91  38.19      1.44           41.68\n",
      "171   0.60  37.30      0.85           48.05\n",
      "172   1.14  37.87      2.03           41.22\n",
      "173   1.15  49.30      1.86           48.58\n",
      "174   0.73  41.26      1.15           51.49\n",
      "175   0.93  38.37      1.54           43.24\n",
      "176   0.88  26.04      1.40           27.01\n",
      "177   1.13  32.31      1.85           28.29\n",
      "178   0.69  34.83      1.01           41.72\n",
      "179   1.23  39.52      2.14           39.48\n",
      "180   0.38  44.98      0.41           61.62\n",
      "181   1.23  42.15      2.09           39.77\n",
      "182   1.03  50.62      1.86           61.72\n",
      "183   1.76  45.58      3.14           33.47\n",
      "184   0.90  40.81      1.30           40.43\n",
      "185   0.32  20.79      0.40           36.06\n",
      "186   0.63  28.55      1.09           42.90\n",
      "187   1.56  31.54      2.75           19.77\n",
      "188   1.06  47.60      1.78           52.17\n",
      "189   1.16  40.44      1.83           34.96\n",
      "190   0.34  40.94      0.46           62.25\n",
      "191   0.33  43.23      0.35           62.18\n",
      "192   1.98  61.08      3.64           52.23\n",
      "193   0.61  46.62      0.89           59.88\n",
      "194   1.00  53.63      1.70           62.96\n",
      "195   0.53  30.56      0.74           41.76\n",
      "196   0.86  33.97      1.40           39.10\n",
      "197   1.39  44.00      2.45           40.95\n",
      "198   0.72  22.30      1.03           23.14\n",
      "199   1.29  39.83      2.35           42.11\n",
      "\n",
      "[200 rows x 4 columns]\n"
     ]
    }
   ],
   "source": [
    "dataQ2 = pd.read_csv('sick.txt', header = 0)\n",
    "print(dataQ2)"
   ]
  },
  {
   "cell_type": "code",
   "execution_count": 98,
   "metadata": {
    "collapsed": false
   },
   "outputs": [],
   "source": [
    "def normal_pdf(x, mean, sd):\n",
    "    values=(1/(sd*np.sqrt(2*np.pi))*np.exp(-(x-mean)**2/(2*sd**2)))\n",
    "    return values\n",
    "\n",
    "n=len(dataQ2.sick1)\n",
    "\n",
    "def log_like_q2 (dataQ2, b0, b1,b2,b3,sd):\n",
    "    error=dataQ2['sick1']-(b0+b1*dataQ2['age']+b2*dataQ2['children']+b3*dataQ2['avgtemp_winter'])\n",
    "    log_pdf_values=-n/2*np.log(2*np.pi)-n*np.log(sd)-1/(2*sd**2)*np.sum(error**2)\n",
    "    log_like=log_pdf_values.sum()\n",
    "    return log_like\n",
    "\n",
    "def crit_Q2(params, *args):\n",
    "    b0, b1, b2, b3, sd=params\n",
    "    data_Q2=args[0]\n",
    "    log_like_value=log_like_q2(dataQ2, b0, b1, b2, b3, sd)\n",
    "    neg_log_like_value=-log_like_value\n",
    "    return neg_log_like_value\n",
    "\n",
    "dataQ2.columns=['sick1', 'age', 'children', 'avgtemp_winter']"
   ]
  },
  {
   "cell_type": "code",
   "execution_count": 99,
   "metadata": {
    "collapsed": false
   },
   "outputs": [
    {
     "name": "stdout",
     "output_type": "stream",
     "text": [
      "The array of MLE optimized parameters is [ 0.25164459  0.01293349  0.40050085 -0.00999171  0.00301755]\n",
      "The log likelihood function is 876.865066401\n"
     ]
    }
   ],
   "source": [
    "b0=0\n",
    "b1=0\n",
    "b2=0\n",
    "b3=0\n",
    "sd=0.1\n",
    "\n",
    "age = dataQ2.age\n",
    "children = dataQ2.children\n",
    "winter = dataQ2.avgtemp_winter\n",
    "sick = dataQ2.sick1\n",
    "\n",
    "init_parameters=np.array([b0,b1, b2, b3, sd])\n",
    "bounds=((None, None), (None, None), (None, None), (None, None), (0.001, None))\n",
    "results=opt.minimize(crit_Q2, init_parameters, args=((age, children, winter, sick)), method='L-BFGS-B', \n",
    "bounds=bounds)\n",
    "\n",
    "print('The array of MLE optimized parameters is', results.x)\n",
    "print('The log likelihood function is', -results.fun)"
   ]
  },
  {
   "cell_type": "code",
   "execution_count": 103,
   "metadata": {
    "collapsed": false
   },
   "outputs": [
    {
     "name": "stdout",
     "output_type": "stream",
     "text": [
      "The variance/covariance matrix is [[  1.08658284e+02   1.59951411e+00   9.72932170e+00   7.51358476e-01\n",
      "   -6.09381308e-01]\n",
      " [  1.59951411e+00   4.12712689e-02   2.36763352e-02  -5.54015639e-04\n",
      "    3.22451359e-03]\n",
      " [  9.72932170e+00   2.36763352e-02   2.46726580e+00  -1.65044640e-01\n",
      "    1.09911715e-01]\n",
      " [  7.51358476e-01  -5.54015639e-04  -1.65044640e-01   1.14774285e-02\n",
      "    7.56101138e-03]\n",
      " [ -6.09381308e-01   3.22451359e-03   1.09911715e-01   7.56101138e-03\n",
      "    5.34367470e-03]]\n",
      "The standard error for mean is 10.4239284378\n",
      "The standard error for the sd is 0.203153313795\n",
      "[[  1.08658284e+02   1.59951411e+00   9.72932170e+00   7.51358476e-01\n",
      "   -6.09381308e-01]\n",
      " [  1.59951411e+00   4.12712689e-02   2.36763352e-02  -5.54015639e-04\n",
      "    3.22451359e-03]\n",
      " [  9.72932170e+00   2.36763352e-02   2.46726580e+00  -1.65044640e-01\n",
      "    1.09911715e-01]\n",
      " [  7.51358476e-01  -5.54015639e-04  -1.65044640e-01   1.14774285e-02\n",
      "    7.56101138e-03]\n",
      " [ -6.09381308e-01   3.22451359e-03   1.09911715e-01   7.56101138e-03\n",
      "    5.34367470e-03]]\n"
     ]
    }
   ],
   "source": [
    "#From Prof. Evans' Notes:\n",
    "OffDiagNeg=np.eye(5)*2-1\n",
    "vcv_mle=results.hess_inv.todense()*OffDiagNeg\n",
    "stderr_mu_mle=np.sqrt(vcv_mle[0,0])\n",
    "stderr_sig_mle=np.sqrt(vcv_mle[1,1])\n",
    "print(\"The variance/covariance matrix is\",\n",
    "      vcv_mle)\n",
    "print(\"The standard error for mean is\", stderr_mu_mle)\n",
    "print(\"The standard error for the sd is\", stderr_sig_mle)\n",
    "print(vcv_mle)"
   ]
  },
  {
   "cell_type": "code",
   "execution_count": 90,
   "metadata": {
    "collapsed": false
   },
   "outputs": [
    {
     "name": "stdout",
     "output_type": "stream",
     "text": [
      "The P-Value is =  0.0 ,therefore we can reject the null hypothesis.\n"
     ]
    }
   ],
   "source": [
    "b0=1\n",
    "sd=0.01\n",
    "b1=0\n",
    "b2=0\n",
    "b3=0\n",
    "null = log_like_q2(dataQ2, b0, b1, b2, b3, sd)\n",
    "mle_calc = log_like_q2(dataQ2, 0.25201543, 0.01295189, 0.40030231, -0.01000917, 0.051814)\n",
    "ratio = 2 * (mle_calc - null)\n",
    "p = 1.0 - sts.chi2.cdf(ratio, 2)\n",
    "print('The P-Value is = ', p, ',therefore we can reject the null hypothesis.')"
   ]
  },
  {
   "cell_type": "code",
   "execution_count": null,
   "metadata": {
    "collapsed": true
   },
   "outputs": [],
   "source": []
  }
 ],
 "metadata": {
  "kernelspec": {
   "display_name": "Python 3",
   "language": "python",
   "name": "python3"
  },
  "language_info": {
   "codemirror_mode": {
    "name": "ipython",
    "version": 3
   },
   "file_extension": ".py",
   "mimetype": "text/x-python",
   "name": "python",
   "nbconvert_exporter": "python",
   "pygments_lexer": "ipython3",
   "version": "3.5.1"
  }
 },
 "nbformat": 4,
 "nbformat_minor": 0
}
