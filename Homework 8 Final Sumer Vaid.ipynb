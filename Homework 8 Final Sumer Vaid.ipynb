{
 "cells": [
  {
   "cell_type": "code",
   "execution_count": 143,
   "metadata": {},
   "outputs": [],
   "source": [
    "import pandas as pd\n",
    "import numpy as np\n",
    "import matplotlib.pyplot as plt\n",
    "import seaborn as sb\n",
    "import sklearn\n",
    "import warnings\n",
    "from sklearn.cross_validation import train_test_split\n",
    "from sklearn import metrics \n",
    "from sklearn.metrics import classification_report, confusion_matrix\n",
    "from sklearn.model_selection import LeaveOneOut, KFold\n",
    "from sklearn.ensemble import RandomForestRegressor\n",
    "from sklearn import svm\n",
    "from sklearn.ensemble import RandomForestClassifier\n",
    "from sklearn import preprocessing\n",
    "from sklearn.linear_model import LogisticRegression\n",
    "from sklearn.cross_validation import train_test_split\n",
    "from pylab import rcParams\n",
    "from sklearn.neural_network import MLPClassifier\n",
    "from sklearn.svm import SVC"
   ]
  },
  {
   "cell_type": "code",
   "execution_count": 86,
   "metadata": {},
   "outputs": [],
   "source": [
    "data=pd.read_csv('strongdrink.txt', sep=',',na_values='', encoding=\"utf-8-sig\")\n",
    "data=data.dropna()\n",
    "data.isnull().sum()\n",
    "\n",
    "data['const'] = 1\n",
    "xvars = data[['alco', 'malic', 'tot_phen', 'color_int']].values\n",
    "yvals = data['cultivar'].values"
   ]
  },
  {
   "cell_type": "markdown",
   "metadata": {},
   "source": [
    "# Part 1. a)"
   ]
  },
  {
   "cell_type": "code",
   "execution_count": 144,
   "metadata": {},
   "outputs": [
    {
     "data": {
      "image/png": "[encoded data removed]",
      "text/plain": [
       "<matplotlib.figure.Figure at 0x11a798fd0>"
      ]
     },
     "metadata": {},
     "output_type": "display_data"
    }
   ],
   "source": [
    "groups=data.groupby('cultivar')\n",
    "fig,ax=plt.subplots(figsize=(10,10))\n",
    "for name, group in groups:\n",
    "    ax.plot(group['alco'], group['color_int'], marker='o', linestyle='', ms=4, label=name)\n",
    "ax.legend()\n",
    "plt.xlabel(\"Alcohol Content\")\n",
    "plt.ylabel(\"Color Intensity\")\n",
    "plt.title( \"Color Intensity vs Alcohol Content, grouped by Cultivar\")\n",
    "plt.show()"
   ]
  },
  {
   "cell_type": "markdown",
   "metadata": {},
   "source": [
    "# Part 1b)"
   ]
  },
  {
   "cell_type": "code",
   "execution_count": 129,
   "metadata": {},
   "outputs": [
    {
     "name": "stdout",
     "output_type": "stream",
     "text": [
      "Fold 0\n",
      "0.0454545454545\n",
      "\n",
      "Fold 1\n",
      "0.0454545454545\n",
      "\n",
      "Fold 2\n",
      "0.0681818181818\n",
      "\n",
      "Fold 3\n",
      "0.113636363636\n",
      "\n",
      "The K-fold MSE is 0.0681818181818\n",
      "The K-fold SD is 0.0885707799325\n"
     ]
    }
   ],
   "source": [
    "k = 4\n",
    "kfold = KFold(n_splits=k, shuffle=True, random_state=22)\n",
    "kfold.split(xvars)\n",
    "mseveckf = np.zeros(k)\n",
    "k_ind = int(0)\n",
    "for train_index, test_index in kfold.split(xvars):\n",
    "    print('Fold', k_ind)\n",
    "    X_train, X_test = xvars[train_index], xvars[test_index]\n",
    "    y_train, y_test = yvals[train_index], yvals[test_index]\n",
    "    MultLogReg = LogisticRegression(multi_class='multinomial',\n",
    "                                solver='newton-cg', penalty = 'l2', C = .3)\n",
    "    MultLogReg.fit(X_train, y_train)\n",
    "    y_pred = MultLogReg.predict(X_test)\n",
    "    mseveckf[k_ind] = ((y_test - y_pred) ** 2).mean()\n",
    "    print(mseveckf[k_ind])\n",
    "    print('')\n",
    "    k_ind += 1\n",
    "\n",
    "msekf = mseveckf.mean()\n",
    "msekfstd = MSE_vec_kf.std()\n",
    "print('The K-fold MSE is', msekf)\n",
    "print('The K-fold SD is', msekfstd)"
   ]
  },
  {
   "cell_type": "markdown",
   "metadata": {},
   "source": [
    "After playing with the tuning parameters, it appeared that the value of C=0.3 appears to minimize the overall MSE to a value of 0.06818. Increasing the C value further has no effect on the MSE Value and the function is unable to accept penalty specifications other than 12. Hence the lowest possible k-fold MSE value is 0.06818, obtained at C=0.3 and Penalty=12. "
   ]
  },
  {
   "cell_type": "markdown",
   "metadata": {},
   "source": [
    "# Part 1c)"
   ]
  },
  {
   "cell_type": "code",
   "execution_count": 140,
   "metadata": {},
   "outputs": [
    {
     "name": "stdout",
     "output_type": "stream",
     "text": [
      "The k-fold test estimate MSE is 0.0681818181818\n"
     ]
    }
   ],
   "source": [
    "treefit= RandomForestClassifier(n_estimators=100, max_depth=6, min_samples_leaf=10, bootstrap=True, oob_score=True, random_state=22)\n",
    "treefit.fit(xvars, yvals)\n",
    "msekf = 1 - treefit.oob_score_\n",
    "print (\"The K-fold MSE is\", msekf)"
   ]
  },
  {
   "cell_type": "markdown",
   "metadata": {},
   "source": [
    "After playing around with the values, I obtained the same MSE value from part 1b) of this question. I obtained this low MSE  value with the following parameters: n_estimators=100, max_depth=6, min_samples_leaf=10. "
   ]
  },
  {
   "cell_type": "markdown",
   "metadata": {},
   "source": [
    "# Part 1d)"
   ]
  },
  {
   "cell_type": "code",
   "execution_count": 145,
   "metadata": {},
   "outputs": [
    {
     "name": "stdout",
     "output_type": "stream",
     "text": [
      "k index= 0\n",
      "The mse for test 0 is 0.0\n",
      "k index= 1\n",
      "The mse for test 1 is 0.0681818181818\n",
      "k index= 2\n",
      "The mse for test 2 is 0.0454545454545\n",
      "k index= 3\n",
      "The mse for test 3 is 0.0681818181818\n",
      "The k-fold test estimate MSE is 0.0454545454545 The k-fold test estimate std.dev is 0.0278351107134\n"
     ]
    }
   ],
   "source": [
    "mseveckf = np.zeros(k)\n",
    "kfold=KFold(n_splits=k, shuffle=True, random_state=22)\n",
    "\n",
    "k_ind = int(0)\n",
    "for train_index, test_index in kfold.split(xvars):\n",
    "    print('k index=', k_ind)\n",
    "    X_train, X_test = xvars[train_index], xvars[test_index]\n",
    "    y_train, y_test = yvals[train_index], yvals[test_index]\n",
    "    svc = SVC(kernel='rbf', gamma = 1.7, C = 1)\n",
    "    svc.fit(X_train, y_train)\n",
    "    y_pred_svc = svc.predict(X_test)\n",
    "    mseveckf[k_ind] = ((y_test - y_pred_svc) ** 2).mean()\n",
    "    print(\"The mse for k=\", k_ind, 'is', mseveckf[k_ind])\n",
    "    k_ind += 1\n",
    "\n",
    "msekf = mseveckf.mean()\n",
    "msekfstd=mseveckf.std()\n",
    "print (\"The k-fold MSE is\", msekf, \n",
    "           \"The k-fold std.dev is\", msekfstd)"
   ]
  },
  {
   "cell_type": "markdown",
   "metadata": {},
   "source": [
    "I played around with the tuning parameters C and gamma. I obtained the lowest over test estimate MSE value of 0.04545 when I set Gamma to 1.7 and C to 1. Increasing or decreasing these values led to values of MSE that were greater than 0.04545. "
   ]
  },
  {
   "cell_type": "markdown",
   "metadata": {},
   "source": [
    "# Part 1e)"
   ]
  },
  {
   "cell_type": "code",
   "execution_count": 142,
   "metadata": {},
   "outputs": [
    {
     "name": "stdout",
     "output_type": "stream",
     "text": [
      "k index= 0\n",
      "The MSE for test set 0 is 0.0454545454545\n",
      "k index= 1\n",
      "The MSE for test set 1 is 0.0909090909091\n",
      "k index= 2\n",
      "The MSE for test set 2 is 0.0681818181818\n",
      "k index= 3\n",
      "The MSE for test set 3 is 0.0909090909091\n",
      "The k-fold test estimate MSE is 0.0738636363636 The k-fold test estimate std.dev is 0.0188444590361\n"
     ]
    }
   ],
   "source": [
    "kfold=KFold(n_splits=k, shuffle=True, random_state=22)\n",
    "mseveckf=np.zeros(k)\n",
    "\n",
    "k_ind=int(0)\n",
    "for train_index, test_index in kfold.split(xvars):\n",
    "    print('k index=', k_ind)\n",
    "    x_train, x_test=xvars[train_index], xvars[test_index]\n",
    "    y_train,y_test=yvals[train_index], yvals[test_index]\n",
    "    mlp=MLPClassifier(activation='relu', solver='lbfgs', alpha=1, hidden_layer_sizes=100)\n",
    "    mlp.fit(x_train, y_train)\n",
    "    y_pred=mlp.predict(x_test)\n",
    "    mseveckf[k_ind]=((y_test-y_pred)**2).mean()\n",
    "    print (\"The MSE for k=\", k_ind, 'is', mseveckf[k_ind])\n",
    "    k_ind+=1\n",
    "    \n",
    "msekf=mseveckf.mean()\n",
    "msekfstd=mseveckf.std()\n",
    "print (\"The k-fold MSE is\", msekf, \n",
    "           \"The k-fold std.dev is\", msekfstd)\n"
   ]
  },
  {
   "cell_type": "markdown",
   "metadata": {},
   "source": [
    "I played around with the tuning parameters alpa and hidden layer sizes. The lowest MSE I could find was 0.06818. I obtained this value with the following parameters:\n",
    "hidden layer size =100\n",
    "alpha=1"
   ]
  },
  {
   "cell_type": "markdown",
   "metadata": {},
   "source": [
    "# Part 1f)"
   ]
  },
  {
   "cell_type": "markdown",
   "metadata": {},
   "source": [
    "The lowest MSE obtaind was for the supprot vector machine model - 0.04545. When I reran the support vector machine model with different values, I observed that the MSE was consistently lower than the other categories, and did not fluctuate as much in value as the other categories. Hence I think that the support vector machine model is the best predictor of cultivar. "
   ]
  }
 ],
 "metadata": {
  "kernelspec": {
   "display_name": "Python 3",
   "language": "python",
   "name": "python3"
  },
  "language_info": {
   "codemirror_mode": {
    "name": "ipython",
    "version": 3
   },
   "file_extension": ".py",
   "mimetype": "text/x-python",
   "name": "python",
   "nbconvert_exporter": "python",
   "pygments_lexer": "ipython3",
   "version": "3.5.1"
  }
 },
 "nbformat": 4,
 "nbformat_minor": 2
}
