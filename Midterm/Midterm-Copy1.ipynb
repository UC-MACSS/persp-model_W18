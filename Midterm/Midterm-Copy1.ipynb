{
 "cells": [
  {
   "cell_type": "markdown",
   "metadata": {},
   "source": [
    "# Midterm (MACS 30100), February 5, 2018\n",
    "### Zhiyu Fu\n",
    "You will have an hour and thirty minutes to take this exam.\n",
    "1. Put your name in the space provided above (without the brackets).\n",
    "2. Download this notebook and accompanying data `LenderDataLong.dta`.\n",
    "3. The class will disconnect their wi-fi and begin taking the exam.\n",
    "4. The exam is open computer, closed internet, open note.\n",
    "5. Once you are done, you will signal to a TA or instructor to come over and monitor while you reconnect to the internet and upload your edited notebook to Canvas.\n",
    "\n",
    "Remember that you must clearly indicate your answers to all questions below. We will give partial credit for partially correct answers. The midterm is worth 20 points (2 problem sets)."
   ]
  },
  {
   "cell_type": "markdown",
   "metadata": {},
   "source": [
    "## The data\n",
    "This two exercises of this midterm and all their respective subparts will use the `LenderData.csv` dataset, which contains observations of characteristics on short-term, high interest rate, lender information. You are not to use this data outside of this class. It is a jittered and randomized version of a dataset used in a published research paper.\n",
    "\n",
    "Each observation contains characteristics of a particular lender location Read it into Python using the `pandas.read_csv()` command. The variables are the following:\n",
    "\n",
    "* `avgrate`: average annualized interest rate of all loans in percentage points (235 = two hundred and thirty five percent)\n",
    "* `numstores`: number of other stores owned by the same owner (measure of size)\n",
    "* `defrate`: default rate on loans from that store during 2010\n",
    "* `pdrad3`: number of payday lenders within a three-mile radius of the store (measure of competition)\n",
    "* `pnrad3`: number of pawn lenders within a three-mile radius of the store (measure of competition)\n",
    "* `totrad3`: total number of other lenders within a three-mile radius of the store (measure of competition)\n",
    "* `unrt_zip`: unemployment rate in the zip code of the store\n",
    "* `medtotinc2010`: median total household income in the zip code of the store\n",
    "* `edbachplus_zip`: average education level in years of schooling of heads of household in the zip code of the store\n",
    "* `pop_zip`: population in zip code of the store\n",
    "* `mdage_zip`: median age (in years) in zip code of the store\n",
    "* `pctblk2_zip`: percent of the population that is black in the zip code of the store in percentage points (2.2=two point two percent)"
   ]
  },
  {
   "cell_type": "code",
   "execution_count": 2,
   "metadata": {},
   "outputs": [
    {
     "name": "stderr",
     "output_type": "stream",
     "text": [
      "/anaconda/lib/python3.6/site-packages/statsmodels/compat/pandas.py:56: FutureWarning: The pandas.core.datetools module is deprecated and will be removed in a future version. Please use the pandas.tseries module instead.\n",
      "  from pandas.core import datetools\n"
     ]
    }
   ],
   "source": [
    "import numpy as np\n",
    "import matplotlib.pyplot as plt\n",
    "import pandas as pd\n",
    "import scipy.stats as sts\n",
    "from scipy.optimize import minimize\n",
    "import pdb\n",
    "from matplotlib import rc\n",
    "import statsmodels.api as sm\n",
    "rc('text', usetex=True)"
   ]
  },
  {
   "cell_type": "code",
   "execution_count": 3,
   "metadata": {},
   "outputs": [],
   "source": [
    "ld = pd.read_csv(\"LenderData.csv\")\n",
    "# Read in the data"
   ]
  },
  {
   "cell_type": "markdown",
   "metadata": {},
   "source": [
    "## 1. Using the distributions of interest rates and median income (10 points)"
   ]
  },
  {
   "cell_type": "markdown",
   "metadata": {},
   "source": [
    "1A) [2 points] Create a plot of the histogram of high interest rate lenders interest rates `avgrate`. Use 30 bins. Make sure to label your axes and give the figure a title. If you had to group lenders into $N$ categories, how many categories would you choose based on the interest rate data? That is, how many groupings to you see in these data?"
   ]
  },
  {
   "cell_type": "code",
   "execution_count": 4,
   "metadata": {},
   "outputs": [
    {
     "data": {
      "image/png": "[encoded data removed]",
      "text/plain": [
       "<matplotlib.figure.Figure at 0x1c110edd30>"
      ]
     },
     "execution_count": 4,
     "metadata": {},
     "output_type": "execute_result"
    }
   ],
   "source": [
    "fig, ax = plt.subplots()\n",
    "ax.hist(ld.avgrate, bins = 30, normed = True, edgecolor = \"Black\")\n",
    "ax.set(xlabel = \"Average Annualized Interest Rate\", \n",
    "       ylabel = \"Density\", \n",
    "       title = \"Distribution of Average Annualized Interest Rate\")\n",
    "fig"
   ]
  },
  {
   "cell_type": "markdown",
   "metadata": {},
   "source": [
    "**Answer**\n",
    "\n",
    "There is clearly pattern of three categories shown in the histogram."
   ]
  },
  {
   "cell_type": "markdown",
   "metadata": {},
   "source": [
    "1B) [1 point] Create a plot of the histogram of median total household income `medtotinc2010`. Use 30 bins. Make sure to label your axes and give the figure a title."
   ]
  },
  {
   "cell_type": "code",
   "execution_count": 5,
   "metadata": {},
   "outputs": [
    {
     "data": {
      "image/png": "[encoded data removed]",
      "text/plain": [
       "<matplotlib.figure.Figure at 0x1c111aa5f8>"
      ]
     },
     "execution_count": 5,
     "metadata": {},
     "output_type": "execute_result"
    }
   ],
   "source": [
    "fig2, ax = plt.subplots()\n",
    "ax.hist(ld.medtotinc2010, bins = 30, normed = True, edgecolor = \"Black\")\n",
    "ax.set(xlabel = \"Median Total Household Income\", \n",
    "       ylabel = \"Density\", \n",
    "       title = \"Distribution of Median Total Household Income\")\n",
    "fig2"
   ]
  },
  {
   "cell_type": "markdown",
   "metadata": {},
   "source": [
    "1C) [5 points] Use maximum likelihood estimation to fit a lognormal distribution $LN(\\mu, \\sigma)$ to the median income data `medtotinc2010`. Report your estimated $\\hat{\\mu}_{mle}$ and $\\hat{\\sigma}_{mle}$ as well as the likelihood function value at the maximum (not the negative log likelihood). Report your estimate of the variance-covariance matrix of your maximum likelihood estimates of $\\hat{\\mu}_{mle}$ and $\\hat{\\sigma}_{mle}$. Report the standard error on the estimate for $\\hat{\\mu}_{mle}$."
   ]
  },
  {
   "cell_type": "code",
   "execution_count": 46,
   "metadata": {},
   "outputs": [],
   "source": [
    "class Random_Variable:\n",
    "    def log_lik(self, dt, param = None):\n",
    "        return np.sum(np.log(self.pdf(dt, param)))\n",
    "    \n",
    "    def param_array(self):\n",
    "        pass\n",
    "    \n",
    "    def pdf(self, x, param = None):\n",
    "        pass\n",
    "    \n",
    "    def MLE(self, dt, bounds = None):\n",
    "        def crit(param):\n",
    "            return -self.log_lik(dt, param)\n",
    "#         return minimize(crit, self.param_array(), method='L-BFGS-B', bounds = bounds)\n",
    "        return minimize(crit, self.param_array(), method='BFGS')\n",
    "    \n",
    "    def cdf_integral(self, x):\n",
    "        return integrate.quad(lambda x: self.pdf(x, param), 0, x)\n",
    "        \n",
    "\n",
    "class Log_Normal(Random_Variable):\n",
    "    def __init__(self, mu, sigma):\n",
    "        self.mu  = mu\n",
    "        self.sigma = sigma\n",
    "    \n",
    "    def param_array(self):\n",
    "        return np.array([self.mu, self.sigma])\n",
    "    \n",
    "    def pdf(self, x, param = None):\n",
    "        if param is None:\n",
    "            sigma = self.sigma\n",
    "            mu = self.mu\n",
    "            sigma2 = sigma ** 2\n",
    "        else:\n",
    "            mu, sigma = param\n",
    "            sigma2 = sigma ** 2\n",
    "        return 1/x/sigma/np.sqrt(2*np.pi) * np.exp(-(np.log(x)-mu)**2/2/sigma2)\n",
    "    \n",
    "    def cdf(self, x, param = None):\n",
    "        if param is None:\n",
    "            sigma = self.sigma\n",
    "            mu = self.mu\n",
    "        else:\n",
    "            mu, sigma = param\n",
    "        return sts.norm.cdf((np.log(x) - mu)/sigma)"
   ]
  },
  {
   "cell_type": "code",
   "execution_count": 47,
   "metadata": {
    "collapsed": true
   },
   "outputs": [],
   "source": [
    "lognormal = Log_Normal(10,0.3)\n",
    "mle_res = lognormal.MLE(ld.medtotinc2010, bounds = ((5, 12), (1e-2,2)))"
   ]
  },
  {
   "cell_type": "code",
   "execution_count": 49,
   "metadata": {},
   "outputs": [
    {
     "data": {
      "text/plain": [
       "array([[ 0.00049262,  0.00034015],\n",
       "       [ 0.00034015,  0.0003175 ]])"
      ]
     },
     "execution_count": 49,
     "metadata": {},
     "output_type": "execute_result"
    }
   ],
   "source": [
    "mle_res.hess_inv"
   ]
  },
  {
   "cell_type": "markdown",
   "metadata": {},
   "source": [
    "**Answer**"
   ]
  },
  {
   "cell_type": "code",
   "execution_count": 27,
   "metadata": {},
   "outputs": [],
   "source": [
    "class GMM:\n",
    "    def __init__(self):\n",
    "        pass\n",
    "    \n",
    "    def model_moment(self, param):\n",
    "        pass\n",
    "    \n",
    "    def error_func(self, param, W = None):\n",
    "        if W is None:\n",
    "            W = np.eye(len(self.data_moment))\n",
    "        e = (self.model_moment(param) - self.data_moment)/self.data_moment\n",
    "        return e.T @ W @ e\n",
    "    \n",
    "    def vcv(self, param):\n",
    "        e = (self.model_moment(param) - self.data_moment)/self.data_moment\n",
    "        return e @ e.T / self.N\n",
    "    \n",
    "    def estimate(self, init, method = \"identity\", bounds = None):\n",
    "        results = minimize(self.error_func, init, method='L-BFGS-B', bounds = bounds)\n",
    "        if method == \"identity\":\n",
    "            return results\n",
    "        if method == \"two-step\":\n",
    "            e = (self.model_moment(results.x) - self.data_moment)/self.data_moment\n",
    "            vcv = e @ e.T / self.N\n",
    "            W = np.linalg.inv(vcv)\n",
    "            W = W/np.sum(W) # rescale the W in case of overflow\n",
    "            results = minimize(self.error_func, results.x, args = W, method='L-BFGS-B',  bounds = bounds)\n",
    "            return results\n",
    "        if method == \"iterate\":\n",
    "            W = np.eye(len(init))\n",
    "            while True:\n",
    "                e = (self.model_moment(results.x) - self.data_moment)/self.data_moment\n",
    "                vcv = e @ e.T / self.N\n",
    "                new_W = np.linalg.inv(vcv)\n",
    "#                 new_W = new_W/np.sum(new_W) # rescale the W in case of overflow    \n",
    "                if np.sum(np.abs(new_W - W))>1e-7:\n",
    "                    W = new_W\n",
    "                    results = minimize(self.error_func, results.x, args = (W), method='L-BFGS-B',  bounds = bounds)\n",
    "                else:\n",
    "                    return results    \n",
    "                \n",
    "class Log_Normal(GMM):\n",
    "    def __init__(self, data):\n",
    "        self.N = len(data)\n",
    "        self.data = data\n",
    "        self.data_moment = np.array((np.mean(self.data), np.std(self.data))).reshape((2,1))\n",
    "        \n",
    "    def model_moment(self, param):\n",
    "#       Given the formula of model moment is easily calculated analytically,\n",
    "#       I use the expression directly here instead of numerical integral to avoid inaccuracy and addtional offhead.\n",
    "        param = np.array(param).reshape(2, 1)\n",
    "        mean = np.exp(np.array((1, 0.5)).reshape((1,2)) @ param)\n",
    "        std = np.sqrt(np.exp(np.array((2, 1)).reshape((1,2)) @ param) * (np.exp(param[1,:]) - 1))\n",
    "        return np.concatenate((mean, std), axis = 0)\n",
    "    \n",
    "    def pdf(self, x, param):\n",
    "        mu, sigma2 = param\n",
    "        sigma = np.sqrt(sigma2)\n",
    "        return 1/x/sigma/np.sqrt(2*np.pi) * np.exp(-(np.log(x)-mu)**2/2/sigma/sigma)\n",
    "    \n",
    "ln = Log_Normal(ld.medtotinc2010)\n",
    "results = ln.estimate((11, 0.2), bounds = ((None, None), (1e-10, None)))"
   ]
  },
  {
   "cell_type": "code",
   "execution_count": 50,
   "metadata": {},
   "outputs": [
    {
     "name": "stdout",
     "output_type": "stream",
     "text": [
      "      fun: array([[  6.31815004e-11]])\n",
      " hess_inv: <2x2 LbfgsInvHessProduct with dtype=float64>\n",
      "      jac: array([ -1.66692994e-05,  -2.09222842e-04])\n",
      "  message: b'CONVERGENCE: REL_REDUCTION_OF_F_<=_FACTR*EPSMCH'\n",
      "     nfev: 42\n",
      "      nit: 11\n",
      "   status: 0\n",
      "  success: True\n",
      "        x: array([ 10.37735251,   0.03996197])\n"
     ]
    },
    {
     "data": {
      "text/plain": [
       "0.19990488993389433"
      ]
     },
     "execution_count": 50,
     "metadata": {},
     "output_type": "execute_result"
    }
   ],
   "source": [
    "print(results)\n",
    "np.sqrt(results.x[1])"
   ]
  },
  {
   "cell_type": "code",
   "execution_count": 38,
   "metadata": {
    "scrolled": true
   },
   "outputs": [
    {
     "name": "stdout",
     "output_type": "stream",
     "text": [
      "mu_MLE = 10.377380213059086, sigma_MLE = 0.19949931021798967, Log Likelihood = -1497.1030088862096\n"
     ]
    },
    {
     "ename": "AttributeError",
     "evalue": "'numpy.ndarray' object has no attribute 'to_dense'",
     "output_type": "error",
     "traceback": [
      "\u001b[0;31m---------------------------------------------------------------------------\u001b[0m",
      "\u001b[0;31mAttributeError\u001b[0m                            Traceback (most recent call last)",
      "\u001b[0;32m<ipython-input-38-f02e8697d96f>\u001b[0m in \u001b[0;36m<module>\u001b[0;34m()\u001b[0m\n\u001b[1;32m      1\u001b[0m \u001b[0mprint\u001b[0m\u001b[0;34m(\u001b[0m\u001b[0;34m\"mu_MLE = {}, sigma_MLE = {}, Log Likelihood = {}\"\u001b[0m\u001b[0;34m.\u001b[0m\u001b[0mformat\u001b[0m\u001b[0;34m(\u001b[0m\u001b[0mmle_res\u001b[0m\u001b[0;34m.\u001b[0m\u001b[0mx\u001b[0m\u001b[0;34m[\u001b[0m\u001b[0;36m0\u001b[0m\u001b[0;34m]\u001b[0m\u001b[0;34m,\u001b[0m \u001b[0mmle_res\u001b[0m\u001b[0;34m.\u001b[0m\u001b[0mx\u001b[0m\u001b[0;34m[\u001b[0m\u001b[0;36m1\u001b[0m\u001b[0;34m]\u001b[0m\u001b[0;34m,\u001b[0m \u001b[0;34m-\u001b[0m\u001b[0mmle_res\u001b[0m\u001b[0;34m.\u001b[0m\u001b[0mfun\u001b[0m\u001b[0;34m)\u001b[0m\u001b[0;34m)\u001b[0m\u001b[0;34m\u001b[0m\u001b[0m\n\u001b[1;32m      2\u001b[0m \u001b[0mOffDiagNeg\u001b[0m \u001b[0;34m=\u001b[0m \u001b[0mnp\u001b[0m\u001b[0;34m.\u001b[0m\u001b[0marray\u001b[0m\u001b[0;34m(\u001b[0m\u001b[0;34m[\u001b[0m\u001b[0;34m[\u001b[0m\u001b[0;36m1\u001b[0m\u001b[0;34m,\u001b[0m \u001b[0;34m-\u001b[0m\u001b[0;36m1\u001b[0m\u001b[0;34m]\u001b[0m\u001b[0;34m,\u001b[0m \u001b[0;34m[\u001b[0m\u001b[0;34m-\u001b[0m\u001b[0;36m1\u001b[0m\u001b[0;34m,\u001b[0m \u001b[0;36m1\u001b[0m\u001b[0;34m]\u001b[0m\u001b[0;34m]\u001b[0m\u001b[0;34m)\u001b[0m\u001b[0;34m\u001b[0m\u001b[0m\n\u001b[0;32m----> 3\u001b[0;31m \u001b[0mVCV\u001b[0m \u001b[0;34m=\u001b[0m \u001b[0mmle_res\u001b[0m\u001b[0;34m.\u001b[0m\u001b[0mhess_inv\u001b[0m\u001b[0;34m.\u001b[0m\u001b[0mto_dense\u001b[0m\u001b[0;34m(\u001b[0m\u001b[0;34m)\u001b[0m \u001b[0;34m*\u001b[0m \u001b[0mOffDiagNeg\u001b[0m\u001b[0;34m\u001b[0m\u001b[0m\n\u001b[0m\u001b[1;32m      4\u001b[0m \u001b[0mprint\u001b[0m\u001b[0;34m(\u001b[0m\u001b[0;34m\"VCV is:\"\u001b[0m\u001b[0;34m)\u001b[0m\u001b[0;34m\u001b[0m\u001b[0m\n\u001b[1;32m      5\u001b[0m \u001b[0mprint\u001b[0m\u001b[0;34m(\u001b[0m\u001b[0mVCV\u001b[0m\u001b[0;34m)\u001b[0m\u001b[0;34m\u001b[0m\u001b[0m\n",
      "\u001b[0;31mAttributeError\u001b[0m: 'numpy.ndarray' object has no attribute 'to_dense'"
     ]
    }
   ],
   "source": [
    "print(\"mu_MLE = {}, sigma_MLE = {}, Log Likelihood = {}\".format(mle_res.x[0], mle_res.x[1], -mle_res.fun))\n",
    "OffDiagNeg = np.array([[1, -1], [-1, 1]])\n",
    "VCV = mle_res.hess_inv.to_dense() * OffDiagNeg\n",
    "print(\"VCV is:\")\n",
    "print(VCV)\n",
    "print(\"Standard Error for mu is: {}\".format(np.sqrt(VCV[0][0])))"
   ]
  },
  {
   "cell_type": "markdown",
   "metadata": {},
   "source": [
    "1D) [2 points] Plot the predicted distribution from your maximum likelihood estimates $\\hat{\\mu}_{mle}$ and $\\hat{\\sigma}_{mle}$ against the histogram of the data."
   ]
  },
  {
   "cell_type": "code",
   "execution_count": 9,
   "metadata": {},
   "outputs": [
    {
     "data": {
      "image/png": "[encoded data removed]",
      "text/plain": [
       "<matplotlib.figure.Figure at 0x1c215ff4e0>"
      ]
     },
     "execution_count": 9,
     "metadata": {},
     "output_type": "execute_result"
    }
   ],
   "source": [
    "lognormal.mu, lognormal.sigma = mle_res.x\n",
    "fig, ax = plt.subplots()\n",
    "ax.hist(ld.medtotinc2010, bins = 30, normed = True, edgecolor = \"Black\")\n",
    "ax.set(xlabel = \"Median Total Household Income\", \n",
    "       ylabel = \"Density\", \n",
    "       title = \"Distribution of Median Total Household Income\")\n",
    "xval = np.linspace(10000, 60000, num = 1000)\n",
    "yval = lognormal.pdf(xval)\n",
    "ax.plot(xval, yval, label = \"(MLE) $\\mu = {}, \\sigma = {}$\".format(mle_res.x[0].round(2), mle_res.x[1].round(4)))\n",
    "ax.legend(loc = \"best\")\n",
    "fig"
   ]
  },
  {
   "cell_type": "markdown",
   "metadata": {},
   "source": [
    "## 2. Determinants of lender interest rates (10 points)"
   ]
  },
  {
   "cell_type": "markdown",
   "metadata": {},
   "source": [
    "2A) [3 points] Assume a simple regression model of four factors that influence the interest rates that a lender charges, namely, number of stores, default rate in the area, unemployment rate in the area, and median household income in the area.\n",
    "\n",
    "$$ avgrate_i = \\beta_0 + \\beta_1 numstores_i + \\beta_2 defrate_i + \\beta_3 unrt_zip_i + \\beta_4 medtotinc2010_i + u_i $$\n",
    "\n",
    "Estimate this model by OLS using the `statsmodels.api` package. Don't forget to include a constant. Print your results summary. Which variables are significant at the 5-percent level? How would you interpret in words the estimated coefficient on `numstores`?"
   ]
  },
  {
   "cell_type": "code",
   "execution_count": 10,
   "metadata": {},
   "outputs": [
    {
     "data": {
      "text/html": [
       "<div>\n",
       "<style>\n",
       "    .dataframe thead tr:only-child th {\n",
       "        text-align: right;\n",
       "    }\n",
       "\n",
       "    .dataframe thead th {\n",
       "        text-align: left;\n",
       "    }\n",
       "\n",
       "    .dataframe tbody tr th {\n",
       "        vertical-align: top;\n",
       "    }\n",
       "</style>\n",
       "<table border=\"1\" class=\"dataframe\">\n",
       "  <thead>\n",
       "    <tr style=\"text-align: right;\">\n",
       "      <th></th>\n",
       "      <th>numstores</th>\n",
       "      <th>defrate</th>\n",
       "      <th>unrt_zip</th>\n",
       "      <th>medtotinc2010</th>\n",
       "      <th>const</th>\n",
       "    </tr>\n",
       "  </thead>\n",
       "  <tbody>\n",
       "    <tr>\n",
       "      <th>count</th>\n",
       "      <td>147.000000</td>\n",
       "      <td>147.000000</td>\n",
       "      <td>147.000000</td>\n",
       "      <td>147.000000</td>\n",
       "      <td>147.0</td>\n",
       "    </tr>\n",
       "    <tr>\n",
       "      <th>mean</th>\n",
       "      <td>16.768707</td>\n",
       "      <td>14.160487</td>\n",
       "      <td>7.143537</td>\n",
       "      <td>32772.135390</td>\n",
       "      <td>1.0</td>\n",
       "    </tr>\n",
       "    <tr>\n",
       "      <th>std</th>\n",
       "      <td>7.760162</td>\n",
       "      <td>9.233870</td>\n",
       "      <td>1.984048</td>\n",
       "      <td>6639.982466</td>\n",
       "      <td>0.0</td>\n",
       "    </tr>\n",
       "    <tr>\n",
       "      <th>min</th>\n",
       "      <td>1.000000</td>\n",
       "      <td>0.700000</td>\n",
       "      <td>3.900000</td>\n",
       "      <td>17068.277340</td>\n",
       "      <td>1.0</td>\n",
       "    </tr>\n",
       "    <tr>\n",
       "      <th>25%</th>\n",
       "      <td>10.000000</td>\n",
       "      <td>6.607314</td>\n",
       "      <td>5.700000</td>\n",
       "      <td>27502.000000</td>\n",
       "      <td>1.0</td>\n",
       "    </tr>\n",
       "    <tr>\n",
       "      <th>50%</th>\n",
       "      <td>16.000000</td>\n",
       "      <td>11.674499</td>\n",
       "      <td>6.800000</td>\n",
       "      <td>31611.000000</td>\n",
       "      <td>1.0</td>\n",
       "    </tr>\n",
       "    <tr>\n",
       "      <th>75%</th>\n",
       "      <td>23.000000</td>\n",
       "      <td>19.089744</td>\n",
       "      <td>8.200000</td>\n",
       "      <td>36955.138670</td>\n",
       "      <td>1.0</td>\n",
       "    </tr>\n",
       "    <tr>\n",
       "      <th>max</th>\n",
       "      <td>28.000000</td>\n",
       "      <td>38.954868</td>\n",
       "      <td>12.800000</td>\n",
       "      <td>52972.890630</td>\n",
       "      <td>1.0</td>\n",
       "    </tr>\n",
       "  </tbody>\n",
       "</table>\n",
       "</div>"
      ],
      "text/plain": [
       "        numstores     defrate    unrt_zip  medtotinc2010  const\n",
       "count  147.000000  147.000000  147.000000     147.000000  147.0\n",
       "mean    16.768707   14.160487    7.143537   32772.135390    1.0\n",
       "std      7.760162    9.233870    1.984048    6639.982466    0.0\n",
       "min      1.000000    0.700000    3.900000   17068.277340    1.0\n",
       "25%     10.000000    6.607314    5.700000   27502.000000    1.0\n",
       "50%     16.000000   11.674499    6.800000   31611.000000    1.0\n",
       "75%     23.000000   19.089744    8.200000   36955.138670    1.0\n",
       "max     28.000000   38.954868   12.800000   52972.890630    1.0"
      ]
     },
     "execution_count": 10,
     "metadata": {},
     "output_type": "execute_result"
    }
   ],
   "source": [
    "X = ld.loc[:,[\"numstores\", \"defrate\", \"unrt_zip\", \"medtotinc2010\"]]\n",
    "X.loc[:,\"const\"] = np.ones((X.shape[0]))\n",
    "X.describe()"
   ]
  },
  {
   "cell_type": "code",
   "execution_count": 11,
   "metadata": {},
   "outputs": [
    {
     "data": {
      "text/html": [
       "<table class=\"simpletable\">\n",
       "<caption>OLS Regression Results</caption>\n",
       "<tr>\n",
       "  <th>Dep. Variable:</th>         <td>avgrate</td>     <th>  R-squared:         </th> <td>   0.110</td>\n",
       "</tr>\n",
       "<tr>\n",
       "  <th>Model:</th>                   <td>OLS</td>       <th>  Adj. R-squared:    </th> <td>   0.085</td>\n",
       "</tr>\n",
       "<tr>\n",
       "  <th>Method:</th>             <td>Least Squares</td>  <th>  F-statistic:       </th> <td>   4.375</td>\n",
       "</tr>\n",
       "<tr>\n",
       "  <th>Date:</th>             <td>Mon, 05 Feb 2018</td> <th>  Prob (F-statistic):</th>  <td>0.00229</td>\n",
       "</tr>\n",
       "<tr>\n",
       "  <th>Time:</th>                 <td>12:30:02</td>     <th>  Log-Likelihood:    </th> <td> -812.28</td>\n",
       "</tr>\n",
       "<tr>\n",
       "  <th>No. Observations:</th>      <td>   147</td>      <th>  AIC:               </th> <td>   1635.</td>\n",
       "</tr>\n",
       "<tr>\n",
       "  <th>Df Residuals:</th>          <td>   142</td>      <th>  BIC:               </th> <td>   1650.</td>\n",
       "</tr>\n",
       "<tr>\n",
       "  <th>Df Model:</th>              <td>     4</td>      <th>                     </th>     <td> </td>   \n",
       "</tr>\n",
       "<tr>\n",
       "  <th>Covariance Type:</th>      <td>nonrobust</td>    <th>                     </th>     <td> </td>   \n",
       "</tr>\n",
       "</table>\n",
       "<table class=\"simpletable\">\n",
       "<tr>\n",
       "        <td></td>           <th>coef</th>     <th>std err</th>      <th>t</th>      <th>P>|t|</th>  <th>[0.025</th>    <th>0.975]</th>  \n",
       "</tr>\n",
       "<tr>\n",
       "  <th>numstores</th>     <td>   -2.6278</td> <td>    0.672</td> <td>   -3.911</td> <td> 0.000</td> <td>   -3.956</td> <td>   -1.300</td>\n",
       "</tr>\n",
       "<tr>\n",
       "  <th>defrate</th>       <td>    0.9717</td> <td>    0.574</td> <td>    1.694</td> <td> 0.093</td> <td>   -0.162</td> <td>    2.106</td>\n",
       "</tr>\n",
       "<tr>\n",
       "  <th>unrt_zip</th>      <td>    2.9650</td> <td>    3.187</td> <td>    0.930</td> <td> 0.354</td> <td>   -3.335</td> <td>    9.265</td>\n",
       "</tr>\n",
       "<tr>\n",
       "  <th>medtotinc2010</th> <td>    0.0015</td> <td>    0.001</td> <td>    1.526</td> <td> 0.129</td> <td>   -0.000</td> <td>    0.003</td>\n",
       "</tr>\n",
       "<tr>\n",
       "  <th>const</th>         <td>  453.4117</td> <td>   51.263</td> <td>    8.845</td> <td> 0.000</td> <td>  352.075</td> <td>  554.748</td>\n",
       "</tr>\n",
       "</table>\n",
       "<table class=\"simpletable\">\n",
       "<tr>\n",
       "  <th>Omnibus:</th>       <td> 5.028</td> <th>  Durbin-Watson:     </th> <td>   0.366</td>\n",
       "</tr>\n",
       "<tr>\n",
       "  <th>Prob(Omnibus):</th> <td> 0.081</td> <th>  Jarque-Bera (JB):  </th> <td>   3.262</td>\n",
       "</tr>\n",
       "<tr>\n",
       "  <th>Skew:</th>          <td>-0.189</td> <th>  Prob(JB):          </th> <td>   0.196</td>\n",
       "</tr>\n",
       "<tr>\n",
       "  <th>Kurtosis:</th>      <td> 2.375</td> <th>  Cond. No.          </th> <td>3.37e+05</td>\n",
       "</tr>\n",
       "</table>"
      ],
      "text/plain": [
       "<class 'statsmodels.iolib.summary.Summary'>\n",
       "\"\"\"\n",
       "                            OLS Regression Results                            \n",
       "==============================================================================\n",
       "Dep. Variable:                avgrate   R-squared:                       0.110\n",
       "Model:                            OLS   Adj. R-squared:                  0.085\n",
       "Method:                 Least Squares   F-statistic:                     4.375\n",
       "Date:                Mon, 05 Feb 2018   Prob (F-statistic):            0.00229\n",
       "Time:                        12:30:02   Log-Likelihood:                -812.28\n",
       "No. Observations:                 147   AIC:                             1635.\n",
       "Df Residuals:                     142   BIC:                             1650.\n",
       "Df Model:                           4                                         \n",
       "Covariance Type:            nonrobust                                         \n",
       "=================================================================================\n",
       "                    coef    std err          t      P>|t|      [0.025      0.975]\n",
       "---------------------------------------------------------------------------------\n",
       "numstores        -2.6278      0.672     -3.911      0.000      -3.956      -1.300\n",
       "defrate           0.9717      0.574      1.694      0.093      -0.162       2.106\n",
       "unrt_zip          2.9650      3.187      0.930      0.354      -3.335       9.265\n",
       "medtotinc2010     0.0015      0.001      1.526      0.129      -0.000       0.003\n",
       "const           453.4117     51.263      8.845      0.000     352.075     554.748\n",
       "==============================================================================\n",
       "Omnibus:                        5.028   Durbin-Watson:                   0.366\n",
       "Prob(Omnibus):                  0.081   Jarque-Bera (JB):                3.262\n",
       "Skew:                          -0.189   Prob(JB):                        0.196\n",
       "Kurtosis:                       2.375   Cond. No.                     3.37e+05\n",
       "==============================================================================\n",
       "\n",
       "Warnings:\n",
       "[1] Standard Errors assume that the covariance matrix of the errors is correctly specified.\n",
       "[2] The condition number is large, 3.37e+05. This might indicate that there are\n",
       "strong multicollinearity or other numerical problems.\n",
       "\"\"\""
      ]
     },
     "execution_count": 11,
     "metadata": {},
     "output_type": "execute_result"
    }
   ],
   "source": [
    "ols_res = sm.OLS(ld.avgrate, X, missing = \"drop\").fit()\n",
    "ols_res.summary()"
   ]
  },
  {
   "cell_type": "markdown",
   "metadata": {},
   "source": [
    "**Answer**\n",
    "\n",
    "Numstores is the only variable that is significant at 5% level.\n",
    "\n",
    "The annualized interest rate significantly ($p<0.001$) decreases in 2.6278 for every more stores the owner owns."
   ]
  },
  {
   "cell_type": "markdown",
   "metadata": {},
   "source": [
    "2B) [4 points] Now assume a richer model for the determinants of lender interest rates, which includes the following measures of competition and other demographic variables.\n",
    "\n",
    "$$ avgrate_i = \\beta_0 + \\beta_1 numstores_i + \\beta_2 defrate_i + \\beta_3 unrt_zip_i + \\beta_4 medtotinc2010_i + ... $$\n",
    "$$ \\qquad\\qquad\\qquad\\qquad \\beta_5 totrad3_i + \\beta_6 edbachplus\\_zip_i + \\beta_7 pop\\_zip_i + \\beta_8 mdage\\_zip_i + \\beta_9 pctblk2\\_zip_i + u_i $$\n",
    "\n",
    "Estimate this regression by OLS using the `statsmodels.api` package. In controlling for these new varaibles, do any of the originally estimated coefficients from the model in part (2A) become statistically not significant (at the 5 percent level)? Of these new coefficients ($\\beta_5$ through $\\beta_9$), which one(s) are the most statistically significant?"
   ]
  },
  {
   "cell_type": "code",
   "execution_count": 12,
   "metadata": {},
   "outputs": [
    {
     "data": {
      "text/html": [
       "<table class=\"simpletable\">\n",
       "<caption>OLS Regression Results</caption>\n",
       "<tr>\n",
       "  <th>Dep. Variable:</th>         <td>avgrate</td>     <th>  R-squared:         </th> <td>   0.158</td>\n",
       "</tr>\n",
       "<tr>\n",
       "  <th>Model:</th>                   <td>OLS</td>       <th>  Adj. R-squared:    </th> <td>   0.102</td>\n",
       "</tr>\n",
       "<tr>\n",
       "  <th>Method:</th>             <td>Least Squares</td>  <th>  F-statistic:       </th> <td>   2.846</td>\n",
       "</tr>\n",
       "<tr>\n",
       "  <th>Date:</th>             <td>Mon, 05 Feb 2018</td> <th>  Prob (F-statistic):</th>  <td>0.00419</td>\n",
       "</tr>\n",
       "<tr>\n",
       "  <th>Time:</th>                 <td>12:30:02</td>     <th>  Log-Likelihood:    </th> <td> -808.23</td>\n",
       "</tr>\n",
       "<tr>\n",
       "  <th>No. Observations:</th>      <td>   147</td>      <th>  AIC:               </th> <td>   1636.</td>\n",
       "</tr>\n",
       "<tr>\n",
       "  <th>Df Residuals:</th>          <td>   137</td>      <th>  BIC:               </th> <td>   1666.</td>\n",
       "</tr>\n",
       "<tr>\n",
       "  <th>Df Model:</th>              <td>     9</td>      <th>                     </th>     <td> </td>   \n",
       "</tr>\n",
       "<tr>\n",
       "  <th>Covariance Type:</th>      <td>nonrobust</td>    <th>                     </th>     <td> </td>   \n",
       "</tr>\n",
       "</table>\n",
       "<table class=\"simpletable\">\n",
       "<tr>\n",
       "         <td></td>           <th>coef</th>     <th>std err</th>      <th>t</th>      <th>P>|t|</th>  <th>[0.025</th>    <th>0.975]</th>  \n",
       "</tr>\n",
       "<tr>\n",
       "  <th>numstores</th>      <td>   -2.4303</td> <td>    0.680</td> <td>   -3.574</td> <td> 0.000</td> <td>   -3.775</td> <td>   -1.086</td>\n",
       "</tr>\n",
       "<tr>\n",
       "  <th>defrate</th>        <td>    0.8094</td> <td>    0.585</td> <td>    1.384</td> <td> 0.168</td> <td>   -0.347</td> <td>    1.966</td>\n",
       "</tr>\n",
       "<tr>\n",
       "  <th>unrt_zip</th>       <td>   -0.3055</td> <td>    3.521</td> <td>   -0.087</td> <td> 0.931</td> <td>   -7.268</td> <td>    6.657</td>\n",
       "</tr>\n",
       "<tr>\n",
       "  <th>medtotinc2010</th>  <td>    0.0010</td> <td>    0.001</td> <td>    0.843</td> <td> 0.401</td> <td>   -0.001</td> <td>    0.003</td>\n",
       "</tr>\n",
       "<tr>\n",
       "  <th>const</th>          <td>  613.9741</td> <td>   85.491</td> <td>    7.182</td> <td> 0.000</td> <td>  444.921</td> <td>  783.027</td>\n",
       "</tr>\n",
       "<tr>\n",
       "  <th>totrad3</th>        <td>   -0.6991</td> <td>    0.527</td> <td>   -1.326</td> <td> 0.187</td> <td>   -1.741</td> <td>    0.343</td>\n",
       "</tr>\n",
       "<tr>\n",
       "  <th>edbachplus_zip</th> <td>   -1.3219</td> <td>    0.660</td> <td>   -2.004</td> <td> 0.047</td> <td>   -2.626</td> <td>   -0.018</td>\n",
       "</tr>\n",
       "<tr>\n",
       "  <th>pop_zip</th>        <td>   -0.0006</td> <td>    0.000</td> <td>   -1.539</td> <td> 0.126</td> <td>   -0.001</td> <td>    0.000</td>\n",
       "</tr>\n",
       "<tr>\n",
       "  <th>mdage_zip</th>      <td>   -1.8352</td> <td>    2.234</td> <td>   -0.821</td> <td> 0.413</td> <td>   -6.253</td> <td>    2.583</td>\n",
       "</tr>\n",
       "<tr>\n",
       "  <th>pctblk2_zip</th>    <td>    2.3541</td> <td>    5.981</td> <td>    0.394</td> <td> 0.694</td> <td>   -9.473</td> <td>   14.181</td>\n",
       "</tr>\n",
       "</table>\n",
       "<table class=\"simpletable\">\n",
       "<tr>\n",
       "  <th>Omnibus:</th>       <td> 2.316</td> <th>  Durbin-Watson:     </th> <td>   0.443</td>\n",
       "</tr>\n",
       "<tr>\n",
       "  <th>Prob(Omnibus):</th> <td> 0.314</td> <th>  Jarque-Bera (JB):  </th> <td>   2.014</td>\n",
       "</tr>\n",
       "<tr>\n",
       "  <th>Skew:</th>          <td>-0.174</td> <th>  Prob(JB):          </th> <td>   0.365</td>\n",
       "</tr>\n",
       "<tr>\n",
       "  <th>Kurtosis:</th>      <td> 2.543</td> <th>  Cond. No.          </th> <td>8.56e+05</td>\n",
       "</tr>\n",
       "</table>"
      ],
      "text/plain": [
       "<class 'statsmodels.iolib.summary.Summary'>\n",
       "\"\"\"\n",
       "                            OLS Regression Results                            \n",
       "==============================================================================\n",
       "Dep. Variable:                avgrate   R-squared:                       0.158\n",
       "Model:                            OLS   Adj. R-squared:                  0.102\n",
       "Method:                 Least Squares   F-statistic:                     2.846\n",
       "Date:                Mon, 05 Feb 2018   Prob (F-statistic):            0.00419\n",
       "Time:                        12:30:02   Log-Likelihood:                -808.23\n",
       "No. Observations:                 147   AIC:                             1636.\n",
       "Df Residuals:                     137   BIC:                             1666.\n",
       "Df Model:                           9                                         \n",
       "Covariance Type:            nonrobust                                         \n",
       "==================================================================================\n",
       "                     coef    std err          t      P>|t|      [0.025      0.975]\n",
       "----------------------------------------------------------------------------------\n",
       "numstores         -2.4303      0.680     -3.574      0.000      -3.775      -1.086\n",
       "defrate            0.8094      0.585      1.384      0.168      -0.347       1.966\n",
       "unrt_zip          -0.3055      3.521     -0.087      0.931      -7.268       6.657\n",
       "medtotinc2010      0.0010      0.001      0.843      0.401      -0.001       0.003\n",
       "const            613.9741     85.491      7.182      0.000     444.921     783.027\n",
       "totrad3           -0.6991      0.527     -1.326      0.187      -1.741       0.343\n",
       "edbachplus_zip    -1.3219      0.660     -2.004      0.047      -2.626      -0.018\n",
       "pop_zip           -0.0006      0.000     -1.539      0.126      -0.001       0.000\n",
       "mdage_zip         -1.8352      2.234     -0.821      0.413      -6.253       2.583\n",
       "pctblk2_zip        2.3541      5.981      0.394      0.694      -9.473      14.181\n",
       "==============================================================================\n",
       "Omnibus:                        2.316   Durbin-Watson:                   0.443\n",
       "Prob(Omnibus):                  0.314   Jarque-Bera (JB):                2.014\n",
       "Skew:                          -0.174   Prob(JB):                        0.365\n",
       "Kurtosis:                       2.543   Cond. No.                     8.56e+05\n",
       "==============================================================================\n",
       "\n",
       "Warnings:\n",
       "[1] Standard Errors assume that the covariance matrix of the errors is correctly specified.\n",
       "[2] The condition number is large, 8.56e+05. This might indicate that there are\n",
       "strong multicollinearity or other numerical problems.\n",
       "\"\"\""
      ]
     },
     "execution_count": 12,
     "metadata": {},
     "output_type": "execute_result"
    }
   ],
   "source": [
    "X2 = pd.concat((X, ld.loc[:, [\"totrad3\", \"edbachplus_zip\", \"pop_zip\", \"mdage_zip\", \"pctblk2_zip\"]]), axis = 1)\n",
    "ols_res2 = sm.OLS(ld.avgrate, X2, missing = \"drop\").fit()\n",
    "ols_res2.summary()"
   ]
  },
  {
   "cell_type": "markdown",
   "metadata": {},
   "source": [
    "**Answer**\n",
    "1. No. Numstores is still significant.\n",
    "2. Of those new variables, edbachplus_zip (average education level in years of schooling of heads of household) is the only one that is statistically significant at 5% level."
   ]
  },
  {
   "cell_type": "markdown",
   "metadata": {},
   "source": [
    "2C) [3 points] Create a new binary variable called `avgrate_high` that equals 1 if `avgrate` > 490, and equals 0 otherwise. Estimate a logistic regression using the `statsmodels.api` package. Let $X\\beta$ be the linear coefficients and variables from the model from part (2B).\n",
    "\n",
    "$$ Pr(avgrate\\_high=1|X\\beta) = \\frac{X\\beta}{1 + X\\beta} $$\n",
    "\n",
    "Report the variables whose coefficients are estimated to be significant at the 5-percent level."
   ]
  },
  {
   "cell_type": "code",
   "execution_count": 13,
   "metadata": {},
   "outputs": [
    {
     "name": "stdout",
     "output_type": "stream",
     "text": [
      "Optimization terminated successfully.\n",
      "         Current function value: 0.559372\n",
      "         Iterations 6\n"
     ]
    },
    {
     "data": {
      "text/html": [
       "<table class=\"simpletable\">\n",
       "<caption>Logit Regression Results</caption>\n",
       "<tr>\n",
       "  <th>Dep. Variable:</th>   <td>avgrate_high</td>   <th>  No. Observations:  </th>  <td>   147</td>  \n",
       "</tr>\n",
       "<tr>\n",
       "  <th>Model:</th>               <td>Logit</td>      <th>  Df Residuals:      </th>  <td>   137</td>  \n",
       "</tr>\n",
       "<tr>\n",
       "  <th>Method:</th>               <td>MLE</td>       <th>  Df Model:          </th>  <td>     9</td>  \n",
       "</tr>\n",
       "<tr>\n",
       "  <th>Date:</th>          <td>Mon, 05 Feb 2018</td> <th>  Pseudo R-squ.:     </th>  <td>0.1493</td>  \n",
       "</tr>\n",
       "<tr>\n",
       "  <th>Time:</th>              <td>12:30:02</td>     <th>  Log-Likelihood:    </th> <td> -82.228</td> \n",
       "</tr>\n",
       "<tr>\n",
       "  <th>converged:</th>           <td>True</td>       <th>  LL-Null:           </th> <td> -96.657</td> \n",
       "</tr>\n",
       "<tr>\n",
       "  <th> </th>                      <td> </td>        <th>  LLR p-value:       </th> <td>0.0006848</td>\n",
       "</tr>\n",
       "</table>\n",
       "<table class=\"simpletable\">\n",
       "<tr>\n",
       "         <td></td>           <th>coef</th>     <th>std err</th>      <th>z</th>      <th>P>|z|</th>  <th>[0.025</th>    <th>0.975]</th>  \n",
       "</tr>\n",
       "<tr>\n",
       "  <th>numstores</th>      <td>   -0.0461</td> <td>    0.025</td> <td>   -1.847</td> <td> 0.065</td> <td>   -0.095</td> <td>    0.003</td>\n",
       "</tr>\n",
       "<tr>\n",
       "  <th>defrate</th>        <td>    0.0931</td> <td>    0.026</td> <td>    3.598</td> <td> 0.000</td> <td>    0.042</td> <td>    0.144</td>\n",
       "</tr>\n",
       "<tr>\n",
       "  <th>unrt_zip</th>       <td>    0.0271</td> <td>    0.131</td> <td>    0.207</td> <td> 0.836</td> <td>   -0.230</td> <td>    0.284</td>\n",
       "</tr>\n",
       "<tr>\n",
       "  <th>medtotinc2010</th>  <td> 6.317e-05</td> <td> 4.95e-05</td> <td>    1.276</td> <td> 0.202</td> <td>-3.39e-05</td> <td>    0.000</td>\n",
       "</tr>\n",
       "<tr>\n",
       "  <th>const</th>          <td>    1.7313</td> <td>    3.261</td> <td>    0.531</td> <td> 0.595</td> <td>   -4.659</td> <td>    8.122</td>\n",
       "</tr>\n",
       "<tr>\n",
       "  <th>totrad3</th>        <td>   -0.0290</td> <td>    0.021</td> <td>   -1.380</td> <td> 0.168</td> <td>   -0.070</td> <td>    0.012</td>\n",
       "</tr>\n",
       "<tr>\n",
       "  <th>edbachplus_zip</th> <td>   -0.0368</td> <td>    0.026</td> <td>   -1.415</td> <td> 0.157</td> <td>   -0.088</td> <td>    0.014</td>\n",
       "</tr>\n",
       "<tr>\n",
       "  <th>pop_zip</th>        <td>-3.021e-05</td> <td> 1.66e-05</td> <td>   -1.819</td> <td> 0.069</td> <td>-6.28e-05</td> <td> 2.34e-06</td>\n",
       "</tr>\n",
       "<tr>\n",
       "  <th>mdage_zip</th>      <td>   -0.0375</td> <td>    0.083</td> <td>   -0.451</td> <td> 0.652</td> <td>   -0.201</td> <td>    0.126</td>\n",
       "</tr>\n",
       "<tr>\n",
       "  <th>pctblk2_zip</th>    <td>   -0.0096</td> <td>    0.229</td> <td>   -0.042</td> <td> 0.967</td> <td>   -0.459</td> <td>    0.440</td>\n",
       "</tr>\n",
       "</table>"
      ],
      "text/plain": [
       "<class 'statsmodels.iolib.summary.Summary'>\n",
       "\"\"\"\n",
       "                           Logit Regression Results                           \n",
       "==============================================================================\n",
       "Dep. Variable:           avgrate_high   No. Observations:                  147\n",
       "Model:                          Logit   Df Residuals:                      137\n",
       "Method:                           MLE   Df Model:                            9\n",
       "Date:                Mon, 05 Feb 2018   Pseudo R-squ.:                  0.1493\n",
       "Time:                        12:30:02   Log-Likelihood:                -82.228\n",
       "converged:                       True   LL-Null:                       -96.657\n",
       "                                        LLR p-value:                 0.0006848\n",
       "==================================================================================\n",
       "                     coef    std err          z      P>|z|      [0.025      0.975]\n",
       "----------------------------------------------------------------------------------\n",
       "numstores         -0.0461      0.025     -1.847      0.065      -0.095       0.003\n",
       "defrate            0.0931      0.026      3.598      0.000       0.042       0.144\n",
       "unrt_zip           0.0271      0.131      0.207      0.836      -0.230       0.284\n",
       "medtotinc2010   6.317e-05   4.95e-05      1.276      0.202   -3.39e-05       0.000\n",
       "const              1.7313      3.261      0.531      0.595      -4.659       8.122\n",
       "totrad3           -0.0290      0.021     -1.380      0.168      -0.070       0.012\n",
       "edbachplus_zip    -0.0368      0.026     -1.415      0.157      -0.088       0.014\n",
       "pop_zip        -3.021e-05   1.66e-05     -1.819      0.069   -6.28e-05    2.34e-06\n",
       "mdage_zip         -0.0375      0.083     -0.451      0.652      -0.201       0.126\n",
       "pctblk2_zip       -0.0096      0.229     -0.042      0.967      -0.459       0.440\n",
       "==================================================================================\n",
       "\"\"\""
      ]
     },
     "execution_count": 13,
     "metadata": {},
     "output_type": "execute_result"
    }
   ],
   "source": [
    "ld.loc[:,\"avgrate_high\"] = (ld.avgrate>490).astype(\"int\")\n",
    "logit = sm.Logit(ld.avgrate_high, X2, missing = \"drop\").fit()\n",
    "logit.summary()"
   ]
  },
  {
   "cell_type": "markdown",
   "metadata": {},
   "source": [
    "**Answer**\n",
    "\n",
    "Defrate is the only one that is significant at 5-percent level."
   ]
  }
 ],
 "metadata": {
  "kernelspec": {
   "display_name": "Python 3",
   "language": "python",
   "name": "python3"
  },
  "language_info": {
   "codemirror_mode": {
    "name": "ipython",
    "version": 3
   },
   "file_extension": ".py",
   "mimetype": "text/x-python",
   "name": "python",
   "nbconvert_exporter": "python",
   "pygments_lexer": "ipython3",
   "version": "3.6.4"
  }
 },
 "nbformat": 4,
 "nbformat_minor": 2
}
