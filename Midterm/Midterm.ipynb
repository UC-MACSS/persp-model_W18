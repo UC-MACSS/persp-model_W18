{
 "cells": [
  {
   "cell_type": "markdown",
   "metadata": {},
   "source": [
    "# Midterm (MACS 30100), February 5, 2018\n",
    "### Laurence Warner\n",
    "You will have an hour and thirty minutes to take this exam.\n",
    "1. Put your name in the space provided above (without the brackets).\n",
    "2. Download this notebook and accompanying data `LenderDataLong.dta`.\n",
    "3. The class will disconnect their wi-fi and begin taking the exam.\n",
    "4. The exam is open computer, closed internet, open note.\n",
    "5. Once you are done, you will signal to a TA or instructor to come over and monitor while you reconnect to the internet and upload your edited notebook to Canvas.\n",
    "\n",
    "Remember that you must clearly indicate your answers to all questions below. We will give partial credit for partially correct answers. The midterm is worth 20 points (2 problem sets)."
   ]
  },
  {
   "cell_type": "markdown",
   "metadata": {},
   "source": [
    "## The data\n",
    "This two exercises of this midterm and all their respective subparts will use the `LenderData.csv` dataset, which contains observations of characteristics on short-term, high interest rate, lender information. You are not to use this data outside of this class. It is a jittered and randomized version of a dataset used in a published research paper.\n",
    "\n",
    "Each observation contains characteristics of a particular lender location Read it into Python using the `pandas.read_csv()` command. The variables are the following:\n",
    "\n",
    "* `avgrate`: average annualized interest rate of all loans in percentage points (235 = two hundred and thirty five percent)\n",
    "* `numstores`: number of other stores owned by the same owner (measure of size)\n",
    "* `defrate`: default rate on loans from that store during 2010\n",
    "* `pdrad3`: number of payday lenders within a three-mile radius of the store (measure of competition)\n",
    "* `pnrad3`: number of pawn lenders within a three-mile radius of the store (measure of competition)\n",
    "* `totrad3`: total number of other lenders within a three-mile radius of the store (measure of competition)\n",
    "* `unrt_zip`: unemployment rate in the zip code of the store\n",
    "* `medtotinc2010`: median total household income in the zip code of the store\n",
    "* `edbachplus_zip`: average education level in years of schooling of heads of household in the zip code of the store\n",
    "* `pop_zip`: population in zip code of the store\n",
    "* `mdage_zip`: median age (in years) in zip code of the store\n",
    "* `pctblk2_zip`: percent of the population that is black in the zip code of the store in percentage points (2.2=two point two percent)"
   ]
  },
  {
   "cell_type": "code",
<<<<<<< HEAD
   "execution_count": 1,
   "metadata": {
    "collapsed": true
   },
   "outputs": [],
   "source": [
    "import pandas as pd"
   ]
  },
  {
   "cell_type": "code",
   "execution_count": 2,
=======
   "execution_count": 75,
>>>>>>> 31e9dbd1517089b2fc5269e16fa82210f961a4a9
   "metadata": {
    "collapsed": true
   },
   "outputs": [],
   "source": [
    "lender_data = pd.read_csv('LenderData.csv')"
   ]
  },
  {
   "cell_type": "code",
   "execution_count": 3,
   "metadata": {},
   "outputs": [
    {
     "data": {
      "text/html": [
       "<div>\n",
       "<style>\n",
       "    .dataframe thead tr:only-child th {\n",
       "        text-align: right;\n",
       "    }\n",
       "\n",
       "    .dataframe thead th {\n",
       "        text-align: left;\n",
       "    }\n",
       "\n",
       "    .dataframe tbody tr th {\n",
       "        vertical-align: top;\n",
       "    }\n",
       "</style>\n",
       "<table border=\"1\" class=\"dataframe\">\n",
       "  <thead>\n",
       "    <tr style=\"text-align: right;\">\n",
       "      <th></th>\n",
       "      <th>avgrate</th>\n",
       "      <th>numstores</th>\n",
       "      <th>defrate</th>\n",
       "      <th>pdrad3</th>\n",
       "      <th>pnrad3</th>\n",
       "      <th>totrad3</th>\n",
       "      <th>unrt_zip</th>\n",
       "      <th>medtotinc2010</th>\n",
       "      <th>edbachplus_zip</th>\n",
       "      <th>pop_zip</th>\n",
       "      <th>mdage_zip</th>\n",
       "      <th>pctblk2_zip</th>\n",
       "    </tr>\n",
       "  </thead>\n",
       "  <tbody>\n",
       "    <tr>\n",
       "      <th>0</th>\n",
       "      <td>521.429993</td>\n",
       "      <td>23</td>\n",
       "      <td>24.390244</td>\n",
       "      <td>7</td>\n",
       "      <td>3</td>\n",
       "      <td>12</td>\n",
       "      <td>5.7</td>\n",
       "      <td>38485.44531</td>\n",
       "      <td>40.2</td>\n",
       "      <td>44821</td>\n",
       "      <td>33.6</td>\n",
       "      <td>1.0</td>\n",
       "    </tr>\n",
       "    <tr>\n",
       "      <th>1</th>\n",
       "      <td>521.429993</td>\n",
       "      <td>23</td>\n",
       "      <td>38.596489</td>\n",
       "      <td>15</td>\n",
       "      <td>2</td>\n",
       "      <td>18</td>\n",
       "      <td>7.1</td>\n",
       "      <td>31289.11133</td>\n",
       "      <td>14.1</td>\n",
       "      <td>68295</td>\n",
       "      <td>29.2</td>\n",
       "      <td>2.2</td>\n",
       "    </tr>\n",
       "    <tr>\n",
       "      <th>2</th>\n",
       "      <td>521.429993</td>\n",
       "      <td>23</td>\n",
       "      <td>38.954868</td>\n",
       "      <td>6</td>\n",
       "      <td>3</td>\n",
       "      <td>11</td>\n",
       "      <td>7.1</td>\n",
       "      <td>31289.11133</td>\n",
       "      <td>14.1</td>\n",
       "      <td>68295</td>\n",
       "      <td>29.2</td>\n",
       "      <td>2.2</td>\n",
       "    </tr>\n",
       "    <tr>\n",
       "      <th>3</th>\n",
       "      <td>521.429993</td>\n",
       "      <td>23</td>\n",
       "      <td>27.352297</td>\n",
       "      <td>28</td>\n",
       "      <td>29</td>\n",
       "      <td>58</td>\n",
       "      <td>9.2</td>\n",
       "      <td>31421.22266</td>\n",
       "      <td>11.3</td>\n",
       "      <td>26524</td>\n",
       "      <td>28.5</td>\n",
       "      <td>1.4</td>\n",
       "    </tr>\n",
       "    <tr>\n",
       "      <th>4</th>\n",
       "      <td>521.429993</td>\n",
       "      <td>23</td>\n",
       "      <td>30.055660</td>\n",
       "      <td>22</td>\n",
       "      <td>17</td>\n",
       "      <td>42</td>\n",
       "      <td>7.5</td>\n",
       "      <td>27502.00000</td>\n",
       "      <td>22.3</td>\n",
       "      <td>28936</td>\n",
       "      <td>30.8</td>\n",
       "      <td>2.7</td>\n",
       "    </tr>\n",
       "  </tbody>\n",
       "</table>\n",
       "</div>"
      ],
      "text/plain": [
       "      avgrate  numstores    defrate  pdrad3  pnrad3  totrad3  unrt_zip  \\\n",
       "0  521.429993         23  24.390244       7       3       12       5.7   \n",
       "1  521.429993         23  38.596489      15       2       18       7.1   \n",
       "2  521.429993         23  38.954868       6       3       11       7.1   \n",
       "3  521.429993         23  27.352297      28      29       58       9.2   \n",
       "4  521.429993         23  30.055660      22      17       42       7.5   \n",
       "\n",
       "   medtotinc2010  edbachplus_zip  pop_zip  mdage_zip  pctblk2_zip  \n",
       "0    38485.44531            40.2    44821       33.6          1.0  \n",
       "1    31289.11133            14.1    68295       29.2          2.2  \n",
       "2    31289.11133            14.1    68295       29.2          2.2  \n",
       "3    31421.22266            11.3    26524       28.5          1.4  \n",
       "4    27502.00000            22.3    28936       30.8          2.7  "
      ]
     },
     "execution_count": 3,
     "metadata": {},
     "output_type": "execute_result"
    }
   ],
   "source": [
    "lender_data.head()"
   ]
  },
  {
   "cell_type": "markdown",
   "metadata": {},
   "source": [
    "## 1. Using the distributions of interest rates and median income (10 points)"
   ]
  },
  {
   "cell_type": "markdown",
   "metadata": {},
   "source": [
    "1A) [2 points] Create a plot of the histogram of high interest rate lenders interest rates `avgrate`. Use 30 bins. Make sure to label your axes and give the figure a title. If you had to group lenders into $N$ categories, how many categories would you choose based on the interest rate data? That is, how many groupings to you see in these data?"
   ]
  },
  {
   "cell_type": "code",
<<<<<<< HEAD
   "execution_count": 4,
=======
   "execution_count": null,
>>>>>>> 31e9dbd1517089b2fc5269e16fa82210f961a4a9
   "metadata": {
    "collapsed": true
   },
   "outputs": [],
   "source": [
    "import matplotlib.pyplot as plt\n",
    "%matplotlib inline"
   ]
  },
  {
   "cell_type": "code",
   "execution_count": 5,
   "metadata": {},
   "outputs": [
    {
     "data": {
      "text/plain": [
       "0    521.429993\n",
       "1    521.429993\n",
       "2    521.429993\n",
       "3    521.429993\n",
       "4    521.429993\n",
       "Name: avgrate, dtype: float64"
      ]
     },
     "execution_count": 5,
     "metadata": {},
     "output_type": "execute_result"
    }
   ],
   "source": [
    "avgrate = lender_data['avgrate']\n",
    "avgrate.head()"
   ]
  },
  {
   "cell_type": "code",
   "execution_count": 6,
   "metadata": {},
   "outputs": [
    {
     "data": {
      "text/plain": [
       "Text(0.5,1,'Interest rate histogram')"
      ]
     },
     "execution_count": 6,
     "metadata": {},
     "output_type": "execute_result"
    },
    {
     "data": {
      "image/png": "iVBORw0KGgoAAAANSUhEUgAAAYIAAAEWCAYAAABrDZDcAAAABHNCSVQICAgIfAhkiAAAAAlwSFlz\nAAALEgAACxIB0t1+/AAAADl0RVh0U29mdHdhcmUAbWF0cGxvdGxpYiB2ZXJzaW9uIDIuMS4wLCBo\ndHRwOi8vbWF0cGxvdGxpYi5vcmcvpW3flQAAG6dJREFUeJzt3XuUHWWd7vHvA+EmIAHTYAyGAIII\nrmPEiChnOIDCIOiAo44w6IAHjTqi4jgKOh4vswaFJYg6zqBhBKLjDVAGBAbIAAFhAE0wQCIiCAEj\nMRchXJ1IwnP+qLdh23and3dSe/fuej5r1eq6vFX1e3f12r9db1W9JdtERERzbdTtACIioruSCCIi\nGi6JICKi4ZIIIiIaLokgIqLhkggiIhouiSCiAyTNlfSuIZZNlfS4pI07HVcEJBHECEhaLOl1bZYd\n8ouvbiOJcwTbrK0+th+wvZXttcPEcJykG+qIIZotiSDGpE7+OpY0oVP7GqtUyfdBQ+XAx6j0/zqV\ndLqkhyXdJ+n1ZdkpwJ8BXy1NHl8t8/eQNEfSQ5LukvRXLds7T9JZki6X9ARwoKTNyvYfkLRM0tck\nbVHKT5J0qaRVZXs/lrSRpG8BU4EflX1/bJDYD5C0RNJJkn4LnCtp27K9FaU+l0racbT1GcJOkm6U\n9JikqyRNKtuZJsn9Cal8tveWcvdJOkbSS4CvAa8uMawqZbeR9M0S9/2SPtn/hS5pY0lnSFpZtnPC\ngP3MlXSKpBuBJ4FdJL1T0p1l3/dKes8gn9vHJC2XtFTSkZIOk/TL8jl8YgT/RjFW2M6Qoa0BWAy8\nrowfBzwFvBvYGHgf8CCgsnwu8K6WdbcEfg28E5gA7A2sBPYqy88DHgH2o/qBsjnwJeASYDtga+BH\nwOdL+c9TfTFuUoY/a9n3M3EOUY8DgDXAacBmwBbA84A3A88p+7oA+I+WdUZUn0H2ORf4FbB72d9c\n4NSybBrgsp0tgUeBF5dlk1s+o+OAGwZs95vAxSXmacAvgePLsvcCPwd2BLYF/qt/Py0xPQDsVfa9\nCXA4sCsg4P9QJYi9B3xunypl3w2sAL5T9r8X8D/ALt3+X80wsiFnBLE+7rd9tqu27dlUX1o7DFH2\nDcBi2+faXmP7VuAHwFtaylxs+0bbTwOrqb5oPmz7IduPAZ8Djiplnyr728n2U7Z/7PJt1aangU/b\nXm3797Z/Z/sHtp8s+zqF6otwKO3UZ6Bzbf/S9u+B84Hp64jtpZK2sL3U9qLBCpXms7cBH7f9mO3F\nwBnAO0qRvwK+bHuJ7YeBUwfZzHm2F5U6PGX7Mtu/cuU64CqqJNvvKeAU208B3wMmlX08VuJcBPyv\ndXwGMQYlEcT6+G3/iO0ny+hWQ5TdCXhVacpZVZo2jgGe31Lm1y3jfVS/zue3lL+izAf4AnAPcFVp\nwjh5hLGvsP0//ROSniPp66V55VHgemDiOq5VtFOfgX7bMv4kg3xWtp+g+nJ/L7BU0mWS9hhie5OA\nTYH7W+bdD0wp4y/gjz/T1vFB50l6vaSbSzPPKuCwsp9+v/OzF7V/X/4ua1n++8HqFWNbEkHUZeCv\n818D19me2DJsZft9Q6yzkupLZa+W8tvY3gqg/AL9iO1dgDcCfyfptUPsu534PgK8GHiV7ecC+5f5\nWo/6jIrtK20fTHXG8wvg7CFiWEn1C32nlnlTgd+U8aVUzUL9XjjY7vpHJG1GdVZzOrCD7YnA5Tz7\nGcQ4lUQQdVkG7NIyfSmwu6R3SNqkDK8sF0H/RGkeOhs4U9L2AJKmSPrzMv4GSS+SJKo29bVlGGzf\n7diaKvGskrQd8OkNWZ92SdpB0l9I2pKqeexx/rheO0raFKD8Mj8fOEXS1pJ2Av4O+PdS/nzgQ+Vz\nmwicNMzuN6W6ZrICWKPq4v8h61Of6A1JBFGXLwNvKXfgfKW0ux9C1cb/IFUzSf/F2qGcRNX8c3Np\nrvkvql/tALuV6ceBm4B/tT23LPs88MnSZPP3bcb7JaqLuCuBm6maoTZ0fdqxEdXZyYPAQ1TXKf62\nLLuGqg3+t5JWlnkfAJ4A7gVuoLpwe05ZdjZVG//twM+oft2v4dnE8kdKnT5IlUAeBv6a6mJ9jHP9\nd1lExDhXfuF/zfZOwxaORskZQcQ4JWmLco//BElTqJq7Lup2XDH25IwgYpyS9BzgOmAPqusflwEf\nsv1oVwOLMSeJICKi4dI0FBHRcD3R2dakSZM8bdq0bocREdFT5s+fv9J233DlaksEkjanejpzs7Kf\nC21/WtJ5VLfEPVKKHmd7wbq2NW3aNObNm1dXqBER45Kk+4cvVe8ZwWrgINuPS9oEuEHSf5ZlH7V9\nYY37joiINtWWCEoHYI+Xyf4eInNlOiJijKn1YnHpD30BsByYY/uWsugUSbdLOrP0bxIREV1SayKw\nvdb2dKqOr/aR9FLg41T3Nb+Sqp/5Qfs/kTRT0jxJ81asWFFnmBERjdaR20dtr6J6CcahpX91214N\nnAvsM8Q6s2zPsD2jr2/Yi94RETFKtSUCSX2lx0NUvV7wdcAvJE0u8wQcCSysK4aIiBhenXcNTQZm\nlxd7bAScb/tSSddI6qPq43wB1Qs4IiKiS+q8a+h24OWDzD+orn1GRMTIpYuJiIiG64kuJiJi9Kad\nfFlb5RafenjNkcRYlTOCiIiGSyKIiGi4JIKIiIZLIoiIaLgkgoiIhksiiIhouCSCiIiGSyKIiGi4\nJIKIiIZLIoiIaLgkgoiIhksiiIhouCSCiIiGSyKIiGi4JIKIiIZLIoiIaLgkgoiIhksiiIhouCSC\niIiGSyKIiGi42hKBpM0l/UTSbZIWSfpsmb+zpFsk3S3p+5I2rSuGiIgYXp1nBKuBg2y/DJgOHCpp\nX+A04EzbuwEPA8fXGENERAyjtkTgyuNlcpMyGDgIuLDMnw0cWVcMERExvFqvEUjaWNICYDkwB/gV\nsMr2mlJkCTBliHVnSponad6KFSvqDDMiotFqTQS219qeDuwI7AO8ZLBiQ6w7y/YM2zP6+vrqDDMi\notE6cteQ7VXAXGBfYKKkCWXRjsCDnYghIiIGV+ddQ32SJpbxLYDXAXcC1wJvKcWOBS6uK4aIiBje\nhOGLjNpkYLakjakSzvm2L5X0c+B7kv4J+BnwjRpjiIiIYdSWCGzfDrx8kPn3Ul0viIiIMSBPFkdE\nNFwSQUREwyURREQ0XBJBRETDJRFERDRcEkFERMMlEURENFwSQUREwyURREQ0XBJBRETDJRFERDRc\nEkFERMMlEURENFwSQUREwyURREQ0XBJBRETDJRFERDRcEkFERMMlEURENFwSQUREwyURREQ0XG2J\nQNILJV0r6U5JiyR9qMz/jKTfSFpQhsPqiiEiIoY3ocZtrwE+YvtWSVsD8yXNKcvOtH16jfuOiIg2\n1ZYIbC8FlpbxxyTdCUypa38RETE6HblGIGka8HLgljLrBEm3SzpH0radiCEiIgZXeyKQtBXwA+BE\n248CZwG7AtOpzhjOGGK9mZLmSZq3YsWKusOMiGisWhOBpE2oksC3bf8QwPYy22ttPw2cDewz2Lq2\nZ9meYXtGX19fnWFGRDRanXcNCfgGcKftL7bMn9xS7E3AwrpiiIiI4dV519B+wDuAOyQtKPM+ARwt\naTpgYDHwnhpjiIiIYdR519ANgAZZdHld+4yIiJHLk8UREQ2XRBAR0XBJBBERDZdEEBHRcEkEEREN\nl0QQEdFwSQQREQ2XRBAR0XBJBBERDZdEEBHRcEkEERENl0QQEdFwSQQREQ2XRBAR0XBJBBERDTds\nIpC0XScCiYiI7mjnjOAWSRdIOqy8fjIiIsaRdhLB7sAsqtdO3iPpc5J2rzesiIjolGETgStzbB8N\nvAs4FviJpOskvbr2CCMiolbDvrNY0vOAt1OdESwDPgBcAkwHLgB2rjPAiIioVzsvr78J+BZwpO0l\nLfPnSfpaPWFFRESntJMIXmzbgy2wfdoGjiciIjqsnYvFV0ma2D8haVtJVw63kqQXSrpW0p2SFkn6\nUJm/naQ5ku4uf7ddj/gjImI9tZMI+myv6p+w/TCwfRvrrQE+YvslwL7A+yXtCZwMXG17N+DqMh0R\nEV3STiJYK2lq/4SknYBBm4pa2V5q+9Yy/hhwJzAFOAKYXYrNBo4cadAREbHhtHON4B+AGyRdV6b3\nB2aOZCeSpgEvB24BdrC9FKpkIWnQswtJM/v3M3Xq1MGKRETEBjBsIrB9haS9qZp3BHzY9sp2dyBp\nK+AHwIm2H2334WTbs6geZGPGjBnDnoFERMTotNvp3GbAQ8AjwJ6S9m9nJUmbUCWBb9v+YZm9TNLk\nsnwysHxkIUdExIbUzgNlpwFvAxYBT5fZBq4fZj0B3wDutP3FlkWXUD2dfGr5e/HIw46IiA2lnWsE\nR1I9S7B6hNvej+pp5DskLSjzPkGVAM6XdDzwAPDWEW43IiI2oHYSwb3AJsCIEoHtG6iuKQzmtSPZ\nVkRE1KedRPAksEDS1bQkA9sfrC2qiIjomHYSwSVliIiIcaid20dnS9oCmGr7rg7EFBERHdTOqyrf\nCCwArijT0yXlDCEiYpxo5zmCzwD7AKsAbC8g7yCIiBg32kkEa2w/MmBenvSNiBgn2rlYvFDSXwMb\nS9oN+CDw3/WGFRERndLOGcEHgL2obh39LvAocGKdQUVEROe0c9fQk1Q9kP5D/eFERESntdPX0LUM\nck3A9kG1RBQRER3VzjWCv28Z3xx4M9XbxyIiYhxop2lo/oBZN7a8pCYiInpcO01D27VMbgS8Anh+\nbRFFRERHtdM0NJ/qGoGomoTuA46vM6iIiOicdpqG8hRxRMQ41k7T0F+ua3nLKygjIqIHtdM0dDzw\nGuCaMn0gMJfq/cUGkggiInpYO4nAwJ62l8IzL5z/F9vvrDWyiIjoiHa6mJjWnwSKZcDuNcUTEREd\n1s4ZwVxJV1L1M2TgKODaWqOKiIiOaeeuoRMkvQnYv8yaZfuiesOKiIhOaadpCOBW4DLbHwaulLT1\ncCtIOkfSckkLW+Z9RtJvJC0ow2GjjDsiIjaQdl5V+W7gQuDrZdYU4D/a2PZ5wKGDzD/T9vQyXN5u\noBERUY92zgjeD+xH9R4CbN8NbD/cSravBx5ar+giIqJ27VwsXm37D5IAkDSB9XtV5QmS/gaYB3zE\n9sODFZI0E5gJMHXq1PXY3fgx7eTL2iq3+NTDa44kxoJ2/x8ihtPOGcF1kj4BbCHpYOAC4Eej3N9Z\nwK7AdGApcMZQBW3Psj3D9oy+vr5R7i4iIobTTiI4GVgB3AG8B7gc+ORodmZ7me21tp8Gzgb2Gc12\nIiJiw1ln05CkjYHZtt9O9cW9XiRNbnk47U3AwnWVj4iI+q0zEdheK6lP0qa2/zCSDUv6LnAAMEnS\nEuDTwAGSplNdY1hMdYYRERFd1M7F4sVUbyW7BHiif6btL65rJdtHDzL7GyOKLiIiajfkNQJJ3yqj\nbwMuLWW3bhkiImIcWNcZwSsk7QQ8APxzh+KJiIgOW1ci+BpwBbAz1T3//UTVxr9LjXFFRESHDNk0\nZPsrtl8CnGt7l5ZhZ9tJAhER48SwzxHYfl8nAomIiO5ot/fRiIgYp5IIIiIaLokgIqLhkggiIhou\niSAiouGSCCIiGi6JICKi4ZIIIiIaLokgIqLhkggiIhouiSAiouGSCCIiGi6JICKi4ZIIIiIaLokg\nIqLhkggiIhouiSAiouFqSwSSzpG0XNLClnnbSZoj6e7yd9u69h8REe2p84zgPODQAfNOBq62vRtw\ndZmOiIguqi0R2L4eeGjA7COA2WV8NnBkXfuPiIj2TOjw/nawvRTA9lJJ2w9VUNJMYCbA1KlTOxRe\nRAxn2smXtVVu8amHd3Wb0b4xe7HY9izbM2zP6Ovr63Y4ERHjVqcTwTJJkwHK3+Ud3n9ERAzQ6URw\nCXBsGT8WuLjD+4+IiAHqvH30u8BNwIslLZF0PHAqcLCku4GDy3RERHRRbReLbR89xKLX1rXPiIgY\nuTF7sTgiIjojiSAiouGSCCIiGi6JICKi4ZIIIiIaLokgIqLhkggiIhouiSAiouGSCCIiGi6JICKi\n4ZIIIiIaLokgIqLhOv2GshhEu29nioioQ84IIiIaLokgIqLhkggiIhouiSAiouGSCCIiGi53DdUo\ndwMNrd3PZvGph9ccSUTkjCAiouGSCCIiGq4rTUOSFgOPAWuBNbZndCOOiIjo7jWCA22v7OL+IyKC\nNA1FRDRet84IDFwlycDXbc8aWEDSTGAmwNSpUzscXkT35G6z6LRunRHsZ3tv4PXA+yXtP7CA7Vm2\nZ9ie0dfX1/kIIyIaoiuJwPaD5e9y4CJgn27EERERXUgEkraUtHX/OHAIsLDTcURERKUb1wh2AC6S\n1L//79i+ogtxREQEXUgEtu8FXtbp/UZExODS11CMaemTKFpt6Duq8n9TyXMEERENl0QQEdFwSQQR\nEQ2XRBAR0XBJBBERDZdEEBHRcLl9NMaF3FY49qTzvN6RM4KIiIZLIoiIaLgkgoiIhksiiIhouCSC\niIiGy11DI9QLd0J0q6O2XvhsIlrlbrNKzggiIhouiSAiouGSCCIiGi6JICKi4ZIIIiIaTra7HcOw\nZsyY4Xnz5o1q3dzJsv7avROiiZ91Ppuo2/rciSRpvu0Zw5XLGUFERMMlEURENFxXEoGkQyXdJeke\nSSd3I4aIiKh0PBFI2hj4F+D1wJ7A0ZL27HQcERFR6cYZwT7APbbvtf0H4HvAEV2IIyIi6E5fQ1OA\nX7dMLwFeNbCQpJnAzDL5uKS72tj2JGDlekc49nW0njqtU3v6E2P+eG6gz2bM13MDST1HYT3/x3Zq\np1A3EoEGmfcn97DangXMGtGGpXnt3CrV61LP8SX1HF96sZ7daBpaArywZXpH4MEuxBEREXQnEfwU\n2E3SzpI2BY4CLulCHBERQReahmyvkXQCcCWwMXCO7UUbaPMjakrqYann+JJ6ji89V8+e6GIiIiLq\nkyeLIyIaLokgIqLheiYRSNpc0k8k3SZpkaTPlvnnSbpP0oIyTC/zJekrpRuL2yXt3d0ajIykjSX9\nTNKlZXpnSbdIulvS98uFdiRtVqbvKcundTPukRqknuPueEpaLOmOUp95Zd52kuaU4zlH0rZl/nir\n52ck/ableB7WUv7jpZ53Sfrz7kU+MpImSrpQ0i8k3Snp1b1+PHsmEQCrgYNsvwyYDhwqad+y7KO2\np5dhQZn3emC3MswEzup4xOvnQ8CdLdOnAWfa3g14GDi+zD8eeNj2i4AzS7leMrCeMD6P54GlPv33\nl58MXF2O59VlGsZfPaH6v+0/npcDlG5ljgL2Ag4F/rV0P9MLvgxcYXsP4GVU/789fTx7JhG48niZ\n3KQM67rSfQTwzbLezcBESZPrjnNDkLQjcDjwb2VawEHAhaXIbODIMn5EmaYsf20pP+YNrOcwevZ4\nDqH1uA08nuOpnkM5Avie7dW27wPuoep+ZkyT9Fxgf+AbALb/YHsVPX48eyYRwDPNCAuA5cAc27eU\nRaeU064zJW1W5g3WlcWUDoa7Pr4EfAx4ukw/D1hle02Zbq3LM/Usyx8p5XvBwHr2G2/H08BVkuar\n6joFYAfbSwHK3+3L/PFWT4ATyvE8p7/JhN6t5y7ACuDc0qT5b5K2pMePZ08lAttrbU+nehp5H0kv\nBT4O7AG8EtgOOKkUb6sri7FG0huA5bbnt84epKjbWDZmDVFPGGfHs9jP9t5UzQTvl7T/OsqOt3qe\nBexK1Zy7FDijlO3Vek4A9gbOsv1y4AmebQYaTE/Us6cSQb9yKjYXONT20nLatRo4l2dPL3u1K4v9\ngL+QtJiqZ9aDqH45T5TU/wBga12eqWdZvg3wUCcDHqU/qaekfx+HxxPbD5a/y4GLqOq0rL+JoPxd\nXoqPq3raXlZ+wD0NnE3vH88lwJKW1ogLqRJDTx/PnkkEkvokTSzjWwCvA37R8uGLql1uYVnlEuBv\nylX7fYFH+k/dxjLbH7e9o+1pVBfTrrF9DHAt8JZS7Fjg4jJ+SZmmLL/GPfCU4BD1fPt4O56StpS0\ndf84cAhVnVqP28DjOW7qOaA9/E388fE8StVdbztTXUz9SSdjHg3bvwV+LenFZdZrgZ/T48ezG72P\njtZkYHa5s2Aj4Hzbl0q6RlIf1SnYAuC9pfzlwGFUF6GeBN7ZhZg3pJOA70n6J+BnlItV5e+3JN1D\ndSZwVJfi21C+Pc6O5w7AReX6/QTgO7avkPRT4HxJxwMPAG8t5cdbPb+l6hZgA4uB9wDYXiTpfKov\n0TXA+22v7UrkI/cBqv/TTYF7qY7RRvTw8UwXExERDdczTUMREVGPJIKIiIZLIoiIaLgkgoiIhksi\niIhouCSCGNMk/XcbZU6U9Jya45je2nPmKLcxUdLfjmI9ldukn1uep7lB0kJJR7aUuVjSC1qmT5d0\n0PrEG82RRBBjmu3XtFHsRGBEiWAUPV1Op7offLjtruvZnInAiBNB2e9tth8Fjqbq1OzVwEfLPt8I\n3Nr/ZG/xz6y764OIZyQRxJgm6fHy9wBJc/VsP/DfLr+UPwi8ALhW0rWl7CGSbpJ0q6QLJG1V5i+W\n9ClJNwBvlbSrpCtKJ2k/lrRHKffW8ov7NknXlweH/hF4m6o+9d82IMbjyn5+RNXp2laSri77v0PS\nEaXoqcCuZRtfKOt+VNJPVXXK9tkhPoZjePZJ1aeALYDNgKdL4jkR+ELrCrbvB54n6fmj/OijSWxn\nyDBmB+Dx8vcAqp5Vd6T6AXMT8L/LssXApDI+Cbge2LJMnwR8qqXcx1q2fTWwWxl/FVU3FwB3AFPK\n+MTy9zjgq0PEeBxVnzLblekJwHNb4rmH6knpacDClvUOoXrRuUqdLgX2H2T79wNbl/FtgMuAeVTd\nG3wQOHaIuM4G3tztY5hh7A+91MVExE9sLwFQ1R35NOCGAWX2BfYEbizdHWxKlTT6fb+svxXwGuAC\nPfv6hv4ur28EzitdIPywzdjm2O7v7E/A51T1vvk0VbfDOwyyziFl+FmZ3oqqz53rB5TbzvZjALYf\noXqHA6q6dD4J+EtJZwPbAmfY7q/vcqqzpYh1SiKIXrK6ZXwtg///iupL+eghtvFE+bsR1Tsepg8s\nYPu9kl5F9YX7zOsyh/FEy/gxQB/wCttPqephdfMhYv287a8Ps+01kjZy1YNnq08Bp1BdN5gPfIeq\nCenAsnxz4PdtxB4Nl2sEMR48Bmxdxm8G9pP0IgBJz5G0+8AVXF14vU/SW0s5SXpZGd/V9i22PwWs\npOpGuHUfw9mG6l0LT0k6ENhpkDgBrgT+b8s1jCmStudP3UX1QpRnSNoNeIHt66gulD9N1bFba8LZ\nnWd7+4wYUhJBjAezgP+UdK3tFVRt9t+VdDtVYthjiPWOAY6XdBuwiOq1ggBfKBd5F1I109xG1Q34\nnoNdLB7Et4EZql7gfgzwCwDbv6Nqsloo6Qu2r6L6FX+TpDuo+rYfLNlcRnWNpNUpwCfL+HdLnW8G\nTgeQtAnwIqprCRHrlN5HI8Y4VX36f9P2wSNY503A3rb/X32RxXiRM4KIMc7Vi0zOVvXi9HZN4NnX\nQkasU84IIiIaLmcEERENl0QQEdFwSQQREQ2XRBAR0XBJBBERDff/AVt7Bt7VPxmZAAAAAElFTkSu\nQmCC\n",
      "text/plain": [
       "<matplotlib.figure.Figure at 0x10db34518>"
      ]
     },
     "metadata": {},
     "output_type": "display_data"
    }
   ],
   "source": [
    "n, bins, patches = plt.hist(avgrate, bins = 30)\n",
    "plt.xlabel('interest rate (%)')\n",
    "plt.ylabel('frequency')\n",
    "plt.title('Interest rate histogram')"
   ]
  },
  {
   "cell_type": "markdown",
   "metadata": {},
   "source": [
    "I see 4 groupings.\n",
    "Centered around: 380, 460, 520, 560."
   ]
  },
  {
   "cell_type": "markdown",
   "metadata": {},
   "source": [
    "1B) [1 point] Create a plot of the histogram of median total household income `medtotinc2010`. Use 30 bins. Make sure to label your axes and give the figure a title."
   ]
  },
  {
   "cell_type": "code",
<<<<<<< HEAD
   "execution_count": 7,
   "metadata": {},
   "outputs": [
    {
     "data": {
      "text/plain": [
       "0    38485.44531\n",
       "1    31289.11133\n",
       "2    31289.11133\n",
       "3    31421.22266\n",
       "4    27502.00000\n",
       "Name: medtotinc2010, dtype: float64"
      ]
     },
     "execution_count": 7,
     "metadata": {},
     "output_type": "execute_result"
    }
   ],
   "source": [
    "inc = lender_data['medtotinc2010']\n",
    "inc.head()"
   ]
  },
  {
   "cell_type": "code",
   "execution_count": 9,
   "metadata": {},
   "outputs": [
    {
     "data": {
      "text/plain": [
       "Text(0.5,1,'Income histogram')"
      ]
     },
     "execution_count": 9,
     "metadata": {},
     "output_type": "execute_result"
    },
    {
     "data": {
      "image/png": "iVBORw0KGgoAAAANSUhEUgAAAYIAAAEWCAYAAABrDZDcAAAABHNCSVQICAgIfAhkiAAAAAlwSFlz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\nqADv8B0AAAAASUVORK5CYII=\n",
      "text/plain": [
       "<matplotlib.figure.Figure at 0x112bfe518>"
      ]
     },
     "metadata": {},
     "output_type": "display_data"
    }
   ],
   "source": [
    "n, bins, patches = plt.hist(inc, bins = 30)\n",
    "plt.xlabel('median household income ($)')\n",
    "plt.ylabel('frequency')\n",
    "plt.title('Income histogram')"
   ]
=======
   "execution_count": null,
   "metadata": {
    "collapsed": true
   },
   "outputs": [],
   "source": []
>>>>>>> 31e9dbd1517089b2fc5269e16fa82210f961a4a9
  },
  {
   "cell_type": "markdown",
   "metadata": {},
   "source": [
    "1C) [5 points] Use maximum likelihood estimation to fit a lognormal distribution $LN(\\mu, \\sigma)$ to the median income data `medtotinc2010`. Report your estimated $\\hat{\\mu}_{mle}$ and $\\hat{\\sigma}_{mle}$ as well as the likelihood function value at the maximum (not the negative log likelihood). Report your estimate of the variance-covariance matrix of your maximum likelihood estimates of $\\hat{\\mu}_{mle}$ and $\\hat{\\sigma}_{mle}$. Report the standard error on the estimate for $\\hat{\\mu}_{mle}$."
   ]
  },
  {
   "cell_type": "code",
   "execution_count": 10,
   "metadata": {
    "collapsed": true
   },
   "outputs": [],
   "source": [
    "def lognormal_pdf(x, params):\n",
    "    '''\n",
    "    Given data (e.g. in ndarray) and a 2-array of parameters for the lognormal distribution, returns an ndarray of pdf values.\n",
    "    '''\n",
    "    mu, sigma = params\n",
    "    pdf = 1/x/sigma/np.sqrt(2*np.pi) * np.exp(-(np.log(x)-mu)**2/2/sigma/sigma)\n",
    "    return pdf"
   ]
  },
  {
   "cell_type": "code",
   "execution_count": 66,
   "metadata": {
    "collapsed": true
   },
   "outputs": [],
   "source": [
    "PARAMS_EX = (5,1)\n",
    "X_EX = np.array([np.exp(5), 5])"
   ]
  },
  {
   "cell_type": "code",
   "execution_count": 67,
   "metadata": {},
   "outputs": [
    {
     "data": {
      "text/plain": [
       "array([ 0.00268805,  0.00025447])"
      ]
     },
     "execution_count": 67,
     "metadata": {},
     "output_type": "execute_result"
    }
   ],
   "source": [
    "PDF_EX = lognormal_pdf(X_EX, PARAMS_EX)\n",
    "PDF_EX"
   ]
  },
  {
   "cell_type": "code",
   "execution_count": 11,
   "metadata": {
    "collapsed": true
   },
   "outputs": [],
   "source": [
    "import numpy as np"
   ]
  },
  {
   "cell_type": "code",
   "execution_count": 17,
   "metadata": {
    "collapsed": true
   },
   "outputs": [],
   "source": [
    "def log_likelihood(pdf_func, x, params):\n",
    "    '''\n",
    "    Given a pdf function, data and parameters, returns log likelihood of seeing data from that distribution.\n",
    "    '''\n",
    "    pdf_array = pdf_func(x, params)\n",
    "    log = np.log(pdf_array)\n",
    "    ll = np.sum(log)\n",
    "    return ll"
   ]
  },
  {
   "cell_type": "code",
   "execution_count": 19,
   "metadata": {},
   "outputs": [
    {
     "data": {
      "text/plain": [
       "-5.0279220286178887"
      ]
     },
     "execution_count": 19,
     "metadata": {},
     "output_type": "execute_result"
    }
   ],
   "source": [
    "LL = log_likelihood(lognormal_pdf, X_EX, PARAMS_EX)\n",
    "LL"
   ]
  },
  {
   "cell_type": "code",
   "execution_count": 20,
   "metadata": {
    "collapsed": true
   },
   "outputs": [],
   "source": [
    "def neg_log_likelihood(pdf_func, x, params):\n",
    "    ll = log_likelihood(pdf_func, x, params)\n",
    "    nll = -ll\n",
    "    return nll"
   ]
  },
  {
   "cell_type": "code",
   "execution_count": 21,
   "metadata": {},
   "outputs": [
    {
     "data": {
      "text/plain": [
       "5.0279220286178887"
      ]
     },
     "execution_count": 21,
     "metadata": {},
     "output_type": "execute_result"
    }
   ],
   "source": [
    "NLL = neg_log_likelihood(lognormal_pdf, X_EX, PARAMS_EX)\n",
    "NLL"
   ]
  },
  {
   "cell_type": "markdown",
   "metadata": {},
   "source": [
    "We want to choose params to minimise the neg_log_likelihood function. \n",
    "1). Define criterion function"
   ]
  },
  {
   "cell_type": "code",
<<<<<<< HEAD
   "execution_count": 33,
   "metadata": {
    "collapsed": true
   },
   "outputs": [],
   "source": [
    "def criterion_func(params, *args):\n",
    "    '''\n",
    "    Given a parameter vector, and passed in a tuple of args (data, pdf function), returns the value of the neg_log_likelihood function.\n",
    "    '''\n",
    "    data, pdf_func = args\n",
    "    nll = neg_log_likelihood(pdf_func, data, params)\n",
    "    return nll"
   ]
  },
  {
   "cell_type": "markdown",
   "metadata": {},
   "source": [
    "Minimization problem"
   ]
  },
  {
   "cell_type": "code",
   "execution_count": 26,
=======
   "execution_count": null,
>>>>>>> 31e9dbd1517089b2fc5269e16fa82210f961a4a9
   "metadata": {
    "collapsed": true
   },
   "outputs": [],
   "source": [
    "from scipy.optimize import minimize"
   ]
  },
  {
   "cell_type": "code",
   "execution_count": 29,
   "metadata": {},
   "outputs": [
    {
     "data": {
      "text/plain": [
       "(10.46310334047155, 8.5171931914162382)"
      ]
     },
     "execution_count": 29,
     "metadata": {},
     "output_type": "execute_result"
    }
   ],
   "source": [
    "P_INIT = (np.log(35000), np.log(5000)) #from eyeballing histogram\n",
    "P_INIT"
   ]
  },
  {
   "cell_type": "code",
   "execution_count": 30,
   "metadata": {
    "collapsed": true
   },
   "outputs": [],
   "source": [
    "args = (inc, lognormal_pdf)"
   ]
  },
  {
   "cell_type": "code",
   "execution_count": 34,
   "metadata": {},
   "outputs": [
    {
     "name": "stderr",
     "output_type": "stream",
     "text": [
      "/Users/laurencewarner/anaconda3/lib/python3.6/site-packages/ipykernel_launcher.py:6: RuntimeWarning: invalid value encountered in log\n",
      "  \n"
     ]
    },
    {
     "data": {
      "text/plain": [
       "      fun: -0.0\n",
       " hess_inv: array([[1, 0],\n",
       "       [0, 1]])\n",
       "      jac: array([ 0.,  0.])\n",
       "  message: 'Optimization terminated successfully.'\n",
       "     nfev: 16\n",
       "      nit: 1\n",
       "     njev: 4\n",
       "   status: 0\n",
       "  success: True\n",
       "        x: array([ 10.2494125 , -12.69173031])"
      ]
     },
     "execution_count": 34,
     "metadata": {},
     "output_type": "execute_result"
    }
   ],
   "source": [
    "minimize(criterion_func, P_INIT, args)"
   ]
  },
  {
   "cell_type": "markdown",
   "metadata": {},
   "source": [
    "Impossible result: variance can't be negative! Must use constrained optimization"
   ]
  },
  {
   "cell_type": "code",
   "execution_count": 35,
   "metadata": {
    "collapsed": true
   },
   "outputs": [],
   "source": [
    "BOUNDS = ((None, None), (1e-6, None))"
   ]
  },
  {
   "cell_type": "code",
   "execution_count": 40,
   "metadata": {},
   "outputs": [
    {
     "name": "stderr",
     "output_type": "stream",
     "text": [
      "/Users/laurencewarner/anaconda3/lib/python3.6/site-packages/ipykernel_launcher.py:6: RuntimeWarning: divide by zero encountered in log\n",
      "  \n",
      "/Users/laurencewarner/anaconda3/lib/python3.6/site-packages/scipy/optimize/optimize.py:628: RuntimeWarning: invalid value encountered in double_scalars\n",
      "  grad[k] = (f(*((xk + d,) + args)) - f0) / d[k]\n"
     ]
    }
   ],
   "source": [
    "results = minimize(criterion_func, P_INIT, args, bounds = BOUNDS)"
   ]
  },
  {
   "cell_type": "code",
   "execution_count": 41,
   "metadata": {},
   "outputs": [
    {
     "data": {
      "text/plain": [
       "      fun: 1845.7166985715774\n",
       " hess_inv: <2x2 LbfgsInvHessProduct with dtype=float64>\n",
       "      jac: array([ -0.19274466,  41.64717211])\n",
       "  message: b'CONVERGENCE: REL_REDUCTION_OF_F_<=_FACTR*EPSMCH'\n",
       "     nfev: 21\n",
       "      nit: 2\n",
       "   status: 0\n",
       "  success: True\n",
       "        x: array([ 10.3611464 ,   3.51823282])"
      ]
     },
     "execution_count": 41,
     "metadata": {},
     "output_type": "execute_result"
    }
   ],
   "source": [
    "results"
   ]
  },
  {
   "cell_type": "code",
   "execution_count": 45,
   "metadata": {
    "collapsed": true
   },
   "outputs": [],
   "source": [
    "params_mle = results.x"
   ]
  },
  {
   "cell_type": "code",
   "execution_count": 47,
   "metadata": {},
   "outputs": [
    {
     "name": "stdout",
     "output_type": "stream",
     "text": [
      "MLE estimates: mu =  10.361 sigma =  3.518\n"
     ]
    }
   ],
   "source": [
    "print(\"MLE estimates: mu = \", round(params_mle[0],3), \"sigma = \", round(params_mle[1],3))"
   ]
  },
  {
   "cell_type": "markdown",
   "metadata": {},
   "source": [
    "Log-likelihood value.\n",
    "From results:"
   ]
  },
  {
   "cell_type": "code",
   "execution_count": 50,
   "metadata": {},
   "outputs": [
    {
     "data": {
      "text/plain": [
       "-1845.7166985715774"
      ]
     },
     "execution_count": 50,
     "metadata": {},
     "output_type": "execute_result"
    }
   ],
   "source": [
    "-results.fun"
   ]
  },
  {
   "cell_type": "markdown",
   "metadata": {},
   "source": [
    "Check:"
   ]
  },
  {
   "cell_type": "code",
   "execution_count": 51,
   "metadata": {},
   "outputs": [
    {
     "data": {
      "text/plain": [
       "-1845.7166985715774"
      ]
     },
     "execution_count": 51,
     "metadata": {},
     "output_type": "execute_result"
    }
   ],
   "source": [
    "log_likelihood(lognormal_pdf, inc, params_mle)"
   ]
  },
  {
   "cell_type": "markdown",
   "metadata": {},
   "source": [
    "-1845.71 is the maximum possible log likelihood value which can be obtained with inc using a lognormal distribution."
   ]
  },
  {
   "cell_type": "markdown",
   "metadata": {},
   "source": [
    "1D) [2 points] Plot the predicted distribution from your maximum likelihood estimates $\\hat{\\mu}_{mle}$ and $\\hat{\\sigma}_{mle}$ against the histogram of the data."
   ]
  },
  {
   "cell_type": "code",
   "execution_count": 68,
   "metadata": {},
   "outputs": [
    {
     "data": {
      "text/plain": [
       "17068.277340000001"
      ]
     },
     "execution_count": 68,
     "metadata": {},
     "output_type": "execute_result"
    }
   ],
   "source": [
    "min(inc)"
   ]
  },
  {
   "cell_type": "code",
   "execution_count": 69,
   "metadata": {},
   "outputs": [
    {
     "data": {
      "text/plain": [
       "52972.890630000002"
      ]
     },
     "execution_count": 69,
     "metadata": {},
     "output_type": "execute_result"
    }
   ],
   "source": [
    "max(inc)"
   ]
  },
  {
   "cell_type": "code",
   "execution_count": 135,
   "metadata": {},
   "outputs": [
    {
     "data": {
      "text/plain": [
       "[<matplotlib.lines.Line2D at 0x1c1a29ab70>]"
      ]
     },
     "execution_count": 135,
     "metadata": {},
     "output_type": "execute_result"
    },
    {
     "data": {
      "image/png": "iVBORw0KGgoAAAANSUhEUgAAAZ4AAAEWCAYAAABWn/G6AAAABHNCSVQICAgIfAhkiAAAAAlwSFlz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\nMi/gmCoAAAAASUVORK5CYII=\n",
      "text/plain": [
       "<matplotlib.figure.Figure at 0x1c19319fd0>"
      ]
     },
     "metadata": {},
     "output_type": "display_data"
    }
   ],
   "source": [
    "n, bins, patches = plt.hist(inc, bins = 30, normed = True)  #normed to a density function to compare!\n",
    "plt.xlabel('median household income ($)')\n",
    "plt.ylabel('frequency')\n",
    "plt.title('Income histogram vs. MLE lognormal pdf')\n",
    "\n",
    "X = np.linspace(min(inc), max(inc), 1000)\n",
    "Y = lognormal_pdf(X, params_mle)\n",
    "plt.plot(X,Y)"
   ]
  },
  {
   "cell_type": "code",
   "execution_count": 134,
   "metadata": {},
   "outputs": [
    {
     "data": {
      "text/plain": [
       "array([ 31607.39533347,     33.72477806])"
      ]
     },
     "execution_count": 134,
     "metadata": {},
     "output_type": "execute_result"
    }
   ],
   "source": [
    "np.exp(params_mle)"
   ]
  },
  {
   "cell_type": "markdown",
   "metadata": {},
   "source": [
    "Suggests it should be centered around 31,000: but it looks like it is not!\n",
    "GRADER: Why does my pdf \n",
    "a). not look like log-normal\n",
    "b). not centered around 31607\n",
    "c). Really low pdf values\n",
    "?"
   ]
  },
  {
   "cell_type": "markdown",
   "metadata": {},
   "source": [
    "## 2. Determinants of lender interest rates (10 points)"
   ]
  },
  {
   "cell_type": "markdown",
   "metadata": {},
   "source": [
    "2A) [3 points] Assume a simple regression model of four factors that influence the interest rates that a lender charges, namely, number of stores, default rate in the area, unemployment rate in the area, and median household income in the area.\n",
    "\n",
    "$$ avgrate_i = \\beta_0 + \\beta_1 numstores_i + \\beta_2 defrate_i + \\beta_3 unrt_zip_i + \\beta_4 medtotinc2010_i + u_i $$\n",
    "\n",
    "Estimate this model by OLS using the `statsmodels.api` package. Don't forget to include a constant. Print your results summary. Which variables are significant at the 5-percent level? How would you interpret in words the estimated coefficient on `numstores`?"
   ]
  },
  {
   "cell_type": "code",
<<<<<<< HEAD
   "execution_count": 73,
   "metadata": {
    "collapsed": true
   },
   "outputs": [],
   "source": [
    "import statsmodels.api as sm"
   ]
  },
  {
   "cell_type": "code",
   "execution_count": 79,
   "metadata": {},
   "outputs": [
    {
     "data": {
      "text/plain": [
       "Index(['avgrate', 'numstores', 'defrate', 'pdrad3', 'pnrad3', 'totrad3',\n",
       "       'unrt_zip', 'medtotinc2010', 'edbachplus_zip', 'pop_zip', 'mdage_zip',\n",
       "       'pctblk2_zip'],\n",
       "      dtype='object')"
      ]
     },
     "execution_count": 79,
     "metadata": {},
     "output_type": "execute_result"
    }
   ],
   "source": [
    "c = lender_data.columns\n",
    "c"
   ]
  },
  {
   "cell_type": "code",
   "execution_count": 84,
   "metadata": {},
   "outputs": [
    {
     "data": {
      "text/html": [
       "<div>\n",
       "<style>\n",
       "    .dataframe thead tr:only-child th {\n",
       "        text-align: right;\n",
       "    }\n",
       "\n",
       "    .dataframe thead th {\n",
       "        text-align: left;\n",
       "    }\n",
       "\n",
       "    .dataframe tbody tr th {\n",
       "        vertical-align: top;\n",
       "    }\n",
       "</style>\n",
       "<table border=\"1\" class=\"dataframe\">\n",
       "  <thead>\n",
       "    <tr style=\"text-align: right;\">\n",
       "      <th></th>\n",
       "      <th>avgrate</th>\n",
       "      <th>numstores</th>\n",
       "      <th>defrate</th>\n",
       "      <th>unrt_zip</th>\n",
       "      <th>medtotinc2010</th>\n",
       "    </tr>\n",
       "  </thead>\n",
       "  <tbody>\n",
       "    <tr>\n",
       "      <th>0</th>\n",
       "      <td>521.429993</td>\n",
       "      <td>23</td>\n",
       "      <td>24.390244</td>\n",
       "      <td>5.7</td>\n",
       "      <td>38485.44531</td>\n",
       "    </tr>\n",
       "    <tr>\n",
       "      <th>1</th>\n",
       "      <td>521.429993</td>\n",
       "      <td>23</td>\n",
       "      <td>38.596489</td>\n",
       "      <td>7.1</td>\n",
       "      <td>31289.11133</td>\n",
       "    </tr>\n",
       "    <tr>\n",
       "      <th>2</th>\n",
       "      <td>521.429993</td>\n",
       "      <td>23</td>\n",
       "      <td>38.954868</td>\n",
       "      <td>7.1</td>\n",
       "      <td>31289.11133</td>\n",
       "    </tr>\n",
       "    <tr>\n",
       "      <th>3</th>\n",
       "      <td>521.429993</td>\n",
       "      <td>23</td>\n",
       "      <td>27.352297</td>\n",
       "      <td>9.2</td>\n",
       "      <td>31421.22266</td>\n",
       "    </tr>\n",
       "    <tr>\n",
       "      <th>4</th>\n",
       "      <td>521.429993</td>\n",
       "      <td>23</td>\n",
       "      <td>30.055660</td>\n",
       "      <td>7.5</td>\n",
       "      <td>27502.00000</td>\n",
       "    </tr>\n",
       "  </tbody>\n",
       "</table>\n",
       "</div>"
      ],
      "text/plain": [
       "      avgrate  numstores    defrate  unrt_zip  medtotinc2010\n",
       "0  521.429993         23  24.390244       5.7    38485.44531\n",
       "1  521.429993         23  38.596489       7.1    31289.11133\n",
       "2  521.429993         23  38.954868       7.1    31289.11133\n",
       "3  521.429993         23  27.352297       9.2    31421.22266\n",
       "4  521.429993         23  30.055660       7.5    27502.00000"
      ]
     },
     "execution_count": 84,
     "metadata": {},
     "output_type": "execute_result"
    }
   ],
   "source": [
    "lender_data_mod1 = lender_data.drop(labels = [c[3], c[4], c[5], c[8], c[9], c[10], c[11]], axis = 1)\n",
    "lender_data_mod1.head()"
   ]
  },
  {
   "cell_type": "code",
   "execution_count": 86,
   "metadata": {},
   "outputs": [
    {
     "data": {
      "text/html": [
       "<div>\n",
       "<style>\n",
       "    .dataframe thead tr:only-child th {\n",
       "        text-align: right;\n",
       "    }\n",
       "\n",
       "    .dataframe thead th {\n",
       "        text-align: left;\n",
       "    }\n",
       "\n",
       "    .dataframe tbody tr th {\n",
       "        vertical-align: top;\n",
       "    }\n",
       "</style>\n",
       "<table border=\"1\" class=\"dataframe\">\n",
       "  <thead>\n",
       "    <tr style=\"text-align: right;\">\n",
       "      <th></th>\n",
       "      <th>avgrate</th>\n",
       "      <th>numstores</th>\n",
       "      <th>defrate</th>\n",
       "      <th>unrt_zip</th>\n",
       "      <th>medtotinc2010</th>\n",
       "    </tr>\n",
       "  </thead>\n",
       "  <tbody>\n",
       "    <tr>\n",
       "      <th>avgrate</th>\n",
       "      <td>1.000000</td>\n",
       "      <td>-0.286821</td>\n",
       "      <td>0.059981</td>\n",
       "      <td>0.012249</td>\n",
       "      <td>0.064235</td>\n",
       "    </tr>\n",
       "    <tr>\n",
       "      <th>numstores</th>\n",
       "      <td>-0.286821</td>\n",
       "      <td>1.000000</td>\n",
       "      <td>0.179397</td>\n",
       "      <td>-0.022296</td>\n",
       "      <td>0.039090</td>\n",
       "    </tr>\n",
       "    <tr>\n",
       "      <th>defrate</th>\n",
       "      <td>0.059981</td>\n",
       "      <td>0.179397</td>\n",
       "      <td>1.000000</td>\n",
       "      <td>0.017956</td>\n",
       "      <td>-0.157810</td>\n",
       "    </tr>\n",
       "    <tr>\n",
       "      <th>unrt_zip</th>\n",
       "      <td>0.012249</td>\n",
       "      <td>-0.022296</td>\n",
       "      <td>0.017956</td>\n",
       "      <td>1.000000</td>\n",
       "      <td>-0.582841</td>\n",
       "    </tr>\n",
       "    <tr>\n",
       "      <th>medtotinc2010</th>\n",
       "      <td>0.064235</td>\n",
       "      <td>0.039090</td>\n",
       "      <td>-0.157810</td>\n",
       "      <td>-0.582841</td>\n",
       "      <td>1.000000</td>\n",
       "    </tr>\n",
       "  </tbody>\n",
       "</table>\n",
       "</div>"
      ],
      "text/plain": [
       "                avgrate  numstores   defrate  unrt_zip  medtotinc2010\n",
       "avgrate        1.000000  -0.286821  0.059981  0.012249       0.064235\n",
       "numstores     -0.286821   1.000000  0.179397 -0.022296       0.039090\n",
       "defrate        0.059981   0.179397  1.000000  0.017956      -0.157810\n",
       "unrt_zip       0.012249  -0.022296  0.017956  1.000000      -0.582841\n",
       "medtotinc2010  0.064235   0.039090 -0.157810 -0.582841       1.000000"
      ]
     },
     "execution_count": 86,
     "metadata": {},
     "output_type": "execute_result"
    }
   ],
   "source": [
    "corr = lender_data_mod1.corr()\n",
    "corr"
   ]
  },
  {
   "cell_type": "code",
   "execution_count": 87,
   "metadata": {
    "collapsed": true
   },
   "outputs": [],
   "source": [
    "import seaborn as sb"
   ]
  },
  {
   "cell_type": "code",
   "execution_count": 88,
   "metadata": {},
   "outputs": [
    {
     "data": {
      "text/plain": [
       "<matplotlib.axes._subplots.AxesSubplot at 0x1c193cefd0>"
      ]
     },
     "execution_count": 88,
     "metadata": {},
     "output_type": "execute_result"
    },
    {
     "data": {
      "image/png": "iVBORw0KGgoAAAANSUhEUgAAAacAAAE+CAYAAAApht8TAAAABHNCSVQICAgIfAhkiAAAAAlwSFlz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\n7QyWAAAAAElFTkSuQmCC\n",
      "text/plain": [
       "<matplotlib.figure.Figure at 0x1c193acf28>"
      ]
     },
     "metadata": {},
     "output_type": "display_data"
    }
   ],
   "source": [
    "sb.heatmap(corr)"
   ]
  },
  {
   "cell_type": "code",
   "execution_count": 91,
=======
   "execution_count": null,
>>>>>>> 31e9dbd1517089b2fc5269e16fa82210f961a4a9
   "metadata": {
    "collapsed": true
   },
   "outputs": [],
   "source": [
    "y = avgrate"
   ]
  },
  {
   "cell_type": "code",
   "execution_count": 99,
   "metadata": {},
   "outputs": [
    {
     "data": {
      "text/html": [
       "<div>\n",
       "<style>\n",
       "    .dataframe thead tr:only-child th {\n",
       "        text-align: right;\n",
       "    }\n",
       "\n",
       "    .dataframe thead th {\n",
       "        text-align: left;\n",
       "    }\n",
       "\n",
       "    .dataframe tbody tr th {\n",
       "        vertical-align: top;\n",
       "    }\n",
       "</style>\n",
       "<table border=\"1\" class=\"dataframe\">\n",
       "  <thead>\n",
       "    <tr style=\"text-align: right;\">\n",
       "      <th></th>\n",
       "      <th>const</th>\n",
       "      <th>numstores</th>\n",
       "      <th>defrate</th>\n",
       "      <th>unrt_zip</th>\n",
       "      <th>medtotinc2010</th>\n",
       "    </tr>\n",
       "  </thead>\n",
       "  <tbody>\n",
       "    <tr>\n",
       "      <th>0</th>\n",
       "      <td>1.0</td>\n",
       "      <td>23</td>\n",
       "      <td>24.390244</td>\n",
       "      <td>5.7</td>\n",
       "      <td>38485.44531</td>\n",
       "    </tr>\n",
       "    <tr>\n",
       "      <th>1</th>\n",
       "      <td>1.0</td>\n",
       "      <td>23</td>\n",
       "      <td>38.596489</td>\n",
       "      <td>7.1</td>\n",
       "      <td>31289.11133</td>\n",
       "    </tr>\n",
       "    <tr>\n",
       "      <th>2</th>\n",
       "      <td>1.0</td>\n",
       "      <td>23</td>\n",
       "      <td>38.954868</td>\n",
       "      <td>7.1</td>\n",
       "      <td>31289.11133</td>\n",
       "    </tr>\n",
       "    <tr>\n",
       "      <th>3</th>\n",
       "      <td>1.0</td>\n",
       "      <td>23</td>\n",
       "      <td>27.352297</td>\n",
       "      <td>9.2</td>\n",
       "      <td>31421.22266</td>\n",
       "    </tr>\n",
       "    <tr>\n",
       "      <th>4</th>\n",
       "      <td>1.0</td>\n",
       "      <td>23</td>\n",
       "      <td>30.055660</td>\n",
       "      <td>7.5</td>\n",
       "      <td>27502.00000</td>\n",
       "    </tr>\n",
       "  </tbody>\n",
       "</table>\n",
       "</div>"
      ],
      "text/plain": [
       "   const  numstores    defrate  unrt_zip  medtotinc2010\n",
       "0    1.0         23  24.390244       5.7    38485.44531\n",
       "1    1.0         23  38.596489       7.1    31289.11133\n",
       "2    1.0         23  38.954868       7.1    31289.11133\n",
       "3    1.0         23  27.352297       9.2    31421.22266\n",
       "4    1.0         23  30.055660       7.5    27502.00000"
      ]
     },
     "execution_count": 99,
     "metadata": {},
     "output_type": "execute_result"
    }
   ],
   "source": [
    "X = lender_data_mod1.drop(labels = ['avgrate'], axis = 1)\n",
    "X = sm.add_constant(X)\n",
    "X.head()"
   ]
  },
  {
   "cell_type": "code",
   "execution_count": 107,
   "metadata": {},
   "outputs": [
    {
     "name": "stdout",
     "output_type": "stream",
     "text": [
      "                            OLS Regression Results                            \n",
      "==============================================================================\n",
      "Dep. Variable:                avgrate   R-squared:                       0.110\n",
      "Model:                            OLS   Adj. R-squared:                  0.085\n",
      "Method:                 Least Squares   F-statistic:                     4.375\n",
      "Date:                Mon, 05 Feb 2018   Prob (F-statistic):            0.00229\n",
      "Time:                        12:52:02   Log-Likelihood:                -812.28\n",
      "No. Observations:                 147   AIC:                             1635.\n",
      "Df Residuals:                     142   BIC:                             1650.\n",
      "Df Model:                           4                                         \n",
      "Covariance Type:            nonrobust                                         \n",
      "=================================================================================\n",
      "                    coef    std err          t      P>|t|      [0.025      0.975]\n",
      "---------------------------------------------------------------------------------\n",
      "const           453.4117     51.263      8.845      0.000     352.075     554.748\n",
      "numstores        -2.6278      0.672     -3.911      0.000      -3.956      -1.300\n",
      "defrate           0.9717      0.574      1.694      0.093      -0.162       2.106\n",
      "unrt_zip          2.9650      3.187      0.930      0.354      -3.335       9.265\n",
      "medtotinc2010     0.0015      0.001      1.526      0.129      -0.000       0.003\n",
      "==============================================================================\n",
      "Omnibus:                        5.028   Durbin-Watson:                   0.366\n",
      "Prob(Omnibus):                  0.081   Jarque-Bera (JB):                3.262\n",
      "Skew:                          -0.189   Prob(JB):                        0.196\n",
      "Kurtosis:                       2.375   Cond. No.                     3.37e+05\n",
      "==============================================================================\n",
      "\n",
      "Warnings:\n",
      "[1] Standard Errors assume that the covariance matrix of the errors is correctly specified.\n",
      "[2] The condition number is large, 3.37e+05. This might indicate that there are\n",
      "strong multicollinearity or other numerical problems.\n"
     ]
    }
   ],
   "source": [
    "results = sm.OLS(endog = y, exog = X, missing = 'drop').fit()\n",
    "print(results.summary())"
   ]
  },
  {
   "cell_type": "markdown",
   "metadata": {},
   "source": [
    "Significant at 5% level:\n",
    "Const, numstores"
   ]
  },
  {
   "cell_type": "markdown",
   "metadata": {},
   "source": [
    "Numstores: coef = -2.628. Not surprise negative: negative simple correlation shown in heatmap.\n",
    "Interpretation: ceteris paribus, if the owner has one more store, expected interest rate falls by 2.628 % points."
   ]
  },
  {
   "cell_type": "markdown",
   "metadata": {},
   "source": [
    "2B) [4 points] Now assume a richer model for the determinants of lender interest rates, which includes the following measures of competition and other demographic variables.\n",
    "\n",
    "$$ avgrate_i = \\beta_0 + \\beta_1 numstores_i + \\beta_2 defrate_i + \\beta_3 unrt_zip_i + \\beta_4 medtotinc2010_i + ... $$\n",
    "$$ \\qquad\\qquad\\qquad\\qquad \\beta_5 totrad3_i + \\beta_6 edbachplus\\_zip_i + \\beta_7 pop\\_zip_i + \\beta_8 mdage\\_zip_i + \\beta_9 pctblk2\\_zip_i + u_i $$\n",
    "\n",
    "Estimate this regression by OLS using the `statsmodels.api` package. In controlling for these new varaibles, do any of the originally estimated coefficients from the model in part (2A) become statistically not significant (at the 5 percent level)? Of these new coefficients ($\\beta_5$ through $\\beta_9$), which one(s) are the most statistically significant?"
   ]
  },
  {
   "cell_type": "code",
<<<<<<< HEAD
   "execution_count": 110,
   "metadata": {},
   "outputs": [
    {
     "data": {
      "text/plain": [
       "Index(['avgrate', 'numstores', 'defrate', 'pdrad3', 'pnrad3', 'totrad3',\n",
       "       'unrt_zip', 'medtotinc2010', 'edbachplus_zip', 'pop_zip', 'mdage_zip',\n",
       "       'pctblk2_zip'],\n",
       "      dtype='object')"
      ]
     },
     "execution_count": 110,
     "metadata": {},
     "output_type": "execute_result"
    }
   ],
   "source": [
    "lender_data.columns"
   ]
  },
  {
   "cell_type": "code",
   "execution_count": 111,
   "metadata": {},
   "outputs": [
    {
     "data": {
      "text/html": [
       "<div>\n",
       "<style>\n",
       "    .dataframe thead tr:only-child th {\n",
       "        text-align: right;\n",
       "    }\n",
       "\n",
       "    .dataframe thead th {\n",
       "        text-align: left;\n",
       "    }\n",
       "\n",
       "    .dataframe tbody tr th {\n",
       "        vertical-align: top;\n",
       "    }\n",
       "</style>\n",
       "<table border=\"1\" class=\"dataframe\">\n",
       "  <thead>\n",
       "    <tr style=\"text-align: right;\">\n",
       "      <th></th>\n",
       "      <th>avgrate</th>\n",
       "      <th>numstores</th>\n",
       "      <th>defrate</th>\n",
       "      <th>totrad3</th>\n",
       "      <th>unrt_zip</th>\n",
       "      <th>medtotinc2010</th>\n",
       "      <th>edbachplus_zip</th>\n",
       "      <th>pop_zip</th>\n",
       "      <th>mdage_zip</th>\n",
       "      <th>pctblk2_zip</th>\n",
       "    </tr>\n",
       "  </thead>\n",
       "  <tbody>\n",
       "    <tr>\n",
       "      <th>0</th>\n",
       "      <td>521.429993</td>\n",
       "      <td>23</td>\n",
       "      <td>24.390244</td>\n",
       "      <td>12</td>\n",
       "      <td>5.7</td>\n",
       "      <td>38485.44531</td>\n",
       "      <td>40.2</td>\n",
       "      <td>44821</td>\n",
       "      <td>33.6</td>\n",
       "      <td>1.0</td>\n",
       "    </tr>\n",
       "    <tr>\n",
       "      <th>1</th>\n",
       "      <td>521.429993</td>\n",
       "      <td>23</td>\n",
       "      <td>38.596489</td>\n",
       "      <td>18</td>\n",
       "      <td>7.1</td>\n",
       "      <td>31289.11133</td>\n",
       "      <td>14.1</td>\n",
       "      <td>68295</td>\n",
       "      <td>29.2</td>\n",
       "      <td>2.2</td>\n",
       "    </tr>\n",
       "    <tr>\n",
       "      <th>2</th>\n",
       "      <td>521.429993</td>\n",
       "      <td>23</td>\n",
       "      <td>38.954868</td>\n",
       "      <td>11</td>\n",
       "      <td>7.1</td>\n",
       "      <td>31289.11133</td>\n",
       "      <td>14.1</td>\n",
       "      <td>68295</td>\n",
       "      <td>29.2</td>\n",
       "      <td>2.2</td>\n",
       "    </tr>\n",
       "    <tr>\n",
       "      <th>3</th>\n",
       "      <td>521.429993</td>\n",
       "      <td>23</td>\n",
       "      <td>27.352297</td>\n",
       "      <td>58</td>\n",
       "      <td>9.2</td>\n",
       "      <td>31421.22266</td>\n",
       "      <td>11.3</td>\n",
       "      <td>26524</td>\n",
       "      <td>28.5</td>\n",
       "      <td>1.4</td>\n",
       "    </tr>\n",
       "    <tr>\n",
       "      <th>4</th>\n",
       "      <td>521.429993</td>\n",
       "      <td>23</td>\n",
       "      <td>30.055660</td>\n",
       "      <td>42</td>\n",
       "      <td>7.5</td>\n",
       "      <td>27502.00000</td>\n",
       "      <td>22.3</td>\n",
       "      <td>28936</td>\n",
       "      <td>30.8</td>\n",
       "      <td>2.7</td>\n",
       "    </tr>\n",
       "  </tbody>\n",
       "</table>\n",
       "</div>"
      ],
      "text/plain": [
       "      avgrate  numstores    defrate  totrad3  unrt_zip  medtotinc2010  \\\n",
       "0  521.429993         23  24.390244       12       5.7    38485.44531   \n",
       "1  521.429993         23  38.596489       18       7.1    31289.11133   \n",
       "2  521.429993         23  38.954868       11       7.1    31289.11133   \n",
       "3  521.429993         23  27.352297       58       9.2    31421.22266   \n",
       "4  521.429993         23  30.055660       42       7.5    27502.00000   \n",
       "\n",
       "   edbachplus_zip  pop_zip  mdage_zip  pctblk2_zip  \n",
       "0            40.2    44821       33.6          1.0  \n",
       "1            14.1    68295       29.2          2.2  \n",
       "2            14.1    68295       29.2          2.2  \n",
       "3            11.3    26524       28.5          1.4  \n",
       "4            22.3    28936       30.8          2.7  "
      ]
     },
     "execution_count": 111,
     "metadata": {},
     "output_type": "execute_result"
    }
   ],
   "source": [
    "lender_data_mod2 = lender_data.drop(labels = [c[3], c[4]], axis = 1)\n",
    "lender_data_mod2.head()"
   ]
  },
  {
   "cell_type": "code",
   "execution_count": 112,
   "metadata": {},
   "outputs": [
    {
     "data": {
      "text/html": [
       "<div>\n",
       "<style>\n",
       "    .dataframe thead tr:only-child th {\n",
       "        text-align: right;\n",
       "    }\n",
       "\n",
       "    .dataframe thead th {\n",
       "        text-align: left;\n",
       "    }\n",
       "\n",
       "    .dataframe tbody tr th {\n",
       "        vertical-align: top;\n",
       "    }\n",
       "</style>\n",
       "<table border=\"1\" class=\"dataframe\">\n",
       "  <thead>\n",
       "    <tr style=\"text-align: right;\">\n",
       "      <th></th>\n",
       "      <th>const</th>\n",
       "      <th>numstores</th>\n",
       "      <th>defrate</th>\n",
       "      <th>totrad3</th>\n",
       "      <th>unrt_zip</th>\n",
       "      <th>medtotinc2010</th>\n",
       "      <th>edbachplus_zip</th>\n",
       "      <th>pop_zip</th>\n",
       "      <th>mdage_zip</th>\n",
       "      <th>pctblk2_zip</th>\n",
       "    </tr>\n",
       "  </thead>\n",
       "  <tbody>\n",
       "    <tr>\n",
       "      <th>0</th>\n",
       "      <td>1.0</td>\n",
       "      <td>23</td>\n",
       "      <td>24.390244</td>\n",
       "      <td>12</td>\n",
       "      <td>5.7</td>\n",
       "      <td>38485.44531</td>\n",
       "      <td>40.2</td>\n",
       "      <td>44821</td>\n",
       "      <td>33.6</td>\n",
       "      <td>1.0</td>\n",
       "    </tr>\n",
       "    <tr>\n",
       "      <th>1</th>\n",
       "      <td>1.0</td>\n",
       "      <td>23</td>\n",
       "      <td>38.596489</td>\n",
       "      <td>18</td>\n",
       "      <td>7.1</td>\n",
       "      <td>31289.11133</td>\n",
       "      <td>14.1</td>\n",
       "      <td>68295</td>\n",
       "      <td>29.2</td>\n",
       "      <td>2.2</td>\n",
       "    </tr>\n",
       "    <tr>\n",
       "      <th>2</th>\n",
       "      <td>1.0</td>\n",
       "      <td>23</td>\n",
       "      <td>38.954868</td>\n",
       "      <td>11</td>\n",
       "      <td>7.1</td>\n",
       "      <td>31289.11133</td>\n",
       "      <td>14.1</td>\n",
       "      <td>68295</td>\n",
       "      <td>29.2</td>\n",
       "      <td>2.2</td>\n",
       "    </tr>\n",
       "    <tr>\n",
       "      <th>3</th>\n",
       "      <td>1.0</td>\n",
       "      <td>23</td>\n",
       "      <td>27.352297</td>\n",
       "      <td>58</td>\n",
       "      <td>9.2</td>\n",
       "      <td>31421.22266</td>\n",
       "      <td>11.3</td>\n",
       "      <td>26524</td>\n",
       "      <td>28.5</td>\n",
       "      <td>1.4</td>\n",
       "    </tr>\n",
       "    <tr>\n",
       "      <th>4</th>\n",
       "      <td>1.0</td>\n",
       "      <td>23</td>\n",
       "      <td>30.055660</td>\n",
       "      <td>42</td>\n",
       "      <td>7.5</td>\n",
       "      <td>27502.00000</td>\n",
       "      <td>22.3</td>\n",
       "      <td>28936</td>\n",
       "      <td>30.8</td>\n",
       "      <td>2.7</td>\n",
       "    </tr>\n",
       "  </tbody>\n",
       "</table>\n",
       "</div>"
      ],
      "text/plain": [
       "   const  numstores    defrate  totrad3  unrt_zip  medtotinc2010  \\\n",
       "0    1.0         23  24.390244       12       5.7    38485.44531   \n",
       "1    1.0         23  38.596489       18       7.1    31289.11133   \n",
       "2    1.0         23  38.954868       11       7.1    31289.11133   \n",
       "3    1.0         23  27.352297       58       9.2    31421.22266   \n",
       "4    1.0         23  30.055660       42       7.5    27502.00000   \n",
       "\n",
       "   edbachplus_zip  pop_zip  mdage_zip  pctblk2_zip  \n",
       "0            40.2    44821       33.6          1.0  \n",
       "1            14.1    68295       29.2          2.2  \n",
       "2            14.1    68295       29.2          2.2  \n",
       "3            11.3    26524       28.5          1.4  \n",
       "4            22.3    28936       30.8          2.7  "
      ]
     },
     "execution_count": 112,
     "metadata": {},
     "output_type": "execute_result"
    }
   ],
   "source": [
    "X = lender_data_mod2.drop(labels = ['avgrate'], axis = 1)\n",
    "X = sm.add_constant(X)\n",
    "X.head()"
   ]
  },
  {
   "cell_type": "code",
   "execution_count": 113,
   "metadata": {},
   "outputs": [
    {
     "name": "stdout",
     "output_type": "stream",
     "text": [
      "                            OLS Regression Results                            \n",
      "==============================================================================\n",
      "Dep. Variable:                avgrate   R-squared:                       0.158\n",
      "Model:                            OLS   Adj. R-squared:                  0.102\n",
      "Method:                 Least Squares   F-statistic:                     2.846\n",
      "Date:                Mon, 05 Feb 2018   Prob (F-statistic):            0.00419\n",
      "Time:                        12:58:45   Log-Likelihood:                -808.23\n",
      "No. Observations:                 147   AIC:                             1636.\n",
      "Df Residuals:                     137   BIC:                             1666.\n",
      "Df Model:                           9                                         \n",
      "Covariance Type:            nonrobust                                         \n",
      "==================================================================================\n",
      "                     coef    std err          t      P>|t|      [0.025      0.975]\n",
      "----------------------------------------------------------------------------------\n",
      "const            613.9741     85.491      7.182      0.000     444.921     783.027\n",
      "numstores         -2.4303      0.680     -3.574      0.000      -3.775      -1.086\n",
      "defrate            0.8094      0.585      1.384      0.168      -0.347       1.966\n",
      "totrad3           -0.6991      0.527     -1.326      0.187      -1.741       0.343\n",
      "unrt_zip          -0.3055      3.521     -0.087      0.931      -7.268       6.657\n",
      "medtotinc2010      0.0010      0.001      0.843      0.401      -0.001       0.003\n",
      "edbachplus_zip    -1.3219      0.660     -2.004      0.047      -2.626      -0.018\n",
      "pop_zip           -0.0006      0.000     -1.539      0.126      -0.001       0.000\n",
      "mdage_zip         -1.8352      2.234     -0.821      0.413      -6.253       2.583\n",
      "pctblk2_zip        2.3541      5.981      0.394      0.694      -9.473      14.181\n",
      "==============================================================================\n",
      "Omnibus:                        2.316   Durbin-Watson:                   0.443\n",
      "Prob(Omnibus):                  0.314   Jarque-Bera (JB):                2.014\n",
      "Skew:                          -0.174   Prob(JB):                        0.365\n",
      "Kurtosis:                       2.543   Cond. No.                     8.56e+05\n",
      "==============================================================================\n",
      "\n",
      "Warnings:\n",
      "[1] Standard Errors assume that the covariance matrix of the errors is correctly specified.\n",
      "[2] The condition number is large, 8.56e+05. This might indicate that there are\n",
      "strong multicollinearity or other numerical problems.\n"
     ]
    }
   ],
   "source": [
    "results = sm.OLS(endog = y, exog = X, missing = 'drop').fit()\n",
    "print(results.summary())"
   ]
=======
   "execution_count": null,
   "metadata": {
    "collapsed": true
   },
   "outputs": [],
   "source": []
>>>>>>> 31e9dbd1517089b2fc5269e16fa82210f961a4a9
  },
  {
   "cell_type": "markdown",
   "metadata": {},
   "source": [
<<<<<<< HEAD
    "Originals: statistical significance remains same.\n",
    "New: edbachplus_zip(p = 4.7%) only statistically significant variable. As education in area increases, interest rates decrease."
   ]
  },
  {
   "cell_type": "markdown",
   "metadata": {},
   "source": [
    "2C) [3 points] Create a new binary variable called `avgrate_high` that equals 1 if `avgrate` > 425 (edit), and equals 0 otherwise. Estimate a logistic regression using the `statsmodels.api` package. Let $X\\beta$ be the linear coefficients and variables from the model from part (2B).\n",
=======
    "2C) [3 points] Create a new binary variable called `avgrate_high` that equals 1 if `avgrate` > 425, and equals 0 otherwise. Estimate a logistic regression using the `statsmodels.api` package. Let $X\\beta$ be the following linear coefficients and variables.\n",
    "\n",
    "$$ Pr(avgrate\\_high=1|X\\beta) = \\frac{e^{X\\beta}}{1 + e^{X\\beta}} $$\n",
>>>>>>> 31e9dbd1517089b2fc5269e16fa82210f961a4a9
    "\n",
    "where\n",
    "\n",
    "$$ X\\beta = \\beta_0 + \\beta_1 numstores_i + \\beta_2 defrate_i + \\beta_3 unrt_zip_i + \\beta_4 medtotinc2010_i + ... $$\n",
    "$$ \\qquad\\qquad\\qquad\\qquad \\beta_5 edbachplus\\_zip_i + \\beta_6 pop\\_zip_i + \\beta_7 mdage\\_zip_i + \\beta_8 pctblk2\\_zip_i + u_i $$\n",
    "\n",
    "Report the variables whose coefficients are estimated to be significant at the 5-percent level."
   ]
  },
  {
   "cell_type": "code",
<<<<<<< HEAD
   "execution_count": 115,
   "metadata": {},
   "outputs": [
    {
     "data": {
      "text/html": [
       "<div>\n",
       "<style>\n",
       "    .dataframe thead tr:only-child th {\n",
       "        text-align: right;\n",
       "    }\n",
       "\n",
       "    .dataframe thead th {\n",
       "        text-align: left;\n",
       "    }\n",
       "\n",
       "    .dataframe tbody tr th {\n",
       "        vertical-align: top;\n",
       "    }\n",
       "</style>\n",
       "<table border=\"1\" class=\"dataframe\">\n",
       "  <thead>\n",
       "    <tr style=\"text-align: right;\">\n",
       "      <th></th>\n",
       "      <th>avgrate</th>\n",
       "      <th>numstores</th>\n",
       "      <th>defrate</th>\n",
       "      <th>totrad3</th>\n",
       "      <th>unrt_zip</th>\n",
       "      <th>medtotinc2010</th>\n",
       "      <th>edbachplus_zip</th>\n",
       "      <th>pop_zip</th>\n",
       "      <th>mdage_zip</th>\n",
       "      <th>pctblk2_zip</th>\n",
       "    </tr>\n",
       "  </thead>\n",
       "  <tbody>\n",
       "    <tr>\n",
       "      <th>0</th>\n",
       "      <td>521.429993</td>\n",
       "      <td>23</td>\n",
       "      <td>24.390244</td>\n",
       "      <td>12</td>\n",
       "      <td>5.7</td>\n",
       "      <td>38485.44531</td>\n",
       "      <td>40.2</td>\n",
       "      <td>44821</td>\n",
       "      <td>33.6</td>\n",
       "      <td>1.0</td>\n",
       "    </tr>\n",
       "    <tr>\n",
       "      <th>1</th>\n",
       "      <td>521.429993</td>\n",
       "      <td>23</td>\n",
       "      <td>38.596489</td>\n",
       "      <td>18</td>\n",
       "      <td>7.1</td>\n",
       "      <td>31289.11133</td>\n",
       "      <td>14.1</td>\n",
       "      <td>68295</td>\n",
       "      <td>29.2</td>\n",
       "      <td>2.2</td>\n",
       "    </tr>\n",
       "    <tr>\n",
       "      <th>2</th>\n",
       "      <td>521.429993</td>\n",
       "      <td>23</td>\n",
       "      <td>38.954868</td>\n",
       "      <td>11</td>\n",
       "      <td>7.1</td>\n",
       "      <td>31289.11133</td>\n",
       "      <td>14.1</td>\n",
       "      <td>68295</td>\n",
       "      <td>29.2</td>\n",
       "      <td>2.2</td>\n",
       "    </tr>\n",
       "    <tr>\n",
       "      <th>3</th>\n",
       "      <td>521.429993</td>\n",
       "      <td>23</td>\n",
       "      <td>27.352297</td>\n",
       "      <td>58</td>\n",
       "      <td>9.2</td>\n",
       "      <td>31421.22266</td>\n",
       "      <td>11.3</td>\n",
       "      <td>26524</td>\n",
       "      <td>28.5</td>\n",
       "      <td>1.4</td>\n",
       "    </tr>\n",
       "    <tr>\n",
       "      <th>4</th>\n",
       "      <td>521.429993</td>\n",
       "      <td>23</td>\n",
       "      <td>30.055660</td>\n",
       "      <td>42</td>\n",
       "      <td>7.5</td>\n",
       "      <td>27502.00000</td>\n",
       "      <td>22.3</td>\n",
       "      <td>28936</td>\n",
       "      <td>30.8</td>\n",
       "      <td>2.7</td>\n",
       "    </tr>\n",
       "  </tbody>\n",
       "</table>\n",
       "</div>"
      ],
      "text/plain": [
       "      avgrate  numstores    defrate  totrad3  unrt_zip  medtotinc2010  \\\n",
       "0  521.429993         23  24.390244       12       5.7    38485.44531   \n",
       "1  521.429993         23  38.596489       18       7.1    31289.11133   \n",
       "2  521.429993         23  38.954868       11       7.1    31289.11133   \n",
       "3  521.429993         23  27.352297       58       9.2    31421.22266   \n",
       "4  521.429993         23  30.055660       42       7.5    27502.00000   \n",
       "\n",
       "   edbachplus_zip  pop_zip  mdage_zip  pctblk2_zip  \n",
       "0            40.2    44821       33.6          1.0  \n",
       "1            14.1    68295       29.2          2.2  \n",
       "2            14.1    68295       29.2          2.2  \n",
       "3            11.3    26524       28.5          1.4  \n",
       "4            22.3    28936       30.8          2.7  "
      ]
     },
     "execution_count": 115,
     "metadata": {},
     "output_type": "execute_result"
    }
   ],
   "source": [
    "lender_data_mod2.head()"
   ]
  },
  {
   "cell_type": "code",
   "execution_count": 124,
   "metadata": {
    "collapsed": true
   },
   "outputs": [],
   "source": [
    "lender_data_mod2['avgrate_bin'] = 0"
   ]
  },
  {
   "cell_type": "code",
   "execution_count": 125,
   "metadata": {},
   "outputs": [
    {
     "data": {
      "text/html": [
       "<div>\n",
       "<style>\n",
       "    .dataframe thead tr:only-child th {\n",
       "        text-align: right;\n",
       "    }\n",
       "\n",
       "    .dataframe thead th {\n",
       "        text-align: left;\n",
       "    }\n",
       "\n",
       "    .dataframe tbody tr th {\n",
       "        vertical-align: top;\n",
       "    }\n",
       "</style>\n",
       "<table border=\"1\" class=\"dataframe\">\n",
       "  <thead>\n",
       "    <tr style=\"text-align: right;\">\n",
       "      <th></th>\n",
       "      <th>avgrate</th>\n",
       "      <th>numstores</th>\n",
       "      <th>defrate</th>\n",
       "      <th>totrad3</th>\n",
       "      <th>unrt_zip</th>\n",
       "      <th>medtotinc2010</th>\n",
       "      <th>edbachplus_zip</th>\n",
       "      <th>pop_zip</th>\n",
       "      <th>mdage_zip</th>\n",
       "      <th>pctblk2_zip</th>\n",
       "      <th>avgrate_bin</th>\n",
       "    </tr>\n",
       "  </thead>\n",
       "  <tbody>\n",
       "    <tr>\n",
       "      <th>0</th>\n",
       "      <td>521.429993</td>\n",
       "      <td>23</td>\n",
       "      <td>24.390244</td>\n",
       "      <td>12</td>\n",
       "      <td>5.7</td>\n",
       "      <td>38485.44531</td>\n",
       "      <td>40.2</td>\n",
       "      <td>44821</td>\n",
       "      <td>33.6</td>\n",
       "      <td>1.0</td>\n",
       "      <td>0</td>\n",
       "    </tr>\n",
       "    <tr>\n",
       "      <th>1</th>\n",
       "      <td>521.429993</td>\n",
       "      <td>23</td>\n",
       "      <td>38.596489</td>\n",
       "      <td>18</td>\n",
       "      <td>7.1</td>\n",
       "      <td>31289.11133</td>\n",
       "      <td>14.1</td>\n",
       "      <td>68295</td>\n",
       "      <td>29.2</td>\n",
       "      <td>2.2</td>\n",
       "      <td>0</td>\n",
       "    </tr>\n",
       "    <tr>\n",
       "      <th>2</th>\n",
       "      <td>521.429993</td>\n",
       "      <td>23</td>\n",
       "      <td>38.954868</td>\n",
       "      <td>11</td>\n",
       "      <td>7.1</td>\n",
       "      <td>31289.11133</td>\n",
       "      <td>14.1</td>\n",
       "      <td>68295</td>\n",
       "      <td>29.2</td>\n",
       "      <td>2.2</td>\n",
       "      <td>0</td>\n",
       "    </tr>\n",
       "    <tr>\n",
       "      <th>3</th>\n",
       "      <td>521.429993</td>\n",
       "      <td>23</td>\n",
       "      <td>27.352297</td>\n",
       "      <td>58</td>\n",
       "      <td>9.2</td>\n",
       "      <td>31421.22266</td>\n",
       "      <td>11.3</td>\n",
       "      <td>26524</td>\n",
       "      <td>28.5</td>\n",
       "      <td>1.4</td>\n",
       "      <td>0</td>\n",
       "    </tr>\n",
       "    <tr>\n",
       "      <th>4</th>\n",
       "      <td>521.429993</td>\n",
       "      <td>23</td>\n",
       "      <td>30.055660</td>\n",
       "      <td>42</td>\n",
       "      <td>7.5</td>\n",
       "      <td>27502.00000</td>\n",
       "      <td>22.3</td>\n",
       "      <td>28936</td>\n",
       "      <td>30.8</td>\n",
       "      <td>2.7</td>\n",
       "      <td>0</td>\n",
       "    </tr>\n",
       "  </tbody>\n",
       "</table>\n",
       "</div>"
      ],
      "text/plain": [
       "      avgrate  numstores    defrate  totrad3  unrt_zip  medtotinc2010  \\\n",
       "0  521.429993         23  24.390244       12       5.7    38485.44531   \n",
       "1  521.429993         23  38.596489       18       7.1    31289.11133   \n",
       "2  521.429993         23  38.954868       11       7.1    31289.11133   \n",
       "3  521.429993         23  27.352297       58       9.2    31421.22266   \n",
       "4  521.429993         23  30.055660       42       7.5    27502.00000   \n",
       "\n",
       "   edbachplus_zip  pop_zip  mdage_zip  pctblk2_zip  avgrate_bin  \n",
       "0            40.2    44821       33.6          1.0            0  \n",
       "1            14.1    68295       29.2          2.2            0  \n",
       "2            14.1    68295       29.2          2.2            0  \n",
       "3            11.3    26524       28.5          1.4            0  \n",
       "4            22.3    28936       30.8          2.7            0  "
      ]
     },
     "execution_count": 125,
     "metadata": {},
     "output_type": "execute_result"
    }
   ],
   "source": [
    "lender_data_mod2.head()"
   ]
  },
  {
   "cell_type": "code",
   "execution_count": 127,
   "metadata": {},
   "outputs": [
    {
     "name": "stderr",
     "output_type": "stream",
     "text": [
      "/Users/laurencewarner/anaconda3/lib/python3.6/site-packages/ipykernel_launcher.py:4: SettingWithCopyWarning: \n",
      "A value is trying to be set on a copy of a slice from a DataFrame\n",
      "\n",
      "See the caveats in the documentation: http://pandas.pydata.org/pandas-docs/stable/indexing.html#indexing-view-versus-copy\n",
      "  after removing the cwd from sys.path.\n"
     ]
    }
   ],
   "source": [
    "for i in range(len(lender_data_mod2)):\n",
    "    \n",
    "    if lender_data_mod2['avgrate'][i] > 425:\n",
    "        lender_data_mod2['avgrate_bin'][i] = 1"
   ]
  },
  {
   "cell_type": "code",
   "execution_count": 128,
   "metadata": {},
   "outputs": [
    {
     "data": {
      "text/html": [
       "<div>\n",
       "<style>\n",
       "    .dataframe thead tr:only-child th {\n",
       "        text-align: right;\n",
       "    }\n",
       "\n",
       "    .dataframe thead th {\n",
       "        text-align: left;\n",
       "    }\n",
       "\n",
       "    .dataframe tbody tr th {\n",
       "        vertical-align: top;\n",
       "    }\n",
       "</style>\n",
       "<table border=\"1\" class=\"dataframe\">\n",
       "  <thead>\n",
       "    <tr style=\"text-align: right;\">\n",
       "      <th></th>\n",
       "      <th>avgrate</th>\n",
       "      <th>numstores</th>\n",
       "      <th>defrate</th>\n",
       "      <th>totrad3</th>\n",
       "      <th>unrt_zip</th>\n",
       "      <th>medtotinc2010</th>\n",
       "      <th>edbachplus_zip</th>\n",
       "      <th>pop_zip</th>\n",
       "      <th>mdage_zip</th>\n",
       "      <th>pctblk2_zip</th>\n",
       "      <th>avgrate_bin</th>\n",
       "    </tr>\n",
       "  </thead>\n",
       "  <tbody>\n",
       "    <tr>\n",
       "      <th>0</th>\n",
       "      <td>521.429993</td>\n",
       "      <td>23</td>\n",
       "      <td>24.390244</td>\n",
       "      <td>12</td>\n",
       "      <td>5.7</td>\n",
       "      <td>38485.44531</td>\n",
       "      <td>40.2</td>\n",
       "      <td>44821</td>\n",
       "      <td>33.6</td>\n",
       "      <td>1.0</td>\n",
       "      <td>1</td>\n",
       "    </tr>\n",
       "    <tr>\n",
       "      <th>1</th>\n",
       "      <td>521.429993</td>\n",
       "      <td>23</td>\n",
       "      <td>38.596489</td>\n",
       "      <td>18</td>\n",
       "      <td>7.1</td>\n",
       "      <td>31289.11133</td>\n",
       "      <td>14.1</td>\n",
       "      <td>68295</td>\n",
       "      <td>29.2</td>\n",
       "      <td>2.2</td>\n",
       "      <td>1</td>\n",
       "    </tr>\n",
       "    <tr>\n",
       "      <th>2</th>\n",
       "      <td>521.429993</td>\n",
       "      <td>23</td>\n",
       "      <td>38.954868</td>\n",
       "      <td>11</td>\n",
       "      <td>7.1</td>\n",
       "      <td>31289.11133</td>\n",
       "      <td>14.1</td>\n",
       "      <td>68295</td>\n",
       "      <td>29.2</td>\n",
       "      <td>2.2</td>\n",
       "      <td>1</td>\n",
       "    </tr>\n",
       "    <tr>\n",
       "      <th>3</th>\n",
       "      <td>521.429993</td>\n",
       "      <td>23</td>\n",
       "      <td>27.352297</td>\n",
       "      <td>58</td>\n",
       "      <td>9.2</td>\n",
       "      <td>31421.22266</td>\n",
       "      <td>11.3</td>\n",
       "      <td>26524</td>\n",
       "      <td>28.5</td>\n",
       "      <td>1.4</td>\n",
       "      <td>1</td>\n",
       "    </tr>\n",
       "    <tr>\n",
       "      <th>4</th>\n",
       "      <td>521.429993</td>\n",
       "      <td>23</td>\n",
       "      <td>30.055660</td>\n",
       "      <td>42</td>\n",
       "      <td>7.5</td>\n",
       "      <td>27502.00000</td>\n",
       "      <td>22.3</td>\n",
       "      <td>28936</td>\n",
       "      <td>30.8</td>\n",
       "      <td>2.7</td>\n",
       "      <td>1</td>\n",
       "    </tr>\n",
       "  </tbody>\n",
       "</table>\n",
       "</div>"
      ],
      "text/plain": [
       "      avgrate  numstores    defrate  totrad3  unrt_zip  medtotinc2010  \\\n",
       "0  521.429993         23  24.390244       12       5.7    38485.44531   \n",
       "1  521.429993         23  38.596489       18       7.1    31289.11133   \n",
       "2  521.429993         23  38.954868       11       7.1    31289.11133   \n",
       "3  521.429993         23  27.352297       58       9.2    31421.22266   \n",
       "4  521.429993         23  30.055660       42       7.5    27502.00000   \n",
       "\n",
       "   edbachplus_zip  pop_zip  mdage_zip  pctblk2_zip  avgrate_bin  \n",
       "0            40.2    44821       33.6          1.0            1  \n",
       "1            14.1    68295       29.2          2.2            1  \n",
       "2            14.1    68295       29.2          2.2            1  \n",
       "3            11.3    26524       28.5          1.4            1  \n",
       "4            22.3    28936       30.8          2.7            1  "
      ]
     },
     "execution_count": 128,
     "metadata": {},
     "output_type": "execute_result"
    }
   ],
   "source": [
    "lender_data_mod2.head()"
   ]
  },
  {
   "cell_type": "code",
   "execution_count": 130,
   "metadata": {},
   "outputs": [
    {
     "data": {
      "text/html": [
       "<div>\n",
       "<style>\n",
       "    .dataframe thead tr:only-child th {\n",
       "        text-align: right;\n",
       "    }\n",
       "\n",
       "    .dataframe thead th {\n",
       "        text-align: left;\n",
       "    }\n",
       "\n",
       "    .dataframe tbody tr th {\n",
       "        vertical-align: top;\n",
       "    }\n",
       "</style>\n",
       "<table border=\"1\" class=\"dataframe\">\n",
       "  <thead>\n",
       "    <tr style=\"text-align: right;\">\n",
       "      <th></th>\n",
       "      <th>const</th>\n",
       "      <th>numstores</th>\n",
       "      <th>defrate</th>\n",
       "      <th>totrad3</th>\n",
       "      <th>unrt_zip</th>\n",
       "      <th>medtotinc2010</th>\n",
       "      <th>edbachplus_zip</th>\n",
       "      <th>pop_zip</th>\n",
       "      <th>mdage_zip</th>\n",
       "      <th>pctblk2_zip</th>\n",
       "    </tr>\n",
       "  </thead>\n",
       "  <tbody>\n",
       "    <tr>\n",
       "      <th>0</th>\n",
       "      <td>1.0</td>\n",
       "      <td>23</td>\n",
       "      <td>24.390244</td>\n",
       "      <td>12</td>\n",
       "      <td>5.7</td>\n",
       "      <td>38485.44531</td>\n",
       "      <td>40.2</td>\n",
       "      <td>44821</td>\n",
       "      <td>33.6</td>\n",
       "      <td>1.0</td>\n",
       "    </tr>\n",
       "    <tr>\n",
       "      <th>1</th>\n",
       "      <td>1.0</td>\n",
       "      <td>23</td>\n",
       "      <td>38.596489</td>\n",
       "      <td>18</td>\n",
       "      <td>7.1</td>\n",
       "      <td>31289.11133</td>\n",
       "      <td>14.1</td>\n",
       "      <td>68295</td>\n",
       "      <td>29.2</td>\n",
       "      <td>2.2</td>\n",
       "    </tr>\n",
       "    <tr>\n",
       "      <th>2</th>\n",
       "      <td>1.0</td>\n",
       "      <td>23</td>\n",
       "      <td>38.954868</td>\n",
       "      <td>11</td>\n",
       "      <td>7.1</td>\n",
       "      <td>31289.11133</td>\n",
       "      <td>14.1</td>\n",
       "      <td>68295</td>\n",
       "      <td>29.2</td>\n",
       "      <td>2.2</td>\n",
       "    </tr>\n",
       "    <tr>\n",
       "      <th>3</th>\n",
       "      <td>1.0</td>\n",
       "      <td>23</td>\n",
       "      <td>27.352297</td>\n",
       "      <td>58</td>\n",
       "      <td>9.2</td>\n",
       "      <td>31421.22266</td>\n",
       "      <td>11.3</td>\n",
       "      <td>26524</td>\n",
       "      <td>28.5</td>\n",
       "      <td>1.4</td>\n",
       "    </tr>\n",
       "    <tr>\n",
       "      <th>4</th>\n",
       "      <td>1.0</td>\n",
       "      <td>23</td>\n",
       "      <td>30.055660</td>\n",
       "      <td>42</td>\n",
       "      <td>7.5</td>\n",
       "      <td>27502.00000</td>\n",
       "      <td>22.3</td>\n",
       "      <td>28936</td>\n",
       "      <td>30.8</td>\n",
       "      <td>2.7</td>\n",
       "    </tr>\n",
       "  </tbody>\n",
       "</table>\n",
       "</div>"
      ],
      "text/plain": [
       "   const  numstores    defrate  totrad3  unrt_zip  medtotinc2010  \\\n",
       "0    1.0         23  24.390244       12       5.7    38485.44531   \n",
       "1    1.0         23  38.596489       18       7.1    31289.11133   \n",
       "2    1.0         23  38.954868       11       7.1    31289.11133   \n",
       "3    1.0         23  27.352297       58       9.2    31421.22266   \n",
       "4    1.0         23  30.055660       42       7.5    27502.00000   \n",
       "\n",
       "   edbachplus_zip  pop_zip  mdage_zip  pctblk2_zip  \n",
       "0            40.2    44821       33.6          1.0  \n",
       "1            14.1    68295       29.2          2.2  \n",
       "2            14.1    68295       29.2          2.2  \n",
       "3            11.3    26524       28.5          1.4  \n",
       "4            22.3    28936       30.8          2.7  "
      ]
     },
     "execution_count": 130,
     "metadata": {},
     "output_type": "execute_result"
    }
   ],
   "source": [
    "X = lender_data_mod2.drop(labels = ['avgrate', 'avgrate_bin'], axis = 1)\n",
    "X = sm.add_constant(X)\n",
    "X.head()"
   ]
  },
  {
   "cell_type": "code",
   "execution_count": 131,
   "metadata": {
    "collapsed": true
   },
   "outputs": [],
   "source": [
    "y = lender_data_mod2['avgrate_bin']"
   ]
  },
  {
   "cell_type": "code",
   "execution_count": 132,
   "metadata": {},
   "outputs": [
    {
     "name": "stdout",
     "output_type": "stream",
     "text": [
      "Optimization terminated successfully.\n",
      "         Current function value: 0.323724\n",
      "         Iterations 7\n"
     ]
    },
    {
     "data": {
      "text/html": [
       "<table class=\"simpletable\">\n",
       "<caption>Logit Regression Results</caption>\n",
       "<tr>\n",
       "  <th>Dep. Variable:</th>    <td>avgrate_bin</td>   <th>  No. Observations:  </th>  <td>   147</td>  \n",
       "</tr>\n",
       "<tr>\n",
       "  <th>Model:</th>               <td>Logit</td>      <th>  Df Residuals:      </th>  <td>   137</td>  \n",
       "</tr>\n",
       "<tr>\n",
       "  <th>Method:</th>               <td>MLE</td>       <th>  Df Model:          </th>  <td>     9</td>  \n",
       "</tr>\n",
       "<tr>\n",
       "  <th>Date:</th>          <td>Mon, 05 Feb 2018</td> <th>  Pseudo R-squ.:     </th>  <td>0.4102</td>  \n",
       "</tr>\n",
       "<tr>\n",
       "  <th>Time:</th>              <td>13:08:29</td>     <th>  Log-Likelihood:    </th> <td> -47.587</td> \n",
       "</tr>\n",
       "<tr>\n",
       "  <th>converged:</th>           <td>True</td>       <th>  LL-Null:           </th> <td> -80.685</td> \n",
       "</tr>\n",
       "<tr>\n",
       "  <th> </th>                      <td> </td>        <th>  LLR p-value:       </th> <td>8.446e-11</td>\n",
       "</tr>\n",
       "</table>\n",
       "<table class=\"simpletable\">\n",
       "<tr>\n",
       "         <td></td>           <th>coef</th>     <th>std err</th>      <th>z</th>      <th>P>|z|</th>  <th>[0.025</th>    <th>0.975]</th>  \n",
       "</tr>\n",
       "<tr>\n",
       "  <th>const</th>          <td>    8.3839</td> <td>    4.973</td> <td>    1.686</td> <td> 0.092</td> <td>   -1.362</td> <td>   18.130</td>\n",
       "</tr>\n",
       "<tr>\n",
       "  <th>numstores</th>      <td>   -0.2436</td> <td>    0.045</td> <td>   -5.375</td> <td> 0.000</td> <td>   -0.332</td> <td>   -0.155</td>\n",
       "</tr>\n",
       "<tr>\n",
       "  <th>defrate</th>        <td>    0.0927</td> <td>    0.036</td> <td>    2.595</td> <td> 0.009</td> <td>    0.023</td> <td>    0.163</td>\n",
       "</tr>\n",
       "<tr>\n",
       "  <th>totrad3</th>        <td>   -0.0099</td> <td>    0.029</td> <td>   -0.340</td> <td> 0.734</td> <td>   -0.067</td> <td>    0.047</td>\n",
       "</tr>\n",
       "<tr>\n",
       "  <th>unrt_zip</th>       <td>    0.1030</td> <td>    0.190</td> <td>    0.543</td> <td> 0.587</td> <td>   -0.269</td> <td>    0.475</td>\n",
       "</tr>\n",
       "<tr>\n",
       "  <th>medtotinc2010</th>  <td> 8.685e-05</td> <td> 6.86e-05</td> <td>    1.265</td> <td> 0.206</td> <td>-4.77e-05</td> <td>    0.000</td>\n",
       "</tr>\n",
       "<tr>\n",
       "  <th>edbachplus_zip</th> <td>   -0.0642</td> <td>    0.038</td> <td>   -1.692</td> <td> 0.091</td> <td>   -0.138</td> <td>    0.010</td>\n",
       "</tr>\n",
       "<tr>\n",
       "  <th>pop_zip</th>        <td>-1.238e-05</td> <td> 2.32e-05</td> <td>   -0.534</td> <td> 0.593</td> <td>-5.78e-05</td> <td>  3.3e-05</td>\n",
       "</tr>\n",
       "<tr>\n",
       "  <th>mdage_zip</th>      <td>   -0.1737</td> <td>    0.125</td> <td>   -1.385</td> <td> 0.166</td> <td>   -0.419</td> <td>    0.072</td>\n",
       "</tr>\n",
       "<tr>\n",
       "  <th>pctblk2_zip</th>    <td>    0.1186</td> <td>    0.338</td> <td>    0.350</td> <td> 0.726</td> <td>   -0.545</td> <td>    0.782</td>\n",
       "</tr>\n",
       "</table>"
      ],
      "text/plain": [
       "<class 'statsmodels.iolib.summary.Summary'>\n",
       "\"\"\"\n",
       "                           Logit Regression Results                           \n",
       "==============================================================================\n",
       "Dep. Variable:            avgrate_bin   No. Observations:                  147\n",
       "Model:                          Logit   Df Residuals:                      137\n",
       "Method:                           MLE   Df Model:                            9\n",
       "Date:                Mon, 05 Feb 2018   Pseudo R-squ.:                  0.4102\n",
       "Time:                        13:08:29   Log-Likelihood:                -47.587\n",
       "converged:                       True   LL-Null:                       -80.685\n",
       "                                        LLR p-value:                 8.446e-11\n",
       "==================================================================================\n",
       "                     coef    std err          z      P>|z|      [0.025      0.975]\n",
       "----------------------------------------------------------------------------------\n",
       "const              8.3839      4.973      1.686      0.092      -1.362      18.130\n",
       "numstores         -0.2436      0.045     -5.375      0.000      -0.332      -0.155\n",
       "defrate            0.0927      0.036      2.595      0.009       0.023       0.163\n",
       "totrad3           -0.0099      0.029     -0.340      0.734      -0.067       0.047\n",
       "unrt_zip           0.1030      0.190      0.543      0.587      -0.269       0.475\n",
       "medtotinc2010   8.685e-05   6.86e-05      1.265      0.206   -4.77e-05       0.000\n",
       "edbachplus_zip    -0.0642      0.038     -1.692      0.091      -0.138       0.010\n",
       "pop_zip        -1.238e-05   2.32e-05     -0.534      0.593   -5.78e-05     3.3e-05\n",
       "mdage_zip         -0.1737      0.125     -1.385      0.166      -0.419       0.072\n",
       "pctblk2_zip        0.1186      0.338      0.350      0.726      -0.545       0.782\n",
       "==================================================================================\n",
       "\"\"\""
      ]
     },
     "execution_count": 132,
     "metadata": {},
     "output_type": "execute_result"
    }
   ],
   "source": [
    "LogitModel = sm.Logit(y, X)\n",
    "LogitReg_sm = LogitModel.fit()\n",
    "LogitReg_sm.summary()"
   ]
  },
  {
   "cell_type": "markdown",
   "metadata": {},
   "source": [
    "Significant at 5% level: numstores (-), defrate (+)."
   ]
  },
  {
   "cell_type": "code",
=======
>>>>>>> 31e9dbd1517089b2fc5269e16fa82210f961a4a9
   "execution_count": null,
   "metadata": {
    "collapsed": true
   },
   "outputs": [],
   "source": []
  }
 ],
 "metadata": {
  "kernelspec": {
   "display_name": "Python 3",
   "language": "python",
   "name": "python3"
  },
  "language_info": {
   "codemirror_mode": {
    "name": "ipython",
    "version": 3
   },
   "file_extension": ".py",
   "mimetype": "text/x-python",
   "name": "python",
   "nbconvert_exporter": "python",
   "pygments_lexer": "ipython3",
   "version": "3.6.3"
  }
 },
 "nbformat": 4,
 "nbformat_minor": 2
}
