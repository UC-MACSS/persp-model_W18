{
 "cells": [
  {
   "cell_type": "markdown",
   "metadata": {},
   "source": [
    "# Midterm (MACS 30100), February 5, 2018\n",
    "### Xiuyuan Zhang\n",
    "You will have an hour and thirty minutes to take this exam.\n",
    "1. Put your name in the space provided above (without the brackets).\n",
    "2. Download this notebook and accompanying data `LenderDataLong.dta`.\n",
    "3. The class will disconnect their wi-fi and begin taking the exam.\n",
    "4. The exam is open computer, closed internet, open note.\n",
    "5. Once you are done, you will signal to a TA or instructor to come over and monitor while you reconnect to the internet and upload your edited notebook to Canvas.\n",
    "\n",
    "Remember that you must clearly indicate your answers to all questions below. We will give partial credit for partially correct answers. The midterm is worth 20 points (2 problem sets)."
   ]
  },
  {
   "cell_type": "markdown",
   "metadata": {},
   "source": [
    "## The data\n",
    "This two exercises of this midterm and all their respective subparts will use the `LenderData.csv` dataset, which contains observations of characteristics on short-term, high interest rate, lender information. You are not to use this data outside of this class. It is a jittered and randomized version of a dataset used in a published research paper.\n",
    "\n",
    "Each observation contains characteristics of a particular lender location Read it into Python using the `pandas.read_csv()` command. The variables are the following:\n",
    "\n",
    "* `avgrate`: average annualized interest rate of all loans in percentage points (235 = two hundred and thirty five percent)\n",
    "* `numstores`: number of other stores owned by the same owner (measure of size)\n",
    "* `defrate`: default rate on loans from that store during 2010\n",
    "* `pdrad3`: number of payday lenders within a three-mile radius of the store (measure of competition)\n",
    "* `pnrad3`: number of pawn lenders within a three-mile radius of the store (measure of competition)\n",
    "* `totrad3`: total number of other lenders within a three-mile radius of the store (measure of competition)\n",
    "* `unrt_zip`: unemployment rate in the zip code of the store\n",
    "* `medtotinc2010`: median total household income in the zip code of the store\n",
    "* `edbachplus_zip`: average education level in years of schooling of heads of household in the zip code of the store\n",
    "* `pop_zip`: population in zip code of the store\n",
    "* `mdage_zip`: median age (in years) in zip code of the store\n",
    "* `pctblk2_zip`: percent of the population that is black in the zip code of the store in percentage points (2.2=two point two percent)"
   ]
  },
  {
   "cell_type": "code",
   "execution_count": 137,
   "metadata": {},
   "outputs": [],
   "source": [
    "# import Python liberaries\n",
    "import numpy as np\n",
    "import numpy.linalg as lin\n",
    "\n",
    "import scipy\n",
    "import scipy.stats as sts\n",
    "import scipy.optimize as opt\n",
    "import scipy.integrate as intgr\n",
    "\n",
    "import matplotlib as mpl\n",
    "import matplotlib.pyplot as plt\n",
    "import seaborn as sns\n",
    "\n",
    "import pandas as pd\n",
    "from pandas.plotting import scatter_matrix\n",
    "\n",
    "import sklearn as sk\n",
    "from sklearn import neighbors\n",
    "from sklearn.cross_validation import train_test_split\n",
    "from sklearn.linear_model import LogisticRegression\n",
    "from sklearn.metrics import confusion_matrix, classification_report\n",
    "\n",
    "import statsmodels.api as sm\n",
    "\n",
    "%matplotlib inline"
   ]
  },
  {
   "cell_type": "code",
   "execution_count": 138,
   "metadata": {},
   "outputs": [],
   "source": [
    "# Read in the data\n",
    "data_lender = pd.read_csv(\"LenderData.csv\")"
   ]
  },
  {
   "cell_type": "code",
   "execution_count": 139,
   "metadata": {},
   "outputs": [
    {
     "data": {
      "text/html": [
       "<div>\n",
       "<style scoped>\n",
       "    .dataframe tbody tr th:only-of-type {\n",
       "        vertical-align: middle;\n",
       "    }\n",
       "\n",
       "    .dataframe tbody tr th {\n",
       "        vertical-align: top;\n",
       "    }\n",
       "\n",
       "    .dataframe thead th {\n",
       "        text-align: right;\n",
       "    }\n",
       "</style>\n",
       "<table border=\"1\" class=\"dataframe\">\n",
       "  <thead>\n",
       "    <tr style=\"text-align: right;\">\n",
       "      <th></th>\n",
       "      <th>avgrate</th>\n",
       "      <th>numstores</th>\n",
       "      <th>defrate</th>\n",
       "      <th>pdrad3</th>\n",
       "      <th>pnrad3</th>\n",
       "      <th>totrad3</th>\n",
       "      <th>unrt_zip</th>\n",
       "      <th>medtotinc2010</th>\n",
       "      <th>edbachplus_zip</th>\n",
       "      <th>pop_zip</th>\n",
       "      <th>mdage_zip</th>\n",
       "      <th>pctblk2_zip</th>\n",
       "    </tr>\n",
       "  </thead>\n",
       "  <tbody>\n",
       "    <tr>\n",
       "      <th>0</th>\n",
       "      <td>521.429993</td>\n",
       "      <td>23</td>\n",
       "      <td>24.390244</td>\n",
       "      <td>7</td>\n",
       "      <td>3</td>\n",
       "      <td>12</td>\n",
       "      <td>5.7</td>\n",
       "      <td>38485.44531</td>\n",
       "      <td>40.2</td>\n",
       "      <td>44821</td>\n",
       "      <td>33.6</td>\n",
       "      <td>1.0</td>\n",
       "    </tr>\n",
       "    <tr>\n",
       "      <th>1</th>\n",
       "      <td>521.429993</td>\n",
       "      <td>23</td>\n",
       "      <td>38.596489</td>\n",
       "      <td>15</td>\n",
       "      <td>2</td>\n",
       "      <td>18</td>\n",
       "      <td>7.1</td>\n",
       "      <td>31289.11133</td>\n",
       "      <td>14.1</td>\n",
       "      <td>68295</td>\n",
       "      <td>29.2</td>\n",
       "      <td>2.2</td>\n",
       "    </tr>\n",
       "    <tr>\n",
       "      <th>2</th>\n",
       "      <td>521.429993</td>\n",
       "      <td>23</td>\n",
       "      <td>38.954868</td>\n",
       "      <td>6</td>\n",
       "      <td>3</td>\n",
       "      <td>11</td>\n",
       "      <td>7.1</td>\n",
       "      <td>31289.11133</td>\n",
       "      <td>14.1</td>\n",
       "      <td>68295</td>\n",
       "      <td>29.2</td>\n",
       "      <td>2.2</td>\n",
       "    </tr>\n",
       "    <tr>\n",
       "      <th>3</th>\n",
       "      <td>521.429993</td>\n",
       "      <td>23</td>\n",
       "      <td>27.352297</td>\n",
       "      <td>28</td>\n",
       "      <td>29</td>\n",
       "      <td>58</td>\n",
       "      <td>9.2</td>\n",
       "      <td>31421.22266</td>\n",
       "      <td>11.3</td>\n",
       "      <td>26524</td>\n",
       "      <td>28.5</td>\n",
       "      <td>1.4</td>\n",
       "    </tr>\n",
       "    <tr>\n",
       "      <th>4</th>\n",
       "      <td>521.429993</td>\n",
       "      <td>23</td>\n",
       "      <td>30.055660</td>\n",
       "      <td>22</td>\n",
       "      <td>17</td>\n",
       "      <td>42</td>\n",
       "      <td>7.5</td>\n",
       "      <td>27502.00000</td>\n",
       "      <td>22.3</td>\n",
       "      <td>28936</td>\n",
       "      <td>30.8</td>\n",
       "      <td>2.7</td>\n",
       "    </tr>\n",
       "  </tbody>\n",
       "</table>\n",
       "</div>"
      ],
      "text/plain": [
       "      avgrate  numstores    defrate  pdrad3  pnrad3  totrad3  unrt_zip  \\\n",
       "0  521.429993         23  24.390244       7       3       12       5.7   \n",
       "1  521.429993         23  38.596489      15       2       18       7.1   \n",
       "2  521.429993         23  38.954868       6       3       11       7.1   \n",
       "3  521.429993         23  27.352297      28      29       58       9.2   \n",
       "4  521.429993         23  30.055660      22      17       42       7.5   \n",
       "\n",
       "   medtotinc2010  edbachplus_zip  pop_zip  mdage_zip  pctblk2_zip  \n",
       "0    38485.44531            40.2    44821       33.6          1.0  \n",
       "1    31289.11133            14.1    68295       29.2          2.2  \n",
       "2    31289.11133            14.1    68295       29.2          2.2  \n",
       "3    31421.22266            11.3    26524       28.5          1.4  \n",
       "4    27502.00000            22.3    28936       30.8          2.7  "
      ]
     },
     "execution_count": 139,
     "metadata": {},
     "output_type": "execute_result"
    }
   ],
   "source": [
    "data_lender.head()"
   ]
  },
  {
   "cell_type": "markdown",
   "metadata": {},
   "source": [
    "## 1. Using the distributions of interest rates and median income (10 points)"
   ]
  },
  {
   "cell_type": "markdown",
   "metadata": {},
   "source": [
    "1A) [2 points] Create a plot of the histogram of high interest rate lenders interest rates `avgrate`. Use 30 bins. Make sure to label your axes and give the figure a title. If you had to group lenders into $N$ categories, how many categories would you choose based on the interest rate data? That is, how many groupings to you see in these data?"
   ]
  },
  {
   "cell_type": "code",
   "execution_count": 140,
   "metadata": {},
   "outputs": [
    {
     "data": {
      "image/png": "[encoded data removed]",
      "text/plain": [
       "<matplotlib.figure.Figure at 0x10c72e438>"
      ]
     },
     "metadata": {},
     "output_type": "display_data"
    },
    {
     "name": "stdout",
     "output_type": "stream",
     "text": [
      "1A: I would group the lenders into three categories, since the histogram shows the data to be multimodal and have three differentpeaks around 400, 450 and 525. Thus, I will group the data according to these three clusters.\n"
     ]
    }
   ],
   "source": [
    "# plot the histogram\n",
    "plt.hist(data_lender[\"avgrate\"], bins = 30, edgecolor ='black', normed = True)\n",
    "plt.xlim(min(data_lender[\"avgrate\"]), max(data_lender[\"avgrate\"]))\n",
    "\n",
    "plt.title('Average Annualized Interest Rate of All Loans in Percentage Points')\n",
    "plt.ylabel('Density')\n",
    "plt.xlabel('Interest Rate in Percentage Points')\n",
    "plt.grid(True)\n",
    "\n",
    "plt.show()\n",
    "\n",
    "print(\"1A: I would group the lenders into three categories, since the histogram shows the data to be multimodal and have three different\" +\n",
    "      \"peaks around 400, 450 and 525. Thus, I will group the data according to these three clusters.\")"
   ]
  },
  {
   "cell_type": "markdown",
   "metadata": {},
   "source": [
    "1B) [1 point] Create a plot of the histogram of median total household income `medtotinc2010`. Use 30 bins. Make sure to label your axes and give the figure a title."
   ]
  },
  {
   "cell_type": "code",
   "execution_count": 141,
   "metadata": {},
   "outputs": [
    {
     "data": {
      "image/png": "[encoded data removed]",
      "text/plain": [
       "<matplotlib.figure.Figure at 0x10c5efda0>"
      ]
     },
     "metadata": {},
     "output_type": "display_data"
    }
   ],
   "source": [
    "# plot the histogram\n",
    "plt.hist(data_lender[\"medtotinc2010\"], bins = 30, edgecolor ='black', normed = True)\n",
    "plt.xlim(min(data_lender[\"medtotinc2010\"]), max(data_lender[\"medtotinc2010\"]))\n",
    "\n",
    "plt.title('Median Total Household Income')\n",
    "plt.ylabel('Density')\n",
    "plt.xlabel('Median Income $')\n",
    "plt.grid(True)\n",
    "\n",
    "plt.show()"
   ]
  },
  {
   "cell_type": "markdown",
   "metadata": {},
   "source": [
    "1C) [5 points] Use maximum likelihood estimation to fit a lognormal distribution $LN(\\mu, \\sigma)$ to the median income data `medtotinc2010`. Report your estimated $\\hat{\\mu}_{mle}$ and $\\hat{\\sigma}_{mle}$ as well as the likelihood function value at the maximum (not the negative log likelihood). Report your estimate of the variance-covariance matrix of your maximum likelihood estimates of $\\hat{\\mu}_{mle}$ and $\\hat{\\sigma}_{mle}$. Report the standard error on the estimate for $\\hat{\\mu}_{mle}$."
   ]
  },
  {
   "cell_type": "code",
   "execution_count": 142,
   "metadata": {},
   "outputs": [],
   "source": [
    "# write functions\n",
    "def calculate_pdf(xvals, mu, sigma):\n",
    "    '''\n",
    "    Calculate log normal distribution.\n",
    "    \n",
    "    Inputs: xvals(numpy array)\n",
    "            mu (float): mean\n",
    "            sigma (float): standard deviation\n",
    "            \n",
    "    Returns: pdf_vals(numpy array)\n",
    "    '''\n",
    "    prob_notcut = 1.0 - sts.norm.cdf(0, loc=mu, scale=sigma)\n",
    "            \n",
    "    pdf_vals = ((1/(xvals * sigma * np.sqrt(2 * np.pi)) *\n",
    "                np.exp( - (np.log(xvals) - mu)**2 / (2 * sigma**2))) /\n",
    "                prob_notcut)\n",
    "    \n",
    "    return pdf_vals\n",
    "\n",
    "def calculate_log_lik(xvals, mu, sigma):\n",
    "    '''\n",
    "    Calculate log likelihood.\n",
    "    \n",
    "    Inputs: xvals(numpy array)\n",
    "            mu(float): mean\n",
    "            sigma(float): standard deviation\n",
    "    Returns: log_pdf_vals(float)\n",
    "    '''\n",
    "       \n",
    "    pdf_vals = calculate_pdf(xvals, mu, sigma)\n",
    "    log_pdf_vals = np.log(pdf_vals).sum()\n",
    "        \n",
    "    return log_pdf_vals\n",
    "\n",
    "def crit(params, data):\n",
    "    '''\n",
    "    Computes the negative of the log likelihood function\n",
    "    given parameters and data for minimization.\n",
    "    \n",
    "    Inputs: params(list): two floats, mu and sigma\n",
    "            data\n",
    "    Returns: neg_log_lik_val(float)\n",
    "    '''\n",
    "    mu, sigma = params\n",
    "    log_lik_val = calculate_log_lik(data, mu, sigma)\n",
    "    neg_log_lik_val = -log_lik_val\n",
    "    \n",
    "    return neg_log_lik_val\n"
   ]
  },
  {
   "cell_type": "code",
   "execution_count": 143,
   "metadata": {},
   "outputs": [
    {
     "name": "stdout",
     "output_type": "stream",
     "text": [
      "The ML estimates for mu is 10.3773800497 and for sigma is 0.199499395601\n",
      "\n",
      "The value of the likelihood function is -1497.10300889\n",
      "\n",
      "The variance-covariance matrix is [[  2.59981524e-04  -7.69592181e-06]\n",
      " [ -7.69592181e-06   1.28943995e-04]]\n",
      "Standard error for mu estimate =  0.0161239425589\n"
     ]
    }
   ],
   "source": [
    "params_init = np.array([11, 0.5])\n",
    "results = opt.minimize(crit, params_init, data_lender[\"medtotinc2010\"], method='L-BFGS-B',\n",
    "                       bounds = ((0.1, None), (0.1, None)))\n",
    "mu_MLE, sig_MLE = results.x\n",
    "log_lik_val = calculate_log_lik(data_lender[\"medtotinc2010\"], mu_MLE, sig_MLE)\n",
    "\n",
    "OffDiagNeg = np.array([[1, -1], [-1, 1]])\n",
    "vcv_mle = results.hess_inv.todense() * OffDiagNeg\n",
    "\n",
    "stderr_mu_mle = np.sqrt(vcv_mle[0,0])\n",
    "stderr_sig_mle = np.sqrt(vcv_mle[1,1])\n",
    "\n",
    "print('The ML estimates for mu is', mu_MLE, 'and for sigma is', sig_MLE)\n",
    "print('')\n",
    "print('The value of the likelihood function is', log_lik_val)\n",
    "print('')\n",
    "print('The variance-covariance matrix is', vcv_mle)\n",
    "print('Standard error for mu estimate = ', stderr_mu_mle)"
   ]
  },
  {
   "cell_type": "markdown",
   "metadata": {},
   "source": [
    "1D) [2 points] Plot the predicted distribution from your maximum likelihood estimates $\\hat{\\mu}_{mle}$ and $\\hat{\\sigma}_{mle}$ against the histogram of the data."
   ]
  },
  {
   "cell_type": "markdown",
   "metadata": {},
   "source": [
    "## 2. Determinants of lender interest rates (10 points)"
   ]
  },
  {
   "cell_type": "markdown",
   "metadata": {},
   "source": [
    "2A) [3 points] Assume a simple regression model of four factors that influence the interest rates that a lender charges, namely, number of stores, default rate in the area, unemployment rate in the area, and median household income in the area.\n",
    "\n",
    "$$ avgrate_i = \\beta_0 + \\beta_1 numstores_i + \\beta_2 defrate_i + \\beta_3 unrt_zip_i + \\beta_4 medtotinc2010_i + u_i $$\n",
    "\n",
    "Estimate this model by OLS using the `statsmodels.api` package. Don't forget to include a constant. Print your results summary. Which variables are significant at the 5-percent level? How would you interpret in words the estimated coefficient on `numstores`?"
   ]
  },
  {
   "cell_type": "code",
   "execution_count": 144,
   "metadata": {
    "scrolled": false
   },
   "outputs": [
    {
     "name": "stdout",
     "output_type": "stream",
     "text": [
      "                            OLS Regression Results                            \n",
      "==============================================================================\n",
      "Dep. Variable:                avgrate   R-squared:                       0.110\n",
      "Model:                            OLS   Adj. R-squared:                  0.085\n",
      "Method:                 Least Squares   F-statistic:                     4.375\n",
      "Date:                Mon, 05 Feb 2018   Prob (F-statistic):            0.00229\n",
      "Time:                        13:09:44   Log-Likelihood:                -812.28\n",
      "No. Observations:                 147   AIC:                             1635.\n",
      "Df Residuals:                     142   BIC:                             1650.\n",
      "Df Model:                           4                                         \n",
      "Covariance Type:            nonrobust                                         \n",
      "=================================================================================\n",
      "                    coef    std err          t      P>|t|      [0.025      0.975]\n",
      "---------------------------------------------------------------------------------\n",
      "constant        453.4117     51.263      8.845      0.000     352.075     554.748\n",
      "numstores        -2.6278      0.672     -3.911      0.000      -3.956      -1.300\n",
      "defrate           0.9717      0.574      1.694      0.093      -0.162       2.106\n",
      "unrt_zip          2.9650      3.187      0.930      0.354      -3.335       9.265\n",
      "medtotinc2010     0.0015      0.001      1.526      0.129      -0.000       0.003\n",
      "==============================================================================\n",
      "Omnibus:                        5.028   Durbin-Watson:                   0.366\n",
      "Prob(Omnibus):                  0.081   Jarque-Bera (JB):                3.262\n",
      "Skew:                          -0.189   Prob(JB):                        0.196\n",
      "Kurtosis:                       2.375   Cond. No.                     3.37e+05\n",
      "==============================================================================\n",
      "\n",
      "Warnings:\n",
      "[1] Standard Errors assume that the covariance matrix of the errors is correctly specified.\n",
      "[2] The condition number is large, 3.37e+05. This might indicate that there are\n",
      "strong multicollinearity or other numerical problems.\n"
     ]
    }
   ],
   "source": [
    "data_lender[\"constant\"] = 1\n",
    "\n",
    "reg_avg = sm.OLS(endog = data_lender.avgrate, exog = data_lender[['constant', 'numstores', 'defrate',\n",
    "                                                                    'unrt_zip', 'medtotinc2010']], missing = 'drop')\n",
    "results_avg = reg_avg.fit()\n",
    "print(results_avg.summary())\n"
   ]
  },
  {
   "cell_type": "markdown",
   "metadata": {},
   "source": [
    "2A Answer: The variables $numstores$ and the $constant$ are significant at the 5% level. The $numstores$ has a p-value of 0.000 and the $constant$ also has a p-value of 0.000. The estimated coefficient for $numstores$ is -2.6278. This value suggests that a positive increase of $numstores$ negatively influence the variable $avgrate$. An increase of 1 in $numstores$ lead to a -2.6278 decrease in $avgrate$."
   ]
  },
  {
   "cell_type": "markdown",
   "metadata": {},
   "source": [
    "2B) [4 points] Now assume a richer model for the determinants of lender interest rates, which includes the following measures of competition and other demographic variables.\n",
    "\n",
    "$$ avgrate_i = \\beta_0 + \\beta_1 numstores_i + \\beta_2 defrate_i + \\beta_3 unrt_zip_i + \\beta_4 medtotinc2010_i + ... $$\n",
    "$$ \\qquad\\qquad\\qquad\\qquad \\beta_5 totrad3_i + \\beta_6 edbachplus\\_zip_i + \\beta_7 pop\\_zip_i + \\beta_8 mdage\\_zip_i + \\beta_9 pctblk2\\_zip_i + u_i $$\n",
    "\n",
    "Estimate this regression by OLS using the `statsmodels.api` package. In controlling for these new varaibles, do any of the originally estimated coefficients from the model in part (2A) become statistically not significant (at the 5 percent level)? Of these new coefficients ($\\beta_5$ through $\\beta_9$), which one(s) are the most statistically significant?"
   ]
  },
  {
   "cell_type": "code",
   "execution_count": 145,
   "metadata": {},
   "outputs": [
    {
     "name": "stdout",
     "output_type": "stream",
     "text": [
      "                            OLS Regression Results                            \n",
      "==============================================================================\n",
      "Dep. Variable:                avgrate   R-squared:                       0.158\n",
      "Model:                            OLS   Adj. R-squared:                  0.102\n",
      "Method:                 Least Squares   F-statistic:                     2.846\n",
      "Date:                Mon, 05 Feb 2018   Prob (F-statistic):            0.00419\n",
      "Time:                        13:09:48   Log-Likelihood:                -808.23\n",
      "No. Observations:                 147   AIC:                             1636.\n",
      "Df Residuals:                     137   BIC:                             1666.\n",
      "Df Model:                           9                                         \n",
      "Covariance Type:            nonrobust                                         \n",
      "==================================================================================\n",
      "                     coef    std err          t      P>|t|      [0.025      0.975]\n",
      "----------------------------------------------------------------------------------\n",
      "constant         613.9741     85.491      7.182      0.000     444.921     783.027\n",
      "numstores         -2.4303      0.680     -3.574      0.000      -3.775      -1.086\n",
      "defrate            0.8094      0.585      1.384      0.168      -0.347       1.966\n",
      "unrt_zip          -0.3055      3.521     -0.087      0.931      -7.268       6.657\n",
      "medtotinc2010      0.0010      0.001      0.843      0.401      -0.001       0.003\n",
      "totrad3           -0.6991      0.527     -1.326      0.187      -1.741       0.343\n",
      "edbachplus_zip    -1.3219      0.660     -2.004      0.047      -2.626      -0.018\n",
      "pop_zip           -0.0006      0.000     -1.539      0.126      -0.001       0.000\n",
      "mdage_zip         -1.8352      2.234     -0.821      0.413      -6.253       2.583\n",
      "pctblk2_zip        2.3541      5.981      0.394      0.694      -9.473      14.181\n",
      "==============================================================================\n",
      "Omnibus:                        2.316   Durbin-Watson:                   0.443\n",
      "Prob(Omnibus):                  0.314   Jarque-Bera (JB):                2.014\n",
      "Skew:                          -0.174   Prob(JB):                        0.365\n",
      "Kurtosis:                       2.543   Cond. No.                     8.56e+05\n",
      "==============================================================================\n",
      "\n",
      "Warnings:\n",
      "[1] Standard Errors assume that the covariance matrix of the errors is correctly specified.\n",
      "[2] The condition number is large, 8.56e+05. This might indicate that there are\n",
      "strong multicollinearity or other numerical problems.\n"
     ]
    }
   ],
   "source": [
    "reg_avg_rich = sm.OLS(endog = data_lender.avgrate, exog = data_lender[['constant', 'numstores', 'defrate',\n",
    "                                                                    'unrt_zip', 'medtotinc2010', 'totrad3',\n",
    "                                                                 'edbachplus_zip', 'pop_zip', 'mdage_zip',\n",
    "                                                                 'pctblk2_zip']], missing = 'drop')\n",
    "results_avg_rich = reg_avg_rich.fit()\n",
    "print(results_avg_rich.summary())"
   ]
  },
  {
   "cell_type": "markdown",
   "metadata": {},
   "source": [
    "**2B Answer: ** No, in this new estimation, the $numstores$ variable is still statistically significant with a p-value of 0.000. Of the new varianbles added, variable $edbachplus_zip$ is the most statistically significant with a p-vale of 0.047."
   ]
  },
  {
   "cell_type": "markdown",
   "metadata": {},
   "source": [
    "2C) [3 points] Create a new binary variable called `avgrate_high` that equals 1 if `avgrate` > 490, and equals 0 otherwise. Estimate a logistic regression using the `statsmodels.api` package. Let $X\\beta$ be the linear coefficients and variables from the model from part (2B).\n",
    "\n",
    "$$ Pr(avgrate\\_high=1|X\\beta) = \\frac{X\\beta}{1 + X\\beta} $$\n",
    "\n",
    "Report the variables whose coefficients are estimated to be significant at the 5-percent level."
   ]
  },
  {
   "cell_type": "code",
   "execution_count": 146,
   "metadata": {
    "scrolled": true
   },
   "outputs": [
    {
     "data": {
      "text/html": [
       "<div>\n",
       "<style scoped>\n",
       "    .dataframe tbody tr th:only-of-type {\n",
       "        vertical-align: middle;\n",
       "    }\n",
       "\n",
       "    .dataframe tbody tr th {\n",
       "        vertical-align: top;\n",
       "    }\n",
       "\n",
       "    .dataframe thead th {\n",
       "        text-align: right;\n",
       "    }\n",
       "</style>\n",
       "<table border=\"1\" class=\"dataframe\">\n",
       "  <thead>\n",
       "    <tr style=\"text-align: right;\">\n",
       "      <th></th>\n",
       "      <th>avgrate</th>\n",
       "      <th>numstores</th>\n",
       "      <th>defrate</th>\n",
       "      <th>pdrad3</th>\n",
       "      <th>pnrad3</th>\n",
       "      <th>totrad3</th>\n",
       "      <th>unrt_zip</th>\n",
       "      <th>medtotinc2010</th>\n",
       "      <th>edbachplus_zip</th>\n",
       "      <th>pop_zip</th>\n",
       "      <th>mdage_zip</th>\n",
       "      <th>pctblk2_zip</th>\n",
       "      <th>constant</th>\n",
       "      <th>avgrate_high</th>\n",
       "    </tr>\n",
       "  </thead>\n",
       "  <tbody>\n",
       "    <tr>\n",
       "      <th>0</th>\n",
       "      <td>521.429993</td>\n",
       "      <td>23</td>\n",
       "      <td>24.390244</td>\n",
       "      <td>7</td>\n",
       "      <td>3</td>\n",
       "      <td>12</td>\n",
       "      <td>5.7</td>\n",
       "      <td>38485.44531</td>\n",
       "      <td>40.2</td>\n",
       "      <td>44821</td>\n",
       "      <td>33.6</td>\n",
       "      <td>1.0</td>\n",
       "      <td>1</td>\n",
       "      <td>1</td>\n",
       "    </tr>\n",
       "    <tr>\n",
       "      <th>1</th>\n",
       "      <td>521.429993</td>\n",
       "      <td>23</td>\n",
       "      <td>38.596489</td>\n",
       "      <td>15</td>\n",
       "      <td>2</td>\n",
       "      <td>18</td>\n",
       "      <td>7.1</td>\n",
       "      <td>31289.11133</td>\n",
       "      <td>14.1</td>\n",
       "      <td>68295</td>\n",
       "      <td>29.2</td>\n",
       "      <td>2.2</td>\n",
       "      <td>1</td>\n",
       "      <td>1</td>\n",
       "    </tr>\n",
       "    <tr>\n",
       "      <th>2</th>\n",
       "      <td>521.429993</td>\n",
       "      <td>23</td>\n",
       "      <td>38.954868</td>\n",
       "      <td>6</td>\n",
       "      <td>3</td>\n",
       "      <td>11</td>\n",
       "      <td>7.1</td>\n",
       "      <td>31289.11133</td>\n",
       "      <td>14.1</td>\n",
       "      <td>68295</td>\n",
       "      <td>29.2</td>\n",
       "      <td>2.2</td>\n",
       "      <td>1</td>\n",
       "      <td>1</td>\n",
       "    </tr>\n",
       "    <tr>\n",
       "      <th>3</th>\n",
       "      <td>521.429993</td>\n",
       "      <td>23</td>\n",
       "      <td>27.352297</td>\n",
       "      <td>28</td>\n",
       "      <td>29</td>\n",
       "      <td>58</td>\n",
       "      <td>9.2</td>\n",
       "      <td>31421.22266</td>\n",
       "      <td>11.3</td>\n",
       "      <td>26524</td>\n",
       "      <td>28.5</td>\n",
       "      <td>1.4</td>\n",
       "      <td>1</td>\n",
       "      <td>1</td>\n",
       "    </tr>\n",
       "    <tr>\n",
       "      <th>4</th>\n",
       "      <td>521.429993</td>\n",
       "      <td>23</td>\n",
       "      <td>30.055660</td>\n",
       "      <td>22</td>\n",
       "      <td>17</td>\n",
       "      <td>42</td>\n",
       "      <td>7.5</td>\n",
       "      <td>27502.00000</td>\n",
       "      <td>22.3</td>\n",
       "      <td>28936</td>\n",
       "      <td>30.8</td>\n",
       "      <td>2.7</td>\n",
       "      <td>1</td>\n",
       "      <td>1</td>\n",
       "    </tr>\n",
       "  </tbody>\n",
       "</table>\n",
       "</div>"
      ],
      "text/plain": [
       "      avgrate  numstores    defrate  pdrad3  pnrad3  totrad3  unrt_zip  \\\n",
       "0  521.429993         23  24.390244       7       3       12       5.7   \n",
       "1  521.429993         23  38.596489      15       2       18       7.1   \n",
       "2  521.429993         23  38.954868       6       3       11       7.1   \n",
       "3  521.429993         23  27.352297      28      29       58       9.2   \n",
       "4  521.429993         23  30.055660      22      17       42       7.5   \n",
       "\n",
       "   medtotinc2010  edbachplus_zip  pop_zip  mdage_zip  pctblk2_zip  constant  \\\n",
       "0    38485.44531            40.2    44821       33.6          1.0         1   \n",
       "1    31289.11133            14.1    68295       29.2          2.2         1   \n",
       "2    31289.11133            14.1    68295       29.2          2.2         1   \n",
       "3    31421.22266            11.3    26524       28.5          1.4         1   \n",
       "4    27502.00000            22.3    28936       30.8          2.7         1   \n",
       "\n",
       "   avgrate_high  \n",
       "0             1  \n",
       "1             1  \n",
       "2             1  \n",
       "3             1  \n",
       "4             1  "
      ]
     },
     "execution_count": 146,
     "metadata": {},
     "output_type": "execute_result"
    }
   ],
   "source": [
    "data_lender['avgrate_high'] = data_lender['avgrate'].apply(lambda x: 1 if x >= 425 else 0)\n",
    "data_lender.head()"
   ]
  },
  {
   "cell_type": "code",
   "execution_count": 147,
   "metadata": {},
   "outputs": [
    {
     "name": "stdout",
     "output_type": "stream",
     "text": [
      "Optimization terminated successfully.\n",
      "         Current function value: 0.324112\n",
      "         Iterations 7\n",
      "                           Logit Regression Results                           \n",
      "==============================================================================\n",
      "Dep. Variable:           avgrate_high   No. Observations:                  147\n",
      "Model:                          Logit   Df Residuals:                      138\n",
      "Method:                           MLE   Df Model:                            8\n",
      "Date:                Mon, 05 Feb 2018   Pseudo R-squ.:                  0.4095\n",
      "Time:                        13:09:53   Log-Likelihood:                -47.644\n",
      "converged:                       True   LL-Null:                       -80.685\n",
      "                                        LLR p-value:                 2.950e-11\n",
      "==================================================================================\n",
      "                     coef    std err          z      P>|z|      [0.025      0.975]\n",
      "----------------------------------------------------------------------------------\n",
      "constant           8.2300      4.933      1.668      0.095      -1.439      17.899\n",
      "numstores         -0.2449      0.045     -5.415      0.000      -0.334      -0.156\n",
      "defrate            0.0926      0.036      2.605      0.009       0.023       0.162\n",
      "unrt_zip           0.1181      0.185      0.638      0.523      -0.245       0.481\n",
      "medtotinc2010   9.697e-05   6.21e-05      1.561      0.118   -2.48e-05       0.000\n",
      "edbachplus_zip    -0.0641      0.038     -1.702      0.089      -0.138       0.010\n",
      "pop_zip        -1.274e-05   2.29e-05     -0.555      0.579   -5.77e-05    3.22e-05\n",
      "mdage_zip         -0.1863      0.120     -1.551      0.121      -0.422       0.049\n",
      "pctblk2_zip        0.0651      0.296      0.220      0.826      -0.514       0.644\n",
      "==================================================================================\n"
     ]
    }
   ],
   "source": [
    "logit_reg = sm.Logit(data_lender['avgrate_high'], data_lender[['constant', 'numstores', 'defrate',\n",
    "                                                                'unrt_zip', 'medtotinc2010','edbachplus_zip', 'pop_zip', \n",
    "                                                               'mdage_zip','pctblk2_zip']], missing = \"drop\")\n",
    "results_logit = logit_reg.fit()\n",
    "print(results_logit.summary())"
   ]
  },
  {
   "cell_type": "markdown",
   "metadata": {},
   "source": [
    "**2 C Answer:** The variables $numstores$ and $defrate$ are statistically significant with p-value of 0.000 and 0.009 at the 5-percent level."
   ]
  }
 ],
 "metadata": {
  "kernelspec": {
   "display_name": "Python 3",
   "language": "python",
   "name": "python3"
  },
  "language_info": {
   "codemirror_mode": {
    "name": "ipython",
    "version": 3
   },
   "file_extension": ".py",
   "mimetype": "text/x-python",
   "name": "python",
   "nbconvert_exporter": "python",
   "pygments_lexer": "ipython3",
   "version": "3.6.3"
  }
 },
 "nbformat": 4,
 "nbformat_minor": 2
}
