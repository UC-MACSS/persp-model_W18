{
 "cells": [
  {
   "cell_type": "markdown",
   "metadata": {},
   "source": [
    "# Midterm (MACS 30100), February 5, 2018\n",
    "### Zhiyu Fu\n",
    "You will have an hour and thirty minutes to take this exam.\n",
    "1. Put your name in the space provided above (without the brackets).\n",
    "2. Download this notebook and accompanying data `LenderDataLong.dta`.\n",
    "3. The class will disconnect their wi-fi and begin taking the exam.\n",
    "4. The exam is open computer, closed internet, open note.\n",
    "5. Once you are done, you will signal to a TA or instructor to come over and monitor while you reconnect to the internet and upload your edited notebook to Canvas.\n",
    "\n",
    "Remember that you must clearly indicate your answers to all questions below. We will give partial credit for partially correct answers. The midterm is worth 20 points (2 problem sets)."
   ]
  },
  {
   "cell_type": "markdown",
   "metadata": {},
   "source": [
    "## The data\n",
    "This two exercises of this midterm and all their respective subparts will use the `LenderData.csv` dataset, which contains observations of characteristics on short-term, high interest rate, lender information. You are not to use this data outside of this class. It is a jittered and randomized version of a dataset used in a published research paper.\n",
    "\n",
    "Each observation contains characteristics of a particular lender location Read it into Python using the `pandas.read_csv()` command. The variables are the following:\n",
    "\n",
    "* `avgrate`: average annualized interest rate of all loans in percentage points (235 = two hundred and thirty five percent)\n",
    "* `numstores`: number of other stores owned by the same owner (measure of size)\n",
    "* `defrate`: default rate on loans from that store during 2010\n",
    "* `pdrad3`: number of payday lenders within a three-mile radius of the store (measure of competition)\n",
    "* `pnrad3`: number of pawn lenders within a three-mile radius of the store (measure of competition)\n",
    "* `totrad3`: total number of other lenders within a three-mile radius of the store (measure of competition)\n",
    "* `unrt_zip`: unemployment rate in the zip code of the store\n",
    "* `medtotinc2010`: median total household income in the zip code of the store\n",
    "* `edbachplus_zip`: average education level in years of schooling of heads of household in the zip code of the store\n",
    "* `pop_zip`: population in zip code of the store\n",
    "* `mdage_zip`: median age (in years) in zip code of the store\n",
    "* `pctblk2_zip`: percent of the population that is black in the zip code of the store in percentage points (2.2=two point two percent)"
   ]
  },
  {
   "cell_type": "code",
<<<<<<< HEAD
   "execution_count": 1,
   "metadata": {},
   "outputs": [
    {
     "name": "stderr",
     "output_type": "stream",
     "text": [
      "/anaconda/lib/python3.6/site-packages/statsmodels/compat/pandas.py:56: FutureWarning: The pandas.core.datetools module is deprecated and will be removed in a future version. Please use the pandas.tseries module instead.\n",
      "  from pandas.core import datetools\n"
     ]
    }
   ],
=======
   "execution_count": 75,
   "metadata": {
    "collapsed": true
   },
   "outputs": [],
>>>>>>> master
   "source": [
    "import numpy as np\n",
    "import matplotlib.pyplot as plt\n",
    "import pandas as pd\n",
    "import scipy.stats as sts\n",
    "from scipy.optimize import minimize\n",
    "import pdb\n",
    "from matplotlib import rc\n",
    "import statsmodels.api as sm\n",
    "rc('text', usetex=True)"
   ]
  },
  {
   "cell_type": "code",
   "execution_count": 2,
   "metadata": {},
   "outputs": [
    {
     "data": {
      "text/html": [
       "<div>\n",
       "<style>\n",
       "    .dataframe thead tr:only-child th {\n",
       "        text-align: right;\n",
       "    }\n",
       "\n",
       "    .dataframe thead th {\n",
       "        text-align: left;\n",
       "    }\n",
       "\n",
       "    .dataframe tbody tr th {\n",
       "        vertical-align: top;\n",
       "    }\n",
       "</style>\n",
       "<table border=\"1\" class=\"dataframe\">\n",
       "  <thead>\n",
       "    <tr style=\"text-align: right;\">\n",
       "      <th></th>\n",
       "      <th>avgrate</th>\n",
       "      <th>numstores</th>\n",
       "      <th>defrate</th>\n",
       "      <th>pdrad3</th>\n",
       "      <th>pnrad3</th>\n",
       "      <th>totrad3</th>\n",
       "      <th>unrt_zip</th>\n",
       "      <th>medtotinc2010</th>\n",
       "      <th>edbachplus_zip</th>\n",
       "      <th>pop_zip</th>\n",
       "      <th>mdage_zip</th>\n",
       "      <th>pctblk2_zip</th>\n",
       "    </tr>\n",
       "  </thead>\n",
       "  <tbody>\n",
       "    <tr>\n",
       "      <th>0</th>\n",
       "      <td>521.429993</td>\n",
       "      <td>23</td>\n",
       "      <td>24.390244</td>\n",
       "      <td>7</td>\n",
       "      <td>3</td>\n",
       "      <td>12</td>\n",
       "      <td>5.7</td>\n",
       "      <td>38485.44531</td>\n",
       "      <td>40.2</td>\n",
       "      <td>44821</td>\n",
       "      <td>33.6</td>\n",
       "      <td>1.0</td>\n",
       "    </tr>\n",
       "    <tr>\n",
       "      <th>1</th>\n",
       "      <td>521.429993</td>\n",
       "      <td>23</td>\n",
       "      <td>38.596489</td>\n",
       "      <td>15</td>\n",
       "      <td>2</td>\n",
       "      <td>18</td>\n",
       "      <td>7.1</td>\n",
       "      <td>31289.11133</td>\n",
       "      <td>14.1</td>\n",
       "      <td>68295</td>\n",
       "      <td>29.2</td>\n",
       "      <td>2.2</td>\n",
       "    </tr>\n",
       "    <tr>\n",
       "      <th>2</th>\n",
       "      <td>521.429993</td>\n",
       "      <td>23</td>\n",
       "      <td>38.954868</td>\n",
       "      <td>6</td>\n",
       "      <td>3</td>\n",
       "      <td>11</td>\n",
       "      <td>7.1</td>\n",
       "      <td>31289.11133</td>\n",
       "      <td>14.1</td>\n",
       "      <td>68295</td>\n",
       "      <td>29.2</td>\n",
       "      <td>2.2</td>\n",
       "    </tr>\n",
       "    <tr>\n",
       "      <th>3</th>\n",
       "      <td>521.429993</td>\n",
       "      <td>23</td>\n",
       "      <td>27.352297</td>\n",
       "      <td>28</td>\n",
       "      <td>29</td>\n",
       "      <td>58</td>\n",
       "      <td>9.2</td>\n",
       "      <td>31421.22266</td>\n",
       "      <td>11.3</td>\n",
       "      <td>26524</td>\n",
       "      <td>28.5</td>\n",
       "      <td>1.4</td>\n",
       "    </tr>\n",
       "    <tr>\n",
       "      <th>4</th>\n",
       "      <td>521.429993</td>\n",
       "      <td>23</td>\n",
       "      <td>30.055660</td>\n",
       "      <td>22</td>\n",
       "      <td>17</td>\n",
       "      <td>42</td>\n",
       "      <td>7.5</td>\n",
       "      <td>27502.00000</td>\n",
       "      <td>22.3</td>\n",
       "      <td>28936</td>\n",
       "      <td>30.8</td>\n",
       "      <td>2.7</td>\n",
       "    </tr>\n",
       "  </tbody>\n",
       "</table>\n",
       "</div>"
      ],
      "text/plain": [
       "      avgrate  numstores    defrate  pdrad3  pnrad3  totrad3  unrt_zip  \\\n",
       "0  521.429993         23  24.390244       7       3       12       5.7   \n",
       "1  521.429993         23  38.596489      15       2       18       7.1   \n",
       "2  521.429993         23  38.954868       6       3       11       7.1   \n",
       "3  521.429993         23  27.352297      28      29       58       9.2   \n",
       "4  521.429993         23  30.055660      22      17       42       7.5   \n",
       "\n",
       "   medtotinc2010  edbachplus_zip  pop_zip  mdage_zip  pctblk2_zip  \n",
       "0    38485.44531            40.2    44821       33.6          1.0  \n",
       "1    31289.11133            14.1    68295       29.2          2.2  \n",
       "2    31289.11133            14.1    68295       29.2          2.2  \n",
       "3    31421.22266            11.3    26524       28.5          1.4  \n",
       "4    27502.00000            22.3    28936       30.8          2.7  "
      ]
     },
     "execution_count": 2,
     "metadata": {},
     "output_type": "execute_result"
    }
   ],
   "source": [
    "ld = pd.read_csv(\"LenderData.csv\")\n",
    "ld.head()\n",
    "# Read in the data"
   ]
  },
  {
   "cell_type": "markdown",
   "metadata": {},
   "source": [
    "## 1. Using the distributions of interest rates and median income (10 points)"
   ]
  },
  {
   "cell_type": "markdown",
   "metadata": {},
   "source": [
    "1A) [2 points] Create a plot of the histogram of high interest rate lenders interest rates `avgrate`. Use 30 bins. Make sure to label your axes and give the figure a title. If you had to group lenders into $N$ categories, how many categories would you choose based on the interest rate data? That is, how many groupings to you see in these data?"
   ]
  },
  {
   "cell_type": "code",
<<<<<<< HEAD
   "execution_count": 3,
   "metadata": {},
   "outputs": [
    {
     "data": {
      "image/png": "iVBORw0KGgoAAAANSUhEUgAAAYsAAAESCAYAAAAMifkAAAAABHNCSVQICAgIfAhkiAAAAAlwSFlz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\nKdcMdzvweboAAAAASUVORK5CYII=\n",
      "text/plain": [
       "<matplotlib.figure.Figure at 0x1c10bd0c88>"
      ]
     },
     "execution_count": 3,
     "metadata": {},
     "output_type": "execute_result"
    }
   ],
   "source": [
    "fig, ax = plt.subplots()\n",
    "ax.hist(ld.avgrate, bins = 30, normed = True, edgecolor = \"Black\")\n",
    "ax.set(xlabel = \"Average Annualized Interest Rate\", \n",
    "       ylabel = \"Density\", \n",
    "       title = \"Distribution of Average Annualized Interest Rate\")\n",
    "fig"
   ]
  },
  {
   "cell_type": "markdown",
   "metadata": {},
   "source": [
    "**Answer**\n",
    "\n",
    "There is clearly pattern of three categories shown in the histogram."
   ]
=======
   "execution_count": null,
   "metadata": {
    "collapsed": true
   },
   "outputs": [],
   "source": []
>>>>>>> master
  },
  {
   "cell_type": "markdown",
   "metadata": {},
   "source": [
    "1B) [1 point] Create a plot of the histogram of median total household income `medtotinc2010`. Use 30 bins. Make sure to label your axes and give the figure a title."
   ]
  },
  {
   "cell_type": "code",
<<<<<<< HEAD
   "execution_count": 4,
   "metadata": {},
   "outputs": [
    {
     "data": {
      "image/png": "iVBORw0KGgoAAAANSUhEUgAAAZUAAAESCAYAAAA17khbAAAABHNCSVQICAgIfAhkiAAAAAlwSFlz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\n2LNQjNgAAAAASUVORK5CYII=\n",
      "text/plain": [
       "<matplotlib.figure.Figure at 0x1c10c9fb38>"
      ]
     },
     "execution_count": 4,
     "metadata": {},
     "output_type": "execute_result"
    }
   ],
   "source": [
    "fig2, ax = plt.subplots()\n",
    "ax.hist(ld.medtotinc2010, bins = 30, normed = True, edgecolor = \"Black\")\n",
    "ax.set(xlabel = \"Median Total Household Income\", \n",
    "       ylabel = \"Density\", \n",
    "       title = \"Distribution of Median Total Household Income\")\n",
    "fig2"
   ]
=======
   "execution_count": null,
   "metadata": {
    "collapsed": true
   },
   "outputs": [],
   "source": []
>>>>>>> master
  },
  {
   "cell_type": "markdown",
   "metadata": {},
   "source": [
    "1C) [5 points] Use maximum likelihood estimation to fit a lognormal distribution $LN(\\mu, \\sigma)$ to the median income data `medtotinc2010`. Report your estimated $\\hat{\\mu}_{mle}$ and $\\hat{\\sigma}_{mle}$ as well as the likelihood function value at the maximum (not the negative log likelihood). Report your estimate of the variance-covariance matrix of your maximum likelihood estimates of $\\hat{\\mu}_{mle}$ and $\\hat{\\sigma}_{mle}$. Report the standard error on the estimate for $\\hat{\\mu}_{mle}$."
   ]
  },
  {
   "cell_type": "code",
   "execution_count": 5,
   "metadata": {
    "collapsed": true
   },
   "outputs": [],
   "source": [
    "class Random_Variable:\n",
    "    def log_lik(self, dt, param = None):\n",
    "        return np.sum(np.log(self.pdf(dt, param)))\n",
    "    \n",
    "    def param_array(self):\n",
    "        pass\n",
    "    \n",
    "    def pdf(self, x, param = None):\n",
    "        pass\n",
    "    \n",
    "    def MLE(self, dt, bounds = None):\n",
    "        def crit(param):\n",
    "            return -self.log_lik(dt, param)\n",
    "        return minimize(crit, self.param_array(), method='L-BFGS-B', bounds = bounds)\n",
    "    \n",
    "    def cdf_integral(self, x):\n",
    "        return integrate.quad(lambda x: self.pdf(x, param), 0, x)\n",
    "        \n",
    "\n",
    "class Log_Normal(Random_Variable):\n",
    "    def __init__(self, mu, sigma):\n",
    "        self.mu  = mu\n",
    "        self.sigma = sigma\n",
    "    \n",
    "    def param_array(self):\n",
    "        return np.array([self.mu, self.sigma])\n",
    "    \n",
    "    def pdf(self, x, param = None):\n",
    "        if param is None:\n",
    "            sigma = self.sigma\n",
    "            mu = self.mu\n",
    "            sigma2 = sigma ** 2\n",
    "        else:\n",
    "            mu, sigma = param\n",
    "            sigma2 = sigma ** 2\n",
    "        return 1/x/sigma/np.sqrt(2*np.pi) * np.exp(-(np.log(x)-mu)**2/2/sigma2)\n",
    "    \n",
    "    def cdf(self, x, param = None):\n",
    "        if param is None:\n",
    "            sigma = self.sigma\n",
    "            mu = self.mu\n",
    "        else:\n",
    "            mu, sigma = param\n",
    "        return sts.norm.cdf((np.log(x) - mu)/sigma)"
   ]
  },
  {
   "cell_type": "code",
   "execution_count": 6,
   "metadata": {},
   "outputs": [],
   "source": [
    "lognormal = Log_Normal(10,0.3)\n",
    "mle_res = lognormal.MLE(ld.medtotinc2010, bounds = ((None, None), (1e-2,None)))"
   ]
  },
  {
   "cell_type": "markdown",
   "metadata": {},
   "source": [
    "**Answer**"
   ]
  },
  {
   "cell_type": "code",
   "execution_count": 7,
   "metadata": {
    "scrolled": true
   },
   "outputs": [
    {
     "name": "stdout",
     "output_type": "stream",
     "text": [
      "mu_MLE = 10.377379516789539, sigma_MLE = 0.19949930100870225, Log Likelihood = -1497.1030088870978\n",
      "VCV is:\n",
      "[[  4.33920437e-03  -1.02925102e-06]\n",
      " [ -1.02925102e-06   1.35735078e-04]]\n",
      "Standard Error for mu is: 0.06587263751270057\n"
     ]
    }
   ],
   "source": [
    "print(\"mu_MLE = {}, sigma_MLE = {}, Log Likelihood = {}\".format(mle_res.x[0], mle_res.x[1], -mle_res.fun))\n",
    "OffDiagNeg = np.array([[1, -1], [-1, 1]])\n",
    "VCV = mle_res.hess_inv.todense() * OffDiagNeg\n",
    "print(\"VCV is:\")\n",
    "print(VCV)\n",
    "print(\"Standard Error for mu is: {}\".format(np.sqrt(VCV[0][0])))"
   ]
  },
  {
   "cell_type": "code",
   "execution_count": 14,
   "metadata": {},
   "outputs": [
    {
     "data": {
      "text/plain": [
       "0.0"
      ]
     },
     "execution_count": 14,
     "metadata": {},
     "output_type": "execute_result"
    }
   ],
   "source": [
    "np.exp(-mle_res.fun)"
   ]
  },
  {
   "cell_type": "markdown",
   "metadata": {},
   "source": [
    "1D) [2 points] Plot the predicted distribution from your maximum likelihood estimates $\\hat{\\mu}_{mle}$ and $\\hat{\\sigma}_{mle}$ against the histogram of the data."
   ]
  },
  {
   "cell_type": "code",
<<<<<<< HEAD
   "execution_count": 8,
   "metadata": {},
   "outputs": [
    {
     "data": {
      "image/png": "iVBORw0KGgoAAAANSUhEUgAAAZUAAAESCAYAAAA17khbAAAABHNCSVQICAgIfAhkiAAAAAlwSFlz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\nuQAAAABJRU5ErkJggg==\n",
      "text/plain": [
       "<matplotlib.figure.Figure at 0x1c145097b8>"
      ]
     },
     "execution_count": 8,
     "metadata": {},
     "output_type": "execute_result"
    }
   ],
   "source": [
    "lognormal.mu, lognormal.sigma = mle_res.x\n",
    "fig, ax = plt.subplots()\n",
    "ax.hist(ld.medtotinc2010, bins = 30, normed = True, edgecolor = \"Black\")\n",
    "ax.set(xlabel = \"Median Total Household Income\", \n",
    "       ylabel = \"Density\", \n",
    "       title = \"Distribution of Median Total Household Income\")\n",
    "xval = np.linspace(10000, 60000, num = 1000)\n",
    "yval = lognormal.pdf(xval)\n",
    "ax.plot(xval, yval, label = \"(MLE) $\\mu = {}, \\sigma = {}$\".format(mle_res.x[0].round(2), mle_res.x[1].round(4)))\n",
    "ax.legend(loc = \"best\")\n",
    "fig"
   ]
=======
   "execution_count": null,
   "metadata": {
    "collapsed": true
   },
   "outputs": [],
   "source": []
>>>>>>> master
  },
  {
   "cell_type": "markdown",
   "metadata": {},
   "source": [
    "## 2. Determinants of lender interest rates (10 points)"
   ]
  },
  {
   "cell_type": "markdown",
   "metadata": {},
   "source": [
    "2A) [3 points] Assume a simple regression model of four factors that influence the interest rates that a lender charges, namely, number of stores, default rate in the area, unemployment rate in the area, and median household income in the area.\n",
    "\n",
    "$$ avgrate_i = \\beta_0 + \\beta_1 numstores_i + \\beta_2 defrate_i + \\beta_3 unrt_zip_i + \\beta_4 medtotinc2010_i + u_i $$\n",
    "\n",
    "Estimate this model by OLS using the `statsmodels.api` package. Don't forget to include a constant. Print your results summary. Which variables are significant at the 5-percent level? How would you interpret in words the estimated coefficient on `numstores`?"
   ]
  },
  {
   "cell_type": "code",
<<<<<<< HEAD
   "execution_count": 9,
   "metadata": {},
=======
   "execution_count": null,
   "metadata": {
    "collapsed": true
   },
>>>>>>> master
   "outputs": [],
   "source": [
    "X = ld.loc[:,[\"numstores\", \"defrate\", \"unrt_zip\", \"medtotinc2010\"]]\n",
    "X.loc[:,\"const\"] = np.ones((X.shape[0]))"
   ]
  },
  {
   "cell_type": "code",
   "execution_count": 10,
   "metadata": {},
   "outputs": [
    {
     "data": {
      "text/html": [
       "<table class=\"simpletable\">\n",
       "<caption>OLS Regression Results</caption>\n",
       "<tr>\n",
       "  <th>Dep. Variable:</th>         <td>avgrate</td>     <th>  R-squared:         </th> <td>   0.110</td>\n",
       "</tr>\n",
       "<tr>\n",
       "  <th>Model:</th>                   <td>OLS</td>       <th>  Adj. R-squared:    </th> <td>   0.085</td>\n",
       "</tr>\n",
       "<tr>\n",
       "  <th>Method:</th>             <td>Least Squares</td>  <th>  F-statistic:       </th> <td>   4.375</td>\n",
       "</tr>\n",
       "<tr>\n",
       "  <th>Date:</th>             <td>Mon, 05 Feb 2018</td> <th>  Prob (F-statistic):</th>  <td>0.00229</td>\n",
       "</tr>\n",
       "<tr>\n",
       "  <th>Time:</th>                 <td>14:17:41</td>     <th>  Log-Likelihood:    </th> <td> -812.28</td>\n",
       "</tr>\n",
       "<tr>\n",
       "  <th>No. Observations:</th>      <td>   147</td>      <th>  AIC:               </th> <td>   1635.</td>\n",
       "</tr>\n",
       "<tr>\n",
       "  <th>Df Residuals:</th>          <td>   142</td>      <th>  BIC:               </th> <td>   1650.</td>\n",
       "</tr>\n",
       "<tr>\n",
       "  <th>Df Model:</th>              <td>     4</td>      <th>                     </th>     <td> </td>   \n",
       "</tr>\n",
       "<tr>\n",
       "  <th>Covariance Type:</th>      <td>nonrobust</td>    <th>                     </th>     <td> </td>   \n",
       "</tr>\n",
       "</table>\n",
       "<table class=\"simpletable\">\n",
       "<tr>\n",
       "        <td></td>           <th>coef</th>     <th>std err</th>      <th>t</th>      <th>P>|t|</th>  <th>[0.025</th>    <th>0.975]</th>  \n",
       "</tr>\n",
       "<tr>\n",
       "  <th>numstores</th>     <td>   -2.6278</td> <td>    0.672</td> <td>   -3.911</td> <td> 0.000</td> <td>   -3.956</td> <td>   -1.300</td>\n",
       "</tr>\n",
       "<tr>\n",
       "  <th>defrate</th>       <td>    0.9717</td> <td>    0.574</td> <td>    1.694</td> <td> 0.093</td> <td>   -0.162</td> <td>    2.106</td>\n",
       "</tr>\n",
       "<tr>\n",
       "  <th>unrt_zip</th>      <td>    2.9650</td> <td>    3.187</td> <td>    0.930</td> <td> 0.354</td> <td>   -3.335</td> <td>    9.265</td>\n",
       "</tr>\n",
       "<tr>\n",
       "  <th>medtotinc2010</th> <td>    0.0015</td> <td>    0.001</td> <td>    1.526</td> <td> 0.129</td> <td>   -0.000</td> <td>    0.003</td>\n",
       "</tr>\n",
       "<tr>\n",
       "  <th>const</th>         <td>  453.4117</td> <td>   51.263</td> <td>    8.845</td> <td> 0.000</td> <td>  352.075</td> <td>  554.748</td>\n",
       "</tr>\n",
       "</table>\n",
       "<table class=\"simpletable\">\n",
       "<tr>\n",
       "  <th>Omnibus:</th>       <td> 5.028</td> <th>  Durbin-Watson:     </th> <td>   0.366</td>\n",
       "</tr>\n",
       "<tr>\n",
       "  <th>Prob(Omnibus):</th> <td> 0.081</td> <th>  Jarque-Bera (JB):  </th> <td>   3.262</td>\n",
       "</tr>\n",
       "<tr>\n",
       "  <th>Skew:</th>          <td>-0.189</td> <th>  Prob(JB):          </th> <td>   0.196</td>\n",
       "</tr>\n",
       "<tr>\n",
       "  <th>Kurtosis:</th>      <td> 2.375</td> <th>  Cond. No.          </th> <td>3.37e+05</td>\n",
       "</tr>\n",
       "</table>"
      ],
      "text/plain": [
       "<class 'statsmodels.iolib.summary.Summary'>\n",
       "\"\"\"\n",
       "                            OLS Regression Results                            \n",
       "==============================================================================\n",
       "Dep. Variable:                avgrate   R-squared:                       0.110\n",
       "Model:                            OLS   Adj. R-squared:                  0.085\n",
       "Method:                 Least Squares   F-statistic:                     4.375\n",
       "Date:                Mon, 05 Feb 2018   Prob (F-statistic):            0.00229\n",
       "Time:                        14:17:41   Log-Likelihood:                -812.28\n",
       "No. Observations:                 147   AIC:                             1635.\n",
       "Df Residuals:                     142   BIC:                             1650.\n",
       "Df Model:                           4                                         \n",
       "Covariance Type:            nonrobust                                         \n",
       "=================================================================================\n",
       "                    coef    std err          t      P>|t|      [0.025      0.975]\n",
       "---------------------------------------------------------------------------------\n",
       "numstores        -2.6278      0.672     -3.911      0.000      -3.956      -1.300\n",
       "defrate           0.9717      0.574      1.694      0.093      -0.162       2.106\n",
       "unrt_zip          2.9650      3.187      0.930      0.354      -3.335       9.265\n",
       "medtotinc2010     0.0015      0.001      1.526      0.129      -0.000       0.003\n",
       "const           453.4117     51.263      8.845      0.000     352.075     554.748\n",
       "==============================================================================\n",
       "Omnibus:                        5.028   Durbin-Watson:                   0.366\n",
       "Prob(Omnibus):                  0.081   Jarque-Bera (JB):                3.262\n",
       "Skew:                          -0.189   Prob(JB):                        0.196\n",
       "Kurtosis:                       2.375   Cond. No.                     3.37e+05\n",
       "==============================================================================\n",
       "\n",
       "Warnings:\n",
       "[1] Standard Errors assume that the covariance matrix of the errors is correctly specified.\n",
       "[2] The condition number is large, 3.37e+05. This might indicate that there are\n",
       "strong multicollinearity or other numerical problems.\n",
       "\"\"\""
      ]
     },
     "execution_count": 10,
     "metadata": {},
     "output_type": "execute_result"
    }
   ],
   "source": [
    "ols_res = sm.OLS(ld.avgrate, X, missing = \"drop\").fit()\n",
    "ols_res.summary()"
   ]
  },
  {
   "cell_type": "markdown",
   "metadata": {},
   "source": [
    "**Answer**\n",
    "\n",
    "Numstores is the only variable that is significant at 5% level.\n",
    "\n",
    "The annualized interest rate significantly ($p<0.001$) decreases in 2.6278 for every more stores the owner owns."
   ]
  },
  {
   "cell_type": "markdown",
   "metadata": {},
   "source": [
    "2B) [4 points] Now assume a richer model for the determinants of lender interest rates, which includes the following measures of competition and other demographic variables.\n",
    "\n",
    "$$ avgrate_i = \\beta_0 + \\beta_1 numstores_i + \\beta_2 defrate_i + \\beta_3 unrt_zip_i + \\beta_4 medtotinc2010_i + ... $$\n",
    "$$ \\qquad\\qquad\\qquad\\qquad \\beta_5 totrad3_i + \\beta_6 edbachplus\\_zip_i + \\beta_7 pop\\_zip_i + \\beta_8 mdage\\_zip_i + \\beta_9 pctblk2\\_zip_i + u_i $$\n",
    "\n",
    "Estimate this regression by OLS using the `statsmodels.api` package. In controlling for these new varaibles, do any of the originally estimated coefficients from the model in part (2A) become statistically not significant (at the 5 percent level)? Of these new coefficients ($\\beta_5$ through $\\beta_9$), which one(s) are the most statistically significant?"
   ]
  },
  {
   "cell_type": "code",
<<<<<<< HEAD
   "execution_count": 11,
   "metadata": {},
   "outputs": [
    {
     "data": {
      "text/html": [
       "<table class=\"simpletable\">\n",
       "<caption>OLS Regression Results</caption>\n",
       "<tr>\n",
       "  <th>Dep. Variable:</th>         <td>avgrate</td>     <th>  R-squared:         </th> <td>   0.158</td>\n",
       "</tr>\n",
       "<tr>\n",
       "  <th>Model:</th>                   <td>OLS</td>       <th>  Adj. R-squared:    </th> <td>   0.102</td>\n",
       "</tr>\n",
       "<tr>\n",
       "  <th>Method:</th>             <td>Least Squares</td>  <th>  F-statistic:       </th> <td>   2.846</td>\n",
       "</tr>\n",
       "<tr>\n",
       "  <th>Date:</th>             <td>Mon, 05 Feb 2018</td> <th>  Prob (F-statistic):</th>  <td>0.00419</td>\n",
       "</tr>\n",
       "<tr>\n",
       "  <th>Time:</th>                 <td>14:17:41</td>     <th>  Log-Likelihood:    </th> <td> -808.23</td>\n",
       "</tr>\n",
       "<tr>\n",
       "  <th>No. Observations:</th>      <td>   147</td>      <th>  AIC:               </th> <td>   1636.</td>\n",
       "</tr>\n",
       "<tr>\n",
       "  <th>Df Residuals:</th>          <td>   137</td>      <th>  BIC:               </th> <td>   1666.</td>\n",
       "</tr>\n",
       "<tr>\n",
       "  <th>Df Model:</th>              <td>     9</td>      <th>                     </th>     <td> </td>   \n",
       "</tr>\n",
       "<tr>\n",
       "  <th>Covariance Type:</th>      <td>nonrobust</td>    <th>                     </th>     <td> </td>   \n",
       "</tr>\n",
       "</table>\n",
       "<table class=\"simpletable\">\n",
       "<tr>\n",
       "         <td></td>           <th>coef</th>     <th>std err</th>      <th>t</th>      <th>P>|t|</th>  <th>[0.025</th>    <th>0.975]</th>  \n",
       "</tr>\n",
       "<tr>\n",
       "  <th>numstores</th>      <td>   -2.4303</td> <td>    0.680</td> <td>   -3.574</td> <td> 0.000</td> <td>   -3.775</td> <td>   -1.086</td>\n",
       "</tr>\n",
       "<tr>\n",
       "  <th>defrate</th>        <td>    0.8094</td> <td>    0.585</td> <td>    1.384</td> <td> 0.168</td> <td>   -0.347</td> <td>    1.966</td>\n",
       "</tr>\n",
       "<tr>\n",
       "  <th>unrt_zip</th>       <td>   -0.3055</td> <td>    3.521</td> <td>   -0.087</td> <td> 0.931</td> <td>   -7.268</td> <td>    6.657</td>\n",
       "</tr>\n",
       "<tr>\n",
       "  <th>medtotinc2010</th>  <td>    0.0010</td> <td>    0.001</td> <td>    0.843</td> <td> 0.401</td> <td>   -0.001</td> <td>    0.003</td>\n",
       "</tr>\n",
       "<tr>\n",
       "  <th>const</th>          <td>  613.9741</td> <td>   85.491</td> <td>    7.182</td> <td> 0.000</td> <td>  444.921</td> <td>  783.027</td>\n",
       "</tr>\n",
       "<tr>\n",
       "  <th>totrad3</th>        <td>   -0.6991</td> <td>    0.527</td> <td>   -1.326</td> <td> 0.187</td> <td>   -1.741</td> <td>    0.343</td>\n",
       "</tr>\n",
       "<tr>\n",
       "  <th>edbachplus_zip</th> <td>   -1.3219</td> <td>    0.660</td> <td>   -2.004</td> <td> 0.047</td> <td>   -2.626</td> <td>   -0.018</td>\n",
       "</tr>\n",
       "<tr>\n",
       "  <th>pop_zip</th>        <td>   -0.0006</td> <td>    0.000</td> <td>   -1.539</td> <td> 0.126</td> <td>   -0.001</td> <td>    0.000</td>\n",
       "</tr>\n",
       "<tr>\n",
       "  <th>mdage_zip</th>      <td>   -1.8352</td> <td>    2.234</td> <td>   -0.821</td> <td> 0.413</td> <td>   -6.253</td> <td>    2.583</td>\n",
       "</tr>\n",
       "<tr>\n",
       "  <th>pctblk2_zip</th>    <td>    2.3541</td> <td>    5.981</td> <td>    0.394</td> <td> 0.694</td> <td>   -9.473</td> <td>   14.181</td>\n",
       "</tr>\n",
       "</table>\n",
       "<table class=\"simpletable\">\n",
       "<tr>\n",
       "  <th>Omnibus:</th>       <td> 2.316</td> <th>  Durbin-Watson:     </th> <td>   0.443</td>\n",
       "</tr>\n",
       "<tr>\n",
       "  <th>Prob(Omnibus):</th> <td> 0.314</td> <th>  Jarque-Bera (JB):  </th> <td>   2.014</td>\n",
       "</tr>\n",
       "<tr>\n",
       "  <th>Skew:</th>          <td>-0.174</td> <th>  Prob(JB):          </th> <td>   0.365</td>\n",
       "</tr>\n",
       "<tr>\n",
       "  <th>Kurtosis:</th>      <td> 2.543</td> <th>  Cond. No.          </th> <td>8.56e+05</td>\n",
       "</tr>\n",
       "</table>"
      ],
      "text/plain": [
       "<class 'statsmodels.iolib.summary.Summary'>\n",
       "\"\"\"\n",
       "                            OLS Regression Results                            \n",
       "==============================================================================\n",
       "Dep. Variable:                avgrate   R-squared:                       0.158\n",
       "Model:                            OLS   Adj. R-squared:                  0.102\n",
       "Method:                 Least Squares   F-statistic:                     2.846\n",
       "Date:                Mon, 05 Feb 2018   Prob (F-statistic):            0.00419\n",
       "Time:                        14:17:41   Log-Likelihood:                -808.23\n",
       "No. Observations:                 147   AIC:                             1636.\n",
       "Df Residuals:                     137   BIC:                             1666.\n",
       "Df Model:                           9                                         \n",
       "Covariance Type:            nonrobust                                         \n",
       "==================================================================================\n",
       "                     coef    std err          t      P>|t|      [0.025      0.975]\n",
       "----------------------------------------------------------------------------------\n",
       "numstores         -2.4303      0.680     -3.574      0.000      -3.775      -1.086\n",
       "defrate            0.8094      0.585      1.384      0.168      -0.347       1.966\n",
       "unrt_zip          -0.3055      3.521     -0.087      0.931      -7.268       6.657\n",
       "medtotinc2010      0.0010      0.001      0.843      0.401      -0.001       0.003\n",
       "const            613.9741     85.491      7.182      0.000     444.921     783.027\n",
       "totrad3           -0.6991      0.527     -1.326      0.187      -1.741       0.343\n",
       "edbachplus_zip    -1.3219      0.660     -2.004      0.047      -2.626      -0.018\n",
       "pop_zip           -0.0006      0.000     -1.539      0.126      -0.001       0.000\n",
       "mdage_zip         -1.8352      2.234     -0.821      0.413      -6.253       2.583\n",
       "pctblk2_zip        2.3541      5.981      0.394      0.694      -9.473      14.181\n",
       "==============================================================================\n",
       "Omnibus:                        2.316   Durbin-Watson:                   0.443\n",
       "Prob(Omnibus):                  0.314   Jarque-Bera (JB):                2.014\n",
       "Skew:                          -0.174   Prob(JB):                        0.365\n",
       "Kurtosis:                       2.543   Cond. No.                     8.56e+05\n",
       "==============================================================================\n",
       "\n",
       "Warnings:\n",
       "[1] Standard Errors assume that the covariance matrix of the errors is correctly specified.\n",
       "[2] The condition number is large, 8.56e+05. This might indicate that there are\n",
       "strong multicollinearity or other numerical problems.\n",
       "\"\"\""
      ]
     },
     "execution_count": 11,
     "metadata": {},
     "output_type": "execute_result"
    }
   ],
   "source": [
    "X2 = pd.concat((X, ld.loc[:, [\"totrad3\", \"edbachplus_zip\", \"pop_zip\", \"mdage_zip\", \"pctblk2_zip\"]]), axis = 1)\n",
    "ols_res2 = sm.OLS(ld.avgrate, X2, missing = \"drop\").fit()\n",
    "ols_res2.summary()"
   ]
  },
  {
   "cell_type": "markdown",
   "metadata": {},
   "source": [
    "**Answer**\n",
    "1. No. Numstores is still significant.\n",
    "2. Of those new variables, edbachplus_zip (average education level in years of schooling of heads of household) is the only one that is statistically significant at 5% level."
   ]
=======
   "execution_count": null,
   "metadata": {
    "collapsed": true
   },
   "outputs": [],
   "source": []
>>>>>>> master
  },
  {
   "cell_type": "markdown",
   "metadata": {},
   "source": [
    "2C) [3 points] Create a new binary variable called `avgrate_high` that equals 1 if `avgrate` > 425, and equals 0 otherwise. Estimate a logistic regression using the `statsmodels.api` package. Let $X\\beta$ be the following linear coefficients and variables.\n",
    "\n",
    "$$ Pr(avgrate\\_high=1|X\\beta) = \\frac{e^{X\\beta}}{1 + e^{X\\beta}} $$\n",
    "\n",
    "where\n",
    "\n",
    "$$ X\\beta = \\beta_0 + \\beta_1 numstores_i + \\beta_2 defrate_i + \\beta_3 unrt_zip_i + \\beta_4 medtotinc2010_i + ... $$\n",
    "$$ \\qquad\\qquad\\qquad\\qquad \\beta_5 edbachplus\\_zip_i + \\beta_6 pop\\_zip_i + \\beta_7 mdage\\_zip_i + \\beta_8 pctblk2\\_zip_i + u_i $$\n",
    "\n",
    "Report the variables whose coefficients are estimated to be significant at the 5-percent level."
   ]
  },
  {
   "cell_type": "code",
<<<<<<< HEAD
   "execution_count": 12,
   "metadata": {},
   "outputs": [
    {
     "name": "stdout",
     "output_type": "stream",
     "text": [
      "Optimization terminated successfully.\n",
      "         Current function value: 0.324112\n",
      "         Iterations 7\n"
     ]
    },
    {
     "data": {
      "text/html": [
       "<table class=\"simpletable\">\n",
       "<caption>Logit Regression Results</caption>\n",
       "<tr>\n",
       "  <th>Dep. Variable:</th>   <td>avgrate_high</td>   <th>  No. Observations:  </th>  <td>   147</td>  \n",
       "</tr>\n",
       "<tr>\n",
       "  <th>Model:</th>               <td>Logit</td>      <th>  Df Residuals:      </th>  <td>   138</td>  \n",
       "</tr>\n",
       "<tr>\n",
       "  <th>Method:</th>               <td>MLE</td>       <th>  Df Model:          </th>  <td>     8</td>  \n",
       "</tr>\n",
       "<tr>\n",
       "  <th>Date:</th>          <td>Mon, 05 Feb 2018</td> <th>  Pseudo R-squ.:     </th>  <td>0.4095</td>  \n",
       "</tr>\n",
       "<tr>\n",
       "  <th>Time:</th>              <td>14:17:41</td>     <th>  Log-Likelihood:    </th> <td> -47.644</td> \n",
       "</tr>\n",
       "<tr>\n",
       "  <th>converged:</th>           <td>True</td>       <th>  LL-Null:           </th> <td> -80.685</td> \n",
       "</tr>\n",
       "<tr>\n",
       "  <th> </th>                      <td> </td>        <th>  LLR p-value:       </th> <td>2.950e-11</td>\n",
       "</tr>\n",
       "</table>\n",
       "<table class=\"simpletable\">\n",
       "<tr>\n",
       "         <td></td>           <th>coef</th>     <th>std err</th>      <th>z</th>      <th>P>|z|</th>  <th>[0.025</th>    <th>0.975]</th>  \n",
       "</tr>\n",
       "<tr>\n",
       "  <th>numstores</th>      <td>   -0.2449</td> <td>    0.045</td> <td>   -5.415</td> <td> 0.000</td> <td>   -0.334</td> <td>   -0.156</td>\n",
       "</tr>\n",
       "<tr>\n",
       "  <th>defrate</th>        <td>    0.0926</td> <td>    0.036</td> <td>    2.605</td> <td> 0.009</td> <td>    0.023</td> <td>    0.162</td>\n",
       "</tr>\n",
       "<tr>\n",
       "  <th>unrt_zip</th>       <td>    0.1181</td> <td>    0.185</td> <td>    0.638</td> <td> 0.523</td> <td>   -0.245</td> <td>    0.481</td>\n",
       "</tr>\n",
       "<tr>\n",
       "  <th>medtotinc2010</th>  <td> 9.697e-05</td> <td> 6.21e-05</td> <td>    1.561</td> <td> 0.118</td> <td>-2.48e-05</td> <td>    0.000</td>\n",
       "</tr>\n",
       "<tr>\n",
       "  <th>const</th>          <td>    8.2300</td> <td>    4.933</td> <td>    1.668</td> <td> 0.095</td> <td>   -1.439</td> <td>   17.899</td>\n",
       "</tr>\n",
       "<tr>\n",
       "  <th>edbachplus_zip</th> <td>   -0.0641</td> <td>    0.038</td> <td>   -1.702</td> <td> 0.089</td> <td>   -0.138</td> <td>    0.010</td>\n",
       "</tr>\n",
       "<tr>\n",
       "  <th>pop_zip</th>        <td>-1.274e-05</td> <td> 2.29e-05</td> <td>   -0.555</td> <td> 0.579</td> <td>-5.77e-05</td> <td> 3.22e-05</td>\n",
       "</tr>\n",
       "<tr>\n",
       "  <th>mdage_zip</th>      <td>   -0.1863</td> <td>    0.120</td> <td>   -1.551</td> <td> 0.121</td> <td>   -0.422</td> <td>    0.049</td>\n",
       "</tr>\n",
       "<tr>\n",
       "  <th>pctblk2_zip</th>    <td>    0.0651</td> <td>    0.296</td> <td>    0.220</td> <td> 0.826</td> <td>   -0.514</td> <td>    0.644</td>\n",
       "</tr>\n",
       "</table>"
      ],
      "text/plain": [
       "<class 'statsmodels.iolib.summary.Summary'>\n",
       "\"\"\"\n",
       "                           Logit Regression Results                           \n",
       "==============================================================================\n",
       "Dep. Variable:           avgrate_high   No. Observations:                  147\n",
       "Model:                          Logit   Df Residuals:                      138\n",
       "Method:                           MLE   Df Model:                            8\n",
       "Date:                Mon, 05 Feb 2018   Pseudo R-squ.:                  0.4095\n",
       "Time:                        14:17:41   Log-Likelihood:                -47.644\n",
       "converged:                       True   LL-Null:                       -80.685\n",
       "                                        LLR p-value:                 2.950e-11\n",
       "==================================================================================\n",
       "                     coef    std err          z      P>|z|      [0.025      0.975]\n",
       "----------------------------------------------------------------------------------\n",
       "numstores         -0.2449      0.045     -5.415      0.000      -0.334      -0.156\n",
       "defrate            0.0926      0.036      2.605      0.009       0.023       0.162\n",
       "unrt_zip           0.1181      0.185      0.638      0.523      -0.245       0.481\n",
       "medtotinc2010   9.697e-05   6.21e-05      1.561      0.118   -2.48e-05       0.000\n",
       "const              8.2300      4.933      1.668      0.095      -1.439      17.899\n",
       "edbachplus_zip    -0.0641      0.038     -1.702      0.089      -0.138       0.010\n",
       "pop_zip        -1.274e-05   2.29e-05     -0.555      0.579   -5.77e-05    3.22e-05\n",
       "mdage_zip         -0.1863      0.120     -1.551      0.121      -0.422       0.049\n",
       "pctblk2_zip        0.0651      0.296      0.220      0.826      -0.514       0.644\n",
       "==================================================================================\n",
       "\"\"\""
      ]
     },
     "execution_count": 12,
     "metadata": {},
     "output_type": "execute_result"
    }
   ],
   "source": [
    "ld.loc[:,\"avgrate_high\"] = (ld.avgrate>=425).astype(\"int\")\n",
    "logit = sm.Logit(ld.avgrate_high, X2.loc[:,X2.columns!=\"totrad3\"], missing = \"drop\").fit()\n",
    "logit.summary()"
   ]
  },
  {
   "cell_type": "markdown",
   "metadata": {},
   "source": [
    "**Answer**\n",
    "\n",
    "Numstores and defrate are significant at 5-percent level. The coefficient are $-0.2449 (p<0.001)$ and $0.0926  (p<0.01)$ respectively."
   ]
=======
   "execution_count": null,
   "metadata": {
    "collapsed": true
   },
   "outputs": [],
   "source": []
>>>>>>> master
  }
 ],
 "metadata": {
  "kernelspec": {
   "display_name": "Python 3",
   "language": "python",
   "name": "python3"
  },
  "language_info": {
   "codemirror_mode": {
    "name": "ipython",
    "version": 3
   },
   "file_extension": ".py",
   "mimetype": "text/x-python",
   "name": "python",
   "nbconvert_exporter": "python",
   "pygments_lexer": "ipython3",
   "version": "3.6.4"
  }
 },
 "nbformat": 4,
 "nbformat_minor": 2
}
