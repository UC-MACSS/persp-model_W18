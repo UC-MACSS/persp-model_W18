{
 "cells": [
  {
   "cell_type": "code",
   "execution_count": 50,
   "metadata": {},
   "outputs": [
    {
     "name": "stderr",
     "output_type": "stream",
     "text": [
      "/anaconda/lib/python3.6/site-packages/statsmodels/compat/pandas.py:56: FutureWarning: The pandas.core.datetools module is deprecated and will be removed in a future version. Please use the pandas.tseries module instead.\n",
      "  from pandas.core import datetools\n"
     ]
    }
   ],
   "source": [
    "import numpy as np\n",
    "import matplotlib.pyplot as plt\n",
    "import pandas as pd\n",
    "import scipy.stats as sts\n",
    "from scipy.optimize import minimize\n",
    "import pdb\n",
    "from matplotlib import rc\n",
    "import statsmodels.api as sm\n",
    "rc('text', usetex=True)"
   ]
  },
  {
   "cell_type": "markdown",
   "metadata": {},
   "source": [
    "# GMM framework"
   ]
  },
  {
   "cell_type": "code",
   "execution_count": 2,
   "metadata": {
    "collapsed": true
   },
   "outputs": [],
   "source": [
    "class GMM:\n",
    "    def __init__(self):\n",
    "        pass\n",
    "    \n",
    "    def model_moment(self, param):\n",
    "        pass\n",
    "    \n",
    "    def error_func(self, param, W = None):\n",
    "        if W is None:\n",
    "            W = np.eye(len(self.data_moment))\n",
    "        e = (self.model_moment(param) - self.data_moment)/self.data_moment\n",
    "        return e.T @ W @ e\n",
    "    \n",
    "    def vcv(self, param):\n",
    "        e = (self.model_moment(param) - self.data_moment)/self.data_moment\n",
    "        return e @ e.T / self.N\n",
    "    \n",
    "    def estimate(self, init, method = \"identity\", bounds = None):\n",
    "        results = minimize(self.error_func, init, method='L-BFGS-B', bounds = bounds)\n",
    "        if method == \"identity\":\n",
    "            return results\n",
    "        if method == \"two-step\":\n",
    "            e = (self.model_moment(results.x) - self.data_moment)/self.data_moment\n",
    "            vcv = e @ e.T / self.N\n",
    "            W = np.linalg.inv(vcv)\n",
    "            W = W/np.sum(W) # rescale the W in case of overflow\n",
    "            results = minimize(self.error_func, results.x, args = W, method='L-BFGS-B',  bounds = bounds)\n",
    "            return results\n",
    "        if method == \"iterate\":\n",
    "            W = np.eye(len(init))\n",
    "            while True:\n",
    "                e = (self.model_moment(results.x) - self.data_moment)/self.data_moment\n",
    "                vcv = e @ e.T / self.N\n",
    "                new_W = np.linalg.inv(vcv)\n",
    "#                 new_W = new_W/np.sum(new_W) # rescale the W in case of overflow    \n",
    "                if np.sum(np.abs(new_W - W))>1e-7:\n",
    "                    W = new_W\n",
    "                    results = minimize(self.error_func, results.x, args = (W), method='L-BFGS-B',  bounds = bounds)\n",
    "                else:\n",
    "                    return results    "
   ]
  },
  {
   "cell_type": "markdown",
   "metadata": {},
   "source": [
    "## Instances of GMM"
   ]
  },
  {
   "cell_type": "code",
   "execution_count": 10,
   "metadata": {
    "collapsed": true
   },
   "outputs": [],
   "source": [
    "class Log_Normal(GMM):\n",
    "    def __init__(self, data):\n",
    "        self.N = len(data)\n",
    "        self.data = data\n",
    "        self.data_moment = np.array((np.mean(self.data), np.std(self.data))).reshape((2,1))\n",
    "        \n",
    "    def model_moment(self, param):\n",
    "#       Given the formula of model moment is easily calculated analytically,\n",
    "#       I use the expression directly here instead of numerical integral to avoid inaccuracy and addtional offhead.\n",
    "        param = np.array(param).reshape(2, 1)\n",
    "        mean = np.exp(np.array((1, 0.5)).reshape((1,2)) @ param)\n",
    "        std = np.sqrt(np.exp(np.array((2, 1)).reshape((1,2)) @ param) * (np.exp(param[1,:]) - 1))\n",
    "        return np.concatenate((mean, std), axis = 0)\n",
    "    \n",
    "    def pdf(self, x, param):\n",
    "        mu, sigma2 = param\n",
    "        sigma = np.sqrt(sigma2)\n",
    "        return 1/x/sigma/np.sqrt(2*np.pi) * np.exp(-(np.log(x)-mu)**2/2/sigma/sigma)\n",
    "    \n",
    "class Linear_Regression(GMM):\n",
    "    \n",
    "    def error_func(self, param, W = None):\n",
    "        if W is None:\n",
    "            W = np.eye(len(self.data_moment))\n",
    "        e = (self.model_moment(param) - self.data_moment)\n",
    "        return e.T @ W @ e\n",
    "    \n",
    "    def __init__(self, data):\n",
    "        self.data = data.values\n",
    "        self.N = self.data.shape[0]\n",
    "        self.data_moment = data.iloc[:,0].values\n",
    "    \n",
    "    def model_moment(self, param):\n",
    "        param = np.array(param)\n",
    "        X = np.concatenate((np.ones((self.N,1)),self.data[:,1:]), axis = 1)\n",
    "        return X @ param"
   ]
  },
  {
   "cell_type": "code",
   "execution_count": 11,
   "metadata": {},
   "outputs": [],
   "source": [
    "dt = np.loadtxt(\"incomes.txt\")\n",
    "sick = pd.read_csv(\"sick.txt\")"
   ]
  },
  {
   "cell_type": "code",
   "execution_count": 12,
   "metadata": {
    "scrolled": true
   },
   "outputs": [],
   "source": [
    "ln = Log_Normal(dt)\n",
    "results = ln.estimate((11, 0.2), bounds = ((None, None), (1e-10, None)))"
   ]
  },
  {
   "cell_type": "code",
   "execution_count": 13,
   "metadata": {},
   "outputs": [],
   "source": [
    "lr = Linear_Regression(sick)\n",
    "res = lr.estimate((1,1,1,1))"
   ]
  },
  {
   "cell_type": "markdown",
   "metadata": {},
   "source": [
    "# MLE Framework"
   ]
  },
  {
   "cell_type": "code",
   "execution_count": 47,
   "metadata": {
    "collapsed": true
   },
   "outputs": [],
   "source": [
    "class Random_Variable:\n",
    "    def log_lik(self, dt, param = None):\n",
    "        return np.sum(np.log(self.pdf(dt, param)))\n",
    "    \n",
    "    def param_array(self):\n",
    "        pass\n",
    "    \n",
    "    def pdf(self, x, param = None):\n",
    "        pass\n",
    "    \n",
    "    def MLE(self, dt, bounds = None):\n",
    "        def crit(param):\n",
    "            return -self.log_lik(dt, param)\n",
    "        return minimize(crit, self.param_array(),  method='L-BFGS-B', bounds = bounds)\n",
    "    \n",
    "    \n",
    "    def cdf_integral(self, x):\n",
    "        return integrate.quad(lambda x: self.pdf(x, param), 0, x)\n",
    "        \n",
    "\n",
    "class Log_Normal(Random_Variable):\n",
    "    def __init__(self, mu, sigma):\n",
    "        self.mu  = mu\n",
    "        self.sigma = sigma\n",
    "    \n",
    "    def param_array(self):\n",
    "        return np.array([self.mu, self.sigma])\n",
    "    \n",
    "    def pdf(self, x, param = None):\n",
    "        if param is None:\n",
    "            sigma = self.sigma\n",
    "            mu = self.mu\n",
    "            sigma2 = sigma ** 2\n",
    "        else:\n",
    "            mu, sigma = param\n",
    "            sigma2 = sigma ** 2\n",
    "        return 1/x/sigma/np.sqrt(2*np.pi) * np.exp(-(np.log(x)-mu)**2/2/sigma2)\n",
    "    \n",
    "    def cdf(self, x, param = None):\n",
    "        if param is None:\n",
    "            sigma = self.sigma\n",
    "            mu = self.mu\n",
    "        else:\n",
    "            mu, sigma = param\n",
    "        return sts.norm.cdf((np.log(x) - mu)/sigma)\n",
    "    \n",
    "class Linear_Regression:\n",
    "    def __init__(self, y, X, constant = True):\n",
    "        self.y = y\n",
    "        self.X = X\n",
    "        self.N = len(y)\n",
    "        if constant is True:\n",
    "            self.X = np.concatenate((np.ones((self.N, 1)),self.X), axis = 1)\n",
    "        self.m = self.X.shape[1]\n",
    "    \n",
    "    def log_lik(self, param):\n",
    "        beta = param[0:self.m]\n",
    "        sigma2 = param[self.m] *  param[self.m]\n",
    "        return -self.N/2*np.log(2*np.pi*sigma2) - 1/2/sigma2*(self.y - self.X @ beta).T @ (self.y - self.X @ beta)\n",
    "\n",
    "    def MLE(self):\n",
    "        return minimize(lambda x: -self.log_lik(x), [0,1,1,1,1], method='BFGS')\n",
    "    \n",
    "    def analy_sol(self):\n",
    "        X = self.X\n",
    "        y = self.y\n",
    "        return np.linalg.inv(X.T@X) @ X.T @ y"
   ]
  },
  {
   "cell_type": "code",
   "execution_count": 48,
   "metadata": {
    "collapsed": true
   },
   "outputs": [],
   "source": [
    "lr = Linear_Regression(sick.loc[:, \"sick\"].values, sick.iloc[:, 1:].values)\n",
    "mle_res = lr.MLE()\n",
    "Hinv = mle_res.hess_inv\n",
    "OffDiagNeg = -np.ones(Hinv.shape) + np.eye(Hinv.shape[0])*2\n",
    "VCV = Hinv * OffDiagNeg"
   ]
  },
  {
   "cell_type": "code",
   "execution_count": 49,
   "metadata": {
    "scrolled": true
   },
   "outputs": [
    {
     "data": {
      "text/plain": [
       "      fun: 2239.5347439980069\n",
       " hess_inv: <2x2 LbfgsInvHessProduct with dtype=float64>\n",
       "      jac: array([ -4.54747351e-05,  -4.54747351e-05])\n",
       "  message: b'CONVERGENCE: REL_REDUCTION_OF_F_<=_FACTR*EPSMCH'\n",
       "     nfev: 48\n",
       "      nit: 7\n",
       "   status: 0\n",
       "  success: True\n",
       "        x: array([ 11.33144032,   0.21167458])"
      ]
     },
     "execution_count": 49,
     "metadata": {},
     "output_type": "execute_result"
    }
   ],
   "source": [
    "lognormal = Log_Normal(11, 0.3)\n",
    "lognormal.MLE(dt, bounds = ((10, 12), (1e-2, 1)))"
   ]
  },
  {
   "cell_type": "code",
   "execution_count": 51,
   "metadata": {
    "collapsed": true
   },
   "outputs": [],
   "source": [
    "ln = sts.lognorm"
   ]
  },
  {
   "cell_type": "code",
   "execution_count": 53,
   "metadata": {},
   "outputs": [
    {
     "data": {
      "text/plain": [
       "(8.6927662804320995, 47628.560636118294, 0.19762737066002253)"
      ]
     },
     "execution_count": 53,
     "metadata": {},
     "output_type": "execute_result"
    }
   ],
   "source": [
    "ln.fit(dt)"
   ]
  }
 ],
 "metadata": {
  "kernelspec": {
   "display_name": "Python 3",
   "language": "python",
   "name": "python3"
  },
  "language_info": {
   "codemirror_mode": {
    "name": "ipython",
    "version": 3
   },
   "file_extension": ".py",
   "mimetype": "text/x-python",
   "name": "python",
   "nbconvert_exporter": "python",
   "pygments_lexer": "ipython3",
   "version": "3.6.4"
  }
 },
 "nbformat": 4,
 "nbformat_minor": 2
}
