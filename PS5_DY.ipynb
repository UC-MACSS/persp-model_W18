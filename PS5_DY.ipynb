{
 "cells": [
  {
   "cell_type": "markdown",
   "metadata": {
    "collapsed": true
   },
   "source": [
    "## PS 5\n",
    "## Donghai YU\n",
    "## Feb. 18"
   ]
  },
  {
   "cell_type": "markdown",
   "metadata": {},
   "source": [
    "## Q1\n",
    "\n",
    "1(a)"
   ]
  },
  {
   "cell_type": "code",
   "execution_count": 209,
   "metadata": {},
   "outputs": [],
   "source": [
    "import pandas as pd \n",
    "from pandas import Series, DataFrame \n",
    "import numpy as np\n",
    "import matplotlib.pyplot as plt\n",
    "from sklearn.linear_model import LogisticRegression\n",
    "from sklearn.cross_validation import train_test_split\n",
    "from sklearn.metrics import classification_report, mean_squared_error, confusion_matrix\n",
    "from sklearn.model_selection import LeaveOneOut, KFold\n",
    "import statsmodels.api as sm\n",
    "from scipy.interpolate import LSQUnivariateSpline"
   ]
  },
  {
   "cell_type": "code",
   "execution_count": 210,
   "metadata": {
    "scrolled": false
   },
   "outputs": [
    {
     "data": {
      "text/html": [
       "<div>\n",
       "<style>\n",
       "    .dataframe thead tr:only-child th {\n",
       "        text-align: right;\n",
       "    }\n",
       "\n",
       "    .dataframe thead th {\n",
       "        text-align: left;\n",
       "    }\n",
       "\n",
       "    .dataframe tbody tr th {\n",
       "        vertical-align: top;\n",
       "    }\n",
       "</style>\n",
       "<table border=\"1\" class=\"dataframe\">\n",
       "  <thead>\n",
       "    <tr style=\"text-align: right;\">\n",
       "      <th></th>\n",
       "      <th>cultivar</th>\n",
       "      <th>alco</th>\n",
       "      <th>malic</th>\n",
       "      <th>ash</th>\n",
       "      <th>alk</th>\n",
       "      <th>magn</th>\n",
       "      <th>tot_phen</th>\n",
       "      <th>flav</th>\n",
       "      <th>nonfl_phen</th>\n",
       "      <th>proanth</th>\n",
       "      <th>color_int</th>\n",
       "      <th>hue</th>\n",
       "      <th>OD280rat</th>\n",
       "      <th>proline</th>\n",
       "      <th>const</th>\n",
       "    </tr>\n",
       "  </thead>\n",
       "  <tbody>\n",
       "    <tr>\n",
       "      <th>0</th>\n",
       "      <td>1</td>\n",
       "      <td>14.23</td>\n",
       "      <td>1.71</td>\n",
       "      <td>2.43</td>\n",
       "      <td>15.6</td>\n",
       "      <td>127</td>\n",
       "      <td>2.80</td>\n",
       "      <td>3.06</td>\n",
       "      <td>0.28</td>\n",
       "      <td>2.29</td>\n",
       "      <td>5.64</td>\n",
       "      <td>1.04</td>\n",
       "      <td>3.92</td>\n",
       "      <td>1065</td>\n",
       "      <td>1</td>\n",
       "    </tr>\n",
       "    <tr>\n",
       "      <th>1</th>\n",
       "      <td>1</td>\n",
       "      <td>13.20</td>\n",
       "      <td>1.78</td>\n",
       "      <td>2.14</td>\n",
       "      <td>11.2</td>\n",
       "      <td>100</td>\n",
       "      <td>2.65</td>\n",
       "      <td>2.76</td>\n",
       "      <td>0.26</td>\n",
       "      <td>1.28</td>\n",
       "      <td>4.38</td>\n",
       "      <td>1.05</td>\n",
       "      <td>3.40</td>\n",
       "      <td>1050</td>\n",
       "      <td>1</td>\n",
       "    </tr>\n",
       "    <tr>\n",
       "      <th>2</th>\n",
       "      <td>1</td>\n",
       "      <td>13.16</td>\n",
       "      <td>2.36</td>\n",
       "      <td>2.67</td>\n",
       "      <td>18.6</td>\n",
       "      <td>101</td>\n",
       "      <td>2.80</td>\n",
       "      <td>3.24</td>\n",
       "      <td>0.30</td>\n",
       "      <td>2.81</td>\n",
       "      <td>5.68</td>\n",
       "      <td>1.03</td>\n",
       "      <td>3.17</td>\n",
       "      <td>1185</td>\n",
       "      <td>1</td>\n",
       "    </tr>\n",
       "    <tr>\n",
       "      <th>3</th>\n",
       "      <td>1</td>\n",
       "      <td>14.37</td>\n",
       "      <td>1.95</td>\n",
       "      <td>2.50</td>\n",
       "      <td>16.8</td>\n",
       "      <td>113</td>\n",
       "      <td>3.85</td>\n",
       "      <td>3.49</td>\n",
       "      <td>0.24</td>\n",
       "      <td>2.18</td>\n",
       "      <td>7.80</td>\n",
       "      <td>0.86</td>\n",
       "      <td>3.45</td>\n",
       "      <td>1480</td>\n",
       "      <td>1</td>\n",
       "    </tr>\n",
       "    <tr>\n",
       "      <th>4</th>\n",
       "      <td>1</td>\n",
       "      <td>13.24</td>\n",
       "      <td>2.59</td>\n",
       "      <td>2.87</td>\n",
       "      <td>21.0</td>\n",
       "      <td>118</td>\n",
       "      <td>2.80</td>\n",
       "      <td>2.69</td>\n",
       "      <td>0.39</td>\n",
       "      <td>1.82</td>\n",
       "      <td>4.32</td>\n",
       "      <td>1.04</td>\n",
       "      <td>2.93</td>\n",
       "      <td>735</td>\n",
       "      <td>1</td>\n",
       "    </tr>\n",
       "  </tbody>\n",
       "</table>\n",
       "</div>"
      ],
      "text/plain": [
       "   cultivar   alco  malic   ash   alk  magn  tot_phen  flav  nonfl_phen  \\\n",
       "0         1  14.23   1.71  2.43  15.6   127      2.80  3.06        0.28   \n",
       "1         1  13.20   1.78  2.14  11.2   100      2.65  2.76        0.26   \n",
       "2         1  13.16   2.36  2.67  18.6   101      2.80  3.24        0.30   \n",
       "3         1  14.37   1.95  2.50  16.8   113      3.85  3.49        0.24   \n",
       "4         1  13.24   2.59  2.87  21.0   118      2.80  2.69        0.39   \n",
       "\n",
       "   proanth  color_int   hue  OD280rat  proline  const  \n",
       "0     2.29       5.64  1.04      3.92     1065      1  \n",
       "1     1.28       4.38  1.05      3.40     1050      1  \n",
       "2     2.81       5.68  1.03      3.17     1185      1  \n",
       "3     2.18       7.80  0.86      3.45     1480      1  \n",
       "4     1.82       4.32  1.04      2.93      735      1  "
      ]
     },
     "execution_count": 210,
     "metadata": {},
     "output_type": "execute_result"
    }
   ],
   "source": [
    "data = pd.read_csv('strongdrink.txt')\n",
    "data['const'] = 1\n",
    "data.head()"
   ]
  },
  {
   "cell_type": "code",
   "execution_count": 211,
   "metadata": {},
   "outputs": [
    {
     "data": {
      "text/plain": [
       "<matplotlib.axes._subplots.AxesSubplot at 0x1c211ce0f0>"
      ]
     },
     "execution_count": 211,
     "metadata": {},
     "output_type": "execute_result"
    },
    {
     "data": {
      "image/png": "[encoded data removed]",
      "text/plain": [
       "<matplotlib.figure.Figure at 0x1c202aa160>"
      ]
     },
     "metadata": {},
     "output_type": "display_data"
    }
   ],
   "source": [
    "sns.countplot(x='cultivar', data=data, palette='hls')"
   ]
  },
  {
   "cell_type": "code",
   "execution_count": 212,
   "metadata": {},
   "outputs": [
    {
     "name": "stdout",
     "output_type": "stream",
     "text": [
      "             precision    recall  f1-score   support\n",
      "\n",
      "          1       0.87      1.00      0.93        13\n",
      "          2       1.00      0.90      0.95        21\n",
      "          3       1.00      1.00      1.00        10\n",
      "\n",
      "avg / total       0.96      0.95      0.96        44\n",
      "\n",
      "The error rate for j=1 is 0.13 and the error rate for j=2 is 0.\n",
      "Validation set MSE = 0.045454545454545456\n"
     ]
    }
   ],
   "source": [
    "X = data[['const', 'alco', 'malic', 'tot_phen', 'color_int']]\n",
    "y = data['cultivar']\n",
    "\n",
    "from sklearn.linear_model import LogisticRegression\n",
    "X = data[['alco', 'malic', 'tot_phen', 'color_int']]\n",
    "y = data['cultivar']\n",
    "X_train, X_test, y_train, y_test = train_test_split(X, y, test_size = 0.25, random_state=20)\n",
    "MultLogReg = LogisticRegression(multi_class='multinomial', solver='newton-cg')\n",
    "MultLogReg.fit(X_train, y_train)\n",
    "y_pred = MultLogReg.predict(X_test)\n",
    "print(classification_report(y_test, y_pred))\n",
    "print (f'The error rate for j=1 is {1-0.87} and the error rate for j=2 is 0.')\n",
    "print(f'Validation set MSE = {mean_squared_error(y_test, y_pred)}')"
   ]
  },
  {
   "cell_type": "code",
   "execution_count": 213,
   "metadata": {},
   "outputs": [
    {
     "name": "stdout",
     "output_type": "stream",
     "text": [
      "Estimated intercept for j=1: -24.0105425421\n",
      "Estimated coefficients for j=1: [ 1.70036744 -0.26560222  1.22389166  0.02276224]\n",
      "\n",
      "Estimated intercept for j=2: 22.8027145909\n",
      "Estimated coefficients for j=2: [-1.46806546 -0.33305465  0.66401745 -0.92271414]\n"
     ]
    }
   ],
   "source": [
    "print('Estimated intercept for j=1:', MultLogReg.intercept_[0])\n",
    "print('Estimated coefficients for j=1:', MultLogReg.coef_[0])\n",
    "print()\n",
    "print('Estimated intercept for j=2:', MultLogReg.intercept_[1])\n",
    "print('Estimated coefficients for j=2:', MultLogReg.coef_[1])"
   ]
  },
  {
   "cell_type": "code",
   "execution_count": 214,
   "metadata": {},
   "outputs": [
    {
     "data": {
      "text/plain": [
       "array([-24.0108148,  22.8025761,   1.2082387])"
      ]
     },
     "execution_count": 214,
     "metadata": {},
     "output_type": "execute_result"
    }
   ],
   "source": [
    "LR.intercept_"
   ]
  },
  {
   "cell_type": "code",
   "execution_count": 215,
   "metadata": {},
   "outputs": [
    {
     "name": "stdout",
     "output_type": "stream",
     "text": [
      "Validation set MSE =  0.045454545454545456\n"
     ]
    }
   ],
   "source": [
    "MSE_vs = ((y_test - y_pred) ** 2).sum() / y_pred.shape[0]\n",
    "print('Validation set MSE = ', MSE_vs)"
   ]
  },
  {
   "cell_type": "markdown",
   "metadata": {},
   "source": [
    "Based to the error rates above, the precision rates for cultivar 2 and 3 are the best, which is 1.00. In this case, the best-performed predictions are not the ones with the largest amount of observations. The cultivar 3 only has 10 observations, three less than the observations in cultivar 1.\n",
    "\n",
    "1(b) "
   ]
  },
  {
   "cell_type": "code",
   "execution_count": 216,
   "metadata": {
    "collapsed": true
   },
   "outputs": [],
   "source": [
    "from sklearn.model_selection import LeaveOneOut\n",
    "N_loo = X.shape[0]\n",
    "loo = LeaveOneOut()\n",
    "loo.get_n_splits(X)\n",
    "MSE = pd.DataFrame({'index': np.zeros(N_loo), \n",
    "                    'error': np.zeros(N_loo), \n",
    "                    'y_pred': np.zeros(N_loo),\n",
    "                    'y_test': np.zeros(N_loo)})"
   ]
  },
  {
   "cell_type": "code",
   "execution_count": 217,
   "metadata": {},
   "outputs": [
    {
     "name": "stdout",
     "output_type": "stream",
     "text": [
      "             precision    recall  f1-score   support\n",
      "\n",
      "        1.0      0.902     0.932     0.917        59\n",
      "        2.0      0.914     0.901     0.908        71\n",
      "        3.0      0.956     0.935     0.945        46\n",
      "\n",
      "avg / total      0.921     0.920     0.921       176\n",
      "\n",
      "The error rate for class 1 is 0.09836065573770492 , std is 0.3002730997379377\n",
      "The error rate for class 2 is 0.08571428571428572 , std is 0.2819629507400967\n",
      "The error rate for class 3 is 0.044444444444444446 , std is 0.20840907713999288\n",
      "test estimate MSE loocv= 0.07954545454545454 , test estimate MSE standard err= 0.2713602101199873\n"
     ]
    }
   ],
   "source": [
    "for train_index, test_index in loo.split(X):\n",
    "    X_train, X_test = X.iloc[train_index,:], X.iloc[test_index,:]\n",
    "    y_train, y_test = y[train_index], y[test_index]\n",
    "    MultLogReg1 = LogisticRegression(multi_class='multinomial', solver='newton-cg')\n",
    "    MultLogReg1.fit(X_train, y_train)\n",
    "    y_pred = MultLogReg1.predict(X_test)\n",
    "    MSE['index'][test_index] = test_index\n",
    "    MSE['error'][test_index] = 1 - (1 if y_test.values[0] == y_pred[0] else 0)\n",
    "    MSE['y_pred'][test_index] = y_pred\n",
    "    MSE['y_test'][test_index] = y_test\n",
    "\n",
    "error_1 = MSE[MSE['y_pred'] == 1]['error'].mean()\n",
    "error_2 = MSE[MSE['y_pred'] == 2]['error'].mean()\n",
    "error_3 = MSE[MSE['y_pred'] == 3]['error'].mean()    \n",
    "    \n",
    "print(classification_report(MSE['y_test'], MSE['y_pred'], digits =3))\n",
    "print('The error rate for class 1 is', error_1, ', std is', MSE[MSE['y_pred'] == 1]['error'].std())\n",
    "print('The error rate for class 2 is', error_2, ', std is', MSE[MSE['y_pred'] == 2]['error'].std())\n",
    "print('The error rate for class 3 is', error_3, ', std is', MSE[MSE['y_pred'] == 3]['error'].std())\n",
    "\n",
    "MSE_loo = MSE['error'].mean()\n",
    "MSE_loo_std = MSE['error'].std()\n",
    "print('test estimate MSE loocv=', MSE_loo,\n",
    "      ', test estimate MSE standard err=', MSE_loo_std)"
   ]
  },
  {
   "cell_type": "markdown",
   "metadata": {},
   "source": [
    "The error rate of j=1 decreases from 0.13 to 0.098; meanwhile, for j=2 and j=3, the error rates are larger. It can be observed that the mean MSE is also bigger in part b.\n",
    "\n",
    "1(c)"
   ]
  },
  {
   "cell_type": "code",
   "execution_count": 218,
   "metadata": {},
   "outputs": [
    {
     "name": "stdout",
     "output_type": "stream",
     "text": [
      "k index= 0\n",
      "MSE for test set 0  is 0.159090909091\n",
      "k index= 1\n",
      "MSE for test set 1  is 0.113636363636\n",
      "k index= 2\n",
      "MSE for test set 2  is 0.0454545454545\n",
      "k index= 3\n",
      "MSE for test set 3  is 0.0454545454545\n",
      "test estimate MSE k-fold= 0.0909090909091 test estimate MSE standard err= 0.04821182599\n"
     ]
    }
   ],
   "source": [
    "from sklearn.model_selection import KFold\n",
    "k = 4\n",
    "kf = KFold(n_splits=k, shuffle=True, random_state=10)\n",
    "kf.get_n_splits(X)\n",
    "MSE_vec_kf = np.zeros(k)\n",
    "y_test_vec = np.array([])\n",
    "y_pred_vec = np.array([])\n",
    "\n",
    "k_ind = int(0)\n",
    "for train_index, test_index in kf.split(X):\n",
    "    # print(\"TRAIN:\", train_index, \"TEST:\", test_index)\n",
    "    print('k index=', k_ind)\n",
    "    X_train, X_test = X.iloc[train_index,:], X.iloc[test_index,:]\n",
    "    y_train, y_test = y[train_index], y[test_index]\n",
    "    y_test_vec = np.append(y_test_vec,y_test)    \n",
    "    MultLogReg2 = LogisticRegression(multi_class='multinomial', solver='newton-cg')\n",
    "    MultLogReg2.fit(X_train, y_train)\n",
    "    y_pred = MultLogReg2.predict(X_test)\n",
    "    y_pred_vec = np.append(y_pred_vec,y_pred)\n",
    "    MSE_vec_kf[k_ind] = np.array([0 if y_test.values[i] == y_pred[i] else 1 for i in range(len(y_test))]).mean()\n",
    "    print('MSE for test set', k_ind, ' is', MSE_vec_kf[k_ind])\n",
    "    k_ind += 1\n",
    "\n",
    "MSE_kf = MSE_vec_kf.mean()\n",
    "MSE_kf_std = MSE_vec_kf.std()\n",
    "print('test estimate MSE k-fold=', MSE_kf,\n",
    "      'test estimate MSE standard err=', MSE_kf_std)"
   ]
  },
  {
   "cell_type": "code",
   "execution_count": 219,
   "metadata": {},
   "outputs": [
    {
     "name": "stdout",
     "output_type": "stream",
     "text": [
      "             precision    recall  f1-score   support\n",
      "\n",
      "        1.0       0.87      0.93      0.90        59\n",
      "        2.0       0.91      0.87      0.89        71\n",
      "        3.0       0.96      0.93      0.95        46\n",
      "\n",
      "avg / total       0.91      0.91      0.91       176\n",
      "\n",
      "the error rates for j=1,2,3 are 0.13, 0.09, 0.04 respectively.\n"
     ]
    }
   ],
   "source": [
    "print(classification_report(y_test_vec, y_pred_vec))\n",
    "print (f'the error rates for j=1,2,3 are 0.13, 0.09, 0.04 respectively.')"
   ]
  },
  {
   "cell_type": "markdown",
   "metadata": {},
   "source": [
    "Basically, LOO cross-validation performs better than the k-fold cross-validation, except that the error rate for class one remains the identical, while error rates for the other two groups are increased."
   ]
  },
  {
   "cell_type": "markdown",
   "metadata": {},
   "source": [
    "### 2. Splines Interpolation"
   ]
  },
  {
   "cell_type": "markdown",
   "metadata": {},
   "source": [
    "2(a)"
   ]
  },
  {
   "cell_type": "code",
   "execution_count": 220,
   "metadata": {},
   "outputs": [
    {
     "data": {
      "text/html": [
       "<div>\n",
       "<style>\n",
       "    .dataframe thead tr:only-child th {\n",
       "        text-align: right;\n",
       "    }\n",
       "\n",
       "    .dataframe thead th {\n",
       "        text-align: left;\n",
       "    }\n",
       "\n",
       "    .dataframe tbody tr th {\n",
       "        vertical-align: top;\n",
       "    }\n",
       "</style>\n",
       "<table border=\"1\" class=\"dataframe\">\n",
       "  <thead>\n",
       "    <tr style=\"text-align: right;\">\n",
       "      <th></th>\n",
       "      <th>age</th>\n",
       "      <th>coolness_index</th>\n",
       "    </tr>\n",
       "  </thead>\n",
       "  <tbody>\n",
       "    <tr>\n",
       "      <th>0</th>\n",
       "      <td>11.0</td>\n",
       "      <td>10.981602</td>\n",
       "    </tr>\n",
       "    <tr>\n",
       "      <th>1</th>\n",
       "      <td>11.0</td>\n",
       "      <td>11.364925</td>\n",
       "    </tr>\n",
       "    <tr>\n",
       "      <th>2</th>\n",
       "      <td>11.0</td>\n",
       "      <td>10.190227</td>\n",
       "    </tr>\n",
       "    <tr>\n",
       "      <th>3</th>\n",
       "      <td>11.0</td>\n",
       "      <td>9.903725</td>\n",
       "    </tr>\n",
       "    <tr>\n",
       "      <th>4</th>\n",
       "      <td>11.0</td>\n",
       "      <td>8.997918</td>\n",
       "    </tr>\n",
       "  </tbody>\n",
       "</table>\n",
       "</div>"
      ],
      "text/plain": [
       "    age  coolness_index\n",
       "0  11.0       10.981602\n",
       "1  11.0       11.364925\n",
       "2  11.0       10.190227\n",
       "3  11.0        9.903725\n",
       "4  11.0        8.997918"
      ]
     },
     "execution_count": 220,
     "metadata": {},
     "output_type": "execute_result"
    }
   ],
   "source": [
    "cool = pd.read_csv(\"Coolindex.txt\", header=None)\n",
    "cool.columns = [\"age\", \"coolness_index\"]\n",
    "cool.head()"
   ]
  },
  {
   "cell_type": "code",
   "execution_count": 221,
   "metadata": {},
   "outputs": [
    {
     "data": {
      "image/png": "[encoded data removed]",
      "text/plain": [
       "<matplotlib.figure.Figure at 0x1c1be02f60>"
      ]
     },
     "metadata": {},
     "output_type": "display_data"
    }
   ],
   "source": [
    "plt.scatter(x=cool.age, y=cool.coolness_index)\n",
    "plt.xlabel(\"Age (Yrs)\")\n",
    "plt.ylabel(\"Coolness Index\")\n",
    "plt.title(\"Coolness vs. Age\")\n",
    "plt.show()"
   ]
  },
  {
   "cell_type": "code",
   "execution_count": 222,
   "metadata": {},
   "outputs": [
    {
     "data": {
      "text/plain": [
       "7.9425151153015054"
      ]
     },
     "execution_count": 222,
     "metadata": {},
     "output_type": "execute_result"
    }
   ],
   "source": [
    "max(cool.iloc[:,1])\n",
    "min(cool.iloc[:,1])"
   ]
  },
  {
   "cell_type": "markdown",
   "metadata": {},
   "source": [
    "2(b)"
   ]
  },
  {
   "cell_type": "code",
   "execution_count": 223,
   "metadata": {
    "collapsed": true
   },
   "outputs": [],
   "source": [
    "index = cool['coolness_index']\n",
    "age = cool['age']\n",
    "age_bin1 = (age < 22).astype(int)\n",
    "age_bin2 = ((age >= 22) & (age < 40)).astype(int)\n",
    "age_bin3 = ((age >= 40) & (age < 59)).astype(int)\n",
    "age_bin4 = ((age >= 59) & (age < 77)).astype(int)\n",
    "age_bin5 = ((age >= 77) & (age < 95)).astype(int)"
   ]
  },
  {
   "cell_type": "code",
   "execution_count": 224,
   "metadata": {},
   "outputs": [],
   "source": [
    "X_step = pd.DataFrame(dict(age_bin1=age_bin1, age_bin2=age_bin2,\n",
    "                           age_bin3=age_bin3, age_bin4=age_bin4,\n",
    "                           age_bin5=age_bin5))"
   ]
  },
  {
   "cell_type": "code",
   "execution_count": 225,
   "metadata": {},
   "outputs": [
    {
     "name": "stdout",
     "output_type": "stream",
     "text": [
      "                            OLS Regression Results                            \n",
      "==============================================================================\n",
      "Dep. Variable:         coolness_index   R-squared:                       0.957\n",
      "Model:                            OLS   Adj. R-squared:                  0.957\n",
      "Method:                 Least Squares   F-statistic:                     4280.\n",
      "Date:                Mon, 19 Feb 2018   Prob (F-statistic):               0.00\n",
      "Time:                        08:52:28   Log-Likelihood:                -3220.5\n",
      "No. Observations:                 956   AIC:                             6451.\n",
      "Df Residuals:                     951   BIC:                             6475.\n",
      "Df Model:                           5                                         \n",
      "Covariance Type:            nonrobust                                         \n",
      "==============================================================================\n",
      "                 coef    std err          t      P>|t|      [0.025      0.975]\n",
      "------------------------------------------------------------------------------\n",
      "age_bin1      20.1025      0.566     35.522      0.000      18.992      21.213\n",
      "age_bin2      34.4758      0.434     79.505      0.000      33.625      35.327\n",
      "age_bin3      37.6351      0.426     88.258      0.000      36.798      38.472\n",
      "age_bin4      35.2254      0.489     72.105      0.000      34.267      36.184\n",
      "age_bin5      27.3482      0.950     28.787      0.000      25.484      29.213\n",
      "==============================================================================\n",
      "Omnibus:                       84.491   Durbin-Watson:                   1.237\n",
      "Prob(Omnibus):                  0.000   Jarque-Bera (JB):              109.160\n",
      "Skew:                           0.733   Prob(JB):                     1.98e-24\n",
      "Kurtosis:                       3.769   Cond. No.                         2.23\n",
      "==============================================================================\n",
      "\n",
      "Warnings:\n",
      "[1] Standard Errors assume that the covariance matrix of the errors is correctly specified.\n"
     ]
    }
   ],
   "source": [
    "reg = sm.OLS(endog=index, exog=X_step, missing='drop')\n",
    "reg_results = reg.fit()\n",
    "print(reg_results.summary())"
   ]
  },
  {
   "cell_type": "code",
   "execution_count": 226,
   "metadata": {},
   "outputs": [
    {
     "data": {
      "image/png": "[encoded data removed]",
      "text/plain": [
       "<matplotlib.figure.Figure at 0x1c204f8fd0>"
      ]
     },
     "metadata": {},
     "output_type": "display_data"
    }
   ],
   "source": [
    "plt.scatter(age, index, label=\"points\")\n",
    "plt.plot(cool.age, reg_results.predict(X_step), color = 'r',label='stepwise reg')\n",
    "plt.legend()\n",
    "plt.xlabel('Age')\n",
    "plt.ylabel('Coolness Index')\n",
    "plt.title('Coolness vs Age')\n",
    "plt.show()"
   ]
  },
  {
   "cell_type": "code",
   "execution_count": 234,
   "metadata": {},
   "outputs": [
    {
     "name": "stdout",
     "output_type": "stream",
     "text": [
      "beta_1 = 20.1024572521 , beta_2 = 34.4757880776 , beta_3 = 37.6351054924 , beta_4 = 35.2254000402 , beta_5 = 27.3481669528\n"
     ]
    }
   ],
   "source": [
    "b1, b2, b3, b4, b5 = reg_results.params\n",
    "print('beta_1 =', b1, ', beta_2 =', b2,\n",
    "      ', beta_3 =', b3, ', beta_4 =', b4,\n",
    "      ', beta_5 =', b5)"
   ]
  },
  {
   "cell_type": "code",
   "execution_count": 235,
   "metadata": {},
   "outputs": [
    {
     "name": "stdout",
     "output_type": "stream",
     "text": [
      "the predicted coolness for a 73-year old is approximately 35.2254000402\n"
     ]
    },
    {
     "data": {
      "text/plain": [
       "age_bin1    20.102457\n",
       "age_bin2    34.475788\n",
       "age_bin3    37.635105\n",
       "age_bin4    35.225400\n",
       "age_bin5    27.348167\n",
       "dtype: float64"
      ]
     },
     "execution_count": 235,
     "metadata": {},
     "output_type": "execute_result"
    }
   ],
   "source": [
    "print('the predicted coolness for a 73-year old is approximately', reg_results.params[3])\n",
    "reg_results.params"
   ]
  },
  {
   "cell_type": "markdown",
   "metadata": {},
   "source": [
    "2(c)"
   ]
  },
  {
   "cell_type": "code",
   "execution_count": 228,
   "metadata": {},
   "outputs": [],
   "source": [
    "knots = [22, 40, 59, 77]\n",
    "spline_1 = LSQUnivariateSpline(age.values, index.values, knots, k=1)\n",
    "pred_1 = spline_1(age)\n",
    "pred_2 = spline_1(73)"
   ]
  },
  {
   "cell_type": "code",
   "execution_count": 229,
   "metadata": {},
   "outputs": [
    {
     "data": {
      "image/png": "[encoded data removed]",
      "text/plain": [
       "<matplotlib.figure.Figure at 0x1c1ff33198>"
      ]
     },
     "metadata": {},
     "output_type": "display_data"
    }
   ],
   "source": [
    "plt.scatter(age, index, label=\"points\")\n",
    "plt.plot(cool.age, reg_results.predict(X_step), color = 'r',label='Stepwise Reg')\n",
    "plt.plot(cool.age, pred_1, color='y', label='Linear Spline')\n",
    "plt.legend()\n",
    "plt.xlabel('Age')\n",
    "plt.ylabel('Coolness Index')\n",
    "plt.title('Coolness vs Age')\n",
    "plt.show()"
   ]
  },
  {
   "cell_type": "code",
   "execution_count": 230,
   "metadata": {},
   "outputs": [
    {
     "name": "stdout",
     "output_type": "stream",
     "text": [
      "Predicted Coolness of a 73-year old is 32.536832389143306\n"
     ]
    }
   ],
   "source": [
    "print('Predicted Coolness of a 73-year old is', pred_2)"
   ]
  },
  {
   "cell_type": "markdown",
   "metadata": {},
   "source": [
    "2(d)"
   ]
  },
  {
   "cell_type": "code",
   "execution_count": 231,
   "metadata": {
    "scrolled": false
   },
   "outputs": [],
   "source": [
    "knots = [22, 40, 59, 77]\n",
    "spline_2 = LSQUnivariateSpline(age.values, index.values, knots, k=3)\n",
    "pred_2 = spline_2(age)"
   ]
  },
  {
   "cell_type": "code",
   "execution_count": 232,
   "metadata": {},
   "outputs": [
    {
     "data": {
      "image/png": "[encoded data removed]",
      "text/plain": [
       "<matplotlib.figure.Figure at 0x1c20bdd8d0>"
      ]
     },
     "metadata": {},
     "output_type": "display_data"
    }
   ],
   "source": [
    "plt.scatter(age, index, label=\"points\")\n",
    "plt.plot(cool.age, reg_results.predict(X_step), color = 'r',label='Stepwise Reg')\n",
    "plt.plot(cool.age, pred_2, color='y', label='Linear Spline')\n",
    "plt.legend()\n",
    "plt.xlabel('Age')\n",
    "plt.ylabel('Coolness Index')\n",
    "plt.title('Coolness vs Age')\n",
    "plt.show()"
   ]
  },
  {
   "cell_type": "code",
   "execution_count": 233,
   "metadata": {},
   "outputs": [
    {
     "name": "stdout",
     "output_type": "stream",
     "text": [
      "Predicted Coolness of a 73-year old is 31.262429389257864\n"
     ]
    }
   ],
   "source": [
    "pred_3 = spline_2(73)\n",
    "print('Predicted Coolness of a 73-year old is', pred_3)"
   ]
  }
 ],
 "metadata": {
  "kernelspec": {
   "display_name": "Python 3",
   "language": "python",
   "name": "python3"
  },
  "language_info": {
   "codemirror_mode": {
    "name": "ipython",
    "version": 3
   },
   "file_extension": ".py",
   "mimetype": "text/x-python",
   "name": "python",
   "nbconvert_exporter": "python",
   "pygments_lexer": "ipython3",
   "version": "3.6.3"
  }
 },
 "nbformat": 4,
 "nbformat_minor": 2
}
