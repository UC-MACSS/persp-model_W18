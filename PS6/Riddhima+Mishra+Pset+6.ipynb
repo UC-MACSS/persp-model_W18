{
 "cells": [
  {
   "cell_type": "code",
   "execution_count": 1,
   "metadata": {},
   "outputs": [
    {
     "data": {
      "text/plain": [
       "'C:\\\\Users\\\\Riddhima Mishra'"
      ]
     },
     "execution_count": 1,
     "metadata": {},
     "output_type": "execute_result"
    }
   ],
   "source": [
    "pwd"
   ]
  },
  {
   "cell_type": "code",
   "execution_count": 2,
   "metadata": {},
   "outputs": [
    {
     "name": "stdout",
     "output_type": "stream",
     "text": [
      "C:\\cygwin64\\home\\Riddhima Mishra\\persp-model_W18\\ProblemSets\\PS6\n"
     ]
    }
   ],
   "source": [
    "cd C:\\cygwin64\\home\\Riddhima Mishra\\persp-model_W18\\ProblemSets\\PS6"
   ]
  },
  {
   "cell_type": "code",
   "execution_count": 3,
   "metadata": {},
   "outputs": [
    {
     "data": {
      "text/plain": [
       "'C:\\\\cygwin64\\\\home\\\\Riddhima Mishra\\\\persp-model_W18\\\\ProblemSets\\\\PS6'"
      ]
     },
     "execution_count": 3,
     "metadata": {},
     "output_type": "execute_result"
    }
   ],
   "source": [
    "pwd"
   ]
  },
  {
   "cell_type": "markdown",
   "metadata": {},
   "source": [
    "#### Reading the data and importing packages"
   ]
  },
  {
   "cell_type": "code",
   "execution_count": 6,
   "metadata": {
    "collapsed": true
   },
   "outputs": [],
   "source": [
    "import numpy as np\n",
    "import pandas as pd\n",
    "from sklearn.tree import DecisionTreeRegressor, DecisionTreeClassifier\n",
    "from sklearn.cross_validation import train_test_split\n",
    "from sklearn.metrics import mean_squared_error\n",
    "import random\n",
    "from sklearn.ensemble import BaggingRegressor\n",
    "from sklearn.ensemble import RandomForestRegressor\n",
    "\n",
    "data = pd.read_csv(\"biden.csv\", sep=',')"
   ]
  },
  {
   "cell_type": "code",
   "execution_count": 7,
   "metadata": {
    "collapsed": true
   },
   "outputs": [],
   "source": [
    "#Dropping Nans and defining x and y arrays\n",
    "\n",
    "data= data.dropna()\n",
    "\n",
    "y= data['biden'].values\n",
    "x = data[['female', 'age', 'educ', 'dem', 'rep']].values"
   ]
  },
  {
   "cell_type": "code",
   "execution_count": 8,
   "metadata": {},
   "outputs": [
    {
     "data": {
      "text/html": [
       "<div>\n",
       "<style>\n",
       "    .dataframe thead tr:only-child th {\n",
       "        text-align: right;\n",
       "    }\n",
       "\n",
       "    .dataframe thead th {\n",
       "        text-align: left;\n",
       "    }\n",
       "\n",
       "    .dataframe tbody tr th {\n",
       "        vertical-align: top;\n",
       "    }\n",
       "</style>\n",
       "<table border=\"1\" class=\"dataframe\">\n",
       "  <thead>\n",
       "    <tr style=\"text-align: right;\">\n",
       "      <th></th>\n",
       "      <th>biden</th>\n",
       "      <th>female</th>\n",
       "      <th>age</th>\n",
       "      <th>educ</th>\n",
       "      <th>dem</th>\n",
       "      <th>rep</th>\n",
       "    </tr>\n",
       "  </thead>\n",
       "  <tbody>\n",
       "    <tr>\n",
       "      <th>0</th>\n",
       "      <td>90</td>\n",
       "      <td>0</td>\n",
       "      <td>19</td>\n",
       "      <td>12</td>\n",
       "      <td>1</td>\n",
       "      <td>0</td>\n",
       "    </tr>\n",
       "    <tr>\n",
       "      <th>1</th>\n",
       "      <td>70</td>\n",
       "      <td>1</td>\n",
       "      <td>51</td>\n",
       "      <td>14</td>\n",
       "      <td>1</td>\n",
       "      <td>0</td>\n",
       "    </tr>\n",
       "    <tr>\n",
       "      <th>2</th>\n",
       "      <td>60</td>\n",
       "      <td>0</td>\n",
       "      <td>27</td>\n",
       "      <td>14</td>\n",
       "      <td>0</td>\n",
       "      <td>0</td>\n",
       "    </tr>\n",
       "    <tr>\n",
       "      <th>3</th>\n",
       "      <td>50</td>\n",
       "      <td>1</td>\n",
       "      <td>43</td>\n",
       "      <td>14</td>\n",
       "      <td>1</td>\n",
       "      <td>0</td>\n",
       "    </tr>\n",
       "    <tr>\n",
       "      <th>4</th>\n",
       "      <td>60</td>\n",
       "      <td>1</td>\n",
       "      <td>38</td>\n",
       "      <td>14</td>\n",
       "      <td>0</td>\n",
       "      <td>1</td>\n",
       "    </tr>\n",
       "  </tbody>\n",
       "</table>\n",
       "</div>"
      ],
      "text/plain": [
       "   biden  female  age  educ  dem  rep\n",
       "0     90       0   19    12    1    0\n",
       "1     70       1   51    14    1    0\n",
       "2     60       0   27    14    0    0\n",
       "3     50       1   43    14    1    0\n",
       "4     60       1   38    14    0    1"
      ]
     },
     "execution_count": 8,
     "metadata": {},
     "output_type": "execute_result"
    }
   ],
   "source": [
    "data.head()"
   ]
  },
  {
   "cell_type": "markdown",
   "metadata": {},
   "source": [
    "##### a. Decision Trees"
   ]
  },
  {
   "cell_type": "code",
   "execution_count": 10,
   "metadata": {},
   "outputs": [
    {
     "data": {
      "text/plain": [
       "DecisionTreeRegressor(criterion='mse', max_depth=3, max_features=None,\n",
       "           max_leaf_nodes=None, min_impurity_decrease=0.0,\n",
       "           min_impurity_split=None, min_samples_leaf=5,\n",
       "           min_samples_split=2, min_weight_fraction_leaf=0.0,\n",
       "           presort=False, random_state=None, splitter='best')"
      ]
     },
     "execution_count": 10,
     "metadata": {},
     "output_type": "execute_result"
    }
   ],
   "source": [
    "#setting the seed\n",
    "\n",
    "random.seed(1234)\n",
    "\n",
    "#Splitting the dataset into training and test\n",
    "\n",
    "X_train, X_test, y_train, y_test = train_test_split(x, y, test_size = .7,\n",
    "                                                    random_state=25)\n",
    "hit_tree2 = DecisionTreeRegressor(max_depth=3, min_samples_leaf=5)\n",
    "hit_tree2.fit(X_train, y_train)"
   ]
  },
  {
   "cell_type": "markdown",
   "metadata": {},
   "source": [
    "###### Plot"
   ]
  },
  {
   "cell_type": "code",
   "execution_count": 25,
   "metadata": {
    "collapsed": true
   },
   "outputs": [],
   "source": [
    "from sklearn.tree import export_graphviz \n",
    "#import graphviz\n",
    "\n",
    "from sklearn.externals.six import StringIO  \n",
    "from IPython.display import Image  \n",
    "from sklearn.tree import export_graphviz\n",
    "\n",
    "\n",
    "def visualize_tree(tree):\n",
    "    \"\"\"Create tree png using graphviz.\n",
    "\n",
    "    Args\n",
    "    ----\n",
    "    tree -- scikit-learn DecsisionTree.\n",
    "    feature_names -- list of feature names.\n",
    "    \"\"\"\n",
    "    with open(\"dt.dot\", 'w') as f:\n",
    "        export_graphviz(tree, out_file=f)\n",
    "\n",
    "    command = [\"dot\", \"-Tpng\", \"dt.dot\", \"-o\", \"dt.png\"]\n",
    "    try:\n",
    "        subprocess.check_call(command)\n",
    "    except:\n",
    "        exit(\"Could not run dot, ie graphviz, to \"\n",
    "             \"produce visualization\")\n",
    "\n",
    "visualize_tree(hit_tree2)"
   ]
  },
  {
   "cell_type": "markdown",
   "metadata": {},
   "source": [
    "###### MSE"
   ]
  },
  {
   "cell_type": "code",
   "execution_count": 12,
   "metadata": {},
   "outputs": [
    {
     "name": "stdout",
     "output_type": "stream",
     "text": [
      "MSE= 416.45371543\n"
     ]
    }
   ],
   "source": [
    "y_pred = hit_tree2.predict(X_test)\n",
    "MSE1 = mean_squared_error(y_test, y_pred)\n",
    "print('MSE=', MSE1)"
   ]
  },
  {
   "cell_type": "markdown",
   "metadata": {},
   "source": [
    "#### b. "
   ]
  },
  {
   "cell_type": "code",
   "execution_count": 27,
   "metadata": {},
   "outputs": [
    {
     "name": "stdout",
     "output_type": "stream",
     "text": [
      "MSE= 791.590667545\n",
      "Acurracy of the model with default value: -0.447294663039\n"
     ]
    }
   ],
   "source": [
    "#Fitting the model with default values\n",
    "\n",
    "tree3 = DecisionTreeRegressor()\n",
    "tree3.fit(X_train, y_train)\n",
    "\n",
    "#MSE\n",
    "\n",
    "y_pred = tree3.predict(X_test)\n",
    "MSE_default = mean_squared_error(y_test, y_pred)\n",
    "print('MSE=', MSE_default)\n",
    "\n",
    "#Accuracy of the model that we created with modified model parameters.\n",
    "score1 = tree3.score(X_test, y_test)\n",
    "print(\"Acurracy of the model with default value:\", score1)"
   ]
  },
  {
   "cell_type": "code",
   "execution_count": 28,
   "metadata": {},
   "outputs": [
    {
     "name": "stdout",
     "output_type": "stream",
     "text": [
      "MSE= 440.139402497\n",
      "Accuracy of the model with max_depth = 1  is : 0.195276758122\n",
      "MSE= 407.97262097\n",
      "Accuracy of the model with max_depth = 2  is : 0.254088481326\n",
      "MSE= 416.45371543\n",
      "Accuracy of the model with max_depth = 3  is : 0.238582180846\n",
      "MSE= 431.370669243\n",
      "Accuracy of the model with max_depth = 4  is : 0.211308959309\n",
      "MSE= 445.151650907\n",
      "Accuracy of the model with max_depth = 5  is : 0.186112677908\n",
      "MSE= 467.68317917\n",
      "Accuracy of the model with max_depth = 6  is : 0.144917446658\n",
      "MSE= 484.575095411\n",
      "Accuracy of the model with max_depth = 7  is : 0.11403332785\n",
      "MSE= 503.651661929\n",
      "Accuracy of the model with max_depth = 8  is : 0.0791549316755\n",
      "MSE= 516.42783311\n",
      "Accuracy of the model with max_depth = 9  is : 0.0557957826567\n",
      "MSE= 523.140688975\n",
      "Accuracy of the model with max_depth = 10  is : 0.0435224185745\n"
     ]
    }
   ],
   "source": [
    "# Running a for loop for testing the model with the max acuracy by changing values for max_depth\n",
    "\n",
    "for ind in range(1,11):\n",
    "    tree_loop = DecisionTreeRegressor(max_depth= ind, min_samples_leaf=5)\n",
    "    tree_loop.fit(X_train, y_train)\n",
    "    y_pred_loop = tree_loop.predict(X_test)\n",
    "    MSE_vec[ind - 1] = mean_squared_error(y_test, y_pred_loop)\n",
    "    print('MSE=', MSE_vec[ind - 1])\n",
    "    score = tree_loop.score(X_test, y_test)\n",
    "    print(\"Accuracy of the model with max_depth =\", ind, \" is :\",  score)"
   ]
  },
  {
   "cell_type": "markdown",
   "metadata": {},
   "source": [
    "Since, the lowest MSE and max accuracy is for max_depth= 2, we can fit the model with these parameters"
   ]
  },
  {
   "cell_type": "markdown",
   "metadata": {},
   "source": [
    "#### c. Bagging "
   ]
  },
  {
   "cell_type": "code",
   "execution_count": 13,
   "metadata": {},
   "outputs": [
    {
     "data": {
      "text/plain": [
       "BaggingRegressor(base_estimator=DecisionTreeRegressor(criterion='mse', max_depth=None, max_features=None,\n",
       "           max_leaf_nodes=None, min_impurity_decrease=0.0,\n",
       "           min_impurity_split=None, min_samples_leaf=1,\n",
       "           min_samples_split=2, min_weight_fraction_leaf=0.0,\n",
       "           presort=False, random_state=None, splitter='best'),\n",
       "         bootstrap=True, bootstrap_features=False, max_features=1.0,\n",
       "         max_samples=100, n_estimators=100, n_jobs=1, oob_score=True,\n",
       "         random_state=15, verbose=0, warm_start=False)"
      ]
     },
     "execution_count": 13,
     "metadata": {},
     "output_type": "execute_result"
    }
   ],
   "source": [
    "tree4 = BaggingRegressor(DecisionTreeRegressor(), n_estimators=100,\n",
    "                             max_samples=100, bootstrap=True, oob_score=True, random_state=15)\n",
    "tree4.fit(x, y)"
   ]
  },
  {
   "cell_type": "code",
   "execution_count": 14,
   "metadata": {},
   "outputs": [
    {
     "name": "stdout",
     "output_type": "stream",
     "text": [
      "MSE= 406.000558395\n"
     ]
    }
   ],
   "source": [
    "###MSE\n",
    "\n",
    "tree4.score(x, y)\n",
    "y_pred3 = tree4.oob_prediction_\n",
    "MSE3 = mean_squared_error(y, y_pred3)\n",
    "print('MSE=', MSE3)"
   ]
  },
  {
   "cell_type": "code",
   "execution_count": 17,
   "metadata": {},
   "outputs": [
    {
     "name": "stderr",
     "output_type": "stream",
     "text": [
      "C:\\Users\\Riddhima Mishra\\Anaconda3\\lib\\site-packages\\sklearn\\ensemble\\bagging.py:987: UserWarning: Some inputs do not have OOB scores. This probably means too few estimators were used to compute any reliable oob estimates.\n",
      "  warn(\"Some inputs do not have OOB scores. \"\n",
      "C:\\Users\\Riddhima Mishra\\Anaconda3\\lib\\site-packages\\sklearn\\ensemble\\bagging.py:987: UserWarning: Some inputs do not have OOB scores. This probably means too few estimators were used to compute any reliable oob estimates.\n",
      "  warn(\"Some inputs do not have OOB scores. \"\n"
     ]
    },
    {
     "name": "stdout",
     "output_type": "stream",
     "text": [
      "Min. MSE= 405.856371415 , Min. B= 91\n"
     ]
    },
    {
     "data": {
      "image/png": "[encoded data removed]",
      "text/plain": [
       "<matplotlib.figure.Figure at 0x226d80eee48>"
      ]
     },
     "metadata": {},
     "output_type": "display_data"
    }
   ],
   "source": [
    "#Plots\n",
    "\n",
    "#The mean squarred error has reduced which means we have become better at predicting\n",
    "#Plot\n",
    "\n",
    "from pylab import rcParams\n",
    "import matplotlib.pyplot as plt\n",
    "import seaborn as sb\n",
    "%matplotlib inline\n",
    "rcParams['figure.figsize'] = 10, 8\n",
    "sb.set_style('whitegrid')\n",
    "\n",
    "\n",
    "MSE_base = MSE1\n",
    "max_samples = 100\n",
    "MSE_vec = np.zeros(max_samples)\n",
    "for ind in range(1, max_samples + 1):\n",
    "    tree_loop = BaggingRegressor(DecisionTreeRegressor(), n_estimators=ind,\n",
    "                                 max_samples=100, bootstrap=True, oob_score=True,\n",
    "                                 random_state=15)\n",
    "    tree_loop.fit(x, y)\n",
    "    y_pred_loop = tree_loop.oob_prediction_\n",
    "    MSE_vec[ind - 1] = mean_squared_error(y, y_pred_loop)\n",
    "    #print('MSE=', MSE_vec[ind - 1])\n",
    "\n",
    "fig, ax = plt.subplots()\n",
    "plt.plot(np.arange(1, max_samples + 1), MSE_base * np.ones(max_samples),\n",
    "         label='Base MSE')\n",
    "plt.plot(np.arange(1, max_samples + 1), MSE_vec, label='Bagging MSE')\n",
    "# for the minor ticks, use no labels; default NullFormatter\n",
    "plt.title('Bagging MSE vs. Basic Tree MSE', fontsize=20)\n",
    "plt.xlabel(r'Max. bagging samples $B$')\n",
    "plt.ylabel(r'MSE')\n",
    "plt.xlim((0, max_samples + 1))\n",
    "plt.legend(loc='best')\n",
    "\n",
    "print('Min. MSE=', MSE_vec.min(), ', Min. B=', np.argwhere(MSE_vec == MSE_vec.min())[0, 0] - 1)"
   ]
  },
  {
   "cell_type": "markdown",
   "metadata": {},
   "source": [
    "#### d. Random Forests"
   ]
  },
  {
   "cell_type": "code",
   "execution_count": 23,
   "metadata": {},
   "outputs": [
    {
     "name": "stdout",
     "output_type": "stream",
     "text": [
      "MSE= 532.875057972\n"
     ]
    },
    {
     "data": {
      "text/plain": [
       "[(0.021333064405182765,),\n",
       " (0.51217509862848543,),\n",
       " (0.15018054715372878,),\n",
       " (0.1924320716293704,),\n",
       " (0.12387921818323255,)]"
      ]
     },
     "execution_count": 23,
     "metadata": {},
     "output_type": "execute_result"
    }
   ],
   "source": [
    "#m = 1\n",
    "\n",
    "tree_m1 = RandomForestRegressor(n_estimators=53, max_features=1, bootstrap=True,\n",
    "                                  oob_score=True, random_state=15)\n",
    "tree_m1.fit(x, y)\n",
    "\n",
    "tree_m1.score(x, y)\n",
    "y_pred4 = tree_m1.oob_prediction_\n",
    "MSE_m1 = mean_squared_error(y, y_pred4)\n",
    "print('MSE=', MSE_m1)\n",
    "\n",
    "#Variable importance \n",
    "\n",
    "list(zip(tree_m1.feature_importances_))"
   ]
  },
  {
   "cell_type": "code",
   "execution_count": 22,
   "metadata": {},
   "outputs": [
    {
     "name": "stdout",
     "output_type": "stream",
     "text": [
      "MSE= 538.192542935\n"
     ]
    },
    {
     "data": {
      "text/plain": [
       "[(0.021104571833991309,),\n",
       " (0.50758431124010039,),\n",
       " (0.15142369561566391,),\n",
       " (0.19194351404282561,),\n",
       " (0.1279439072674188,)]"
      ]
     },
     "execution_count": 22,
     "metadata": {},
     "output_type": "execute_result"
    }
   ],
   "source": [
    "# m = 2\n",
    "\n",
    "tree_m2 = RandomForestRegressor(n_estimators=53, max_features=2, bootstrap=True,\n",
    "                                  oob_score=True, random_state=15)\n",
    "tree_m2.fit(x, y)\n",
    "\n",
    "tree_m2.score(x, y)\n",
    "y_pred4 = tree_m2.oob_prediction_\n",
    "MSE_m2 = mean_squared_error(y, y_pred4)\n",
    "print('MSE=', MSE_m2)\n",
    "\n",
    "#Variable importance\n",
    "\n",
    "list(zip(tree_m2.feature_importances_))"
   ]
  },
  {
   "cell_type": "code",
   "execution_count": 21,
   "metadata": {},
   "outputs": [
    {
     "name": "stdout",
     "output_type": "stream",
     "text": [
      "MSE= 535.761962701\n"
     ]
    },
    {
     "data": {
      "text/plain": [
       "[(0.027370799686630812,),\n",
       " (0.48465203636705279,),\n",
       " (0.16508946236227023,),\n",
       " (0.19916532223909172,),\n",
       " (0.12372237934495429,)]"
      ]
     },
     "execution_count": 21,
     "metadata": {},
     "output_type": "execute_result"
    }
   ],
   "source": [
    "#m = 3\n",
    "\n",
    "tree_m3 = RandomForestRegressor(n_estimators=53, max_features=3, bootstrap=True,\n",
    "                                  oob_score=True, random_state=15)\n",
    "tree_m3.fit(x, y)\n",
    "\n",
    "tree_m3.score(x, y)\n",
    "y_pred4 = tree_m3.oob_prediction_\n",
    "MSE_m3 = mean_squared_error(y, y_pred4)\n",
    "print('MSE=', MSE_m3)\n",
    "\n",
    "list(zip(tree_m3.feature_importances_))"
   ]
  },
  {
   "cell_type": "markdown",
   "metadata": {},
   "source": [
    "Age is the most important variable for predicting the values for biden. \n",
    "\n",
    "Initially it looked MSE drops as more variables are included in the sample, but it isn't the case. The lowest MSE is obtained when less # of variables are included at each split. \n"
   ]
  },
  {
   "cell_type": "code",
   "execution_count": null,
   "metadata": {
    "collapsed": true
   },
   "outputs": [],
   "source": []
  }
 ],
 "metadata": {
  "kernelspec": {
   "display_name": "Python 3",
   "language": "python",
   "name": "python3"
  },
  "language_info": {
   "codemirror_mode": {
    "name": "ipython",
    "version": 3
   },
   "file_extension": ".py",
   "mimetype": "text/x-python",
   "name": "python",
   "nbconvert_exporter": "python",
   "pygments_lexer": "ipython3",
   "version": "3.6.3"
  }
 },
 "nbformat": 4,
 "nbformat_minor": 2
}
