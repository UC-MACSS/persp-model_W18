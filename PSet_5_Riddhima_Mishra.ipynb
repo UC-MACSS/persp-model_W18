{
 "cells": [
  {
   "cell_type": "markdown",
   "metadata": {},
   "source": [
    "# Problem Set # 5"
   ]
  },
  {
   "cell_type": "markdown",
   "metadata": {},
   "source": [
    "### Submitted by: Riddhima Mishra"
   ]
  },
  {
   "cell_type": "code",
   "execution_count": 2,
   "metadata": {},
   "outputs": [
    {
     "name": "stdout",
     "output_type": "stream",
     "text": [
      "C:\\cygwin64\\home\\Riddhima Mishra\\persp-model_W18\\ProblemSets\\PS5\\data\n"
     ]
    }
   ],
   "source": [
    "cd C:\\\\cygwin64\\\\home\\\\Riddhima Mishra\\\\persp-model_W18\\\\ProblemSets\\\\PS5\\\\data"
   ]
  },
  {
   "cell_type": "code",
   "execution_count": 3,
   "metadata": {},
   "outputs": [
    {
     "name": "stderr",
     "output_type": "stream",
     "text": [
      "C:\\Users\\Riddhima Mishra\\Anaconda3\\lib\\site-packages\\sklearn\\cross_validation.py:41: DeprecationWarning: This module was deprecated in version 0.18 in favor of the model_selection module into which all the refactored classes and functions are moved. Also note that the interface of the new CV iterators are different from that of this module. This module will be removed in 0.20.\n",
      "  \"This module will be removed in 0.20.\", DeprecationWarning)\n",
      "C:\\Users\\Riddhima Mishra\\Anaconda3\\lib\\site-packages\\statsmodels\\compat\\pandas.py:56: FutureWarning: The pandas.core.datetools module is deprecated and will be removed in a future version. Please use the pandas.tseries module instead.\n",
      "  from pandas.core import datetools\n"
     ]
    }
   ],
   "source": [
    "import numpy as np\n",
    "import pandas as pd\n",
    "from pandas import Series, DataFrame\n",
    "\n",
    "import sklearn\n",
    "from sklearn import preprocessing\n",
    "from sklearn.linear_model import LogisticRegression\n",
    "from sklearn.cross_validation import train_test_split\n",
    "from sklearn import metrics \n",
    "from sklearn.metrics import classification_report\n",
    "from pylab import rcParams\n",
    "import statsmodels.api as sm\n",
    "\n",
    "import matplotlib.pyplot as plt\n",
    "import seaborn as sb"
   ]
  },
  {
   "cell_type": "markdown",
   "metadata": {},
   "source": [
    "### 1. Multinomial Regression and Cross Validation"
   ]
  },
  {
   "cell_type": "code",
   "execution_count": 4,
   "metadata": {
    "collapsed": true
   },
   "outputs": [],
   "source": [
    "#Load data\n",
    "data = pd.read_csv(\"strongdrink.txt\")\n",
    "data.isnull().sum()\n",
    "\n",
    "#No null values\n",
    "\n",
    "#Keeping relevant variables\n",
    "\n",
    "data_analysis = data.drop(['ash', 'alk', 'magn', 'flav', 'nonfl_phen', 'proanth', 'hue', 'OD280rat', 'proline'], 1)"
   ]
  },
  {
   "cell_type": "code",
   "execution_count": 6,
   "metadata": {},
   "outputs": [
    {
     "data": {
      "text/html": [
       "<div>\n",
       "<style>\n",
       "    .dataframe thead tr:only-child th {\n",
       "        text-align: right;\n",
       "    }\n",
       "\n",
       "    .dataframe thead th {\n",
       "        text-align: left;\n",
       "    }\n",
       "\n",
       "    .dataframe tbody tr th {\n",
       "        vertical-align: top;\n",
       "    }\n",
       "</style>\n",
       "<table border=\"1\" class=\"dataframe\">\n",
       "  <thead>\n",
       "    <tr style=\"text-align: right;\">\n",
       "      <th></th>\n",
       "      <th>cultivar</th>\n",
       "      <th>alco</th>\n",
       "      <th>malic</th>\n",
       "      <th>tot_phen</th>\n",
       "      <th>color_int</th>\n",
       "    </tr>\n",
       "  </thead>\n",
       "  <tbody>\n",
       "    <tr>\n",
       "      <th>0</th>\n",
       "      <td>1</td>\n",
       "      <td>14.23</td>\n",
       "      <td>1.71</td>\n",
       "      <td>2.80</td>\n",
       "      <td>5.64</td>\n",
       "    </tr>\n",
       "    <tr>\n",
       "      <th>1</th>\n",
       "      <td>1</td>\n",
       "      <td>13.20</td>\n",
       "      <td>1.78</td>\n",
       "      <td>2.65</td>\n",
       "      <td>4.38</td>\n",
       "    </tr>\n",
       "    <tr>\n",
       "      <th>2</th>\n",
       "      <td>1</td>\n",
       "      <td>13.16</td>\n",
       "      <td>2.36</td>\n",
       "      <td>2.80</td>\n",
       "      <td>5.68</td>\n",
       "    </tr>\n",
       "    <tr>\n",
       "      <th>3</th>\n",
       "      <td>1</td>\n",
       "      <td>14.37</td>\n",
       "      <td>1.95</td>\n",
       "      <td>3.85</td>\n",
       "      <td>7.80</td>\n",
       "    </tr>\n",
       "    <tr>\n",
       "      <th>4</th>\n",
       "      <td>1</td>\n",
       "      <td>13.24</td>\n",
       "      <td>2.59</td>\n",
       "      <td>2.80</td>\n",
       "      <td>4.32</td>\n",
       "    </tr>\n",
       "  </tbody>\n",
       "</table>\n",
       "</div>"
      ],
      "text/plain": [
       "   cultivar   alco  malic  tot_phen  color_int\n",
       "0         1  14.23   1.71      2.80       5.64\n",
       "1         1  13.20   1.78      2.65       4.38\n",
       "2         1  13.16   2.36      2.80       5.68\n",
       "3         1  14.37   1.95      3.85       7.80\n",
       "4         1  13.24   2.59      2.80       4.32"
      ]
     },
     "execution_count": 6,
     "metadata": {},
     "output_type": "execute_result"
    }
   ],
   "source": [
    "data_analysis.head()"
   ]
  },
  {
   "cell_type": "code",
   "execution_count": 7,
   "metadata": {},
   "outputs": [
    {
     "name": "stderr",
     "output_type": "stream",
     "text": [
      "C:\\Users\\Riddhima Mishra\\Anaconda3\\lib\\site-packages\\ipykernel_launcher.py:2: DeprecationWarning: \n",
      ".ix is deprecated. Please use\n",
      ".loc for label based indexing or\n",
      ".iloc for positional indexing\n",
      "\n",
      "See the documentation here:\n",
      "http://pandas.pydata.org/pandas-docs/stable/indexing.html#ix-indexer-is-deprecated\n",
      "  \n"
     ]
    }
   ],
   "source": [
    "# X and y are numpy arrays, not a DataFrame and Series, respectively.\n",
    "X = data_analysis.ix[:, (1, 2, 3, 4)].values\n",
    "y = data_analysis.ix[:, 0].values"
   ]
  },
  {
   "cell_type": "code",
   "execution_count": 8,
   "metadata": {
    "collapsed": true
   },
   "outputs": [],
   "source": [
    "X_train, X_test, y_train, y_test = train_test_split(X, y, test_size = .25,\n",
    "                                                    random_state=20)"
   ]
  },
  {
   "cell_type": "code",
   "execution_count": 9,
   "metadata": {
    "collapsed": true
   },
   "outputs": [],
   "source": [
    "#running logit model\n",
    "\n",
    "LogReg = LogisticRegression()\n",
    "LogReg.fit(X_train, y_train)\n",
    "\n",
    "y_pred = LogReg.predict(X_test)"
   ]
  },
  {
   "cell_type": "markdown",
   "metadata": {},
   "source": [
    "#### a) Estimated coeffecients, error rates"
   ]
  },
  {
   "cell_type": "code",
   "execution_count": 13,
   "metadata": {},
   "outputs": [
    {
     "name": "stdout",
     "output_type": "stream",
     "text": [
      "Estimated coeffecients [[-0.14627245 -0.48477655  1.51308262  0.13903482]\n",
      " [ 0.3565457  -0.34661319  0.64339283 -1.61990007]\n",
      " [-0.23172523  0.95844737 -2.68156609  1.00492579]]\n",
      "Coeffecient for the intercept [-1.94941251  1.10964888  0.03887469]\n",
      "             precision    recall  f1-score   support\n",
      "\n",
      "          1       0.92      0.85      0.88        13\n",
      "          2       0.95      0.95      0.95        21\n",
      "          3       0.91      1.00      0.95        10\n",
      "\n",
      "avg / total       0.93      0.93      0.93        44\n",
      "\n",
      "Validation set MSE =  0.136363636364\n"
     ]
    }
   ],
   "source": [
    "#Estimates coeffecients\n",
    "\n",
    "print(\"Estimated coeffecients\", LogReg.coef_)\n",
    "print(\"Coeffecient for the intercept\", LogReg.intercept_)\n",
    "\n",
    "\n",
    "print(classification_report(y_test, y_pred))\n",
    "\n",
    "#Error rates\n",
    "\n",
    "MSE_vs = ((y_test - y_pred) ** 2).sum() / y_pred.shape[0]\n",
    "print('Validation set MSE = ', MSE_vs)\n",
    "\n"
   ]
  },
  {
   "cell_type": "markdown",
   "metadata": {},
   "source": [
    "Model is best at predicting j = 2\n",
    "\n",
    "Plotting a graph to check if the best predicted category has the most observations as well"
   ]
  },
  {
   "cell_type": "code",
   "execution_count": 14,
   "metadata": {},
   "outputs": [
    {
     "data": {
      "image/png": "[encoded data removed]",
      "text/plain": [
       "<matplotlib.figure.Figure at 0x1f79f3ae390>"
      ]
     },
     "metadata": {},
     "output_type": "display_data"
    }
   ],
   "source": [
    "data_analysis['cultivar'].value_counts().plot(kind='bar')\n",
    "plt.show()"
   ]
  },
  {
   "cell_type": "markdown",
   "metadata": {},
   "source": [
    "Yes, best predicted category, has also the most observations"
   ]
  },
  {
   "cell_type": "markdown",
   "metadata": {},
   "source": [
    "#### b) Leave one out cross validation"
   ]
  },
  {
   "cell_type": "code",
   "execution_count": 18,
   "metadata": {},
   "outputs": [
    {
     "name": "stdout",
     "output_type": "stream",
     "text": [
      "MSE for test set [0]  is [ 0.]\n",
      "MSE for test set [1]  is [ 0.]\n",
      "MSE for test set [2]  is [ 0.]\n",
      "MSE for test set [3]  is [ 0.]\n",
      "MSE for test set [4]  is [ 0.]\n",
      "MSE for test set [5]  is [ 0.]\n",
      "MSE for test set [6]  is [ 0.]\n",
      "MSE for test set [7]  is [ 0.]\n",
      "MSE for test set [8]  is [ 0.]\n",
      "MSE for test set [9]  is [ 0.]\n",
      "MSE for test set [10]  is [ 0.]\n",
      "MSE for test set [11]  is [ 1.]\n",
      "MSE for test set [12]  is [ 0.]\n",
      "MSE for test set [13]  is [ 0.]\n",
      "MSE for test set [14]  is [ 0.]\n",
      "MSE for test set [15]  is [ 0.]\n",
      "MSE for test set [16]  is [ 0.]\n",
      "MSE for test set [17]  is [ 0.]\n",
      "MSE for test set [18]  is [ 0.]\n",
      "MSE for test set [19]  is [ 0.]\n",
      "MSE for test set [20]  is [ 0.]\n",
      "MSE for test set [21]  is [ 4.]\n",
      "MSE for test set [22]  is [ 1.]\n",
      "MSE for test set [23]  is [ 1.]\n",
      "MSE for test set [24]  is [ 1.]\n",
      "MSE for test set [25]  is [ 1.]\n",
      "MSE for test set [26]  is [ 0.]\n",
      "MSE for test set [27]  is [ 1.]\n",
      "MSE for test set [28]  is [ 0.]\n",
      "MSE for test set [29]  is [ 0.]\n",
      "MSE for test set [30]  is [ 0.]\n",
      "MSE for test set [31]  is [ 0.]\n",
      "MSE for test set [32]  is [ 1.]\n",
      "MSE for test set [33]  is [ 0.]\n",
      "MSE for test set [34]  is [ 1.]\n",
      "MSE for test set [35]  is [ 0.]\n",
      "MSE for test set [36]  is [ 0.]\n",
      "MSE for test set [37]  is [ 1.]\n",
      "MSE for test set [38]  is [ 1.]\n",
      "MSE for test set [39]  is [ 0.]\n",
      "MSE for test set [40]  is [ 0.]\n",
      "MSE for test set [41]  is [ 1.]\n",
      "MSE for test set [42]  is [ 0.]\n",
      "MSE for test set [43]  is [ 1.]\n",
      "MSE for test set [44]  is [ 0.]\n",
      "MSE for test set [45]  is [ 0.]\n",
      "MSE for test set [46]  is [ 0.]\n",
      "MSE for test set [47]  is [ 0.]\n",
      "MSE for test set [48]  is [ 0.]\n",
      "MSE for test set [49]  is [ 0.]\n",
      "MSE for test set [50]  is [ 0.]\n",
      "MSE for test set [51]  is [ 0.]\n",
      "MSE for test set [52]  is [ 0.]\n",
      "MSE for test set [53]  is [ 0.]\n",
      "MSE for test set [54]  is [ 0.]\n",
      "MSE for test set [55]  is [ 0.]\n",
      "MSE for test set [56]  is [ 0.]\n",
      "MSE for test set [57]  is [ 0.]\n",
      "MSE for test set [58]  is [ 0.]\n",
      "MSE for test set [59]  is [ 0.]\n",
      "MSE for test set [60]  is [ 0.]\n",
      "MSE for test set [61]  is [ 1.]\n",
      "MSE for test set [62]  is [ 0.]\n",
      "MSE for test set [63]  is [ 1.]\n",
      "MSE for test set [64]  is [ 0.]\n",
      "MSE for test set [65]  is [ 1.]\n",
      "MSE for test set [66]  is [ 1.]\n",
      "MSE for test set [67]  is [ 1.]\n",
      "MSE for test set [68]  is [ 0.]\n",
      "MSE for test set [69]  is [ 0.]\n",
      "MSE for test set [70]  is [ 0.]\n",
      "MSE for test set [71]  is [ 0.]\n",
      "MSE for test set [72]  is [ 0.]\n",
      "MSE for test set [73]  is [ 0.]\n",
      "MSE for test set [74]  is [ 0.]\n",
      "MSE for test set [75]  is [ 0.]\n",
      "MSE for test set [76]  is [ 0.]\n",
      "MSE for test set [77]  is [ 0.]\n",
      "MSE for test set [78]  is [ 0.]\n",
      "MSE for test set [79]  is [ 0.]\n",
      "MSE for test set [80]  is [ 0.]\n",
      "MSE for test set [81]  is [ 0.]\n",
      "MSE for test set [82]  is [ 0.]\n",
      "MSE for test set [83]  is [ 1.]\n",
      "MSE for test set [84]  is [ 0.]\n",
      "MSE for test set [85]  is [ 0.]\n",
      "MSE for test set [86]  is [ 0.]\n",
      "MSE for test set [87]  is [ 0.]\n",
      "MSE for test set [88]  is [ 0.]\n",
      "MSE for test set [89]  is [ 0.]\n",
      "MSE for test set [90]  is [ 0.]\n",
      "MSE for test set [91]  is [ 0.]\n",
      "MSE for test set [92]  is [ 0.]\n",
      "MSE for test set [93]  is [ 0.]\n",
      "MSE for test set [94]  is [ 0.]\n",
      "MSE for test set [95]  is [ 0.]\n",
      "MSE for test set [96]  is [ 0.]\n",
      "MSE for test set [97]  is [ 0.]\n",
      "MSE for test set [98]  is [ 1.]\n",
      "MSE for test set [99]  is [ 0.]\n",
      "MSE for test set [100]  is [ 0.]\n",
      "MSE for test set [101]  is [ 0.]\n",
      "MSE for test set [102]  is [ 0.]\n",
      "MSE for test set [103]  is [ 0.]\n",
      "MSE for test set [104]  is [ 0.]\n",
      "MSE for test set [105]  is [ 0.]\n",
      "MSE for test set [106]  is [ 0.]\n",
      "MSE for test set [107]  is [ 0.]\n",
      "MSE for test set [108]  is [ 0.]\n",
      "MSE for test set [109]  is [ 0.]\n",
      "MSE for test set [110]  is [ 0.]\n",
      "MSE for test set [111]  is [ 0.]\n",
      "MSE for test set [112]  is [ 0.]\n",
      "MSE for test set [113]  is [ 0.]\n",
      "MSE for test set [114]  is [ 0.]\n",
      "MSE for test set [115]  is [ 0.]\n",
      "MSE for test set [116]  is [ 0.]\n",
      "MSE for test set [117]  is [ 0.]\n",
      "MSE for test set [118]  is [ 0.]\n",
      "MSE for test set [119]  is [ 0.]\n",
      "MSE for test set [120]  is [ 0.]\n",
      "MSE for test set [121]  is [ 1.]\n",
      "MSE for test set [122]  is [ 0.]\n",
      "MSE for test set [123]  is [ 0.]\n",
      "MSE for test set [124]  is [ 0.]\n",
      "MSE for test set [125]  is [ 0.]\n",
      "MSE for test set [126]  is [ 0.]\n",
      "MSE for test set [127]  is [ 0.]\n",
      "MSE for test set [128]  is [ 0.]\n",
      "MSE for test set [129]  is [ 0.]\n",
      "MSE for test set [130]  is [ 1.]\n",
      "MSE for test set [131]  is [ 0.]\n",
      "MSE for test set [132]  is [ 0.]\n",
      "MSE for test set [133]  is [ 0.]\n",
      "MSE for test set [134]  is [ 4.]\n",
      "MSE for test set [135]  is [ 0.]\n",
      "MSE for test set [136]  is [ 0.]\n",
      "MSE for test set [137]  is [ 0.]\n",
      "MSE for test set [138]  is [ 4.]\n",
      "MSE for test set [139]  is [ 0.]\n",
      "MSE for test set [140]  is [ 0.]\n",
      "MSE for test set [141]  is [ 0.]\n",
      "MSE for test set [142]  is [ 0.]\n",
      "MSE for test set [143]  is [ 0.]\n",
      "MSE for test set [144]  is [ 0.]\n",
      "MSE for test set [145]  is [ 0.]\n",
      "MSE for test set [146]  is [ 0.]\n",
      "MSE for test set [147]  is [ 0.]\n",
      "MSE for test set [148]  is [ 0.]\n",
      "MSE for test set [149]  is [ 0.]\n",
      "MSE for test set [150]  is [ 0.]\n",
      "MSE for test set [151]  is [ 0.]\n",
      "MSE for test set [152]  is [ 0.]\n",
      "MSE for test set [153]  is [ 0.]\n",
      "MSE for test set [154]  is [ 0.]\n",
      "MSE for test set [155]  is [ 0.]\n",
      "MSE for test set [156]  is [ 0.]\n",
      "MSE for test set [157]  is [ 0.]\n",
      "MSE for test set [158]  is [ 0.]\n",
      "MSE for test set [159]  is [ 0.]\n",
      "MSE for test set [160]  is [ 0.]\n",
      "MSE for test set [161]  is [ 0.]\n",
      "MSE for test set [162]  is [ 0.]\n",
      "MSE for test set [163]  is [ 0.]\n",
      "MSE for test set [164]  is [ 0.]\n",
      "MSE for test set [165]  is [ 0.]\n",
      "MSE for test set [166]  is [ 0.]\n",
      "MSE for test set [167]  is [ 0.]\n",
      "MSE for test set [168]  is [ 0.]\n",
      "MSE for test set [169]  is [ 0.]\n",
      "MSE for test set [170]  is [ 0.]\n",
      "MSE for test set [171]  is [ 0.]\n",
      "MSE for test set [172]  is [ 0.]\n",
      "MSE for test set [173]  is [ 0.]\n",
      "MSE for test set [174]  is [ 0.]\n",
      "MSE for test set [175]  is [ 0.]\n",
      "test estimate MSE loocv= 0.1875 , test estimate MSE standard err= 0.597402045984\n"
     ]
    }
   ],
   "source": [
    "from sklearn.model_selection import LeaveOneOut, KFold\n",
    "\n",
    "\n",
    "Xvars = data_analysis.ix[:, (1, 2, 3, 4)].values\n",
    "yvals = data_analysis.ix[:, 0].values\n",
    "\n",
    "N_loo = Xvars.shape[0]\n",
    "loo = LeaveOneOut()\n",
    "loo.get_n_splits(Xvars)\n",
    "MSE_vec = np.zeros(N_loo)\n",
    "\n",
    "for train_index, test_index in loo.split(Xvars):\n",
    "    X_train, X_test = Xvars[train_index], Xvars[test_index]\n",
    "    y_train, y_test = yvals[train_index], yvals[test_index]\n",
    "    LogReg = LogisticRegression()\n",
    "    LogReg.fit(X_train, y_train)\n",
    "    y_pred = LogReg.predict(X_test)\n",
    "    MSE_vec[test_index] = (y_test - y_pred) ** 2\n",
    "    print('MSE for test set', test_index, ' is', MSE_vec[test_index])\n",
    "\n",
    "MSE_loo = MSE_vec.mean()\n",
    "MSE_loo_std = MSE_vec.std()\n",
    "print('test estimate MSE loocv=', MSE_loo,\n",
    "      ', test estimate MSE standard err=', MSE_loo_std)"
   ]
  },
  {
   "cell_type": "markdown",
   "metadata": {},
   "source": [
    "#### c. k-cross validation"
   ]
  },
  {
   "cell_type": "code",
   "execution_count": 19,
   "metadata": {},
   "outputs": [
    {
     "name": "stdout",
     "output_type": "stream",
     "text": [
      "k index= 0\n",
      "MSE for test set 0  is 0.28813559322\n",
      "k index= 1\n",
      "MSE for test set 1  is 0.271186440678\n",
      "k index= 2\n",
      "MSE for test set 2  is 0.051724137931\n",
      "test estimate MSE k-fold= 0.152761542957 test estimate MSE standard err= 0.128350337072\n"
     ]
    }
   ],
   "source": [
    "k = 4\n",
    "kf = KFold(n_splits=3, random_state=10, shuffle=True)\n",
    "kf.get_n_splits(Xvars)\n",
    "\n",
    "MSE_vec_kf = np.zeros(k)\n",
    "\n",
    "k_ind = int(0)\n",
    "for train_index, test_index in kf.split(Xvars):\n",
    "    # print(\"TRAIN:\", train_index, \"TEST:\", test_index)\n",
    "    print('k index=', k_ind)\n",
    "    X_train, X_test = Xvars[train_index], Xvars[test_index]\n",
    "    y_train, y_test = yvals[train_index], yvals[test_index]\n",
    "    LogReg = LogisticRegression()\n",
    "    LogReg.fit(X_train, y_train)\n",
    "    y_pred = LogReg.predict(X_test)\n",
    "    MSE_vec_kf[k_ind] = ((y_test - y_pred) ** 2).mean()\n",
    "    print('MSE for test set', k_ind, ' is', MSE_vec_kf[k_ind])\n",
    "    k_ind += 1\n",
    "\n",
    "MSE_kf = MSE_vec_kf.mean()\n",
    "MSE_kf_std = MSE_vec_kf.std()\n",
    "print('test estimate MSE k-fold=', MSE_kf,\n",
    "      'test estimate MSE standard err=', MSE_kf_std)\n"
   ]
  },
  {
   "cell_type": "markdown",
   "metadata": {},
   "source": [
    "## 2. Splines and interpolation"
   ]
  },
  {
   "cell_type": "markdown",
   "metadata": {},
   "source": [
    "##### a) scatterplot "
   ]
  },
  {
   "cell_type": "code",
   "execution_count": 46,
   "metadata": {},
   "outputs": [
    {
     "data": {
      "image/png": "[encoded data removed]",
      "text/plain": [
       "<matplotlib.figure.Figure at 0x1f7a0523e80>"
      ]
     },
     "metadata": {},
     "output_type": "display_data"
    }
   ],
   "source": [
    "data2 = pd.read_csv(\"CoolIndex.txt\", header =None, names = ['Age', 'CoolIndex'])\n",
    "\n",
    "data2.plot(x='Age', y ='CoolIndex', kind='scatter')\n",
    "plt.title(\"Relationship b/w age and coolIndex\")\n",
    "plt.show()"
   ]
  },
  {
   "cell_type": "markdown",
   "metadata": {},
   "source": [
    "##### b) Ordinary Least Square step "
   ]
  },
  {
   "cell_type": "code",
   "execution_count": 51,
   "metadata": {},
   "outputs": [
    {
     "name": "stdout",
     "output_type": "stream",
     "text": [
      "                            OLS Regression Results                            \n",
      "==============================================================================\n",
      "Dep. Variable:              CoolIndex   R-squared:                       0.919\n",
      "Model:                            OLS   Adj. R-squared:                  0.919\n",
      "Method:                 Least Squares   F-statistic:                     2159.\n",
      "Date:                Mon, 19 Feb 2018   Prob (F-statistic):               0.00\n",
      "Time:                        08:42:51   Log-Likelihood:                -3528.0\n",
      "No. Observations:                 956   AIC:                             7066.\n",
      "Df Residuals:                     951   BIC:                             7090.\n",
      "Df Model:                           5                                         \n",
      "Covariance Type:            nonrobust                                         \n",
      "==============================================================================\n",
      "                 coef    std err          t      P>|t|      [0.025      0.975]\n",
      "------------------------------------------------------------------------------\n",
      "age1          18.4260      0.747     24.661      0.000      16.960      19.892\n",
      "age2          31.5398      0.585     53.913      0.000      30.392      32.688\n",
      "age3          34.5291      0.574     60.109      0.000      33.402      35.656\n",
      "age4          32.0544      0.667     48.087      0.000      30.746      33.363\n",
      "age5          23.8620      1.301     18.346      0.000      21.309      26.415\n",
      "==============================================================================\n",
      "Omnibus:                      239.529   Durbin-Watson:                   0.721\n",
      "Prob(Omnibus):                  0.000   Jarque-Bera (JB):              876.147\n",
      "Skew:                          -1.163   Prob(JB):                    5.59e-191\n",
      "Kurtosis:                       7.073   Cond. No.                         2.32\n",
      "==============================================================================\n",
      "\n",
      "Warnings:\n",
      "[1] Standard Errors assume that the covariance matrix of the errors is correctly specified.\n"
     ]
    }
   ],
   "source": [
    "age = data2['Age']\n",
    "\n",
    "data2['age1'] = (( age >= 11) & ( age <=22)).astype(int)\n",
    "data2['age2'] = (( age >= 22) & ( age <=40)).astype(int)\n",
    "data2['age3'] = (( age >= 40) & ( age <=59)).astype(int)\n",
    "data2['age4'] = (( age >= 59) & ( age <=77)).astype(int)\n",
    "data2['age5'] = (( age >= 77) & ( age <=95)).astype(int)\n",
    "\n",
    "\n",
    "reg2 = sm.OLS(endog=data2['CoolIndex'], exog=data2[['age1', 'age2', 'age3', 'age4', 'age5']], missing='drop')\n",
    "reg2_results = reg2.fit()\n",
    "print(reg2_results.summary())"
   ]
  },
  {
   "cell_type": "code",
   "execution_count": 61,
   "metadata": {},
   "outputs": [
    {
     "data": {
      "image/png": "[encoded data removed]",
      "text/plain": [
       "<matplotlib.figure.Figure at 0x1f7a192cb00>"
      ]
     },
     "metadata": {},
     "output_type": "display_data"
    }
   ],
   "source": [
    "x= age\n",
    "y = data2['CoolIndex']\n",
    "\n",
    "plt.step(x, y, data=None, where='pre')\n",
    "plt.xlabel('Age')\n",
    "plt.ylabel('CoolIndex')\n",
    "plt.title(\"b: Step Function\")\n",
    "\n",
    "plt.show()"
   ]
  },
  {
   "cell_type": "markdown",
   "metadata": {},
   "source": [
    "##### Predicted values"
   ]
  },
  {
   "cell_type": "code",
   "execution_count": 22,
   "metadata": {},
   "outputs": [
    {
     "data": {
      "text/plain": [
       "0    32.054388\n",
       "dtype: float64"
      ]
     },
     "execution_count": 22,
     "metadata": {},
     "output_type": "execute_result"
    }
   ],
   "source": [
    "df_test= pd.DataFrame({\n",
    "        \"age1\":[0],\n",
    "        \"age2\": [0],\n",
    "        \"age3\": [0],\n",
    "        \"age4\":[1],\n",
    "        \"age5\":[0]})\n",
    "\n",
    "reg2_results.predict(df_test)"
   ]
  },
  {
   "cell_type": "markdown",
   "metadata": {},
   "source": [
    "##### c) Linear spline"
   ]
  },
  {
   "cell_type": "code",
   "execution_count": 67,
   "metadata": {},
   "outputs": [
    {
     "data": {
      "image/png": "[encoded data removed]",
      "text/plain": [
       "<matplotlib.figure.Figure at 0x1f7a1917be0>"
      ]
     },
     "metadata": {},
     "output_type": "display_data"
    }
   ],
   "source": [
    "import scipy.interpolate as intpl\n",
    "knots = [22, 40, 59, 77]\n",
    "\n",
    "\n",
    "age= data2['Age']\n",
    "index = data2['CoolIndex']\n",
    "\n",
    "\n",
    "\n",
    "spl = intpl.LSQUnivariateSpline(age.values, index.values, knots, k=1)\n",
    "\n",
    "age_vec = np.linspace(age.values.min(), age.values.max(), 1000)\n",
    "#scatter plot\n",
    "plt.scatter(age, index, label = \"a: Scatter Plot\")\n",
    "plt.xlabel('Age')\n",
    "plt.ylabel('CoolIndex')\n",
    "\n",
    "# Step plot\n",
    "x= age\n",
    "y = data2['CoolIndex']\n",
    "plt.step(x, y, data=None, where='pre', color='yellow', label = \"B:Step function\")\n",
    "plt.legend(loc='upper right')\n",
    "\n",
    "#Linear Spline\n",
    "plt.plot(age_vec, spl(age_vec), 'r-', label = \"c: Linear Spline\")\n",
    "plt.legend(loc='upper right')\n",
    "plt.title(\"Step Function, Linear Spline and Scatter Plot\")\n",
    "plt.show()"
   ]
  },
  {
   "cell_type": "markdown",
   "metadata": {},
   "source": [
    "##### Predicted values"
   ]
  },
  {
   "cell_type": "code",
   "execution_count": 24,
   "metadata": {},
   "outputs": [
    {
     "name": "stdout",
     "output_type": "stream",
     "text": [
      "Ages= 73\n",
      "Predicted Cool Index= 32.536832389143306\n"
     ]
    }
   ],
   "source": [
    "ages_for_predict = np.array(73)\n",
    "predicted_index = spl(ages_for_predict)\n",
    "print('Ages=', ages_for_predict)\n",
    "print('Predicted Cool Index=', predicted_index)"
   ]
  },
  {
   "cell_type": "markdown",
   "metadata": {},
   "source": [
    "##### d) Cubic spline"
   ]
  },
  {
   "cell_type": "code",
   "execution_count": 68,
   "metadata": {},
   "outputs": [
    {
     "data": {
      "image/png": "[encoded data removed]",
      "text/plain": [
       "<matplotlib.figure.Figure at 0x1f7a19cb208>"
      ]
     },
     "metadata": {},
     "output_type": "display_data"
    }
   ],
   "source": [
    "spl_cubic = intpl.LSQUnivariateSpline(age.values, index.values, knots, k=3)\n",
    "\n",
    "\n",
    "age_vec = np.linspace(age.values.min(), age.values.max(), 1000)\n",
    "\n",
    "#Scatter Plot\n",
    "\n",
    "plt.scatter(age, index, color = 'black', label = \"a: Scatter Plot\")\n",
    "plt.xlabel('Age')\n",
    "plt.ylabel('CoolIndex')\n",
    "\n",
    "# Step plot\n",
    "x= age\n",
    "y = data2['CoolIndex']\n",
    "plt.step(x, y, data=None, where='pre', color='yellow', label = \"B:Step function\")\n",
    "plt.legend(loc='upper right')\n",
    "\n",
    "#Linear Spline\n",
    "plt.plot(age_vec, spl(age_vec), 'r-', color= 'red', label = \"c: Linear spline\")\n",
    "plt.legend(loc='upper right')\n",
    "\n",
    "#Cubic Spline\n",
    "\n",
    "plt.plot(age_vec, spl_cubic(age_vec), 'r-', color = 'blue', label =\"d: Cubic spline\")\n",
    "plt.legend(loc='upper right')\n",
    "plt.title(\"Cubic Spline, Linear Spline, step Function, and Scatter Plot\")\n",
    "plt.show()"
   ]
  },
  {
   "cell_type": "markdown",
   "metadata": {},
   "source": [
    "##### Predicted values"
   ]
  },
  {
   "cell_type": "code",
   "execution_count": 26,
   "metadata": {},
   "outputs": [
    {
     "name": "stdout",
     "output_type": "stream",
     "text": [
      "Ages= 73\n",
      "Predicted Cool Index= 31.262429389257864\n"
     ]
    }
   ],
   "source": [
    "ages_for_predict = np.array(73)\n",
    "predicted_index = spl_cubic(ages_for_predict)\n",
    "print('Ages=', ages_for_predict)\n",
    "print('Predicted Cool Index=', predicted_index)"
   ]
  },
  {
   "cell_type": "code",
   "execution_count": null,
   "metadata": {
    "collapsed": true
   },
   "outputs": [],
   "source": []
  }
 ],
 "metadata": {
  "kernelspec": {
   "display_name": "Python 3",
   "language": "python",
   "name": "python3"
  },
  "language_info": {
   "codemirror_mode": {
    "name": "ipython",
    "version": 3
   },
   "file_extension": ".py",
   "mimetype": "text/x-python",
   "name": "python",
   "nbconvert_exporter": "python",
   "pygments_lexer": "ipython3",
   "version": "3.6.3"
  }
 },
 "nbformat": 4,
 "nbformat_minor": 2
}
