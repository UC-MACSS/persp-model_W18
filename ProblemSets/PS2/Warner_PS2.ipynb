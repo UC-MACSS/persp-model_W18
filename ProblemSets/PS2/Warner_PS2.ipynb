{
 "cells": [
  {
   "cell_type": "markdown",
   "metadata": {},
   "source": [
    "# PS2"
   ]
  },
  {
   "cell_type": "markdown",
   "metadata": {},
   "source": [
    "### Laurence Warner"
   ]
  },
  {
   "cell_type": "code",
   "execution_count": 2,
   "metadata": {
    "collapsed": true
   },
   "outputs": [],
   "source": [
    "import numpy as np\n",
    "import scipy.stats as sts\n",
    "import matplotlib.pyplot as plt\n",
    "import math\n",
    "import scipy.optimize as opt\n",
    "from scipy import integrate\n",
    "import pandas as pd"
   ]
  },
  {
   "cell_type": "markdown",
   "metadata": {},
   "source": [
    "## 1"
   ]
  },
  {
   "cell_type": "markdown",
   "metadata": {},
   "source": [
    "## a"
   ]
  },
  {
   "cell_type": "code",
   "execution_count": 3,
   "metadata": {},
   "outputs": [
    {
     "data": {
      "text/plain": [
       "array([  51253.49715631,  100630.32024137,   83009.27613739,\n",
       "         82882.10654304,   77338.29483892,   81071.64131675,\n",
       "         84760.04353269,   74599.0967193 ,   94687.36110452,\n",
       "         76720.48678222])"
      ]
     },
     "execution_count": 3,
     "metadata": {},
     "output_type": "execute_result"
    }
   ],
   "source": [
    "incomes = np.loadtxt('incomes.txt')\n",
    "incomes[0:10]"
   ]
  },
  {
   "cell_type": "code",
   "execution_count": 4,
   "metadata": {},
   "outputs": [
    {
     "data": {
      "text/plain": [
       "Text(0,0.5,'Density')"
      ]
     },
     "execution_count": 4,
     "metadata": {},
     "output_type": "execute_result"
    },
    {
     "data": {
      "image/png": "[encoded data removed]",
      "text/plain": [
       "<matplotlib.figure.Figure at 0x10a545240>"
      ]
     },
     "metadata": {},
     "output_type": "display_data"
    }
   ],
   "source": [
    "%matplotlib inline\n",
    "count, bins, patches = plt.hist(incomes, bins = 30, normed = True)\n",
    "plt.title('Incomes')\n",
    "plt.xlabel('Income ($)')\n",
    "plt.ylabel('Density')"
   ]
  },
  {
   "cell_type": "markdown",
   "metadata": {},
   "source": [
    "### b"
   ]
  },
  {
   "cell_type": "markdown",
   "metadata": {},
   "source": [
    "I couldn't quite figure out how to use sts.lognorm.pdf so I had to define the function myself."
   ]
  },
  {
   "cell_type": "code",
   "execution_count": 5,
   "metadata": {
    "collapsed": true
   },
   "outputs": [],
   "source": [
    "def lognormal_pdf(x, params):\n",
    "    mu, sigma = params\n",
    "    pdf = 1/x/sigma/np.sqrt(2*np.pi) * np.exp(-(np.log(x)-mu)**2/2/sigma/sigma)\n",
    "    return pdf"
   ]
  },
  {
   "cell_type": "code",
   "execution_count": 6,
   "metadata": {},
   "outputs": [
    {
     "data": {
      "text/plain": [
       "[<matplotlib.lines.Line2D at 0x10f6f0630>]"
      ]
     },
     "execution_count": 6,
     "metadata": {},
     "output_type": "execute_result"
    },
    {
     "data": {
      "image/png": "[encoded data removed]",
      "text/plain": [
       "<matplotlib.figure.Figure at 0x10f5e9b70>"
      ]
     },
     "metadata": {},
     "output_type": "display_data"
    }
   ],
   "source": [
    "x = np.linspace(100, 150000, 1000)\n",
    "PARAMS = (11.0, 0.5)\n",
    "y = lognormal_pdf(x, PARAMS)\n",
    "count, bins, patches = plt.hist(incomes, bins = 30, normed = True)\n",
    "plt.title('Incomes')\n",
    "plt.xlabel('Income ($)')\n",
    "plt.ylabel('Density')\n",
    "plt.plot(x, y)"
   ]
  },
  {
   "cell_type": "code",
   "execution_count": 7,
   "metadata": {
    "collapsed": true
   },
   "outputs": [],
   "source": [
    "def log_lik_log_norm(params, x):\n",
    "    pdf = lognormal_pdf(x, params)\n",
    "    log = np.log(pdf)\n",
    "    s = log.sum()\n",
    "    return s"
   ]
  },
  {
   "cell_type": "code",
   "execution_count": 8,
   "metadata": {},
   "outputs": [
    {
     "name": "stdout",
     "output_type": "stream",
     "text": [
      "The log likelihood value is -2386.0\n"
     ]
    }
   ],
   "source": [
    "ll = log_lik_log_norm(PARAMS, incomes)\n",
    "print(\"The log likelihood value is\", round(ll,0))"
   ]
  },
  {
   "cell_type": "markdown",
   "metadata": {},
   "source": [
    "### c "
   ]
  },
  {
   "cell_type": "markdown",
   "metadata": {},
   "source": [
    "Grader: What does it mean when there is a star before args?"
   ]
  },
  {
   "cell_type": "code",
   "execution_count": 9,
   "metadata": {
    "collapsed": true
   },
   "outputs": [],
   "source": [
    "def crit(params, *args):\n",
    "    xvals = args[0]\n",
    "    neg_ll = -log_lik_log_norm(params, xvals)\n",
    "    print(\"params are\", params, \"neg_ll is\", neg_ll)\n",
    "    return neg_ll"
   ]
  },
  {
   "cell_type": "code",
   "execution_count": 10,
   "metadata": {
    "collapsed": true
   },
   "outputs": [],
   "source": [
    "PARAMS_INIT = np.asarray((11.0, 0.5))"
   ]
  },
  {
   "cell_type": "code",
   "execution_count": 11,
   "metadata": {
    "collapsed": true
   },
   "outputs": [],
   "source": [
    "mle_arg = (incomes,)"
   ]
  },
  {
   "cell_type": "code",
   "execution_count": 12,
   "metadata": {},
   "outputs": [
    {
     "name": "stdout",
     "output_type": "stream",
     "text": [
      "params are [ 11.    0.5] neg_ll is 2385.85699781\n",
      "params are [ 11.00000001   0.5       ] neg_ll is 2385.85699494\n",
      "params are [ 11.           0.50000001] neg_ll is 2385.85699905\n",
      "params are [ 11.99999903   0.49860733] neg_ll is 2499.09655013\n",
      "params are [ 11.99999904   0.49860733] neg_ll is 2499.09655529\n",
      "params are [ 11.99999903   0.49860734] neg_ll is 2499.09654682\n",
      "params are [ 11.35913624   0.49949984] neg_ll is 2334.13256621\n",
      "params are [ 11.35913625   0.49949984] neg_ll is 2334.13256621\n",
      "params are [ 11.35913624   0.49949985] neg_ll is 2334.13256952\n",
      "params are [ 11.55573126   0.22652005] neg_ll is 2318.47893496\n",
      "params are [ 11.55573127   0.22652005] neg_ll is 2318.47894263\n",
      "params are [ 11.55573126   0.22652006] neg_ll is 2318.47892967\n",
      "params are [ 11.40520575   0.43553054] neg_ll is 2313.32566277\n",
      "params are [ 11.40520576   0.43553054] neg_ll is 2313.32566326\n",
      "params are [ 11.40520575   0.43553055] neg_ll is 2313.32566626\n",
      "params are [ 11.49499868   0.31084957] neg_ll is 2285.88818359\n",
      "params are [ 11.49499869   0.31084957] neg_ll is 2285.8881864\n",
      "params are [ 11.49499868   0.31084958] neg_ll is 2285.88818591\n",
      "params are [ 11.38150768   0.1       ] neg_ll is 2433.50889064\n",
      "params are [ 11.38150769   0.1       ] neg_ll is 2433.50889514\n",
      "params are [ 11.38150768   0.10000001] neg_ll is 2433.50882295\n",
      "params are [ 11.45305465   0.23292374] neg_ll is 2260.3611944\n",
      "params are [ 11.45305466   0.23292374] neg_ll is 2260.36119787\n",
      "params are [ 11.45305465   0.23292375] neg_ll is 2260.36119473\n",
      "params are [ 10.85541628   0.1       ] neg_ll is 4964.65061899\n",
      "params are [ 10.85541629   0.1       ] neg_ll is 4964.65051826\n",
      "params are [ 10.85541628   0.10000001] neg_ll is 4964.65004507\n",
      "params are [ 11.30945053   0.20098403] neg_ll is 2248.05607952\n",
      "params are [ 11.30945054   0.20098403] neg_ll is 2248.05607707\n",
      "params are [ 11.30945053   0.20098404] neg_ll is 2248.05607819\n",
      "params are [ 11.36609369   0.23690806] neg_ll is 2244.88073361\n",
      "params are [ 11.3660937    0.23690806] neg_ll is 2244.88073386\n",
      "params are [ 11.36609369   0.23690807] neg_ll is 2244.88073553\n",
      "params are [ 11.38064893   0.19917603] neg_ll is 2243.30072065\n",
      "params are [ 11.38064894   0.19917603] neg_ll is 2243.30072174\n",
      "params are [ 11.38064893   0.19917604] neg_ll is 2243.30071961\n",
      "params are [ 11.35519814   0.2106597 ] neg_ll is 2241.78014927\n",
      "params are [ 11.35519815   0.2106597 ] neg_ll is 2241.7801491\n",
      "params are [ 11.35519814   0.21065971] neg_ll is 2241.78014949\n",
      "params are [ 11.35850651   0.20850428] neg_ll is 2241.72040702\n",
      "params are [ 11.35850652   0.20850428] neg_ll is 2241.72040699\n",
      "params are [ 11.35850651   0.20850429] neg_ll is 2241.72040705\n",
      "params are [ 11.35903611   0.20816322] neg_ll is 2241.71930267\n",
      "params are [ 11.35903612   0.20816322] neg_ll is 2241.71930267\n",
      "params are [ 11.35903611   0.20816323] neg_ll is 2241.71930267\n",
      "params are [ 11.3590244    0.20817853] neg_ll is 2241.71930137\n",
      "params are [ 11.35902441   0.20817853] neg_ll is 2241.71930137\n",
      "params are [ 11.3590244    0.20817854] neg_ll is 2241.71930137\n"
     ]
    }
   ],
   "source": [
    "results = opt.minimize(crit, PARAMS_INIT, args = (mle_arg), bounds = ((None, None),(0.1, None)))"
   ]
  },
  {
   "cell_type": "code",
   "execution_count": 13,
   "metadata": {},
   "outputs": [
    {
     "data": {
      "text/plain": [
       "      fun: 2241.7193013684946\n",
       " hess_inv: <2x2 LbfgsInvHessProduct with dtype=float64>\n",
       "      jac: array([ 0.00645741,  0.01114131])\n",
       "  message: b'CONVERGENCE: REL_REDUCTION_OF_F_<=_FACTR*EPSMCH'\n",
       "     nfev: 48\n",
       "      nit: 10\n",
       "   status: 0\n",
       "  success: True\n",
       "        x: array([ 11.3590244 ,   0.20817853])"
      ]
     },
     "execution_count": 13,
     "metadata": {},
     "output_type": "execute_result"
    }
   ],
   "source": [
    "results"
   ]
  },
  {
   "cell_type": "code",
   "execution_count": 14,
   "metadata": {
    "collapsed": true
   },
   "outputs": [],
   "source": [
    "def max_lik(params, data):\n",
    "    def crit(params):\n",
    "        neg_ll = -log_lik_log_norm(params, data)\n",
    "        return neg_ll\n",
    "    ndarray = np.array([params[0], params[1]])\n",
    "    m = opt.minimize(crit, ndarray, method = 'L-BFGS-B', bounds = ((None, None),(0.1, None)))\n",
    "    return m"
   ]
  },
  {
   "cell_type": "code",
   "execution_count": 15,
   "metadata": {
    "collapsed": true
   },
   "outputs": [],
   "source": [
    "opt.minimize?"
   ]
  },
  {
   "cell_type": "code",
   "execution_count": 16,
   "metadata": {
    "collapsed": true
   },
   "outputs": [],
   "source": [
    "PARAMS_INIT = (11.0, 0.5)"
   ]
  },
  {
   "cell_type": "code",
   "execution_count": 17,
   "metadata": {
    "collapsed": true
   },
   "outputs": [],
   "source": [
    "m = max_lik(PARAMS_INIT, incomes)"
   ]
  },
  {
   "cell_type": "code",
   "execution_count": 18,
   "metadata": {},
   "outputs": [
    {
     "data": {
      "text/plain": [
       "      fun: 2241.7193013684946\n",
       " hess_inv: <2x2 LbfgsInvHessProduct with dtype=float64>\n",
       "      jac: array([ 0.00645741,  0.01114131])\n",
       "  message: b'CONVERGENCE: REL_REDUCTION_OF_F_<=_FACTR*EPSMCH'\n",
       "     nfev: 48\n",
       "      nit: 10\n",
       "   status: 0\n",
       "  success: True\n",
       "        x: array([ 11.3590244 ,   0.20817853])"
      ]
     },
     "execution_count": 18,
     "metadata": {},
     "output_type": "execute_result"
    }
   ],
   "source": [
    "m"
   ]
  },
  {
   "cell_type": "code",
   "execution_count": 19,
   "metadata": {},
   "outputs": [
    {
     "name": "stdout",
     "output_type": "stream",
     "text": [
      "ML estimates. Mu: 11.359, Sigma: 0.208\n"
     ]
    }
   ],
   "source": [
    "ml_params = m.x\n",
    "ml_mu = ml_params[0]\n",
    "ml_sig = ml_params[1]\n",
    "print(\"ML estimates. Mu: {:.3f}, Sigma: {:.3f}\".format(ml_mu , ml_sig))"
   ]
  },
  {
   "cell_type": "code",
   "execution_count": 20,
   "metadata": {},
   "outputs": [
    {
     "data": {
      "text/plain": [
       "85735.68362770695"
      ]
     },
     "execution_count": 20,
     "metadata": {},
     "output_type": "execute_result"
    }
   ],
   "source": [
    "math.exp(ml_mu)"
   ]
  },
  {
   "cell_type": "code",
   "execution_count": 21,
   "metadata": {},
   "outputs": [
    {
     "data": {
      "text/plain": [
       "59874.14171519782"
      ]
     },
     "execution_count": 21,
     "metadata": {},
     "output_type": "execute_result"
    }
   ],
   "source": [
    "math.exp(11)"
   ]
  },
  {
   "cell_type": "markdown",
   "metadata": {},
   "source": [
    "Not sure how to get VCV matrix"
   ]
  },
  {
   "cell_type": "code",
   "execution_count": 22,
   "metadata": {},
   "outputs": [
    {
     "name": "stdout",
     "output_type": "stream",
     "text": [
      "Value of the likelihood function is -2241.71930137\n"
     ]
    }
   ],
   "source": [
    "lik_max = log_lik_log_norm(ml_params, incomes)\n",
    "print(\"Value of the likelihood function is\", lik_max)"
   ]
  },
  {
   "cell_type": "markdown",
   "metadata": {},
   "source": [
    "Confirming this is indeed greater than part b"
   ]
  },
  {
   "cell_type": "code",
   "execution_count": 23,
   "metadata": {},
   "outputs": [
    {
     "data": {
      "text/plain": [
       "True"
      ]
     },
     "execution_count": 23,
     "metadata": {},
     "output_type": "execute_result"
    }
   ],
   "source": [
    "lik_max > ll"
   ]
  },
  {
   "cell_type": "code",
   "execution_count": 24,
   "metadata": {},
   "outputs": [
    {
     "data": {
      "text/plain": [
       "[<matplotlib.lines.Line2D at 0x10f83ceb8>]"
      ]
     },
     "execution_count": 24,
     "metadata": {},
     "output_type": "execute_result"
    },
    {
     "data": {
      "image/png": "[encoded data removed]",
      "text/plain": [
       "<matplotlib.figure.Figure at 0x10f6fb2b0>"
      ]
     },
     "metadata": {},
     "output_type": "display_data"
    }
   ],
   "source": [
    "x = np.linspace(100, 150000, 1000)\n",
    "PARAMS = (11.0, 0.5)\n",
    "y = lognormal_pdf(x, PARAMS)\n",
    "y_max = lognormal_pdf(x, ml_params)\n",
    "count, bins, patches = plt.hist(incomes, bins = 30, normed = True)\n",
    "plt.title('Incomes')\n",
    "plt.xlabel('Income ($)')\n",
    "plt.ylabel('Density')\n",
    "plt.plot(x, y)\n",
    "plt.plot(x, y_max)"
   ]
  },
  {
   "cell_type": "markdown",
   "metadata": {},
   "source": [
    "Sigma a lot smaller: looks more like normal."
   ]
  },
  {
   "cell_type": "markdown",
   "metadata": {},
   "source": [
    "VCV"
   ]
  },
  {
   "cell_type": "code",
   "execution_count": 25,
   "metadata": {},
   "outputs": [
    {
     "data": {
      "text/plain": [
       "array([[  2.52828885e-04,   2.76199438e-05],\n",
       "       [  2.76199438e-05,   1.30459506e-04]])"
      ]
     },
     "execution_count": 25,
     "metadata": {},
     "output_type": "execute_result"
    }
   ],
   "source": [
    "h = m.hess_inv.todense()\n",
    "h"
   ]
  },
  {
   "cell_type": "code",
   "execution_count": 26,
   "metadata": {},
   "outputs": [
    {
     "name": "stdout",
     "output_type": "stream",
     "text": [
      "The estimated VCV matrix for the minimization problem is:\n"
     ]
    },
    {
     "data": {
      "text/plain": [
       "array([[  2.52828885e-04,  -2.76199438e-05],\n",
       "       [ -2.76199438e-05,   1.30459506e-04]])"
      ]
     },
     "execution_count": 26,
     "metadata": {},
     "output_type": "execute_result"
    }
   ],
   "source": [
    "OffDiagNeg = np.array([[1, -1], [-1, 1]])\n",
    "min_hess = h*OffDiagNeg\n",
    "print(\"The estimated VCV matrix for the minimization problem is:\")\n",
    "min_hess"
   ]
  },
  {
   "cell_type": "code",
   "execution_count": 27,
   "metadata": {},
   "outputs": [
    {
     "name": "stdout",
     "output_type": "stream",
     "text": [
      "se(mu) = 0.02 \n",
      "se(sig) = 0.01\n"
     ]
    }
   ],
   "source": [
    "se_mu = np.sqrt(min_hess[0,0])\n",
    "se_sig = np.sqrt(min_hess[1,1])\n",
    "print(\"se(mu) = {:.2f} \\nse(sig) = {:.2f}\".format(se_mu, se_sig))"
   ]
  },
  {
   "cell_type": "code",
   "execution_count": null,
   "metadata": {
    "collapsed": true
   },
   "outputs": [],
   "source": []
  },
  {
   "cell_type": "markdown",
   "metadata": {},
   "source": [
    "### d"
   ]
  },
  {
   "cell_type": "markdown",
   "metadata": {},
   "source": [
    "Likelihood ratio test"
   ]
  },
  {
   "cell_type": "code",
   "execution_count": 28,
   "metadata": {},
   "outputs": [
    {
     "data": {
      "text/plain": [
       "(11.359024396310758, 0.20817852814050342)"
      ]
     },
     "execution_count": 28,
     "metadata": {},
     "output_type": "execute_result"
    }
   ],
   "source": [
    "mle = (ml_mu, ml_sig)\n",
    "mle"
   ]
  },
  {
   "cell_type": "code",
   "execution_count": 29,
   "metadata": {},
   "outputs": [
    {
     "data": {
      "text/plain": [
       "(11.0, 0.5)"
      ]
     },
     "execution_count": 29,
     "metadata": {},
     "output_type": "execute_result"
    }
   ],
   "source": [
    "PARAMS_INIT"
   ]
  },
  {
   "cell_type": "code",
   "execution_count": 30,
   "metadata": {},
   "outputs": [
    {
     "data": {
      "text/plain": [
       "-2241.7193013684946"
      ]
     },
     "execution_count": 30,
     "metadata": {},
     "output_type": "execute_result"
    }
   ],
   "source": [
    "ll_mle = log_lik_log_norm(mle, incomes)\n",
    "ll_mle"
   ]
  },
  {
   "cell_type": "code",
   "execution_count": 31,
   "metadata": {},
   "outputs": [
    {
     "data": {
      "text/plain": [
       "-2385.8569978085579"
      ]
     },
     "execution_count": 31,
     "metadata": {},
     "output_type": "execute_result"
    }
   ],
   "source": [
    "ll_h = log_lik_log_norm(PARAMS_INIT, incomes)\n",
    "ll_h"
   ]
  },
  {
   "cell_type": "code",
   "execution_count": 32,
   "metadata": {},
   "outputs": [
    {
     "data": {
      "text/plain": [
       "288.27539288012667"
      ]
     },
     "execution_count": 32,
     "metadata": {},
     "output_type": "execute_result"
    }
   ],
   "source": [
    "lr = 2* (ll_mle - ll_h)\n",
    "lr"
   ]
  },
  {
   "cell_type": "code",
   "execution_count": 33,
   "metadata": {},
   "outputs": [
    {
     "data": {
      "text/plain": [
       "0.0"
      ]
     },
     "execution_count": 33,
     "metadata": {},
     "output_type": "execute_result"
    }
   ],
   "source": [
    "p = 1- sts.chi2.cdf(lr, 2)\n",
    "p"
   ]
  },
  {
   "cell_type": "markdown",
   "metadata": {},
   "source": [
    "Therefore highly unlikely data came from mu = 11, sig = 0.5"
   ]
  },
  {
   "cell_type": "markdown",
   "metadata": {},
   "source": [
    "### e"
   ]
  },
  {
   "cell_type": "code",
   "execution_count": 34,
   "metadata": {},
   "outputs": [
    {
     "data": {
      "text/plain": [
       "(1000,)"
      ]
     },
     "execution_count": 34,
     "metadata": {},
     "output_type": "execute_result"
    }
   ],
   "source": [
    "y_max = lognormal_pdf(x, ml_params)\n",
    "y_max.shape"
   ]
  },
  {
   "cell_type": "code",
   "execution_count": 35,
   "metadata": {
    "collapsed": true
   },
   "outputs": [],
   "source": [
    "integrate.quad?"
   ]
  },
  {
   "cell_type": "code",
   "execution_count": 36,
   "metadata": {
    "collapsed": true
   },
   "outputs": [],
   "source": [
    "def lognormal_cdf(params, a, b):\n",
    "    area, error = integrate.quad(lognormal_pdf, a, b, args=(params))\n",
    "    return area"
   ]
  },
  {
   "cell_type": "code",
   "execution_count": 37,
   "metadata": {
    "collapsed": true
   },
   "outputs": [],
   "source": [
    "P = 100000\n",
    "p = 1 - lognormal_cdf(ml_params, 0, P)"
   ]
  },
  {
   "cell_type": "code",
   "execution_count": 38,
   "metadata": {
    "collapsed": true
   },
   "outputs": [],
   "source": [
    "Q = 75000\n",
    "q = lognormal_cdf(ml_params, 0, Q)"
   ]
  },
  {
   "cell_type": "markdown",
   "metadata": {},
   "source": [
    "More than $100000:"
   ]
  },
  {
   "cell_type": "code",
   "execution_count": 39,
   "metadata": {},
   "outputs": [
    {
     "data": {
      "text/plain": [
       "0.23"
      ]
     },
     "execution_count": 39,
     "metadata": {},
     "output_type": "execute_result"
    }
   ],
   "source": [
    "round(p, 3)"
   ]
  },
  {
   "cell_type": "markdown",
   "metadata": {},
   "source": [
    "Less than $75000:"
   ]
  },
  {
   "cell_type": "code",
   "execution_count": 40,
   "metadata": {},
   "outputs": [
    {
     "data": {
      "text/plain": [
       "0.26"
      ]
     },
     "execution_count": 40,
     "metadata": {},
     "output_type": "execute_result"
    }
   ],
   "source": [
    "round(q,3)"
   ]
  },
  {
   "cell_type": "markdown",
   "metadata": {},
   "source": [
    "### 2"
   ]
  },
  {
   "cell_type": "code",
   "execution_count": 41,
   "metadata": {
    "collapsed": true
   },
   "outputs": [],
   "source": [
    "sick = pd.read_csv(\"sick.txt\")"
   ]
  },
  {
   "cell_type": "code",
   "execution_count": 42,
   "metadata": {},
   "outputs": [
    {
     "data": {
      "text/html": [
       "<div>\n",
       "<style>\n",
       "    .dataframe thead tr:only-child th {\n",
       "        text-align: right;\n",
       "    }\n",
       "\n",
       "    .dataframe thead th {\n",
       "        text-align: left;\n",
       "    }\n",
       "\n",
       "    .dataframe tbody tr th {\n",
       "        vertical-align: top;\n",
       "    }\n",
       "</style>\n",
       "<table border=\"1\" class=\"dataframe\">\n",
       "  <thead>\n",
       "    <tr style=\"text-align: right;\">\n",
       "      <th></th>\n",
       "      <th>sick</th>\n",
       "      <th>age</th>\n",
       "      <th>children</th>\n",
       "      <th>avgtemp_winter</th>\n",
       "    </tr>\n",
       "  </thead>\n",
       "  <tbody>\n",
       "    <tr>\n",
       "      <th>0</th>\n",
       "      <td>1.67</td>\n",
       "      <td>57.47</td>\n",
       "      <td>3.04</td>\n",
       "      <td>54.10</td>\n",
       "    </tr>\n",
       "    <tr>\n",
       "      <th>1</th>\n",
       "      <td>0.71</td>\n",
       "      <td>26.77</td>\n",
       "      <td>1.20</td>\n",
       "      <td>36.54</td>\n",
       "    </tr>\n",
       "    <tr>\n",
       "      <th>2</th>\n",
       "      <td>1.39</td>\n",
       "      <td>41.85</td>\n",
       "      <td>2.31</td>\n",
       "      <td>32.38</td>\n",
       "    </tr>\n",
       "    <tr>\n",
       "      <th>3</th>\n",
       "      <td>1.37</td>\n",
       "      <td>51.27</td>\n",
       "      <td>2.46</td>\n",
       "      <td>52.94</td>\n",
       "    </tr>\n",
       "    <tr>\n",
       "      <th>4</th>\n",
       "      <td>1.45</td>\n",
       "      <td>44.22</td>\n",
       "      <td>2.72</td>\n",
       "      <td>45.90</td>\n",
       "    </tr>\n",
       "    <tr>\n",
       "      <th>5</th>\n",
       "      <td>0.62</td>\n",
       "      <td>44.67</td>\n",
       "      <td>1.20</td>\n",
       "      <td>68.60</td>\n",
       "    </tr>\n",
       "    <tr>\n",
       "      <th>6</th>\n",
       "      <td>1.06</td>\n",
       "      <td>27.92</td>\n",
       "      <td>1.84</td>\n",
       "      <td>29.42</td>\n",
       "    </tr>\n",
       "    <tr>\n",
       "      <th>7</th>\n",
       "      <td>1.29</td>\n",
       "      <td>44.87</td>\n",
       "      <td>2.40</td>\n",
       "      <td>50.49</td>\n",
       "    </tr>\n",
       "    <tr>\n",
       "      <th>8</th>\n",
       "      <td>1.05</td>\n",
       "      <td>53.68</td>\n",
       "      <td>1.65</td>\n",
       "      <td>55.12</td>\n",
       "    </tr>\n",
       "    <tr>\n",
       "      <th>9</th>\n",
       "      <td>1.18</td>\n",
       "      <td>39.63</td>\n",
       "      <td>1.96</td>\n",
       "      <td>37.30</td>\n",
       "    </tr>\n",
       "    <tr>\n",
       "      <th>10</th>\n",
       "      <td>1.21</td>\n",
       "      <td>44.73</td>\n",
       "      <td>1.98</td>\n",
       "      <td>41.21</td>\n",
       "    </tr>\n",
       "    <tr>\n",
       "      <th>11</th>\n",
       "      <td>0.63</td>\n",
       "      <td>41.05</td>\n",
       "      <td>1.04</td>\n",
       "      <td>56.73</td>\n",
       "    </tr>\n",
       "    <tr>\n",
       "      <th>12</th>\n",
       "      <td>0.67</td>\n",
       "      <td>30.44</td>\n",
       "      <td>1.08</td>\n",
       "      <td>41.38</td>\n",
       "    </tr>\n",
       "    <tr>\n",
       "      <th>13</th>\n",
       "      <td>0.64</td>\n",
       "      <td>37.77</td>\n",
       "      <td>0.94</td>\n",
       "      <td>47.97</td>\n",
       "    </tr>\n",
       "    <tr>\n",
       "      <th>14</th>\n",
       "      <td>0.86</td>\n",
       "      <td>30.46</td>\n",
       "      <td>1.39</td>\n",
       "      <td>34.33</td>\n",
       "    </tr>\n",
       "    <tr>\n",
       "      <th>15</th>\n",
       "      <td>1.25</td>\n",
       "      <td>46.54</td>\n",
       "      <td>2.10</td>\n",
       "      <td>44.26</td>\n",
       "    </tr>\n",
       "    <tr>\n",
       "      <th>16</th>\n",
       "      <td>0.88</td>\n",
       "      <td>51.92</td>\n",
       "      <td>1.53</td>\n",
       "      <td>65.57</td>\n",
       "    </tr>\n",
       "    <tr>\n",
       "      <th>17</th>\n",
       "      <td>0.12</td>\n",
       "      <td>15.46</td>\n",
       "      <td>0.00</td>\n",
       "      <td>33.46</td>\n",
       "    </tr>\n",
       "    <tr>\n",
       "      <th>18</th>\n",
       "      <td>1.53</td>\n",
       "      <td>59.02</td>\n",
       "      <td>2.67</td>\n",
       "      <td>55.67</td>\n",
       "    </tr>\n",
       "    <tr>\n",
       "      <th>19</th>\n",
       "      <td>1.36</td>\n",
       "      <td>45.63</td>\n",
       "      <td>2.35</td>\n",
       "      <td>42.02</td>\n",
       "    </tr>\n",
       "    <tr>\n",
       "      <th>20</th>\n",
       "      <td>0.73</td>\n",
       "      <td>42.65</td>\n",
       "      <td>1.03</td>\n",
       "      <td>48.89</td>\n",
       "    </tr>\n",
       "    <tr>\n",
       "      <th>21</th>\n",
       "      <td>0.15</td>\n",
       "      <td>28.09</td>\n",
       "      <td>0.00</td>\n",
       "      <td>46.28</td>\n",
       "    </tr>\n",
       "    <tr>\n",
       "      <th>22</th>\n",
       "      <td>0.60</td>\n",
       "      <td>35.63</td>\n",
       "      <td>0.89</td>\n",
       "      <td>47.29</td>\n",
       "    </tr>\n",
       "    <tr>\n",
       "      <th>23</th>\n",
       "      <td>1.28</td>\n",
       "      <td>54.79</td>\n",
       "      <td>2.20</td>\n",
       "      <td>56.59</td>\n",
       "    </tr>\n",
       "    <tr>\n",
       "      <th>24</th>\n",
       "      <td>0.89</td>\n",
       "      <td>42.76</td>\n",
       "      <td>1.29</td>\n",
       "      <td>42.77</td>\n",
       "    </tr>\n",
       "    <tr>\n",
       "      <th>25</th>\n",
       "      <td>0.46</td>\n",
       "      <td>38.50</td>\n",
       "      <td>0.60</td>\n",
       "      <td>53.20</td>\n",
       "    </tr>\n",
       "    <tr>\n",
       "      <th>26</th>\n",
       "      <td>1.03</td>\n",
       "      <td>36.14</td>\n",
       "      <td>1.57</td>\n",
       "      <td>32.03</td>\n",
       "    </tr>\n",
       "    <tr>\n",
       "      <th>27</th>\n",
       "      <td>0.42</td>\n",
       "      <td>20.16</td>\n",
       "      <td>0.55</td>\n",
       "      <td>30.97</td>\n",
       "    </tr>\n",
       "    <tr>\n",
       "      <th>28</th>\n",
       "      <td>0.60</td>\n",
       "      <td>40.30</td>\n",
       "      <td>0.93</td>\n",
       "      <td>54.33</td>\n",
       "    </tr>\n",
       "    <tr>\n",
       "      <th>29</th>\n",
       "      <td>1.86</td>\n",
       "      <td>55.48</td>\n",
       "      <td>3.53</td>\n",
       "      <td>52.19</td>\n",
       "    </tr>\n",
       "    <tr>\n",
       "      <th>...</th>\n",
       "      <td>...</td>\n",
       "      <td>...</td>\n",
       "      <td>...</td>\n",
       "      <td>...</td>\n",
       "    </tr>\n",
       "    <tr>\n",
       "      <th>170</th>\n",
       "      <td>0.91</td>\n",
       "      <td>38.19</td>\n",
       "      <td>1.44</td>\n",
       "      <td>41.68</td>\n",
       "    </tr>\n",
       "    <tr>\n",
       "      <th>171</th>\n",
       "      <td>0.60</td>\n",
       "      <td>37.30</td>\n",
       "      <td>0.85</td>\n",
       "      <td>48.05</td>\n",
       "    </tr>\n",
       "    <tr>\n",
       "      <th>172</th>\n",
       "      <td>1.14</td>\n",
       "      <td>37.87</td>\n",
       "      <td>2.03</td>\n",
       "      <td>41.22</td>\n",
       "    </tr>\n",
       "    <tr>\n",
       "      <th>173</th>\n",
       "      <td>1.15</td>\n",
       "      <td>49.30</td>\n",
       "      <td>1.86</td>\n",
       "      <td>48.58</td>\n",
       "    </tr>\n",
       "    <tr>\n",
       "      <th>174</th>\n",
       "      <td>0.73</td>\n",
       "      <td>41.26</td>\n",
       "      <td>1.15</td>\n",
       "      <td>51.49</td>\n",
       "    </tr>\n",
       "    <tr>\n",
       "      <th>175</th>\n",
       "      <td>0.93</td>\n",
       "      <td>38.37</td>\n",
       "      <td>1.54</td>\n",
       "      <td>43.24</td>\n",
       "    </tr>\n",
       "    <tr>\n",
       "      <th>176</th>\n",
       "      <td>0.88</td>\n",
       "      <td>26.04</td>\n",
       "      <td>1.40</td>\n",
       "      <td>27.01</td>\n",
       "    </tr>\n",
       "    <tr>\n",
       "      <th>177</th>\n",
       "      <td>1.13</td>\n",
       "      <td>32.31</td>\n",
       "      <td>1.85</td>\n",
       "      <td>28.29</td>\n",
       "    </tr>\n",
       "    <tr>\n",
       "      <th>178</th>\n",
       "      <td>0.69</td>\n",
       "      <td>34.83</td>\n",
       "      <td>1.01</td>\n",
       "      <td>41.72</td>\n",
       "    </tr>\n",
       "    <tr>\n",
       "      <th>179</th>\n",
       "      <td>1.23</td>\n",
       "      <td>39.52</td>\n",
       "      <td>2.14</td>\n",
       "      <td>39.48</td>\n",
       "    </tr>\n",
       "    <tr>\n",
       "      <th>180</th>\n",
       "      <td>0.38</td>\n",
       "      <td>44.98</td>\n",
       "      <td>0.41</td>\n",
       "      <td>61.62</td>\n",
       "    </tr>\n",
       "    <tr>\n",
       "      <th>181</th>\n",
       "      <td>1.23</td>\n",
       "      <td>42.15</td>\n",
       "      <td>2.09</td>\n",
       "      <td>39.77</td>\n",
       "    </tr>\n",
       "    <tr>\n",
       "      <th>182</th>\n",
       "      <td>1.03</td>\n",
       "      <td>50.62</td>\n",
       "      <td>1.86</td>\n",
       "      <td>61.72</td>\n",
       "    </tr>\n",
       "    <tr>\n",
       "      <th>183</th>\n",
       "      <td>1.76</td>\n",
       "      <td>45.58</td>\n",
       "      <td>3.14</td>\n",
       "      <td>33.47</td>\n",
       "    </tr>\n",
       "    <tr>\n",
       "      <th>184</th>\n",
       "      <td>0.90</td>\n",
       "      <td>40.81</td>\n",
       "      <td>1.30</td>\n",
       "      <td>40.43</td>\n",
       "    </tr>\n",
       "    <tr>\n",
       "      <th>185</th>\n",
       "      <td>0.32</td>\n",
       "      <td>20.79</td>\n",
       "      <td>0.40</td>\n",
       "      <td>36.06</td>\n",
       "    </tr>\n",
       "    <tr>\n",
       "      <th>186</th>\n",
       "      <td>0.63</td>\n",
       "      <td>28.55</td>\n",
       "      <td>1.09</td>\n",
       "      <td>42.90</td>\n",
       "    </tr>\n",
       "    <tr>\n",
       "      <th>187</th>\n",
       "      <td>1.56</td>\n",
       "      <td>31.54</td>\n",
       "      <td>2.75</td>\n",
       "      <td>19.77</td>\n",
       "    </tr>\n",
       "    <tr>\n",
       "      <th>188</th>\n",
       "      <td>1.06</td>\n",
       "      <td>47.60</td>\n",
       "      <td>1.78</td>\n",
       "      <td>52.17</td>\n",
       "    </tr>\n",
       "    <tr>\n",
       "      <th>189</th>\n",
       "      <td>1.16</td>\n",
       "      <td>40.44</td>\n",
       "      <td>1.83</td>\n",
       "      <td>34.96</td>\n",
       "    </tr>\n",
       "    <tr>\n",
       "      <th>190</th>\n",
       "      <td>0.34</td>\n",
       "      <td>40.94</td>\n",
       "      <td>0.46</td>\n",
       "      <td>62.25</td>\n",
       "    </tr>\n",
       "    <tr>\n",
       "      <th>191</th>\n",
       "      <td>0.33</td>\n",
       "      <td>43.23</td>\n",
       "      <td>0.35</td>\n",
       "      <td>62.18</td>\n",
       "    </tr>\n",
       "    <tr>\n",
       "      <th>192</th>\n",
       "      <td>1.98</td>\n",
       "      <td>61.08</td>\n",
       "      <td>3.64</td>\n",
       "      <td>52.23</td>\n",
       "    </tr>\n",
       "    <tr>\n",
       "      <th>193</th>\n",
       "      <td>0.61</td>\n",
       "      <td>46.62</td>\n",
       "      <td>0.89</td>\n",
       "      <td>59.88</td>\n",
       "    </tr>\n",
       "    <tr>\n",
       "      <th>194</th>\n",
       "      <td>1.00</td>\n",
       "      <td>53.63</td>\n",
       "      <td>1.70</td>\n",
       "      <td>62.96</td>\n",
       "    </tr>\n",
       "    <tr>\n",
       "      <th>195</th>\n",
       "      <td>0.53</td>\n",
       "      <td>30.56</td>\n",
       "      <td>0.74</td>\n",
       "      <td>41.76</td>\n",
       "    </tr>\n",
       "    <tr>\n",
       "      <th>196</th>\n",
       "      <td>0.86</td>\n",
       "      <td>33.97</td>\n",
       "      <td>1.40</td>\n",
       "      <td>39.10</td>\n",
       "    </tr>\n",
       "    <tr>\n",
       "      <th>197</th>\n",
       "      <td>1.39</td>\n",
       "      <td>44.00</td>\n",
       "      <td>2.45</td>\n",
       "      <td>40.95</td>\n",
       "    </tr>\n",
       "    <tr>\n",
       "      <th>198</th>\n",
       "      <td>0.72</td>\n",
       "      <td>22.30</td>\n",
       "      <td>1.03</td>\n",
       "      <td>23.14</td>\n",
       "    </tr>\n",
       "    <tr>\n",
       "      <th>199</th>\n",
       "      <td>1.29</td>\n",
       "      <td>39.83</td>\n",
       "      <td>2.35</td>\n",
       "      <td>42.11</td>\n",
       "    </tr>\n",
       "  </tbody>\n",
       "</table>\n",
       "<p>200 rows × 4 columns</p>\n",
       "</div>"
      ],
      "text/plain": [
       "     sick    age  children  avgtemp_winter\n",
       "0    1.67  57.47      3.04           54.10\n",
       "1    0.71  26.77      1.20           36.54\n",
       "2    1.39  41.85      2.31           32.38\n",
       "3    1.37  51.27      2.46           52.94\n",
       "4    1.45  44.22      2.72           45.90\n",
       "5    0.62  44.67      1.20           68.60\n",
       "6    1.06  27.92      1.84           29.42\n",
       "7    1.29  44.87      2.40           50.49\n",
       "8    1.05  53.68      1.65           55.12\n",
       "9    1.18  39.63      1.96           37.30\n",
       "10   1.21  44.73      1.98           41.21\n",
       "11   0.63  41.05      1.04           56.73\n",
       "12   0.67  30.44      1.08           41.38\n",
       "13   0.64  37.77      0.94           47.97\n",
       "14   0.86  30.46      1.39           34.33\n",
       "15   1.25  46.54      2.10           44.26\n",
       "16   0.88  51.92      1.53           65.57\n",
       "17   0.12  15.46      0.00           33.46\n",
       "18   1.53  59.02      2.67           55.67\n",
       "19   1.36  45.63      2.35           42.02\n",
       "20   0.73  42.65      1.03           48.89\n",
       "21   0.15  28.09      0.00           46.28\n",
       "22   0.60  35.63      0.89           47.29\n",
       "23   1.28  54.79      2.20           56.59\n",
       "24   0.89  42.76      1.29           42.77\n",
       "25   0.46  38.50      0.60           53.20\n",
       "26   1.03  36.14      1.57           32.03\n",
       "27   0.42  20.16      0.55           30.97\n",
       "28   0.60  40.30      0.93           54.33\n",
       "29   1.86  55.48      3.53           52.19\n",
       "..    ...    ...       ...             ...\n",
       "170  0.91  38.19      1.44           41.68\n",
       "171  0.60  37.30      0.85           48.05\n",
       "172  1.14  37.87      2.03           41.22\n",
       "173  1.15  49.30      1.86           48.58\n",
       "174  0.73  41.26      1.15           51.49\n",
       "175  0.93  38.37      1.54           43.24\n",
       "176  0.88  26.04      1.40           27.01\n",
       "177  1.13  32.31      1.85           28.29\n",
       "178  0.69  34.83      1.01           41.72\n",
       "179  1.23  39.52      2.14           39.48\n",
       "180  0.38  44.98      0.41           61.62\n",
       "181  1.23  42.15      2.09           39.77\n",
       "182  1.03  50.62      1.86           61.72\n",
       "183  1.76  45.58      3.14           33.47\n",
       "184  0.90  40.81      1.30           40.43\n",
       "185  0.32  20.79      0.40           36.06\n",
       "186  0.63  28.55      1.09           42.90\n",
       "187  1.56  31.54      2.75           19.77\n",
       "188  1.06  47.60      1.78           52.17\n",
       "189  1.16  40.44      1.83           34.96\n",
       "190  0.34  40.94      0.46           62.25\n",
       "191  0.33  43.23      0.35           62.18\n",
       "192  1.98  61.08      3.64           52.23\n",
       "193  0.61  46.62      0.89           59.88\n",
       "194  1.00  53.63      1.70           62.96\n",
       "195  0.53  30.56      0.74           41.76\n",
       "196  0.86  33.97      1.40           39.10\n",
       "197  1.39  44.00      2.45           40.95\n",
       "198  0.72  22.30      1.03           23.14\n",
       "199  1.29  39.83      2.35           42.11\n",
       "\n",
       "[200 rows x 4 columns]"
      ]
     },
     "execution_count": 42,
     "metadata": {},
     "output_type": "execute_result"
    }
   ],
   "source": [
    "sick"
   ]
  },
  {
   "cell_type": "code",
   "execution_count": 43,
   "metadata": {
    "collapsed": true
   },
   "outputs": [],
   "source": [
    "def get_z(sick, params):\n",
    "    assert len(params) == 5\n",
    "    z_series = sick['sick'] - (params[0] + params [1] * sick['age'] + params[2] * sick['children'] + params[3] * sick['avgtemp_winter'])\n",
    "    return z_series"
   ]
  },
  {
   "cell_type": "code",
   "execution_count": 44,
   "metadata": {
    "collapsed": true
   },
   "outputs": [],
   "source": [
    "params_mle = [  2.51644553e-01  , 1.29335605e-02  , 4.00500112e-01  ,-9.99175290e-03 ,\n",
    "   9.10293751e-06]"
   ]
  },
  {
   "cell_type": "code",
   "execution_count": 45,
   "metadata": {
    "collapsed": true
   },
   "outputs": [],
   "source": [
    "z = get_z(sick, params_mle)"
   ]
  },
  {
   "cell_type": "code",
   "execution_count": 46,
   "metadata": {},
   "outputs": [
    {
     "data": {
      "text/plain": [
       "0     -0.001903\n",
       "1     -0.003377\n",
       "2     -0.004536\n",
       "3     -0.001015\n",
       "4     -0.004305\n",
       "5     -0.004553\n",
       "6      0.004288\n",
       "7      0.001310\n",
       "8     -0.005998\n",
       "9      0.003511\n",
       "10    -0.001393\n",
       "11    -0.002255\n",
       "12     0.005576\n",
       "13     0.002689\n",
       "14     0.000721\n",
       "15    -0.002388\n",
       "16    -0.000761\n",
       "17     0.002727\n",
       "18     0.001922\n",
       "19    -0.003125\n",
       "20     0.002721\n",
       "21    -0.002530\n",
       "22     0.003598\n",
       "23     0.004059\n",
       "24    -0.003981\n",
       "25     0.001675\n",
       "26     0.002187\n",
       "27    -0.003216\n",
       "28    -0.002480\n",
       "29    -0.001494\n",
       "         ...   \n",
       "170    0.004159\n",
       "171    0.005612\n",
       "172   -0.002594\n",
       "173    0.001200\n",
       "174   -0.001383\n",
       "175   -0.002632\n",
       "176    0.000743\n",
       "177    0.002214\n",
       "178    0.000230\n",
       "179    0.004625\n",
       "180   -0.001909\n",
       "181   -0.006467\n",
       "182   -0.004581\n",
       "183   -0.004303\n",
       "184    0.003853\n",
       "185   -0.000431\n",
       "186    0.001203\n",
       "187   -0.003407\n",
       "188    0.001098\n",
       "189    0.001719\n",
       "190   -0.003388\n",
       "191    0.000350\n",
       "192    0.002422\n",
       "193   -0.002746\n",
       "194    0.002959\n",
       "195    0.003991\n",
       "196   -0.001020\n",
       "197   -0.002784\n",
       "198   -0.001369\n",
       "199    0.002789\n",
       "Length: 200, dtype: float64"
      ]
     },
     "execution_count": 46,
     "metadata": {},
     "output_type": "execute_result"
    }
   ],
   "source": [
    "z"
   ]
  },
  {
   "cell_type": "code",
   "execution_count": 47,
   "metadata": {
    "collapsed": true
   },
   "outputs": [],
   "source": [
    "def pdf_z(z, params):\n",
    "    '''\n",
    "    Takes z series and params tuple. Returns np.ndarray.\n",
    "    '''\n",
    "    MU = 0\n",
    "    sig = math.sqrt(params[4])\n",
    "    p = sts.norm.pdf(z, MU, sig)\n",
    "    return p"
   ]
  },
  {
   "cell_type": "code",
   "execution_count": 48,
   "metadata": {},
   "outputs": [
    {
     "data": {
      "text/plain": [
       "array([ 108.38060035,   70.66515134,   42.69974472,  124.95105416,\n",
       "         47.76715665,   42.35524601,   48.1711341 ,  120.33367837,\n",
       "         18.33027871,   67.19330159,  118.86225019,   99.99950853,\n",
       "         23.96121353,   88.88205029,  128.50545785,   96.67633212,\n",
       "        128.08741424,   87.89590868,  107.93730254,   77.34012711,\n",
       "         88.05063645,   93.03256852,   64.94990247,   53.50045062,\n",
       "         55.35700793,  113.35161137,  101.67127271,   74.93061793,\n",
       "         94.314587  ,  116.96432624,  119.74180533,   96.1340962 ,\n",
       "        129.62578617,  105.53798145,  118.46078373,   16.82018216,\n",
       "         30.73927687,   63.79112386,  107.1967103 ,  112.9348759 ,\n",
       "         32.01495993,  124.66489723,  128.44128397,   53.46657696,\n",
       "         59.4179345 ,   89.83069948,  128.86817581,  120.18730021,\n",
       "         76.88036994,   53.12420179,   81.73878185,   68.70006579,\n",
       "         35.8619213 ,  121.93240984,   97.93893273,   63.83087408,\n",
       "         19.12055248,  116.49702848,  132.22610498,   74.90835117,\n",
       "         94.20391951,   99.85928031,  105.5292839 ,  131.5894933 ,\n",
       "        109.61772125,  123.97750181,  131.96813029,   99.82060965,\n",
       "        132.13549274,   35.67817432,  132.08502103,   66.81048508,\n",
       "        131.61977457,  122.06133762,  116.54761395,  107.89171203,\n",
       "        122.22708833,   38.5215375 ,   96.8410153 ,  113.67955736,\n",
       "         33.77080131,   66.61885374,  129.26434264,   78.86856818,\n",
       "         65.35581888,   83.69552478,   34.95344122,   92.40280082,\n",
       "         41.20569221,   60.2477608 ,  117.16365839,   46.12081334,\n",
       "        116.52068157,  132.20500657,   47.09917887,  131.74133842,\n",
       "        127.63443139,  126.8464913 ,   84.80523485,   52.46270497,\n",
       "         80.82237621,   17.89533637,   75.3828827 ,  108.31602644,\n",
       "         72.68743731,   59.72927712,   19.04394143,   74.60677937,\n",
       "         37.22216788,   61.65118273,   63.03976943,   72.0941463 ,\n",
       "        127.2803399 ,   55.00913766,  116.76205333,  130.74957932,\n",
       "         87.94716253,  104.25882555,   39.05189608,  114.2831967 ,\n",
       "         58.2653955 ,  104.64236127,   76.27593788,   16.6434896 ,\n",
       "         48.53173933,   64.25077835,  130.07678034,  125.51849789,\n",
       "         42.49093955,  127.07707798,   56.91080891,  122.63545308,\n",
       "        123.70491609,   90.72897257,   98.59068824,  129.56151776,\n",
       "         38.75663806,  131.62544962,   19.29291226,  130.18215777,\n",
       "         24.47987598,  130.48868098,  131.14600679,  131.58245445,\n",
       "        120.09325391,  127.5242931 ,  130.03050448,   66.66182073,\n",
       "         76.69241469,  115.18941294,  113.94569564,   82.19487178,\n",
       "        130.73896299,  127.87337137,  129.32871163,  103.42965993,\n",
       "         86.44655547,  107.29192509,  131.45406226,  116.45885396,\n",
       "         38.58138197,  104.89133063,   92.50395968,  129.23843174,\n",
       "        128.97252042,   65.37632941,   44.85119794,   71.27783475,\n",
       "        115.6586718 ,  105.62907776,   51.13574149,   23.43989403,\n",
       "         91.37916791,  122.17013895,  119.03940026,   90.37790857,\n",
       "        128.28143327,  101.02575013,  131.84191494,   40.83075137,\n",
       "        108.23199037,   13.29109877,   41.76406592,   47.83093756,\n",
       "         58.49700214,  130.88623183,  122.11676398,   69.88071529,\n",
       "        123.76144137,  112.42201268,   70.38990179,  131.34112133,\n",
       "         95.793866  ,   87.38414007,   81.73946334,   55.1179291 ,\n",
       "        124.87920905,   86.3778872 ,  119.29384563,   86.24641868])"
      ]
     },
     "execution_count": 48,
     "metadata": {},
     "output_type": "execute_result"
    }
   ],
   "source": [
    "pdf = pdf_z(z, params_mle)\n",
    "pdf"
   ]
  },
  {
   "cell_type": "code",
   "execution_count": 49,
   "metadata": {
    "collapsed": true
   },
   "outputs": [],
   "source": [
    "def neg_log_lik(pdf):\n",
    "    '''\n",
    "    Takes array. Returns scalar\n",
    "    '''\n",
    "    log = np.log(pdf)\n",
    "    s = np.sum(log)\n",
    "    neg = -s\n",
    "    return neg"
   ]
  },
  {
   "cell_type": "code",
   "execution_count": 50,
   "metadata": {
    "scrolled": true
   },
   "outputs": [
    {
     "data": {
      "text/plain": [
       "-876.86506266910055"
      ]
     },
     "execution_count": 50,
     "metadata": {},
     "output_type": "execute_result"
    }
   ],
   "source": [
    "nll = neg_log_lik(pdf)\n",
    "nll"
   ]
  },
  {
   "cell_type": "code",
   "execution_count": 51,
   "metadata": {
    "collapsed": true
   },
   "outputs": [],
   "source": [
    "def crit(params, *args):\n",
    "    print(\"params:\", params)\n",
    "    sick = args[0]\n",
    "    z = get_z(sick, params)\n",
    "    pdf = pdf_z(z, params)\n",
    "    nll = neg_log_lik(pdf)\n",
    "    print(\"negloglik:\", nll)\n",
    "    return nll"
   ]
  },
  {
   "cell_type": "code",
   "execution_count": 56,
   "metadata": {},
   "outputs": [],
   "source": [
    "a = (sick,)\n",
    "P = np.array([0,0,0,0,1])\n",
    "b = (None, None)\n",
    "b = (b, b, b, b, (1e-10, None))"
   ]
  },
  {
   "cell_type": "code",
   "execution_count": 57,
   "metadata": {},
   "outputs": [
    {
     "name": "stdout",
     "output_type": "stream",
     "text": [
      "params: [ 0.  0.  0.  0.  1.]\n",
      "negloglik: 310.812006641\n",
      "params: [  1.49011612e-08   0.00000000e+00   0.00000000e+00   0.00000000e+00\n",
      "   1.00000000e+00]\n",
      "negloglik: 310.812003635\n",
      "params: [  0.00000000e+00   1.49011612e-08   0.00000000e+00   0.00000000e+00\n",
      "   1.00000000e+00]\n",
      "negloglik: 310.811872114\n",
      "params: [  0.00000000e+00   0.00000000e+00   1.49011612e-08   0.00000000e+00\n",
      "   1.00000000e+00]\n",
      "negloglik: 310.812000163\n",
      "params: [  0.00000000e+00   0.00000000e+00   0.00000000e+00   1.49011612e-08\n",
      "   1.00000000e+00]\n",
      "negloglik: 310.811876013\n",
      "params: [ 0.          0.          0.          0.          1.00000001]\n",
      "negloglik: 310.812006238\n",
      "params: [ 0.  0.  0.  0.  1.]\n",
      "negloglik: 310.812006641\n",
      "params: [ 0.01617866  0.72407508  0.03486739  0.70308826  1.00216744]\n",
      "negloglik: inf\n",
      "params: [ 0.01617866  0.72407508  0.03486739  0.70308826  1.00216744]\n",
      "negloglik: inf\n",
      "params: [ 0.01617868  0.72407508  0.03486739  0.70308826  1.00216744]\n",
      "negloglik: inf\n",
      "params: [ 0.01617866  0.7240751   0.03486739  0.70308826  1.00216744]\n",
      "negloglik: inf\n",
      "params: [ 0.01617866  0.72407508  0.03486741  0.70308826  1.00216744]\n",
      "negloglik: inf\n",
      "params: [ 0.01617866  0.72407508  0.03486739  0.70308827  1.00216744]\n",
      "negloglik: inf\n",
      "params: [ 0.01617866  0.72407508  0.03486739  0.70308826  1.00216746]\n",
      "negloglik: inf\n",
      "params: [  2.01720001e-98   9.02796785e-97   4.34736298e-98   8.76629833e-97\n",
      "   1.00000000e+00]\n",
      "negloglik: 310.812006641\n",
      "params: [  2.01720001e-98   9.02796785e-97   4.34736298e-98   8.76629833e-97\n",
      "   1.00000000e+00]\n",
      "negloglik: 310.812006641\n",
      "params: [  1.49011612e-08   9.02796785e-97   4.34736298e-98   8.76629833e-97\n",
      "   1.00000000e+00]\n",
      "negloglik: 310.812003635\n",
      "params: [  2.01720001e-98   1.49011612e-08   4.34736298e-98   8.76629833e-97\n",
      "   1.00000000e+00]\n",
      "negloglik: 310.811872114\n",
      "params: [  2.01720001e-98   9.02796785e-97   1.49011612e-08   8.76629833e-97\n",
      "   1.00000000e+00]\n",
      "negloglik: 310.812000163\n",
      "params: [  2.01720001e-98   9.02796785e-97   4.34736298e-98   1.49011612e-08\n",
      "   1.00000000e+00]\n",
      "negloglik: 310.811876013\n",
      "params: [  2.01720001e-98   9.02796785e-97   4.34736298e-98   8.76629833e-97\n",
      "   1.00000001e+00]\n",
      "negloglik: 310.812006238\n",
      "params: [  2.01720001e-98   9.02796785e-97   4.34736298e-98   8.76629833e-97\n",
      "   1.00000000e+00]\n",
      "negloglik: 310.812006641\n",
      "params: [  2.01720001e-98   9.02796785e-97   4.34736298e-98   8.76629833e-97\n",
      "   1.00000000e+00]\n",
      "negloglik: 310.812006641\n",
      "params: [  1.49011612e-08   9.02796785e-97   4.34736298e-98   8.76629833e-97\n",
      "   1.00000000e+00]\n",
      "negloglik: 310.812003635\n",
      "params: [  2.01720001e-98   1.49011612e-08   4.34736298e-98   8.76629833e-97\n",
      "   1.00000000e+00]\n",
      "negloglik: 310.811872114\n",
      "params: [  2.01720001e-98   9.02796785e-97   1.49011612e-08   8.76629833e-97\n",
      "   1.00000000e+00]\n",
      "negloglik: 310.812000163\n",
      "params: [  2.01720001e-98   9.02796785e-97   4.34736298e-98   1.49011612e-08\n",
      "   1.00000000e+00]\n",
      "negloglik: 310.811876013\n",
      "params: [  2.01720001e-98   9.02796785e-97   4.34736298e-98   8.76629833e-97\n",
      "   1.00000001e+00]\n",
      "negloglik: 310.812006238\n",
      "params: [ 0.01617866  0.72407508  0.03486739  0.70308826  1.00216744]\n",
      "negloglik: inf\n",
      "params: [ 0.00808933  0.36203754  0.0174337   0.35154413  1.00108372]\n",
      "negloglik: inf\n",
      "params: [ 0.00404467  0.18101877  0.00871685  0.17577206  1.00054186]\n",
      "negloglik: 21239.6278712\n",
      "params: [ 0.00202233  0.09050939  0.00435842  0.08788603  1.00027093]\n",
      "negloglik: 4749.71769793\n",
      "params: [  2.66657167e-04   1.19342272e-02   5.74685449e-04   1.15883218e-02\n",
      "   1.00003572e+00]\n",
      "negloglik: 206.020052241\n",
      "params: [  2.66657167e-04   1.19342272e-02   5.74685449e-04   1.15883218e-02\n",
      "   1.00003572e+00]\n",
      "negloglik: 206.020052241\n",
      "params: [  2.66672068e-04   1.19342272e-02   5.74685449e-04   1.15883218e-02\n",
      "   1.00003572e+00]\n",
      "negloglik: 206.020052207\n",
      "params: [  2.66657167e-04   1.19342421e-02   5.74685449e-04   1.15883218e-02\n",
      "   1.00003572e+00]\n",
      "negloglik: 206.020045562\n",
      "params: [  2.66657167e-04   1.19342272e-02   5.74700350e-04   1.15883218e-02\n",
      "   1.00003572e+00]\n",
      "negloglik: 206.020051\n",
      "params: [  2.66657167e-04   1.19342272e-02   5.74685449e-04   1.15883367e-02\n",
      "   1.00003572e+00]\n",
      "negloglik: 206.020059237\n",
      "params: [  2.66657167e-04   1.19342272e-02   5.74685449e-04   1.15883218e-02\n",
      "   1.00003574e+00]\n",
      "negloglik: 206.0200534\n",
      "params: [ 0.00167614  0.24344997  0.04178987 -0.20465067  0.96216442]\n",
      "negloglik: 567.533457522\n",
      "params: [ 0.00167614  0.24344997  0.04178987 -0.20465067  0.96216442]\n",
      "negloglik: 567.533457522\n",
      "params: [ 0.00167615  0.24344997  0.04178987 -0.20465067  0.96216442]\n",
      "negloglik: 567.533457381\n",
      "params: [ 0.00167614  0.24344998  0.04178987 -0.20465067  0.96216442]\n",
      "negloglik: 567.533490555\n",
      "params: [ 0.00167614  0.24344997  0.04178988 -0.20465067  0.96216442]\n",
      "negloglik: 567.53346233\n",
      "params: [ 0.00167614  0.24344997  0.04178987 -0.20465066  0.96216442]\n",
      "negloglik: 567.533428619\n",
      "params: [ 0.00167614  0.24344997  0.04178987 -0.20465067  0.96216444]\n",
      "negloglik: 567.533453068\n",
      "params: [  5.30685816e-04   5.53025006e-02   8.29524650e-03  -2.89182626e-02\n",
      "   9.92941550e-01]\n",
      "negloglik: 185.857411213\n",
      "params: [  5.30685816e-04   5.53025006e-02   8.29524650e-03  -2.89182626e-02\n",
      "   9.92941550e-01]\n",
      "negloglik: 185.857411213\n",
      "params: [  5.30700717e-04   5.53025006e-02   8.29524650e-03  -2.89182626e-02\n",
      "   9.92941550e-01]\n",
      "negloglik: 185.857411159\n",
      "params: [  5.30685816e-04   5.53025155e-02   8.29524650e-03  -2.89182626e-02\n",
      "   9.92941550e-01]\n",
      "negloglik: 185.857411742\n",
      "params: [  5.30685816e-04   5.53025006e-02   8.29526140e-03  -2.89182626e-02\n",
      "   9.92941550e-01]\n",
      "negloglik: 185.85741107\n",
      "params: [  5.30685816e-04   5.53025006e-02   8.29524650e-03  -2.89182477e-02\n",
      "   9.92941550e-01]\n",
      "negloglik: 185.857411692\n",
      "params: [  5.30685816e-04   5.53025006e-02   8.29524650e-03  -2.89182626e-02\n",
      "   9.92941564e-01]\n",
      "negloglik: 185.857412672\n",
      "params: [ 0.01890854  0.06178131  0.05724774 -0.03252602  0.58127476]\n",
      "negloglik: 142.707492141\n",
      "params: [ 0.01890854  0.06178131  0.05724774 -0.03252602  0.58127476]\n",
      "negloglik: 142.707492141\n",
      "params: [ 0.01890855  0.06178131  0.05724774 -0.03252602  0.58127476]\n",
      "negloglik: 142.707493101\n",
      "params: [ 0.01890854  0.06178133  0.05724774 -0.03252602  0.58127476]\n",
      "negloglik: 142.7075407\n",
      "params: [ 0.01890854  0.06178131  0.05724775 -0.03252602  0.58127476]\n",
      "negloglik: 142.70749417\n",
      "params: [ 0.01890854  0.06178131  0.05724774 -0.03252601  0.58127476]\n",
      "negloglik: 142.707539171\n",
      "params: [ 0.01890854  0.06178131  0.05724774 -0.03252602  0.58127478]\n",
      "negloglik: 142.707494367\n",
      "params: [ 0.09241994  0.08769657  0.2530577  -0.04695707 -1.06539239]\n"
     ]
    },
    {
     "name": "stderr",
     "output_type": "stream",
     "text": [
      "/Users/laurencewarner/anaconda3/lib/python3.6/site-packages/ipykernel_launcher.py:5: RuntimeWarning: divide by zero encountered in log\n",
      "  \"\"\"\n",
      "/Users/laurencewarner/anaconda3/lib/python3.6/site-packages/scipy/optimize/optimize.py:628: RuntimeWarning: invalid value encountered in double_scalars\n",
      "  grad[k] = (f(*((xk + d,) + args)) - f0) / d[k]\n",
      "/Users/laurencewarner/anaconda3/lib/python3.6/site-packages/ipykernel_launcher.py:5: RuntimeWarning: divide by zero encountered in log\n",
      "  \"\"\"\n"
     ]
    },
    {
     "ename": "ValueError",
     "evalue": "math domain error",
     "output_type": "error",
     "traceback": [
      "\u001b[0;31m---------------------------------------------------------------------------\u001b[0m",
      "\u001b[0;31mValueError\u001b[0m                                Traceback (most recent call last)",
      "\u001b[0;32m<ipython-input-57-78904b03fa73>\u001b[0m in \u001b[0;36m<module>\u001b[0;34m()\u001b[0m\n\u001b[0;32m----> 1\u001b[0;31m \u001b[0mres\u001b[0m \u001b[0;34m=\u001b[0m \u001b[0mopt\u001b[0m\u001b[0;34m.\u001b[0m\u001b[0mminimize\u001b[0m\u001b[0;34m(\u001b[0m\u001b[0mcrit\u001b[0m\u001b[0;34m,\u001b[0m \u001b[0mP\u001b[0m\u001b[0;34m,\u001b[0m \u001b[0margs\u001b[0m \u001b[0;34m=\u001b[0m \u001b[0ma\u001b[0m\u001b[0;34m)\u001b[0m\u001b[0;34m\u001b[0m\u001b[0m\n\u001b[0m",
      "\u001b[0;32m~/anaconda3/lib/python3.6/site-packages/scipy/optimize/_minimize.py\u001b[0m in \u001b[0;36mminimize\u001b[0;34m(fun, x0, args, method, jac, hess, hessp, bounds, constraints, tol, callback, options)\u001b[0m\n\u001b[1;32m    442\u001b[0m         \u001b[0;32mreturn\u001b[0m \u001b[0m_minimize_cg\u001b[0m\u001b[0;34m(\u001b[0m\u001b[0mfun\u001b[0m\u001b[0;34m,\u001b[0m \u001b[0mx0\u001b[0m\u001b[0;34m,\u001b[0m \u001b[0margs\u001b[0m\u001b[0;34m,\u001b[0m \u001b[0mjac\u001b[0m\u001b[0;34m,\u001b[0m \u001b[0mcallback\u001b[0m\u001b[0;34m,\u001b[0m \u001b[0;34m**\u001b[0m\u001b[0moptions\u001b[0m\u001b[0;34m)\u001b[0m\u001b[0;34m\u001b[0m\u001b[0m\n\u001b[1;32m    443\u001b[0m     \u001b[0;32melif\u001b[0m \u001b[0mmeth\u001b[0m \u001b[0;34m==\u001b[0m \u001b[0;34m'bfgs'\u001b[0m\u001b[0;34m:\u001b[0m\u001b[0;34m\u001b[0m\u001b[0m\n\u001b[0;32m--> 444\u001b[0;31m         \u001b[0;32mreturn\u001b[0m \u001b[0m_minimize_bfgs\u001b[0m\u001b[0;34m(\u001b[0m\u001b[0mfun\u001b[0m\u001b[0;34m,\u001b[0m \u001b[0mx0\u001b[0m\u001b[0;34m,\u001b[0m \u001b[0margs\u001b[0m\u001b[0;34m,\u001b[0m \u001b[0mjac\u001b[0m\u001b[0;34m,\u001b[0m \u001b[0mcallback\u001b[0m\u001b[0;34m,\u001b[0m \u001b[0;34m**\u001b[0m\u001b[0moptions\u001b[0m\u001b[0;34m)\u001b[0m\u001b[0;34m\u001b[0m\u001b[0m\n\u001b[0m\u001b[1;32m    445\u001b[0m     \u001b[0;32melif\u001b[0m \u001b[0mmeth\u001b[0m \u001b[0;34m==\u001b[0m \u001b[0;34m'newton-cg'\u001b[0m\u001b[0;34m:\u001b[0m\u001b[0;34m\u001b[0m\u001b[0m\n\u001b[1;32m    446\u001b[0m         return _minimize_newtoncg(fun, x0, args, jac, hess, hessp, callback,\n",
      "\u001b[0;32m~/anaconda3/lib/python3.6/site-packages/scipy/optimize/optimize.py\u001b[0m in \u001b[0;36m_minimize_bfgs\u001b[0;34m(fun, x0, args, jac, callback, gtol, norm, eps, maxiter, disp, return_all, **unknown_options)\u001b[0m\n\u001b[1;32m    932\u001b[0m             \u001b[0malpha_k\u001b[0m\u001b[0;34m,\u001b[0m \u001b[0mfc\u001b[0m\u001b[0;34m,\u001b[0m \u001b[0mgc\u001b[0m\u001b[0;34m,\u001b[0m \u001b[0mold_fval\u001b[0m\u001b[0;34m,\u001b[0m \u001b[0mold_old_fval\u001b[0m\u001b[0;34m,\u001b[0m \u001b[0mgfkp1\u001b[0m \u001b[0;34m=\u001b[0m\u001b[0;31m \u001b[0m\u001b[0;31m\\\u001b[0m\u001b[0;34m\u001b[0m\u001b[0m\n\u001b[1;32m    933\u001b[0m                      _line_search_wolfe12(f, myfprime, xk, pk, gfk,\n\u001b[0;32m--> 934\u001b[0;31m                                           old_fval, old_old_fval, amin=1e-100, amax=1e100)\n\u001b[0m\u001b[1;32m    935\u001b[0m         \u001b[0;32mexcept\u001b[0m \u001b[0m_LineSearchError\u001b[0m\u001b[0;34m:\u001b[0m\u001b[0;34m\u001b[0m\u001b[0m\n\u001b[1;32m    936\u001b[0m             \u001b[0;31m# Line search failed to find a better solution.\u001b[0m\u001b[0;34m\u001b[0m\u001b[0;34m\u001b[0m\u001b[0m\n",
      "\u001b[0;32m~/anaconda3/lib/python3.6/site-packages/scipy/optimize/optimize.py\u001b[0m in \u001b[0;36m_line_search_wolfe12\u001b[0;34m(f, fprime, xk, pk, gfk, old_fval, old_old_fval, **kwargs)\u001b[0m\n\u001b[1;32m    763\u001b[0m     ret = line_search_wolfe1(f, fprime, xk, pk, gfk,\n\u001b[1;32m    764\u001b[0m                              \u001b[0mold_fval\u001b[0m\u001b[0;34m,\u001b[0m \u001b[0mold_old_fval\u001b[0m\u001b[0;34m,\u001b[0m\u001b[0;34m\u001b[0m\u001b[0m\n\u001b[0;32m--> 765\u001b[0;31m                              **kwargs)\n\u001b[0m\u001b[1;32m    766\u001b[0m \u001b[0;34m\u001b[0m\u001b[0m\n\u001b[1;32m    767\u001b[0m     \u001b[0;32mif\u001b[0m \u001b[0mret\u001b[0m\u001b[0;34m[\u001b[0m\u001b[0;36m0\u001b[0m\u001b[0;34m]\u001b[0m \u001b[0;32mis\u001b[0m \u001b[0;32mNone\u001b[0m\u001b[0;34m:\u001b[0m\u001b[0;34m\u001b[0m\u001b[0m\n",
      "\u001b[0;32m~/anaconda3/lib/python3.6/site-packages/scipy/optimize/linesearch.py\u001b[0m in \u001b[0;36mline_search_wolfe1\u001b[0;34m(f, fprime, xk, pk, gfk, old_fval, old_old_fval, args, c1, c2, amax, amin, xtol)\u001b[0m\n\u001b[1;32m     99\u001b[0m     stp, fval, old_fval = scalar_search_wolfe1(\n\u001b[1;32m    100\u001b[0m             \u001b[0mphi\u001b[0m\u001b[0;34m,\u001b[0m \u001b[0mderphi\u001b[0m\u001b[0;34m,\u001b[0m \u001b[0mold_fval\u001b[0m\u001b[0;34m,\u001b[0m \u001b[0mold_old_fval\u001b[0m\u001b[0;34m,\u001b[0m \u001b[0mderphi0\u001b[0m\u001b[0;34m,\u001b[0m\u001b[0;34m\u001b[0m\u001b[0m\n\u001b[0;32m--> 101\u001b[0;31m             c1=c1, c2=c2, amax=amax, amin=amin, xtol=xtol)\n\u001b[0m\u001b[1;32m    102\u001b[0m \u001b[0;34m\u001b[0m\u001b[0m\n\u001b[1;32m    103\u001b[0m     \u001b[0;32mreturn\u001b[0m \u001b[0mstp\u001b[0m\u001b[0;34m,\u001b[0m \u001b[0mfc\u001b[0m\u001b[0;34m[\u001b[0m\u001b[0;36m0\u001b[0m\u001b[0;34m]\u001b[0m\u001b[0;34m,\u001b[0m \u001b[0mgc\u001b[0m\u001b[0;34m[\u001b[0m\u001b[0;36m0\u001b[0m\u001b[0;34m]\u001b[0m\u001b[0;34m,\u001b[0m \u001b[0mfval\u001b[0m\u001b[0;34m,\u001b[0m \u001b[0mold_fval\u001b[0m\u001b[0;34m,\u001b[0m \u001b[0mgval\u001b[0m\u001b[0;34m[\u001b[0m\u001b[0;36m0\u001b[0m\u001b[0;34m]\u001b[0m\u001b[0;34m\u001b[0m\u001b[0m\n",
      "\u001b[0;32m~/anaconda3/lib/python3.6/site-packages/scipy/optimize/linesearch.py\u001b[0m in \u001b[0;36mscalar_search_wolfe1\u001b[0;34m(phi, derphi, phi0, old_phi0, derphi0, c1, c2, amax, amin, xtol)\u001b[0m\n\u001b[1;32m    172\u001b[0m         \u001b[0;32mif\u001b[0m \u001b[0mtask\u001b[0m\u001b[0;34m[\u001b[0m\u001b[0;34m:\u001b[0m\u001b[0;36m2\u001b[0m\u001b[0;34m]\u001b[0m \u001b[0;34m==\u001b[0m \u001b[0;34mb'FG'\u001b[0m\u001b[0;34m:\u001b[0m\u001b[0;34m\u001b[0m\u001b[0m\n\u001b[1;32m    173\u001b[0m             \u001b[0malpha1\u001b[0m \u001b[0;34m=\u001b[0m \u001b[0mstp\u001b[0m\u001b[0;34m\u001b[0m\u001b[0m\n\u001b[0;32m--> 174\u001b[0;31m             \u001b[0mphi1\u001b[0m \u001b[0;34m=\u001b[0m \u001b[0mphi\u001b[0m\u001b[0;34m(\u001b[0m\u001b[0mstp\u001b[0m\u001b[0;34m)\u001b[0m\u001b[0;34m\u001b[0m\u001b[0m\n\u001b[0m\u001b[1;32m    175\u001b[0m             \u001b[0mderphi1\u001b[0m \u001b[0;34m=\u001b[0m \u001b[0mderphi\u001b[0m\u001b[0;34m(\u001b[0m\u001b[0mstp\u001b[0m\u001b[0;34m)\u001b[0m\u001b[0;34m\u001b[0m\u001b[0m\n\u001b[1;32m    176\u001b[0m         \u001b[0;32melse\u001b[0m\u001b[0;34m:\u001b[0m\u001b[0;34m\u001b[0m\u001b[0m\n",
      "\u001b[0;32m~/anaconda3/lib/python3.6/site-packages/scipy/optimize/linesearch.py\u001b[0m in \u001b[0;36mphi\u001b[0;34m(s)\u001b[0m\n\u001b[1;32m     85\u001b[0m     \u001b[0;32mdef\u001b[0m \u001b[0mphi\u001b[0m\u001b[0;34m(\u001b[0m\u001b[0ms\u001b[0m\u001b[0;34m)\u001b[0m\u001b[0;34m:\u001b[0m\u001b[0;34m\u001b[0m\u001b[0m\n\u001b[1;32m     86\u001b[0m         \u001b[0mfc\u001b[0m\u001b[0;34m[\u001b[0m\u001b[0;36m0\u001b[0m\u001b[0;34m]\u001b[0m \u001b[0;34m+=\u001b[0m \u001b[0;36m1\u001b[0m\u001b[0;34m\u001b[0m\u001b[0m\n\u001b[0;32m---> 87\u001b[0;31m         \u001b[0;32mreturn\u001b[0m \u001b[0mf\u001b[0m\u001b[0;34m(\u001b[0m\u001b[0mxk\u001b[0m \u001b[0;34m+\u001b[0m \u001b[0ms\u001b[0m\u001b[0;34m*\u001b[0m\u001b[0mpk\u001b[0m\u001b[0;34m,\u001b[0m \u001b[0;34m*\u001b[0m\u001b[0margs\u001b[0m\u001b[0;34m)\u001b[0m\u001b[0;34m\u001b[0m\u001b[0m\n\u001b[0m\u001b[1;32m     88\u001b[0m \u001b[0;34m\u001b[0m\u001b[0m\n\u001b[1;32m     89\u001b[0m     \u001b[0;32mdef\u001b[0m \u001b[0mderphi\u001b[0m\u001b[0;34m(\u001b[0m\u001b[0ms\u001b[0m\u001b[0;34m)\u001b[0m\u001b[0;34m:\u001b[0m\u001b[0;34m\u001b[0m\u001b[0m\n",
      "\u001b[0;32m~/anaconda3/lib/python3.6/site-packages/scipy/optimize/optimize.py\u001b[0m in \u001b[0;36mfunction_wrapper\u001b[0;34m(*wrapper_args)\u001b[0m\n\u001b[1;32m    290\u001b[0m     \u001b[0;32mdef\u001b[0m \u001b[0mfunction_wrapper\u001b[0m\u001b[0;34m(\u001b[0m\u001b[0;34m*\u001b[0m\u001b[0mwrapper_args\u001b[0m\u001b[0;34m)\u001b[0m\u001b[0;34m:\u001b[0m\u001b[0;34m\u001b[0m\u001b[0m\n\u001b[1;32m    291\u001b[0m         \u001b[0mncalls\u001b[0m\u001b[0;34m[\u001b[0m\u001b[0;36m0\u001b[0m\u001b[0;34m]\u001b[0m \u001b[0;34m+=\u001b[0m \u001b[0;36m1\u001b[0m\u001b[0;34m\u001b[0m\u001b[0m\n\u001b[0;32m--> 292\u001b[0;31m         \u001b[0;32mreturn\u001b[0m \u001b[0mfunction\u001b[0m\u001b[0;34m(\u001b[0m\u001b[0;34m*\u001b[0m\u001b[0;34m(\u001b[0m\u001b[0mwrapper_args\u001b[0m \u001b[0;34m+\u001b[0m \u001b[0margs\u001b[0m\u001b[0;34m)\u001b[0m\u001b[0;34m)\u001b[0m\u001b[0;34m\u001b[0m\u001b[0m\n\u001b[0m\u001b[1;32m    293\u001b[0m \u001b[0;34m\u001b[0m\u001b[0m\n\u001b[1;32m    294\u001b[0m     \u001b[0;32mreturn\u001b[0m \u001b[0mncalls\u001b[0m\u001b[0;34m,\u001b[0m \u001b[0mfunction_wrapper\u001b[0m\u001b[0;34m\u001b[0m\u001b[0m\n",
      "\u001b[0;32m<ipython-input-51-58037d073a54>\u001b[0m in \u001b[0;36mcrit\u001b[0;34m(params, *args)\u001b[0m\n\u001b[1;32m      3\u001b[0m     \u001b[0msick\u001b[0m \u001b[0;34m=\u001b[0m \u001b[0margs\u001b[0m\u001b[0;34m[\u001b[0m\u001b[0;36m0\u001b[0m\u001b[0;34m]\u001b[0m\u001b[0;34m\u001b[0m\u001b[0m\n\u001b[1;32m      4\u001b[0m     \u001b[0mz\u001b[0m \u001b[0;34m=\u001b[0m \u001b[0mget_z\u001b[0m\u001b[0;34m(\u001b[0m\u001b[0msick\u001b[0m\u001b[0;34m,\u001b[0m \u001b[0mparams\u001b[0m\u001b[0;34m)\u001b[0m\u001b[0;34m\u001b[0m\u001b[0m\n\u001b[0;32m----> 5\u001b[0;31m     \u001b[0mpdf\u001b[0m \u001b[0;34m=\u001b[0m \u001b[0mpdf_z\u001b[0m\u001b[0;34m(\u001b[0m\u001b[0mz\u001b[0m\u001b[0;34m,\u001b[0m \u001b[0mparams\u001b[0m\u001b[0;34m)\u001b[0m\u001b[0;34m\u001b[0m\u001b[0m\n\u001b[0m\u001b[1;32m      6\u001b[0m     \u001b[0mnll\u001b[0m \u001b[0;34m=\u001b[0m \u001b[0mneg_log_lik\u001b[0m\u001b[0;34m(\u001b[0m\u001b[0mpdf\u001b[0m\u001b[0;34m)\u001b[0m\u001b[0;34m\u001b[0m\u001b[0m\n\u001b[1;32m      7\u001b[0m     \u001b[0mprint\u001b[0m\u001b[0;34m(\u001b[0m\u001b[0;34m\"negloglik:\"\u001b[0m\u001b[0;34m,\u001b[0m \u001b[0mnll\u001b[0m\u001b[0;34m)\u001b[0m\u001b[0;34m\u001b[0m\u001b[0m\n",
      "\u001b[0;32m<ipython-input-47-96886ec2ad59>\u001b[0m in \u001b[0;36mpdf_z\u001b[0;34m(z, params)\u001b[0m\n\u001b[1;32m      4\u001b[0m     '''\n\u001b[1;32m      5\u001b[0m     \u001b[0mMU\u001b[0m \u001b[0;34m=\u001b[0m \u001b[0;36m0\u001b[0m\u001b[0;34m\u001b[0m\u001b[0m\n\u001b[0;32m----> 6\u001b[0;31m     \u001b[0msig\u001b[0m \u001b[0;34m=\u001b[0m \u001b[0mmath\u001b[0m\u001b[0;34m.\u001b[0m\u001b[0msqrt\u001b[0m\u001b[0;34m(\u001b[0m\u001b[0mparams\u001b[0m\u001b[0;34m[\u001b[0m\u001b[0;36m4\u001b[0m\u001b[0;34m]\u001b[0m\u001b[0;34m)\u001b[0m\u001b[0;34m\u001b[0m\u001b[0m\n\u001b[0m\u001b[1;32m      7\u001b[0m     \u001b[0mp\u001b[0m \u001b[0;34m=\u001b[0m \u001b[0msts\u001b[0m\u001b[0;34m.\u001b[0m\u001b[0mnorm\u001b[0m\u001b[0;34m.\u001b[0m\u001b[0mpdf\u001b[0m\u001b[0;34m(\u001b[0m\u001b[0mz\u001b[0m\u001b[0;34m,\u001b[0m \u001b[0mMU\u001b[0m\u001b[0;34m,\u001b[0m \u001b[0msig\u001b[0m\u001b[0;34m)\u001b[0m\u001b[0;34m\u001b[0m\u001b[0m\n\u001b[1;32m      8\u001b[0m     \u001b[0;32mreturn\u001b[0m \u001b[0mp\u001b[0m\u001b[0;34m\u001b[0m\u001b[0m\n",
      "\u001b[0;31mValueError\u001b[0m: math domain error"
     ]
    }
   ],
   "source": [
    "res = opt.minimize(crit, P, args = a)"
   ]
  },
  {
   "cell_type": "markdown",
   "metadata": {},
   "source": [
    "Optimizer isn't working"
   ]
  },
  {
   "cell_type": "code",
   "execution_count": 54,
   "metadata": {},
   "outputs": [
    {
     "data": {
      "text/plain": [
       "      fun: -38.40717777160755\n",
       " hess_inv: <5x5 LbfgsInvHessProduct with dtype=float64>\n",
       "      jac: array([  301.09203735,  9011.35988869,   358.68992683,  7441.39813236,\n",
       "         399.1953065 ])\n",
       "  message: b'CONVERGENCE: REL_REDUCTION_OF_F_<=_FACTR*EPSMCH'\n",
       "     nfev: 114\n",
       "      nit: 14\n",
       "   status: 0\n",
       "  success: True\n",
       "        x: array([ 0.99093424,  0.05050629,  0.01806611, -0.04528853,  0.04837104])"
      ]
     },
     "execution_count": 54,
     "metadata": {},
     "output_type": "execute_result"
    }
   ],
   "source": [
    "res"
   ]
  },
  {
   "cell_type": "code",
   "execution_count": null,
   "metadata": {
    "collapsed": true
   },
   "outputs": [],
   "source": []
  }
 ],
 "metadata": {
  "kernelspec": {
   "display_name": "Python 3",
   "language": "python",
   "name": "python3"
  },
  "language_info": {
   "codemirror_mode": {
    "name": "ipython",
    "version": 3
   },
   "file_extension": ".py",
   "mimetype": "text/x-python",
   "name": "python",
   "nbconvert_exporter": "python",
   "pygments_lexer": "ipython3",
   "version": "3.6.3"
  }
 },
 "nbformat": 4,
 "nbformat_minor": 2
}
