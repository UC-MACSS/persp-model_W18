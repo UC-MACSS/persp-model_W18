{
 "cells": [
  {
   "cell_type": "markdown",
   "metadata": {},
   "source": [
    "# Problem Set #3"
   ]
  },
  {
   "cell_type": "markdown",
   "metadata": {},
   "source": [
    "# Hyun Ki Kim"
   ]
  },
  {
   "cell_type": "markdown",
   "metadata": {},
   "source": [
    "# 01/24/2018"
   ]
  },
  {
   "cell_type": "code",
   "execution_count": 1,
   "metadata": {
    "collapsed": true
   },
   "outputs": [],
   "source": [
    "import numpy as np\n",
    "import numpy.linalg as lin\n",
    "import pandas as pd\n",
    "import matplotlib.pyplot as plt\n",
    "%matplotlib inline\n",
    "import scipy.integrate as intgr\n",
    "import scipy.optimize as opt"
   ]
  },
  {
   "cell_type": "markdown",
   "metadata": {},
   "source": [
    "# 1. Some income data, lognormal distribution, and GMM"
   ]
  },
  {
   "cell_type": "code",
   "execution_count": 2,
   "metadata": {
    "collapsed": true
   },
   "outputs": [],
   "source": [
    "incomes = np.loadtxt(\"incomes.txt\")"
   ]
  },
  {
   "cell_type": "markdown",
   "metadata": {},
   "source": [
    "# (a)"
   ]
  },
  {
   "cell_type": "code",
   "execution_count": 3,
   "metadata": {},
   "outputs": [
    {
     "data": {
      "text/plain": [
       "Text(0,0.5,'Frequency')"
      ]
     },
     "execution_count": 3,
     "metadata": {},
     "output_type": "execute_result"
    },
    {
     "data": {
      "image/png": "[encoded data removed]",
      "text/plain": [
       "<matplotlib.figure.Figure at 0x10ff18d68>"
      ]
     },
     "metadata": {},
     "output_type": "display_data"
    }
   ],
   "source": [
    "plt.hist(incomes, 30, edgecolor='black', normed=True)\n",
    "plt.title(\"Income for MACSS Students\", fontsize=20)\n",
    "plt.xlabel(\"Incomes\")\n",
    "plt.ylabel(\"Frequency\")"
   ]
  },
  {
   "cell_type": "markdown",
   "metadata": {},
   "source": [
    "# (b)"
   ]
  },
  {
   "cell_type": "code",
   "execution_count": 4,
   "metadata": {
    "collapsed": true
   },
   "outputs": [],
   "source": [
    "def lognorm_pdf(xvals, mu, sigma):\n",
    "            \n",
    "    pdf_vals    = (1/(xvals * sigma * np.sqrt(2 * np.pi) ) *\n",
    "                   np.exp( - (np.log(xvals) - mu) ** 2 / (2 * sigma ** 2)))\n",
    "    \n",
    "    return pdf_vals"
   ]
  },
  {
   "cell_type": "code",
   "execution_count": 5,
   "metadata": {
    "collapsed": true
   },
   "outputs": [],
   "source": [
    "def data_moments(xvals):\n",
    "    \n",
    "    mean_data = xvals.mean()\n",
    "    sd_data = np.sqrt(xvals.var())\n",
    "  \n",
    "    return mean_data, sd_data"
   ]
  },
  {
   "cell_type": "code",
   "execution_count": 6,
   "metadata": {
    "collapsed": true
   },
   "outputs": [],
   "source": [
    "def model_moments(mu, sigma):\n",
    "    \n",
    "    mean_model = np.exp(mu + sigma ** 2 / 2)\n",
    "    var_model = np.exp(2 * mu + sigma ** 2) * (np.exp(sigma ** 2) - 1)\n",
    "    \n",
    "    std_model = np.sqrt(var_model)\n",
    "    \n",
    "    return mean_model, std_model"
   ]
  },
  {
   "cell_type": "code",
   "execution_count": 7,
   "metadata": {
    "collapsed": true
   },
   "outputs": [],
   "source": [
    "def err_vec(xvals, mu, sigma):\n",
    "    \n",
    "    mean_data, std_data = data_moments(xvals)\n",
    "    moms_data = np.array([[mean_data], [std_data]])\n",
    "    \n",
    "    mean_model, std_model = model_moments(mu, sigma)\n",
    "    moms_model = np.array([[mean_model], [std_model]])\n",
    "\n",
    "    err_vec = (moms_model - moms_data) / moms_data\n",
    "    \n",
    "    return err_vec"
   ]
  },
  {
   "cell_type": "code",
   "execution_count": 8,
   "metadata": {
    "collapsed": true
   },
   "outputs": [],
   "source": [
    "def criterion(params, *args):\n",
    "    \n",
    "    mu, sigma = params\n",
    "    xvals, W = args\n",
    "    err = err_vec(xvals, mu, sigma)\n",
    "    crit_val = np.dot(np.dot(err.T, W), err) \n",
    "    \n",
    "    return crit_val"
   ]
  },
  {
   "cell_type": "code",
   "execution_count": 9,
   "metadata": {
    "collapsed": true
   },
   "outputs": [],
   "source": [
    "mu_init, sigma_init = data_moments(np.log(incomes))\n",
    "params_init = np.array([mu_init, sigma_init])\n",
    "\n",
    "W_hat = np.eye(2)\n",
    "gmm_args = (incomes, W_hat)\n",
    "\n",
    "results = opt.minimize(criterion, params_init, gmm_args, method='L-BFGS-B', bounds=((None, None), (1e-10, None)))\n",
    "mu_GMM_ident_mat, sig_GMM_ident_mat = results.x"
   ]
  },
  {
   "cell_type": "code",
   "execution_count": 10,
   "metadata": {},
   "outputs": [
    {
     "data": {
      "text/plain": [
       "<matplotlib.legend.Legend at 0x151c3b5828>"
      ]
     },
     "execution_count": 10,
     "metadata": {},
     "output_type": "execute_result"
    },
    {
     "data": {
      "image/png": "[encoded data removed]",
      "text/plain": [
       "<matplotlib.figure.Figure at 0x10ff26780>"
      ]
     },
     "metadata": {},
     "output_type": "display_data"
    }
   ],
   "source": [
    "plt.hist(incomes, 30, edgecolor='black', normed=True)\n",
    "plt.title(\"Income for MACSS Students\", fontsize=20)\n",
    "plt.xlabel(\"Incomes\")\n",
    "plt.ylabel(\"Frequency\")\n",
    "\n",
    "dist_pts = np.linspace(0.1, 150000, 1000)\n",
    "plt.plot(dist_pts, lognorm_pdf(dist_pts, mu_GMM_ident_mat, sig_GMM_ident_mat),\n",
    "         linewidth=2, color='r', label='estimated lognormal PDF (b)')\n",
    "plt.legend(loc='upper left')"
   ]
  },
  {
   "cell_type": "code",
   "execution_count": 11,
   "metadata": {},
   "outputs": [
    {
     "name": "stdout",
     "output_type": "stream",
     "text": [
      "GMM criterion function at the estimated parameter values: [  2.07488379e-11]\n",
      "Two data moments: (85276.823606258113, 17992.542128046523)\n",
      "Two model moments: (85277.158375889354, 17992.583697689046)\n"
     ]
    }
   ],
   "source": [
    "print(\"GMM criterion function at the estimated parameter values:\", results.fun[0])\n",
    "print(\"Two data moments:\", data_moments(incomes))\n",
    "print(\"Two model moments:\", model_moments(mu_GMM_ident_mat, sig_GMM_ident_mat))"
   ]
  },
  {
   "cell_type": "markdown",
   "metadata": {},
   "source": [
    "# (c)"
   ]
  },
  {
   "cell_type": "code",
   "execution_count": 12,
   "metadata": {
    "collapsed": true
   },
   "outputs": [],
   "source": [
    "err_firststep = err_vec(incomes, mu_GMM_ident_mat, sig_GMM_ident_mat)\n",
    "VCV_2step = np.dot(err_firststep, err_firststep.T) / len(incomes)\n",
    "W_hat_2step = lin.pinv(VCV_2step)\n",
    "\n",
    "mu_init, sigma_init = data_moments(np.log(incomes))\n",
    "params_init = np.array([mu_init, sigma_init])\n",
    "\n",
    "W_hat = W_hat_2step\n",
    "gmm_args = (incomes, W_hat)\n",
    "\n",
    "results = opt.minimize(criterion, params_init, gmm_args, method='L-BFGS-B', bounds=((None, None), (1e-10, None)))\n",
    "mu_GMM_2step, sig_GMM_2step = results.x"
   ]
  },
  {
   "cell_type": "code",
   "execution_count": 13,
   "metadata": {},
   "outputs": [
    {
     "data": {
      "text/plain": [
       "<matplotlib.legend.Legend at 0x151c77df60>"
      ]
     },
     "execution_count": 13,
     "metadata": {},
     "output_type": "execute_result"
    },
    {
     "data": {
      "image/png": "[encoded data removed]",
      "text/plain": [
       "<matplotlib.figure.Figure at 0x151c3c1390>"
      ]
     },
     "metadata": {},
     "output_type": "display_data"
    }
   ],
   "source": [
    "plt.hist(incomes, 30, edgecolor='black', normed=True)\n",
    "plt.title(\"Income for MACSS Students\", fontsize=20)\n",
    "plt.xlabel(\"Incomes\")\n",
    "plt.ylabel(\"Frequency\")\n",
    "\n",
    "dist_pts = np.linspace(0.1, 150000, 1000)\n",
    "plt.plot(dist_pts, lognorm_pdf(dist_pts, mu_GMM_ident_mat, sig_GMM_ident_mat),\n",
    "         linewidth=2, color='r', label='estimated lognormal PDF (b)')\n",
    "plt.legend(loc='upper left')\n",
    "\n",
    "dist_pts = np.linspace(0.1, 150000, 1000)\n",
    "plt.plot(dist_pts, lognorm_pdf(dist_pts, mu_GMM_2step, sig_GMM_2step),\n",
    "         linewidth=2, color='b', label='estimated lognormal PDF (c)')\n",
    "plt.legend(loc='upper left')"
   ]
  },
  {
   "cell_type": "code",
   "execution_count": 14,
   "metadata": {},
   "outputs": [
    {
     "name": "stdout",
     "output_type": "stream",
     "text": [
      "Estimates: [ 11.32586446   0.21167458]\n",
      "GMM criterion function at the estimated parameter values: [ 0.00045164]\n",
      "Two data moments: (85276.823606258113, 17992.542128046523)\n",
      "Two model moments: (84818.378453149897, 18156.895846265455)\n"
     ]
    }
   ],
   "source": [
    "print(\"Estimates:\", results.x)\n",
    "print(\"GMM criterion function at the estimated parameter values:\", results.fun[0])\n",
    "print(\"Two data moments:\", data_moments(incomes))\n",
    "print(\"Two model moments:\", model_moments(results.x[0], results.x[1]))"
   ]
  },
  {
   "cell_type": "markdown",
   "metadata": {},
   "source": [
    "# (d)"
   ]
  },
  {
   "cell_type": "code",
   "execution_count": 15,
   "metadata": {
    "collapsed": true
   },
   "outputs": [],
   "source": [
    "def data_moments3(xvals):\n",
    "    \n",
    "    bpct_1_dat = xvals[xvals < 75000].shape[0] / xvals.shape[0]\n",
    "    bpct_2_dat = (xvals[(xvals >= 75000) & (xvals <= 100000)].shape[0] /\n",
    "                  xvals.shape[0])\n",
    "    bpct_3_dat = xvals[xvals > 100000].shape[0] / xvals.shape[0]\n",
    "\n",
    "    return bpct_1_dat, bpct_2_dat, bpct_3_dat"
   ]
  },
  {
   "cell_type": "code",
   "execution_count": 16,
   "metadata": {
    "collapsed": true
   },
   "outputs": [],
   "source": [
    "def model_moments3(mu, sigma):\n",
    "    \n",
    "    xfx = lambda x: lognorm_pdf(x, mu, sigma)\n",
    "    (bpct_1_mod, bp_1_err) = intgr.quad(xfx, 1e-6, 75000 - 1e-6)\n",
    "    (bpct_2_mod, bp_2_err) = intgr.quad(xfx, 75000, 100000)\n",
    "    (bpct_3_mod, bp_3_err) = (1, 0) - intgr.quad(xfx, 1e-6, 100000) * np.array([1, -1])\n",
    "    \n",
    "    return bpct_1_mod, bpct_2_mod, bpct_3_mod"
   ]
  },
  {
   "cell_type": "code",
   "execution_count": 17,
   "metadata": {
    "collapsed": true
   },
   "outputs": [],
   "source": [
    "def err_vec3(xvals, mu, sigma):\n",
    "    \n",
    "    bpct_1_dat, bpct_2_dat, bpct_3_dat = data_moments3(xvals)\n",
    "    \n",
    "    moms_data = np.array([[bpct_1_dat], [bpct_2_dat], [bpct_3_dat]])\n",
    "    \n",
    "    bpct_1_mod, bpct_2_mod, bpct_3_mod = model_moments3(mu, sigma)\n",
    "    moms_model = np.array([[bpct_1_mod], [bpct_2_mod], [bpct_3_mod]])\n",
    "    \n",
    "    err_vec = 100 * ((moms_model - moms_data) / moms_data)\n",
    "    \n",
    "    return err_vec"
   ]
  },
  {
   "cell_type": "code",
   "execution_count": 18,
   "metadata": {
    "collapsed": true
   },
   "outputs": [],
   "source": [
    "def criterion3(params, *args):\n",
    "    \n",
    "    mu, sigma = params\n",
    "    xvals, W = args\n",
    "    err = err_vec3(xvals, mu, sigma)\n",
    "    crit_val = np.dot(np.dot(err.T, W), err) \n",
    "    \n",
    "    return crit_val"
   ]
  },
  {
   "cell_type": "code",
   "execution_count": 19,
   "metadata": {
    "collapsed": true
   },
   "outputs": [],
   "source": [
    "mu_init, sigma_init = data_moments(np.log(incomes))\n",
    "params_init = np.array([mu_init, sigma_init])\n",
    "\n",
    "W_hat = np.eye(3)\n",
    "gmm_args = (incomes, W_hat)\n",
    "\n",
    "results = opt.minimize(criterion3, params_init, gmm_args, method='L-BFGS-B', bounds=((None, None), (1e-10, None)))\n",
    "mu_GMM_ident_mat, sig_GMM_ident_mat = results.x"
   ]
  },
  {
   "cell_type": "code",
   "execution_count": 20,
   "metadata": {},
   "outputs": [
    {
     "data": {
      "text/plain": [
       "<matplotlib.legend.Legend at 0x151c86aef0>"
      ]
     },
     "execution_count": 20,
     "metadata": {},
     "output_type": "execute_result"
    },
    {
     "data": {
      "image/png": "[encoded data removed]",
      "text/plain": [
       "<matplotlib.figure.Figure at 0x151c460668>"
      ]
     },
     "metadata": {},
     "output_type": "display_data"
    }
   ],
   "source": [
    "plt.hist(incomes, 30, edgecolor='black', normed=True)\n",
    "plt.title(\"Income for MACSS Students\", fontsize=20)\n",
    "plt.xlabel(\"Incomes\")\n",
    "plt.ylabel(\"Frequency\")\n",
    "\n",
    "dist_pts = np.linspace(0.1, 150000, 1000)\n",
    "plt.plot(dist_pts, lognorm_pdf(dist_pts, results.x[0], results.x[1]),\n",
    "         linewidth=2, color='r', label='estimated lognormal PDF (d)')\n",
    "plt.legend(loc='upper left')"
   ]
  },
  {
   "cell_type": "code",
   "execution_count": 21,
   "metadata": {},
   "outputs": [
    {
     "name": "stdout",
     "output_type": "stream",
     "text": [
      "GMM criterion function at the estimated parameter values: [  2.53446197e-11]\n",
      "Two data moments: (0.3, 0.5, 0.2)\n",
      "Two model moments: (0.30000000362083074, 0.5000000058481757, 0.19999999050898098)\n"
     ]
    }
   ],
   "source": [
    "print(\"GMM criterion function at the estimated parameter values:\", results.fun[0])\n",
    "print(\"Two data moments:\", data_moments3(incomes))\n",
    "print(\"Two model moments:\", model_moments3(results.x[0], results.x[1]))"
   ]
  },
  {
   "cell_type": "markdown",
   "metadata": {},
   "source": [
    "# (e)"
   ]
  },
  {
   "cell_type": "code",
   "execution_count": 22,
   "metadata": {
    "collapsed": true
   },
   "outputs": [],
   "source": [
    "err_firststep = err_vec(incomes, results.x[0], results.x[1])\n",
    "VCV_2step = np.dot(err_firststep, err_firststep.T) / len(incomes)\n",
    "W_hat_2step = lin.pinv(VCV_2step)\n",
    "\n",
    "mu_init, sigma_init = data_moments(np.log(incomes))\n",
    "params_init = np.array([mu_init, sigma_init])\n",
    "\n",
    "W_hat = W_hat_2step\n",
    "gmm_args = (incomes, W_hat)\n",
    "\n",
    "results = opt.minimize(criterion, params_init, gmm_args, method='L-BFGS-B', bounds=((None, None), (1e-10, None)))\n",
    "mu_GMM_2step, sig_GMM_2step = results.x"
   ]
  },
  {
   "cell_type": "code",
   "execution_count": 23,
   "metadata": {},
   "outputs": [
    {
     "data": {
      "text/plain": [
       "<matplotlib.legend.Legend at 0x151c9d8b70>"
      ]
     },
     "execution_count": 23,
     "metadata": {},
     "output_type": "execute_result"
    },
    {
     "data": {
      "image/png": "[encoded data removed]",
      "text/plain": [
       "<matplotlib.figure.Figure at 0x1519a88c18>"
      ]
     },
     "metadata": {},
     "output_type": "display_data"
    }
   ],
   "source": [
    "plt.hist(incomes, 30, edgecolor='black', normed=True)\n",
    "plt.title(\"Income for MACSS Students\", fontsize=20)\n",
    "plt.xlabel(\"Incomes\")\n",
    "plt.ylabel(\"Frequency\")\n",
    "\n",
    "dist_pts = np.linspace(0.1, 150000, 1000)\n",
    "plt.plot(dist_pts, lognorm_pdf(dist_pts, mu_GMM_ident_mat, sig_GMM_ident_mat),\n",
    "         linewidth=2, color='r', label='estimated lognormal PDF (d)')\n",
    "plt.legend(loc='upper left')\n",
    "\n",
    "dist_pts = np.linspace(0.1, 150000, 1000)\n",
    "plt.plot(dist_pts, lognorm_pdf(dist_pts, mu_GMM_2step, sig_GMM_2step),\n",
    "         linewidth=2, color='b', label='estimated lognormal PDF (e)')\n",
    "plt.legend(loc='upper left')"
   ]
  },
  {
   "cell_type": "code",
   "execution_count": 24,
   "metadata": {},
   "outputs": [
    {
     "name": "stdout",
     "output_type": "stream",
     "text": [
      "Estimates: [ 11.3201824    0.21167451]\n",
      "GMM criterion function at the estimated parameter values: [  3.93937743e-11]\n",
      "Three data moments: (0.3, 0.5, 0.2)\n",
      "Three model moments: (0.3268910950046711, 0.49184617620552695, 0.18126272876707761)\n"
     ]
    }
   ],
   "source": [
    "print(\"Estimates:\", results.x)\n",
    "print(\"GMM criterion function at the estimated parameter values:\", results.fun[0])\n",
    "print(\"Three data moments:\", data_moments3(incomes))\n",
    "print(\"Three model moments:\", model_moments3(results.x[0], results.x[1]))"
   ]
  },
  {
   "cell_type": "markdown",
   "metadata": {
    "collapsed": true
   },
   "source": [
    "# (f)"
   ]
  },
  {
   "cell_type": "code",
   "execution_count": 25,
   "metadata": {},
   "outputs": [
    {
     "name": "stdout",
     "output_type": "stream",
     "text": [
      "(b)\n"
     ]
    }
   ],
   "source": [
    "criterion_values = {\"(b)\": 2.07488379e-11, \"(c)\": 0.00045164, \"(d)\": 2.53446197e-11, \"(e)\": 3.93937743e-11}\n",
    "print(min(criterion_values, key=criterion_values.get))"
   ]
  },
  {
   "cell_type": "markdown",
   "metadata": {},
   "source": [
    "There are no big difference between four estimates.\n",
    "However, estimates from part (b) fits the data best because it has the lowest criterion function value."
   ]
  },
  {
   "cell_type": "markdown",
   "metadata": {},
   "source": [
    "# 2. Linear regression and GMM"
   ]
  },
  {
   "cell_type": "code",
   "execution_count": 26,
   "metadata": {
    "collapsed": true
   },
   "outputs": [],
   "source": [
    "sick = pd.read_csv(\"sick.txt\")"
   ]
  },
  {
   "cell_type": "markdown",
   "metadata": {},
   "source": [
    "# (a)"
   ]
  },
  {
   "cell_type": "code",
   "execution_count": 27,
   "metadata": {
    "collapsed": true
   },
   "outputs": [],
   "source": [
    "def data_moment(xvals):\n",
    "    return xvals[\"sick\"]\n",
    "\n",
    "def model_moment(xvals, B0, B1, B2, B3):\n",
    "    return B0 + B1 * xvals[\"age\"] + B2 * xvals[\"children\"] + B3 * xvals[\"avgtemp_winter\"]\n",
    "\n",
    "def err_vec(xvals, B0, B1, B2, B3):\n",
    "    \n",
    "    data_mom = data_moment(xvals)\n",
    "    moms_data = np.array(data_mom)\n",
    "    \n",
    "    model_mom = model_moment(xvals, B0, B1, B2, B3)\n",
    "    moms_model = np.array(model_mom)\n",
    "    \n",
    "    err_vec = (moms_model - moms_data) / moms_data\n",
    "    \n",
    "    return err_vec\n",
    "\n",
    "def criterion(params, *args):\n",
    "    B0, B1, B2, B3 = params     \n",
    "    xvals, W = args\n",
    "    \n",
    "    err = err_vec(xvals, B0, B1, B2, B3)\n",
    "    crit_val = np.dot(np.dot(err.T, W), err) \n",
    "    \n",
    "    return crit_val"
   ]
  },
  {
   "cell_type": "code",
   "execution_count": 28,
   "metadata": {},
   "outputs": [],
   "source": [
    "params_init = np.array([1, 2, 3, 4])\n",
    "\n",
    "W_hat = np.eye(200)\n",
    "gmm_args = (sick, W_hat)\n",
    "\n",
    "results = opt.minimize(criterion, params_init, gmm_args, method='L-BFGS-B')\n",
    "B0, B1, B2, B3 = results.x"
   ]
  },
  {
   "cell_type": "code",
   "execution_count": 29,
   "metadata": {},
   "outputs": [
    {
     "name": "stdout",
     "output_type": "stream",
     "text": [
      "Estimated B0: 0.252223511918\n",
      "Estimated B1: 0.0130231872958\n",
      "Estimated B2: 0.399763551464\n",
      "Estimated B3: -0.010060361831\n",
      "GMM criterion function at the estimated parameter values: 0.0148567895123\n"
     ]
    }
   ],
   "source": [
    "print(\"Estimated B0:\", B0)\n",
    "print(\"Estimated B1:\", B1)\n",
    "print(\"Estimated B2:\", B2)\n",
    "print(\"Estimated B3:\", B3)\n",
    "print(\"GMM criterion function at the estimated parameter values:\", results.fun)"
   ]
  }
 ],
 "metadata": {
  "kernelspec": {
   "display_name": "Python 3",
   "language": "python",
   "name": "python3"
  },
  "language_info": {
   "codemirror_mode": {
    "name": "ipython",
    "version": 3
   },
   "file_extension": ".py",
   "mimetype": "text/x-python",
   "name": "python",
   "nbconvert_exporter": "python",
   "pygments_lexer": "ipython3",
   "version": "3.6.3"
  }
 },
 "nbformat": 4,
 "nbformat_minor": 2
}
