{
 "cells": [
  {
   "cell_type": "markdown",
   "metadata": {},
   "source": [
    "# Midterm (MACS 30100), February 5, 2018\n",
    "### [Put your name here]\n",
    "You will have an hour and thirty minutes to take this exam.\n",
    "1. Put your name in the space provided above (without the brackets).\n",
    "2. Download this notebook and accompanying data `LenderDataLong.dta`.\n",
    "3. The class will disconnect their wi-fi and begin taking the exam.\n",
    "4. The exam is open computer, closed internet, open note.\n",
    "5. Once you are done, you will signal to a TA or instructor to come over and monitor while you reconnect to the internet and upload your edited notebook to Canvas.\n",
    "\n",
    "Remember that you must clearly indicate your answers to all questions below. We will give partial credit for partially correct answers. The midterm is worth 20 points (2 problem sets)."
   ]
  },
  {
   "cell_type": "markdown",
   "metadata": {},
   "source": [
    "## The data\n",
    "This two exercises of this midterm and all their respective subparts will use the `LenderData.csv` dataset, which contains observations of characteristics on short-term, high interest rate, lender information. You are not to use this data outside of this class. It is a jittered and randomized version of a dataset used in a published research paper.\n",
    "\n",
    "Each observation contains characteristics of a particular lender location Read it into Python using the `pandas.read_csv()` command. The variables are the following:\n",
    "\n",
    "* `avgrate`: average annualized interest rate of all loans in percentage points (235 = two hundred and thirty five percent)\n",
    "* `numstores`: number of other stores owned by the same owner (measure of size)\n",
    "* `defrate`: default rate on loans from that store during 2010\n",
    "* `pdrad3`: number of payday lenders within a three-mile radius of the store (measure of competition)\n",
    "* `pnrad3`: number of pawn lenders within a three-mile radius of the store (measure of competition)\n",
    "* `totrad3`: total number of other lenders within a three-mile radius of the store (measure of competition)\n",
    "* `unrt_zip`: unemployment rate in the zip code of the store\n",
    "* `medtotinc2010`: median total household income in the zip code of the store\n",
    "* `edbachplus_zip`: average education level in years of schooling of heads of household in the zip code of the store\n",
    "* `pop_zip`: population in zip code of the store\n",
    "* `mdage_zip`: median age (in years) in zip code of the store\n",
    "* `pctblk2_zip`: percent of the population that is black in the zip code of the store in percentage points (2.2=two point two percent)"
   ]
  },
  {
   "cell_type": "code",
   "execution_count": 75,
   "metadata": {},
   "outputs": [],
   "source": [
    "# Read in the data"
   ]
  },
  {
   "cell_type": "markdown",
   "metadata": {},
   "source": [
    "## 1. Using the distributions of interest rates and median income (10 points)"
   ]
  },
  {
   "cell_type": "markdown",
   "metadata": {},
   "source": [
    "1A) [2 points] Create a plot of the histogram of high interest rate lenders interest rates `avgrate`. Use 30 bins. Make sure to label your axes and give the figure a title. If you had to group lenders into $N$ categories, how many categories would you choose based on the interest rate data? That is, how many groupings to you see in these data?"
   ]
  },
  {
   "cell_type": "code",
   "execution_count": null,
   "metadata": {},
   "outputs": [],
   "source": []
  },
  {
   "cell_type": "markdown",
   "metadata": {},
   "source": [
    "1B) [1 point] Create a plot of the histogram of median total household income `medtotinc2010`. Use 30 bins. Make sure to label your axes and give the figure a title."
   ]
  },
  {
   "cell_type": "code",
   "execution_count": null,
   "metadata": {},
   "outputs": [],
   "source": []
  },
  {
   "cell_type": "markdown",
   "metadata": {},
   "source": [
    "1C) [5 points] Use maximum likelihood estimation to fit a lognormal distribution $LN(\\mu, \\sigma)$ to the median income data `medtotinc2010`. Report your estimated $\\hat{\\mu}_{mle}$ and $\\hat{\\sigma}_{mle}$ as well as the likelihood function value at the maximum (not the negative log likelihood). Report your estimate of the variance-covariance matrix of your maximum likelihood estimates of $\\hat{\\mu}_{mle}$ and $\\hat{\\sigma}_{mle}$. Report the standard error on the estimate for $\\hat{\\mu}_{mle}$."
   ]
  },
  {
   "cell_type": "code",
   "execution_count": null,
   "metadata": {
    "collapsed": true
   },
   "outputs": [],
   "source": []
  },
  {
   "cell_type": "markdown",
   "metadata": {},
   "source": [
    "1D) [2 points] Plot the predicted distribution from your maximum likelihood estimates $\\hat{\\mu}_{mle}$ and $\\hat{\\sigma}_{mle}$ against the histogram of the data."
   ]
  },
  {
   "cell_type": "code",
   "execution_count": null,
   "metadata": {},
   "outputs": [],
   "source": []
  },
  {
   "cell_type": "markdown",
   "metadata": {},
   "source": [
    "## 2. Determinants of lender interest rates (10 points)"
   ]
  },
  {
   "cell_type": "markdown",
   "metadata": {},
   "source": [
    "2A) [3 points] Assume a simple regression model of four factors that influence the interest rates that a lender charges, namely, number of stores, default rate in the area, unemployment rate in the area, and median household income in the area.\n",
    "\n",
    "$$ avgrate_i = \\beta_0 + \\beta_1 numstores_i + \\beta_2 defrate_i + \\beta_3 unrt_zip_i + \\beta_4 medtotinc2010_i + u_i $$\n",
    "\n",
    "Estimate this model by OLS using the `statsmodels.api` package. Don't forget to include a constant. Print your results summary. Which variables are significant at the 5-percent level? How would you interpret in words the estimated coefficient on `numstores`?"
   ]
  },
  {
   "cell_type": "code",
   "execution_count": null,
   "metadata": {},
   "outputs": [],
   "source": []
  },
  {
   "cell_type": "markdown",
   "metadata": {},
   "source": [
    "2B) [4 points] Now assume a richer model for the determinants of lender interest rates, which includes the following measures of competition and other demographic variables.\n",
    "\n",
    "$$ avgrate_i = \\beta_0 + \\beta_1 numstores_i + \\beta_2 defrate_i + \\beta_3 unrt_zip_i + \\beta_4 medtotinc2010_i + ... $$\n",
    "$$ \\qquad\\qquad\\qquad\\qquad \\beta_5 totrad3_i + \\beta_6 edbachplus\\_zip_i + \\beta_7 pop\\_zip_i + \\beta_8 mdage\\_zip_i + \\beta_9 pctblk2\\_zip_i + u_i $$\n",
    "\n",
    "Estimate this regression by OLS using the `statsmodels.api` package. In controlling for these new varaibles, do any of the originally estimated coefficients from the model in part (2A) become statistically not significant (at the 5 percent level)? Of these new coefficients ($\\beta_5$ through $\\beta_9$), which one(s) are the most statistically significant?"
   ]
  },
  {
   "cell_type": "code",
   "execution_count": null,
   "metadata": {},
   "outputs": [],
   "source": []
  },
  {
   "cell_type": "markdown",
   "metadata": {},
   "source": [
    "2C) [3 points] Create a new binary variable called `avgrate_high` that equals 1 if `avgrate` > 490, and equals 0 otherwise. Estimate a logistic regression using the `statsmodels.api` package. Let $X\\beta$ be the linear coefficients and variables from the model from part (2B).\n",
    "\n",
    "$$ Pr(avgrate\\_high=1|X\\beta) = \\frac{X\\beta}{1 + X\\beta} $$\n",
    "\n",
    "Report the variables whose coefficients are estimated to be significant at the 5-percent level."
   ]
  },
  {
   "cell_type": "code",
   "execution_count": null,
   "metadata": {},
   "outputs": [],
   "source": []
  }
 ],
 "metadata": {
  "kernelspec": {
   "display_name": "Python 3",
   "language": "python",
   "name": "python3"
  },
  "language_info": {
   "codemirror_mode": {
    "name": "ipython",
    "version": 3
   },
   "file_extension": ".py",
   "mimetype": "text/x-python",
   "name": "python",
   "nbconvert_exporter": "python",
   "pygments_lexer": "ipython3",
   "version": "3.6.1"
  }
 },
 "nbformat": 4,
 "nbformat_minor": 2
}
