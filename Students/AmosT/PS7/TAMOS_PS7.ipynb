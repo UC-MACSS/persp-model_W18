{
 "cells": [
  {
   "cell_type": "markdown",
   "metadata": {},
   "source": [
    "# PS7 \n",
    "\n",
    "#### Tyler Amos\n",
    "\n",
    "#### MACS 30100 \n",
    "\n",
    "_March 5 2018_"
   ]
  },
  {
   "cell_type": "code",
   "execution_count": 152,
   "metadata": {},
   "outputs": [
    {
     "data": {
      "text/html": [
       "<div>\n",
       "<style scoped>\n",
       "    .dataframe tbody tr th:only-of-type {\n",
       "        vertical-align: middle;\n",
       "    }\n",
       "\n",
       "    .dataframe tbody tr th {\n",
       "        vertical-align: top;\n",
       "    }\n",
       "\n",
       "    .dataframe thead th {\n",
       "        text-align: right;\n",
       "    }\n",
       "</style>\n",
       "<table border=\"1\" class=\"dataframe\">\n",
       "  <thead>\n",
       "    <tr style=\"text-align: right;\">\n",
       "      <th></th>\n",
       "      <th>mpg</th>\n",
       "      <th>cylinders</th>\n",
       "      <th>displacement</th>\n",
       "      <th>horsepower</th>\n",
       "      <th>weight</th>\n",
       "      <th>acceleration</th>\n",
       "      <th>year</th>\n",
       "      <th>origin</th>\n",
       "      <th>name</th>\n",
       "      <th>mpg_high</th>\n",
       "      <th>constant</th>\n",
       "    </tr>\n",
       "  </thead>\n",
       "  <tbody>\n",
       "    <tr>\n",
       "      <th>0</th>\n",
       "      <td>18.0</td>\n",
       "      <td>8</td>\n",
       "      <td>307.0</td>\n",
       "      <td>130.0</td>\n",
       "      <td>3504</td>\n",
       "      <td>12.0</td>\n",
       "      <td>70</td>\n",
       "      <td>1</td>\n",
       "      <td>chevrolet chevelle malibu</td>\n",
       "      <td>0</td>\n",
       "      <td>1</td>\n",
       "    </tr>\n",
       "    <tr>\n",
       "      <th>1</th>\n",
       "      <td>15.0</td>\n",
       "      <td>8</td>\n",
       "      <td>350.0</td>\n",
       "      <td>165.0</td>\n",
       "      <td>3693</td>\n",
       "      <td>11.5</td>\n",
       "      <td>70</td>\n",
       "      <td>1</td>\n",
       "      <td>buick skylark 320</td>\n",
       "      <td>0</td>\n",
       "      <td>1</td>\n",
       "    </tr>\n",
       "    <tr>\n",
       "      <th>2</th>\n",
       "      <td>18.0</td>\n",
       "      <td>8</td>\n",
       "      <td>318.0</td>\n",
       "      <td>150.0</td>\n",
       "      <td>3436</td>\n",
       "      <td>11.0</td>\n",
       "      <td>70</td>\n",
       "      <td>1</td>\n",
       "      <td>plymouth satellite</td>\n",
       "      <td>0</td>\n",
       "      <td>1</td>\n",
       "    </tr>\n",
       "    <tr>\n",
       "      <th>3</th>\n",
       "      <td>16.0</td>\n",
       "      <td>8</td>\n",
       "      <td>304.0</td>\n",
       "      <td>150.0</td>\n",
       "      <td>3433</td>\n",
       "      <td>12.0</td>\n",
       "      <td>70</td>\n",
       "      <td>1</td>\n",
       "      <td>amc rebel sst</td>\n",
       "      <td>0</td>\n",
       "      <td>1</td>\n",
       "    </tr>\n",
       "    <tr>\n",
       "      <th>4</th>\n",
       "      <td>17.0</td>\n",
       "      <td>8</td>\n",
       "      <td>302.0</td>\n",
       "      <td>140.0</td>\n",
       "      <td>3449</td>\n",
       "      <td>10.5</td>\n",
       "      <td>70</td>\n",
       "      <td>1</td>\n",
       "      <td>ford torino</td>\n",
       "      <td>0</td>\n",
       "      <td>1</td>\n",
       "    </tr>\n",
       "  </tbody>\n",
       "</table>\n",
       "</div>"
      ],
      "text/plain": [
       "    mpg  cylinders  displacement  horsepower  weight  acceleration  year  \\\n",
       "0  18.0          8         307.0       130.0    3504          12.0    70   \n",
       "1  15.0          8         350.0       165.0    3693          11.5    70   \n",
       "2  18.0          8         318.0       150.0    3436          11.0    70   \n",
       "3  16.0          8         304.0       150.0    3433          12.0    70   \n",
       "4  17.0          8         302.0       140.0    3449          10.5    70   \n",
       "\n",
       "   origin                       name  mpg_high  constant  \n",
       "0       1  chevrolet chevelle malibu         0         1  \n",
       "1       1          buick skylark 320         0         1  \n",
       "2       1         plymouth satellite         0         1  \n",
       "3       1              amc rebel sst         0         1  \n",
       "4       1                ford torino         0         1  "
      ]
     },
     "execution_count": 152,
     "metadata": {},
     "output_type": "execute_result"
    }
   ],
   "source": [
    "import pandas as pd\n",
    "import numpy as np\n",
    "from sklearn.linear_model import LogisticRegression\n",
    "from sklearn.model_selection import KFold\n",
    "from sklearn.metrics import confusion_matrix, precision_recall_fscore_support\n",
    "from sklearn.ensemble import RandomForestClassifier\n",
    "from sklearn.model_selection import train_test_split\n",
    "from sklearn.metrics import mean_squared_error\n",
    "from sklearn.svm import SVC\n",
    "\n",
    "auto = pd.read_csv('https://raw.githubusercontent.com/UC-MACSS/persp-model_W18/master/ProblemSets/PS7/Auto.csv', na_values=[\"?\"] )\n",
    "\n",
    "# add mpg_high variable\n",
    "mpg_median = np.median(auto.mpg)\n",
    "high_low = lambda x: 1 if x.mpg > mpg_median else 0\n",
    "mpg_high = []\n",
    "for i in auto.itertuples():\n",
    "    mpg_high.append(high_low(i))\n",
    "auto['mpg_high'] = mpg_high\n",
    "auto = auto.dropna()\n",
    "x_cols = ['cylinders', 'displacement', 'horsepower', 'weight', 'acceleration', 'year', 'origin', 'constant']\n",
    "auto['constant'] = 1\n",
    "x_auto = auto[x_cols]\n",
    "y_auto = auto['mpg_high']\n",
    "x_auto_b = auto[x_cols[:-1]]\n",
    "auto.head()"
   ]
  },
  {
   "cell_type": "markdown",
   "metadata": {},
   "source": [
    "# (a) "
   ]
  },
  {
   "cell_type": "code",
   "execution_count": 153,
   "metadata": {},
   "outputs": [
    {
     "name": "stdout",
     "output_type": "stream",
     "text": [
      "Category: mpg_high = True MSE:  0.12212723842924705\n",
      "Category: mpg_high = True MSE:  0.08427517051817163\n",
      "Model Overall MSE: 0.10459183673469388\n"
     ]
    }
   ],
   "source": [
    "k = 4\n",
    "xvars = x_auto.values\n",
    "yvals = y_auto.values\n",
    "kf = KFold(n_splits=k, shuffle=True, random_state=15)\n",
    "kf.get_n_splits(xvars)\n",
    "\n",
    "k_ind = int(0)\n",
    "\n",
    "MSE_vec_kf_log = np.zeros(k)\n",
    "error_vec_cat_0 = np.zeros(k)\n",
    "error_vec_cat_1 = np.zeros(k)\n",
    "\n",
    "# Borrowed from AlexanderTyan\n",
    "for train_index, test_index in kf.split(xvars):\n",
    "    X_train, X_test = xvars[train_index], xvars[test_index]\n",
    "    y_train, y_test = yvals[train_index], yvals[test_index]\n",
    "    LogReg = LogisticRegression()\n",
    "    LogReg.fit(X_train, y_train)\n",
    "    y_pred = LogReg.predict(X_test)\n",
    "    MSE_vec_kf_log[k_ind] = ((y_test - y_pred) ** 2).mean()\n",
    "    eval_err = precision_recall_fscore_support(y_test, y_pred)\n",
    "    cat_0_precision = eval_err[0][0]\n",
    "    cat_0_error_rate = 1 - cat_0_precision\n",
    "    cat_1_precision = eval_err[0][1]\n",
    "    cat_1_error_rate = 1 - cat_1_precision\n",
    "    error_vec_cat_0[k_ind] = cat_0_error_rate\n",
    "    error_vec_cat_1[k_ind] = cat_1_error_rate\n",
    "    k_ind += 1\n",
    "    \n",
    "print(\"Category: mpg_high = True MSE: \", error_vec_cat_1.mean())\n",
    "print(\"Category: mpg_high = True MSE: \", error_vec_cat_0.mean())\n",
    "print(\"Model Overall MSE:\", MSE_vec_kf_log.mean())"
   ]
  },
  {
   "cell_type": "markdown",
   "metadata": {},
   "source": [
    "# (b)"
   ]
  },
  {
   "cell_type": "code",
   "execution_count": 154,
   "metadata": {},
   "outputs": [
    {
     "name": "stdout",
     "output_type": "stream",
     "text": [
      "Category: mpg_high = True MSE:  0.09278350515463918\n",
      "Category: mpg_high = False MSE:  0.05555555555555558\n",
      "Model Overall MSE: 0.07397959183673469\n"
     ]
    }
   ],
   "source": [
    "classif = RandomForestClassifier(max_features = 2, random_state=25, n_estimators = 20, bootstrap = True, oob_score = True)\n",
    "classif.fit(x_auto_b, y_auto )\n",
    "classif_diff = classif.oob_decision_function_[:,1] - classif.oob_decision_function_[:,0] # substract predicted vals\n",
    "classif_diff[classif_diff > 0] = np.int(1)     # if positive (i.e., 1 was greater than 0)\n",
    "classif_diff[classif_diff <= 0] = np.int(0) \n",
    "                                                                                   \n",
    "eval_err = precision_recall_fscore_support(y_auto, classif_diff)\n",
    "cat_0_precision = eval_err[0][0]\n",
    "cat_1_precision = eval_err[0][1]\n",
    "cat_0_error_rate = 1 - cat_0_precision\n",
    "cat_1_error_rate = 1 - cat_1_precision\n",
    "        \n",
    "print(\"Category: mpg_high = True MSE: \", cat_1_error_rate.mean())\n",
    "print(\"Category: mpg_high = False MSE: \",  cat_0_error_rate.mean())\n",
    "print(\"Model Overall MSE:\",mean_squared_error(auto['mpg_high'], classif_diff))"
   ]
  },
  {
   "cell_type": "markdown",
   "metadata": {},
   "source": [
    "# (c)"
   ]
  },
  {
   "cell_type": "code",
   "execution_count": 155,
   "metadata": {},
   "outputs": [
    {
     "name": "stdout",
     "output_type": "stream",
     "text": [
      "Category: mpg_high = True MSE:  0.09278350515463918\n",
      "Category: mpg_high = False MSE:  0.05555555555555558\n",
      "Model Overall MSE: 0.4566326530612245\n"
     ]
    },
    {
     "name": "stderr",
     "output_type": "stream",
     "text": [
      "/anaconda3/envs/persp_model_18/lib/python3.6/site-packages/sklearn/metrics/classification.py:1135: UndefinedMetricWarning: Precision and F-score are ill-defined and being set to 0.0 in labels with no predicted samples.\n",
      "  'precision', 'predicted', average, warn_for)\n"
     ]
    }
   ],
   "source": [
    "k = 4\n",
    "xvars = x_auto_b.values # lose the constant\n",
    "yvals = y_auto.values\n",
    "kf = KFold(n_splits=k, shuffle=True, random_state=15)\n",
    "kf.get_n_splits(xvars)\n",
    "\n",
    "error_vec_true = np.zeros(k)\n",
    "error_vec_false = np.zeros(k)\n",
    "mse_vec = np.zeros(k)\n",
    "\n",
    "k_i = 0\n",
    "for train, test in kf.split(xvars):\n",
    "    \n",
    "    x_train = xvars[train]\n",
    "    y_train = yvals[train]\n",
    "    x_test = xvars[test]\n",
    "    y_test = yvals[test]\n",
    "    \n",
    "    clf = SVC(C=1.0, gamma=0.2, kernel='rbf', random_state=25) # From the docs http://scikit-learn.org/stable/modules/generated/sklearn.svm.SVC.html\n",
    "    clf.fit(x_train, y_train) \n",
    "    clf_pred = clf.predict(x_test)\n",
    "    \n",
    "    err_eval = precision_recall_fscore_support(y_test, clf_pred)\n",
    "    \n",
    "    cat_0_precision = eval_err[0][0]\n",
    "    cat_1_precision = eval_err[0][1]\n",
    "    cat_0_error_rate = 1 - cat_0_precision\n",
    "    cat_1_error_rate = 1 - cat_1_precision\n",
    "    \n",
    "    error_vec_true[k_i] = cat_1_error_rate\n",
    "    error_vec_false[k_i] = cat_0_error_rate\n",
    "    mse_vec[k_i] = mean_squared_error(y_test, clf_pred)\n",
    "    \n",
    "    k_i += 1\n",
    "    \n",
    "print(\"Category: mpg_high = True MSE: \", cat_1_error_rate.mean())\n",
    "print(\"Category: mpg_high = False MSE: \",  cat_0_error_rate.mean())\n",
    "print(\"Model Overall MSE:\", mse_vec.mean())"
   ]
  },
  {
   "cell_type": "markdown",
   "metadata": {},
   "source": [
    "# (d)\n",
    "\n",
    "The Random Forest classification performs better than SVM or logistic regression. Overall the error rates are lower for Random Forest than for the other types of classifiers.\n",
    "\n",
    "  Logistic Regression: MSE $ \\approx 10$%; \n",
    "  Random Forest: MSE $ \\approx 7$%; \n",
    "  SVM: MSE $ \\approx 45$%\n",
    "\n",
    "This conclusion is somewhat unusual, as generally SVM performs better with binary classification problems. Random Forest is usually superior when the number of possible categories exceeds 2. \n",
    "\n",
    "However, Random Forests do perform well when the number of features is relatively small, as is the case here. Furthermore, SVM can be influenced by outliers and extreme values, which are present in this dataset (see the plot below for graphical confirmation). \n"
   ]
  },
  {
   "cell_type": "code",
   "execution_count": 157,
   "metadata": {},
   "outputs": [
    {
     "data": {
      "image/png": "[encoded data removed]",
      "text/plain": [
       "<matplotlib.figure.Figure at 0x1a287cd4e0>"
      ]
     },
     "metadata": {},
     "output_type": "display_data"
    }
   ],
   "source": [
    "% matplotlib inline\n",
    "fig, ax = plt.subplots(1, 1, figsize=(15, 15))\n",
    "auto.plot(ax = ax, kind = \"box\", rot = 0, title = \"Boxplots of Predictor Variables in Autos\");"
   ]
  }
 ],
 "metadata": {
  "kernelspec": {
   "display_name": "Python 3",
   "language": "python",
   "name": "python3"
  },
  "language_info": {
   "codemirror_mode": {
    "name": "ipython",
    "version": 3
   },
   "file_extension": ".py",
   "mimetype": "text/x-python",
   "name": "python",
   "nbconvert_exporter": "python",
   "pygments_lexer": "ipython3",
   "version": "3.6.4"
  }
 },
 "nbformat": 4,
 "nbformat_minor": 2
}
