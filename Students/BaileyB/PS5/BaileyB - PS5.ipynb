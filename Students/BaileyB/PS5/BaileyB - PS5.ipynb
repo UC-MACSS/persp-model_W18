{
 "cells": [
  {
   "cell_type": "markdown",
   "metadata": {},
   "source": [
    "# PS5\n",
    "## Perspectives on Computational Modeling\n",
    "Bethany Bailey"
   ]
  },
  {
   "cell_type": "markdown",
   "metadata": {},
   "source": [
    "### Part 1"
   ]
  },
  {
   "cell_type": "markdown",
   "metadata": {},
   "source": [
    "### (a)"
   ]
  },
  {
   "cell_type": "code",
   "execution_count": 1,
   "metadata": {},
   "outputs": [
    {
     "name": "stderr",
     "output_type": "stream",
     "text": [
      "/Users/bethanybailey/anaconda3/lib/python3.6/site-packages/sklearn/cross_validation.py:41: DeprecationWarning: This module was deprecated in version 0.18 in favor of the model_selection module into which all the refactored classes and functions are moved. Also note that the interface of the new CV iterators are different from that of this module. This module will be removed in 0.20.\n",
      "  \"This module will be removed in 0.20.\", DeprecationWarning)\n",
      "/Users/bethanybailey/anaconda3/lib/python3.6/site-packages/statsmodels/compat/pandas.py:56: FutureWarning: The pandas.core.datetools module is deprecated and will be removed in a future version. Please use the pandas.tseries module instead.\n",
      "  from pandas.core import datetools\n"
     ]
    }
   ],
   "source": [
    "import pandas as pd\n",
    "from sklearn.cross_validation import train_test_split\n",
    "from sklearn.metrics import classification_report, confusion_matrix\n",
    "from sklearn.linear_model import LogisticRegression\n",
    "import matplotlib.pyplot as plt\n",
    "import statsmodels.api as sm\n",
    "import seaborn as sns"
   ]
  },
  {
   "cell_type": "code",
   "execution_count": 2,
   "metadata": {},
   "outputs": [],
   "source": [
    "drink = pd.read_csv(\"data/strongdrink.txt\")"
   ]
  },
  {
   "cell_type": "code",
   "execution_count": 3,
   "metadata": {},
   "outputs": [
    {
     "data": {
      "text/html": [
       "<div>\n",
       "<style>\n",
       "    .dataframe thead tr:only-child th {\n",
       "        text-align: right;\n",
       "    }\n",
       "\n",
       "    .dataframe thead th {\n",
       "        text-align: left;\n",
       "    }\n",
       "\n",
       "    .dataframe tbody tr th {\n",
       "        vertical-align: top;\n",
       "    }\n",
       "</style>\n",
       "<table border=\"1\" class=\"dataframe\">\n",
       "  <thead>\n",
       "    <tr style=\"text-align: right;\">\n",
       "      <th></th>\n",
       "      <th>cultivar</th>\n",
       "      <th>alco</th>\n",
       "      <th>malic</th>\n",
       "      <th>ash</th>\n",
       "      <th>alk</th>\n",
       "      <th>magn</th>\n",
       "      <th>tot_phen</th>\n",
       "      <th>flav</th>\n",
       "      <th>nonfl_phen</th>\n",
       "      <th>proanth</th>\n",
       "      <th>color_int</th>\n",
       "      <th>hue</th>\n",
       "      <th>OD280rat</th>\n",
       "      <th>proline</th>\n",
       "    </tr>\n",
       "  </thead>\n",
       "  <tbody>\n",
       "    <tr>\n",
       "      <th>0</th>\n",
       "      <td>1</td>\n",
       "      <td>14.23</td>\n",
       "      <td>1.71</td>\n",
       "      <td>2.43</td>\n",
       "      <td>15.6</td>\n",
       "      <td>127</td>\n",
       "      <td>2.80</td>\n",
       "      <td>3.06</td>\n",
       "      <td>0.28</td>\n",
       "      <td>2.29</td>\n",
       "      <td>5.64</td>\n",
       "      <td>1.04</td>\n",
       "      <td>3.92</td>\n",
       "      <td>1065</td>\n",
       "    </tr>\n",
       "    <tr>\n",
       "      <th>1</th>\n",
       "      <td>1</td>\n",
       "      <td>13.20</td>\n",
       "      <td>1.78</td>\n",
       "      <td>2.14</td>\n",
       "      <td>11.2</td>\n",
       "      <td>100</td>\n",
       "      <td>2.65</td>\n",
       "      <td>2.76</td>\n",
       "      <td>0.26</td>\n",
       "      <td>1.28</td>\n",
       "      <td>4.38</td>\n",
       "      <td>1.05</td>\n",
       "      <td>3.40</td>\n",
       "      <td>1050</td>\n",
       "    </tr>\n",
       "    <tr>\n",
       "      <th>2</th>\n",
       "      <td>1</td>\n",
       "      <td>13.16</td>\n",
       "      <td>2.36</td>\n",
       "      <td>2.67</td>\n",
       "      <td>18.6</td>\n",
       "      <td>101</td>\n",
       "      <td>2.80</td>\n",
       "      <td>3.24</td>\n",
       "      <td>0.30</td>\n",
       "      <td>2.81</td>\n",
       "      <td>5.68</td>\n",
       "      <td>1.03</td>\n",
       "      <td>3.17</td>\n",
       "      <td>1185</td>\n",
       "    </tr>\n",
       "    <tr>\n",
       "      <th>3</th>\n",
       "      <td>1</td>\n",
       "      <td>14.37</td>\n",
       "      <td>1.95</td>\n",
       "      <td>2.50</td>\n",
       "      <td>16.8</td>\n",
       "      <td>113</td>\n",
       "      <td>3.85</td>\n",
       "      <td>3.49</td>\n",
       "      <td>0.24</td>\n",
       "      <td>2.18</td>\n",
       "      <td>7.80</td>\n",
       "      <td>0.86</td>\n",
       "      <td>3.45</td>\n",
       "      <td>1480</td>\n",
       "    </tr>\n",
       "    <tr>\n",
       "      <th>4</th>\n",
       "      <td>1</td>\n",
       "      <td>13.24</td>\n",
       "      <td>2.59</td>\n",
       "      <td>2.87</td>\n",
       "      <td>21.0</td>\n",
       "      <td>118</td>\n",
       "      <td>2.80</td>\n",
       "      <td>2.69</td>\n",
       "      <td>0.39</td>\n",
       "      <td>1.82</td>\n",
       "      <td>4.32</td>\n",
       "      <td>1.04</td>\n",
       "      <td>2.93</td>\n",
       "      <td>735</td>\n",
       "    </tr>\n",
       "  </tbody>\n",
       "</table>\n",
       "</div>"
      ],
      "text/plain": [
       "   cultivar   alco  malic   ash   alk  magn  tot_phen  flav  nonfl_phen  \\\n",
       "0         1  14.23   1.71  2.43  15.6   127      2.80  3.06        0.28   \n",
       "1         1  13.20   1.78  2.14  11.2   100      2.65  2.76        0.26   \n",
       "2         1  13.16   2.36  2.67  18.6   101      2.80  3.24        0.30   \n",
       "3         1  14.37   1.95  2.50  16.8   113      3.85  3.49        0.24   \n",
       "4         1  13.24   2.59  2.87  21.0   118      2.80  2.69        0.39   \n",
       "\n",
       "   proanth  color_int   hue  OD280rat  proline  \n",
       "0     2.29       5.64  1.04      3.92     1065  \n",
       "1     1.28       4.38  1.05      3.40     1050  \n",
       "2     2.81       5.68  1.03      3.17     1185  \n",
       "3     2.18       7.80  0.86      3.45     1480  \n",
       "4     1.82       4.32  1.04      2.93      735  "
      ]
     },
     "execution_count": 3,
     "metadata": {},
     "output_type": "execute_result"
    }
   ],
   "source": [
    "drink.head()"
   ]
  },
  {
   "cell_type": "code",
   "execution_count": 4,
   "metadata": {
    "collapsed": true
   },
   "outputs": [],
   "source": [
    "drink['const'] = 1\n",
    "X = drink[['const', 'alco', 'malic', 'tot_phen', 'color_int']]\n",
    "y = drink['cultivar']"
   ]
  },
  {
   "cell_type": "code",
   "execution_count": 5,
   "metadata": {
    "collapsed": true
   },
   "outputs": [],
   "source": [
    "X_train, X_test, y_train, y_test = train_test_split(X, y, test_size = 0.25, random_state=20)"
   ]
  },
  {
   "cell_type": "code",
   "execution_count": 6,
   "metadata": {},
   "outputs": [
    {
     "data": {
      "text/plain": [
       "LogisticRegression(C=1.0, class_weight=None, dual=False, fit_intercept=True,\n",
       "          intercept_scaling=1, max_iter=100, multi_class='multinomial',\n",
       "          n_jobs=1, penalty='l2', random_state=None, solver='newton-cg',\n",
       "          tol=0.0001, verbose=0, warm_start=False)"
      ]
     },
     "execution_count": 6,
     "metadata": {},
     "output_type": "execute_result"
    }
   ],
   "source": [
    "MultiLogReg = LogisticRegression(multi_class='multinomial', solver='newton-cg')\n",
    "MultiLogReg.fit(X_train, y_train)"
   ]
  },
  {
   "cell_type": "code",
   "execution_count": 7,
   "metadata": {
    "collapsed": true
   },
   "outputs": [],
   "source": [
    "y_pred = MultiLogReg.predict(X_test)"
   ]
  },
  {
   "cell_type": "code",
   "execution_count": 8,
   "metadata": {},
   "outputs": [
    {
     "name": "stdout",
     "output_type": "stream",
     "text": [
      "The estimated coefficients for j=1 are:  [ -8.45997978e-06   1.70038994e+00  -2.65604001e-01   1.22389318e+00\n",
      "   2.27585993e-02]\n",
      "The estimated coefficients for j=2 are:  [ -1.76923774e-05  -1.46805313e+00  -3.33053748e-01   6.64013944e-01\n",
      "  -9.22712974e-01]\n"
     ]
    }
   ],
   "source": [
    "print(\"The estimated coefficients for j=1 are: \", MultiLogReg.coef_[0])\n",
    "print(\"The estimated coefficients for j=2 are: \", MultiLogReg.coef_[1])"
   ]
  },
  {
   "cell_type": "code",
   "execution_count": 9,
   "metadata": {},
   "outputs": [
    {
     "data": {
      "text/plain": [
       "array([-24.0108148,  22.8025761,   1.2082387])"
      ]
     },
     "execution_count": 9,
     "metadata": {},
     "output_type": "execute_result"
    }
   ],
   "source": [
    "MultiLogReg.intercept_"
   ]
  },
  {
   "cell_type": "code",
   "execution_count": 10,
   "metadata": {},
   "outputs": [
    {
     "name": "stdout",
     "output_type": "stream",
     "text": [
      "             precision    recall  f1-score   support\n",
      "\n",
      "          1       0.87      1.00      0.93        13\n",
      "          2       1.00      0.90      0.95        21\n",
      "          3       1.00      1.00      1.00        10\n",
      "\n",
      "avg / total       0.96      0.95      0.96        44\n",
      "\n"
     ]
    }
   ],
   "source": [
    "print(classification_report(y_test, y_pred))"
   ]
  },
  {
   "cell_type": "code",
   "execution_count": 11,
   "metadata": {},
   "outputs": [
    {
     "data": {
      "text/plain": [
       "2    71\n",
       "1    59\n",
       "3    46\n",
       "Name: cultivar, dtype: int64"
      ]
     },
     "execution_count": 11,
     "metadata": {},
     "output_type": "execute_result"
    }
   ],
   "source": [
    "drink.cultivar.value_counts()"
   ]
  },
  {
   "cell_type": "code",
   "execution_count": 12,
   "metadata": {},
   "outputs": [
    {
     "name": "stdout",
     "output_type": "stream",
     "text": [
      "The error rates are as follows:\n",
      "For j=1, the error rate is 1 - 0.87 = 0.13.\n",
      "For j=2, the error rate is 1 - 1.00 = 0.00\n",
      "For j=3, the error rate is 1 - 1.00 = 0.00\n",
      "Thus, based on these standard errors alone, the model best predicts the J=2 and J=3 categories.\n",
      "J=2 has more observations (71) than J=1 (59); however, J=3 (46) does not have more observations than J=1.\n"
     ]
    }
   ],
   "source": [
    "print(\"The error rates are as follows:\")\n",
    "print(\"For j=1, the error rate is 1 - 0.87 = 0.13.\")\n",
    "print(\"For j=2, the error rate is 1 - 1.00 = 0.00\")\n",
    "print(\"For j=3, the error rate is 1 - 1.00 = 0.00\")\n",
    "print(\"Thus, based on these standard errors alone, the model best predicts the J=2 and J=3 categories.\")\n",
    "print(\"J=2 has more observations (71) than J=1 (59); however, J=3 (46) does not have more observations than J=1.\")"
   ]
  },
  {
   "cell_type": "markdown",
   "metadata": {},
   "source": [
    "### (b)"
   ]
  },
  {
   "cell_type": "code",
   "execution_count": 13,
   "metadata": {
    "collapsed": true
   },
   "outputs": [],
   "source": [
    "from sklearn.model_selection import LeaveOneOut, KFold\n",
    "import numpy as np"
   ]
  },
  {
   "cell_type": "code",
   "execution_count": 14,
   "metadata": {},
   "outputs": [],
   "source": [
    "Xvars = X.values\n",
    "yvars = y.values\n",
    "N_loo = Xvars.shape[0]\n",
    "loo = LeaveOneOut()\n",
    "loo.get_n_splits(Xvars)\n",
    "MSE_vec = np.zeros(N_loo)\n",
    "ytest_array = np.zeros(N_loo)\n",
    "ypred_array = np.zeros(N_loo)"
   ]
  },
  {
   "cell_type": "code",
   "execution_count": 15,
   "metadata": {},
   "outputs": [],
   "source": [
    "for train_index, test_index in loo.split(Xvars):\n",
    "    X_train, X_test = Xvars[train_index], Xvars[test_index]\n",
    "    y_train, y_test = yvars[train_index], yvars[test_index]\n",
    "    ytest_array[test_index] = y_test\n",
    "    MultiLogReg = LogisticRegression(multi_class='multinomial', solver='lbfgs')\n",
    "    MultiLogReg.fit(X_train, y_train)\n",
    "    y_pred = MultiLogReg.predict(X_test)\n",
    "    ypred_array[test_index] = y_pred\n",
    "    MSE_vec[test_index] = (y_test - y_pred) ** 2\n",
    "    # print('MSE for test set', test_index, ' is', MSE_vec[test_index])\n",
    "    # Did not print output to save screen space, but this will print the MSE for each test set."
   ]
  },
  {
   "cell_type": "code",
   "execution_count": 16,
   "metadata": {},
   "outputs": [
    {
     "name": "stdout",
     "output_type": "stream",
     "text": [
      "             precision    recall  f1-score   support\n",
      "\n",
      "        1.0       0.90      0.93      0.92        59\n",
      "        2.0       0.91      0.90      0.91        71\n",
      "        3.0       0.96      0.93      0.95        46\n",
      "\n",
      "avg / total       0.92      0.92      0.92       176\n",
      "\n"
     ]
    }
   ],
   "source": [
    "print(classification_report(ytest_array, ypred_array))"
   ]
  },
  {
   "cell_type": "code",
   "execution_count": 17,
   "metadata": {},
   "outputs": [
    {
     "name": "stdout",
     "output_type": "stream",
     "text": [
      "The error rates for the LOOCV are as follows:\n",
      "For j=1, the error rate is 1 - 0.90 = 0.10.\n",
      "For j=2, the error rate is 1 - 0.91 = 0.09\n",
      "For j=3, the error rate is 1 - 0.96 = 0.04\n",
      "The LOOCV improved the accuracy for J=1 (from 0.13 error rate to 0.10). However, it decreases the accuracy\n",
      "of J=2 (error rate went from 0.00 to 0.09) and J=3 (error rate went from 0.00 to 0.04).\n"
     ]
    }
   ],
   "source": [
    "print(\"The error rates for the LOOCV are as follows:\")\n",
    "print(\"For j=1, the error rate is 1 - 0.90 = 0.10.\")\n",
    "print(\"For j=2, the error rate is 1 - 0.91 = 0.09\")\n",
    "print(\"For j=3, the error rate is 1 - 0.96 = 0.04\")\n",
    "print(\"The LOOCV improved the accuracy for J=1 (from 0.13 error rate to 0.10). However, it decreases the accuracy\")\n",
    "print(\"of J=2 (error rate went from 0.00 to 0.09) and J=3 (error rate went from 0.00 to 0.04).\")"
   ]
  },
  {
   "cell_type": "code",
   "execution_count": 18,
   "metadata": {},
   "outputs": [
    {
     "name": "stdout",
     "output_type": "stream",
     "text": [
      "test estimate MSE loocv= 0.0965909090909 , test estimate MSE standard err= 0.394262505894\n"
     ]
    }
   ],
   "source": [
    "MSE_loo = MSE_vec.mean()\n",
    "MSE_loo_std = MSE_vec.std()\n",
    "print('test estimate MSE loocv=', MSE_loo,\n",
    "      ', test estimate MSE standard err=', MSE_loo_std)"
   ]
  },
  {
   "cell_type": "markdown",
   "metadata": {},
   "source": [
    "### (c)"
   ]
  },
  {
   "cell_type": "code",
   "execution_count": 19,
   "metadata": {},
   "outputs": [
    {
     "data": {
      "text/plain": [
       "4"
      ]
     },
     "execution_count": 19,
     "metadata": {},
     "output_type": "execute_result"
    }
   ],
   "source": [
    "kf = KFold(n_splits=4, shuffle=True, random_state=10)\n",
    "kf.get_n_splits(Xvars)"
   ]
  },
  {
   "cell_type": "code",
   "execution_count": 23,
   "metadata": {},
   "outputs": [
    {
     "name": "stdout",
     "output_type": "stream",
     "text": [
      "k index= 0\n",
      "MSE for test set 0  is 0.363636363636\n",
      "k index= 1\n",
      "MSE for test set 1  is 0.227272727273\n",
      "k index= 2\n",
      "MSE for test set 2  is 0.181818181818\n",
      "k index= 3\n",
      "MSE for test set 3  is 0.0454545454545\n"
     ]
    }
   ],
   "source": [
    "k = 4\n",
    "MSE_vec_kf = np.zeros(k)\n",
    "ytest_k = np.array([])\n",
    "ypred_k = np.array([])\n",
    "\n",
    "k_ind = int(0)\n",
    "for train_index, test_index in kf.split(Xvars):\n",
    "    print('k index=', k_ind)\n",
    "    X_train, X_test = Xvars[train_index], Xvars[test_index]\n",
    "    y_train, y_test = yvars[train_index], yvars[test_index]\n",
    "    ytest_k = np.append(ytest_k, y_test)\n",
    "    LogReg = LogisticRegression()\n",
    "    LogReg.fit(X_train, y_train)\n",
    "    y_pred = LogReg.predict(X_test)\n",
    "    ypred_k = np.append(ypred_k, y_pred)\n",
    "    MSE_vec_kf[k_ind] = ((y_test - y_pred) ** 2).mean()\n",
    "    print('MSE for test set', k_ind, ' is', MSE_vec_kf[k_ind])\n",
    "    k_ind += 1"
   ]
  },
  {
   "cell_type": "code",
   "execution_count": 24,
   "metadata": {},
   "outputs": [
    {
     "name": "stdout",
     "output_type": "stream",
     "text": [
      "             precision    recall  f1-score   support\n",
      "\n",
      "        1.0       0.81      0.75      0.78        59\n",
      "        2.0       0.81      0.87      0.84        71\n",
      "        3.0       0.96      0.93      0.95        46\n",
      "\n",
      "avg / total       0.85      0.85      0.85       176\n",
      "\n"
     ]
    }
   ],
   "source": [
    "print(classification_report(ytest_k, ypred_k))"
   ]
  },
  {
   "cell_type": "code",
   "execution_count": 26,
   "metadata": {},
   "outputs": [
    {
     "name": "stdout",
     "output_type": "stream",
     "text": [
      "The error rates for the k-fold cross validations with k=3 are as follows:\n",
      "For j=1, the error rate is 1 - 0.81 = 0.19.\n",
      "For j=2, the error rate is 1 - 0.81 = 0.19\n",
      "For j=3, the error rate is 1 - 0.96 = 0.04\n",
      "The K-fold decreased the accuracy for J=1 from (a) and (b) (error rate went from 0.13 in (a) and 0.10 in (b) to 0.19 in (c)).\n",
      "It decreased the accuracy of J=2 from (a) and (b) (error rate went from 0.00 in (a) to 0.09 in (b) to 0.19 in (c).\n",
      "It decreased the accruacy of J=3 from (a) but is unchanged from (b) (error rate went from 0.00 in (a) to 0.04 in (b) and (c)).\n"
     ]
    }
   ],
   "source": [
    "print(\"The error rates for the k-fold cross validations with k=3 are as follows:\")\n",
    "print(\"For j=1, the error rate is 1 - 0.81 = 0.19.\")\n",
    "print(\"For j=2, the error rate is 1 - 0.81 = 0.19\")\n",
    "print(\"For j=3, the error rate is 1 - 0.96 = 0.04\")\n",
    "print(\"The K-fold decreased the accuracy for J=1 from (a) and (b) (error rate went from 0.13 in (a) and 0.10 in (b) to 0.19 in (c)).\")\n",
    "print(\"It decreased the accuracy of J=2 from (a) and (b) (error rate went from 0.00 in (a) to 0.09 in (b) to 0.19 in (c).\")\n",
    "print(\"It decreased the accruacy of J=3 from (a) but is unchanged from (b) (error rate went from 0.00 in (a) to 0.04 in (b) and (c)).\")"
   ]
  },
  {
   "cell_type": "code",
   "execution_count": 27,
   "metadata": {},
   "outputs": [
    {
     "name": "stdout",
     "output_type": "stream",
     "text": [
      "test estimate MSE k-fold= 0.204545454545 test estimate MSE standard err= 0.113636363636\n"
     ]
    }
   ],
   "source": [
    "MSE_kf = MSE_vec_kf.mean()\n",
    "MSE_kf_std = MSE_vec_kf.std()\n",
    "print('test estimate MSE k-fold=', MSE_kf,\n",
    "      'test estimate MSE standard err=', MSE_kf_std)"
   ]
  },
  {
   "cell_type": "markdown",
   "metadata": {},
   "source": [
    "### Part 2\n",
    "### (a)"
   ]
  },
  {
   "cell_type": "code",
   "execution_count": 28,
   "metadata": {},
   "outputs": [
    {
     "data": {
      "text/html": [
       "<div>\n",
       "<style>\n",
       "    .dataframe thead tr:only-child th {\n",
       "        text-align: right;\n",
       "    }\n",
       "\n",
       "    .dataframe thead th {\n",
       "        text-align: left;\n",
       "    }\n",
       "\n",
       "    .dataframe tbody tr th {\n",
       "        vertical-align: top;\n",
       "    }\n",
       "</style>\n",
       "<table border=\"1\" class=\"dataframe\">\n",
       "  <thead>\n",
       "    <tr style=\"text-align: right;\">\n",
       "      <th></th>\n",
       "      <th>Age</th>\n",
       "      <th>CoolIndex</th>\n",
       "    </tr>\n",
       "  </thead>\n",
       "  <tbody>\n",
       "    <tr>\n",
       "      <th>0</th>\n",
       "      <td>11.0</td>\n",
       "      <td>10.981602</td>\n",
       "    </tr>\n",
       "    <tr>\n",
       "      <th>1</th>\n",
       "      <td>11.0</td>\n",
       "      <td>11.364925</td>\n",
       "    </tr>\n",
       "    <tr>\n",
       "      <th>2</th>\n",
       "      <td>11.0</td>\n",
       "      <td>10.190227</td>\n",
       "    </tr>\n",
       "    <tr>\n",
       "      <th>3</th>\n",
       "      <td>11.0</td>\n",
       "      <td>9.903725</td>\n",
       "    </tr>\n",
       "    <tr>\n",
       "      <th>4</th>\n",
       "      <td>11.0</td>\n",
       "      <td>8.997918</td>\n",
       "    </tr>\n",
       "  </tbody>\n",
       "</table>\n",
       "</div>"
      ],
      "text/plain": [
       "    Age  CoolIndex\n",
       "0  11.0  10.981602\n",
       "1  11.0  11.364925\n",
       "2  11.0  10.190227\n",
       "3  11.0   9.903725\n",
       "4  11.0   8.997918"
      ]
     },
     "execution_count": 28,
     "metadata": {},
     "output_type": "execute_result"
    }
   ],
   "source": [
    "cool = pd.read_csv(\"data/CoolIndex.txt\", header=None, names = (\"Age\", \"CoolIndex\"))\n",
    "cool.head()"
   ]
  },
  {
   "cell_type": "code",
   "execution_count": 29,
   "metadata": {},
   "outputs": [
    {
     "data": {
      "text/plain": [
       "Text(0,0.5,'Coolness Index')"
      ]
     },
     "execution_count": 29,
     "metadata": {},
     "output_type": "execute_result"
    },
    {
     "data": {
      "image/png": "[encoded data removed]",
      "text/plain": [
       "<matplotlib.figure.Figure at 0x1c1803f240>"
      ]
     },
     "metadata": {},
     "output_type": "display_data"
    }
   ],
   "source": [
    "%matplotlib inline\n",
    "\n",
    "plot = sns.regplot(x=cool[\"Age\"], y=cool[\"CoolIndex\"], fit_reg=False)\n",
    "plot.set_title('Coolness Index Distribution by Age')\n",
    "plot.set_xlabel('Age (Years)')\n",
    "plot.set_ylabel('Coolness Index')"
   ]
  },
  {
   "cell_type": "markdown",
   "metadata": {},
   "source": [
    "### (b)"
   ]
  },
  {
   "cell_type": "code",
   "execution_count": 30,
   "metadata": {},
   "outputs": [
    {
     "data": {
      "text/html": [
       "<div>\n",
       "<style>\n",
       "    .dataframe thead tr:only-child th {\n",
       "        text-align: right;\n",
       "    }\n",
       "\n",
       "    .dataframe thead th {\n",
       "        text-align: left;\n",
       "    }\n",
       "\n",
       "    .dataframe tbody tr th {\n",
       "        vertical-align: top;\n",
       "    }\n",
       "</style>\n",
       "<table border=\"1\" class=\"dataframe\">\n",
       "  <thead>\n",
       "    <tr style=\"text-align: right;\">\n",
       "      <th></th>\n",
       "      <th>age_bin1</th>\n",
       "      <th>age_bin2</th>\n",
       "      <th>age_bin3</th>\n",
       "      <th>age_bin4</th>\n",
       "      <th>age_bin5</th>\n",
       "    </tr>\n",
       "  </thead>\n",
       "  <tbody>\n",
       "    <tr>\n",
       "      <th>count</th>\n",
       "      <td>956.000000</td>\n",
       "      <td>956.000000</td>\n",
       "      <td>956.000000</td>\n",
       "      <td>956.000000</td>\n",
       "      <td>956.000000</td>\n",
       "    </tr>\n",
       "    <tr>\n",
       "      <th>mean</th>\n",
       "      <td>0.162134</td>\n",
       "      <td>0.276151</td>\n",
       "      <td>0.285565</td>\n",
       "      <td>0.217573</td>\n",
       "      <td>0.058577</td>\n",
       "    </tr>\n",
       "    <tr>\n",
       "      <th>std</th>\n",
       "      <td>0.368767</td>\n",
       "      <td>0.447326</td>\n",
       "      <td>0.451919</td>\n",
       "      <td>0.412812</td>\n",
       "      <td>0.234955</td>\n",
       "    </tr>\n",
       "    <tr>\n",
       "      <th>min</th>\n",
       "      <td>0.000000</td>\n",
       "      <td>0.000000</td>\n",
       "      <td>0.000000</td>\n",
       "      <td>0.000000</td>\n",
       "      <td>0.000000</td>\n",
       "    </tr>\n",
       "    <tr>\n",
       "      <th>25%</th>\n",
       "      <td>0.000000</td>\n",
       "      <td>0.000000</td>\n",
       "      <td>0.000000</td>\n",
       "      <td>0.000000</td>\n",
       "      <td>0.000000</td>\n",
       "    </tr>\n",
       "    <tr>\n",
       "      <th>50%</th>\n",
       "      <td>0.000000</td>\n",
       "      <td>0.000000</td>\n",
       "      <td>0.000000</td>\n",
       "      <td>0.000000</td>\n",
       "      <td>0.000000</td>\n",
       "    </tr>\n",
       "    <tr>\n",
       "      <th>75%</th>\n",
       "      <td>0.000000</td>\n",
       "      <td>1.000000</td>\n",
       "      <td>1.000000</td>\n",
       "      <td>0.000000</td>\n",
       "      <td>0.000000</td>\n",
       "    </tr>\n",
       "    <tr>\n",
       "      <th>max</th>\n",
       "      <td>1.000000</td>\n",
       "      <td>1.000000</td>\n",
       "      <td>1.000000</td>\n",
       "      <td>1.000000</td>\n",
       "      <td>1.000000</td>\n",
       "    </tr>\n",
       "  </tbody>\n",
       "</table>\n",
       "</div>"
      ],
      "text/plain": [
       "         age_bin1    age_bin2    age_bin3    age_bin4    age_bin5\n",
       "count  956.000000  956.000000  956.000000  956.000000  956.000000\n",
       "mean     0.162134    0.276151    0.285565    0.217573    0.058577\n",
       "std      0.368767    0.447326    0.451919    0.412812    0.234955\n",
       "min      0.000000    0.000000    0.000000    0.000000    0.000000\n",
       "25%      0.000000    0.000000    0.000000    0.000000    0.000000\n",
       "50%      0.000000    0.000000    0.000000    0.000000    0.000000\n",
       "75%      0.000000    1.000000    1.000000    0.000000    0.000000\n",
       "max      1.000000    1.000000    1.000000    1.000000    1.000000"
      ]
     },
     "execution_count": 30,
     "metadata": {},
     "output_type": "execute_result"
    }
   ],
   "source": [
    "coolindex = cool['CoolIndex']\n",
    "age = cool['Age']\n",
    "age_bin1 = (age < 22).astype(int)\n",
    "age_bin2 = ((age >= 22) & (age < 40)).astype(int)\n",
    "age_bin3 = ((age >= 40) & (age < 59)).astype(int)\n",
    "age_bin4 = ((age >= 59) & (age < 77)).astype(int)\n",
    "age_bin5 = (age >= 77).astype(int)\n",
    "X_step = pd.DataFrame(dict(age_bin1=age_bin1, age_bin2=age_bin2,\n",
    "                           age_bin3=age_bin3, age_bin4=age_bin4,\n",
    "                           age_bin5=age_bin5))\n",
    "X_step.describe()"
   ]
  },
  {
   "cell_type": "code",
   "execution_count": 32,
   "metadata": {},
   "outputs": [
    {
     "name": "stdout",
     "output_type": "stream",
     "text": [
      "                            OLS Regression Results                            \n",
      "==============================================================================\n",
      "Dep. Variable:              CoolIndex   R-squared:                       0.429\n",
      "Model:                            OLS   Adj. R-squared:                  0.427\n",
      "Method:                 Least Squares   F-statistic:                     178.7\n",
      "Date:                Mon, 19 Feb 2018   Prob (F-statistic):          3.73e-114\n",
      "Time:                        07:58:32   Log-Likelihood:                -3214.5\n",
      "No. Observations:                 956   AIC:                             6439.\n",
      "Df Residuals:                     951   BIC:                             6463.\n",
      "Df Model:                           4                                         \n",
      "Covariance Type:            nonrobust                                         \n",
      "==============================================================================\n",
      "                 coef    std err          t      P>|t|      [0.025      0.975]\n",
      "------------------------------------------------------------------------------\n",
      "age_bin1      20.1025      0.562     35.746      0.000      18.999      21.206\n",
      "age_bin2      34.4758      0.431     80.006      0.000      33.630      35.321\n",
      "age_bin3      37.6351      0.424     88.814      0.000      36.804      38.467\n",
      "age_bin4      35.2254      0.485     72.560      0.000      34.273      36.178\n",
      "age_bin5      27.2964      0.936     29.175      0.000      25.460      29.132\n",
      "==============================================================================\n",
      "Omnibus:                       80.102   Durbin-Watson:                   1.236\n",
      "Prob(Omnibus):                  0.000   Jarque-Bera (JB):              101.718\n",
      "Skew:                           0.714   Prob(JB):                     8.17e-23\n",
      "Kurtosis:                       3.719   Cond. No.                         2.21\n",
      "==============================================================================\n",
      "\n",
      "Warnings:\n",
      "[1] Standard Errors assume that the covariance matrix of the errors is correctly specified.\n"
     ]
    }
   ],
   "source": [
    "reg = sm.OLS(endog=coolindex, exog=X_step, missing='drop')\n",
    "reg_results = reg.fit()\n",
    "print(reg_results.summary())"
   ]
  },
  {
   "cell_type": "code",
   "execution_count": 33,
   "metadata": {},
   "outputs": [
    {
     "data": {
      "text/plain": [
       "11.0"
      ]
     },
     "execution_count": 33,
     "metadata": {},
     "output_type": "execute_result"
    }
   ],
   "source": [
    "age.min()"
   ]
  },
  {
   "cell_type": "code",
   "execution_count": 34,
   "metadata": {},
   "outputs": [
    {
     "data": {
      "text/plain": [
       "[20.102457252090748,\n",
       " 20.102457252090748,\n",
       " 34.475788077559386,\n",
       " 37.635105492449618,\n",
       " 35.225400040242754,\n",
       " 27.296378244321282]"
      ]
     },
     "execution_count": 34,
     "metadata": {},
     "output_type": "execute_result"
    }
   ],
   "source": [
    "y = [reg_results.params[0]] + list(reg_results.params)\n",
    "y"
   ]
  },
  {
   "cell_type": "code",
   "execution_count": 35,
   "metadata": {},
   "outputs": [
    {
     "data": {
      "text/plain": [
       "<matplotlib.legend.Legend at 0x1c203baf98>"
      ]
     },
     "execution_count": 35,
     "metadata": {},
     "output_type": "execute_result"
    },
    {
     "data": {
      "image/png": "[encoded data removed]",
      "text/plain": [
       "<matplotlib.figure.Figure at 0x1c203868d0>"
      ]
     },
     "metadata": {},
     "output_type": "display_data"
    }
   ],
   "source": [
    "x = [11, 22, 40, 59, 77, 95]\n",
    "\n",
    "plot2 = sns.regplot(x=cool[\"Age\"], y=cool[\"CoolIndex\"], fit_reg=False)\n",
    "plot2.set_title('Stepwise Function of Coolness Index Distribution by Age')\n",
    "plot2.set_xlabel('Age (Years)')\n",
    "plot2.set_ylabel('Coolness Index')\n",
    "\n",
    "plt.step(x, y, label=\"Stepwise OLS\",color=\"y\")\n",
    "plt.legend()"
   ]
  },
  {
   "cell_type": "code",
   "execution_count": 36,
   "metadata": {},
   "outputs": [
    {
     "name": "stdout",
     "output_type": "stream",
     "text": [
      "The values of beta are as follows:\n",
      "beta_1:  20.1024572521\n",
      "beta_2:  34.4757880776\n",
      "beta_3:  37.6351054924\n",
      "beta_4:  35.2254000402\n",
      "beta_5:  27.2963782443\n",
      "A 73-year-old would have a coolness index score of  35.2254000402\n"
     ]
    }
   ],
   "source": [
    "print(\"The values of beta are as follows:\")\n",
    "print(\"beta_1: \", reg_results.params[0])\n",
    "print(\"beta_2: \", reg_results.params[1])\n",
    "print(\"beta_3: \", reg_results.params[2])\n",
    "print(\"beta_4: \", reg_results.params[3])\n",
    "print(\"beta_5: \", reg_results.params[4])\n",
    "print(\"A 73-year-old would have a coolness index score of \", reg_results.params[3])"
   ]
  },
  {
   "cell_type": "markdown",
   "metadata": {},
   "source": [
    "### (c)"
   ]
  },
  {
   "cell_type": "code",
   "execution_count": 37,
   "metadata": {},
   "outputs": [],
   "source": [
    "from scipy.interpolate import LSQUnivariateSpline"
   ]
  },
  {
   "cell_type": "code",
   "execution_count": 38,
   "metadata": {},
   "outputs": [
    {
     "data": {
      "text/plain": [
       "<matplotlib.legend.Legend at 0x1c20ccf0b8>"
      ]
     },
     "execution_count": 38,
     "metadata": {},
     "output_type": "execute_result"
    },
    {
     "data": {
      "image/png": "[encoded data removed]",
      "text/plain": [
       "<matplotlib.figure.Figure at 0x1c203a7cc0>"
      ]
     },
     "metadata": {},
     "output_type": "display_data"
    }
   ],
   "source": [
    "knots = [22, 40, 59, 77]\n",
    "spl_cool = LSQUnivariateSpline(age.values, coolindex.values, knots, k=1)\n",
    "\n",
    "age_vec = np.linspace(age.values.min(), age.values.max(), 1000)\n",
    "plt.scatter(age, coolindex, label=\"Scatterplot\")\n",
    "plt.plot(age_vec, spl_cool(age_vec), 'r-', label=\"Linear Spline\")\n",
    "plt.step(x, y, label=\"Stepwise OLS\", color=\"y\")\n",
    "plt.title('Stepwise/Linear Functions of Coolness Index Distribution by Age')\n",
    "plt.xlabel('Age (Years)')\n",
    "plt.ylabel('Coolness Index')\n",
    "plt.legend()"
   ]
  },
  {
   "cell_type": "code",
   "execution_count": 39,
   "metadata": {},
   "outputs": [
    {
     "name": "stdout",
     "output_type": "stream",
     "text": [
      "Predicted coolness index at 73 from linear spline is 32.5368323891\n"
     ]
    }
   ],
   "source": [
    "age_73 = np.array([73])\n",
    "predicted_cool = spl_cool(age_73)\n",
    "print('Predicted coolness index at 73 from linear spline is', predicted_cool[0])"
   ]
  },
  {
   "cell_type": "markdown",
   "metadata": {},
   "source": [
    "### (d)"
   ]
  },
  {
   "cell_type": "code",
   "execution_count": 40,
   "metadata": {},
   "outputs": [
    {
     "data": {
      "text/plain": [
       "<matplotlib.legend.Legend at 0x1c20c435f8>"
      ]
     },
     "execution_count": 40,
     "metadata": {},
     "output_type": "execute_result"
    },
    {
     "data": {
      "image/png": "[encoded data removed]",
      "text/plain": [
       "<matplotlib.figure.Figure at 0x1c20392b38>"
      ]
     },
     "metadata": {},
     "output_type": "display_data"
    }
   ],
   "source": [
    "spl_cool_cub = LSQUnivariateSpline(age.values, coolindex.values, knots, k=3)\n",
    "\n",
    "age_vec = np.linspace(age.values.min(), age.values.max(), 1000)\n",
    "plt.scatter(age, coolindex, label=\"Scatterplot\", color=\"y\")\n",
    "plt.plot(age_vec, spl_cool_cub(age_vec), color='b', label=\"Cubic Spline\")\n",
    "plt.plot(age_vec, spl_cool(age_vec), 'r-', label=\"Linear Spline\")\n",
    "plt.step(x, y, label=\"Stepwise OLS\", color=\"g\")\n",
    "plt.title('Stepwise/Linear/Cubic Functions of Coolness Index Distribution by Age')\n",
    "plt.xlabel('Age (Years)')\n",
    "plt.ylabel('Coolness Index')\n",
    "plt.legend()"
   ]
  },
  {
   "cell_type": "code",
   "execution_count": 41,
   "metadata": {},
   "outputs": [
    {
     "name": "stdout",
     "output_type": "stream",
     "text": [
      "Predicted coolness index at 73 from cubic spline is 31.2624293893\n"
     ]
    }
   ],
   "source": [
    "predicted_cool_cub = spl_cool_cub(age_73)\n",
    "print('Predicted coolness index at 73 from cubic spline is', predicted_cool_cub[0])"
   ]
  }
 ],
 "metadata": {
  "kernelspec": {
   "display_name": "Python 3",
   "language": "python",
   "name": "python3"
  },
  "language_info": {
   "codemirror_mode": {
    "name": "ipython",
    "version": 3
   },
   "file_extension": ".py",
   "mimetype": "text/x-python",
   "name": "python",
   "nbconvert_exporter": "python",
   "pygments_lexer": "ipython3",
   "version": "3.6.3"
  }
 },
 "nbformat": 4,
 "nbformat_minor": 2
}
