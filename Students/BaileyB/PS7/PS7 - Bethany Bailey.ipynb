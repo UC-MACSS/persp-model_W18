{
 "cells": [
  {
   "cell_type": "markdown",
   "metadata": {},
   "source": [
    "# Problem Set 7\n",
    "Bethany Bailey"
   ]
  },
  {
   "cell_type": "code",
   "execution_count": 1,
   "metadata": {},
   "outputs": [
    {
     "name": "stderr",
     "output_type": "stream",
     "text": [
      "/Users/bethanybailey/anaconda3/lib/python3.6/site-packages/sklearn/cross_validation.py:41: DeprecationWarning: This module was deprecated in version 0.18 in favor of the model_selection module into which all the refactored classes and functions are moved. Also note that the interface of the new CV iterators are different from that of this module. This module will be removed in 0.20.\n",
      "  \"This module will be removed in 0.20.\", DeprecationWarning)\n"
     ]
    }
   ],
   "source": [
    "import pandas as pd\n",
    "import numpy as np\n",
    "\n",
    "from sklearn import preprocessing\n",
    "from sklearn.linear_model import LogisticRegression\n",
    "from sklearn.cross_validation import train_test_split\n",
    "from sklearn import metrics \n",
    "from sklearn.metrics import classification_report\n",
    "from pylab import rcParams\n",
    "\n",
    "from sklearn.cross_validation import train_test_split\n",
    "from sklearn.model_selection import KFold"
   ]
  },
  {
   "cell_type": "code",
   "execution_count": 2,
   "metadata": {
    "collapsed": true
   },
   "outputs": [],
   "source": [
    "auto = pd.read_csv('Auto.csv', na_values='?')"
   ]
  },
  {
   "cell_type": "code",
   "execution_count": 3,
   "metadata": {},
   "outputs": [
    {
     "data": {
      "text/plain": [
       "23.0"
      ]
     },
     "execution_count": 3,
     "metadata": {},
     "output_type": "execute_result"
    }
   ],
   "source": [
    "mpg_median = auto['mpg'].median()\n",
    "mpg_median"
   ]
  },
  {
   "cell_type": "code",
   "execution_count": 4,
   "metadata": {
    "collapsed": true
   },
   "outputs": [],
   "source": [
    "auto['mpg_high'] = auto['mpg'].apply(lambda x: 1 if x >= mpg_median else 0).astype('category')"
   ]
  },
  {
   "cell_type": "code",
   "execution_count": 5,
   "metadata": {},
   "outputs": [
    {
     "data": {
      "text/html": [
       "<div>\n",
       "<style>\n",
       "    .dataframe thead tr:only-child th {\n",
       "        text-align: right;\n",
       "    }\n",
       "\n",
       "    .dataframe thead th {\n",
       "        text-align: left;\n",
       "    }\n",
       "\n",
       "    .dataframe tbody tr th {\n",
       "        vertical-align: top;\n",
       "    }\n",
       "</style>\n",
       "<table border=\"1\" class=\"dataframe\">\n",
       "  <thead>\n",
       "    <tr style=\"text-align: right;\">\n",
       "      <th></th>\n",
       "      <th>mpg</th>\n",
       "      <th>cylinders</th>\n",
       "      <th>displacement</th>\n",
       "      <th>horsepower</th>\n",
       "      <th>weight</th>\n",
       "      <th>acceleration</th>\n",
       "      <th>year</th>\n",
       "      <th>origin</th>\n",
       "      <th>name</th>\n",
       "      <th>mpg_high</th>\n",
       "    </tr>\n",
       "  </thead>\n",
       "  <tbody>\n",
       "    <tr>\n",
       "      <th>0</th>\n",
       "      <td>18.0</td>\n",
       "      <td>8</td>\n",
       "      <td>307.0</td>\n",
       "      <td>130.0</td>\n",
       "      <td>3504</td>\n",
       "      <td>12.0</td>\n",
       "      <td>70</td>\n",
       "      <td>1</td>\n",
       "      <td>chevrolet chevelle malibu</td>\n",
       "      <td>0</td>\n",
       "    </tr>\n",
       "    <tr>\n",
       "      <th>1</th>\n",
       "      <td>15.0</td>\n",
       "      <td>8</td>\n",
       "      <td>350.0</td>\n",
       "      <td>165.0</td>\n",
       "      <td>3693</td>\n",
       "      <td>11.5</td>\n",
       "      <td>70</td>\n",
       "      <td>1</td>\n",
       "      <td>buick skylark 320</td>\n",
       "      <td>0</td>\n",
       "    </tr>\n",
       "    <tr>\n",
       "      <th>2</th>\n",
       "      <td>18.0</td>\n",
       "      <td>8</td>\n",
       "      <td>318.0</td>\n",
       "      <td>150.0</td>\n",
       "      <td>3436</td>\n",
       "      <td>11.0</td>\n",
       "      <td>70</td>\n",
       "      <td>1</td>\n",
       "      <td>plymouth satellite</td>\n",
       "      <td>0</td>\n",
       "    </tr>\n",
       "    <tr>\n",
       "      <th>3</th>\n",
       "      <td>16.0</td>\n",
       "      <td>8</td>\n",
       "      <td>304.0</td>\n",
       "      <td>150.0</td>\n",
       "      <td>3433</td>\n",
       "      <td>12.0</td>\n",
       "      <td>70</td>\n",
       "      <td>1</td>\n",
       "      <td>amc rebel sst</td>\n",
       "      <td>0</td>\n",
       "    </tr>\n",
       "    <tr>\n",
       "      <th>4</th>\n",
       "      <td>17.0</td>\n",
       "      <td>8</td>\n",
       "      <td>302.0</td>\n",
       "      <td>140.0</td>\n",
       "      <td>3449</td>\n",
       "      <td>10.5</td>\n",
       "      <td>70</td>\n",
       "      <td>1</td>\n",
       "      <td>ford torino</td>\n",
       "      <td>0</td>\n",
       "    </tr>\n",
       "  </tbody>\n",
       "</table>\n",
       "</div>"
      ],
      "text/plain": [
       "    mpg  cylinders  displacement  horsepower  weight  acceleration  year  \\\n",
       "0  18.0          8         307.0       130.0    3504          12.0    70   \n",
       "1  15.0          8         350.0       165.0    3693          11.5    70   \n",
       "2  18.0          8         318.0       150.0    3436          11.0    70   \n",
       "3  16.0          8         304.0       150.0    3433          12.0    70   \n",
       "4  17.0          8         302.0       140.0    3449          10.5    70   \n",
       "\n",
       "   origin                       name mpg_high  \n",
       "0       1  chevrolet chevelle malibu        0  \n",
       "1       1          buick skylark 320        0  \n",
       "2       1         plymouth satellite        0  \n",
       "3       1              amc rebel sst        0  \n",
       "4       1                ford torino        0  "
      ]
     },
     "execution_count": 5,
     "metadata": {},
     "output_type": "execute_result"
    }
   ],
   "source": [
    "auto.head()"
   ]
  },
  {
   "cell_type": "code",
   "execution_count": 6,
   "metadata": {},
   "outputs": [
    {
     "data": {
      "text/plain": [
       "mpg             0\n",
       "cylinders       0\n",
       "displacement    0\n",
       "horsepower      0\n",
       "weight          0\n",
       "acceleration    0\n",
       "year            0\n",
       "origin          0\n",
       "name            0\n",
       "mpg_high        0\n",
       "dtype: int64"
      ]
     },
     "execution_count": 6,
     "metadata": {},
     "output_type": "execute_result"
    }
   ],
   "source": [
    "auto.dropna(inplace=True)\n",
    "auto.isnull().sum()"
   ]
  },
  {
   "cell_type": "code",
   "execution_count": 7,
   "metadata": {
    "collapsed": true
   },
   "outputs": [],
   "source": [
    "auto['const'] = 1"
   ]
  },
  {
   "cell_type": "markdown",
   "metadata": {},
   "source": [
    "## (a)"
   ]
  },
  {
   "cell_type": "code",
   "execution_count": 8,
   "metadata": {
    "collapsed": true
   },
   "outputs": [],
   "source": [
    "X = auto[['const', 'cylinders', 'displacement', 'horsepower', 'weight',\n",
    "              'acceleration', 'year', 'origin']].values\n",
    "y = auto['mpg_high'].values"
   ]
  },
  {
   "cell_type": "code",
   "execution_count": 9,
   "metadata": {},
   "outputs": [
    {
     "name": "stdout",
     "output_type": "stream",
     "text": [
      "k index= 0\n",
      "MSE for test set 0  is 0.0918367346939\n",
      "MSE for mpg_high = 0 (low category) is 0.0576923076923\n",
      "MSE for mpg_high = 1 (high category) is 0.130434782609\n",
      "             precision    recall  f1-score   support\n",
      "\n",
      "          0       0.94      0.89      0.92        55\n",
      "          1       0.87      0.93      0.90        43\n",
      "\n",
      "avg / total       0.91      0.91      0.91        98\n",
      "\n",
      "k index= 1\n",
      "MSE for test set 1  is 0.102040816327\n",
      "MSE for mpg_high = 0 (low category) is 0.122448979592\n",
      "MSE for mpg_high = 1 (high category) is 0.0816326530612\n",
      "             precision    recall  f1-score   support\n",
      "\n",
      "          0       0.88      0.91      0.90        47\n",
      "          1       0.92      0.88      0.90        51\n",
      "\n",
      "avg / total       0.90      0.90      0.90        98\n",
      "\n",
      "k index= 2\n",
      "MSE for test set 2  is 0.132653061224\n",
      "MSE for mpg_high = 0 (low category) is 0.152173913043\n",
      "MSE for mpg_high = 1 (high category) is 0.115384615385\n",
      "             precision    recall  f1-score   support\n",
      "\n",
      "          0       0.85      0.87      0.86        45\n",
      "          1       0.88      0.87      0.88        53\n",
      "\n",
      "avg / total       0.87      0.87      0.87        98\n",
      "\n",
      "k index= 3\n",
      "MSE for test set 3  is 0.102040816327\n",
      "MSE for mpg_high = 0 (low category) is 0.046511627907\n",
      "MSE for mpg_high = 1 (high category) is 0.145454545455\n",
      "             precision    recall  f1-score   support\n",
      "\n",
      "          0       0.95      0.84      0.89        49\n",
      "          1       0.85      0.96      0.90        49\n",
      "\n",
      "avg / total       0.90      0.90      0.90        98\n",
      "\n",
      "Test estimate average MSE k-fold for both classes= 0.107142857143\n",
      "Test estimate average MSE standard err for both classes= 0.015306122449\n",
      "Test estimate average MSE k-fold for mpg_high = 0 (low)= 0.0947067070586\n",
      "Test estimate average MSE standard err for mpg_high = 0 (low)= 0.0440594622751\n",
      "Test estimate average MSE k-fold for mpg_high = 1 (high)= 0.0947067070586\n",
      "Test estimate average MSE standard err for mpg_high = 1 (high)= 0.0440594622751\n"
     ]
    }
   ],
   "source": [
    "k = 4\n",
    "kf = KFold(n_splits=k, random_state=15, shuffle=True)\n",
    "kf.get_n_splits(X)\n",
    "\n",
    "MSE_vec_kf = np.zeros(k)\n",
    "MSE_1 = np.zeros(k)\n",
    "MSE_0 = np.zeros(k)\n",
    "\n",
    "k_ind = int(0)\n",
    "for train_index, test_index in kf.split(X):\n",
    "    print('k index=', k_ind)\n",
    "    X_train, X_test = X[train_index], X[test_index]\n",
    "    y_train, y_test = y[train_index], y[test_index]\n",
    "    LogReg = LogisticRegression()\n",
    "    LogReg.fit(X_train, y_train)\n",
    "    y_pred = LogReg.predict(X_test)\n",
    "    error_df = pd.DataFrame({'Error': (y_test != y_pred), 'y_pred': y_pred})\n",
    "    MSE_0_k = error_df[error_df['y_pred'] == 0]['Error'].astype(int).mean()\n",
    "    MSE_1_k = error_df[error_df['y_pred'] == 1]['Error'].astype(int).mean()\n",
    "    MSE_0[k_ind] = MSE_0_k\n",
    "    MSE_1[k_ind] = MSE_1_k\n",
    "    MSE_vec_kf[k_ind] = ((y_test - y_pred) ** 2).mean()\n",
    "    print('MSE for test set', k_ind, ' is', MSE_vec_kf[k_ind])\n",
    "    print('MSE for mpg_high = 0 (low category) is', MSE_0[k_ind])\n",
    "    print('MSE for mpg_high = 1 (high category) is', MSE_1[k_ind])\n",
    "    k_ind += 1\n",
    "    print(classification_report(y_test, y_pred))\n",
    "\n",
    "MSE_kf = MSE_vec_kf.mean()\n",
    "MSE_0_kf = MSE_0.mean()\n",
    "MSE_1_kf = MSE_0.mean()\n",
    "MSE_kf_std = MSE_vec_kf.std()\n",
    "MSE_0_kf_std = MSE_0.std()\n",
    "MSE_1_kf_std = MSE_0.std()\n",
    "print('Test estimate average MSE k-fold for both classes=', MSE_kf)\n",
    "print('Test estimate average MSE standard err for both classes=', MSE_kf_std)\n",
    "print('Test estimate average MSE k-fold for mpg_high = 0 (low)=', MSE_0_kf)\n",
    "print('Test estimate average MSE standard err for mpg_high = 0 (low)=', MSE_0_kf_std)\n",
    "print('Test estimate average MSE k-fold for mpg_high = 1 (high)=', MSE_1_kf)\n",
    "print('Test estimate average MSE standard err for mpg_high = 1 (high)=', MSE_1_kf_std)"
   ]
  },
  {
   "cell_type": "markdown",
   "metadata": {},
   "source": [
    "## (b)"
   ]
  },
  {
   "cell_type": "code",
   "execution_count": 10,
   "metadata": {
    "collapsed": true
   },
   "outputs": [],
   "source": [
    "from sklearn.ensemble import RandomForestClassifier\n",
    "from sklearn.metrics import mean_squared_error"
   ]
  },
  {
   "cell_type": "code",
   "execution_count": 11,
   "metadata": {},
   "outputs": [
    {
     "data": {
      "text/plain": [
       "RandomForestClassifier(bootstrap=True, class_weight=None, criterion='gini',\n",
       "            max_depth=None, max_features=2, max_leaf_nodes=None,\n",
       "            min_impurity_decrease=0.0, min_impurity_split=None,\n",
       "            min_samples_leaf=1, min_samples_split=2,\n",
       "            min_weight_fraction_leaf=0.0, n_estimators=20, n_jobs=1,\n",
       "            oob_score=True, random_state=25, verbose=0, warm_start=False)"
      ]
     },
     "execution_count": 11,
     "metadata": {},
     "output_type": "execute_result"
    }
   ],
   "source": [
    "auto_tree = RandomForestClassifier(max_features=2, n_estimators=20, bootstrap=True, oob_score=True, \\\n",
    "                                   random_state=25)\n",
    "auto_tree.fit(X, y)"
   ]
  },
  {
   "cell_type": "code",
   "execution_count": 12,
   "metadata": {},
   "outputs": [],
   "source": [
    "y_pred = auto_tree.oob_decision_function_[:,1]\n",
    "y_pred_list = []\n",
    "for i in y_pred:\n",
    "    if i >= 0.5:\n",
    "        y_pred_list.append(1)\n",
    "    else:\n",
    "        y_pred_list.append(0)"
   ]
  },
  {
   "cell_type": "code",
   "execution_count": 13,
   "metadata": {},
   "outputs": [
    {
     "name": "stdout",
     "output_type": "stream",
     "text": [
      "The MSE of the random forest model from the .oob_decision_function = 0.0790816326531\n"
     ]
    }
   ],
   "source": [
    "MSE = mean_squared_error(y, y_pred_list)\n",
    "print('The MSE of the random forest model from the .oob_decision_function =', MSE)"
   ]
  },
  {
   "cell_type": "code",
   "execution_count": 14,
   "metadata": {},
   "outputs": [],
   "source": [
    "df_RFM = pd.DataFrame({\"ypred\": y_pred_list, \"y\": y})"
   ]
  },
  {
   "cell_type": "code",
   "execution_count": 15,
   "metadata": {
    "collapsed": true
   },
   "outputs": [],
   "source": [
    "df_RFM['ypred'] = df_RFM['ypred'].apply(lambda x: 1 if x >= 0.5 else 0)"
   ]
  },
  {
   "cell_type": "code",
   "execution_count": 16,
   "metadata": {},
   "outputs": [
    {
     "data": {
      "text/html": [
       "<div>\n",
       "<style>\n",
       "    .dataframe thead tr:only-child th {\n",
       "        text-align: right;\n",
       "    }\n",
       "\n",
       "    .dataframe thead th {\n",
       "        text-align: left;\n",
       "    }\n",
       "\n",
       "    .dataframe tbody tr th {\n",
       "        vertical-align: top;\n",
       "    }\n",
       "</style>\n",
       "<table border=\"1\" class=\"dataframe\">\n",
       "  <thead>\n",
       "    <tr style=\"text-align: right;\">\n",
       "      <th></th>\n",
       "      <th>y</th>\n",
       "      <th>ypred</th>\n",
       "    </tr>\n",
       "  </thead>\n",
       "  <tbody>\n",
       "    <tr>\n",
       "      <th>0</th>\n",
       "      <td>0</td>\n",
       "      <td>0</td>\n",
       "    </tr>\n",
       "    <tr>\n",
       "      <th>1</th>\n",
       "      <td>0</td>\n",
       "      <td>0</td>\n",
       "    </tr>\n",
       "    <tr>\n",
       "      <th>2</th>\n",
       "      <td>0</td>\n",
       "      <td>0</td>\n",
       "    </tr>\n",
       "    <tr>\n",
       "      <th>3</th>\n",
       "      <td>0</td>\n",
       "      <td>0</td>\n",
       "    </tr>\n",
       "    <tr>\n",
       "      <th>4</th>\n",
       "      <td>0</td>\n",
       "      <td>0</td>\n",
       "    </tr>\n",
       "  </tbody>\n",
       "</table>\n",
       "</div>"
      ],
      "text/plain": [
       "   y  ypred\n",
       "0  0      0\n",
       "1  0      0\n",
       "2  0      0\n",
       "3  0      0\n",
       "4  0      0"
      ]
     },
     "execution_count": 16,
     "metadata": {},
     "output_type": "execute_result"
    }
   ],
   "source": [
    "df_RFM.head()"
   ]
  },
  {
   "cell_type": "code",
   "execution_count": 17,
   "metadata": {},
   "outputs": [
    {
     "name": "stdout",
     "output_type": "stream",
     "text": [
      "The MSE for this RFM of mpg_high = 0 (low) is: 0.0725388601036\n",
      "The MSE for this RFM of mpg_high = 1 (high) is: 0.0854271356784\n"
     ]
    }
   ],
   "source": [
    "df_RFM_0 = df_RFM[df_RFM['ypred'] == 0]\n",
    "MSE_0 = mean_squared_error(df_RFM_0['y'], df_RFM_0['ypred'])\n",
    "print('The MSE for this RFM of mpg_high = 0 (low) is:', MSE_0)\n",
    "\n",
    "# mpg_high = 1\n",
    "df_RFM_1 = df_RFM[df_RFM['ypred'] == 1]\n",
    "MSE_1 = mean_squared_error(df_RFM_1['y'], df_RFM_1['ypred'])\n",
    "print('The MSE for this RFM of mpg_high = 1 (high) is:', MSE_1)"
   ]
  },
  {
   "cell_type": "code",
   "execution_count": 18,
   "metadata": {},
   "outputs": [
    {
     "name": "stdout",
     "output_type": "stream",
     "text": [
      "             precision    recall  f1-score   support\n",
      "\n",
      "          0       0.93      0.91      0.92       196\n",
      "          1       0.91      0.93      0.92       196\n",
      "\n",
      "avg / total       0.92      0.92      0.92       392\n",
      "\n"
     ]
    }
   ],
   "source": [
    "print(classification_report(y, y_pred_list))"
   ]
  },
  {
   "cell_type": "code",
   "execution_count": 19,
   "metadata": {},
   "outputs": [
    {
     "name": "stdout",
     "output_type": "stream",
     "text": [
      "To confirm, classification report matches calculated errors from .oob_decision_function.\n",
      "Error for mpg_high = 0 from classification report is 0.07.\n",
      "Error for mpg_high = 1 from classification report is 0.09.\n"
     ]
    }
   ],
   "source": [
    "print(\"To confirm, classification report matches calculated errors from .oob_decision_function.\")\n",
    "print(\"Error for mpg_high = 0 from classification report is 0.07.\")\n",
    "print(\"Error for mpg_high = 1 from classification report is 0.09.\")"
   ]
  },
  {
   "cell_type": "markdown",
   "metadata": {},
   "source": [
    "## (c)"
   ]
  },
  {
   "cell_type": "code",
   "execution_count": 20,
   "metadata": {
    "collapsed": true
   },
   "outputs": [],
   "source": [
    "from sklearn import datasets\n",
    "from sklearn.svm import LinearSVC\n",
    "from sklearn.pipeline import Pipeline\n",
    "from sklearn.preprocessing import StandardScaler\n",
    "from sklearn import svm, datasets"
   ]
  },
  {
   "cell_type": "code",
   "execution_count": 24,
   "metadata": {},
   "outputs": [
    {
     "name": "stdout",
     "output_type": "stream",
     "text": [
      "k index= 0\n",
      "             precision    recall  f1-score   support\n",
      "\n",
      "          0       1.00      0.04      0.07        55\n",
      "          1       0.45      1.00      0.62        43\n",
      "\n",
      "avg / total       0.76      0.46      0.31        98\n",
      "\n",
      "MSE for test set 0  using SVC is 0.540816326531\n",
      "MSE for mpg_high = 0 (low category) using SVC is 0.0\n",
      "MSE for mpg_high = 1 (high category) using SVC is 0.552083333333\n",
      "\n",
      "k index= 1\n",
      "             precision    recall  f1-score   support\n",
      "\n",
      "          0       0.48      1.00      0.65        47\n",
      "          1       0.00      0.00      0.00        51\n",
      "\n",
      "avg / total       0.23      0.48      0.31        98\n",
      "\n",
      "MSE for test set 1  using SVC is 0.520408163265\n",
      "MSE for mpg_high = 0 (low category) using SVC is 0.520408163265\n",
      "MSE for mpg_high = 1 (high category) using SVC is 0.0\n",
      "\n",
      "k index= 2\n",
      "             precision    recall  f1-score   support\n",
      "\n",
      "          0       0.47      1.00      0.64        45\n",
      "          1       1.00      0.04      0.07        53\n",
      "\n",
      "avg / total       0.76      0.48      0.33        98\n",
      "\n",
      "MSE for test set 2  using SVC is 0.520408163265\n",
      "MSE for mpg_high = 0 (low category) using SVC is 0.53125\n",
      "MSE for mpg_high = 1 (high category) using SVC is 0.0\n",
      "\n",
      "k index= 3\n",
      "             precision    recall  f1-score   support\n",
      "\n",
      "          0       0.53      1.00      0.69        49\n",
      "          1       1.00      0.10      0.19        49\n",
      "\n",
      "avg / total       0.76      0.55      0.44        98\n",
      "\n",
      "MSE for test set 3  using SVC is 0.448979591837\n",
      "MSE for mpg_high = 0 (low category) using SVC is 0.47311827957\n",
      "MSE for mpg_high = 1 (high category) using SVC is 0.0\n",
      "\n",
      "\n",
      "Test estimate average MSE k-fold for both classes= 0.507653061224\n",
      "Test estimate average MSE standard err for both classes= 0.0348846794163\n",
      "Test estimate average MSE k-fold for mpg_high = 0 (low)= 0.381194110709\n",
      "Test estimate average MSE standard err for mpg_high = 0 (low)= 0.221165280503\n",
      "Test estimate average MSE k-fold for mpg_high = 1 (high)= 0.138020833333\n",
      "Test estimate average MSE standard err for mpg_high = 1 (high)= 0.239059095836\n"
     ]
    },
    {
     "name": "stderr",
     "output_type": "stream",
     "text": [
      "/Users/bethanybailey/anaconda3/lib/python3.6/site-packages/sklearn/metrics/classification.py:1135: UndefinedMetricWarning: Precision and F-score are ill-defined and being set to 0.0 in labels with no predicted samples.\n",
      "  'precision', 'predicted', average, warn_for)\n"
     ]
    }
   ],
   "source": [
    "kf_svm = KFold(n_splits=4, shuffle=True, random_state=15)\n",
    "kf_svm.get_n_splits(X)\n",
    "\n",
    "SVC_vec_kf = np.zeros(k)\n",
    "one_SVC_kf = np.zeros(k)\n",
    "zero_SVC_kf = np.zeros(k)\n",
    "\n",
    "k_ind_SVC = int(0)\n",
    "for train_index, test_index in kf_svm.split(X):\n",
    "    print('k index=', k_ind_SVC)\n",
    "    X_train, X_test = X[train_index], X[test_index]\n",
    "    y_train, y_test = y[train_index], y[test_index]\n",
    "    svc = svm.SVC(kernel='rbf', C=1, gamma=.2)\n",
    "    svc.fit(X_train, y_train)\n",
    "    y_pred = svc.predict(X_test)\n",
    "    error_df_SVC = pd.DataFrame({'Error': (y_test != y_pred), 'y_pred': y_pred})\n",
    "    MSE_0_k_SVC = error_df_SVC[error_df_SVC['y_pred'] == 0]['Error'].astype(int).mean()\n",
    "    MSE_1_k_SVC = error_df_SVC[error_df_SVC['y_pred'] == 1]['Error'].astype(int).mean()\n",
    "    zero_SVC_kf[k_ind_SVC] = MSE_0_k_SVC\n",
    "    one_SVC_kf[k_ind_SVC] = MSE_1_k_SVC\n",
    "    NaNs = np.isnan(one_SVC_kf)\n",
    "    one_SVC_kf[NaNs] = 0\n",
    "    print(classification_report(y_test, y_pred))\n",
    "    SVC_vec_kf[k_ind_SVC] = ((y_test - y_pred) ** 2).mean()\n",
    "    print('MSE for test set', k_ind_SVC, ' using SVC is', SVC_vec_kf[k_ind_SVC])\n",
    "    print('MSE for mpg_high = 0 (low category) using SVC is', zero_SVC_kf[k_ind_SVC])\n",
    "    print('MSE for mpg_high = 1 (high category) using SVC is', one_SVC_kf[k_ind_SVC])\n",
    "    print()\n",
    "    k_ind_SVC += 1\n",
    "\n",
    "MSE_kf_SVC = SVC_vec_kf.mean()\n",
    "MSE_0_kf_SVC = zero_SVC_kf.mean()\n",
    "MSE_1_kf_SVC = one_SVC_kf.mean()\n",
    "MSE_kf_std_SVC = SVC_vec_kf.std()\n",
    "MSE_0_kf_std_SVC = zero_SVC_kf.std()\n",
    "MSE_1_kf_std_SVC = one_SVC_kf.std()\n",
    "print()\n",
    "print('Test estimate average MSE k-fold for both classes=', MSE_kf_SVC)\n",
    "print('Test estimate average MSE standard err for both classes=', MSE_kf_std_SVC)\n",
    "print('Test estimate average MSE k-fold for mpg_high = 0 (low)=', MSE_0_kf_SVC)\n",
    "print('Test estimate average MSE standard err for mpg_high = 0 (low)=', MSE_0_kf_std_SVC)\n",
    "print('Test estimate average MSE k-fold for mpg_high = 1 (high)=', MSE_1_kf_SVC)\n",
    "print('Test estimate average MSE standard err for mpg_high = 1 (high)=', MSE_1_kf_std_SVC)"
   ]
  },
  {
   "cell_type": "markdown",
   "metadata": {},
   "source": [
    "## (d)"
   ]
  },
  {
   "cell_type": "code",
   "execution_count": 22,
   "metadata": {},
   "outputs": [
    {
     "name": "stdout",
     "output_type": "stream",
     "text": [
      "Logistic Regression results:\n",
      "Test estimate average MSE k-fold for both classes= 0.107142857143\n",
      "Test estimate average MSE k-fold for mpg_high = 0 (low)= 0.0947067070586\n",
      "Test estimate average MSE k-fold for mpg_high = 1 (high)= 0.0947067070586\n",
      "\n",
      "RFM Results:\n",
      "The MSE of the random forest model from the .oob_decision_function = 0.0790816326531\n",
      "The MSE for this RFM of mpg_high = 0 (low) is: 0.0725388601036\n",
      "The MSE for this RFM of mpg_high = 1 (high) is: 0.0854271356784\n",
      "\n",
      "SVC Results:\n",
      "Test estimate average MSE k-fold for both classes= 0.507653061224\n",
      "Test estimate average MSE k-fold for mpg_high = 0 (low)= 0.381194110709\n",
      "Test estimate average MSE k-fold for mpg_high = 1 (high)= 0.138020833333\n"
     ]
    }
   ],
   "source": [
    "print('Logistic Regression results:')\n",
    "print('Test estimate average MSE k-fold for both classes=', MSE_kf)\n",
    "print('Test estimate average MSE k-fold for mpg_high = 0 (low)=', MSE_0_kf)\n",
    "print('Test estimate average MSE k-fold for mpg_high = 1 (high)=', MSE_1_kf)\n",
    "print()\n",
    "print('RFM Results:')\n",
    "print('The MSE of the random forest model from the .oob_decision_function =', MSE)\n",
    "print('The MSE for this RFM of mpg_high = 0 (low) is:', MSE_0)\n",
    "print('The MSE for this RFM of mpg_high = 1 (high) is:', MSE_1)\n",
    "print()\n",
    "print('SVC Results:')\n",
    "print('Test estimate average MSE k-fold for both classes=', MSE_kf_SVC)\n",
    "print('Test estimate average MSE k-fold for mpg_high = 0 (low)=', MSE_0_kf_SVC)\n",
    "print('Test estimate average MSE k-fold for mpg_high = 1 (high)=', MSE_1_kf_SVC)"
   ]
  },
  {
   "cell_type": "markdown",
   "metadata": {},
   "source": [
    "I think the random forest classifier model is the best predictor of mpg_high, because the overall error rate is lower than the overall error rate for the other two models. Additionally, the average error rate for predicting mpg_high = 1 and mpg_high = 0 is lower than the other two models.\n",
    "\n",
    "However, if we were only interested in predicting one classification (mpg_high = 0 or mpg_high = 1), we might choose specific models from the SVC. For example, if we are most concerned with predicting low mpg (mpg_high = 0), we might choose the SVC with k=1 folds, because though the error for mpg_high = 1 is high (0.552083333333), the error for mpg_high = 0 is very low (0). Similarly, if we are most interested in predicting mpg_high = 1, we would probably use the 4-fold (k-index = 3) SVC model, because it has the lowest error rate for mpg_high = 1 (0) while also minimizing the mpg_high = 0 (0.47311827957) for all the models that have 0 error for mpg_high = 1."
   ]
  },
  {
   "cell_type": "code",
   "execution_count": null,
   "metadata": {
    "collapsed": true
   },
   "outputs": [],
   "source": []
  }
 ],
 "metadata": {
  "kernelspec": {
   "display_name": "Python 3",
   "language": "python",
   "name": "python3"
  },
  "language_info": {
   "codemirror_mode": {
    "name": "ipython",
    "version": 3
   },
   "file_extension": ".py",
   "mimetype": "text/x-python",
   "name": "python",
   "nbconvert_exporter": "python",
   "pygments_lexer": "ipython3",
   "version": "3.6.3"
  }
 },
 "nbformat": 4,
 "nbformat_minor": 2
}
