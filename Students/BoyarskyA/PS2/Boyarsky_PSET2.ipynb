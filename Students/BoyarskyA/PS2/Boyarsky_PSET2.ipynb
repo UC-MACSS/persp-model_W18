{
 "cells": [
  {
   "cell_type": "markdown",
   "metadata": {},
   "source": [
    "## Problem Set #2\n",
    "\n",
    "Ari Boyarsky\n",
    "\n",
    "aboyarsky@uchicago.edu\n",
    "\n",
    "First, we import requisite packages."
   ]
  },
  {
   "cell_type": "code",
   "execution_count": 18,
   "metadata": {
    "collapsed": true
   },
   "outputs": [],
   "source": [
    "import pandas as pd\n",
    "import numpy as np\n",
    "import matplotlib.pyplot as plt\n",
    "from scipy.optimize import minimize\n",
    "import scipy.stats as sts\n",
    "from scipy import integrate"
   ]
  },
  {
   "cell_type": "markdown",
   "metadata": {},
   "source": [
    "### Problem 1\n",
    "\n",
    "To begin Problem 1 we read the *incomes.txt* data:"
   ]
  },
  {
   "cell_type": "code",
   "execution_count": 19,
   "metadata": {
    "collapsed": true
   },
   "outputs": [],
   "source": [
    "incomes = pd.read_csv(\"incomes.txt\", header = None)"
   ]
  },
  {
   "cell_type": "code",
   "execution_count": 20,
   "metadata": {
    "collapsed": true
   },
   "outputs": [],
   "source": [
    "incomes.rename(columns={0: 'Income'}, inplace=True)"
   ]
  },
  {
   "cell_type": "code",
   "execution_count": 21,
   "metadata": {},
   "outputs": [
    {
     "data": {
      "text/html": [
       "<div>\n",
       "<style>\n",
       "    .dataframe thead tr:only-child th {\n",
       "        text-align: right;\n",
       "    }\n",
       "\n",
       "    .dataframe thead th {\n",
       "        text-align: left;\n",
       "    }\n",
       "\n",
       "    .dataframe tbody tr th {\n",
       "        vertical-align: top;\n",
       "    }\n",
       "</style>\n",
       "<table border=\"1\" class=\"dataframe\">\n",
       "  <thead>\n",
       "    <tr style=\"text-align: right;\">\n",
       "      <th></th>\n",
       "      <th>Income</th>\n",
       "    </tr>\n",
       "  </thead>\n",
       "  <tbody>\n",
       "    <tr>\n",
       "      <th>0</th>\n",
       "      <td>51253.497156</td>\n",
       "    </tr>\n",
       "    <tr>\n",
       "      <th>1</th>\n",
       "      <td>100630.320241</td>\n",
       "    </tr>\n",
       "    <tr>\n",
       "      <th>2</th>\n",
       "      <td>83009.276137</td>\n",
       "    </tr>\n",
       "    <tr>\n",
       "      <th>3</th>\n",
       "      <td>82882.106543</td>\n",
       "    </tr>\n",
       "    <tr>\n",
       "      <th>4</th>\n",
       "      <td>77338.294839</td>\n",
       "    </tr>\n",
       "  </tbody>\n",
       "</table>\n",
       "</div>"
      ],
      "text/plain": [
       "          Income\n",
       "0   51253.497156\n",
       "1  100630.320241\n",
       "2   83009.276137\n",
       "3   82882.106543\n",
       "4   77338.294839"
      ]
     },
     "execution_count": 21,
     "metadata": {},
     "output_type": "execute_result"
    }
   ],
   "source": [
    "incomes.head(5)"
   ]
  },
  {
   "cell_type": "markdown",
   "metadata": {},
   "source": [
    "**(a)** Plot Histogram of *income.txt*"
   ]
  },
  {
   "cell_type": "code",
   "execution_count": 22,
   "metadata": {},
   "outputs": [
    {
     "data": {
      "image/png": "[encoded data removed]",
      "text/plain": [
       "<matplotlib.figure.Figure at 0x2bb095c3a58>"
      ]
     },
     "metadata": {},
     "output_type": "display_data"
    }
   ],
   "source": [
    "plt.hist(incomes[\"Income\"], bins = 30, normed=True)\n",
    "plt.ylabel(\"Normed Count\")\n",
    "plt.xlabel(\"Income (USD)\")\n",
    "plt.title(\"Histogram of Incomes\")\n",
    "plt.show()"
   ]
  },
  {
   "cell_type": "markdown",
   "metadata": {},
   "source": [
    "**(b)** Plot lognormal PDF $f(x\\mid \\mu = 0.5, \\sigma = 0.5)$ and $0 \\leq x\\leq 150,000$\n",
    "\n",
    "First we must define encode the log-normal pdf:\n",
    "$$(LN): f(x|\\mu,\\sigma)=\\frac{1}{x\\sigma\\sqrt{2\\pi}}e^{-\\frac{[log_e(x)-\\mu]^2}{2\\sigma^2}}$$\n",
    "$$\\forall \\; x \\in \\mathbb{R}_+, \\mu \\in \\mathbb{R}, \\sigma \\in \\mathbb{R}_{++}$$"
   ]
  },
  {
   "cell_type": "code",
   "execution_count": 23,
   "metadata": {
    "collapsed": true
   },
   "outputs": [],
   "source": [
    "# PDF of log norm\n",
    "def log_norm(x, mu, sigma):\n",
    "    '''\n",
    "    --------------------------------------------------------------------\n",
    "    This function simulates a log normal pdf with mean mu \n",
    "    and variance sigma^2.  \n",
    "    --------------------------------------------------------------------\n",
    "    INPUTS:\n",
    "    x: vector (array), log normally dist. rand var\n",
    "    mu: scalar, log normal mean\n",
    "    sigma: scalar > 0, std. dev. of log normal\n",
    "    --------------------------------------------------------------------\n",
    "    RETURNS: value of pdf\n",
    "    --------------------------------------------------------------------\n",
    "    '''\n",
    "    val = ((1/(x*sigma*np.sqrt(2*np.pi)))*np.exp(-(((np.log(x)-mu)**2)/(2*(sigma**2)))))\n",
    "    return val"
   ]
  },
  {
   "cell_type": "code",
   "execution_count": 24,
   "metadata": {},
   "outputs": [
    {
     "data": {
      "text/plain": [
       "0.0035220117756071751"
      ]
     },
     "execution_count": 24,
     "metadata": {},
     "output_type": "execute_result"
    }
   ],
   "source": [
    "log_norm(4.3,6,2) # It works!"
   ]
  },
  {
   "cell_type": "code",
   "execution_count": 25,
   "metadata": {},
   "outputs": [
    {
     "name": "stderr",
     "output_type": "stream",
     "text": [
      "C:\\ProgramData\\Anaconda3\\lib\\site-packages\\ipykernel_launcher.py:16: RuntimeWarning: divide by zero encountered in true_divide\n",
      "  app.launch_new_instance()\n",
      "C:\\ProgramData\\Anaconda3\\lib\\site-packages\\ipykernel_launcher.py:16: RuntimeWarning: divide by zero encountered in log\n",
      "  app.launch_new_instance()\n",
      "C:\\ProgramData\\Anaconda3\\lib\\site-packages\\ipykernel_launcher.py:16: RuntimeWarning: invalid value encountered in multiply\n",
      "  app.launch_new_instance()\n"
     ]
    },
    {
     "data": {
      "image/png": "[encoded data removed]",
      "text/plain": [
       "<matplotlib.figure.Figure at 0x2bb09710940>"
      ]
     },
     "metadata": {},
     "output_type": "display_data"
    }
   ],
   "source": [
    "plt.clf()\n",
    "x = np.linspace(0,150000)\n",
    "plt.plot(x, log_norm(x, 11, 0.5),\n",
    "         linewidth=2, color='r', label='1: $\\mu$=11,$\\sigma$=0.5')\n",
    "plt.legend()\n",
    "plt.show()"
   ]
  },
  {
   "cell_type": "markdown",
   "metadata": {},
   "source": [
    "We define a function to retrieve the log-liklihood for future use. We also make a parameter class:"
   ]
  },
  {
   "cell_type": "code",
   "execution_count": 26,
   "metadata": {
    "collapsed": true
   },
   "outputs": [],
   "source": [
    "def log_like_LN(x, mu, sigma):\n",
    "    '''\n",
    "    --------------------------------------------------------------------\n",
    "    This function simulates a log likelihood function for a log normal \n",
    "    pdf with mean mu and variance sigma^2.  \n",
    "    --------------------------------------------------------------------\n",
    "    INPUTS:\n",
    "    x: vector (array), log normally dist. rand var\n",
    "    mu: scalar, log normal mean\n",
    "    sigma: scalar > 0, std. dev. of log normal\n",
    "    --------------------------------------------------------------------\n",
    "    RETURNS: log liklihood val\n",
    "    --------------------------------------------------------------------\n",
    "    '''\n",
    "    vals = log_norm(x, mu, sigma)\n",
    "    log_vals = np.log(vals)\n",
    "    \n",
    "    return log_vals.sum()\n",
    "    "
   ]
  },
  {
   "cell_type": "markdown",
   "metadata": {},
   "source": [
    "Then the log likelihood of our data is the following:"
   ]
  },
  {
   "cell_type": "code",
   "execution_count": 27,
   "metadata": {},
   "outputs": [
    {
     "data": {
      "text/plain": [
       "-2385.856997808559"
      ]
     },
     "execution_count": 27,
     "metadata": {},
     "output_type": "execute_result"
    }
   ],
   "source": [
    "log_like_LN(incomes[\"Income\"], 11, 0.5)"
   ]
  },
  {
   "cell_type": "markdown",
   "metadata": {},
   "source": [
    "**Part (c):** Estimate the lognormal parameters and plot this function against the previous PDF from (b) and histogram for (a)."
   ]
  },
  {
   "cell_type": "code",
   "execution_count": 28,
   "metadata": {
    "collapsed": true
   },
   "outputs": [],
   "source": [
    "def max_lik(x, parameters):\n",
    "    def criterion(parameters):\n",
    "        mu, sigma = parameters\n",
    "        return -log_like_LN(x, mu, sigma)\n",
    "    # to ensure sigma > 0, if 0 then divide by zero error\n",
    "    return minimize(criterion, parameters, method='L-BFGS-B', bounds = ((None, None), (0.0001, None)))"
   ]
  },
  {
   "cell_type": "code",
   "execution_count": 29,
   "metadata": {},
   "outputs": [
    {
     "name": "stderr",
     "output_type": "stream",
     "text": [
      "C:\\ProgramData\\Anaconda3\\lib\\site-packages\\ipykernel_launcher.py:16: RuntimeWarning: divide by zero encountered in log\n",
      "  app.launch_new_instance()\n",
      "C:\\ProgramData\\Anaconda3\\lib\\site-packages\\scipy\\optimize\\optimize.py:628: RuntimeWarning: invalid value encountered in double_scalars\n",
      "  grad[k] = (f(*((xk + d,) + args)) - f0) / d[k]\n"
     ]
    },
    {
     "data": {
      "text/plain": [
       "-2285.8999332477283"
      ]
     },
     "execution_count": 29,
     "metadata": {},
     "output_type": "execute_result"
    }
   ],
   "source": [
    "res = max_lik(incomes[\"Income\"], np.array([11, 0.5]))\n",
    "-res.fun"
   ]
  },
  {
   "cell_type": "code",
   "execution_count": 30,
   "metadata": {},
   "outputs": [
    {
     "data": {
      "text/plain": [
       "array([ 11.49501608,   0.31087915])"
      ]
     },
     "execution_count": 30,
     "metadata": {},
     "output_type": "execute_result"
    }
   ],
   "source": [
    "res.x"
   ]
  },
  {
   "cell_type": "markdown",
   "metadata": {},
   "source": [
    "Thus, the log liklihood is $-2285.719$ with a mean of $11.459$ and a std. dev. of $0.31$. The variance covariance matrix is as follows:"
   ]
  },
  {
   "cell_type": "code",
   "execution_count": 31,
   "metadata": {},
   "outputs": [
    {
     "name": "stdout",
     "output_type": "stream",
     "text": [
      "VCV =  [[  4.59466083e-04   6.65458035e-05]\n",
      " [  6.65458035e-05   1.71221040e-03]]\n"
     ]
    }
   ],
   "source": [
    "# Calculate VCV\n",
    "# method based on lecture notes by Dr. Rick Evans\n",
    "OffDiagNeg = np.array([[1, -1], [-1, 1]]) \n",
    "vcv = res.hess_inv.todense()*OffDiagNeg\n",
    "print('VCV = ', vcv)"
   ]
  },
  {
   "cell_type": "code",
   "execution_count": 32,
   "metadata": {},
   "outputs": [
    {
     "name": "stderr",
     "output_type": "stream",
     "text": [
      "C:\\ProgramData\\Anaconda3\\lib\\site-packages\\ipykernel_launcher.py:16: RuntimeWarning: divide by zero encountered in true_divide\n",
      "  app.launch_new_instance()\n",
      "C:\\ProgramData\\Anaconda3\\lib\\site-packages\\ipykernel_launcher.py:16: RuntimeWarning: divide by zero encountered in log\n",
      "  app.launch_new_instance()\n",
      "C:\\ProgramData\\Anaconda3\\lib\\site-packages\\ipykernel_launcher.py:16: RuntimeWarning: invalid value encountered in multiply\n",
      "  app.launch_new_instance()\n"
     ]
    },
    {
     "data": {
      "image/png": "[encoded data removed]",
      "text/plain": [
       "<matplotlib.figure.Figure at 0x2bb098316d8>"
      ]
     },
     "metadata": {},
     "output_type": "display_data"
    }
   ],
   "source": [
    "plt.clf()\n",
    "plt.hist(incomes[\"Income\"], bins = 30, normed=True)\n",
    "plt.ylabel(\"Normed Count\")\n",
    "plt.xlabel(\"Income (USD)\")\n",
    "plt.title(\"Log Normal Approximation of Incomes\")\n",
    "x = np.linspace(0,150000)\n",
    "plt.plot(x, log_norm(x, 11, 0.5),\n",
    "         linewidth=2, color='r', label='(Guess): $\\mu$=11,$\\sigma$=0.5')\n",
    "plt.plot(x, log_norm(x, res.x[0], res.x[1]), \n",
    "         label = \"(MLE) $\\mu = {}, \\sigma = {}$\".format(res.x[0].round(2), \n",
    "                                                        res.x[1].round(4)))\n",
    "plt.legend()\n",
    "plt.show()"
   ]
  },
  {
   "cell_type": "markdown",
   "metadata": {},
   "source": [
    "**Part (d)** Likelihood ratio test."
   ]
  },
  {
   "cell_type": "code",
   "execution_count": 33,
   "metadata": {},
   "outputs": [
    {
     "name": "stdout",
     "output_type": "stream",
     "text": [
      "P-Value =  0.0\n"
     ]
    }
   ],
   "source": [
    "h0 = log_like_LN(incomes['Income'], 11, 0.5)\n",
    "mle = log_like_LN(incomes['Income'], res.x[0], res.x[1])\n",
    "ratio = 2 * (mle - h0)\n",
    "p = 1.0 - sts.chi2.cdf(ratio, 2)\n",
    "print('P-Value = ', p)"
   ]
  },
  {
   "cell_type": "markdown",
   "metadata": {},
   "source": [
    "Thus, it is unlikely that the null is true. And so we can reject the null."
   ]
  },
  {
   "cell_type": "markdown",
   "metadata": {},
   "source": [
    "**Part (e)** Calculate the probobility of earning more than \\$100,000 and probobility of earning less than $75,000."
   ]
  },
  {
   "cell_type": "code",
   "execution_count": 34,
   "metadata": {},
   "outputs": [
    {
     "name": "stdout",
     "output_type": "stream",
     "text": [
      "Probability of earning $100,000 or more: 0.4770301065468413\n",
      "Probability of earning $75,000 or less: 0.19275917149499458\n"
     ]
    }
   ],
   "source": [
    "def cdf_LN(x, mu, sigma):\n",
    "    return integrate.quad(lambda x: log_norm(x, mu, sigma), 0, x)\n",
    "\n",
    "print(\"Probability of earning $100,000 or more:\", (1-cdf_LN(100000, res.x[0], res.x[1])[0]))\n",
    "print(\"Probability of earning $75,000 or less:\", (cdf_LN(75000, res.x[0], res.x[1])[0]))"
   ]
  },
  {
   "cell_type": "markdown",
   "metadata": {},
   "source": [
    "### Problem 2"
   ]
  },
  {
   "cell_type": "code",
   "execution_count": 35,
   "metadata": {
    "collapsed": true
   },
   "outputs": [],
   "source": [
    "sick = pd.read_csv(\"sick.txt\")"
   ]
  },
  {
   "cell_type": "code",
   "execution_count": 36,
   "metadata": {},
   "outputs": [
    {
     "data": {
      "text/html": [
       "<div>\n",
       "<style>\n",
       "    .dataframe thead tr:only-child th {\n",
       "        text-align: right;\n",
       "    }\n",
       "\n",
       "    .dataframe thead th {\n",
       "        text-align: left;\n",
       "    }\n",
       "\n",
       "    .dataframe tbody tr th {\n",
       "        vertical-align: top;\n",
       "    }\n",
       "</style>\n",
       "<table border=\"1\" class=\"dataframe\">\n",
       "  <thead>\n",
       "    <tr style=\"text-align: right;\">\n",
       "      <th></th>\n",
       "      <th>sick</th>\n",
       "      <th>age</th>\n",
       "      <th>children</th>\n",
       "      <th>avgtemp_winter</th>\n",
       "    </tr>\n",
       "  </thead>\n",
       "  <tbody>\n",
       "    <tr>\n",
       "      <th>0</th>\n",
       "      <td>1.67</td>\n",
       "      <td>57.47</td>\n",
       "      <td>3.04</td>\n",
       "      <td>54.10</td>\n",
       "    </tr>\n",
       "    <tr>\n",
       "      <th>1</th>\n",
       "      <td>0.71</td>\n",
       "      <td>26.77</td>\n",
       "      <td>1.20</td>\n",
       "      <td>36.54</td>\n",
       "    </tr>\n",
       "    <tr>\n",
       "      <th>2</th>\n",
       "      <td>1.39</td>\n",
       "      <td>41.85</td>\n",
       "      <td>2.31</td>\n",
       "      <td>32.38</td>\n",
       "    </tr>\n",
       "    <tr>\n",
       "      <th>3</th>\n",
       "      <td>1.37</td>\n",
       "      <td>51.27</td>\n",
       "      <td>2.46</td>\n",
       "      <td>52.94</td>\n",
       "    </tr>\n",
       "    <tr>\n",
       "      <th>4</th>\n",
       "      <td>1.45</td>\n",
       "      <td>44.22</td>\n",
       "      <td>2.72</td>\n",
       "      <td>45.90</td>\n",
       "    </tr>\n",
       "  </tbody>\n",
       "</table>\n",
       "</div>"
      ],
      "text/plain": [
       "   sick    age  children  avgtemp_winter\n",
       "0  1.67  57.47      3.04           54.10\n",
       "1  0.71  26.77      1.20           36.54\n",
       "2  1.39  41.85      2.31           32.38\n",
       "3  1.37  51.27      2.46           52.94\n",
       "4  1.45  44.22      2.72           45.90"
      ]
     },
     "execution_count": 36,
     "metadata": {},
     "output_type": "execute_result"
    }
   ],
   "source": [
    "sick.head()"
   ]
  },
  {
   "cell_type": "markdown",
   "metadata": {},
   "source": [
    "**Claim 2.1:** We can model use the OLS estimator using MLE with the following log liklihood function:\n",
    "$$-\\frac{n}{2}\\log 2\\pi - n\\log s - \\frac{1}{2s^2}\\sum^n_i=1(y_i - (\\beta_0 + \\beta_1x_i+\\dots+\\beta_nx_{n,i}))^2 \\;\\; (1)$$\n",
    "\n",
    "*Proof.*\n",
    "\n",
    "Recall, the OLS model is as follows:\n",
    "$$y_i = \\beta_0 +\\beta_1x_{1,i} + \\beta_{2}x_{2,i} + \\dots +\\beta_nx_{n,i} + \\epsilon_i \\; s.t. \\; \\epsilon_i \\sim N(0, \\sigma^2) \\;\\; (2)$$ \n",
    "\n",
    "Then, if $\\epsilon = [\\epsilon_1, \\dots, \\epsilon_n]$ each distributed $N(\\mu, \\sigma^2)$. Then we can write their pdf as:\n",
    "$$P(x \\; | \\; \\mu, \\sigma^2) = \\frac{1}{\\sqrt{2\\pi\\sigma^2}}e^{-\\frac{(x-\\mu)^2}{2\\sigma^2}}$$\n",
    "Then notice that we can rewrite our regression function as:\n",
    "$$\\epsilon_i = y_i - \\beta_0 -\\beta_1x_{1,i} - \\beta_{2}x_{2,i} - \\dots -\\beta_nx_{n,i}$$\n",
    "$$\\epsilon_i + \\beta_0 +\\beta_1x_{1,i} + \\beta_{2}x_{2,i} + \\dots +\\beta_nx_{n,i} = y_i$$\n",
    "Then since $\\mu = 0$ and we assume that the errors are independent of X, and Y is independent accross observations,\n",
    "$$\\prod^n_{i=1}p(y \\; |\\; \\boldsymbol{X}, \\boldsymbol{\\beta}, \\sigma^2) = \\prod^N_{i=1}\\frac{1}{\\sqrt{2\\pi\\sigma^2}}e^{\\frac{y_i - (\\beta_0 + \\beta_1x_{1,i} + \\dots + \\beta_nx_{n,i})}{2\\sigma^2}}$$\n",
    "\n",
    "Taking the log and simplifying yields:\n",
    "$$\\mathcal{L}(\\boldsymbol{\\beta}, \\sigma) = \\log \\prod^n_{i=1} p(y \\; |\\; \\boldsymbol{X}, \\boldsymbol{\\beta}, \\sigma^2) = \\prod^N_{i=1}\\frac{1}{\\sqrt{2\\pi\\sigma^2}}e^{\\frac{y_i - (\\beta_0 + \\beta_1x_{1,i} + \\dots + \\beta_nx_{n,i})}{2\\sigma^2}}=$$\n",
    "$$= \\sum^n_{i=1}\\log p(y \\; |\\; \\boldsymbol{X}, \\boldsymbol{\\beta}, \\sigma^2) \\\\= -\\frac{n}{2}\\log(2\\pi)-\\frac{n}{2}\\log\\sigma^2 - \\frac{1}{2\\sigma^2}\\sum^n_{i=1}(y_i - (\\beta_0 + \\beta_1x_{1,i}+\\dots+\\beta_nx_{1,i}))^2 \\;\\;\\text{Q.E.D.}$$\n",
    "\n",
    "Now that we have this result we can specify it to our model, specifically,\n",
    "\n",
    "$$-\\frac{n}{2}\\log(2\\pi)-\\frac{n}{2}\\log\\sigma^2 - \\frac{1}{2\\sigma^2}\\sum^n_{i=1}(y_{\\text{sick}, i} - (\\beta_0 + \\beta_{1}x_{\\text{age},i}+\\beta_{2}x_{\\text{child},i}+\\beta_{3}x_{\\text{temp},i}))^2 \\;\\; (3)$$\n",
    "\n",
    "For convience, we use the matrix form:\n",
    "$$\\log\\mathcal{L}(\\textbf{X,Y} \\;| \\;\\boldsymbol{\\beta}, \\sigma) = -\\frac{n}{2}\\log(2\\pi)-\\frac{n}{2}\\log\\sigma^2 - \\frac{1}{2\\sigma^2}[\\textbf{Y}-\\textbf{X}\\boldsymbol{\\beta}]^T[\\textbf{Y}-\\textbf{X}\\boldsymbol{\\beta}] \\;\\;(4)$$\n",
    "\n",
    "Now that we have the above result we write a function to define it:"
   ]
  },
  {
   "cell_type": "code",
   "execution_count": 37,
   "metadata": {
    "collapsed": true
   },
   "outputs": [],
   "source": [
    "def log_like_reg(x, y, beta, sigma):\n",
    "        '''\n",
    "        --------------------------------------------------------------------\n",
    "        This function simulates a log likelihood function for the regression \n",
    "        function denoted in (4).\n",
    "        --------------------------------------------------------------------\n",
    "        INPUTS:\n",
    "        x: vector (array) of independent response variables, \n",
    "            see x variables in (3)\n",
    "        y: vector of observations\n",
    "        beta: The beta parameters of the regression function (3)\n",
    "        sigma: scalar > 0, std. dev. of error terms in regression\n",
    "            function (2)\n",
    "        --------------------------------------------------------------------\n",
    "        RETURNS: log liklihood value\n",
    "        --------------------------------------------------------------------\n",
    "        '''\n",
    "        N = len(y)\n",
    "        x = np.concatenate((np.ones((N,1)), x), axis = 1)\n",
    "        return ((-N/2)*np.log(2*np.pi) - (N/2)*np.log(sigma**2) \n",
    "            - (1/(2*(sigma**2)))*((y - x @ beta).T @ (y - x @ beta)))"
   ]
  },
  {
   "cell_type": "code",
   "execution_count": 44,
   "metadata": {
    "collapsed": true
   },
   "outputs": [],
   "source": [
    "def MLE(x, y, parameters):\n",
    "    def criterion(parameters):\n",
    "        beta = parameters[:4]\n",
    "        sigma = parameters[4]\n",
    "        return -log_like_reg(x,y,beta,sigma)\n",
    "    return minimize(criterion, parameters, method='L-BFGS-B', bounds = ((None, None),(None, None),(None, None),(None, None), (0.00001, None)))"
   ]
  },
  {
   "cell_type": "code",
   "execution_count": 45,
   "metadata": {
    "collapsed": true
   },
   "outputs": [],
   "source": [
    "params = np.array([0,0,0,0,1])\n",
    "res = MLE(sick.iloc[:, 1:].values, sick[\"sick\"].values, params)"
   ]
  },
  {
   "cell_type": "code",
   "execution_count": 46,
   "metadata": {},
   "outputs": [
    {
     "data": {
      "text/plain": [
       "array([ 0.2516445 ,  0.01293344,  0.40050132, -0.00999168,  0.0030177 ])"
      ]
     },
     "execution_count": 46,
     "metadata": {},
     "output_type": "execute_result"
    }
   ],
   "source": [
    "res.x"
   ]
  },
  {
   "cell_type": "code",
   "execution_count": 47,
   "metadata": {},
   "outputs": [
    {
     "data": {
      "text/plain": [
       "876.86506400520511"
      ]
     },
     "execution_count": 47,
     "metadata": {},
     "output_type": "execute_result"
    }
   ],
   "source": [
    "-res.fun"
   ]
  },
  {
   "cell_type": "markdown",
   "metadata": {},
   "source": [
    "Thus, $\\beta_0 = 0.2516445 , \\; \\beta_1 =0.01293344, \\; \\beta_2 = 0.40050132, \\; \\beta_3 = -0.00999168, \\; \\sigma = 0.0030177, (\\sigma^2 \\approx 0.009 )$. And log likelihood is $876.86$. The VCV is generated below:"
   ]
  },
  {
   "cell_type": "code",
   "execution_count": 48,
   "metadata": {},
   "outputs": [
    {
     "ename": "ValueError",
     "evalue": "operands could not be broadcast together with shapes (5,5) (2,2) ",
     "output_type": "error",
     "traceback": [
      "\u001b[1;31m---------------------------------------------------------------------------\u001b[0m",
      "\u001b[1;31mValueError\u001b[0m                                Traceback (most recent call last)",
      "\u001b[1;32m<ipython-input-48-152fc01ba348>\u001b[0m in \u001b[0;36m<module>\u001b[1;34m()\u001b[0m\n\u001b[0;32m      1\u001b[0m \u001b[0mOffDiagNeg\u001b[0m \u001b[1;33m=\u001b[0m \u001b[0mnp\u001b[0m\u001b[1;33m.\u001b[0m\u001b[0marray\u001b[0m\u001b[1;33m(\u001b[0m\u001b[1;33m[\u001b[0m\u001b[1;33m[\u001b[0m\u001b[1;36m1\u001b[0m\u001b[1;33m,\u001b[0m \u001b[1;33m-\u001b[0m\u001b[1;36m1\u001b[0m\u001b[1;33m]\u001b[0m\u001b[1;33m,\u001b[0m \u001b[1;33m[\u001b[0m\u001b[1;33m-\u001b[0m\u001b[1;36m1\u001b[0m\u001b[1;33m,\u001b[0m \u001b[1;36m1\u001b[0m\u001b[1;33m]\u001b[0m\u001b[1;33m]\u001b[0m\u001b[1;33m)\u001b[0m\u001b[1;33m\u001b[0m\u001b[0m\n\u001b[1;32m----> 2\u001b[1;33m \u001b[0mvcv\u001b[0m \u001b[1;33m=\u001b[0m \u001b[0mres\u001b[0m\u001b[1;33m.\u001b[0m\u001b[0mhess_inv\u001b[0m\u001b[1;33m.\u001b[0m\u001b[0mtodense\u001b[0m\u001b[1;33m(\u001b[0m\u001b[1;33m)\u001b[0m\u001b[1;33m*\u001b[0m\u001b[0mOffDiagNeg\u001b[0m\u001b[1;33m\u001b[0m\u001b[0m\n\u001b[0m\u001b[0;32m      3\u001b[0m \u001b[0mprint\u001b[0m\u001b[1;33m(\u001b[0m\u001b[1;34m'VCV = '\u001b[0m\u001b[1;33m,\u001b[0m \u001b[0mvcv\u001b[0m\u001b[1;33m)\u001b[0m\u001b[1;33m\u001b[0m\u001b[0m\n",
      "\u001b[1;31mValueError\u001b[0m: operands could not be broadcast together with shapes (5,5) (2,2) "
     ]
    }
   ],
   "source": [
    "OffDiagNeg = np.array([[1, -1], [-1, 1]]) \n",
    "vcv = res.hess_inv.todense()*OffDiagNeg\n",
    "print('VCV = ', vcv)"
   ]
  },
  {
   "cell_type": "markdown",
   "metadata": {},
   "source": [
    "**Part (b)** Likelihood ratio test with $H_0: \\beta_0 = 1.0, \\; \\sigma^2 = 0.01, \\beta_1,\\beta_2\\beta_3 = 0$."
   ]
  },
  {
   "cell_type": "code",
   "execution_count": 42,
   "metadata": {},
   "outputs": [
    {
     "name": "stdout",
     "output_type": "stream",
     "text": [
      "P-Value =  0.0\n"
     ]
    }
   ],
   "source": [
    "h0 = log_like_reg(sick.iloc[:, 1:].values, sick[\"sick\"].values, [1,0,0,0], 0.1)\n",
    "mle = log_like_reg(sick.iloc[:, 1:].values, sick[\"sick\"].values, res.x[:4], res.x[4])\n",
    "ratio = 2 * (mle - h0)\n",
    "p = 1.0 - sts.chi2.cdf(ratio, 2)\n",
    "print('P-Value = ', p)"
   ]
  },
  {
   "cell_type": "markdown",
   "metadata": {},
   "source": [
    "Thus we can reject $H_0$ since our p-value is very low."
   ]
  },
  {
   "cell_type": "markdown",
   "metadata": {},
   "source": [
    "## References\n",
    "\n",
    "Evans, Rick. \"Maximum Likelihood Estimation.\" Lecture Notes, MACS 30100 (Winter 2018)."
   ]
  },
  {
   "cell_type": "code",
   "execution_count": null,
   "metadata": {
    "collapsed": true
   },
   "outputs": [],
   "source": []
  }
 ],
 "metadata": {
  "kernelspec": {
   "display_name": "Python 3",
   "language": "python",
   "name": "python3"
  },
  "language_info": {
   "codemirror_mode": {
    "name": "ipython",
    "version": 3
   },
   "file_extension": ".py",
   "mimetype": "text/x-python",
   "name": "python",
   "nbconvert_exporter": "python",
   "pygments_lexer": "ipython3",
   "version": "3.6.1"
  }
 },
 "nbformat": 4,
 "nbformat_minor": 2
}
