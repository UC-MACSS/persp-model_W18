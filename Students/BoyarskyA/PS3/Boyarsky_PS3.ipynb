{
 "cells": [
  {
   "cell_type": "markdown",
   "metadata": {},
   "source": [
    "# Problem Set 3\n",
    "\n",
    "Ari Boyarsky\n",
    "\n",
    "aboyarsky@uchicago.edu\n",
    "\n",
    "First we import requisite packages:"
   ]
  },
  {
   "cell_type": "code",
   "execution_count": 786,
   "metadata": {
    "collapsed": true
   },
   "outputs": [],
   "source": [
    "import pandas as pd\n",
    "import numpy as np\n",
    "import matplotlib.pyplot as plt\n",
    "from scipy.optimize import minimize\n",
    "import scipy.stats as sts\n",
    "from scipy import integrate\n",
    "from scipy.stats import lognorm\n",
    "import numpy.linalg as la\n",
    "import math"
   ]
  },
  {
   "cell_type": "markdown",
   "metadata": {},
   "source": [
    "### Problem 1\n",
    "\n",
    "**Part (a)** Plota histogram of *income.txt* with 30 bins."
   ]
  },
  {
   "cell_type": "code",
   "execution_count": 787,
   "metadata": {},
   "outputs": [
    {
     "data": {
      "text/html": [
       "<div>\n",
       "<style>\n",
       "    .dataframe thead tr:only-child th {\n",
       "        text-align: right;\n",
       "    }\n",
       "\n",
       "    .dataframe thead th {\n",
       "        text-align: left;\n",
       "    }\n",
       "\n",
       "    .dataframe tbody tr th {\n",
       "        vertical-align: top;\n",
       "    }\n",
       "</style>\n",
       "<table border=\"1\" class=\"dataframe\">\n",
       "  <thead>\n",
       "    <tr style=\"text-align: right;\">\n",
       "      <th></th>\n",
       "      <th>Income</th>\n",
       "    </tr>\n",
       "  </thead>\n",
       "  <tbody>\n",
       "    <tr>\n",
       "      <th>0</th>\n",
       "      <td>53711.544399</td>\n",
       "    </tr>\n",
       "    <tr>\n",
       "      <th>1</th>\n",
       "      <td>99731.233349</td>\n",
       "    </tr>\n",
       "    <tr>\n",
       "      <th>2</th>\n",
       "      <td>84773.605417</td>\n",
       "    </tr>\n",
       "    <tr>\n",
       "      <th>3</th>\n",
       "      <td>75184.025931</td>\n",
       "    </tr>\n",
       "    <tr>\n",
       "      <th>4</th>\n",
       "      <td>73390.955933</td>\n",
       "    </tr>\n",
       "  </tbody>\n",
       "</table>\n",
       "</div>"
      ],
      "text/plain": [
       "         Income\n",
       "0  53711.544399\n",
       "1  99731.233349\n",
       "2  84773.605417\n",
       "3  75184.025931\n",
       "4  73390.955933"
      ]
     },
     "execution_count": 787,
     "metadata": {},
     "output_type": "execute_result"
    }
   ],
   "source": [
    "incomes = pd.read_csv(\"incomes.txt\", header = None)\n",
    "incomes.rename(columns={0: 'Income'}, inplace=True)\n",
    "incomes.head()"
   ]
  },
  {
   "cell_type": "code",
   "execution_count": 788,
   "metadata": {},
   "outputs": [
    {
     "data": {
      "image/png": "[encoded data removed]",
      "text/plain": [
       "<matplotlib.figure.Figure at 0x28ffcb0d588>"
      ]
     },
     "metadata": {},
     "output_type": "display_data"
    }
   ],
   "source": [
    "plt.hist(incomes[\"Income\"], bins = 30, normed=True)\n",
    "plt.ylabel(\"Normed Count\")\n",
    "plt.xlabel(\"Income (USD)\")\n",
    "plt.title(\"Histogram of Incomes\")\n",
    "plt.show()"
   ]
  },
  {
   "cell_type": "markdown",
   "metadata": {},
   "source": [
    "**Part (b)** Estimate lognormal parameters using GMM. Using avg income, and std. dev. of income as two momemnts. Let $\\hat{\\textbf{W}} = \\textbf{I}$. Plot estimated pdf against histogram.\n",
    "\n",
    "We use the lognormal pdf from the previous problem set."
   ]
  },
  {
   "cell_type": "code",
   "execution_count": 789,
   "metadata": {},
   "outputs": [],
   "source": [
    "# PDF of log norm\n",
    "def log_norm(x, mu, sd):\n",
    "    '''\n",
    "    --------------------------------------------------------------------\n",
    "    This function simulates a log normal pdf with mean mu \n",
    "    and variance sigma^2 (sd sigma).  \n",
    "    --------------------------------------------------------------------\n",
    "    INPUTS:\n",
    "    x: vector (array), log normally dist. rand var\n",
    "    mu: scalar, log normal mean\n",
    "    sd: scalar > 0, std dev of log normal\n",
    "    --------------------------------------------------------------------\n",
    "    RETURNS: value of pdf\n",
    "    --------------------------------------------------------------------\n",
    "    '''\n",
    "    sigma = sd\n",
    "    return ((1/(x*sigma*np.sqrt(2*np.pi)))*np.exp(-(((np.log(x)-mu)**2)/(2*(sigma**2)))))\n",
    "\n",
    "    "
   ]
  },
  {
   "cell_type": "markdown",
   "metadata": {},
   "source": [
    "Now, we define our criterion function:"
   ]
  },
  {
   "cell_type": "code",
   "execution_count": 790,
   "metadata": {},
   "outputs": [],
   "source": [
    "# This section is heavily based on lecture notes by Dr. Rick Evans (Winter 2018).\n",
    "def data_moments(x):\n",
    "    mean = x.mean()\n",
    "    sd = np.sqrt(x.var())\n",
    "    \n",
    "    return mean, sd\n",
    "\n",
    "def model_moments(mu, sd):\n",
    "    # expection of x ~ LN, then E(x) = int(xf(x))\n",
    "    #(mean, e) = integrate.quad(lambda x: x * log_norm(x, mu, sd), 0.001, np.inf)\n",
    "    #(mean, e) = integrate.quad(lambda x: x * log_norm(x, mu, sd), 1e-10, np.inf)\n",
    "    #mean = np.log(mean)\n",
    "    # Recall, variance is given by Var(X) = E(X)^2 - E(X^2) = E(X^2 - mu), thus\n",
    "    #(sd, e) = integrate.quad(lambda x: ((x**2) * log_norm(x, mu, sd)), 1e-10, np.inf)\n",
    "    #(sd, e) = integrate.quad(lambda x: ((x**2) * sts.norm.pdf(x, mu, sd)), 1e-10, np.inf)\n",
    "    #variance = np.log(variance)\n",
    "    #variance = mean**2 - variance   \n",
    "    \n",
    "    # Integrating the log normal rsults yields improper results with a large error and little stability,\n",
    "    # thus, I choose the analytic formulas for mean and variance as these are more consistent\n",
    "    var = sd**2\n",
    "    mean = np.exp(mu + (var/2))\n",
    "    sd = np.sqrt((np.exp(var)-1)*(np.exp(2*mu + var)))\n",
    "                                  \n",
    "    return mean, sd\n",
    "\n",
    "def errs(x, mu, sd):\n",
    "    dm = np.array(data_moments(x)).reshape((2,1))\n",
    "    mm = np.array(model_moments(mu, sd)).reshape((2,1))\n",
    "    return ((dm - mm)/dm)\n",
    "\n",
    "def criterion(params, *args):\n",
    "    mu, sd = params\n",
    "    x, W = args \n",
    "    err = errs(x, mu, sd)\n",
    "    return np.dot(np.dot(err.T, W), err)\n"
   ]
  },
  {
   "cell_type": "code",
   "execution_count": 791,
   "metadata": {},
   "outputs": [],
   "source": [
    "mu = np.log(incomes[\"Income\"].values).mean()\n",
    "sd = np.sqrt(np.log(incomes[\"Income\"].values).var())\n",
    "params = np.array([mu, sd])\n",
    "res = minimize(criterion, params, args=(incomes[\"Income\"].values, np.eye(2)), method='L-BFGS-B', bounds=((None, None), (1e-10, None)))"
   ]
  },
  {
   "cell_type": "code",
   "execution_count": 792,
   "metadata": {},
   "outputs": [
    {
     "data": {
      "text/plain": [
       "array([ 11.33188484,   0.20869633])"
      ]
     },
     "execution_count": 792,
     "metadata": {},
     "output_type": "execute_result"
    }
   ],
   "source": [
    "res.x"
   ]
  },
  {
   "cell_type": "code",
   "execution_count": 828,
   "metadata": {},
   "outputs": [
    {
     "data": {
      "image/png": "[encoded data removed]",
      "text/plain": [
       "<matplotlib.figure.Figure at 0x28ffe15df98>"
      ]
     },
     "metadata": {},
     "output_type": "display_data"
    }
   ],
   "source": [
    "plt.clf()\n",
    "plt.hist(incomes[\"Income\"], bins = 30, normed=True)\n",
    "x = np.linspace(1e-10,150000)\n",
    "plt.plot(x, log_norm(x, res.x[0], res.x[1]),\n",
    "         linewidth=2, color='r', label='1: $\\mu$='+str(res.x[0])+',$\\sigma$='+str(res.x[1]))\n",
    "plt.ylabel(\"Normed Count\")\n",
    "plt.xlabel(\"Income (USD)\")\n",
    "plt.title(\"Histogram of Incomes\")\n",
    "plt.legend()\n",
    "plt.show()"
   ]
  },
  {
   "cell_type": "code",
   "execution_count": 834,
   "metadata": {},
   "outputs": [
    {
     "name": "stdout",
     "output_type": "stream",
     "text": [
      "Data Mean  = 85276.82360625808 , Data SD = 18037.6928694\n",
      "Model Mean = 85277.1583751 , Model SD = 17992.5836974\n",
      "Error vector= [ -3.92567258e-06   2.50082825e-03]\n",
      "Crit. Function Value=  [  2.07487051e-11]\n"
     ]
    },
    {
     "data": {
      "text/plain": [
       "      fun: array([[  2.07487051e-11]])\n",
       " hess_inv: <2x2 LbfgsInvHessProduct with dtype=float64>\n",
       "      jac: array([  1.24921238e-05,   2.54906503e-05])\n",
       "  message: b'CONVERGENCE: REL_REDUCTION_OF_F_<=_FACTR*EPSMCH'\n",
       "     nfev: 27\n",
       "      nit: 7\n",
       "   status: 0\n",
       "  success: True\n",
       "        x: array([ 11.33188484,   0.20869633])"
      ]
     },
     "execution_count": 834,
     "metadata": {},
     "output_type": "execute_result"
    }
   ],
   "source": [
    "gmm_b_mu, gmm_b_sd = res.x\n",
    "mean_data, sd_data = data_moments(incomes[\"Income\"])\n",
    "mean_model, sd_model = model_moments(res.x[0], res.x[1])\n",
    "err = errs(incomes[\"Income\"], res.x[0], res.x[1]).reshape(2,)\n",
    "print('Data Mean  =', mean_data, ', Data SD =', sd_data)\n",
    "print('Model Mean =', mean_model, ', Model SD =', sd_model)\n",
    "print('Error vector=', err)\n",
    "print('Crit. Function Value= ', res.fun[0])\n",
    "res"
   ]
  },
  {
   "cell_type": "markdown",
   "metadata": {},
   "source": [
    "Thus, the estmated GMM parameter values are $\\mu = 11.331$ and $\\text{std. dev.} = 0.0208$. The data moments and model moments listed above are extremely simmilar. Indeed, our error vectors are quite small. There is a larger gap in SD however. The value of the crit function is $2.07487051E-11$."
   ]
  },
  {
   "cell_type": "markdown",
   "metadata": {},
   "source": [
    "**Part (c)** Two step GMM."
   ]
  },
  {
   "cell_type": "code",
   "execution_count": 795,
   "metadata": {},
   "outputs": [],
   "source": [
    "err1 = errs(incomes[\"Income\"], res.x[0], res.x[1])\n",
    "VCV = np.dot(err1, err1.T) / incomes[\"Income\"].shape[0]\n",
    "W = la.pinv(VCV) \n",
    "params = np.array([res.x[0], res.x[1]])\n",
    "results = minimize(criterion, params, args=(incomes[\"Income\"], W),\n",
    "                       method='L-BFGS-B', bounds=((None, None), (1e-10, None)))"
   ]
  },
  {
   "cell_type": "code",
   "execution_count": 835,
   "metadata": {},
   "outputs": [
    {
     "name": "stdout",
     "output_type": "stream",
     "text": [
      "Data Mean  = 85276.82360625808 , Data sd = 18037.6928694\n",
      "Model Mean = 85277.1583751 , Model sd = 17992.5836974\n",
      "Error vector= [ -3.92567258e-06   2.50082825e-03]\n",
      "Crit. Function Value=  [  2.07487051e-11]\n"
     ]
    },
    {
     "data": {
      "text/plain": [
       "      fun: array([[  2.07487051e-11]])\n",
       " hess_inv: <2x2 LbfgsInvHessProduct with dtype=float64>\n",
       "      jac: array([  1.24921238e-05,   2.54906503e-05])\n",
       "  message: b'CONVERGENCE: REL_REDUCTION_OF_F_<=_FACTR*EPSMCH'\n",
       "     nfev: 27\n",
       "      nit: 7\n",
       "   status: 0\n",
       "  success: True\n",
       "        x: array([ 11.33188484,   0.20869633])"
      ]
     },
     "execution_count": 835,
     "metadata": {},
     "output_type": "execute_result"
    }
   ],
   "source": [
    "mean_data, sd_data = data_moments(incomes[\"Income\"])\n",
    "mean_model, sd_model = model_moments(res.x[0], res.x[1])\n",
    "err = errs(incomes[\"Income\"], res.x[0], res.x[1]).reshape(2,)\n",
    "print('Data Mean  =', mean_data, ', Data sd =', sd_data)\n",
    "print('Model Mean =', mean_model, ', Model sd =', sd_model)\n",
    "print('Error vector=', err)\n",
    "print('Crit. Function Value= ', res.fun[0])\n",
    "res"
   ]
  },
  {
   "cell_type": "code",
   "execution_count": 797,
   "metadata": {},
   "outputs": [
    {
     "data": {
      "image/png": "[encoded data removed]",
      "text/plain": [
       "<matplotlib.figure.Figure at 0x28ffcb1e390>"
      ]
     },
     "metadata": {},
     "output_type": "display_data"
    }
   ],
   "source": [
    "plt.clf()\n",
    "plt.hist(incomes[\"Income\"], bins = 30, normed=True)\n",
    "x = np.linspace(1e-10,150000)\n",
    "plt.plot(x, log_norm(x, gmm_b_mu, gmm_b_sd),\n",
    "         linewidth=2, color='g', label='Part B: $\\mu$='+ str(gmm_b_mu.round(2))+',$\\sigma$='+ str(gmm_b_sd.round(2)))\n",
    "plt.plot(x, log_norm(x, res.x[0], res.x[1]),\n",
    "         linewidth=2, color='r', label='Part C: $\\mu$='+ str(res.x[0].round(2))+',$\\sigma$='+ str(res.x[1].round(2)))\n",
    "plt.ylabel(\"Normed Count\")\n",
    "plt.xlabel(\"Income (USD)\")\n",
    "plt.title(\"Histogram of Incomes\")\n",
    "plt.legend()\n",
    "plt.show()"
   ]
  },
  {
   "cell_type": "markdown",
   "metadata": {},
   "source": [
    "Again, the estmated GMM parameter values are $\\mu = 11.331$ and $\\text{std. dev.} = 0.0208$. The data moments and model moments listed above are extremely simmilar. Indeed, our error vectors are quite small. There is a larger gap in SD however. The value of the crit function is $2.07487051E-11$. Same values as part b. This must be becuase our initial estimate was very good, so two-step had little effect. "
   ]
  },
  {
   "cell_type": "markdown",
   "metadata": {},
   "source": [
    "**Part (d)** Using percent of individuals who earn less than $75,000, between $75,000 and \\$100,000 and more than $100,000 as moments."
   ]
  },
  {
   "cell_type": "code",
   "execution_count": 814,
   "metadata": {
    "collapsed": true
   },
   "outputs": [],
   "source": [
    "def new_data_moments(x):\n",
    "    N = len(x)\n",
    "    i = np.array(x)\n",
    "    m_un = sum(i < 75000)/N\n",
    "    m_bet = np.all((i >= 75000, i <= 100000), axis = 0).sum()/N\n",
    "    m_up = sum(i > 100000)/N\n",
    "    \n",
    "    return m_un, m_bet, m_up\n",
    "\n",
    "def cdf_LN(x, mu, sd):\n",
    "    return integrate.quad(lambda x: log_norm(x, mu, sd), 1e-10, x)\n",
    "\n",
    "def new_model_moments(mu, sd):\n",
    "    m_un = cdf_LN(75000, mu, sd)[0]\n",
    "    m_bet = cdf_LN(100000, mu, sd)[0] - m_un\n",
    "    m_up = 1 - cdf_LN(100000, mu, sd)[0]\n",
    "    return m_un, m_bet, m_up\n",
    "\n",
    "def new_errs(x, mu, sd):\n",
    "    md = np.array(new_data_moments(x)).reshape((3,1))\n",
    "    mm = np.array(new_model_moments(mu, sd)).reshape((3,1))\n",
    "    return (md - mm)/md\n",
    "\n",
    "def new_criterion(params, *args):\n",
    "    mu, sd = params\n",
    "    x, W = args \n",
    "    err = new_errs(x, mu, sd)\n",
    "    return err.T @ W @ err"
   ]
  },
  {
   "cell_type": "code",
   "execution_count": 815,
   "metadata": {},
   "outputs": [],
   "source": [
    "params = np.array([11, 0.5])\n",
    "resd = minimize(new_criterion, params, args=(incomes[\"Income\"].values, np.eye(3)), method='L-BFGS-B', bounds=((None, None), (0.001, None)))"
   ]
  },
  {
   "cell_type": "code",
   "execution_count": 816,
   "metadata": {},
   "outputs": [
    {
     "data": {
      "text/plain": [
       "array([ 11.33568132,   0.21059845])"
      ]
     },
     "execution_count": 816,
     "metadata": {},
     "output_type": "execute_result"
    }
   ],
   "source": [
    "resd.x"
   ]
  },
  {
   "cell_type": "code",
   "execution_count": 833,
   "metadata": {},
   "outputs": [
    {
     "name": "stdout",
     "output_type": "stream",
     "text": [
      "Data: Under 75:  = 0.3 , Data Between 75-100 = 0.5 , Over 100k =  0.2\n",
      "Data: Under 75:  = 0.30000000683293615 , Data Between 75-100 = 0.5000000086205884 , Over 100k =  0.1999999845464755\n",
      "Error vector= [-0.00420802 -0.0110255 ]\n",
      "Crit. Function Value=  [  6.78631052e-15]\n"
     ]
    },
    {
     "data": {
      "text/plain": [
       "      fun: array([[  6.78631052e-15]])\n",
       " hess_inv: <2x2 LbfgsInvHessProduct with dtype=float64>\n",
       "      jac: array([ -5.06880213e-07,  -3.16122863e-07])\n",
       "  message: b'CONVERGENCE: NORM_OF_PROJECTED_GRADIENT_<=_PGTOL'\n",
       "     nfev: 63\n",
       "      nit: 8\n",
       "   status: 0\n",
       "  success: True\n",
       "        x: array([ 11.33568132,   0.21059845])"
      ]
     },
     "execution_count": 833,
     "metadata": {},
     "output_type": "execute_result"
    }
   ],
   "source": [
    "under, between, over = new_data_moments(incomes[\"Income\"])\n",
    "under_model, between_model, over_model = new_model_moments(resd.x[0], resd.x[1])\n",
    "err = errs(incomes[\"Income\"], resd.x[0], resd.x[1]).reshape(2,)\n",
    "print('Data: Under 75:  =', under, ', Data Between 75-100 =', between, ', Over 100k = ',over)\n",
    "print('Data: Under 75:  =', under_model, ', Data Between 75-100 =', between_model, ', Over 100k = ',over_model)\n",
    "print('Error vector=', err)\n",
    "print('Crit. Function Value= ', resd.fun[0])\n",
    "resd"
   ]
  },
  {
   "cell_type": "code",
   "execution_count": 818,
   "metadata": {
    "scrolled": true
   },
   "outputs": [
    {
     "data": {
      "image/png": "[encoded data removed]",
      "text/plain": [
       "<matplotlib.figure.Figure at 0x28ffdcc3ef0>"
      ]
     },
     "metadata": {},
     "output_type": "display_data"
    }
   ],
   "source": [
    "plt.clf()\n",
    "plt.hist(incomes[\"Income\"], bins = 30, normed=True)\n",
    "x = np.linspace(1e-10,150000)\n",
    "plt.plot(x, log_norm(x, gmm_b_mu, gmm_b_sd),\n",
    "         linewidth=2, color='g', label='Part B: $\\mu$='+ str(gmm_b_mu.round(2))+',$\\sigma$='+ str(gmm_b_sd.round(2)))\n",
    "plt.plot(x, log_norm(x, res.x[0], res.x[1]),\n",
    "         linewidth=2, color='r', label='Part C: $\\mu$='+ str(res.x[0].round(2))+',$\\sigma$='+ str(res.x[1].round(2)))\n",
    "plt.plot(x, log_norm(x, resd.x[0], resd.x[1]),\n",
    "         linewidth=2, color='y', label='Part D: $\\mu$='+ str(resd.x[0].round(2))+',$\\sigma$='+ str(resd.x[1].round(2)))\n",
    "plt.ylabel(\"Normed Count\")\n",
    "plt.xlabel(\"Income (USD)\")\n",
    "plt.title(\"Histogram of Incomes\")\n",
    "plt.legend()\n",
    "plt.show()"
   ]
  },
  {
   "cell_type": "markdown",
   "metadata": {},
   "source": [
    "The results are a little different this time. Model and data moments are very close as they should be. Error values are larger however, so these moments are not as effetcive it seems. Additionally, the mu and sigma are slightly different. Please note all values are reported above.  "
   ]
  },
  {
   "cell_type": "markdown",
   "metadata": {},
   "source": [
    "**Part (e)** Two step of **(d)**."
   ]
  },
  {
   "cell_type": "code",
   "execution_count": 819,
   "metadata": {},
   "outputs": [],
   "source": [
    "errd = new_errs(incomes[\"Income\"], resd.x[0], resd.x[1])\n",
    "VCV = np.dot(errd, errd.T) / incomes[\"Income\"].shape[0]\n",
    "W = la.pinv(VCV) \n",
    "params = np.array([resd.x[0], resd.x[1]])\n",
    "results_e = minimize(new_criterion, params, args=(incomes[\"Income\"], W),\n",
    "                       method='L-BFGS-B', bounds=((None, None), (1e-10, None)))"
   ]
  },
  {
   "cell_type": "code",
   "execution_count": 832,
   "metadata": {},
   "outputs": [
    {
     "name": "stdout",
     "output_type": "stream",
     "text": [
      "Data: Under 75:  = 0.3 , Data Between 75-100 = 0.5 , Over 100k =  0.2\n",
      "Data: Under 75:  = 0.3000000012241351 , Data Between 75-100 = 0.49999999921763033 , Over 100k =  0.19999999955823455\n",
      "Error vector= [-0.00420802 -0.01102553]\n",
      "Crit. Function Value=  [ 0.24316782]\n"
     ]
    },
    {
     "data": {
      "text/plain": [
       "      fun: array([[ 0.24316782]])\n",
       " hess_inv: <2x2 LbfgsInvHessProduct with dtype=float64>\n",
       "      jac: array([  1.58278462e+10,   7.32155422e+09])\n",
       "  message: b'ABNORMAL_TERMINATION_IN_LNSRCH'\n",
       "     nfev: 138\n",
       "      nit: 2\n",
       "   status: 2\n",
       "  success: False\n",
       "        x: array([ 11.33568133,   0.21059846])"
      ]
     },
     "execution_count": 832,
     "metadata": {},
     "output_type": "execute_result"
    }
   ],
   "source": [
    "under, between, over = new_data_moments(incomes[\"Income\"])\n",
    "under_model, between_model, over_model = new_model_moments(results_e.x[0], results_e.x[1])\n",
    "err = errs(incomes[\"Income\"], results_e.x[0], results_e.x[1]).reshape(2,)\n",
    "print('Data: Under 75:  =', under, ', Data Between 75-100 =', between, ', Over 100k = ',over)\n",
    "print('Data: Under 75:  =', under_model, ', Data Between 75-100 =', between_model, ', Over 100k = ',over_model)\n",
    "print('Error vector=', err)\n",
    "print('Crit. Function Value= ', results_e.fun[0])\n",
    "results_e"
   ]
  },
  {
   "cell_type": "code",
   "execution_count": 821,
   "metadata": {},
   "outputs": [
    {
     "data": {
      "image/png": "[encoded data removed]",
      "text/plain": [
       "<matplotlib.figure.Figure at 0x28ffe0e10f0>"
      ]
     },
     "metadata": {},
     "output_type": "display_data"
    }
   ],
   "source": [
    "plt.clf()\n",
    "plt.hist(incomes[\"Income\"], bins = 30, normed=True)\n",
    "x = np.linspace(1e-10,150000)\n",
    "plt.plot(x, log_norm(x, gmm_b_mu, gmm_b_sd),\n",
    "         linewidth=2, color='g', label='Part B: $\\mu$='+ str(gmm_b_mu.round(2))+',$\\sigma$='+ str(gmm_b_sd.round(2)))\n",
    "plt.plot(x, log_norm(x, res.x[0], res.x[1]),\n",
    "         linewidth=2, color='r', label='Part C: $\\mu$='+ str(res.x[0].round(2))+',$\\sigma$='+ str(res.x[1].round(2)))\n",
    "plt.plot(x, log_norm(x, resd.x[0], resd.x[1]),\n",
    "         linewidth=2, color='y', label='Part D: $\\mu$='+ str(resd.x[0].round(2))+',$\\sigma$='+ str(resd.x[1].round(2)))\n",
    "plt.plot(x, log_norm(x, results_e.x[0], results_e.x[1]),\n",
    "         linewidth=2, color='orange', label='Part E: $\\mu$='+ str(results_e.x[0].round(2))+',$\\sigma$='+ str(results_e.x[1].round(2)))\n",
    "plt.ylabel(\"Normed Count\")\n",
    "plt.xlabel(\"Income (USD)\")\n",
    "plt.title(\"Histogram of Incomes\")\n",
    "plt.legend()\n",
    "plt.show()"
   ]
  },
  {
   "cell_type": "markdown",
   "metadata": {},
   "source": [
    "Results are the same as the previous part. Model and data moments are very close as they should be. Error values are larger however, so these moments are not as effetcive it seems. Additionally, the mu and sigma are slightly different. Please note all values are reported above.  "
   ]
  },
  {
   "cell_type": "markdown",
   "metadata": {},
   "source": [
    "**Part (f)** All four estimates are extremely simmilar. Indeed, they each minimize distance at almost the same parameters. That said I would choose part b's method as mean and std. dev. are perhaps more robust and standard moment choices.Additionally, some tetsing reveals that it is very stable. It also does *not* use two step method and so there is less computational overhead for the same results. Also the moments are perhaps more defensible than the arbitrary moments in (d) and (e). That is mean and sd are more standard and do not use an arbitrary cutoff like 75k and 100k.\n",
    "\n",
    "\n",
    "## Question 2\n",
    "\n",
    "**Part (a)**"
   ]
  },
  {
   "cell_type": "code",
   "execution_count": 837,
   "metadata": {},
   "outputs": [
    {
     "data": {
      "text/html": [
       "<div>\n",
       "<style>\n",
       "    .dataframe thead tr:only-child th {\n",
       "        text-align: right;\n",
       "    }\n",
       "\n",
       "    .dataframe thead th {\n",
       "        text-align: left;\n",
       "    }\n",
       "\n",
       "    .dataframe tbody tr th {\n",
       "        vertical-align: top;\n",
       "    }\n",
       "</style>\n",
       "<table border=\"1\" class=\"dataframe\">\n",
       "  <thead>\n",
       "    <tr style=\"text-align: right;\">\n",
       "      <th></th>\n",
       "      <th>sick</th>\n",
       "      <th>age</th>\n",
       "      <th>children</th>\n",
       "      <th>avgtemp_winter</th>\n",
       "    </tr>\n",
       "  </thead>\n",
       "  <tbody>\n",
       "    <tr>\n",
       "      <th>0</th>\n",
       "      <td>1.67</td>\n",
       "      <td>57.47</td>\n",
       "      <td>3.04</td>\n",
       "      <td>54.10</td>\n",
       "    </tr>\n",
       "    <tr>\n",
       "      <th>1</th>\n",
       "      <td>0.71</td>\n",
       "      <td>26.77</td>\n",
       "      <td>1.20</td>\n",
       "      <td>36.54</td>\n",
       "    </tr>\n",
       "    <tr>\n",
       "      <th>2</th>\n",
       "      <td>1.39</td>\n",
       "      <td>41.85</td>\n",
       "      <td>2.31</td>\n",
       "      <td>32.38</td>\n",
       "    </tr>\n",
       "    <tr>\n",
       "      <th>3</th>\n",
       "      <td>1.37</td>\n",
       "      <td>51.27</td>\n",
       "      <td>2.46</td>\n",
       "      <td>52.94</td>\n",
       "    </tr>\n",
       "    <tr>\n",
       "      <th>4</th>\n",
       "      <td>1.45</td>\n",
       "      <td>44.22</td>\n",
       "      <td>2.72</td>\n",
       "      <td>45.90</td>\n",
       "    </tr>\n",
       "  </tbody>\n",
       "</table>\n",
       "</div>"
      ],
      "text/plain": [
       "   sick    age  children  avgtemp_winter\n",
       "0  1.67  57.47      3.04           54.10\n",
       "1  0.71  26.77      1.20           36.54\n",
       "2  1.39  41.85      2.31           32.38\n",
       "3  1.37  51.27      2.46           52.94\n",
       "4  1.45  44.22      2.72           45.90"
      ]
     },
     "execution_count": 837,
     "metadata": {},
     "output_type": "execute_result"
    }
   ],
   "source": [
    "sick = pd.read_csv(\"sick.txt\")\n",
    "sick.head()"
   ]
  },
  {
   "cell_type": "code",
   "execution_count": 838,
   "metadata": {
    "collapsed": true
   },
   "outputs": [],
   "source": [
    "def ols_data_moment(x):\n",
    "    m = x[\"sick\"].values\n",
    "    return m\n",
    "\n",
    "def ols_model_moment(x, betas):\n",
    "    N = x.shape[0]\n",
    "    X = np.concatenate((np.ones((N,1)),x.values[:,1:]), axis = 1)\n",
    "    return X @ betas\n",
    "\n",
    "def ols_errs(x, betas, W):\n",
    "    errors = ols_model_moment(x, betas) - ols_data_moment(x)\n",
    "    return errors.T @ W @ errors\n",
    "def ols_crit(params, *args):\n",
    "    betas = params\n",
    "    x, W = args \n",
    "    return ols_errs(x, betas, W)\n",
    "   "
   ]
  },
  {
   "cell_type": "code",
   "execution_count": 839,
   "metadata": {},
   "outputs": [],
   "source": [
    "betas_init = np.array([1,1,1,1])\n",
    "ols_res = minimize(ols_crit, betas_init, args=(sick, np.eye(len(sick))), method='L-BFGS-B', bounds=((None, None), (None, None), (None, None), (None, None)))"
   ]
  },
  {
   "cell_type": "code",
   "execution_count": 840,
   "metadata": {},
   "outputs": [
    {
     "name": "stdout",
     "output_type": "stream",
     "text": [
      "Beta 0 = 0.251644217151\n",
      "Beta 1 = 0.0129333956393\n",
      "Beta 2 = 0.400501622583\n",
      "Beta 3 = -0.00999164445085\n"
     ]
    }
   ],
   "source": [
    "for i in range(0, len(ols_res.x)):\n",
    "    print(\"Beta \"+ str(i) +\" = \"+ str(ols_res.x[i]))"
   ]
  },
  {
   "cell_type": "markdown",
   "metadata": {},
   "source": [
    "Notice, that these are the same values that we calculated using MLE. Below we report our resuluts:"
   ]
  },
  {
   "cell_type": "code",
   "execution_count": 844,
   "metadata": {
    "scrolled": true
   },
   "outputs": [
    {
     "name": "stdout",
     "output_type": "stream",
     "text": [
      "Data Moment:  = [ 1.67  0.71  1.39  1.37  1.45  0.62  1.06  1.29  1.05  1.18  1.21  0.63\n",
      "  0.67  0.64  0.86  1.25  0.88  0.12  1.53  1.36  0.73  0.15  0.6   1.28\n",
      "  0.89  0.46  1.03  0.42  0.6   1.86  1.1   1.35  1.11  2.04  0.89  0.69\n",
      "  1.58  0.86  0.81  0.81  1.04  1.68  1.36  0.37  1.05  2.8   1.03  1.22\n",
      "  1.83  1.25  1.02  0.89  1.98  1.51  1.14  1.18  0.79  1.66  1.21  0.5\n",
      "  1.51  0.81  0.64  1.35  0.2   0.66  1.04  1.88  0.55  1.01  0.81  0.95\n",
      "  1.27  0.78  0.9   0.96  0.79  0.56  1.81  1.63  0.63  0.91  0.66  0.53\n",
      "  0.96  2.11  0.07  0.59  1.15  0.11  1.06  1.72  0.26  0.93  1.61  1.48\n",
      "  0.65  1.58  1.16  0.14  0.96  0.65  0.12  0.12  0.86  0.08  1.92  1.56\n",
      "  1.49  1.32  0.13  1.34  0.61  0.97  0.65  0.49  1.18  0.88  0.46  1.42\n",
      "  0.56  0.95  1.52  1.2   1.16  1.3   1.22  0.54  1.47  1.97  0.51  0.05\n",
      "  1.12  0.99  0.91  0.87  0.7   2.12  0.5   0.65  0.8   0.04  2.11  0.78\n",
      "  0.23  0.4   1.19  1.09  2.22  0.79  1.66  1.28  1.9   1.61  0.93  1.11\n",
      "  0.74  1.68  1.72  0.27  0.2   0.57  1.54  0.32  0.79  0.85  0.79  1.32\n",
      "  1.34  1.33  0.91  0.6   1.14  1.15  0.73  0.93  0.88  1.13  0.69  1.23\n",
      "  0.38  1.23  1.03  1.76  0.9   0.32  0.63  1.56  1.06  1.16  0.34  0.33\n",
      "  1.98  0.61  1.    0.53  0.86  1.39  0.72  1.29]\n",
      "Model Moment:  = [ 1.67190343  0.71337848  1.39453613  1.37101575  1.45430691  0.62455414\n",
      "  1.05571343  1.28869145  1.05599713  1.17648953  1.21139255  0.63225581\n",
      "  0.66442429  0.63731091  0.85927955  1.25238767  0.88076147  0.11727409\n",
      "  1.52807771  1.36312497  0.72727872  0.15253     0.59640268  1.27594137\n",
      "  0.89398067  0.45832544  1.02781231  0.42321614  0.60248053  1.86149581\n",
      "  1.09865677  1.34759025  1.11060111  2.04202564  0.89141453  0.69612664\n",
      "  1.5748466   0.86364302  0.81195562  0.80830525  1.0450815   1.6789654\n",
      "  1.35927302  0.37406051  1.04618414  2.80265216  1.03068338  1.22131823\n",
      "  1.83314232  1.25407469  1.02295918  0.8865478   1.97512627  1.50878577\n",
      "  1.14233749  1.18364049  0.78406714  1.66151889  1.20999111  0.50321718\n",
      "  1.50751519  0.81225996  0.64202606  1.35029711  0.20184802  0.66108334\n",
      "  1.04018925  1.87773795  0.54988725  1.00511787  0.81013893  0.94647526\n",
      "  1.27028887  0.78120724  0.89848467  0.9580752   0.78880379  0.56473972\n",
      "  1.81238173  1.62834208  0.62501504  0.91353375  0.65935835  0.52693344\n",
      "  0.9635817   2.10711465  0.07492282  0.59255423  1.14539406  0.11378336\n",
      "  1.05851559  1.72438026  0.2615183   0.93005485  1.60566512  1.47974128\n",
      "  0.64919798  1.58087057  1.16284415  0.13589795  0.95700666  0.64396536\n",
      "  0.11680228  0.11809498  0.86330067  0.07619725  1.91406099  1.55677264\n",
      "  1.48519698  1.32372751  0.13367278  1.34332324  0.60916706  0.96600396\n",
      "  0.64849467  0.49045368  1.17727584  0.87792031  0.4552878   1.4216305\n",
      "  0.55613695  0.9479366   1.51683524  1.20614308  1.16427132  1.30362507\n",
      "  1.22054663  0.54097315  1.46545353  1.9691489   0.50608238  0.05117222\n",
      "  1.11889841  0.98738136  0.91231307  0.86939091  0.7047269   2.1197125\n",
      "  0.49408089  0.65053284  0.8055412   0.04049195  2.11038669  0.78029824\n",
      "  0.22867564  0.39918923  1.18944822  1.09353138  2.22314905  0.78841572\n",
      "  1.66164594  1.27705916  1.90045418  1.60921962  0.93063461  1.10788563\n",
      "  0.73721822  1.67804956  1.71967267  0.26847895  0.20473536  0.56794653\n",
      "  1.54255099  0.31935495  0.78932653  0.85358119  0.79443718  1.31664579\n",
      "  1.34156144  1.32797934  0.90584119  0.59438774  1.14259462  1.14879955\n",
      "  0.73138321  0.9326324   0.87925779  1.12778661  0.68976962  1.22537536\n",
      "  0.38190889  1.23646753  1.03458143  1.76430315  0.89614602  0.32043146\n",
      "  0.62879788  1.56340817  1.05890265  1.15828082  0.34338831  0.32965003\n",
      "  1.97757834  0.6127459   0.99704105  0.52600892  0.86102064  1.39278476\n",
      "  0.72136896  1.28721203]\n",
      "Error vector= [ -3.92567258e-06   2.50082825e-03]\n",
      "Crit. Function Value=  0.00182128982612\n"
     ]
    },
    {
     "data": {
      "text/plain": [
       "      fun: 0.0018212898261221629\n",
       " hess_inv: <4x4 LbfgsInvHessProduct with dtype=float64>\n",
       "      jac: array([  9.27634922e-05,   3.82880576e-03,   1.30814955e-04,\n",
       "         4.91669741e-03])\n",
       "  message: b'CONVERGENCE: REL_REDUCTION_OF_F_<=_FACTR*EPSMCH'\n",
       "     nfev: 110\n",
       "      nit: 14\n",
       "   status: 0\n",
       "  success: True\n",
       "        x: array([ 0.25164422,  0.0129334 ,  0.40050162, -0.00999164])"
      ]
     },
     "execution_count": 844,
     "metadata": {},
     "output_type": "execute_result"
    }
   ],
   "source": [
    "data_m = ols_data_moment(sick)\n",
    "model_m= ols_model_moment(sick, ols_res.x)\n",
    "err_ols = ols_errs(sick, ols_res.x, np.eye(len(sick)))\n",
    "print('Data Moment:  =', data_m)\n",
    "print('Model Moment:  =', model_m)\n",
    "print('Error vector=', err)\n",
    "print('Crit. Function Value= ', ols_res.fun)\n",
    "ols_res"
   ]
  },
  {
   "cell_type": "markdown",
   "metadata": {},
   "source": [
    "### Robustness Check -- Comparison to OLS model"
   ]
  },
  {
   "cell_type": "code",
   "execution_count": 846,
   "metadata": {
    "collapsed": true
   },
   "outputs": [],
   "source": [
    "import statsmodels.formula.api as sm"
   ]
  },
  {
   "cell_type": "code",
   "execution_count": 848,
   "metadata": {},
   "outputs": [],
   "source": [
    "result = sm.ols(formula = \"sick ~ age + children + avgtemp_winter\", data = sick).fit()"
   ]
  },
  {
   "cell_type": "code",
   "execution_count": 851,
   "metadata": {},
   "outputs": [
    {
     "name": "stdout",
     "output_type": "stream",
     "text": [
      "Intercept         0.251641\n",
      "age               0.012934\n",
      "children          0.400499\n",
      "avgtemp_winter   -0.009992\n",
      "dtype: float64\n",
      "                            OLS Regression Results                            \n",
      "==============================================================================\n",
      "Dep. Variable:                   sick   R-squared:                       1.000\n",
      "Model:                            OLS   Adj. R-squared:                  1.000\n",
      "Method:                 Least Squares   F-statistic:                 1.815e+06\n",
      "Date:                Sun, 21 Jan 2018   Prob (F-statistic):               0.00\n",
      "Time:                        14:24:06   Log-Likelihood:                 876.87\n",
      "No. Observations:                 200   AIC:                            -1746.\n",
      "Df Residuals:                     196   BIC:                            -1733.\n",
      "Df Model:                           3                                         \n",
      "Covariance Type:            nonrobust                                         \n",
      "==================================================================================\n",
      "                     coef    std err          t      P>|t|      [0.025      0.975]\n",
      "----------------------------------------------------------------------------------\n",
      "Intercept          0.2516      0.001    254.032      0.000       0.250       0.254\n",
      "age                0.0129   6.49e-05    199.257      0.000       0.013       0.013\n",
      "children           0.4005      0.001    643.790      0.000       0.399       0.402\n",
      "avgtemp_winter    -0.0100   4.51e-05   -221.388      0.000      -0.010      -0.010\n",
      "==============================================================================\n",
      "Omnibus:                       24.095   Durbin-Watson:                   1.997\n",
      "Prob(Omnibus):                  0.000   Jarque-Bera (JB):                7.115\n",
      "Skew:                          -0.002   Prob(JB):                       0.0285\n",
      "Kurtosis:                       2.076   Cond. No.                         290.\n",
      "==============================================================================\n",
      "\n",
      "Warnings:\n",
      "[1] Standard Errors assume that the covariance matrix of the errors is correctly specified.\n"
     ]
    }
   ],
   "source": [
    "print(result.params)\n",
    "print(result.summary())"
   ]
  },
  {
   "cell_type": "code",
   "execution_count": null,
   "metadata": {
    "collapsed": true
   },
   "outputs": [],
   "source": [
    "The same as when we estimated parameters with GMM. $R^2 = 1$ suggests its a perfect fit"
   ]
  }
 ],
 "metadata": {
  "kernelspec": {
   "display_name": "Python 3",
   "language": "python",
   "name": "python3"
  },
  "language_info": {
   "codemirror_mode": {
    "name": "ipython",
    "version": 3
   },
   "file_extension": ".py",
   "mimetype": "text/x-python",
   "name": "python",
   "nbconvert_exporter": "python",
   "pygments_lexer": "ipython3",
   "version": "3.6.1"
  }
 },
 "nbformat": 4,
 "nbformat_minor": 2
}
