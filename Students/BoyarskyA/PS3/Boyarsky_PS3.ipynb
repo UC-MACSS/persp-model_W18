{
 "cells": [
  {
   "cell_type": "markdown",
   "metadata": {},
   "source": [
    "# Problem Set 3\n",
    "\n",
    "Ari Boyarsky\n",
    "\n",
    "aboyarsky@uchicago.edu\n",
    "\n",
    "First we import requisite packages:"
   ]
  },
  {
   "cell_type": "code",
   "execution_count": 559,
   "metadata": {
    "collapsed": true
   },
   "outputs": [],
   "source": [
    "import pandas as pd\n",
    "import numpy as np\n",
    "import matplotlib.pyplot as plt\n",
    "from scipy.optimize import minimize\n",
    "import scipy.stats as sts\n",
    "from scipy import integrate\n",
    "from scipy.stats import lognorm\n",
    "import numpy.linalg as la\n",
    "import math"
   ]
  },
  {
   "cell_type": "markdown",
   "metadata": {},
   "source": [
    "### Problem 1\n",
    "\n",
    "**Part (a)** Plota histogram of *income.txt* with 30 bins."
   ]
  },
  {
   "cell_type": "code",
   "execution_count": 560,
   "metadata": {},
   "outputs": [
    {
     "data": {
      "text/html": [
       "<div>\n",
       "<style>\n",
       "    .dataframe thead tr:only-child th {\n",
       "        text-align: right;\n",
       "    }\n",
       "\n",
       "    .dataframe thead th {\n",
       "        text-align: left;\n",
       "    }\n",
       "\n",
       "    .dataframe tbody tr th {\n",
       "        vertical-align: top;\n",
       "    }\n",
       "</style>\n",
       "<table border=\"1\" class=\"dataframe\">\n",
       "  <thead>\n",
       "    <tr style=\"text-align: right;\">\n",
       "      <th></th>\n",
       "      <th>Income</th>\n",
       "    </tr>\n",
       "  </thead>\n",
       "  <tbody>\n",
       "    <tr>\n",
       "      <th>0</th>\n",
       "      <td>53711.544399</td>\n",
       "    </tr>\n",
       "    <tr>\n",
       "      <th>1</th>\n",
       "      <td>99731.233349</td>\n",
       "    </tr>\n",
       "    <tr>\n",
       "      <th>2</th>\n",
       "      <td>84773.605417</td>\n",
       "    </tr>\n",
       "    <tr>\n",
       "      <th>3</th>\n",
       "      <td>75184.025931</td>\n",
       "    </tr>\n",
       "    <tr>\n",
       "      <th>4</th>\n",
       "      <td>73390.955933</td>\n",
       "    </tr>\n",
       "  </tbody>\n",
       "</table>\n",
       "</div>"
      ],
      "text/plain": [
       "         Income\n",
       "0  53711.544399\n",
       "1  99731.233349\n",
       "2  84773.605417\n",
       "3  75184.025931\n",
       "4  73390.955933"
      ]
     },
     "execution_count": 560,
     "metadata": {},
     "output_type": "execute_result"
    }
   ],
   "source": [
    "incomes = pd.read_csv(\"incomes.txt\", header = None)\n",
    "incomes.rename(columns={0: 'Income'}, inplace=True)\n",
    "incomes.head()"
   ]
  },
  {
   "cell_type": "code",
   "execution_count": 561,
   "metadata": {},
   "outputs": [
    {
     "data": {
      "image/png": "[encoded data removed]",
      "text/plain": [
       "<matplotlib.figure.Figure at 0x28ff50d89e8>"
      ]
     },
     "metadata": {},
     "output_type": "display_data"
    }
   ],
   "source": [
    "plt.hist(incomes[\"Income\"], bins = 30, normed=True)\n",
    "plt.ylabel(\"Normed Count\")\n",
    "plt.xlabel(\"Income (USD)\")\n",
    "plt.title(\"Histogram of Incomes\")\n",
    "plt.show()"
   ]
  },
  {
   "cell_type": "markdown",
   "metadata": {},
   "source": [
    "**Part (b)** Estimate lognormal parameters using GMM. Using avg income, and std. dev. of income as two momemnts. Let $\\hat{\\textbf{W}} = \\textbf{I}$. Plot estimated pdf against histogram.\n",
    "\n",
    "We use the lognormal pdf from the previous problem set."
   ]
  },
  {
   "cell_type": "code",
   "execution_count": 562,
   "metadata": {},
   "outputs": [],
   "source": [
    "# PDF of log norm\n",
    "def log_norm(x, mu, var):\n",
    "    '''\n",
    "    --------------------------------------------------------------------\n",
    "    This function simulates a log normal pdf with mean mu \n",
    "    and variance sigma^2.  \n",
    "    --------------------------------------------------------------------\n",
    "    INPUTS:\n",
    "    x: vector (array), log normally dist. rand var\n",
    "    mu: scalar, log normal mean\n",
    "    var: scalar > 0, variance of log normal\n",
    "    --------------------------------------------------------------------\n",
    "    RETURNS: value of pdf\n",
    "    --------------------------------------------------------------------\n",
    "    '''\n",
    "    sigma = np.sqrt(var)\n",
    "    return ((1/(x*sigma*np.sqrt(2*np.pi)))*np.exp(-(((np.log(x)-mu)**2)/(2*(sigma**2)))))\n",
    "    "
   ]
  },
  {
   "cell_type": "markdown",
   "metadata": {},
   "source": [
    "Now, we define our criterion function:"
   ]
  },
  {
   "cell_type": "code",
   "execution_count": 563,
   "metadata": {},
   "outputs": [],
   "source": [
    "# This section is heavily based on lecture notes by Dr. Rick Evans (Winter 2018).\n",
    "\n",
    "def data_moments(x):\n",
    "    mean = np.log(x).mean()\n",
    "    var = np.log(x).var()\n",
    "    \n",
    "    return mean, var\n",
    "\n",
    "def model_moments(mu, var):\n",
    "    # expection of x ~ LN, then E(x) = int(xf(x))\n",
    "    xfx = lambda y: y * log_norm(y, mu, var)\n",
    "    (mean, e) = integrate.quad(xfx, 1e-10, np.inf)\n",
    "    \n",
    "    # Recall, variance is given by Var(X) = E(X)^2 - E(X^2) = E(X^2 - mu), thus\n",
    "    x2fx = lambda y: ((y-mean)**2) * log_norm(y, mu, var)\n",
    "    (variance, e) = integrate.quad(x2fx, 1e-10, np.inf)\n",
    "    return mean, variance\n",
    "\n",
    "def errs(x, mu, var):\n",
    "    mean_data, var_data = data_moments(x)\n",
    "    mean_model, var_model = model_moments(mu, var)\n",
    "    return (np.array([[mean_data], [var_data]]) - np.array([[mean_model], [var_model]]))/np.array([[mean_data], [var_data]])\n",
    "\n",
    "def criterion(params, *args):\n",
    "    mu, var = params\n",
    "    x, W = args \n",
    "    err = errs(x, mu, var)\n",
    "    return np.dot(np.dot(err.T, W), err)\n"
   ]
  },
  {
   "cell_type": "code",
   "execution_count": 564,
   "metadata": {},
   "outputs": [],
   "source": [
    "mu = np.log(incomes[\"Income\"].values).mean()\n",
    "var = np.log(incomes[\"Income\"].values).var()\n",
    "params = np.array([mu, var])\n",
    "res = minimize(criterion, params, args=(incomes[\"Income\"].values, np.eye(2)), method='L-BFGS-B', bounds=((None, None), (0.001, None)))"
   ]
  },
  {
   "cell_type": "code",
   "execution_count": 565,
   "metadata": {},
   "outputs": [
    {
     "data": {
      "text/plain": [
       "array([ 11.33144034,   0.04480613])"
      ]
     },
     "execution_count": 565,
     "metadata": {},
     "output_type": "execute_result"
    }
   ],
   "source": [
    "res.x"
   ]
  },
  {
   "cell_type": "code",
   "execution_count": 566,
   "metadata": {},
   "outputs": [
    {
     "data": {
      "image/png": "[encoded data removed]",
      "text/plain": [
       "<matplotlib.figure.Figure at 0x28ff541d7f0>"
      ]
     },
     "metadata": {},
     "output_type": "display_data"
    }
   ],
   "source": [
    "plt.clf()\n",
    "plt.hist(incomes[\"Income\"], bins = 30, normed=True)\n",
    "x = np.linspace(1e-10,150000)\n",
    "plt.plot(x, log_norm(x, res.x[0], res.x[1]),\n",
    "         linewidth=2, color='r', label='1: $\\mu$=11,$\\sigma$=0.5')\n",
    "plt.ylabel(\"Normed Count\")\n",
    "plt.xlabel(\"Income (USD)\")\n",
    "plt.title(\"Histogram of Incomes\")\n",
    "plt.show()"
   ]
  },
  {
   "cell_type": "code",
   "execution_count": 567,
   "metadata": {},
   "outputs": [
    {
     "name": "stdout",
     "output_type": "stream",
     "text": [
      "Data Mean  = 11.331440335473287 , Data Var = 0.04503128738631155\n",
      "Model Mean = 1.2355744561578496e-127 , Model Var = 5.771743125631222e-125\n",
      "Error vector= [ 1.  1.]\n"
     ]
    },
    {
     "data": {
      "text/plain": [
       "      fun: array([[ 2.]])\n",
       " hess_inv: <2x2 LbfgsInvHessProduct with dtype=float64>\n",
       "      jac: array([ 0.,  0.])\n",
       "  message: b'CONVERGENCE: NORM_OF_PROJECTED_GRADIENT_<=_PGTOL'\n",
       "     nfev: 3\n",
       "      nit: 0\n",
       "   status: 0\n",
       "  success: True\n",
       "        x: array([ 11.33144034,   0.04480613])"
      ]
     },
     "execution_count": 567,
     "metadata": {},
     "output_type": "execute_result"
    }
   ],
   "source": [
    "gmm_b_mu, gmm_b_var = res.x\n",
    "mean_data, var_data = data_moments(incomes[\"Income\"])\n",
    "mean_model, var_model = model_moments(res.x[0], res.x[1])\n",
    "err = errs(incomes[\"Income\"], res.x[0], res.x[1]).reshape(2,)\n",
    "print('Data Mean  =', mean_data, ', Data Var =', var_data)\n",
    "print('Model Mean =', mean_model, ', Model Var =', var_model)\n",
    "print('Error vector=', err)\n",
    "res"
   ]
  },
  {
   "cell_type": "markdown",
   "metadata": {},
   "source": [
    "Thus, the estmated GMM parameter values are $\\mu = 11.331$ and $\\text{variance} = 0.0448$. The data parameters are $\\mu = $ and variance $= $. The two data and model moments are very far apart which makes little sense. However the estimated results estimate the distribution well."
   ]
  },
  {
   "cell_type": "markdown",
   "metadata": {},
   "source": [
    "**Part (c)** Two step GMM."
   ]
  },
  {
   "cell_type": "code",
   "execution_count": 568,
   "metadata": {},
   "outputs": [],
   "source": [
    "err1 = errs(incomes[\"Income\"], res.x[0], res.x[1])\n",
    "VCV = np.dot(err1, err1.T) / incomes[\"Income\"].shape[0]\n",
    "W = la.pinv(VCV) \n",
    "params = np.array([res.x[0], res.x[1]])\n",
    "results = minimize(criterion, params, args=(incomes[\"Income\"], W),\n",
    "                       method='L-BFGS-B', bounds=((None, None), (1e-10, None)))"
   ]
  },
  {
   "cell_type": "code",
   "execution_count": 569,
   "metadata": {},
   "outputs": [
    {
     "name": "stdout",
     "output_type": "stream",
     "text": [
      "Data Mean  = 11.331440335473287 , Data Var = 0.04503128738631155\n",
      "Model Mean = 1.2355744561578496e-127 , Model Var = 5.771743125631222e-125\n",
      "Error vector= [ 1.  1.]\n"
     ]
    },
    {
     "data": {
      "text/plain": [
       "      fun: array([[ 2.]])\n",
       " hess_inv: <2x2 LbfgsInvHessProduct with dtype=float64>\n",
       "      jac: array([ 0.,  0.])\n",
       "  message: b'CONVERGENCE: NORM_OF_PROJECTED_GRADIENT_<=_PGTOL'\n",
       "     nfev: 3\n",
       "      nit: 0\n",
       "   status: 0\n",
       "  success: True\n",
       "        x: array([ 11.33144034,   0.04480613])"
      ]
     },
     "execution_count": 569,
     "metadata": {},
     "output_type": "execute_result"
    }
   ],
   "source": [
    "mean_data, var_data = data_moments(incomes[\"Income\"])\n",
    "mean_model, var_model = model_moments(res.x[0], res.x[1])\n",
    "err = errs(incomes[\"Income\"], res.x[0], res.x[1]).reshape(2,)\n",
    "print('Data Mean  =', mean_data, ', Data Var =', var_data)\n",
    "print('Model Mean =', mean_model, ', Model Var =', var_model)\n",
    "print('Error vector=', err)\n",
    "res"
   ]
  },
  {
   "cell_type": "code",
   "execution_count": 570,
   "metadata": {},
   "outputs": [
    {
     "data": {
      "image/png": "[encoded data removed]",
      "text/plain": [
       "<matplotlib.figure.Figure at 0x28ff45fe7b8>"
      ]
     },
     "metadata": {},
     "output_type": "display_data"
    }
   ],
   "source": [
    "plt.clf()\n",
    "plt.hist(incomes[\"Income\"], bins = 30, normed=True)\n",
    "x = np.linspace(1e-10,150000)\n",
    "plt.plot(x, log_norm(x, gmm_b_mu, gmm_b_var),\n",
    "         linewidth=2, color='g', label='Part B: $\\mu$='+ str(gmm_b_mu.round(2))+',$\\sigma$='+ str(gmm_b_var.round(2)))\n",
    "plt.plot(x, log_norm(x, res.x[0], res.x[1]),\n",
    "         linewidth=2, color='r', label='Part C: $\\mu$='+ str(res.x[0].round(2))+',$\\sigma$='+ str(res.x[1].round(2)))\n",
    "plt.ylabel(\"Normed Count\")\n",
    "plt.xlabel(\"Income (USD)\")\n",
    "plt.title(\"Histogram of Incomes\")\n",
    "plt.legend()\n",
    "plt.show()"
   ]
  },
  {
   "cell_type": "markdown",
   "metadata": {},
   "source": [
    "**Part (d)** Using percent of individuals who earn less than $75,000, between $75,000 and $100,000 and more than $100,000 as moments."
   ]
  },
  {
   "cell_type": "code",
   "execution_count": 580,
   "metadata": {
    "collapsed": true
   },
   "outputs": [],
   "source": [
    "def new_data_moments(x):\n",
    "    N = len(x)\n",
    "    i = np.array(x)\n",
    "    m_un = sum(i < 75000)/N\n",
    "    m_bet = np.all((i >= 75000, i <= 100000), axis = 0).sum()/N\n",
    "    m_up = sum(i > 100000)/N\n",
    "    \n",
    "    return m_un, m_bet, m_up\n",
    "\n",
    "def cdf_LN(x, mu, var):\n",
    "    return integrate.quad(lambda x: log_norm(x, mu, var), 0, x)\n",
    "\n",
    "def new_model_moments(mu, var):\n",
    "    m_un = cdf_LN(75000, mu, var)[0]\n",
    "    m_bet = cdf_LN(100000, mu, var)[0] - m_un\n",
    "    m_up = 1 - cdf_LN(100000, mu, var)[0]\n",
    "    return m_un, m_bet, m_up\n",
    "\n",
    "def new_errs(x, mu, var):\n",
    "    md = np.array(new_data_moments(x)).reshape((3,1))\n",
    "    mm = np.array(new_model_moments(mu, var)).reshape((3,1))\n",
    "    return (md - mm)/md\n",
    "\n",
    "def new_criterion(params, *args):\n",
    "    mu, var = params\n",
    "    x, W = args \n",
    "    err = new_errs(x, mu, var)\n",
    "    return err.T @ W @ err"
   ]
  },
  {
   "cell_type": "code",
   "execution_count": 581,
   "metadata": {},
   "outputs": [],
   "source": [
    "mu = np.log(incomes[\"Income\"].values).mean()\n",
    "var = np.log(incomes[\"Income\"].values).var()\n",
    "params = np.array([11, 0.5])\n",
    "resd = minimize(new_criterion, params, args=(incomes[\"Income\"].values, np.eye(3)), method='L-BFGS-B', bounds=((None, None), (0.001, None)))"
   ]
  },
  {
   "cell_type": "code",
   "execution_count": 582,
   "metadata": {},
   "outputs": [
    {
     "data": {
      "text/plain": [
       "array([ 11.33568134,   0.04435172])"
      ]
     },
     "execution_count": 582,
     "metadata": {},
     "output_type": "execute_result"
    }
   ],
   "source": [
    "resd.x"
   ]
  },
  {
   "cell_type": "code",
   "execution_count": 583,
   "metadata": {},
   "outputs": [
    {
     "name": "stdout",
     "output_type": "stream",
     "text": [
      "Data: Under 75:  = 0.3 , Data Between 75-100 = 0.5 , Over 100k =  0.2\n",
      "Data: Under 75:  = 0.2999999995546368 , Data Between 75-100 = 0.4999999665074086 , Over 100k =  0.20000003393795462\n",
      "Error vector= [ 1.  1.]\n"
     ]
    },
    {
     "data": {
      "text/plain": [
       "      fun: array([[  3.32838377e-14]])\n",
       " hess_inv: <2x2 LbfgsInvHessProduct with dtype=float64>\n",
       "      jac: array([  2.93475805e-06,   8.87104589e-06])\n",
       "  message: b'CONVERGENCE: NORM_OF_PROJECTED_GRADIENT_<=_PGTOL'\n",
       "     nfev: 66\n",
       "      nit: 10\n",
       "   status: 0\n",
       "  success: True\n",
       "        x: array([ 11.33568134,   0.04435172])"
      ]
     },
     "execution_count": 583,
     "metadata": {},
     "output_type": "execute_result"
    }
   ],
   "source": [
    "under, between, over = new_data_moments(incomes[\"Income\"])\n",
    "under_model, between_model, over_model = new_model_moments(resd.x[0], resd.x[1])\n",
    "err = errs(incomes[\"Income\"], resd.x[0], resd.x[1]).reshape(2,)\n",
    "print('Data: Under 75:  =', under, ', Data Between 75-100 =', between, ', Over 100k = ',over)\n",
    "print('Data: Under 75:  =', under_model, ', Data Between 75-100 =', between_model, ', Over 100k = ',over_model)\n",
    "print('Error vector=', err)\n",
    "resd"
   ]
  },
  {
   "cell_type": "code",
   "execution_count": 590,
   "metadata": {
    "scrolled": true
   },
   "outputs": [
    {
     "data": {
      "image/png": "[encoded data removed]",
      "text/plain": [
       "<matplotlib.figure.Figure at 0x28ff5a0a9b0>"
      ]
     },
     "metadata": {},
     "output_type": "display_data"
    }
   ],
   "source": [
    "plt.clf()\n",
    "plt.hist(incomes[\"Income\"], bins = 30, normed=True)\n",
    "x = np.linspace(1e-10,150000)\n",
    "plt.plot(x, log_norm(x, gmm_b_mu, gmm_b_var),\n",
    "         linewidth=2, color='g', label='Part B: $\\mu$='+ str(gmm_b_mu.round(2))+',$\\sigma$='+ str(gmm_b_var.round(2)))\n",
    "plt.plot(x, log_norm(x, res.x[0], res.x[1]),\n",
    "         linewidth=2, color='r', label='Part C: $\\mu$='+ str(res.x[0].round(2))+',$\\sigma$='+ str(res.x[1].round(2)))\n",
    "plt.plot(x, log_norm(x, resd.x[0], resd.x[1]),\n",
    "         linewidth=2, color='y', label='Part D: $\\mu$='+ str(resd.x[0].round(2))+',$\\sigma$='+ str(resd.x[1].round(2)))\n",
    "plt.ylabel(\"Normed Count\")\n",
    "plt.xlabel(\"Income (USD)\")\n",
    "plt.title(\"Histogram of Incomes\")\n",
    "plt.legend()\n",
    "plt.show()"
   ]
  },
  {
   "cell_type": "markdown",
   "metadata": {},
   "source": [
    "**Part (e)** Two step of **(d)**."
   ]
  },
  {
   "cell_type": "code",
   "execution_count": 586,
   "metadata": {},
   "outputs": [],
   "source": [
    "errd = new_errs(incomes[\"Income\"], resd.x[0], resd.x[1])\n",
    "VCV = np.dot(errd, errd.T) / incomes[\"Income\"].shape[0]\n",
    "W = la.pinv(VCV) \n",
    "params = np.array([resd.x[0], resd.x[1]])\n",
    "results_e = minimize(new_criterion, params, args=(incomes[\"Income\"], W),\n",
    "                       method='L-BFGS-B', bounds=((None, None), (1e-10, None)))"
   ]
  },
  {
   "cell_type": "code",
   "execution_count": 588,
   "metadata": {},
   "outputs": [
    {
     "name": "stdout",
     "output_type": "stream",
     "text": [
      "Data: Under 75:  = 0.3 , Data Between 75-100 = 0.5 , Over 100k =  0.2\n",
      "Data: Under 75:  = 0.3000000567530757 , Data Between 75-100 = 0.4999999553651388 , Over 100k =  0.19999998788178552\n",
      "Error vector= [ 1.  1.]\n"
     ]
    },
    {
     "data": {
      "text/plain": [
       "      fun: array([[ 3.7915856]])\n",
       " hess_inv: <2x2 LbfgsInvHessProduct with dtype=float64>\n",
       "      jac: array([  3.48125141e+08,   1.01633101e+10])\n",
       "  message: b'ABNORMAL_TERMINATION_IN_LNSRCH'\n",
       "     nfev: 258\n",
       "      nit: 4\n",
       "   status: 2\n",
       "  success: False\n",
       "        x: array([ 11.33568131,   0.04435172])"
      ]
     },
     "execution_count": 588,
     "metadata": {},
     "output_type": "execute_result"
    }
   ],
   "source": [
    "under, between, over = new_data_moments(incomes[\"Income\"])\n",
    "under_model, between_model, over_model = new_model_moments(results_e.x[0], results_e.x[1])\n",
    "err = errs(incomes[\"Income\"], results_e.x[0], results_e.x[1]).reshape(2,)\n",
    "print('Data: Under 75:  =', under, ', Data Between 75-100 =', between, ', Over 100k = ',over)\n",
    "print('Data: Under 75:  =', under_model, ', Data Between 75-100 =', between_model, ', Over 100k = ',over_model)\n",
    "print('Error vector=', err)\n",
    "results_e"
   ]
  },
  {
   "cell_type": "code",
   "execution_count": 594,
   "metadata": {},
   "outputs": [
    {
     "data": {
      "image/png": "[encoded data removed]",
      "text/plain": [
       "<matplotlib.figure.Figure at 0x28ff5a09c50>"
      ]
     },
     "metadata": {},
     "output_type": "display_data"
    }
   ],
   "source": [
    "plt.clf()\n",
    "plt.hist(incomes[\"Income\"], bins = 30, normed=True)\n",
    "x = np.linspace(1e-10,150000)\n",
    "plt.plot(x, log_norm(x, gmm_b_mu, gmm_b_var),\n",
    "         linewidth=2, color='g', label='Part B: $\\mu$='+ str(gmm_b_mu.round(2))+',$\\sigma$='+ str(gmm_b_var.round(2)))\n",
    "plt.plot(x, log_norm(x, res.x[0], res.x[1]),\n",
    "         linewidth=2, color='r', label='Part C: $\\mu$='+ str(res.x[0].round(2))+',$\\sigma$='+ str(res.x[1].round(2)))\n",
    "plt.plot(x, log_norm(x, resd.x[0], resd.x[1]),\n",
    "         linewidth=2, color='y', label='Part D: $\\mu$='+ str(resd.x[0].round(2))+',$\\sigma$='+ str(resd.x[1].round(2)))\n",
    "plt.plot(x, log_norm(x, results_e.x[0], results_e.x[1]),\n",
    "         linewidth=2, color='orange', label='Part E: $\\mu$='+ str(results_e.x[0].round(2))+',$\\sigma$='+ str(results_e.x[1].round(2)))\n",
    "plt.ylabel(\"Normed Count\")\n",
    "plt.xlabel(\"Income (USD)\")\n",
    "plt.title(\"Histogram of Incomes\")\n",
    "plt.legend()\n",
    "plt.show()"
   ]
  },
  {
   "cell_type": "markdown",
   "metadata": {},
   "source": [
    "**Part (f)** All four estimates are extremely simmilar. Indeed, they each minimize distance at almost the same parameter. That said I would choose part c's method as mean and variance are perhaps more robust and standard moment choices. It aso uses two step and is almost exactly on the data mean and variance, just slightly more accurate than the other methods.\n",
    "\n",
    "\n",
    "## Question 2\n",
    "\n",
    "**Part (a)**"
   ]
  },
  {
   "cell_type": "code",
   "execution_count": 595,
   "metadata": {},
   "outputs": [
    {
     "data": {
      "text/html": [
       "<div>\n",
       "<style>\n",
       "    .dataframe thead tr:only-child th {\n",
       "        text-align: right;\n",
       "    }\n",
       "\n",
       "    .dataframe thead th {\n",
       "        text-align: left;\n",
       "    }\n",
       "\n",
       "    .dataframe tbody tr th {\n",
       "        vertical-align: top;\n",
       "    }\n",
       "</style>\n",
       "<table border=\"1\" class=\"dataframe\">\n",
       "  <thead>\n",
       "    <tr style=\"text-align: right;\">\n",
       "      <th></th>\n",
       "      <th>sick</th>\n",
       "      <th>age</th>\n",
       "      <th>children</th>\n",
       "      <th>avgtemp_winter</th>\n",
       "    </tr>\n",
       "  </thead>\n",
       "  <tbody>\n",
       "    <tr>\n",
       "      <th>0</th>\n",
       "      <td>1.67</td>\n",
       "      <td>57.47</td>\n",
       "      <td>3.04</td>\n",
       "      <td>54.10</td>\n",
       "    </tr>\n",
       "    <tr>\n",
       "      <th>1</th>\n",
       "      <td>0.71</td>\n",
       "      <td>26.77</td>\n",
       "      <td>1.20</td>\n",
       "      <td>36.54</td>\n",
       "    </tr>\n",
       "    <tr>\n",
       "      <th>2</th>\n",
       "      <td>1.39</td>\n",
       "      <td>41.85</td>\n",
       "      <td>2.31</td>\n",
       "      <td>32.38</td>\n",
       "    </tr>\n",
       "    <tr>\n",
       "      <th>3</th>\n",
       "      <td>1.37</td>\n",
       "      <td>51.27</td>\n",
       "      <td>2.46</td>\n",
       "      <td>52.94</td>\n",
       "    </tr>\n",
       "    <tr>\n",
       "      <th>4</th>\n",
       "      <td>1.45</td>\n",
       "      <td>44.22</td>\n",
       "      <td>2.72</td>\n",
       "      <td>45.90</td>\n",
       "    </tr>\n",
       "  </tbody>\n",
       "</table>\n",
       "</div>"
      ],
      "text/plain": [
       "   sick    age  children  avgtemp_winter\n",
       "0  1.67  57.47      3.04           54.10\n",
       "1  0.71  26.77      1.20           36.54\n",
       "2  1.39  41.85      2.31           32.38\n",
       "3  1.37  51.27      2.46           52.94\n",
       "4  1.45  44.22      2.72           45.90"
      ]
     },
     "execution_count": 595,
     "metadata": {},
     "output_type": "execute_result"
    }
   ],
   "source": [
    "sick = pd.read_csv(\"sick.txt\")\n",
    "sick.head()"
   ]
  },
  {
   "cell_type": "code",
   "execution_count": 607,
   "metadata": {
    "collapsed": true
   },
   "outputs": [],
   "source": [
    "def ols_data_moment(x):\n",
    "    m = x[\"sick\"].values\n",
    "    return m\n",
    "\n",
    "def ols_model_moment(x, betas):\n",
    "    N = x.shape[0]\n",
    "    X = np.concatenate((np.ones((N,1)),x.values[:,1:]), axis = 1)\n",
    "    return X @ betas\n",
    "\n",
    "def ols_errs(x, betas, W):\n",
    "    errors = ols_model_moment(x, betas) - ols_data_moment(x)\n",
    "    return errors.T @ W @ errors\n",
    "def ols_crit(params, *args):\n",
    "    betas = params\n",
    "    x, W = args \n",
    "    return ols_errs(x, betas, W)\n",
    "   "
   ]
  },
  {
   "cell_type": "code",
   "execution_count": 615,
   "metadata": {},
   "outputs": [],
   "source": [
    "betas_init = np.array([1,1,1,1])\n",
    "ols_res = minimize(ols_crit, betas_init, args=(sick, np.eye(len(sick))), method='L-BFGS-B', bounds=((None, None), (None, None), (None, None), (None, None)))"
   ]
  },
  {
   "cell_type": "code",
   "execution_count": 620,
   "metadata": {},
   "outputs": [
    {
     "name": "stdout",
     "output_type": "stream",
     "text": [
      "Beta 0 = 0.251644217151\n",
      "Beta 1 = 0.0129333956393\n",
      "Beta 2 = 0.400501622583\n",
      "Beta 3 = -0.00999164445085\n"
     ]
    }
   ],
   "source": [
    "for i in range(0, len(ols_res.x)):\n",
    "    print(\"Beta \"+ str(i) +\" = \"+ str(ols_res.x[i]))"
   ]
  },
  {
   "cell_type": "markdown",
   "metadata": {},
   "source": [
    "Notice, that these are the same values that we calculated using MLE."
   ]
  },
  {
   "cell_type": "code",
   "execution_count": 613,
   "metadata": {},
   "outputs": [
    {
     "name": "stdout",
     "output_type": "stream",
     "text": [
      "Data Moment:  = [ 1.67  0.71  1.39  1.37  1.45  0.62  1.06  1.29  1.05  1.18  1.21  0.63\n",
      "  0.67  0.64  0.86  1.25  0.88  0.12  1.53  1.36  0.73  0.15  0.6   1.28\n",
      "  0.89  0.46  1.03  0.42  0.6   1.86  1.1   1.35  1.11  2.04  0.89  0.69\n",
      "  1.58  0.86  0.81  0.81  1.04  1.68  1.36  0.37  1.05  2.8   1.03  1.22\n",
      "  1.83  1.25  1.02  0.89  1.98  1.51  1.14  1.18  0.79  1.66  1.21  0.5\n",
      "  1.51  0.81  0.64  1.35  0.2   0.66  1.04  1.88  0.55  1.01  0.81  0.95\n",
      "  1.27  0.78  0.9   0.96  0.79  0.56  1.81  1.63  0.63  0.91  0.66  0.53\n",
      "  0.96  2.11  0.07  0.59  1.15  0.11  1.06  1.72  0.26  0.93  1.61  1.48\n",
      "  0.65  1.58  1.16  0.14  0.96  0.65  0.12  0.12  0.86  0.08  1.92  1.56\n",
      "  1.49  1.32  0.13  1.34  0.61  0.97  0.65  0.49  1.18  0.88  0.46  1.42\n",
      "  0.56  0.95  1.52  1.2   1.16  1.3   1.22  0.54  1.47  1.97  0.51  0.05\n",
      "  1.12  0.99  0.91  0.87  0.7   2.12  0.5   0.65  0.8   0.04  2.11  0.78\n",
      "  0.23  0.4   1.19  1.09  2.22  0.79  1.66  1.28  1.9   1.61  0.93  1.11\n",
      "  0.74  1.68  1.72  0.27  0.2   0.57  1.54  0.32  0.79  0.85  0.79  1.32\n",
      "  1.34  1.33  0.91  0.6   1.14  1.15  0.73  0.93  0.88  1.13  0.69  1.23\n",
      "  0.38  1.23  1.03  1.76  0.9   0.32  0.63  1.56  1.06  1.16  0.34  0.33\n",
      "  1.98  0.61  1.    0.53  0.86  1.39  0.72  1.29]\n",
      "Model Moment:  = [ 1.67190343  0.71337848  1.39453613  1.37101575  1.45430691  0.62455414\n",
      "  1.05571343  1.28869145  1.05599713  1.17648953  1.21139255  0.63225581\n",
      "  0.66442429  0.63731091  0.85927955  1.25238767  0.88076147  0.11727409\n",
      "  1.52807771  1.36312497  0.72727872  0.15253     0.59640268  1.27594137\n",
      "  0.89398067  0.45832544  1.02781231  0.42321614  0.60248053  1.86149581\n",
      "  1.09865677  1.34759025  1.11060111  2.04202564  0.89141453  0.69612664\n",
      "  1.5748466   0.86364302  0.81195562  0.80830525  1.0450815   1.6789654\n",
      "  1.35927302  0.37406051  1.04618414  2.80265216  1.03068338  1.22131823\n",
      "  1.83314232  1.25407469  1.02295918  0.8865478   1.97512627  1.50878577\n",
      "  1.14233749  1.18364049  0.78406714  1.66151889  1.20999111  0.50321718\n",
      "  1.50751519  0.81225996  0.64202606  1.35029711  0.20184802  0.66108334\n",
      "  1.04018925  1.87773795  0.54988725  1.00511787  0.81013893  0.94647526\n",
      "  1.27028887  0.78120724  0.89848467  0.9580752   0.78880379  0.56473972\n",
      "  1.81238173  1.62834208  0.62501504  0.91353375  0.65935835  0.52693344\n",
      "  0.9635817   2.10711465  0.07492282  0.59255423  1.14539406  0.11378336\n",
      "  1.05851559  1.72438026  0.2615183   0.93005485  1.60566512  1.47974128\n",
      "  0.64919798  1.58087057  1.16284415  0.13589795  0.95700666  0.64396536\n",
      "  0.11680228  0.11809498  0.86330067  0.07619725  1.91406099  1.55677264\n",
      "  1.48519698  1.32372751  0.13367278  1.34332324  0.60916706  0.96600396\n",
      "  0.64849467  0.49045368  1.17727584  0.87792031  0.4552878   1.4216305\n",
      "  0.55613695  0.9479366   1.51683524  1.20614308  1.16427132  1.30362507\n",
      "  1.22054663  0.54097315  1.46545353  1.9691489   0.50608238  0.05117222\n",
      "  1.11889841  0.98738136  0.91231307  0.86939091  0.7047269   2.1197125\n",
      "  0.49408089  0.65053284  0.8055412   0.04049195  2.11038669  0.78029824\n",
      "  0.22867564  0.39918923  1.18944822  1.09353138  2.22314905  0.78841572\n",
      "  1.66164594  1.27705916  1.90045418  1.60921962  0.93063461  1.10788563\n",
      "  0.73721822  1.67804956  1.71967267  0.26847895  0.20473536  0.56794653\n",
      "  1.54255099  0.31935495  0.78932653  0.85358119  0.79443718  1.31664579\n",
      "  1.34156144  1.32797934  0.90584119  0.59438774  1.14259462  1.14879955\n",
      "  0.73138321  0.9326324   0.87925779  1.12778661  0.68976962  1.22537536\n",
      "  0.38190889  1.23646753  1.03458143  1.76430315  0.89614602  0.32043146\n",
      "  0.62879788  1.56340817  1.05890265  1.15828082  0.34338831  0.32965003\n",
      "  1.97757834  0.6127459   0.99704105  0.52600892  0.86102064  1.39278476\n",
      "  0.72136896  1.28721203]\n",
      "Error vector= [ 1.  1.]\n"
     ]
    },
    {
     "data": {
      "text/plain": [
       "      fun: 0.0018212898261221629\n",
       " hess_inv: <4x4 LbfgsInvHessProduct with dtype=float64>\n",
       "      jac: array([  9.27634922e-05,   3.82880576e-03,   1.30814955e-04,\n",
       "         4.91669741e-03])\n",
       "  message: b'CONVERGENCE: REL_REDUCTION_OF_F_<=_FACTR*EPSMCH'\n",
       "     nfev: 110\n",
       "      nit: 14\n",
       "   status: 0\n",
       "  success: True\n",
       "        x: array([ 0.25164422,  0.0129334 ,  0.40050162, -0.00999164])"
      ]
     },
     "execution_count": 613,
     "metadata": {},
     "output_type": "execute_result"
    }
   ],
   "source": [
    "data_m = ols_data_moment(sick)\n",
    "model_m= ols_model_moment(sick, ols_res.x)\n",
    "err_ols = ols_errs(sick, ols_res.x, np.eye(len(sick)))\n",
    "print('Data Moment:  =', data_m)\n",
    "print('Model Moment:  =', model_m)\n",
    "print('Error vector=', err)\n",
    "ols_res"
   ]
  },
  {
   "cell_type": "markdown",
   "metadata": {},
   "source": []
  },
  {
   "cell_type": "code",
   "execution_count": null,
   "metadata": {
    "collapsed": true
   },
   "outputs": [],
   "source": []
  }
 ],
 "metadata": {
  "kernelspec": {
   "display_name": "Python 3",
   "language": "python",
   "name": "python3"
  },
  "language_info": {
   "codemirror_mode": {
    "name": "ipython",
    "version": 3
   },
   "file_extension": ".py",
   "mimetype": "text/x-python",
   "name": "python",
   "nbconvert_exporter": "python",
   "pygments_lexer": "ipython3",
   "version": "3.6.1"
  }
 },
 "nbformat": 4,
 "nbformat_minor": 2
}
