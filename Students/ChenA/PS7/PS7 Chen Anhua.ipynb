{
 "cells": [
  {
   "cell_type": "markdown",
   "metadata": {},
   "source": [
    "## PS 7 Chen Anhua\n",
    "\n"
   ]
  },
  {
   "cell_type": "code",
   "execution_count": 1,
   "metadata": {
    "collapsed": false
   },
   "outputs": [
    {
     "name": "stderr",
     "output_type": "stream",
     "text": [
      "C:\\Users\\Lenovo\\Anaconda3\\lib\\site-packages\\sklearn\\cross_validation.py:44: DeprecationWarning: This module was deprecated in version 0.18 in favor of the model_selection module into which all the refactored classes and functions are moved. Also note that the interface of the new CV iterators are different from that of this module. This module will be removed in 0.20.\n",
      "  \"This module will be removed in 0.20.\", DeprecationWarning)\n"
     ]
    }
   ],
   "source": [
    "import pandas as pd\n",
    "import numpy as np\n",
    "import sklearn\n",
    "from sklearn import preprocessing\n",
    "from sklearn.linear_model import LogisticRegression\n",
    "from sklearn.cross_validation import train_test_split\n",
    "from pylab import rcParams\n",
    "import warnings\n",
    "import matplotlib.pyplot as plt\n",
    "import seaborn as sb\n",
    "from sklearn.cross_validation import train_test_split\n",
    "from sklearn import metrics \n",
    "from sklearn.metrics import classification_report, confusion_matrix\n",
    "from sklearn.model_selection import LeaveOneOut, KFold\n",
    "from sklearn.ensemble import RandomForestRegressor\n",
    "from sklearn.metrics import mean_squared_error\n",
    "from sklearn import svm\n",
    "from sklearn.ensemble import RandomForestClassifier"
   ]
  },
  {
   "cell_type": "code",
   "execution_count": 2,
   "metadata": {
    "collapsed": true
   },
   "outputs": [],
   "source": [
    "df = pd.read_csv(\"auto.csv\", na_values = \"?\")\n",
    "mpg_median = df[\"mpg\"].median()\n",
    "df[\"mpg_high\"] = df[\"mpg\"].apply(lambda x: 1 if x >= mpg_median else 0)\n",
    "df[\"mpg_high\"] = df[\"mpg_high\"].astype('category')\n",
    "df[\"const\"] = 1"
   ]
  },
  {
   "cell_type": "code",
   "execution_count": 3,
   "metadata": {
    "collapsed": false
   },
   "outputs": [
    {
     "data": {
      "text/plain": [
       "mpg             0\n",
       "cylinders       0\n",
       "displacement    0\n",
       "horsepower      0\n",
       "weight          0\n",
       "acceleration    0\n",
       "year            0\n",
       "origin          0\n",
       "name            0\n",
       "mpg_high        0\n",
       "const           0\n",
       "dtype: int64"
      ]
     },
     "execution_count": 3,
     "metadata": {},
     "output_type": "execute_result"
    }
   ],
   "source": [
    "## test the cleaned data\n",
    "df.dropna(inplace=True)\n",
    "df.isnull().sum()"
   ]
  },
  {
   "cell_type": "code",
   "execution_count": 4,
   "metadata": {
    "collapsed": true
   },
   "outputs": [],
   "source": [
    "df[\"horsepower\"] = df[\"horsepower\"].astype(\"int\")\n",
    "Xvars = df[[\"cylinders\", \"displacement\", \"horsepower\", \"weight\", \"acceleration\", \"year\", \"origin\"]].values\n",
    "yvals = df[[\"mpg_high\"]].values"
   ]
  },
  {
   "cell_type": "markdown",
   "metadata": {},
   "source": [
    "#### (a) Logistic regression"
   ]
  },
  {
   "cell_type": "code",
   "execution_count": 5,
   "metadata": {
    "collapsed": false
   },
   "outputs": [
    {
     "name": "stdout",
     "output_type": "stream",
     "text": [
      "When k = 0\n",
      "             precision    recall  f1-score   support\n",
      "\n",
      "          0       0.94      0.89      0.92        55\n",
      "          1       0.87      0.93      0.90        43\n",
      "\n",
      "avg / total       0.91      0.91      0.91        98\n",
      "\n",
      "error rate for category 0 is 0.0576923076923\n",
      "error rate for category 1 is 0.130434782609\n",
      "When k = 1\n",
      "             precision    recall  f1-score   support\n",
      "\n",
      "          0       0.88      0.91      0.90        47\n",
      "          1       0.92      0.88      0.90        51\n",
      "\n",
      "avg / total       0.90      0.90      0.90        98\n",
      "\n",
      "error rate for category 0 is 0.122448979592\n",
      "error rate for category 1 is 0.0816326530612\n",
      "When k = 2\n",
      "             precision    recall  f1-score   support\n",
      "\n",
      "          0       0.85      0.87      0.86        45\n",
      "          1       0.88      0.87      0.88        53\n",
      "\n",
      "avg / total       0.87      0.87      0.87        98\n",
      "\n",
      "error rate for category 0 is 0.152173913043\n",
      "error rate for category 1 is 0.115384615385\n",
      "When k = 3\n",
      "             precision    recall  f1-score   support\n",
      "\n",
      "          0       0.95      0.84      0.89        49\n",
      "          1       0.85      0.96      0.90        49\n",
      "\n",
      "avg / total       0.90      0.90      0.90        98\n",
      "\n",
      "error rate for category 0 is 0.046511627907\n",
      "error rate for category 1 is 0.145454545455\n",
      "============ summary ===============\n",
      "average MSE k-fold for both categories 0.107142857143\n",
      "average MSE standard err for both categories 0.015306122449\n",
      "average MSE k-fold for category 0 0.0947067070586\n",
      "average MSE standard err for category 0 0.0440594622751\n",
      "average MSE k-fold for category1 0.118226649127\n",
      "average MSE standard err for category1 0.0236516096988\n"
     ]
    },
    {
     "name": "stderr",
     "output_type": "stream",
     "text": [
      "C:\\Users\\Lenovo\\Anaconda3\\lib\\site-packages\\sklearn\\utils\\validation.py:526: DataConversionWarning: A column-vector y was passed when a 1d array was expected. Please change the shape of y to (n_samples, ), for example using ravel().\n",
      "  y = column_or_1d(y, warn=True)\n"
     ]
    }
   ],
   "source": [
    "k = 4\n",
    "kf = KFold(n_splits = k, shuffle = True, random_state = 15)\n",
    "kf.get_n_splits(Xvars)\n",
    "\n",
    "MSE_vec_kf = np.zeros(k)\n",
    "err1_rate_vec = np.zeros(k)\n",
    "err0_rate_vec = np.zeros(k)\n",
    "\n",
    "k_ind = int(0)\n",
    "for train_index, test_index in kf.split(Xvars):\n",
    "    \n",
    "    X_train, X_test = Xvars[train_index], Xvars[test_index]\n",
    "    y_train, y_test = yvals[train_index], yvals[test_index]\n",
    "    \n",
    "    LogReg = LogisticRegression()\n",
    "    LogReg.fit(X_train, y_train)\n",
    "    y_pred = LogReg.predict(X_test)\n",
    "    y_test = y_test.flatten()\n",
    "    \n",
    "    #logical filter\n",
    "    a = (y_test != y_pred)\n",
    "    b0 = y_pred == 0\n",
    "    b1 = y_pred == 1\n",
    "    err0_rate = (b0 & a).sum() / b0.sum() \n",
    "    err1_rate = (b1 & a).sum() / b1.sum() \n",
    "    err0_rate_vec[k_ind] = err0_rate\n",
    "    err1_rate_vec[k_ind] = err1_rate\n",
    "    MSE_vec_kf[k_ind] = (y_test != y_pred).mean()\n",
    "    \n",
    "    print('When k =', k_ind)\n",
    "    print(classification_report(y_test, y_pred))\n",
    "    print('error rate for category 0 is', err0_rate)\n",
    "    print('error rate for category 1 is', err1_rate)\n",
    "    \n",
    "    \n",
    "    k_ind += 1\n",
    "\n",
    "print(\"============ summary ===============\")\n",
    "print('average MSE k-fold for both categories', MSE_vec_kf.mean())\n",
    "print('average MSE standard err for both categories', MSE_vec_kf.std())\n",
    "print('average MSE k-fold for category 0', err0_rate_vec.mean())\n",
    "print('average MSE standard err for category 0', err0_rate_vec.std())\n",
    "print('average MSE k-fold for category1', err1_rate_vec.mean())\n",
    "print('average MSE standard err for category1', err1_rate_vec.std())"
   ]
  },
  {
   "cell_type": "markdown",
   "metadata": {},
   "source": [
    "#### (b) RF"
   ]
  },
  {
   "cell_type": "code",
   "execution_count": 6,
   "metadata": {
    "collapsed": false
   },
   "outputs": [
    {
     "name": "stderr",
     "output_type": "stream",
     "text": [
      "C:\\Users\\Lenovo\\Anaconda3\\lib\\site-packages\\ipykernel\\__main__.py:3: DataConversionWarning: A column-vector y was passed when a 1d array was expected. Please change the shape of y to (n_samples,), for example using ravel().\n",
      "  app.launch_new_instance()\n"
     ]
    },
    {
     "data": {
      "text/plain": [
       "RandomForestClassifier(bootstrap=True, class_weight=None, criterion='gini',\n",
       "            max_depth=None, max_features=2, max_leaf_nodes=None,\n",
       "            min_impurity_split=1e-07, min_samples_leaf=1,\n",
       "            min_samples_split=2, min_weight_fraction_leaf=0.0,\n",
       "            n_estimators=20, n_jobs=1, oob_score=True, random_state=25,\n",
       "            verbose=0, warm_start=False)"
      ]
     },
     "execution_count": 6,
     "metadata": {},
     "output_type": "execute_result"
    }
   ],
   "source": [
    "Random_forest = RandomForestClassifier(n_estimators = 20, max_features=2, bootstrap=True,\n",
    "                                       oob_score=True, random_state=25)\n",
    "Random_forest.fit(Xvars, yvals)"
   ]
  },
  {
   "cell_type": "code",
   "execution_count": 7,
   "metadata": {
    "collapsed": false
   },
   "outputs": [
    {
     "name": "stdout",
     "output_type": "stream",
     "text": [
      "The MSE for the RF is 0.0714285714286\n",
      "The MSE for category 0 is 0.0578947368421\n",
      "The MSE for category 1 is 0.0841584158416\n"
     ]
    }
   ],
   "source": [
    "## transform continuous to categorical\n",
    "y_pred = Random_forest.oob_decision_function_.T[1]\n",
    "pred = []    \n",
    "for y in y_pred:\n",
    "    if y >= 0.5:\n",
    "        pred.append(1)\n",
    "    else:\n",
    "        pred.append(0)\n",
    "pred = np.array(pred)\n",
    "\n",
    "MSE = mean_squared_error(pred, yvals)\n",
    "        \n",
    "print(\"The MSE for the RF is\", MSE)\n",
    "\n",
    "pred = pred.tolist()\n",
    "pred_0 = []\n",
    "yval_0 = []\n",
    "pred_1 = []\n",
    "yval_1 = []\n",
    "for i, p in enumerate(pred):\n",
    "    if p < 0.5:\n",
    "        pred_0.append(0)\n",
    "        yval_0.append(yvals[i])\n",
    "    else:\n",
    "        pred_1.append(1)\n",
    "        yval_1.append(yvals[i])\n",
    "        \n",
    "MSE_0 = mean_squared_error(pred_0, yval_0)\n",
    "print(\"The MSE for category 0 is\", MSE_0)\n",
    "\n",
    "MSE_1 = mean_squared_error(pred_1, yval_1)\n",
    "print(\"The MSE for category 1 is\", MSE_1)"
   ]
  },
  {
   "cell_type": "markdown",
   "metadata": {},
   "source": [
    "#### (c) SVM"
   ]
  },
  {
   "cell_type": "code",
   "execution_count": 8,
   "metadata": {
    "collapsed": false
   },
   "outputs": [
    {
     "name": "stdout",
     "output_type": "stream",
     "text": [
      "When k = 0\n",
      "             precision    recall  f1-score   support\n",
      "\n",
      "          0       1.00      0.04      0.07        55\n",
      "          1       0.45      1.00      0.62        43\n",
      "\n",
      "avg / total       0.76      0.46      0.31        98\n",
      "\n",
      "error rate for category 0 is 0.0\n",
      "error rate for category 1 is 0.552083333333\n",
      "When k = 1\n",
      "             precision    recall  f1-score   support\n",
      "\n",
      "          0       0.48      1.00      0.65        47\n",
      "          1       0.00      0.00      0.00        51\n",
      "\n",
      "avg / total       0.23      0.48      0.31        98\n",
      "\n",
      "error rate for category 0 is 0.520408163265\n",
      "error rate for category 1 is nan\n",
      "When k = 2\n",
      "             precision    recall  f1-score   support\n",
      "\n",
      "          0       0.47      1.00      0.64        45\n",
      "          1       1.00      0.04      0.07        53\n",
      "\n",
      "avg / total       0.76      0.48      0.33        98\n",
      "\n",
      "error rate for category 0 is 0.53125\n",
      "error rate for category 1 is 0.0\n",
      "When k = 3\n",
      "             precision    recall  f1-score   support\n",
      "\n",
      "          0       0.53      1.00      0.69        49\n",
      "          1       1.00      0.10      0.19        49\n",
      "\n",
      "avg / total       0.76      0.55      0.44        98\n",
      "\n",
      "error rate for category 0 is 0.47311827957\n",
      "error rate for category 1 is 0.0\n",
      "============ summary ===============\n",
      "average MSE svm for both categories 0.507653061224\n",
      "average MSE standard err for both categories 0.0348846794163\n",
      "average MSE svm for category 0 0.381194110709\n",
      "average MSE standard err for category 0 0.221165280503\n",
      "average MSE svm for category1 0.184027777778\n",
      "average MSE standard err for category1 0.260254579187\n"
     ]
    },
    {
     "name": "stderr",
     "output_type": "stream",
     "text": [
      "C:\\Users\\Lenovo\\Anaconda3\\lib\\site-packages\\sklearn\\utils\\validation.py:526: DataConversionWarning: A column-vector y was passed when a 1d array was expected. Please change the shape of y to (n_samples, ), for example using ravel().\n",
      "  y = column_or_1d(y, warn=True)\n",
      "C:\\Users\\Lenovo\\Anaconda3\\lib\\site-packages\\ipykernel\\__main__.py:23: RuntimeWarning: invalid value encountered in long_scalars\n",
      "C:\\Users\\Lenovo\\Anaconda3\\lib\\site-packages\\sklearn\\metrics\\classification.py:1113: UndefinedMetricWarning: Precision and F-score are ill-defined and being set to 0.0 in labels with no predicted samples.\n",
      "  'precision', 'predicted', average, warn_for)\n"
     ]
    }
   ],
   "source": [
    "k = 4\n",
    "kf = KFold(n_splits=k, random_state=15, shuffle=True)\n",
    "kf.get_n_splits(Xvars)\n",
    "err0_rate_vec = np.zeros(k)\n",
    "err1_rate_vec = np.zeros(k)\n",
    "MSE_vec_svm = np.zeros(k)\n",
    "\n",
    "k_ind = int(0)\n",
    "for train_index, test_index in kf.split(Xvars):\n",
    "    X_train, X_test = Xvars[train_index], Xvars[test_index]\n",
    "    y_train, y_test = yvals[train_index], yvals[test_index]\n",
    "    \n",
    "    svc = svm.SVC(kernel='rbf', gamma = 0.2, C=1)\n",
    "    svc.fit(X_train, y_train)\n",
    "    y_pred = svc.predict(X_test)\n",
    "    y_test = y_test.flatten()\n",
    "    \n",
    "    #logical filter\n",
    "    a = (y_test != y_pred)\n",
    "    b0 = y_pred == 0\n",
    "    b1 = y_pred == 1\n",
    "    err0_rate = (b0 & a).sum() / b0.sum() \n",
    "    err1_rate = (b1 & a).sum() / b1.sum() \n",
    "    err0_rate_vec[k_ind] = err0_rate\n",
    "    err1_rate_vec[k_ind] = err1_rate\n",
    "    MSE_vec_svm[k_ind] = (y_test != y_pred).mean()\n",
    "    \n",
    "    print('When k =', k_ind)\n",
    "    print(classification_report(y_test, y_pred))\n",
    "    print('error rate for category 0 is', err0_rate)\n",
    "    print('error rate for category 1 is', err1_rate)\n",
    "    \n",
    "    k_ind  += 1\n",
    "\n",
    "print(\"============ summary ===============\")\n",
    "print('average MSE svm for both categories', MSE_vec_svm.mean())\n",
    "print('average MSE standard err for both categories', MSE_vec_svm.std())\n",
    "print('average MSE svm for category 0', err0_rate_vec.mean())\n",
    "print('average MSE standard err for category 0', err0_rate_vec.std())\n",
    "print('average MSE svm for category1', np.nanmean(err1_rate_vec))\n",
    "print('average MSE standard err for category1', np.nanstd(err1_rate_vec))\n"
   ]
  },
  {
   "cell_type": "markdown",
   "metadata": {},
   "source": [
    "#### (d)"
   ]
  },
  {
   "cell_type": "markdown",
   "metadata": {},
   "source": [
    "Purely judging by the MSE performance, Random Forest is the best, followed by Logit regression while SVM performs the worst among the three."
   ]
  }
 ],
 "metadata": {
  "kernelspec": {
   "display_name": "Python 3",
   "language": "python",
   "name": "python3"
  },
  "language_info": {
   "codemirror_mode": {
    "name": "ipython",
    "version": 3
   },
   "file_extension": ".py",
   "mimetype": "text/x-python",
   "name": "python",
   "nbconvert_exporter": "python",
   "pygments_lexer": "ipython3",
   "version": "3.6.0"
  }
 },
 "nbformat": 4,
 "nbformat_minor": 2
}
