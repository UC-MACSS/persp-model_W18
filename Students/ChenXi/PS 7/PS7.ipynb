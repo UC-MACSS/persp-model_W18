{
 "cells": [
  {
   "cell_type": "markdown",
   "metadata": {},
   "source": [
    "# Problem Set #7\n",
    "### MACS 30100, Dr Evans\n",
    "### Xi Chen"
   ]
  },
  {
   "cell_type": "code",
   "execution_count": 2,
   "metadata": {},
   "outputs": [],
   "source": [
    "import numpy as np\n",
    "import pandas as pd\n",
    "import sklearn\n",
    "from sklearn import preprocessing\n",
    "from sklearn.linear_model import LogisticRegression\n",
    "from sklearn.cross_validation import train_test_split\n",
    "from sklearn import metrics \n",
    "from sklearn.metrics import classification_report, confusion_matrix\n",
    "from sklearn.model_selection import LeaveOneOut, KFold\n",
    "from sklearn.ensemble import RandomForestRegressor, RandomForestClassifier\n",
    "from sklearn.metrics import mean_squared_error\n",
    "from sklearn import svm\n",
    "import warnings\n",
    "warnings.filterwarnings('ignore')"
   ]
  },
  {
   "cell_type": "code",
   "execution_count": 3,
   "metadata": {},
   "outputs": [
    {
     "data": {
      "text/html": [
       "<div>\n",
       "<style scoped>\n",
       "    .dataframe tbody tr th:only-of-type {\n",
       "        vertical-align: middle;\n",
       "    }\n",
       "\n",
       "    .dataframe tbody tr th {\n",
       "        vertical-align: top;\n",
       "    }\n",
       "\n",
       "    .dataframe thead th {\n",
       "        text-align: right;\n",
       "    }\n",
       "</style>\n",
       "<table border=\"1\" class=\"dataframe\">\n",
       "  <thead>\n",
       "    <tr style=\"text-align: right;\">\n",
       "      <th></th>\n",
       "      <th>mpg</th>\n",
       "      <th>cylinders</th>\n",
       "      <th>displacement</th>\n",
       "      <th>horsepower</th>\n",
       "      <th>weight</th>\n",
       "      <th>acceleration</th>\n",
       "      <th>year</th>\n",
       "      <th>origin</th>\n",
       "      <th>name</th>\n",
       "    </tr>\n",
       "  </thead>\n",
       "  <tbody>\n",
       "    <tr>\n",
       "      <th>0</th>\n",
       "      <td>18.0</td>\n",
       "      <td>8</td>\n",
       "      <td>307.0</td>\n",
       "      <td>130.0</td>\n",
       "      <td>3504</td>\n",
       "      <td>12.0</td>\n",
       "      <td>70</td>\n",
       "      <td>1</td>\n",
       "      <td>chevrolet chevelle malibu</td>\n",
       "    </tr>\n",
       "    <tr>\n",
       "      <th>1</th>\n",
       "      <td>15.0</td>\n",
       "      <td>8</td>\n",
       "      <td>350.0</td>\n",
       "      <td>165.0</td>\n",
       "      <td>3693</td>\n",
       "      <td>11.5</td>\n",
       "      <td>70</td>\n",
       "      <td>1</td>\n",
       "      <td>buick skylark 320</td>\n",
       "    </tr>\n",
       "    <tr>\n",
       "      <th>2</th>\n",
       "      <td>18.0</td>\n",
       "      <td>8</td>\n",
       "      <td>318.0</td>\n",
       "      <td>150.0</td>\n",
       "      <td>3436</td>\n",
       "      <td>11.0</td>\n",
       "      <td>70</td>\n",
       "      <td>1</td>\n",
       "      <td>plymouth satellite</td>\n",
       "    </tr>\n",
       "    <tr>\n",
       "      <th>3</th>\n",
       "      <td>16.0</td>\n",
       "      <td>8</td>\n",
       "      <td>304.0</td>\n",
       "      <td>150.0</td>\n",
       "      <td>3433</td>\n",
       "      <td>12.0</td>\n",
       "      <td>70</td>\n",
       "      <td>1</td>\n",
       "      <td>amc rebel sst</td>\n",
       "    </tr>\n",
       "    <tr>\n",
       "      <th>4</th>\n",
       "      <td>17.0</td>\n",
       "      <td>8</td>\n",
       "      <td>302.0</td>\n",
       "      <td>140.0</td>\n",
       "      <td>3449</td>\n",
       "      <td>10.5</td>\n",
       "      <td>70</td>\n",
       "      <td>1</td>\n",
       "      <td>ford torino</td>\n",
       "    </tr>\n",
       "  </tbody>\n",
       "</table>\n",
       "</div>"
      ],
      "text/plain": [
       "    mpg  cylinders  displacement  horsepower  weight  acceleration  year  \\\n",
       "0  18.0          8         307.0       130.0    3504          12.0    70   \n",
       "1  15.0          8         350.0       165.0    3693          11.5    70   \n",
       "2  18.0          8         318.0       150.0    3436          11.0    70   \n",
       "3  16.0          8         304.0       150.0    3433          12.0    70   \n",
       "4  17.0          8         302.0       140.0    3449          10.5    70   \n",
       "\n",
       "   origin                       name  \n",
       "0       1  chevrolet chevelle malibu  \n",
       "1       1          buick skylark 320  \n",
       "2       1         plymouth satellite  \n",
       "3       1              amc rebel sst  \n",
       "4       1                ford torino  "
      ]
     },
     "execution_count": 3,
     "metadata": {},
     "output_type": "execute_result"
    }
   ],
   "source": [
    "auto = pd.read_csv('Auto.csv', na_values='?')\n",
    "auto.head()"
   ]
  },
  {
   "cell_type": "code",
   "execution_count": 4,
   "metadata": {},
   "outputs": [
    {
     "name": "stdout",
     "output_type": "stream",
     "text": [
      "<class 'pandas.core.frame.DataFrame'>\n",
      "RangeIndex: 397 entries, 0 to 396\n",
      "Data columns (total 9 columns):\n",
      "mpg             397 non-null float64\n",
      "cylinders       397 non-null int64\n",
      "displacement    397 non-null float64\n",
      "horsepower      392 non-null float64\n",
      "weight          397 non-null int64\n",
      "acceleration    397 non-null float64\n",
      "year            397 non-null int64\n",
      "origin          397 non-null int64\n",
      "name            397 non-null object\n",
      "dtypes: float64(4), int64(4), object(1)\n",
      "memory usage: 28.0+ KB\n"
     ]
    }
   ],
   "source": [
    "auto.info()"
   ]
  },
  {
   "cell_type": "code",
   "execution_count": 5,
   "metadata": {},
   "outputs": [
    {
     "data": {
      "text/plain": [
       "mpg             0\n",
       "cylinders       0\n",
       "displacement    0\n",
       "horsepower      5\n",
       "weight          0\n",
       "acceleration    0\n",
       "year            0\n",
       "origin          0\n",
       "name            0\n",
       "dtype: int64"
      ]
     },
     "execution_count": 5,
     "metadata": {},
     "output_type": "execute_result"
    }
   ],
   "source": [
    "auto.isnull().sum()"
   ]
  },
  {
   "cell_type": "code",
   "execution_count": 6,
   "metadata": {},
   "outputs": [
    {
     "data": {
      "text/plain": [
       "mpg             0\n",
       "cylinders       0\n",
       "displacement    0\n",
       "horsepower      0\n",
       "weight          0\n",
       "acceleration    0\n",
       "year            0\n",
       "origin          0\n",
       "name            0\n",
       "dtype: int64"
      ]
     },
     "execution_count": 6,
     "metadata": {},
     "output_type": "execute_result"
    }
   ],
   "source": [
    "# Drop NAs\n",
    "auto = auto.dropna()\n",
    "auto.isnull().sum()"
   ]
  },
  {
   "cell_type": "code",
   "execution_count": 7,
   "metadata": {},
   "outputs": [
    {
     "data": {
      "text/html": [
       "<div>\n",
       "<style scoped>\n",
       "    .dataframe tbody tr th:only-of-type {\n",
       "        vertical-align: middle;\n",
       "    }\n",
       "\n",
       "    .dataframe tbody tr th {\n",
       "        vertical-align: top;\n",
       "    }\n",
       "\n",
       "    .dataframe thead th {\n",
       "        text-align: right;\n",
       "    }\n",
       "</style>\n",
       "<table border=\"1\" class=\"dataframe\">\n",
       "  <thead>\n",
       "    <tr style=\"text-align: right;\">\n",
       "      <th></th>\n",
       "      <th>mpg</th>\n",
       "      <th>cylinders</th>\n",
       "      <th>displacement</th>\n",
       "      <th>horsepower</th>\n",
       "      <th>weight</th>\n",
       "      <th>acceleration</th>\n",
       "      <th>year</th>\n",
       "      <th>origin</th>\n",
       "      <th>name</th>\n",
       "      <th>mpg_high</th>\n",
       "    </tr>\n",
       "  </thead>\n",
       "  <tbody>\n",
       "    <tr>\n",
       "      <th>0</th>\n",
       "      <td>18.0</td>\n",
       "      <td>8</td>\n",
       "      <td>307.0</td>\n",
       "      <td>130.0</td>\n",
       "      <td>3504</td>\n",
       "      <td>12.0</td>\n",
       "      <td>70</td>\n",
       "      <td>1</td>\n",
       "      <td>chevrolet chevelle malibu</td>\n",
       "      <td>0</td>\n",
       "    </tr>\n",
       "    <tr>\n",
       "      <th>1</th>\n",
       "      <td>15.0</td>\n",
       "      <td>8</td>\n",
       "      <td>350.0</td>\n",
       "      <td>165.0</td>\n",
       "      <td>3693</td>\n",
       "      <td>11.5</td>\n",
       "      <td>70</td>\n",
       "      <td>1</td>\n",
       "      <td>buick skylark 320</td>\n",
       "      <td>0</td>\n",
       "    </tr>\n",
       "    <tr>\n",
       "      <th>2</th>\n",
       "      <td>18.0</td>\n",
       "      <td>8</td>\n",
       "      <td>318.0</td>\n",
       "      <td>150.0</td>\n",
       "      <td>3436</td>\n",
       "      <td>11.0</td>\n",
       "      <td>70</td>\n",
       "      <td>1</td>\n",
       "      <td>plymouth satellite</td>\n",
       "      <td>0</td>\n",
       "    </tr>\n",
       "    <tr>\n",
       "      <th>3</th>\n",
       "      <td>16.0</td>\n",
       "      <td>8</td>\n",
       "      <td>304.0</td>\n",
       "      <td>150.0</td>\n",
       "      <td>3433</td>\n",
       "      <td>12.0</td>\n",
       "      <td>70</td>\n",
       "      <td>1</td>\n",
       "      <td>amc rebel sst</td>\n",
       "      <td>0</td>\n",
       "    </tr>\n",
       "    <tr>\n",
       "      <th>4</th>\n",
       "      <td>17.0</td>\n",
       "      <td>8</td>\n",
       "      <td>302.0</td>\n",
       "      <td>140.0</td>\n",
       "      <td>3449</td>\n",
       "      <td>10.5</td>\n",
       "      <td>70</td>\n",
       "      <td>1</td>\n",
       "      <td>ford torino</td>\n",
       "      <td>0</td>\n",
       "    </tr>\n",
       "  </tbody>\n",
       "</table>\n",
       "</div>"
      ],
      "text/plain": [
       "    mpg  cylinders  displacement  horsepower  weight  acceleration  year  \\\n",
       "0  18.0          8         307.0       130.0    3504          12.0    70   \n",
       "1  15.0          8         350.0       165.0    3693          11.5    70   \n",
       "2  18.0          8         318.0       150.0    3436          11.0    70   \n",
       "3  16.0          8         304.0       150.0    3433          12.0    70   \n",
       "4  17.0          8         302.0       140.0    3449          10.5    70   \n",
       "\n",
       "   origin                       name mpg_high  \n",
       "0       1  chevrolet chevelle malibu        0  \n",
       "1       1          buick skylark 320        0  \n",
       "2       1         plymouth satellite        0  \n",
       "3       1              amc rebel sst        0  \n",
       "4       1                ford torino        0  "
      ]
     },
     "execution_count": 7,
     "metadata": {},
     "output_type": "execute_result"
    }
   ],
   "source": [
    "# Create a binary variable mpg_high\n",
    "auto['mpg_high'] = auto['mpg'].apply(lambda x: 1 if x >= auto['mpg'].median() else 0).astype('category')\n",
    "auto.head()"
   ]
  },
  {
   "cell_type": "code",
   "execution_count": 8,
   "metadata": {},
   "outputs": [],
   "source": [
    "X = auto[['cylinders', 'displacement', 'horsepower', 'weight', 'acceleration', 'year', 'origin']].values\n",
    "y = auto['mpg_high'].values"
   ]
  },
  {
   "cell_type": "markdown",
   "metadata": {},
   "source": [
    "## (a) Logistic Regression"
   ]
  },
  {
   "cell_type": "code",
   "execution_count": 9,
   "metadata": {},
   "outputs": [
    {
     "name": "stdout",
     "output_type": "stream",
     "text": [
      "When k index = 0\n",
      "The MSE for the test set 0 is 0.09183673469387756\n",
      "\n",
      "              precision    recall  f1-score   support\n",
      "\n",
      "          0     0.9423    0.8909    0.9159        55\n",
      "          1     0.8696    0.9302    0.8989        43\n",
      "\n",
      "avg / total     0.9104    0.9082    0.9084        98\n",
      "\n",
      "The error rate for category 0 is 0.057692307692307696\n",
      "The error rate for category 1 is 0.13043478260869565\n",
      "\n",
      "\n",
      "When k index = 1\n",
      "The MSE for the test set 1 is 0.10204081632653061\n",
      "\n",
      "              precision    recall  f1-score   support\n",
      "\n",
      "          0     0.8776    0.9149    0.8958        47\n",
      "          1     0.9184    0.8824    0.9000        51\n",
      "\n",
      "avg / total     0.8988    0.8980    0.8980        98\n",
      "\n",
      "The error rate for category 0 is 0.12244897959183673\n",
      "The error rate for category 1 is 0.08163265306122448\n",
      "\n",
      "\n",
      "When k index = 2\n",
      "The MSE for the test set 2 is 0.1326530612244898\n",
      "\n",
      "              precision    recall  f1-score   support\n",
      "\n",
      "          0     0.8478    0.8667    0.8571        45\n",
      "          1     0.8846    0.8679    0.8762        53\n",
      "\n",
      "avg / total     0.8677    0.8673    0.8674        98\n",
      "\n",
      "The error rate for category 0 is 0.15217391304347827\n",
      "The error rate for category 1 is 0.11538461538461539\n",
      "\n",
      "\n",
      "When k index = 3\n",
      "The MSE for the test set 3 is 0.10204081632653061\n",
      "\n",
      "              precision    recall  f1-score   support\n",
      "\n",
      "          0     0.9535    0.8367    0.8913        49\n",
      "          1     0.8545    0.9592    0.9038        49\n",
      "\n",
      "avg / total     0.9040    0.8980    0.8976        98\n",
      "\n",
      "The error rate for category 0 is 0.046511627906976744\n",
      "The error rate for category 1 is 0.14545454545454545\n",
      "\n",
      "\n"
     ]
    }
   ],
   "source": [
    "k = 4\n",
    "kf = KFold(n_splits = k, shuffle = True, random_state = 15)\n",
    "kf.get_n_splits(X)\n",
    "\n",
    "LogRegress_MSE = np.zeros(k)\n",
    "LogRegress_error_0 = np.zeros(k)\n",
    "LogRegress_error_1 = np.zeros(k)\n",
    "\n",
    "k_ind = int(0)\n",
    "for train_index, test_index in kf.split(X):\n",
    "    X_train, X_test = X[train_index], X[test_index]\n",
    "    y_train, y_test = y[train_index], y[test_index]\n",
    "    LogReg = LogisticRegression(fit_intercept=True)\n",
    "    LogReg.fit(X_train, y_train)\n",
    "    y_pred = LogReg.predict(X_test)\n",
    "    error = y_test != y_pred\n",
    "    error_all_class = error.mean()\n",
    "    error_0 = ((y_pred == 0) * error).sum() / (y_pred == 0).sum() \n",
    "    error_1 = ((y_pred == 1) * error).sum() / (y_pred == 1).sum() \n",
    "    LogRegress_MSE[k_ind] = error_all_class\n",
    "    LogRegress_error_0[k_ind] = error_0\n",
    "    LogRegress_error_1[k_ind] = error_1\n",
    "    print('When k index =', k_ind)\n",
    "    print('The MSE for the test set', k_ind, 'is', error_all_class) \n",
    "    print('\\n', classification_report(y_test, y_pred, digits=4))\n",
    "    print('The error rate for category 0 is', error_0)\n",
    "    print('The error rate for category 1 is', error_1)\n",
    "    print('\\n')\n",
    "    k_ind += 1"
   ]
  },
  {
   "cell_type": "code",
   "execution_count": 10,
   "metadata": {},
   "outputs": [
    {
     "name": "stdout",
     "output_type": "stream",
     "text": [
      "Report the average MSE and the average error rates:\n",
      "\n",
      "The average MSE across 4 test sets is 0.10714285714285715\n",
      "The average error rate for category 0 is 0.09470670705864986\n",
      "The average error rate for category 1 is 0.11822664912727025\n"
     ]
    }
   ],
   "source": [
    "print('Report the average MSE and the average error rates:\\n')\n",
    "print('The average MSE across 4 test sets is', LogRegress_MSE.mean())\n",
    "print('The average error rate for category 0 is', LogRegress_error_0.mean())\n",
    "print('The average error rate for category 1 is', LogRegress_error_1.mean())"
   ]
  },
  {
   "cell_type": "markdown",
   "metadata": {},
   "source": [
    "## (b) Random Forest "
   ]
  },
  {
   "cell_type": "code",
   "execution_count": 11,
   "metadata": {},
   "outputs": [
    {
     "data": {
      "text/plain": [
       "RandomForestClassifier(bootstrap=True, class_weight=None, criterion='gini',\n",
       "            max_depth=None, max_features=2, max_leaf_nodes=None,\n",
       "            min_impurity_decrease=0.0, min_impurity_split=None,\n",
       "            min_samples_leaf=1, min_samples_split=2,\n",
       "            min_weight_fraction_leaf=0.0, n_estimators=20, n_jobs=1,\n",
       "            oob_score=True, random_state=25, verbose=0, warm_start=False)"
      ]
     },
     "execution_count": 11,
     "metadata": {},
     "output_type": "execute_result"
    }
   ],
   "source": [
    "RandomForest = RandomForestClassifier(n_estimators = 20, max_features = 2, bootstrap = True, \n",
    "                                      oob_score = True, random_state = 25)\n",
    "RandomForest.fit(X, y)"
   ]
  },
  {
   "cell_type": "code",
   "execution_count": 12,
   "metadata": {},
   "outputs": [
    {
     "name": "stdout",
     "output_type": "stream",
     "text": [
      "The MSE of the model is 0.07142857142857142\n",
      "\n",
      "              precision    recall  f1-score   support\n",
      "\n",
      "          0     0.9421    0.9133    0.9275       196\n",
      "          1     0.9158    0.9439    0.9296       196\n",
      "\n",
      "avg / total     0.9290    0.9286    0.9286       392\n",
      "\n",
      "The error rate for category 0 is 0.05789473684210526\n",
      "The error rate for category 1 is 0.08415841584158416\n"
     ]
    }
   ],
   "source": [
    "oob_prediction = RandomForest.oob_decision_function_.T[1]\n",
    "RandomForest_MSE = pd.DataFrame({'pred' : oob_prediction, 'yvals': y})\n",
    "RandomForest_MSE['pred'] = RandomForest_MSE['pred'].apply(lambda x: 1 if x >= 0.5 else 0)\n",
    "RF_error = (RandomForest_MSE['pred'] != RandomForest_MSE['yvals']).apply(int)\n",
    "print('The MSE of the model is', RF_error.mean())\n",
    "print('\\n',classification_report(RandomForest_MSE['yvals'], RandomForest_MSE['pred'], digits=4))\n",
    "RandomForest_error_0 = ((RandomForest_MSE['pred'] == 0) * RF_error).sum() / (RandomForest_MSE['pred'] == 0).sum() \n",
    "RandomForest_error_1 = ((RandomForest_MSE['pred'] == 1) * RF_error).sum() / (RandomForest_MSE['pred'] == 1).sum() \n",
    "print('The error rate for category 0 is', RandomForest_error_0.mean())\n",
    "print('The error rate for category 1 is', RandomForest_error_1.mean())"
   ]
  },
  {
   "cell_type": "markdown",
   "metadata": {},
   "source": [
    "## (c) Support Vector Machines"
   ]
  },
  {
   "cell_type": "code",
   "execution_count": 13,
   "metadata": {},
   "outputs": [
    {
     "name": "stdout",
     "output_type": "stream",
     "text": [
      "When k index = 0\n",
      "The MSE for the test set 0 is 0.5408163265306123\n",
      "\n",
      "              precision    recall  f1-score   support\n",
      "\n",
      "          0     1.0000    0.0364    0.0702        55\n",
      "          1     0.4479    1.0000    0.6187        43\n",
      "\n",
      "avg / total     0.7578    0.4592    0.3109        98\n",
      "\n",
      "The error rate for category 0 is 0.0\n",
      "The error rate for category 1 is 0.5520833333333334\n",
      "\n",
      "\n",
      "When k index = 1\n",
      "The MSE for the test set 1 is 0.5204081632653061\n",
      "\n",
      "              precision    recall  f1-score   support\n",
      "\n",
      "          0     0.4796    1.0000    0.6483        47\n",
      "          1     0.0000    0.0000    0.0000        51\n",
      "\n",
      "avg / total     0.2300    0.4796    0.3109        98\n",
      "\n",
      "The error rate for category 0 is 0.5204081632653061\n",
      "The error rate for category 1 is nan\n",
      "\n",
      "\n",
      "When k index = 2\n",
      "The MSE for the test set 2 is 0.5204081632653061\n",
      "\n",
      "              precision    recall  f1-score   support\n",
      "\n",
      "          0     0.4688    1.0000    0.6383        45\n",
      "          1     1.0000    0.0377    0.0727        53\n",
      "\n",
      "avg / total     0.7561    0.4796    0.3324        98\n",
      "\n",
      "The error rate for category 0 is 0.53125\n",
      "The error rate for category 1 is 0.0\n",
      "\n",
      "\n",
      "When k index = 3\n",
      "The MSE for the test set 3 is 0.4489795918367347\n",
      "\n",
      "              precision    recall  f1-score   support\n",
      "\n",
      "          0     0.5269    1.0000    0.6901        49\n",
      "          1     1.0000    0.1020    0.1852        49\n",
      "\n",
      "avg / total     0.7634    0.5510    0.4377        98\n",
      "\n",
      "The error rate for category 0 is 0.4731182795698925\n",
      "The error rate for category 1 is 0.0\n",
      "\n",
      "\n"
     ]
    }
   ],
   "source": [
    "k = 4\n",
    "kf = KFold(n_splits=k, shuffle=True, random_state=15)\n",
    "kf.get_n_splits(X)\n",
    "svm_MSE = np.zeros(k)\n",
    "svm_error_0 = np.zeros(k)\n",
    "svm_error_1 = np.zeros(k)\n",
    "\n",
    "k_ind = int(0)\n",
    "for train_index, test_index in kf.split(X):\n",
    "    print('When k index =', k_ind)\n",
    "    X_train, X_test = X[train_index], X[test_index]\n",
    "    y_train, y_test = y[train_index], y[test_index]\n",
    "    svc = svm.SVC(kernel='rbf', C=1, gamma = 0.2)\n",
    "    svc.fit(X_train, y_train)\n",
    "    y_pred = svc.predict(X_test)\n",
    "    error = y_test != y_pred\n",
    "    error_all_class = error.mean()\n",
    "    svm_MSE[k_ind] = error_all_class\n",
    "    error_0 = ((y_pred == 0) * error).sum() / (y_pred == 0).sum() \n",
    "    error_1 = ((y_pred == 1) * error).sum() / (y_pred == 1).sum()\n",
    "    svm_error_0[k_ind] = error_0\n",
    "    svm_error_1[k_ind] = error_1\n",
    "    print('The MSE for the test set', k_ind, 'is', error_all_class) \n",
    "    print('\\n', classification_report(y_test, y_pred, digits=4))  \n",
    "    print('The error rate for category 0 is', error_0)\n",
    "    print('The error rate for category 1 is', error_1)\n",
    "    print('\\n')\n",
    "    k_ind += 1"
   ]
  },
  {
   "cell_type": "code",
   "execution_count": 14,
   "metadata": {},
   "outputs": [
    {
     "name": "stdout",
     "output_type": "stream",
     "text": [
      "Report the average MSE and the average error rates:\n",
      "\n",
      "The average MSE across 4 test sets is 0.5076530612244898\n",
      "The average error rate for category 0 is 0.38119411070879966\n",
      "The average error rate for category 1 is 0.1840277777777778\n"
     ]
    }
   ],
   "source": [
    "print('Report the average MSE and the average error rates:\\n')\n",
    "print('The average MSE across 4 test sets is', svm_MSE.mean())\n",
    "print('The average error rate for category 0 is', svm_error_0.mean())\n",
    "svm_error_1 = svm_error_1[~np.isnan(svm_error_1)]\n",
    "print('The average error rate for category 1 is', svm_error_1.mean())"
   ]
  },
  {
   "cell_type": "markdown",
   "metadata": {},
   "source": [
    "## (d) Compare Logistic Regression, Random Forest, and SVM"
   ]
  },
  {
   "cell_type": "code",
   "execution_count": 15,
   "metadata": {},
   "outputs": [
    {
     "name": "stdout",
     "output_type": "stream",
     "text": [
      "Logistic Regression:\n",
      "\n",
      "The average MSE across 4 test sets is 0.10714285714285715\n",
      "The average error rate for category 0 is 0.09470670705864986\n",
      "The average error rate for category 1 is 0.11822664912727025\n",
      "\n",
      "\n",
      "Random Forest:\n",
      "\n",
      "The MSE of the model is 0.07142857142857142\n",
      "The error rate for category 0 is 0.05789473684210526\n",
      "The error rate for category 1 is 0.08415841584158416\n",
      "\n",
      "\n",
      "Support Vector Machines:\n",
      "\n",
      "The average MSE across 4 test sets is 0.5076530612244898\n",
      "The average error rate for category 0 is 0.38119411070879966\n",
      "The average error rate for category 1 is 0.1840277777777778\n",
      "\n",
      "\n"
     ]
    }
   ],
   "source": [
    "print('Logistic Regression:\\n')\n",
    "print('The average MSE across 4 test sets is', LogRegress_MSE.mean())\n",
    "print('The average error rate for category 0 is', LogRegress_error_0.mean())\n",
    "print('The average error rate for category 1 is', LogRegress_error_1.mean())\n",
    "print('\\n')\n",
    "\n",
    "print('Random Forest:\\n')\n",
    "print('The MSE of the model is', RF_error.mean())\n",
    "print('The error rate for category 0 is', RandomForest_error_0.mean())\n",
    "print('The error rate for category 1 is', RandomForest_error_1.mean())\n",
    "print('\\n')\n",
    "\n",
    "print('Support Vector Machines:\\n')\n",
    "print('The average MSE across 4 test sets is', svm_MSE.mean())\n",
    "print('The average error rate for category 0 is', svm_error_0.mean())\n",
    "print('The average error rate for category 1 is', svm_error_1.mean())\n",
    "print('\\n')"
   ]
  },
  {
   "cell_type": "markdown",
   "metadata": {},
   "source": [
    "From the results above, we can see that the Random Forest model has the lowest MSE and error rates for both category 0 and 1; the Logistic Regression model has the second best performance; the SVM has the worst performance. Hence, the Random Forest model seems to be the best predictor of mpg_high. There are several potential reasons for these results. For example, both the Logistic Regression model and the SVM use k-fold cross validation to compute the average MSE, while the Random Forest model uses the oob prediction to compute the MSE. The different method to compute MSE may lead to different results."
   ]
  }
 ],
 "metadata": {
  "kernelspec": {
   "display_name": "Python 3",
   "language": "python",
   "name": "python3"
  },
  "language_info": {
   "codemirror_mode": {
    "name": "ipython",
    "version": 3
   },
   "file_extension": ".py",
   "mimetype": "text/x-python",
   "name": "python",
   "nbconvert_exporter": "python",
   "pygments_lexer": "ipython3",
   "version": "3.6.4"
  }
 },
 "nbformat": 4,
 "nbformat_minor": 2
}
