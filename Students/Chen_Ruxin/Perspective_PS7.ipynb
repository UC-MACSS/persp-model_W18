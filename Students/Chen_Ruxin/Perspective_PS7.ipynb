{
 "cells": [
  {
   "cell_type": "markdown",
   "metadata": {},
   "source": [
    "### Perspective PS7"
   ]
  },
  {
   "cell_type": "markdown",
   "metadata": {},
   "source": [
    "#### 1. Classifier \"horse\" race"
   ]
  },
  {
   "cell_type": "code",
   "execution_count": 1,
   "metadata": {
    "collapsed": true
   },
   "outputs": [],
   "source": [
    "# a). \n",
    "import numpy as np\n",
    "import pandas as pd\n",
    "from sklearn.linear_model import LogisticRegression\n",
    "from sklearn.metrics import classification_report\n",
    "from sklearn.metrics import confusion_matrix, mean_squared_error\n",
    "auto = pd.read_csv(\"Auto.csv\", na_values='?')\n",
    "auto = auto.dropna()"
   ]
  },
  {
   "cell_type": "code",
   "execution_count": 2,
   "metadata": {},
   "outputs": [
    {
     "data": {
      "text/plain": [
       "mpg             float64\n",
       "cylinders         int64\n",
       "displacement    float64\n",
       "horsepower      float64\n",
       "weight            int64\n",
       "acceleration    float64\n",
       "year              int64\n",
       "origin            int64\n",
       "name             object\n",
       "dtype: object"
      ]
     },
     "execution_count": 2,
     "metadata": {},
     "output_type": "execute_result"
    }
   ],
   "source": [
    "auto.dtypes"
   ]
  },
  {
   "cell_type": "code",
   "execution_count": 3,
   "metadata": {},
   "outputs": [
    {
     "data": {
      "text/html": [
       "<div>\n",
       "<style>\n",
       "    .dataframe thead tr:only-child th {\n",
       "        text-align: right;\n",
       "    }\n",
       "\n",
       "    .dataframe thead th {\n",
       "        text-align: left;\n",
       "    }\n",
       "\n",
       "    .dataframe tbody tr th {\n",
       "        vertical-align: top;\n",
       "    }\n",
       "</style>\n",
       "<table border=\"1\" class=\"dataframe\">\n",
       "  <thead>\n",
       "    <tr style=\"text-align: right;\">\n",
       "      <th></th>\n",
       "      <th>mpg</th>\n",
       "      <th>cylinders</th>\n",
       "      <th>displacement</th>\n",
       "      <th>horsepower</th>\n",
       "      <th>weight</th>\n",
       "      <th>acceleration</th>\n",
       "      <th>year</th>\n",
       "      <th>origin</th>\n",
       "      <th>name</th>\n",
       "      <th>mpg_high</th>\n",
       "    </tr>\n",
       "  </thead>\n",
       "  <tbody>\n",
       "    <tr>\n",
       "      <th>0</th>\n",
       "      <td>18.0</td>\n",
       "      <td>8</td>\n",
       "      <td>307.0</td>\n",
       "      <td>130.0</td>\n",
       "      <td>3504</td>\n",
       "      <td>12.0</td>\n",
       "      <td>70</td>\n",
       "      <td>1</td>\n",
       "      <td>chevrolet chevelle malibu</td>\n",
       "      <td>0</td>\n",
       "    </tr>\n",
       "    <tr>\n",
       "      <th>1</th>\n",
       "      <td>15.0</td>\n",
       "      <td>8</td>\n",
       "      <td>350.0</td>\n",
       "      <td>165.0</td>\n",
       "      <td>3693</td>\n",
       "      <td>11.5</td>\n",
       "      <td>70</td>\n",
       "      <td>1</td>\n",
       "      <td>buick skylark 320</td>\n",
       "      <td>0</td>\n",
       "    </tr>\n",
       "    <tr>\n",
       "      <th>2</th>\n",
       "      <td>18.0</td>\n",
       "      <td>8</td>\n",
       "      <td>318.0</td>\n",
       "      <td>150.0</td>\n",
       "      <td>3436</td>\n",
       "      <td>11.0</td>\n",
       "      <td>70</td>\n",
       "      <td>1</td>\n",
       "      <td>plymouth satellite</td>\n",
       "      <td>0</td>\n",
       "    </tr>\n",
       "    <tr>\n",
       "      <th>3</th>\n",
       "      <td>16.0</td>\n",
       "      <td>8</td>\n",
       "      <td>304.0</td>\n",
       "      <td>150.0</td>\n",
       "      <td>3433</td>\n",
       "      <td>12.0</td>\n",
       "      <td>70</td>\n",
       "      <td>1</td>\n",
       "      <td>amc rebel sst</td>\n",
       "      <td>0</td>\n",
       "    </tr>\n",
       "    <tr>\n",
       "      <th>4</th>\n",
       "      <td>17.0</td>\n",
       "      <td>8</td>\n",
       "      <td>302.0</td>\n",
       "      <td>140.0</td>\n",
       "      <td>3449</td>\n",
       "      <td>10.5</td>\n",
       "      <td>70</td>\n",
       "      <td>1</td>\n",
       "      <td>ford torino</td>\n",
       "      <td>0</td>\n",
       "    </tr>\n",
       "  </tbody>\n",
       "</table>\n",
       "</div>"
      ],
      "text/plain": [
       "    mpg  cylinders  displacement  horsepower  weight  acceleration  year  \\\n",
       "0  18.0          8         307.0       130.0    3504          12.0    70   \n",
       "1  15.0          8         350.0       165.0    3693          11.5    70   \n",
       "2  18.0          8         318.0       150.0    3436          11.0    70   \n",
       "3  16.0          8         304.0       150.0    3433          12.0    70   \n",
       "4  17.0          8         302.0       140.0    3449          10.5    70   \n",
       "\n",
       "   origin                       name mpg_high  \n",
       "0       1  chevrolet chevelle malibu        0  \n",
       "1       1          buick skylark 320        0  \n",
       "2       1         plymouth satellite        0  \n",
       "3       1              amc rebel sst        0  \n",
       "4       1                ford torino        0  "
      ]
     },
     "execution_count": 3,
     "metadata": {},
     "output_type": "execute_result"
    }
   ],
   "source": [
    "mpg_high = auto['mpg'].apply(lambda x: 1 if x >= auto['mpg'].median() else 0).astype('category')\n",
    "auto['horsepower'] = auto['horsepower'].astype('float64')\n",
    "auto['mpg_high'] = mpg_high\n",
    "auto.head()"
   ]
  },
  {
   "cell_type": "code",
   "execution_count": 4,
   "metadata": {},
   "outputs": [
    {
     "data": {
      "text/html": [
       "<div>\n",
       "<style>\n",
       "    .dataframe thead tr:only-child th {\n",
       "        text-align: right;\n",
       "    }\n",
       "\n",
       "    .dataframe thead th {\n",
       "        text-align: left;\n",
       "    }\n",
       "\n",
       "    .dataframe tbody tr th {\n",
       "        vertical-align: top;\n",
       "    }\n",
       "</style>\n",
       "<table border=\"1\" class=\"dataframe\">\n",
       "  <thead>\n",
       "    <tr style=\"text-align: right;\">\n",
       "      <th></th>\n",
       "      <th>cylinders</th>\n",
       "      <th>displacement</th>\n",
       "      <th>horsepower</th>\n",
       "      <th>weight</th>\n",
       "      <th>acceleration</th>\n",
       "      <th>year</th>\n",
       "      <th>origin</th>\n",
       "    </tr>\n",
       "  </thead>\n",
       "  <tbody>\n",
       "    <tr>\n",
       "      <th>0</th>\n",
       "      <td>8</td>\n",
       "      <td>307.0</td>\n",
       "      <td>130.0</td>\n",
       "      <td>3504</td>\n",
       "      <td>12.0</td>\n",
       "      <td>70</td>\n",
       "      <td>1</td>\n",
       "    </tr>\n",
       "    <tr>\n",
       "      <th>1</th>\n",
       "      <td>8</td>\n",
       "      <td>350.0</td>\n",
       "      <td>165.0</td>\n",
       "      <td>3693</td>\n",
       "      <td>11.5</td>\n",
       "      <td>70</td>\n",
       "      <td>1</td>\n",
       "    </tr>\n",
       "    <tr>\n",
       "      <th>2</th>\n",
       "      <td>8</td>\n",
       "      <td>318.0</td>\n",
       "      <td>150.0</td>\n",
       "      <td>3436</td>\n",
       "      <td>11.0</td>\n",
       "      <td>70</td>\n",
       "      <td>1</td>\n",
       "    </tr>\n",
       "    <tr>\n",
       "      <th>3</th>\n",
       "      <td>8</td>\n",
       "      <td>304.0</td>\n",
       "      <td>150.0</td>\n",
       "      <td>3433</td>\n",
       "      <td>12.0</td>\n",
       "      <td>70</td>\n",
       "      <td>1</td>\n",
       "    </tr>\n",
       "    <tr>\n",
       "      <th>4</th>\n",
       "      <td>8</td>\n",
       "      <td>302.0</td>\n",
       "      <td>140.0</td>\n",
       "      <td>3449</td>\n",
       "      <td>10.5</td>\n",
       "      <td>70</td>\n",
       "      <td>1</td>\n",
       "    </tr>\n",
       "  </tbody>\n",
       "</table>\n",
       "</div>"
      ],
      "text/plain": [
       "   cylinders  displacement  horsepower  weight  acceleration  year  origin\n",
       "0          8         307.0       130.0    3504          12.0    70       1\n",
       "1          8         350.0       165.0    3693          11.5    70       1\n",
       "2          8         318.0       150.0    3436          11.0    70       1\n",
       "3          8         304.0       150.0    3433          12.0    70       1\n",
       "4          8         302.0       140.0    3449          10.5    70       1"
      ]
     },
     "execution_count": 4,
     "metadata": {},
     "output_type": "execute_result"
    }
   ],
   "source": [
    "X = auto[['cylinders','displacement','horsepower','weight','acceleration','year','origin']]\n",
    "Xvals = X.values\n",
    "yvals = auto.mpg_high.values\n",
    "X.head()"
   ]
  },
  {
   "cell_type": "code",
   "execution_count": 5,
   "metadata": {},
   "outputs": [
    {
     "name": "stdout",
     "output_type": "stream",
     "text": [
      "k index= 0\n",
      "MSE for test set 0  is 0.0918367346939\n",
      "Error rate (low, 0):  0.0576923076923\n",
      "Error rate (high, 1):  0.130434782609\n",
      "\n",
      "              precision    recall  f1-score   support\n",
      "\n",
      "          0      0.942     0.891     0.916        55\n",
      "          1      0.870     0.930     0.899        43\n",
      "\n",
      "avg / total      0.910     0.908     0.908        98\n",
      "\n",
      "k index= 1\n",
      "MSE for test set 1  is 0.102040816327\n",
      "Error rate (low, 0):  0.122448979592\n",
      "Error rate (high, 1):  0.0816326530612\n",
      "\n",
      "              precision    recall  f1-score   support\n",
      "\n",
      "          0      0.878     0.915     0.896        47\n",
      "          1      0.918     0.882     0.900        51\n",
      "\n",
      "avg / total      0.899     0.898     0.898        98\n",
      "\n",
      "k index= 2\n",
      "MSE for test set 2  is 0.132653061224\n",
      "Error rate (low, 0):  0.152173913043\n",
      "Error rate (high, 1):  0.115384615385\n",
      "\n",
      "              precision    recall  f1-score   support\n",
      "\n",
      "          0      0.848     0.867     0.857        45\n",
      "          1      0.885     0.868     0.876        53\n",
      "\n",
      "avg / total      0.868     0.867     0.867        98\n",
      "\n",
      "k index= 3\n",
      "MSE for test set 3  is 0.102040816327\n",
      "Error rate (low, 0):  0.046511627907\n",
      "Error rate (high, 1):  0.145454545455\n",
      "\n",
      "              precision    recall  f1-score   support\n",
      "\n",
      "          0      0.953     0.837     0.891        49\n",
      "          1      0.855     0.959     0.904        49\n",
      "\n",
      "avg / total      0.904     0.898     0.898        98\n",
      "\n",
      "test estimate MSE k-fold= 0.107142857143\n",
      "The average error rate of mpg_high = 0 is 0.0947067070586\n",
      "The average error rate of mpg_high = 1 is 0.118226649127\n"
     ]
    }
   ],
   "source": [
    "from sklearn.model_selection import train_test_split, KFold\n",
    "k = 4\n",
    "kf = KFold(n_splits=k, random_state=15, shuffle=True)\n",
    "kf.get_n_splits(Xvals)\n",
    "\n",
    "MSE_vec_kf = np.zeros(k)\n",
    "e_0 = np.zeros(k)\n",
    "e_1 = np.zeros(k)\n",
    "\n",
    "k_ind = int(0)\n",
    "for train_index, test_index in kf.split(Xvals):\n",
    "    # print(\"TRAIN:\", train_index, \"TEST:\", test_index)\n",
    "    print('k index=', k_ind)\n",
    "    X_train, X_test = Xvals[train_index], Xvals[test_index]\n",
    "    y_train, y_test = yvals[train_index], yvals[test_index]\n",
    "    LogReg = LogisticRegression(fit_intercept=True)\n",
    "    LogReg.fit(X_train, y_train)\n",
    "    y_pred = LogReg.predict(X_test)\n",
    "    MSE_vec_kf[k_ind] = ((y_test - y_pred) ** 2).mean()\n",
    "    print('MSE for test set', k_ind, ' is', MSE_vec_kf[k_ind])\n",
    "    err0 = ((y_pred==0)*(np.abs(y_test-y_pred))).sum() / (y_pred==0).sum()\n",
    "    e_0[k_ind] = (err0)\n",
    "    err1 = ((y_pred==1)*(np.abs(y_test-y_pred))).sum() / (y_pred==1).sum()\n",
    "    e_1[k_ind] = (err1)\n",
    "    print('Error rate (low, 0): ', err0)\n",
    "    print('Error rate (high, 1): ', err1)\n",
    "    print('\\n',classification_report(y_test, y_pred, digits=3))\n",
    "    k_ind += 1\n",
    "\n",
    "MSE_kf = MSE_vec_kf.mean()\n",
    "MSE_kf_std = MSE_vec_kf.std()\n",
    "print('test estimate MSE k-fold=', MSE_kf)\n",
    "print('The average error rate of mpg_high = 0 is', e_0.mean())\n",
    "print('The average error rate of mpg_high = 1 is', e_1.mean())"
   ]
  },
  {
   "cell_type": "code",
   "execution_count": 6,
   "metadata": {},
   "outputs": [
    {
     "data": {
      "text/plain": [
       "RandomForestClassifier(bootstrap=True, class_weight=None, criterion='gini',\n",
       "            max_depth=None, max_features=2, max_leaf_nodes=None,\n",
       "            min_impurity_decrease=0.0, min_impurity_split=None,\n",
       "            min_samples_leaf=1, min_samples_split=2,\n",
       "            min_weight_fraction_leaf=0.0, n_estimators=20, n_jobs=1,\n",
       "            oob_score=True, random_state=25, verbose=0, warm_start=False)"
      ]
     },
     "execution_count": 6,
     "metadata": {},
     "output_type": "execute_result"
    }
   ],
   "source": [
    "# b). \n",
    "from sklearn.ensemble import RandomForestClassifier\n",
    "Xvals = auto[['cylinders','displacement','horsepower','weight','acceleration','year','origin']].values\n",
    "rf = RandomForestClassifier(n_estimators=20, max_features=2, bootstrap=True,\n",
    "                           oob_score=True, random_state=25)\n",
    "rf.fit(Xvals, yvals)"
   ]
  },
  {
   "cell_type": "code",
   "execution_count": 7,
   "metadata": {},
   "outputs": [
    {
     "name": "stdout",
     "output_type": "stream",
     "text": [
      "The MSE of the random forest model is: 0.0714285714286\n",
      "The MSE of the mpg_high = 0 is: 0.0578947368421\n",
      "The MSE of the mpg_high = 1 is: 0.0841584158416\n"
     ]
    }
   ],
   "source": [
    "rf_pred = rf.oob_decision_function_\n",
    "MSE_rf = pd.DataFrame({'ypred' : rf_pred.T[1], 'yvals': yvals})\n",
    "MSE_rf['ypred'] = MSE_rf['ypred'].apply(lambda x: 1 if x >= 0.5 else 0)\n",
    "MSE_model = mean_squared_error(MSE_rf['yvals'], MSE_rf['ypred'])\n",
    "print('The MSE of the random forest model is:',MSE_model)\n",
    "MSE_rf_0 = MSE_rf[MSE_rf['ypred'] < 0.5]\n",
    "MSE_0 = mean_squared_error(MSE_rf_0['yvals'], MSE_rf_0['ypred'])\n",
    "print('The MSE of the mpg_high = 0 is:',MSE_0)\n",
    "MSE_rf_1 = MSE_rf[MSE_rf['ypred'] >= 0.5]\n",
    "MSE_1 = mean_squared_error(MSE_rf_1['yvals'], MSE_rf_1['ypred'])\n",
    "print('The MSE of the mpg_high = 1 is:',MSE_1)"
   ]
  },
  {
   "cell_type": "code",
   "execution_count": 14,
   "metadata": {},
   "outputs": [
    {
     "name": "stdout",
     "output_type": "stream",
     "text": [
      "k index= 0\n",
      "MSE for test set 0  is 0.540816326531\n",
      "Error rate (low, 0):  0.0\n",
      "Error rate (high, 1):  0.552083333333\n",
      "\n",
      "              precision    recall  f1-score   support\n",
      "\n",
      "          0      1.000     0.036     0.070        55\n",
      "          1      0.448     1.000     0.619        43\n",
      "\n",
      "avg / total      0.758     0.459     0.311        98\n",
      "\n",
      "k index= 1\n",
      "MSE for test set 1  is 0.520408163265\n",
      "Error rate (low, 0):  0.520408163265\n",
      "Error rate (high, 1):  nan\n",
      "\n",
      "              precision    recall  f1-score   support\n",
      "\n",
      "          0      0.480     1.000     0.648        47\n",
      "          1      0.000     0.000     0.000        51\n",
      "\n",
      "avg / total      0.230     0.480     0.311        98\n",
      "\n",
      "k index= 2\n",
      "MSE for test set 2  is 0.520408163265\n",
      "Error rate (low, 0):  0.53125\n",
      "Error rate (high, 1):  0.0\n",
      "\n",
      "              precision    recall  f1-score   support\n",
      "\n",
      "          0      0.469     1.000     0.638        45\n",
      "          1      1.000     0.038     0.073        53\n",
      "\n",
      "avg / total      0.756     0.480     0.332        98\n",
      "\n",
      "k index= 3\n",
      "MSE for test set 3  is 0.448979591837\n",
      "Error rate (low, 0):  0.47311827957\n",
      "Error rate (high, 1):  0.0\n",
      "\n",
      "              precision    recall  f1-score   support\n",
      "\n",
      "          0      0.527     1.000     0.690        49\n",
      "          1      1.000     0.102     0.185        49\n",
      "\n",
      "avg / total      0.763     0.551     0.438        98\n",
      "\n"
     ]
    },
    {
     "name": "stderr",
     "output_type": "stream",
     "text": [
      "/Users/ivychen/anaconda3/lib/python3.6/site-packages/ipykernel_launcher.py:20: RuntimeWarning: invalid value encountered in long_scalars\n",
      "/Users/ivychen/anaconda3/lib/python3.6/site-packages/sklearn/metrics/classification.py:1135: UndefinedMetricWarning: Precision and F-score are ill-defined and being set to 0.0 in labels with no predicted samples.\n",
      "  'precision', 'predicted', average, warn_for)\n"
     ]
    }
   ],
   "source": [
    "# c). \n",
    "from sklearn.svm import SVC\n",
    "kf = KFold(n_splits=k, random_state=15, shuffle=True)\n",
    "kf.get_n_splits(Xvals)\n",
    "error_0 = np.zeros(k)\n",
    "error_1 = np.zeros(k)\n",
    "MSE_vec_kf = np.zeros(k)\n",
    "k_ind = int(0)\n",
    "for train_index, test_index in kf.split(Xvals):\n",
    "    # print(\"TRAIN:\", train_index, \"TEST:\", test_index)\n",
    "    print('k index=', k_ind)\n",
    "    X_train, X_test = Xvals[train_index], Xvals[test_index]\n",
    "    y_train, y_test = yvals[train_index], yvals[test_index]\n",
    "    svc = SVC(kernel='rbf', gamma = 0.2, C=1)\n",
    "    svc.fit(X_train, y_train)\n",
    "    y_pred = svc.predict(X_test)\n",
    "    error = y_test != y_pred  \n",
    "    MSE_vec_kf[k_ind] = ((y_test - y_pred) ** 2).mean()\n",
    "    e_0 = ((y_pred==0)* error).sum() / (y_pred==0).sum()\n",
    "    e_1 = ((y_pred==1)* error).sum() / (y_pred==1).sum()\n",
    "    error_0[k_ind] = (e_0)\n",
    "    error_1[k_ind] = (e_1)\n",
    "    print('MSE for test set', k_ind, ' is', MSE_vec_kf[k_ind])\n",
    "    print('Error rate (low, 0): ', e_0)\n",
    "    print('Error rate (high, 1): ', e_1)\n",
    "    print('\\n',classification_report(y_test, y_pred, digits=3))\n",
    "    k_ind += 1\n"
   ]
  },
  {
   "cell_type": "code",
   "execution_count": 13,
   "metadata": {},
   "outputs": [
    {
     "name": "stdout",
     "output_type": "stream",
     "text": [
      "\n",
      "test estimate MSE k-fold= 0.507653061224\n",
      "The average error rate of mpg_high = 0 is 0.381194110709\n",
      "The average error rate of mpg_high = 1 is 0.184027777778\n"
     ]
    }
   ],
   "source": [
    "MSE_kf = MSE_vec_kf.mean()\n",
    "MSE_kf_std = MSE_vec_kf.std()\n",
    "print()\n",
    "print('test estimate MSE k-fold=', MSE_kf)\n",
    "\n",
    "error_0 = error_0[~np.isnan(error_0)]\n",
    "error_1 = error_1[~np.isnan(error_1)]\n",
    "print('The average error rate of mpg_high = 0 is', error_0.mean())\n",
    "print('The average error rate of mpg_high = 1 is', error_1.mean())"
   ]
  },
  {
   "cell_type": "code",
   "execution_count": 17,
   "metadata": {},
   "outputs": [
    {
     "name": "stdout",
     "output_type": "stream",
     "text": [
      "When k = 0\n",
      "             precision    recall  f1-score   support\n",
      "\n",
      "          0      1.000     0.036     0.070        55\n",
      "          1      0.448     1.000     0.619        43\n",
      "\n",
      "avg / total      0.758     0.459     0.311        98\n",
      "\n",
      "The error rate of mpg_high = 0 is 0.0\n",
      "The error rate of mpg_high = 1 is 0.552083333333\n",
      "The MSE is 0.540816326531\n",
      "\n",
      "When k = 1\n",
      "             precision    recall  f1-score   support\n",
      "\n",
      "          0      0.480     1.000     0.648        47\n",
      "          1      0.000     0.000     0.000        51\n",
      "\n",
      "avg / total      0.230     0.480     0.311        98\n",
      "\n",
      "The error rate of mpg_high = 0 is 0.520408163265\n",
      "The error rate of mpg_high = 1 is nan\n",
      "The MSE is 0.520408163265\n",
      "\n",
      "When k = 2\n",
      "             precision    recall  f1-score   support\n",
      "\n",
      "          0      0.469     1.000     0.638        45\n",
      "          1      1.000     0.038     0.073        53\n",
      "\n",
      "avg / total      0.756     0.480     0.332        98\n",
      "\n",
      "The error rate of mpg_high = 0 is 0.53125\n",
      "The error rate of mpg_high = 1 is 0.0\n",
      "The MSE is 0.520408163265\n",
      "\n",
      "When k = 3\n",
      "             precision    recall  f1-score   support\n",
      "\n",
      "          0      0.527     1.000     0.690        49\n",
      "          1      1.000     0.102     0.185        49\n",
      "\n",
      "avg / total      0.763     0.551     0.438        98\n",
      "\n",
      "The error rate of mpg_high = 0 is 0.47311827957\n",
      "The error rate of mpg_high = 1 is 0.0\n",
      "The MSE is 0.448979591837\n",
      "\n"
     ]
    },
    {
     "name": "stderr",
     "output_type": "stream",
     "text": [
      "/Users/ivychen/anaconda3/lib/python3.6/site-packages/ipykernel_launcher.py:19: RuntimeWarning: invalid value encountered in long_scalars\n",
      "/Users/ivychen/anaconda3/lib/python3.6/site-packages/sklearn/metrics/classification.py:1135: UndefinedMetricWarning: Precision and F-score are ill-defined and being set to 0.0 in labels with no predicted samples.\n",
      "  'precision', 'predicted', average, warn_for)\n"
     ]
    }
   ],
   "source": [
    "k = 4\n",
    "kf = KFold(n_splits=k, random_state=15, shuffle=True)\n",
    "kf.get_n_splits(Xvals)\n",
    "SVMGeneral_error_0 = np.zeros(k)\n",
    "SVMGeneral_error_1 = np.zeros(k)\n",
    "SVMGeneral_MSE = np.zeros(k)\n",
    "\n",
    "k_ind = int(0)\n",
    "for train_index, test_index in kf.split(Xvals):\n",
    "    print('When k =', k_ind)\n",
    "    X_train, X_test = Xvals[train_index], Xvals[test_index]\n",
    "    y_train, y_test = yvals[train_index], yvals[test_index]\n",
    "    svc = SVC(kernel='rbf', gamma = 0.2, C=1)\n",
    "    svc.fit(X_train, y_train)\n",
    "    y_pred = svc.predict(X_test)\n",
    "    error = y_test != y_pred\n",
    "    error_all_class = error.mean()\n",
    "    error_0 = ((y_pred == 0) * error).sum() / (y_pred == 0).sum() \n",
    "    error_1 = ((y_pred == 1) * error).sum() / (y_pred == 1).sum()\n",
    "    SVMGeneral_error_0[k_ind] = error_0\n",
    "    SVMGeneral_error_1[k_ind] = error_1\n",
    "    SVMGeneral_MSE[k_ind] = error_all_class\n",
    "    print(classification_report(y_test, y_pred, digits=3))  \n",
    "    print('The error rate of mpg_high = 0 is', error_0)\n",
    "    print('The error rate of mpg_high = 1 is', error_1)\n",
    "    print('The MSE is', error_all_class) \n",
    "    print()\n",
    "    k_ind += 1"
   ]
  },
  {
   "cell_type": "code",
   "execution_count": 9,
   "metadata": {
    "collapsed": true
   },
   "outputs": [],
   "source": [
    "# d). "
   ]
  },
  {
   "cell_type": "markdown",
   "metadata": {},
   "source": [
    "According to the result presented above, the random forest model performs the best. The MSE for the logistic regression model, random forest model and the SVM model are 0.1071, 0.0714 and 0.5077 accordingly. While SVM behaves poorly in this scenario since the prediction goes wrong more than half of the time. Then if we take a look at the prediction error for each category of mpg_high, the random forest model will provide lower error rates than the logistic model for both y=0 and y =1 cases.   "
   ]
  },
  {
   "cell_type": "code",
   "execution_count": null,
   "metadata": {
    "collapsed": true
   },
   "outputs": [],
   "source": []
  }
 ],
 "metadata": {
  "kernelspec": {
   "display_name": "Python 3",
   "language": "python",
   "name": "python3"
  },
  "language_info": {
   "codemirror_mode": {
    "name": "ipython",
    "version": 3
   },
   "file_extension": ".py",
   "mimetype": "text/x-python",
   "name": "python",
   "nbconvert_exporter": "python",
   "pygments_lexer": "ipython3",
   "version": "3.6.3"
  }
 },
 "nbformat": 4,
 "nbformat_minor": 2
}
