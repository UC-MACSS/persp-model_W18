{
 "cells": [
  {
   "cell_type": "markdown",
   "metadata": {},
   "source": [
    "# Problem 1\n"
   ]
  },
  {
   "cell_type": "code",
   "execution_count": 81,
   "metadata": {},
   "outputs": [],
   "source": [
    "import numpy as np\n",
    "import pandas as pd\n",
    "from pandas import Series, DataFrame\n",
    "\n",
    "import sklearn\n",
    "from sklearn import preprocessing\n",
    "from sklearn.linear_model import LogisticRegression\n",
    "from sklearn.cross_validation import train_test_split\n",
    "from sklearn import metrics \n",
    "from sklearn.metrics import classification_report, confusion_matrix, mean_squared_error\n",
    "from pylab import rcParams\n",
    "\n",
    "import matplotlib.pyplot as plt\n",
    "import seaborn as sb\n",
    "%matplotlib inline\n",
    "rcParams['figure.figsize'] = 10, 8\n",
    "sb.set_style('whitegrid')\n",
    "\n",
    "drink = pd.read_csv(\"data/strongdrink.txt\")"
   ]
  },
  {
   "cell_type": "code",
   "execution_count": 82,
   "metadata": {},
   "outputs": [
    {
     "data": {
      "text/html": [
       "<div>\n",
       "<style>\n",
       "    .dataframe thead tr:only-child th {\n",
       "        text-align: right;\n",
       "    }\n",
       "\n",
       "    .dataframe thead th {\n",
       "        text-align: left;\n",
       "    }\n",
       "\n",
       "    .dataframe tbody tr th {\n",
       "        vertical-align: top;\n",
       "    }\n",
       "</style>\n",
       "<table border=\"1\" class=\"dataframe\">\n",
       "  <thead>\n",
       "    <tr style=\"text-align: right;\">\n",
       "      <th></th>\n",
       "      <th>cultivar</th>\n",
       "      <th>alco</th>\n",
       "      <th>malic</th>\n",
       "      <th>ash</th>\n",
       "      <th>alk</th>\n",
       "      <th>magn</th>\n",
       "      <th>tot_phen</th>\n",
       "      <th>flav</th>\n",
       "      <th>nonfl_phen</th>\n",
       "      <th>proanth</th>\n",
       "      <th>color_int</th>\n",
       "      <th>hue</th>\n",
       "      <th>OD280rat</th>\n",
       "      <th>proline</th>\n",
       "    </tr>\n",
       "  </thead>\n",
       "  <tbody>\n",
       "    <tr>\n",
       "      <th>0</th>\n",
       "      <td>1</td>\n",
       "      <td>14.23</td>\n",
       "      <td>1.71</td>\n",
       "      <td>2.43</td>\n",
       "      <td>15.6</td>\n",
       "      <td>127</td>\n",
       "      <td>2.80</td>\n",
       "      <td>3.06</td>\n",
       "      <td>0.28</td>\n",
       "      <td>2.29</td>\n",
       "      <td>5.64</td>\n",
       "      <td>1.04</td>\n",
       "      <td>3.92</td>\n",
       "      <td>1065</td>\n",
       "    </tr>\n",
       "    <tr>\n",
       "      <th>1</th>\n",
       "      <td>1</td>\n",
       "      <td>13.20</td>\n",
       "      <td>1.78</td>\n",
       "      <td>2.14</td>\n",
       "      <td>11.2</td>\n",
       "      <td>100</td>\n",
       "      <td>2.65</td>\n",
       "      <td>2.76</td>\n",
       "      <td>0.26</td>\n",
       "      <td>1.28</td>\n",
       "      <td>4.38</td>\n",
       "      <td>1.05</td>\n",
       "      <td>3.40</td>\n",
       "      <td>1050</td>\n",
       "    </tr>\n",
       "    <tr>\n",
       "      <th>2</th>\n",
       "      <td>1</td>\n",
       "      <td>13.16</td>\n",
       "      <td>2.36</td>\n",
       "      <td>2.67</td>\n",
       "      <td>18.6</td>\n",
       "      <td>101</td>\n",
       "      <td>2.80</td>\n",
       "      <td>3.24</td>\n",
       "      <td>0.30</td>\n",
       "      <td>2.81</td>\n",
       "      <td>5.68</td>\n",
       "      <td>1.03</td>\n",
       "      <td>3.17</td>\n",
       "      <td>1185</td>\n",
       "    </tr>\n",
       "    <tr>\n",
       "      <th>3</th>\n",
       "      <td>1</td>\n",
       "      <td>14.37</td>\n",
       "      <td>1.95</td>\n",
       "      <td>2.50</td>\n",
       "      <td>16.8</td>\n",
       "      <td>113</td>\n",
       "      <td>3.85</td>\n",
       "      <td>3.49</td>\n",
       "      <td>0.24</td>\n",
       "      <td>2.18</td>\n",
       "      <td>7.80</td>\n",
       "      <td>0.86</td>\n",
       "      <td>3.45</td>\n",
       "      <td>1480</td>\n",
       "    </tr>\n",
       "    <tr>\n",
       "      <th>4</th>\n",
       "      <td>1</td>\n",
       "      <td>13.24</td>\n",
       "      <td>2.59</td>\n",
       "      <td>2.87</td>\n",
       "      <td>21.0</td>\n",
       "      <td>118</td>\n",
       "      <td>2.80</td>\n",
       "      <td>2.69</td>\n",
       "      <td>0.39</td>\n",
       "      <td>1.82</td>\n",
       "      <td>4.32</td>\n",
       "      <td>1.04</td>\n",
       "      <td>2.93</td>\n",
       "      <td>735</td>\n",
       "    </tr>\n",
       "  </tbody>\n",
       "</table>\n",
       "</div>"
      ],
      "text/plain": [
       "   cultivar   alco  malic   ash   alk  magn  tot_phen  flav  nonfl_phen  \\\n",
       "0         1  14.23   1.71  2.43  15.6   127      2.80  3.06        0.28   \n",
       "1         1  13.20   1.78  2.14  11.2   100      2.65  2.76        0.26   \n",
       "2         1  13.16   2.36  2.67  18.6   101      2.80  3.24        0.30   \n",
       "3         1  14.37   1.95  2.50  16.8   113      3.85  3.49        0.24   \n",
       "4         1  13.24   2.59  2.87  21.0   118      2.80  2.69        0.39   \n",
       "\n",
       "   proanth  color_int   hue  OD280rat  proline  \n",
       "0     2.29       5.64  1.04      3.92     1065  \n",
       "1     1.28       4.38  1.05      3.40     1050  \n",
       "2     2.81       5.68  1.03      3.17     1185  \n",
       "3     2.18       7.80  0.86      3.45     1480  \n",
       "4     1.82       4.32  1.04      2.93      735  "
      ]
     },
     "execution_count": 82,
     "metadata": {},
     "output_type": "execute_result"
    }
   ],
   "source": [
    "drink.head()"
   ]
  },
  {
   "cell_type": "code",
   "execution_count": 83,
   "metadata": {},
   "outputs": [
    {
     "name": "stdout",
     "output_type": "stream",
     "text": [
      "<class 'pandas.core.frame.DataFrame'>\n",
      "RangeIndex: 176 entries, 0 to 175\n",
      "Data columns (total 14 columns):\n",
      "cultivar      176 non-null int64\n",
      "alco          176 non-null float64\n",
      "malic         176 non-null float64\n",
      "ash           176 non-null float64\n",
      "alk           176 non-null float64\n",
      "magn          176 non-null int64\n",
      "tot_phen      176 non-null float64\n",
      "flav          176 non-null float64\n",
      "nonfl_phen    176 non-null float64\n",
      "proanth       176 non-null float64\n",
      "color_int     176 non-null float64\n",
      "hue           176 non-null float64\n",
      "OD280rat      176 non-null float64\n",
      "proline       176 non-null int64\n",
      "dtypes: float64(11), int64(3)\n",
      "memory usage: 19.3 KB\n"
     ]
    }
   ],
   "source": [
    "drink.isnull().sum()\n",
    "drink.info()"
   ]
  },
  {
   "cell_type": "markdown",
   "metadata": {},
   "source": [
    "## (a)"
   ]
  },
  {
   "cell_type": "code",
   "execution_count": 84,
   "metadata": {},
   "outputs": [
    {
     "name": "stderr",
     "output_type": "stream",
     "text": [
      "/anaconda3/lib/python3.6/site-packages/sklearn/utils/validation.py:578: DataConversionWarning: A column-vector y was passed when a 1d array was expected. Please change the shape of y to (n_samples, ), for example using ravel().\n",
      "  y = column_or_1d(y, warn=True)\n"
     ]
    },
    {
     "data": {
      "text/plain": [
       "LogisticRegression(C=1.0, class_weight=None, dual=False, fit_intercept=True,\n",
       "          intercept_scaling=1, max_iter=100, multi_class='multinomial',\n",
       "          n_jobs=1, penalty='l2', random_state=None, solver='newton-cg',\n",
       "          tol=0.0001, verbose=0, warm_start=False)"
      ]
     },
     "execution_count": 84,
     "metadata": {},
     "output_type": "execute_result"
    }
   ],
   "source": [
    "X = drink[['alco', 'malic', 'tot_phen', 'color_int']]\n",
    "y = drink[['cultivar']]\n",
    "X_train, X_test, y_train, y_test = train_test_split(X, y, \\\n",
    "                                                    test_size = 0.25, random_state = 20)\n",
    "MultLogReg = LogisticRegression(multi_class='multinomial',\n",
    "                                solver='newton-cg')\n",
    "MultLogReg.fit(X_train, y_train)"
   ]
  },
  {
   "cell_type": "code",
   "execution_count": 85,
   "metadata": {
    "collapsed": true
   },
   "outputs": [],
   "source": [
    "y_pred = MultLogReg.predict(X_test)"
   ]
  },
  {
   "cell_type": "code",
   "execution_count": 86,
   "metadata": {},
   "outputs": [
    {
     "data": {
      "text/plain": [
       "array([[ 1.70042787, -0.26560797,  1.22389494,  0.02275098],\n",
       "       [-1.46801414, -0.3330517 ,  0.66400715, -0.92271023],\n",
       "       [-0.23241339,  0.59865977, -1.88790211,  0.89995931]])"
      ]
     },
     "execution_count": 86,
     "metadata": {},
     "output_type": "execute_result"
    }
   ],
   "source": [
    "result = MultLogReg.fit(X_train, y_train.values.ravel())\n",
    "result.coef_"
   ]
  },
  {
   "cell_type": "code",
   "execution_count": 55,
   "metadata": {},
   "outputs": [
    {
     "name": "stdout",
     "output_type": "stream",
     "text": [
      "Coefficients for j = 1 is: [ 1.70042672 -0.26560787  1.22389491  0.02275121].\n",
      "Coefficients for j = 2 is: [-1.46801544 -0.33305178  0.66400736 -0.92271032]. \n",
      "\n",
      "             precision    recall  f1-score   support\n",
      "\n",
      "          1       0.87      1.00      0.93        13\n",
      "          2       1.00      0.90      0.95        21\n",
      "          3       1.00      1.00      1.00        10\n",
      "\n",
      "avg / total       0.96      0.95      0.96        44\n",
      " \n",
      "\n",
      "Validation set MSE = 0.045454545454545456\n"
     ]
    }
   ],
   "source": [
    "print(\"Coefficients for j = 1 is: {}.\\nCoefficients for j = 2 is: {}. \\n\".format(result.coef_[0], result.coef_[1]))\n",
    "\n",
    "print(classification_report(y_test, y_pred), '\\n')\n",
    "print(f'Validation set MSE = {mean_squared_error(y_test, y_pred)}')"
   ]
  },
  {
   "cell_type": "markdown",
   "metadata": {},
   "source": [
    "The model is the best at predicting category 2. Yes, it is the one with the most observations."
   ]
  },
  {
   "cell_type": "markdown",
   "metadata": {},
   "source": [
    "## (b)\n"
   ]
  },
  {
   "cell_type": "code",
   "execution_count": 87,
   "metadata": {},
   "outputs": [
    {
     "name": "stderr",
     "output_type": "stream",
     "text": [
      "/anaconda3/lib/python3.6/site-packages/sklearn/utils/validation.py:578: DataConversionWarning: A column-vector y was passed when a 1d array was expected. Please change the shape of y to (n_samples, ), for example using ravel().\n",
      "  y = column_or_1d(y, warn=True)\n"
     ]
    }
   ],
   "source": [
    "from sklearn import model_selection\n",
    "loo = model_selection.LeaveOneOut()\n",
    "Xvals = X.values\n",
    "yvals = y.values\n",
    "N_loo = Xvals.shape[0]\n",
    "loo.get_n_splits(Xvals)\n",
    "\n",
    "MSE = pd.DataFrame({'index': np.zeros(N_loo), \n",
    "                    'error': np.zeros(N_loo), \n",
    "                    'y_pred': np.zeros(N_loo),\n",
    "                    'y_test': np.zeros(N_loo)})\n",
    "\n",
    "# This loop will take 20 or 30 seconds\n",
    "for train_index, test_index in loo.split(Xvals):\n",
    "    X_train, X_test = Xvals[train_index], Xvals[test_index]\n",
    "    y_train, y_test = yvals[train_index], yvals[test_index]\n",
    "    LogReg = LogisticRegression(multi_class='multinomial',\n",
    "                                solver='newton-cg')\n",
    "    LogReg.fit(X_train, y_train)\n",
    "    y_pred = LogReg.predict(X_test)\n",
    "    MSE['index'][test_index] = test_index\n",
    "    MSE['error'][test_index] = (((y_test - y_pred) ** 2) != 0).astype(int)\n",
    "    MSE['y_pred'][test_index] = y_pred\n",
    "    MSE['y_test'][test_index] = y_test\n",
    "\n"
   ]
  },
  {
   "cell_type": "code",
   "execution_count": 88,
   "metadata": {},
   "outputs": [
    {
     "name": "stdout",
     "output_type": "stream",
     "text": [
      "             precision    recall  f1-score   support\n",
      "\n",
      "        1.0      0.902     0.932     0.917        59\n",
      "        2.0      0.914     0.901     0.908        71\n",
      "        3.0      0.956     0.935     0.945        46\n",
      "\n",
      "avg / total      0.921     0.920     0.921       176\n",
      "\n",
      "The error rate for class 1 is 0.09836065573770492 , std is 0.3002730997379377\n",
      "The error rate for class 2 is 0.08571428571428572 , std is 0.2819629507400967\n",
      "The error rate for class 3 is 0.044444444444444446 , std is 0.20840907713999288\n",
      "The average MSE (for all classes) is 0.07954545454545454 , std is 0.2713602101199873\n"
     ]
    }
   ],
   "source": [
    "err_1 = MSE[MSE['y_pred'] == 1]['error'].mean()\n",
    "err_2 = MSE[MSE['y_pred'] == 2]['error'].mean()\n",
    "err_3 = MSE[MSE['y_pred'] == 3]['error'].mean()\n",
    "Gen_MSE = MSE['error'].mean()\n",
    "print(classification_report(MSE['y_test'], MSE['y_pred'], digits=3))\n",
    "print('The error rate for class 1 is', err_1, ', std is', MSE[MSE['y_pred'] == 1]['error'].std())\n",
    "print('The error rate for class 2 is', err_2, ', std is', MSE[MSE['y_pred'] == 2]['error'].std())\n",
    "print('The error rate for class 3 is', err_3, ', std is', MSE[MSE['y_pred'] == 3]['error'].std())\n",
    "print('The average MSE (for all classes) is', Gen_MSE,\n",
    "      ', std is', MSE['error'].std())"
   ]
  },
  {
   "cell_type": "markdown",
   "metadata": {},
   "source": [
    "Compared with part (a), the error rate for j = 1 is smaller, but error rates for j = 2 and j = 3 are larger. \n",
    "Also, the average MSE is larger. "
   ]
  },
  {
   "cell_type": "markdown",
   "metadata": {},
   "source": [
    "## (c)"
   ]
  },
  {
   "cell_type": "code",
   "execution_count": 92,
   "metadata": {},
   "outputs": [
    {
     "name": "stdout",
     "output_type": "stream",
     "text": [
      "k index= 0\n",
      "MSE for test set 0  is 0.634297520661\n",
      "             precision    recall  f1-score   support\n",
      "\n",
      "          1       0.71      1.00      0.83        12\n",
      "          2       1.00      0.75      0.86        24\n",
      "          3       0.78      0.88      0.82         8\n",
      "\n",
      "avg / total       0.88      0.84      0.84        44\n",
      "\n",
      "k index= 1\n",
      "MSE for test set 1  is 0.67097107438\n",
      "             precision    recall  f1-score   support\n",
      "\n",
      "          1       1.00      0.76      0.87        17\n",
      "          2       0.69      1.00      0.81        11\n",
      "          3       1.00      0.94      0.97        16\n",
      "\n",
      "avg / total       0.92      0.89      0.89        44\n",
      "\n",
      "k index= 2\n",
      "MSE for test set 2  is 0.663223140496\n",
      "             precision    recall  f1-score   support\n",
      "\n",
      "          1       0.94      1.00      0.97        15\n",
      "          2       0.94      0.94      0.94        16\n",
      "          3       1.00      0.92      0.96        13\n",
      "\n",
      "avg / total       0.96      0.95      0.95        44\n",
      "\n",
      "k index= 3\n",
      "MSE for test set 3  is 0.640495867769\n",
      "             precision    recall  f1-score   support\n",
      "\n",
      "          1       0.88      1.00      0.94        15\n",
      "          2       1.00      0.90      0.95        20\n",
      "          3       1.00      1.00      1.00         9\n",
      "\n",
      "avg / total       0.96      0.95      0.95        44\n",
      "\n"
     ]
    },
    {
     "name": "stderr",
     "output_type": "stream",
     "text": [
      "/anaconda3/lib/python3.6/site-packages/sklearn/utils/validation.py:578: DataConversionWarning: A column-vector y was passed when a 1d array was expected. Please change the shape of y to (n_samples, ), for example using ravel().\n",
      "  y = column_or_1d(y, warn=True)\n"
     ]
    }
   ],
   "source": [
    "from sklearn.model_selection import KFold\n",
    "\n",
    "k = 4\n",
    "kf = KFold(n_splits=k, random_state=10, shuffle=True)\n",
    "kf.get_n_splits(Xvals)\n",
    "\n",
    "MSE_vec_kf = np.zeros(k)\n",
    "\n",
    "\n",
    "k_ind = int(0)\n",
    "for train_index, test_index in kf.split(Xvals):\n",
    "    # print(\"TRAIN:\", train_index, \"TEST:\", test_index)\n",
    "    print('k index=', k_ind)\n",
    "    X_train, X_test = Xvals[train_index], Xvals[test_index]\n",
    "    y_train, y_test = yvals[train_index], yvals[test_index]\n",
    "    LogReg = LogisticRegression(multi_class='multinomial',\n",
    "                                solver='newton-cg')\n",
    "    LogReg.fit(X_train, y_train)\n",
    "    y_pred = LogReg.predict(X_test)\n",
    "    MSE_vec_kf[k_ind] = (y_test != y_pred).mean()\n",
    "    print('MSE for test set', k_ind, ' is', MSE_vec_kf[k_ind])\n",
    "    print(classification_report(y_test, y_pred))\n",
    "    k_ind += 1\n",
    "\n"
   ]
  },
  {
   "cell_type": "code",
   "execution_count": 93,
   "metadata": {},
   "outputs": [
    {
     "name": "stdout",
     "output_type": "stream",
     "text": [
      "test estimate MSE k-fold= 0.163061725207\n",
      "The error rate for j = 1 is 0.11750000000000005 \n",
      "\n",
      "The error rate for j = 2 is 0.09250000000000003 \n",
      "\n",
      "The error rate for j = 3 is 0.05499999999999994\n"
     ]
    }
   ],
   "source": [
    "print('test estimate MSE k-fold=', MSE_kf/k)\n",
    "print('The error rate for j = 1 is', 1 - (0.71 + 1.00 + 0.94 + 0.88)/4, '\\n')\n",
    "print('The error rate for j = 2 is', 1 - (1.00 + 0.69 + 0.94 + 1.00)/4, \"\\n\")\n",
    "print('The error rate for j = 3 is', 1 - (0.78 + 1.00 + 1.00 + 1.00)/4)\n"
   ]
  },
  {
   "cell_type": "markdown",
   "metadata": {},
   "source": [
    "# Problem 2\n",
    "## (a)"
   ]
  },
  {
   "cell_type": "code",
   "execution_count": 100,
   "metadata": {},
   "outputs": [],
   "source": [
    "from pandas import tseries, DataFrame\n",
    "import statsmodels.api as sm\n",
    "\n",
    "import matplotlib.pyplot as plt\n",
    "import seaborn as sb\n",
    "%matplotlib inline\n",
    "sb.set_style('whitegrid')"
   ]
  },
  {
   "cell_type": "code",
   "execution_count": 98,
   "metadata": {},
   "outputs": [
    {
     "data": {
      "text/html": [
       "<div>\n",
       "<style>\n",
       "    .dataframe thead tr:only-child th {\n",
       "        text-align: right;\n",
       "    }\n",
       "\n",
       "    .dataframe thead th {\n",
       "        text-align: left;\n",
       "    }\n",
       "\n",
       "    .dataframe tbody tr th {\n",
       "        vertical-align: top;\n",
       "    }\n",
       "</style>\n",
       "<table border=\"1\" class=\"dataframe\">\n",
       "  <thead>\n",
       "    <tr style=\"text-align: right;\">\n",
       "      <th></th>\n",
       "      <th>age</th>\n",
       "      <th>cool</th>\n",
       "    </tr>\n",
       "  </thead>\n",
       "  <tbody>\n",
       "    <tr>\n",
       "      <th>0</th>\n",
       "      <td>11.0</td>\n",
       "      <td>10.981602</td>\n",
       "    </tr>\n",
       "    <tr>\n",
       "      <th>1</th>\n",
       "      <td>11.0</td>\n",
       "      <td>11.364925</td>\n",
       "    </tr>\n",
       "    <tr>\n",
       "      <th>2</th>\n",
       "      <td>11.0</td>\n",
       "      <td>10.190227</td>\n",
       "    </tr>\n",
       "    <tr>\n",
       "      <th>3</th>\n",
       "      <td>11.0</td>\n",
       "      <td>9.903725</td>\n",
       "    </tr>\n",
       "    <tr>\n",
       "      <th>4</th>\n",
       "      <td>11.0</td>\n",
       "      <td>8.997918</td>\n",
       "    </tr>\n",
       "  </tbody>\n",
       "</table>\n",
       "</div>"
      ],
      "text/plain": [
       "    age       cool\n",
       "0  11.0  10.981602\n",
       "1  11.0  11.364925\n",
       "2  11.0  10.190227\n",
       "3  11.0   9.903725\n",
       "4  11.0   8.997918"
      ]
     },
     "execution_count": 98,
     "metadata": {},
     "output_type": "execute_result"
    }
   ],
   "source": [
    "cool = pd.read_csv('data/CoolIndex.txt', header = None, \n",
    "                   names = np.array(['age', 'cool']))\n",
    "\n",
    "cool.head()"
   ]
  },
  {
   "cell_type": "code",
   "execution_count": 101,
   "metadata": {},
   "outputs": [
    {
     "data": {
      "image/png": "[encoded data removed]",
      "text/plain": [
       "<matplotlib.figure.Figure at 0x1c11428f28>"
      ]
     },
     "metadata": {},
     "output_type": "display_data"
    }
   ],
   "source": [
    "age = cool.age\n",
    "cool = cool.cool\n",
    "plt.scatter(age, cool)\n",
    "plt.title('Age and Coolness Index', fontsize=20)\n",
    "plt.xlabel('age')\n",
    "plt.ylabel('coolness')\n",
    "plt.show()\n"
   ]
  },
  {
   "cell_type": "markdown",
   "metadata": {},
   "source": [
    "## (b)"
   ]
  },
  {
   "cell_type": "code",
   "execution_count": 103,
   "metadata": {},
   "outputs": [
    {
     "data": {
      "text/html": [
       "<div>\n",
       "<style>\n",
       "    .dataframe thead tr:only-child th {\n",
       "        text-align: right;\n",
       "    }\n",
       "\n",
       "    .dataframe thead th {\n",
       "        text-align: left;\n",
       "    }\n",
       "\n",
       "    .dataframe tbody tr th {\n",
       "        vertical-align: top;\n",
       "    }\n",
       "</style>\n",
       "<table border=\"1\" class=\"dataframe\">\n",
       "  <thead>\n",
       "    <tr style=\"text-align: right;\">\n",
       "      <th></th>\n",
       "      <th>age_bin1</th>\n",
       "      <th>age_bin2</th>\n",
       "      <th>age_bin3</th>\n",
       "      <th>age_bin4</th>\n",
       "      <th>age_bin5</th>\n",
       "    </tr>\n",
       "  </thead>\n",
       "  <tbody>\n",
       "    <tr>\n",
       "      <th>count</th>\n",
       "      <td>956.000000</td>\n",
       "      <td>956.000000</td>\n",
       "      <td>956.000000</td>\n",
       "      <td>956.000000</td>\n",
       "      <td>956.000000</td>\n",
       "    </tr>\n",
       "    <tr>\n",
       "      <th>mean</th>\n",
       "      <td>0.162134</td>\n",
       "      <td>0.276151</td>\n",
       "      <td>0.285565</td>\n",
       "      <td>0.217573</td>\n",
       "      <td>0.058577</td>\n",
       "    </tr>\n",
       "    <tr>\n",
       "      <th>std</th>\n",
       "      <td>0.368767</td>\n",
       "      <td>0.447326</td>\n",
       "      <td>0.451919</td>\n",
       "      <td>0.412812</td>\n",
       "      <td>0.234955</td>\n",
       "    </tr>\n",
       "    <tr>\n",
       "      <th>min</th>\n",
       "      <td>0.000000</td>\n",
       "      <td>0.000000</td>\n",
       "      <td>0.000000</td>\n",
       "      <td>0.000000</td>\n",
       "      <td>0.000000</td>\n",
       "    </tr>\n",
       "    <tr>\n",
       "      <th>25%</th>\n",
       "      <td>0.000000</td>\n",
       "      <td>0.000000</td>\n",
       "      <td>0.000000</td>\n",
       "      <td>0.000000</td>\n",
       "      <td>0.000000</td>\n",
       "    </tr>\n",
       "    <tr>\n",
       "      <th>50%</th>\n",
       "      <td>0.000000</td>\n",
       "      <td>0.000000</td>\n",
       "      <td>0.000000</td>\n",
       "      <td>0.000000</td>\n",
       "      <td>0.000000</td>\n",
       "    </tr>\n",
       "    <tr>\n",
       "      <th>75%</th>\n",
       "      <td>0.000000</td>\n",
       "      <td>1.000000</td>\n",
       "      <td>1.000000</td>\n",
       "      <td>0.000000</td>\n",
       "      <td>0.000000</td>\n",
       "    </tr>\n",
       "    <tr>\n",
       "      <th>max</th>\n",
       "      <td>1.000000</td>\n",
       "      <td>1.000000</td>\n",
       "      <td>1.000000</td>\n",
       "      <td>1.000000</td>\n",
       "      <td>1.000000</td>\n",
       "    </tr>\n",
       "  </tbody>\n",
       "</table>\n",
       "</div>"
      ],
      "text/plain": [
       "         age_bin1    age_bin2    age_bin3    age_bin4    age_bin5\n",
       "count  956.000000  956.000000  956.000000  956.000000  956.000000\n",
       "mean     0.162134    0.276151    0.285565    0.217573    0.058577\n",
       "std      0.368767    0.447326    0.451919    0.412812    0.234955\n",
       "min      0.000000    0.000000    0.000000    0.000000    0.000000\n",
       "25%      0.000000    0.000000    0.000000    0.000000    0.000000\n",
       "50%      0.000000    0.000000    0.000000    0.000000    0.000000\n",
       "75%      0.000000    1.000000    1.000000    0.000000    0.000000\n",
       "max      1.000000    1.000000    1.000000    1.000000    1.000000"
      ]
     },
     "execution_count": 103,
     "metadata": {},
     "output_type": "execute_result"
    }
   ],
   "source": [
    "age_bin1 = ((age >= 11) & (age < 22)).astype(int)\n",
    "age_bin2 = ((age >= 22) & (age < 40)).astype(int)\n",
    "age_bin3 = ((age >= 40) & (age < 59)).astype(int)\n",
    "age_bin4 = ((age >= 59) & (age < 77)).astype(int)\n",
    "age_bin5 = ((age >= 77) & (age <= 95)).astype(int)\n",
    "X_step = pd.DataFrame(dict(age_bin1=age_bin1, age_bin2=age_bin2,\n",
    "                           age_bin3=age_bin3, age_bin4=age_bin4,\n",
    "                           age_bin5=age_bin5))\n",
    "X_step.describe()\n"
   ]
  },
  {
   "cell_type": "code",
   "execution_count": 104,
   "metadata": {},
   "outputs": [
    {
     "name": "stdout",
     "output_type": "stream",
     "text": [
      "                            OLS Regression Results                            \n",
      "==============================================================================\n",
      "Dep. Variable:                   cool   R-squared:                       0.429\n",
      "Model:                            OLS   Adj. R-squared:                  0.427\n",
      "Method:                 Least Squares   F-statistic:                     178.7\n",
      "Date:                Sun, 18 Feb 2018   Prob (F-statistic):          3.73e-114\n",
      "Time:                        23:30:02   Log-Likelihood:                -3214.5\n",
      "No. Observations:                 956   AIC:                             6439.\n",
      "Df Residuals:                     951   BIC:                             6463.\n",
      "Df Model:                           4                                         \n",
      "Covariance Type:            nonrobust                                         \n",
      "==============================================================================\n",
      "                 coef    std err          t      P>|t|      [0.025      0.975]\n",
      "------------------------------------------------------------------------------\n",
      "age_bin1      20.1025      0.562     35.746      0.000      18.999      21.206\n",
      "age_bin2      34.4758      0.431     80.006      0.000      33.630      35.321\n",
      "age_bin3      37.6351      0.424     88.814      0.000      36.804      38.467\n",
      "age_bin4      35.2254      0.485     72.560      0.000      34.273      36.178\n",
      "age_bin5      27.2964      0.936     29.175      0.000      25.460      29.132\n",
      "==============================================================================\n",
      "Omnibus:                       80.102   Durbin-Watson:                   1.236\n",
      "Prob(Omnibus):                  0.000   Jarque-Bera (JB):              101.718\n",
      "Skew:                           0.714   Prob(JB):                     8.17e-23\n",
      "Kurtosis:                       3.719   Cond. No.                         2.21\n",
      "==============================================================================\n",
      "\n",
      "Warnings:\n",
      "[1] Standard Errors assume that the covariance matrix of the errors is correctly specified.\n"
     ]
    }
   ],
   "source": [
    "reg2 = sm.OLS(endog = cool, exog = X_step, missing='drop')\n",
    "reg2_results = reg2.fit()\n",
    "print(reg2_results.summary())"
   ]
  },
  {
   "cell_type": "code",
   "execution_count": 105,
   "metadata": {},
   "outputs": [
    {
     "data": {
      "image/png": "[encoded data removed]",
      "text/plain": [
       "<matplotlib.figure.Figure at 0x1c14765a20>"
      ]
     },
     "metadata": {},
     "output_type": "display_data"
    }
   ],
   "source": [
    "plt.title('Age and Coolness Index (step-wise)', fontsize=20)\n",
    "plt.xlabel('age')\n",
    "plt.ylabel('coolness')\n",
    "plt.scatter(age, cool, label = 'scatter')\n",
    "plt.plot(age, reg2_results.predict(X_step), 'r-', label = 'step')\n",
    "plt.legend(loc='upper left')\n",
    "plt.show()\n"
   ]
  },
  {
   "cell_type": "code",
   "execution_count": 106,
   "metadata": {},
   "outputs": [
    {
     "name": "stdout",
     "output_type": "stream",
     "text": [
      "b1 = 20.102457252090748, b2 = 34.475788077559386, b3 = 37.63510549244962, b4 = 35.225400040242754, b5 = 27.296378244321282.\n",
      " \n",
      "The predicted value for a 73-year-old is 35.2254000402\n"
     ]
    }
   ],
   "source": [
    "b1, b2, b3, b4, b5 = reg2_results.params\n",
    "print(\"b1 = {}, b2 = {}, b3 = {}, b4 = {}, b5 = {}.\\n \".format(b1, b2, b3, b4, b5))\n",
    "print(\"The predicted value for a 73-year-old is\", b4)"
   ]
  },
  {
   "cell_type": "markdown",
   "metadata": {},
   "source": [
    "## (c)"
   ]
  },
  {
   "cell_type": "code",
   "execution_count": 115,
   "metadata": {},
   "outputs": [
    {
     "data": {
      "image/png": "[encoded data removed]",
      "text/plain": [
       "<matplotlib.figure.Figure at 0x1c15947e48>"
      ]
     },
     "metadata": {},
     "output_type": "display_data"
    }
   ],
   "source": [
    "from scipy.interpolate import make_lsq_spline, BSpline, \\\n",
    "make_interp_spline, LSQUnivariateSpline\n",
    "\n",
    "knots = [22, 40, 59, 77]\n",
    "spl_cool1 = LSQUnivariateSpline(age.values, cool.values, knots, k=1)\n",
    "\n",
    "age_vec = np.linspace(age.values.min(), age.values.max(), 1000)\n",
    "plt.scatter(age, cool, label = \"coolness\")\n",
    "plt.title('Scatter Plot of Coolness Index', fontsize=15)\n",
    "plt.xlabel('Age')\n",
    "plt.ylabel('Coolness')\n",
    "\n",
    "\n",
    "plt.plot(age, reg2_results.predict(X_step), 'k-', label = 'step')\n",
    "plt.plot(age_vec, spl_cool1(age_vec), 'r-')\n",
    "plt.show()"
   ]
  },
  {
   "cell_type": "code",
   "execution_count": 116,
   "metadata": {},
   "outputs": [
    {
     "name": "stdout",
     "output_type": "stream",
     "text": [
      "The predicted value for a 73-year-old is 32.536832389143306\n"
     ]
    }
   ],
   "source": [
    "print(\"The predicted value for a 73-year-old is\", spl_cool1(73))"
   ]
  },
  {
   "cell_type": "markdown",
   "metadata": {},
   "source": [
    "## (d)"
   ]
  },
  {
   "cell_type": "code",
   "execution_count": 117,
   "metadata": {},
   "outputs": [
    {
     "data": {
      "image/png": "[encoded data removed]",
      "text/plain": [
       "<matplotlib.figure.Figure at 0x1c15a98cf8>"
      ]
     },
     "metadata": {},
     "output_type": "display_data"
    }
   ],
   "source": [
    "spl_cool3 = LSQUnivariateSpline(age.values, cool.values, knots, k=3)\n",
    "\n",
    "age_vec = np.linspace(age.values.min(), age.values.max(), 1000)\n",
    "plt.scatter(age, cool, label = \"coolness\")\n",
    "plt.title('Scatter Plot of Coolness Index', fontsize=15)\n",
    "plt.xlabel('Age')\n",
    "plt.ylabel('Coolness')\n",
    "\n",
    "\n",
    "plt.plot(age, reg2_results.predict(X_step), 'g-', label = 'step')\n",
    "plt.plot(age_vec, spl_cool1(age_vec), 'k-')\n",
    "plt.plot(age_vec, spl_cool3(age_vec), 'r-')\n",
    "plt.show()"
   ]
  },
  {
   "cell_type": "code",
   "execution_count": 118,
   "metadata": {},
   "outputs": [
    {
     "name": "stdout",
     "output_type": "stream",
     "text": [
      "The predicted value for a 73-year-old is 31.262429389257864\n"
     ]
    }
   ],
   "source": [
    "print(\"The predicted value for a 73-year-old is\", spl_cool3(73))"
   ]
  },
  {
   "cell_type": "code",
   "execution_count": null,
   "metadata": {
    "collapsed": true
   },
   "outputs": [],
   "source": []
  }
 ],
 "metadata": {
  "kernelspec": {
   "display_name": "Python 3",
   "language": "python",
   "name": "python3"
  },
  "language_info": {
   "codemirror_mode": {
    "name": "ipython",
    "version": 3
   },
   "file_extension": ".py",
   "mimetype": "text/x-python",
   "name": "python",
   "nbconvert_exporter": "python",
   "pygments_lexer": "ipython3",
   "version": "3.6.3"
  }
 },
 "nbformat": 4,
 "nbformat_minor": 2
}
