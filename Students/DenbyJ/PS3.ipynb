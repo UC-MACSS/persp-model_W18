{
 "cells": [
  {
   "cell_type": "markdown",
   "metadata": {},
   "source": [
    "## Problem Set 3\n",
    "\n",
    "### Joseph Denby"
   ]
  },
  {
   "cell_type": "code",
   "execution_count": 227,
   "metadata": {
    "collapsed": true
   },
   "outputs": [],
   "source": [
    "import numpy as np\n",
    "import pandas as pd\n",
    "import numpy.linalg as lin\n",
    "import scipy.stats as sts\n",
    "import scipy.integrate as intgr\n",
    "import scipy.optimize as opt\n",
    "import matplotlib\n",
    "import matplotlib.pyplot as plt\n",
    "from mpl_toolkits.mplot3d import Axes3D\n",
    "from matplotlib import cm\n",
    "cmap1 = matplotlib.cm.get_cmap('summer')"
   ]
  },
  {
   "cell_type": "code",
   "execution_count": 2,
   "metadata": {
    "collapsed": true
   },
   "outputs": [],
   "source": [
    "incomes = np.loadtxt(\"../../ProblemSets/PS2/incomes.txt\")"
   ]
  },
  {
   "cell_type": "markdown",
   "metadata": {},
   "source": [
    "#### Problem 1"
   ]
  },
  {
   "cell_type": "markdown",
   "metadata": {},
   "source": [
    "a). Plot a histogram of percentages of the `income.txt` data with 30 bins. Make sure that the bins are weighted using the `normed=True` option. Make sure your plot has correct $x$-axis and $y$-axis labels as well as a plot title."
   ]
  },
  {
   "cell_type": "code",
   "execution_count": 223,
   "metadata": {},
   "outputs": [
    {
     "data": {
      "application/javascript": [
       "/* Put everything inside the global mpl namespace */\n",
       "window.mpl = {};\n",
       "\n",
       "\n",
       "mpl.get_websocket_type = function() {\n",
       "    if (typeof(WebSocket) !== 'undefined') {\n",
       "        return WebSocket;\n",
       "    } else if (typeof(MozWebSocket) !== 'undefined') {\n",
       "        return MozWebSocket;\n",
       "    } else {\n",
       "        alert('Your browser does not have WebSocket support.' +\n",
       "              'Please try Chrome, Safari or Firefox ≥ 6. ' +\n",
       "              'Firefox 4 and 5 are also supported but you ' +\n",
       "              'have to enable WebSockets in about:config.');\n",
       "    };\n",
       "}\n",
       "\n",
       "mpl.figure = function(figure_id, websocket, ondownload, parent_element) {\n",
       "    this.id = figure_id;\n",
       "\n",
       "    this.ws = websocket;\n",
       "\n",
       "    this.supports_binary = (this.ws.binaryType != undefined);\n",
       "\n",
       "    if (!this.supports_binary) {\n",
       "        var warnings = document.getElementById(\"mpl-warnings\");\n",
       "        if (warnings) {\n",
       "            warnings.style.display = 'block';\n",
       "            warnings.textContent = (\n",
       "                \"This browser does not support binary websocket messages. \" +\n",
       "                    \"Performance may be slow.\");\n",
       "        }\n",
       "    }\n",
       "\n",
       "    this.imageObj = new Image();\n",
       "\n",
       "    this.context = undefined;\n",
       "    this.message = undefined;\n",
       "    this.canvas = undefined;\n",
       "    this.rubberband_canvas = undefined;\n",
       "    this.rubberband_context = undefined;\n",
       "    this.format_dropdown = undefined;\n",
       "\n",
       "    this.image_mode = 'full';\n",
       "\n",
       "    this.root = $('<div/>');\n",
       "    this._root_extra_style(this.root)\n",
       "    this.root.attr('style', 'display: inline-block');\n",
       "\n",
       "    $(parent_element).append(this.root);\n",
       "\n",
       "    this._init_header(this);\n",
       "    this._init_canvas(this);\n",
       "    this._init_toolbar(this);\n",
       "\n",
       "    var fig = this;\n",
       "\n",
       "    this.waiting = false;\n",
       "\n",
       "    this.ws.onopen =  function () {\n",
       "            fig.send_message(\"supports_binary\", {value: fig.supports_binary});\n",
       "            fig.send_message(\"send_image_mode\", {});\n",
       "            if (mpl.ratio != 1) {\n",
       "                fig.send_message(\"set_dpi_ratio\", {'dpi_ratio': mpl.ratio});\n",
       "            }\n",
       "            fig.send_message(\"refresh\", {});\n",
       "        }\n",
       "\n",
       "    this.imageObj.onload = function() {\n",
       "            if (fig.image_mode == 'full') {\n",
       "                // Full images could contain transparency (where diff images\n",
       "                // almost always do), so we need to clear the canvas so that\n",
       "                // there is no ghosting.\n",
       "                fig.context.clearRect(0, 0, fig.canvas.width, fig.canvas.height);\n",
       "            }\n",
       "            fig.context.drawImage(fig.imageObj, 0, 0);\n",
       "        };\n",
       "\n",
       "    this.imageObj.onunload = function() {\n",
       "        fig.ws.close();\n",
       "    }\n",
       "\n",
       "    this.ws.onmessage = this._make_on_message_function(this);\n",
       "\n",
       "    this.ondownload = ondownload;\n",
       "}\n",
       "\n",
       "mpl.figure.prototype._init_header = function() {\n",
       "    var titlebar = $(\n",
       "        '<div class=\"ui-dialog-titlebar ui-widget-header ui-corner-all ' +\n",
       "        'ui-helper-clearfix\"/>');\n",
       "    var titletext = $(\n",
       "        '<div class=\"ui-dialog-title\" style=\"width: 100%; ' +\n",
       "        'text-align: center; padding: 3px;\"/>');\n",
       "    titlebar.append(titletext)\n",
       "    this.root.append(titlebar);\n",
       "    this.header = titletext[0];\n",
       "}\n",
       "\n",
       "\n",
       "\n",
       "mpl.figure.prototype._canvas_extra_style = function(canvas_div) {\n",
       "\n",
       "}\n",
       "\n",
       "\n",
       "mpl.figure.prototype._root_extra_style = function(canvas_div) {\n",
       "\n",
       "}\n",
       "\n",
       "mpl.figure.prototype._init_canvas = function() {\n",
       "    var fig = this;\n",
       "\n",
       "    var canvas_div = $('<div/>');\n",
       "\n",
       "    canvas_div.attr('style', 'position: relative; clear: both; outline: 0');\n",
       "\n",
       "    function canvas_keyboard_event(event) {\n",
       "        return fig.key_event(event, event['data']);\n",
       "    }\n",
       "\n",
       "    canvas_div.keydown('key_press', canvas_keyboard_event);\n",
       "    canvas_div.keyup('key_release', canvas_keyboard_event);\n",
       "    this.canvas_div = canvas_div\n",
       "    this._canvas_extra_style(canvas_div)\n",
       "    this.root.append(canvas_div);\n",
       "\n",
       "    var canvas = $('<canvas/>');\n",
       "    canvas.addClass('mpl-canvas');\n",
       "    canvas.attr('style', \"left: 0; top: 0; z-index: 0; outline: 0\")\n",
       "\n",
       "    this.canvas = canvas[0];\n",
       "    this.context = canvas[0].getContext(\"2d\");\n",
       "\n",
       "    var backingStore = this.context.backingStorePixelRatio ||\n",
       "\tthis.context.webkitBackingStorePixelRatio ||\n",
       "\tthis.context.mozBackingStorePixelRatio ||\n",
       "\tthis.context.msBackingStorePixelRatio ||\n",
       "\tthis.context.oBackingStorePixelRatio ||\n",
       "\tthis.context.backingStorePixelRatio || 1;\n",
       "\n",
       "    mpl.ratio = (window.devicePixelRatio || 1) / backingStore;\n",
       "\n",
       "    var rubberband = $('<canvas/>');\n",
       "    rubberband.attr('style', \"position: absolute; left: 0; top: 0; z-index: 1;\")\n",
       "\n",
       "    var pass_mouse_events = true;\n",
       "\n",
       "    canvas_div.resizable({\n",
       "        start: function(event, ui) {\n",
       "            pass_mouse_events = false;\n",
       "        },\n",
       "        resize: function(event, ui) {\n",
       "            fig.request_resize(ui.size.width, ui.size.height);\n",
       "        },\n",
       "        stop: function(event, ui) {\n",
       "            pass_mouse_events = true;\n",
       "            fig.request_resize(ui.size.width, ui.size.height);\n",
       "        },\n",
       "    });\n",
       "\n",
       "    function mouse_event_fn(event) {\n",
       "        if (pass_mouse_events)\n",
       "            return fig.mouse_event(event, event['data']);\n",
       "    }\n",
       "\n",
       "    rubberband.mousedown('button_press', mouse_event_fn);\n",
       "    rubberband.mouseup('button_release', mouse_event_fn);\n",
       "    // Throttle sequential mouse events to 1 every 20ms.\n",
       "    rubberband.mousemove('motion_notify', mouse_event_fn);\n",
       "\n",
       "    rubberband.mouseenter('figure_enter', mouse_event_fn);\n",
       "    rubberband.mouseleave('figure_leave', mouse_event_fn);\n",
       "\n",
       "    canvas_div.on(\"wheel\", function (event) {\n",
       "        event = event.originalEvent;\n",
       "        event['data'] = 'scroll'\n",
       "        if (event.deltaY < 0) {\n",
       "            event.step = 1;\n",
       "        } else {\n",
       "            event.step = -1;\n",
       "        }\n",
       "        mouse_event_fn(event);\n",
       "    });\n",
       "\n",
       "    canvas_div.append(canvas);\n",
       "    canvas_div.append(rubberband);\n",
       "\n",
       "    this.rubberband = rubberband;\n",
       "    this.rubberband_canvas = rubberband[0];\n",
       "    this.rubberband_context = rubberband[0].getContext(\"2d\");\n",
       "    this.rubberband_context.strokeStyle = \"#000000\";\n",
       "\n",
       "    this._resize_canvas = function(width, height) {\n",
       "        // Keep the size of the canvas, canvas container, and rubber band\n",
       "        // canvas in synch.\n",
       "        canvas_div.css('width', width)\n",
       "        canvas_div.css('height', height)\n",
       "\n",
       "        canvas.attr('width', width * mpl.ratio);\n",
       "        canvas.attr('height', height * mpl.ratio);\n",
       "        canvas.attr('style', 'width: ' + width + 'px; height: ' + height + 'px;');\n",
       "\n",
       "        rubberband.attr('width', width);\n",
       "        rubberband.attr('height', height);\n",
       "    }\n",
       "\n",
       "    // Set the figure to an initial 600x600px, this will subsequently be updated\n",
       "    // upon first draw.\n",
       "    this._resize_canvas(600, 600);\n",
       "\n",
       "    // Disable right mouse context menu.\n",
       "    $(this.rubberband_canvas).bind(\"contextmenu\",function(e){\n",
       "        return false;\n",
       "    });\n",
       "\n",
       "    function set_focus () {\n",
       "        canvas.focus();\n",
       "        canvas_div.focus();\n",
       "    }\n",
       "\n",
       "    window.setTimeout(set_focus, 100);\n",
       "}\n",
       "\n",
       "mpl.figure.prototype._init_toolbar = function() {\n",
       "    var fig = this;\n",
       "\n",
       "    var nav_element = $('<div/>')\n",
       "    nav_element.attr('style', 'width: 100%');\n",
       "    this.root.append(nav_element);\n",
       "\n",
       "    // Define a callback function for later on.\n",
       "    function toolbar_event(event) {\n",
       "        return fig.toolbar_button_onclick(event['data']);\n",
       "    }\n",
       "    function toolbar_mouse_event(event) {\n",
       "        return fig.toolbar_button_onmouseover(event['data']);\n",
       "    }\n",
       "\n",
       "    for(var toolbar_ind in mpl.toolbar_items) {\n",
       "        var name = mpl.toolbar_items[toolbar_ind][0];\n",
       "        var tooltip = mpl.toolbar_items[toolbar_ind][1];\n",
       "        var image = mpl.toolbar_items[toolbar_ind][2];\n",
       "        var method_name = mpl.toolbar_items[toolbar_ind][3];\n",
       "\n",
       "        if (!name) {\n",
       "            // put a spacer in here.\n",
       "            continue;\n",
       "        }\n",
       "        var button = $('<button/>');\n",
       "        button.addClass('ui-button ui-widget ui-state-default ui-corner-all ' +\n",
       "                        'ui-button-icon-only');\n",
       "        button.attr('role', 'button');\n",
       "        button.attr('aria-disabled', 'false');\n",
       "        button.click(method_name, toolbar_event);\n",
       "        button.mouseover(tooltip, toolbar_mouse_event);\n",
       "\n",
       "        var icon_img = $('<span/>');\n",
       "        icon_img.addClass('ui-button-icon-primary ui-icon');\n",
       "        icon_img.addClass(image);\n",
       "        icon_img.addClass('ui-corner-all');\n",
       "\n",
       "        var tooltip_span = $('<span/>');\n",
       "        tooltip_span.addClass('ui-button-text');\n",
       "        tooltip_span.html(tooltip);\n",
       "\n",
       "        button.append(icon_img);\n",
       "        button.append(tooltip_span);\n",
       "\n",
       "        nav_element.append(button);\n",
       "    }\n",
       "\n",
       "    var fmt_picker_span = $('<span/>');\n",
       "\n",
       "    var fmt_picker = $('<select/>');\n",
       "    fmt_picker.addClass('mpl-toolbar-option ui-widget ui-widget-content');\n",
       "    fmt_picker_span.append(fmt_picker);\n",
       "    nav_element.append(fmt_picker_span);\n",
       "    this.format_dropdown = fmt_picker[0];\n",
       "\n",
       "    for (var ind in mpl.extensions) {\n",
       "        var fmt = mpl.extensions[ind];\n",
       "        var option = $(\n",
       "            '<option/>', {selected: fmt === mpl.default_extension}).html(fmt);\n",
       "        fmt_picker.append(option)\n",
       "    }\n",
       "\n",
       "    // Add hover states to the ui-buttons\n",
       "    $( \".ui-button\" ).hover(\n",
       "        function() { $(this).addClass(\"ui-state-hover\");},\n",
       "        function() { $(this).removeClass(\"ui-state-hover\");}\n",
       "    );\n",
       "\n",
       "    var status_bar = $('<span class=\"mpl-message\"/>');\n",
       "    nav_element.append(status_bar);\n",
       "    this.message = status_bar[0];\n",
       "}\n",
       "\n",
       "mpl.figure.prototype.request_resize = function(x_pixels, y_pixels) {\n",
       "    // Request matplotlib to resize the figure. Matplotlib will then trigger a resize in the client,\n",
       "    // which will in turn request a refresh of the image.\n",
       "    this.send_message('resize', {'width': x_pixels, 'height': y_pixels});\n",
       "}\n",
       "\n",
       "mpl.figure.prototype.send_message = function(type, properties) {\n",
       "    properties['type'] = type;\n",
       "    properties['figure_id'] = this.id;\n",
       "    this.ws.send(JSON.stringify(properties));\n",
       "}\n",
       "\n",
       "mpl.figure.prototype.send_draw_message = function() {\n",
       "    if (!this.waiting) {\n",
       "        this.waiting = true;\n",
       "        this.ws.send(JSON.stringify({type: \"draw\", figure_id: this.id}));\n",
       "    }\n",
       "}\n",
       "\n",
       "\n",
       "mpl.figure.prototype.handle_save = function(fig, msg) {\n",
       "    var format_dropdown = fig.format_dropdown;\n",
       "    var format = format_dropdown.options[format_dropdown.selectedIndex].value;\n",
       "    fig.ondownload(fig, format);\n",
       "}\n",
       "\n",
       "\n",
       "mpl.figure.prototype.handle_resize = function(fig, msg) {\n",
       "    var size = msg['size'];\n",
       "    if (size[0] != fig.canvas.width || size[1] != fig.canvas.height) {\n",
       "        fig._resize_canvas(size[0], size[1]);\n",
       "        fig.send_message(\"refresh\", {});\n",
       "    };\n",
       "}\n",
       "\n",
       "mpl.figure.prototype.handle_rubberband = function(fig, msg) {\n",
       "    var x0 = msg['x0'] / mpl.ratio;\n",
       "    var y0 = (fig.canvas.height - msg['y0']) / mpl.ratio;\n",
       "    var x1 = msg['x1'] / mpl.ratio;\n",
       "    var y1 = (fig.canvas.height - msg['y1']) / mpl.ratio;\n",
       "    x0 = Math.floor(x0) + 0.5;\n",
       "    y0 = Math.floor(y0) + 0.5;\n",
       "    x1 = Math.floor(x1) + 0.5;\n",
       "    y1 = Math.floor(y1) + 0.5;\n",
       "    var min_x = Math.min(x0, x1);\n",
       "    var min_y = Math.min(y0, y1);\n",
       "    var width = Math.abs(x1 - x0);\n",
       "    var height = Math.abs(y1 - y0);\n",
       "\n",
       "    fig.rubberband_context.clearRect(\n",
       "        0, 0, fig.canvas.width, fig.canvas.height);\n",
       "\n",
       "    fig.rubberband_context.strokeRect(min_x, min_y, width, height);\n",
       "}\n",
       "\n",
       "mpl.figure.prototype.handle_figure_label = function(fig, msg) {\n",
       "    // Updates the figure title.\n",
       "    fig.header.textContent = msg['label'];\n",
       "}\n",
       "\n",
       "mpl.figure.prototype.handle_cursor = function(fig, msg) {\n",
       "    var cursor = msg['cursor'];\n",
       "    switch(cursor)\n",
       "    {\n",
       "    case 0:\n",
       "        cursor = 'pointer';\n",
       "        break;\n",
       "    case 1:\n",
       "        cursor = 'default';\n",
       "        break;\n",
       "    case 2:\n",
       "        cursor = 'crosshair';\n",
       "        break;\n",
       "    case 3:\n",
       "        cursor = 'move';\n",
       "        break;\n",
       "    }\n",
       "    fig.rubberband_canvas.style.cursor = cursor;\n",
       "}\n",
       "\n",
       "mpl.figure.prototype.handle_message = function(fig, msg) {\n",
       "    fig.message.textContent = msg['message'];\n",
       "}\n",
       "\n",
       "mpl.figure.prototype.handle_draw = function(fig, msg) {\n",
       "    // Request the server to send over a new figure.\n",
       "    fig.send_draw_message();\n",
       "}\n",
       "\n",
       "mpl.figure.prototype.handle_image_mode = function(fig, msg) {\n",
       "    fig.image_mode = msg['mode'];\n",
       "}\n",
       "\n",
       "mpl.figure.prototype.updated_canvas_event = function() {\n",
       "    // Called whenever the canvas gets updated.\n",
       "    this.send_message(\"ack\", {});\n",
       "}\n",
       "\n",
       "// A function to construct a web socket function for onmessage handling.\n",
       "// Called in the figure constructor.\n",
       "mpl.figure.prototype._make_on_message_function = function(fig) {\n",
       "    return function socket_on_message(evt) {\n",
       "        if (evt.data instanceof Blob) {\n",
       "            /* FIXME: We get \"Resource interpreted as Image but\n",
       "             * transferred with MIME type text/plain:\" errors on\n",
       "             * Chrome.  But how to set the MIME type?  It doesn't seem\n",
       "             * to be part of the websocket stream */\n",
       "            evt.data.type = \"image/png\";\n",
       "\n",
       "            /* Free the memory for the previous frames */\n",
       "            if (fig.imageObj.src) {\n",
       "                (window.URL || window.webkitURL).revokeObjectURL(\n",
       "                    fig.imageObj.src);\n",
       "            }\n",
       "\n",
       "            fig.imageObj.src = (window.URL || window.webkitURL).createObjectURL(\n",
       "                evt.data);\n",
       "            fig.updated_canvas_event();\n",
       "            fig.waiting = false;\n",
       "            return;\n",
       "        }\n",
       "        else if (typeof evt.data === 'string' && evt.data.slice(0, 21) == \"data:image/png;base64\") {\n",
       "            fig.imageObj.src = evt.data;\n",
       "            fig.updated_canvas_event();\n",
       "            fig.waiting = false;\n",
       "            return;\n",
       "        }\n",
       "\n",
       "        var msg = JSON.parse(evt.data);\n",
       "        var msg_type = msg['type'];\n",
       "\n",
       "        // Call the  \"handle_{type}\" callback, which takes\n",
       "        // the figure and JSON message as its only arguments.\n",
       "        try {\n",
       "            var callback = fig[\"handle_\" + msg_type];\n",
       "        } catch (e) {\n",
       "            console.log(\"No handler for the '\" + msg_type + \"' message type: \", msg);\n",
       "            return;\n",
       "        }\n",
       "\n",
       "        if (callback) {\n",
       "            try {\n",
       "                // console.log(\"Handling '\" + msg_type + \"' message: \", msg);\n",
       "                callback(fig, msg);\n",
       "            } catch (e) {\n",
       "                console.log(\"Exception inside the 'handler_\" + msg_type + \"' callback:\", e, e.stack, msg);\n",
       "            }\n",
       "        }\n",
       "    };\n",
       "}\n",
       "\n",
       "// from http://stackoverflow.com/questions/1114465/getting-mouse-location-in-canvas\n",
       "mpl.findpos = function(e) {\n",
       "    //this section is from http://www.quirksmode.org/js/events_properties.html\n",
       "    var targ;\n",
       "    if (!e)\n",
       "        e = window.event;\n",
       "    if (e.target)\n",
       "        targ = e.target;\n",
       "    else if (e.srcElement)\n",
       "        targ = e.srcElement;\n",
       "    if (targ.nodeType == 3) // defeat Safari bug\n",
       "        targ = targ.parentNode;\n",
       "\n",
       "    // jQuery normalizes the pageX and pageY\n",
       "    // pageX,Y are the mouse positions relative to the document\n",
       "    // offset() returns the position of the element relative to the document\n",
       "    var x = e.pageX - $(targ).offset().left;\n",
       "    var y = e.pageY - $(targ).offset().top;\n",
       "\n",
       "    return {\"x\": x, \"y\": y};\n",
       "};\n",
       "\n",
       "/*\n",
       " * return a copy of an object with only non-object keys\n",
       " * we need this to avoid circular references\n",
       " * http://stackoverflow.com/a/24161582/3208463\n",
       " */\n",
       "function simpleKeys (original) {\n",
       "  return Object.keys(original).reduce(function (obj, key) {\n",
       "    if (typeof original[key] !== 'object')\n",
       "        obj[key] = original[key]\n",
       "    return obj;\n",
       "  }, {});\n",
       "}\n",
       "\n",
       "mpl.figure.prototype.mouse_event = function(event, name) {\n",
       "    var canvas_pos = mpl.findpos(event)\n",
       "\n",
       "    if (name === 'button_press')\n",
       "    {\n",
       "        this.canvas.focus();\n",
       "        this.canvas_div.focus();\n",
       "    }\n",
       "\n",
       "    var x = canvas_pos.x * mpl.ratio;\n",
       "    var y = canvas_pos.y * mpl.ratio;\n",
       "\n",
       "    this.send_message(name, {x: x, y: y, button: event.button,\n",
       "                             step: event.step,\n",
       "                             guiEvent: simpleKeys(event)});\n",
       "\n",
       "    /* This prevents the web browser from automatically changing to\n",
       "     * the text insertion cursor when the button is pressed.  We want\n",
       "     * to control all of the cursor setting manually through the\n",
       "     * 'cursor' event from matplotlib */\n",
       "    event.preventDefault();\n",
       "    return false;\n",
       "}\n",
       "\n",
       "mpl.figure.prototype._key_event_extra = function(event, name) {\n",
       "    // Handle any extra behaviour associated with a key event\n",
       "}\n",
       "\n",
       "mpl.figure.prototype.key_event = function(event, name) {\n",
       "\n",
       "    // Prevent repeat events\n",
       "    if (name == 'key_press')\n",
       "    {\n",
       "        if (event.which === this._key)\n",
       "            return;\n",
       "        else\n",
       "            this._key = event.which;\n",
       "    }\n",
       "    if (name == 'key_release')\n",
       "        this._key = null;\n",
       "\n",
       "    var value = '';\n",
       "    if (event.ctrlKey && event.which != 17)\n",
       "        value += \"ctrl+\";\n",
       "    if (event.altKey && event.which != 18)\n",
       "        value += \"alt+\";\n",
       "    if (event.shiftKey && event.which != 16)\n",
       "        value += \"shift+\";\n",
       "\n",
       "    value += 'k';\n",
       "    value += event.which.toString();\n",
       "\n",
       "    this._key_event_extra(event, name);\n",
       "\n",
       "    this.send_message(name, {key: value,\n",
       "                             guiEvent: simpleKeys(event)});\n",
       "    return false;\n",
       "}\n",
       "\n",
       "mpl.figure.prototype.toolbar_button_onclick = function(name) {\n",
       "    if (name == 'download') {\n",
       "        this.handle_save(this, null);\n",
       "    } else {\n",
       "        this.send_message(\"toolbar_button\", {name: name});\n",
       "    }\n",
       "};\n",
       "\n",
       "mpl.figure.prototype.toolbar_button_onmouseover = function(tooltip) {\n",
       "    this.message.textContent = tooltip;\n",
       "};\n",
       "mpl.toolbar_items = [[\"Home\", \"Reset original view\", \"fa fa-home icon-home\", \"home\"], [\"Back\", \"Back to  previous view\", \"fa fa-arrow-left icon-arrow-left\", \"back\"], [\"Forward\", \"Forward to next view\", \"fa fa-arrow-right icon-arrow-right\", \"forward\"], [\"\", \"\", \"\", \"\"], [\"Pan\", \"Pan axes with left mouse, zoom with right\", \"fa fa-arrows icon-move\", \"pan\"], [\"Zoom\", \"Zoom to rectangle\", \"fa fa-square-o icon-check-empty\", \"zoom\"], [\"\", \"\", \"\", \"\"], [\"Download\", \"Download plot\", \"fa fa-floppy-o icon-save\", \"download\"]];\n",
       "\n",
       "mpl.extensions = [\"eps\", \"jpeg\", \"pdf\", \"png\", \"ps\", \"raw\", \"svg\", \"tif\"];\n",
       "\n",
       "mpl.default_extension = \"png\";var comm_websocket_adapter = function(comm) {\n",
       "    // Create a \"websocket\"-like object which calls the given IPython comm\n",
       "    // object with the appropriate methods. Currently this is a non binary\n",
       "    // socket, so there is still some room for performance tuning.\n",
       "    var ws = {};\n",
       "\n",
       "    ws.close = function() {\n",
       "        comm.close()\n",
       "    };\n",
       "    ws.send = function(m) {\n",
       "        //console.log('sending', m);\n",
       "        comm.send(m);\n",
       "    };\n",
       "    // Register the callback with on_msg.\n",
       "    comm.on_msg(function(msg) {\n",
       "        //console.log('receiving', msg['content']['data'], msg);\n",
       "        // Pass the mpl event to the overriden (by mpl) onmessage function.\n",
       "        ws.onmessage(msg['content']['data'])\n",
       "    });\n",
       "    return ws;\n",
       "}\n",
       "\n",
       "mpl.mpl_figure_comm = function(comm, msg) {\n",
       "    // This is the function which gets called when the mpl process\n",
       "    // starts-up an IPython Comm through the \"matplotlib\" channel.\n",
       "\n",
       "    var id = msg.content.data.id;\n",
       "    // Get hold of the div created by the display call when the Comm\n",
       "    // socket was opened in Python.\n",
       "    var element = $(\"#\" + id);\n",
       "    var ws_proxy = comm_websocket_adapter(comm)\n",
       "\n",
       "    function ondownload(figure, format) {\n",
       "        window.open(figure.imageObj.src);\n",
       "    }\n",
       "\n",
       "    var fig = new mpl.figure(id, ws_proxy,\n",
       "                           ondownload,\n",
       "                           element.get(0));\n",
       "\n",
       "    // Call onopen now - mpl needs it, as it is assuming we've passed it a real\n",
       "    // web socket which is closed, not our websocket->open comm proxy.\n",
       "    ws_proxy.onopen();\n",
       "\n",
       "    fig.parent_element = element.get(0);\n",
       "    fig.cell_info = mpl.find_output_cell(\"<div id='\" + id + \"'></div>\");\n",
       "    if (!fig.cell_info) {\n",
       "        console.error(\"Failed to find cell for figure\", id, fig);\n",
       "        return;\n",
       "    }\n",
       "\n",
       "    var output_index = fig.cell_info[2]\n",
       "    var cell = fig.cell_info[0];\n",
       "\n",
       "};\n",
       "\n",
       "mpl.figure.prototype.handle_close = function(fig, msg) {\n",
       "    var width = fig.canvas.width/mpl.ratio\n",
       "    fig.root.unbind('remove')\n",
       "\n",
       "    // Update the output cell to use the data from the current canvas.\n",
       "    fig.push_to_output();\n",
       "    var dataURL = fig.canvas.toDataURL();\n",
       "    // Re-enable the keyboard manager in IPython - without this line, in FF,\n",
       "    // the notebook keyboard shortcuts fail.\n",
       "    IPython.keyboard_manager.enable()\n",
       "    $(fig.parent_element).html('<img src=\"' + dataURL + '\" width=\"' + width + '\">');\n",
       "    fig.close_ws(fig, msg);\n",
       "}\n",
       "\n",
       "mpl.figure.prototype.close_ws = function(fig, msg){\n",
       "    fig.send_message('closing', msg);\n",
       "    // fig.ws.close()\n",
       "}\n",
       "\n",
       "mpl.figure.prototype.push_to_output = function(remove_interactive) {\n",
       "    // Turn the data on the canvas into data in the output cell.\n",
       "    var width = this.canvas.width/mpl.ratio\n",
       "    var dataURL = this.canvas.toDataURL();\n",
       "    this.cell_info[1]['text/html'] = '<img src=\"' + dataURL + '\" width=\"' + width + '\">';\n",
       "}\n",
       "\n",
       "mpl.figure.prototype.updated_canvas_event = function() {\n",
       "    // Tell IPython that the notebook contents must change.\n",
       "    IPython.notebook.set_dirty(true);\n",
       "    this.send_message(\"ack\", {});\n",
       "    var fig = this;\n",
       "    // Wait a second, then push the new image to the DOM so\n",
       "    // that it is saved nicely (might be nice to debounce this).\n",
       "    setTimeout(function () { fig.push_to_output() }, 1000);\n",
       "}\n",
       "\n",
       "mpl.figure.prototype._init_toolbar = function() {\n",
       "    var fig = this;\n",
       "\n",
       "    var nav_element = $('<div/>')\n",
       "    nav_element.attr('style', 'width: 100%');\n",
       "    this.root.append(nav_element);\n",
       "\n",
       "    // Define a callback function for later on.\n",
       "    function toolbar_event(event) {\n",
       "        return fig.toolbar_button_onclick(event['data']);\n",
       "    }\n",
       "    function toolbar_mouse_event(event) {\n",
       "        return fig.toolbar_button_onmouseover(event['data']);\n",
       "    }\n",
       "\n",
       "    for(var toolbar_ind in mpl.toolbar_items){\n",
       "        var name = mpl.toolbar_items[toolbar_ind][0];\n",
       "        var tooltip = mpl.toolbar_items[toolbar_ind][1];\n",
       "        var image = mpl.toolbar_items[toolbar_ind][2];\n",
       "        var method_name = mpl.toolbar_items[toolbar_ind][3];\n",
       "\n",
       "        if (!name) { continue; };\n",
       "\n",
       "        var button = $('<button class=\"btn btn-default\" href=\"#\" title=\"' + name + '\"><i class=\"fa ' + image + ' fa-lg\"></i></button>');\n",
       "        button.click(method_name, toolbar_event);\n",
       "        button.mouseover(tooltip, toolbar_mouse_event);\n",
       "        nav_element.append(button);\n",
       "    }\n",
       "\n",
       "    // Add the status bar.\n",
       "    var status_bar = $('<span class=\"mpl-message\" style=\"text-align:right; float: right;\"/>');\n",
       "    nav_element.append(status_bar);\n",
       "    this.message = status_bar[0];\n",
       "\n",
       "    // Add the close button to the window.\n",
       "    var buttongrp = $('<div class=\"btn-group inline pull-right\"></div>');\n",
       "    var button = $('<button class=\"btn btn-mini btn-primary\" href=\"#\" title=\"Stop Interaction\"><i class=\"fa fa-power-off icon-remove icon-large\"></i></button>');\n",
       "    button.click(function (evt) { fig.handle_close(fig, {}); } );\n",
       "    button.mouseover('Stop Interaction', toolbar_mouse_event);\n",
       "    buttongrp.append(button);\n",
       "    var titlebar = this.root.find($('.ui-dialog-titlebar'));\n",
       "    titlebar.prepend(buttongrp);\n",
       "}\n",
       "\n",
       "mpl.figure.prototype._root_extra_style = function(el){\n",
       "    var fig = this\n",
       "    el.on(\"remove\", function(){\n",
       "\tfig.close_ws(fig, {});\n",
       "    });\n",
       "}\n",
       "\n",
       "mpl.figure.prototype._canvas_extra_style = function(el){\n",
       "    // this is important to make the div 'focusable\n",
       "    el.attr('tabindex', 0)\n",
       "    // reach out to IPython and tell the keyboard manager to turn it's self\n",
       "    // off when our div gets focus\n",
       "\n",
       "    // location in version 3\n",
       "    if (IPython.notebook.keyboard_manager) {\n",
       "        IPython.notebook.keyboard_manager.register_events(el);\n",
       "    }\n",
       "    else {\n",
       "        // location in version 2\n",
       "        IPython.keyboard_manager.register_events(el);\n",
       "    }\n",
       "\n",
       "}\n",
       "\n",
       "mpl.figure.prototype._key_event_extra = function(event, name) {\n",
       "    var manager = IPython.notebook.keyboard_manager;\n",
       "    if (!manager)\n",
       "        manager = IPython.keyboard_manager;\n",
       "\n",
       "    // Check for shift+enter\n",
       "    if (event.shiftKey && event.which == 13) {\n",
       "        this.canvas_div.blur();\n",
       "        event.shiftKey = false;\n",
       "        // Send a \"J\" for go to next cell\n",
       "        event.which = 74;\n",
       "        event.keyCode = 74;\n",
       "        manager.command_mode();\n",
       "        manager.handle_keydown(event);\n",
       "    }\n",
       "}\n",
       "\n",
       "mpl.figure.prototype.handle_save = function(fig, msg) {\n",
       "    fig.ondownload(fig, null);\n",
       "}\n",
       "\n",
       "\n",
       "mpl.find_output_cell = function(html_output) {\n",
       "    // Return the cell and output element which can be found *uniquely* in the notebook.\n",
       "    // Note - this is a bit hacky, but it is done because the \"notebook_saving.Notebook\"\n",
       "    // IPython event is triggered only after the cells have been serialised, which for\n",
       "    // our purposes (turning an active figure into a static one), is too late.\n",
       "    var cells = IPython.notebook.get_cells();\n",
       "    var ncells = cells.length;\n",
       "    for (var i=0; i<ncells; i++) {\n",
       "        var cell = cells[i];\n",
       "        if (cell.cell_type === 'code'){\n",
       "            for (var j=0; j<cell.output_area.outputs.length; j++) {\n",
       "                var data = cell.output_area.outputs[j];\n",
       "                if (data.data) {\n",
       "                    // IPython >= 3 moved mimebundle to data attribute of output\n",
       "                    data = data.data;\n",
       "                }\n",
       "                if (data['text/html'] == html_output) {\n",
       "                    return [cell, data, j];\n",
       "                }\n",
       "            }\n",
       "        }\n",
       "    }\n",
       "}\n",
       "\n",
       "// Register the function which deals with the matplotlib target/channel.\n",
       "// The kernel may be null if the page has been refreshed.\n",
       "if (IPython.notebook.kernel != null) {\n",
       "    IPython.notebook.kernel.comm_manager.register_target('matplotlib', mpl.mpl_figure_comm);\n",
       "}\n"
      ],
      "text/plain": [
       "<IPython.core.display.Javascript object>"
      ]
     },
     "metadata": {},
     "output_type": "display_data"
    },
    {
     "data": {
      "text/html": [
       "<img src=\"data:image/png;base64,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\" width=\"640\">"
      ],
      "text/plain": [
       "<IPython.core.display.HTML object>"
      ]
     },
     "metadata": {},
     "output_type": "display_data"
    },
    {
     "data": {
      "text/plain": [
       "Text(0,0.5,'Percent of respondents')"
      ]
     },
     "execution_count": 223,
     "metadata": {},
     "output_type": "execute_result"
    }
   ],
   "source": [
    "import matplotlib.pyplot as plt\n",
    "%matplotlib notebook\n",
    "plt.hist(incomes, 30, edgecolor='black', normed=True)\n",
    "plt.title('Income Distribution for MACSS Graduate (2018 - 2022)', fontsize=15)\n",
    "plt.xlabel('Income ($)')\n",
    "plt.ylabel('Percent of respondents')\n"
   ]
  },
  {
   "cell_type": "markdown",
   "metadata": {},
   "source": [
    "b). Estimate the parameters of the lognormal distribution by generalized method of moments. Use the average income and standard deviation of income as your two moments. Use the identity matrix as your weighting matrix $\\hat{\\boldsymbol{W}}$. Plot your estimated lognormal PDF against the histogram from part (a). Report the value of your GMM criterion function at the estimated parameter values. Report and compare your two data moments against your two model moments at the estimated parameter values."
   ]
  },
  {
   "cell_type": "code",
   "execution_count": 142,
   "metadata": {
    "collapsed": true
   },
   "outputs": [],
   "source": [
    "def lognormpdf(x, mu, sigma):\n",
    "    pdfvals = (1/(x*sigma*np.sqrt(2*np.pi)))*np.exp(-1 * (((np.log(x)-mu)**2)/(2*sigma**2)))\n",
    "    return pdfvals"
   ]
  },
  {
   "cell_type": "code",
   "execution_count": 143,
   "metadata": {
    "collapsed": true
   },
   "outputs": [],
   "source": [
    "def data_moments(xvals):\n",
    "    data_mean = xvals.mean()\n",
    "    data_std = xvals.std()\n",
    "    \n",
    "    return data_mean, data_std"
   ]
  },
  {
   "cell_type": "code",
   "execution_count": 144,
   "metadata": {
    "collapsed": true
   },
   "outputs": [],
   "source": [
    "def model_moments(mu, sigma):\n",
    "    xfx = lambda x: x * lognormpdf(x, mu, sigma)\n",
    "    (model_mean, m_m_err) = intgr.quad(xfx, .01, np.inf)\n",
    "    x2fx = lambda x: ((x - model_mean)** 2) * lognormpdf(x, mu, sigma)\n",
    "    (model_var, v_m_err) = intgr.quad(x2fx, .01, np.inf)\n",
    "    model_std = np.sqrt(model_var)\n",
    "    \n",
    "    return model_mean, model_std"
   ]
  },
  {
   "cell_type": "code",
   "execution_count": 145,
   "metadata": {
    "collapsed": true
   },
   "outputs": [],
   "source": [
    "def error_vec(xvals, mu, sigma, simple):\n",
    "    data_mean, data_std = data_moments(xvals)\n",
    "    data_moms = np.array([[data_mean], [data_std]])\n",
    "    model_mean, model_std = model_moments(mu, sigma)\n",
    "    model_moms = np.array([[model_mean], [model_std]])\n",
    "    \n",
    "    if simple:\n",
    "        err_vec = model_moms - data_moms\n",
    "    else:\n",
    "        err_vec = (model_moms - data_moms) / data_moms\n",
    "    \n",
    "    return err_vec"
   ]
  },
  {
   "cell_type": "code",
   "execution_count": 146,
   "metadata": {
    "collapsed": true
   },
   "outputs": [],
   "source": [
    "def criterion(params, *args):\n",
    "    mu, sigma = params\n",
    "    xvals, W = args\n",
    "    err_vec = error_vec(xvals, mu, sigma, simple = True)\n",
    "    crit_val = np.dot(np.dot(err_vec.T, W), err_vec)\n",
    "    \n",
    "    return crit_val\n",
    "    "
   ]
  },
  {
   "cell_type": "code",
   "execution_count": 216,
   "metadata": {},
   "outputs": [
    {
     "name": "stderr",
     "output_type": "stream",
     "text": [
      "/Users/josephdenby/anaconda/lib/python3.6/site-packages/scipy/integrate/quadpack.py:364: IntegrationWarning: The algorithm does not converge.  Roundoff error is detected\n",
      "  in the extrapolation table.  It is assumed that the requested tolerance\n",
      "  cannot be achieved, and that the returned result (if full_output = 1) is \n",
      "  the best which can be obtained.\n",
      "  warnings.warn(msg, IntegrationWarning)\n"
     ]
    },
    {
     "name": "stdout",
     "output_type": "stream",
     "text": [
      "Mu estimate:  10.354393886017968 \n",
      "Sigma estimate:  0.9097929738174386 \n",
      "Criterion value:  [[2.8278238e+09]]\n"
     ]
    }
   ],
   "source": [
    "mu_init = 8\n",
    "sig_init = .7\n",
    "params_init = np.array([mu_init, sig_init])\n",
    "W_hat = np.eye(2)\n",
    "gmm_args = (incomes, W_hat)\n",
    "results = opt.minimize(criterion, params_init, args= gmm_args,\n",
    "                       method='L-BFGS-B', bounds=((1e-10, None), (1e-10, None)))\n",
    "mu_GMM1, sig_GMM1 = results.x\n",
    "print(\"Mu estimate: \", mu_GMM1, \"\\nSigma estimate: \", sig_GMM1, \"\\nCriterion value: \",criterion((mu_GMM1, sig_GMM1), incomes, W_hat))"
   ]
  },
  {
   "cell_type": "code",
   "execution_count": 148,
   "metadata": {},
   "outputs": [
    {
     "name": "stdout",
     "output_type": "stream",
     "text": [
      "Data mean:  87588.93076851241 \n",
      "Data sigma:  18035.906827092327\n",
      "Model mean:  47326.12350343659 \n",
      "Model sigma:  52773.92856536445\n"
     ]
    },
    {
     "name": "stderr",
     "output_type": "stream",
     "text": [
      "/Users/josephdenby/anaconda/lib/python3.6/site-packages/scipy/integrate/quadpack.py:364: IntegrationWarning: The algorithm does not converge.  Roundoff error is detected\n",
      "  in the extrapolation table.  It is assumed that the requested tolerance\n",
      "  cannot be achieved, and that the returned result (if full_output = 1) is \n",
      "  the best which can be obtained.\n",
      "  warnings.warn(msg, IntegrationWarning)\n"
     ]
    },
    {
     "data": {
      "text/plain": [
       "array([[-40262.80726508],\n",
       "       [ 34738.02173827]])"
      ]
     },
     "execution_count": 148,
     "metadata": {},
     "output_type": "execute_result"
    }
   ],
   "source": [
    "data_mean, data_std = data_moments(incomes)\n",
    "print(\"Data mean: \", data_mean, \"\\nData sigma: \", data_std)\n",
    "model_mean, model_std = model_moments(mu_GMM1, sig_GMM1)\n",
    "print(\"Model mean: \", model_mean, \"\\nModel sigma: \", model_std)\n",
    "err_vec = error_vec(incomes, mu_GMM1, sig_GMM1, simple = True)\n",
    "err_vec"
   ]
  },
  {
   "cell_type": "code",
   "execution_count": 224,
   "metadata": {},
   "outputs": [
    {
     "data": {
      "text/plain": [
       "<matplotlib.legend.Legend at 0x10eaa39b0>"
      ]
     },
     "execution_count": 224,
     "metadata": {},
     "output_type": "execute_result"
    }
   ],
   "source": [
    "# Plot the histogram of the data\n",
    "plt.hist(incomes, 30, edgecolor='black', normed=True)\n",
    "plt.title('Income Distribution for MACSS Graduate (2018 - 2022)', fontsize=15)\n",
    "plt.xlabel('Income ($)')\n",
    "plt.ylabel('Percent of respondents')\n",
    "\n",
    "# Plot the estimated GMM PDF\n",
    "dist_pts = np.linspace(0.01, 150000)\n",
    "plt.plot(dist_pts, lognormpdf(dist_pts, mu_GMM1, sig_GMM1),\n",
    "         linewidth=2, color='k', label='1: $\\mu_{GMM1}$,$\\sigma_{GMM1}$')\n",
    "plt.legend(loc='upper left')"
   ]
  },
  {
   "cell_type": "code",
   "execution_count": 156,
   "metadata": {},
   "outputs": [
    {
     "name": "stdout",
     "output_type": "stream",
     "text": [
      "[[-0.45967917]\n",
      " [ 1.92604797]]\n",
      "[[-40262.80726508]\n",
      " [ 34738.02173827]]\n"
     ]
    }
   ],
   "source": [
    "print(err1)\n",
    "print(err_vec)\n"
   ]
  },
  {
   "cell_type": "markdown",
   "metadata": {},
   "source": [
    "c). Perform the two-step GMM estimator by using your estimates from part (b) with two moments to generate an estimator for the variance covariance matrix $\\hat{\\boldsymbol{\\Omega}}_{2step}$, which you then use to get the two-step estimator for the optimal weighting matrix $\\hat{\\boldsymbol{W}}_{2step}$. Report your estimates as well as the criterion function value at these estimates. Plot your estimated lognormal PDF against the histogram from part (a) and the estimated PDF from part (b). Report and compare your two data moments against your two model moments at the estimated parameter values."
   ]
  },
  {
   "cell_type": "code",
   "execution_count": 167,
   "metadata": {
    "collapsed": true
   },
   "outputs": [],
   "source": [
    "def criterion_optimal(params, *args):\n",
    "    mu, sigma = params\n",
    "    xvals, W = args\n",
    "    err_vec = error_vec(xvals, mu, sigma, simple = False)\n",
    "    crit_val = np.dot(np.dot(err_vec.T, W), err_vec)\n",
    "    \n",
    "    return crit_val\n",
    "    "
   ]
  },
  {
   "cell_type": "code",
   "execution_count": 168,
   "metadata": {},
   "outputs": [
    {
     "name": "stdout",
     "output_type": "stream",
     "text": [
      "VCV Matrix Estimate:\n",
      " [[ 0.00105652 -0.00442682]\n",
      " [-0.00442682  0.0185483 ]]\n",
      "Optimal Weighting Matrix:\n",
      "  [[  2.74886593 -11.5177018 ]\n",
      " [-11.5177018   48.25897601]]\n"
     ]
    },
    {
     "name": "stderr",
     "output_type": "stream",
     "text": [
      "/Users/josephdenby/anaconda/lib/python3.6/site-packages/scipy/integrate/quadpack.py:364: IntegrationWarning: The algorithm does not converge.  Roundoff error is detected\n",
      "  in the extrapolation table.  It is assumed that the requested tolerance\n",
      "  cannot be achieved, and that the returned result (if full_output = 1) is \n",
      "  the best which can be obtained.\n",
      "  warnings.warn(msg, IntegrationWarning)\n"
     ]
    }
   ],
   "source": [
    "err1 = error_vec(incomes, mu_GMM1, sig_GMM1, False)\n",
    "VCV2 = np.dot(err1, err1.T) / incomes.shape[0]\n",
    "print(\"VCV Matrix Estimate:\\n\", VCV2)\n",
    "W_hat2 = lin.pinv(VCV2)  # Use the pseudo-inverse calculated by SVD because VCV2 is ill-conditioned\n",
    "print(\"Optimal Weighting Matrix:\\n \", W_hat2)"
   ]
  },
  {
   "cell_type": "code",
   "execution_count": 169,
   "metadata": {},
   "outputs": [
    {
     "name": "stdout",
     "output_type": "stream",
     "text": [
      "Mu estimate:  8.197480143577419 \n",
      "Sigma estimate:  1.2187217040702778 \n",
      "Criterion value:  [[1.10814863e+10]]\n"
     ]
    }
   ],
   "source": [
    "mu_init = 8\n",
    "sig_init = .7\n",
    "params_init = np.array([mu_init, sig_init])\n",
    "gmm_args = (incomes, W_hat2)\n",
    "results = opt.minimize(criterion_optimal, params_init, args= gmm_args,\n",
    "                       method='L-BFGS-B', bounds=((1e-10, None), (1e-10, None)))\n",
    "mu_GMM2, sig_GMM2 = results.x\n",
    "print(\"Mu estimate: \", mu_GMM2, \"\\nSigma estimate: \", sig_GMM2, \"\\nCriterion value: \",criterion((mu_GMM2, sig_GMM2), incomes, W_hat2))"
   ]
  },
  {
   "cell_type": "code",
   "execution_count": 170,
   "metadata": {},
   "outputs": [
    {
     "name": "stdout",
     "output_type": "stream",
     "text": [
      "Data mean:  87588.93076851241 \n",
      "Data sigma:  18035.906827092327\n",
      "Model 1 mean:  47326.12350343659 \n",
      "Model 1 sigma:  52773.92856536445\n",
      "Optimal weighting model mean:  7632.123841278394 \n",
      "Optimal weighting model sigma:  14106.455183080885\n"
     ]
    },
    {
     "name": "stderr",
     "output_type": "stream",
     "text": [
      "/Users/josephdenby/anaconda/lib/python3.6/site-packages/scipy/integrate/quadpack.py:364: IntegrationWarning: The algorithm does not converge.  Roundoff error is detected\n",
      "  in the extrapolation table.  It is assumed that the requested tolerance\n",
      "  cannot be achieved, and that the returned result (if full_output = 1) is \n",
      "  the best which can be obtained.\n",
      "  warnings.warn(msg, IntegrationWarning)\n"
     ]
    }
   ],
   "source": [
    "data_mean, data_std = data_moments(incomes)\n",
    "print(\"Data mean: \", data_mean, \"\\nData sigma: \", data_std)\n",
    "model1_mean, model1_std = model_moments(mu_GMM1, sig_GMM1)\n",
    "print(\"Model 1 mean: \", model1_mean, \"\\nModel 1 sigma: \", model1_std)\n",
    "model2_mean, model2_std = model_moments(mu_GMM2, sig_GMM2)\n",
    "print(\"Optimal weighting model mean: \", model2_mean, \"\\nOptimal weighting model sigma: \", model2_std)\n"
   ]
  },
  {
   "cell_type": "code",
   "execution_count": 225,
   "metadata": {},
   "outputs": [
    {
     "data": {
      "text/plain": [
       "<matplotlib.legend.Legend at 0x10eb6d208>"
      ]
     },
     "execution_count": 225,
     "metadata": {},
     "output_type": "execute_result"
    }
   ],
   "source": [
    "dist_pts = np.linspace(0.01, 150000)\n",
    "plt.plot(dist_pts, lognormpdf(dist_pts, mu_GMM2, sig_GMM2),\n",
    "         linewidth=2, color='b', label='2: $\\mu_{GMM2}$,$\\sigma_{GMM2}$')\n",
    "plt.legend(loc='upper left')"
   ]
  },
  {
   "cell_type": "markdown",
   "metadata": {},
   "source": [
    "d). Now estimate the lognormal PDF to fit the data by GMM using different moments. Use percent of individuals who earn less than \\$75,000, percent of individuals who earn between \\$75,000 and \\$100,000, and percent of individuals who earn more than \\$100,000 as your three moments. Use the identity matrix as your estimator for the optimal weighting matrix. Plot your estimated lognormal PDF against the histogram from part (a). Report the value of your GMM criterion function at the estimated parameter values. Report and compare your three data moments against your three model moments at the estimated parameter values."
   ]
  },
  {
   "cell_type": "markdown",
   "metadata": {},
   "source": [
    "First, the functions needed for estimating using the new moments."
   ]
  },
  {
   "cell_type": "code",
   "execution_count": 164,
   "metadata": {
    "collapsed": true
   },
   "outputs": [],
   "source": [
    "def pct_data_moments(xvals):\n",
    "    total = xvals.shape[0]\n",
    "    pct1_data = xvals[xvals < 75000].shape[0]/total\n",
    "    pct2_data = xvals[(xvals >= 75000) & (xvals < 100000)].shape[0] / total\n",
    "    pct3_data = xvals[xvals >= 100000].shape[0] / total\n",
    "    \n",
    "    return pct1_data, pct2_data, pct3_data"
   ]
  },
  {
   "cell_type": "code",
   "execution_count": 178,
   "metadata": {},
   "outputs": [
    {
     "data": {
      "text/plain": [
       "(0.265, 0.475, 0.26)"
      ]
     },
     "execution_count": 178,
     "metadata": {},
     "output_type": "execute_result"
    }
   ],
   "source": [
    "pct_data_moments(incomes)"
   ]
  },
  {
   "cell_type": "code",
   "execution_count": 183,
   "metadata": {},
   "outputs": [],
   "source": [
    "def pct_mod_moments(mu, sigma):\n",
    "    xfx = lambda x: lognormpdf(x, mu, sigma)\n",
    "    (pct1_model, pct1_err) = intgr.quad(xfx, 0, 75000)\n",
    "    (pct2_model, pct2_err) = intgr.quad(xfx, 75000, 100000)\n",
    "    (pct3_model, pct3_err) = intgr.quad(xfx, 100000, np.inf)\n",
    "    \n",
    "    return pct1_model, pct2_model, pct3_model"
   ]
  },
  {
   "cell_type": "code",
   "execution_count": 188,
   "metadata": {},
   "outputs": [
    {
     "data": {
      "text/plain": [
       "(0.8945969922146072, 0.10321419875134624, 0.0021888090340504173)"
      ]
     },
     "execution_count": 188,
     "metadata": {},
     "output_type": "execute_result"
    }
   ],
   "source": [
    "pct_mod_moments(11, .18)"
   ]
  },
  {
   "cell_type": "code",
   "execution_count": 189,
   "metadata": {},
   "outputs": [],
   "source": [
    "def err_vec2(xvals, mu, sigma, simple):\n",
    "    pct1_data, pct2_data, pct3_data = pct_data_moments(xvals)\n",
    "    data_moms = np.array([[pct1_data], [pct2_data], [pct3_data]])\n",
    "    \n",
    "    pct1_model, pct2_model, pct3_model = pct_mod_moments(mu, sigma)\n",
    "    model_moms = np.array([[pct1_model], [pct2_model], [pct3_model]])\n",
    "    \n",
    "    if simple:\n",
    "        err_vec = model_moms - data_moms\n",
    "    else:\n",
    "        err_vec = 100 * ((model_moms - data_moms) / data_moms)\n",
    "    \n",
    "    return err_vec"
   ]
  },
  {
   "cell_type": "code",
   "execution_count": 203,
   "metadata": {
    "collapsed": true
   },
   "outputs": [],
   "source": [
    "def criterion2(params, *args):\n",
    "    mu, sigma = params\n",
    "    xvals, W = args\n",
    "    err = err_vec2(xvals, mu, sigma, simple = True)\n",
    "    crit_val = np.dot(np.dot(err.T, W), err)\n",
    "    \n",
    "    return crit_val"
   ]
  },
  {
   "cell_type": "code",
   "execution_count": 204,
   "metadata": {},
   "outputs": [
    {
     "data": {
      "text/plain": [
       "array([[0.60108366]])"
      ]
     },
     "execution_count": 204,
     "metadata": {},
     "output_type": "execute_result"
    }
   ],
   "source": [
    "criterion2((11,.18),incomes, W_hat)"
   ]
  },
  {
   "cell_type": "markdown",
   "metadata": {},
   "source": [
    "Now, we can try to estimate the model parameters."
   ]
  },
  {
   "cell_type": "code",
   "execution_count": 215,
   "metadata": {},
   "outputs": [
    {
     "name": "stderr",
     "output_type": "stream",
     "text": [
      "/Users/josephdenby/anaconda/lib/python3.6/site-packages/scipy/integrate/quadpack.py:364: IntegrationWarning: The integral is probably divergent, or slowly convergent.\n",
      "  warnings.warn(msg, IntegrationWarning)\n",
      "/Users/josephdenby/anaconda/lib/python3.6/site-packages/scipy/integrate/quadpack.py:364: IntegrationWarning: The algorithm does not converge.  Roundoff error is detected\n",
      "  in the extrapolation table.  It is assumed that the requested tolerance\n",
      "  cannot be achieved, and that the returned result (if full_output = 1) is \n",
      "  the best which can be obtained.\n",
      "  warnings.warn(msg, IntegrationWarning)\n",
      "/Users/josephdenby/anaconda/lib/python3.6/site-packages/scipy/integrate/quadpack.py:364: IntegrationWarning: The maximum number of subdivisions (50) has been achieved.\n",
      "  If increasing the limit yields no improvement it is advised to analyze \n",
      "  the integrand in order to determine the difficulties.  If the position of a \n",
      "  local difficulty can be determined (singularity, discontinuity) one will \n",
      "  probably gain from splitting up the interval and calling the integrator \n",
      "  on the subranges.  Perhaps a special-purpose integrator should be used.\n",
      "  warnings.warn(msg, IntegrationWarning)\n"
     ]
    },
    {
     "name": "stdout",
     "output_type": "stream",
     "text": [
      "Pct Mu estimate:  9.286567332345987 \n",
      "Pct Sigma estimate:  6.599728633796923 \n",
      "Criterion value:  [[0.3335108]]\n"
     ]
    }
   ],
   "source": [
    "mu_init = 8\n",
    "sig_init = .7\n",
    "params_init = np.array([mu_init, sig_init])\n",
    "W_hat3 = np.eye(3)\n",
    "gmm_args = (incomes, W_hat3)\n",
    "results = opt.minimize(criterion2, params_init, args= (gmm_args),\n",
    "                       method='L-BFGS-B', bounds=((1e-10, None), (1e-10, None)))\n",
    "mu_GMM3, sig_GMM3 = results.x\n",
    "print(\"Pct Mu estimate: \", mu_GMM3, \"\\nPct Sigma estimate: \", sig_GMM3, \"\\nCriterion value: \",criterion2((mu_GMM3, sig_GMM3), incomes, W_hat3))"
   ]
  },
  {
   "cell_type": "code",
   "execution_count": 208,
   "metadata": {},
   "outputs": [
    {
     "name": "stdout",
     "output_type": "stream",
     "text": [
      "From data:\n",
      "\n",
      "% less than $75000:  0.265 \n",
      "% between $75000 and $100000:  0.475 \n",
      "% above $100000:  0.26\n",
      "\n",
      "From model:\n",
      "\n",
      "% less than $75000:  0.6155258498853857 \n",
      "% between $75000 and $100000:  0.01654415731869369 \n",
      "% above $100000:  0.28146312898969594\n"
     ]
    },
    {
     "name": "stderr",
     "output_type": "stream",
     "text": [
      "/Users/josephdenby/anaconda/lib/python3.6/site-packages/scipy/integrate/quadpack.py:364: IntegrationWarning: The algorithm does not converge.  Roundoff error is detected\n",
      "  in the extrapolation table.  It is assumed that the requested tolerance\n",
      "  cannot be achieved, and that the returned result (if full_output = 1) is \n",
      "  the best which can be obtained.\n",
      "  warnings.warn(msg, IntegrationWarning)\n"
     ]
    }
   ],
   "source": [
    "pct1_data, pct2_data, pct3_data = pct_data_moments(incomes)\n",
    "pct1_model, pct2_model, pct3_model = pct_mod_moments(mu_GMM3, sig_GMM3)\n",
    "print(\"From data:\\n\")\n",
    "print(\"% less than $75000: \", pct1_data, \"\\n% between $75000 and $100000: \", pct2_data, \"\\n% above $100000: \", pct3_data)\n",
    "print(\"\\nFrom model:\\n\")\n",
    "print(\"% less than $75000: \", pct1_model, \"\\n% between $75000 and $100000: \", pct2_model, \"\\n% above $100000: \", pct3_model)"
   ]
  },
  {
   "cell_type": "code",
   "execution_count": 213,
   "metadata": {},
   "outputs": [
    {
     "data": {
      "text/plain": [
       "<matplotlib.legend.Legend at 0x10ea74278>"
      ]
     },
     "execution_count": 213,
     "metadata": {},
     "output_type": "execute_result"
    }
   ],
   "source": [
    "dist_pts = np.linspace(0.01, 150000)\n",
    "plt.plot(dist_pts, lognormpdf(dist_pts, mu_GMM3, sig_GMM3),\n",
    "         linewidth=2, color='r', label='3: $\\mu_{GMM3}$,$\\sigma_{GMM3}$')\n",
    "plt.legend(loc='upper left')"
   ]
  },
  {
   "cell_type": "code",
   "execution_count": 218,
   "metadata": {},
   "outputs": [
    {
     "name": "stdout",
     "output_type": "stream",
     "text": [
      "Mu estimate:  10.354393886017968 \n",
      "Sigma estimate:  0.9097929738174386 \n",
      "Criterion value:  [[2.8278238e+09]]\n",
      "Opt mu estimate:  8.197480143577419 \n",
      "Opt sigma estimate:  1.2187217040702778 \n",
      "Criterion value:  [[1.10814863e+10]]\n",
      "Pct Mu estimate:  9.286567332345987 \n",
      "Pct Sigma estimate:  6.599728633796923 \n",
      "Criterion value:  [[0.3335108]]\n"
     ]
    },
    {
     "name": "stderr",
     "output_type": "stream",
     "text": [
      "/Users/josephdenby/anaconda/lib/python3.6/site-packages/scipy/integrate/quadpack.py:364: IntegrationWarning: The algorithm does not converge.  Roundoff error is detected\n",
      "  in the extrapolation table.  It is assumed that the requested tolerance\n",
      "  cannot be achieved, and that the returned result (if full_output = 1) is \n",
      "  the best which can be obtained.\n",
      "  warnings.warn(msg, IntegrationWarning)\n"
     ]
    }
   ],
   "source": [
    "print(\"Mu estimate: \", mu_GMM1, \"\\nSigma estimate: \", sig_GMM1, \"\\nCriterion value: \",criterion((mu_GMM1, sig_GMM1), incomes, W_hat))\n",
    "print(\"Opt mu estimate: \", mu_GMM2, \"\\nOpt sigma estimate: \", sig_GMM2, \"\\nCriterion value: \",criterion((mu_GMM2, sig_GMM2), incomes, W_hat2))\n",
    "print(\"Pct Mu estimate: \", mu_GMM3, \"\\nPct Sigma estimate: \", sig_GMM3, \"\\nCriterion value: \",criterion2((mu_GMM3, sig_GMM3), incomes, W_hat3))\n"
   ]
  },
  {
   "cell_type": "markdown",
   "metadata": {},
   "source": [
    "e). Perform the two-step GMM estimator by using your estimates from part (d) with three moments to generate an estimator for the variance covariance matrix $\\hat{\\boldsymbol{\\Omega}}_2step$, which you then use to get the two-step estimator for the optimal weighting matrix $\\hat{\\boldsymbol{W}}_2step$. Report your estimates as well as the criterion function value at these estimates. Plot your estimated lognormal PDF against the histogram from part (a) and the estimated PDF from part (d). Report and compare your three data moments against your three model moments at the estimated parameter values."
   ]
  },
  {
   "cell_type": "code",
   "execution_count": 219,
   "metadata": {},
   "outputs": [
    {
     "name": "stdout",
     "output_type": "stream",
     "text": [
      "VCV Matrix Estimate:\n",
      " [[ 87.48193054 -63.83341565   5.45963827]\n",
      " [-63.83341565  46.57767528  -3.98376392]\n",
      " [  5.45963827  -3.98376392   0.34072922]]\n",
      "Optimal Weighting Matrix:\n",
      "  [[ 4.84303554e-03 -3.53384406e-03  3.02247812e-04]\n",
      " [-3.53384406e-03  2.57855920e-03 -2.20542804e-04]\n",
      " [ 3.02247812e-04 -2.20542804e-04  1.88629093e-05]]\n"
     ]
    },
    {
     "name": "stderr",
     "output_type": "stream",
     "text": [
      "/Users/josephdenby/anaconda/lib/python3.6/site-packages/scipy/integrate/quadpack.py:364: IntegrationWarning: The algorithm does not converge.  Roundoff error is detected\n",
      "  in the extrapolation table.  It is assumed that the requested tolerance\n",
      "  cannot be achieved, and that the returned result (if full_output = 1) is \n",
      "  the best which can be obtained.\n",
      "  warnings.warn(msg, IntegrationWarning)\n"
     ]
    }
   ],
   "source": [
    "err2 = err_vec2(incomes, mu_GMM3, sig_GMM3, False)\n",
    "VCV3 = np.dot(err2, err2.T) / incomes.shape[0]\n",
    "print(\"VCV Matrix Estimate:\\n\", VCV3)\n",
    "W_hat4 = lin.pinv(VCV3)  # Use the pseudo-inverse calculated by SVD because VCV2 is ill-conditioned\n",
    "print(\"Optimal Weighting Matrix:\\n \", W_hat4)"
   ]
  },
  {
   "cell_type": "code",
   "execution_count": 220,
   "metadata": {},
   "outputs": [
    {
     "name": "stdout",
     "output_type": "stream",
     "text": [
      "Opt Pct Mu estimate:  8.0 \n",
      "Opt Pct Sigma estimate:  0.7 \n",
      "Criterion value:  [[0.00549687]]\n"
     ]
    },
    {
     "name": "stderr",
     "output_type": "stream",
     "text": [
      "/Users/josephdenby/anaconda/lib/python3.6/site-packages/scipy/integrate/quadpack.py:364: IntegrationWarning: The integral is probably divergent, or slowly convergent.\n",
      "  warnings.warn(msg, IntegrationWarning)\n"
     ]
    }
   ],
   "source": [
    "mu_init = 8\n",
    "sig_init = .7\n",
    "params_init = np.array([mu_init, sig_init])\n",
    "gmm_args = (incomes, W_hat4)\n",
    "results = opt.minimize(criterion2, params_init, args= (gmm_args),\n",
    "                       method='L-BFGS-B', bounds=((1e-10, None), (1e-10, None)))\n",
    "mu_GMM4, sig_GMM4 = results.x\n",
    "print(\"Opt Pct Mu estimate: \", mu_GMM4, \"\\nOpt Pct Sigma estimate: \", sig_GMM4, \"\\nCriterion value: \",criterion2((mu_GMM4, sig_GMM4), incomes, W_hat4))"
   ]
  },
  {
   "cell_type": "code",
   "execution_count": 221,
   "metadata": {},
   "outputs": [
    {
     "data": {
      "text/plain": [
       "<matplotlib.legend.Legend at 0x10eb0fe10>"
      ]
     },
     "execution_count": 221,
     "metadata": {},
     "output_type": "execute_result"
    }
   ],
   "source": [
    "dist_pts = np.linspace(0.01, 150000)\n",
    "plt.plot(dist_pts, lognormpdf(dist_pts, mu_GMM4, sig_GMM4),\n",
    "         linewidth=2, color='y', label='4: $\\mu_{GMM4}$,$\\sigma_{GMM4}$')\n",
    "plt.legend(loc='upper left')"
   ]
  },
  {
   "cell_type": "code",
   "execution_count": 222,
   "metadata": {},
   "outputs": [
    {
     "name": "stdout",
     "output_type": "stream",
     "text": [
      "From data:\n",
      "\n",
      "% less than $75000:  0.265 \n",
      "% between $75000 and $100000:  0.475 \n",
      "% above $100000:  0.26\n",
      "\n",
      "From model:\n",
      "\n",
      "% less than $75000:  0.999997962211506 \n",
      "% between $75000 and $100000:  1.7773585275231743e-06 \n",
      "% above $100000:  1.6097003787277763e-09\n"
     ]
    },
    {
     "name": "stderr",
     "output_type": "stream",
     "text": [
      "/Users/josephdenby/anaconda/lib/python3.6/site-packages/scipy/integrate/quadpack.py:364: IntegrationWarning: The integral is probably divergent, or slowly convergent.\n",
      "  warnings.warn(msg, IntegrationWarning)\n"
     ]
    }
   ],
   "source": [
    "pct1_data, pct2_data, pct3_data = pct_data_moments(incomes)\n",
    "pct1_model, pct2_model, pct3_model = pct_mod_moments(mu_GMM4, sig_GMM4)\n",
    "print(\"From data:\\n\")\n",
    "print(\"% less than $75000: \", pct1_data, \"\\n% between $75000 and $100000: \", pct2_data, \"\\n% above $100000: \", pct3_data)\n",
    "print(\"\\nFrom model:\\n\")\n",
    "print(\"% less than $75000: \", pct1_model, \"\\n% between $75000 and $100000: \", pct2_model, \"\\n% above $100000: \", pct3_model)"
   ]
  },
  {
   "cell_type": "markdown",
   "metadata": {},
   "source": [
    "f). Which of the four estimations from parts (b), (c), (d), and (e) fits the data best? Justify your answer."
   ]
  },
  {
   "cell_type": "markdown",
   "metadata": {},
   "source": [
    "Based on the parameter estimates for the four models (as well as the eyeball test), it seems as though the latter two models failed completely, either due to a poor choice in moments or, more likely, a mechanical error on my part. As such, the first two models are better choices. Neither of those two are particularly appealing either, but, if forced to choose, I would opt for the first, only because its distribution seems a better match visually to the data distribution."
   ]
  },
  {
   "cell_type": "markdown",
   "metadata": {},
   "source": [
    "#### Problem 2"
   ]
  },
  {
   "cell_type": "code",
   "execution_count": 228,
   "metadata": {},
   "outputs": [],
   "source": [
    "sickdf = pd.read_csv(\"../../ProblemSets/PS2/sick.txt\")\n",
    "sick = sickdf['sick']\n",
    "age = sickdf['age']\n",
    "children = sickdf['children']\n",
    "temp = sickdf['avgtemp_winter']"
   ]
  },
  {
   "cell_type": "code",
   "execution_count": 239,
   "metadata": {
    "collapsed": true
   },
   "outputs": [],
   "source": [
    "def model_moments(variables, params):\n",
    "    sick, age, children, temp = variables\n",
    "    b0, b1, b2, b3 = params\n",
    "    model_moms = (b0 + b1*age + b2*children + b3*temp)\n",
    "    \n",
    "    return model_moms"
   ]
  },
  {
   "cell_type": "code",
   "execution_count": 258,
   "metadata": {
    "collapsed": true
   },
   "outputs": [],
   "source": [
    "def sick_error_vec(variables, params):\n",
    "    sick, age, children, temp = variables\n",
    "    model_moms = model_moments(variables, params)\n",
    "    sick_error_vec = sick - model_moms\n",
    "    \n",
    "    return sick_error_vec"
   ]
  },
  {
   "cell_type": "code",
   "execution_count": 259,
   "metadata": {
    "collapsed": true
   },
   "outputs": [],
   "source": [
    "def sick_criterion(params, *args):\n",
    "    b0, b1, b2, b3 = params\n",
    "    sick, age, children, temp, W = args\n",
    "    variables = (sick, age, children, temp)\n",
    "    err_vec = sick_error_vec(variables, params)\n",
    "    crit_val = np.dot(np.dot(err_vec.T, W), err_vec)\n",
    "    \n",
    "    return crit_val "
   ]
  },
  {
   "cell_type": "code",
   "execution_count": 257,
   "metadata": {},
   "outputs": [
    {
     "name": "stdout",
     "output_type": "stream",
     "text": [
      "Optimal b0 = 0.25164509437052196 \n",
      "Optimal b1 =  0.01293347440605325 \n",
      "Optimal b2 =  0.4005009186979826 \n",
      "Optimal b3 =  -0.009991711364417786\n",
      "Optimal criterion =  0.0018212898084662768\n"
     ]
    }
   ],
   "source": [
    "b0_init = 3\n",
    "b1_init = 2\n",
    "b2_init = 4\n",
    "b3_init = 1\n",
    "params_init = np.array([b0_init, b1_init, b2_init, b3_init])\n",
    "W_sick = np.eye(200)\n",
    "gmm_args = (sick, age, children, temp, W_sick)\n",
    "results = opt.minimize(sick_criterion, params_init, args= (gmm_args),\n",
    "                       method='L-BFGS-B', bounds=((None, None), (None, None),(None, None), (None, None)))\n",
    "b0_GMM, b1_GMM, b2_GMM, b3_GMM = results.x\n",
    "print('Optimal b0 =', b0_GMM, \"\\nOptimal b1 = \", b1_GMM, \"\\nOptimal b2 = \", b2_GMM, \"\\nOptimal b3 = \", b3_GMM)\n",
    "print('Optimal criterion = ', sick_criterion((b0_GMM, b1_GMM, b2_GMM, b3_GMM), sick, age, children, temp, W_sick))"
   ]
  },
  {
   "cell_type": "code",
   "execution_count": null,
   "metadata": {
    "collapsed": true
   },
   "outputs": [],
   "source": []
  }
 ],
 "metadata": {
  "kernelspec": {
   "display_name": "Python 3",
   "language": "python",
   "name": "python3"
  },
  "language_info": {
   "codemirror_mode": {
    "name": "ipython",
    "version": 3
   },
   "file_extension": ".py",
   "mimetype": "text/x-python",
   "name": "python",
   "nbconvert_exporter": "python",
   "pygments_lexer": "ipython3",
   "version": "3.6.1"
  }
 },
 "nbformat": 4,
 "nbformat_minor": 2
}
