{
 "cells": [
  {
   "cell_type": "markdown",
   "metadata": {},
   "source": [
    "## Problem Set 7\n",
    "\n",
    "### Joseph Denby"
   ]
  },
  {
   "cell_type": "code",
   "execution_count": 107,
   "metadata": {},
   "outputs": [],
   "source": [
    "import pandas as pd\n",
    "import numpy as np\n",
    "\n",
    "import sklearn\n",
    "from sklearn.linear_model import LogisticRegression\n",
    "from sklearn.cross_validation import train_test_split\n",
    "from sklearn.model_selection import KFold\n",
    "from sklearn import metrics \n",
    "from sklearn.metrics import mean_squared_error\n",
    "from sklearn.ensemble import RandomForestClassifier\n",
    "from sklearn import svm\n"
   ]
  },
  {
   "cell_type": "code",
   "execution_count": 108,
   "metadata": {
    "collapsed": true
   },
   "outputs": [],
   "source": [
    "auto = pd.read_csv('../../../ProblemSets/PS7/Auto.csv', na_values='?')\n",
    "auto = auto.dropna()"
   ]
  },
  {
   "cell_type": "code",
   "execution_count": 109,
   "metadata": {},
   "outputs": [],
   "source": [
    "auto['mpg_high'] = auto['mpg'].apply(lambda x: int(x>=np.median(auto['mpg'])))\n",
    "auto['const'] = 1"
   ]
  },
  {
   "cell_type": "code",
   "execution_count": 110,
   "metadata": {},
   "outputs": [
    {
     "data": {
      "text/html": [
       "<div>\n",
       "<style scoped>\n",
       "    .dataframe tbody tr th:only-of-type {\n",
       "        vertical-align: middle;\n",
       "    }\n",
       "\n",
       "    .dataframe tbody tr th {\n",
       "        vertical-align: top;\n",
       "    }\n",
       "\n",
       "    .dataframe thead th {\n",
       "        text-align: right;\n",
       "    }\n",
       "</style>\n",
       "<table border=\"1\" class=\"dataframe\">\n",
       "  <thead>\n",
       "    <tr style=\"text-align: right;\">\n",
       "      <th></th>\n",
       "      <th>mpg</th>\n",
       "      <th>cylinders</th>\n",
       "      <th>displacement</th>\n",
       "      <th>horsepower</th>\n",
       "      <th>weight</th>\n",
       "      <th>acceleration</th>\n",
       "      <th>year</th>\n",
       "      <th>origin</th>\n",
       "      <th>name</th>\n",
       "      <th>mpg_high</th>\n",
       "      <th>const</th>\n",
       "    </tr>\n",
       "  </thead>\n",
       "  <tbody>\n",
       "    <tr>\n",
       "      <th>0</th>\n",
       "      <td>18.0</td>\n",
       "      <td>8</td>\n",
       "      <td>307.0</td>\n",
       "      <td>130.0</td>\n",
       "      <td>3504</td>\n",
       "      <td>12.0</td>\n",
       "      <td>70</td>\n",
       "      <td>1</td>\n",
       "      <td>chevrolet chevelle malibu</td>\n",
       "      <td>0</td>\n",
       "      <td>1</td>\n",
       "    </tr>\n",
       "    <tr>\n",
       "      <th>1</th>\n",
       "      <td>15.0</td>\n",
       "      <td>8</td>\n",
       "      <td>350.0</td>\n",
       "      <td>165.0</td>\n",
       "      <td>3693</td>\n",
       "      <td>11.5</td>\n",
       "      <td>70</td>\n",
       "      <td>1</td>\n",
       "      <td>buick skylark 320</td>\n",
       "      <td>0</td>\n",
       "      <td>1</td>\n",
       "    </tr>\n",
       "    <tr>\n",
       "      <th>2</th>\n",
       "      <td>18.0</td>\n",
       "      <td>8</td>\n",
       "      <td>318.0</td>\n",
       "      <td>150.0</td>\n",
       "      <td>3436</td>\n",
       "      <td>11.0</td>\n",
       "      <td>70</td>\n",
       "      <td>1</td>\n",
       "      <td>plymouth satellite</td>\n",
       "      <td>0</td>\n",
       "      <td>1</td>\n",
       "    </tr>\n",
       "    <tr>\n",
       "      <th>3</th>\n",
       "      <td>16.0</td>\n",
       "      <td>8</td>\n",
       "      <td>304.0</td>\n",
       "      <td>150.0</td>\n",
       "      <td>3433</td>\n",
       "      <td>12.0</td>\n",
       "      <td>70</td>\n",
       "      <td>1</td>\n",
       "      <td>amc rebel sst</td>\n",
       "      <td>0</td>\n",
       "      <td>1</td>\n",
       "    </tr>\n",
       "    <tr>\n",
       "      <th>4</th>\n",
       "      <td>17.0</td>\n",
       "      <td>8</td>\n",
       "      <td>302.0</td>\n",
       "      <td>140.0</td>\n",
       "      <td>3449</td>\n",
       "      <td>10.5</td>\n",
       "      <td>70</td>\n",
       "      <td>1</td>\n",
       "      <td>ford torino</td>\n",
       "      <td>0</td>\n",
       "      <td>1</td>\n",
       "    </tr>\n",
       "  </tbody>\n",
       "</table>\n",
       "</div>"
      ],
      "text/plain": [
       "    mpg  cylinders  displacement  horsepower  weight  acceleration  year  \\\n",
       "0  18.0          8         307.0       130.0    3504          12.0    70   \n",
       "1  15.0          8         350.0       165.0    3693          11.5    70   \n",
       "2  18.0          8         318.0       150.0    3436          11.0    70   \n",
       "3  16.0          8         304.0       150.0    3433          12.0    70   \n",
       "4  17.0          8         302.0       140.0    3449          10.5    70   \n",
       "\n",
       "   origin                       name  mpg_high  const  \n",
       "0       1  chevrolet chevelle malibu         0      1  \n",
       "1       1          buick skylark 320         0      1  \n",
       "2       1         plymouth satellite         0      1  \n",
       "3       1              amc rebel sst         0      1  \n",
       "4       1                ford torino         0      1  "
      ]
     },
     "execution_count": 110,
     "metadata": {},
     "output_type": "execute_result"
    }
   ],
   "source": [
    "auto.head()"
   ]
  },
  {
   "cell_type": "markdown",
   "metadata": {},
   "source": [
    "(a) Use `sklearn.linear model.LogisticRegression` to fit a logistic model of `mpg_high` on features number of cylinders (`cyl`), engine displacement (`dspl`), horsepower (`hpwr`), vehicle weight (`wgt`), acceleration (`accl`), vehicle year (`yr`), vehicle origin (`orgn`). Make sure to include a constant term. Fit the model using $k$-fold cross validation with $k = 4$ folds.\n",
    "Report the MSE of the model as the average MSE across the $k = 4$ test sets, and report the error rates for each category of `mpg_high` as the average error rate for that category across the $k = 4$ test sets.\n"
   ]
  },
  {
   "cell_type": "code",
   "execution_count": 111,
   "metadata": {
    "collapsed": true
   },
   "outputs": [],
   "source": [
    "X = auto[['const', 'cylinders', 'displacement', 'horsepower', 'weight', 'acceleration', 'year', 'origin']].values\n",
    "y = auto['mpg_high'].values"
   ]
  },
  {
   "cell_type": "code",
   "execution_count": 112,
   "metadata": {},
   "outputs": [
    {
     "name": "stdout",
     "output_type": "stream",
     "text": [
      "k index= 0\n",
      "MSE for test set 0  is 0.09183673469387756\n",
      "MSE for mpg_high = True is 0.13043478260869565\n",
      "MSE for mpg_high = False is 0.057692307692307696\n",
      "k index= 1\n",
      "MSE for test set 1  is 0.10204081632653061\n",
      "MSE for mpg_high = True is 0.08163265306122448\n",
      "MSE for mpg_high = False is 0.12244897959183673\n",
      "k index= 2\n",
      "MSE for test set 2  is 0.1326530612244898\n",
      "MSE for mpg_high = True is 0.11538461538461539\n",
      "MSE for mpg_high = False is 0.15217391304347827\n",
      "k index= 3\n",
      "MSE for test set 3  is 0.10204081632653061\n",
      "MSE for mpg_high = True is 0.14545454545454545\n",
      "MSE for mpg_high = False is 0.046511627906976744\n",
      "test estimate MSE k-fold= 0.10714285714285715 test estimate MSE standard err= 0.015306122448979593\n",
      "error rate for mpg_high = True 0.11822664912727025 error rate for mpg_high = False 0.09470670705864986\n"
     ]
    }
   ],
   "source": [
    "k = 4\n",
    "kf_log = KFold(n_splits=k, shuffle=True, random_state=15)\n",
    "kf_log.get_n_splits(X)\n",
    "\n",
    "MSE_vec_kf = np.zeros(k)\n",
    "true_MSE_kf = np.zeros(k)\n",
    "false_MSE_kf = np.zeros(k)\n",
    "\n",
    "k_ind = int(0)\n",
    "for train_index, test_index in kf_log.split(X):\n",
    "    print('k index=', k_ind)\n",
    "    X_train, X_test = X[train_index], X[test_index]\n",
    "    y_train, y_test = y[train_index], y[test_index]\n",
    "    LogReg = LogisticRegression()\n",
    "    LogReg.fit(X_train, y_train)\n",
    "    y_pred = LogReg.predict(X_test)\n",
    "    MSE_vec_kf[k_ind] = ((y_test - y_pred) ** 2).mean()\n",
    "    \n",
    "    true_vals = []\n",
    "    true_preds = []\n",
    "    false_vals = []\n",
    "    false_preds = []\n",
    "    for i, p in enumerate(y_pred):\n",
    "        if p == 1:\n",
    "            true_preds.append(p)\n",
    "            true_vals.append(y_test[i])\n",
    "        else:\n",
    "            false_preds.append(p)\n",
    "            false_vals.append(y_test[i])\n",
    "    true_vals = np.asarray(true_vals)\n",
    "    true_preds = np.asarray(true_preds)\n",
    "    false_vals = np.asarray(false_vals)\n",
    "    false_preds = np.asarray(false_preds)\n",
    "    true_MSE_kf[k_ind] = ((true_vals - true_preds) ** 2).mean()\n",
    "    false_MSE_kf[k_ind] = ((false_vals - false_preds) ** 2).mean()\n",
    "     \n",
    "    print('MSE for test set', k_ind, ' is', MSE_vec_kf[k_ind])\n",
    "    print('MSE for mpg_high = True is', true_MSE_kf[k_ind])\n",
    "    print('MSE for mpg_high = False is', false_MSE_kf[k_ind])\n",
    "\n",
    "    k_ind += 1\n",
    "\n",
    "MSE_kf = MSE_vec_kf.mean()\n",
    "MSE_kf_std = MSE_vec_kf.std()\n",
    "print('test estimate MSE k-fold=', MSE_kf,\n",
    "      'test estimate MSE standard err=', MSE_kf_std)\n",
    "true_MSE = true_MSE_kf.mean()\n",
    "false_MSE = false_MSE_kf.mean()\n",
    "print('error rate for mpg_high = True', true_MSE,\n",
    "      'error rate for mpg_high = False', false_MSE)"
   ]
  },
  {
   "cell_type": "markdown",
   "metadata": {},
   "source": [
    "(b) Use `sklearn.ensemble.RandomForestClassifier` to fit a random forest model of `mpg_high` on `max_features=2` out of the seven possible features used in part (a). Set `n_estimators=20`, set `bootstrap=True`, set `oob_score=True`, and set `random_state=25`. Report the MSE of the random forest model as the MSE from the `.oob_prediction_` object, and report the error rates for each category of `mpg_high` from the `.oob_prediction_`object."
   ]
  },
  {
   "cell_type": "code",
   "execution_count": 113,
   "metadata": {},
   "outputs": [
    {
     "data": {
      "text/plain": [
       "RandomForestClassifier(bootstrap=True, class_weight=None, criterion='gini',\n",
       "            max_depth=None, max_features=2, max_leaf_nodes=None,\n",
       "            min_impurity_decrease=0.0, min_impurity_split=None,\n",
       "            min_samples_leaf=1, min_samples_split=2,\n",
       "            min_weight_fraction_leaf=0.0, n_estimators=20, n_jobs=1,\n",
       "            oob_score=True, random_state=25, verbose=0, warm_start=False)"
      ]
     },
     "execution_count": 113,
     "metadata": {},
     "output_type": "execute_result"
    }
   ],
   "source": [
    "auto_tree = RandomForestClassifier(n_estimators=20, max_features=2, bootstrap=True,\n",
    "                                  oob_score=True, random_state=25)\n",
    "auto_tree.fit(X, y)"
   ]
  },
  {
   "cell_type": "code",
   "execution_count": 114,
   "metadata": {},
   "outputs": [],
   "source": [
    "rnd = np.vectorize(lambda x: int(x >= .5))\n",
    "ypred = rnd(auto_tree.oob_decision_function_[:,1])"
   ]
  },
  {
   "cell_type": "code",
   "execution_count": 115,
   "metadata": {},
   "outputs": [
    {
     "name": "stdout",
     "output_type": "stream",
     "text": [
      "MSE= 0.07908163265306123\n"
     ]
    }
   ],
   "source": [
    "MSE = mean_squared_error(y, ypred)\n",
    "print('MSE=', MSE)"
   ]
  },
  {
   "cell_type": "code",
   "execution_count": 116,
   "metadata": {},
   "outputs": [
    {
     "name": "stdout",
     "output_type": "stream",
     "text": [
      "MSE for mpg_high = True: 0.07142857142857142\n",
      "MSE for mpg_high = False: 0.08673469387755102\n"
     ]
    }
   ],
   "source": [
    "autotreedf = pd.DataFrame({'y':y,'ypred':ypred})\n",
    "autotreedf['MSE'] = autotreedf.apply(lambda x: (x['y']-x['ypred'])**2, axis=1)\n",
    "print('MSE for mpg_high = True:', autotreedf.groupby(y)['MSE'].mean()[1])\n",
    "print('MSE for mpg_high = False:', autotreedf.groupby(y)['MSE'].mean()[0])"
   ]
  },
  {
   "cell_type": "markdown",
   "metadata": {},
   "source": [
    "(c) Use `sklearn.svm.SVC` to fit a support vector machines model of `mpg_high` with a Gaussian radial basis function kernel `kernel=’rbf’` on the seven features used in part (a). Set the penalty parameter to `C=1` and set `gamma=0.2`. Fit the model using $k$-fold cross validation with $k = 4$ folds exactly as in part (a). Report the MSE of the model as the average MSE across the $k = 4$ test sets, and report the error rates for each category of `mpg_high` as the average error rate for that category across the $k = 4$ test sets.\n"
   ]
  },
  {
   "cell_type": "code",
   "execution_count": 129,
   "metadata": {},
   "outputs": [
    {
     "name": "stdout",
     "output_type": "stream",
     "text": [
      "k index= 0\n",
      "MSE for test set 0  is 0.5408163265306123\n",
      "MSE for mpg_high = True is 0.5520833333333334\n",
      "MSE for mpg_high = False is 0.0\n",
      "k index= 1\n",
      "MSE for test set 1  is 0.5204081632653061\n",
      "MSE for mpg_high = True is 0.0\n",
      "MSE for mpg_high = False is 0.5204081632653061\n",
      "k index= 2\n",
      "MSE for test set 2  is 0.5204081632653061\n",
      "MSE for mpg_high = True is 0.0\n",
      "MSE for mpg_high = False is 0.53125\n",
      "k index= 3\n",
      "MSE for test set 3  is 0.4489795918367347\n",
      "MSE for mpg_high = True is 0.0\n",
      "MSE for mpg_high = False is 0.4731182795698925\n",
      "test estimate MSE k-fold= 0.5076530612244898 test estimate MSE standard err= 0.03488467941626875\n",
      "error rate for mpg_high = True 0.13802083333333334 error rate for mpg_high = False 0.38119411070879966\n"
     ]
    }
   ],
   "source": [
    "k = 4\n",
    "kf_svm = KFold(n_splits=k, shuffle=True, random_state=15)\n",
    "kf_svm.get_n_splits(X)\n",
    "\n",
    "MSE_vec_kf = np.zeros(k)\n",
    "true_MSE_kf = np.zeros(k)\n",
    "false_MSE_kf = np.zeros(k)\n",
    "\n",
    "k_ind = int(0)\n",
    "for train_index, test_index in kf_log.split(X):\n",
    "    print('k index=', k_ind)\n",
    "    X_train, X_test = X[train_index], X[test_index]\n",
    "    y_train, y_test = y[train_index], y[test_index]\n",
    "    \n",
    "    clf = svm.SVC(kernel='rbf', C=1, gamma=.2)\n",
    "    clf.fit(X_train, y_train)\n",
    "    y_pred = clf.predict(X_test)\n",
    "    MSE_vec_kf[k_ind] = ((y_test - y_pred) ** 2).mean()\n",
    "    \n",
    "    true_vals = []\n",
    "    true_preds = []\n",
    "    false_vals = []\n",
    "    false_preds = []\n",
    "    for i, p in enumerate(y_pred):\n",
    "        if p == 1:\n",
    "            true_preds.append(p)\n",
    "            true_vals.append(y_test[i])\n",
    "        else:\n",
    "            false_preds.append(p)\n",
    "            false_vals.append(y_test[i])\n",
    "    \n",
    "    if true_vals and true_preds:\n",
    "        true_vals = np.asarray(true_vals)\n",
    "        true_preds = np.asarray(true_preds)\n",
    "        \n",
    "        true_MSE_kf[k_ind] = ((true_vals - true_preds) ** 2).mean()\n",
    "    else:\n",
    "        true_MSE_kf[k_ind] = 0.0\n",
    "    \n",
    "    if false_vals and false_preds:\n",
    "        false_preds = np.asarray(false_preds)\n",
    "        false_vals = np.asarray(false_vals)\n",
    "        \n",
    "        false_MSE_kf[k_ind] = ((false_vals - false_preds) ** 2).mean()\n",
    "    else:\n",
    "        false_MSE_kf[k_ind] = 0.0\n",
    "            \n",
    "     \n",
    "    print('MSE for test set', k_ind, ' is', MSE_vec_kf[k_ind])\n",
    "    print('MSE for mpg_high = True is', true_MSE_kf[k_ind])\n",
    "    print('MSE for mpg_high = False is', false_MSE_kf[k_ind])\n",
    "\n",
    "    k_ind += 1\n",
    "\n",
    "MSE_kf = MSE_vec_kf.mean()\n",
    "MSE_kf_std = MSE_vec_kf.std()\n",
    "print('test estimate MSE k-fold=', MSE_kf,\n",
    "      'test estimate MSE standard err=', MSE_kf_std)\n",
    "true_MSE = true_MSE_kf.mean()\n",
    "false_MSE = false_MSE_kf.mean()\n",
    "print('error rate for mpg_high = True', true_MSE,\n",
    "      'error rate for mpg_high = False', false_MSE)"
   ]
  },
  {
   "cell_type": "markdown",
   "metadata": {},
   "source": [
    "(d) Which of the above three models do you think is the best predictor of `mpg_high`? Why?"
   ]
  },
  {
   "cell_type": "markdown",
   "metadata": {},
   "source": [
    "Comparing each model's aggregate MSE, the `RandomForestClassifier` is the most accurate model. This model has the lowest aggregate MSE, as well as the lowest MSE values for each level of `mpg_high`. The `LogisticRegression` model has comparable MSE values, while the `svm.SVC` model is far less accurate, with aggregate MSE values exceeding .5 (indicating floor performance on a binary classificiation task.)"
   ]
  },
  {
   "cell_type": "code",
   "execution_count": null,
   "metadata": {
    "collapsed": true
   },
   "outputs": [],
   "source": []
  }
 ],
 "metadata": {
  "kernelspec": {
   "display_name": "Python 3",
   "language": "python",
   "name": "python3"
  },
  "language_info": {
   "codemirror_mode": {
    "name": "ipython",
    "version": 3
   },
   "file_extension": ".py",
   "mimetype": "text/x-python",
   "name": "python",
   "nbconvert_exporter": "python",
   "pygments_lexer": "ipython3",
   "version": "3.6.1"
  }
 },
 "nbformat": 4,
 "nbformat_minor": 2
}
