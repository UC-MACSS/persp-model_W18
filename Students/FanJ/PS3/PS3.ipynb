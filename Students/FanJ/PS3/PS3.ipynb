{
 "cells": [
  {
   "cell_type": "code",
   "execution_count": null,
   "metadata": {},
   "outputs": [],
   "source": []
  },
  {
   "cell_type": "code",
   "execution_count": 2,
   "metadata": {},
   "outputs": [],
   "source": [
    "# Import packages and load the data\n",
    "import numpy as np\n",
    "import numpy.linalg as lin\n",
    "import scipy.stats as sts\n",
    "import scipy.integrate as intgr\n",
    "import scipy.optimize as opt\n",
    "import matplotlib\n",
    "import matplotlib.pyplot as plt\n",
    "from mpl_toolkits.mplot3d import Axes3D\n",
    "from matplotlib import cm\n",
    "import numpy.linalg as lin\n",
    "cmap1 = matplotlib.cm.get_cmap('summer')\n",
    "# This next command is specifically for Jupyter Notebook\n",
    "%matplotlib notebook\n",
    "\n",
    "incomes= np.loadtxt('incomes.txt', delimiter=',', unpack=True)\n"
   ]
  },
  {
   "cell_type": "markdown",
   "metadata": {},
   "source": [
    "## 1a)"
   ]
  },
  {
   "cell_type": "code",
   "execution_count": 7,
   "metadata": {},
   "outputs": [
    {
     "data": {
      "text/plain": [
       "(0, 150000)"
      ]
     },
     "execution_count": 7,
     "metadata": {},
     "output_type": "execute_result"
    },
    {
     "data": {
      "image/png": "[encoded data removed]",
      "text/plain": [
       "<matplotlib.figure.Figure at 0x10ad1f9e8>"
      ]
     },
     "metadata": {},
     "output_type": "display_data"
    }
   ],
   "source": [
    "fig,ax = plt.subplots()\n",
    "ax.hist(incomes, 30, normed=True)\n",
    "ax.set_title('Income of MACSS students', fontsize=20)\n",
    "ax.set_xlabel(r'Income (\\$)')\n",
    "ax.set_ylabel('Percent of observations')\n",
    "ax.set_xlim([0,150000])"
   ]
  },
  {
   "cell_type": "code",
   "execution_count": null,
   "metadata": {},
   "outputs": [],
   "source": []
  },
  {
   "cell_type": "markdown",
   "metadata": {},
   "source": [
    "## 1b)"
   ]
  },
  {
   "cell_type": "code",
   "execution_count": 31,
   "metadata": {},
   "outputs": [],
   "source": [
    "def lognorm_pdf(sigma, mu, xvec):\n",
    "#     xvec = np.linspace(lb,ub,grain)\n",
    "\n",
    "    pdf_vals    = (1/(xvec*sigma * np.sqrt(2 * np.pi)) *\n",
    "                    np.exp( - (np.log(xvec) - mu)**2 / (2 * sigma**2)))\n",
    "\n",
    "    return pdf_vals\n",
    "\n",
    "# grain = 1000\n",
    "\n",
    "# dist_pts = np.linspace(0.01, 150000,grain)\n",
    "# mu_1 = 11.0\n",
    "# sig_1 = 0.5\n",
    "# pdf_vals = trunc_lognorm_pdf(0.5,11.0,dist_pts) #, plot=False\n",
    "\n",
    "# fig,ax = plt.subplots()\n",
    "# ax.hist(incomes, 30, normed=True)\n",
    "# ax.set_title('Income of MACSS students', fontsize=20)\n",
    "# ax.set_xlabel(r'Income (\\$)')\n",
    "# ax.set_ylabel('Percent of observations')\n",
    "# ax.set_xlim([0,150000])\n",
    "# ax.plot(dist_pts, pdf_vals,linewidth=2, color='g', label='2: $\\mu$=11,$\\sigma$=0.5')\n",
    "# ax.grid(b=True, which='major', color='0.65', linestyle='-')\n",
    "# # plt.title(f'Plot of Log Normal PDF with sigma={sig_1} and mean={mu_1}')\n",
    "# # plt.ylabel(r' (\\$000s)')\n",
    "# ax.legend(loc='upper left')"
   ]
  },
  {
   "cell_type": "code",
   "execution_count": 34,
   "metadata": {},
   "outputs": [],
   "source": [
    "def data_moments(xvals):\n",
    "    mean_data = xvals.mean()\n",
    "    var_data = xvals.var()\n",
    "    return mean_data, var_data\n",
    "\n",
    "def model_moments(mu, sigma):\n",
    "    var = sigma **2\n",
    "    mean_model = np.exp(mu + (var/2))\n",
    "    sigma_model = np.sqrt((np.exp(var)-1)*(np.exp(2*mu + var)))\n",
    "    return mean_model, sigma_model\n",
    "\n",
    "\n",
    "def err_vec(xvals, mu, sigma):\n",
    "#     mean_data, var_data = data_moments(xvals)\n",
    "#     moms_data = np.array([[mean_data], [var_data]])\n",
    "#     mean_model, var_model = model_moments(mu, sigma)\n",
    "#     moms_model = np.array([[mean_model], [var_model]])\n",
    "#     err_vec = (moms_model - moms_data) / moms_data\n",
    "    dm = np.array(data_moments(xvals)).reshape((2,1))\n",
    "    mm = np.array(model_moments(mu, sigma)).reshape((2,1))\n",
    "    return ((dm - mm)/dm)\n",
    "#     return err_vec\n",
    "\n",
    "\n",
    "def criterion(params, *args):\n",
    "    mu, sigma = params\n",
    "    xvals, W = args\n",
    "    err = err_vec(xvals, mu, sigma)\n",
    "    crit_val = np.dot(np.dot(err.T, W), err)\n",
    "    \n",
    "    return crit_val"
   ]
  },
  {
   "cell_type": "code",
   "execution_count": 35,
   "metadata": {},
   "outputs": [
    {
     "name": "stdout",
     "output_type": "stream",
     "text": [
      "mu_GMM1= 3.11189095856  sig_GMM1= 4.05999191206\n"
     ]
    }
   ],
   "source": [
    "# metrics from data\n",
    "mu_init = np.log(incomes).mean()\n",
    "sigma_init = np.sqrt(np.log(incomes).var())\n",
    "\n",
    "mu_init = 10\n",
    "sig_init = 0.01\n",
    "params_init = np.array([mu_init, sig_init])\n",
    "W_hat = np.eye(2)\n",
    "gmm_args = (incomes,  W_hat)\n",
    "results_1 = opt.minimize(criterion, params_init, args=(gmm_args),\n",
    "                       method='L-BFGS-B', bounds=((1e-10, None), (1e-10, None)))\n",
    "mu_GMM1, sig_GMM1 = results_1.x\n",
    "print('mu_GMM1=', mu_GMM1, ' sig_GMM1=', sig_GMM1)"
   ]
  },
  {
   "cell_type": "code",
   "execution_count": null,
   "metadata": {},
   "outputs": [],
   "source": []
  }
 ],
 "metadata": {
  "kernelspec": {
   "display_name": "Python 3",
   "language": "python",
   "name": "python3"
  },
  "language_info": {
   "codemirror_mode": {
    "name": "ipython",
    "version": 3
   },
   "file_extension": ".py",
   "mimetype": "text/x-python",
   "name": "python",
   "nbconvert_exporter": "python",
   "pygments_lexer": "ipython3",
   "version": "3.6.3"
  }
 },
 "nbformat": 4,
 "nbformat_minor": 2
}
