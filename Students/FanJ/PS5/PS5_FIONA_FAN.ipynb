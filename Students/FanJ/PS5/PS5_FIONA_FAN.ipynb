{
 "cells": [
  {
   "cell_type": "markdown",
   "metadata": {},
   "source": [
    "# PS5\n",
    "```\n",
    "Fiona Fan\n",
    "```\n",
    "## 1a). "
   ]
  },
  {
   "cell_type": "code",
   "execution_count": 1,
   "metadata": {},
   "outputs": [
    {
     "name": "stderr",
     "output_type": "stream",
     "text": [
      "/Library/Frameworks/Python.framework/Versions/3.6/lib/python3.6/site-packages/sklearn/cross_validation.py:41: DeprecationWarning: This module was deprecated in version 0.18 in favor of the model_selection module into which all the refactored classes and functions are moved. Also note that the interface of the new CV iterators are different from that of this module. This module will be removed in 0.20.\n",
      "  \"This module will be removed in 0.20.\", DeprecationWarning)\n",
      "/Library/Frameworks/Python.framework/Versions/3.6/lib/python3.6/site-packages/statsmodels/compat/pandas.py:56: FutureWarning: The pandas.core.datetools module is deprecated and will be removed in a future version. Please use the pandas.tseries module instead.\n",
      "  from pandas.core import datetools\n"
     ]
    }
   ],
   "source": [
    "import numpy as np\n",
    "import pandas as pd\n",
    "from pandas import Series, DataFrame\n",
    "\n",
    "import sklearn\n",
    "from sklearn import preprocessing\n",
    "from sklearn.linear_model import LogisticRegression\n",
    "from sklearn.cross_validation import train_test_split\n",
    "from sklearn import metrics \n",
    "from sklearn.metrics import classification_report, confusion_matrix, mean_squared_error\n",
    "from pylab import rcParams\n",
    "from sklearn.model_selection import LeaveOneOut, KFold\n",
    "import statsmodels.api as sm\n",
    "from scipy.interpolate import LSQUnivariateSpline\n",
    "import matplotlib.pyplot as plt\n",
    "import seaborn as sb\n",
    "%matplotlib inline\n"
   ]
  },
  {
   "cell_type": "code",
   "execution_count": 23,
   "metadata": {},
   "outputs": [
    {
     "data": {
      "text/plain": [
       "2    71\n",
       "1    59\n",
       "3    46\n",
       "Name: cultivar, dtype: int64"
      ]
     },
     "execution_count": 23,
     "metadata": {},
     "output_type": "execute_result"
    }
   ],
   "source": [
    "df = pd.read_csv('data/strongdrink.txt')\n",
    "# df['const']=1\n",
    "X = df[['alco', 'malic', 'tot_phen', 'color_int']]\n",
    "y = df[['cultivar']]\n",
    "y.cultivar.value_counts()"
   ]
  },
  {
   "cell_type": "code",
   "execution_count": 24,
   "metadata": {},
   "outputs": [
    {
     "name": "stdout",
     "output_type": "stream",
     "text": [
      "             precision    recall  f1-score   support\n",
      "\n",
      "          1       0.87      1.00      0.93        13\n",
      "          2       1.00      0.90      0.95        21\n",
      "          3       1.00      1.00      1.00        10\n",
      "\n",
      "avg / total       0.96      0.95      0.96        44\n",
      "\n",
      "The error rate for j=1 is 0.13 and the error rate for j=2 is 1.\n",
      "Validation set MSE = 0.045454545454545456\n"
     ]
    },
    {
     "name": "stderr",
     "output_type": "stream",
     "text": [
      "/Library/Frameworks/Python.framework/Versions/3.6/lib/python3.6/site-packages/sklearn/utils/validation.py:578: DataConversionWarning: A column-vector y was passed when a 1d array was expected. Please change the shape of y to (n_samples, ), for example using ravel().\n",
      "  y = column_or_1d(y, warn=True)\n"
     ]
    }
   ],
   "source": [
    "\n",
    "X_train, X_test, y_train, y_test = \\\n",
    "    train_test_split(X, y, test_size = 0.25,\n",
    "       random_state=20)\n",
    "MultLogReg = LogisticRegression(multi_class='multinomial', solver='newton-cg')\n",
    "MultLogReg.fit(X_train, y_train)\n",
    "y_pred_1 = MultLogReg.predict(X_test)\n",
    "\n",
    "print(classification_report(y_test, y_pred_1))\n",
    "# print(classification_report(y_test, y_pred))\n",
    "print (f'The error rate for j=1 is {1-0.87} and the error rate for j=2 is 1.')\n",
    "print(f'Validation set MSE = {mean_squared_error(y_test, y_pred_1)}')"
   ]
  },
  {
   "cell_type": "code",
   "execution_count": 46,
   "metadata": {},
   "outputs": [
    {
     "name": "stdout",
     "output_type": "stream",
     "text": [
      "The betas for j=1 are\n",
      "beta0=-24.011261619895386\n",
      "beta1=1.7004258713999434\n",
      "beta2=-0.2656078076835968\n",
      "beta3=1.2238948659931201\n",
      "beta4=0.02275133889272314\n",
      "\n",
      "The betas for j=2 are\n",
      "beta0=22.802087239655783\n",
      "beta1=-1.4680163708712808\n",
      "beta2=-0.33305185036975116\n",
      "beta3=0.6640075077761813\n",
      "beta4=-0.9227104250819742\n"
     ]
    },
    {
     "data": {
      "text/plain": [
       "[None, None, None, None]"
      ]
     },
     "execution_count": 46,
     "metadata": {},
     "output_type": "execute_result"
    }
   ],
   "source": [
    "print(f'The betas for j=1 are')\n",
    "print(f'beta0={MultLogReg.intercept_[0]}')\n",
    "[print(f'beta{i+1}={coef}') for i, coef in enumerate((MultLogReg.coef_[0]))]\n",
    "print('')\n",
    "print(f'The betas for j=2 are')\n",
    "print(f'beta0={MultLogReg.intercept_[1]}')\n",
    "[print(f'beta{i+1}={coef}') for i, coef in enumerate((MultLogReg.coef_[1]))]\n"
   ]
  },
  {
   "cell_type": "markdown",
   "metadata": {},
   "source": [
    "Both cases of j=2 and j=3 have perfect precision of 1, while j=3 has better recall score. j=2 has 71 (most) observations while j=3 has 46 (fewest) observations. The most accurately predicted category is not the one with the most observations."
   ]
  },
  {
   "cell_type": "markdown",
   "metadata": {},
   "source": [
    "# 1 b)."
   ]
  },
  {
   "cell_type": "code",
   "execution_count": 47,
   "metadata": {},
   "outputs": [
    {
     "name": "stderr",
     "output_type": "stream",
     "text": [
      "/Library/Frameworks/Python.framework/Versions/3.6/lib/python3.6/site-packages/sklearn/utils/validation.py:578: DataConversionWarning: A column-vector y was passed when a 1d array was expected. Please change the shape of y to (n_samples, ), for example using ravel().\n",
      "  y = column_or_1d(y, warn=True)\n"
     ]
    }
   ],
   "source": [
    "Xvals = X.values\n",
    "yvals = y.values\n",
    "loo = LeaveOneOut()\n",
    "loo.get_n_splits(Xvals)\n",
    "N_loo = Xvals.shape[0]\n",
    "MSE = pd.DataFrame({'index': np.zeros(N_loo), \n",
    "                    'error': np.zeros(N_loo), \n",
    "                    'y_pred': np.zeros(N_loo),\n",
    "                    'y_test': np.zeros(N_loo)})\n",
    "for train_index, test_index in loo.split(Xvals):\n",
    "    X_train, X_test = Xvals[train_index], Xvals[test_index]\n",
    "    y_train, y_test = yvals[train_index], yvals[test_index]\n",
    "    LogReg = LogisticRegression(multi_class='multinomial',\n",
    "                                solver='newton-cg')\n",
    "    LogReg.fit(X_train, y_train)\n",
    "    y_pred = LogReg.predict(X_test)\n",
    "    MSE['index'][test_index] = test_index\n",
    "    MSE['error'][test_index] = (((y_test - y_pred) ** 2) != 0).astype(int)\n",
    "    MSE['y_pred'][test_index] = y_pred\n",
    "    MSE['y_test'][test_index] = y_test"
   ]
  },
  {
   "cell_type": "code",
   "execution_count": 48,
   "metadata": {},
   "outputs": [
    {
     "name": "stdout",
     "output_type": "stream",
     "text": [
      "             precision    recall  f1-score   support\n",
      "\n",
      "        1.0      0.902     0.932     0.917        59\n",
      "        2.0      0.914     0.901     0.908        71\n",
      "        3.0      0.956     0.935     0.945        46\n",
      "\n",
      "avg / total      0.921     0.920     0.921       176\n",
      "\n",
      "The error rate for class 1 is 0.09836065573770492 , std is 0.3002730997379377\n",
      "The error rate for class 2 is 0.08571428571428572 , std is 0.28196295074009653\n",
      "The error rate for class 3 is 0.044444444444444446 , std is 0.2084090771399927\n",
      "The average MSE (for all classes) is 0.07954545454545454 , std is 0.27136021011998723\n"
     ]
    }
   ],
   "source": [
    "error_1 = MSE[MSE['y_pred'] == 1]['error'].mean()\n",
    "error_2 = MSE[MSE['y_pred'] == 2]['error'].mean()\n",
    "error_3 = MSE[MSE['y_pred'] == 3]['error'].mean()\n",
    "General_MSE = MSE['error'].mean()\n",
    "print(classification_report(MSE['y_test'], MSE['y_pred'], digits=3))\n",
    "print('The error rate for class 1 is', error_1, ', std is', MSE[MSE['y_pred'] == 1]['error'].std())\n",
    "print('The error rate for class 2 is', error_2, ', std is', MSE[MSE['y_pred'] == 2]['error'].std())\n",
    "print('The error rate for class 3 is', error_3, ', std is', MSE[MSE['y_pred'] == 3]['error'].std())\n",
    "print('The average MSE (for all classes) is', General_MSE,\n",
    "      ', std is', MSE['error'].std())"
   ]
  },
  {
   "cell_type": "markdown",
   "metadata": {},
   "source": [
    "Compared with part (a), the error rate of j=1 becomes sligher smaller, but for j=2 and j=3, the error rates are bigger. The average MSE is also bigger. \n",
    "\n",
    "## 1c)."
   ]
  },
  {
   "cell_type": "code",
   "execution_count": 7,
   "metadata": {},
   "outputs": [
    {
     "data": {
      "text/plain": [
       "4"
      ]
     },
     "execution_count": 7,
     "metadata": {},
     "output_type": "execute_result"
    }
   ],
   "source": [
    "k = 4\n",
    "kf = KFold(n_splits=k, shuffle=True, random_state=10)\n",
    "kf.get_n_splits(Xvals)"
   ]
  },
  {
   "cell_type": "code",
   "execution_count": 56,
   "metadata": {},
   "outputs": [
    {
     "name": "stdout",
     "output_type": "stream",
     "text": [
      "k index= 0\n",
      "MSE for test set 0  is 0.1590909090909091\n",
      "k index= 1\n",
      "MSE for test set 1  is 0.11363636363636363\n",
      "k index= 2\n",
      "MSE for test set 2  is 0.045454545454545456\n",
      "k index= 3\n",
      "MSE for test set 3  is 0.045454545454545456\n",
      "test estimate MSE k-fold= 0.09090909090909091 test estimate MSE standard err= 0.04821182598999188\n"
     ]
    },
    {
     "name": "stderr",
     "output_type": "stream",
     "text": [
      "/Library/Frameworks/Python.framework/Versions/3.6/lib/python3.6/site-packages/sklearn/utils/validation.py:578: DataConversionWarning: A column-vector y was passed when a 1d array was expected. Please change the shape of y to (n_samples, ), for example using ravel().\n",
      "  y = column_or_1d(y, warn=True)\n"
     ]
    }
   ],
   "source": [
    "MSE_vec_kf = np.zeros(k)\n",
    "ytests = np.array([])\n",
    "ypreds = np.array([])\n",
    "k_ind = int(0)\n",
    "for train_index, test_index in kf.split(Xvals):\n",
    "    # print(\"TRAIN:\", train_index, \"TEST:\", test_index)\n",
    "    print('k index=', k_ind)\n",
    "    X_train, X_test = Xvals[train_index], Xvals[test_index]\n",
    "    y_train, y_test = yvals[train_index], yvals[test_index]\n",
    "    ytests = np.append(ytests, y_test)\n",
    "    LogReg = LogisticRegression(multi_class='multinomial',solver='newton-cg')\n",
    "    LogReg.fit(X_train, y_train)\n",
    "    y_pred = LogReg.predict(X_test)\n",
    "    ypreds = np.append(ypreds, y_pred)\n",
    "    mse_sum=0\n",
    "    for i in range(len(y_test)):\n",
    "        if y_test[i]==y_pred[i]:\n",
    "            indicator =1\n",
    "        else:\n",
    "            indicator =0\n",
    "        mse_sum+=1-indicator\n",
    "    MSE_vec_kf[k_ind]=mse_sum/len(y_test)\n",
    "    print('MSE for test set', k_ind, ' is', MSE_vec_kf[k_ind])\n",
    "    k_ind += 1\n",
    "\n",
    "MSE_kf = MSE_vec_kf.mean()\n",
    "MSE_kf_std = MSE_vec_kf.std()\n",
    "print('test estimate MSE k-fold=', MSE_kf,\n",
    "      'test estimate MSE standard err=', MSE_kf_std)\n"
   ]
  },
  {
   "cell_type": "code",
   "execution_count": 53,
   "metadata": {},
   "outputs": [
    {
     "name": "stdout",
     "output_type": "stream",
     "text": [
      "             precision    recall  f1-score   support\n",
      "\n",
      "        1.0       0.78      0.73      0.75        59\n",
      "        2.0       0.79      0.85      0.82        71\n",
      "        3.0       0.96      0.93      0.95        46\n",
      "\n",
      "avg / total       0.83      0.83      0.83       176\n",
      "\n",
      "the error rates for j=1,2,3 are 0.18999999999999995,0.18999999999999995,0.040000000000000036 respectively.\n"
     ]
    }
   ],
   "source": [
    "print(classification_report(ytests, ypreds))\n",
    "print (f'the error rates for j=1,2,3 are {1-0.81},{1-0.81},{1-0.96} respectively.')"
   ]
  },
  {
   "cell_type": "markdown",
   "metadata": {},
   "source": [
    "K-folds performs strictly worse than in multinomial logistic regression and mostly worse than LOOCV. The MSE is a little higher than before.\n",
    "\n",
    "## 2a)."
   ]
  },
  {
   "cell_type": "code",
   "execution_count": 10,
   "metadata": {},
   "outputs": [],
   "source": [
    "cool = pd.read_csv('data/CoolIndex.txt', header = None)\n",
    "cool.columns = ['age', 'Coolness']"
   ]
  },
  {
   "cell_type": "code",
   "execution_count": 11,
   "metadata": {},
   "outputs": [
    {
     "data": {
      "image/png": "[encoded data removed]",
      "text/plain": [
       "<matplotlib.figure.Figure at 0x10715ff28>"
      ]
     },
     "metadata": {},
     "output_type": "display_data"
    }
   ],
   "source": [
    "age = cool['age']\n",
    "coolness = cool['Coolness']\n",
    "age_vec = np.linspace(age.values.min(), age.values.max(), 1000)\n",
    "\n",
    "plt.scatter(age, coolness)\n",
    "plt.xlabel('age')\n",
    "plt.ylabel('coolness index')\n",
    "plt.title('coolness vs age')\n",
    "plt.show()"
   ]
  },
  {
   "cell_type": "markdown",
   "metadata": {},
   "source": [
    "## 2B)"
   ]
  },
  {
   "cell_type": "code",
   "execution_count": 12,
   "metadata": {},
   "outputs": [],
   "source": [
    "age_11_22 = ((age >= 11) & (age < 22)).astype(int)\n",
    "age_22_40 = ((age >= 22) & (age < 40)).astype(int)\n",
    "age_40_59 = ((age >= 40) & (age < 59)).astype(int)\n",
    "age_59_77 = ((age >= 59) & (age < 77)).astype(int)\n",
    "age_77_95 = ((age >= 77) & (age <= 95)).astype(int)\n",
    "X_step = pd.DataFrame(dict(age_11_22=age_11_22, age_22_40=age_22_40,\n",
    "                           age_40_59=age_40_59, age_59_77=age_59_77,\n",
    "                           age_77_95=age_77_95))\n"
   ]
  },
  {
   "cell_type": "code",
   "execution_count": 13,
   "metadata": {},
   "outputs": [
    {
     "name": "stdout",
     "output_type": "stream",
     "text": [
      "                            OLS Regression Results                            \n",
      "==============================================================================\n",
      "Dep. Variable:               Coolness   R-squared:                       0.429\n",
      "Model:                            OLS   Adj. R-squared:                  0.427\n",
      "Method:                 Least Squares   F-statistic:                     178.7\n",
      "Date:                Sun, 18 Feb 2018   Prob (F-statistic):          3.73e-114\n",
      "Time:                        20:17:56   Log-Likelihood:                -3214.5\n",
      "No. Observations:                 956   AIC:                             6439.\n",
      "Df Residuals:                     951   BIC:                             6463.\n",
      "Df Model:                           4                                         \n",
      "Covariance Type:            nonrobust                                         \n",
      "==============================================================================\n",
      "                 coef    std err          t      P>|t|      [0.025      0.975]\n",
      "------------------------------------------------------------------------------\n",
      "age_11_22     20.1025      0.562     35.746      0.000      18.999      21.206\n",
      "age_22_40     34.4758      0.431     80.006      0.000      33.630      35.321\n",
      "age_40_59     37.6351      0.424     88.814      0.000      36.804      38.467\n",
      "age_59_77     35.2254      0.485     72.560      0.000      34.273      36.178\n",
      "age_77_95     27.2964      0.936     29.175      0.000      25.460      29.132\n",
      "==============================================================================\n",
      "Omnibus:                       80.102   Durbin-Watson:                   1.236\n",
      "Prob(Omnibus):                  0.000   Jarque-Bera (JB):              101.718\n",
      "Skew:                           0.714   Prob(JB):                     8.17e-23\n",
      "Kurtosis:                       3.719   Cond. No.                         2.21\n",
      "==============================================================================\n",
      "\n",
      "Warnings:\n",
      "[1] Standard Errors assume that the covariance matrix of the errors is correctly specified.\n"
     ]
    }
   ],
   "source": [
    "reg = sm.OLS(endog=coolness, exog=X_step, missing='drop')\n",
    "reg_results = reg.fit()\n",
    "y_pred_1 = reg_results.predict(X_step)\n",
    "print(reg_results.summary())"
   ]
  },
  {
   "cell_type": "code",
   "execution_count": 14,
   "metadata": {},
   "outputs": [
    {
     "data": {
      "image/png": "[encoded data removed]",
      "text/plain": [
       "<matplotlib.figure.Figure at 0x10e26f3c8>"
      ]
     },
     "metadata": {},
     "output_type": "display_data"
    }
   ],
   "source": [
    "plt.scatter(age, coolness, label='scatter')\n",
    "plt.plot(cool.age, y_pred_1, color = 'r',label='step')\n",
    "plt.legend(loc='upper left')\n",
    "\n",
    "plt.xlabel('age')\n",
    "plt.ylabel('coolness index')\n",
    "plt.title('coolness vs age')\n",
    "plt.show()"
   ]
  },
  {
   "cell_type": "code",
   "execution_count": 15,
   "metadata": {},
   "outputs": [
    {
     "name": "stdout",
     "output_type": "stream",
     "text": [
      "b1 = 20.102457252090748 , b2 = 34.475788077559386 , b3 = 37.63510549244961 , b4 = 35.225400040242754 , b5 = 27.296378244321282\n",
      "Predicted Coolness of 73-year old is 35.225400040242754\n"
     ]
    }
   ],
   "source": [
    "b1, b2, b3, b4, b5 = reg_results.params\n",
    "print('b1 =', b1, ', b2 =', b2,\n",
    "      ', b3 =', b3, ', b4 =', b4,\n",
    "      ', b5 =', b5)\n",
    "print('Predicted Coolness of 73-year old is', reg_results.params[3])"
   ]
  },
  {
   "cell_type": "markdown",
   "metadata": {},
   "source": [
    "## 2C)"
   ]
  },
  {
   "cell_type": "code",
   "execution_count": 16,
   "metadata": {},
   "outputs": [],
   "source": [
    "t = [22, 40, 59, 77]\n",
    "spl_linear = LSQUnivariateSpline(age.values, coolness.values, t, k=1)\n",
    "y_pred_2 = spl_linear(age)"
   ]
  },
  {
   "cell_type": "code",
   "execution_count": 17,
   "metadata": {},
   "outputs": [
    {
     "data": {
      "image/png": "[encoded data removed]",
      "text/plain": [
       "<matplotlib.figure.Figure at 0x10e25d908>"
      ]
     },
     "metadata": {},
     "output_type": "display_data"
    }
   ],
   "source": [
    "\n",
    "plt.scatter(age, coolness, label='scatter')\n",
    "plt.plot(cool.age, y_pred_2, color = 'g', label='linear')\n",
    "plt.plot(cool.age, y_pred_1, color = 'r',label='step')\n",
    "plt.legend(loc='upper left')\n",
    "\n",
    "plt.xlabel('age')\n",
    "plt.ylabel('coolness index')\n",
    "plt.title('coolness vs age')\n",
    "plt.show()"
   ]
  },
  {
   "cell_type": "code",
   "execution_count": 18,
   "metadata": {},
   "outputs": [
    {
     "name": "stdout",
     "output_type": "stream",
     "text": [
      "Predicted Coolness of 73-year old is 32.536832389143306\n"
     ]
    }
   ],
   "source": [
    "predicted_age2 = spl_linear(73)\n",
    "print('Predicted Coolness of 73-year old is', predicted_age2)"
   ]
  },
  {
   "cell_type": "markdown",
   "metadata": {},
   "source": [
    "## 2D)"
   ]
  },
  {
   "cell_type": "code",
   "execution_count": 19,
   "metadata": {},
   "outputs": [],
   "source": [
    "\n",
    "spl_cubic = LSQUnivariateSpline(age.values, coolness.values, t, k=3)\n",
    "y_pred_3 = spl_cubic(cool.age)"
   ]
  },
  {
   "cell_type": "code",
   "execution_count": 20,
   "metadata": {},
   "outputs": [
    {
     "data": {
      "image/png": "[encoded data removed]",
      "text/plain": [
       "<matplotlib.figure.Figure at 0x10e313c88>"
      ]
     },
     "metadata": {},
     "output_type": "display_data"
    }
   ],
   "source": [
    "plt.scatter(age, coolness, label='scatter')\n",
    "plt.plot(cool.age, y_pred_2, color = 'g', label='linear')\n",
    "plt.plot(cool.age, y_pred_1, color = 'r',label='step')\n",
    "plt.plot(cool.age, y_pred_3, color = 'black',label='cubic')\n",
    "plt.legend(loc='upper left')\n",
    "\n",
    "plt.xlabel('age')\n",
    "plt.ylabel('coolness index')\n",
    "plt.title('coolness vs age')\n",
    "plt.show()"
   ]
  },
  {
   "cell_type": "code",
   "execution_count": 21,
   "metadata": {},
   "outputs": [
    {
     "name": "stdout",
     "output_type": "stream",
     "text": [
      "Predicted Coolness of 73-year old = 31.262429389257864\n"
     ]
    }
   ],
   "source": [
    "predicted_age3 = spl_cubic(73)\n",
    "print('Predicted Coolness of 73-year old =', predicted_age3)"
   ]
  }
 ],
 "metadata": {
  "kernelspec": {
   "display_name": "Python 3",
   "language": "python",
   "name": "python3"
  },
  "language_info": {
   "codemirror_mode": {
    "name": "ipython",
    "version": 3
   },
   "file_extension": ".py",
   "mimetype": "text/x-python",
   "name": "python",
   "nbconvert_exporter": "python",
   "pygments_lexer": "ipython3",
   "version": "3.6.3"
  }
 },
 "nbformat": 4,
 "nbformat_minor": 2
}
