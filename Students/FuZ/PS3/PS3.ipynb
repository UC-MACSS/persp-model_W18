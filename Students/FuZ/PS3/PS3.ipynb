{
 "cells": [
  {
   "cell_type": "code",
   "execution_count": 1,
   "metadata": {
    "collapsed": true
   },
   "outputs": [],
   "source": [
    "import numpy as np\n",
    "import matplotlib.pyplot as plt\n",
    "import pandas as pd\n",
    "import scipy.stats as sts\n",
    "from scipy.optimize import minimize\n",
    "import pdb\n",
    "from matplotlib import rc\n",
    "rc('text', usetex=True)"
   ]
  },
  {
   "cell_type": "code",
   "execution_count": 2,
   "metadata": {
    "collapsed": true
   },
   "outputs": [],
   "source": [
    "%matplotlib inline"
   ]
  },
  {
   "cell_type": "markdown",
   "metadata": {},
   "source": [
    "## Question 1"
   ]
  },
  {
   "cell_type": "markdown",
   "metadata": {},
   "source": [
    "### (a)"
   ]
  },
  {
   "cell_type": "code",
   "execution_count": 3,
   "metadata": {},
   "outputs": [
    {
     "data": {
      "image/png": "[encoded data removed]",
      "text/plain": [
       "<matplotlib.figure.Figure at 0x10e7bb080>"
      ]
     },
     "execution_count": 3,
     "metadata": {},
     "output_type": "execute_result"
    },
    {
     "data": {
      "image/png": "[encoded data removed]",
      "text/plain": [
       "<matplotlib.figure.Figure at 0x10e7bb080>"
      ]
     },
     "metadata": {},
     "output_type": "display_data"
    }
   ],
   "source": [
    "dt = np.loadtxt(\"incomes.txt\")\n",
    "fig, ax = plt.subplots()\n",
    "ax.hist(dt, normed = True, bins= 30)\n",
    "ax.set(title = \"Distribution of Annual Income of MACSS students\", \n",
    "       xlabel = \"Annual Income\", \n",
    "        ylabel = \"Density\")\n",
    "fig"
   ]
  },
  {
   "cell_type": "markdown",
   "metadata": {
    "collapsed": true
   },
   "source": [
    "### (b)"
   ]
  },
  {
   "cell_type": "code",
   "execution_count": 4,
   "metadata": {
    "collapsed": true
   },
   "outputs": [],
   "source": [
    "class GMM:\n",
    "    def __init__(self):\n",
    "        pass\n",
    "    \n",
    "    def model_moment(self, param):\n",
    "        pass\n",
    "    \n",
    "    def error_func(self, param, W = None):\n",
    "        if W is None:\n",
    "            W = np.eye(len(self.data_moment))\n",
    "        e = (self.model_moment(param) - self.data_moment)/self.data_moment\n",
    "        return e.T @ W @ e\n",
    "    \n",
    "    def estimate(self, init, method = \"identity\", bounds = None):\n",
    "        results = minimize(self.error_func, init, method='L-BFGS-B', bounds = bounds)\n",
    "        if method == \"identity\":\n",
    "            return results\n",
    "        if method == \"two-step\":\n",
    "            e = (self.model_moment(results.x) - self.data_moment)/self.data_moment\n",
    "            vcv = e @ e.T / self.N\n",
    "            W = np.linalg.inv(vcv)\n",
    "            W = W/np.sum(W) # rescale the W in case of overflow\n",
    "            results = minimize(self.error_func, results.x, args = W, method='L-BFGS-B',  bounds = bounds)\n",
    "            return results\n",
    "        if method == \"iterate\":\n",
    "            W = np.eye(len(init))\n",
    "            while True:\n",
    "                e = (self.model_moment(results.x) - self.data_moment)/self.data_moment\n",
    "                vcv = e @ e.T / self.N\n",
    "                new_W = np.linalg.inv(vcv)\n",
    "#                 new_W = new_W/np.sum(new_W) # rescale the W in case of overflow    \n",
    "                if np.sum(np.abs(new_W - W))>1e-7:\n",
    "                    W = new_W\n",
    "                    results = minimize(self.error_func, results.x, args = (W), method='L-BFGS-B',  bounds = bounds)\n",
    "                else:\n",
    "                    return results\n",
    "                    \n",
    "                \n",
    "        \n",
    "class Log_Normal(GMM):\n",
    "    def __init__(self, data):\n",
    "        self.N = len(data)\n",
    "        self.data = data\n",
    "        self.data_moment = np.array((np.mean(self.data), np.var(self.data))).reshape((2,1))\n",
    "        \n",
    "    def model_moment(self, param):\n",
    "#       Given the formula of model moment is easily calculated analytically,\n",
    "#       I use the expression directly here instead of numerical integral to avoid inaccuracy and addtional offhead.\n",
    "        param = np.array(param).reshape(2, 1)\n",
    "        mean = np.exp(np.array((1, 0.5)).reshape((1,2)) @ param)\n",
    "        var = np.exp(np.array((2, 1)).reshape((1,2)) @ param) * (np.exp(param[1,:]) - 1)\n",
    "        return np.concatenate((mean, var), axis = 0)\n",
    "    \n",
    "    def pdf(self, x, param):\n",
    "        mu, sigma2 = param\n",
    "        sigma = np.sqrt(sigma2)\n",
    "        return 1/x/sigma/np.sqrt(2*np.pi) * np.exp(-(np.log(x)-mu)**2/2/sigma/sigma)\n",
    "    "
   ]
  },
  {
   "cell_type": "code",
   "execution_count": 5,
   "metadata": {},
   "outputs": [],
   "source": [
    "ln = Log_Normal(dt)\n",
    "results = ln.estimate((11, 0.2), bounds = ((None, None), (1e-10, None)))\n"
   ]
  },
  {
   "cell_type": "code",
   "execution_count": 6,
   "metadata": {},
   "outputs": [
    {
     "data": {
      "image/png": "[encoded data removed]",
      "text/plain": [
       "<matplotlib.figure.Figure at 0x10e7bb080>"
      ]
     },
     "execution_count": 6,
     "metadata": {},
     "output_type": "execute_result"
    }
   ],
   "source": [
    "x = np.linspace(30000, 150000, 1000)\n",
    "y = ln.pdf(x, results.x)\n",
    "ax.plot(x, y, label = \"(b) $\\mu= {}$, $\\sigma$ = {}$\".format(round(results.x[0], 2),\n",
    "                                                            round(results.x[1], 3)))\n",
    "ax.legend()\n",
    "fig"
   ]
  },
  {
   "cell_type": "code",
   "execution_count": 7,
   "metadata": {},
   "outputs": [
    {
     "name": "stdout",
     "output_type": "stream",
     "text": [
      "The estimate for mu and sigma^2 is: \n",
      "[ 11.33188114   0.04355427]\n",
      "The value of criterion function at the estimated paramter values is:\n",
      "[  8.27401991e-14]\n",
      "Two data momments is \n",
      "[[  8.52768236e+04]\n",
      " [  3.23731572e+08]]\n",
      "Two model moment is \n",
      "[[  8.52768477e+04]\n",
      " [  3.23731554e+08]]\n"
     ]
    }
   ],
   "source": [
    "print(\"The estimate for mu and sigma^2 is: \")\n",
    "print(results.x)\n",
    "print(\"The value of criterion function at the estimated paramter values is:\")\n",
    "print(results.fun[0])\n",
    "print(\"Two data momments is \")\n",
    "print(ln.data_moment)\n",
    "print(\"Two model moment is \")\n",
    "print(ln.model_moment(results.x))\n"
   ]
  },
  {
   "cell_type": "markdown",
   "metadata": {},
   "source": [
    "Model moments and data moments are very close."
   ]
  },
  {
   "cell_type": "markdown",
   "metadata": {},
   "source": [
    "### (c)"
   ]
  },
  {
   "cell_type": "code",
   "execution_count": 8,
   "metadata": {},
   "outputs": [
    {
     "data": {
      "image/png": "[encoded data removed]",
      "text/plain": [
       "<matplotlib.figure.Figure at 0x10e7bb080>"
      ]
     },
     "execution_count": 8,
     "metadata": {},
     "output_type": "execute_result"
    }
   ],
   "source": [
    "results2 =  ln.estimate((11, 0.2), method = \"two-step\")\n",
    "x = np.linspace(30000, 150000, 1000)\n",
    "y = ln.pdf(x, results2.x)\n",
    "ax.plot(x, y, label = \"(c) $\\mu= {}$, $\\sigma$ = {}$\".format(round(results2.x[0], 2),\n",
    "                                                            round(results2.x[1], 3)))\n",
    "ax.legend()\n",
    "fig"
   ]
  },
  {
   "cell_type": "code",
   "execution_count": 9,
   "metadata": {
    "scrolled": true
   },
   "outputs": [
    {
     "name": "stdout",
     "output_type": "stream",
     "text": [
      "The estimate for mu and sigma^2 is: \n",
      "[ 11.33188111   0.04355427]\n",
      "The value of criterion function at the estimated paramter values is:\n",
      "[  1.46647342e-30]\n",
      "Two data momments is \n",
      "[[  8.52768236e+04]\n",
      " [  3.23731572e+08]]\n",
      "Two model moment is \n",
      "[[  8.52768453e+04]\n",
      " [  3.23731533e+08]]\n"
     ]
    }
   ],
   "source": [
    "print(\"The estimate for mu and sigma^2 is: \")\n",
    "print(results2.x)\n",
    "print(\"The value of criterion function at the estimated paramter values is:\")\n",
    "print(results2.fun[0])\n",
    "print(\"Two data momments is \")\n",
    "print(ln.data_moment)\n",
    "print(\"Two model moment is \")\n",
    "print(ln.model_moment(results2.x))"
   ]
  },
  {
   "cell_type": "markdown",
   "metadata": {},
   "source": [
    "I also implemented a iterative version, which yields the same result. See below."
   ]
  },
  {
   "cell_type": "code",
   "execution_count": 10,
   "metadata": {
    "collapsed": true
   },
   "outputs": [],
   "source": [
    "results3 = ln.estimate((11, 0.2), method = \"iterate\", bounds = ((None, None), (1e-10, None)))"
   ]
  },
  {
   "cell_type": "code",
   "execution_count": 11,
   "metadata": {},
   "outputs": [
    {
     "data": {
      "text/plain": [
       "array([ 11.33188114,   0.04355427])"
      ]
     },
     "execution_count": 11,
     "metadata": {},
     "output_type": "execute_result"
    }
   ],
   "source": [
    "results3.x"
   ]
  },
  {
   "cell_type": "markdown",
   "metadata": {},
   "source": [
    "### (d)"
   ]
  },
  {
   "cell_type": "code",
   "execution_count": 12,
   "metadata": {},
   "outputs": [],
   "source": [
    "from scipy.stats import norm\n",
    "class Log_Normal2(Log_Normal):\n",
    "    def __init__(self, data):\n",
    "        self.N = len(data)\n",
    "        self.data = data\n",
    "        data = np.array(data)\n",
    "        m1 = sum(data<75000)/len(data)\n",
    "        m2 = np.all((data>=75000, data<=100000), axis = 0).sum()/len(data)\n",
    "        m3 = sum(data>100000)/len(data)\n",
    "        self.data_moment = np.array((m1,m2,m3)).reshape((3,1))\n",
    "        \n",
    "    def model_moment(self, param):\n",
    "#       Given the formula of model moment is easily calculated analytically,\n",
    "#       I use the expression directly here instead of numerical integral to avoid inaccuracy and addtional offhead.\n",
    "        mu, sigma2 = param\n",
    "        m1 = norm.pdf(np.log(75000), loc = mu, scale = np.sqrt(sigma2))\n",
    "        m2 = norm.pdf(np.log(100000), loc = mu, scale = np.sqrt(sigma2)) - m1\n",
    "        m3 = 1 - norm.pdf(np.log(100000), loc = mu, scale = np.sqrt(sigma2))\n",
    "        return np.array((m1,m2,m3)).reshape((3,1))\n",
    "    "
   ]
  },
  {
   "cell_type": "code",
   "execution_count": 13,
   "metadata": {},
   "outputs": [],
   "source": [
    "ln2 = Log_Normal2(dt)"
   ]
  },
  {
   "cell_type": "code",
   "execution_count": 14,
   "metadata": {},
   "outputs": [
    {
     "name": "stdout",
     "output_type": "stream",
     "text": [
      "[ 11.80463336   0.12774859]\n"
     ]
    }
   ],
   "source": [
    "results4 = ln2.estimate((11, 0.5), bounds = ((None, None), (1e-10, None)))\n",
    "print(results4.x)"
   ]
  },
  {
   "cell_type": "code",
   "execution_count": 15,
   "metadata": {},
   "outputs": [
    {
     "data": {
      "image/png": "[encoded data removed]",
      "text/plain": [
       "<matplotlib.figure.Figure at 0x10e7bb080>"
      ]
     },
     "execution_count": 15,
     "metadata": {},
     "output_type": "execute_result"
    }
   ],
   "source": [
    "x = np.linspace(30000, 150000, 1000)\n",
    "y = ln.pdf(x, results4.x)\n",
    "ax.plot(x, y, label = \"(d) $\\mu= {}$, $\\sigma$ = {}$\".format(round(results4.x[0], 2),\n",
    "                                                            round(results4.x[1], 3)))\n",
    "ax.legend()\n",
    "fig"
   ]
  },
  {
   "cell_type": "markdown",
   "metadata": {},
   "source": [
    "### (e)"
   ]
  },
  {
   "cell_type": "code",
   "execution_count": 16,
   "metadata": {},
   "outputs": [
    {
     "data": {
      "text/plain": [
       "      fun: array([[  4.22165619e-30]])\n",
       " hess_inv: <2x2 LbfgsInvHessProduct with dtype=float64>\n",
       "      jac: array([  3.39323945e-07,   4.29282659e-07])\n",
       "  message: b'CONVERGENCE: NORM_OF_PROJECTED_GRADIENT_<=_PGTOL'\n",
       "     nfev: 3\n",
       "      nit: 0\n",
       "   status: 0\n",
       "  success: True\n",
       "        x: array([ 11.80463336,   0.12774859])"
      ]
     },
     "execution_count": 16,
     "metadata": {},
     "output_type": "execute_result"
    }
   ],
   "source": [
    "ln2.estimate((11, 0.5), method = \"two-step\", bounds = ((None, None), (1e-10, None)))"
   ]
  },
  {
   "cell_type": "markdown",
   "metadata": {},
   "source": [
    "The results are the same as those in (d)."
   ]
  },
  {
   "cell_type": "markdown",
   "metadata": {},
   "source": [
    "To validate our results, I choose $\\mu$ and $\\sigma^2$ as the target moments and do the estimate."
   ]
  },
  {
   "cell_type": "code",
   "execution_count": 17,
   "metadata": {
    "collapsed": true
   },
   "outputs": [],
   "source": [
    "class Log_Normal3(Log_Normal):\n",
    "\n",
    "    def error_func(self, param, W = None):\n",
    "        if W is None:\n",
    "            W = np.eye(len(self.data_moment))\n",
    "        e = (self.model_moment(param) - self.data_moment)\n",
    "        return e.T @ W @ e\n",
    "    \n",
    "    def __init__(self, data):\n",
    "        self.N = len(data)\n",
    "        logdata = np.log(data)\n",
    "        self.data_moment = np.array([[logdata.mean()], [logdata.var()]])\n",
    "        \n",
    "    def model_moment(self, param):\n",
    "        return np.array(param).reshape((2,1))"
   ]
  },
  {
   "cell_type": "code",
   "execution_count": 18,
   "metadata": {},
   "outputs": [
    {
     "data": {
      "text/plain": [
       "      fun: array([[  2.18451039e-16]])\n",
       " hess_inv: <2x2 LbfgsInvHessProduct with dtype=float64>\n",
       "      jac: array([ -1.03720454e-08,  -1.14192419e-08])\n",
       "  message: b'CONVERGENCE: NORM_OF_PROJECTED_GRADIENT_<=_PGTOL'\n",
       "     nfev: 9\n",
       "      nit: 2\n",
       "   status: 0\n",
       "  success: True\n",
       "        x: array([ 11.33144033,   0.04480612])"
      ]
     },
     "execution_count": 18,
     "metadata": {},
     "output_type": "execute_result"
    }
   ],
   "source": [
    "ln3 = Log_Normal3(dt)\n",
    "ln3.estimate((11, 1), bounds = ((None, None), (1e-10, None)))"
   ]
  },
  {
   "cell_type": "markdown",
   "metadata": {},
   "source": [
    "The same as hour first GMM results."
   ]
  },
  {
   "cell_type": "markdown",
   "metadata": {},
   "source": [
    "## Part 2"
   ]
  },
  {
   "cell_type": "code",
   "execution_count": 19,
   "metadata": {},
   "outputs": [],
   "source": [
    "import pandas as pd\n",
    "sick = pd.read_csv(\"sick.txt\")"
   ]
  },
  {
   "cell_type": "code",
   "execution_count": 20,
   "metadata": {
    "collapsed": true
   },
   "outputs": [],
   "source": [
    "class Linear_Regression(GMM):\n",
    "    \n",
    "    def error_func(self, param, W = None):\n",
    "        if W is None:\n",
    "            W = np.eye(len(self.data_moment))\n",
    "        e = (self.model_moment(param) - self.data_moment)\n",
    "        return e.T @ W @ e\n",
    "    \n",
    "    def __init__(self, data):\n",
    "        self.data = data.values\n",
    "        self.N = self.data.shape[0]\n",
    "        self.data_moment = data.iloc[:,0].values\n",
    "    \n",
    "    def model_moment(self, param):\n",
    "        param = np.array(param)\n",
    "        X = np.concatenate((np.ones((self.N,1)),self.data[:,1:]), axis = 1)\n",
    "        return X @ param"
   ]
  },
  {
   "cell_type": "code",
   "execution_count": 21,
   "metadata": {},
   "outputs": [],
   "source": [
    "lr = Linear_Regression(sick)\n",
    "res = lr.estimate((1,1,1,1))"
   ]
  },
  {
   "cell_type": "code",
   "execution_count": 22,
   "metadata": {},
   "outputs": [
    {
     "data": {
      "text/plain": [
       "array([ 0.25164422,  0.0129334 ,  0.40050162, -0.00999164])"
      ]
     },
     "execution_count": 22,
     "metadata": {},
     "output_type": "execute_result"
    }
   ],
   "source": [
    "res.x"
   ]
  },
  {
   "cell_type": "markdown",
   "metadata": {},
   "source": [
    "The same results as Problem set 2."
   ]
  }
 ],
 "metadata": {
  "kernelspec": {
   "display_name": "Python 3",
   "language": "python",
   "name": "python3"
  },
  "language_info": {
   "codemirror_mode": {
    "name": "ipython",
    "version": 3
   },
   "file_extension": ".py",
   "mimetype": "text/x-python",
   "name": "python",
   "nbconvert_exporter": "python",
   "pygments_lexer": "ipython3",
   "version": "3.6.4"
  }
 },
 "nbformat": 4,
 "nbformat_minor": 2
}
