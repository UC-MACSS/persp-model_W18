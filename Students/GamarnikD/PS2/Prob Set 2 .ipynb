{
 "cells": [
  {
   "cell_type": "code",
   "execution_count": 1,
   "metadata": {},
   "outputs": [
    {
     "data": {
      "text/plain": [
       "{'divide': 'warn', 'invalid': 'warn', 'over': 'warn', 'under': 'ignore'}"
      ]
     },
     "execution_count": 1,
     "metadata": {},
     "output_type": "execute_result"
    }
   ],
   "source": [
    "# Problem Set #2\n",
    "#\n",
    "# Name : Dan Gamarnik\n",
    "#\n",
    "# Date : 1/21/2018\n",
    "#\n",
    "import os\n",
    "import math\n",
    "import scipy.optimize as opt\n",
    "import numpy as np\n",
    "import scipy.stats as sts\n",
    "import matplotlib.pyplot as plt\n",
    "np.seterr(all='ignore')"
   ]
  },
  {
   "cell_type": "code",
   "execution_count": 2,
   "metadata": {},
   "outputs": [
    {
     "data": {
      "image/png": "[encoded data removed]",
      "text/plain": [
       "<matplotlib.figure.Figure at 0x2304e7590f0>"
      ]
     },
     "metadata": {},
     "output_type": "display_data"
    }
   ],
   "source": [
    "'''\n",
    "----------------------------------------------------------------------------\n",
    "Problem 1. Some income data, lognormal distribution, and hypothesis testing\n",
    "----------------------------------------------------------------------------\n",
    "'''\n",
    "income = np.loadtxt('incomes.txt')\n",
    "\n",
    "\n",
    "# 1A\n",
    "\n",
    "# Plot histogram of MACSS Student's Income\n",
    "weights = (1 / income.shape[0]) * np.ones_like(income) * 100\n",
    "num_bins = 30 \n",
    "plt.hist(income, num_bins, weights = weights)\n",
    "plt.title('Incomes from 2018 to 2020 ', fontsize=12)\n",
    "plt.xlabel('Income')\n",
    "plt.ylabel('Percentage of students')\n",
    "plt.show()\n",
    "\n",
    "\n"
   ]
  },
  {
   "cell_type": "code",
   "execution_count": 3,
   "metadata": {},
   "outputs": [
    {
     "name": "stderr",
     "output_type": "stream",
     "text": [
      "C:\\ProgramData\\Anaconda3\\lib\\site-packages\\ipykernel_launcher.py:10: DeprecationWarning: object of type <class 'float'> cannot be safely interpreted as an integer.\n",
      "  # Remove the CWD from sys.path while we load stuff.\n",
      "C:\\ProgramData\\Anaconda3\\lib\\site-packages\\ipykernel_launcher.py:35: DeprecationWarning: object of type <class 'float'> cannot be safely interpreted as an integer.\n"
     ]
    },
    {
     "data": {
      "image/png": "[encoded data removed]",
      "text/plain": [
       "<matplotlib.figure.Figure at 0x2304e89f470>"
      ]
     },
     "metadata": {},
     "output_type": "display_data"
    },
    {
     "name": "stdout",
     "output_type": "stream",
     "text": [
      "1B. The log likelihood value is -2385.85700.\n",
      "\n"
     ]
    }
   ],
   "source": [
    "# 1B\n",
    "\n",
    "# Initial Values of Mu and Sigma and Bounds\n",
    "\n",
    "sigma = 0.5\n",
    "mu = 11.0\n",
    "lower_bound = 0.00000000001\n",
    "upper_bound = 150000\n",
    "nums = upper_bound - lower_bound\n",
    "x_vals = np.linspace(lower_bound, upper_bound, nums)\n",
    "cutoff = upper_bound\n",
    "\n",
    "# Define function that generates values of a log normal pdf\n",
    "def lognorm_pdf(x_vals, mu, sigma, cutoff):\n",
    "    '''\n",
    "    --------------------------------------------------------------------\n",
    "    sigma  = scalar > 0, standard deviation of the normally distributed\n",
    "             random variable\n",
    "    mu     = scalar, mean of the normally distributed random variable\n",
    "    cutoff = scalar or string, ='None' if no cutoff is given, otherwise\n",
    "             is scalar upper bound value of distribution. Values above\n",
    "             this value have zero probability\n",
    "             \n",
    "    xvals  = (N,) vector, values of the normally distributed random\n",
    "             variable\n",
    "    \n",
    "    RETURNS: pdf_vals\n",
    "    --------------------------------------------------------------------\n",
    "    '''\n",
    "    lognorm = sts.lognorm(s = sigma, scale = np.exp(mu))\n",
    "    y_vals = lognorm.pdf(x_vals)\n",
    "    return y_vals\n",
    "\n",
    "# plot the graph\n",
    "x_vals = np.linspace(upper_bound, lower_bound, nums)\n",
    "plt.plot(x_vals, lognorm_pdf(x_vals, mu, sigma, cutoff) ,\n",
    "         linewidth=2, color='r', label='1: $\\mu$=11,$\\sigma$=0.5')\n",
    "plt.xlim(0,150000)\n",
    "plt.xlabel('Incomes')\n",
    "plt.ylabel('Percent')\n",
    "plt.legend(loc='upper left')\n",
    "plt.title('Lognormal PDF: Mu = 11, Sigma = 0.5', fontsize=12)\n",
    "plt.show()\n",
    "\n",
    "\n",
    "# Define function that generates values of a log likelihood function\n",
    "def log_lik_norm(x_vals, mu, sigma, cutoff):\n",
    "    '''\n",
    "    --------------------------------------------------------------------\n",
    "    INPUTS:\n",
    "    xvals  = (N,) vector, values of the normally distributed random\n",
    "             variable\n",
    "    mu     = scalar, mean of the normally distributed random variable\n",
    "    sigma  = scalar > 0, standard deviation of the normally distributed\n",
    "             random variable\n",
    "    cutoff = scalar or string, ='None' if no cutoff is given, otherwise\n",
    "             is scalar upper bound value of distribution. Values above\n",
    "             this value have zero probability\n",
    "    \n",
    "    RETURNS: log_lik_val\n",
    "    --------------------------------------------------------------------\n",
    "    '''\n",
    "    pdf_vals = lognorm_pdf(x_vals, mu, sigma, cutoff)\n",
    "    ln_pdf_vals = np.log(pdf_vals)\n",
    "    log_lik_val = ln_pdf_vals.sum()\n",
    "    \n",
    "    return log_lik_val\n",
    "\n",
    "print(\"1B. The log likelihood value is {:.5f}.\"\\\n",
    "    .format(log_lik_norm(income, mu, sigma, cutoff)))\n",
    "print(\"\")"
   ]
  },
  {
   "cell_type": "code",
   "execution_count": 11,
   "metadata": {},
   "outputs": [
    {
     "name": "stdout",
     "output_type": "stream",
     "text": [
      "1C: The MLE for mu is 11.35902. and the MLE for sigma is 0.20818.\n",
      "The value of the likelihood finction is -2241.71930. \n",
      "The Varianvce-covarianve matrix is \n",
      " [[ 0.91592473  0.08295471]\n",
      " [ 0.08295471  0.0137172 ]]\n",
      "\n"
     ]
    },
    {
     "name": "stderr",
     "output_type": "stream",
     "text": [
      "C:\\ProgramData\\Anaconda3\\lib\\site-packages\\ipykernel_launcher.py:64: DeprecationWarning: object of type <class 'float'> cannot be safely interpreted as an integer.\n"
     ]
    },
    {
     "data": {
      "image/png": "[encoded data removed]",
      "text/plain": [
       "<matplotlib.figure.Figure at 0x23052ba3f98>"
      ]
     },
     "metadata": {},
     "output_type": "display_data"
    }
   ],
   "source": [
    "# 1C\n",
    "\n",
    "def crit(params, *args):\n",
    "    '''\n",
    "    --------------------------------------------------------------------\n",
    "    INPUTS:\n",
    "    mu     = scalar, mean of the normally distributed random variable\n",
    "    sigma  = scalar > 0, standard deviation of the normally distributed\n",
    "             random variable\n",
    "    xvals  = (N,) vector, values of the normally distributed random\n",
    "             variable\n",
    "    args   = length 2 tuple, (xvals, cutoff)\n",
    "    params = (2,) vector, ([mu, sigma])\n",
    "    \n",
    "    cutoff = scalar or string, ='None' if no cutoff is given, otherwise\n",
    "             is scalar upper bound value of distribution. Values above\n",
    "             this value have zero probability\n",
    "    \n",
    "    RETURNS: neg_log_lik_val\n",
    "    --------------------------------------------------------------------\n",
    "    '''\n",
    "    mu, sigma = params\n",
    "    x_vals, cutoff = args\n",
    "    log_lik_val = log_lik_norm(x_vals, mu, sigma, cutoff)\n",
    "    neg_log_lik_val = -log_lik_val\n",
    "    \n",
    "    return neg_log_lik_val\n",
    "\n",
    "# test with given initial guess\n",
    "mu_init = 11\n",
    "sig_init = 0.5\n",
    "params_init = np.array([mu_init, sig_init])\n",
    "mle_args = (income, cutoff)\n",
    "bnds = ((None, None), (0.00000000001, None))\n",
    "\n",
    "results = opt.minimize(crit, params_init, args=(mle_args), \n",
    "            bounds = bnds, method = 'SLSQP')\n",
    "mu_MLE, sig_MLE = results.x  \n",
    "\n",
    "print('1C: The MLE for mu is {:.5f}.'.format(mu_MLE), \n",
    "    'and the MLE for sigma is {:.5f}.'.format(sig_MLE))\n",
    "print('The value of the likelihood finction is {:.5f}. '\\\n",
    "    .format(log_lik_norm(income, mu_MLE, sig_MLE, cutoff)))\n",
    "\n",
    "\n",
    "# To get the Hessian_inv, we have to guess close to MLE of mu, and sigma\n",
    "mu_guess = 11\n",
    "sig_guess= 0.2\n",
    "params_mle = np.array([mu_guess, sig_guess])\n",
    "results_mle = opt.minimize(crit, params_mle, args=(mle_args), \n",
    "                bounds = bnds, method = 'L-BFGS-B')\n",
    "vcv_mle = results_mle.hess_inv.todense()\n",
    "\n",
    "print('The Varianvce-covarianve matrix is \\n', vcv_mle)\n",
    "print(\"\")\n",
    "\n",
    "# plot all graph from 1-a, 1-b and the lognormal pdf by MLE\n",
    "\n",
    "# Plot the histogram from (a)\n",
    "weights = (1 / income.shape[0]) * np.ones_like(income) * 100\n",
    "num_bins = 30\n",
    "plt.hist(income, num_bins, weights = weights, normed= True)\n",
    "\n",
    "# Plot the test distributions from (b)\n",
    "x_vals = np.linspace(lower_bound, upper_bound, nums)\n",
    "plt.plot(x_vals, lognorm_pdf(x_vals, mu, sigma, cutoff) ,\n",
    "         linewidth=2, color='g', label='lognormal: $\\mu$=11,$\\sigma$=0.5')\n",
    "plt.legend(loc='upper right')\n",
    "\n",
    "# Plot the MLE estimated distribution\n",
    "plt.plot(x_vals, lognorm_pdf(x_vals, mu_MLE, sig_MLE, cutoff),\n",
    "         linewidth=2, color='r', label='MLE: $\\mu$=11.359,$\\sigma$=0.208')\n",
    "plt.legend(loc='upper right')\n",
    "plt.title('Annual incomes of MACSS students in 2018-2020', fontsize=15)\n",
    "plt.xlabel('Incomes')\n",
    "plt.ylabel('Percent')\n",
    "plt.show()\n",
    "\n"
   ]
  },
  {
   "cell_type": "code",
   "execution_count": 5,
   "metadata": {},
   "outputs": [
    {
     "name": "stdout",
     "output_type": "stream",
     "text": [
      "1-d. Chi squared of H0 with 2 degrees of freedom p-value is  0.0\n",
      "P-value is in the rejection area so that we can conclude that the data \n",
      " in income.txt is not came from the distribution in part(b).\n",
      "\n",
      "1-e. The probability that the student will earn more than $100,000 is \n",
      " 22.99%.\n",
      "The probability that the student will earn less than $75,000 is \n",
      " 26.02%.\n",
      "\n",
      "\n"
     ]
    }
   ],
   "source": [
    "# 1D\n",
    "\n",
    "# Perform a likelihood test to determine the probabability that the data\n",
    "# in incomes.txt came from the distribution in part (b)\n",
    "log_lik_h0 = log_lik_norm(income, mu, sigma, cutoff)\n",
    "log_lik_mle = log_lik_norm(income, mu_MLE, sig_MLE, cutoff)\n",
    "LR_val = 2 * (log_lik_mle - log_lik_h0)\n",
    "pval_h0 = 1.0 - sts.chi2.cdf(LR_val, 2) #area under the graph \n",
    "\n",
    "print('1-d. Chi squared of H0 with 2 degrees of freedom p-value is ', pval_h0)\n",
    "print('P-value is in the rejection area so that we can conclude that the data \\n in income.txt\\\n",
    " is not came from the distribution in part(b).')\n",
    "print(\"\")\n",
    "\n",
    "# 1E\n",
    "\n",
    "# According to the part (c), estimated the probability \n",
    "lognorm_mle = sts.lognorm(s = sig_MLE, scale = np.exp(mu_MLE))\n",
    "cdf_mle_100k = lognorm_mle.cdf(100000)\n",
    "cdf_mle_75k = lognorm_mle.cdf(75000)\n",
    "\n",
    "gt_than_100k = 1 - cdf_mle_100k\n",
    "ls_than_75k = cdf_mle_75k\n",
    "\n",
    "print('1-e. The probability that the student will earn more than $100,000 is \\n {:.2f}%.'\n",
    "    .format(gt_than_100k * 100))\n",
    "print('The probability that the student will earn less than $75,000 is \\n {:.2f}%.'\n",
    "    .format(ls_than_75k * 100))\n",
    "print(\"\")\n",
    "print(\"\")"
   ]
  },
  {
   "cell_type": "code",
   "execution_count": 6,
   "metadata": {
    "collapsed": true
   },
   "outputs": [],
   "source": [
    "\n",
    "# Problem 2. MLE and Linear Regression\n",
    "\n",
    "# This code creates a dataframe for problem 2\n",
    "sick = np.loadtxt('sick.txt', skiprows=1, delimiter=',')\n",
    "\n",
    "sick_i = sick[:,0]\n",
    "age_i = sick[:,1]\n",
    "children_i = sick[:,2]\n",
    "temp_winter_i = sick[:,3]\n"
   ]
  },
  {
   "cell_type": "code",
   "execution_count": 7,
   "metadata": {},
   "outputs": [
    {
     "name": "stdout",
     "output_type": "stream",
     "text": [
      "2A: The MLE for sigma is 0.00302, the MLE for sigma squared is 0.06333, the MLE for b0 is 0.25165, the MLE for b1 is 0.01293,  the MLE for b2 is 0.40050, the MLE for b3 is-0.00999.\n",
      "The value of the likelihood function is 876.86505.\n",
      "The Varianvce-covarianve matrix is \n",
      " [[ 1.  0.  0.  0.  0.]\n",
      " [ 0.  1.  0.  0.  0.]\n",
      " [ 0.  0.  1.  0.  0.]\n",
      " [ 0.  0.  0.  1.  0.]\n",
      " [ 0.  0.  0.  0.  1.]]\n",
      "\n"
     ]
    }
   ],
   "source": [
    "# 2A\n",
    "\n",
    "# Initial value\n",
    "mu_sick = 0\n",
    "\n",
    "# Define function that generates values of a normal pdf\n",
    "def norm_pdf(data, sigma):\n",
    "    '''\n",
    "    --------------------------------------------------------------------\n",
    "    INPUTS:\n",
    "    data = (N,) vector, values of the normally distributed random\n",
    "             variable\n",
    "    sigma  = scalar > 0, standard deviation of the normally distributed\n",
    "             random variable\n",
    "\n",
    "    Returns: pdf_vals\n",
    "    --------------------------------------------------------------------\n",
    "    '''\n",
    "    pdf_vals = (1/(sigma * np.sqrt(2 * np.pi)) *\n",
    "                np.exp(-(data)**2 / (2 * sigma**2)))  \n",
    "\n",
    "    return pdf_vals\n",
    "\n",
    "# Define function that generates values of a log likelihood function for problem 2\n",
    "def sick_log_lik_norm(data, sigma):\n",
    "    '''\n",
    "\n",
    "    --------------------------------------------------------------------\n",
    "    INPUTS:\n",
    "    data  = (N,) vector, values of the normally distributed random\n",
    "             variable\n",
    "    sigma  = scalar > 0, standard deviation of the normally distributed\n",
    "             random variable\n",
    "    \n",
    "    RETURNS: log_lik_val\n",
    "    --------------------------------------------------------------------\n",
    "    '''   \n",
    "    \n",
    "    pdf_vals = norm_pdf(data, sigma)\n",
    "    ln_pdf_vals = np.log(pdf_vals)\n",
    "    log_lik_val = ln_pdf_vals.sum()\n",
    "\n",
    "    return log_lik_val\n",
    "\n",
    "def sick_crit(params, *args):\n",
    "    '''\n",
    "\n",
    "    --------------------------------------------------------------------\n",
    "    INPUTS:\n",
    "    mu     = scalar, mean of the normally distributed random variable\n",
    "    sigma  = scalar > 0, standard deviation of the normally distributed\n",
    "             random variable\n",
    "    args   = length 2 tuple, (xvals, cutoff)\n",
    "    xvals  = (N,) vector, values of the normally distributed random\n",
    "             variable\n",
    "    params = (5,) vector, ([sigma, beta0, beta1, beta2, beta3])\n",
    "    cutoff = scalar or string, ='None' if no cutoff is given, otherwise\n",
    "             is scalar upper bound value of distribution. Values above\n",
    "             this value have zero probability\n",
    "    \n",
    "    \n",
    "    OBJECTS CREATED WITHIN FUNCTION:\n",
    "    log_lik_val = scalar, value of the log likelihood function\n",
    "    neg_log_lik_val = scalar, negative of log_lik_val\n",
    "    \n",
    "    Returns: neg_log_lik_val\n",
    "    --------------------------------------------------------------------\n",
    "    '''\n",
    "    sigma,b0,b1,b2,b3 = params\n",
    "    sick_i,age_i,children_i,temp_winter_i = args\n",
    "    data = sick_i - b0 - (b1 * age_i) - (b2 * children_i) - (b3 * temp_winter_i)\n",
    "\n",
    "    sick_log_lik_val = sick_log_lik_norm(data, sigma)\n",
    "    sick_neg_log_lik_val = - sick_log_lik_val\n",
    "\n",
    "    return sick_neg_log_lik_val\n",
    "\n",
    "# Initial Guess Test \n",
    "sick_sig_init, b0_init, b1_init, b2_init, b3_init = (1, 0.2, 0.3, 0.2, 0.3)\n",
    "sick_params_init = np.array([sick_sig_init,b0_init,b1_init,b2_init,b3_init])\n",
    "sick_bnds = ((0.00000000001, None),(None, None),(None, None), \n",
    "            (None, None), (None, None))\n",
    "sick_mle_args = (sick_i, age_i, children_i, temp_winter_i) \n",
    "results = opt.minimize(sick_crit, sick_params_init, args = (sick_mle_args),\n",
    "                         bounds = sick_bnds, method = 'SLSQP')\n",
    "# MLE of sigma, b0, b1, b2, b3\n",
    "sick_sig_MLE, b0_MLE, b1_MLE, b2_MLE, b3_MLE = results.x\n",
    "\n",
    "# To get the Hessian_inv, we have to guess close to MLE of sigma, b0, b1, b2, b3\n",
    "sick_params_mle = np.array([sick_sig_MLE, b0_MLE, b1_MLE, b2_MLE, b3_MLE])\n",
    "sick_results_mle = opt.minimize(sick_crit, sick_params_mle, \n",
    "                                args=(sick_mle_args), bounds = sick_bnds,\n",
    "                                method = 'L-BFGS-B')\n",
    "sick_vcv_mle = sick_results_mle.hess_inv.todense()\n",
    "# To generate the value of likelihood function, we need to know the data using MLE\n",
    "data_MLE = sick_i - b0_MLE - (b1_MLE * age_i)- (b2_MLE * children_i) \\\n",
    "            - (b3_MLE * temp_winter_i)\n",
    "\n",
    "print('2A: The MLE for sigma is {:.5f},'.format(sick_sig_MLE), \n",
    "    'the MLE for sigma squared is {:.5f},'.format(b0_MLE ** 2), \\\n",
    "    'the MLE for b0 is {:.5f},'.format(b0_MLE), \\\n",
    "    'the MLE for b1 is {:.5f}, '.format(b1_MLE), \\\n",
    "    'the MLE for b2 is {:.5f},'.format(b2_MLE), \\\n",
    "    'the MLE for b3 is{:.5f}.'.format(b3_MLE))\n",
    "print('The value of the likelihood function is {:.5f}.'\\\n",
    "    .format(sick_log_lik_norm(data_MLE, sick_sig_MLE)))\n",
    "print('The Varianvce-covarianve matrix is \\n', sick_vcv_mle)\n",
    "print(\"\")"
   ]
  },
  {
   "cell_type": "code",
   "execution_count": 8,
   "metadata": {},
   "outputs": [
    {
     "name": "stdout",
     "output_type": "stream",
     "text": [
      "2B. Chi squared of H0 with 2 degrees of freedom p-value is  0.0\n",
      "Because the P-value is in the rejection area we can conclude that the age,\n",
      " number of children, and average winter temperture have effect \n",
      " on the number of sick days.\n"
     ]
    }
   ],
   "source": [
    "# 2B\n",
    "\n",
    "sigma = math.sqrt(0.01)\n",
    "b0, b1, b2, b3 = (1, 0, 0, 0)\n",
    "\n",
    "data_h0 = sick_i - b0 - (b1 * age_i) - (b2 * children_i) - (b3 * temp_winter_i)\n",
    "data_MLE = sick_i - b0_MLE - (b1_MLE * age_i)- (b2_MLE * children_i)\\\n",
    "            - (b3_MLE * temp_winter_i)\n",
    "sick_log_lik_h0 = sick_log_lik_norm(data_h0, sigma)\n",
    "sick_log_lik_mle = sick_log_lik_norm(data_MLE, sick_sig_MLE)\n",
    "sick_LR_val = 2 * (sick_log_lik_mle - sick_log_lik_h0)\n",
    "sick_pval_h0 = 1.0 - sts.chi2.cdf(sick_LR_val, 2) \n",
    "\n",
    "print('2B. Chi squared of H0 with 2 degrees of freedom p-value is ', sick_pval_h0)\n",
    "print('Because the P-value is in the rejection area we can conclude that the age,\\n \\\n",
    "number of children, and average winter temperture have effect \\n on the number of sick days.')"
   ]
  }
 ],
 "metadata": {
  "kernelspec": {
   "display_name": "Python 3",
   "language": "python",
   "name": "python3"
  },
  "language_info": {
   "codemirror_mode": {
    "name": "ipython",
    "version": 3
   },
   "file_extension": ".py",
   "mimetype": "text/x-python",
   "name": "python",
   "nbconvert_exporter": "python",
   "pygments_lexer": "ipython3",
   "version": "3.6.3"
  }
 },
 "nbformat": 4,
 "nbformat_minor": 2
}
