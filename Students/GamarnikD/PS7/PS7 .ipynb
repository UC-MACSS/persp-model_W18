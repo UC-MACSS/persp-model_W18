{
 "cells": [
  {
   "cell_type": "markdown",
   "metadata": {},
   "source": [
    "# Problem Set 7"
   ]
  },
  {
   "cell_type": "markdown",
   "metadata": {},
   "source": [
    "### Dan Gamarnik"
   ]
  },
  {
   "cell_type": "code",
   "execution_count": 1,
   "metadata": {},
   "outputs": [
    {
     "name": "stderr",
     "output_type": "stream",
     "text": [
      "C:\\Users\\GamaD\\Anaconda3\\lib\\site-packages\\sklearn\\cross_validation.py:41: DeprecationWarning: This module was deprecated in version 0.18 in favor of the model_selection module into which all the refactored classes and functions are moved. Also note that the interface of the new CV iterators are different from that of this module. This module will be removed in 0.20.\n",
      "  \"This module will be removed in 0.20.\", DeprecationWarning)\n"
     ]
    }
   ],
   "source": [
    "import pandas as pd\n",
    "import numpy as np\n",
    "from sklearn.linear_model import LogisticRegression\n",
    "from sklearn.cross_validation import train_test_split\n",
    "from sklearn.metrics import classification_report\n",
    "from sklearn.metrics import confusion_matrix, mean_squared_error\n",
    "from sklearn.model_selection import LeaveOneOut, KFold"
   ]
  },
  {
   "cell_type": "code",
   "execution_count": 2,
   "metadata": {
    "collapsed": true
   },
   "outputs": [],
   "source": [
    "auto = pd.read_csv('Auto.csv', na_values='?')\n",
    "auto = auto.dropna()"
   ]
  },
  {
   "cell_type": "code",
   "execution_count": 3,
   "metadata": {},
   "outputs": [
    {
     "data": {
      "text/html": [
       "<div>\n",
       "<style>\n",
       "    .dataframe thead tr:only-child th {\n",
       "        text-align: right;\n",
       "    }\n",
       "\n",
       "    .dataframe thead th {\n",
       "        text-align: left;\n",
       "    }\n",
       "\n",
       "    .dataframe tbody tr th {\n",
       "        vertical-align: top;\n",
       "    }\n",
       "</style>\n",
       "<table border=\"1\" class=\"dataframe\">\n",
       "  <thead>\n",
       "    <tr style=\"text-align: right;\">\n",
       "      <th></th>\n",
       "      <th>mpg</th>\n",
       "      <th>cylinders</th>\n",
       "      <th>displacement</th>\n",
       "      <th>horsepower</th>\n",
       "      <th>weight</th>\n",
       "      <th>acceleration</th>\n",
       "      <th>year</th>\n",
       "      <th>origin</th>\n",
       "      <th>name</th>\n",
       "      <th>mpg_median</th>\n",
       "      <th>mpg_high</th>\n",
       "    </tr>\n",
       "  </thead>\n",
       "  <tbody>\n",
       "    <tr>\n",
       "      <th>0</th>\n",
       "      <td>18.0</td>\n",
       "      <td>8</td>\n",
       "      <td>307.0</td>\n",
       "      <td>130.0</td>\n",
       "      <td>3504</td>\n",
       "      <td>12.0</td>\n",
       "      <td>70</td>\n",
       "      <td>1</td>\n",
       "      <td>chevrolet chevelle malibu</td>\n",
       "      <td>22.75</td>\n",
       "      <td>0</td>\n",
       "    </tr>\n",
       "    <tr>\n",
       "      <th>1</th>\n",
       "      <td>15.0</td>\n",
       "      <td>8</td>\n",
       "      <td>350.0</td>\n",
       "      <td>165.0</td>\n",
       "      <td>3693</td>\n",
       "      <td>11.5</td>\n",
       "      <td>70</td>\n",
       "      <td>1</td>\n",
       "      <td>buick skylark 320</td>\n",
       "      <td>22.75</td>\n",
       "      <td>0</td>\n",
       "    </tr>\n",
       "    <tr>\n",
       "      <th>2</th>\n",
       "      <td>18.0</td>\n",
       "      <td>8</td>\n",
       "      <td>318.0</td>\n",
       "      <td>150.0</td>\n",
       "      <td>3436</td>\n",
       "      <td>11.0</td>\n",
       "      <td>70</td>\n",
       "      <td>1</td>\n",
       "      <td>plymouth satellite</td>\n",
       "      <td>22.75</td>\n",
       "      <td>0</td>\n",
       "    </tr>\n",
       "    <tr>\n",
       "      <th>3</th>\n",
       "      <td>16.0</td>\n",
       "      <td>8</td>\n",
       "      <td>304.0</td>\n",
       "      <td>150.0</td>\n",
       "      <td>3433</td>\n",
       "      <td>12.0</td>\n",
       "      <td>70</td>\n",
       "      <td>1</td>\n",
       "      <td>amc rebel sst</td>\n",
       "      <td>22.75</td>\n",
       "      <td>0</td>\n",
       "    </tr>\n",
       "    <tr>\n",
       "      <th>4</th>\n",
       "      <td>17.0</td>\n",
       "      <td>8</td>\n",
       "      <td>302.0</td>\n",
       "      <td>140.0</td>\n",
       "      <td>3449</td>\n",
       "      <td>10.5</td>\n",
       "      <td>70</td>\n",
       "      <td>1</td>\n",
       "      <td>ford torino</td>\n",
       "      <td>22.75</td>\n",
       "      <td>0</td>\n",
       "    </tr>\n",
       "  </tbody>\n",
       "</table>\n",
       "</div>"
      ],
      "text/plain": [
       "    mpg  cylinders  displacement  horsepower  weight  acceleration  year  \\\n",
       "0  18.0          8         307.0       130.0    3504          12.0    70   \n",
       "1  15.0          8         350.0       165.0    3693          11.5    70   \n",
       "2  18.0          8         318.0       150.0    3436          11.0    70   \n",
       "3  16.0          8         304.0       150.0    3433          12.0    70   \n",
       "4  17.0          8         302.0       140.0    3449          10.5    70   \n",
       "\n",
       "   origin                       name  mpg_median  mpg_high  \n",
       "0       1  chevrolet chevelle malibu       22.75         0  \n",
       "1       1          buick skylark 320       22.75         0  \n",
       "2       1         plymouth satellite       22.75         0  \n",
       "3       1              amc rebel sst       22.75         0  \n",
       "4       1                ford torino       22.75         0  "
      ]
     },
     "execution_count": 3,
     "metadata": {},
     "output_type": "execute_result"
    }
   ],
   "source": [
    "auto['mpg_median'] = auto['mpg'].median()\n",
    "auto['mpg_high'] = auto['mpg'] > auto['mpg_median']\n",
    "auto['mpg_high'] = auto['mpg_high'].apply(int)\n",
    "auto.head()"
   ]
  },
  {
   "cell_type": "code",
   "execution_count": 4,
   "metadata": {
    "collapsed": true
   },
   "outputs": [],
   "source": [
    "yvals = auto['mpg_high'].values\n",
    "Xvals = auto[['cylinders', 'displacement', 'horsepower', 'weight', 'acceleration', 'year', 'origin']].values\n",
    "k = 4\n",
    "kf = KFold(n_splits=k, random_state=15, shuffle=True)\n",
    "kf.get_n_splits(Xvals)\n",
    "Logit_err_0 = np.zeros(k)\n",
    "Logit_err_1 = np.zeros(k)\n",
    "Logit_MSE_VEC = np.zeros(k)"
   ]
  },
  {
   "cell_type": "code",
   "execution_count": 5,
   "metadata": {},
   "outputs": [
    {
     "name": "stdout",
     "output_type": "stream",
     "text": [
      "If k index= 1\n",
      "             precision    recall  f1-score   support\n",
      "\n",
      "          0       0.94      0.89      0.92        55\n",
      "          1       0.87      0.93      0.90        43\n",
      "\n",
      "avg / total       0.91      0.91      0.91        98\n",
      "\n",
      "The error rate(category 0) is 0.0576923076923\n",
      "The error rate(category 1) is 0.130434782609\n",
      "The MSE is 0.0918367346939\n",
      "If k index= 2\n",
      "             precision    recall  f1-score   support\n",
      "\n",
      "          0       0.88      0.91      0.90        47\n",
      "          1       0.92      0.88      0.90        51\n",
      "\n",
      "avg / total       0.90      0.90      0.90        98\n",
      "\n",
      "The error rate(category 0) is 0.122448979592\n",
      "The error rate(category 1) is 0.0816326530612\n",
      "The MSE is 0.102040816327\n",
      "If k index= 3\n",
      "             precision    recall  f1-score   support\n",
      "\n",
      "          0       0.85      0.87      0.86        45\n",
      "          1       0.88      0.87      0.88        53\n",
      "\n",
      "avg / total       0.87      0.87      0.87        98\n",
      "\n",
      "The error rate(category 0) is 0.152173913043\n",
      "The error rate(category 1) is 0.115384615385\n",
      "The MSE is 0.132653061224\n",
      "If k index= 4\n",
      "             precision    recall  f1-score   support\n",
      "\n",
      "          0       0.95      0.84      0.89        49\n",
      "          1       0.85      0.96      0.90        49\n",
      "\n",
      "avg / total       0.90      0.90      0.90        98\n",
      "\n",
      "The error rate(category 0) is 0.046511627907\n",
      "The error rate(category 1) is 0.145454545455\n",
      "The MSE is 0.102040816327\n",
      "\n",
      " k-Fold Reults:\n",
      "The average error rate(category 0) is 0.0947067070586\n",
      "The average error rate(category 1) is 0.118226649127\n",
      "The average MSE of the model is 0.107142857143\n"
     ]
    }
   ],
   "source": [
    "k_ind = int(0)\n",
    "for train_index, test_index in kf.split(Xvals):\n",
    "    # print(\"TRAIN:\", train_index, \"TEST:\", test_index)\n",
    "    print('If k index=', k_ind + 1)\n",
    "    X_train, X_test = Xvals[train_index], Xvals[test_index]\n",
    "    y_train, y_test = yvals[train_index], yvals[test_index]\n",
    "    LogReg = LogisticRegression(fit_intercept=True)\n",
    "    LogReg.fit(X_train, y_train)\n",
    "    y_pred = LogReg.predict(X_test)\n",
    "    err = y_test != y_pred\n",
    "    Logit_MSE_VEC[k_ind] = err.mean()\n",
    "    Logit_err_0[k_ind] = ((y_pred == 0) * err).sum() / (y_pred == 0).sum() \n",
    "    Logit_err_1[k_ind] = ((y_pred == 1) * err).sum() / (y_pred == 1).sum() \n",
    "    print(classification_report(y_test, y_pred))\n",
    "    print('The error rate(category 0) is', Logit_err_0[k_ind])\n",
    "    print('The error rate(category 1) is', Logit_err_1[k_ind])\n",
    "    print('The MSE is', Logit_MSE_VEC[k_ind])\n",
    "    k_ind += 1\n",
    "print('\\n k-Fold Reults:')\n",
    "print('The average error rate(category 0) is', Logit_err_0.mean())\n",
    "print('The average error rate(category 1) is', Logit_err_1.mean())\n",
    "print('The average MSE of the model is', Logit_MSE_VEC.mean())"
   ]
  },
  {
   "cell_type": "code",
   "execution_count": 6,
   "metadata": {},
   "outputs": [
    {
     "data": {
      "text/plain": [
       "RandomForestClassifier(bootstrap=True, class_weight=None, criterion='gini',\n",
       "            max_depth=None, max_features=2, max_leaf_nodes=None,\n",
       "            min_impurity_decrease=0.0, min_impurity_split=None,\n",
       "            min_samples_leaf=1, min_samples_split=2,\n",
       "            min_weight_fraction_leaf=0.0, n_estimators=20, n_jobs=1,\n",
       "            oob_score=True, random_state=25, verbose=0, warm_start=False)"
      ]
     },
     "execution_count": 6,
     "metadata": {},
     "output_type": "execute_result"
    }
   ],
   "source": [
    "from sklearn.ensemble import RandomForestClassifier\n",
    "Xvals = auto[['cylinders','displacement','horsepower','weight','acceleration','year','origin']].values\n",
    "rf = RandomForestClassifier(n_estimators=20, max_features=2, bootstrap=True,\n",
    "                           oob_score=True, random_state=25)\n",
    "rf.fit(Xvals, yvals)"
   ]
  },
  {
   "cell_type": "code",
   "execution_count": 7,
   "metadata": {},
   "outputs": [
    {
     "name": "stdout",
     "output_type": "stream",
     "text": [
      "The MSE of the random forest model is: 0.0714285714286\n",
      "The MSE of the mpg_high = 0 is: 0.0578947368421\n",
      "The MSE of the mpg_high = 1 is: 0.0841584158416\n"
     ]
    }
   ],
   "source": [
    "rf_pred = rf.oob_decision_function_\n",
    "MSE_rf = pd.DataFrame({'ypred' : rf_pred.T[1], 'yvals': yvals})\n",
    "MSE_rf['ypred'] = MSE_rf['ypred'].apply(lambda x: 1 if x >= 0.5 else 0)\n",
    "MSE_model = mean_squared_error(MSE_rf['yvals'], MSE_rf['ypred'])\n",
    "print('The MSE of the random forest model is:',MSE_model)\n",
    "MSE_rf_0 = MSE_rf[MSE_rf['ypred'] < 0.5]\n",
    "MSE_0 = mean_squared_error(MSE_rf_0['yvals'], MSE_rf_0['ypred'])\n",
    "print('The MSE of the mpg_high = 0 is:',MSE_0)\n",
    "MSE_rf_1 = MSE_rf[MSE_rf['ypred'] >= 0.5]\n",
    "MSE_1 = mean_squared_error(MSE_rf_1['yvals'], MSE_rf_1['ypred'])\n",
    "print('The MSE of the mpg_high = 1 is:',MSE_1)"
   ]
  },
  {
   "cell_type": "code",
   "execution_count": 8,
   "metadata": {},
   "outputs": [
    {
     "name": "stdout",
     "output_type": "stream",
     "text": [
      "k index= 0\n",
      "MSE for test set 0  is 0.540816326531\n",
      "Error rate (low, 0):  0.0\n",
      "Error rate (high, 1):  0.552083333333\n",
      "\n",
      "              precision    recall  f1-score   support\n",
      "\n",
      "          0      1.000     0.036     0.070        55\n",
      "          1      0.448     1.000     0.619        43\n",
      "\n",
      "avg / total      0.758     0.459     0.311        98\n",
      "\n",
      "k index= 1\n",
      "MSE for test set 1  is 0.520408163265\n",
      "Error rate (low, 0):  0.520408163265\n",
      "Error rate (high, 1):  nan\n",
      "\n",
      "              precision    recall  f1-score   support\n",
      "\n",
      "          0      0.480     1.000     0.648        47\n",
      "          1      0.000     0.000     0.000        51\n",
      "\n",
      "avg / total      0.230     0.480     0.311        98\n",
      "\n",
      "k index= 2\n",
      "MSE for test set 2  is 0.520408163265\n",
      "Error rate (low, 0):  0.53125\n",
      "Error rate (high, 1): "
     ]
    },
    {
     "name": "stderr",
     "output_type": "stream",
     "text": [
      "C:\\Users\\GamaD\\Anaconda3\\lib\\site-packages\\ipykernel_launcher.py:18: RuntimeWarning: invalid value encountered in longlong_scalars\n",
      "C:\\Users\\GamaD\\Anaconda3\\lib\\site-packages\\sklearn\\metrics\\classification.py:1135: UndefinedMetricWarning: Precision and F-score are ill-defined and being set to 0.0 in labels with no predicted samples.\n",
      "  'precision', 'predicted', average, warn_for)\n"
     ]
    },
    {
     "name": "stdout",
     "output_type": "stream",
     "text": [
      " 0.0\n",
      "\n",
      "              precision    recall  f1-score   support\n",
      "\n",
      "          0      0.469     1.000     0.638        45\n",
      "          1      1.000     0.038     0.073        53\n",
      "\n",
      "avg / total      0.756     0.480     0.332        98\n",
      "\n",
      "k index= 3\n",
      "MSE for test set 3  is 0.448979591837\n",
      "Error rate (low, 0):  0.47311827957\n",
      "Error rate (high, 1):  0.0\n",
      "\n",
      "              precision    recall  f1-score   support\n",
      "\n",
      "          0      0.527     1.000     0.690        49\n",
      "          1      1.000     0.102     0.185        49\n",
      "\n",
      "avg / total      0.763     0.551     0.438        98\n",
      "\n",
      "\n",
      "test estimate MSE k-fold= 0.507653061224\n",
      "The average error rate of mpg_high = 0 is 0.381194110709\n",
      "The average error rate of mpg_high = 1 is 0.184027777778\n"
     ]
    }
   ],
   "source": [
    "# c). \n",
    "from sklearn.svm import SVC\n",
    "error_0 = np.zeros(k)\n",
    "error_1 = np.zeros(k)\n",
    "MSE_vec_kf = np.zeros(k)\n",
    "k_ind = int(0)\n",
    "for train_index, test_index in kf.split(Xvals):\n",
    "    # print(\"TRAIN:\", train_index, \"TEST:\", test_index)\n",
    "    print('k index=', k_ind)\n",
    "    X_train, X_test = Xvals[train_index], Xvals[test_index]\n",
    "    y_train, y_test = yvals[train_index], yvals[test_index]\n",
    "    svc = SVC(kernel='rbf', gamma = 0.2, C=1)\n",
    "    svc.fit(X_train, y_train)\n",
    "    y_pred = svc.predict(X_test)\n",
    "    MSE_vec_kf[k_ind] = ((y_test - y_pred) ** 2).mean()\n",
    "    e_0 = ((y_pred==0)*(np.abs(y_test-y_pred))).sum() / (y_pred==0).sum()\n",
    "    error_0[k_ind] = (e_0)\n",
    "    e_1 = ((y_pred==1)*(np.abs(y_test-y_pred))).sum() / (y_pred==1).sum()\n",
    "    error_1[k_ind] = (e_1)\n",
    "    print('MSE for test set', k_ind, ' is', MSE_vec_kf[k_ind])\n",
    "    print('Error rate (low, 0): ', e_0)\n",
    "    print('Error rate (high, 1): ', e_1)\n",
    "    print('\\n',classification_report(y_test, y_pred, digits=3))\n",
    "    k_ind += 1\n",
    "\n",
    "MSE_kf = MSE_vec_kf.mean()\n",
    "MSE_kf_std = MSE_vec_kf.std()\n",
    "print()\n",
    "print('test estimate MSE k-fold=', MSE_kf)\n",
    "\n",
    "error_0 = error_0[~np.isnan(error_0)]\n",
    "error_1 = error_1[~np.isnan(error_1)]\n",
    "print('The average error rate of mpg_high = 0 is', error_0.mean())\n",
    "print('The average error rate of mpg_high = 1 is', error_1.mean())"
   ]
  },
  {
   "cell_type": "markdown",
   "metadata": {
    "collapsed": true
   },
   "source": [
    "Based on the above results it is clear that the the random forest is the best model. This is because the error rates \n",
    "for this model are the lowest. The MSE is also lowest on this model. The SVM is the least accurate of the three and the \n",
    "logistic regression model is the next best after the random forest. Notice that MSE on the SVM is approximately 0.507 while on the logit model it is about 0.107 and on the random forest it is roughly 0.071. This trend also continues in errorrates in which the random forest has the lowest high and low mpg error rates.\n"
   ]
  }
 ],
 "metadata": {
  "kernelspec": {
   "display_name": "Python 3",
   "language": "python",
   "name": "python3"
  },
  "language_info": {
   "codemirror_mode": {
    "name": "ipython",
    "version": 3
   },
   "file_extension": ".py",
   "mimetype": "text/x-python",
   "name": "python",
   "nbconvert_exporter": "python",
   "pygments_lexer": "ipython3",
   "version": "3.6.3"
  }
 },
 "nbformat": 4,
 "nbformat_minor": 2
}
