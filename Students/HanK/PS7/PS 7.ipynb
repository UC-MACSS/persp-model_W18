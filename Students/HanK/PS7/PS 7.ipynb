{
 "cells": [
  {
   "cell_type": "code",
   "execution_count": 28,
   "metadata": {},
   "outputs": [],
   "source": [
    "import numpy as np\n",
    "import pandas as pd\n",
    "\n",
    "import sklearn\n",
    "from sklearn import preprocessing\n",
    "from sklearn.linear_model import LogisticRegression\n",
    "from sklearn.cross_validation import train_test_split\n",
    "from pylab import rcParams\n",
    "import warnings\n",
    "import matplotlib.pyplot as plt\n",
    "import seaborn as sb\n",
    "import sklearn\n",
    "from sklearn.cross_validation import train_test_split\n",
    "from sklearn import metrics \n",
    "from sklearn.metrics import classification_report, confusion_matrix\n",
    "from sklearn.model_selection import LeaveOneOut, KFold\n",
    "from sklearn.ensemble import RandomForestRegressor\n",
    "from sklearn.metrics import mean_squared_error\n",
    "from sklearn import svm\n",
    "\n",
    "warnings.filterwarnings(\"ignore\") \n",
    "%matplotlib inline"
   ]
  },
  {
   "cell_type": "code",
   "execution_count": 29,
   "metadata": {},
   "outputs": [
    {
     "data": {
      "text/plain": [
       "mpg             0\n",
       "cylinders       0\n",
       "displacement    0\n",
       "horsepower      5\n",
       "weight          0\n",
       "acceleration    0\n",
       "year            0\n",
       "origin          0\n",
       "name            0\n",
       "dtype: int64"
      ]
     },
     "execution_count": 29,
     "metadata": {},
     "output_type": "execute_result"
    }
   ],
   "source": [
    "auto = pd.read_csv('Auto.csv', na_values='?')\n",
    "auto.isnull().sum()"
   ]
  },
  {
   "cell_type": "code",
   "execution_count": 30,
   "metadata": {},
   "outputs": [
    {
     "data": {
      "text/plain": [
       "mpg             0\n",
       "cylinders       0\n",
       "displacement    0\n",
       "horsepower      0\n",
       "weight          0\n",
       "acceleration    0\n",
       "year            0\n",
       "origin          0\n",
       "name            0\n",
       "dtype: int64"
      ]
     },
     "execution_count": 30,
     "metadata": {},
     "output_type": "execute_result"
    }
   ],
   "source": [
    "auto = auto.dropna()\n",
    "auto.isnull().sum()"
   ]
  },
  {
   "cell_type": "code",
   "execution_count": 31,
   "metadata": {},
   "outputs": [
    {
     "data": {
      "text/plain": [
       "392"
      ]
     },
     "execution_count": 31,
     "metadata": {},
     "output_type": "execute_result"
    }
   ],
   "source": [
    "auto.shape[0]"
   ]
  },
  {
   "cell_type": "code",
   "execution_count": 32,
   "metadata": {},
   "outputs": [],
   "source": [
    "auto = auto.drop(['name'], 1)\n",
    "auto['horsepower'] = auto['horsepower'].convert_objects(convert_numeric = True)"
   ]
  },
  {
   "cell_type": "code",
   "execution_count": 33,
   "metadata": {},
   "outputs": [],
   "source": [
    "auto['mpg_high'] = auto['mpg'].apply(lambda x: 1 if x >= auto['mpg'].median() else 0).astype('category')"
   ]
  },
  {
   "cell_type": "code",
   "execution_count": 47,
   "metadata": {},
   "outputs": [],
   "source": [
    "Xvars = auto[['cylinders', 'displacement', 'horsepower', 'weight',\n",
    "              'acceleration', 'year', 'origin']].values\n",
    "yvals = auto['mpg_high'].values"
   ]
  },
  {
   "cell_type": "code",
   "execution_count": 35,
   "metadata": {
    "scrolled": false
   },
   "outputs": [
    {
     "name": "stdout",
     "output_type": "stream",
     "text": [
      "When k index= 0\n",
      "\n",
      "              precision    recall  f1-score   support\n",
      "\n",
      "          0      0.942     0.891     0.916        55\n",
      "          1      0.870     0.930     0.899        43\n",
      "\n",
      "avg / total      0.910     0.908     0.908        98\n",
      "\n",
      "error rate (class 0) is 0.057692307692307696 , error rate (class 1) is 0.13043478260869565\n",
      "MSE (for all classes) is 0.09183673469387756\n",
      "The stds are respectively 0.2354354778987093 , 0.3405026123034997 , 0.29028015951453634 \n",
      "\n",
      "When k index= 1\n",
      "\n",
      "              precision    recall  f1-score   support\n",
      "\n",
      "          0      0.878     0.915     0.896        47\n",
      "          1      0.918     0.882     0.900        51\n",
      "\n",
      "avg / total      0.899     0.898     0.898        98\n",
      "\n",
      "error rate (class 0) is 0.12244897959183673 , error rate (class 1) is 0.08163265306122448\n",
      "MSE (for all classes) is 0.10204081632653061\n",
      "The stds are respectively 0.331200660553418 , 0.27664166758624387 , 0.30425829769936363 \n",
      "\n",
      "When k index= 2\n",
      "\n",
      "              precision    recall  f1-score   support\n",
      "\n",
      "          0      0.848     0.867     0.857        45\n",
      "          1      0.885     0.868     0.876        53\n",
      "\n",
      "avg / total      0.868     0.867     0.867        98\n",
      "\n",
      "error rate (class 0) is 0.15217391304347827 , error rate (class 1) is 0.11538461538461539\n",
      "MSE (for all classes) is 0.1326530612244898\n",
      "The stds are respectively 0.3631584474730204 , 0.32260253903223546 , 0.34094335781468876 \n",
      "\n",
      "When k index= 3\n",
      "\n",
      "              precision    recall  f1-score   support\n",
      "\n",
      "          0      0.953     0.837     0.891        49\n",
      "          1      0.855     0.959     0.904        49\n",
      "\n",
      "avg / total      0.904     0.898     0.898        98\n",
      "\n",
      "error rate (class 0) is 0.046511627906976744 , error rate (class 1) is 0.14545454545454545\n",
      "MSE (for all classes) is 0.10204081632653061\n",
      "The stds are respectively 0.21308263231644653 , 0.3558079911965532 , 0.3042582976993636 \n",
      "\n",
      "\n",
      "k-fold resuts:\n",
      "The average error rate (class 0) is 0.09470670705864986 , std is 0.044059462275132855\n",
      "The average error rate (class 1) is 0.11822664912727025 , std is 0.023651609698841367\n",
      "The average MSE (for all classes) is 0.10714285714285715 , std is 0.015306122448979593\n"
     ]
    }
   ],
   "source": [
    "k = 4\n",
    "kf = KFold(n_splits=k, random_state=15, shuffle=True)\n",
    "kf.get_n_splits(Xvars)\n",
    "General_error_0 = np.zeros(k)\n",
    "General_error_1 = np.zeros(k)\n",
    "General_MSE = np.zeros(k)\n",
    "\n",
    "k_ind = int(0)\n",
    "for train_index, test_index in kf.split(Xvars):\n",
    "    print('When k index=', k_ind)\n",
    "    X_train, X_test = Xvars[train_index], Xvars[test_index]\n",
    "    y_train, y_test = yvals[train_index], yvals[test_index]\n",
    "    LogReg = LogisticRegression(fit_intercept=True)\n",
    "    LogReg.fit(X_train, y_train)\n",
    "    y_pred = LogReg.predict(X_test)\n",
    "    MSE = pd.DataFrame({'error': (y_test != y_pred).astype(int), \n",
    "                        'y_pred': y_pred})\n",
    "    error_0 = MSE[MSE['y_pred'] == 0]['error'].mean()\n",
    "    error_1 = MSE[MSE['y_pred'] == 1]['error'].mean()\n",
    "    error_all_class = MSE['error'].mean()\n",
    "    General_error_0[k_ind] = error_0\n",
    "    General_error_1[k_ind] = error_1\n",
    "    General_MSE[k_ind] = error_all_class\n",
    "    print('\\n',classification_report(y_test, y_pred, digits=3))\n",
    "    print('error rate (class 0) is', error_0,\n",
    "          ', error rate (class 1) is', error_1)\n",
    "    print('MSE (for all classes) is', error_all_class)\n",
    "    print('The stds are respectively', MSE[MSE['y_pred'] == 0]['error'].std(),\n",
    "          ',', MSE[MSE['y_pred'] == 1]['error'].std(),\n",
    "          ',', MSE['error'].std(),'\\n')    \n",
    "    k_ind += 1\n",
    "\n",
    "\n",
    "print('\\nk-fold resuts:')\n",
    "print('The average error rate (class 0) is', General_error_0.mean(), ', std is', General_error_0.std())\n",
    "print('The average error rate (class 1) is', General_error_1.mean(), ', std is', General_error_1.std())\n",
    "print('The average MSE (for all classes) is', General_MSE.mean(), ', std is', General_MSE.std())"
   ]
  },
  {
   "cell_type": "code",
   "execution_count": 36,
   "metadata": {},
   "outputs": [],
   "source": [
    "RF = RandomForestRegressor(n_estimators=20, max_features=2, bootstrap=True,\n",
    "                           oob_score=True, random_state=25)\n",
    "\n",
    "RF.fit(Xvars, yvals)\n",
    "RF_pred = RF.oob_prediction_\n",
    "MSE_RF = pd.DataFrame({'pred' : RF_pred, 'yvals': yvals})"
   ]
  },
  {
   "cell_type": "code",
   "execution_count": 37,
   "metadata": {},
   "outputs": [
    {
     "data": {
      "text/plain": [
       "array([0.        , 0.        , 0.        , 0.        , 0.        ,\n",
       "       0.        , 0.        , 0.        , 0.        , 0.        ,\n",
       "       0.        , 0.        , 0.        , 0.        , 0.875     ,\n",
       "       0.5       , 0.09090909, 0.27272727, 1.        , 1.        ])"
      ]
     },
     "execution_count": 37,
     "metadata": {},
     "output_type": "execute_result"
    }
   ],
   "source": [
    "RF_pred[:20]"
   ]
  },
  {
   "cell_type": "markdown",
   "metadata": {},
   "source": [
    "It is worth noting that some oob prediction values are not integer since the random forest function in python can not identify the response is categorical or continuous. Therefore, we have to manually transform them. The values which is bigger than 0.5 are regarded as 1, otherwise 0."
   ]
  },
  {
   "cell_type": "code",
   "execution_count": 38,
   "metadata": {},
   "outputs": [],
   "source": [
    "MSE_RF['pred'] = MSE_RF['pred'].apply(lambda x: 1 if x >= 0.5 else 0)"
   ]
  },
  {
   "cell_type": "code",
   "execution_count": 39,
   "metadata": {},
   "outputs": [
    {
     "data": {
      "text/plain": [
       "0.07142857142857142"
      ]
     },
     "execution_count": 39,
     "metadata": {},
     "output_type": "execute_result"
    }
   ],
   "source": [
    "MSE_all = mean_squared_error(MSE_RF['yvals'], MSE_RF['pred'])\n",
    "MSE_all"
   ]
  },
  {
   "cell_type": "code",
   "execution_count": 40,
   "metadata": {},
   "outputs": [
    {
     "data": {
      "text/plain": [
       "0.05789473684210526"
      ]
     },
     "execution_count": 40,
     "metadata": {},
     "output_type": "execute_result"
    }
   ],
   "source": [
    "MSE_RF_0 = MSE_RF[MSE_RF['pred'] < 0.5]\n",
    "MSE_0 = mean_squared_error(MSE_RF_0['yvals'], MSE_RF_0['pred'])\n",
    "MSE_0"
   ]
  },
  {
   "cell_type": "code",
   "execution_count": 41,
   "metadata": {},
   "outputs": [
    {
     "data": {
      "text/plain": [
       "0.08415841584158416"
      ]
     },
     "execution_count": 41,
     "metadata": {},
     "output_type": "execute_result"
    }
   ],
   "source": [
    "MSE_RF_1 = MSE_RF[MSE_RF['pred'] >= 0.5]\n",
    "MSE_1 = mean_squared_error(MSE_RF_1['yvals'], MSE_RF_1['pred'])\n",
    "MSE_1"
   ]
  },
  {
   "cell_type": "code",
   "execution_count": 42,
   "metadata": {},
   "outputs": [
    {
     "name": "stdout",
     "output_type": "stream",
     "text": [
      "When k index= 0\n",
      "\n",
      "              precision    recall  f1-score   support\n",
      "\n",
      "          0      1.000     0.036     0.070        55\n",
      "          1      0.448     1.000     0.619        43\n",
      "\n",
      "avg / total      0.758     0.459     0.311        98\n",
      "\n",
      "error rate (class 0) is 0.0 , error rate (class 1) is 0.5520833333333334\n",
      "MSE (for all classes) is 0.5408163265306123\n",
      "The stds are respectively 0.0 , 0.49989033885162537 , 0.5008933739847541 \n",
      "\n",
      "When k index= 1\n",
      "\n",
      "              precision    recall  f1-score   support\n",
      "\n",
      "          0      0.480     1.000     0.648        47\n",
      "          1      0.000     0.000     0.000        51\n",
      "\n",
      "avg / total      0.230     0.480     0.311        98\n",
      "\n",
      "error rate (class 0) is 0.5204081632653061 , error rate (class 1) is nan\n",
      "MSE (for all classes) is 0.5204081632653061\n",
      "The stds are respectively 0.502151902033816 , nan , 0.502151902033816 \n",
      "\n",
      "When k index= 2\n",
      "\n",
      "              precision    recall  f1-score   support\n",
      "\n",
      "          0      0.469     1.000     0.638        45\n",
      "          1      1.000     0.038     0.073        53\n",
      "\n",
      "avg / total      0.756     0.480     0.332        98\n",
      "\n",
      "error rate (class 0) is 0.53125 , error rate (class 1) is 0.0\n",
      "MSE (for all classes) is 0.5204081632653061\n",
      "The stds are respectively 0.501642040544954 , 0.0 , 0.5021519020338159 \n",
      "\n",
      "When k index= 3\n",
      "\n",
      "              precision    recall  f1-score   support\n",
      "\n",
      "          0      0.527     1.000     0.690        49\n",
      "          1      1.000     0.102     0.185        49\n",
      "\n",
      "avg / total      0.763     0.551     0.438        98\n",
      "\n",
      "error rate (class 0) is 0.4731182795698925 , error rate (class 1) is 0.0\n",
      "MSE (for all classes) is 0.4489795918367347\n",
      "The stds are respectively 0.5019829775708744 , 0.0 , 0.4999473988741905 \n",
      "\n",
      "\n",
      "k-fold resuts:\n",
      "The average error rate (class 0) is 0.38119411070879966 , std is 0.22116528050309686\n",
      "The average error rate (class 1) is nan , std is nan\n",
      "The average MSE (for all classes) is 0.5076530612244898 , std is 0.03488467941626875\n"
     ]
    }
   ],
   "source": [
    "k = 4\n",
    "kf = KFold(n_splits=k, random_state=15, shuffle=True)\n",
    "kf.get_n_splits(Xvars)\n",
    "General_error_0 = np.zeros(k)\n",
    "General_error_1 = np.zeros(k)\n",
    "General_MSE = np.zeros(k)\n",
    "\n",
    "k_ind = int(0)\n",
    "for train_index, test_index in kf.split(Xvars):\n",
    "    print('When k index=', k_ind)\n",
    "    X_train, X_test = Xvars[train_index], Xvars[test_index]\n",
    "    y_train, y_test = yvals[train_index], yvals[test_index]\n",
    "    svc = svm.SVC(kernel='rbf', gamma = 0.2, C=1)\n",
    "    svc.fit(X_train, y_train)\n",
    "    y_pred = svc.predict(X_test)\n",
    "    MSE = pd.DataFrame({'error': (y_test != y_pred).astype(int), \n",
    "                        'y_pred': y_pred})\n",
    "    error_0 = MSE[MSE['y_pred'] == 0]['error'].mean()\n",
    "    error_1 = MSE[MSE['y_pred'] == 1]['error'].mean()\n",
    "    error_all_class = MSE['error'].mean()\n",
    "    General_error_0[k_ind] = error_0\n",
    "    General_error_1[k_ind] = error_1\n",
    "    General_MSE[k_ind] = error_all_class\n",
    "    print('\\n',classification_report(y_test, y_pred, digits=3))\n",
    "    print('error rate (class 0) is', error_0,\n",
    "          ', error rate (class 1) is', error_1)\n",
    "    print('MSE (for all classes) is', error_all_class)\n",
    "    print('The stds are respectively', MSE[MSE['y_pred'] == 0]['error'].std(),\n",
    "          ',', MSE[MSE['y_pred'] == 1]['error'].std(),\n",
    "          ',', MSE['error'].std(),'\\n')    \n",
    "    k_ind += 1\n",
    "\n",
    "\n",
    "print('\\nk-fold resuts:')\n",
    "print('The average error rate (class 0) is', General_error_0.mean(), ', std is', General_error_0.std())\n",
    "print('The average error rate (class 1) is', General_error_1.mean(), ', std is', General_error_1.std())\n",
    "print('The average MSE (for all classes) is', General_MSE.mean(), ', std is', General_MSE.std())"
   ]
  }
 ],
 "metadata": {
  "kernelspec": {
   "display_name": "Python 3",
   "language": "python",
   "name": "python3"
  },
  "language_info": {
   "codemirror_mode": {
    "name": "ipython",
    "version": 3
   },
   "file_extension": ".py",
   "mimetype": "text/x-python",
   "name": "python",
   "nbconvert_exporter": "python",
   "pygments_lexer": "ipython3",
   "version": "3.6.3"
  }
 },
 "nbformat": 4,
 "nbformat_minor": 2
}
