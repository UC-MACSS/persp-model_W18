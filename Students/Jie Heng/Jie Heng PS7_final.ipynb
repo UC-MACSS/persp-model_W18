{
 "cells": [
  {
   "cell_type": "markdown",
   "metadata": {},
   "source": [
    "# PS7\n",
    "\n",
    "MACS 30100 Dr. Evens\n",
    "\n",
    "Jie Heng"
   ]
  },
  {
   "cell_type": "code",
   "execution_count": 1,
   "metadata": {},
   "outputs": [
    {
     "data": {
      "text/plain": [
       "mpg             0\n",
       "cylinders       0\n",
       "displacement    0\n",
       "horsepower      0\n",
       "weight          0\n",
       "acceleration    0\n",
       "year            0\n",
       "origin          0\n",
       "name            0\n",
       "dtype: int64"
      ]
     },
     "execution_count": 1,
     "metadata": {},
     "output_type": "execute_result"
    }
   ],
   "source": [
    "from sklearn.linear_model import LogisticRegression\n",
    "from sklearn.model_selection import KFold\n",
    "from sklearn.metrics import classification_report\n",
    "from sklearn.ensemble import RandomForestClassifier\n",
    "from sklearn import svm\n",
    "import pandas as pd\n",
    "import numpy as np\n",
    "\n",
    "auto = pd.read_csv('Auto.csv', na_values='?')\n",
    "auto = auto.dropna()\n",
    "auto.isna().sum()"
   ]
  },
  {
   "cell_type": "markdown",
   "metadata": {},
   "source": [
    "## Problem 1 Classiﬁer “horse” race "
   ]
  },
  {
   "cell_type": "markdown",
   "metadata": {},
   "source": [
    "### (a)   Use sklearn.linear model.LogisticRegression to ﬁt a logistic model of mpg high on features number of cylinders (cyl), engine displacement (dspl), horsepower (hpwr), vehicle weight (wgt), acceleration (accl), vehicle year (yr), vehicle origin (orgn). Make sure to include a constant term. Fit the model using k-fold cross validation with k = 4 folds. Report the MSE of the model as the average MSE across the k = 4 test sets, and report the error rates for each category of mpg high as the average error rate for that category across the k = 4 test sets."
   ]
  },
  {
   "cell_type": "code",
   "execution_count": 2,
   "metadata": {},
   "outputs": [
    {
     "data": {
      "text/html": [
       "<div>\n",
       "<style scoped>\n",
       "    .dataframe tbody tr th:only-of-type {\n",
       "        vertical-align: middle;\n",
       "    }\n",
       "\n",
       "    .dataframe tbody tr th {\n",
       "        vertical-align: top;\n",
       "    }\n",
       "\n",
       "    .dataframe thead th {\n",
       "        text-align: right;\n",
       "    }\n",
       "</style>\n",
       "<table border=\"1\" class=\"dataframe\">\n",
       "  <thead>\n",
       "    <tr style=\"text-align: right;\">\n",
       "      <th></th>\n",
       "      <th>mpg</th>\n",
       "      <th>cylinders</th>\n",
       "      <th>displacement</th>\n",
       "      <th>horsepower</th>\n",
       "      <th>weight</th>\n",
       "      <th>acceleration</th>\n",
       "      <th>year</th>\n",
       "      <th>origin</th>\n",
       "      <th>mpg_high</th>\n",
       "    </tr>\n",
       "  </thead>\n",
       "  <tbody>\n",
       "    <tr>\n",
       "      <th>0</th>\n",
       "      <td>18.0</td>\n",
       "      <td>8</td>\n",
       "      <td>307.0</td>\n",
       "      <td>130.0</td>\n",
       "      <td>3504</td>\n",
       "      <td>12.0</td>\n",
       "      <td>70</td>\n",
       "      <td>1</td>\n",
       "      <td>0</td>\n",
       "    </tr>\n",
       "    <tr>\n",
       "      <th>1</th>\n",
       "      <td>15.0</td>\n",
       "      <td>8</td>\n",
       "      <td>350.0</td>\n",
       "      <td>165.0</td>\n",
       "      <td>3693</td>\n",
       "      <td>11.5</td>\n",
       "      <td>70</td>\n",
       "      <td>1</td>\n",
       "      <td>0</td>\n",
       "    </tr>\n",
       "    <tr>\n",
       "      <th>2</th>\n",
       "      <td>18.0</td>\n",
       "      <td>8</td>\n",
       "      <td>318.0</td>\n",
       "      <td>150.0</td>\n",
       "      <td>3436</td>\n",
       "      <td>11.0</td>\n",
       "      <td>70</td>\n",
       "      <td>1</td>\n",
       "      <td>0</td>\n",
       "    </tr>\n",
       "    <tr>\n",
       "      <th>3</th>\n",
       "      <td>16.0</td>\n",
       "      <td>8</td>\n",
       "      <td>304.0</td>\n",
       "      <td>150.0</td>\n",
       "      <td>3433</td>\n",
       "      <td>12.0</td>\n",
       "      <td>70</td>\n",
       "      <td>1</td>\n",
       "      <td>0</td>\n",
       "    </tr>\n",
       "    <tr>\n",
       "      <th>4</th>\n",
       "      <td>17.0</td>\n",
       "      <td>8</td>\n",
       "      <td>302.0</td>\n",
       "      <td>140.0</td>\n",
       "      <td>3449</td>\n",
       "      <td>10.5</td>\n",
       "      <td>70</td>\n",
       "      <td>1</td>\n",
       "      <td>0</td>\n",
       "    </tr>\n",
       "  </tbody>\n",
       "</table>\n",
       "</div>"
      ],
      "text/plain": [
       "    mpg  cylinders  displacement  horsepower  weight  acceleration  year  \\\n",
       "0  18.0          8         307.0       130.0    3504          12.0    70   \n",
       "1  15.0          8         350.0       165.0    3693          11.5    70   \n",
       "2  18.0          8         318.0       150.0    3436          11.0    70   \n",
       "3  16.0          8         304.0       150.0    3433          12.0    70   \n",
       "4  17.0          8         302.0       140.0    3449          10.5    70   \n",
       "\n",
       "   origin  mpg_high  \n",
       "0       1         0  \n",
       "1       1         0  \n",
       "2       1         0  \n",
       "3       1         0  \n",
       "4       1         0  "
      ]
     },
     "execution_count": 2,
     "metadata": {},
     "output_type": "execute_result"
    }
   ],
   "source": [
    "auto = auto.drop(columns = [\"name\"])\n",
    "cutoff = auto[\"mpg\"].median()\n",
    "\n",
    "def cut(col):\n",
    "    mpg = col\n",
    "    if mpg >= cutoff:\n",
    "        return 1\n",
    "    else:\n",
    "        return 0\n",
    "    \n",
    "auto[\"mpg_high\"] = auto[\"mpg\"].apply(cut)\n",
    "auto.head()"
   ]
  },
  {
   "cell_type": "code",
   "execution_count": 3,
   "metadata": {},
   "outputs": [],
   "source": [
    "Xvars = auto[['cylinders', 'displacement', 'horsepower', 'weight', 'acceleration', 'year', 'origin']].values\n",
    "yvals = auto['mpg_high'].values"
   ]
  },
  {
   "cell_type": "code",
   "execution_count": 4,
   "metadata": {},
   "outputs": [
    {
     "name": "stdout",
     "output_type": "stream",
     "text": [
      "When k index= 0 :\n",
      "\n",
      "             precision    recall  f1-score   support\n",
      "\n",
      "          0      0.942     0.891     0.916        55\n",
      "          1      0.870     0.930     0.899        43\n",
      "\n",
      "avg / total      0.910     0.908     0.908        98\n",
      "\n",
      "\n",
      "Error rate for category 0 is 0.057692307692307696\n",
      "Error rate for category 1 is 0.13043478260869565\n",
      "The MSE of the model is 0.09183673469387756\n",
      "\n",
      "When k index= 1 :\n",
      "\n",
      "             precision    recall  f1-score   support\n",
      "\n",
      "          0      0.878     0.915     0.896        47\n",
      "          1      0.918     0.882     0.900        51\n",
      "\n",
      "avg / total      0.899     0.898     0.898        98\n",
      "\n",
      "\n",
      "Error rate for category 0 is 0.12244897959183673\n",
      "Error rate for category 1 is 0.08163265306122448\n",
      "The MSE of the model is 0.10204081632653061\n",
      "\n",
      "When k index= 2 :\n",
      "\n",
      "             precision    recall  f1-score   support\n",
      "\n",
      "          0      0.848     0.867     0.857        45\n",
      "          1      0.885     0.868     0.876        53\n",
      "\n",
      "avg / total      0.868     0.867     0.867        98\n",
      "\n",
      "\n",
      "Error rate for category 0 is 0.15217391304347827\n",
      "Error rate for category 1 is 0.11538461538461539\n",
      "The MSE of the model is 0.1326530612244898\n",
      "\n",
      "When k index= 3 :\n",
      "\n",
      "             precision    recall  f1-score   support\n",
      "\n",
      "          0      0.953     0.837     0.891        49\n",
      "          1      0.855     0.959     0.904        49\n",
      "\n",
      "avg / total      0.904     0.898     0.898        98\n",
      "\n",
      "\n",
      "Error rate for category 0 is 0.046511627906976744\n",
      "Error rate for category 1 is 0.14545454545454545\n",
      "The MSE of the model is 0.10204081632653061\n",
      "\n"
     ]
    }
   ],
   "source": [
    "k = 4\n",
    "kf = KFold(n_splits=k, random_state=15, shuffle=True)\n",
    "kf.get_n_splits(Xvars)\n",
    "Log_error_0 = np.zeros(k)\n",
    "Log_error_1 = np.zeros(k)\n",
    "Log_MSE = np.zeros(k)\n",
    "\n",
    "k_ind = int(0)\n",
    "for train_index, test_index in kf.split(Xvars):\n",
    "\n",
    "    X_train, X_test = Xvars[train_index], Xvars[test_index]\n",
    "    y_train, y_test = yvals[train_index], yvals[test_index]\n",
    "    LogReg = LogisticRegression(fit_intercept=True)\n",
    "    LogReg.fit(X_train, y_train)\n",
    "    y_pred = LogReg.predict(X_test)\n",
    "    error = y_test != y_pred\n",
    "    error_all = error.mean()\n",
    "    error_0 = ((y_pred == 0) * error).sum() / (y_pred == 0).sum()\n",
    "    error_1 = ((y_pred == 1) * error).sum() / (y_pred == 1).sum() \n",
    "    Log_error_0[k_ind] = error_0\n",
    "    Log_error_1[k_ind] = error_1\n",
    "    Log_MSE[k_ind] = error_all\n",
    "    \n",
    "    print('When k index=', k_ind, ':')\n",
    "    print('')\n",
    "    print(classification_report(y_test, y_pred, digits=3))\n",
    "    print('')\n",
    "    print('Error rate for category 0 is', error_0)\n",
    "    print('Error rate for category 1 is', error_1)      \n",
    "    print('The MSE of the model is', error_all)\n",
    "    print('')\n",
    "    k_ind += 1"
   ]
  },
  {
   "cell_type": "code",
   "execution_count": 5,
   "metadata": {},
   "outputs": [
    {
     "name": "stdout",
     "output_type": "stream",
     "text": [
      "The average MSE across the k = 4 test sets is 0.10714285714285715\n",
      "The average error rate for category 0 is 0.09470670705864986\n",
      "The average error rate for category 1 is 0.11822664912727025\n"
     ]
    }
   ],
   "source": [
    "print(\"The average MSE across the k = 4 test sets is\", Log_MSE.mean())\n",
    "print(\"The average error rate for category 0 is\", Log_error_0 .mean())\n",
    "print(\"The average error rate for category 1 is\", Log_error_1.mean())"
   ]
  },
  {
   "cell_type": "markdown",
   "metadata": {},
   "source": [
    "### (b) Use sklearn.ensemble.RandomForestClassifier to ﬁt a random forest model of mpg high on max features=2 out of the seven possible features used in part (a). Set n estimators=20, set bootstrap=True, set oob score=True, and set random state=25. Report the MSE of the random forest model as the MSE from the .oob prediction object, and report the error rates for each category of mpg high from the .oob prediction object."
   ]
  },
  {
   "cell_type": "code",
   "execution_count": 6,
   "metadata": {},
   "outputs": [
    {
     "name": "stdout",
     "output_type": "stream",
     "text": [
      "             precision    recall  f1-score   support\n",
      "\n",
      "          0       0.94      0.91      0.93       196\n",
      "          1       0.92      0.94      0.93       196\n",
      "\n",
      "avg / total       0.93      0.93      0.93       392\n",
      "\n"
     ]
    }
   ],
   "source": [
    "RF = RandomForestClassifier(n_estimators=20, max_features=2, bootstrap=True,oob_score=True, random_state=25)\n",
    "RF.fit(Xvars, yvals)\n",
    "oob_prediction = RF.oob_decision_function_.T[1]\n",
    "MSE_RF = pd.DataFrame({'pred' : oob_prediction, 'yvals': yvals})\n",
    "MSE_RF['pred'] = MSE_RF['pred'].apply(lambda x: 1 if x >= 0.5 else 0)\n",
    "print(classification_report(MSE_RF['yvals'], MSE_RF['pred']))\n",
    "error = (MSE_RF['pred'] != MSE_RF['yvals']).apply(int)\n",
    "RF_err_0 = ((MSE_RF['pred'] == 0) * error).sum() / (MSE_RF['pred'] == 0).sum() \n",
    "RF_err_1 = ((MSE_RF['pred'] == 1) * error).sum() / (MSE_RF['pred'] == 1).sum() "
   ]
  },
  {
   "cell_type": "code",
   "execution_count": 7,
   "metadata": {},
   "outputs": [
    {
     "name": "stdout",
     "output_type": "stream",
     "text": [
      "The MSE of the random forest model  0.07142857142857142\n",
      "The error rate for category 0 is 0.05789473684210526\n",
      "The error rate for category 1 is 0.08415841584158416\n"
     ]
    }
   ],
   "source": [
    "print('The MSE of the random forest model ', error.mean())\n",
    "print('The error rate for category 0 is', RF_err_0.mean())\n",
    "print('The error rate for category 1 is', RF_err_1.mean())"
   ]
  },
  {
   "cell_type": "markdown",
   "metadata": {},
   "source": [
    "### (c) Use sklearn.svm.SVC to ﬁt a support vector machines model of mpg high with a Gaussian radial basis function kernel kernel=’rbf’ on the seven features used in part (a). Set the penalty parameter to C=1 and set gamma=0.2. Fit the model using k-fold cross validation with k = 4 folds exactly as in part (a). Report the MSE of the model as the average MSE across the k = 4 test sets, and report the error rates for each category of mpg high as the average error rate for that category across the k = 4 test sets. "
   ]
  },
  {
   "cell_type": "code",
   "execution_count": 8,
   "metadata": {},
   "outputs": [],
   "source": [
    "C = 1\n",
    "gamma = 0.2"
   ]
  },
  {
   "cell_type": "code",
   "execution_count": 9,
   "metadata": {},
   "outputs": [
    {
     "name": "stdout",
     "output_type": "stream",
     "text": [
      "When k index= 0 :\n",
      "\n",
      "             precision    recall  f1-score   support\n",
      "\n",
      "          0      1.000     0.036     0.070        55\n",
      "          1      0.448     1.000     0.619        43\n",
      "\n",
      "avg / total      0.758     0.459     0.311        98\n",
      "\n",
      "\n",
      "Error rate for category 0 is 0.0\n",
      "Error rate for category 1 is 0.5520833333333334\n",
      "The MSE of the model is 0.5408163265306123\n",
      "\n",
      "When k index= 1 :\n",
      "\n",
      "             precision    recall  f1-score   support\n",
      "\n",
      "          0      0.480     1.000     0.648        47\n",
      "          1      0.000     0.000     0.000        51\n",
      "\n",
      "avg / total      0.230     0.480     0.311        98\n",
      "\n",
      "\n",
      "Error rate for category 0 is 0.5204081632653061\n",
      "Error rate for category 1 is nan\n",
      "The MSE of the model is 0.5204081632653061\n",
      "\n",
      "When k index= 2 :\n",
      "\n",
      "             precision    recall  f1-score   support\n",
      "\n",
      "          0      0.469     1.000     0.638        45\n",
      "          1      1.000     0.038     0.073        53\n",
      "\n",
      "avg / total      0.756     0.480     0.332        98\n",
      "\n",
      "\n",
      "Error rate for category 0 is 0.53125\n",
      "Error rate for category 1 is 0.0\n",
      "The MSE of the model is 0.5204081632653061\n",
      "\n",
      "When k index= 3 :\n",
      "\n",
      "             precision    recall  f1-score   support\n",
      "\n",
      "          0      0.527     1.000     0.690        49\n",
      "          1      1.000     0.102     0.185        49\n",
      "\n",
      "avg / total      0.763     0.551     0.438        98\n",
      "\n",
      "\n",
      "Error rate for category 0 is 0.4731182795698925\n",
      "Error rate for category 1 is 0.0\n",
      "The MSE of the model is 0.4489795918367347\n",
      "\n"
     ]
    },
    {
     "name": "stderr",
     "output_type": "stream",
     "text": [
      "C:\\Users\\hengj\\Anaconda_3\\lib\\site-packages\\ipykernel_launcher.py:18: RuntimeWarning: invalid value encountered in long_scalars\n",
      "C:\\Users\\hengj\\Anaconda_3\\lib\\site-packages\\sklearn\\metrics\\classification.py:1135: UndefinedMetricWarning: Precision and F-score are ill-defined and being set to 0.0 in labels with no predicted samples.\n",
      "  'precision', 'predicted', average, warn_for)\n"
     ]
    }
   ],
   "source": [
    "k = 4\n",
    "kf = KFold(n_splits=k, random_state=15, shuffle=True)\n",
    "kf.get_n_splits(Xvars)\n",
    "SVMGeneral_error_0 = np.zeros(k)\n",
    "SVMGeneral_error_1 = np.zeros(k)\n",
    "SVMGeneral_MSE = np.zeros(k)\n",
    "k_ind = int(0)\n",
    "\n",
    "for train_index, test_index in kf.split(Xvars):\n",
    "    X_train, X_test = Xvars[train_index], Xvars[test_index]\n",
    "    y_train, y_test = yvals[train_index], yvals[test_index]\n",
    "    svc = svm.SVC(kernel='rbf', gamma=0.2, C=1)\n",
    "    svc.fit(X_train, y_train)\n",
    "    y_pred = svc.predict(X_test)\n",
    "    error = y_test != y_pred\n",
    "    error_all = error.mean()\n",
    "    error_0 = ((y_pred == 0) * error).sum() / (y_pred == 0).sum() \n",
    "    error_1 = ((y_pred == 1) * error).sum() / (y_pred == 1).sum()\n",
    "    SVMGeneral_error_0[k_ind] = error_0\n",
    "    SVMGeneral_error_1[k_ind] = error_1\n",
    "    SVMGeneral_MSE[k_ind] = error_all\n",
    "    print('When k index=', k_ind,':')\n",
    "    print('')\n",
    "    print(classification_report(y_test, y_pred, digits=3))\n",
    "    print('')\n",
    "    print('Error rate for category 0 is', error_0)\n",
    "    print('Error rate for category 1 is', error_1)      \n",
    "    print('The MSE of the model is', error_all)\n",
    "    print('')\n",
    "    k_ind += 1"
   ]
  },
  {
   "cell_type": "code",
   "execution_count": 10,
   "metadata": {},
   "outputs": [
    {
     "name": "stdout",
     "output_type": "stream",
     "text": [
      "The average MSE across the k = 4 test sets is 0.5076530612244898\n",
      "The average error rate for category 0 is 0.38119411070879966\n",
      "The average error rate for category 1 is 0.1840277777777778\n"
     ]
    }
   ],
   "source": [
    "SVMGeneral_error_1 = SVMGeneral_error_1[~np.isnan(SVMGeneral_error_1)]\n",
    "print(\"The average MSE across the k = 4 test sets is\", SVMGeneral_MSE.mean())\n",
    "print(\"The average error rate for category 0 is\", SVMGeneral_error_0.mean())\n",
    "print(\"The average error rate for category 1 is\", SVMGeneral_error_1.mean())"
   ]
  },
  {
   "cell_type": "markdown",
   "metadata": {},
   "source": [
    "### (d) Which of the above three models do you think is the best predictor of mpg high? Why?"
   ]
  },
  {
   "cell_type": "markdown",
   "metadata": {},
   "source": [
    "The Average MSE for logistic model is 0.1071, the average MSE for random forest model is 0.0714, and the average MSE for svc model is 0.5077. We can see that the randome forest model has the least amount of average MSE. For the error rates for each category of mpg high, the random forest model also has the smallest error rates. Thus, the random forest model is the best predictor of mpg_high."
   ]
  }
 ],
 "metadata": {
  "kernelspec": {
   "display_name": "Python 3",
   "language": "python",
   "name": "python3"
  },
  "language_info": {
   "codemirror_mode": {
    "name": "ipython",
    "version": 3
   },
   "file_extension": ".py",
   "mimetype": "text/x-python",
   "name": "python",
   "nbconvert_exporter": "python",
   "pygments_lexer": "ipython3",
   "version": "3.6.4"
  }
 },
 "nbformat": 4,
 "nbformat_minor": 2
}
