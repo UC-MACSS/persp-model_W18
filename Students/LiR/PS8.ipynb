{
 "cells": [
  {
   "cell_type": "markdown",
   "metadata": {},
   "source": [
    "## PS8\n",
    "### Li Ruixue"
   ]
  },
  {
   "cell_type": "markdown",
   "metadata": {},
   "source": [
    "#### (a) Create a scatterplot of the data where the x-variable is alcohol (alco) and the y-variable is color intensity (color int). Make the dot of each of the three possible cultivar types a di\u000b",
    "erent color. Make sure your plot has a legend."
   ]
  },
  {
   "cell_type": "code",
   "execution_count": 194,
   "metadata": {},
   "outputs": [],
   "source": [
    "import pandas as pd\n",
    "import seaborn as sns\n",
    "import matplotlib.pyplot as plt\n",
    "import numpy as np\n",
    "from sklearn import svm\n",
    "import sklearn\n",
    "from sklearn.linear_model import LogisticRegression\n",
    "from sklearn.cross_validation import train_test_split\n",
    "from sklearn.metrics import classification_report, mean_squared_error\n",
    "from sklearn.metrics import confusion_matrix\n",
    "from sklearn.model_selection import KFold\n",
    "from sklearn.neural_network import MLPClassifier\n",
    "from sklearn.ensemble import RandomForestClassifier\n",
    "\n",
    "\n",
    "%matplotlib inline\n"
   ]
  },
  {
   "cell_type": "code",
   "execution_count": 195,
   "metadata": {},
   "outputs": [],
   "source": [
    "df = pd.read_csv('../../ProblemSets/PS8/data/strongdrink.txt')"
   ]
  },
  {
   "cell_type": "code",
   "execution_count": 196,
   "metadata": {},
   "outputs": [
    {
     "data": {
      "text/html": [
       "<div>\n",
       "<style scoped>\n",
       "    .dataframe tbody tr th:only-of-type {\n",
       "        vertical-align: middle;\n",
       "    }\n",
       "\n",
       "    .dataframe tbody tr th {\n",
       "        vertical-align: top;\n",
       "    }\n",
       "\n",
       "    .dataframe thead th {\n",
       "        text-align: right;\n",
       "    }\n",
       "</style>\n",
       "<table border=\"1\" class=\"dataframe\">\n",
       "  <thead>\n",
       "    <tr style=\"text-align: right;\">\n",
       "      <th></th>\n",
       "      <th>cultivar</th>\n",
       "      <th>alco</th>\n",
       "      <th>malic</th>\n",
       "      <th>ash</th>\n",
       "      <th>alk</th>\n",
       "      <th>magn</th>\n",
       "      <th>tot_phen</th>\n",
       "      <th>flav</th>\n",
       "      <th>nonfl_phen</th>\n",
       "      <th>proanth</th>\n",
       "      <th>color_int</th>\n",
       "      <th>hue</th>\n",
       "      <th>OD280rat</th>\n",
       "      <th>proline</th>\n",
       "    </tr>\n",
       "  </thead>\n",
       "  <tbody>\n",
       "    <tr>\n",
       "      <th>0</th>\n",
       "      <td>1</td>\n",
       "      <td>14.23</td>\n",
       "      <td>1.71</td>\n",
       "      <td>2.43</td>\n",
       "      <td>15.6</td>\n",
       "      <td>127</td>\n",
       "      <td>2.80</td>\n",
       "      <td>3.06</td>\n",
       "      <td>0.28</td>\n",
       "      <td>2.29</td>\n",
       "      <td>5.64</td>\n",
       "      <td>1.04</td>\n",
       "      <td>3.92</td>\n",
       "      <td>1065</td>\n",
       "    </tr>\n",
       "    <tr>\n",
       "      <th>1</th>\n",
       "      <td>1</td>\n",
       "      <td>13.20</td>\n",
       "      <td>1.78</td>\n",
       "      <td>2.14</td>\n",
       "      <td>11.2</td>\n",
       "      <td>100</td>\n",
       "      <td>2.65</td>\n",
       "      <td>2.76</td>\n",
       "      <td>0.26</td>\n",
       "      <td>1.28</td>\n",
       "      <td>4.38</td>\n",
       "      <td>1.05</td>\n",
       "      <td>3.40</td>\n",
       "      <td>1050</td>\n",
       "    </tr>\n",
       "    <tr>\n",
       "      <th>2</th>\n",
       "      <td>1</td>\n",
       "      <td>13.16</td>\n",
       "      <td>2.36</td>\n",
       "      <td>2.67</td>\n",
       "      <td>18.6</td>\n",
       "      <td>101</td>\n",
       "      <td>2.80</td>\n",
       "      <td>3.24</td>\n",
       "      <td>0.30</td>\n",
       "      <td>2.81</td>\n",
       "      <td>5.68</td>\n",
       "      <td>1.03</td>\n",
       "      <td>3.17</td>\n",
       "      <td>1185</td>\n",
       "    </tr>\n",
       "    <tr>\n",
       "      <th>3</th>\n",
       "      <td>1</td>\n",
       "      <td>14.37</td>\n",
       "      <td>1.95</td>\n",
       "      <td>2.50</td>\n",
       "      <td>16.8</td>\n",
       "      <td>113</td>\n",
       "      <td>3.85</td>\n",
       "      <td>3.49</td>\n",
       "      <td>0.24</td>\n",
       "      <td>2.18</td>\n",
       "      <td>7.80</td>\n",
       "      <td>0.86</td>\n",
       "      <td>3.45</td>\n",
       "      <td>1480</td>\n",
       "    </tr>\n",
       "    <tr>\n",
       "      <th>4</th>\n",
       "      <td>1</td>\n",
       "      <td>13.24</td>\n",
       "      <td>2.59</td>\n",
       "      <td>2.87</td>\n",
       "      <td>21.0</td>\n",
       "      <td>118</td>\n",
       "      <td>2.80</td>\n",
       "      <td>2.69</td>\n",
       "      <td>0.39</td>\n",
       "      <td>1.82</td>\n",
       "      <td>4.32</td>\n",
       "      <td>1.04</td>\n",
       "      <td>2.93</td>\n",
       "      <td>735</td>\n",
       "    </tr>\n",
       "  </tbody>\n",
       "</table>\n",
       "</div>"
      ],
      "text/plain": [
       "   cultivar   alco  malic   ash   alk  magn  tot_phen  flav  nonfl_phen  \\\n",
       "0         1  14.23   1.71  2.43  15.6   127      2.80  3.06        0.28   \n",
       "1         1  13.20   1.78  2.14  11.2   100      2.65  2.76        0.26   \n",
       "2         1  13.16   2.36  2.67  18.6   101      2.80  3.24        0.30   \n",
       "3         1  14.37   1.95  2.50  16.8   113      3.85  3.49        0.24   \n",
       "4         1  13.24   2.59  2.87  21.0   118      2.80  2.69        0.39   \n",
       "\n",
       "   proanth  color_int   hue  OD280rat  proline  \n",
       "0     2.29       5.64  1.04      3.92     1065  \n",
       "1     1.28       4.38  1.05      3.40     1050  \n",
       "2     2.81       5.68  1.03      3.17     1185  \n",
       "3     2.18       7.80  0.86      3.45     1480  \n",
       "4     1.82       4.32  1.04      2.93      735  "
      ]
     },
     "execution_count": 196,
     "metadata": {},
     "output_type": "execute_result"
    }
   ],
   "source": [
    "df.head()"
   ]
  },
  {
   "cell_type": "code",
   "execution_count": 197,
   "metadata": {},
   "outputs": [
    {
     "data": {
      "image/png": "[encoded data removed]",
      "text/plain": [
       "<matplotlib.figure.Figure at 0x10d164e80>"
      ]
     },
     "metadata": {},
     "output_type": "display_data"
    }
   ],
   "source": [
    "%matplotlib inline\n",
    "g = sns.lmplot('alco','color_int', df, hue = 'cultivar', fit_reg = False)\n",
    "ax = plt.gca()\n",
    "ax.set_title(\"(a) scatter plot of color_int on alco\")\n",
    "plt.show()"
   ]
  },
  {
   "cell_type": "markdown",
   "metadata": {},
   "source": [
    "#### (b) Use sklearn.linear model.LogisticRegression to fit a multinomial logistic model of cultivar on features alcohol (alco), malic acid (malic), total phenols (tot phen), and color intensity (color int) with the following linear predictor."
   ]
  },
  {
   "cell_type": "code",
   "execution_count": 198,
   "metadata": {},
   "outputs": [],
   "source": [
    "Xvars = df[['alco', 'malic', 'tot_phen', 'color_int']].values\n",
    "yvals = df['cultivar'].values\n",
    "\n",
    "k = 4\n",
    "kf = KFold(n_splits=k, random_state=22, shuffle=True)\n",
    "kf.get_n_splits(Xvars)\n",
    "\n",
    "def get_MSE(penalty, C):\n",
    "    MSE_vec_kf = np.zeros(k)\n",
    "    k_ind = int(0)\n",
    "    for train_index, test_index in kf.split(Xvars):\n",
    "        X_train, X_test = Xvars[train_index], Xvars[test_index]\n",
    "        y_train, y_test = yvals[train_index], yvals[test_index]\n",
    "        # saga is the only solver that supports both penalties and multi_class\n",
    "        LogReg = LogisticRegression(fit_intercept=True, penalty=penalty, C = C, solver = 'saga', \n",
    "                                   multi_class = 'multinomial')\n",
    "        LogReg.fit(X_train, y_train)\n",
    "        y_pred = LogReg.predict(X_test)\n",
    "        MSE_vec_kf[k_ind] = ((y_test != y_pred)).mean()\n",
    "        k_ind += 1\n",
    "    MSE_kf = MSE_vec_kf.mean()\n",
    "    return MSE_kf"
   ]
  },
  {
   "cell_type": "code",
   "execution_count": 199,
   "metadata": {},
   "outputs": [],
   "source": [
    "c_range = np.arange(0.001,2.001, 0.01)\n",
    "MSE = []\n",
    "for p in ['l1','l2']:\n",
    "    for c in c_range:\n",
    "        MSE.append([p, c, get_MSE(p, c)])\n",
    "MSE_df = pd.DataFrame(MSE, columns = ['penalty','c', 'MSE'])"
   ]
  },
  {
   "cell_type": "code",
   "execution_count": 200,
   "metadata": {},
   "outputs": [
    {
     "data": {
      "text/plain": [
       "Text(0.5,1,'(a) MSE on C')"
      ]
     },
     "execution_count": 200,
     "metadata": {},
     "output_type": "execute_result"
    },
    {
     "data": {
      "image/png": "[encoded data removed]",
      "text/plain": [
       "<matplotlib.figure.Figure at 0x115f8df98>"
      ]
     },
     "metadata": {},
     "output_type": "display_data"
    }
   ],
   "source": [
    "g = sns.lmplot('c','MSE', MSE_df, hue = 'penalty', fit_reg = False)\n",
    "ax = plt.gca()\n",
    "ax.set_title(\"(a) MSE on C\")"
   ]
  },
  {
   "cell_type": "code",
   "execution_count": 201,
   "metadata": {},
   "outputs": [
    {
     "name": "stdout",
     "output_type": "stream",
     "text": [
      "Parameters and min MSE for logit regression:\n",
      "\n",
      "penalty           l1\n",
      "c                 0.4809999999999999\n",
      "MSE               0.125\n"
     ]
    }
   ],
   "source": [
    "print('Parameters and min MSE for logit regression:\\n')\n",
    "p = [print(\"{} {}\".format(k.ljust(17), v)) for k,v in MSE_df.iloc[MSE_df['MSE'].idxmin()].items()]"
   ]
  },
  {
   "cell_type": "markdown",
   "metadata": {},
   "source": [
    "#### (c) Use sklearn.ensemble.RandomForestClassifier to fit a random forest model of cultivar on the same four features used in part (b). set bootstrap=True, set oob score=True, and set random state=22. Use OOB cross-validation to generate the MSE of your random forest classifier. Play with the values of the tuning parameters n estimators, max depth, and min samples leaf to try and find the lowest possible MSE from the OOB cross validation. Report your minimized overall MSE along with the tuning parameter values you used for n estimators, max depth, and min samples leaf."
   ]
  },
  {
   "cell_type": "code",
   "execution_count": 202,
   "metadata": {},
   "outputs": [],
   "source": [
    "\n",
    "\n",
    "oob_errors = []\n",
    "\n",
    "def get_randomforest_MSE(n_estimators, max_depth, min_samples_leaf):\n",
    "    random_forest = RandomForestClassifier(n_estimators=n_estimators, max_depth = max_depth, \n",
    "                                           min_samples_leaf = min_samples_leaf, bootstrap=True,\n",
    "                                      oob_score=True, random_state=22)\n",
    "    random_forest.fit(Xvars, yvals)\n",
    "    random_forest.score(Xvars, yvals)\n",
    "    oob_error = 1 - random_forest.oob_score_\n",
    "    oob_errors.append([n_estimators, max_depth, min_samples_leaf, oob_error])\n",
    "    #print(n_estimators, max_depth, min_samples_leaf, oob_error)\n",
    "\n"
   ]
  },
  {
   "cell_type": "code",
   "execution_count": 203,
   "metadata": {},
   "outputs": [],
   "source": [
    "for n_estimators in range(10, 100):\n",
    "    for max_depth in range(1, 10):\n",
    "        for min_samples_leaf in range(1, 10):\n",
    "            get_randomforest_MSE(n_estimators, max_depth, min_samples_leaf)      "
   ]
  },
  {
   "cell_type": "code",
   "execution_count": 204,
   "metadata": {},
   "outputs": [],
   "source": [
    "ooberror_df = pd.DataFrame(oob_errors, columns = ['n_estimators','max_depth', 'min_samples_leaf', 'MSE'])"
   ]
  },
  {
   "cell_type": "code",
   "execution_count": 230,
   "metadata": {},
   "outputs": [
    {
     "name": "stdout",
     "output_type": "stream",
     "text": [
      "Parameters and min MSE for random forest:\n",
      "\n",
      "n_estimators      22.0\n",
      "max_depth         9.0\n",
      "min_samples_leaf  1.0\n",
      "MSE               0.051136363636363646\n"
     ]
    }
   ],
   "source": [
    "print('Parameters and min MSE for random forest:\\n')\n",
    "p = [print(\"{} {}\".format(k.ljust(17), v)) for k,v in ooberror_df.iloc[ooberror_df['MSE'].idxmin()].items()]"
   ]
  },
  {
   "cell_type": "markdown",
   "metadata": {},
   "source": [
    "#### (d) Use sklearn.svm.SVC to fit a support vector machines model of cultivar with a Gaussian radial basis function kernel kernel='rbf' on the four features used in parts (b) and (c). Fit the model using k-fold cross validation with k = 4 folds exactly as in part (b). clf_svm = KFold(n_splits=4, shuffle=True, random_state=22) Play with the penalty parameter C and the coefficient on the radial basis function gamma to try and find the lowest possible MSE from the k-fold cross validation. Report your minimized overall MSE along with the tuning parameter values you used for C and gamma."
   ]
  },
  {
   "cell_type": "code",
   "execution_count": 206,
   "metadata": {
    "collapsed": true
   },
   "outputs": [],
   "source": [
    "def get_svm_MSE(gamma, C):\n",
    "\n",
    "    MSE_vec_kf = np.zeros(k)\n",
    "    k_ind = int(0)\n",
    "    \n",
    "    for train_index, test_index in kf.split(Xvars):\n",
    "        X_train, X_test = Xvars[train_index], Xvars[test_index]\n",
    "        y_train, y_test = yvals[train_index], yvals[test_index]\n",
    "        svm = sklearn.svm.SVC(kernel='rbf', gamma=gamma, C=C)\n",
    "        svm.fit(X_train, y_train)\n",
    "        y_pred = svm.predict(X_test)\n",
    "        MSE_vec_kf[k_ind] = ((y_test!=y_pred) ** 2).mean()\n",
    "        k_ind += 1\n",
    "    svm_mse.append([gamma, C, MSE_vec_kf.mean()])\n",
    "    "
   ]
  },
  {
   "cell_type": "code",
   "execution_count": 207,
   "metadata": {},
   "outputs": [],
   "source": [
    "svm_mse = []\n",
    "for c_power in range(-5, 16, 2):\n",
    "    for gamma_power in range(-15, 4, 2):\n",
    "        get_svm_MSE(2**gamma_power, 2**c_power)"
   ]
  },
  {
   "cell_type": "code",
   "execution_count": 229,
   "metadata": {},
   "outputs": [
    {
     "name": "stdout",
     "output_type": "stream",
     "text": [
      "Parameters and min MSE for SVM:\n",
      "\n",
      "gamma             0.125\n",
      "C                 2.0\n",
      "MSE               0.056818181818181816\n"
     ]
    }
   ],
   "source": [
    "svm_df = pd.DataFrame(svm_mse, columns = ['gamma','C', 'MSE'])\n",
    "print('Parameters and min MSE for SVM:\\n')\n",
    "p = [print(\"{} {}\".format(k.ljust(17), v)) for k,v in svm_df.iloc[svm_df['MSE'].idxmin()].items()]"
   ]
  },
  {
   "cell_type": "markdown",
   "metadata": {},
   "source": [
    "#### (e) Use sklearn.neural network.MLPClassifier to fit a single hidden layer neural network model of cultivar. Fit the model using k-fold cross validation with k = 4 folds exactly as in parts (b) and (d). clf_mlp = KFold(n_splits=4, shuffle=True, random_state=22) Play with the tuning parameters of the hidden layer sizes hidden layer sizes, activation function activation, and the regularization penalty alpha to try and find the lowest possible MSE from the k-fold cross validation. Report your minimized overall MSE along with the tuning parameter values you used for hidden layer sizes, activation, and alpha."
   ]
  },
  {
   "cell_type": "code",
   "execution_count": 225,
   "metadata": {
    "collapsed": true
   },
   "outputs": [],
   "source": [
    "def get_mlp_MSE(activation, alpha, layers):\n",
    "\n",
    "    MSE_vec_kf = np.zeros(k)\n",
    "    k_ind = int(0)\n",
    "    \n",
    "    for train_index, test_index in kf.split(Xvars):\n",
    "        X_train, X_test = Xvars[train_index], Xvars[test_index]\n",
    "        y_train, y_test = yvals[train_index], yvals[test_index]\n",
    "        # the default number of layers is 3, which makes it a neural net with 1 hidden layer\n",
    "        mlp = MLPClassifier(activation=activation, solver='lbfgs',\n",
    "                            alpha=alpha, random_state=22,\n",
    "                            hidden_layer_sizes = layers)\n",
    "        mlp.fit(X_train, y_train)\n",
    "        y_pred = mlp.predict(X_test)\n",
    "        MSE_vec_kf[k_ind] = ((y_test!=y_pred) ** 2).mean()\n",
    "        k_ind += 1\n",
    "    mlp_mse.append([activation, alpha, layers, MSE_vec_kf.mean()])\n",
    "    #print([activation, alpha, layers, MSE_vec_kf.mean()])\n",
    "    "
   ]
  },
  {
   "cell_type": "code",
   "execution_count": 226,
   "metadata": {},
   "outputs": [],
   "source": [
    "mlp_mse = []\n",
    "for activation in ['logistic', 'tanh', 'relu', 'identity']:\n",
    "    for alpha in [0.00001, 0.00005, 0.0001, 0.0005, 0.001, 0.005, 0.01, 0.05, 0.1, 0.5, 1, 5]:\n",
    "        for layers in range(10, 510, 50):\n",
    "            get_mlp_MSE(activation, alpha, layers)\n",
    "    "
   ]
  },
  {
   "cell_type": "code",
   "execution_count": 228,
   "metadata": {},
   "outputs": [
    {
     "name": "stdout",
     "output_type": "stream",
     "text": [
      "Parameters and min MSE for neural net:\n",
      "\n",
      "activation        relu\n",
      "alpha             0.05\n",
      "hidden layer size 210\n",
      "MSE               0.03977272727272727\n"
     ]
    }
   ],
   "source": [
    "mlp_df = pd.DataFrame(mlp_mse, columns = ['activation','alpha', 'hidden layer size','MSE'])\n",
    "print('Parameters and min MSE for neural net:\\n')\n",
    "p = [print(\"{} {}\".format(k.ljust(17), v)) for k,v in mlp_df.iloc[mlp_df['MSE'].idxmin()].items()]"
   ]
  },
  {
   "cell_type": "markdown",
   "metadata": {},
   "source": [
    "#### (f) Which of the above three models do you think is the best predictor of cultivar? Why?"
   ]
  },
  {
   "cell_type": "markdown",
   "metadata": {},
   "source": [
    "The neural network produced the lowest MSE and therefore the best predictor among the 4."
   ]
  }
 ],
 "metadata": {
  "kernelspec": {
   "display_name": "Python 3",
   "language": "python",
   "name": "python3"
  },
  "language_info": {
   "codemirror_mode": {
    "name": "ipython",
    "version": 3
   },
   "file_extension": ".py",
   "mimetype": "text/x-python",
   "name": "python",
   "nbconvert_exporter": "python",
   "pygments_lexer": "ipython3",
   "version": "3.6.3"
  }
 },
 "nbformat": 4,
 "nbformat_minor": 2
}
