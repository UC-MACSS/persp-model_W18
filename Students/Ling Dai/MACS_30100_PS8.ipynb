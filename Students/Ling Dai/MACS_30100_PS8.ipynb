{
 "cells": [
  {
   "cell_type": "markdown",
   "metadata": {},
   "source": [
    "# MACS 30100\n",
    "### Ling Dai"
   ]
  },
  {
   "cell_type": "code",
   "execution_count": 1,
   "metadata": {},
   "outputs": [
    {
     "name": "stderr",
     "output_type": "stream",
     "text": [
      "/Users/lingdai/anaconda3/lib/python3.6/site-packages/sklearn/cross_validation.py:41: DeprecationWarning: This module was deprecated in version 0.18 in favor of the model_selection module into which all the refactored classes and functions are moved. Also note that the interface of the new CV iterators are different from that of this module. This module will be removed in 0.20.\n",
      "  \"This module will be removed in 0.20.\", DeprecationWarning)\n"
     ]
    }
   ],
   "source": [
    "#import libraries\n",
    "\n",
    "import numpy as np\n",
    "import pandas as pd\n",
    "\n",
    "from sklearn.cross_validation import train_test_split\n",
    "\n",
    "from pylab import rcParams\n",
    "import matplotlib.pyplot as plt\n",
    "import seaborn as sb\n",
    "%matplotlib inline\n",
    "rcParams['figure.figsize'] = 10, 8\n",
    "sb.set_style('whitegrid')"
   ]
  },
  {
   "cell_type": "code",
   "execution_count": 2,
   "metadata": {},
   "outputs": [
    {
     "data": {
      "text/html": [
       "<div>\n",
       "<style scoped>\n",
       "    .dataframe tbody tr th:only-of-type {\n",
       "        vertical-align: middle;\n",
       "    }\n",
       "\n",
       "    .dataframe tbody tr th {\n",
       "        vertical-align: top;\n",
       "    }\n",
       "\n",
       "    .dataframe thead th {\n",
       "        text-align: right;\n",
       "    }\n",
       "</style>\n",
       "<table border=\"1\" class=\"dataframe\">\n",
       "  <thead>\n",
       "    <tr style=\"text-align: right;\">\n",
       "      <th></th>\n",
       "      <th>cultivar</th>\n",
       "      <th>alco</th>\n",
       "      <th>malic</th>\n",
       "      <th>ash</th>\n",
       "      <th>alk</th>\n",
       "      <th>magn</th>\n",
       "      <th>tot_phen</th>\n",
       "      <th>flav</th>\n",
       "      <th>nonfl_phen</th>\n",
       "      <th>proanth</th>\n",
       "      <th>color_int</th>\n",
       "      <th>hue</th>\n",
       "      <th>OD280rat</th>\n",
       "      <th>proline</th>\n",
       "    </tr>\n",
       "  </thead>\n",
       "  <tbody>\n",
       "    <tr>\n",
       "      <th>0</th>\n",
       "      <td>1</td>\n",
       "      <td>14.23</td>\n",
       "      <td>1.71</td>\n",
       "      <td>2.43</td>\n",
       "      <td>15.6</td>\n",
       "      <td>127</td>\n",
       "      <td>2.80</td>\n",
       "      <td>3.06</td>\n",
       "      <td>0.28</td>\n",
       "      <td>2.29</td>\n",
       "      <td>5.64</td>\n",
       "      <td>1.04</td>\n",
       "      <td>3.92</td>\n",
       "      <td>1065</td>\n",
       "    </tr>\n",
       "    <tr>\n",
       "      <th>1</th>\n",
       "      <td>1</td>\n",
       "      <td>13.20</td>\n",
       "      <td>1.78</td>\n",
       "      <td>2.14</td>\n",
       "      <td>11.2</td>\n",
       "      <td>100</td>\n",
       "      <td>2.65</td>\n",
       "      <td>2.76</td>\n",
       "      <td>0.26</td>\n",
       "      <td>1.28</td>\n",
       "      <td>4.38</td>\n",
       "      <td>1.05</td>\n",
       "      <td>3.40</td>\n",
       "      <td>1050</td>\n",
       "    </tr>\n",
       "    <tr>\n",
       "      <th>2</th>\n",
       "      <td>1</td>\n",
       "      <td>13.16</td>\n",
       "      <td>2.36</td>\n",
       "      <td>2.67</td>\n",
       "      <td>18.6</td>\n",
       "      <td>101</td>\n",
       "      <td>2.80</td>\n",
       "      <td>3.24</td>\n",
       "      <td>0.30</td>\n",
       "      <td>2.81</td>\n",
       "      <td>5.68</td>\n",
       "      <td>1.03</td>\n",
       "      <td>3.17</td>\n",
       "      <td>1185</td>\n",
       "    </tr>\n",
       "    <tr>\n",
       "      <th>3</th>\n",
       "      <td>1</td>\n",
       "      <td>14.37</td>\n",
       "      <td>1.95</td>\n",
       "      <td>2.50</td>\n",
       "      <td>16.8</td>\n",
       "      <td>113</td>\n",
       "      <td>3.85</td>\n",
       "      <td>3.49</td>\n",
       "      <td>0.24</td>\n",
       "      <td>2.18</td>\n",
       "      <td>7.80</td>\n",
       "      <td>0.86</td>\n",
       "      <td>3.45</td>\n",
       "      <td>1480</td>\n",
       "    </tr>\n",
       "    <tr>\n",
       "      <th>4</th>\n",
       "      <td>1</td>\n",
       "      <td>13.24</td>\n",
       "      <td>2.59</td>\n",
       "      <td>2.87</td>\n",
       "      <td>21.0</td>\n",
       "      <td>118</td>\n",
       "      <td>2.80</td>\n",
       "      <td>2.69</td>\n",
       "      <td>0.39</td>\n",
       "      <td>1.82</td>\n",
       "      <td>4.32</td>\n",
       "      <td>1.04</td>\n",
       "      <td>2.93</td>\n",
       "      <td>735</td>\n",
       "    </tr>\n",
       "  </tbody>\n",
       "</table>\n",
       "</div>"
      ],
      "text/plain": [
       "   cultivar   alco  malic   ash   alk  magn  tot_phen  flav  nonfl_phen  \\\n",
       "0         1  14.23   1.71  2.43  15.6   127      2.80  3.06        0.28   \n",
       "1         1  13.20   1.78  2.14  11.2   100      2.65  2.76        0.26   \n",
       "2         1  13.16   2.36  2.67  18.6   101      2.80  3.24        0.30   \n",
       "3         1  14.37   1.95  2.50  16.8   113      3.85  3.49        0.24   \n",
       "4         1  13.24   2.59  2.87  21.0   118      2.80  2.69        0.39   \n",
       "\n",
       "   proanth  color_int   hue  OD280rat  proline  \n",
       "0     2.29       5.64  1.04      3.92     1065  \n",
       "1     1.28       4.38  1.05      3.40     1050  \n",
       "2     2.81       5.68  1.03      3.17     1185  \n",
       "3     2.18       7.80  0.86      3.45     1480  \n",
       "4     1.82       4.32  1.04      2.93      735  "
      ]
     },
     "execution_count": 2,
     "metadata": {},
     "output_type": "execute_result"
    }
   ],
   "source": [
    "#import data\n",
    "strongdrink = pd.read_csv('strongdrink.txt', header = 0)\n",
    "strongdrink.head()"
   ]
  },
  {
   "cell_type": "markdown",
   "metadata": {},
   "source": [
    "## 1(a)"
   ]
  },
  {
   "cell_type": "code",
   "execution_count": 3,
   "metadata": {},
   "outputs": [
    {
     "data": {
      "image/png": "[encoded data removed]",
      "text/plain": [
       "<Figure size 401.625x360 with 1 Axes>"
      ]
     },
     "metadata": {},
     "output_type": "display_data"
    }
   ],
   "source": [
    "g = sb.lmplot('alco','color_int', fit_reg=False, data=strongdrink, hue = 'cultivar')"
   ]
  },
  {
   "cell_type": "markdown",
   "metadata": {},
   "source": [
    "## 1(b)"
   ]
  },
  {
   "cell_type": "code",
   "execution_count": 4,
   "metadata": {},
   "outputs": [
    {
     "name": "stderr",
     "output_type": "stream",
     "text": [
      "/Users/lingdai/anaconda3/lib/python3.6/site-packages/statsmodels/compat/pandas.py:56: FutureWarning: The pandas.core.datetools module is deprecated and will be removed in a future version. Please use the pandas.tseries module instead.\n",
      "  from pandas.core import datetools\n"
     ]
    }
   ],
   "source": [
    "import statsmodels.api as sm\n",
    "\n",
    "X = sm.add_constant(strongdrink[['alco', 'malic', 'tot_phen', 'color_int']])\n",
    "y = strongdrink['cultivar']"
   ]
  },
  {
   "cell_type": "code",
   "execution_count": 5,
   "metadata": {},
   "outputs": [
    {
     "name": "stderr",
     "output_type": "stream",
     "text": [
      "/Users/lingdai/anaconda3/lib/python3.6/site-packages/sklearn/linear_model/sag.py:326: ConvergenceWarning: The max_iter was reached which means the coef_ did not converge\n",
      "  \"the coef_ did not converge\", ConvergenceWarning)\n",
      "/Users/lingdai/anaconda3/lib/python3.6/site-packages/sklearn/linear_model/sag.py:326: ConvergenceWarning: The max_iter was reached which means the coef_ did not converge\n",
      "  \"the coef_ did not converge\", ConvergenceWarning)\n"
     ]
    },
    {
     "data": {
      "text/html": [
       "<div>\n",
       "<style scoped>\n",
       "    .dataframe tbody tr th:only-of-type {\n",
       "        vertical-align: middle;\n",
       "    }\n",
       "\n",
       "    .dataframe tbody tr th {\n",
       "        vertical-align: top;\n",
       "    }\n",
       "\n",
       "    .dataframe thead th {\n",
       "        text-align: right;\n",
       "    }\n",
       "</style>\n",
       "<table border=\"1\" class=\"dataframe\">\n",
       "  <thead>\n",
       "    <tr style=\"text-align: right;\">\n",
       "      <th></th>\n",
       "      <th>C</th>\n",
       "      <th>MSE</th>\n",
       "      <th>penalty</th>\n",
       "    </tr>\n",
       "  </thead>\n",
       "  <tbody>\n",
       "    <tr>\n",
       "      <th>7320</th>\n",
       "      <td>8.50</td>\n",
       "      <td>0.068182</td>\n",
       "      <td>l2</td>\n",
       "    </tr>\n",
       "    <tr>\n",
       "      <th>7308</th>\n",
       "      <td>8.47</td>\n",
       "      <td>0.068182</td>\n",
       "      <td>l2</td>\n",
       "    </tr>\n",
       "    <tr>\n",
       "      <th>2440</th>\n",
       "      <td>6.20</td>\n",
       "      <td>0.068182</td>\n",
       "      <td>l1</td>\n",
       "    </tr>\n",
       "    <tr>\n",
       "      <th>2444</th>\n",
       "      <td>6.21</td>\n",
       "      <td>0.068182</td>\n",
       "      <td>l1</td>\n",
       "    </tr>\n",
       "    <tr>\n",
       "      <th>5536</th>\n",
       "      <td>4.04</td>\n",
       "      <td>0.068182</td>\n",
       "      <td>l2</td>\n",
       "    </tr>\n",
       "  </tbody>\n",
       "</table>\n",
       "</div>"
      ],
      "text/plain": [
       "         C       MSE penalty\n",
       "7320  8.50  0.068182      l2\n",
       "7308  8.47  0.068182      l2\n",
       "2440  6.20  0.068182      l1\n",
       "2444  6.21  0.068182      l1\n",
       "5536  4.04  0.068182      l2"
      ]
     },
     "execution_count": 5,
     "metadata": {},
     "output_type": "execute_result"
    }
   ],
   "source": [
    "from sklearn.model_selection import KFold\n",
    "from sklearn.linear_model import LogisticRegression as LR\n",
    "\n",
    "kf_mlog = KFold(n_splits=4, shuffle=True, random_state=22)\n",
    "penalty_list = []\n",
    "C_list = []\n",
    "MSE_list = []\n",
    "\n",
    "for penalty in ['l1', 'l2']:\n",
    "    for C in np.arange(0.1,10,0.01):\n",
    "        for train, test in kf_mlog.split(X):\n",
    "            X_train = X.iloc[train]\n",
    "            y_train = y.iloc[train]\n",
    "            X_test = X.iloc[test]\n",
    "            y_test = y.iloc[test]\n",
    "            reg = LR(multi_class='multinomial',solver='saga',\n",
    "                     penalty = 'l1',C = C).fit(X_train, y_train)\n",
    "            y_pred = reg.predict(X_test)\n",
    "            penalty_list.append(penalty)\n",
    "            C_list.append(C)\n",
    "            MSE_list.append(((y_test - y_pred) ** 2).mean())\n",
    "\n",
    "MSE_df = pd.DataFrame({'penalty':penalty_list,\n",
    "                       'C':C_list,\n",
    "                       'MSE':MSE_list})\n",
    "\n",
    "MSE_df = MSE_df.sort_values(by=['MSE'])\n",
    "MSE_df.head()"
   ]
  },
  {
   "cell_type": "markdown",
   "metadata": {},
   "source": [
    "Because only 'saga' solver supports both 'l1' and 'l2' penalty among all multinomial solvers, I used 'saga' as the solver in 1(b). I tested both 'l1' and 'l2' for penalty, and all values from 0.1 to 10 (with step size = 0.1) for C. A minimun MSE of 0.068182 was achieved by several models wit different combinations of parameters: penalty = 'l2', C = 6.94; penalty = 'l2', C = 6.37; penalty = 'l1', C = 4.54; penalty = 'l1', C = 8.75, penalty = 'l1', C = 4.55."
   ]
  },
  {
   "cell_type": "markdown",
   "metadata": {},
   "source": [
    "## 1(c)"
   ]
  },
  {
   "cell_type": "code",
   "execution_count": 6,
   "metadata": {},
   "outputs": [],
   "source": [
    "Xvals = strongdrink[['alco', 'malic', 'tot_phen', 'color_int']].values\n",
    "yvals = strongdrink['cultivar'].values"
   ]
  },
  {
   "cell_type": "code",
   "execution_count": 7,
   "metadata": {},
   "outputs": [
    {
     "data": {
      "text/html": [
       "<div>\n",
       "<style scoped>\n",
       "    .dataframe tbody tr th:only-of-type {\n",
       "        vertical-align: middle;\n",
       "    }\n",
       "\n",
       "    .dataframe tbody tr th {\n",
       "        vertical-align: top;\n",
       "    }\n",
       "\n",
       "    .dataframe thead th {\n",
       "        text-align: right;\n",
       "    }\n",
       "</style>\n",
       "<table border=\"1\" class=\"dataframe\">\n",
       "  <thead>\n",
       "    <tr style=\"text-align: right;\">\n",
       "      <th></th>\n",
       "      <th>MSE</th>\n",
       "      <th>max_depth</th>\n",
       "      <th>min_samples_leaf</th>\n",
       "      <th>n_estimator</th>\n",
       "    </tr>\n",
       "  </thead>\n",
       "  <tbody>\n",
       "    <tr>\n",
       "      <th>239</th>\n",
       "      <td>0.068182</td>\n",
       "      <td>5</td>\n",
       "      <td>8</td>\n",
       "      <td>250</td>\n",
       "    </tr>\n",
       "    <tr>\n",
       "      <th>92</th>\n",
       "      <td>0.068182</td>\n",
       "      <td>3</td>\n",
       "      <td>12</td>\n",
       "      <td>100</td>\n",
       "    </tr>\n",
       "    <tr>\n",
       "      <th>197</th>\n",
       "      <td>0.068182</td>\n",
       "      <td>3</td>\n",
       "      <td>11</td>\n",
       "      <td>200</td>\n",
       "    </tr>\n",
       "    <tr>\n",
       "      <th>68</th>\n",
       "      <td>0.068182</td>\n",
       "      <td>4</td>\n",
       "      <td>7</td>\n",
       "      <td>100</td>\n",
       "    </tr>\n",
       "    <tr>\n",
       "      <th>87</th>\n",
       "      <td>0.068182</td>\n",
       "      <td>3</td>\n",
       "      <td>11</td>\n",
       "      <td>100</td>\n",
       "    </tr>\n",
       "  </tbody>\n",
       "</table>\n",
       "</div>"
      ],
      "text/plain": [
       "          MSE  max_depth  min_samples_leaf  n_estimator\n",
       "239  0.068182          5                 8          250\n",
       "92   0.068182          3                12          100\n",
       "197  0.068182          3                11          200\n",
       "68   0.068182          4                 7          100\n",
       "87   0.068182          3                11          100"
      ]
     },
     "execution_count": 7,
     "metadata": {},
     "output_type": "execute_result"
    }
   ],
   "source": [
    "from sklearn.ensemble import RandomForestClassifier\n",
    "\n",
    "n_estimators_list = []\n",
    "min_samples_leaf_list = []\n",
    "max_depth_list = []\n",
    "MSE_list = []\n",
    "\n",
    "for n_estimators in range(50,300,50):\n",
    "    for min_samples_leaf in range(5,16):\n",
    "        for max_depth in range(1,6):\n",
    "            RF = RandomForestClassifier(n_estimators = n_estimators,\n",
    "                                        min_samples_leaf = min_samples_leaf,\n",
    "                                        max_depth = max_depth, bootstrap=True, \n",
    "                                        oob_score=True, random_state=22)\n",
    "            RF.fit(Xvals, yvals)\n",
    "            n_estimators_list.append(n_estimators)\n",
    "            max_depth_list.append(max_depth)\n",
    "            min_samples_leaf_list.append(min_samples_leaf)\n",
    "            MSE_list.append(1 - RF.oob_score_)\n",
    "\n",
    "MSE_df = pd.DataFrame({'n_estimator':n_estimators_list,\n",
    "                       'max_depth':max_depth_list,\n",
    "                       'min_samples_leaf':min_samples_leaf_list,\n",
    "                       'MSE':MSE_list})\n",
    "\n",
    "MSE_df = MSE_df.sort_values(by=['MSE'])\n",
    "MSE_df.head()"
   ]
  },
  {
   "cell_type": "markdown",
   "metadata": {},
   "source": [
    "For random forest classifier, I tried all values between 50 and 300 (step size = 50) for n_estimators, all values from 5 to 15 (step size = 1) for min_samples_leaf, and all values from 1 to 5 (step size = 1) for depth. A minimun MSE of 0.068182 was achieved by several models wit different combinations of parameters: max_depth = 5, min_samples_leaf = 8, n_estimator = 250; max_depth = 3, min_samples_leaf = 12, n_estimator = 100; max_depth = 3, min_samples_leaf = 11, n_estimator = 200; max_depth = 3, min_samples_leaf = 11, n_estimator = 100..."
   ]
  },
  {
   "cell_type": "markdown",
   "metadata": {},
   "source": [
    "## 1(d)"
   ]
  },
  {
   "cell_type": "code",
   "execution_count": 8,
   "metadata": {},
   "outputs": [
    {
     "data": {
      "text/html": [
       "<div>\n",
       "<style scoped>\n",
       "    .dataframe tbody tr th:only-of-type {\n",
       "        vertical-align: middle;\n",
       "    }\n",
       "\n",
       "    .dataframe tbody tr th {\n",
       "        vertical-align: top;\n",
       "    }\n",
       "\n",
       "    .dataframe thead th {\n",
       "        text-align: right;\n",
       "    }\n",
       "</style>\n",
       "<table border=\"1\" class=\"dataframe\">\n",
       "  <thead>\n",
       "    <tr style=\"text-align: right;\">\n",
       "      <th></th>\n",
       "      <th>MSE</th>\n",
       "      <th>cost</th>\n",
       "      <th>gamma</th>\n",
       "    </tr>\n",
       "  </thead>\n",
       "  <tbody>\n",
       "    <tr>\n",
       "      <th>0</th>\n",
       "      <td>0.045455</td>\n",
       "      <td>0.25</td>\n",
       "      <td>0.05</td>\n",
       "    </tr>\n",
       "    <tr>\n",
       "      <th>2740</th>\n",
       "      <td>0.045455</td>\n",
       "      <td>1.50</td>\n",
       "      <td>1.75</td>\n",
       "    </tr>\n",
       "    <tr>\n",
       "      <th>2744</th>\n",
       "      <td>0.045455</td>\n",
       "      <td>1.75</td>\n",
       "      <td>1.75</td>\n",
       "    </tr>\n",
       "    <tr>\n",
       "      <th>2748</th>\n",
       "      <td>0.045455</td>\n",
       "      <td>2.00</td>\n",
       "      <td>1.75</td>\n",
       "    </tr>\n",
       "    <tr>\n",
       "      <th>2752</th>\n",
       "      <td>0.045455</td>\n",
       "      <td>2.25</td>\n",
       "      <td>1.75</td>\n",
       "    </tr>\n",
       "  </tbody>\n",
       "</table>\n",
       "</div>"
      ],
      "text/plain": [
       "           MSE  cost  gamma\n",
       "0     0.045455  0.25   0.05\n",
       "2740  0.045455  1.50   1.75\n",
       "2744  0.045455  1.75   1.75\n",
       "2748  0.045455  2.00   1.75\n",
       "2752  0.045455  2.25   1.75"
      ]
     },
     "execution_count": 8,
     "metadata": {},
     "output_type": "execute_result"
    }
   ],
   "source": [
    "from sklearn.svm import SVC\n",
    "\n",
    "gamma_list = []\n",
    "cost_list = []\n",
    "MSE_list = []\n",
    "\n",
    "for gamma in np.arange(0.05,2.05,0.05):\n",
    "    for cost in np.arange(0.25,5.25,0.25):\n",
    "        for train, test in kf_mlog.split(X):\n",
    "            X_train = X.iloc[train]\n",
    "            y_train = y.iloc[train]\n",
    "            X_test = X.iloc[test]\n",
    "            y_test = y.iloc[test]\n",
    "            svc = SVC(kernel='rbf', gamma = gamma, C=C)\n",
    "            svc.fit(X_train, y_train)\n",
    "            y_pred = svc.predict(X_test)\n",
    "            gamma_list.append(gamma)\n",
    "            cost_list.append(cost)\n",
    "            MSE_list.append(((y_test - y_pred) ** 2).mean())\n",
    "\n",
    "MSE_df = pd.DataFrame({'gamma':gamma_list,\n",
    "                       'cost':cost_list,\n",
    "                       'MSE':MSE_list})\n",
    "\n",
    "MSE_df = MSE_df.sort_values(by=['MSE'])\n",
    "MSE_df.head()"
   ]
  },
  {
   "cell_type": "markdown",
   "metadata": {},
   "source": [
    "For random SVC, I tried all values between 0.05 and 2.0 (step size = 0.05) for gamma, all values from 0.25 to 5.0 (step size = 0.25) for cost. A minimun MSE of 0.068182 was achieved by several models wit different combinations of parameters: gamma = 1.75, cost = 1.50; gamma = 1.75, cost = 1.75; gamma = 1.75, cost = 2.00; gamma = 1.75, cost = 2.25..."
   ]
  },
  {
   "cell_type": "markdown",
   "metadata": {},
   "source": [
    "## 1(e)"
   ]
  },
  {
   "cell_type": "code",
   "execution_count": 9,
   "metadata": {},
   "outputs": [
    {
     "data": {
      "text/html": [
       "<div>\n",
       "<style scoped>\n",
       "    .dataframe tbody tr th:only-of-type {\n",
       "        vertical-align: middle;\n",
       "    }\n",
       "\n",
       "    .dataframe tbody tr th {\n",
       "        vertical-align: top;\n",
       "    }\n",
       "\n",
       "    .dataframe thead th {\n",
       "        text-align: right;\n",
       "    }\n",
       "</style>\n",
       "<table border=\"1\" class=\"dataframe\">\n",
       "  <thead>\n",
       "    <tr style=\"text-align: right;\">\n",
       "      <th></th>\n",
       "      <th>MSE</th>\n",
       "      <th>activation</th>\n",
       "      <th>alpha</th>\n",
       "      <th>hidden_layer_sizes</th>\n",
       "    </tr>\n",
       "  </thead>\n",
       "  <tbody>\n",
       "    <tr>\n",
       "      <th>1788</th>\n",
       "      <td>0.0</td>\n",
       "      <td>tanh</td>\n",
       "      <td>0.25</td>\n",
       "      <td>400</td>\n",
       "    </tr>\n",
       "    <tr>\n",
       "      <th>2540</th>\n",
       "      <td>0.0</td>\n",
       "      <td>relu</td>\n",
       "      <td>0.20</td>\n",
       "      <td>300</td>\n",
       "    </tr>\n",
       "    <tr>\n",
       "      <th>2668</th>\n",
       "      <td>0.0</td>\n",
       "      <td>relu</td>\n",
       "      <td>0.35</td>\n",
       "      <td>400</td>\n",
       "    </tr>\n",
       "    <tr>\n",
       "      <th>3100</th>\n",
       "      <td>0.0</td>\n",
       "      <td>relu</td>\n",
       "      <td>0.90</td>\n",
       "      <td>300</td>\n",
       "    </tr>\n",
       "    <tr>\n",
       "      <th>2792</th>\n",
       "      <td>0.0</td>\n",
       "      <td>relu</td>\n",
       "      <td>0.50</td>\n",
       "      <td>450</td>\n",
       "    </tr>\n",
       "  </tbody>\n",
       "</table>\n",
       "</div>"
      ],
      "text/plain": [
       "      MSE activation  alpha  hidden_layer_sizes\n",
       "1788  0.0       tanh   0.25                 400\n",
       "2540  0.0       relu   0.20                 300\n",
       "2668  0.0       relu   0.35                 400\n",
       "3100  0.0       relu   0.90                 300\n",
       "2792  0.0       relu   0.50                 450"
      ]
     },
     "execution_count": 9,
     "metadata": {},
     "output_type": "execute_result"
    }
   ],
   "source": [
    "from sklearn.neural_network import MLPClassifier\n",
    "\n",
    "alpha_list = []\n",
    "hidden_layer_sizes_list = []\n",
    "MSE_list = []\n",
    "activation_list = []\n",
    "\n",
    "for activation in ['identity', 'logistic', 'tanh', 'relu']:\n",
    "    for alpha in np.arange(0.05,1.05,0.05):\n",
    "        for hidden_layer_sizes in range(50,550,50):\n",
    "            for train, test in kf_mlog.split(X):\n",
    "                X_train = X.iloc[train]\n",
    "                y_train = y.iloc[train]\n",
    "                X_test = X.iloc[test]\n",
    "                y_test = y.iloc[test]\n",
    "                mlp = MLPClassifier(activation=activation, solver='lbfgs',\n",
    "                                    alpha=alpha, hidden_layer_sizes = hidden_layer_sizes)\n",
    "                mlp.fit(X_train, y_train)\n",
    "                y_pred = mlp.predict(X_test)\n",
    "                activation_list.append(activation)\n",
    "                alpha_list.append(alpha)\n",
    "                hidden_layer_sizes_list.append(hidden_layer_sizes)\n",
    "                MSE_list.append(((y_test - y_pred) ** 2).mean())\n",
    "\n",
    "MSE_df = pd.DataFrame({'activation':activation_list,\n",
    "                       'alpha':alpha_list,\n",
    "                       'hidden_layer_sizes':hidden_layer_sizes_list,\n",
    "                       'MSE':MSE_list})\n",
    "\n",
    "MSE_df = MSE_df.sort_values(by=['MSE'])\n",
    "MSE_df.head()"
   ]
  },
  {
   "cell_type": "markdown",
   "metadata": {},
   "source": [
    "For MLP, I tried four different kinds of activation functions, namely 'identity', 'logistic', 'tanh', and 'relu'. I also tested all values from 0.05 to 1.0 (step size = 0.05) for alpha, and all values from 50 to 500 (step size = 50). A minimun MSE of 0 was achieved by several models wit different combinations of parameters: alpha = 0.20, activation = 'relu', hidden_layer_sizes = 400; alpha = 0.20, activation = 'relu', hidden_layer_sizes = 350..."
   ]
  },
  {
   "cell_type": "markdown",
   "metadata": {},
   "source": [
    "## 1(f)"
   ]
  },
  {
   "cell_type": "markdown",
   "metadata": {},
   "source": [
    "According to the minimun test MSE achieved by the models above, the MLP classifier was the best predictor of cultivar, because several MLP model with different combinations of parameter settings achieved MSE of 0.0, which means all the predictions were correct for these models. The second best predictor in this case is SVM, with a minimun MSE of 0.0045455. Multinomial logistic regression and random forest seemed to have similar accuracy on predicting cultivar: both of them had a minimun MSE of 0.068182.\n",
    "\n",
    "However, we can't complete rule out the possibility that the lower MSEs achieved by MLP classifier and SVM were in part due to the choice of step sizes."
   ]
  }
 ],
 "metadata": {
  "kernelspec": {
   "display_name": "Python 3",
   "language": "python",
   "name": "python3"
  },
  "language_info": {
   "codemirror_mode": {
    "name": "ipython",
    "version": 3
   },
   "file_extension": ".py",
   "mimetype": "text/x-python",
   "name": "python",
   "nbconvert_exporter": "python",
   "pygments_lexer": "ipython3",
   "version": "3.6.3"
  }
 },
 "nbformat": 4,
 "nbformat_minor": 2
}
