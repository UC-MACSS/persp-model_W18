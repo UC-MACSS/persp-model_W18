{
 "cells": [
  {
   "cell_type": "markdown",
   "metadata": {},
   "source": [
    "## Problemset 5"
   ]
  },
  {
   "cell_type": "markdown",
   "metadata": {},
   "source": [
    "### Kris Nichols"
   ]
  },
  {
   "cell_type": "markdown",
   "metadata": {},
   "source": [
    "### Part One"
   ]
  },
  {
   "cell_type": "markdown",
   "metadata": {},
   "source": [
    "### A) "
   ]
  },
  {
   "cell_type": "code",
   "execution_count": 80,
   "metadata": {},
   "outputs": [],
   "source": [
    "import pandas as pd\n",
    "from pandas import Series, DataFrame\n",
    "\n",
    "import sklearn\n",
    "from sklearn import preprocessing\n",
    "from sklearn.linear_model import LogisticRegression\n",
    "from sklearn.cross_validation import train_test_split\n",
    "from sklearn import metrics \n",
    "from sklearn.metrics import classification_report, confusion_matrix, mean_squared_error\n",
    "from pylab import rcParams\n",
    "from scipy.interpolate import LSQUnivariateSpline\n",
    "import matplotlib.pyplot as plt\n",
    "import seaborn as sb\n",
    "import warnings\n",
    "warnings.filterwarnings(\"ignore\")\n",
    "import statsmodels.api as sm\n",
    "from sklearn.model_selection import LeaveOneOut, KFold\n",
    "\n",
    "import numpy as np\n",
    "%matplotlib inline"
   ]
  },
  {
   "cell_type": "code",
   "execution_count": 81,
   "metadata": {
    "collapsed": true
   },
   "outputs": [],
   "source": [
    "# Load Data\n",
    "wines = pd.read_csv('strongdrink.txt')\n",
    "\n",
    "X = wines[['alco', 'malic', 'tot_phen', 'color_int']]\n",
    "Y = wines[['cultivar']]"
   ]
  },
  {
   "cell_type": "code",
   "execution_count": 82,
   "metadata": {},
   "outputs": [],
   "source": [
    "X_train, X_test, Y_train, Y_test = train_test_split(X, Y, test_size = .25,\n",
    "                                                    random_state=20)\n",
    "MultLogReg = LogisticRegression(multi_class='multinomial',\n",
    "                                solver='newton-cg')\n",
    "\n",
    "result = MultLogReg.fit(X_train, Y_train)"
   ]
  },
  {
   "cell_type": "code",
   "execution_count": 83,
   "metadata": {},
   "outputs": [
    {
     "name": "stdout",
     "output_type": "stream",
     "text": [
      "J=1:\n",
      " b0 = -24.0109894515    b1 = 1.7004033763 b2 = -0.265605226518  b3 = 1.2238937289   b4 = 0.0227563746875\n",
      "\n",
      "J=2:\n",
      " b0 = 22.8024461982    b1 = -1.46804431964 b2 = -0.333053122096   b3 = 0.664011854001   b4 = -0.922712234869\n"
     ]
    }
   ],
   "source": [
    "print('J=1:')\n",
    "print(' b0 =', result.intercept_[0], '   b1 =', result.coef_[0][0],\n",
    "      'b2 =', result.coef_[0][1], ' b3 =', result.coef_[0][2],\n",
    "      '  b4 =', result.coef_[0][3])\n",
    "print('\\nJ=2:')\n",
    "print(' b0 =', result.intercept_[1], '   b1 =', result.coef_[1][0],\n",
    "      'b2 =', result.coef_[1][1], '  b3 =', result.coef_[1][2],\n",
    "      '  b4 =', result.coef_[1][3])"
   ]
  },
  {
   "cell_type": "code",
   "execution_count": 84,
   "metadata": {},
   "outputs": [
    {
     "name": "stdout",
     "output_type": "stream",
     "text": [
      "             precision    recall  f1-score   support\n",
      "\n",
      "          1       0.87      1.00      0.93        13\n",
      "          2       1.00      0.90      0.95        21\n",
      "          3       1.00      1.00      1.00        10\n",
      "\n",
      "avg / total       0.96      0.95      0.96        44\n",
      "\n",
      "The error rate for j=1 is 0.13 and the error rate for j=2 is 1.\n",
      "Validation set MSE = 0.045454545454545456\n"
     ]
    }
   ],
   "source": [
    "Y_pred_1 = MultLogReg.predict(X_test)\n",
    "print(classification_report(Y_test, Y_pred_1))\n",
    "# print(classification_report(y_test, y_pred))\n",
    "print (f'The error rate for j=1 is {1-0.87} and the error rate for j=2 is 1.')\n",
    "print(f'Validation set MSE = {mean_squared_error(Y_test, Y_pred_1)}')"
   ]
  },
  {
   "cell_type": "markdown",
   "metadata": {},
   "source": [
    "J = 2 has a perfect precision value of 1"
   ]
  },
  {
   "cell_type": "markdown",
   "metadata": {},
   "source": [
    "### B)"
   ]
  },
  {
   "cell_type": "code",
   "execution_count": 85,
   "metadata": {},
   "outputs": [],
   "source": [
    "Xvars = wines[['alco', 'malic', 'tot_phen', 'color_int']].values\n",
    "yvals = wines['cultivar'].values\n",
    "loo = LeaveOneOut()\n",
    "loo.get_n_splits(Xvars)\n",
    "N_loo = Xvars.shape[0]\n",
    "MSE = pd.DataFrame({'index': np.zeros(N_loo), \n",
    "                    'error': np.zeros(N_loo), \n",
    "                    'Y_pred': np.zeros(N_loo),\n",
    "                    'Y_test': np.zeros(N_loo)})"
   ]
  },
  {
   "cell_type": "code",
   "execution_count": 86,
   "metadata": {
    "collapsed": true
   },
   "outputs": [],
   "source": [
    "for train_index, test_index in loo.split(Xvals):\n",
    "    X_train, X_test = Xvars[train_index], Xvars[test_index]\n",
    "    Y_train, Y_test = Yvals[train_index], Yvals[test_index]\n",
    "    LogReg = LogisticRegression(multi_class='multinomial',\n",
    "                                solver='newton-cg')\n",
    "    LogReg.fit(X_train, Y_train)\n",
    "    Y_pred = LogReg.predict(X_test)\n",
    "    MSE['index'][test_index] = test_index\n",
    "    MSE['error'][test_index] = (((Y_test - Y_pred) ** 2) != 0).astype(int)\n",
    "    MSE['Y_pred'][test_index] = Y_pred\n",
    "    MSE['Y_test'][test_index] = Y_test"
   ]
  },
  {
   "cell_type": "code",
   "execution_count": 101,
   "metadata": {},
   "outputs": [
    {
     "name": "stdout",
     "output_type": "stream",
     "text": [
      "             precision    recall  f1-score   support\n",
      "\n",
      "        1.0      0.902     0.932     0.917        59\n",
      "        2.0      0.914     0.901     0.908        71\n",
      "        3.0      0.956     0.935     0.945        46\n",
      "\n",
      "avg / total      0.921     0.920     0.921       176\n",
      "\n",
      "Error rate class 1: 0.09836065573770492 , STD is 0.3002730997379377\n",
      "Error rate class 2: 0.08571428571428572 , STD is 0.2819629507400967\n",
      "Error rate class 3: 0.044444444444444446 , STD is 0.20840907713999288\n",
      "Average MSE all: 0.07954545454545454 , std is 0.2713602101199873\n"
     ]
    }
   ],
   "source": [
    "error_1 = MSE[MSE['Y_pred'] == 1]['error'].mean()\n",
    "error_2 = MSE[MSE['Y_pred'] == 2]['error'].mean()\n",
    "error_3 = MSE[MSE['Y_pred'] == 3]['error'].mean()\n",
    "General_MSE = MSE['error'].mean()\n",
    "\n",
    "\n",
    "print(classification_report(MSE['Y_test'], MSE['Y_pred'], digits=3))\n",
    "print('Error rate class 1:', error_1, ', STD is', MSE[MSE['Y_pred'] == 1]['error'].std())\n",
    "print('Error rate class 2:', error_2, ', STD is', MSE[MSE['Y_pred'] == 2]['error'].std())\n",
    "print('Error rate class 3:', error_3, ', STD is', MSE[MSE['Y_pred'] == 3]['error'].std())\n",
    "print('Average MSE all:', General_MSE,\n",
    "      ', std is', MSE['error'].std())"
   ]
  },
  {
   "cell_type": "markdown",
   "metadata": {},
   "source": [
    "### C)"
   ]
  },
  {
   "cell_type": "code",
   "execution_count": 88,
   "metadata": {},
   "outputs": [
    {
     "name": "stdout",
     "output_type": "stream",
     "text": [
      "k index= 0\n",
      "MSE for test set 0  is 0.159090909091\n",
      "             precision    recall  f1-score   support\n",
      "\n",
      "          1       0.71      1.00      0.83        12\n",
      "          2       1.00      0.75      0.86        24\n",
      "          3       0.78      0.88      0.82         8\n",
      "\n",
      "avg / total       0.88      0.84      0.84        44\n",
      "\n",
      "k index= 1\n",
      "MSE for test set 1  is 0.113636363636\n",
      "             precision    recall  f1-score   support\n",
      "\n",
      "          1       1.00      0.76      0.87        17\n",
      "          2       0.69      1.00      0.81        11\n",
      "          3       1.00      0.94      0.97        16\n",
      "\n",
      "avg / total       0.92      0.89      0.89        44\n",
      "\n",
      "k index= 2\n",
      "MSE for test set 2  is 0.0454545454545\n",
      "             precision    recall  f1-score   support\n",
      "\n",
      "          1       0.94      1.00      0.97        15\n",
      "          2       0.94      0.94      0.94        16\n",
      "          3       1.00      0.92      0.96        13\n",
      "\n",
      "avg / total       0.96      0.95      0.95        44\n",
      "\n",
      "k index= 3\n",
      "MSE for test set 3  is 0.0454545454545\n",
      "             precision    recall  f1-score   support\n",
      "\n",
      "          1       0.88      1.00      0.94        15\n",
      "          2       1.00      0.90      0.95        20\n",
      "          3       1.00      1.00      1.00         9\n",
      "\n",
      "avg / total       0.96      0.95      0.95        44\n",
      "\n"
     ]
    }
   ],
   "source": [
    "k=4\n",
    "kf = KFold(n_splits=k, shuffle=True, random_state=10)\n",
    "kf.get_n_splits(Xvars)\n",
    "MSE_vec_kf = np.zeros(k)\n",
    "\n",
    "k_ind = int(0)\n",
    "for train_index, test_index in kf.split(Xvars):\n",
    "    print('k index=', k_ind)\n",
    "    X_train, X_test = Xvars[train_index], Xvars[test_index]\n",
    "    y_train, y_test = yvals[train_index], yvals[test_index]\n",
    "    LogReg = LogisticRegression(multi_class='multinomial',\n",
    "                                solver='newton-cg')\n",
    "    LogReg.fit(X_train, y_train)\n",
    "    y_pred = LogReg.predict(X_test)\n",
    "    MSE_vec_kf[k_ind] = (y_test != y_pred).mean()\n",
    "    print('MSE for test set', k_ind, ' is', MSE_vec_kf[k_ind])\n",
    "    print(classification_report(y_test, y_pred))\n",
    "    k_ind += 1\n",
    "\n",
    "MSE_kf = MSE_vec_kf.mean()\n",
    "MSE_kf_std = MSE_vec_kf.std()"
   ]
  },
  {
   "cell_type": "code",
   "execution_count": 102,
   "metadata": {},
   "outputs": [
    {
     "name": "stdout",
     "output_type": "stream",
     "text": [
      "Test estimate MSE k-fold: 0.0909090909091 \n",
      "Test estimate MSE standard error: 0.04821182599\n",
      "\n",
      "Error rate Class 1:  0.11750000000000005\n",
      "Error rate Class 2:  0.09250000000000003\n",
      "Error rate Class 3:  0.05499999999999994\n"
     ]
    }
   ],
   "source": [
    "print('Test estimate MSE k-fold:', MSE_kf,\n",
    "      '\\nTest estimate MSE standard error:', MSE_kf_std)\n",
    "\n",
    "print('\\nError rate Class 1: ', 1- (0.71 + 1.00 + 0.94 + 0.88)/4)\n",
    "print('Error rate Class 2: ', 1- (1.00 + 0.69 + 0.94 + 1.00)/4)\n",
    "print('Error rate Class 3: ', 1- (0.78 + 1.00 + 1.00 + 1.00)/4)"
   ]
  },
  {
   "cell_type": "markdown",
   "metadata": {},
   "source": [
    "K-folds performed worse than both multinomial logistic regression and LOOCV. ALso, in K-folds the MSE is higher (.09 vs .07) than in the previous test."
   ]
  },
  {
   "cell_type": "markdown",
   "metadata": {},
   "source": [
    "### Part 2"
   ]
  },
  {
   "cell_type": "markdown",
   "metadata": {},
   "source": [
    "### A)"
   ]
  },
  {
   "cell_type": "code",
   "execution_count": 90,
   "metadata": {},
   "outputs": [
    {
     "data": {
      "image/png": "[encoded data removed]",
      "text/plain": [
       "<matplotlib.figure.Figure at 0x22969dbf6d8>"
      ]
     },
     "metadata": {},
     "output_type": "display_data"
    }
   ],
   "source": [
    "# Load Data\n",
    "cooli = pd.read_csv('CoolIndex.txt', header = None)\n",
    "cooli.columns = ['age', 'Coolness']\n",
    "age = cooli['age']\n",
    "coolness = cooli['Coolness']\n",
    "age_vec = np.linspace(age.values.min(), age.values.max(), 1000)\n",
    "\n",
    "plt.scatter(age, coolness, color = 'grey')\n",
    "plt.xlabel('Age')\n",
    "plt.ylabel('Coolness Index')\n",
    "plt.title('Coolness Index and Age')\n",
    "plt.show()"
   ]
  },
  {
   "cell_type": "markdown",
   "metadata": {},
   "source": [
    "### B)"
   ]
  },
  {
   "cell_type": "code",
   "execution_count": 91,
   "metadata": {},
   "outputs": [
    {
     "name": "stdout",
     "output_type": "stream",
     "text": [
      "                            OLS Regression Results                            \n",
      "==============================================================================\n",
      "Dep. Variable:               Coolness   R-squared:                       0.429\n",
      "Model:                            OLS   Adj. R-squared:                  0.427\n",
      "Method:                 Least Squares   F-statistic:                     178.7\n",
      "Date:                Mon, 19 Feb 2018   Prob (F-statistic):          3.73e-114\n",
      "Time:                        07:10:27   Log-Likelihood:                -3214.5\n",
      "No. Observations:                 956   AIC:                             6439.\n",
      "Df Residuals:                     951   BIC:                             6463.\n",
      "Df Model:                           4                                         \n",
      "Covariance Type:            nonrobust                                         \n",
      "==============================================================================\n",
      "                 coef    std err          t      P>|t|      [0.025      0.975]\n",
      "------------------------------------------------------------------------------\n",
      "age_11_22     20.1025      0.562     35.746      0.000      18.999      21.206\n",
      "age_22_40     34.4758      0.431     80.006      0.000      33.630      35.321\n",
      "age_40_59     37.6351      0.424     88.814      0.000      36.804      38.467\n",
      "age_59_77     35.2254      0.485     72.560      0.000      34.273      36.178\n",
      "age_77_95     27.2964      0.936     29.175      0.000      25.460      29.132\n",
      "==============================================================================\n",
      "Omnibus:                       80.102   Durbin-Watson:                   1.236\n",
      "Prob(Omnibus):                  0.000   Jarque-Bera (JB):              101.718\n",
      "Skew:                           0.714   Prob(JB):                     8.17e-23\n",
      "Kurtosis:                       3.719   Cond. No.                         2.21\n",
      "==============================================================================\n",
      "\n",
      "Warnings:\n",
      "[1] Standard Errors assume that the covariance matrix of the errors is correctly specified.\n"
     ]
    }
   ],
   "source": [
    "age_11_22 = ((age >= 11) & (age < 22)).astype(int)\n",
    "age_22_40 = ((age >= 22) & (age < 40)).astype(int)\n",
    "age_40_59 = ((age >= 40) & (age < 59)).astype(int)\n",
    "age_59_77 = ((age >= 59) & (age < 77)).astype(int)\n",
    "age_77_95 = ((age >= 77) & (age <= 95) ).astype(int)\n",
    "X_step = pd.DataFrame(dict(age_22_40=age_22_40, age_11_22=age_11_22,\n",
    "                           age_40_59=age_40_59, age_59_77=age_59_77,\n",
    "                           age_77_95=age_77_95))\n",
    "\n",
    "reg2 = sm.OLS(endog=coolness, exog=X_step, missing='drop')\n",
    "reg2_results = reg2.fit()\n",
    "y_pred_1 = reg2_results.predict(X_step)\n",
    "print(reg2_results.summary())"
   ]
  },
  {
   "cell_type": "code",
   "execution_count": 92,
   "metadata": {},
   "outputs": [
    {
     "data": {
      "image/png": "[encoded data removed]",
      "text/plain": [
       "<matplotlib.figure.Figure at 0x22969dd23c8>"
      ]
     },
     "metadata": {},
     "output_type": "display_data"
    }
   ],
   "source": [
    "plt.scatter(age, coolness, label=None, color='grey')\n",
    "plt.plot(cooli.age, y_pred_1, color = 'b', label='Stepwise')\n",
    "\n",
    "plt.ylabel('Coolness Index')\n",
    "plt.xlabel('Age')\n",
    "plt.title('Coolness Index and Age')\n",
    "plt.legend(loc='upper left')\n",
    "plt.show()"
   ]
  },
  {
   "cell_type": "code",
   "execution_count": 93,
   "metadata": {},
   "outputs": [
    {
     "name": "stdout",
     "output_type": "stream",
     "text": [
      "b1 = 20.1024572521 ,b2 = 34.4757880776 \n",
      "b3 = 37.6351054924 ,b4 = 35.2254000402 \n",
      "b5 = 27.2963782443\n",
      "Predicted Coolness of 73-year old is 35.2254000402\n"
     ]
    }
   ],
   "source": [
    "b1, b2, b3, b4, b5 = reg2_results.params\n",
    "print('b1 =', b1, ',b2 =', b2,\n",
    "      '\\nb3 =', b3, ',b4 =', b4,\n",
    "      '\\nb5 =', b5)\n",
    "\n",
    "print('Predicted Coolness of 73-year old is', reg2_results.params[3])"
   ]
  },
  {
   "cell_type": "markdown",
   "metadata": {},
   "source": [
    "### C)"
   ]
  },
  {
   "cell_type": "code",
   "execution_count": 100,
   "metadata": {},
   "outputs": [],
   "source": [
    "# Linear SPline\n",
    "\n",
    "# Using UnivariateSPline function from SKlearn\n",
    "\n",
    "knots = [22, 40, 59, 77]\n",
    "spl_linear = LSQUnivariateSpline(age.values, coolness.values, knots, k=1)\n",
    "y_pred_2 = spl_linear(age)"
   ]
  },
  {
   "cell_type": "code",
   "execution_count": 95,
   "metadata": {},
   "outputs": [
    {
     "data": {
      "image/png": "[encoded data removed]",
      "text/plain": [
       "<matplotlib.figure.Figure at 0x22968a53240>"
      ]
     },
     "metadata": {},
     "output_type": "display_data"
    }
   ],
   "source": [
    "plt.scatter(age, coolness, label=None, color='grey')\n",
    "plt.plot(cooli.age, y_pred_1, color = 'b', label='Stepwise')\n",
    "plt.plot(cooli.age, y_pred_2, color = 'red', label='Linear Spline')\n",
    "\n",
    "plt.ylabel('Coolness Index')\n",
    "plt.xlabel('Age')\n",
    "plt.title('Coolness Index and Age')\n",
    "plt.legend(loc='upper left')\n",
    "plt.show()"
   ]
  },
  {
   "cell_type": "code",
   "execution_count": 96,
   "metadata": {},
   "outputs": [
    {
     "name": "stdout",
     "output_type": "stream",
     "text": [
      "Predicted Coolness of 73-year old is 32.536832389143306\n"
     ]
    }
   ],
   "source": [
    "print('Predicted Coolness of 73-year old is', spl_linear(73))"
   ]
  },
  {
   "cell_type": "markdown",
   "metadata": {},
   "source": [
    "### D)"
   ]
  },
  {
   "cell_type": "code",
   "execution_count": 99,
   "metadata": {},
   "outputs": [
    {
     "data": {
      "image/png": "[encoded data removed]",
      "text/plain": [
       "<matplotlib.figure.Figure at 0x22968a01978>"
      ]
     },
     "metadata": {},
     "output_type": "display_data"
    }
   ],
   "source": [
    "# Cubic Spline\n",
    "\n",
    "# Using UnivariateSpline function\n",
    "spl_cubic = LSQUnivariateSpline(age.values, coolness.values, knots, k=3)\n",
    "y_pred_3 = spl_cubic(cooli.age)\n",
    "\n",
    "plt.scatter(age, coolness, label=None, color='grey')\n",
    "plt.plot(cool.age, y_pred_1, color = 'b',label='Stepwise')\n",
    "plt.plot(cool.age, y_pred_2, color = 'red', label='Linear Spline')\n",
    "plt.plot(cool.age, y_pred_3, color = 'black',label='Cubic')\n",
    "plt.legend(loc='upper left')\n",
    "\n",
    "plt.xlabel('Age')\n",
    "plt.ylabel('Coolness index')\n",
    "plt.title('Coolness Index and Age')\n",
    "plt.show()"
   ]
  },
  {
   "cell_type": "code",
   "execution_count": 98,
   "metadata": {},
   "outputs": [
    {
     "name": "stdout",
     "output_type": "stream",
     "text": [
      "Predicted Coolness of 73-year old = 31.262429389257864\n"
     ]
    }
   ],
   "source": [
    "print('Predicted Coolness of 73-year old =', spl_cubic(73))"
   ]
  }
 ],
 "metadata": {
  "kernelspec": {
   "display_name": "Python 3",
   "language": "python",
   "name": "python3"
  },
  "language_info": {
   "codemirror_mode": {
    "name": "ipython",
    "version": 3
   },
   "file_extension": ".py",
   "mimetype": "text/x-python",
   "name": "python",
   "nbconvert_exporter": "python",
   "pygments_lexer": "ipython3",
   "version": "3.6.3"
  }
 },
 "nbformat": 4,
 "nbformat_minor": 2
}
