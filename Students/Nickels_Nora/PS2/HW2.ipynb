{
 "cells": [
  {
   "cell_type": "code",
   "execution_count": null,
   "metadata": {
    "collapsed": false
   },
   "outputs": [],
   "source": [
    "# Nora Nickels\n",
    "# MACS POCM Winter 2018\n",
    "# HW 2\n",
    "\n",
    "# Please bear with me this is my first time using python and I apologize for the ugliness of this ...\n",
    "# R I miss you already\n",
    "\n",
    "import numpy as np\n",
    "import scipy.stats as sts\n",
    "import matplotlib.pyplot as plt\n",
    "\n",
    "# This next command is specifically for Jupyter Notebook\n",
    "%matplotlib notebook\n",
    "\n",
    "# 1. Some income data, lognormal distribution, and hypothesis testing (6 points)\n",
    "\n",
    "# Load incomes data\n",
    "incomes = np.loadtxt('incomes.txt')\n",
    "incomes"
   ]
  },
  {
   "cell_type": "code",
   "execution_count": null,
   "metadata": {
    "collapsed": false,
    "scrolled": true
   },
   "outputs": [],
   "source": [
    "# a. Plot histogram \n",
    "count, bins, ignored = plt.hist(incomes, 30, edgecolor='black', normed=True)\n",
    "plt.title('CSS Annual Incomes', fontsize=20)\n",
    "plt.xlabel('U.S. Dollars')\n",
    "plt.ylabel('Percent of Income Observations')\n",
    "plt.xlim([0, 150000])  # This gives the xmin and xmax to be plotted\"\n",
    "# Don't set this figure until have played with the figure below"
   ]
  },
  {
   "cell_type": "code",
   "execution_count": null,
   "metadata": {
    "collapsed": false
   },
   "outputs": [],
   "source": [
    "# b. Plot lognormal PDF and generate log likelihood value\n",
    "# Define function that generates values of a potentially lognormal\n",
    "# probability density function (PDF)\n",
    "def lognorm_pdf(xvals, mu, sigma, cutoff):\n",
    "    '''\n",
    "    --------------------------------------------------------------------\n",
    "    Generate pdf values from the truncated normal pdf with mean mu and\n",
    "    standard deviation sigma. If the cutoff is finite, then the PDF\n",
    "    values are inflated upward to reflect the zero probability on values\n",
    "    above the cutoff. If there is no cutoff given or if it is given as\n",
    "    infinity, this function does the same thing as\n",
    "    sp.stats.norm.pdf(x, loc=mu, scale=sigma).\n",
    "    --------------------------------------------------------------------\n",
    "    INPUTS:\n",
    "    xvals  = (N,) vector, values of the normally distributed random\n",
    "             variable\n",
    "    mu     = scalar, mean of the normally distributed random variable\n",
    "    sigma  = scalar > 0, standard deviation of the normally distributed\n",
    "             random variable\n",
    "    cutoff = scalar or string, ='None' if no cutoff is given, otherwise\n",
    "             is scalar upper bound value of distribution. Values above\n",
    "             this value have zero probability\n",
    "    \n",
    "    OTHER FUNCTIONS AND FILES CALLED BY THIS FUNCTION: None\n",
    "    \n",
    "    OBJECTS CREATED WITHIN FUNCTION:\n",
    "    prob_notcut = scalar \n",
    "    pdf_vals = (N,) vector, normal PDF values for mu and sigma\n",
    "               corresponding to xvals data\n",
    "    \n",
    "    FILES CREATED BY THIS FUNCTION: None\n",
    "    \n",
    "    RETURNS: pdf_vals\n",
    "    --------------------------------------------------------------------\n",
    "    '''\n",
    "    if cutoff == 'None':\n",
    "        prob_notcut = 1.0 - sts.lognorm.cdf(0, loc=mu, s=sigma, scale=1)\n",
    "    else:\n",
    "        prob_notcut = (sts.lognorm.cdf(cutoff, loc=mu, s=sigma, scale=1) -\n",
    "                       sts.lognorm.cdf(0, loc=mu, s=sigma, scale=1))\n",
    "            \n",
    "    pdf_vals    = ((1/(xvals * sigma * np.sqrt(2 * np.pi)) *\n",
    "                    np.exp( - (np.log(xvals) - mu)**2 / (2 * sigma**2))) /\n",
    "                    prob_notcut)\n",
    "    \n",
    "    return pdf_vals\n",
    "\n",
    "dist_inc = np.linspace(1e-10, 150000, 200)\n",
    "mu_1 = 11\n",
    "sig_1 = 0.5\n",
    "plt.plot(dist_inc, lognorm_pdf(dist_inc, mu_1, sig_1, 'None'),\n",
    "         linewidth=2, color='r', label='1: $\\mu$=11,$\\sigma$=0.5')\n",
    "plt.legend(loc='upper left')\n",
    "plt.show()\n"
   ]
  },
  {
   "cell_type": "code",
   "execution_count": null,
   "metadata": {
    "collapsed": false
   },
   "outputs": [],
   "source": [
    "# b. continued\n",
    "# Define log likelihood function for the lognormal distribution\n",
    "def log_lik_lognorm(xvals, mu, sigma, cutoff):\n",
    "    pdf_vals = lognorm_pdf(xvals, mu, sigma, cutoff)\n",
    "    ln_pdf_vals = np.log(pdf_vals)\n",
    "    log_lik_val = ln_pdf_vals.sum()\n",
    "    \n",
    "    return log_lik_val\n",
    "\n",
    "print('Log-likelihood 1: ', log_lik_lognorm(incomes, mu_1, sig_1, 'None'))"
   ]
  },
  {
   "cell_type": "code",
   "execution_count": null,
   "metadata": {
    "collapsed": true
   },
   "outputs": [],
   "source": [
    "# c. Estimate the parameters of the lognormal distribution by MLE and plot PDF against PDF and histogram from parts a and b.\n",
    "\n",
    "def crit(params, *args):\n",
    "    mu, sigma = params\n",
    "    xvals, cutoff = args\n",
    "    log_lik_val = log_lik_lognorm(xvals, mu, sigma, cutoff)\n",
    "    neg_log_lik_val = -log_lik_val\n",
    "    \n",
    "    return neg_log_lik_val"
   ]
  },
  {
   "cell_type": "code",
   "execution_count": null,
   "metadata": {
    "collapsed": false
   },
   "outputs": [],
   "source": [
    "# Report the ML estimates for mu and sigma.\n",
    "\n",
    "import scipy.optimize as opt\n",
    "\n",
    "mu_init = 11  # mu_1\n",
    "sig_init = 0.5  # sig_1\n",
    "params_init = np.array([mu_init, sig_init])\n",
    "mle_args = (incomes, 150000)\n",
    "results = opt.minimize(crit, params_init, args=(mle_args), method='L-BFGS-B',\n",
    "                       bounds=((0.1, None), (0.1, None)))\n",
    "mu_MLE, sig_MLE = results.x\n",
    "print('mu_MLE=', mu_MLE, ' sig_MLE=', sig_MLE)\n",
    "results"
   ]
  },
  {
   "cell_type": "code",
   "execution_count": null,
   "metadata": {
    "collapsed": false
   },
   "outputs": [],
   "source": [
    "# Plot the PDF against PDF and histogram from part a and b. \n",
    "\n",
    "plt.plot(dist_inc, lognorm_pdf(dist_inc, mu_MLE, sig_MLE, 150000),\n",
    "         linewidth=2, color='g', label='2: $\\mu$=11.359,$\\sigma$=0.208')\n",
    "plt.legend(loc='upper left')"
   ]
  },
  {
   "cell_type": "code",
   "execution_count": null,
   "metadata": {
    "collapsed": false
   },
   "outputs": [],
   "source": [
    "# Report the value of likelihood.\n",
    "\n",
    "print('Log-likelihood 1: ', log_lik_lognorm(incomes, mu_1, sig_1, 150000))\n",
    "print('MLE log-likelihood 3: ', log_lik_lognorm(incomes, mu_MLE, sig_MLE, 150000))"
   ]
  },
  {
   "cell_type": "code",
   "execution_count": null,
   "metadata": {
    "collapsed": false
   },
   "outputs": [],
   "source": [
    "# Variance covariance matrix.\n",
    "\n",
    "results\n",
    "OffDiagNeg = np.array([[1, -1], [-1, 1]])\n",
    "vcv_mle = results.hess_inv * OffDiagNeg\n",
    "stderr_mu_mle = np.sqrt(vcv_mle[0,0])\n",
    "stderr_sig_mle = np.sqrt(vcv_mle[1,1])\n",
    "print('VCV(MLE) = ', vcv_mle)\n",
    "print('Standard error for mu estimate = ', stderr_mu_mle)\n",
    "print('Standard error for sigma estimate = ', stderr_sig_mle)"
   ]
  },
  {
   "cell_type": "code",
   "execution_count": null,
   "metadata": {
    "collapsed": false
   },
   "outputs": [],
   "source": [
    "# d. Perform a likelihood ratio test. \n",
    "\n",
    "log_lik_h0 = log_lik_lognorm(incomes, mu_1, sig_1, 150000)\n",
    "log_lik_mle = log_lik_lognorm(incomes, mu_MLE, sig_MLE, 150000)\n",
    "LR_val = 2 * (log_lik_mle - log_lik_h0)\n",
    "pval_h0 = 1.0 - sts.chi2.cdf(LR_val, 2)\n",
    "print('chi squared of H0 with 2 degrees of freedom p-value = ', pval_h0)"
   ]
  },
  {
   "cell_type": "code",
   "execution_count": null,
   "metadata": {
    "collapsed": false
   },
   "outputs": [],
   "source": [
    "# e. What's the probability I'll earn more than $100k? What's the probability I'll earn less than $75k?\n",
    "\n",
    "from scipy.integrate import quad\n",
    "above_100000 = quad(lognorm_pdf, 100000, 150000, args = (mu_MLE, sig_MLE, 150000))\n",
    "below_75000 = quad(lognorm_pdf, 1e-10, 75000, args = (mu_MLE, sig_MLE, 150000))\n",
    "print(\"Probability\", above_100000[0])\n",
    "print(\"Probability\", below_75000[0])"
   ]
  },
  {
   "cell_type": "code",
   "execution_count": null,
   "metadata": {
    "collapsed": false
   },
   "outputs": [],
   "source": [
    "# 2. Linear Regression and MLE (4 points)\n",
    "\n",
    "import numpy as np\n",
    "import scipy.stats as sts\n",
    "import matplotlib.pyplot as plt\n",
    "import pandas as pd\n",
    "import scipy.optimize as opt\n",
    "\n",
    "# Get sick data.\n",
    "\n",
    "data_sick = pd.read_csv('sick.txt')\n",
    "sick_weeks = data_sick[\"sick\"]\n",
    "age = data_sick[\"age\"]\n",
    "children = data_sick[\"children\"]\n",
    "temp = data_sick[\"avgtemp_winter\"]\n",
    "variables = (sick_weeks, age, children, temp)\n",
    "n = len(data_sick)\n"
   ]
  },
  {
   "cell_type": "code",
   "execution_count": null,
   "metadata": {
    "collapsed": true
   },
   "outputs": [],
   "source": [
    "#a. Estimate the parameters of the model by maximum likelihood.\n",
    "\n",
    "def error_normal(params, variables):\n",
    "    b0, b1, b2, b3, sigma = params\n",
    "    sick_weeks, age, children, temp = variables\n",
    "    error = (sick_weeks - b0 - b1 * age - b2 * children - b3 * temp) ** 2\n",
    "    return error.sum()"
   ]
  },
  {
   "cell_type": "code",
   "execution_count": null,
   "metadata": {
    "collapsed": true
   },
   "outputs": [],
   "source": [
    "def log_lik_val(params, variables, n):\n",
    "    error = error_normal(params, variables)\n",
    "    b0, b1, b2, b3, sigma = params\n",
    "    log_lik = - (n * np.log (2 * np.pi)) / 2  - (n * np.log(sigma ** 2)) / 2 - (1 / (2 * sigma ** 2)) * error\n",
    "    \n",
    "    return log_lik"
   ]
  },
  {
   "cell_type": "code",
   "execution_count": null,
   "metadata": {
    "collapsed": true
   },
   "outputs": [],
   "source": [
    "def crit(params, *variables):\n",
    "    b0, b1, b2, b3, sigma = params\n",
    "    sick_weeks, age, children, temp = variables\n",
    "    log_lik_val = log_lik_val(params, variables)\n",
    "    \n",
    "    return -log_lik_val"
   ]
  },
  {
   "cell_type": "code",
   "execution_count": null,
   "metadata": {
    "collapsed": false
   },
   "outputs": [],
   "source": [
    "# \n",
    "\n",
    "b0_1, b1_1, b2_1, b3_1, sigma_1 = (0.1, 0.1, 0.1, 0.1, 0.1)\n",
    "params_init = np.array([b0_1, b1_1, b2_1, b3_1, sigma_1])\n",
    "mle_args = (sick_weeks, age, children, temp)\n",
    "\n",
    "results = opt.minimize(crit, params_init, args = (mle_args), method = 'L-BFGS-B',\n",
    "                       bounds=((None, None), (None, None),(None, None), (None, None),(1e-10, None)))\n",
    "\n",
    "b0_MLE, b1_MLE, b2_MLE, b3_MLE, sigma_MLE = results.x\n",
    "\n",
    "print('b0_MLE=', b0_MLE, 'b1_MLE=', b1_MLE, 'b2_MLE=', b2_MLE, 'b3_MLE=', b3_MLE, 'sig_MLE=', sig_MLE)\n",
    "\n",
    "\n",
    "log_estimate = crit(params_init, sick_weeks, age, children, temp)\n",
    "log_estimate"
   ]
  },
  {
   "cell_type": "code",
   "execution_count": null,
   "metadata": {
    "collapsed": true
   },
   "outputs": [],
   "source": [
    "# Variance Covariance matrix\n",
    "\n",
    "results\n",
    "OffDiagNeg = np.eye(5)*2-1\n",
    "vcv_mle = results.hess_inv.todense() * OffDiagNeg\n",
    "print('VCV(MLE) = ', vcv_mle)"
   ]
  },
  {
   "cell_type": "code",
   "execution_count": null,
   "metadata": {
    "collapsed": true
   },
   "outputs": [],
   "source": [
    "# b. Likelihood ratio test.\n",
    "\n",
    "b0_1, b1_1, b2_1, b3_1, sigma_1 = (0.1, 0.1, 0.1, 0.1, 0.1)\n",
    "params_init = np.array([b0_1, b1_1, b2_1, b3_1, sigma_1])\n",
    "\n",
    "log_lik_h0 = log_lik_val(params_init, sick_weeks, age, children, temp)\n",
    "log_lik_mle = log_lik_val(results.x, sick_weeks, age, children, temp)\n",
    "LR_val = 2 * (log_lik_mle - log_lik_h0)\n",
    "pval_h0 = 1.0 - sts.chi2.cdf(LR_val, 5)\n",
    "print('chi squared of H0 with 2 degrees of freedom p-value = ', pval_h0)"
   ]
  }
 ],
 "metadata": {
  "anaconda-cloud": {},
  "kernelspec": {
   "display_name": "Python [conda root]",
   "language": "python",
   "name": "conda-root-py"
  },
  "language_info": {
   "codemirror_mode": {
    "name": "ipython",
    "version": 3
   },
   "file_extension": ".py",
   "mimetype": "text/x-python",
   "name": "python",
   "nbconvert_exporter": "python",
   "pygments_lexer": "ipython3",
   "version": "3.5.2"
  }
 },
 "nbformat": 4,
 "nbformat_minor": 1
}
