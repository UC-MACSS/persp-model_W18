{
 "cells": [
  {
   "cell_type": "markdown",
   "metadata": {},
   "source": [
    "# Problem Set 8\n",
    "## Nora Nickels\n",
    "### Perspectives of Computational Modeling\n",
    "### Winter 2018"
   ]
  },
  {
   "cell_type": "markdown",
   "metadata": {},
   "source": [
    "## Problem 1: Neural Network Horse Race"
   ]
  },
  {
   "cell_type": "code",
   "execution_count": 1,
   "metadata": {},
   "outputs": [],
   "source": [
    "# Import packages\n",
    "\n",
    "import pandas as pd\n",
    "import matplotlib.pyplot as plt\n",
    "import seaborn as sb\n",
    "import numpy as np\n",
    "import scipy.stats as sts\n",
    "import matplotlib.pyplot as plt\n",
    "from pylab import rcParams\n",
    "%matplotlib notebook\n",
    "%matplotlib inline\n",
    "rcParams['figure.figsize'] = 10, 8\n",
    "sb.set_style('whitegrid')"
   ]
  },
  {
   "cell_type": "code",
   "execution_count": 2,
   "metadata": {},
   "outputs": [
    {
     "data": {
      "text/html": [
       "<div>\n",
       "<table border=\"1\" class=\"dataframe\">\n",
       "  <thead>\n",
       "    <tr style=\"text-align: right;\">\n",
       "      <th></th>\n",
       "      <th>cultivar</th>\n",
       "      <th>alco</th>\n",
       "      <th>malic</th>\n",
       "      <th>ash</th>\n",
       "      <th>alk</th>\n",
       "      <th>magn</th>\n",
       "      <th>tot_phen</th>\n",
       "      <th>flav</th>\n",
       "      <th>nonfl_phen</th>\n",
       "      <th>proanth</th>\n",
       "      <th>color_int</th>\n",
       "      <th>hue</th>\n",
       "      <th>OD280rat</th>\n",
       "      <th>proline</th>\n",
       "    </tr>\n",
       "  </thead>\n",
       "  <tbody>\n",
       "    <tr>\n",
       "      <th>0</th>\n",
       "      <td>1</td>\n",
       "      <td>14.23</td>\n",
       "      <td>1.71</td>\n",
       "      <td>2.43</td>\n",
       "      <td>15.6</td>\n",
       "      <td>127</td>\n",
       "      <td>2.80</td>\n",
       "      <td>3.06</td>\n",
       "      <td>0.28</td>\n",
       "      <td>2.29</td>\n",
       "      <td>5.64</td>\n",
       "      <td>1.04</td>\n",
       "      <td>3.92</td>\n",
       "      <td>1065</td>\n",
       "    </tr>\n",
       "    <tr>\n",
       "      <th>1</th>\n",
       "      <td>1</td>\n",
       "      <td>13.20</td>\n",
       "      <td>1.78</td>\n",
       "      <td>2.14</td>\n",
       "      <td>11.2</td>\n",
       "      <td>100</td>\n",
       "      <td>2.65</td>\n",
       "      <td>2.76</td>\n",
       "      <td>0.26</td>\n",
       "      <td>1.28</td>\n",
       "      <td>4.38</td>\n",
       "      <td>1.05</td>\n",
       "      <td>3.40</td>\n",
       "      <td>1050</td>\n",
       "    </tr>\n",
       "    <tr>\n",
       "      <th>2</th>\n",
       "      <td>1</td>\n",
       "      <td>13.16</td>\n",
       "      <td>2.36</td>\n",
       "      <td>2.67</td>\n",
       "      <td>18.6</td>\n",
       "      <td>101</td>\n",
       "      <td>2.80</td>\n",
       "      <td>3.24</td>\n",
       "      <td>0.30</td>\n",
       "      <td>2.81</td>\n",
       "      <td>5.68</td>\n",
       "      <td>1.03</td>\n",
       "      <td>3.17</td>\n",
       "      <td>1185</td>\n",
       "    </tr>\n",
       "    <tr>\n",
       "      <th>3</th>\n",
       "      <td>1</td>\n",
       "      <td>14.37</td>\n",
       "      <td>1.95</td>\n",
       "      <td>2.50</td>\n",
       "      <td>16.8</td>\n",
       "      <td>113</td>\n",
       "      <td>3.85</td>\n",
       "      <td>3.49</td>\n",
       "      <td>0.24</td>\n",
       "      <td>2.18</td>\n",
       "      <td>7.80</td>\n",
       "      <td>0.86</td>\n",
       "      <td>3.45</td>\n",
       "      <td>1480</td>\n",
       "    </tr>\n",
       "    <tr>\n",
       "      <th>4</th>\n",
       "      <td>1</td>\n",
       "      <td>13.24</td>\n",
       "      <td>2.59</td>\n",
       "      <td>2.87</td>\n",
       "      <td>21.0</td>\n",
       "      <td>118</td>\n",
       "      <td>2.80</td>\n",
       "      <td>2.69</td>\n",
       "      <td>0.39</td>\n",
       "      <td>1.82</td>\n",
       "      <td>4.32</td>\n",
       "      <td>1.04</td>\n",
       "      <td>2.93</td>\n",
       "      <td>735</td>\n",
       "    </tr>\n",
       "  </tbody>\n",
       "</table>\n",
       "</div>"
      ],
      "text/plain": [
       "   cultivar   alco  malic   ash   alk  magn  tot_phen  flav  nonfl_phen  \\\n",
       "0         1  14.23   1.71  2.43  15.6   127      2.80  3.06        0.28   \n",
       "1         1  13.20   1.78  2.14  11.2   100      2.65  2.76        0.26   \n",
       "2         1  13.16   2.36  2.67  18.6   101      2.80  3.24        0.30   \n",
       "3         1  14.37   1.95  2.50  16.8   113      3.85  3.49        0.24   \n",
       "4         1  13.24   2.59  2.87  21.0   118      2.80  2.69        0.39   \n",
       "\n",
       "   proanth  color_int   hue  OD280rat  proline  \n",
       "0     2.29       5.64  1.04      3.92     1065  \n",
       "1     1.28       4.38  1.05      3.40     1050  \n",
       "2     2.81       5.68  1.03      3.17     1185  \n",
       "3     2.18       7.80  0.86      3.45     1480  \n",
       "4     1.82       4.32  1.04      2.93      735  "
      ]
     },
     "execution_count": 2,
     "metadata": {},
     "output_type": "execute_result"
    }
   ],
   "source": [
    "# Import the strongdrink data.\n",
    "\n",
    "strongdrink = pd.read_csv(\"strongdrink.txt\")\n",
    "strongdrink.head()"
   ]
  },
  {
   "cell_type": "markdown",
   "metadata": {},
   "source": [
    "### 1a) Scatterplot"
   ]
  },
  {
   "cell_type": "code",
   "execution_count": 3,
   "metadata": {},
   "outputs": [
    {
     "data": {
      "image/png": "[encoded data removed]",
      "text/plain": [
       "<matplotlib.figure.Figure at 0x11e5aec18>"
      ]
     },
     "metadata": {},
     "output_type": "display_data"
    }
   ],
   "source": [
    "# Use seaborn to create scatterplot, grouped by cultivar.\n",
    "\n",
    "sb.lmplot(x='alco', y='color_int', data = strongdrink, fit_reg = False, hue = 'cultivar')\n",
    "plt.xlabel(r'Alcohol')\n",
    "plt.ylabel(r'Color Intensity')\n",
    "plt.title('Alcohol and Color Intensity, Grouped by Cultivar')\n",
    "plt.show()"
   ]
  },
  {
   "cell_type": "markdown",
   "metadata": {},
   "source": [
    "### 1b) Multinomial logistic model using k-fold cross validation"
   ]
  },
  {
   "cell_type": "code",
   "execution_count": 5,
   "metadata": {},
   "outputs": [],
   "source": [
    "import sklearn\n",
    "from pandas import Series, DataFrame\n",
    "from sklearn import preprocessing\n",
    "from sklearn.linear_model import LogisticRegression\n",
    "from sklearn.cross_validation import train_test_split\n",
    "from sklearn.model_selection import LeaveOneOut, KFold\n",
    "from sklearn import metrics \n",
    "from sklearn.metrics import classification_report, mean_squared_error"
   ]
  },
  {
   "cell_type": "code",
   "execution_count": 6,
   "metadata": {
    "collapsed": true
   },
   "outputs": [],
   "source": [
    "# Define X and y variables for models.\n",
    "\n",
    "X = strongdrink[['alco', 'malic', 'tot_phen', 'color_int']].values\n",
    "y = strongdrink[['cultivar']].values.ravel()"
   ]
  },
  {
   "cell_type": "code",
   "execution_count": 43,
   "metadata": {},
   "outputs": [
    {
     "data": {
      "text/plain": [
       "4"
      ]
     },
     "execution_count": 43,
     "metadata": {},
     "output_type": "execute_result"
    }
   ],
   "source": [
    "# Define k-fold cross validation with k = 4 folds\n",
    "\n",
    "k = 4\n",
    "clf_mlog = KFold(n_splits=k, random_state=22, shuffle=True)\n",
    "clf_mlog.get_n_splits(X)"
   ]
  },
  {
   "cell_type": "code",
   "execution_count": 46,
   "metadata": {},
   "outputs": [
    {
     "name": "stdout",
     "output_type": "stream",
     "text": [
      "k index= 0\n",
      "MSE for test set 0  is 0.0454545454545\n",
      "k index= 1\n",
      "MSE for test set 1  is 0.0454545454545\n",
      "k index= 2\n",
      "MSE for test set 2  is 0.0681818181818\n",
      "k index= 3\n",
      "MSE for test set 3  is 0.113636363636\n",
      "test estimate MSE k-fold= 0.0681818181818\n"
     ]
    }
   ],
   "source": [
    "# Define vectors that are k elements long of MSE's.\n",
    "\n",
    "MSE_vec_kf = np.zeros(k)\n",
    "\n",
    "# Test model performance with k-fold cross validation\n",
    "\n",
    "k_ind = int(0)\n",
    "for train_index, test_index in clf_mlog.split(X):\n",
    "    # print(\"TRAIN:\", train_index, \"TEST:\", test_index)\n",
    "    print('k index=', k_ind)\n",
    "    X_train_k, X_test_k = X[train_index], X[test_index]\n",
    "    y_train_k, y_test_k = y[train_index], y[test_index]\n",
    "    MultLogReg_k = LogisticRegression(multi_class='multinomial', solver='newton-cg', C = 0.3)\n",
    "    MultLogReg_k.fit(X_train_k, y_train_k)\n",
    "    y_pred_k = MultLogReg_k.predict(X_test_k)\n",
    "    MSE_vec_kf[k_ind] = ((y_test_k - y_pred_k) ** 2).mean()\n",
    "    print('MSE for test set', k_ind, ' is', MSE_vec_kf[k_ind])\n",
    "    k_ind += 1\n",
    "    \n",
    "# Calculate overll MSE\n",
    "\n",
    "MSE_kf = MSE_vec_kf.mean()\n",
    "print('test estimate MSE k-fold=', MSE_kf)"
   ]
  },
  {
   "cell_type": "markdown",
   "metadata": {},
   "source": [
    "### 1b Report\n",
    "* The tuning parameter of penalty could not be adjusted, as the ‘newton-cg’ solver only supports only 12 penalties.\n",
    "* After playing with the tuning parameter value of C, which can be adjusted as a positive values, the lowest possible MSE was obtained with a C of 0.3. A smaller C specifies stronger regularization.\n",
    "* Therefore:\n",
    "* penalty = 12\n",
    "* C = 0.3\n",
    "* Minimized overall MSE = 0.0681818181818"
   ]
  },
  {
   "cell_type": "markdown",
   "metadata": {},
   "source": [
    "### 1c) Random forest classifier model using OOB cross validation"
   ]
  },
  {
   "cell_type": "code",
   "execution_count": 9,
   "metadata": {
    "collapsed": true
   },
   "outputs": [],
   "source": [
    "from sklearn.ensemble import RandomForestClassifier\n",
    "from sklearn.metrics import mean_squared_error"
   ]
  },
  {
   "cell_type": "code",
   "execution_count": 10,
   "metadata": {},
   "outputs": [
    {
     "name": "stdout",
     "output_type": "stream",
     "text": [
      "0.0681818181818\n"
     ]
    }
   ],
   "source": [
    "# Fit a random forest model of cultivar\n",
    "\n",
    "rfc = RandomForestClassifier(n_estimators=100, max_depth=4, min_samples_leaf=7, bootstrap=True, oob_score=True, random_state=22)\n",
    "\n",
    "rfc.fit(X, y)\n",
    "\n",
    "# Get the MSE based on the OOB score\n",
    "\n",
    "MSE_rfc = 1 - rfc.oob_score_\n",
    "print(MSE_rfc)"
   ]
  },
  {
   "cell_type": "markdown",
   "metadata": {},
   "source": [
    "### 1c Report\n",
    "* The tuning parameters of n_estimators, max_depth, and min_samples_leaf were adjusted.\n",
    "* The lowest MSE that could be found was the same as the lowest MSE from part b.\n",
    "* Therefore:\n",
    "* n_estimators = 100\n",
    "* max_depth = 4\n",
    "* min_samples_leaf = 7\n",
    "* Minimized overall MSE = 0.0681818181818"
   ]
  },
  {
   "cell_type": "markdown",
   "metadata": {},
   "source": [
    "### 1d) Support vector machines model with Gaussian radial basis function kernel using k-fold cross validation"
   ]
  },
  {
   "cell_type": "code",
   "execution_count": 11,
   "metadata": {
    "collapsed": true
   },
   "outputs": [],
   "source": [
    "from sklearn.svm import SVC"
   ]
  },
  {
   "cell_type": "code",
   "execution_count": 12,
   "metadata": {},
   "outputs": [
    {
     "data": {
      "text/plain": [
       "4"
      ]
     },
     "execution_count": 12,
     "metadata": {},
     "output_type": "execute_result"
    }
   ],
   "source": [
    "# Define k-fold cross validation with k = 4 folds\n",
    "\n",
    "k = 4\n",
    "clf_svm = KFold(n_splits=k, random_state=22, shuffle=True)\n",
    "clf_svm.get_n_splits(X)"
   ]
  },
  {
   "cell_type": "code",
   "execution_count": 13,
   "metadata": {},
   "outputs": [
    {
     "name": "stdout",
     "output_type": "stream",
     "text": [
      "k index= 0\n",
      "MSE for test set 0  is 0.0\n",
      "k index= 1\n",
      "MSE for test set 1  is 0.0681818181818\n",
      "k index= 2\n",
      "MSE for test set 2  is 0.0454545454545\n",
      "k index= 3\n",
      "MSE for test set 3  is 0.0681818181818\n",
      "test estimate MSE k-fold= 0.0454545454545\n"
     ]
    }
   ],
   "source": [
    "# Define vectors that are k elements long of MSE's.\n",
    "\n",
    "MSE_vec_svm = np.zeros(k)\n",
    "\n",
    "# Test model performance with k-fold cross validation, rbf kernel, and svm model\n",
    "\n",
    "k_ind = int(0)\n",
    "for train_index, test_index in clf_svm.split(X):\n",
    "    # print(\"TRAIN:\", train_index, \"TEST:\", test_index)\n",
    "    print('k index=', k_ind)\n",
    "    X_train, X_test = X[train_index], X[test_index]\n",
    "    y_train, y_test = y[train_index], y[test_index]\n",
    "    svc = SVC(kernel='rbf', gamma = 1.7, C = 1)\n",
    "    svc.fit(X_train, y_train)\n",
    "    y_pred_svc = svc.predict(X_test)\n",
    "    MSE_vec_svm[k_ind] = ((y_test - y_pred_svc) ** 2).mean()\n",
    "    print('MSE for test set', k_ind, ' is', MSE_vec_svm[k_ind])\n",
    "    k_ind += 1\n",
    "    \n",
    "# Calculate overll MSE\n",
    "\n",
    "MSE_svm = MSE_vec_svm.mean()\n",
    "print('test estimate MSE k-fold=', MSE_svm)"
   ]
  },
  {
   "cell_type": "markdown",
   "metadata": {},
   "source": [
    "### 1d Report\n",
    "* The tuning parameters of C and gamma were adjusted\n",
    "* The lowest MSE that could be found was lower than the lowest MSE found for parts 1b and 1c.\n",
    "* Therefore:\n",
    "* C = 1\n",
    "* gamma = 1.7\n",
    "* Minimized overall MSE = 0.0454545454545"
   ]
  },
  {
   "cell_type": "markdown",
   "metadata": {},
   "source": [
    "### 1e) Neural network MLP Classifier model using k-fold cross validation"
   ]
  },
  {
   "cell_type": "code",
   "execution_count": 14,
   "metadata": {
    "collapsed": true
   },
   "outputs": [],
   "source": [
    "from sklearn.neural_network import MLPClassifier"
   ]
  },
  {
   "cell_type": "code",
   "execution_count": 52,
   "metadata": {},
   "outputs": [
    {
     "data": {
      "text/plain": [
       "4"
      ]
     },
     "execution_count": 52,
     "metadata": {},
     "output_type": "execute_result"
    }
   ],
   "source": [
    "# Define k-fold cross validation with k = 4 folds\n",
    "\n",
    "k = 4\n",
    "clf_mlp = KFold(n_splits=k, random_state=22, shuffle=True)\n",
    "clf_mlp.get_n_splits(X)"
   ]
  },
  {
   "cell_type": "code",
   "execution_count": 93,
   "metadata": {},
   "outputs": [
    {
     "name": "stdout",
     "output_type": "stream",
     "text": [
      "k index= 0\n",
      "MSE for test set 0  is 0.0454545454545\n",
      "k index= 1\n",
      "MSE for test set 1  is 0.0909090909091\n",
      "k index= 2\n",
      "MSE for test set 2  is 0.0454545454545\n",
      "k index= 3\n",
      "MSE for test set 3  is 0.0909090909091\n",
      "MSE_mlp 0.0681818181818\n"
     ]
    }
   ],
   "source": [
    "# Define vectors that are k elements long of MSE's.\n",
    "\n",
    "MSE_vec_mlp = np.zeros(k)\n",
    "\n",
    "# Test model performance with k-fold cross validation, rbf kernel, and svm model\n",
    "\n",
    "k_ind = int(0)\n",
    "for train_index, test_index in clf_mlp.split(X):\n",
    "    # print(\"TRAIN:\", train_index, \"TEST:\", test_index)\n",
    "    print('k index=', k_ind)\n",
    "    X_train_mlp, X_test_mlp = X[train_index], X[test_index]\n",
    "    y_train_mlp, y_test_mlp = y[train_index], y[test_index]\n",
    "    mlp = MLPClassifier(activation = 'relu', solver = 'lbfgs', alpha = 1, hidden_layer_sizes = 100)\n",
    "    mlp.fit(X_train_mlp, y_train_mlp)\n",
    "    y_pred_mlp = mlp.predict(X_test_mlp)\n",
    "    MSE_vec_mlp[k_ind] = ((y_test_mlp - y_pred_mlp) ** 2).mean()\n",
    "    print('MSE for test set', k_ind, ' is', MSE_vec_mlp[k_ind])\n",
    "    k_ind += 1\n",
    "    \n",
    "# Calculate overll MSE\n",
    "\n",
    "MSE_mlp = MSE_vec_mlp.mean()\n",
    "print('MSE_mlp', MSE_mlp)"
   ]
  },
  {
   "cell_type": "markdown",
   "metadata": {},
   "source": [
    "### 1e Report\n",
    "* The tuning parameters of alpha, hidden_layer_sizes, and activation were adjusted.\n",
    "* The lowest MSE that could be found was 0.03 - 0.05, but I couldn't repeat these results after continue to play with the parameters.\n",
    "* Therefore, the lowest MSE I could repeat as shown above, was with the following set parameters:\n",
    "* activation = relu\n",
    "* hidden_layer_sizes = 100\n",
    "* alpha = 1\n",
    "* Minimized overall MSE = 0.0681818181818"
   ]
  },
  {
   "cell_type": "markdown",
   "metadata": {},
   "source": [
    "## 1f) Which of the above models is the best predictor of cultivar and why?"
   ]
  },
  {
   "cell_type": "markdown",
   "metadata": {
    "collapsed": true
   },
   "source": [
    "Of the four models, the support vector machine model consistently gave the lowest MSE's' overall. The neural network MLP model did give low MSE's, but this model changed drastically based on the changing of its parameters, and also changed even when the same parameters were used. This led to a lot of unreliable results (and frustration when I couldn't get the low MSE I had been able to get previoiusly!!). At one point I had an MSE as low as 0.03 - 0.05, but I couldn't repeat the conditions to replicate the output. The logistic regression and random forest models never got as low as support vector machine and neural network, so I would say that both the support vector machines and neural network models are best."
   ]
  }
 ],
 "metadata": {
  "anaconda-cloud": {},
  "kernelspec": {
   "display_name": "Python [conda env:anaconda]",
   "language": "python",
   "name": "conda-env-anaconda-py"
  },
  "language_info": {
   "codemirror_mode": {
    "name": "ipython",
    "version": 3
   },
   "file_extension": ".py",
   "mimetype": "text/x-python",
   "name": "python",
   "nbconvert_exporter": "python",
   "pygments_lexer": "ipython3",
   "version": "3.5.2"
  }
 },
 "nbformat": 4,
 "nbformat_minor": 1
}
