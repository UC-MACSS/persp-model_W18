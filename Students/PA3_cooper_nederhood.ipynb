{
 "cells": [
  {
   "cell_type": "markdown",
   "metadata": {},
   "source": [
    "# Problem set #3\n",
    "## By Cooper Nederhood"
   ]
  },
  {
   "cell_type": "markdown",
   "metadata": {},
   "source": [
    "### Problem #1:"
   ]
  },
  {
   "cell_type": "code",
   "execution_count": 1,
   "metadata": {
    "collapsed": true
   },
   "outputs": [],
   "source": [
    "import pandas as pd\n",
    "import numpy as np\n",
    "import scipy.stats as sts\n",
    "import matplotlib.pyplot as plt\n",
    "import scipy.integrate as intgr\n",
    "import scipy.optimize as opt\n",
    "import scipy as sci\n",
    "import numpy.linalg as lin\n",
    "\n",
    "\n",
    "root = \"C:/Users/Cooper/Documents/Winter 2018/Perspectives II/persp-model_W18/ProblemSets/PS2\"\n",
    "income_file = \"incomes.txt\"\n",
    "\n",
    "income_data = np.loadtxt(root+\"/\"+income_file)\n"
   ]
  },
  {
   "cell_type": "markdown",
   "metadata": {},
   "source": [
    "## 1a: Plot the histogram"
   ]
  },
  {
   "cell_type": "code",
   "execution_count": 3,
   "metadata": {},
   "outputs": [
    {
     "data": {
      "image/png": "[encoded data removed]",
      "text/plain": [
       "<matplotlib.figure.Figure at 0x20ff0098c50>"
      ]
     },
     "metadata": {},
     "output_type": "display_data"
    }
   ],
   "source": [
    "# Plot the histogram \n",
    "  \n",
    "n, bins, patches = plt.hist(income_data, bins=30, density=True)\n",
    "plt.title(\"MACSS annual salaries distribution\")\n",
    "plt.xlabel(\"Annual income ($)\")\n",
    "plt.ylabel(\"Density\")\n",
    "plt.savefig(\"pa3_figure_1_hist.png\")\n",
    "plt.show()"
   ]
  },
  {
   "cell_type": "code",
   "execution_count": 29,
   "metadata": {
    "collapsed": true
   },
   "outputs": [],
   "source": [
    "# Define functions needed for GMM estimation\n",
    "\n",
    "def gen_ln_pdf(mu, sigma):\n",
    "    '''\n",
    "    Given mu and sigma, returns a lognormal pdf function\n",
    "    which will calculate the pdf value according to mu and sigma\n",
    "    \n",
    "    Returns: pdf function\n",
    "    '''\n",
    "    \n",
    "    def fn(x):\n",
    "        exponent = ( (np.log(x) - mu)**2 ) /  (-2*(sigma**2)) \n",
    "        den = x * sigma * np.sqrt(2*np.pi)\n",
    "        pdf = np.exp(exponent) / den\n",
    "        \n",
    "        return pdf\n",
    "    \n",
    "    return fn\n",
    " \n",
    "def data_moments(data):\n",
    "    '''\n",
    "    Given a np array of data, returns a tuple \n",
    "    of the mean and std. dev\n",
    "    \n",
    "    Inputs: (np array) data\n",
    "    Returns: (tuple) of mean, std. dev\n",
    "    '''\n",
    "    mean_data = data.mean()\n",
    "    std_dev_data = np.sqrt(data.var())\n",
    "    \n",
    "    return mean_data, std_dev_data\n",
    "\n",
    "def model_moments_ln_int(mu, sigma):\n",
    "    '''\n",
    "    Given params mu and sigma, calculates the mean and std dev \n",
    "    based on a lognormal distribution\n",
    "    \n",
    "    Inputs:\n",
    "        mu: lognormal parameter\n",
    "        sigma: lognormal parameter\n",
    "    Returns:\n",
    "        (tuple) of mean and std. dev of resulting log normal dist\n",
    "    '''\n",
    "    ln_pdf = gen_ln_pdf(mu, sigma)\n",
    "    \n",
    "    x_fx = lambda x: x * ln_pdf(x)\n",
    "    mean_model, m_m_err = intgr.quad(x_fx, 0, np.inf)\n",
    "    \n",
    "    x2_fx = lambda x: (x**2) * ln_pdf(x)\n",
    "    eX2_model, v_m_err = intgr.quad(x2_fx, 0, np.inf)\n",
    "    \n",
    "    var_model = eX2_model - mean_model**2\n",
    "    \n",
    "    return mean_model, np.sqrt(var_model)\n",
    "\n",
    "def model_moments_ln_anal(mu, sigma):\n",
    "    '''\n",
    "    Given params mu and sigma, calculates the mean and std dev \n",
    "    based on a lognormal distribution by using the known\n",
    "    E[X] and Var[X] formulas for a log normal dist. Avoiding the\n",
    "    integrate command will aid in computation time\n",
    "    \n",
    "    Inputs:\n",
    "        mu: lognormal parameter\n",
    "        sigma: lognormal parameter\n",
    "    Returns:\n",
    "        (tuple) of mean and std. dev of resulting log normal dist\n",
    "    '''\n",
    "    exp_x = np.exp(mu+(sigma**2)/2)\n",
    "    var_x = (np.exp(sigma**2) - 1) * np.exp(2*mu + sigma**2)\n",
    "    std_x = np.sqrt(var_x)\n",
    "    \n",
    "    return exp_x, std_x\n",
    "\n",
    "def error_vector(data, mu, sigma, pct_diff=False):\n",
    "    '''\n",
    "    Given data and mu,sigma parameters for lognormal distribution,\n",
    "    returns the error between the observed empirical moments and the \n",
    "    moments resulting from the mu,sigma parameter assumptions.\n",
    "    Note: pct_diff is an optional argument, where True will return\n",
    "            the % diff, rather than the absolute difference\n",
    "    \n",
    "    Inputs:\n",
    "        data: (np array) of empirical observations\n",
    "        mu: (float) log normal parameter\n",
    "        sigma: (float) log normal parameter\n",
    "        pct_diff: (boolean) True will return % diff\n",
    "    Returns:\n",
    "        error_vector (2,1) np matrix\n",
    "    '''\n",
    "    \n",
    "    data_mean, data_std = data_moments(data)\n",
    "    model_mean, model_std = model_moments_ln_anal(mu, sigma)\n",
    "    \n",
    "    data_moms_matrix = np.array([[data_mean], [data_std]])\n",
    "    model_moms_matrix = np.array([[model_mean], [model_std]])\n",
    "    \n",
    "    if pct_diff == True:\n",
    "        error_vector = (model_moms_matrix - data_moms_matrix) / data_moms_matrix\n",
    "    else:\n",
    "        error_vector = (model_moms_matrix - data_moms_matrix)\n",
    "    \n",
    "    return error_vector\n",
    "\n",
    "\n",
    "def criterion_fn(params, *args):\n",
    "    '''\n",
    "    Given params (mu and sigma) and args (data and W) \n",
    "    returns the weighted squared error\n",
    "    Inputs: params, args\n",
    "    \n",
    "    Returns: crit_val = weighted squared errors under lognormal dist\n",
    "    '''\n",
    "    \n",
    "    mu, sigma = params\n",
    "    data, W = args\n",
    "    err = error_vector(data, mu, sigma, pct_diff=True)\n",
    "    crit_val = err.T @ W @ err\n",
    "    print(\"mu={}, sigma={}, crit_val={}\".format(mu, sigma, crit_val))\n",
    "    \n",
    "    return crit_val\n",
    "\n",
    "    "
   ]
  },
  {
   "cell_type": "markdown",
   "metadata": {},
   "source": [
    "## 1b: Estimate parameters using GMM"
   ]
  },
  {
   "cell_type": "code",
   "execution_count": 5,
   "metadata": {},
   "outputs": [
    {
     "name": "stdout",
     "output_type": "stream",
     "text": [
      "mu=11.0, sigma=0.5, crit_val=[[ 1.06038859]]\n",
      "mu=11.00000001, sigma=0.5, crit_val=[[ 1.06038862]]\n",
      "mu=11.0, sigma=0.50000001, crit_val=[[ 1.0603887]]\n",
      "mu=10.009106675153278, sigma=0.3653507565033885, crit_val=[[ 0.78315727]]\n",
      "mu=10.009106685153279, sigma=0.3653507565033885, crit_val=[[ 0.78315726]]\n",
      "mu=10.009106675153278, sigma=0.3653507665033885, crit_val=[[ 0.78315725]]\n",
      "mu=10.223839534910926, sigma=0.3767935261161933, crit_val=[[ 0.56784422]]\n",
      "mu=10.223839544910927, sigma=0.3767935261161933, crit_val=[[ 0.56784421]]\n",
      "mu=10.223839534910926, sigma=0.3767935361161933, crit_val=[[ 0.5678442]]\n",
      "mu=11.082770973941518, sigma=0.4225646045674126, crit_val=[[ 0.58798198]]\n",
      "mu=11.082770983941518, sigma=0.4225646045674126, crit_val=[[ 0.587982]]\n",
      "mu=11.082770973941518, sigma=0.4225646145674126, crit_val=[[ 0.58798205]]\n",
      "mu=10.688630096375284, sigma=0.4015614694996392, crit_val=[[ 0.21961092]]\n",
      "mu=10.688630106375285, sigma=0.4015614694996392, crit_val=[[ 0.21961092]]\n",
      "mu=10.688630096375284, sigma=0.4015614794996392, crit_val=[[ 0.21961092]]\n",
      "mu=11.15788892005825, sigma=0.34575677391838333, crit_val=[[ 0.2440743]]\n",
      "mu=11.15788893005825, sigma=0.34575677391838333, crit_val=[[ 0.24407431]]\n",
      "mu=11.15788892005825, sigma=0.3457567839183833, crit_val=[[ 0.24407435]]\n",
      "mu=10.902999309948338, sigma=0.3760684833229538, crit_val=[[ 0.17943656]]\n",
      "mu=10.90299931994834, sigma=0.3760684833229538, crit_val=[[ 0.17943656]]\n",
      "mu=10.902999309948338, sigma=0.3760684933229538, crit_val=[[ 0.17943658]]\n",
      "mu=11.22171723250449, sigma=0.2732697974943207, crit_val=[[ 0.05215567]]\n",
      "mu=11.221717242504491, sigma=0.2732697974943207, crit_val=[[ 0.05215568]]\n",
      "mu=11.22171723250449, sigma=0.27326980749432067, crit_val=[[ 0.05215569]]\n",
      "mu=12.426204773043924, sigma=1e-10, crit_val=[[ 4.40645914]]\n",
      "mu=12.426204783043925, sigma=1e-10, crit_val=[[ 4.40645925]]\n",
      "mu=12.426204773043924, sigma=1.01e-08, crit_val=[[ 4.40645914]]\n",
      "mu=11.280008767966207, sigma=0.2600448237612647, crit_val=[[ 0.04486355]]\n",
      "mu=11.280008777966207, sigma=0.2600448237612647, crit_val=[[ 0.04486356]]\n",
      "mu=11.280008767966207, sigma=0.2600448337612647, crit_val=[[ 0.04486357]]\n",
      "mu=11.710232499496232, sigma=0.03039783162508905, crit_val=[[ 0.78448394]]\n",
      "mu=11.710232509496233, sigma=0.03039783162508905, crit_val=[[ 0.78448395]]\n",
      "mu=11.710232499496232, sigma=0.030397841625089052, crit_val=[[ 0.78448383]]\n",
      "mu=11.377331866829856, sigma=0.20809520945262483, crit_val=[[ 0.00201437]]\n",
      "mu=11.377331876829857, sigma=0.20809520945262483, crit_val=[[ 0.00201437]]\n",
      "mu=11.377331866829856, sigma=0.20809521945262482, crit_val=[[ 0.00201437]]\n",
      "mu=11.35899168107167, sigma=0.20393475642400274, crit_val=[[  4.09500459e-07]]\n",
      "mu=11.35899169107167, sigma=0.20393475642400274, crit_val=[[  4.09490895e-07]]\n",
      "mu=11.35899168107167, sigma=0.20393476642400274, crit_val=[[  4.09513005e-07]]\n",
      "mu=11.360002026535208, sigma=0.203678613480429, crit_val=[[  1.44470032e-07]]\n",
      "mu=11.360002036535208, sigma=0.203678613480429, crit_val=[[  1.44473125e-07]]\n",
      "mu=11.360002026535208, sigma=0.203678623480429, crit_val=[[  1.44452604e-07]]\n",
      "mu=11.359645544899175, sigma=0.20378126279379521, crit_val=[[  2.88975965e-12]]\n",
      "mu=11.359645554899176, sigma=0.20378126279379521, crit_val=[[  2.84269255e-12]]\n",
      "mu=11.359645544899175, sigma=0.2037812727937952, crit_val=[[  2.74238072e-12]]\n",
      "mu=11.359646486963962, sigma=0.20378133845254945, crit_val=[[  4.29550053e-15]]\n",
      "mu=11.359646496963963, sigma=0.20378133845254945, crit_val=[[  3.10835469e-15]]\n",
      "mu=11.359646486963962, sigma=0.20378134845254944, crit_val=[[  1.80114470e-16]]\n"
     ]
    }
   ],
   "source": [
    "# Use above functions to find the error miniziming GMM estimate\n",
    "mu_init = 11\n",
    "sig_init = .5\n",
    "params_init = np.array([mu_init, sig_init])\n",
    "W_hat = np.eye(2)\n",
    "gmm_args = (income_data,  W_hat)\n",
    "\n",
    "results = opt.minimize(criterion_fn, params_init, args=(gmm_args), method='L-BFGS-B', bounds=((None, None), (1e-10, None)))\n"
   ]
  },
  {
   "cell_type": "code",
   "execution_count": 31,
   "metadata": {},
   "outputs": [
    {
     "name": "stdout",
     "output_type": "stream",
     "text": [
      "mu=11.359646486963962, sigma=0.20378133845254945, crit_val=[[  4.29550053e-15]]\n",
      "\n",
      "Initial GMM estimates: \n",
      "mu=11.359646486963962, sigma=0.20378133845254945, crit_val=[[  4.29550053e-15]]\n"
     ]
    }
   ],
   "source": [
    "# Print results of estimation\n",
    "mu_GMM1, sig_GMM1 = results.x\n",
    "params_gmm1 = np.array([mu_GMM1, sig_GMM1])\n",
    "crit_val = criterion_fn(params_gmm1, *gmm_args)\n",
    "print()\n",
    "print(\"Initial GMM estimates: \\nmu={}, sigma={}, crit_val={}\".format(mu_GMM1, sig_GMM1, crit_val))\n"
   ]
  },
  {
   "cell_type": "code",
   "execution_count": 32,
   "metadata": {},
   "outputs": [
    {
     "data": {
      "image/png": "[encoded data removed]",
      "text/plain": [
       "<matplotlib.figure.Figure at 0x20ff0240080>"
      ]
     },
     "metadata": {},
     "output_type": "display_data"
    }
   ],
   "source": [
    "# Plot the initial GMM estimate against the histogram\n",
    "pdf_ln_gmm1 = gen_ln_pdf(mu_GMM1, sig_GMM1)\n",
    "\n",
    "n, bins, patches = plt.hist(income_data, bins=30, density=True)\n",
    "plt.title(\"MACSS annual salaries distribution w GMM estimate\")\n",
    "plt.xlabel(\"Annual income ($)\")\n",
    "plt.ylabel(\"Hist density\")\n",
    "plt.plot(np.linspace(0, 150000, 200), pdf_ln_gmm1(np.linspace(0.1, 150000, 200)))\n",
    "plt.savefig(\"pa3_figure_2_histwpdf.png\")\n",
    "plt.show()"
   ]
  },
  {
   "cell_type": "code",
   "execution_count": 8,
   "metadata": {},
   "outputs": [
    {
     "name": "stdout",
     "output_type": "stream",
     "text": [
      "E[X] comparison: \n",
      "\tdata=87588.93076851241, model=87588.93042380728, difference=0.00034470512764528394\n",
      "Std Dev[X] comparison: \n",
      "\tdata=18035.906827092327, model=18035.90564715076, difference=0.0011799415660789236\n"
     ]
    }
   ],
   "source": [
    "# Compare data moments and model moments given estimated parameters\n",
    "data_expX, data_stdX = data_moments(income_data)\n",
    "model_expX, model_stdX = model_moments_ln_anal(mu_GMM1, sig_GMM1)\n",
    "print(\"E[X] comparison: \\n\\tdata={}, model={}, difference={}\".format(data_expX, model_expX,data_expX - model_expX ))\n",
    "\n",
    "print(\"Std Dev[X] comparison: \\n\\tdata={}, model={}, difference={}\".format(data_stdX, model_stdX,data_stdX - model_stdX ))"
   ]
  },
  {
   "cell_type": "markdown",
   "metadata": {},
   "source": [
    "As the extremely low difference in the two moments shows, we are able to find parameters mu,sigma which result in a nearly perfect match with our two moments. This is not necessarily suprising, as given the two equations and two unknowns we can essentially solve for our two parameters, rather than only minimizing the difference"
   ]
  },
  {
   "cell_type": "markdown",
   "metadata": {},
   "source": [
    "## 1c: Two-step GMM estimator"
   ]
  },
  {
   "cell_type": "code",
   "execution_count": 36,
   "metadata": {},
   "outputs": [
    {
     "name": "stdout",
     "output_type": "stream",
     "text": [
      "Var-cov matrix from err vector GMM estimation:\n",
      " [[  7.74403028e-20   1.28733341e-18]\n",
      " [  1.28733341e-18   2.14000624e-17]]\n",
      "Optimal weighting matrix: \n",
      " [[  1.67880200e+14   2.79076635e+15]\n",
      " [  2.79076635e+15   4.63924679e+16]]\n"
     ]
    }
   ],
   "source": [
    "# Calculate the 2-step optimal wighting matrix\n",
    "err_gmm1 = error_vector(income_data, mu_GMM1, sig_GMM1, pct_diff=False)\n",
    "VCV_gmm1 = (1/income_data.shape[0]) * err_gmm1 @ err_gmm1.T\n",
    "print(\"Var-cov matrix from err vector GMM estimation:\\n\", VCV_gmm1)\n",
    "W_hat_opt = lin.pinv(VCV_gmm1)    # Use pinv because terms are near zero and difficult to invert\n",
    "print(\"Optimal weighting matrix: \\n\", W_hat_opt)"
   ]
  },
  {
   "cell_type": "markdown",
   "metadata": {},
   "source": [
    "As noted above, our model moments are extremely close to the data moments, essentially they are equal. Thus, the inverse of the var-cov matrix is HUGE and I believe this huge matrix results in the issues with the estimation based on the optimal weighting matrix seen below"
   ]
  },
  {
   "cell_type": "code",
   "execution_count": 25,
   "metadata": {},
   "outputs": [
    {
     "data": {
      "text/plain": [
       "array([[  1.67880200e+14,   2.79076635e+15],\n",
       "       [  2.79076635e+15,   4.63924679e+16]])"
      ]
     },
     "execution_count": 25,
     "metadata": {},
     "output_type": "execute_result"
    }
   ],
   "source": [
    "W_hat_opt"
   ]
  },
  {
   "cell_type": "code",
   "execution_count": 26,
   "metadata": {},
   "outputs": [
    {
     "name": "stdout",
     "output_type": "stream",
     "text": [
      "mu=11.0, sigma=0.5, crit_val=[[  4.55814762e+16]]\n",
      "mu=11.00000001, sigma=0.5, crit_val=[[  4.55814780e+16]]\n",
      "mu=11.0, sigma=0.50000001, crit_val=[[  4.55814813e+16]]\n",
      "mu=10.0, sigma=0.5, crit_val=[[  4.32971718e+15]]\n",
      "mu=10.00000001, sigma=0.5, crit_val=[[  4.32971696e+15]]\n",
      "mu=10.0, sigma=0.50000001, crit_val=[[  4.32971660e+15]]\n",
      "mu=10.101835031911548, sigma=0.4999999990652601, crit_val=[[  2.34019785e+15]]\n",
      "mu=10.10183504191155, sigma=0.4999999990652601, crit_val=[[  2.34019767e+15]]\n",
      "mu=10.101835031911548, sigma=0.5000000090652601, crit_val=[[  2.34019737e+15]]\n",
      "mu=10.54749201028984, sigma=0.4999999680427505, crit_val=[[  2.77524392e+15]]\n",
      "mu=10.547492020289841, sigma=0.4999999680427505, crit_val=[[  2.77524422e+15]]\n",
      "mu=10.54749201028984, sigma=0.4999999780427505, crit_val=[[  2.77524472e+15]]\n",
      "mu=10.326101162021464, sigma=0.49999998345393004, crit_val=[[  9.79894416e+12]]\n",
      "mu=10.326101172021465, sigma=0.49999998345393004, crit_val=[[  9.79893006e+12]]\n",
      "mu=10.326101162021464, sigma=0.49999999345393004, crit_val=[[  9.79890596e+12]]\n",
      "mu=10.34586167337957, sigma=0.4999999782314964, crit_val=[[  1.86133733e+12]]\n",
      "mu=10.345861683379571, sigma=0.4999999782314964, crit_val=[[  1.86134360e+12]]\n",
      "mu=10.34586167337957, sigma=0.4999999882314964, crit_val=[[  1.86135431e+12]]\n",
      "mu=10.339780672427159, sigma=0.49999997702743804, crit_val=[[  8.02146696e+08]]\n",
      "mu=10.33978068242716, sigma=0.49999997702743804, crit_val=[[  8.02017372e+08]]\n",
      "mu=10.339780672427159, sigma=0.49999998702743803, crit_val=[[  8.01796374e+08]]\n",
      "mu=10.339903610803935, sigma=0.49999997429881077, crit_val=[[ 64088.05859566]]\n",
      "mu=10.339903620803936, sigma=0.49999997429881077, crit_val=[[ 62937.14171553]]\n",
      "mu=10.339903610803935, sigma=0.49999998429881076, crit_val=[[ 60994.2728169]]\n",
      "mu=10.339904722232223, sigma=0.49999997150036884, crit_val=[[ 1.19778932]]\n",
      "mu=10.339904732232224, sigma=0.49999997150036884, crit_val=[[ 1.40384626]]\n",
      "mu=10.339904722232223, sigma=0.49999998150036884, crit_val=[[ 25.8856371]]\n",
      "mu=10.339904729609675, sigma=0.4999999687258453, crit_val=[[ 1.26398768]]\n",
      "mu=10.339904739609675, sigma=0.4999999687258453, crit_val=[[ 1.32554245]]\n",
      "mu=10.339904729609675, sigma=0.4999999787258453, crit_val=[[ 25.56914008]]\n",
      "mu=10.339904723770482, sigma=0.49999997092185816, crit_val=[[ 1.21301346]]\n",
      "mu=10.339904733770483, sigma=0.49999997092185816, crit_val=[[ 1.38886876]]\n",
      "mu=10.339904723770482, sigma=0.49999998092185816, crit_val=[[ 25.81904254]]\n",
      "mu=10.33990472255254, sigma=0.49999997137990354, crit_val=[[ 1.1971139]]\n",
      "mu=10.33990473255254, sigma=0.49999997137990354, crit_val=[[ 1.39688075]]\n",
      "mu=10.33990472255254, sigma=0.49999998137990354, crit_val=[[ 25.87729135]]\n",
      "mu=10.339904722805016, sigma=0.49999997128495166, crit_val=[[ 1.204755]]\n",
      "mu=10.339904732805017, sigma=0.49999997128495166, crit_val=[[ 1.39019611]]\n",
      "mu=10.339904722805016, sigma=0.49999998128495166, crit_val=[[ 25.86494406]]\n",
      "mu=10.339904722603567, sigma=0.49999997136071345, crit_val=[[ 1.19477709]]\n",
      "mu=10.339904732603568, sigma=0.49999997136071345, crit_val=[[ 1.39389593]]\n",
      "mu=10.339904722603567, sigma=0.49999998136071344, crit_val=[[ 25.87505464]]\n",
      "mu=10.339904722643196, sigma=0.4999999713458099, crit_val=[[ 1.19817412]]\n",
      "mu=10.339904732643197, sigma=0.4999999713458099, crit_val=[[ 1.39651518]]\n",
      "mu=10.339904722643196, sigma=0.4999999813458099, crit_val=[[ 25.86732573]]\n",
      "mu=10.339904722603567, sigma=0.49999997136071345, crit_val=[[ 1.19477709]]\n",
      "mu=10.339904732603568, sigma=0.49999997136071345, crit_val=[[ 1.39389593]]\n",
      "mu=10.339904722603567, sigma=0.49999998136071344, crit_val=[[ 25.87505464]]\n",
      "mu=10.339904729991238, sigma=0.49999996858488266, crit_val=[[ 1.27238543]]\n",
      "mu=10.339904739991239, sigma=0.49999996858488266, crit_val=[[ 1.32424463]]\n",
      "mu=10.339904729991238, sigma=0.49999997858488265, crit_val=[[ 25.56974166]]\n",
      "mu=10.339904724140274, sigma=0.4999999707833136, crit_val=[[ 1.22179218]]\n",
      "mu=10.339904734140275, sigma=0.4999999707833136, crit_val=[[ 1.38285692]]\n",
      "mu=10.339904724140274, sigma=0.4999999807833136, crit_val=[[ 25.81218531]]\n",
      "mu=10.339904722919902, sigma=0.4999999712418543, crit_val=[[ 1.2003585]]\n",
      "mu=10.339904732919903, sigma=0.4999999712418543, crit_val=[[ 1.39322181]]\n",
      "mu=10.339904722919902, sigma=0.4999999812418543, crit_val=[[ 25.86464132]]\n",
      "mu=10.33990472266869, sigma=0.49999997133624413, crit_val=[[ 1.20213275]]\n",
      "mu=10.33990473266869, sigma=0.49999997133624413, crit_val=[[ 1.40003494]]\n",
      "mu=10.33990472266869, sigma=0.4999999813362441, crit_val=[[ 25.87630612]]\n",
      "mu=10.339904722615353, sigma=0.49999997135628516, crit_val=[[ 1.20120245]]\n",
      "mu=10.339904732615354, sigma=0.49999997135628516, crit_val=[[ 1.3907306]]\n",
      "mu=10.339904722615353, sigma=0.49999998135628515, crit_val=[[ 25.87772332]]\n",
      "mu=10.339904722604958, sigma=0.4999999713601908, crit_val=[[ 1.20085025]]\n",
      "mu=10.339904732604959, sigma=0.4999999713601908, crit_val=[[ 1.39924032]]\n",
      "mu=10.339904722604958, sigma=0.4999999813601908, crit_val=[[ 25.87133629]]\n",
      "mu=10.339904722603608, sigma=0.499999971360698, crit_val=[[ 1.20073747]]\n",
      "mu=10.339904732603609, sigma=0.499999971360698, crit_val=[[ 1.3998541]]\n",
      "mu=10.339904722603608, sigma=0.499999981360698, crit_val=[[ 25.86883118]]\n",
      "mu=10.339904722603567, sigma=0.49999997136071345, crit_val=[[ 1.19477709]]\n",
      "mu=10.339904732603568, sigma=0.49999997136071345, crit_val=[[ 1.39389593]]\n",
      "mu=10.339904722603567, sigma=0.49999998136071344, crit_val=[[ 25.87505464]]\n",
      "mu=10.339904722603567, sigma=0.49999997136071345, crit_val=[[ 1.19477709]]\n",
      "mu=10.339904732603568, sigma=0.49999997136071345, crit_val=[[ 1.39389593]]\n",
      "mu=10.339904722603567, sigma=0.49999998136071344, crit_val=[[ 25.87505464]]\n",
      "mu=10.339904722603567, sigma=0.49999997136071345, crit_val=[[ 1.19477709]]\n",
      "mu=10.339904732603568, sigma=0.49999997136071345, crit_val=[[ 1.39389593]]\n",
      "mu=10.339904722603567, sigma=0.49999998136071344, crit_val=[[ 25.87505464]]\n",
      "mu=10.339904722603567, sigma=0.49999997136071345, crit_val=[[ 1.19477709]]\n",
      "mu=10.339904732603568, sigma=0.49999997136071345, crit_val=[[ 1.39389593]]\n",
      "mu=10.339904722603567, sigma=0.49999998136071344, crit_val=[[ 25.87505464]]\n",
      "mu=10.339904722603567, sigma=0.49999997136071345, crit_val=[[ 1.19477709]]\n",
      "mu=10.339904732603568, sigma=0.49999997136071345, crit_val=[[ 1.39389593]]\n",
      "mu=10.339904722603567, sigma=0.49999998136071344, crit_val=[[ 25.87505464]]\n",
      "mu=10.339904722603567, sigma=0.49999997136071345, crit_val=[[ 1.19477709]]\n",
      "mu=10.339904732603568, sigma=0.49999997136071345, crit_val=[[ 1.39389593]]\n",
      "mu=10.339904722603567, sigma=0.49999998136071344, crit_val=[[ 25.87505464]]\n",
      "mu=10.339904722603567, sigma=0.49999997136071345, crit_val=[[ 1.19477709]]\n",
      "mu=10.339904732603568, sigma=0.49999997136071345, crit_val=[[ 1.39389593]]\n",
      "mu=10.339904722603567, sigma=0.49999998136071344, crit_val=[[ 25.87505464]]\n",
      "mu=10.339904722603567, sigma=0.49999997136071345, crit_val=[[ 1.19477709]]\n",
      "mu=10.339904732603568, sigma=0.49999997136071345, crit_val=[[ 1.39389593]]\n",
      "mu=10.339904722603567, sigma=0.49999998136071344, crit_val=[[ 25.87505464]]\n",
      "mu=10.339904722603567, sigma=0.49999997136071345, crit_val=[[ 1.19477709]]\n",
      "mu=10.339904732603568, sigma=0.49999997136071345, crit_val=[[ 1.39389593]]\n",
      "mu=10.339904722603567, sigma=0.49999998136071344, crit_val=[[ 25.87505464]]\n",
      "mu=10.339904722603567, sigma=0.49999997136071345, crit_val=[[ 1.19477709]]\n",
      "mu=10.339904732603568, sigma=0.49999997136071345, crit_val=[[ 1.39389593]]\n",
      "mu=10.339904722603567, sigma=0.49999998136071344, crit_val=[[ 25.87505464]]\n",
      "mu=10.339904722603567, sigma=0.49999997136071345, crit_val=[[ 1.19477709]]\n",
      "mu=10.339904732603568, sigma=0.49999997136071345, crit_val=[[ 1.39389593]]\n",
      "mu=10.339904722603567, sigma=0.49999998136071344, crit_val=[[ 25.87505464]]\n",
      "mu=10.339904722603567, sigma=0.49999997136071345, crit_val=[[ 1.19477709]]\n",
      "mu=10.339904732603568, sigma=0.49999997136071345, crit_val=[[ 1.39389593]]\n",
      "mu=10.339904722603567, sigma=0.49999998136071344, crit_val=[[ 25.87505464]]\n",
      "mu=10.339904722603567, sigma=0.49999997136071345, crit_val=[[ 1.19477709]]\n",
      "mu=10.339904732603568, sigma=0.49999997136071345, crit_val=[[ 1.39389593]]\n",
      "mu=10.339904722603567, sigma=0.49999998136071344, crit_val=[[ 25.87505464]]\n",
      "mu=-19911873.617802013, sigma=1e-10, crit_val=[[  5.21418808e+16]]\n",
      "mu=-19911873.617802, sigma=1e-10, crit_val=[[  5.21418808e+16]]\n",
      "mu=-19911873.617802013, sigma=1.01e-08, crit_val=[[  5.21418808e+16]]\n",
      "mu=-25128.916103849333, sigma=0.4993687087786042, crit_val=[[  5.21418808e+16]]\n",
      "mu=-25128.916103839332, sigma=0.4993687087786042, crit_val=[[  5.21418808e+16]]\n",
      "mu=-25128.916103849333, sigma=0.49936871877860417, crit_val=[[  5.21418808e+16]]\n",
      "mu=10.29968134663266, sigma=0.4999999703506791, crit_val=[[  8.10463857e+13]]\n",
      "mu=10.29968135663266, sigma=0.4999999703506791, crit_val=[[  8.10463462e+13]]\n",
      "mu=10.29968134663266, sigma=0.4999999803506791, crit_val=[[  8.10462787e+13]]\n",
      "mu=10.339904722412452, sigma=0.49999997136071345, crit_val=[[ 1.30698108]]\n",
      "mu=10.339904732412453, sigma=0.49999997136071345, crit_val=[[ 1.29707675]]\n",
      "mu=10.339904722412452, sigma=0.49999998136071344, crit_val=[[ 25.42859821]]\n",
      "mu=10.339904722602505, sigma=0.49999997136071345, crit_val=[[ 1.20491468]]\n",
      "mu=10.339904732602506, sigma=0.49999997136071345, crit_val=[[ 1.40292563]]\n",
      "mu=10.339904722602505, sigma=0.49999998136071344, crit_val=[[ 25.87352417]]\n",
      "mu=10.339904722603567, sigma=0.49999997136071345, crit_val=[[ 1.19477709]]\n",
      "mu=10.339904732603568, sigma=0.49999997136071345, crit_val=[[ 1.39389593]]\n",
      "mu=10.339904722603567, sigma=0.49999998136071344, crit_val=[[ 25.87505464]]\n",
      "mu=10.339904722603567, sigma=0.49999997136071345, crit_val=[[ 1.19477709]]\n",
      "mu=10.339904732603568, sigma=0.49999997136071345, crit_val=[[ 1.39389593]]\n",
      "mu=10.339904722603567, sigma=0.49999998136071344, crit_val=[[ 25.87505464]]\n",
      "mu=10.339904722603567, sigma=0.49999997136071345, crit_val=[[ 1.19477709]]\n",
      "mu=10.339904732603568, sigma=0.49999997136071345, crit_val=[[ 1.39389593]]\n",
      "mu=10.339904722603567, sigma=0.49999998136071344, crit_val=[[ 25.87505464]]\n",
      "mu=10.339904722603567, sigma=0.49999997136071345, crit_val=[[ 1.19477709]]\n",
      "mu=10.339904732603568, sigma=0.49999997136071345, crit_val=[[ 1.39389593]]\n",
      "mu=10.339904722603567, sigma=0.49999998136071344, crit_val=[[ 25.87505464]]\n",
      "mu=10.339904722603567, sigma=0.49999997136071345, crit_val=[[ 1.19477709]]\n",
      "mu=10.339904732603568, sigma=0.49999997136071345, crit_val=[[ 1.39389593]]\n",
      "mu=10.339904722603567, sigma=0.49999998136071344, crit_val=[[ 25.87505464]]\n",
      "mu=10.339904722603567, sigma=0.49999997136071345, crit_val=[[ 1.19477709]]\n",
      "mu=10.339904732603568, sigma=0.49999997136071345, crit_val=[[ 1.39389593]]\n",
      "mu=10.339904722603567, sigma=0.49999998136071344, crit_val=[[ 25.87505464]]\n",
      "mu=10.339904722603567, sigma=0.49999997136071345, crit_val=[[ 1.19477709]]\n",
      "mu=10.339904732603568, sigma=0.49999997136071345, crit_val=[[ 1.39389593]]\n",
      "mu=10.339904722603567, sigma=0.49999998136071344, crit_val=[[ 25.87505464]]\n",
      "mu=10.339904722603567, sigma=0.49999997136071345, crit_val=[[ 1.19477709]]\n",
      "mu=10.339904732603568, sigma=0.49999997136071345, crit_val=[[ 1.39389593]]\n",
      "mu=10.339904722603567, sigma=0.49999998136071344, crit_val=[[ 25.87505464]]\n",
      "mu=10.339904722603567, sigma=0.49999997136071345, crit_val=[[ 1.19477709]]\n",
      "mu=10.339904732603568, sigma=0.49999997136071345, crit_val=[[ 1.39389593]]\n",
      "mu=10.339904722603567, sigma=0.49999998136071344, crit_val=[[ 25.87505464]]\n",
      "mu=10.339904722603567, sigma=0.49999997136071345, crit_val=[[ 1.19477709]]\n",
      "mu=10.339904732603568, sigma=0.49999997136071345, crit_val=[[ 1.39389593]]\n",
      "mu=10.339904722603567, sigma=0.49999998136071344, crit_val=[[ 25.87505464]]\n",
      "mu=10.339904722603567, sigma=0.49999997136071345, crit_val=[[ 1.19477709]]\n",
      "mu=10.339904732603568, sigma=0.49999997136071345, crit_val=[[ 1.39389593]]\n",
      "mu=10.339904722603567, sigma=0.49999998136071344, crit_val=[[ 25.87505464]]\n",
      "mu=10.339904722603567, sigma=0.49999997136071345, crit_val=[[ 1.19477709]]\n",
      "mu=10.339904732603568, sigma=0.49999997136071345, crit_val=[[ 1.39389593]]\n",
      "mu=10.339904722603567, sigma=0.49999998136071344, crit_val=[[ 25.87505464]]\n",
      "mu=10.339904722603567, sigma=0.49999997136071345, crit_val=[[ 1.19477709]]\n",
      "mu=10.339904732603568, sigma=0.49999997136071345, crit_val=[[ 1.39389593]]\n",
      "mu=10.339904722603567, sigma=0.49999998136071344, crit_val=[[ 25.87505464]]\n",
      "mu=10.339904722603567, sigma=0.49999997136071345, crit_val=[[ 1.19477709]]\n",
      "mu=10.339904732603568, sigma=0.49999997136071345, crit_val=[[ 1.39389593]]\n",
      "mu=10.339904722603567, sigma=0.49999998136071344, crit_val=[[ 25.87505464]]\n",
      "mu=10.339904722603567, sigma=0.49999997136071345, crit_val=[[ 1.19477709]]\n",
      "mu=10.339904732603568, sigma=0.49999997136071345, crit_val=[[ 1.39389593]]\n",
      "mu=10.339904722603567, sigma=0.49999998136071344, crit_val=[[ 25.87505464]]\n"
     ]
    }
   ],
   "source": [
    "# Do GMM with optimal weighting matrix\n",
    "mu_init = 11\n",
    "sig_init = .5\n",
    "params_init = np.array([mu_init, sig_init])\n",
    "gmm_args2 = (income_data,  W_hat_opt)\n",
    "\n",
    "results_opt = opt.minimize(criterion_fn, params_init, args=(gmm_args2), method='L-BFGS-B', bounds=((None, None), (1e-10, None)))\n"
   ]
  },
  {
   "cell_type": "code",
   "execution_count": 33,
   "metadata": {},
   "outputs": [
    {
     "name": "stdout",
     "output_type": "stream",
     "text": [
      "mu=10.339904722603567, sigma=0.49999997136071345, crit_val=[[ 0.36092426]]\n",
      "GMM results using optimal weighting matrix:\n",
      "\tmu=10.339904722603567, sigma=0.49999997136071345, crit_val=[[ 0.36092426]]\n"
     ]
    }
   ],
   "source": [
    "# Show results\n",
    "mu_GMM2, sig_GMM2 = results_opt.x\n",
    "params_gmm1 = np.array([mu_GMM2, sig_GMM2])\n",
    "crit_val = criterion_fn(params_gmm1, *gmm_args)\n",
    "print(\"GMM results using optimal weighting matrix:\\n\\tmu={}, sigma={}, crit_val={}\".format(mu_GMM2, sig_GMM2, crit_val))\n"
   ]
  },
  {
   "cell_type": "code",
   "execution_count": 34,
   "metadata": {},
   "outputs": [
    {
     "data": {
      "image/png": "[encoded data removed]",
      "text/plain": [
       "<matplotlib.figure.Figure at 0x20ff1825d68>"
      ]
     },
     "metadata": {},
     "output_type": "display_data"
    }
   ],
   "source": [
    "# Plot optimal results along with earlier initial GMM estimations\n",
    "# Plot\n",
    "pdf_ln_gmm1 = gen_ln_pdf(mu_GMM1, sig_GMM1)\n",
    "pdf_ln_gmm2 = gen_ln_pdf(mu_GMM2, sig_GMM2)\n",
    "\n",
    "n, bins, patches = plt.hist(income_data, bins=30, density=True)\n",
    "plt.title(\"MACSS annual salaries distribution w both GMM estimate\")\n",
    "plt.xlabel(\"Annual income ($)\")\n",
    "plt.ylabel(\"Hist density\")\n",
    "plt.plot(np.linspace(0, 150000, 200), pdf_ln_gmm1(np.linspace(0.1, 150000, 200)), label=\"GMM: W=Identity\")\n",
    "plt.plot(np.linspace(0, 150000, 200), pdf_ln_gmm2(np.linspace(0.1, 150000, 200)), label=\"GMM: W=Optimal\")\n",
    "plt.legend()\n",
    "plt.savefig(\"pa3_figure_3_histwoptimal.png\")\n",
    "plt.show()"
   ]
  },
  {
   "cell_type": "code",
   "execution_count": 35,
   "metadata": {},
   "outputs": [
    {
     "name": "stdout",
     "output_type": "stream",
     "text": [
      "E[X] comparison: \n",
      "\tdata=87588.93076851241, model=35063.10469375098, difference=52525.826074761426\n",
      "Std Dev[X] comparison: \n",
      "\tdata=18035.906827092327, model=18686.542078848914, difference=-650.6352517565865\n"
     ]
    }
   ],
   "source": [
    "# Compare data moments and model moments with parameters from optimal weighting matrix estimation\n",
    "data_expX, data_stdX = data_moments(income_data)\n",
    "opt_model_expX, opt_model_stdX = model_moments_ln_anal(mu_GMM2, sig_GMM2)\n",
    "print(\"E[X] comparison: \\n\\tdata={}, model={}, difference={}\".format(data_expX, opt_model_expX,data_expX - opt_model_expX ))\n",
    "\n",
    "print(\"Std Dev[X] comparison: \\n\\tdata={}, model={}, difference={}\".format(data_stdX, opt_model_stdX,data_stdX - opt_model_stdX ))"
   ]
  },
  {
   "cell_type": "markdown",
   "metadata": {},
   "source": [
    "As discussed above, I believe that because our initial fit using W=Identity_Matrix is so close, the inverted var-cov matrix is massive which distorts the resulting criterion function and results in the bizarre fit in the figure above."
   ]
  },
  {
   "cell_type": "markdown",
   "metadata": {},
   "source": [
    "## 1d: Estimate GMM using 3 moments based on % in certain brackets"
   ]
  },
  {
   "cell_type": "code",
   "execution_count": 54,
   "metadata": {
    "collapsed": true
   },
   "outputs": [],
   "source": [
    "CUTOFF_1 = 75000\n",
    "CUTOFF_2 = 100000\n",
    "\n",
    "# Define functions needed for GMM estimation\n",
    "def data_moments_3(data):\n",
    "    '''\n",
    "    Given data and globally defined cutoff values, returns the \n",
    "    % of total observations falling into each cutoff bucket.\n",
    "    \n",
    "    Inputs: \n",
    "        data: np array of data\n",
    "    \n",
    "    Returns: (tuple) of pct in each of 3 bins\n",
    "    '''\n",
    "    den = data.shape[0]\n",
    "    assert den > 0, \"ERROR: data_moments_3 (divide by 0)\"\n",
    "    \n",
    "    pct_bin1 = data[data<=CUTOFF_1].shape[0]/den\n",
    "    pct_bin2 = data[(data>=CUTOFF_1) & (data<=CUTOFF_2)].shape[0]/den\n",
    "    pct_bin3= data[(data>=CUTOFF_2)].shape[0]/den\n",
    "    assert np.abs(pct_bin1 + pct_bin2 + pct_bin3 - 1) < 0.00001, \"ERROR: data_moments_3 (not equal 100%)\"\n",
    "    \n",
    "    return pct_bin1, pct_bin2, pct_bin3\n",
    "\n",
    "def model_moments_3(mu, sigma):\n",
    "    '''\n",
    "    Given params mu and sigma, calculates the percent of the CDF in each of\n",
    "    3 buckets, which are defined globally\n",
    "    Based on a lognormal distribution\n",
    "    \n",
    "    Inputs:\n",
    "        mu: lognormal parameter\n",
    "        sigma: lognormal parameter\n",
    "    \n",
    "    Returns: (tuple) of pct in each of 3 bins\n",
    "    '''\n",
    "    ln_pdf = gen_ln_pdf(mu, sigma)\n",
    "    \n",
    "    pct_bin1 = intgr.quad(ln_pdf, 0, CUTOFF_1)[0]\n",
    "    pct_bin2 = intgr.quad(ln_pdf, CUTOFF_1, CUTOFF_2)[0]\n",
    "    pct_bin3 = intgr.quad(ln_pdf, CUTOFF_2, np.inf)[0]\n",
    "    #assert np.abs(pct_bin1 + pct_bin2 + pct_bin3 - 1) < 0.00001, \"ERROR: model_moments_3 (not equal 100%)\"\n",
    "        \n",
    "    return pct_bin1, pct_bin2, pct_bin3\n",
    "\n",
    "def error_vector_3(data, mu, sigma, pct_diff=False):\n",
    "    '''\n",
    "    Given data and mu,sigma parameters for lognormal distribution,\n",
    "    returns the error between the observed empirical moments and the \n",
    "    moments resulting from the mu,sigma parameter assumptions.\n",
    "    Note: moments here refer to % in each of 3 mutually \n",
    "            exhaustive bins, which are defined globally\n",
    "    \n",
    "    Note: pct_diff is an optional argument, where True will return\n",
    "            the % diff, rather than the absolute difference\n",
    "    \n",
    "    Inputs:\n",
    "        data: (np array) of empirical observations\n",
    "        mu: (float) log normal parameter\n",
    "        sigma: (float) log normal parameter\n",
    "        pct_diff: (boolean) True will return % diff\n",
    "    Returns:\n",
    "        error_vector (2,1) np matrix\n",
    "    '''\n",
    "    \n",
    "    data_pct_bin1, data_pct_bin2, data_pct_bin3 = data_moments_3(data)\n",
    "    model_pct_bin1, model_pct_bin2, model_pct_bin3 = model_moments_3(mu, sigma)\n",
    "    \n",
    "    data_moms_matrix = np.array([[data_pct_bin1], [data_pct_bin2], [data_pct_bin3]])\n",
    "    model_moms_matrix = np.array([[model_pct_bin1], [model_pct_bin2], [model_pct_bin3]])\n",
    "    \n",
    "    if pct_diff == True:\n",
    "        error_vector = (model_moms_matrix - data_moms_matrix) / data_moms_matrix\n",
    "    else:\n",
    "        error_vector = (model_moms_matrix - data_moms_matrix)\n",
    "    \n",
    "    return error_vector\n",
    "\n",
    "\n",
    "def criterion_fn_3(params, *args):\n",
    "    '''\n",
    "    Given params (mu and sigma) and args (data and W) \n",
    "    returns the weighted squared error\n",
    "    Inputs: params, args\n",
    "    \n",
    "    Returns: crit_val = weighted squared errors under lognormal dist\n",
    "    '''\n",
    "    \n",
    "    mu, sigma = params\n",
    "    data, W = args\n",
    "    err = error_vector_3(data, mu, sigma, pct_diff=True)\n",
    "    crit_val = err.T @ W @ err\n",
    "    print(\"mu={}, sigma={}, crit_val={}\".format(mu, sigma, crit_val))\n",
    "    \n",
    "    return crit_val\n"
   ]
  },
  {
   "cell_type": "code",
   "execution_count": 55,
   "metadata": {},
   "outputs": [
    {
     "name": "stdout",
     "output_type": "stream",
     "text": [
      "Data moments: (0.265, 0.475, 0.26)\n"
     ]
    }
   ],
   "source": [
    "# Check our functions run\n",
    "data_moments = data_moments_3(income_data)\n",
    "print(\"Data moments:\" ,data_moments)\n"
   ]
  },
  {
   "cell_type": "code",
   "execution_count": 57,
   "metadata": {},
   "outputs": [
    {
     "name": "stdout",
     "output_type": "stream",
     "text": [
      "mu=11.0, sigma=0.5, crit_val=[[ 2.95334951]]\n",
      "mu=11.00000001, sigma=0.5, crit_val=[[ 2.9533494]]\n",
      "mu=11.0, sigma=0.50000001, crit_val=[[ 2.95334946]]\n",
      "mu=11.90724880629907, sigma=0.9205943455027803, crit_val=[[ 3.06140669]]\n",
      "mu=11.90724881629907, sigma=0.9205943455027803, crit_val=[[ 3.06140675]]\n",
      "mu=11.90724880629907, sigma=0.9205943555027803, crit_val=[[ 3.06140667]]\n",
      "mu=11.350239156662258, sigma=0.6623684791239599, crit_val=[[ 1.07504734]]\n",
      "mu=11.35023916666226, sigma=0.6623684791239599, crit_val=[[ 1.07504733]]\n",
      "mu=11.350239156662258, sigma=0.66236848912396, crit_val=[[ 1.07504735]]\n",
      "mu=11.363271910619655, sigma=0.6114728981255477, crit_val=[[ 0.97646377]]\n",
      "mu=11.363271920619656, sigma=0.6114728981255477, crit_val=[[ 0.97646377]]\n",
      "mu=11.363271910619655, sigma=0.6114729081255478, crit_val=[[ 0.97646379]]\n",
      "mu=11.415402926449243, sigma=0.407890574131899, crit_val=[[ 0.53621127]]\n",
      "mu=11.415402936449244, sigma=0.407890574131899, crit_val=[[ 0.5362113]]\n",
      "mu=11.415402926449243, sigma=0.407890584131899, crit_val=[[ 0.5362113]]\n",
      "mu=11.519850844885717, sigma=1.000000082740371e-10, crit_val=[[ 3.]]\n",
      "mu=11.519850854885718, sigma=1.000000082740371e-10, crit_val=[[ 3.]]\n",
      "mu=11.519850844885717, sigma=1.0100000008274037e-08, crit_val=[[ 3.]]\n",
      "mu=11.420415561931414, sigma=0.38831520302980416, crit_val=[[ 0.49790433]]\n",
      "mu=11.420415571931414, sigma=0.38831520302980416, crit_val=[[ 0.49790436]]\n",
      "mu=11.420415561931414, sigma=0.38831521302980415, crit_val=[[ 0.49790435]]\n",
      "mu=11.447300553432617, sigma=0.2833237893144796, crit_val=[[ 0.40353104]]\n",
      "mu=11.447300563432618, sigma=0.2833237893144796, crit_val=[[ 0.40353112]]\n",
      "mu=11.447300553432617, sigma=0.2833237993144796, crit_val=[[ 0.40353105]]\n",
      "mu=11.381739953014172, sigma=1e-10, crit_val=[[ 3.]]\n",
      "mu=11.381739963014173, sigma=1e-10, crit_val=[[ 3.]]\n",
      "mu=11.381739953014172, sigma=1.01e-08, crit_val=[[ 3.]]\n",
      "mu=11.444165658199708, sigma=0.26977616481883215, crit_val=[[ 0.36336726]]\n"
     ]
    },
    {
     "name": "stderr",
     "output_type": "stream",
     "text": [
      "C:\\Users\\Cooper\\Anaconda3\\lib\\site-packages\\scipy\\integrate\\quadpack.py:364: IntegrationWarning: The algorithm does not converge.  Roundoff error is detected\n",
      "  in the extrapolation table.  It is assumed that the requested tolerance\n",
      "  cannot be achieved, and that the returned result (if full_output = 1) is \n",
      "  the best which can be obtained.\n",
      "  warnings.warn(msg, IntegrationWarning)\n"
     ]
    },
    {
     "name": "stdout",
     "output_type": "stream",
     "text": [
      "mu=11.444165668199709, sigma=0.26977616481883215, crit_val=[[ 0.36336734]]\n",
      "mu=11.444165658199708, sigma=0.26977617481883215, crit_val=[[ 0.36336727]]\n",
      "mu=11.41295280560694, sigma=0.13488808245941608, crit_val=[[ 0.69306616]]\n",
      "mu=11.41295281560694, sigma=0.13488808245941608, crit_val=[[ 0.69306617]]\n",
      "mu=11.41295280560694, sigma=0.13488809245941608, crit_val=[[ 0.693066]]\n",
      "mu=11.43263878956097, sigma=0.21996215946104009, crit_val=[[ 0.26177101]]\n",
      "mu=11.432638799560971, sigma=0.21996215946104009, crit_val=[[ 0.26177109]]\n",
      "mu=11.43263878956097, sigma=0.21996216946104008, crit_val=[[ 0.261771]]\n",
      "mu=11.059925217677648, sigma=0.15919823692721513, crit_val=[[ 6.33999276]]\n",
      "mu=11.059925227677649, sigma=0.15919823692721513, crit_val=[[ 6.33999247]]\n",
      "mu=11.059925217677648, sigma=0.15919824692721513, crit_val=[[ 6.33999246]]\n",
      "mu=11.383230029278037, sigma=0.21190699241371735, crit_val=[[ 0.02425857]]\n",
      "mu=11.383230039278038, sigma=0.21190699241371735, crit_val=[[ 0.02425859]]\n",
      "mu=11.383230029278037, sigma=0.21190700241371735, crit_val=[[ 0.02425855]]\n",
      "mu=11.36730662718547, sigma=0.24629305887598799, crit_val=[[ 0.01368657]]\n",
      "mu=11.367306637185472, sigma=0.24629305887598799, crit_val=[[ 0.01368657]]\n",
      "mu=11.36730662718547, sigma=0.24629306887598798, crit_val=[[ 0.01368658]]\n",
      "mu=11.365666528652605, sigma=0.22824321059669694, crit_val=[[ 0.000314]]\n",
      "mu=11.365666538652606, sigma=0.22824321059669694, crit_val=[[ 0.00031399]]\n",
      "mu=11.365666528652605, sigma=0.22824322059669694, crit_val=[[ 0.000314]]\n",
      "mu=11.36761378919397, sigma=0.22578334296677693, crit_val=[[  1.37720800e-05]]\n",
      "mu=11.36761379919397, sigma=0.22578334296677693, crit_val=[[  1.37723925e-05]]\n",
      "mu=11.36761378919397, sigma=0.22578335296677693, crit_val=[[  1.37716917e-05]]\n",
      "mu=11.367358816929702, sigma=0.22630623629541236, crit_val=[[  3.21582577e-08]]\n",
      "mu=11.367358826929703, sigma=0.22630623629541236, crit_val=[[  3.21705404e-08]]\n",
      "mu=11.367358816929702, sigma=0.22630624629541235, crit_val=[[  3.21785553e-08]]\n",
      "mu=11.367346168326842, sigma=0.22627863504020138, crit_val=[[  6.06153001e-10]]\n",
      "mu=11.367346178326843, sigma=0.22627863504020138, crit_val=[[  6.02810212e-10]]\n",
      "mu=11.367346168326842, sigma=0.22627864504020137, crit_val=[[  6.04632365e-10]]\n",
      "mu=11.36734897497453, sigma=0.2262804865970421, crit_val=[[  2.13723830e-13]]\n",
      "mu=11.36734898497453, sigma=0.2262804865970421, crit_val=[[  2.78153732e-13]]\n",
      "mu=11.36734897497453, sigma=0.2262804965970421, crit_val=[[  1.84693710e-13]]\n"
     ]
    }
   ],
   "source": [
    "# Use above functions to find the error miniziming GMM estimate\n",
    "mu_init = 11\n",
    "sig_init = .5\n",
    "params_init_3 = np.array([mu_init, sig_init])\n",
    "W_hat_3 = np.eye(3)\n",
    "gmm_args = (income_data,  W_hat_3)\n",
    "\n",
    "results_3 = opt.minimize(criterion_fn_3, params_init, args=(gmm_args), method='L-BFGS-B', bounds=((None, None), (1e-10, None)))\n"
   ]
  },
  {
   "cell_type": "code",
   "execution_count": 60,
   "metadata": {},
   "outputs": [
    {
     "name": "stdout",
     "output_type": "stream",
     "text": [
      "mu=11.36734897497453, sigma=0.2262804865970421, crit_val=[[  2.13723830e-13]]\n",
      "\n",
      "GMM using 3 % buckets estimates: \n",
      "mu=11.36734897497453, sigma=0.2262804865970421, crit_val=[[  2.13723830e-13]]\n"
     ]
    }
   ],
   "source": [
    "# Print results of estimation using 3 % buckets\n",
    "mu_GMM3, sig_GMM3 = results_3.x\n",
    "params_gmm3 = np.array([mu_GMM3, sig_GMM3])\n",
    "crit_val_3 = criterion_fn_3(params_gmm3, *gmm_args)\n",
    "print()\n",
    "print(\"GMM using 3 % buckets estimates: \\nmu={}, sigma={}, crit_val={}\".format(mu_GMM3, sig_GMM3, crit_val_3))\n"
   ]
  },
  {
   "cell_type": "code",
   "execution_count": 61,
   "metadata": {},
   "outputs": [
    {
     "name": "stdout",
     "output_type": "stream",
     "text": [
      "% <$75K comparison: \n",
      "\tdata=0.265, model=0.2649998901002165, difference=1.0989978349584817e-07\n",
      "% $75K-$100K comparison: \n",
      "\tdata=0.475, model=0.4750000792428613, difference=-7.924286132832137e-08\n",
      "% >$100K comparison: \n",
      "\tdata=0.26, model=0.26000003065692207, difference=-3.06569220565045e-08\n"
     ]
    }
   ],
   "source": [
    "# Compare data moments and model moments given estimated parameters\n",
    "dm1, dm2, dm3 = data_moments_3(income_data)\n",
    "mm1, mm2, mm3 = model_moments_3(mu_GMM3, sig_GMM3)\n",
    "print(\"% <$75K comparison: \\n\\tdata={}, model={}, difference={}\".format(dm1, mm1,dm1 - mm1 ))\n",
    "print(\"% $75K-$100K comparison: \\n\\tdata={}, model={}, difference={}\".format(dm2, mm2,dm2 - mm2 ))\n",
    "print(\"% >$100K comparison: \\n\\tdata={}, model={}, difference={}\".format(dm3, mm3,dm3 - mm3 ))\n"
   ]
  },
  {
   "cell_type": "code",
   "execution_count": 62,
   "metadata": {},
   "outputs": [
    {
     "data": {
      "image/png": "[encoded data removed]",
      "text/plain": [
       "<matplotlib.figure.Figure at 0x20ff1b50860>"
      ]
     },
     "metadata": {},
     "output_type": "display_data"
    }
   ],
   "source": [
    "# Plot the 3-part GMM estimate against the histogram\n",
    "pdf_ln_gmm3 = gen_ln_pdf(mu_GMM3, sig_GMM3)\n",
    "\n",
    "n, bins, patches = plt.hist(income_data, bins=30, density=True)\n",
    "plt.title(\"MACSS annual salaries distribution w GMM estimate\")\n",
    "plt.xlabel(\"Annual income ($)\")\n",
    "plt.ylabel(\"Hist density\")\n",
    "plt.plot(np.linspace(0, 150000, 200), pdf_ln_gmm3(np.linspace(0.1, 150000, 200)))\n",
    "plt.savefig(\"pa3_figure_3_histwpdf_3pct.png\")\n",
    "plt.show()"
   ]
  },
  {
   "cell_type": "markdown",
   "metadata": {},
   "source": [
    "## 1e: Two-step estimator on the 3-% estimation"
   ]
  },
  {
   "cell_type": "code",
   "execution_count": 63,
   "metadata": {},
   "outputs": [
    {
     "name": "stdout",
     "output_type": "stream",
     "text": [
      "Var-cov matrix from err vector GMM estimation:\n",
      " [[  6.03898121e-17  -4.35438665e-17  -1.68459455e-17]\n",
      " [ -4.35438665e-17   3.13971554e-17   1.21467111e-17]\n",
      " [ -1.68459455e-17   1.21467111e-17   4.69923435e-18]]\n",
      "Optimal weighting matrix: \n",
      " [[  6.48684106e+15  -4.67731446e+15  -1.80952659e+15]\n",
      " [ -4.67731446e+15   3.37256152e+15   1.30475293e+15]\n",
      " [ -1.80952659e+15   1.30475293e+15   5.04773658e+14]]\n"
     ]
    }
   ],
   "source": [
    "# Calculate the 2-step optimal wighting matrix\n",
    "err_gmm3 = error_vector_3(income_data, mu_GMM3, sig_GMM3, pct_diff=False)\n",
    "VCV_gmm3 = (1/income_data.shape[0]) * err_gmm3 @ err_gmm3.T\n",
    "print(\"Var-cov matrix from err vector GMM estimation:\\n\", VCV_gmm3)\n",
    "W_hat_opt_3 = lin.pinv(VCV_gmm3)    # Use pinv because terms are near zero and difficult to invert\n",
    "print(\"Optimal weighting matrix: \\n\", W_hat_opt_3)"
   ]
  },
  {
   "cell_type": "code",
   "execution_count": 66,
   "metadata": {},
   "outputs": [
    {
     "name": "stdout",
     "output_type": "stream",
     "text": [
      "mu=11.0, sigma=0.5, crit_val=[[  2.90293927e+16]]\n",
      "mu=11.00000001, sigma=0.5, crit_val=[[  2.90293917e+16]]\n",
      "mu=11.0, sigma=0.50000001, crit_val=[[  2.90293923e+16]]\n",
      "mu=11.922969095813338, sigma=0.8848740679410745, crit_val=[[  3.87205366e+13]]\n",
      "mu=11.922969105813339, sigma=0.8848740679410745, crit_val=[[  3.87205523e+13]]\n",
      "mu=11.922969095813338, sigma=0.8848740779410745, crit_val=[[  3.87205236e+13]]\n",
      "mu=11.908748110622117, sigma=0.8968432527041988, crit_val=[[  1.01522968e+13]]\n",
      "mu=11.908748120622118, sigma=0.8968432527041988, crit_val=[[  1.01523049e+13]]\n",
      "mu=11.908748110622117, sigma=0.8968432627041989, crit_val=[[  1.01522903e+13]]\n",
      "mu=11.89373029275347, sigma=0.9089614036801869, crit_val=[[  2.58487470e+09]]\n",
      "mu=11.89373030275347, sigma=0.9089614036801869, crit_val=[[  2.58500518e+09]]\n",
      "mu=11.89373029275347, sigma=0.9089614136801869, crit_val=[[  2.58477410e+09]]\n",
      "mu=11.89348617163696, sigma=0.9091541526823397, crit_val=[[ 202241.94337082]]\n",
      "mu=11.89348618163696, sigma=0.9091541526823397, crit_val=[[ 203398.12462425]]\n",
      "mu=11.89348617163696, sigma=0.9091541626823397, crit_val=[[ 201353.60277939]]\n",
      "mu=11.893483990281197, sigma=0.9091558714231148, crit_val=[[-0.03400872]]\n",
      "mu=11.893484000281198, sigma=0.9091558714231148, crit_val=[[ 1.17364722]]\n",
      "mu=11.893483990281197, sigma=0.9091558814231149, crit_val=[[ 1.3928194]]\n",
      "mu=11.893483988864501, sigma=0.9091558697886789, crit_val=[[ 0.01572115]]\n",
      "mu=11.893483998864502, sigma=0.9091558697886789, crit_val=[[ 1.04543088]]\n",
      "mu=11.893483988864501, sigma=0.909155879788679, crit_val=[[ 1.41914737]]\n",
      "mu=11.893483990017998, sigma=0.9091558711194634, crit_val=[[-0.01710459]]\n",
      "mu=11.893484000017999, sigma=0.9091558711194634, crit_val=[[ 1.05086531]]\n",
      "mu=11.893483990017998, sigma=0.9091558811194634, crit_val=[[ 1.3498913]]\n",
      "mu=11.893483990237472, sigma=0.9091558713726694, crit_val=[[-0.00634304]]\n",
      "mu=11.893484000237473, sigma=0.9091558713726694, crit_val=[[ 1.00632918]]\n",
      "mu=11.893483990237472, sigma=0.9091558813726694, crit_val=[[ 1.10168383]]\n",
      "mu=11.89348399027875, sigma=0.9091558714202904, crit_val=[[-0.16879902]]\n",
      "mu=11.89348400027875, sigma=0.9091558714202904, crit_val=[[ 1.10653004]]\n",
      "mu=11.89348399027875, sigma=0.9091558814202905, crit_val=[[ 1.32142232]]\n",
      "mu=11.893483990278254, sigma=0.9091558714197193, crit_val=[[-0.04415545]]\n",
      "mu=11.893484000278255, sigma=0.9091558714197193, crit_val=[[ 1.16339276]]\n"
     ]
    },
    {
     "name": "stderr",
     "output_type": "stream",
     "text": [
      "C:\\Users\\Cooper\\Anaconda3\\lib\\site-packages\\scipy\\integrate\\quadpack.py:364: IntegrationWarning: The algorithm does not converge.  Roundoff error is detected\n",
      "  in the extrapolation table.  It is assumed that the requested tolerance\n",
      "  cannot be achieved, and that the returned result (if full_output = 1) is \n",
      "  the best which can be obtained.\n",
      "  warnings.warn(msg, IntegrationWarning)\n"
     ]
    },
    {
     "name": "stdout",
     "output_type": "stream",
     "text": [
      "mu=11.893483990278254, sigma=0.9091558814197194, crit_val=[[ 1.31943134]]\n",
      "mu=11.89348399027875, sigma=0.9091558714202903, crit_val=[[-0.04215031]]\n",
      "mu=11.89348400027875, sigma=0.9091558714202903, crit_val=[[ 1.1698544]]\n",
      "mu=11.89348399027875, sigma=0.9091558814202904, crit_val=[[ 1.31749739]]\n",
      "mu=11.89348399027875, sigma=0.9091558714202904, crit_val=[[-0.16879902]]\n",
      "mu=11.89348400027875, sigma=0.9091558714202904, crit_val=[[ 1.10653004]]\n",
      "mu=11.89348399027875, sigma=0.9091558814202905, crit_val=[[ 1.32142232]]\n",
      "mu=11.893483988776595, sigma=0.9091558697183764, crit_val=[[-0.09065153]]\n",
      "mu=11.893483998776595, sigma=0.9091558697183764, crit_val=[[ 1.18516833]]\n",
      "mu=11.893483988776595, sigma=0.9091558797183764, crit_val=[[ 1.44798586]]\n",
      "mu=11.893483990023363, sigma=0.9091558711309424, crit_val=[[-0.02755867]]\n",
      "mu=11.893484000023363, sigma=0.9091558711309424, crit_val=[[ 1.10600074]]\n",
      "mu=11.893483990023363, sigma=0.9091558811309425, crit_val=[[ 1.40756989]]\n",
      "mu=11.893483990262784, sigma=0.9091558714022021, crit_val=[[ 0.03632416]]\n",
      "mu=11.893484000262784, sigma=0.9091558714022021, crit_val=[[ 1.04983796]]\n",
      "mu=11.893483990262784, sigma=0.9091558814022022, crit_val=[[ 1.33708721]]\n",
      "mu=11.893483990278689, sigma=0.9091558714202221, crit_val=[[ 0.06333443]]\n",
      "mu=11.89348400027869, sigma=0.9091558714202221, crit_val=[[ 1.01470263]]\n",
      "mu=11.893483990278689, sigma=0.9091558814202222, crit_val=[[ 1.16627511]]\n",
      "mu=11.89348399027875, sigma=0.9091558714202904, crit_val=[[-0.16879902]]\n",
      "mu=11.89348400027875, sigma=0.9091558714202904, crit_val=[[ 1.10653004]]\n",
      "mu=11.89348399027875, sigma=0.9091558814202905, crit_val=[[ 1.32142232]]\n",
      "mu=11.89348399027875, sigma=0.9091558714202904, crit_val=[[-0.16879902]]\n",
      "mu=11.89348400027875, sigma=0.9091558714202904, crit_val=[[ 1.10653004]]\n",
      "mu=11.89348399027875, sigma=0.9091558814202905, crit_val=[[ 1.32142232]]\n",
      "mu=11.89348399027875, sigma=0.9091558714202904, crit_val=[[-0.16879902]]\n",
      "mu=11.89348400027875, sigma=0.9091558714202904, crit_val=[[ 1.10653004]]\n",
      "mu=11.89348399027875, sigma=0.9091558814202905, crit_val=[[ 1.32142232]]\n",
      "mu=11.89348399027875, sigma=0.9091558714202904, crit_val=[[-0.16879902]]\n",
      "mu=11.89348400027875, sigma=0.9091558714202904, crit_val=[[ 1.10653004]]\n",
      "mu=11.89348399027875, sigma=0.9091558814202905, crit_val=[[ 1.32142232]]\n",
      "mu=11.89348399027875, sigma=0.9091558714202904, crit_val=[[-0.16879902]]\n",
      "mu=11.89348400027875, sigma=0.9091558714202904, crit_val=[[ 1.10653004]]\n",
      "mu=11.89348399027875, sigma=0.9091558814202905, crit_val=[[ 1.32142232]]\n",
      "mu=11.89348399027875, sigma=0.9091558714202904, crit_val=[[-0.16879902]]\n",
      "mu=11.89348400027875, sigma=0.9091558714202904, crit_val=[[ 1.10653004]]\n",
      "mu=11.89348399027875, sigma=0.9091558814202905, crit_val=[[ 1.32142232]]\n",
      "mu=11.89348399027875, sigma=0.9091558714202904, crit_val=[[-0.16879902]]\n",
      "mu=11.89348400027875, sigma=0.9091558714202904, crit_val=[[ 1.10653004]]\n",
      "mu=11.89348399027875, sigma=0.9091558814202905, crit_val=[[ 1.32142232]]\n",
      "mu=11.89348399027875, sigma=0.9091558714202904, crit_val=[[-0.16879902]]\n",
      "mu=11.89348400027875, sigma=0.9091558714202904, crit_val=[[ 1.10653004]]\n",
      "mu=11.89348399027875, sigma=0.9091558814202905, crit_val=[[ 1.32142232]]\n",
      "mu=11.89348399027875, sigma=0.9091558714202904, crit_val=[[-0.16879902]]\n",
      "mu=11.89348400027875, sigma=0.9091558714202904, crit_val=[[ 1.10653004]]\n",
      "mu=11.89348399027875, sigma=0.9091558814202905, crit_val=[[ 1.32142232]]\n",
      "mu=11.89348399027875, sigma=0.9091558714202904, crit_val=[[-0.16879902]]\n",
      "mu=11.89348400027875, sigma=0.9091558714202904, crit_val=[[ 1.10653004]]\n",
      "mu=11.89348399027875, sigma=0.9091558814202905, crit_val=[[ 1.32142232]]\n",
      "mu=11.89348399027875, sigma=0.9091558714202904, crit_val=[[-0.16879902]]\n",
      "mu=11.89348400027875, sigma=0.9091558714202904, crit_val=[[ 1.10653004]]\n",
      "mu=11.89348399027875, sigma=0.9091558814202905, crit_val=[[ 1.32142232]]\n",
      "mu=11.89348399027875, sigma=0.9091558714202904, crit_val=[[-0.16879902]]\n",
      "mu=11.89348400027875, sigma=0.9091558714202904, crit_val=[[ 1.10653004]]\n",
      "mu=11.89348399027875, sigma=0.9091558814202905, crit_val=[[ 1.32142232]]\n",
      "mu=11.89348399027875, sigma=0.9091558714202904, crit_val=[[-0.16879902]]\n",
      "mu=11.89348400027875, sigma=0.9091558714202904, crit_val=[[ 1.10653004]]\n",
      "mu=11.89348399027875, sigma=0.9091558814202905, crit_val=[[ 1.32142232]]\n",
      "mu=11.89348399027875, sigma=0.9091558714202904, crit_val=[[-0.16879902]]\n",
      "mu=11.89348400027875, sigma=0.9091558714202904, crit_val=[[ 1.10653004]]\n",
      "mu=11.89348399027875, sigma=0.9091558814202905, crit_val=[[ 1.32142232]]\n",
      "mu=11.89348399027875, sigma=0.9091558714202904, crit_val=[[-0.16879902]]\n",
      "GMM results using optimal weighting matrix:\n",
      "\tmu=11.89348399027875, sigma=0.9091558714202904, crit_val=[[-0.16879902]]\n"
     ]
    }
   ],
   "source": [
    "# Do GMM with optimal weighting matrix\n",
    "mu_init = 11\n",
    "sig_init = .5\n",
    "params_init = np.array([mu_init, sig_init])\n",
    "gmm_args3 = (income_data,  W_hat_opt_3)\n",
    "\n",
    "results_opt_3 = opt.minimize(criterion_fn_3, params_init, args=(gmm_args3), method='L-BFGS-B', bounds=((None, None), (1e-10, None)))\n",
    "\n",
    "\n",
    "# Show results\n",
    "mu_GMM3_opt, sig_GMM3_opt = results_opt_3.x\n",
    "params_gmm3 = np.array([mu_GMM3_opt, sig_GMM3_opt])\n",
    "crit_val_3 = criterion_fn_3(params_gmm3, *gmm_args3)\n",
    "print(\"GMM results using optimal weighting matrix:\\n\\tmu={}, sigma={}, crit_val={}\".format(mu_GMM3_opt, sig_GMM3_opt, crit_val_3))\n"
   ]
  },
  {
   "cell_type": "code",
   "execution_count": 67,
   "metadata": {},
   "outputs": [
    {
     "data": {
      "image/png": "[encoded data removed]",
      "text/plain": [
       "<matplotlib.figure.Figure at 0x20ff18b7a90>"
      ]
     },
     "metadata": {},
     "output_type": "display_data"
    }
   ],
   "source": [
    "# Plot optimal results along with earlier initial GMM estimations\n",
    "# Plot\n",
    "# Plot the 3-part GMM estimate against the histogram\n",
    "pdf_ln_gmm3 = gen_ln_pdf(mu_GMM3, sig_GMM3)\n",
    "pdf_ln_gmm3_opt = gen_ln_pdf(mu_GMM3_opt, sig_GMM3_opt)\n",
    "\n",
    "n, bins, patches = plt.hist(income_data, bins=30, density=True)\n",
    "plt.title(\"MACSS annual salaries distribution w GMM estimate\")\n",
    "plt.xlabel(\"Annual income ($)\")\n",
    "plt.ylabel(\"Hist density\")\n",
    "plt.plot(np.linspace(0, 150000, 200), pdf_ln_gmm3(np.linspace(0.1, 150000, 200)))\n",
    "plt.plot(np.linspace(0, 150000, 200), pdf_ln_gmm3_opt(np.linspace(0.1, 150000, 200)))\n",
    "plt.savefig(\"pa3_figure_4_histwpdf_3pct.png\")\n",
    "plt.show()"
   ]
  },
  {
   "cell_type": "code",
   "execution_count": 68,
   "metadata": {},
   "outputs": [
    {
     "name": "stdout",
     "output_type": "stream",
     "text": [
      "% <$75K comparison: \n",
      "\tdata=0.265, model=0.2311660519545324, difference=0.033833948045467604\n",
      "% $75K-$100K comparison: \n",
      "\tdata=0.475, model=0.10659387002945782, difference=0.3684061299705422\n",
      "% >$100K comparison: \n",
      "\tdata=0.26, model=0.6622401319919808, difference=-0.40224013199198083\n"
     ]
    },
    {
     "name": "stderr",
     "output_type": "stream",
     "text": [
      "C:\\Users\\Cooper\\Anaconda3\\lib\\site-packages\\scipy\\integrate\\quadpack.py:364: IntegrationWarning: The algorithm does not converge.  Roundoff error is detected\n",
      "  in the extrapolation table.  It is assumed that the requested tolerance\n",
      "  cannot be achieved, and that the returned result (if full_output = 1) is \n",
      "  the best which can be obtained.\n",
      "  warnings.warn(msg, IntegrationWarning)\n"
     ]
    }
   ],
   "source": [
    "# Compare data moments and model moments given estimated parameters\n",
    "dm1, dm2, dm3 = data_moments_3(income_data)\n",
    "mm1_o, mm2_o, mm3_o = model_moments_3(mu_GMM3_opt, sig_GMM3_opt)\n",
    "print(\"% <$75K comparison: \\n\\tdata={}, model={}, difference={}\".format(dm1, mm1_o,dm1 - mm1_o ))\n",
    "print(\"% $75K-$100K comparison: \\n\\tdata={}, model={}, difference={}\".format(dm2, mm2_o,dm2 - mm2_o ))\n",
    "print(\"% >$100K comparison: \\n\\tdata={}, model={}, difference={}\".format(dm3, mm3_o,dm3 - mm3_o ))\n"
   ]
  },
  {
   "cell_type": "markdown",
   "metadata": {},
   "source": [
    "## 1f: which estimate is the best?"
   ]
  },
  {
   "cell_type": "markdown",
   "metadata": {},
   "source": [
    "Each estimation fits the data very well, and despite iterative changes the estimates don't change in an economically significant way. For the sake of statistical significance, I would prefer the optimal weigting using the 3-moment approach. I prefer the 3-moment approach because it fits important distributional features of the observed data rather than just a mean and variance. Note: there is an obvious error in my optimal weighting matrix analysis but I'm just moving on"
   ]
  },
  {
   "cell_type": "markdown",
   "metadata": {},
   "source": [
    "# Part 2"
   ]
  },
  {
   "cell_type": "markdown",
   "metadata": {},
   "source": [
    "## 2.a"
   ]
  },
  {
   "cell_type": "code",
   "execution_count": 71,
   "metadata": {},
   "outputs": [
    {
     "data": {
      "text/html": [
       "<div>\n",
       "<style>\n",
       "    .dataframe thead tr:only-child th {\n",
       "        text-align: right;\n",
       "    }\n",
       "\n",
       "    .dataframe thead th {\n",
       "        text-align: left;\n",
       "    }\n",
       "\n",
       "    .dataframe tbody tr th {\n",
       "        vertical-align: top;\n",
       "    }\n",
       "</style>\n",
       "<table border=\"1\" class=\"dataframe\">\n",
       "  <thead>\n",
       "    <tr style=\"text-align: right;\">\n",
       "      <th></th>\n",
       "      <th>sick</th>\n",
       "      <th>age</th>\n",
       "      <th>children</th>\n",
       "      <th>avgtemp_winter</th>\n",
       "    </tr>\n",
       "  </thead>\n",
       "  <tbody>\n",
       "    <tr>\n",
       "      <th>0</th>\n",
       "      <td>1.67</td>\n",
       "      <td>57.47</td>\n",
       "      <td>3.04</td>\n",
       "      <td>54.10</td>\n",
       "    </tr>\n",
       "    <tr>\n",
       "      <th>1</th>\n",
       "      <td>0.71</td>\n",
       "      <td>26.77</td>\n",
       "      <td>1.20</td>\n",
       "      <td>36.54</td>\n",
       "    </tr>\n",
       "    <tr>\n",
       "      <th>2</th>\n",
       "      <td>1.39</td>\n",
       "      <td>41.85</td>\n",
       "      <td>2.31</td>\n",
       "      <td>32.38</td>\n",
       "    </tr>\n",
       "    <tr>\n",
       "      <th>3</th>\n",
       "      <td>1.37</td>\n",
       "      <td>51.27</td>\n",
       "      <td>2.46</td>\n",
       "      <td>52.94</td>\n",
       "    </tr>\n",
       "    <tr>\n",
       "      <th>4</th>\n",
       "      <td>1.45</td>\n",
       "      <td>44.22</td>\n",
       "      <td>2.72</td>\n",
       "      <td>45.90</td>\n",
       "    </tr>\n",
       "  </tbody>\n",
       "</table>\n",
       "</div>"
      ],
      "text/plain": [
       "   sick    age  children  avgtemp_winter\n",
       "0  1.67  57.47      3.04           54.10\n",
       "1  0.71  26.77      1.20           36.54\n",
       "2  1.39  41.85      2.31           32.38\n",
       "3  1.37  51.27      2.46           52.94\n",
       "4  1.45  44.22      2.72           45.90"
      ]
     },
     "execution_count": 71,
     "metadata": {},
     "output_type": "execute_result"
    }
   ],
   "source": [
    "import pandas as pd\n",
    "df = pd.read_csv(root+\"/\"+'sick.txt')\n",
    "df.head()"
   ]
  },
  {
   "cell_type": "code",
   "execution_count": 91,
   "metadata": {},
   "outputs": [],
   "source": [
    "def model_moments_reg(b_0, b_1, b_2, b_3, X_matrix):\n",
    "    '''\n",
    "    Given beta assumptions b0-b3, calculates model moments\n",
    "    \n",
    "    Inputs:\n",
    "        b0-b3: coefficient estimates in linear regression\n",
    "        X_matrix: Pandas DF containing the sick.txt data\n",
    "    Returns: y_hat estimates\n",
    "    '''\n",
    "    \n",
    "    ones = pd.Series(  np.ones(X_matrix.shape[0])   )  \n",
    "    \n",
    "    mod_moms =  b_0*ones + b_1*X_matrix['age'] + b_2*X_matrix['children'] + b_3*X_matrix['avgtemp_winter']\n",
    "    \n",
    "    return mod_moms\n",
    "\n",
    "def err_vec_reg(b_0, b_1, b_2, b_3, X_matrix):\n",
    "    '''\n",
    "    Given beta assumptions b0-b3, calculates simple difference \n",
    "    between model and observed moments\n",
    "    \n",
    "    Inputs:\n",
    "        b0-b3: coefficient estimates in linear regression\n",
    "        X_matrix: Pandas DF containing the sick.txt data\n",
    "    Returns: error vector    \n",
    "    '''\n",
    "    \n",
    "    mod_y_hat = model_moments_reg(b_0, b_1, b_2, b_3, X_matrix)\n",
    "    error_vec = X_matrix['sick'] - mod_y_hat\n",
    "    \n",
    "    return error_vec\n",
    "\n",
    "def criterion_reg(parameters, data):\n",
    "    '''\n",
    "    Computes squared errors\n",
    "    Inputs:\n",
    "        params = ([b0, b1, b2, b3])\n",
    "        data\n",
    "    \n",
    "    Returns: crit_val\n",
    "    '''\n",
    "    \n",
    "    b_0, b_1, b_2, b_3 = parameters\n",
    "    err_vec = err_vec_reg(b_0, b_1, b_2, b_3, data)\n",
    "    crit_val = np.dot(err_vec, err_vec.T)\n",
    "    return crit_val\n",
    "\n"
   ]
  },
  {
   "cell_type": "code",
   "execution_count": 92,
   "metadata": {},
   "outputs": [],
   "source": [
    "params_init = np.array([0, 0, 0, 0])\n",
    "results = opt.minimize(criterion_reg, params_init, args = (df) )\n",
    "b0, b1, b2, b3 = results.x"
   ]
  },
  {
   "cell_type": "code",
   "execution_count": 95,
   "metadata": {},
   "outputs": [
    {
     "name": "stdout",
     "output_type": "stream",
     "text": [
      "Param estimates for b0-b3 are:\n",
      " 0.251644302758 0.0129335820436 0.400499865819 -0.00999176007314\n"
     ]
    }
   ],
   "source": [
    "print(\"Param estimates for b0-b3 are:\\n\", b0, b1, b2, b3)"
   ]
  },
  {
   "cell_type": "code",
   "execution_count": 99,
   "metadata": {},
   "outputs": [
    {
     "name": "stdout",
     "output_type": "stream",
     "text": [
      "Value of the criterion function is:\n",
      " 0.00182128968007\n"
     ]
    }
   ],
   "source": [
    "print(\"Value of the criterion function is:\\n\", criterion_reg((b0, b1, b2, b3), df))"
   ]
  },
  {
   "cell_type": "code",
   "execution_count": null,
   "metadata": {
    "collapsed": true
   },
   "outputs": [],
   "source": []
  }
 ],
 "metadata": {
  "kernelspec": {
   "display_name": "Python 3",
   "language": "python",
   "name": "python3"
  },
  "language_info": {
   "codemirror_mode": {
    "name": "ipython",
    "version": 3
   },
   "file_extension": ".py",
   "mimetype": "text/x-python",
   "name": "python",
   "nbconvert_exporter": "python",
   "pygments_lexer": "ipython3",
   "version": "3.6.3"
  }
 },
 "nbformat": 4,
 "nbformat_minor": 2
}
