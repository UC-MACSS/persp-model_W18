{
 "cells": [
  {
   "cell_type": "markdown",
   "metadata": {},
   "source": [
    "### Yangyang Dai\n",
    "### PS 7"
   ]
  },
  {
   "cell_type": "markdown",
   "metadata": {},
   "source": [
    "(a) Use sklearn.linear model.LogisticRegression to fit a logistic model of mpg high on features number of cylinders (cyl), engine displacement (dspl), horsepower (hpwr), vehicle weight (wgt), acceleration (accl), vehi- cle year (yr), vehicle origin (orgn). "
   ]
  },
  {
   "cell_type": "code",
   "execution_count": 23,
   "metadata": {},
   "outputs": [],
   "source": [
    "import pandas as pd\n",
    "import numpy as np\n",
    "\n",
    "import sklearn\n",
    "from sklearn.linear_model import LogisticRegression\n",
    "from sklearn.cross_validation import train_test_split\n",
    "from sklearn.model_selection import KFold\n",
    "from sklearn import metrics \n",
    "from sklearn.metrics import mean_squared_error\n",
    "from sklearn.ensemble import RandomForestClassifier\n",
    "from sklearn import svm"
   ]
  },
  {
   "cell_type": "code",
   "execution_count": 24,
   "metadata": {
    "collapsed": true
   },
   "outputs": [],
   "source": [
    "auto = pd.read_csv('Auto.csv', na_values='?')\n",
    "auto = auto.dropna()"
   ]
  },
  {
   "cell_type": "code",
   "execution_count": 25,
   "metadata": {},
   "outputs": [],
   "source": [
    "auto['mpg_median'] = auto['mpg'].median()\n",
    "auto['mpg_high'] = auto['mpg'] > auto['mpg_median']\n",
    "auto['mpg_high'] = auto['mpg_high'].apply(int)\n",
    "auto['const'] = 1"
   ]
  },
  {
   "cell_type": "code",
   "execution_count": 26,
   "metadata": {},
   "outputs": [
    {
     "data": {
      "text/html": [
       "<div>\n",
       "<style>\n",
       "    .dataframe thead tr:only-child th {\n",
       "        text-align: right;\n",
       "    }\n",
       "\n",
       "    .dataframe thead th {\n",
       "        text-align: left;\n",
       "    }\n",
       "\n",
       "    .dataframe tbody tr th {\n",
       "        vertical-align: top;\n",
       "    }\n",
       "</style>\n",
       "<table border=\"1\" class=\"dataframe\">\n",
       "  <thead>\n",
       "    <tr style=\"text-align: right;\">\n",
       "      <th></th>\n",
       "      <th>mpg</th>\n",
       "      <th>cylinders</th>\n",
       "      <th>displacement</th>\n",
       "      <th>horsepower</th>\n",
       "      <th>weight</th>\n",
       "      <th>acceleration</th>\n",
       "      <th>year</th>\n",
       "      <th>origin</th>\n",
       "      <th>name</th>\n",
       "      <th>mpg_median</th>\n",
       "      <th>mpg_high</th>\n",
       "      <th>const</th>\n",
       "    </tr>\n",
       "  </thead>\n",
       "  <tbody>\n",
       "    <tr>\n",
       "      <th>0</th>\n",
       "      <td>18.0</td>\n",
       "      <td>8</td>\n",
       "      <td>307.0</td>\n",
       "      <td>130.0</td>\n",
       "      <td>3504</td>\n",
       "      <td>12.0</td>\n",
       "      <td>70</td>\n",
       "      <td>1</td>\n",
       "      <td>chevrolet chevelle malibu</td>\n",
       "      <td>22.75</td>\n",
       "      <td>0</td>\n",
       "      <td>1</td>\n",
       "    </tr>\n",
       "    <tr>\n",
       "      <th>1</th>\n",
       "      <td>15.0</td>\n",
       "      <td>8</td>\n",
       "      <td>350.0</td>\n",
       "      <td>165.0</td>\n",
       "      <td>3693</td>\n",
       "      <td>11.5</td>\n",
       "      <td>70</td>\n",
       "      <td>1</td>\n",
       "      <td>buick skylark 320</td>\n",
       "      <td>22.75</td>\n",
       "      <td>0</td>\n",
       "      <td>1</td>\n",
       "    </tr>\n",
       "    <tr>\n",
       "      <th>2</th>\n",
       "      <td>18.0</td>\n",
       "      <td>8</td>\n",
       "      <td>318.0</td>\n",
       "      <td>150.0</td>\n",
       "      <td>3436</td>\n",
       "      <td>11.0</td>\n",
       "      <td>70</td>\n",
       "      <td>1</td>\n",
       "      <td>plymouth satellite</td>\n",
       "      <td>22.75</td>\n",
       "      <td>0</td>\n",
       "      <td>1</td>\n",
       "    </tr>\n",
       "    <tr>\n",
       "      <th>3</th>\n",
       "      <td>16.0</td>\n",
       "      <td>8</td>\n",
       "      <td>304.0</td>\n",
       "      <td>150.0</td>\n",
       "      <td>3433</td>\n",
       "      <td>12.0</td>\n",
       "      <td>70</td>\n",
       "      <td>1</td>\n",
       "      <td>amc rebel sst</td>\n",
       "      <td>22.75</td>\n",
       "      <td>0</td>\n",
       "      <td>1</td>\n",
       "    </tr>\n",
       "    <tr>\n",
       "      <th>4</th>\n",
       "      <td>17.0</td>\n",
       "      <td>8</td>\n",
       "      <td>302.0</td>\n",
       "      <td>140.0</td>\n",
       "      <td>3449</td>\n",
       "      <td>10.5</td>\n",
       "      <td>70</td>\n",
       "      <td>1</td>\n",
       "      <td>ford torino</td>\n",
       "      <td>22.75</td>\n",
       "      <td>0</td>\n",
       "      <td>1</td>\n",
       "    </tr>\n",
       "  </tbody>\n",
       "</table>\n",
       "</div>"
      ],
      "text/plain": [
       "    mpg  cylinders  displacement  horsepower  weight  acceleration  year  \\\n",
       "0  18.0          8         307.0       130.0    3504          12.0    70   \n",
       "1  15.0          8         350.0       165.0    3693          11.5    70   \n",
       "2  18.0          8         318.0       150.0    3436          11.0    70   \n",
       "3  16.0          8         304.0       150.0    3433          12.0    70   \n",
       "4  17.0          8         302.0       140.0    3449          10.5    70   \n",
       "\n",
       "   origin                       name  mpg_median  mpg_high  const  \n",
       "0       1  chevrolet chevelle malibu       22.75         0      1  \n",
       "1       1          buick skylark 320       22.75         0      1  \n",
       "2       1         plymouth satellite       22.75         0      1  \n",
       "3       1              amc rebel sst       22.75         0      1  \n",
       "4       1                ford torino       22.75         0      1  "
      ]
     },
     "execution_count": 26,
     "metadata": {},
     "output_type": "execute_result"
    }
   ],
   "source": [
    "auto.head()"
   ]
  },
  {
   "cell_type": "code",
   "execution_count": 27,
   "metadata": {
    "collapsed": true
   },
   "outputs": [],
   "source": [
    "X = auto[['const', 'cylinders', 'displacement', 'horsepower', 'weight', 'acceleration', 'year', 'origin']].values\n",
    "y = auto['mpg_high'].values"
   ]
  },
  {
   "cell_type": "code",
   "execution_count": 28,
   "metadata": {},
   "outputs": [],
   "source": [
    "k = 4\n",
    "kf = KFold(n_splits=k, random_state=15, shuffle=True)\n",
    "kf.get_n_splits(X)\n",
    "Logit_err_0 = np.zeros(k)\n",
    "Logit_err_1 = np.zeros(k)\n",
    "Logit_MSE_VEC = np.zeros(k)\n",
    "k_ind = int(0)"
   ]
  },
  {
   "cell_type": "code",
   "execution_count": 29,
   "metadata": {},
   "outputs": [
    {
     "name": "stdout",
     "output_type": "stream",
     "text": [
      "k index= 0\n",
      "MSE for test set 0  is 0.0918367346939\n",
      "MSE for mpg_high = True is 0.130434782609\n",
      "MSE for mpg_high = False is 0.0576923076923\n",
      "k index= 1\n",
      "MSE for test set 1  is 0.102040816327\n",
      "MSE for mpg_high = True is 0.0816326530612\n",
      "MSE for mpg_high = False is 0.122448979592\n",
      "k index= 2\n",
      "MSE for test set 2  is 0.132653061224\n",
      "MSE for mpg_high = True is 0.115384615385\n",
      "MSE for mpg_high = False is 0.152173913043\n",
      "k index= 3\n",
      "MSE for test set 3  is 0.102040816327\n",
      "MSE for mpg_high = True is 0.145454545455\n",
      "MSE for mpg_high = False is 0.046511627907\n",
      "test estimate MSE k-fold= 0.107142857143 test estimate MSE standard err= 0.015306122449\n",
      "error rate for mpg_high = True 0.118226649127 error rate for mpg_high = False 0.0947067070586\n"
     ]
    }
   ],
   "source": [
    "for train_index, test_index in kf_log.split(X):\n",
    "    print('k index=', k_ind)\n",
    "    X_train, X_test = X[train_index], X[test_index]\n",
    "    y_train, y_test = y[train_index], y[test_index]\n",
    "    LogReg = LogisticRegression()\n",
    "    LogReg.fit(X_train, y_train)\n",
    "    y_pred = LogReg.predict(X_test)\n",
    "    MSE_vec_kf[k_ind] = ((y_test - y_pred) ** 2).mean()\n",
    "    \n",
    "    true_vals = []\n",
    "    true_preds = []\n",
    "    false_vals = []\n",
    "    false_preds = []\n",
    "    for i, p in enumerate(y_pred):\n",
    "        if p == 1:\n",
    "            true_preds.append(p)\n",
    "            true_vals.append(y_test[i])\n",
    "        else:\n",
    "            false_preds.append(p)\n",
    "            false_vals.append(y_test[i])\n",
    "    true_vals = np.asarray(true_vals)\n",
    "    true_preds = np.asarray(true_preds)\n",
    "    false_vals = np.asarray(false_vals)\n",
    "    false_preds = np.asarray(false_preds)\n",
    "    true_MSE_kf[k_ind] = ((true_vals - true_preds) ** 2).mean()\n",
    "    false_MSE_kf[k_ind] = ((false_vals - false_preds) ** 2).mean()\n",
    "     \n",
    "    print('MSE for test set', k_ind, ' is', MSE_vec_kf[k_ind])\n",
    "    print('MSE for mpg_high = True is', true_MSE_kf[k_ind])\n",
    "    print('MSE for mpg_high = False is', false_MSE_kf[k_ind])\n",
    "\n",
    "    k_ind += 1\n",
    "\n",
    "MSE_kf = MSE_vec_kf.mean()\n",
    "MSE_kf_std = MSE_vec_kf.std()\n",
    "print('test estimate MSE k-fold=', MSE_kf,\n",
    "      'test estimate MSE standard err=', MSE_kf_std)\n",
    "true_MSE = true_MSE_kf.mean()\n",
    "false_MSE = false_MSE_kf.mean()\n",
    "print('error rate for mpg_high = True', true_MSE,\n",
    "      'error rate for mpg_high = False', false_MSE)"
   ]
  },
  {
   "cell_type": "code",
   "execution_count": null,
   "metadata": {
    "collapsed": true
   },
   "outputs": [],
   "source": []
  },
  {
   "cell_type": "markdown",
   "metadata": {},
   "source": [
    "(b) Use sklearn.ensemble.RandomForestClassifier to fit a random for- est model of mpg high on max features=2 out of the seven possible fea- tures used in part (a). Set n estimators=20, set bootstrap=True, set oob score=True, and set random state=25. Report the MSE of the ran- dom forest model as the MSE from the .oob prediction object, and re- port the error rates for each category of mpg high from the .oob prediction object."
   ]
  },
  {
   "cell_type": "code",
   "execution_count": 30,
   "metadata": {},
   "outputs": [
    {
     "data": {
      "text/plain": [
       "RandomForestClassifier(bootstrap=True, class_weight=None, criterion='gini',\n",
       "            max_depth=None, max_features=2, max_leaf_nodes=None,\n",
       "            min_impurity_decrease=0.0, min_impurity_split=None,\n",
       "            min_samples_leaf=1, min_samples_split=2,\n",
       "            min_weight_fraction_leaf=0.0, n_estimators=20, n_jobs=1,\n",
       "            oob_score=True, random_state=25, verbose=0, warm_start=False)"
      ]
     },
     "execution_count": 30,
     "metadata": {},
     "output_type": "execute_result"
    }
   ],
   "source": [
    "auto_tree = RandomForestClassifier(n_estimators=20, max_features=2, bootstrap=True,\n",
    "                                  oob_score=True, random_state=25)\n",
    "auto_tree.fit(X, y)"
   ]
  },
  {
   "cell_type": "code",
   "execution_count": 36,
   "metadata": {},
   "outputs": [
    {
     "name": "stdout",
     "output_type": "stream",
     "text": [
      "             precision    recall  f1-score   support\n",
      "\n",
      "          0       0.93      0.91      0.92       196\n",
      "          1       0.91      0.93      0.92       196\n",
      "\n",
      "avg / total       0.92      0.92      0.92       392\n",
      "\n",
      "The error rate(mpg_high = True:) is 0.0725388601036\n",
      "The error rate(mpg_high = False:) is 0.0854271356784\n",
      "The MSE of the model is 0.07908163265306123\n"
     ]
    }
   ],
   "source": [
    "from sklearn.metrics import classification_report\n",
    "\n",
    "oob_prediction = auto_tree.oob_decision_function_.T[1]\n",
    "MSE_RF = pd.DataFrame({'pred' : oob_prediction, 'yvals': y})\n",
    "MSE_RF['pred'] = MSE_RF['pred'].apply(lambda x: 1 if x >= 0.5 else 0)\n",
    "print(classification_report(MSE_RF['yvals'], MSE_RF['pred']))\n",
    "error = (MSE_RF['pred'] != MSE_RF['yvals']).apply(int)\n",
    "RF_err_0 = ((MSE_RF['pred'] == 0) * error).sum() / (MSE_RF['pred'] == 0).sum() \n",
    "RF_err_1 = ((MSE_RF['pred'] == 1) * error).sum() / (MSE_RF['pred'] == 1).sum() \n",
    "print('The error rate(mpg_high = True:) is', RF_err_0.mean())\n",
    "print('The error rate(mpg_high = False:) is', RF_err_1.mean())\n",
    "print('The MSE of the model is', error.mean())"
   ]
  },
  {
   "cell_type": "code",
   "execution_count": null,
   "metadata": {
    "collapsed": true
   },
   "outputs": [],
   "source": []
  },
  {
   "cell_type": "markdown",
   "metadata": {},
   "source": [
    "(c) Use sklearn.svm.SVC to fit a support vector machines model of mpg high with a Gaussian radial basis function kernel kernel=’rbf’ on the seven features used in part (a). Set the penalty parameter to C=1 and set gamma=0.2. Fit the model using k-fold cross validation with k = 4 folds exactly as in part (a)."
   ]
  },
  {
   "cell_type": "code",
   "execution_count": 37,
   "metadata": {
    "collapsed": true
   },
   "outputs": [],
   "source": [
    "k = 4\n",
    "kf_svm = KFold(n_splits=k, shuffle=True, random_state=15)\n",
    "kf_svm.get_n_splits(X)\n",
    "\n",
    "MSE_vec_kf = np.zeros(k)\n",
    "true_MSE_kf = np.zeros(k)\n",
    "false_MSE_kf = np.zeros(k)\n",
    "\n",
    "k_ind = int(0)"
   ]
  },
  {
   "cell_type": "code",
   "execution_count": 38,
   "metadata": {},
   "outputs": [
    {
     "name": "stdout",
     "output_type": "stream",
     "text": [
      "k index= 0\n",
      "MSE for test set 0  is 0.540816326531\n",
      "MSE for mpg_high = True is 0.552083333333\n",
      "MSE for mpg_high = False is 0.0\n",
      "k index= 1\n",
      "MSE for test set 1  is 0.520408163265\n",
      "MSE for mpg_high = True is 0.0\n",
      "MSE for mpg_high = False is 0.520408163265\n",
      "k index= 2\n",
      "MSE for test set 2  is 0.520408163265\n",
      "MSE for mpg_high = True is 0.0\n",
      "MSE for mpg_high = False is 0.53125\n",
      "k index= 3\n",
      "MSE for test set 3  is 0.448979591837\n",
      "MSE for mpg_high = True is 0.0\n",
      "MSE for mpg_high = False is 0.47311827957\n",
      "test estimate MSE k-fold= 0.507653061224 test estimate MSE standard err= 0.0348846794163\n",
      "error rate for mpg_high = True 0.138020833333 error rate for mpg_high = False 0.381194110709\n"
     ]
    }
   ],
   "source": [
    "for train_index, test_index in kf_log.split(X):\n",
    "    print('k index=', k_ind)\n",
    "    X_train, X_test = X[train_index], X[test_index]\n",
    "    y_train, y_test = y[train_index], y[test_index]\n",
    "    \n",
    "    clf = svm.SVC(kernel='rbf', C=1, gamma=.2)\n",
    "    clf.fit(X_train, y_train)\n",
    "    y_pred = clf.predict(X_test)\n",
    "    MSE_vec_kf[k_ind] = ((y_test - y_pred) ** 2).mean()\n",
    "    \n",
    "    true_vals = []\n",
    "    true_preds = []\n",
    "    false_vals = []\n",
    "    false_preds = []\n",
    "    for i, p in enumerate(y_pred):\n",
    "        if p == 1:\n",
    "            true_preds.append(p)\n",
    "            true_vals.append(y_test[i])\n",
    "        else:\n",
    "            false_preds.append(p)\n",
    "            false_vals.append(y_test[i])\n",
    "    \n",
    "    if true_vals and true_preds:\n",
    "        true_vals = np.asarray(true_vals)\n",
    "        true_preds = np.asarray(true_preds)\n",
    "        \n",
    "        true_MSE_kf[k_ind] = ((true_vals - true_preds) ** 2).mean()\n",
    "    else:\n",
    "        true_MSE_kf[k_ind] = 0.0\n",
    "    \n",
    "    if false_vals and false_preds:\n",
    "        false_preds = np.asarray(false_preds)\n",
    "        false_vals = np.asarray(false_vals)\n",
    "        \n",
    "        false_MSE_kf[k_ind] = ((false_vals - false_preds) ** 2).mean()\n",
    "    else:\n",
    "        false_MSE_kf[k_ind] = 0.0\n",
    "            \n",
    "     \n",
    "    print('MSE for test set', k_ind, ' is', MSE_vec_kf[k_ind])\n",
    "    print('MSE for mpg_high = True is', true_MSE_kf[k_ind])\n",
    "    print('MSE for mpg_high = False is', false_MSE_kf[k_ind])\n",
    "\n",
    "    k_ind += 1\n",
    "\n",
    "MSE_kf = MSE_vec_kf.mean()\n",
    "MSE_kf_std = MSE_vec_kf.std()\n",
    "print('test estimate MSE k-fold=', MSE_kf,\n",
    "      'test estimate MSE standard err=', MSE_kf_std)\n",
    "true_MSE = true_MSE_kf.mean()\n",
    "false_MSE = false_MSE_kf.mean()\n",
    "print('error rate for mpg_high = True', true_MSE,\n",
    "      'error rate for mpg_high = False', false_MSE)"
   ]
  },
  {
   "cell_type": "code",
   "execution_count": null,
   "metadata": {
    "collapsed": true
   },
   "outputs": [],
   "source": []
  },
  {
   "cell_type": "markdown",
   "metadata": {},
   "source": [
    "(d) Which of the above three models do you think is the best predictor of mpg high? Why?"
   ]
  },
  {
   "cell_type": "markdown",
   "metadata": {},
   "source": [
    "Based on the results from above, we can see that the RandomForestClassifier is the most accurate model.  It has the smallest aggregate MSE and smallest MSE for each category of mpg_high. The LogisticRegression model also has relatively small MSE values. The SVM model is the least accurate model among all the models.  "
   ]
  }
 ],
 "metadata": {
  "kernelspec": {
   "display_name": "Python 3",
   "language": "python",
   "name": "python3"
  },
  "language_info": {
   "codemirror_mode": {
    "name": "ipython",
    "version": 3
   },
   "file_extension": ".py",
   "mimetype": "text/x-python",
   "name": "python",
   "nbconvert_exporter": "python",
   "pygments_lexer": "ipython3",
   "version": "3.6.3"
  }
 },
 "nbformat": 4,
 "nbformat_minor": 2
}
