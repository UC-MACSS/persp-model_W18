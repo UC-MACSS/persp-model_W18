{
 "cells": [
  {
   "cell_type": "markdown",
   "metadata": {},
   "source": [
    "# PS 7# \n",
    "### Yuqian Gong###"
   ]
  },
  {
   "cell_type": "code",
   "execution_count": 59,
   "metadata": {},
   "outputs": [],
   "source": [
    "import numpy as np\n",
    "import pandas as pd\n",
    "import matplotlib.pyplot as plt\n",
    "import math\n",
    "import sklearn\n",
    "from sklearn.linear_model import LogisticRegression\n",
    "from sklearn import metrics\n",
    "from sklearn.cross_validation import train_test_split\n",
    "from sklearn.metrics import classification_report, mean_squared_error\n",
    "from sklearn.model_selection import KFold\n",
    "import statsmodels.api as sm\n",
    "from sklearn.tree import DecisionTreeRegressor\n",
    "from sklearn.ensemble import RandomForestClassifier, RandomForestRegressor\n",
    "from sklearn import svm\n",
    "%matplotlib inline"
   ]
  },
  {
   "cell_type": "markdown",
   "metadata": {},
   "source": [
    "### (a) ###"
   ]
  },
  {
   "cell_type": "code",
   "execution_count": 2,
   "metadata": {
    "collapsed": true
   },
   "outputs": [],
   "source": [
    "auto = pd.read_csv(\"Auto.csv\", na_values = {\"horsepower\":[\"?\"]})"
   ]
  },
  {
   "cell_type": "code",
   "execution_count": 14,
   "metadata": {},
   "outputs": [
    {
     "data": {
      "text/html": [
       "<div>\n",
       "<style>\n",
       "    .dataframe thead tr:only-child th {\n",
       "        text-align: right;\n",
       "    }\n",
       "\n",
       "    .dataframe thead th {\n",
       "        text-align: left;\n",
       "    }\n",
       "\n",
       "    .dataframe tbody tr th {\n",
       "        vertical-align: top;\n",
       "    }\n",
       "</style>\n",
       "<table border=\"1\" class=\"dataframe\">\n",
       "  <thead>\n",
       "    <tr style=\"text-align: right;\">\n",
       "      <th></th>\n",
       "      <th>mpg</th>\n",
       "      <th>cylinders</th>\n",
       "      <th>displacement</th>\n",
       "      <th>horsepower</th>\n",
       "      <th>weight</th>\n",
       "      <th>acceleration</th>\n",
       "      <th>year</th>\n",
       "      <th>origin</th>\n",
       "      <th>name</th>\n",
       "      <th>const</th>\n",
       "      <th>mpg_high</th>\n",
       "    </tr>\n",
       "  </thead>\n",
       "  <tbody>\n",
       "    <tr>\n",
       "      <th>0</th>\n",
       "      <td>18.0</td>\n",
       "      <td>8</td>\n",
       "      <td>307.0</td>\n",
       "      <td>130.0</td>\n",
       "      <td>3504</td>\n",
       "      <td>12.0</td>\n",
       "      <td>70</td>\n",
       "      <td>1</td>\n",
       "      <td>chevrolet chevelle malibu</td>\n",
       "      <td>1</td>\n",
       "      <td>0</td>\n",
       "    </tr>\n",
       "    <tr>\n",
       "      <th>1</th>\n",
       "      <td>15.0</td>\n",
       "      <td>8</td>\n",
       "      <td>350.0</td>\n",
       "      <td>165.0</td>\n",
       "      <td>3693</td>\n",
       "      <td>11.5</td>\n",
       "      <td>70</td>\n",
       "      <td>1</td>\n",
       "      <td>buick skylark 320</td>\n",
       "      <td>1</td>\n",
       "      <td>0</td>\n",
       "    </tr>\n",
       "    <tr>\n",
       "      <th>2</th>\n",
       "      <td>18.0</td>\n",
       "      <td>8</td>\n",
       "      <td>318.0</td>\n",
       "      <td>150.0</td>\n",
       "      <td>3436</td>\n",
       "      <td>11.0</td>\n",
       "      <td>70</td>\n",
       "      <td>1</td>\n",
       "      <td>plymouth satellite</td>\n",
       "      <td>1</td>\n",
       "      <td>0</td>\n",
       "    </tr>\n",
       "    <tr>\n",
       "      <th>3</th>\n",
       "      <td>16.0</td>\n",
       "      <td>8</td>\n",
       "      <td>304.0</td>\n",
       "      <td>150.0</td>\n",
       "      <td>3433</td>\n",
       "      <td>12.0</td>\n",
       "      <td>70</td>\n",
       "      <td>1</td>\n",
       "      <td>amc rebel sst</td>\n",
       "      <td>1</td>\n",
       "      <td>0</td>\n",
       "    </tr>\n",
       "    <tr>\n",
       "      <th>4</th>\n",
       "      <td>17.0</td>\n",
       "      <td>8</td>\n",
       "      <td>302.0</td>\n",
       "      <td>140.0</td>\n",
       "      <td>3449</td>\n",
       "      <td>10.5</td>\n",
       "      <td>70</td>\n",
       "      <td>1</td>\n",
       "      <td>ford torino</td>\n",
       "      <td>1</td>\n",
       "      <td>0</td>\n",
       "    </tr>\n",
       "  </tbody>\n",
       "</table>\n",
       "</div>"
      ],
      "text/plain": [
       "    mpg  cylinders  displacement  horsepower  weight  acceleration  year  \\\n",
       "0  18.0          8         307.0       130.0    3504          12.0    70   \n",
       "1  15.0          8         350.0       165.0    3693          11.5    70   \n",
       "2  18.0          8         318.0       150.0    3436          11.0    70   \n",
       "3  16.0          8         304.0       150.0    3433          12.0    70   \n",
       "4  17.0          8         302.0       140.0    3449          10.5    70   \n",
       "\n",
       "   origin                       name  const  mpg_high  \n",
       "0       1  chevrolet chevelle malibu      1         0  \n",
       "1       1          buick skylark 320      1         0  \n",
       "2       1         plymouth satellite      1         0  \n",
       "3       1              amc rebel sst      1         0  \n",
       "4       1                ford torino      1         0  "
      ]
     },
     "execution_count": 14,
     "metadata": {},
     "output_type": "execute_result"
    }
   ],
   "source": [
    "auto[\"const\"] = 1\n",
    "mpg_median = np.median(auto[\"mpg\"])\n",
    "auto[\"mpg_condition\"] = auto[\"mpg\"] > mpg_median\n",
    "auto[\"mpg_high\"] = pd.get_dummies(auto[\"mpg_condition\"], drop_first = True)\n",
    "auto = auto.dropna()\n",
    "columns = [\"mpg_dummy\", \"mpg_condition\"]\n",
    "auto.drop(columns, inplace = True, axis = 1)\n",
    "auto.head()"
   ]
  },
  {
   "cell_type": "code",
   "execution_count": 15,
   "metadata": {},
   "outputs": [],
   "source": [
    "Xvars = auto[[\"cylinders\", \"displacement\", \"horsepower\", \"weight\", \"acceleration\", \"year\", \"origin\", \"const\"]].values\n",
    "yvars = auto[[\"mpg_high\"]].values"
   ]
  },
  {
   "cell_type": "code",
   "execution_count": 21,
   "metadata": {},
   "outputs": [
    {
     "name": "stderr",
     "output_type": "stream",
     "text": [
      "/Users/Nancygong/anaconda3/lib/python3.6/site-packages/sklearn/utils/validation.py:547: DataConversionWarning: A column-vector y was passed when a 1d array was expected. Please change the shape of y to (n_samples, ), for example using ravel().\n",
      "  y = column_or_1d(y, warn=True)\n"
     ]
    },
    {
     "name": "stdout",
     "output_type": "stream",
     "text": [
      "             precision    recall  f1-score   support\n",
      "\n",
      "          0       0.94      0.89      0.92        55\n",
      "          1       0.87      0.93      0.90        43\n",
      "\n",
      "avg / total       0.91      0.91      0.91        98\n",
      "\n"
     ]
    },
    {
     "name": "stderr",
     "output_type": "stream",
     "text": [
      "/Users/Nancygong/anaconda3/lib/python3.6/site-packages/scipy/optimize/linesearch.py:414: LineSearchWarning: The line search algorithm did not converge\n",
      "  warn('The line search algorithm did not converge', LineSearchWarning)\n",
      "/Users/Nancygong/anaconda3/lib/python3.6/site-packages/scipy/optimize/linesearch.py:285: LineSearchWarning: The line search algorithm did not converge\n",
      "  warn('The line search algorithm did not converge', LineSearchWarning)\n"
     ]
    },
    {
     "name": "stdout",
     "output_type": "stream",
     "text": [
      "             precision    recall  f1-score   support\n",
      "\n",
      "          0       0.88      0.94      0.91        47\n",
      "          1       0.94      0.88      0.91        51\n",
      "\n",
      "avg / total       0.91      0.91      0.91        98\n",
      "\n",
      "             precision    recall  f1-score   support\n",
      "\n",
      "          0       0.89      0.87      0.88        45\n",
      "          1       0.89      0.91      0.90        53\n",
      "\n",
      "avg / total       0.89      0.89      0.89        98\n",
      "\n",
      "             precision    recall  f1-score   support\n",
      "\n",
      "          0       0.91      0.88      0.90        49\n",
      "          1       0.88      0.92      0.90        49\n",
      "\n",
      "avg / total       0.90      0.90      0.90        98\n",
      "\n",
      "The k-fold estimate for the test MSE is 0.0994897959184\n"
     ]
    }
   ],
   "source": [
    "k = 4\n",
    "kf = KFold(n_splits=k, shuffle=True, random_state=15)\n",
    "kf.get_n_splits(Xvars)\n",
    "MSE_vec_kf = np.zeros(k)\n",
    "k_ind = 0\n",
    "for train_index, test_index in kf.split(Xvars):\n",
    "    X_train, X_test = Xvars[train_index], Xvars[test_index]\n",
    "    y_train, y_test = yvars[train_index], yvars[test_index]\n",
    "    MultLogReg = LogisticRegression(multi_class = 'multinomial', solver = 'newton-cg')\n",
    "    MultLogReg.fit(X_train, y_train)\n",
    "    y_pred = MultLogReg.predict(X_test)\n",
    "    MSE_vec_kf[k_ind] = mean_squared_error(y_pred, y_test)\n",
    "    print(classification_report(y_test, y_pred))\n",
    "    k_ind += 1\n",
    "\n",
    "print(\"The k-fold estimate for the test MSE is\", np.mean(MSE_vec_kf))\n"
   ]
  },
  {
   "cell_type": "code",
   "execution_count": 22,
   "metadata": {},
   "outputs": [
    {
     "name": "stdout",
     "output_type": "stream",
     "text": [
      "The average error rate for category 0 is  0.095\n",
      "The average error rate for category 1 is  0.10499999999999995\n"
     ]
    }
   ],
   "source": [
    "error_rate_low = (1- 0.94 + 1-0.88 + 1 - 0.89 + 1 - 0.91)/4\n",
    "error_rate_high = (1- 0.87 + 1- 0.94 + 1 - 0.89 + 1- 0.88)/4\n",
    "print(\"The average error rate for category 0 is \", error_rate_low )\n",
    "print(\"The average error rate for category 1 is \", error_rate_high )"
   ]
  },
  {
   "cell_type": "markdown",
   "metadata": {},
   "source": [
    "### (b) ###"
   ]
  },
  {
   "cell_type": "code",
   "execution_count": 66,
   "metadata": {},
   "outputs": [
    {
     "name": "stdout",
     "output_type": "stream",
     "text": [
      "             precision    recall  f1-score   support\n",
      "\n",
      "          0       0.94      0.91      0.93       196\n",
      "          1       0.92      0.94      0.93       196\n",
      "\n",
      "avg / total       0.93      0.93      0.93       392\n",
      "\n",
      "MSE for random forest approach is  0.0714285714286\n"
     ]
    },
    {
     "name": "stderr",
     "output_type": "stream",
     "text": [
      "/Users/Nancygong/anaconda3/lib/python3.6/site-packages/ipykernel_launcher.py:6: DataConversionWarning: A column-vector y was passed when a 1d array was expected. Please change the shape of y to (n_samples,), for example using ravel().\n",
      "  \n"
     ]
    }
   ],
   "source": [
    "Xvars1 = auto[[\"cylinders\", \"displacement\", \"horsepower\", \"weight\", \"acceleration\", \"year\", \"origin\"]].values\n",
    "\n",
    "\n",
    "random_tree = RandomForestRegressor(n_estimators=20, max_features=2, bootstrap=True,\n",
    "                                  oob_score=True, random_state=25)\n",
    "random_tree.fit(Xvars1, yvars)\n",
    "random_tree.score(Xvars1, yvars)\n",
    "y_pred1 = random_tree.oob_prediction_\n",
    "\n",
    "for i in range(y_pred1.shape[0]):\n",
    "    if y_pred1[i] >= 0.5:\n",
    "        y_pred1[i] = 1\n",
    "    else:\n",
    "        y_pred1[i] = 0\n",
    "        \n",
    "MSE = mean_squared_error(yvars, y_pred1)\n",
    "print(classification_report(yvars, y_pred1))\n",
    "print('MSE for random forest approach is ', MSE)"
   ]
  },
  {
   "cell_type": "code",
   "execution_count": 58,
   "metadata": {},
   "outputs": [
    {
     "name": "stdout",
     "output_type": "stream",
     "text": [
      "error rate for low category using random forest approach is  0.06000000000000005\n",
      "error rate for high category using random forest approach is  0.07999999999999996\n"
     ]
    }
   ],
   "source": [
    "error_rate_low_1 = 1 - 0.94\n",
    "error_rate_high_1 = 1 - 0.92\n",
    "print(\"error rate for low category using random forest approach is \", error_rate_low_1)\n",
    "print(\"error rate for high category using random forest approach is \", error_rate_high_1)"
   ]
  },
  {
   "cell_type": "markdown",
   "metadata": {},
   "source": [
    "### (c) ###"
   ]
  },
  {
   "cell_type": "code",
   "execution_count": 63,
   "metadata": {
    "scrolled": true
   },
   "outputs": [
    {
     "name": "stdout",
     "output_type": "stream",
     "text": [
      "             precision    recall  f1-score   support\n",
      "\n",
      "          0       1.00      0.04      0.07        55\n",
      "          1       0.45      1.00      0.62        43\n",
      "\n",
      "avg / total       0.76      0.46      0.31        98\n",
      "\n",
      "             precision    recall  f1-score   support\n",
      "\n",
      "          0       0.48      1.00      0.65        47\n",
      "          1       0.00      0.00      0.00        51\n",
      "\n",
      "avg / total       0.23      0.48      0.31        98\n",
      "\n",
      "             precision    recall  f1-score   support\n",
      "\n",
      "          0       0.47      1.00      0.64        45\n",
      "          1       1.00      0.04      0.07        53\n",
      "\n",
      "avg / total       0.76      0.48      0.33        98\n",
      "\n",
      "             precision    recall  f1-score   support\n",
      "\n",
      "          0       0.53      1.00      0.69        49\n",
      "          1       1.00      0.10      0.19        49\n",
      "\n",
      "avg / total       0.76      0.55      0.44        98\n",
      "\n",
      "The k-fold estimate for the test MSE is 0.507653061224\n"
     ]
    },
    {
     "name": "stderr",
     "output_type": "stream",
     "text": [
      "/Users/Nancygong/anaconda3/lib/python3.6/site-packages/sklearn/utils/validation.py:547: DataConversionWarning: A column-vector y was passed when a 1d array was expected. Please change the shape of y to (n_samples, ), for example using ravel().\n",
      "  y = column_or_1d(y, warn=True)\n",
      "/Users/Nancygong/anaconda3/lib/python3.6/site-packages/sklearn/metrics/classification.py:1135: UndefinedMetricWarning: Precision and F-score are ill-defined and being set to 0.0 in labels with no predicted samples.\n",
      "  'precision', 'predicted', average, warn_for)\n"
     ]
    }
   ],
   "source": [
    "C = 1.0  \n",
    "\n",
    "k = 4\n",
    "kf_svm = KFold(n_splits=k, shuffle=True, random_state=15)\n",
    "kf_svm.get_n_splits(Xvars1)\n",
    "MSE_vec_kf_svm = np.zeros(k)\n",
    "k_ind = 0\n",
    "for train_index, test_index in kf_svm.split(Xvars1):\n",
    "    X_train2, X_test2 = Xvars1[train_index], Xvars1[test_index]\n",
    "    y_train2, y_test2 = yvars[train_index], yvars[test_index]\n",
    "    svm_model = svm.SVC(kernel='rbf', gamma=0.2, C=C)\n",
    "    svm_model.fit(X_train2, y_train2)\n",
    "    y_pred2 = svm_model.predict(X_test2)\n",
    "    MSE_vec_kf_svm[k_ind] = mean_squared_error(y_pred2, y_test2)\n",
    "    print(classification_report(y_test2, y_pred2))\n",
    "    k_ind += 1\n",
    "\n",
    "print(\"The k-fold estimate for the test MSE using SVM method is\", np.mean(MSE_vec_kf_svm))"
   ]
  },
  {
   "cell_type": "code",
   "execution_count": 64,
   "metadata": {},
   "outputs": [
    {
     "name": "stdout",
     "output_type": "stream",
     "text": [
      "The average error rate for low category using svm method is  0.37999999999999995\n",
      "The average error rate for high category using svm method is  0.38749999999999996\n"
     ]
    }
   ],
   "source": [
    "error0_svm = (1 - 1 + 1 - 0.48 + 1 - 0.47 + 1 - 0.53) /4\n",
    "error1_svm = (1 - 0.45 + 1 - 0 + 1 - 1 + 1 - 1)/4\n",
    "print(\"The average error rate for low category using svm method is \", error0_svm)\n",
    "print(\"The average error rate for high category using svm method is \", error1b_svm)"
   ]
  },
  {
   "cell_type": "markdown",
   "metadata": {},
   "source": [
    "### (d) ###"
   ]
  },
  {
   "cell_type": "markdown",
   "metadata": {},
   "source": [
    "I think the best predictor of mpg_high is random forest regression. The average error rate for mpg_high is about 0.08 while the average error rate for mpg——high from k-fold logistic regression and svm model are about 0.1 and 0.39 respectively. Besides, the average MSE for random forest models is lowest among the three models, which is only 0.07."
   ]
  }
 ],
 "metadata": {
  "kernelspec": {
   "display_name": "Python 3",
   "language": "python",
   "name": "python3"
  },
  "language_info": {
   "codemirror_mode": {
    "name": "ipython",
    "version": 3
   },
   "file_extension": ".py",
   "mimetype": "text/x-python",
   "name": "python",
   "nbconvert_exporter": "python",
   "pygments_lexer": "ipython3",
   "version": "3.6.2"
  }
 },
 "nbformat": 4,
 "nbformat_minor": 2
}
