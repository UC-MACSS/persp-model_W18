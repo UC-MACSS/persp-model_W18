{
 "cells": [
  {
   "cell_type": "code",
   "execution_count": 1,
   "metadata": {
    "button": false,
    "collapsed": false,
    "deletable": true,
    "new_sheet": false,
    "run_control": {
     "read_only": false
    }
   },
   "outputs": [],
   "source": [
    "#packages\n",
    "import numpy as np\n",
    "import scipy.optimize as opt\n",
    "import scipy.stats as sts\n",
    "import matplotlib.pyplot as plt\n",
    "import pandas as pd\n",
    "import pylab as pl\n",
    "import scipy.integrate as intgr\n",
    "import numpy.linalg as lin\n",
    "plt.style.use(\"ggplot\")\n",
    "%matplotlib inline\n",
    "\n",
    "#data\n",
    "incomes = np.loadtxt('incomes.txt')\n",
    "df = pd.read_csv(\"sick.txt\")\n",
    "inc_sim = np.linspace(0.01, 150000, 200) #fake data.\n",
    "\n",
    "#initial guesses\n",
    "sig_init = 0.5\n",
    "mu_init = 11\n",
    "params_init = [mu_init,sig_init]\n",
    "\n",
    "#mle args\n",
    "mle_args = (incomes, 150000) # real data, cutoff"
   ]
  },
  {
   "cell_type": "code",
   "execution_count": 2,
   "metadata": {
    "button": false,
    "collapsed": true,
    "deletable": true,
    "new_sheet": false,
    "run_control": {
     "read_only": false
    }
   },
   "outputs": [],
   "source": [
    "#lognormal functions\n",
    "def log_norm_pdf(xvals, mu, sigma, cutoff):## log normal dist w/ truncated\n",
    "    if cutoff == 'None':\n",
    "        prob_notcut = 1.0\n",
    "    else:\n",
    "        prob_notcut = sts.lognorm.cdf(cutoff, s=sigma, loc=mu, scale=np.exp(mu)) # use lognormal CDF function\n",
    "            \n",
    "    log_pdf_vals = (((1/(xvals * sigma * np.sqrt(2 * np.pi))) *\n",
    "                    np.exp( - ((np.log(xvals)) - mu)**2 / (2 * sigma**2))) / \n",
    "                    prob_notcut)\n",
    "    return log_pdf_vals \n",
    "\n",
    "def log_lik_norm(xvals, mu, sigma, cutoff): ## log liklihood for lognormal\n",
    "    pdf_vals = log_norm_pdf(xvals, mu, sigma, cutoff) #this is the line that makes it lognormal \n",
    "    ln_pdf_vals = np.log(pdf_vals) \n",
    "    log_lik_val = ln_pdf_vals.sum() \n",
    "   \n",
    "    return log_lik_val \n",
    "\n",
    "\n",
    "def crit(params, *args): ## criterion function. neg of logliklihood\n",
    "    mu, sigma = params \n",
    "    xvals, cutoff = args\n",
    "    log_lik_val = log_lik_norm(xvals, mu, sigma, cutoff) \n",
    "    neg_log_lik_val = -log_lik_val\n",
    "    \n",
    "    return neg_log_lik_val"
   ]
  },
  {
   "cell_type": "code",
   "execution_count": 3,
   "metadata": {
    "button": false,
    "collapsed": false,
    "deletable": true,
    "new_sheet": false,
    "run_control": {
     "read_only": false
    }
   },
   "outputs": [
    {
     "data": {
      "text/plain": [
       "[<matplotlib.lines.Line2D at 0x117023cc0>]"
      ]
     },
     "execution_count": 3,
     "metadata": {},
     "output_type": "execute_result"
    },
    {
     "data": {
      "image/png": "[encoded data removed]",
      "text/plain": [
       "<matplotlib.figure.Figure at 0x10d892f98>"
      ]
     },
     "metadata": {},
     "output_type": "display_data"
    }
   ],
   "source": [
    "plt.hist(incomes, bins = 30, normed = True, label = 'Actual Outcomes') # real data\n",
    "plt.title(\"Expected Incomes of MACSS Students 2018-2020\")\n",
    "plt.xlabel(\"Incomes\")\n",
    "plt.ylabel(\"Percentage of MACSS Graduates\")\n",
    "plt.legend(loc = 'upper left')\n",
    "\n",
    "#lognormal pdf\n",
    "income_lognorm = log_norm_pdf(xvals = inc_sim, mu = mu_init, sigma = sig_init, cutoff = 'None')\n",
    "plt.plot(inc_sim, income_lognorm, linewidth = 1, color = 'g')"
   ]
  },
  {
   "cell_type": "code",
   "execution_count": 4,
   "metadata": {
    "button": false,
    "collapsed": false,
    "deletable": true,
    "new_sheet": false,
    "run_control": {
     "read_only": false
    }
   },
   "outputs": [
    {
     "name": "stdout",
     "output_type": "stream",
     "text": [
      "The log liklihood value is -2385.85699781\n"
     ]
    }
   ],
   "source": [
    "loglikeval = log_lik_norm(incomes, mu = mu_init, sigma = sig_init, cutoff= 'None') #log  norm liklihood. real data\n",
    "\n",
    "print('The log liklihood value is', loglikeval)"
   ]
  },
  {
   "cell_type": "code",
   "execution_count": 5,
   "metadata": {
    "button": false,
    "collapsed": false,
    "deletable": true,
    "new_sheet": false,
    "run_control": {
     "read_only": false
    }
   },
   "outputs": [
    {
     "name": "stdout",
     "output_type": "stream",
     "text": [
      "mu_MLE= 11.3616965504  sig_MLE= 0.21174668303 \n",
      "\n",
      "The Value of Liklihood Function is: -2240.93343258\n",
      "VCV(MLE) =\n",
      " [[ 0.84410856 -0.03082385]\n",
      " [-0.03082385  0.00125371]] \n",
      "\n",
      "Standard error for mu estimate =  0.918753806703\n",
      "Standard error for sigma estimate =  0.0354077631701\n"
     ]
    },
    {
     "name": "stderr",
     "output_type": "stream",
     "text": [
      "/anaconda/lib/python3.6/site-packages/ipykernel_launcher.py:15: RuntimeWarning: divide by zero encountered in log\n",
      "  from ipykernel import kernelapp as app\n",
      "/anaconda/lib/python3.6/site-packages/scipy/optimize/optimize.py:628: RuntimeWarning: invalid value encountered in double_scalars\n",
      "  grad[k] = (f(*((xk + d,) + args)) - f0) / d[k]\n"
     ]
    },
    {
     "data": {
      "text/plain": [
       "[<matplotlib.lines.Line2D at 0x11a7ce470>]"
      ]
     },
     "execution_count": 5,
     "metadata": {},
     "output_type": "execute_result"
    },
    {
     "data": {
      "image/png": "[encoded data removed]",
      "text/plain": [
       "<matplotlib.figure.Figure at 0x11a2f8160>"
      ]
     },
     "metadata": {},
     "output_type": "display_data"
    }
   ],
   "source": [
    "# Estimate Parameters\n",
    "\n",
    "# run minimizer to get MLE estimates\n",
    "results1 = opt.minimize(crit, params_init, args=(mle_args), bounds=((None, None),(0.1, None)), method= 'L-BFGS-B')# sigma needs be postive in PDF function.\n",
    "mu_MLE1, sig_MLE1 = results1.x # get the estimated parameters\n",
    "print('mu_MLE=', mu_MLE1, ' sig_MLE=', sig_MLE1, '\\n')\n",
    "\n",
    "#get logliklihood value\n",
    "loglik1 = - results1.fun # get the value of log likehood function\n",
    "print(\"The Value of Liklihood Function is:\", loglik1)\n",
    "\n",
    "#VCV\n",
    "OffDiagNeg = np.array([[1, -1], [-1, 1]]) # this has purpose of making some numbers neg //\n",
    "vcv_mle = results1.hess_inv.todense() * OffDiagNeg\n",
    "stderr_mu_mle1 = np.sqrt(vcv_mle[0,0]) # square rooted cause log\n",
    "stderr_sig_mle1 = np.sqrt(vcv_mle[1,1]) #square rooted cause log\n",
    "print('VCV(MLE) =\\n', vcv_mle, '\\n')\n",
    "print('Standard error for mu estimate = ', stderr_mu_mle1)\n",
    "print('Standard error for sigma estimate = ', stderr_sig_mle1)\n",
    "\n",
    "#Plot Line\n",
    "plt.plot(inc_sim, log_norm_pdf(inc_sim, mu_MLE1, sig_MLE1, 150000), linewidth=2, color='k', label='2: $\\mu$=mu_MLE1,$\\sigma$=sig_MLE1') # plot PDF with parameters estimated by MLE"
   ]
  },
  {
   "cell_type": "code",
   "execution_count": 6,
   "metadata": {
    "button": false,
    "collapsed": false,
    "deletable": true,
    "new_sheet": false,
    "run_control": {
     "read_only": false
    }
   },
   "outputs": [
    {
     "name": "stdout",
     "output_type": "stream",
     "text": [
      "chi squared of H0 with 2 degrees of freedom p-value = 0.0000 \n",
      "reject the null hypothesis that data comes from the original model\n"
     ]
    }
   ],
   "source": [
    "# Likelihood Ratio Test\n",
    "log_lik_h0 = log_lik_norm(incomes,mu_init,sig_init,150000) # real data, initial guess logliklihood\n",
    "log_lik_mle = log_lik_norm(incomes,mu_MLE1, sig_MLE1,150000) # real data, optimized parameters guess logliklihood\n",
    "LR_val = 2 * (log_lik_mle - log_lik_h0)\n",
    "pval_h0 = 1.0 - sts.chi2.cdf(LR_val, 2) # the probability that H0 is true with two degrees of freedom\n",
    "print('chi squared of H0 with 2 degrees of freedom p-value = {:.4f} '.format(pval_h0))\n",
    "print('reject the null hypothesis that data comes from the original model') #Conditional on P Value ##########\n",
    "#this means that the real data is unlikely to comply from lognorm dist with p mu init, sig init"
   ]
  },
  {
   "cell_type": "code",
   "execution_count": 7,
   "metadata": {
    "button": false,
    "collapsed": false,
    "deletable": true,
    "new_sheet": false,
    "run_control": {
     "read_only": false
    }
   },
   "outputs": [
    {
     "name": "stdout",
     "output_type": "stream",
     "text": [
      "The probability of earning less than 75k is 0.2594\n",
      "The probability of earning more than 100k is 0.23772\n"
     ]
    }
   ],
   "source": [
    "lessthan75 = sts.lognorm.cdf(75000, s=sig_MLE1, loc=mu_MLE1, scale=np.exp(mu_MLE1)) #notice this is setup for lognorm\n",
    "\n",
    "print('The probability of earning less than 75k is {:.4f}'.format(lessthan75))\n",
    "\n",
    "######\n",
    "morethan100 = 1 - sts.lognorm.cdf(100000, s=sig_MLE1, loc=mu_MLE1, scale=np.exp(mu_MLE1)) #notice this is setup for lognorm\n",
    "\n",
    "print('The probability of earning more than 100k is {:.5f}'.format(morethan100))"
   ]
  },
  {
   "cell_type": "code",
   "execution_count": 8,
   "metadata": {
    "button": false,
    "collapsed": true,
    "deletable": true,
    "new_sheet": false,
    "run_control": {
     "read_only": false
    }
   },
   "outputs": [],
   "source": [
    "###### Part 2"
   ]
  },
  {
   "cell_type": "code",
   "execution_count": 9,
   "metadata": {
    "button": false,
    "collapsed": true,
    "deletable": true,
    "new_sheet": false,
    "run_control": {
     "read_only": false
    }
   },
   "outputs": [],
   "source": [
    "def truncnorm_pdf(xvals, mu, sigma, cutoff): #normal dist w/ truncated\n",
    "    if cutoff == 'None':\n",
    "        prob_notcut = 1.0\n",
    "    else:\n",
    "        prob_notcut = (sts.norm.cdf(cutoff, loc=mu, scale=sigma) -\n",
    "                       sts.norm.cdf(0, loc=mu, scale=sigma))\n",
    "            \n",
    "    pdf_vals    = ((1/(sigma * np.sqrt(2 * np.pi)) *\n",
    "                    np.exp( - (xvals - mu)**2 / (2 * sigma**2))) /\n",
    "                    prob_notcut)\n",
    "    \n",
    "    return pdf_vals\n",
    "\n",
    "def log_lik_truncnorm(xvals, mu, sigma, cutoff): #log liklihood. In LR, mu = 0, cutoff = 'None'\n",
    "    pdf_vals = truncnorm_pdf(xvals, mu, sigma, cutoff)\n",
    "    ln_pdf_vals = np.log(pdf_vals)\n",
    "    log_lik_val = ln_pdf_vals.sum()\n",
    "    \n",
    "    return log_lik_val\n",
    "\n",
    "def crit_lr(params, *args):\n",
    "  \n",
    "    beta0, beta1, beta2, beta3, sigma = params\n",
    "    y, x1, x2, x3 = args\n",
    "    xvals = y - beta0 - beta1*x1 - beta2*x2 - beta3*x3 # given the model: error ~ sick - beta0 - beta1*age - beta2*temp - beta3*child\n",
    "    log_lik_val = log_lik_truncnorm(xvals, 0, sigma, 'None') # get the value of log likelihood function. norm pdf\n",
    "    neg_log_lik_val = -log_lik_val \n",
    "    \n",
    "    return neg_log_lik_val"
   ]
  },
  {
   "cell_type": "code",
   "execution_count": 23,
   "metadata": {
    "button": false,
    "collapsed": true,
    "deletable": true,
    "new_sheet": false,
    "run_control": {
     "read_only": false
    }
   },
   "outputs": [],
   "source": [
    "def truncnorm_pdf(xvals, mu, sigma, cutoff): #normal dist w/ truncated\n",
    "    if cutoff == 'None':\n",
    "        prob_notcut = 1.0\n",
    "    else:\n",
    "        prob_notcut = (sts.norm.cdf(cutoff, loc=mu, scale=sigma) -\n",
    "                       sts.norm.cdf(0, loc=mu, scale=sigma))\n",
    "            \n",
    "    pdf_vals    = ((1/(sigma * np.sqrt(2 * np.pi)) *\n",
    "                    np.exp( - (xvals - mu)**2 / (2 * sigma**2))) /\n",
    "                    prob_notcut)\n",
    "    \n",
    "    return pdf_vals\n",
    "\n",
    "def log_lik_truncnorm(xvals, mu, sigma, cutoff): #log liklihood. In LR, mu = 0, cutoff = 'None'\n",
    "    pdf_vals = truncnorm_pdf(xvals, mu, sigma, cutoff)\n",
    "    ln_pdf_vals = np.log(pdf_vals)\n",
    "    log_lik_val = ln_pdf_vals.sum()\n",
    "    \n",
    "    return log_lik_val\n",
    "\n",
    "# log_lik_truncnorm(pts, mu_1, sig_1, 450) # uses fake data,\n",
    "\n",
    "def crit(params, *args): ## criterion function. neg of logliklihood\n",
    "    mu, sigma = params\n",
    "    xvals, cutoff = args\n",
    "    log_lik_val = log_lik_truncnorm(xvals, mu, sigma, cutoff) # setup for NORM pdf\n",
    "    neg_log_lik_val = -log_lik_val\n",
    "    \n",
    "    return neg_log_lik_val\n",
    "\n",
    "def crit_lr(params, *args):\n",
    "  \n",
    "    beta0, beta1, beta2, beta3, sigma = params\n",
    "    y, x1, x2, x3 = args\n",
    "    xvals = y - beta0 - beta1*x1 - beta2*x2 - beta3*x3 # given the model: error ~ sick - beta0 - beta1*age - beta2*temp - beta3*child\n",
    "    log_lik_val = log_lik_truncnorm(xvals, 0, sigma, 'None') # get the value of log likelihood function. norm pdf\n",
    "    neg_log_lik_val = -log_lik_val \n",
    "    \n",
    "    return neg_log_lik_val\n",
    "\n",
    "# define the criterion function\n",
    "# define the error term \n",
    "def error_term(params, dta):\n",
    "    (b0, b1, b2, b3, sigma) = params\n",
    "    sick, age, children, temp_winter = dta\n",
    "    error = np.sum((sick - b0 - b1*age - b2*children - b3*temp_winter)**2)\n",
    "    return error\n",
    "\n",
    "\n",
    "n = sick.shape[0]\n",
    "def crit2(params, *args):\n",
    "    (b0, b1, b2, b3, sigma) = params\n",
    "    sick, age, children, temp_winter = args    \n",
    "    log_lik_val = (-n/2 * np.log(2 * np.pi)- n * np.log(sigma)-1/(2 * sigma**2) * \n",
    "                   error_term(params,(sick, age, children, temp_winter)))\n",
    "    neg_log_lik_val = -log_lik_val\n",
    "    return neg_log_lik_val"
   ]
  },
  {
   "cell_type": "code",
   "execution_count": 24,
   "metadata": {
    "button": false,
    "collapsed": false,
    "deletable": true,
    "new_sheet": false,
    "run_control": {
     "read_only": false
    }
   },
   "outputs": [
    {
     "name": "stderr",
     "output_type": "stream",
     "text": [
      "/anaconda/lib/python3.6/site-packages/ipykernel_launcher.py:16: RuntimeWarning: divide by zero encountered in log\n",
      "  app.launch_new_instance()\n"
     ]
    },
    {
     "name": "stdout",
     "output_type": "stream",
     "text": [
      "My parameter estimates are: [ 0.25164657  0.01293336  0.40050179 -0.00999168  0.00301772]\n",
      "My logliklihood estimate is:  -876.8650482101434\n",
      "VCV =\n",
      " [[ 1.  0.  0.  0.  0.]\n",
      " [ 0.  1.  0.  0.  0.]\n",
      " [ 0.  0.  1.  0.  0.]\n",
      " [ 0.  0.  0.  1.  0.]\n",
      " [ 0.  0.  0.  0.  1.]] \n",
      "\n",
      "VCV(MLE) = [[ 1. -0. -0. -0. -0.]\n",
      " [-0.  1. -0. -0. -0.]\n",
      " [-0. -0.  1. -0. -0.]\n",
      " [-0. -0. -0.  1. -0.]\n",
      " [-0. -0. -0. -0.  1.]]\n"
     ]
    }
   ],
   "source": [
    "#relevant columns\n",
    "age = df['age']\n",
    "temp = df['avgtemp_winter']\n",
    "child = df['children']\n",
    "sick = df['sick']\n",
    "\n",
    "# initial guess for five parameters\n",
    "beta0_init = 0\n",
    "beta1_init = 0\n",
    "beta2_init = 0\n",
    "beta3_init = 0\n",
    "sig_init_lr = 1 \n",
    "\n",
    "#concatenate packages\n",
    "params_init_lr = np.array([beta0_init, beta1_init, beta2_init, beta3_init, sig_init_lr]) \n",
    "mle_args_lr = (sick, age, child, temp) # plug in the sick data\n",
    "bd = ((None, None),(None, None), (None, None), (None, None), (0.001, None))\n",
    "\n",
    "#estimate parameters \n",
    "results_lr = opt.minimize(crit_lr, params_init_lr, args=(mle_args_lr), bounds=bd, method='SLSQP') # plug in initial paramers and data to the crit funtion to search for minimum\n",
    "beta0_mle, beta1_mle, beta2_mle, beta3_mle, sig_mle = results_lr.x # unpack estimated parameters\n",
    "print(\"My parameter estimates are:\", results_lr.x)\n",
    "\n",
    "#log liklihood estimate\n",
    "print(\"My logliklihood estimate is: \", results_lr.fun)\n",
    "\n",
    "#VCV\n",
    "#need to use different method would improved params\n",
    "params_init_lr_MLE = np.array([beta0_mle, beta1_mle, beta2_mle, beta3_mle, sig_mle])\n",
    "results_lr_MLE = opt.minimize(crit2, params_init_lr_MLE, args=(mle_args_lr), bounds=bd, method='L-BFGS-B')\n",
    "vcv_mle_lr = results_lr_MLE.hess_inv.todense() \n",
    "print('VCV =\\n', vcv_mle_lr, '\\n')\n",
    "\n",
    "#print(OffDiagNeg)\n",
    "vcv_mle =  results_lr_MLE.hess_inv.todense() * OffDiagNeg\n",
    "print('VCV(MLE) =', vcv_mle)"
   ]
  },
  {
   "cell_type": "code",
   "execution_count": 25,
   "metadata": {
    "button": false,
    "collapsed": false,
    "deletable": true,
    "new_sheet": false,
    "run_control": {
     "read_only": false
    }
   },
   "outputs": [
    {
     "name": "stdout",
     "output_type": "stream",
     "text": [
      "chi squared of H0 with 2 degrees of freedom p-value = 0.00000\n"
     ]
    }
   ],
   "source": [
    "#liklihood ratio test (Linear Regression)\n",
    "\n",
    "b0 = 1\n",
    "sig0 = 0.1\n",
    "b1 = 0\n",
    "b2 = 0\n",
    "b3 = 0\n",
    "param_h0 = np.array([b0, b1, b2, b3, sig0]) # note to self: sig last\n",
    "\n",
    "#set up two hypothesis\n",
    "log_lik_h02 = - crit_lr(param_h0, *(sick, age, child, temp))\n",
    "log_lik_mle2 = results_lr.fun\n",
    "\n",
    "# calculate liklihood ratio test\n",
    "LR_val2 = 2 * (log_lik_mle2 - log_lik_h02) # get LR value from the likelihood ratio test\n",
    "pval_h02 = 1.0 - sts.chi2.cdf(LR_val2, 2) # the probability that H0 is true with two degrees of freedom\n",
    "print('chi squared of H0 with 2 degrees of freedom p-value = {:.5f}'.format(pval_h02))"
   ]
  },
  {
   "cell_type": "code",
   "execution_count": null,
   "metadata": {
    "button": false,
    "collapsed": true,
    "deletable": true,
    "new_sheet": false,
    "run_control": {
     "read_only": false
    }
   },
   "outputs": [],
   "source": []
  }
 ],
 "metadata": {
  "kernelspec": {
   "display_name": "Python 3",
   "language": "python",
   "name": "python3"
  },
  "language_info": {
   "codemirror_mode": {
    "name": "ipython",
    "version": 3
   },
   "file_extension": ".py",
   "mimetype": "text/x-python",
   "name": "python",
   "nbconvert_exporter": "python",
   "pygments_lexer": "ipython3",
   "version": "3.5.0"
  }
 },
 "nbformat": 4,
 "nbformat_minor": 2
}
