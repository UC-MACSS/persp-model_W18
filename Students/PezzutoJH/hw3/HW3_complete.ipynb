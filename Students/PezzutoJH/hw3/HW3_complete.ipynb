{
 "cells": [
  {
   "cell_type": "markdown",
   "metadata": {
    "button": false,
    "deletable": true,
    "new_sheet": false,
    "run_control": {
     "read_only": false
    }
   },
   "source": [
    "# HW3 - John Pezzuto"
   ]
  },
  {
   "cell_type": "markdown",
   "metadata": {
    "button": false,
    "deletable": true,
    "new_sheet": false,
    "run_control": {
     "read_only": false
    }
   },
   "source": [
    "### Load Packages, Data, & Functions"
   ]
  },
  {
   "cell_type": "code",
   "execution_count": 1,
   "metadata": {
    "button": false,
    "collapsed": true,
    "deletable": true,
    "new_sheet": false,
    "run_control": {
     "read_only": false
    }
   },
   "outputs": [],
   "source": [
    "import numpy as np\n",
    "import scipy.optimize as opt\n",
    "import scipy.stats as sts\n",
    "import matplotlib.pyplot as plt\n",
    "import pandas as pd\n",
    "import pylab as pl\n",
    "import scipy.integrate as intgr\n",
    "import numpy.linalg as lin\n",
    "plt.style.use(\"ggplot\")\n",
    "%matplotlib inline"
   ]
  },
  {
   "cell_type": "code",
   "execution_count": 2,
   "metadata": {
    "button": false,
    "collapsed": true,
    "deletable": true,
    "new_sheet": false,
    "run_control": {
     "read_only": false
    }
   },
   "outputs": [],
   "source": [
    "incomes = np.loadtxt('incomes.txt')\n",
    "sick = pd.read_csv(\"sick.txt\")\n",
    "#simulated income\n",
    "inc_sim = np.linspace(0.000001, 150000, 200)"
   ]
  },
  {
   "cell_type": "code",
   "execution_count": 6,
   "metadata": {
    "button": false,
    "collapsed": false,
    "deletable": true,
    "new_sheet": false,
    "run_control": {
     "read_only": false
    }
   },
   "outputs": [],
   "source": [
    "def trunc_lognorm_pdf(xvals, mu, sigma, cutoff):\n",
    "    if cutoff == 'None':\n",
    "        prob_notcut = 1.0\n",
    "    else:\n",
    "        prob_notcut = sts.lognorm.cdf(cutoff, s=sigma, loc=mu, scale=np.exp(mu))\n",
    "            \n",
    "    log_pdf_vals = (((1/(xvals * sigma * np.sqrt(2 * np.pi))) *\n",
    "                    np.exp( - ((np.log(xvals)) - mu)**2 / (2 * sigma**2))) / \n",
    "                    prob_notcut)\n",
    "    return log_pdf_vals \n",
    "\n",
    "## data mean & std\n",
    "def data_moments(xvals):\n",
    "    mean_data = xvals.mean()\n",
    "    std_data = xvals.std()\n",
    "    return mean_data, std_data\n",
    "\n",
    "## model mean & std\n",
    "def model_moments(mu, sigma, cutoff):\n",
    "    xfx = lambda x: x * trunc_lognorm_pdf(x, mu, sigma, cutoff)\n",
    "    (mean_model, m_m_err) = intgr.quad(xfx, 0.00001, cutoff)\n",
    "    x2fx = lambda x: ((x - mean_model) ** 2) * trunc_lognorm_pdf(x, mu, sigma, cutoff) \n",
    "    (var_model, v_m_err) = intgr.quad(x2fx, 0.00001, cutoff)\n",
    "    std_model = np.sqrt(var_model)\n",
    "    return mean_model, std_model\n",
    "\n",
    "#use data and model stats to find error\n",
    "def err_vec(xvals, mu, sigma, cutoff, simple):\n",
    "    mean_data, std_data = data_moments(xvals) \n",
    "    moms_data = np.array([[mean_data], [std_data]])\n",
    "    mean_model, std_model = model_moments(mu, sigma, cutoff)\n",
    "    moms_model = np.array([[mean_model], [std_model]])\n",
    "    if simple:\n",
    "        err_vec = moms_model - moms_data\n",
    "    else:\n",
    "        err_vec = (moms_model - moms_data) / moms_data\n",
    "    \n",
    "    return err_vec\n",
    "\n",
    "## weighted sum of squared moment errors\n",
    "def criterion(params, *args):\n",
    "    mu, sigma = params\n",
    "    xvals, cutoff, W = args\n",
    "    err = err_vec(xvals, mu, sigma, cutoff, simple=False)\n",
    "    crit_val = np.dot(np.dot(err.T, W), err)\n",
    "    \n",
    "    return crit_val"
   ]
  },
  {
   "cell_type": "markdown",
   "metadata": {
    "button": false,
    "deletable": true,
    "new_sheet": false,
    "run_control": {
     "read_only": false
    }
   },
   "source": [
    "## a) Plot a Histogram"
   ]
  },
  {
   "cell_type": "code",
   "execution_count": 7,
   "metadata": {
    "button": false,
    "collapsed": false,
    "deletable": true,
    "new_sheet": false,
    "run_control": {
     "read_only": false
    }
   },
   "outputs": [
    {
     "data": {
      "text/plain": [
       "<matplotlib.text.Text at 0x111dc9e80>"
      ]
     },
     "execution_count": 7,
     "metadata": {},
     "output_type": "execute_result"
    },
    {
     "data": {
      "image/png": "[encoded data removed]",
      "text/plain": [
       "<matplotlib.figure.Figure at 0x111dacf98>"
      ]
     },
     "metadata": {},
     "output_type": "display_data"
    }
   ],
   "source": [
    "plt.hist(incomes, bins = 30, normed = True, label = 'Actual Outcomes')\n",
    "plt.title(\"Expected Incomes of MACSS Students 2018-2020\")\n",
    "plt.xlabel(\"Incomes\")\n",
    "plt.ylabel(\"Percentage of MACSS Graduates\")"
   ]
  },
  {
   "cell_type": "markdown",
   "metadata": {
    "button": false,
    "deletable": true,
    "new_sheet": false,
    "run_control": {
     "read_only": false
    }
   },
   "source": [
    "## b) Estimate the parameters of the lognormal distribution by generalized method of moments"
   ]
  },
  {
   "cell_type": "code",
   "execution_count": 8,
   "metadata": {
    "button": false,
    "collapsed": false,
    "deletable": true,
    "new_sheet": false,
    "run_control": {
     "read_only": false
    }
   },
   "outputs": [
    {
     "name": "stdout",
     "output_type": "stream",
     "text": [
      "mu_GMM1= 11.3335962334  sig_GMM1= 0.213255512271 criterion value= 0.402336498184\n"
     ]
    }
   ],
   "source": [
    "mu_init = 11\n",
    "sig_init = 0.5\n",
    "params_init = np.array([mu_init, sig_init])\n",
    "W_hat = np.eye(2)\n",
    "\n",
    "gmm_args = (incomes, 150000, W_hat)\n",
    "results = opt.minimize(criterion, params_init, args=(gmm_args),\n",
    "                       method='L-BFGS-B', bounds=((1e-10, None), (1e-10, None)))\n",
    "\n",
    "GMM1_Value = criterion(params_init, *gmm_args)[0][0]\n",
    "mu_GMM1, sig_GMM1 = results.x\n",
    "print('mu_GMM1=', mu_GMM1, ' sig_GMM1=', sig_GMM1, \"criterion value=\", GMM1_Value)"
   ]
  },
  {
   "cell_type": "code",
   "execution_count": 9,
   "metadata": {
    "button": false,
    "collapsed": false,
    "deletable": true,
    "new_sheet": false,
    "run_control": {
     "read_only": false
    }
   },
   "outputs": [
    {
     "data": {
      "text/plain": [
       "<matplotlib.legend.Legend at 0x111f49828>"
      ]
     },
     "execution_count": 9,
     "metadata": {},
     "output_type": "execute_result"
    },
    {
     "data": {
      "image/png": "[encoded data removed]",
      "text/plain": [
       "<matplotlib.figure.Figure at 0x111f49128>"
      ]
     },
     "metadata": {},
     "output_type": "display_data"
    }
   ],
   "source": [
    "plt.hist(incomes, bins = 30, normed = True, label = 'Actual Outcomes')\n",
    "plt.title(\"Expected Incomes of MACSS Students 2018-2020\")\n",
    "plt.xlabel(\"Incomes\")\n",
    "plt.ylabel(\"Percentage of MACSS Graduates\")\n",
    "plt.plot(inc_sim, trunc_lognorm_pdf(inc_sim, mu_GMM1, sig_GMM1, 150000), color = 'g', label = '$\\mu$=11.33,$\\sigma$=0.21')\n",
    "plt.legend(loc = 'upper left')"
   ]
  },
  {
   "cell_type": "markdown",
   "metadata": {
    "button": false,
    "deletable": true,
    "new_sheet": false,
    "run_control": {
     "read_only": false
    }
   },
   "source": [
    "## c) Two-Step GMM Estimation"
   ]
  },
  {
   "cell_type": "code",
   "execution_count": 10,
   "metadata": {
    "button": false,
    "collapsed": false,
    "deletable": true,
    "new_sheet": false,
    "run_control": {
     "read_only": false
    },
    "scrolled": true
   },
   "outputs": [
    {
     "name": "stdout",
     "output_type": "stream",
     "text": [
      "[[  9.38784133e-05  -4.01859951e-04]\n",
      " [ -4.01859951e-04   1.72021889e-03]]\n",
      "[[  28.52624351 -122.1106579 ]\n",
      " [-122.1106579   522.71210425]]\n"
     ]
    }
   ],
   "source": [
    "err1 = err_vec(inc_sim, mu_GMM1, sig_GMM1, 150000, False)\n",
    "VCV2 = np.dot(err1, err1.T) / inc_sim.shape[0]\n",
    "print(VCV2)\n",
    "W_hat2 = lin.pinv(VCV2)\n",
    "print(W_hat2)"
   ]
  },
  {
   "cell_type": "code",
   "execution_count": 11,
   "metadata": {
    "button": false,
    "collapsed": false,
    "deletable": true,
    "new_sheet": false,
    "run_control": {
     "read_only": false
    }
   },
   "outputs": [
    {
     "name": "stdout",
     "output_type": "stream",
     "text": [
      "mu_GMM2= 11.3335962324  sig_GMM2= 0.213255500094 criterion value: 2.25803569362e-13\n",
      "mean of data: 85276.82361 and standard deviation of that 17992.54213\n",
      "mean of model: 85276.82884 and standard deviation of that 17992.54201\n"
     ]
    }
   ],
   "source": [
    "#step 2: re-estimate the GMM estimator\n",
    "params_init1 = np.array([mu_GMM1, sig_GMM1])\n",
    "gmm_args2 = (incomes, 150000, W_hat2)\n",
    "results2 = opt.minimize(criterion, params_init1, args=(gmm_args2),\n",
    "                       method='L-BFGS-B', bounds=((1e-10, None), (1e-10, None)))\n",
    "mu_GMM2, sig_GMM2 = results2.x\n",
    "\n",
    "# get criterion function values at the estimated GMM parameter values\n",
    "params_GMM2 = np.array([mu_GMM2, sig_GMM2])\n",
    "GMM2_Value = criterion(params_GMM2, *gmm_args2)[0][0]\n",
    "\n",
    "# compare model moments and data moments\n",
    "mean_data, std_data = data_moments(incomes)\n",
    "mean_model2, std_model2 = model_moments(mu_GMM2, sig_GMM2, 150000)\n",
    "print('mu_GMM2=', mu_GMM2, ' sig_GMM2=', sig_GMM2, \"criterion value:\", GMM2_Value)\n",
    "print('mean of data: {:.5f} and standard deviation of that {:.5f}'.format(mean_data,std_data))\n",
    "print('mean of model: {:.5f} and standard deviation of that {:.5f}'.format(mean_model2,std_model2))"
   ]
  },
  {
   "cell_type": "code",
   "execution_count": 19,
   "metadata": {
    "collapsed": false
   },
   "outputs": [
    {
     "data": {
      "text/plain": [
       "False"
      ]
     },
     "execution_count": 19,
     "metadata": {},
     "output_type": "execute_result"
    }
   ],
   "source": []
  },
  {
   "cell_type": "markdown",
   "metadata": {
    "button": false,
    "deletable": true,
    "new_sheet": false,
    "run_control": {
     "read_only": false
    }
   },
   "source": [
    "##### we nototiced that even though the parameters did not change much, the criterion value is significatly smaller"
   ]
  },
  {
   "cell_type": "code",
   "execution_count": 12,
   "metadata": {
    "button": false,
    "collapsed": false,
    "deletable": true,
    "new_sheet": false,
    "run_control": {
     "read_only": false
    },
    "scrolled": true
   },
   "outputs": [
    {
     "data": {
      "text/plain": [
       "<matplotlib.legend.Legend at 0x112194518>"
      ]
     },
     "execution_count": 12,
     "metadata": {},
     "output_type": "execute_result"
    },
    {
     "data": {
      "image/png": "[encoded data removed]",
      "text/plain": [
       "<matplotlib.figure.Figure at 0x11218a128>"
      ]
     },
     "metadata": {},
     "output_type": "display_data"
    }
   ],
   "source": [
    "inc_sim = np.linspace(0.000001, 150000, 200)\n",
    "plt.hist(incomes, bins = 30, normed = True, label = 'Actual Outcomes')\n",
    "plt.title(\"Expected Incomes of MACSS Students 2018-2020\")\n",
    "plt.xlabel(\"Incomes\")\n",
    "plt.ylabel(\"Percentage of MACSS Graduates\")\n",
    "plt.plot(inc_sim, trunc_lognorm_pdf(inc_sim, mu_GMM1, sig_GMM1, 150000), color = 'g', label = 'GMM1: $\\mu$={},$\\sigma$={}'.format(mu_GMM1,sig_GMM1))\n",
    "plt.plot(inc_sim, trunc_lognorm_pdf(inc_sim, mu_GMM2, sig_GMM2, 150000), color = 'b', label = 'GMM2: $\\mu$={},$\\sigma$={}'.format(mu_GMM2,sig_GMM2))\n",
    "plt.legend(loc = 'upper left')"
   ]
  },
  {
   "cell_type": "markdown",
   "metadata": {
    "button": false,
    "deletable": true,
    "new_sheet": false,
    "run_control": {
     "read_only": false
    }
   },
   "source": [
    "##### here we note that the two lines are almost identical"
   ]
  },
  {
   "cell_type": "markdown",
   "metadata": {
    "button": false,
    "deletable": true,
    "new_sheet": false,
    "run_control": {
     "read_only": false
    }
   },
   "source": [
    "## d) GMM Estimate With 3 Moments"
   ]
  },
  {
   "cell_type": "code",
   "execution_count": 13,
   "metadata": {
    "button": false,
    "collapsed": true,
    "deletable": true,
    "new_sheet": false,
    "run_control": {
     "read_only": false
    }
   },
   "outputs": [],
   "source": [
    "#3 moments\n",
    "def data_moments3(xvals):\n",
    "    bpct_1 = xvals[xvals < 75000].shape[0] / xvals.shape[0]\n",
    "    bpct_2 = (xvals[(xvals >=75000) & (xvals <= 100000)].shape[0] /\n",
    "                  xvals.shape[0])\n",
    "    bpct_3 = xvals[xvals > 100000].shape[0] / xvals.shape[0]\n",
    "    \n",
    "    return bpct_1, bpct_2, bpct_3\n",
    "\n",
    "def model_moments3(mu, sigma, cutoff):\n",
    "    xfx = lambda x: trunc_lognorm_pdf(x, mu, sigma, cutoff)\n",
    "    (bpct_1_mod, bp_1_err) = intgr.quad(xfx, 0.001, 75000)\n",
    "    (bpct_2_mod, bp_2_err) = intgr.quad(xfx, 75000, 100000)\n",
    "    (bpct_3_mod, bp_3_err) = intgr.quad(xfx, 100000, 150000)\n",
    "    \n",
    "    return bpct_1_mod, bpct_2_mod, bpct_3_mod\n",
    "\n",
    "\n",
    "def err_vec3(xvals, mu, sigma, cutoff, simple):\n",
    "    bpct_1_dat, bpct_2_dat, bpct_3_dat = data_moments3(xvals)\n",
    "    \n",
    "    moms_data = np.array([[bpct_1_dat], [bpct_2_dat], [bpct_3_dat]])\n",
    "    bpct_1_mod, bpct_2_mod, bpct_3_mod = model_moments3(mu, sigma, cutoff)\n",
    "    moms_model = np.array([[bpct_1_mod], [bpct_2_mod], [bpct_3_mod]])\n",
    "    if simple:\n",
    "        err_vec = moms_model - moms_data\n",
    "    else:\n",
    "        err_vec = 100 * ((moms_model - moms_data) / moms_data)\n",
    "    \n",
    "    return err_vec\n",
    "\n",
    "\n",
    "def criterion3(params, *args):\n",
    "    mu, sigma = params\n",
    "    xvals, cutoff, W = args\n",
    "    err = err_vec3(xvals, mu, sigma, cutoff, simple=False)\n",
    "    crit_val = np.dot(np.dot(err.T, W), err) \n",
    "    \n",
    "    return crit_val    \n"
   ]
  },
  {
   "cell_type": "code",
   "execution_count": 14,
   "metadata": {
    "button": false,
    "collapsed": false,
    "deletable": true,
    "new_sheet": false,
    "run_control": {
     "read_only": false
    }
   },
   "outputs": [
    {
     "name": "stdout",
     "output_type": "stream",
     "text": [
      "data moments:\n",
      " (0.3, 0.5, 0.2)\n",
      "model moments:\n",
      " (0.30000077296087635, 0.5000021515548901, 0.20000033522748709)\n",
      "mu: 11.3367051569 sigma: 0.211513243846 criterion value: 2.79647295543e-07\n"
     ]
    }
   ],
   "source": [
    "mu_init1 = 11\n",
    "sig_init1 = 0.5\n",
    "params_init2 = np.array([mu_init1, sig_init1])\n",
    "W_hat3 = np.eye(3) \n",
    "\n",
    "gmm_args3 = (incomes, 150000, W_hat3)\n",
    "results3 = opt.minimize(criterion3, params_init2, args=(gmm_args3),\n",
    "                       method='L-BFGS-B', bounds=((1e-10, None), (1e-10, None))) \n",
    "mu_GMM_3, sig_GMM_3 = results3.x\n",
    "\n",
    "# critereon function at new values\n",
    "params_GMM3 = np.array([mu_GMM_3, sig_GMM_3])\n",
    "GMM3_Value = criterion3(params_GMM3, *gmm_args3)[0][0]\n",
    "\n",
    "# compare model moments and data moments\n",
    "print('data moments:\\n',data_moments3(incomes))\n",
    "print('model moments:\\n', model_moments3(mu_GMM_3, sig_GMM_3, 150000))\n",
    "\n",
    "\n",
    "print(\"mu:\",mu_GMM_3, \"sigma:\",sig_GMM_3, \"criterion value:\", GMM3_Value)\n",
    "\n"
   ]
  },
  {
   "cell_type": "markdown",
   "metadata": {
    "button": false,
    "deletable": true,
    "new_sheet": false,
    "run_control": {
     "read_only": false
    }
   },
   "source": [
    "### Plot Results"
   ]
  },
  {
   "cell_type": "code",
   "execution_count": 15,
   "metadata": {
    "button": false,
    "collapsed": false,
    "deletable": true,
    "new_sheet": false,
    "run_control": {
     "read_only": false
    }
   },
   "outputs": [
    {
     "data": {
      "text/plain": [
       "<matplotlib.legend.Legend at 0x112e4d080>"
      ]
     },
     "execution_count": 15,
     "metadata": {},
     "output_type": "execute_result"
    },
    {
     "data": {
      "image/png": "[encoded data removed]",
      "text/plain": [
       "<matplotlib.figure.Figure at 0x111e9cf28>"
      ]
     },
     "metadata": {},
     "output_type": "display_data"
    }
   ],
   "source": [
    "inc_sim = np.linspace(0.0001, 150000, 200)\n",
    "plt.hist(incomes, bins = 30, normed = True, color = \"black\",label = 'Actual Outcomes')\n",
    "plt.title(\"Expected Incomes of MACSS Students 2018-2020\")\n",
    "plt.xlabel(\"Incomes\")\n",
    "plt.ylabel(\"Percentage of MACSS Graduates\")\n",
    "plt.plot(inc_sim, trunc_lognorm_pdf(inc_sim, mu_GMM_3, sig_GMM_3, 150000), color = 'green', label = 'GMM_3: $\\mu$=11.33,$\\sigma$=.21')\n",
    "plt.legend(loc = 'upper left')"
   ]
  },
  {
   "cell_type": "markdown",
   "metadata": {
    "button": false,
    "deletable": true,
    "new_sheet": false,
    "run_control": {
     "read_only": false
    }
   },
   "source": [
    "## e) GMM Estimate New Moments"
   ]
  },
  {
   "cell_type": "code",
   "execution_count": 16,
   "metadata": {
    "button": false,
    "collapsed": false,
    "deletable": true,
    "new_sheet": false,
    "run_control": {
     "read_only": false
    }
   },
   "outputs": [
    {
     "name": "stdout",
     "output_type": "stream",
     "text": [
      "data moments:\n",
      " (0.3, 0.5, 0.2)\n",
      "model moments:\n",
      " (0.29995570734262217, 0.49991938303271194, 0.2001281771702945)\n",
      "mu: 11.3367619716 sigma: 0.211566084632 criterion value: 4.2640149224e-12\n"
     ]
    }
   ],
   "source": [
    "# step 1: use vector of moment error function from part b to get a new estimate of the inverse variance-covariance matrix\n",
    "err_3 = err_vec3(incomes, mu_GMM_3, sig_GMM_3, 150000, False) \n",
    "VCV_3 = np.dot(err_3, err_3.T) / incomes.shape[0] \n",
    "W_hat2_3 = lin.pinv(VCV_3) \n",
    "\n",
    "#step 2: re-estimate the GMM estimator\n",
    "params_init_3 = np.array([mu_GMM_3, sig_GMM_3]) \n",
    "gmm_args2_3 = (incomes, 150000, W_hat2_3)\n",
    "results3_2 = opt.minimize(criterion3, params_init_3, args=(gmm_args2_3), method='L-BFGS-B', bounds=((1e-10, None), (1e-10, None))) \n",
    "mu_GMM2_3, sig_GMM2_3 = results3_2.x \n",
    "\n",
    "params_GMM2_3 = np.array([mu_GMM2_3, sig_GMM2_3])\n",
    "GMM4_Value = criterion3(params_GMM2_3, *gmm_args2_3)[0][0]\n",
    "\n",
    "\n",
    "print('data moments:\\n',data_moments3(incomes))\n",
    "print('model moments:\\n', model_moments3(mu_GMM2_3, sig_GMM2_3, 150000))\n",
    "\n",
    "print(\"mu:\",mu_GMM2_3, \"sigma:\",sig_GMM2_3, \"criterion value:\", GMM4_Value)"
   ]
  },
  {
   "cell_type": "markdown",
   "metadata": {
    "button": false,
    "deletable": true,
    "new_sheet": false,
    "run_control": {
     "read_only": false
    }
   },
   "source": [
    "### Histogram"
   ]
  },
  {
   "cell_type": "code",
   "execution_count": 17,
   "metadata": {
    "button": false,
    "collapsed": false,
    "deletable": true,
    "new_sheet": false,
    "run_control": {
     "read_only": false
    }
   },
   "outputs": [
    {
     "data": {
      "text/plain": [
       "<matplotlib.legend.Legend at 0x1130c5128>"
      ]
     },
     "execution_count": 17,
     "metadata": {},
     "output_type": "execute_result"
    },
    {
     "data": {
      "image/png": "[encoded data removed]",
      "text/plain": [
       "<matplotlib.figure.Figure at 0x112fa7c50>"
      ]
     },
     "metadata": {},
     "output_type": "display_data"
    }
   ],
   "source": [
    "inc_sim = np.linspace(0.0001, 150000, 200)\n",
    "plt.hist(incomes, bins = 30, normed = True, color = 'k', label = 'Actual Outcomes')\n",
    "plt.title(\"Expected Incomes of MACSS Students 2018-2020\")\n",
    "plt.xlabel(\"Incomes\")\n",
    "plt.ylabel(\"Percentage of MACSS Graduates\")\n",
    "plt.plot(inc_sim, trunc_lognorm_pdf(inc_sim, mu_GMM_3, sig_GMM_3, 150000), color = 'green', label = 'GMM_3: $\\mu$={},$\\sigma$={}'.format(mu_GMM_3, sig_GMM_3))\n",
    "plt.plot(inc_sim, trunc_lognorm_pdf(inc_sim, mu_GMM2_3, sig_GMM2_3, 150000), color = 'hotpink', label = 'GMM2_3: $\\mu$={},$\\sigma$={}'.format(mu_GMM2_3, sig_GMM2_3))\n",
    "\n",
    "plt.legend(loc = 'upper left')"
   ]
  },
  {
   "cell_type": "markdown",
   "metadata": {
    "button": false,
    "deletable": true,
    "new_sheet": false,
    "run_control": {
     "read_only": false
    }
   },
   "source": [
    "## f) Which of the four estimations from parts (b), (c), (d), and (e) fits the data best?"
   ]
  },
  {
   "cell_type": "markdown",
   "metadata": {
    "button": false,
    "collapsed": true,
    "deletable": true,
    "new_sheet": false,
    "run_control": {
     "read_only": false
    }
   },
   "source": [
    "B is the best because it has the smallest criterion value"
   ]
  },
  {
   "cell_type": "markdown",
   "metadata": {
    "button": false,
    "deletable": true,
    "new_sheet": false,
    "run_control": {
     "read_only": false
    }
   },
   "source": [
    "# 2) Linear regression and GMM "
   ]
  },
  {
   "cell_type": "code",
   "execution_count": 20,
   "metadata": {
    "button": false,
    "collapsed": true,
    "deletable": true,
    "new_sheet": false,
    "run_control": {
     "read_only": false
    }
   },
   "outputs": [],
   "source": [
    "def err_vec_lin(xvals, b0, b1, b2, b3): # call data and model statistics to compute error matrix\n",
    "\n",
    "    moms_data = np.array([xvals['sick']])\n",
    "    moms_model = b0 + b1*xvals['age'] + b2*xvals['children'] + b3*xvals['avgtemp_winter']\n",
    "    moms_model = np.array([moms_model])\n",
    "    \n",
    "    err_vec = moms_model - moms_data\n",
    "    \n",
    "    return err_vec\n",
    "\n",
    "def criterion_lin(params, *args): # compute the criterion function\n",
    "  \n",
    "    b0, b1, b2, b3 = params\n",
    "    xvals, W = args\n",
    "    err = err_vec_lin(xvals, b0, b1, b2, b3) # get error matrix\n",
    "    crit_val = np.dot(np.dot(err, W), err.T)  \n",
    "    \n",
    "    return crit_val"
   ]
  },
  {
   "cell_type": "code",
   "execution_count": 21,
   "metadata": {
    "button": false,
    "collapsed": false,
    "deletable": true,
    "new_sheet": false,
    "run_control": {
     "read_only": false
    }
   },
   "outputs": [
    {
     "name": "stdout",
     "output_type": "stream",
     "text": [
      "My parameter estimates are: 0.251644863587 0.0129334709621 0.400500984743 -0.00999170970796\n",
      "My criterion value is :  0.00182128980608\n"
     ]
    }
   ],
   "source": [
    "# set parameters for the minimizer\n",
    "b0_init = 1 # initial guess for four parameters\n",
    "b1_init = 0\n",
    "b2_init = 0\n",
    "b3_init = 0\n",
    "  \n",
    "params_init_lin = np.array([b0_init, b1_init, b2_init, b3_init]) \n",
    "W_hat_lin = np.eye(200) # use simple identity matrix as weighting matrix\n",
    "gmm_args_lin = (sick, W_hat_lin) # plug in data and the weighting matrix)\n",
    "\n",
    "results_lin = opt.minimize(criterion_lin, params_init_lin, args=(gmm_args_lin), method='L-BFGS-B') \n",
    "b0_gmm, b1_gmm, b2_gmm, b3_gmm = results_lin.x # unpack estimated parameters\n",
    "\n",
    "# get criterion function values at the estimated GMM parameter values\n",
    "params_GMM_lin = np.array([b0_gmm, b1_gmm, b2_gmm, b3_gmm])\n",
    "GMM_Value_lin = criterion_lin(params_GMM_lin, *gmm_args_lin)[0][0]\n",
    "\n",
    "print(\"My parameter estimates are:\" , b0_gmm, b1_gmm, b2_gmm, b3_gmm)\n",
    "print(\"My criterion value is : \", GMM_Value_lin )"
   ]
  },
  {
   "cell_type": "code",
   "execution_count": null,
   "metadata": {
    "collapsed": true
   },
   "outputs": [],
   "source": []
  }
 ],
 "metadata": {
  "kernelspec": {
   "display_name": "Python 3",
   "language": "python",
   "name": "python3"
  },
  "language_info": {
   "codemirror_mode": {
    "name": "ipython",
    "version": 3
   },
   "file_extension": ".py",
   "mimetype": "text/x-python",
   "name": "python",
   "nbconvert_exporter": "python",
   "pygments_lexer": "ipython3",
   "version": "3.6.0"
  }
 },
 "nbformat": 4,
 "nbformat_minor": 2
}
