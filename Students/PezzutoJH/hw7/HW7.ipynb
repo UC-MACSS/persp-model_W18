{
 "cells": [
  {
   "cell_type": "markdown",
   "metadata": {},
   "source": [
    "# John Pezzuto - HW 7"
   ]
  },
  {
   "cell_type": "markdown",
   "metadata": {},
   "source": [
    "##### Packages & Data"
   ]
  },
  {
   "cell_type": "code",
   "execution_count": 34,
   "metadata": {
    "collapsed": false
   },
   "outputs": [],
   "source": [
    "import numpy as np\n",
    "import pandas as pd\n",
    "import matplotlib.pyplot as plt\n",
    "import seaborn as sb\n",
    "\n",
    "import sklearn\n",
    "from sklearn import preprocessing\n",
    "from sklearn.linear_model import LogisticRegression\n",
    "from sklearn.cross_validation import train_test_split\n",
    "from pylab import rcParams\n",
    "from sklearn.cross_validation import train_test_split\n",
    "from sklearn import metrics \n",
    "from sklearn.metrics import classification_report, confusion_matrix\n",
    "from sklearn.model_selection import LeaveOneOut, KFold\n",
    "from sklearn.ensemble import RandomForestRegressor\n",
    "from sklearn.metrics import mean_squared_error\n",
    "from sklearn import svm\n",
    "from sklearn.ensemble import RandomForestClassifier\n",
    "\n",
    "%matplotlib inline\n",
    "\n",
    "\n",
    "auto = pd.read_csv('Auto.csv', na_values='?')\n",
    "auto = auto.dropna()\n",
    "auto['mpg_high'] = auto['mpg'].apply(lambda x: 1 if x >= auto['mpg'].median() else 0)\n",
    "auto['const'] = 1"
   ]
  },
  {
   "cell_type": "code",
   "execution_count": 31,
   "metadata": {
    "collapsed": false
   },
   "outputs": [
    {
     "data": {
      "text/html": [
       "<div>\n",
       "<table border=\"1\" class=\"dataframe\">\n",
       "  <thead>\n",
       "    <tr style=\"text-align: right;\">\n",
       "      <th></th>\n",
       "      <th>mpg</th>\n",
       "      <th>cylinders</th>\n",
       "      <th>displacement</th>\n",
       "      <th>horsepower</th>\n",
       "      <th>weight</th>\n",
       "      <th>acceleration</th>\n",
       "      <th>year</th>\n",
       "      <th>origin</th>\n",
       "      <th>name</th>\n",
       "      <th>mpg_high</th>\n",
       "      <th>const</th>\n",
       "    </tr>\n",
       "  </thead>\n",
       "  <tbody>\n",
       "    <tr>\n",
       "      <th>0</th>\n",
       "      <td>18.0</td>\n",
       "      <td>8</td>\n",
       "      <td>307.0</td>\n",
       "      <td>130.0</td>\n",
       "      <td>3504</td>\n",
       "      <td>12.0</td>\n",
       "      <td>70</td>\n",
       "      <td>1</td>\n",
       "      <td>chevrolet chevelle malibu</td>\n",
       "      <td>0</td>\n",
       "      <td>1</td>\n",
       "    </tr>\n",
       "    <tr>\n",
       "      <th>1</th>\n",
       "      <td>15.0</td>\n",
       "      <td>8</td>\n",
       "      <td>350.0</td>\n",
       "      <td>165.0</td>\n",
       "      <td>3693</td>\n",
       "      <td>11.5</td>\n",
       "      <td>70</td>\n",
       "      <td>1</td>\n",
       "      <td>buick skylark 320</td>\n",
       "      <td>0</td>\n",
       "      <td>1</td>\n",
       "    </tr>\n",
       "    <tr>\n",
       "      <th>2</th>\n",
       "      <td>18.0</td>\n",
       "      <td>8</td>\n",
       "      <td>318.0</td>\n",
       "      <td>150.0</td>\n",
       "      <td>3436</td>\n",
       "      <td>11.0</td>\n",
       "      <td>70</td>\n",
       "      <td>1</td>\n",
       "      <td>plymouth satellite</td>\n",
       "      <td>0</td>\n",
       "      <td>1</td>\n",
       "    </tr>\n",
       "    <tr>\n",
       "      <th>3</th>\n",
       "      <td>16.0</td>\n",
       "      <td>8</td>\n",
       "      <td>304.0</td>\n",
       "      <td>150.0</td>\n",
       "      <td>3433</td>\n",
       "      <td>12.0</td>\n",
       "      <td>70</td>\n",
       "      <td>1</td>\n",
       "      <td>amc rebel sst</td>\n",
       "      <td>0</td>\n",
       "      <td>1</td>\n",
       "    </tr>\n",
       "    <tr>\n",
       "      <th>4</th>\n",
       "      <td>17.0</td>\n",
       "      <td>8</td>\n",
       "      <td>302.0</td>\n",
       "      <td>140.0</td>\n",
       "      <td>3449</td>\n",
       "      <td>10.5</td>\n",
       "      <td>70</td>\n",
       "      <td>1</td>\n",
       "      <td>ford torino</td>\n",
       "      <td>0</td>\n",
       "      <td>1</td>\n",
       "    </tr>\n",
       "  </tbody>\n",
       "</table>\n",
       "</div>"
      ],
      "text/plain": [
       "    mpg  cylinders  displacement  horsepower  weight  acceleration  year  \\\n",
       "0  18.0          8         307.0       130.0    3504          12.0    70   \n",
       "1  15.0          8         350.0       165.0    3693          11.5    70   \n",
       "2  18.0          8         318.0       150.0    3436          11.0    70   \n",
       "3  16.0          8         304.0       150.0    3433          12.0    70   \n",
       "4  17.0          8         302.0       140.0    3449          10.5    70   \n",
       "\n",
       "   origin                       name  mpg_high  const  \n",
       "0       1  chevrolet chevelle malibu         0      1  \n",
       "1       1          buick skylark 320         0      1  \n",
       "2       1         plymouth satellite         0      1  \n",
       "3       1              amc rebel sst         0      1  \n",
       "4       1                ford torino         0      1  "
      ]
     },
     "execution_count": 31,
     "metadata": {},
     "output_type": "execute_result"
    }
   ],
   "source": [
    "auto.head()"
   ]
  },
  {
   "cell_type": "markdown",
   "metadata": {},
   "source": [
    "### a) Fit a logistic model of mpg high"
   ]
  },
  {
   "cell_type": "code",
   "execution_count": 72,
   "metadata": {
    "collapsed": false,
    "scrolled": true
   },
   "outputs": [
    {
     "name": "stdout",
     "output_type": "stream",
     "text": [
      "\n",
      "k index = 0\n",
      "Test Set MSE: 0.0918367346939\n",
      "Error rate(category 1): 0.130434782609\n",
      "Error rate(category 0): 0.0576923076923\n",
      "\n",
      "k index = 1\n",
      "Test Set MSE: 0.102040816327\n",
      "Error rate(category 1): 0.0816326530612\n",
      "Error rate(category 0): 0.122448979592\n",
      "\n",
      "k index = 2\n",
      "Test Set MSE: 0.132653061224\n",
      "Error rate(category 1): 0.115384615385\n",
      "Error rate(category 0): 0.152173913043\n",
      "\n",
      "k index = 3\n",
      "Test Set MSE: 0.102040816327\n",
      "Error rate(category 1): 0.145454545455\n",
      "Error rate(category 0): 0.046511627907\n",
      "\n",
      "K-Fold Results:\n",
      "Test Estimate MSE: 0.107142857143 \n",
      "Test estimate MSE Standard Error: 0.015306122449\n",
      "mpg_high Error rate(category 1): 0.118226649127 \n",
      "mpg_high Error rate(category 0): 0.0947067070586\n"
     ]
    }
   ],
   "source": [
    "X = auto[['const', 'cylinders', 'displacement', 'horsepower', 'weight', 'acceleration', 'year', 'origin']].values\n",
    "y = auto['mpg_high'].values\n",
    "\n",
    "k = 4\n",
    "kf_log = KFold(n_splits=k, shuffle=True, random_state=15)\n",
    "kf_log.get_n_splits(X)\n",
    "\n",
    "MSE_vec_kf = np.zeros(k)\n",
    "true_MSE_kf = np.zeros(k)\n",
    "false_MSE_kf = np.zeros(k)\n",
    "\n",
    "k_ind = int(0)\n",
    "for train_index, test_index in kf_log.split(X):\n",
    "    print('\\nk index =', k_ind)\n",
    "    X_train, X_test = X[train_index], X[test_index]\n",
    "    y_train, y_test = y[train_index], y[test_index]\n",
    "    LogReg = LogisticRegression()\n",
    "    LogReg.fit(X_train, y_train)\n",
    "    y_pred = LogReg.predict(X_test)\n",
    "    MSE_vec_kf[k_ind] = ((y_test - y_pred) ** 2).mean()\n",
    "    \n",
    "    true_vals = []\n",
    "    true_preds = []\n",
    "    false_vals = []\n",
    "    false_preds = []\n",
    "    for i, p in enumerate(y_pred):\n",
    "        if p == 1:\n",
    "            true_preds.append(p)\n",
    "            true_vals.append(y_test[i])\n",
    "        else:\n",
    "            false_preds.append(p)\n",
    "            false_vals.append(y_test[i])\n",
    "    true_vals = np.asarray(true_vals)\n",
    "    true_preds = np.asarray(true_preds)\n",
    "    false_vals = np.asarray(false_vals)\n",
    "    false_preds = np.asarray(false_preds)\n",
    "    true_MSE_kf[k_ind] = ((true_vals - true_preds) ** 2).mean()\n",
    "    false_MSE_kf[k_ind] = ((false_vals - false_preds) ** 2).mean()\n",
    "    \n",
    "    print('Test Set MSE:', MSE_vec_kf[k_ind])\n",
    "    print('mpg_high Error rate(category 1):', true_MSE_kf[k_ind])\n",
    "    print('mpg_high Error rate(category 0):', false_MSE_kf[k_ind])\n",
    "\n",
    "    k_ind += 1\n",
    "\n",
    "MSE_kf = MSE_vec_kf.mean()\n",
    "MSE_kf_std = MSE_vec_kf.std()\n",
    "\n",
    "print('\\nK-Fold Results:')\n",
    "print('Test Estimate MSE:', MSE_kf,\n",
    "      '\\nTest estimate MSE Standard Error:', MSE_kf_std)\n",
    "true_MSE = true_MSE_kf.mean()\n",
    "false_MSE = false_MSE_kf.mean()\n",
    "print('mpg_high Error rate(category 1):', true_MSE,\n",
    "      '\\nmpg_high Error rate(category 0):', false_MSE)"
   ]
  },
  {
   "cell_type": "markdown",
   "metadata": {},
   "source": [
    "### b) Fit a random forest model"
   ]
  },
  {
   "cell_type": "code",
   "execution_count": 71,
   "metadata": {
    "collapsed": false
   },
   "outputs": [
    {
     "name": "stdout",
     "output_type": "stream",
     "text": [
      "MSE= 0.0790816326531\n",
      "mpg_high Error rate(category 1): 0.0714285714286\n",
      "mpg_high Error rate(category 0): 0.0867346938776\n"
     ]
    }
   ],
   "source": [
    "auto_tree = RandomForestClassifier(n_estimators=20, max_features=2, bootstrap=True,\n",
    "                                  oob_score=True, random_state=25)\n",
    "auto_tree.fit(X, y)\n",
    "rnd = np.vectorize(lambda x: int(x >= .5))\n",
    "ypred = rnd(auto_tree.oob_decision_function_[:,1])\n",
    "MSE = mean_squared_error(y, ypred)\n",
    "print('MSE=', MSE)\n",
    "autotreedf = pd.DataFrame({'y':y,'ypred':ypred})\n",
    "autotreedf['MSE'] = autotreedf.apply(lambda x: (x['y']-x['ypred'])**2, axis=1)\n",
    "print('mpg_high Error rate(category 1):', autotreedf.groupby(y)['MSE'].mean()[1])\n",
    "print('mpg_high Error rate(category 0):', autotreedf.groupby(y)['MSE'].mean()[0])"
   ]
  },
  {
   "cell_type": "markdown",
   "metadata": {},
   "source": [
    "### c) Fit a support vector machines"
   ]
  },
  {
   "cell_type": "code",
   "execution_count": 74,
   "metadata": {
    "collapsed": false
   },
   "outputs": [
    {
     "name": "stdout",
     "output_type": "stream",
     "text": [
      "\n",
      "k index= 0\n",
      "Test set MSE: 0.540816326531\n",
      "mpg_high Error rate(category 1): 0.552083333333\n",
      "mpg_high Error rate(category 0): 0.0\n",
      "\n",
      "k index= 1\n",
      "Test set MSE: 0.520408163265\n",
      "mpg_high Error rate(category 1): 0.0\n",
      "mpg_high Error rate(category 0): 0.520408163265\n",
      "\n",
      "k index= 2\n",
      "Test set MSE: 0.520408163265\n",
      "mpg_high Error rate(category 1): 0.0\n",
      "mpg_high Error rate(category 0): 0.53125\n",
      "\n",
      "k index= 3\n",
      "Test set MSE: 0.448979591837\n",
      "mpg_high Error rate(category 1): 0.0\n",
      "mpg_high Error rate(category 0): 0.47311827957\n",
      "\n",
      "K-Fold Results:\n",
      "Test Estimate MSE: 0.507653061224 \n",
      "Test estimate MSE Standard Error: 0.0348846794163\n",
      "mpg_high Error rate(category 1): 0.138020833333 \n",
      "mpg_high Error rate(category 0): 0.381194110709\n"
     ]
    }
   ],
   "source": [
    "kf_svm = KFold(n_splits=k, shuffle=True, random_state=15)\n",
    "kf_svm.get_n_splits(X)\n",
    "\n",
    "MSE_vec_kf = np.zeros(k)\n",
    "true_MSE_kf = np.zeros(k)\n",
    "false_MSE_kf = np.zeros(k)\n",
    "\n",
    "k_ind = int(0)\n",
    "for train_index, test_index in kf_log.split(X):\n",
    "    print('\\nk index=', k_ind)\n",
    "    X_train, X_test = X[train_index], X[test_index]\n",
    "    y_train, y_test = y[train_index], y[test_index]\n",
    "    \n",
    "    clf = svm.SVC(kernel='rbf', C=1, gamma=.2)\n",
    "    clf.fit(X_train, y_train)\n",
    "    y_pred = clf.predict(X_test)\n",
    "    MSE_vec_kf[k_ind] = ((y_test - y_pred) ** 2).mean()\n",
    "    \n",
    "    true_vals = []\n",
    "    true_preds = []\n",
    "    false_vals = []\n",
    "    false_preds = []\n",
    "    for i, p in enumerate(y_pred):\n",
    "        if p == 1:\n",
    "            true_preds.append(p)\n",
    "            true_vals.append(y_test[i])\n",
    "        else:\n",
    "            false_preds.append(p)\n",
    "            false_vals.append(y_test[i])\n",
    "    \n",
    "    if true_vals and true_preds:\n",
    "        true_vals = np.asarray(true_vals)\n",
    "        true_preds = np.asarray(true_preds)\n",
    "        \n",
    "        true_MSE_kf[k_ind] = ((true_vals - true_preds) ** 2).mean()\n",
    "    else:\n",
    "        true_MSE_kf[k_ind] = 0.0\n",
    "    \n",
    "    if false_vals and false_preds:\n",
    "        false_preds = np.asarray(false_preds)\n",
    "        false_vals = np.asarray(false_vals)\n",
    "        \n",
    "        false_MSE_kf[k_ind] = ((false_vals - false_preds) ** 2).mean()\n",
    "    else:\n",
    "        false_MSE_kf[k_ind] = 0.0\n",
    "            \n",
    "     \n",
    "    print('Test set MSE:', MSE_vec_kf[k_ind])\n",
    "    print('mpg_high Error rate(category 1):', true_MSE_kf[k_ind])\n",
    "    print('mpg_high Error rate(category 0):', false_MSE_kf[k_ind])\n",
    "\n",
    "    k_ind += 1\n",
    "\n",
    "MSE_kf = MSE_vec_kf.mean()\n",
    "MSE_kf_std = MSE_vec_kf.std()\n",
    "true_MSE = true_MSE_kf.mean()\n",
    "false_MSE = false_MSE_kf.mean()\n",
    "\n",
    "print('\\nK-Fold Results:')\n",
    "print('Test Estimate MSE:', MSE_kf,\n",
    "      '\\nTest estimate MSE Standard Error:', MSE_kf_std)\n",
    "true_MSE = true_MSE_kf.mean()\n",
    "false_MSE = false_MSE_kf.mean()\n",
    "print('mpg_high Error rate(category 1):', true_MSE,\n",
    "      '\\nmpg_high Error rate(category 0):', false_MSE)"
   ]
  },
  {
   "cell_type": "markdown",
   "metadata": {},
   "source": [
    "### d) Which is best?"
   ]
  },
  {
   "cell_type": "markdown",
   "metadata": {},
   "source": [
    "The Random Forest Classifier had the lowest MSE of all 3 models. The Logistic Regression was a close 2nd, and lastly the SVC model was the worst. Furthermore, the Random Forest Classifier lower category 1 and category 0 errors. Again in regards to category 1 and category 0 errors, the Logistic Regression model is close behind and the SVC model remains the worst "
   ]
  },
  {
   "cell_type": "code",
   "execution_count": null,
   "metadata": {
    "collapsed": true
   },
   "outputs": [],
   "source": []
  }
 ],
 "metadata": {
  "kernelspec": {
   "display_name": "Python 3",
   "language": "python",
   "name": "python3"
  },
  "language_info": {
   "codemirror_mode": {
    "name": "ipython",
    "version": 3
   },
   "file_extension": ".py",
   "mimetype": "text/x-python",
   "name": "python",
   "nbconvert_exporter": "python",
   "pygments_lexer": "ipython3",
   "version": "3.6.0"
  }
 },
 "nbformat": 4,
 "nbformat_minor": 2
}
