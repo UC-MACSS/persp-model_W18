{
 "cells": [
  {
   "cell_type": "markdown",
   "metadata": {},
   "source": [
    "# Problem Set #6\n",
    "## MACS 20100, Dr. Evans\n",
    "Feb. 25, 20  \n",
    "Mengchen Shi"
   ]
  },
  {
   "cell_type": "code",
   "execution_count": 1,
   "metadata": {
    "collapsed": true
   },
   "outputs": [],
   "source": [
    "import numpy as np\n",
    "import pandas as pd\n",
    "from sklearn.tree import DecisionTreeRegressor, DecisionTreeClassifier"
   ]
  },
  {
   "cell_type": "code",
   "execution_count": 2,
   "metadata": {
    "collapsed": true
   },
   "outputs": [],
   "source": [
    "df = pd.read_csv('biden.csv')"
   ]
  },
  {
   "cell_type": "code",
   "execution_count": 3,
   "metadata": {},
   "outputs": [
    {
     "data": {
      "text/html": [
       "<div>\n",
       "<style scoped>\n",
       "    .dataframe tbody tr th:only-of-type {\n",
       "        vertical-align: middle;\n",
       "    }\n",
       "\n",
       "    .dataframe tbody tr th {\n",
       "        vertical-align: top;\n",
       "    }\n",
       "\n",
       "    .dataframe thead th {\n",
       "        text-align: right;\n",
       "    }\n",
       "</style>\n",
       "<table border=\"1\" class=\"dataframe\">\n",
       "  <thead>\n",
       "    <tr style=\"text-align: right;\">\n",
       "      <th></th>\n",
       "      <th>biden</th>\n",
       "      <th>female</th>\n",
       "      <th>age</th>\n",
       "      <th>educ</th>\n",
       "      <th>dem</th>\n",
       "      <th>rep</th>\n",
       "    </tr>\n",
       "  </thead>\n",
       "  <tbody>\n",
       "    <tr>\n",
       "      <th>0</th>\n",
       "      <td>90</td>\n",
       "      <td>0</td>\n",
       "      <td>19</td>\n",
       "      <td>12</td>\n",
       "      <td>1</td>\n",
       "      <td>0</td>\n",
       "    </tr>\n",
       "    <tr>\n",
       "      <th>1</th>\n",
       "      <td>70</td>\n",
       "      <td>1</td>\n",
       "      <td>51</td>\n",
       "      <td>14</td>\n",
       "      <td>1</td>\n",
       "      <td>0</td>\n",
       "    </tr>\n",
       "    <tr>\n",
       "      <th>2</th>\n",
       "      <td>60</td>\n",
       "      <td>0</td>\n",
       "      <td>27</td>\n",
       "      <td>14</td>\n",
       "      <td>0</td>\n",
       "      <td>0</td>\n",
       "    </tr>\n",
       "    <tr>\n",
       "      <th>3</th>\n",
       "      <td>50</td>\n",
       "      <td>1</td>\n",
       "      <td>43</td>\n",
       "      <td>14</td>\n",
       "      <td>1</td>\n",
       "      <td>0</td>\n",
       "    </tr>\n",
       "    <tr>\n",
       "      <th>4</th>\n",
       "      <td>60</td>\n",
       "      <td>1</td>\n",
       "      <td>38</td>\n",
       "      <td>14</td>\n",
       "      <td>0</td>\n",
       "      <td>1</td>\n",
       "    </tr>\n",
       "  </tbody>\n",
       "</table>\n",
       "</div>"
      ],
      "text/plain": [
       "   biden  female  age  educ  dem  rep\n",
       "0     90       0   19    12    1    0\n",
       "1     70       1   51    14    1    0\n",
       "2     60       0   27    14    0    0\n",
       "3     50       1   43    14    1    0\n",
       "4     60       1   38    14    0    1"
      ]
     },
     "execution_count": 3,
     "metadata": {},
     "output_type": "execute_result"
    }
   ],
   "source": [
    "df.head()"
   ]
  },
  {
   "cell_type": "code",
   "execution_count": 4,
   "metadata": {},
   "outputs": [
    {
     "name": "stdout",
     "output_type": "stream",
     "text": [
      "<class 'pandas.core.frame.DataFrame'>\n",
      "RangeIndex: 1807 entries, 0 to 1806\n",
      "Data columns (total 6 columns):\n",
      "biden     1807 non-null int64\n",
      "female    1807 non-null int64\n",
      "age       1807 non-null int64\n",
      "educ      1807 non-null int64\n",
      "dem       1807 non-null int64\n",
      "rep       1807 non-null int64\n",
      "dtypes: int64(6)\n",
      "memory usage: 84.8 KB\n"
     ]
    }
   ],
   "source": [
    "df.info()"
   ]
  },
  {
   "cell_type": "markdown",
   "metadata": {},
   "source": [
    "## (a)\n",
    "Split the data into a training set (70%) and a test set (30%). Be sure to set your seed prior to this part of your code to guarantee reproducibility of results. Use recursive binary splitting to fit a decision tree to the train- ing data, with biden as the response variable and the other variables as predictors. Plot the tree and interpret the results. What is the test MSE?"
   ]
  },
  {
   "cell_type": "code",
   "execution_count": 5,
   "metadata": {},
   "outputs": [
    {
     "name": "stderr",
     "output_type": "stream",
     "text": [
      "/Applications/anaconda3/lib/python3.6/site-packages/sklearn/cross_validation.py:41: DeprecationWarning: This module was deprecated in version 0.18 in favor of the model_selection module into which all the refactored classes and functions are moved. Also note that the interface of the new CV iterators are different from that of this module. This module will be removed in 0.20.\n",
      "  \"This module will be removed in 0.20.\", DeprecationWarning)\n"
     ]
    }
   ],
   "source": [
    "from sklearn.cross_validation import train_test_split\n",
    "from sklearn.metrics import mean_squared_error"
   ]
  },
  {
   "cell_type": "code",
   "execution_count": 6,
   "metadata": {},
   "outputs": [],
   "source": [
    "y = df['biden'].values\n",
    "X = df[['female', 'age', 'educ', 'dem', 'rep']].values\n",
    "X_train, X_test, y_train, y_test = train_test_split(X, y, test_size = .3, random_state=25)"
   ]
  },
  {
   "cell_type": "code",
   "execution_count": 7,
   "metadata": {},
   "outputs": [
    {
     "data": {
      "text/plain": [
       "DecisionTreeRegressor(criterion='mse', max_depth=2, max_features=None,\n",
       "           max_leaf_nodes=None, min_impurity_decrease=0.0,\n",
       "           min_impurity_split=None, min_samples_leaf=5,\n",
       "           min_samples_split=2, min_weight_fraction_leaf=0.0,\n",
       "           presort=False, random_state=None, splitter='best')"
      ]
     },
     "execution_count": 7,
     "metadata": {},
     "output_type": "execute_result"
    }
   ],
   "source": [
    "biden_tree1 = DecisionTreeRegressor(max_depth=2, min_samples_leaf=5)\n",
    "biden_tree1.fit(X_train, y_train)"
   ]
  },
  {
   "cell_type": "code",
   "execution_count": 8,
   "metadata": {},
   "outputs": [
    {
     "data": {
      "text/plain": [
       "62.164556962025316"
      ]
     },
     "execution_count": 8,
     "metadata": {},
     "output_type": "execute_result"
    }
   ],
   "source": [
    "y_train.mean()"
   ]
  },
  {
   "cell_type": "code",
   "execution_count": 9,
   "metadata": {},
   "outputs": [
    {
     "data": {
      "image/svg+xml": [
       "<?xml version=\"1.0\" encoding=\"UTF-8\" standalone=\"no\"?>\n",
       "<!DOCTYPE svg PUBLIC \"-//W3C//DTD SVG 1.1//EN\"\n",
       " \"http://www.w3.org/Graphics/SVG/1.1/DTD/svg11.dtd\">\n",
       "<!-- Generated by graphviz version 2.40.1 (20161225.0304)\n",
       " -->\n",
       "<!-- Title: Tree Pages: 1 -->\n",
       "<svg width=\"498pt\" height=\"289pt\"\n",
       " viewBox=\"0.00 0.00 497.99 288.80\" xmlns=\"http://www.w3.org/2000/svg\" xmlns:xlink=\"http://www.w3.org/1999/xlink\">\n",
       "<g id=\"graph0\" class=\"graph\" transform=\"scale(1 1) rotate(0) translate(4 284.8)\">\n",
       "<title>Tree</title>\n",
       "<polygon fill=\"#ffffff\" stroke=\"transparent\" points=\"-4,4 -4,-284.8 493.9852,-284.8 493.9852,4 -4,4\"/>\n",
       "<!-- 0 -->\n",
       "<g id=\"node1\" class=\"node\">\n",
       "<title>0</title>\n",
       "<path fill=\"#e58139\" fill-opacity=\"0.560784\" stroke=\"#000000\" d=\"M290.194,-280.9003C290.194,-280.9003 198.7912,-280.9003 198.7912,-280.9003 192.7912,-280.9003 186.7912,-274.9003 186.7912,-268.9003 186.7912,-268.9003 186.7912,-217.4997 186.7912,-217.4997 186.7912,-211.4997 192.7912,-205.4997 198.7912,-205.4997 198.7912,-205.4997 290.194,-205.4997 290.194,-205.4997 296.194,-205.4997 302.194,-211.4997 302.194,-217.4997 302.194,-217.4997 302.194,-268.9003 302.194,-268.9003 302.194,-274.9003 296.194,-280.9003 290.194,-280.9003\"/>\n",
       "<text text-anchor=\"middle\" x=\"244.4926\" y=\"-264.2\" font-family=\"Helvetica,sans-Serif\" font-size=\"14.00\" fill=\"#000000\">X[3] &lt;= 0.5</text>\n",
       "<text text-anchor=\"middle\" x=\"244.4926\" y=\"-247.4\" font-family=\"Helvetica,sans-Serif\" font-size=\"14.00\" fill=\"#000000\">mse = 556.262</text>\n",
       "<text text-anchor=\"middle\" x=\"244.4926\" y=\"-230.6\" font-family=\"Helvetica,sans-Serif\" font-size=\"14.00\" fill=\"#000000\">samples = 1264</text>\n",
       "<text text-anchor=\"middle\" x=\"244.4926\" y=\"-213.8\" font-family=\"Helvetica,sans-Serif\" font-size=\"14.00\" fill=\"#000000\">value = 62.165</text>\n",
       "</g>\n",
       "<!-- 1 -->\n",
       "<g id=\"node2\" class=\"node\">\n",
       "<title>1</title>\n",
       "<path fill=\"#e58139\" fill-opacity=\"0.301961\" stroke=\"#000000\" d=\"M223.9778,-169.7003C223.9778,-169.7003 139.0074,-169.7003 139.0074,-169.7003 133.0074,-169.7003 127.0074,-163.7003 127.0074,-157.7003 127.0074,-157.7003 127.0074,-106.2997 127.0074,-106.2997 127.0074,-100.2997 133.0074,-94.2997 139.0074,-94.2997 139.0074,-94.2997 223.9778,-94.2997 223.9778,-94.2997 229.9778,-94.2997 235.9778,-100.2997 235.9778,-106.2997 235.9778,-106.2997 235.9778,-157.7003 235.9778,-157.7003 235.9778,-163.7003 229.9778,-169.7003 223.9778,-169.7003\"/>\n",
       "<text text-anchor=\"middle\" x=\"181.4926\" y=\"-153\" font-family=\"Helvetica,sans-Serif\" font-size=\"14.00\" fill=\"#000000\">X[4] &lt;= 0.5</text>\n",
       "<text text-anchor=\"middle\" x=\"181.4926\" y=\"-136.2\" font-family=\"Helvetica,sans-Serif\" font-size=\"14.00\" fill=\"#000000\">mse = 507.397</text>\n",
       "<text text-anchor=\"middle\" x=\"181.4926\" y=\"-119.4\" font-family=\"Helvetica,sans-Serif\" font-size=\"14.00\" fill=\"#000000\">samples = 724</text>\n",
       "<text text-anchor=\"middle\" x=\"181.4926\" y=\"-102.6\" font-family=\"Helvetica,sans-Serif\" font-size=\"14.00\" fill=\"#000000\">value = 52.811</text>\n",
       "</g>\n",
       "<!-- 0&#45;&gt;1 -->\n",
       "<g id=\"edge1\" class=\"edge\">\n",
       "<title>0&#45;&gt;1</title>\n",
       "<path fill=\"none\" stroke=\"#000000\" d=\"M223.1637,-205.5528C218.2375,-196.8577 212.9396,-187.5064 207.8281,-178.4843\"/>\n",
       "<polygon fill=\"#000000\" stroke=\"#000000\" points=\"210.7742,-176.5839 202.7996,-169.6085 204.6837,-180.0344 210.7742,-176.5839\"/>\n",
       "<text text-anchor=\"middle\" x=\"196.1327\" y=\"-189.5032\" font-family=\"Helvetica,sans-Serif\" font-size=\"14.00\" fill=\"#000000\">True</text>\n",
       "</g>\n",
       "<!-- 4 -->\n",
       "<g id=\"node5\" class=\"node\">\n",
       "<title>4</title>\n",
       "<path fill=\"#e58139\" fill-opacity=\"0.901961\" stroke=\"#000000\" d=\"M350.9778,-169.7003C350.9778,-169.7003 266.0074,-169.7003 266.0074,-169.7003 260.0074,-169.7003 254.0074,-163.7003 254.0074,-157.7003 254.0074,-157.7003 254.0074,-106.2997 254.0074,-106.2997 254.0074,-100.2997 260.0074,-94.2997 266.0074,-94.2997 266.0074,-94.2997 350.9778,-94.2997 350.9778,-94.2997 356.9778,-94.2997 362.9778,-100.2997 362.9778,-106.2997 362.9778,-106.2997 362.9778,-157.7003 362.9778,-157.7003 362.9778,-163.7003 356.9778,-169.7003 350.9778,-169.7003\"/>\n",
       "<text text-anchor=\"middle\" x=\"308.4926\" y=\"-153\" font-family=\"Helvetica,sans-Serif\" font-size=\"14.00\" fill=\"#000000\">X[1] &lt;= 54.5</text>\n",
       "<text text-anchor=\"middle\" x=\"308.4926\" y=\"-136.2\" font-family=\"Helvetica,sans-Serif\" font-size=\"14.00\" fill=\"#000000\">mse = 347.197</text>\n",
       "<text text-anchor=\"middle\" x=\"308.4926\" y=\"-119.4\" font-family=\"Helvetica,sans-Serif\" font-size=\"14.00\" fill=\"#000000\">samples = 540</text>\n",
       "<text text-anchor=\"middle\" x=\"308.4926\" y=\"-102.6\" font-family=\"Helvetica,sans-Serif\" font-size=\"14.00\" fill=\"#000000\">value = 74.706</text>\n",
       "</g>\n",
       "<!-- 0&#45;&gt;4 -->\n",
       "<g id=\"edge4\" class=\"edge\">\n",
       "<title>0&#45;&gt;4</title>\n",
       "<path fill=\"none\" stroke=\"#000000\" d=\"M266.1601,-205.5528C271.1644,-196.8577 276.5465,-187.5064 281.739,-178.4843\"/>\n",
       "<polygon fill=\"#000000\" stroke=\"#000000\" points=\"284.8926,-180.0214 286.8474,-169.6085 278.8257,-176.5296 284.8926,-180.0214\"/>\n",
       "<text text-anchor=\"middle\" x=\"293.3507\" y=\"-189.5478\" font-family=\"Helvetica,sans-Serif\" font-size=\"14.00\" fill=\"#000000\">False</text>\n",
       "</g>\n",
       "<!-- 2 -->\n",
       "<g id=\"node3\" class=\"node\">\n",
       "<title>2</title>\n",
       "<path fill=\"#e58139\" fill-opacity=\"0.470588\" stroke=\"#000000\" d=\"M96.9778,-58.6014C96.9778,-58.6014 12.0074,-58.6014 12.0074,-58.6014 6.0074,-58.6014 .0074,-52.6014 .0074,-46.6014 .0074,-46.6014 .0074,-11.7986 .0074,-11.7986 .0074,-5.7986 6.0074,.2014 12.0074,.2014 12.0074,.2014 96.9778,.2014 96.9778,.2014 102.9778,.2014 108.9778,-5.7986 108.9778,-11.7986 108.9778,-11.7986 108.9778,-46.6014 108.9778,-46.6014 108.9778,-52.6014 102.9778,-58.6014 96.9778,-58.6014\"/>\n",
       "<text text-anchor=\"middle\" x=\"54.4926\" y=\"-41.8\" font-family=\"Helvetica,sans-Serif\" font-size=\"14.00\" fill=\"#000000\">mse = 444.551</text>\n",
       "<text text-anchor=\"middle\" x=\"54.4926\" y=\"-25\" font-family=\"Helvetica,sans-Serif\" font-size=\"14.00\" fill=\"#000000\">samples = 468</text>\n",
       "<text text-anchor=\"middle\" x=\"54.4926\" y=\"-8.2\" font-family=\"Helvetica,sans-Serif\" font-size=\"14.00\" fill=\"#000000\">value = 58.868</text>\n",
       "</g>\n",
       "<!-- 1&#45;&gt;2 -->\n",
       "<g id=\"edge2\" class=\"edge\">\n",
       "<title>1&#45;&gt;2</title>\n",
       "<path fill=\"none\" stroke=\"#000000\" d=\"M134.9236,-94.3048C123.0747,-84.7137 110.3774,-74.4359 98.6525,-64.9452\"/>\n",
       "<polygon fill=\"#000000\" stroke=\"#000000\" points=\"100.6879,-62.0898 90.7131,-58.5186 96.2838,-67.5308 100.6879,-62.0898\"/>\n",
       "</g>\n",
       "<!-- 3 -->\n",
       "<g id=\"node4\" class=\"node\">\n",
       "<title>3</title>\n",
       "<path fill=\"transparent\" stroke=\"#000000\" d=\"M223.9778,-58.6014C223.9778,-58.6014 139.0074,-58.6014 139.0074,-58.6014 133.0074,-58.6014 127.0074,-52.6014 127.0074,-46.6014 127.0074,-46.6014 127.0074,-11.7986 127.0074,-11.7986 127.0074,-5.7986 133.0074,.2014 139.0074,.2014 139.0074,.2014 223.9778,.2014 223.9778,.2014 229.9778,.2014 235.9778,-5.7986 235.9778,-11.7986 235.9778,-11.7986 235.9778,-46.6014 235.9778,-46.6014 235.9778,-52.6014 229.9778,-58.6014 223.9778,-58.6014\"/>\n",
       "<text text-anchor=\"middle\" x=\"181.4926\" y=\"-41.8\" font-family=\"Helvetica,sans-Serif\" font-size=\"14.00\" fill=\"#000000\">mse = 432.623</text>\n",
       "<text text-anchor=\"middle\" x=\"181.4926\" y=\"-25\" font-family=\"Helvetica,sans-Serif\" font-size=\"14.00\" fill=\"#000000\">samples = 256</text>\n",
       "<text text-anchor=\"middle\" x=\"181.4926\" y=\"-8.2\" font-family=\"Helvetica,sans-Serif\" font-size=\"14.00\" fill=\"#000000\">value = 41.738</text>\n",
       "</g>\n",
       "<!-- 1&#45;&gt;3 -->\n",
       "<g id=\"edge3\" class=\"edge\">\n",
       "<title>1&#45;&gt;3</title>\n",
       "<path fill=\"none\" stroke=\"#000000\" d=\"M181.4926,-94.3048C181.4926,-85.9126 181.4926,-76.9946 181.4926,-68.5382\"/>\n",
       "<polygon fill=\"#000000\" stroke=\"#000000\" points=\"184.9927,-68.5186 181.4926,-58.5186 177.9927,-68.5187 184.9927,-68.5186\"/>\n",
       "</g>\n",
       "<!-- 5 -->\n",
       "<g id=\"node6\" class=\"node\">\n",
       "<title>5</title>\n",
       "<path fill=\"#e58139\" fill-opacity=\"0.843137\" stroke=\"#000000\" d=\"M350.9778,-58.6014C350.9778,-58.6014 266.0074,-58.6014 266.0074,-58.6014 260.0074,-58.6014 254.0074,-52.6014 254.0074,-46.6014 254.0074,-46.6014 254.0074,-11.7986 254.0074,-11.7986 254.0074,-5.7986 260.0074,.2014 266.0074,.2014 266.0074,.2014 350.9778,.2014 350.9778,.2014 356.9778,.2014 362.9778,-5.7986 362.9778,-11.7986 362.9778,-11.7986 362.9778,-46.6014 362.9778,-46.6014 362.9778,-52.6014 356.9778,-58.6014 350.9778,-58.6014\"/>\n",
       "<text text-anchor=\"middle\" x=\"308.4926\" y=\"-41.8\" font-family=\"Helvetica,sans-Serif\" font-size=\"14.00\" fill=\"#000000\">mse = 345.027</text>\n",
       "<text text-anchor=\"middle\" x=\"308.4926\" y=\"-25\" font-family=\"Helvetica,sans-Serif\" font-size=\"14.00\" fill=\"#000000\">samples = 340</text>\n",
       "<text text-anchor=\"middle\" x=\"308.4926\" y=\"-8.2\" font-family=\"Helvetica,sans-Serif\" font-size=\"14.00\" fill=\"#000000\">value = 72.606</text>\n",
       "</g>\n",
       "<!-- 4&#45;&gt;5 -->\n",
       "<g id=\"edge5\" class=\"edge\">\n",
       "<title>4&#45;&gt;5</title>\n",
       "<path fill=\"none\" stroke=\"#000000\" d=\"M308.4926,-94.3048C308.4926,-85.9126 308.4926,-76.9946 308.4926,-68.5382\"/>\n",
       "<polygon fill=\"#000000\" stroke=\"#000000\" points=\"311.9927,-68.5186 308.4926,-58.5186 304.9927,-68.5187 311.9927,-68.5186\"/>\n",
       "</g>\n",
       "<!-- 6 -->\n",
       "<g id=\"node7\" class=\"node\">\n",
       "<title>6</title>\n",
       "<path fill=\"#e58139\" stroke=\"#000000\" d=\"M477.9778,-58.6014C477.9778,-58.6014 393.0074,-58.6014 393.0074,-58.6014 387.0074,-58.6014 381.0074,-52.6014 381.0074,-46.6014 381.0074,-46.6014 381.0074,-11.7986 381.0074,-11.7986 381.0074,-5.7986 387.0074,.2014 393.0074,.2014 393.0074,.2014 477.9778,.2014 477.9778,.2014 483.9778,.2014 489.9778,-5.7986 489.9778,-11.7986 489.9778,-11.7986 489.9778,-46.6014 489.9778,-46.6014 489.9778,-52.6014 483.9778,-58.6014 477.9778,-58.6014\"/>\n",
       "<text text-anchor=\"middle\" x=\"435.4926\" y=\"-41.8\" font-family=\"Helvetica,sans-Serif\" font-size=\"14.00\" fill=\"#000000\">mse = 330.649</text>\n",
       "<text text-anchor=\"middle\" x=\"435.4926\" y=\"-25\" font-family=\"Helvetica,sans-Serif\" font-size=\"14.00\" fill=\"#000000\">samples = 200</text>\n",
       "<text text-anchor=\"middle\" x=\"435.4926\" y=\"-8.2\" font-family=\"Helvetica,sans-Serif\" font-size=\"14.00\" fill=\"#000000\">value = 78.275</text>\n",
       "</g>\n",
       "<!-- 4&#45;&gt;6 -->\n",
       "<g id=\"edge6\" class=\"edge\">\n",
       "<title>4&#45;&gt;6</title>\n",
       "<path fill=\"none\" stroke=\"#000000\" d=\"M355.0616,-94.3048C366.9105,-84.7137 379.6078,-74.4359 391.3327,-64.9452\"/>\n",
       "<polygon fill=\"#000000\" stroke=\"#000000\" points=\"393.7014,-67.5308 399.2721,-58.5186 389.2973,-62.0898 393.7014,-67.5308\"/>\n",
       "</g>\n",
       "</g>\n",
       "</svg>\n"
      ],
      "text/plain": [
       "<graphviz.files.Source at 0x10b8c6dd8>"
      ]
     },
     "execution_count": 9,
     "metadata": {},
     "output_type": "execute_result"
    }
   ],
   "source": [
    "from sklearn.tree import export_graphviz\n",
    "import graphviz\n",
    "\n",
    "hit_tree_viz1 = export_graphviz(\n",
    "    biden_tree1,\n",
    "    out_file=None,\n",
    "    rounded=True,\n",
    "    filled=True,\n",
    ")\n",
    "\n",
    "graph = graphviz.Source(hit_tree_viz1)\n",
    "graph.render('hit_tree_viz1')\n",
    "graph"
   ]
  },
  {
   "cell_type": "markdown",
   "metadata": {},
   "source": [
    "x[0]='female', x[1]='age', x[2]='educ', x[3]='dem', x[4]='rep'"
   ]
  },
  {
   "cell_type": "markdown",
   "metadata": {},
   "source": [
    "There are 1264 individuals in the train set, and their average feeling for Biden is 62.\n",
    "\n",
    "The first split occurs at Democrat or non-Democrat. It appears that Democrats have warmer feelings(value=52) to Biden than non-Democracts(value=74), which is reasonable.\n",
    "\n",
    "If a person is a non-Democrat, the second split is if this person is a Republican or a non-Republican. It appears that non-Republicans have warmer feelings(value=58) for Biden than Republicans(value=41.738). \n",
    "\n",
    "If a person is a Democrat, the second split is age. People older than 54.5 have warmer feelings(value=78) for Biden than people younger than 54.5(value=72). "
   ]
  },
  {
   "cell_type": "code",
   "execution_count": 25,
   "metadata": {},
   "outputs": [
    {
     "name": "stdout",
     "output_type": "stream",
     "text": [
      "MSE = 400.06539818418173\n"
     ]
    }
   ],
   "source": [
    "y_pred1 = biden_tree1.predict(X_test)\n",
    "MSE1 = mean_squared_error(y_test, y_pred1)\n",
    "print('MSE =', MSE1)"
   ]
  },
  {
   "cell_type": "markdown",
   "metadata": {},
   "source": [
    "## (b)\n",
    "Leave the control options for tree() at their default values. Now fit another tree to the training data with the following control options: tree(control = tree.control(nobs = # number of rows in the training set, mindev = 0)) Use cross-validation to determine the optimal level of tree complexity, plot the optimal tree, and interpret the results. Does pruning the tree improve the test MSE?"
   ]
  },
  {
   "cell_type": "code",
   "execution_count": 12,
   "metadata": {},
   "outputs": [],
   "source": [
    "MSE = [0]*100\n",
    "for i in range(1, 101):\n",
    "    biden_tree2 = DecisionTreeRegressor(max_depth=i, min_samples_leaf=5)\n",
    "    biden_tree2.fit(X_train, y_train)\n",
    "    y_pred2 = biden_tree2.predict(X_test)\n",
    "    MSE[i-1] = mean_squared_error(y_test, y_pred2)"
   ]
  },
  {
   "cell_type": "code",
   "execution_count": 13,
   "metadata": {},
   "outputs": [
    {
     "name": "stdout",
     "output_type": "stream",
     "text": [
      "The optimal MSE:  396.1937146321307\n",
      "the optimal level of tree complexity:  3\n"
     ]
    }
   ],
   "source": [
    "print('The optimal MSE: ', min(MSE))\n",
    "print('the optimal level of tree complexity: ', MSE.index(min(MSE)) + 1)"
   ]
  },
  {
   "cell_type": "code",
   "execution_count": 14,
   "metadata": {},
   "outputs": [
    {
     "data": {
      "text/plain": [
       "DecisionTreeRegressor(criterion='mse', max_depth=3, max_features=None,\n",
       "           max_leaf_nodes=None, min_impurity_decrease=0.0,\n",
       "           min_impurity_split=None, min_samples_leaf=5,\n",
       "           min_samples_split=2, min_weight_fraction_leaf=0.0,\n",
       "           presort=False, random_state=None, splitter='best')"
      ]
     },
     "execution_count": 14,
     "metadata": {},
     "output_type": "execute_result"
    }
   ],
   "source": [
    "biden_tree2 = DecisionTreeRegressor(max_depth=3, min_samples_leaf=5)\n",
    "biden_tree2.fit(X_train, y_train)"
   ]
  },
  {
   "cell_type": "code",
   "execution_count": 15,
   "metadata": {
    "scrolled": false
   },
   "outputs": [
    {
     "data": {
      "image/svg+xml": [
       "<?xml version=\"1.0\" encoding=\"UTF-8\" standalone=\"no\"?>\n",
       "<!DOCTYPE svg PUBLIC \"-//W3C//DTD SVG 1.1//EN\"\n",
       " \"http://www.w3.org/Graphics/SVG/1.1/DTD/svg11.dtd\">\n",
       "<!-- Generated by graphviz version 2.40.1 (20161225.0304)\n",
       " -->\n",
       "<!-- Title: Tree Pages: 1 -->\n",
       "<svg width=\"1006pt\" height=\"400pt\"\n",
       " viewBox=\"0.00 0.00 1005.99 400.00\" xmlns=\"http://www.w3.org/2000/svg\" xmlns:xlink=\"http://www.w3.org/1999/xlink\">\n",
       "<g id=\"graph0\" class=\"graph\" transform=\"scale(1 1) rotate(0) translate(4 396)\">\n",
       "<title>Tree</title>\n",
       "<polygon fill=\"#ffffff\" stroke=\"transparent\" points=\"-4,4 -4,-396 1001.9852,-396 1001.9852,4 -4,4\"/>\n",
       "<!-- 0 -->\n",
       "<g id=\"node1\" class=\"node\">\n",
       "<title>0</title>\n",
       "<path fill=\"#e58139\" fill-opacity=\"0.568627\" stroke=\"#000000\" d=\"M544.194,-392.1003C544.194,-392.1003 452.7912,-392.1003 452.7912,-392.1003 446.7912,-392.1003 440.7912,-386.1003 440.7912,-380.1003 440.7912,-380.1003 440.7912,-328.6997 440.7912,-328.6997 440.7912,-322.6997 446.7912,-316.6997 452.7912,-316.6997 452.7912,-316.6997 544.194,-316.6997 544.194,-316.6997 550.194,-316.6997 556.194,-322.6997 556.194,-328.6997 556.194,-328.6997 556.194,-380.1003 556.194,-380.1003 556.194,-386.1003 550.194,-392.1003 544.194,-392.1003\"/>\n",
       "<text text-anchor=\"middle\" x=\"498.4926\" y=\"-375.4\" font-family=\"Helvetica,sans-Serif\" font-size=\"14.00\" fill=\"#000000\">X[3] &lt;= 0.5</text>\n",
       "<text text-anchor=\"middle\" x=\"498.4926\" y=\"-358.6\" font-family=\"Helvetica,sans-Serif\" font-size=\"14.00\" fill=\"#000000\">mse = 556.262</text>\n",
       "<text text-anchor=\"middle\" x=\"498.4926\" y=\"-341.8\" font-family=\"Helvetica,sans-Serif\" font-size=\"14.00\" fill=\"#000000\">samples = 1264</text>\n",
       "<text text-anchor=\"middle\" x=\"498.4926\" y=\"-325\" font-family=\"Helvetica,sans-Serif\" font-size=\"14.00\" fill=\"#000000\">value = 62.165</text>\n",
       "</g>\n",
       "<!-- 1 -->\n",
       "<g id=\"node2\" class=\"node\">\n",
       "<title>1</title>\n",
       "<path fill=\"#e58139\" fill-opacity=\"0.345098\" stroke=\"#000000\" d=\"M413.9778,-280.9003C413.9778,-280.9003 329.0074,-280.9003 329.0074,-280.9003 323.0074,-280.9003 317.0074,-274.9003 317.0074,-268.9003 317.0074,-268.9003 317.0074,-217.4997 317.0074,-217.4997 317.0074,-211.4997 323.0074,-205.4997 329.0074,-205.4997 329.0074,-205.4997 413.9778,-205.4997 413.9778,-205.4997 419.9778,-205.4997 425.9778,-211.4997 425.9778,-217.4997 425.9778,-217.4997 425.9778,-268.9003 425.9778,-268.9003 425.9778,-274.9003 419.9778,-280.9003 413.9778,-280.9003\"/>\n",
       "<text text-anchor=\"middle\" x=\"371.4926\" y=\"-264.2\" font-family=\"Helvetica,sans-Serif\" font-size=\"14.00\" fill=\"#000000\">X[4] &lt;= 0.5</text>\n",
       "<text text-anchor=\"middle\" x=\"371.4926\" y=\"-247.4\" font-family=\"Helvetica,sans-Serif\" font-size=\"14.00\" fill=\"#000000\">mse = 507.397</text>\n",
       "<text text-anchor=\"middle\" x=\"371.4926\" y=\"-230.6\" font-family=\"Helvetica,sans-Serif\" font-size=\"14.00\" fill=\"#000000\">samples = 724</text>\n",
       "<text text-anchor=\"middle\" x=\"371.4926\" y=\"-213.8\" font-family=\"Helvetica,sans-Serif\" font-size=\"14.00\" fill=\"#000000\">value = 52.811</text>\n",
       "</g>\n",
       "<!-- 0&#45;&gt;1 -->\n",
       "<g id=\"edge1\" class=\"edge\">\n",
       "<title>0&#45;&gt;1</title>\n",
       "<path fill=\"none\" stroke=\"#000000\" d=\"M455.4962,-316.7528C444.7381,-307.3331 433.1005,-297.1433 422.0142,-287.4362\"/>\n",
       "<polygon fill=\"#000000\" stroke=\"#000000\" points=\"424.274,-284.7628 414.4447,-280.8085 419.6627,-290.0293 424.274,-284.7628\"/>\n",
       "<text text-anchor=\"middle\" x=\"416.0994\" y=\"-301.5537\" font-family=\"Helvetica,sans-Serif\" font-size=\"14.00\" fill=\"#000000\">True</text>\n",
       "</g>\n",
       "<!-- 8 -->\n",
       "<g id=\"node9\" class=\"node\">\n",
       "<title>8</title>\n",
       "<path fill=\"#e58139\" fill-opacity=\"0.866667\" stroke=\"#000000\" d=\"M667.9778,-280.9003C667.9778,-280.9003 583.0074,-280.9003 583.0074,-280.9003 577.0074,-280.9003 571.0074,-274.9003 571.0074,-268.9003 571.0074,-268.9003 571.0074,-217.4997 571.0074,-217.4997 571.0074,-211.4997 577.0074,-205.4997 583.0074,-205.4997 583.0074,-205.4997 667.9778,-205.4997 667.9778,-205.4997 673.9778,-205.4997 679.9778,-211.4997 679.9778,-217.4997 679.9778,-217.4997 679.9778,-268.9003 679.9778,-268.9003 679.9778,-274.9003 673.9778,-280.9003 667.9778,-280.9003\"/>\n",
       "<text text-anchor=\"middle\" x=\"625.4926\" y=\"-264.2\" font-family=\"Helvetica,sans-Serif\" font-size=\"14.00\" fill=\"#000000\">X[1] &lt;= 54.5</text>\n",
       "<text text-anchor=\"middle\" x=\"625.4926\" y=\"-247.4\" font-family=\"Helvetica,sans-Serif\" font-size=\"14.00\" fill=\"#000000\">mse = 347.197</text>\n",
       "<text text-anchor=\"middle\" x=\"625.4926\" y=\"-230.6\" font-family=\"Helvetica,sans-Serif\" font-size=\"14.00\" fill=\"#000000\">samples = 540</text>\n",
       "<text text-anchor=\"middle\" x=\"625.4926\" y=\"-213.8\" font-family=\"Helvetica,sans-Serif\" font-size=\"14.00\" fill=\"#000000\">value = 74.706</text>\n",
       "</g>\n",
       "<!-- 0&#45;&gt;8 -->\n",
       "<g id=\"edge8\" class=\"edge\">\n",
       "<title>0&#45;&gt;8</title>\n",
       "<path fill=\"none\" stroke=\"#000000\" d=\"M541.489,-316.7528C552.2471,-307.3331 563.8847,-297.1433 574.971,-287.4362\"/>\n",
       "<polygon fill=\"#000000\" stroke=\"#000000\" points=\"577.3225,-290.0293 582.5405,-280.8085 572.7112,-284.7628 577.3225,-290.0293\"/>\n",
       "<text text-anchor=\"middle\" x=\"580.8858\" y=\"-301.5537\" font-family=\"Helvetica,sans-Serif\" font-size=\"14.00\" fill=\"#000000\">False</text>\n",
       "</g>\n",
       "<!-- 2 -->\n",
       "<g id=\"node3\" class=\"node\">\n",
       "<title>2</title>\n",
       "<path fill=\"#e58139\" fill-opacity=\"0.490196\" stroke=\"#000000\" d=\"M223.9778,-169.7003C223.9778,-169.7003 139.0074,-169.7003 139.0074,-169.7003 133.0074,-169.7003 127.0074,-163.7003 127.0074,-157.7003 127.0074,-157.7003 127.0074,-106.2997 127.0074,-106.2997 127.0074,-100.2997 133.0074,-94.2997 139.0074,-94.2997 139.0074,-94.2997 223.9778,-94.2997 223.9778,-94.2997 229.9778,-94.2997 235.9778,-100.2997 235.9778,-106.2997 235.9778,-106.2997 235.9778,-157.7003 235.9778,-157.7003 235.9778,-163.7003 229.9778,-169.7003 223.9778,-169.7003\"/>\n",
       "<text text-anchor=\"middle\" x=\"181.4926\" y=\"-153\" font-family=\"Helvetica,sans-Serif\" font-size=\"14.00\" fill=\"#000000\">X[0] &lt;= 0.5</text>\n",
       "<text text-anchor=\"middle\" x=\"181.4926\" y=\"-136.2\" font-family=\"Helvetica,sans-Serif\" font-size=\"14.00\" fill=\"#000000\">mse = 444.551</text>\n",
       "<text text-anchor=\"middle\" x=\"181.4926\" y=\"-119.4\" font-family=\"Helvetica,sans-Serif\" font-size=\"14.00\" fill=\"#000000\">samples = 468</text>\n",
       "<text text-anchor=\"middle\" x=\"181.4926\" y=\"-102.6\" font-family=\"Helvetica,sans-Serif\" font-size=\"14.00\" fill=\"#000000\">value = 58.868</text>\n",
       "</g>\n",
       "<!-- 1&#45;&gt;2 -->\n",
       "<g id=\"edge2\" class=\"edge\">\n",
       "<title>1&#45;&gt;2</title>\n",
       "<path fill=\"none\" stroke=\"#000000\" d=\"M316.7916,-211.1855C294.3362,-198.0432 268.1933,-182.7427 244.9074,-169.1143\"/>\n",
       "<polygon fill=\"#000000\" stroke=\"#000000\" points=\"246.5348,-166.0115 236.1364,-163.981 242.999,-172.0528 246.5348,-166.0115\"/>\n",
       "</g>\n",
       "<!-- 5 -->\n",
       "<g id=\"node6\" class=\"node\">\n",
       "<title>5</title>\n",
       "<path fill=\"#e58139\" fill-opacity=\"0.082353\" stroke=\"#000000\" d=\"M413.9778,-169.7003C413.9778,-169.7003 329.0074,-169.7003 329.0074,-169.7003 323.0074,-169.7003 317.0074,-163.7003 317.0074,-157.7003 317.0074,-157.7003 317.0074,-106.2997 317.0074,-106.2997 317.0074,-100.2997 323.0074,-94.2997 329.0074,-94.2997 329.0074,-94.2997 413.9778,-94.2997 413.9778,-94.2997 419.9778,-94.2997 425.9778,-100.2997 425.9778,-106.2997 425.9778,-106.2997 425.9778,-157.7003 425.9778,-157.7003 425.9778,-163.7003 419.9778,-169.7003 413.9778,-169.7003\"/>\n",
       "<text text-anchor=\"middle\" x=\"371.4926\" y=\"-153\" font-family=\"Helvetica,sans-Serif\" font-size=\"14.00\" fill=\"#000000\">X[0] &lt;= 0.5</text>\n",
       "<text text-anchor=\"middle\" x=\"371.4926\" y=\"-136.2\" font-family=\"Helvetica,sans-Serif\" font-size=\"14.00\" fill=\"#000000\">mse = 432.623</text>\n",
       "<text text-anchor=\"middle\" x=\"371.4926\" y=\"-119.4\" font-family=\"Helvetica,sans-Serif\" font-size=\"14.00\" fill=\"#000000\">samples = 256</text>\n",
       "<text text-anchor=\"middle\" x=\"371.4926\" y=\"-102.6\" font-family=\"Helvetica,sans-Serif\" font-size=\"14.00\" fill=\"#000000\">value = 41.738</text>\n",
       "</g>\n",
       "<!-- 1&#45;&gt;5 -->\n",
       "<g id=\"edge5\" class=\"edge\">\n",
       "<title>1&#45;&gt;5</title>\n",
       "<path fill=\"none\" stroke=\"#000000\" d=\"M371.4926,-205.5528C371.4926,-197.22 371.4926,-188.2845 371.4926,-179.6137\"/>\n",
       "<polygon fill=\"#000000\" stroke=\"#000000\" points=\"374.9927,-179.6084 371.4926,-169.6085 367.9927,-179.6085 374.9927,-179.6084\"/>\n",
       "</g>\n",
       "<!-- 3 -->\n",
       "<g id=\"node4\" class=\"node\">\n",
       "<title>3</title>\n",
       "<path fill=\"#e58139\" fill-opacity=\"0.431373\" stroke=\"#000000\" d=\"M96.9778,-58.6014C96.9778,-58.6014 12.0074,-58.6014 12.0074,-58.6014 6.0074,-58.6014 .0074,-52.6014 .0074,-46.6014 .0074,-46.6014 .0074,-11.7986 .0074,-11.7986 .0074,-5.7986 6.0074,.2014 12.0074,.2014 12.0074,.2014 96.9778,.2014 96.9778,.2014 102.9778,.2014 108.9778,-5.7986 108.9778,-11.7986 108.9778,-11.7986 108.9778,-46.6014 108.9778,-46.6014 108.9778,-52.6014 102.9778,-58.6014 96.9778,-58.6014\"/>\n",
       "<text text-anchor=\"middle\" x=\"54.4926\" y=\"-41.8\" font-family=\"Helvetica,sans-Serif\" font-size=\"14.00\" fill=\"#000000\">mse = 470.335</text>\n",
       "<text text-anchor=\"middle\" x=\"54.4926\" y=\"-25\" font-family=\"Helvetica,sans-Serif\" font-size=\"14.00\" fill=\"#000000\">samples = 235</text>\n",
       "<text text-anchor=\"middle\" x=\"54.4926\" y=\"-8.2\" font-family=\"Helvetica,sans-Serif\" font-size=\"14.00\" fill=\"#000000\">value = 56.489</text>\n",
       "</g>\n",
       "<!-- 2&#45;&gt;3 -->\n",
       "<g id=\"edge3\" class=\"edge\">\n",
       "<title>2&#45;&gt;3</title>\n",
       "<path fill=\"none\" stroke=\"#000000\" d=\"M134.9236,-94.3048C123.0747,-84.7137 110.3774,-74.4359 98.6525,-64.9452\"/>\n",
       "<polygon fill=\"#000000\" stroke=\"#000000\" points=\"100.6879,-62.0898 90.7131,-58.5186 96.2838,-67.5308 100.6879,-62.0898\"/>\n",
       "</g>\n",
       "<!-- 4 -->\n",
       "<g id=\"node5\" class=\"node\">\n",
       "<title>4</title>\n",
       "<path fill=\"#e58139\" fill-opacity=\"0.545098\" stroke=\"#000000\" d=\"M223.9778,-58.6014C223.9778,-58.6014 139.0074,-58.6014 139.0074,-58.6014 133.0074,-58.6014 127.0074,-52.6014 127.0074,-46.6014 127.0074,-46.6014 127.0074,-11.7986 127.0074,-11.7986 127.0074,-5.7986 133.0074,.2014 139.0074,.2014 139.0074,.2014 223.9778,.2014 223.9778,.2014 229.9778,.2014 235.9778,-5.7986 235.9778,-11.7986 235.9778,-11.7986 235.9778,-46.6014 235.9778,-46.6014 235.9778,-52.6014 229.9778,-58.6014 223.9778,-58.6014\"/>\n",
       "<text text-anchor=\"middle\" x=\"181.4926\" y=\"-41.8\" font-family=\"Helvetica,sans-Serif\" font-size=\"14.00\" fill=\"#000000\">mse = 407.088</text>\n",
       "<text text-anchor=\"middle\" x=\"181.4926\" y=\"-25\" font-family=\"Helvetica,sans-Serif\" font-size=\"14.00\" fill=\"#000000\">samples = 233</text>\n",
       "<text text-anchor=\"middle\" x=\"181.4926\" y=\"-8.2\" font-family=\"Helvetica,sans-Serif\" font-size=\"14.00\" fill=\"#000000\">value = 61.266</text>\n",
       "</g>\n",
       "<!-- 2&#45;&gt;4 -->\n",
       "<g id=\"edge4\" class=\"edge\">\n",
       "<title>2&#45;&gt;4</title>\n",
       "<path fill=\"none\" stroke=\"#000000\" d=\"M181.4926,-94.3048C181.4926,-85.9126 181.4926,-76.9946 181.4926,-68.5382\"/>\n",
       "<polygon fill=\"#000000\" stroke=\"#000000\" points=\"184.9927,-68.5186 181.4926,-58.5186 177.9927,-68.5187 184.9927,-68.5186\"/>\n",
       "</g>\n",
       "<!-- 6 -->\n",
       "<g id=\"node7\" class=\"node\">\n",
       "<title>6</title>\n",
       "<path fill=\"transparent\" stroke=\"#000000\" d=\"M350.9778,-58.6014C350.9778,-58.6014 266.0074,-58.6014 266.0074,-58.6014 260.0074,-58.6014 254.0074,-52.6014 254.0074,-46.6014 254.0074,-46.6014 254.0074,-11.7986 254.0074,-11.7986 254.0074,-5.7986 260.0074,.2014 266.0074,.2014 266.0074,.2014 350.9778,.2014 350.9778,.2014 356.9778,.2014 362.9778,-5.7986 362.9778,-11.7986 362.9778,-11.7986 362.9778,-46.6014 362.9778,-46.6014 362.9778,-52.6014 356.9778,-58.6014 350.9778,-58.6014\"/>\n",
       "<text text-anchor=\"middle\" x=\"308.4926\" y=\"-41.8\" font-family=\"Helvetica,sans-Serif\" font-size=\"14.00\" fill=\"#000000\">mse = 456.775</text>\n",
       "<text text-anchor=\"middle\" x=\"308.4926\" y=\"-25\" font-family=\"Helvetica,sans-Serif\" font-size=\"14.00\" fill=\"#000000\">samples = 123</text>\n",
       "<text text-anchor=\"middle\" x=\"308.4926\" y=\"-8.2\" font-family=\"Helvetica,sans-Serif\" font-size=\"14.00\" fill=\"#000000\">value = 38.333</text>\n",
       "</g>\n",
       "<!-- 5&#45;&gt;6 -->\n",
       "<g id=\"edge6\" class=\"edge\">\n",
       "<title>5&#45;&gt;6</title>\n",
       "<path fill=\"none\" stroke=\"#000000\" d=\"M348.3915,-94.3048C342.9658,-85.4515 337.1815,-76.013 331.7491,-67.1487\"/>\n",
       "<polygon fill=\"#000000\" stroke=\"#000000\" points=\"334.6697,-65.216 326.4602,-58.5186 328.7013,-68.8737 334.6697,-65.216\"/>\n",
       "</g>\n",
       "<!-- 7 -->\n",
       "<g id=\"node8\" class=\"node\">\n",
       "<title>7</title>\n",
       "<path fill=\"#e58139\" fill-opacity=\"0.156863\" stroke=\"#000000\" d=\"M477.9778,-58.6014C477.9778,-58.6014 393.0074,-58.6014 393.0074,-58.6014 387.0074,-58.6014 381.0074,-52.6014 381.0074,-46.6014 381.0074,-46.6014 381.0074,-11.7986 381.0074,-11.7986 381.0074,-5.7986 387.0074,.2014 393.0074,.2014 393.0074,.2014 477.9778,.2014 477.9778,.2014 483.9778,.2014 489.9778,-5.7986 489.9778,-11.7986 489.9778,-11.7986 489.9778,-46.6014 489.9778,-46.6014 489.9778,-52.6014 483.9778,-58.6014 477.9778,-58.6014\"/>\n",
       "<text text-anchor=\"middle\" x=\"435.4926\" y=\"-41.8\" font-family=\"Helvetica,sans-Serif\" font-size=\"14.00\" fill=\"#000000\">mse = 389.649</text>\n",
       "<text text-anchor=\"middle\" x=\"435.4926\" y=\"-25\" font-family=\"Helvetica,sans-Serif\" font-size=\"14.00\" fill=\"#000000\">samples = 133</text>\n",
       "<text text-anchor=\"middle\" x=\"435.4926\" y=\"-8.2\" font-family=\"Helvetica,sans-Serif\" font-size=\"14.00\" fill=\"#000000\">value = 44.887</text>\n",
       "</g>\n",
       "<!-- 5&#45;&gt;7 -->\n",
       "<g id=\"edge7\" class=\"edge\">\n",
       "<title>5&#45;&gt;7</title>\n",
       "<path fill=\"none\" stroke=\"#000000\" d=\"M394.9604,-94.3048C400.4722,-85.4515 406.3483,-76.013 411.867,-67.1487\"/>\n",
       "<polygon fill=\"#000000\" stroke=\"#000000\" points=\"414.9258,-68.8577 417.2398,-58.5186 408.9833,-65.1581 414.9258,-68.8577\"/>\n",
       "</g>\n",
       "<!-- 9 -->\n",
       "<g id=\"node10\" class=\"node\">\n",
       "<title>9</title>\n",
       "<path fill=\"#e58139\" fill-opacity=\"0.815686\" stroke=\"#000000\" d=\"M667.9778,-169.7003C667.9778,-169.7003 583.0074,-169.7003 583.0074,-169.7003 577.0074,-169.7003 571.0074,-163.7003 571.0074,-157.7003 571.0074,-157.7003 571.0074,-106.2997 571.0074,-106.2997 571.0074,-100.2997 577.0074,-94.2997 583.0074,-94.2997 583.0074,-94.2997 667.9778,-94.2997 667.9778,-94.2997 673.9778,-94.2997 679.9778,-100.2997 679.9778,-106.2997 679.9778,-106.2997 679.9778,-157.7003 679.9778,-157.7003 679.9778,-163.7003 673.9778,-169.7003 667.9778,-169.7003\"/>\n",
       "<text text-anchor=\"middle\" x=\"625.4926\" y=\"-153\" font-family=\"Helvetica,sans-Serif\" font-size=\"14.00\" fill=\"#000000\">X[2] &lt;= 15.5</text>\n",
       "<text text-anchor=\"middle\" x=\"625.4926\" y=\"-136.2\" font-family=\"Helvetica,sans-Serif\" font-size=\"14.00\" fill=\"#000000\">mse = 345.027</text>\n",
       "<text text-anchor=\"middle\" x=\"625.4926\" y=\"-119.4\" font-family=\"Helvetica,sans-Serif\" font-size=\"14.00\" fill=\"#000000\">samples = 340</text>\n",
       "<text text-anchor=\"middle\" x=\"625.4926\" y=\"-102.6\" font-family=\"Helvetica,sans-Serif\" font-size=\"14.00\" fill=\"#000000\">value = 72.606</text>\n",
       "</g>\n",
       "<!-- 8&#45;&gt;9 -->\n",
       "<g id=\"edge9\" class=\"edge\">\n",
       "<title>8&#45;&gt;9</title>\n",
       "<path fill=\"none\" stroke=\"#000000\" d=\"M625.4926,-205.5528C625.4926,-197.22 625.4926,-188.2845 625.4926,-179.6137\"/>\n",
       "<polygon fill=\"#000000\" stroke=\"#000000\" points=\"628.9927,-179.6084 625.4926,-169.6085 621.9927,-179.6085 628.9927,-179.6084\"/>\n",
       "</g>\n",
       "<!-- 12 -->\n",
       "<g id=\"node13\" class=\"node\">\n",
       "<title>12</title>\n",
       "<path fill=\"#e58139\" fill-opacity=\"0.952941\" stroke=\"#000000\" d=\"M858.9778,-169.7003C858.9778,-169.7003 774.0074,-169.7003 774.0074,-169.7003 768.0074,-169.7003 762.0074,-163.7003 762.0074,-157.7003 762.0074,-157.7003 762.0074,-106.2997 762.0074,-106.2997 762.0074,-100.2997 768.0074,-94.2997 774.0074,-94.2997 774.0074,-94.2997 858.9778,-94.2997 858.9778,-94.2997 864.9778,-94.2997 870.9778,-100.2997 870.9778,-106.2997 870.9778,-106.2997 870.9778,-157.7003 870.9778,-157.7003 870.9778,-163.7003 864.9778,-169.7003 858.9778,-169.7003\"/>\n",
       "<text text-anchor=\"middle\" x=\"816.4926\" y=\"-153\" font-family=\"Helvetica,sans-Serif\" font-size=\"14.00\" fill=\"#000000\">X[0] &lt;= 0.5</text>\n",
       "<text text-anchor=\"middle\" x=\"816.4926\" y=\"-136.2\" font-family=\"Helvetica,sans-Serif\" font-size=\"14.00\" fill=\"#000000\">mse = 330.649</text>\n",
       "<text text-anchor=\"middle\" x=\"816.4926\" y=\"-119.4\" font-family=\"Helvetica,sans-Serif\" font-size=\"14.00\" fill=\"#000000\">samples = 200</text>\n",
       "<text text-anchor=\"middle\" x=\"816.4926\" y=\"-102.6\" font-family=\"Helvetica,sans-Serif\" font-size=\"14.00\" fill=\"#000000\">value = 78.275</text>\n",
       "</g>\n",
       "<!-- 8&#45;&gt;12 -->\n",
       "<g id=\"edge12\" class=\"edge\">\n",
       "<title>8&#45;&gt;12</title>\n",
       "<path fill=\"none\" stroke=\"#000000\" d=\"M680.2255,-211.3345C702.9029,-198.1318 729.3557,-182.731 752.8892,-169.0299\"/>\n",
       "<polygon fill=\"#000000\" stroke=\"#000000\" points=\"754.8706,-171.9263 761.7517,-163.8701 751.3486,-165.8768 754.8706,-171.9263\"/>\n",
       "</g>\n",
       "<!-- 10 -->\n",
       "<g id=\"node11\" class=\"node\">\n",
       "<title>10</title>\n",
       "<path fill=\"#e58139\" fill-opacity=\"0.780392\" stroke=\"#000000\" d=\"M604.9778,-58.6014C604.9778,-58.6014 520.0074,-58.6014 520.0074,-58.6014 514.0074,-58.6014 508.0074,-52.6014 508.0074,-46.6014 508.0074,-46.6014 508.0074,-11.7986 508.0074,-11.7986 508.0074,-5.7986 514.0074,.2014 520.0074,.2014 520.0074,.2014 604.9778,.2014 604.9778,.2014 610.9778,.2014 616.9778,-5.7986 616.9778,-11.7986 616.9778,-11.7986 616.9778,-46.6014 616.9778,-46.6014 616.9778,-52.6014 610.9778,-58.6014 604.9778,-58.6014\"/>\n",
       "<text text-anchor=\"middle\" x=\"562.4926\" y=\"-41.8\" font-family=\"Helvetica,sans-Serif\" font-size=\"14.00\" fill=\"#000000\">mse = 369.301</text>\n",
       "<text text-anchor=\"middle\" x=\"562.4926\" y=\"-25\" font-family=\"Helvetica,sans-Serif\" font-size=\"14.00\" fill=\"#000000\">samples = 247</text>\n",
       "<text text-anchor=\"middle\" x=\"562.4926\" y=\"-8.2\" font-family=\"Helvetica,sans-Serif\" font-size=\"14.00\" fill=\"#000000\">value = 71.105</text>\n",
       "</g>\n",
       "<!-- 9&#45;&gt;10 -->\n",
       "<g id=\"edge10\" class=\"edge\">\n",
       "<title>9&#45;&gt;10</title>\n",
       "<path fill=\"none\" stroke=\"#000000\" d=\"M602.3915,-94.3048C596.9658,-85.4515 591.1815,-76.013 585.7491,-67.1487\"/>\n",
       "<polygon fill=\"#000000\" stroke=\"#000000\" points=\"588.6697,-65.216 580.4602,-58.5186 582.7013,-68.8737 588.6697,-65.216\"/>\n",
       "</g>\n",
       "<!-- 11 -->\n",
       "<g id=\"node12\" class=\"node\">\n",
       "<title>11</title>\n",
       "<path fill=\"#e58139\" fill-opacity=\"0.913725\" stroke=\"#000000\" d=\"M731.9778,-58.6014C731.9778,-58.6014 647.0074,-58.6014 647.0074,-58.6014 641.0074,-58.6014 635.0074,-52.6014 635.0074,-46.6014 635.0074,-46.6014 635.0074,-11.7986 635.0074,-11.7986 635.0074,-5.7986 641.0074,.2014 647.0074,.2014 647.0074,.2014 731.9778,.2014 731.9778,.2014 737.9778,.2014 743.9778,-5.7986 743.9778,-11.7986 743.9778,-11.7986 743.9778,-46.6014 743.9778,-46.6014 743.9778,-52.6014 737.9778,-58.6014 731.9778,-58.6014\"/>\n",
       "<text text-anchor=\"middle\" x=\"689.4926\" y=\"-41.8\" font-family=\"Helvetica,sans-Serif\" font-size=\"14.00\" fill=\"#000000\">mse = 258.693</text>\n",
       "<text text-anchor=\"middle\" x=\"689.4926\" y=\"-25\" font-family=\"Helvetica,sans-Serif\" font-size=\"14.00\" fill=\"#000000\">samples = 93</text>\n",
       "<text text-anchor=\"middle\" x=\"689.4926\" y=\"-8.2\" font-family=\"Helvetica,sans-Serif\" font-size=\"14.00\" fill=\"#000000\">value = 76.591</text>\n",
       "</g>\n",
       "<!-- 9&#45;&gt;11 -->\n",
       "<g id=\"edge11\" class=\"edge\">\n",
       "<title>9&#45;&gt;11</title>\n",
       "<path fill=\"none\" stroke=\"#000000\" d=\"M648.9604,-94.3048C654.4722,-85.4515 660.3483,-76.013 665.867,-67.1487\"/>\n",
       "<polygon fill=\"#000000\" stroke=\"#000000\" points=\"668.9258,-68.8577 671.2398,-58.5186 662.9833,-65.1581 668.9258,-68.8577\"/>\n",
       "</g>\n",
       "<!-- 13 -->\n",
       "<g id=\"node14\" class=\"node\">\n",
       "<title>13</title>\n",
       "<path fill=\"#e58139\" fill-opacity=\"0.878431\" stroke=\"#000000\" d=\"M858.9778,-58.6014C858.9778,-58.6014 774.0074,-58.6014 774.0074,-58.6014 768.0074,-58.6014 762.0074,-52.6014 762.0074,-46.6014 762.0074,-46.6014 762.0074,-11.7986 762.0074,-11.7986 762.0074,-5.7986 768.0074,.2014 774.0074,.2014 774.0074,.2014 858.9778,.2014 858.9778,.2014 864.9778,.2014 870.9778,-5.7986 870.9778,-11.7986 870.9778,-11.7986 870.9778,-46.6014 870.9778,-46.6014 870.9778,-52.6014 864.9778,-58.6014 858.9778,-58.6014\"/>\n",
       "<text text-anchor=\"middle\" x=\"816.4926\" y=\"-41.8\" font-family=\"Helvetica,sans-Serif\" font-size=\"14.00\" fill=\"#000000\">mse = 399.015</text>\n",
       "<text text-anchor=\"middle\" x=\"816.4926\" y=\"-25\" font-family=\"Helvetica,sans-Serif\" font-size=\"14.00\" fill=\"#000000\">samples = 79</text>\n",
       "<text text-anchor=\"middle\" x=\"816.4926\" y=\"-8.2\" font-family=\"Helvetica,sans-Serif\" font-size=\"14.00\" fill=\"#000000\">value = 75.19</text>\n",
       "</g>\n",
       "<!-- 12&#45;&gt;13 -->\n",
       "<g id=\"edge13\" class=\"edge\">\n",
       "<title>12&#45;&gt;13</title>\n",
       "<path fill=\"none\" stroke=\"#000000\" d=\"M816.4926,-94.3048C816.4926,-85.9126 816.4926,-76.9946 816.4926,-68.5382\"/>\n",
       "<polygon fill=\"#000000\" stroke=\"#000000\" points=\"819.9927,-68.5186 816.4926,-58.5186 812.9927,-68.5187 819.9927,-68.5186\"/>\n",
       "</g>\n",
       "<!-- 14 -->\n",
       "<g id=\"node15\" class=\"node\">\n",
       "<title>14</title>\n",
       "<path fill=\"#e58139\" stroke=\"#000000\" d=\"M985.9778,-58.6014C985.9778,-58.6014 901.0074,-58.6014 901.0074,-58.6014 895.0074,-58.6014 889.0074,-52.6014 889.0074,-46.6014 889.0074,-46.6014 889.0074,-11.7986 889.0074,-11.7986 889.0074,-5.7986 895.0074,.2014 901.0074,.2014 901.0074,.2014 985.9778,.2014 985.9778,.2014 991.9778,.2014 997.9778,-5.7986 997.9778,-11.7986 997.9778,-11.7986 997.9778,-46.6014 997.9778,-46.6014 997.9778,-52.6014 991.9778,-58.6014 985.9778,-58.6014\"/>\n",
       "<text text-anchor=\"middle\" x=\"943.4926\" y=\"-41.8\" font-family=\"Helvetica,sans-Serif\" font-size=\"14.00\" fill=\"#000000\">mse = 275.743</text>\n",
       "<text text-anchor=\"middle\" x=\"943.4926\" y=\"-25\" font-family=\"Helvetica,sans-Serif\" font-size=\"14.00\" fill=\"#000000\">samples = 121</text>\n",
       "<text text-anchor=\"middle\" x=\"943.4926\" y=\"-8.2\" font-family=\"Helvetica,sans-Serif\" font-size=\"14.00\" fill=\"#000000\">value = 80.289</text>\n",
       "</g>\n",
       "<!-- 12&#45;&gt;14 -->\n",
       "<g id=\"edge14\" class=\"edge\">\n",
       "<title>12&#45;&gt;14</title>\n",
       "<path fill=\"none\" stroke=\"#000000\" d=\"M863.0616,-94.3048C874.9105,-84.7137 887.6078,-74.4359 899.3327,-64.9452\"/>\n",
       "<polygon fill=\"#000000\" stroke=\"#000000\" points=\"901.7014,-67.5308 907.2721,-58.5186 897.2973,-62.0898 901.7014,-67.5308\"/>\n",
       "</g>\n",
       "</g>\n",
       "</svg>\n"
      ],
      "text/plain": [
       "<graphviz.files.Source at 0x111d9ab70>"
      ]
     },
     "execution_count": 15,
     "metadata": {},
     "output_type": "execute_result"
    }
   ],
   "source": [
    "hit_tree_viz2 = export_graphviz(\n",
    "    biden_tree2,\n",
    "    out_file=None,\n",
    "    rounded=True,\n",
    "    filled=True,\n",
    ")\n",
    "\n",
    "graph = graphviz.Source(hit_tree_viz2)\n",
    "graph.render('hit_tree_viz1')\n",
    "graph"
   ]
  },
  {
   "cell_type": "markdown",
   "metadata": {},
   "source": [
    "x[0]='female', x[1]='age',  x[2]='educ', x[3]='dem', x[4]='rep'"
   ]
  },
  {
   "cell_type": "markdown",
   "metadata": {},
   "source": [
    "The first split occurs at Democrat or non-Democrat. It appears that Democrats have warmer feelings(value=52) to Biden than non-Democracts(value=74), which is reasonable. \n",
    "\n",
    "If a person is a non-Democrat, the second split is if she is a Republican or a non-Republican. It appears that non-Republicans have warmer feelings(value=58) for Biden than Republicans(value=41.738). Then the split occurs at whether a person is female. In general, for both non-Republican and Republicans, females have warmer feelings for Biden than males.\n",
    "\n",
    "If a person is a Democrat, the second split is age. People older than 54.5 have warmer feelings(value=78) for Biden than people younger than 54.5(value=72). For elder people, the next split is years of education, where people with higher years of education(>15.5) like Biden(76) more than those with lower years of education(< 15.5 ). For younger people, the next split is gender. Similarly, females tend to like Biden(value=80) more than males(75).\n",
    "\n",
    "#### Pruning the tree does improve the test MSE since it reduces MSE."
   ]
  },
  {
   "cell_type": "markdown",
   "metadata": {},
   "source": [
    "## (c)\n",
    "Use the bagging approach to estimate a tree to create a model for predict- ing biden. What test MSE do you obtain? Obtain variable importance measures and interpret the results."
   ]
  },
  {
   "cell_type": "code",
   "execution_count": 16,
   "metadata": {},
   "outputs": [],
   "source": [
    "from sklearn.ensemble import BaggingRegressor"
   ]
  },
  {
   "cell_type": "code",
   "execution_count": 17,
   "metadata": {},
   "outputs": [
    {
     "data": {
      "text/plain": [
       "BaggingRegressor(base_estimator=DecisionTreeRegressor(criterion='mse', max_depth=None, max_features=None,\n",
       "           max_leaf_nodes=None, min_impurity_decrease=0.0,\n",
       "           min_impurity_split=None, min_samples_leaf=1,\n",
       "           min_samples_split=2, min_weight_fraction_leaf=0.0,\n",
       "           presort=False, random_state=None, splitter='best'),\n",
       "         bootstrap=True, bootstrap_features=False, max_features=1.0,\n",
       "         max_samples=100, n_estimators=100, n_jobs=1, oob_score=True,\n",
       "         random_state=15, verbose=0, warm_start=False)"
      ]
     },
     "execution_count": 17,
     "metadata": {},
     "output_type": "execute_result"
    }
   ],
   "source": [
    "biden_tree3 = BaggingRegressor(DecisionTreeRegressor(), n_estimators=100,\n",
    "                             max_samples=100, bootstrap=True, oob_score=True, random_state=15)\n",
    "\n",
    "biden_tree3.fit(X, y)"
   ]
  },
  {
   "cell_type": "code",
   "execution_count": 18,
   "metadata": {},
   "outputs": [
    {
     "name": "stdout",
     "output_type": "stream",
     "text": [
      "MSE= 406.0005583949261\n"
     ]
    }
   ],
   "source": [
    "biden_tree3.score(X, y)\n",
    "y_pred3 = biden_tree3.oob_prediction_\n",
    "MSE3 = mean_squared_error(y, y_pred3)\n",
    "print('MSE=', MSE3)"
   ]
  },
  {
   "cell_type": "code",
   "execution_count": 21,
   "metadata": {},
   "outputs": [
    {
     "name": "stdout",
     "output_type": "stream",
     "text": [
      "Feature ranking:\n",
      "1 .  female :  0.4429127039606069\n",
      "2 .  age :  0.20057625971613363\n",
      "3 .  dem :  0.19032354439169072\n",
      "4 .  rep :  0.10602822551257896\n",
      "5 .  educ :  0.06015926641898977\n"
     ]
    }
   ],
   "source": [
    "importances = np.mean([tree.feature_importances_ for tree in biden_tree3.estimators_], axis=0)\n",
    "indices = np.argsort(importances)[::-1]\n",
    "print(\"Feature ranking:\")\n",
    "\n",
    "features = ['female', 'age', 'dem', 'rep', 'educ']\n",
    "for i in range(X.shape[1]):\n",
    "    print(str(i+1), \". \", features[i], \": \",str(importances[indices[i]]))\n",
    "    "
   ]
  },
  {
   "cell_type": "markdown",
   "metadata": {},
   "source": [
    "##### Interpretation: \n",
    "$female$ appears to be the most important variable in the model to explain $biden$. After that, $age$,  $dem$ and $rep$ are the next important variables. After that, $educ$ seems to be of least importance."
   ]
  },
  {
   "cell_type": "code",
   "execution_count": null,
   "metadata": {},
   "outputs": [],
   "source": [
    "#importances"
   ]
  },
  {
   "cell_type": "code",
   "execution_count": null,
   "metadata": {},
   "outputs": [],
   "source": [
    "#np.argsort(importances)"
   ]
  },
  {
   "cell_type": "code",
   "execution_count": null,
   "metadata": {},
   "outputs": [],
   "source": [
    "#indices1"
   ]
  },
  {
   "cell_type": "markdown",
   "metadata": {},
   "source": [
    "## (d)\n",
    "Use the random forest approach to estimate a tree to create a model for predictingbiden. Do this for m=1,m=2,and m=3(the number of variables). What test MSE do you obtain in each case? Obtain variable importance measures and interpret the results. Describe the effect of m, the number of variables considered at each split, on the error rate obtained."
   ]
  },
  {
   "cell_type": "code",
   "execution_count": 22,
   "metadata": {
    "collapsed": true
   },
   "outputs": [],
   "source": [
    "from sklearn.ensemble import RandomForestRegressor"
   ]
  },
  {
   "cell_type": "code",
   "execution_count": 28,
   "metadata": {
    "collapsed": true
   },
   "outputs": [],
   "source": [
    "def get_importances(biden_tree, features):\n",
    "    importances = np.mean([tree.feature_importances_ for tree in biden_tree.estimators_], axis=0)\n",
    "    indices = np.argsort(importances)[::-1]\n",
    "    print(\"Feature ranking:\")\n",
    "    \n",
    "    for i in range(len(features)):\n",
    "        print(str(i+1), \". \", features[i], \": \",str(importances[indices[i]]))\n",
    "\n",
    "def build_tree(m, X, y, features):\n",
    "    biden_tree = RandomForestRegressor(n_estimators=53, max_features=m, bootstrap=True,\n",
    "                                  oob_score=True, random_state=15)\n",
    "    biden_tree.fit(X, y)\n",
    "    biden_tree.score(X, y)\n",
    "    \n",
    "    y_pred = biden_tree.oob_prediction_\n",
    "    MSE = mean_squared_error(y, y_pred)\n",
    "    print('m =', m, ', MSE = ', MSE)\n",
    "    get_importances(biden_tree, features)"
   ]
  },
  {
   "cell_type": "code",
   "execution_count": 29,
   "metadata": {},
   "outputs": [
    {
     "name": "stdout",
     "output_type": "stream",
     "text": [
      "m = 1 , MSE =  532.8750579722736\n",
      "Feature ranking:\n",
      "1 .  female :  0.5121750986284854\n",
      "2 .  age :  0.19243207162937045\n",
      "3 .  dem :  0.1501805471537288\n",
      "4 .  rep :  0.12387921818323254\n",
      "5 .  educ :  0.02133306440518276\n",
      "\n",
      "m = 2 , MSE =  538.192542935064\n",
      "Feature ranking:\n",
      "1 .  female :  0.5075843112401004\n",
      "2 .  age :  0.19194351404282559\n",
      "3 .  dem :  0.1514236956156639\n",
      "4 .  rep :  0.1279439072674188\n",
      "5 .  educ :  0.02110457183399131\n",
      "\n",
      "m = 3 , MSE =  535.7619627008756\n",
      "Feature ranking:\n",
      "1 .  female :  0.4846520363670528\n",
      "2 .  age :  0.19916532223909172\n",
      "3 .  dem :  0.16508946236227023\n",
      "4 .  rep :  0.12372237934495427\n",
      "5 .  educ :  0.027370799686630812\n",
      "\n"
     ]
    }
   ],
   "source": [
    "for m in range(1, 4):\n",
    "    build_tree(m, X, y, features)\n",
    "    print()"
   ]
  },
  {
   "cell_type": "markdown",
   "metadata": {},
   "source": [
    "For each m, $female$ is always the most important variable for the model, followed by $age$, $dem$, $rep$ and $educ$ in order. In addition, the importance measures for the variables do not vary much for different m. There is no obvious relationship betwen m and MSE. In this case, MSE is smallest with m=1."
   ]
  },
  {
   "cell_type": "code",
   "execution_count": null,
   "metadata": {
    "collapsed": true
   },
   "outputs": [],
   "source": []
  }
 ],
 "metadata": {
  "kernelspec": {
   "display_name": "Python 3",
   "language": "python",
   "name": "python3"
  },
  "language_info": {
   "codemirror_mode": {
    "name": "ipython",
    "version": 3
   },
   "file_extension": ".py",
   "mimetype": "text/x-python",
   "name": "python",
   "nbconvert_exporter": "python",
   "pygments_lexer": "ipython3",
   "version": "3.6.3"
  }
 },
 "nbformat": 4,
 "nbformat_minor": 2
}
