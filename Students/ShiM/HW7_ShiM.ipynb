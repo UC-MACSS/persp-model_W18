{
 "cells": [
  {
   "cell_type": "markdown",
   "metadata": {},
   "source": [
    "# Problem Set #7\n",
    "### MACS 30100, Dr. Evans\n",
    "March 5, 2018  \n",
    "Mengchen Shi"
   ]
  },
  {
   "cell_type": "code",
   "execution_count": 1,
   "metadata": {},
   "outputs": [],
   "source": [
    "import numpy as np\n",
    "import pandas as pd\n",
    "from sklearn import svm\n",
    "from sklearn.datasets import make_blobs\n",
    "from sklearn.linear_model import LogisticRegression\n",
    "from sklearn.ensemble import RandomForestClassifier\n",
    "from sklearn.model_selection import KFold\n",
    "from sklearn.metrics import classification_report, mean_squared_error\n",
    "\n",
    "from pylab import rcParams\n",
    "import matplotlib.pyplot as plt\n",
    "import seaborn as sb\n",
    "%matplotlib inline"
   ]
  },
  {
   "cell_type": "code",
   "execution_count": 2,
   "metadata": {},
   "outputs": [],
   "source": [
    "df = pd.read_csv(\"Auto.csv\", na_values='?')"
   ]
  },
  {
   "cell_type": "code",
   "execution_count": 3,
   "metadata": {
    "collapsed": true
   },
   "outputs": [],
   "source": [
    "df.columns=['mpg','cyl','dspl','hpwr','wgt','accl','yr','orgn','name']"
   ]
  },
  {
   "cell_type": "code",
   "execution_count": 4,
   "metadata": {
    "collapsed": true
   },
   "outputs": [],
   "source": [
    "df.dropna(inplace=True)"
   ]
  },
  {
   "cell_type": "code",
   "execution_count": 5,
   "metadata": {},
   "outputs": [
    {
     "data": {
      "text/html": [
       "<div>\n",
       "<style scoped>\n",
       "    .dataframe tbody tr th:only-of-type {\n",
       "        vertical-align: middle;\n",
       "    }\n",
       "\n",
       "    .dataframe tbody tr th {\n",
       "        vertical-align: top;\n",
       "    }\n",
       "\n",
       "    .dataframe thead th {\n",
       "        text-align: right;\n",
       "    }\n",
       "</style>\n",
       "<table border=\"1\" class=\"dataframe\">\n",
       "  <thead>\n",
       "    <tr style=\"text-align: right;\">\n",
       "      <th></th>\n",
       "      <th>mpg</th>\n",
       "      <th>cyl</th>\n",
       "      <th>dspl</th>\n",
       "      <th>hpwr</th>\n",
       "      <th>wgt</th>\n",
       "      <th>accl</th>\n",
       "      <th>yr</th>\n",
       "      <th>orgn</th>\n",
       "      <th>name</th>\n",
       "    </tr>\n",
       "  </thead>\n",
       "  <tbody>\n",
       "    <tr>\n",
       "      <th>0</th>\n",
       "      <td>18.0</td>\n",
       "      <td>8</td>\n",
       "      <td>307.0</td>\n",
       "      <td>130.0</td>\n",
       "      <td>3504</td>\n",
       "      <td>12.0</td>\n",
       "      <td>70</td>\n",
       "      <td>1</td>\n",
       "      <td>chevrolet chevelle malibu</td>\n",
       "    </tr>\n",
       "    <tr>\n",
       "      <th>1</th>\n",
       "      <td>15.0</td>\n",
       "      <td>8</td>\n",
       "      <td>350.0</td>\n",
       "      <td>165.0</td>\n",
       "      <td>3693</td>\n",
       "      <td>11.5</td>\n",
       "      <td>70</td>\n",
       "      <td>1</td>\n",
       "      <td>buick skylark 320</td>\n",
       "    </tr>\n",
       "    <tr>\n",
       "      <th>2</th>\n",
       "      <td>18.0</td>\n",
       "      <td>8</td>\n",
       "      <td>318.0</td>\n",
       "      <td>150.0</td>\n",
       "      <td>3436</td>\n",
       "      <td>11.0</td>\n",
       "      <td>70</td>\n",
       "      <td>1</td>\n",
       "      <td>plymouth satellite</td>\n",
       "    </tr>\n",
       "    <tr>\n",
       "      <th>3</th>\n",
       "      <td>16.0</td>\n",
       "      <td>8</td>\n",
       "      <td>304.0</td>\n",
       "      <td>150.0</td>\n",
       "      <td>3433</td>\n",
       "      <td>12.0</td>\n",
       "      <td>70</td>\n",
       "      <td>1</td>\n",
       "      <td>amc rebel sst</td>\n",
       "    </tr>\n",
       "    <tr>\n",
       "      <th>4</th>\n",
       "      <td>17.0</td>\n",
       "      <td>8</td>\n",
       "      <td>302.0</td>\n",
       "      <td>140.0</td>\n",
       "      <td>3449</td>\n",
       "      <td>10.5</td>\n",
       "      <td>70</td>\n",
       "      <td>1</td>\n",
       "      <td>ford torino</td>\n",
       "    </tr>\n",
       "  </tbody>\n",
       "</table>\n",
       "</div>"
      ],
      "text/plain": [
       "    mpg  cyl   dspl   hpwr   wgt  accl  yr  orgn                       name\n",
       "0  18.0    8  307.0  130.0  3504  12.0  70     1  chevrolet chevelle malibu\n",
       "1  15.0    8  350.0  165.0  3693  11.5  70     1          buick skylark 320\n",
       "2  18.0    8  318.0  150.0  3436  11.0  70     1         plymouth satellite\n",
       "3  16.0    8  304.0  150.0  3433  12.0  70     1              amc rebel sst\n",
       "4  17.0    8  302.0  140.0  3449  10.5  70     1                ford torino"
      ]
     },
     "execution_count": 5,
     "metadata": {},
     "output_type": "execute_result"
    }
   ],
   "source": [
    "df.head()"
   ]
  },
  {
   "cell_type": "code",
   "execution_count": 6,
   "metadata": {},
   "outputs": [
    {
     "data": {
      "text/plain": [
       "mpg     0\n",
       "cyl     0\n",
       "dspl    0\n",
       "hpwr    0\n",
       "wgt     0\n",
       "accl    0\n",
       "yr      0\n",
       "orgn    0\n",
       "name    0\n",
       "dtype: int64"
      ]
     },
     "execution_count": 6,
     "metadata": {},
     "output_type": "execute_result"
    }
   ],
   "source": [
    "df.isnull().sum()"
   ]
  },
  {
   "cell_type": "code",
   "execution_count": 7,
   "metadata": {},
   "outputs": [],
   "source": [
    "df['mpg_high'] = df['mpg'] >= df['mpg'].median()"
   ]
  },
  {
   "cell_type": "code",
   "execution_count": 8,
   "metadata": {},
   "outputs": [],
   "source": [
    "df['mpg_high'] = pd.get_dummies(df['mpg_high'], drop_first=True)"
   ]
  },
  {
   "cell_type": "code",
   "execution_count": 9,
   "metadata": {},
   "outputs": [
    {
     "name": "stdout",
     "output_type": "stream",
     "text": [
      "<class 'pandas.core.frame.DataFrame'>\n",
      "Int64Index: 392 entries, 0 to 396\n",
      "Data columns (total 10 columns):\n",
      "mpg         392 non-null float64\n",
      "cyl         392 non-null int64\n",
      "dspl        392 non-null float64\n",
      "hpwr        392 non-null float64\n",
      "wgt         392 non-null int64\n",
      "accl        392 non-null float64\n",
      "yr          392 non-null int64\n",
      "orgn        392 non-null int64\n",
      "name        392 non-null object\n",
      "mpg_high    392 non-null uint8\n",
      "dtypes: float64(4), int64(4), object(1), uint8(1)\n",
      "memory usage: 31.0+ KB\n"
     ]
    }
   ],
   "source": [
    "df.info()"
   ]
  },
  {
   "cell_type": "code",
   "execution_count": 10,
   "metadata": {},
   "outputs": [
    {
     "name": "stderr",
     "output_type": "stream",
     "text": [
      "/Applications/anaconda3/lib/python3.6/site-packages/ipykernel_launcher.py:1: FutureWarning: convert_objects is deprecated.  To re-infer data dtypes for object columns, use Series.infer_objects()\n",
      "For all other conversions use the data-type specific converters pd.to_datetime, pd.to_timedelta and pd.to_numeric.\n",
      "  \"\"\"Entry point for launching an IPython kernel.\n"
     ]
    }
   ],
   "source": [
    "df['hpwr'] = df['hpwr'].convert_objects(convert_numeric = True)"
   ]
  },
  {
   "cell_type": "markdown",
   "metadata": {},
   "source": [
    "## (a)"
   ]
  },
  {
   "cell_type": "code",
   "execution_count": 11,
   "metadata": {},
   "outputs": [],
   "source": [
    "X = df[['cyl','dspl','hpwr','wgt','accl','yr','orgn']].dropna().values\n",
    "y = df['mpg_high'].dropna().values"
   ]
  },
  {
   "cell_type": "code",
   "execution_count": 12,
   "metadata": {},
   "outputs": [],
   "source": [
    "kf_log = KFold(n_splits=4, shuffle=True, random_state=15)"
   ]
  },
  {
   "cell_type": "code",
   "execution_count": 13,
   "metadata": {
    "collapsed": true
   },
   "outputs": [],
   "source": [
    "LogReg = LogisticRegression(fit_intercept=True)\n",
    "#LogReg.fit(X_train, y_train)"
   ]
  },
  {
   "cell_type": "code",
   "execution_count": 14,
   "metadata": {},
   "outputs": [
    {
     "name": "stdout",
     "output_type": "stream",
     "text": [
      "\n",
      "              precision    recall  f1-score   support\n",
      "\n",
      "          0      0.942     0.891     0.916        55\n",
      "          1      0.870     0.930     0.899        43\n",
      "\n",
      "avg / total      0.910     0.908     0.908        98\n",
      "\n",
      "error rate (category 0) is 0.057692307692307696 \n",
      "error rate (category 1) is 0.13043478260869565\n",
      "The MSE of the model is 0.09183673469387756\n",
      "\n",
      "\n",
      "              precision    recall  f1-score   support\n",
      "\n",
      "          0      0.878     0.915     0.896        47\n",
      "          1      0.918     0.882     0.900        51\n",
      "\n",
      "avg / total      0.899     0.898     0.898        98\n",
      "\n",
      "error rate (category 0) is 0.12244897959183673 \n",
      "error rate (category 1) is 0.08163265306122448\n",
      "The MSE of the model is 0.10204081632653061\n",
      "\n",
      "\n",
      "              precision    recall  f1-score   support\n",
      "\n",
      "          0      0.848     0.867     0.857        45\n",
      "          1      0.885     0.868     0.876        53\n",
      "\n",
      "avg / total      0.868     0.867     0.867        98\n",
      "\n",
      "error rate (category 0) is 0.15217391304347827 \n",
      "error rate (category 1) is 0.11538461538461539\n",
      "The MSE of the model is 0.1326530612244898\n",
      "\n",
      "\n",
      "              precision    recall  f1-score   support\n",
      "\n",
      "          0      0.953     0.837     0.891        49\n",
      "          1      0.855     0.959     0.904        49\n",
      "\n",
      "avg / total      0.904     0.898     0.898        98\n",
      "\n",
      "error rate (category 0) is 0.046511627906976744 \n",
      "error rate (category 1) is 0.14545454545454545\n",
      "The MSE of the model is 0.10204081632653061\n",
      "\n",
      "\n",
      " k-Fold Reults:\n",
      "The average error rate(category 0) is 0.09470670705864986\n",
      "The average error rate(category 1) is 0.11822664912727025\n",
      "The average MSE of the model is 0.10714285714285715\n"
     ]
    }
   ],
   "source": [
    "k_ind = int(0)\n",
    "log_err_0 = np.zeros(4)\n",
    "log_err_1 = np.zeros(4)\n",
    "log_MSE_VEC = np.zeros(4)\n",
    "\n",
    "for train_index, test_index in kf_log.split(X):\n",
    "\n",
    "    X_train, X_test = X[train_index], X[test_index]\n",
    "    y_train, y_test = y[train_index], y[test_index]\n",
    "    \n",
    "    LogReg.fit(X_train, y_train)\n",
    "    y_pred = LogReg.predict(X_test)\n",
    "    \n",
    "    error = y_test != y_pred\n",
    "    #print(error)\n",
    "    \n",
    "    log_err_0[k_ind] = ((y_pred == 0) * error).sum() / (y_pred == 0).sum() \n",
    "    log_err_1[k_ind] = ((y_pred == 1) * error).sum() / (y_pred == 1).sum() \n",
    "    #print(log_err_0[k_ind])\n",
    "    #print(((y_test == 0) * error).sum() / (y_test == 0).sum() )\n",
    "    \n",
    "    log_MSE_VEC[k_ind] = error.mean()\n",
    "    \n",
    "    print('\\n',classification_report(y_test, y_pred, digits=3))\n",
    "    print('error rate (category 0) is', log_err_0[k_ind], '\\n'\n",
    "          'error rate (category 1) is', log_err_1[k_ind])\n",
    "    print('The MSE of the model is', log_MSE_VEC[k_ind])\n",
    "    print()\n",
    "    k_ind += 1\n",
    "    \n",
    "print('\\n k-Fold Reults:')\n",
    "print('The average error rate(category 0) is', log_err_0.mean())\n",
    "print('The average error rate(category 1) is', log_err_1.mean())\n",
    "print('The average MSE of the model is', log_MSE_VEC.mean())"
   ]
  },
  {
   "cell_type": "markdown",
   "metadata": {},
   "source": [
    "## (b)"
   ]
  },
  {
   "cell_type": "code",
   "execution_count": 15,
   "metadata": {},
   "outputs": [
    {
     "data": {
      "text/plain": [
       "RandomForestClassifier(bootstrap=True, class_weight=None, criterion='gini',\n",
       "            max_depth=None, max_features=2, max_leaf_nodes=None,\n",
       "            min_impurity_decrease=0.0, min_impurity_split=None,\n",
       "            min_samples_leaf=1, min_samples_split=2,\n",
       "            min_weight_fraction_leaf=0.0, n_estimators=20, n_jobs=1,\n",
       "            oob_score=True, random_state=25, verbose=0, warm_start=False)"
      ]
     },
     "execution_count": 15,
     "metadata": {},
     "output_type": "execute_result"
    }
   ],
   "source": [
    "clf = RandomForestClassifier(n_estimators=20, random_state=25,bootstrap=True, max_features=2, oob_score=True)\n",
    "clf.fit(X, y)"
   ]
  },
  {
   "cell_type": "code",
   "execution_count": 16,
   "metadata": {},
   "outputs": [
    {
     "name": "stdout",
     "output_type": "stream",
     "text": [
      "The MSE of the random forest model is:  0.07142857142857142\n",
      "The average error rate(category 0) =  0.05789473684210526\n",
      "The average error rate(category 1) =  0.08415841584158416\n"
     ]
    }
   ],
   "source": [
    "oob_pred = clf.oob_decision_function_.T[1]\n",
    "MSE_rf = pd.DataFrame({'ypred': oob_pred, 'y': y})\n",
    "MSE_rf['ypred'] = MSE_rf['ypred'].apply(lambda x: 1 if x>=0.5 else 0)\n",
    "\n",
    "err_rates_0 = mean_squared_error(MSE_rf['y'].where(MSE_rf.ypred<0.5).dropna(), MSE_rf['ypred'].where(MSE_rf.ypred<0.5).dropna())\n",
    "err_rates_1 = mean_squared_error(MSE_rf['y'].where(MSE_rf.ypred>=0.5).dropna(), MSE_rf['ypred'].where(MSE_rf.ypred>=0.5).dropna())\n",
    "\n",
    "MSE = mean_squared_error(MSE_rf['y'], MSE_rf['ypred'])\n",
    "print('The MSE of the random forest model is: ', MSE)\n",
    "\n",
    "print('The average error rate(category 0) = ', err_rates_0)\n",
    "print('The average error rate(category 1) = ', err_rates_1)"
   ]
  },
  {
   "cell_type": "code",
   "execution_count": 17,
   "metadata": {},
   "outputs": [
    {
     "name": "stdout",
     "output_type": "stream",
     "text": [
      "             precision    recall  f1-score   support\n",
      "\n",
      "          0       0.94      0.91      0.93       196\n",
      "          1       0.92      0.94      0.93       196\n",
      "\n",
      "avg / total       0.93      0.93      0.93       392\n",
      "\n"
     ]
    }
   ],
   "source": [
    "print(classification_report(MSE_rf['y'], MSE_rf['ypred']))"
   ]
  },
  {
   "cell_type": "markdown",
   "metadata": {},
   "source": [
    "## (c)"
   ]
  },
  {
   "cell_type": "code",
   "execution_count": 18,
   "metadata": {
    "collapsed": true
   },
   "outputs": [],
   "source": [
    "kf_log = KFold(n_splits=4, shuffle=True, random_state=15)"
   ]
  },
  {
   "cell_type": "code",
   "execution_count": 20,
   "metadata": {},
   "outputs": [
    {
     "name": "stdout",
     "output_type": "stream",
     "text": [
      "RBF MSE for test set is 0.5408163265306123\n",
      "error rate (category 0) is 0.0\n",
      "error rate (category 1) is 0.5520833333333334\n",
      "             precision    recall  f1-score   support\n",
      "\n",
      "          0       1.00      0.04      0.07        55\n",
      "          1       0.45      1.00      0.62        43\n",
      "\n",
      "avg / total       0.76      0.46      0.31        98\n",
      " \n",
      " \n",
      "\n",
      "RBF MSE for test set is 0.5204081632653061\n",
      "error rate (category 0) is 0.5204081632653061\n",
      "error rate (category 1) is nan\n",
      "             precision    recall  f1-score   support\n",
      "\n",
      "          0       0.48      1.00      0.65        47\n",
      "          1       0.00      0.00      0.00        51\n",
      "\n",
      "avg / total       0.23      0.48      0.31        98\n",
      " \n",
      " \n",
      "\n",
      "RBF MSE for test set is 0.5204081632653061\n",
      "error rate (category 0) is 0.53125\n",
      "error rate (category 1) is 0.0\n",
      "             precision    recall  f1-score   support\n",
      "\n",
      "          0       0.47      1.00      0.64        45\n",
      "          1       1.00      0.04      0.07        53\n",
      "\n",
      "avg / total       0.76      0.48      0.33        98\n",
      " \n",
      " \n",
      "\n",
      "RBF MSE for test set is 0.4489795918367347\n",
      "error rate (category 0) is 0.4731182795698925\n",
      "error rate (category 1) is 0.0\n",
      "             precision    recall  f1-score   support\n",
      "\n",
      "          0       0.53      1.00      0.69        49\n",
      "          1       1.00      0.10      0.19        49\n",
      "\n",
      "avg / total       0.76      0.55      0.44        98\n",
      " \n",
      " \n",
      "\n",
      "\n",
      " k-Fold Reults:\n",
      "The average error rate(category 0) is 0.38119411070879966\n",
      "The average error rate(category 1) is 0.1840277777777778\n",
      "The average MSE of the model is 0.5076530612244898\n"
     ]
    },
    {
     "name": "stderr",
     "output_type": "stream",
     "text": [
      "/Applications/anaconda3/lib/python3.6/site-packages/ipykernel_launcher.py:25: RuntimeWarning: invalid value encountered in long_scalars\n",
      "/Applications/anaconda3/lib/python3.6/site-packages/sklearn/metrics/classification.py:1135: UndefinedMetricWarning: Precision and F-score are ill-defined and being set to 0.0 in labels with no predicted samples.\n",
      "  'precision', 'predicted', average, warn_for)\n"
     ]
    }
   ],
   "source": [
    "k_ind = int(0)\n",
    "svm_err_0 = np.zeros(4)\n",
    "svm_err_1 = np.zeros(4)\n",
    "svm_MSE_VEC = np.zeros(4)\n",
    "\n",
    "for train_index, test_index in kf_log.split(X):\n",
    "\n",
    "    X_train, X_test = X[train_index], X[test_index]\n",
    "    y_train, y_test = y[train_index], y[test_index]\n",
    "    \n",
    "    svc_rbf = svm.SVC(kernel='rbf', C=1, gamma=0.2)\n",
    "    svc_rbf.fit(X_train, y_train)\n",
    "    y_pred_svc = svc_rbf.predict(X_test)\n",
    "    \n",
    "    #error = y_test != y_pred\n",
    "    \n",
    "    pred_wrong_rbf = y_test != y_pred_svc\n",
    "    \n",
    "    MSE_rbf = pred_wrong_rbf.mean()\n",
    "    print('RBF MSE for test set is', MSE_rbf)\n",
    "    \n",
    "    svm_err_0[k_ind] = (((y_pred_svc == 0) * (pred_wrong_rbf)).sum() / (y_pred_svc == 0).sum())\n",
    "    print('error rate (category 0) is', svm_err_0[k_ind])\n",
    "    \n",
    "    svm_err_1[k_ind] = (((y_pred_svc == 1) * (pred_wrong_rbf)).sum() / (y_pred_svc == 1).sum())\n",
    "    print('error rate (category 1) is', svm_err_1[k_ind])\n",
    "    \n",
    "    svm_MSE_VEC[k_ind] = pred_wrong_rbf.mean()\n",
    "    print(classification_report(y_test, y_pred_svc), '\\n','\\n')\n",
    "    \n",
    "    k_ind += 1\n",
    "    \n",
    "print('\\n k-Fold Reults:')\n",
    "print('The average error rate(category 0) is', svm_err_0[~np.isnan(svm_err_0)].mean())\n",
    "print('The average error rate(category 1) is', svm_err_1[~np.isnan(svm_err_1)].mean())\n",
    "print('The average MSE of the model is', svm_MSE_VEC.mean())"
   ]
  },
  {
   "cell_type": "markdown",
   "metadata": {},
   "source": [
    "## (d)"
   ]
  },
  {
   "cell_type": "markdown",
   "metadata": {},
   "source": [
    "(a):  \n",
    " k-Fold Reults:\n",
    "The average error rate(category 0) is 0.09470670705864986  \n",
    "The average error rate(category 1) is 0.11822664912727025  \n",
    "The average MSE of the model is 0.10714285714285715  \n",
    "\n",
    "\n",
    "(b):  \n",
    "The average error rate(category 0) =  0.05789473684210526  \n",
    "The average error rate(category 1) =  0.08415841584158416  \n",
    "The MSE of the random forest model is:  0.07142857142857142  \n",
    "\n",
    "(c):\n",
    " k-Fold Reults:  \n",
    "The average error rate(category 0) is 0.38119411070879966  \n",
    "The average error rate(category 1) is 0.1840277777777778  \n",
    "The average MSE of the model is 0.5076530612244898  "
   ]
  },
  {
   "cell_type": "markdown",
   "metadata": {},
   "source": [
    "According to the results, the random forest model has the lowest error rates and lowest MSE. Therefore, the random forest model is the best predictor of mpg_high. The SVM has the worst performance, and the logistic model is in between. "
   ]
  },
  {
   "cell_type": "code",
   "execution_count": null,
   "metadata": {
    "collapsed": true
   },
   "outputs": [],
   "source": []
  }
 ],
 "metadata": {
  "kernelspec": {
   "display_name": "Python 3",
   "language": "python",
   "name": "python3"
  },
  "language_info": {
   "codemirror_mode": {
    "name": "ipython",
    "version": 3
   },
   "file_extension": ".py",
   "mimetype": "text/x-python",
   "name": "python",
   "nbconvert_exporter": "python",
   "pygments_lexer": "ipython3",
   "version": "3.6.3"
  }
 },
 "nbformat": 4,
 "nbformat_minor": 2
}
