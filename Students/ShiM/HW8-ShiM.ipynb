{
 "cells": [
  {
   "cell_type": "markdown",
   "metadata": {},
   "source": [
    "# Problem Set #8\n",
    "### MACS 30100, Dr. Evans\n",
    "March 11, 2018  \n",
    "Mengchen Shi"
   ]
  },
  {
   "cell_type": "code",
   "execution_count": 1,
   "metadata": {},
   "outputs": [
    {
     "name": "stderr",
     "output_type": "stream",
     "text": [
      "/Applications/anaconda3/lib/python3.6/site-packages/sklearn/cross_validation.py:41: DeprecationWarning: This module was deprecated in version 0.18 in favor of the model_selection module into which all the refactored classes and functions are moved. Also note that the interface of the new CV iterators are different from that of this module. This module will be removed in 0.20.\n",
      "  \"This module will be removed in 0.20.\", DeprecationWarning)\n"
     ]
    }
   ],
   "source": [
    "import pandas as pd\n",
    "import numpy as np\n",
    "from matplotlib.colors import ListedColormap\n",
    "from sklearn.linear_model import LogisticRegression\n",
    "from sklearn.cross_validation import train_test_split\n",
    "from sklearn.preprocessing import StandardScaler\n",
    "from sklearn.metrics import classification_report\n",
    "from sklearn.datasets import make_moons, make_circles, make_classification\n",
    "from sklearn.neural_network import MLPClassifier\n",
    "from sklearn.neighbors import KNeighborsClassifier\n",
    "from sklearn.svm import SVC\n",
    "from sklearn.gaussian_process import GaussianProcessClassifier\n",
    "from sklearn.gaussian_process.kernels import RBF\n",
    "from sklearn.tree import DecisionTreeClassifier\n",
    "from sklearn.ensemble import RandomForestClassifier, AdaBoostClassifier\n",
    "from sklearn.naive_bayes import GaussianNB\n",
    "from sklearn.discriminant_analysis import QuadraticDiscriminantAnalysis\n",
    "from sklearn.model_selection import KFold\n",
    "\n",
    "from pylab import rcParams\n",
    "import matplotlib.pyplot as plt\n",
    "import seaborn as sb\n",
    "%matplotlib inline\n",
    "rcParams['figure.figsize'] = 10, 8\n",
    "sb.set_style('whitegrid')"
   ]
  },
  {
   "cell_type": "code",
   "execution_count": 2,
   "metadata": {},
   "outputs": [],
   "source": [
    "df = pd.read_csv('./data/strongdrink.txt')"
   ]
  },
  {
   "cell_type": "code",
   "execution_count": 3,
   "metadata": {},
   "outputs": [
    {
     "data": {
      "text/html": [
       "<div>\n",
       "<style scoped>\n",
       "    .dataframe tbody tr th:only-of-type {\n",
       "        vertical-align: middle;\n",
       "    }\n",
       "\n",
       "    .dataframe tbody tr th {\n",
       "        vertical-align: top;\n",
       "    }\n",
       "\n",
       "    .dataframe thead th {\n",
       "        text-align: right;\n",
       "    }\n",
       "</style>\n",
       "<table border=\"1\" class=\"dataframe\">\n",
       "  <thead>\n",
       "    <tr style=\"text-align: right;\">\n",
       "      <th></th>\n",
       "      <th>cultivar</th>\n",
       "      <th>alco</th>\n",
       "      <th>malic</th>\n",
       "      <th>ash</th>\n",
       "      <th>alk</th>\n",
       "      <th>magn</th>\n",
       "      <th>tot_phen</th>\n",
       "      <th>flav</th>\n",
       "      <th>nonfl_phen</th>\n",
       "      <th>proanth</th>\n",
       "      <th>color_int</th>\n",
       "      <th>hue</th>\n",
       "      <th>OD280rat</th>\n",
       "      <th>proline</th>\n",
       "    </tr>\n",
       "  </thead>\n",
       "  <tbody>\n",
       "    <tr>\n",
       "      <th>0</th>\n",
       "      <td>1</td>\n",
       "      <td>14.23</td>\n",
       "      <td>1.71</td>\n",
       "      <td>2.43</td>\n",
       "      <td>15.6</td>\n",
       "      <td>127</td>\n",
       "      <td>2.80</td>\n",
       "      <td>3.06</td>\n",
       "      <td>0.28</td>\n",
       "      <td>2.29</td>\n",
       "      <td>5.64</td>\n",
       "      <td>1.04</td>\n",
       "      <td>3.92</td>\n",
       "      <td>1065</td>\n",
       "    </tr>\n",
       "    <tr>\n",
       "      <th>1</th>\n",
       "      <td>1</td>\n",
       "      <td>13.20</td>\n",
       "      <td>1.78</td>\n",
       "      <td>2.14</td>\n",
       "      <td>11.2</td>\n",
       "      <td>100</td>\n",
       "      <td>2.65</td>\n",
       "      <td>2.76</td>\n",
       "      <td>0.26</td>\n",
       "      <td>1.28</td>\n",
       "      <td>4.38</td>\n",
       "      <td>1.05</td>\n",
       "      <td>3.40</td>\n",
       "      <td>1050</td>\n",
       "    </tr>\n",
       "    <tr>\n",
       "      <th>2</th>\n",
       "      <td>1</td>\n",
       "      <td>13.16</td>\n",
       "      <td>2.36</td>\n",
       "      <td>2.67</td>\n",
       "      <td>18.6</td>\n",
       "      <td>101</td>\n",
       "      <td>2.80</td>\n",
       "      <td>3.24</td>\n",
       "      <td>0.30</td>\n",
       "      <td>2.81</td>\n",
       "      <td>5.68</td>\n",
       "      <td>1.03</td>\n",
       "      <td>3.17</td>\n",
       "      <td>1185</td>\n",
       "    </tr>\n",
       "    <tr>\n",
       "      <th>3</th>\n",
       "      <td>1</td>\n",
       "      <td>14.37</td>\n",
       "      <td>1.95</td>\n",
       "      <td>2.50</td>\n",
       "      <td>16.8</td>\n",
       "      <td>113</td>\n",
       "      <td>3.85</td>\n",
       "      <td>3.49</td>\n",
       "      <td>0.24</td>\n",
       "      <td>2.18</td>\n",
       "      <td>7.80</td>\n",
       "      <td>0.86</td>\n",
       "      <td>3.45</td>\n",
       "      <td>1480</td>\n",
       "    </tr>\n",
       "    <tr>\n",
       "      <th>4</th>\n",
       "      <td>1</td>\n",
       "      <td>13.24</td>\n",
       "      <td>2.59</td>\n",
       "      <td>2.87</td>\n",
       "      <td>21.0</td>\n",
       "      <td>118</td>\n",
       "      <td>2.80</td>\n",
       "      <td>2.69</td>\n",
       "      <td>0.39</td>\n",
       "      <td>1.82</td>\n",
       "      <td>4.32</td>\n",
       "      <td>1.04</td>\n",
       "      <td>2.93</td>\n",
       "      <td>735</td>\n",
       "    </tr>\n",
       "  </tbody>\n",
       "</table>\n",
       "</div>"
      ],
      "text/plain": [
       "   cultivar   alco  malic   ash   alk  magn  tot_phen  flav  nonfl_phen  \\\n",
       "0         1  14.23   1.71  2.43  15.6   127      2.80  3.06        0.28   \n",
       "1         1  13.20   1.78  2.14  11.2   100      2.65  2.76        0.26   \n",
       "2         1  13.16   2.36  2.67  18.6   101      2.80  3.24        0.30   \n",
       "3         1  14.37   1.95  2.50  16.8   113      3.85  3.49        0.24   \n",
       "4         1  13.24   2.59  2.87  21.0   118      2.80  2.69        0.39   \n",
       "\n",
       "   proanth  color_int   hue  OD280rat  proline  \n",
       "0     2.29       5.64  1.04      3.92     1065  \n",
       "1     1.28       4.38  1.05      3.40     1050  \n",
       "2     2.81       5.68  1.03      3.17     1185  \n",
       "3     2.18       7.80  0.86      3.45     1480  \n",
       "4     1.82       4.32  1.04      2.93      735  "
      ]
     },
     "execution_count": 3,
     "metadata": {},
     "output_type": "execute_result"
    }
   ],
   "source": [
    "df.head()"
   ]
  },
  {
   "cell_type": "code",
   "execution_count": 4,
   "metadata": {},
   "outputs": [
    {
     "data": {
      "text/plain": [
       "cultivar      0\n",
       "alco          0\n",
       "malic         0\n",
       "ash           0\n",
       "alk           0\n",
       "magn          0\n",
       "tot_phen      0\n",
       "flav          0\n",
       "nonfl_phen    0\n",
       "proanth       0\n",
       "color_int     0\n",
       "hue           0\n",
       "OD280rat      0\n",
       "proline       0\n",
       "dtype: int64"
      ]
     },
     "execution_count": 4,
     "metadata": {},
     "output_type": "execute_result"
    }
   ],
   "source": [
    "df.isnull().sum()"
   ]
  },
  {
   "cell_type": "markdown",
   "metadata": {},
   "source": [
    "## Part (a)"
   ]
  },
  {
   "cell_type": "code",
   "execution_count": 5,
   "metadata": {},
   "outputs": [
    {
     "data": {
      "image/png": "[encoded data removed]",
      "text/plain": [
       "<matplotlib.figure.Figure at 0x1125db080>"
      ]
     },
     "metadata": {},
     "output_type": "display_data"
    }
   ],
   "source": [
    "groups = df.groupby('cultivar')\n",
    "\n",
    "fig, ax = plt.subplots()\n",
    "for name, group in groups:\n",
    "    ax.plot(group['alco'], group['color_int'], marker='o', linestyle='', ms=7, label=name)\n",
    "ax.legend()\n",
    "plt.xlabel('Alcohol')\n",
    "plt.ylabel('Color Intensity')\n",
    "plt.title('Scatterplot of Alcohol and Color Intensity by Cultivar')\n",
    "plt.show()"
   ]
  },
  {
   "cell_type": "markdown",
   "metadata": {},
   "source": [
    "## Part (b)"
   ]
  },
  {
   "cell_type": "code",
   "execution_count": 6,
   "metadata": {},
   "outputs": [],
   "source": [
    "X = df[['alco','malic','tot_phen','color_int']].values\n",
    "y= df['cultivar'].values"
   ]
  },
  {
   "cell_type": "code",
   "execution_count": 7,
   "metadata": {},
   "outputs": [
    {
     "data": {
      "text/plain": [
       "4"
      ]
     },
     "execution_count": 7,
     "metadata": {},
     "output_type": "execute_result"
    }
   ],
   "source": [
    "clf_mlog = KFold(n_splits=4, shuffle=True, random_state=22)\n",
    "clf_mlog.get_n_splits(X)"
   ]
  },
  {
   "cell_type": "code",
   "execution_count": 8,
   "metadata": {},
   "outputs": [
    {
     "name": "stdout",
     "output_type": "stream",
     "text": [
      "When C=0.01: MSE=0.17045454545454547\n",
      "When C=0.02: MSE=0.13068181818181818\n",
      "When C=0.03: MSE=0.11931818181818182\n",
      "When C=0.04: MSE=0.11363636363636363\n",
      "When C=0.05: MSE=0.11363636363636363\n",
      "When C=0.06: MSE=0.10227272727272727\n",
      "When C=0.07: MSE=0.09659090909090909\n",
      "When C=0.08: MSE=0.09659090909090909\n",
      "When C=0.09: MSE=0.09090909090909091\n",
      "When C=0.1: MSE=0.09090909090909091\n",
      "When C=0.11: MSE=0.09090909090909091\n",
      "When C=0.12: MSE=0.08522727272727272\n",
      "When C=0.13: MSE=0.08522727272727272\n",
      "When C=0.14: MSE=0.08522727272727272\n",
      "When C=0.15: MSE=0.07954545454545454\n",
      "When C=0.16: MSE=0.07954545454545454\n",
      "When C=0.17: MSE=0.07954545454545454\n",
      "When C=0.18: MSE=0.07954545454545454\n",
      "When C=0.19: MSE=0.07954545454545454\n",
      "When C=0.2: MSE=0.07954545454545454\n",
      "When C=0.21: MSE=0.07954545454545454\n",
      "When C=0.22: MSE=0.07954545454545454\n",
      "When C=0.23: MSE=0.07954545454545454\n",
      "When C=0.24: MSE=0.07954545454545454\n",
      "When C=0.25: MSE=0.07954545454545454\n",
      "When C=0.26: MSE=0.07386363636363637\n",
      "When C=0.27: MSE=0.07386363636363637\n",
      "When C=0.28: MSE=0.06818181818181818\n",
      "When C=0.29: MSE=0.06818181818181818\n",
      "When C=0.3: MSE=0.06818181818181818\n",
      "When C=0.31: MSE=0.06818181818181818\n",
      "When C=0.32: MSE=0.06818181818181818\n",
      "When C=0.33: MSE=0.06818181818181818\n",
      "When C=0.34: MSE=0.06818181818181818\n",
      "When C=0.35: MSE=0.06818181818181818\n",
      "When C=0.36: MSE=0.06818181818181818\n",
      "When C=0.37: MSE=0.06818181818181818\n",
      "When C=0.38: MSE=0.06818181818181818\n",
      "When C=0.39: MSE=0.06818181818181818\n",
      "When C=0.4: MSE=0.06818181818181818\n",
      "When C=0.41: MSE=0.06818181818181818\n",
      "When C=0.42: MSE=0.06818181818181818\n",
      "When C=0.43: MSE=0.06818181818181818\n",
      "When C=0.44: MSE=0.06818181818181818\n",
      "When C=0.45: MSE=0.06818181818181818\n",
      "When C=0.46: MSE=0.06818181818181818\n",
      "When C=0.47: MSE=0.06818181818181818\n",
      "When C=0.48: MSE=0.06818181818181818\n",
      "When C=0.49: MSE=0.07386363636363637\n",
      "When C=0.5: MSE=0.07386363636363637\n"
     ]
    }
   ],
   "source": [
    "log_MSE_VEC = np.zeros(4)\n",
    "\n",
    "for i in range(50):\n",
    "    c = (i+1)/100\n",
    "    k_ind = int(0)\n",
    "    for train_index, test_index in clf_mlog.split(X):\n",
    "        \n",
    "        X_train, X_test = X[train_index], X[test_index]\n",
    "        y_train, y_test = y[train_index], y[test_index]\n",
    "\n",
    "        LogReg = LogisticRegression(multi_class='multinomial', solver='newton-cg',fit_intercept = True, C = c)\n",
    "        LogReg.fit(X_train, y_train)\n",
    "        y_pred = LogReg.predict(X_test)\n",
    "\n",
    "        error = y_test != y_pred\n",
    "        log_MSE_VEC[k_ind]= error.mean()\n",
    "\n",
    "        k_ind += 1\n",
    "\n",
    "    print('When C={}:'.format(c), 'MSE={}'.format(log_MSE_VEC.mean()))"
   ]
  },
  {
   "cell_type": "markdown",
   "metadata": {},
   "source": [
    "####  The minimized overall MSE is 0.0682 along with C = 0.28 to 0.48. In sklearn penalty is default to be \"l2\", so we could only play with C."
   ]
  },
  {
   "cell_type": "markdown",
   "metadata": {},
   "source": [
    "## Part (c)"
   ]
  },
  {
   "cell_type": "code",
   "execution_count": 9,
   "metadata": {},
   "outputs": [],
   "source": [
    "MSE_df = pd.DataFrame(columns=['n_estimator','min_sample_leaf','max_dept','MSE'])"
   ]
  },
  {
   "cell_type": "code",
   "execution_count": 10,
   "metadata": {},
   "outputs": [],
   "source": [
    "for i in range(5):\n",
    "    for j in range(10):\n",
    "        for k in range(5):\n",
    "            n_est = i*20+20\n",
    "            msl = j*5+5\n",
    "            md = k+1\n",
    "            tree = RandomForestClassifier(n_estimators=n_est, max_depth=md, \n",
    "                              min_samples_leaf=msl,  bootstrap=True, oob_score=True, random_state=22)\n",
    "            tree.fit(X, y)\n",
    "            #print(n_est, msl, md, 1-tree.oob_score_)\n",
    "            a = pd.DataFrame([n_est, msl, md, 1-tree.oob_score_]).transpose()\n",
    "            a.columns=(['n_estimator','min_sample_leaf','max_dept','MSE'])\n",
    "            MSE_df=pd.concat([MSE_df, a])\n",
    "\n",
    "            "
   ]
  },
  {
   "cell_type": "code",
   "execution_count": 11,
   "metadata": {},
   "outputs": [
    {
     "data": {
      "text/html": [
       "<div>\n",
       "<style scoped>\n",
       "    .dataframe tbody tr th:only-of-type {\n",
       "        vertical-align: middle;\n",
       "    }\n",
       "\n",
       "    .dataframe tbody tr th {\n",
       "        vertical-align: top;\n",
       "    }\n",
       "\n",
       "    .dataframe thead th {\n",
       "        text-align: right;\n",
       "    }\n",
       "</style>\n",
       "<table border=\"1\" class=\"dataframe\">\n",
       "  <thead>\n",
       "    <tr style=\"text-align: right;\">\n",
       "      <th></th>\n",
       "      <th>n_estimator</th>\n",
       "      <th>min_sample_leaf</th>\n",
       "      <th>max_dept</th>\n",
       "      <th>MSE</th>\n",
       "    </tr>\n",
       "  </thead>\n",
       "  <tbody>\n",
       "    <tr>\n",
       "      <th>0</th>\n",
       "      <td>80.0</td>\n",
       "      <td>10.0</td>\n",
       "      <td>3.0</td>\n",
       "      <td>0.068182</td>\n",
       "    </tr>\n",
       "    <tr>\n",
       "      <th>0</th>\n",
       "      <td>100.0</td>\n",
       "      <td>10.0</td>\n",
       "      <td>3.0</td>\n",
       "      <td>0.068182</td>\n",
       "    </tr>\n",
       "    <tr>\n",
       "      <th>0</th>\n",
       "      <td>100.0</td>\n",
       "      <td>10.0</td>\n",
       "      <td>4.0</td>\n",
       "      <td>0.068182</td>\n",
       "    </tr>\n",
       "    <tr>\n",
       "      <th>0</th>\n",
       "      <td>100.0</td>\n",
       "      <td>10.0</td>\n",
       "      <td>5.0</td>\n",
       "      <td>0.068182</td>\n",
       "    </tr>\n",
       "    <tr>\n",
       "      <th>0</th>\n",
       "      <td>80.0</td>\n",
       "      <td>10.0</td>\n",
       "      <td>5.0</td>\n",
       "      <td>0.079545</td>\n",
       "    </tr>\n",
       "  </tbody>\n",
       "</table>\n",
       "</div>"
      ],
      "text/plain": [
       "   n_estimator  min_sample_leaf  max_dept       MSE\n",
       "0         80.0             10.0       3.0  0.068182\n",
       "0        100.0             10.0       3.0  0.068182\n",
       "0        100.0             10.0       4.0  0.068182\n",
       "0        100.0             10.0       5.0  0.068182\n",
       "0         80.0             10.0       5.0  0.079545"
      ]
     },
     "execution_count": 11,
     "metadata": {},
     "output_type": "execute_result"
    }
   ],
   "source": [
    "MSE_df.sort_values(['MSE']).head()"
   ]
  },
  {
   "cell_type": "markdown",
   "metadata": {},
   "source": [
    "#### When max_depth =3, and min_samples_leaft = 10, n_estimator = 80, we achieve the lowest MSE of 0.068182"
   ]
  },
  {
   "cell_type": "markdown",
   "metadata": {},
   "source": [
    "## Part(d)"
   ]
  },
  {
   "cell_type": "code",
   "execution_count": 12,
   "metadata": {
    "collapsed": true
   },
   "outputs": [],
   "source": [
    "MSE_df = pd.DataFrame(columns=['C','gamma','MSE'])"
   ]
  },
  {
   "cell_type": "code",
   "execution_count": 13,
   "metadata": {
    "collapsed": true
   },
   "outputs": [],
   "source": [
    "clf_svm = KFold(n_splits=4, shuffle=True, random_state=22)"
   ]
  },
  {
   "cell_type": "code",
   "execution_count": 14,
   "metadata": {},
   "outputs": [],
   "source": [
    "for i in range(60):\n",
    "    for j in range(60):\n",
    "        c = i/20 + 0.05\n",
    "        g = j/20 +0.05\n",
    "        k_ind = int(0)\n",
    "        svm_MSE_VEC = np.zeros(4)\n",
    "\n",
    "        for train_index, test_index in clf_svm.split(X):\n",
    "\n",
    "            X_train, X_test = X[train_index], X[test_index]\n",
    "            y_train, y_test = y[train_index], y[test_index]\n",
    "\n",
    "            svc_rbf = SVC(kernel='rbf', C=c, gamma=g)\n",
    "            svc_rbf.fit(X_train, y_train)\n",
    "            y_pred_svc = svc_rbf.predict(X_test)\n",
    "            \n",
    "            pred_wrong_rbf = y_test != y_pred_svc\n",
    "\n",
    "            svm_MSE_VEC[k_ind] = pred_wrong_rbf.mean()\n",
    "            k_ind += 1\n",
    "            \n",
    "        a = pd.DataFrame([c, g, svm_MSE_VEC.mean()]).transpose()\n",
    "        a.columns=(['C','gamma','MSE'])\n",
    "        MSE_df=pd.concat([MSE_df, a])"
   ]
  },
  {
   "cell_type": "code",
   "execution_count": 15,
   "metadata": {},
   "outputs": [
    {
     "data": {
      "text/html": [
       "<div>\n",
       "<style scoped>\n",
       "    .dataframe tbody tr th:only-of-type {\n",
       "        vertical-align: middle;\n",
       "    }\n",
       "\n",
       "    .dataframe tbody tr th {\n",
       "        vertical-align: top;\n",
       "    }\n",
       "\n",
       "    .dataframe thead th {\n",
       "        text-align: right;\n",
       "    }\n",
       "</style>\n",
       "<table border=\"1\" class=\"dataframe\">\n",
       "  <thead>\n",
       "    <tr style=\"text-align: right;\">\n",
       "      <th></th>\n",
       "      <th>C</th>\n",
       "      <th>gamma</th>\n",
       "      <th>MSE</th>\n",
       "    </tr>\n",
       "  </thead>\n",
       "  <tbody>\n",
       "    <tr>\n",
       "      <th>0</th>\n",
       "      <td>1.00</td>\n",
       "      <td>1.70</td>\n",
       "      <td>0.045455</td>\n",
       "    </tr>\n",
       "    <tr>\n",
       "      <th>0</th>\n",
       "      <td>0.95</td>\n",
       "      <td>1.70</td>\n",
       "      <td>0.045455</td>\n",
       "    </tr>\n",
       "    <tr>\n",
       "      <th>0</th>\n",
       "      <td>0.95</td>\n",
       "      <td>1.65</td>\n",
       "      <td>0.045455</td>\n",
       "    </tr>\n",
       "    <tr>\n",
       "      <th>0</th>\n",
       "      <td>1.00</td>\n",
       "      <td>2.25</td>\n",
       "      <td>0.051136</td>\n",
       "    </tr>\n",
       "    <tr>\n",
       "      <th>0</th>\n",
       "      <td>1.25</td>\n",
       "      <td>1.70</td>\n",
       "      <td>0.051136</td>\n",
       "    </tr>\n",
       "  </tbody>\n",
       "</table>\n",
       "</div>"
      ],
      "text/plain": [
       "      C  gamma       MSE\n",
       "0  1.00   1.70  0.045455\n",
       "0  0.95   1.70  0.045455\n",
       "0  0.95   1.65  0.045455\n",
       "0  1.00   2.25  0.051136\n",
       "0  1.25   1.70  0.051136"
      ]
     },
     "execution_count": 15,
     "metadata": {},
     "output_type": "execute_result"
    }
   ],
   "source": [
    "MSE_df.sort_values(['MSE']).head()"
   ]
  },
  {
   "cell_type": "markdown",
   "metadata": {},
   "source": [
    "#### When C=1.00, gamma=1.70, we achieve the lowest MSE of 0.045455. Actually, when C is in (0.95,1.00) and gamma in (1.65,1.70), MSE is 0.045455."
   ]
  },
  {
   "cell_type": "markdown",
   "metadata": {},
   "source": [
    "## Part(e)"
   ]
  },
  {
   "cell_type": "code",
   "execution_count": 16,
   "metadata": {
    "collapsed": true
   },
   "outputs": [],
   "source": [
    "clf_mlp = KFold(n_splits=4, shuffle=True, random_state=22)"
   ]
  },
  {
   "cell_type": "code",
   "execution_count": 17,
   "metadata": {
    "collapsed": true
   },
   "outputs": [],
   "source": [
    "activ = np.array(['identity', 'logistic', 'tanh', 'relu'])"
   ]
  },
  {
   "cell_type": "code",
   "execution_count": 18,
   "metadata": {
    "collapsed": true
   },
   "outputs": [],
   "source": [
    "MSE_df = pd.DataFrame(columns=['activation','hidden layer sizes', 'alpha','MSE'])"
   ]
  },
  {
   "cell_type": "code",
   "execution_count": 19,
   "metadata": {},
   "outputs": [],
   "source": [
    "for act in activ:\n",
    "    for i in range(8):\n",
    "        for j in range(10):\n",
    "            h = 50 * (i + 1)\n",
    "            al = j/10 + 0.05\n",
    "            k_ind = int(0)\n",
    "            mlp_MSE_VEC = np.zeros(4)\n",
    "            for train_index, test_index in clf_mlp.split(X):\n",
    "                X_train, X_test = X[train_index], X[test_index]\n",
    "                y_train, y_test = y[train_index], y[test_index]\n",
    "                mlp = MLPClassifier(activation=act, solver='lbfgs',\n",
    "                                    alpha=al, random_state=25,\n",
    "                                    hidden_layer_sizes = h)\n",
    "                mlp.fit(X_train, y_train)\n",
    "                y_pred = mlp.predict(X_test)\n",
    "                error = y_test != y_pred\n",
    "                mlp_MSE_VEC[k_ind] = error.mean()\n",
    "                k_ind += 1\n",
    "                \n",
    "            a = pd.DataFrame([act, h, al, mlp_MSE_VEC.mean()]).transpose()\n",
    "            a.columns=(['activation','hidden layer sizes', 'alpha','MSE'])\n",
    "            MSE_df=pd.concat([MSE_df, a])     \n",
    "\n",
    "            "
   ]
  },
  {
   "cell_type": "code",
   "execution_count": 20,
   "metadata": {},
   "outputs": [
    {
     "data": {
      "text/html": [
       "<div>\n",
       "<style scoped>\n",
       "    .dataframe tbody tr th:only-of-type {\n",
       "        vertical-align: middle;\n",
       "    }\n",
       "\n",
       "    .dataframe tbody tr th {\n",
       "        vertical-align: top;\n",
       "    }\n",
       "\n",
       "    .dataframe thead th {\n",
       "        text-align: right;\n",
       "    }\n",
       "</style>\n",
       "<table border=\"1\" class=\"dataframe\">\n",
       "  <thead>\n",
       "    <tr style=\"text-align: right;\">\n",
       "      <th></th>\n",
       "      <th>activation</th>\n",
       "      <th>hidden layer sizes</th>\n",
       "      <th>alpha</th>\n",
       "      <th>MSE</th>\n",
       "    </tr>\n",
       "  </thead>\n",
       "  <tbody>\n",
       "    <tr>\n",
       "      <th>0</th>\n",
       "      <td>relu</td>\n",
       "      <td>150</td>\n",
       "      <td>0.65</td>\n",
       "      <td>0.0340909</td>\n",
       "    </tr>\n",
       "    <tr>\n",
       "      <th>0</th>\n",
       "      <td>relu</td>\n",
       "      <td>200</td>\n",
       "      <td>0.45</td>\n",
       "      <td>0.0397727</td>\n",
       "    </tr>\n",
       "    <tr>\n",
       "      <th>0</th>\n",
       "      <td>relu</td>\n",
       "      <td>100</td>\n",
       "      <td>0.45</td>\n",
       "      <td>0.0397727</td>\n",
       "    </tr>\n",
       "    <tr>\n",
       "      <th>0</th>\n",
       "      <td>relu</td>\n",
       "      <td>50</td>\n",
       "      <td>0.75</td>\n",
       "      <td>0.0397727</td>\n",
       "    </tr>\n",
       "    <tr>\n",
       "      <th>0</th>\n",
       "      <td>relu</td>\n",
       "      <td>250</td>\n",
       "      <td>0.15</td>\n",
       "      <td>0.0397727</td>\n",
       "    </tr>\n",
       "  </tbody>\n",
       "</table>\n",
       "</div>"
      ],
      "text/plain": [
       "  activation hidden layer sizes alpha        MSE\n",
       "0       relu                150  0.65  0.0340909\n",
       "0       relu                200  0.45  0.0397727\n",
       "0       relu                100  0.45  0.0397727\n",
       "0       relu                 50  0.75  0.0397727\n",
       "0       relu                250  0.15  0.0397727"
      ]
     },
     "execution_count": 20,
     "metadata": {},
     "output_type": "execute_result"
    }
   ],
   "source": [
    "MSE_df.sort_values(['MSE']).head()"
   ]
  },
  {
   "cell_type": "markdown",
   "metadata": {},
   "source": [
    "#### We get the lowest MSE(0.0340909) when activation is 'relu', hidden layer sizes=150 and alpha=0.65."
   ]
  },
  {
   "cell_type": "markdown",
   "metadata": {},
   "source": [
    "## Part(f)"
   ]
  },
  {
   "cell_type": "markdown",
   "metadata": {},
   "source": [
    "#### Comparing the lowest MSE of the four models, the best model is Neural Net (activation = 'relu', alpha = 0.65 and hidden_layer_sizes = 150) with lowest MSE (0.034091)."
   ]
  },
  {
   "cell_type": "code",
   "execution_count": null,
   "metadata": {
    "collapsed": true
   },
   "outputs": [],
   "source": []
  }
 ],
 "metadata": {
  "kernelspec": {
   "display_name": "Python 3",
   "language": "python",
   "name": "python3"
  },
  "language_info": {
   "codemirror_mode": {
    "name": "ipython",
    "version": 3
   },
   "file_extension": ".py",
   "mimetype": "text/x-python",
   "name": "python",
   "nbconvert_exporter": "python",
   "pygments_lexer": "ipython3",
   "version": "3.6.3"
  }
 },
 "nbformat": 4,
 "nbformat_minor": 2
}
