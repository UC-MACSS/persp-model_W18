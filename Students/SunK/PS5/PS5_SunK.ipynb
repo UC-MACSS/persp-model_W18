{
 "cells": [
  {
   "cell_type": "markdown",
   "metadata": {},
   "source": [
    "## Problem Set 5\n",
    "## Dr. Rick Evans\n",
    "## February 22, 2018\n",
    "### Kevin Sun"
   ]
  },
  {
   "cell_type": "markdown",
   "metadata": {
    "collapsed": true
   },
   "source": [
    "### 1.) Multinomial logistic regression and cross validation"
   ]
  },
  {
   "cell_type": "code",
   "execution_count": 13,
   "metadata": {},
   "outputs": [
    {
     "data": {
      "text/html": [
       "<div>\n",
       "<style>\n",
       "    .dataframe thead tr:only-child th {\n",
       "        text-align: right;\n",
       "    }\n",
       "\n",
       "    .dataframe thead th {\n",
       "        text-align: left;\n",
       "    }\n",
       "\n",
       "    .dataframe tbody tr th {\n",
       "        vertical-align: top;\n",
       "    }\n",
       "</style>\n",
       "<table border=\"1\" class=\"dataframe\">\n",
       "  <thead>\n",
       "    <tr style=\"text-align: right;\">\n",
       "      <th></th>\n",
       "      <th>cultivar</th>\n",
       "      <th>alco</th>\n",
       "      <th>malic</th>\n",
       "      <th>ash</th>\n",
       "      <th>alk</th>\n",
       "      <th>magn</th>\n",
       "      <th>tot_phen</th>\n",
       "      <th>flav</th>\n",
       "      <th>nonfl_phen</th>\n",
       "      <th>proanth</th>\n",
       "      <th>color_int</th>\n",
       "      <th>hue</th>\n",
       "      <th>OD280rat</th>\n",
       "      <th>proline</th>\n",
       "    </tr>\n",
       "  </thead>\n",
       "  <tbody>\n",
       "    <tr>\n",
       "      <th>0</th>\n",
       "      <td>1</td>\n",
       "      <td>14.23</td>\n",
       "      <td>1.71</td>\n",
       "      <td>2.43</td>\n",
       "      <td>15.6</td>\n",
       "      <td>127</td>\n",
       "      <td>2.80</td>\n",
       "      <td>3.06</td>\n",
       "      <td>0.28</td>\n",
       "      <td>2.29</td>\n",
       "      <td>5.64</td>\n",
       "      <td>1.04</td>\n",
       "      <td>3.92</td>\n",
       "      <td>1065</td>\n",
       "    </tr>\n",
       "    <tr>\n",
       "      <th>1</th>\n",
       "      <td>1</td>\n",
       "      <td>13.20</td>\n",
       "      <td>1.78</td>\n",
       "      <td>2.14</td>\n",
       "      <td>11.2</td>\n",
       "      <td>100</td>\n",
       "      <td>2.65</td>\n",
       "      <td>2.76</td>\n",
       "      <td>0.26</td>\n",
       "      <td>1.28</td>\n",
       "      <td>4.38</td>\n",
       "      <td>1.05</td>\n",
       "      <td>3.40</td>\n",
       "      <td>1050</td>\n",
       "    </tr>\n",
       "    <tr>\n",
       "      <th>2</th>\n",
       "      <td>1</td>\n",
       "      <td>13.16</td>\n",
       "      <td>2.36</td>\n",
       "      <td>2.67</td>\n",
       "      <td>18.6</td>\n",
       "      <td>101</td>\n",
       "      <td>2.80</td>\n",
       "      <td>3.24</td>\n",
       "      <td>0.30</td>\n",
       "      <td>2.81</td>\n",
       "      <td>5.68</td>\n",
       "      <td>1.03</td>\n",
       "      <td>3.17</td>\n",
       "      <td>1185</td>\n",
       "    </tr>\n",
       "    <tr>\n",
       "      <th>3</th>\n",
       "      <td>1</td>\n",
       "      <td>14.37</td>\n",
       "      <td>1.95</td>\n",
       "      <td>2.50</td>\n",
       "      <td>16.8</td>\n",
       "      <td>113</td>\n",
       "      <td>3.85</td>\n",
       "      <td>3.49</td>\n",
       "      <td>0.24</td>\n",
       "      <td>2.18</td>\n",
       "      <td>7.80</td>\n",
       "      <td>0.86</td>\n",
       "      <td>3.45</td>\n",
       "      <td>1480</td>\n",
       "    </tr>\n",
       "    <tr>\n",
       "      <th>4</th>\n",
       "      <td>1</td>\n",
       "      <td>13.24</td>\n",
       "      <td>2.59</td>\n",
       "      <td>2.87</td>\n",
       "      <td>21.0</td>\n",
       "      <td>118</td>\n",
       "      <td>2.80</td>\n",
       "      <td>2.69</td>\n",
       "      <td>0.39</td>\n",
       "      <td>1.82</td>\n",
       "      <td>4.32</td>\n",
       "      <td>1.04</td>\n",
       "      <td>2.93</td>\n",
       "      <td>735</td>\n",
       "    </tr>\n",
       "  </tbody>\n",
       "</table>\n",
       "</div>"
      ],
      "text/plain": [
       "   cultivar   alco  malic   ash   alk  magn  tot_phen  flav  nonfl_phen  \\\n",
       "0         1  14.23   1.71  2.43  15.6   127      2.80  3.06        0.28   \n",
       "1         1  13.20   1.78  2.14  11.2   100      2.65  2.76        0.26   \n",
       "2         1  13.16   2.36  2.67  18.6   101      2.80  3.24        0.30   \n",
       "3         1  14.37   1.95  2.50  16.8   113      3.85  3.49        0.24   \n",
       "4         1  13.24   2.59  2.87  21.0   118      2.80  2.69        0.39   \n",
       "\n",
       "   proanth  color_int   hue  OD280rat  proline  \n",
       "0     2.29       5.64  1.04      3.92     1065  \n",
       "1     1.28       4.38  1.05      3.40     1050  \n",
       "2     2.81       5.68  1.03      3.17     1185  \n",
       "3     2.18       7.80  0.86      3.45     1480  \n",
       "4     1.82       4.32  1.04      2.93      735  "
      ]
     },
     "execution_count": 13,
     "metadata": {},
     "output_type": "execute_result"
    }
   ],
   "source": [
    "# import relevant libraries\n",
    "import numpy as np\n",
    "import pandas as pd\n",
    "import sklearn\n",
    "from sklearn import preprocessing\n",
    "from sklearn.linear_model import LogisticRegression\n",
    "from sklearn.cross_validation import train_test_split\n",
    "from sklearn import metrics \n",
    "from sklearn.metrics import classification_report, confusion_matrix\n",
    "from pylab import rcParams\n",
    "import matplotlib.pyplot as plt\n",
    "import seaborn as sns\n",
    "from sklearn.model_selection import LeaveOneOut, KFold\n",
    "import statsmodels.api as sm\n",
    "import scipy.interpolate as intpl\n",
    "%matplotlib inline\n",
    "\n",
    "# import data\n",
    "booze = pd.read_csv('data/strongdrink.txt')\n",
    "booze.head(5)"
   ]
  },
  {
   "cell_type": "code",
   "execution_count": 14,
   "metadata": {
    "collapsed": true
   },
   "outputs": [],
   "source": [
    "# drop columns we are not using\n",
    "booze = booze.drop(['ash', 'alk','magn','flav', 'nonfl_phen', 'proanth', 'hue', 'OD280rat', 'proline'], 1)"
   ]
  },
  {
   "cell_type": "markdown",
   "metadata": {},
   "source": [
    "#### 1a)"
   ]
  },
  {
   "cell_type": "code",
   "execution_count": 15,
   "metadata": {},
   "outputs": [
    {
     "name": "stderr",
     "output_type": "stream",
     "text": [
      "/Users/kevinsun/anaconda3/lib/python3.6/site-packages/sklearn/utils/validation.py:547: DataConversionWarning: A column-vector y was passed when a 1d array was expected. Please change the shape of y to (n_samples, ), for example using ravel().\n",
      "  y = column_or_1d(y, warn=True)\n"
     ]
    },
    {
     "data": {
      "text/plain": [
       "LogisticRegression(C=1.0, class_weight=None, dual=False, fit_intercept=True,\n",
       "          intercept_scaling=1, max_iter=100, multi_class='multinomial',\n",
       "          n_jobs=1, penalty='l2', random_state=None, solver='newton-cg',\n",
       "          tol=0.0001, verbose=0, warm_start=False)"
      ]
     },
     "execution_count": 15,
     "metadata": {},
     "output_type": "execute_result"
    }
   ],
   "source": [
    "X = booze[['alco', 'malic', 'tot_phen', 'color_int']]\n",
    "y = booze[['cultivar']]\n",
    "X_train, X_test, y_train, y_test = train_test_split(X, y, test_size = .25, random_state=20)\n",
    "\n",
    "MultLogReg = LogisticRegression(multi_class='multinomial', solver='newton-cg')\n",
    "MultLogReg.fit(X_train, y_train)"
   ]
  },
  {
   "cell_type": "code",
   "execution_count": 16,
   "metadata": {},
   "outputs": [
    {
     "data": {
      "text/plain": [
       "array([2, 3, 1, 2, 2, 1, 3, 2, 2, 3, 1, 3, 2, 1, 1, 2, 2, 1, 1, 3, 3, 1, 2,\n",
       "       1, 3, 2, 1, 3, 2, 2, 2, 2, 3, 2, 1, 1, 1, 2, 3, 2, 1, 1, 2, 2])"
      ]
     },
     "execution_count": 16,
     "metadata": {},
     "output_type": "execute_result"
    }
   ],
   "source": [
    "y_pred = MultLogReg.predict(X_test)\n",
    "y_pred"
   ]
  },
  {
   "cell_type": "code",
   "execution_count": 17,
   "metadata": {},
   "outputs": [
    {
     "name": "stdout",
     "output_type": "stream",
     "text": [
      "Estimated Coefficients:\n",
      "\n",
      "[-24.01126827  22.80207972   1.20918855]\n",
      "\n",
      "[[ 1.70042635 -0.26560786  1.22389489  0.02275125]\n",
      " [-1.46801585 -0.33305182  0.66400741 -0.92271036]\n",
      " [-0.2324106   0.59865966 -1.8879023   0.89995911]]\n"
     ]
    }
   ],
   "source": [
    "print(\"Estimated Coefficients:\")\n",
    "print()\n",
    "print(MultLogReg.intercept_)\n",
    "print()\n",
    "print(MultLogReg.coef_)"
   ]
  },
  {
   "cell_type": "markdown",
   "metadata": {},
   "source": [
    "The estimated coefficients for j = 1 are -24.011, 1.7, -0.266, 1.224, 0.023. The estimated coefficients for j = 2 are -1.468, -0.333, 0.664, -0.923."
   ]
  },
  {
   "cell_type": "code",
   "execution_count": 18,
   "metadata": {},
   "outputs": [
    {
     "name": "stdout",
     "output_type": "stream",
     "text": [
      "             precision    recall  f1-score   support\n",
      "\n",
      "          1       0.87      1.00      0.93        13\n",
      "          2       1.00      0.90      0.95        21\n",
      "          3       1.00      1.00      1.00        10\n",
      "\n",
      "avg / total       0.96      0.95      0.96        44\n",
      "\n"
     ]
    }
   ],
   "source": [
    "print(classification_report(y_test, y_pred))"
   ]
  },
  {
   "cell_type": "markdown",
   "metadata": {},
   "source": [
    "Our error rates for each cultivar is as follows:\n",
    "\n",
    "0.13, 0.0, 0.0 for cultivars 1, 2, and 3 respectively. Both cultivars 2 and 3 had equal precision levels. However, since category 3 has a higher recall rate it is the most accurately predicted category despite having the fewest observations. "
   ]
  },
  {
   "cell_type": "markdown",
   "metadata": {},
   "source": [
    "#### 1b) Leave One Out (LOO)"
   ]
  },
  {
   "cell_type": "code",
   "execution_count": 19,
   "metadata": {},
   "outputs": [
    {
     "data": {
      "text/html": [
       "<div>\n",
       "<style>\n",
       "    .dataframe thead tr:only-child th {\n",
       "        text-align: right;\n",
       "    }\n",
       "\n",
       "    .dataframe thead th {\n",
       "        text-align: left;\n",
       "    }\n",
       "\n",
       "    .dataframe tbody tr th {\n",
       "        vertical-align: top;\n",
       "    }\n",
       "</style>\n",
       "<table border=\"1\" class=\"dataframe\">\n",
       "  <thead>\n",
       "    <tr style=\"text-align: right;\">\n",
       "      <th></th>\n",
       "      <th>cultivar</th>\n",
       "      <th>alco</th>\n",
       "      <th>malic</th>\n",
       "      <th>tot_phen</th>\n",
       "      <th>color_int</th>\n",
       "    </tr>\n",
       "  </thead>\n",
       "  <tbody>\n",
       "    <tr>\n",
       "      <th>0</th>\n",
       "      <td>1</td>\n",
       "      <td>14.23</td>\n",
       "      <td>1.71</td>\n",
       "      <td>2.80</td>\n",
       "      <td>5.64</td>\n",
       "    </tr>\n",
       "    <tr>\n",
       "      <th>1</th>\n",
       "      <td>1</td>\n",
       "      <td>13.20</td>\n",
       "      <td>1.78</td>\n",
       "      <td>2.65</td>\n",
       "      <td>4.38</td>\n",
       "    </tr>\n",
       "    <tr>\n",
       "      <th>2</th>\n",
       "      <td>1</td>\n",
       "      <td>13.16</td>\n",
       "      <td>2.36</td>\n",
       "      <td>2.80</td>\n",
       "      <td>5.68</td>\n",
       "    </tr>\n",
       "    <tr>\n",
       "      <th>3</th>\n",
       "      <td>1</td>\n",
       "      <td>14.37</td>\n",
       "      <td>1.95</td>\n",
       "      <td>3.85</td>\n",
       "      <td>7.80</td>\n",
       "    </tr>\n",
       "    <tr>\n",
       "      <th>4</th>\n",
       "      <td>1</td>\n",
       "      <td>13.24</td>\n",
       "      <td>2.59</td>\n",
       "      <td>2.80</td>\n",
       "      <td>4.32</td>\n",
       "    </tr>\n",
       "  </tbody>\n",
       "</table>\n",
       "</div>"
      ],
      "text/plain": [
       "   cultivar   alco  malic  tot_phen  color_int\n",
       "0         1  14.23   1.71      2.80       5.64\n",
       "1         1  13.20   1.78      2.65       4.38\n",
       "2         1  13.16   2.36      2.80       5.68\n",
       "3         1  14.37   1.95      3.85       7.80\n",
       "4         1  13.24   2.59      2.80       4.32"
      ]
     },
     "execution_count": 19,
     "metadata": {},
     "output_type": "execute_result"
    }
   ],
   "source": [
    "booze.head()"
   ]
  },
  {
   "cell_type": "code",
   "execution_count": 26,
   "metadata": {},
   "outputs": [],
   "source": [
    "Xvars = booze[['alco', 'malic', 'tot_phen', 'color_int']].values\n",
    "yvals = booze[\"cultivar\"].values\n",
    "N_loo = Xvars.shape[0]\n",
    "\n",
    "#create empty LOO object\n",
    "loo = LeaveOneOut()\n",
    "loo.get_n_splits(Xvars)\n",
    "error_df = pd.DataFrame({\"error\": np.zeros(N_loo), \"y_test\": np.zeros(N_loo), \"y_pred\": np.zeros(N_loo)})"
   ]
  },
  {
   "cell_type": "code",
   "execution_count": 27,
   "metadata": {
    "collapsed": true
   },
   "outputs": [],
   "source": [
    "for train_index, test_index in loo.split(Xvars):\n",
    "    X_train, X_test = Xvars[train_index], Xvars[test_index]\n",
    "    y_train, y_test = yvals[train_index], yvals[test_index]\n",
    "    MultLogReg = LogisticRegression(multi_class='multinomial', solver='newton-cg')\n",
    "    MultLogReg.fit(X_train, y_train)\n",
    "    y_pred = MultLogReg.predict(X_test)\n",
    "    error_df[\"y_test\"][test_index] = y_test\n",
    "    error_df[\"y_pred\"][test_index] = y_pred\n",
    "    error_df[\"error\"][test_index] = (error_df[\"y_test\"][test_index] != \\\n",
    "                                     error_df[\"y_pred\"][test_index]).astype(int)"
   ]
  },
  {
   "cell_type": "code",
   "execution_count": 30,
   "metadata": {},
   "outputs": [
    {
     "name": "stdout",
     "output_type": "stream",
     "text": [
      "test estimate MSE_loocv= 0.07954545454545454\n",
      "\n",
      "cultivar = 1 error: 0.09836065573770492\n",
      "cultivar = 2 error: 0.08571428571428572\n",
      "cultivar = 3 error: 0.044444444444444446\n"
     ]
    }
   ],
   "source": [
    "print('test estimate MSE_loocv=', error_df[\"error\"].mean())\n",
    "print()\n",
    "print(classification_report(y_test_vec, y_pred_vec))"
   ]
  },
  {
   "cell_type": "markdown",
   "metadata": {},
   "source": [
    "The error rates overall for LOO are larger. This is not a better predictor as they are higher than what we had in part a."
   ]
  },
  {
   "cell_type": "markdown",
   "metadata": {},
   "source": [
    "#### 1c) K-folds"
   ]
  },
  {
   "cell_type": "code",
   "execution_count": 38,
   "metadata": {},
   "outputs": [
    {
     "name": "stdout",
     "output_type": "stream",
     "text": [
      "k index= 0\n",
      "MSE for test set 0  is 0.227272727273\n",
      "k index= 1\n",
      "MSE for test set 1  is 0.113636363636\n",
      "k index= 2\n",
      "MSE for test set 2  is 0.0454545454545\n",
      "k index= 3\n",
      "MSE for test set 3  is 0.0454545454545\n",
      "test estimate MSE k-fold= 0.107954545455 test estimate MSE standard err= 0.0742994138104\n"
     ]
    }
   ],
   "source": [
    "X = booze[['alco', 'malic', 'tot_phen', 'color_int']].values\n",
    "y = booze['cultivar'].values\n",
    "k=4\n",
    "kf = KFold(n_splits=k, shuffle=True, random_state=10)\n",
    "kf.get_n_splits(X)\n",
    "MSE_vec_kf = np.zeros(k)\n",
    "y_test_vec = np.array([])\n",
    "y_pred_vec = np.array([])\n",
    "\n",
    "k_ind = int(0)\n",
    "for train_index, test_index in kf.split(X):\n",
    "    print('k index=', k_ind)\n",
    "    X_train, X_test = X[train_index], X[test_index]\n",
    "    y_train, y_test = y[train_index], y[test_index]\n",
    "    y_test_vec = np.append(y_test_vec, y_test)\n",
    "    LogReg = LogisticRegression(multi_class='multinomial', solver='newton-cg')\n",
    "    LogReg.fit(X_train, y_train)\n",
    "    y_pred = LogReg.predict(X_test)\n",
    "    y_pred_vec = np.append(y_pred_vec, y_pred)\n",
    "    MSE_vec_kf[k_ind] = ((y_test - y_pred) ** 2).mean()\n",
    "    print('MSE for test set', k_ind, ' is', MSE_vec_kf[k_ind])\n",
    "    k_ind += 1\n",
    "\n",
    "MSE_kf = MSE_vec_kf.mean()\n",
    "MSE_kf_std = MSE_vec_kf.std()\n",
    "print('test estimate MSE k-fold=', MSE_kf,\n",
    "      'test estimate MSE standard err=', MSE_kf_std)"
   ]
  },
  {
   "cell_type": "markdown",
   "metadata": {},
   "source": [
    "Again, the error rates are higher than in parts a and b."
   ]
  },
  {
   "cell_type": "markdown",
   "metadata": {},
   "source": [
    "### 2.) Spline and kernal density interpolation"
   ]
  },
  {
   "cell_type": "code",
   "execution_count": 122,
   "metadata": {},
   "outputs": [
    {
     "data": {
      "text/html": [
       "<div>\n",
       "<style>\n",
       "    .dataframe thead tr:only-child th {\n",
       "        text-align: right;\n",
       "    }\n",
       "\n",
       "    .dataframe thead th {\n",
       "        text-align: left;\n",
       "    }\n",
       "\n",
       "    .dataframe tbody tr th {\n",
       "        vertical-align: top;\n",
       "    }\n",
       "</style>\n",
       "<table border=\"1\" class=\"dataframe\">\n",
       "  <thead>\n",
       "    <tr style=\"text-align: right;\">\n",
       "      <th></th>\n",
       "      <th>age</th>\n",
       "      <th>cool_score</th>\n",
       "    </tr>\n",
       "  </thead>\n",
       "  <tbody>\n",
       "    <tr>\n",
       "      <th>0</th>\n",
       "      <td>11.0</td>\n",
       "      <td>10.981602</td>\n",
       "    </tr>\n",
       "    <tr>\n",
       "      <th>1</th>\n",
       "      <td>11.0</td>\n",
       "      <td>11.364925</td>\n",
       "    </tr>\n",
       "    <tr>\n",
       "      <th>2</th>\n",
       "      <td>11.0</td>\n",
       "      <td>10.190227</td>\n",
       "    </tr>\n",
       "    <tr>\n",
       "      <th>3</th>\n",
       "      <td>11.0</td>\n",
       "      <td>9.903725</td>\n",
       "    </tr>\n",
       "    <tr>\n",
       "      <th>4</th>\n",
       "      <td>11.0</td>\n",
       "      <td>8.997918</td>\n",
       "    </tr>\n",
       "  </tbody>\n",
       "</table>\n",
       "</div>"
      ],
      "text/plain": [
       "    age  cool_score\n",
       "0  11.0   10.981602\n",
       "1  11.0   11.364925\n",
       "2  11.0   10.190227\n",
       "3  11.0    9.903725\n",
       "4  11.0    8.997918"
      ]
     },
     "execution_count": 122,
     "metadata": {},
     "output_type": "execute_result"
    }
   ],
   "source": [
    "# import data\n",
    "col_names = ['age', 'cool_score']\n",
    "cool = pd.read_csv('data/CoolIndex.txt', header=None, names=col_names)\n",
    "cool.head(5)"
   ]
  },
  {
   "cell_type": "markdown",
   "metadata": {
    "collapsed": true
   },
   "source": [
    "#### 2a) Scatterplot"
   ]
  },
  {
   "cell_type": "code",
   "execution_count": 123,
   "metadata": {},
   "outputs": [
    {
     "data": {
      "text/plain": [
       "<matplotlib.text.Text at 0x1c1980aba8>"
      ]
     },
     "execution_count": 123,
     "metadata": {},
     "output_type": "execute_result"
    },
    {
     "data": {
      "image/png": "[encoded data removed]",
      "text/plain": [
       "<matplotlib.figure.Figure at 0x1c198ec9b0>"
      ]
     },
     "metadata": {},
     "output_type": "display_data"
    }
   ],
   "source": [
    "plt.scatter(x=cool['age'], y=cool['cool_score'])\n",
    "plt.title('Scatterplot of Age & Coolness Index')\n",
    "plt.xlabel('age')\n",
    "plt.ylabel('Coolness Index Score')"
   ]
  },
  {
   "cell_type": "markdown",
   "metadata": {},
   "source": [
    "#### 2b) OLS & Stepwise Function"
   ]
  },
  {
   "cell_type": "code",
   "execution_count": 124,
   "metadata": {},
   "outputs": [
    {
     "data": {
      "text/html": [
       "<div>\n",
       "<style>\n",
       "    .dataframe thead tr:only-child th {\n",
       "        text-align: right;\n",
       "    }\n",
       "\n",
       "    .dataframe thead th {\n",
       "        text-align: left;\n",
       "    }\n",
       "\n",
       "    .dataframe tbody tr th {\n",
       "        vertical-align: top;\n",
       "    }\n",
       "</style>\n",
       "<table border=\"1\" class=\"dataframe\">\n",
       "  <thead>\n",
       "    <tr style=\"text-align: right;\">\n",
       "      <th></th>\n",
       "      <th>age_bin1</th>\n",
       "      <th>age_bin2</th>\n",
       "      <th>age_bin3</th>\n",
       "      <th>age_bin4</th>\n",
       "      <th>age_bin5</th>\n",
       "    </tr>\n",
       "  </thead>\n",
       "  <tbody>\n",
       "    <tr>\n",
       "      <th>count</th>\n",
       "      <td>956.000000</td>\n",
       "      <td>956.000000</td>\n",
       "      <td>956.000000</td>\n",
       "      <td>956.000000</td>\n",
       "      <td>956.000000</td>\n",
       "    </tr>\n",
       "    <tr>\n",
       "      <th>mean</th>\n",
       "      <td>0.162134</td>\n",
       "      <td>0.276151</td>\n",
       "      <td>0.285565</td>\n",
       "      <td>0.217573</td>\n",
       "      <td>0.058577</td>\n",
       "    </tr>\n",
       "    <tr>\n",
       "      <th>std</th>\n",
       "      <td>0.368767</td>\n",
       "      <td>0.447326</td>\n",
       "      <td>0.451919</td>\n",
       "      <td>0.412812</td>\n",
       "      <td>0.234955</td>\n",
       "    </tr>\n",
       "    <tr>\n",
       "      <th>min</th>\n",
       "      <td>0.000000</td>\n",
       "      <td>0.000000</td>\n",
       "      <td>0.000000</td>\n",
       "      <td>0.000000</td>\n",
       "      <td>0.000000</td>\n",
       "    </tr>\n",
       "    <tr>\n",
       "      <th>25%</th>\n",
       "      <td>0.000000</td>\n",
       "      <td>0.000000</td>\n",
       "      <td>0.000000</td>\n",
       "      <td>0.000000</td>\n",
       "      <td>0.000000</td>\n",
       "    </tr>\n",
       "    <tr>\n",
       "      <th>50%</th>\n",
       "      <td>0.000000</td>\n",
       "      <td>0.000000</td>\n",
       "      <td>0.000000</td>\n",
       "      <td>0.000000</td>\n",
       "      <td>0.000000</td>\n",
       "    </tr>\n",
       "    <tr>\n",
       "      <th>75%</th>\n",
       "      <td>0.000000</td>\n",
       "      <td>1.000000</td>\n",
       "      <td>1.000000</td>\n",
       "      <td>0.000000</td>\n",
       "      <td>0.000000</td>\n",
       "    </tr>\n",
       "    <tr>\n",
       "      <th>max</th>\n",
       "      <td>1.000000</td>\n",
       "      <td>1.000000</td>\n",
       "      <td>1.000000</td>\n",
       "      <td>1.000000</td>\n",
       "      <td>1.000000</td>\n",
       "    </tr>\n",
       "  </tbody>\n",
       "</table>\n",
       "</div>"
      ],
      "text/plain": [
       "         age_bin1    age_bin2    age_bin3    age_bin4    age_bin5\n",
       "count  956.000000  956.000000  956.000000  956.000000  956.000000\n",
       "mean     0.162134    0.276151    0.285565    0.217573    0.058577\n",
       "std      0.368767    0.447326    0.451919    0.412812    0.234955\n",
       "min      0.000000    0.000000    0.000000    0.000000    0.000000\n",
       "25%      0.000000    0.000000    0.000000    0.000000    0.000000\n",
       "50%      0.000000    0.000000    0.000000    0.000000    0.000000\n",
       "75%      0.000000    1.000000    1.000000    0.000000    0.000000\n",
       "max      1.000000    1.000000    1.000000    1.000000    1.000000"
      ]
     },
     "execution_count": 124,
     "metadata": {},
     "output_type": "execute_result"
    }
   ],
   "source": [
    "age = cool['age']\n",
    "cool_score = cool['cool_score']\n",
    "#split the data up into bins\n",
    "age_bin1 = ((age >= 11) & (age < 22)).astype(int) #astype(int) changes from true boolean to 0/1\n",
    "age_bin2 = ((age >= 22) & (age < 40)).astype(int)\n",
    "age_bin3 = ((age >= 40) & (age < 59)).astype(int)\n",
    "age_bin4 = ((age >= 59) & (age < 77)).astype(int)\n",
    "age_bin5 = (age >= 77).astype(int)\n",
    "X_step = pd.DataFrame(dict(age_bin1=age_bin1, age_bin2=age_bin2,\\\n",
    "                           age_bin3=age_bin3, age_bin4=age_bin4,\\\n",
    "                          age_bin5=age_bin5))\n",
    "X_step.describe()"
   ]
  },
  {
   "cell_type": "code",
   "execution_count": 125,
   "metadata": {},
   "outputs": [
    {
     "name": "stdout",
     "output_type": "stream",
     "text": [
      "                            OLS Regression Results                            \n",
      "==============================================================================\n",
      "Dep. Variable:             cool_score   R-squared:                       0.429\n",
      "Model:                            OLS   Adj. R-squared:                  0.427\n",
      "Method:                 Least Squares   F-statistic:                     178.7\n",
      "Date:                Sun, 18 Feb 2018   Prob (F-statistic):          3.73e-114\n",
      "Time:                        15:21:09   Log-Likelihood:                -3214.5\n",
      "No. Observations:                 956   AIC:                             6439.\n",
      "Df Residuals:                     951   BIC:                             6463.\n",
      "Df Model:                           4                                         \n",
      "Covariance Type:            nonrobust                                         \n",
      "==============================================================================\n",
      "                 coef    std err          t      P>|t|      [0.025      0.975]\n",
      "------------------------------------------------------------------------------\n",
      "age_bin1      20.1025      0.562     35.746      0.000      18.999      21.206\n",
      "age_bin2      34.4758      0.431     80.006      0.000      33.630      35.321\n",
      "age_bin3      37.6351      0.424     88.814      0.000      36.804      38.467\n",
      "age_bin4      35.2254      0.485     72.560      0.000      34.273      36.178\n",
      "age_bin5      27.2964      0.936     29.175      0.000      25.460      29.132\n",
      "==============================================================================\n",
      "Omnibus:                       80.102   Durbin-Watson:                   1.236\n",
      "Prob(Omnibus):                  0.000   Jarque-Bera (JB):              101.718\n",
      "Skew:                           0.714   Prob(JB):                     8.17e-23\n",
      "Kurtosis:                       3.719   Cond. No.                         2.21\n",
      "==============================================================================\n",
      "\n",
      "Warnings:\n",
      "[1] Standard Errors assume that the covariance matrix of the errors is correctly specified.\n"
     ]
    }
   ],
   "source": [
    "reg = sm.OLS(endog=cool_score, exog=X_step, missing='drop')\n",
    "reg_results = reg.fit()\n",
    "print(reg_results.summary())"
   ]
  },
  {
   "cell_type": "code",
   "execution_count": 126,
   "metadata": {},
   "outputs": [
    {
     "data": {
      "text/plain": [
       "[20.102457252090748,\n",
       " 34.475788077559386,\n",
       " 37.635105492449618,\n",
       " 35.225400040242754,\n",
       " 27.296378244321282]"
      ]
     },
     "execution_count": 126,
     "metadata": {},
     "output_type": "execute_result"
    }
   ],
   "source": [
    "# get the coefficients to plot piecewise function\n",
    "a1, a2, a3, a4, a5 = reg_results.params\n",
    "l = [a1, a2, a3, a4, a5]\n",
    "l"
   ]
  },
  {
   "cell_type": "code",
   "execution_count": 127,
   "metadata": {},
   "outputs": [
    {
     "data": {
      "image/png": "[encoded data removed]",
      "text/plain": [
       "<matplotlib.figure.Figure at 0x1c198dda90>"
      ]
     },
     "metadata": {},
     "output_type": "display_data"
    }
   ],
   "source": [
    "plt.scatter(x=cool['age'], y=cool['cool_score'])\n",
    "plt.plot([11, 22], [a1, a1], 'k-')\n",
    "plt.plot([22, 40], [a2, a2], 'k-')\n",
    "plt.plot([40, 59], [a3, a3], 'k-')\n",
    "plt.plot([59, 77], [a4, a4], 'k-')\n",
    "pw = plt.plot([77, 95], [a5, a5], 'k-', label=\"Piecewise\")\n",
    "plt.title('Piecewise Constant')\n",
    "plt.xlabel('age')\n",
    "plt.ylabel('Coolness Index Score')\n",
    "plt.legend()\n",
    "plt.show()"
   ]
  },
  {
   "cell_type": "code",
   "execution_count": 128,
   "metadata": {},
   "outputs": [
    {
     "name": "stdout",
     "output_type": "stream",
     "text": [
      "The predicted coolness of a 73 year-old from this step function is 35.2254000402\n"
     ]
    }
   ],
   "source": [
    "print(\"The predicted coolness of a 73 year-old from this step function is\", a4)"
   ]
  },
  {
   "cell_type": "markdown",
   "metadata": {},
   "source": [
    "#### 2c) Linear spline"
   ]
  },
  {
   "cell_type": "code",
   "execution_count": 129,
   "metadata": {},
   "outputs": [
    {
     "data": {
      "image/png": "[encoded data removed]",
      "text/plain": [
       "<matplotlib.figure.Figure at 0x1c19fc9710>"
      ]
     },
     "metadata": {},
     "output_type": "display_data"
    }
   ],
   "source": [
    "# plot original scatter & piecewise\n",
    "plt.scatter(x=cool['age'], y=cool['cool_score'])\n",
    "plt.plot([11, 22], [a1, a1], 'k-')\n",
    "plt.plot([22, 40], [a2, a2], 'k-')\n",
    "plt.plot([40, 59], [a3, a3], 'k-')\n",
    "plt.plot([59, 77], [a4, a4], 'k-')\n",
    "pw = plt.plot([77, 95], [a5, a5], 'k-', label='Piecewise')\n",
    "\n",
    "\n",
    "# plot linear spline against scatter and piecewise\n",
    "knots = [22, 40, 59, 77]\n",
    "spl = intpl.LSQUnivariateSpline(age.values, cool_score.values, knots, k=1)\n",
    "age_vec = np.linspace(age.values.min(), age.values.max(), 1000)\n",
    "linear = plt.plot(age_vec, spl(age_vec), 'r-', label='Linear Spline')\n",
    "\n",
    "# Give plot labels and show plot\n",
    "plt.xlabel('age')\n",
    "plt.ylabel('Coolness Index Score')\n",
    "plt.title(\"Linear spline, scatterplot, and piecewise\")\n",
    "plt.legend()\n",
    "plt.show()"
   ]
  },
  {
   "cell_type": "code",
   "execution_count": 130,
   "metadata": {},
   "outputs": [
    {
     "name": "stdout",
     "output_type": "stream",
     "text": [
      "The predicted coolness of a 73 year-old from the linear spline is 32.5291831125\n"
     ]
    }
   ],
   "source": [
    "index = [i for i,age in enumerate(age_vec) if age>72.5 and age<73.5 ]\n",
    "score = []\n",
    "for i in index:\n",
    "    score.append(spl(age_vec)[i])\n",
    "linear_pred = sum(score)/len(score)\n",
    "print(\"The predicted coolness of a 73 year-old from the linear spline is\", linear_pred)"
   ]
  },
  {
   "cell_type": "markdown",
   "metadata": {},
   "source": [
    "#### 2d) Cubic spline"
   ]
  },
  {
   "cell_type": "code",
   "execution_count": 131,
   "metadata": {},
   "outputs": [
    {
     "name": "stdout",
     "output_type": "stream",
     "text": [
      "(956,) (956,)\n",
      "count    956.000000\n",
      "mean      44.385983\n",
      "std       20.250954\n",
      "min       11.000000\n",
      "25%       27.000000\n",
      "50%       44.000000\n",
      "75%       60.000000\n",
      "max       95.000000\n",
      "Name: age, dtype: float64\n"
     ]
    }
   ],
   "source": [
    "print(cool_score.values.shape, age.values.shape)\n",
    "print(age.describe())"
   ]
  },
  {
   "cell_type": "code",
   "execution_count": 132,
   "metadata": {},
   "outputs": [
    {
     "data": {
      "image/png": "[encoded data removed]",
      "text/plain": [
       "<matplotlib.figure.Figure at 0x1c1a1369e8>"
      ]
     },
     "metadata": {},
     "output_type": "display_data"
    }
   ],
   "source": [
    "# plot original scatterplot and piecewise function\n",
    "plt.scatter(x=cool['age'], y=cool['cool_score'])\n",
    "plt.plot([11, 22], [a1, a1], 'k-')\n",
    "plt.plot([22, 40], [a2, a2], 'k-')\n",
    "plt.plot([40, 59], [a3, a3], 'k-')\n",
    "plt.plot([59, 77], [a4, a4], 'k-')\n",
    "pw = plt.plot([77, 95], [a5, a5], 'k-', label=\"Piecewise\")\n",
    "\n",
    "\n",
    "# plot linear spline against scatter and piecewise\n",
    "knots = [22, 40, 59, 77]\n",
    "spl = intpl.LSQUnivariateSpline(age.values, cool_score.values, knots, k=1)\n",
    "age_vec = np.linspace(age.values.min(), age.values.max(), 1000)\n",
    "linear = plt.plot(age_vec, spl(age_vec), 'r-', label=\"Linear Spline\")\n",
    "\n",
    "\n",
    "# plot cubric spline\n",
    "knots = [22, 40, 59, 77]\n",
    "spl = intpl.LSQUnivariateSpline(age.values, cool_score.values, knots, k=3)\n",
    "age_vec_cub = np.linspace(age.values.min(), age.values.max(), 1000)\n",
    "cubic = plt.plot(age_vec_cub, spl(age_vec_cub), 'b-', label=\"Cubic Spline\")\n",
    "\n",
    "# give plot labels and show plot\n",
    "plt.xlabel('age')\n",
    "plt.ylabel('Coolness Index Score')\n",
    "plt.title(\"Cubric, spline, Linear spline, scatterplot, and piecewise\")\n",
    "plt.legend()\n",
    "plt.show()"
   ]
  },
  {
   "cell_type": "code",
   "execution_count": 133,
   "metadata": {},
   "outputs": [
    {
     "name": "stdout",
     "output_type": "stream",
     "text": [
      "The predicted coolness of a 73 year-old from the cubic spline is 31.2561522552\n"
     ]
    }
   ],
   "source": [
    "index_c = [i for i,age in enumerate(age_vec_cub) if age>72.5 and age<73.5 ]\n",
    "score_c = []\n",
    "for i in index_c:\n",
    "    score_c.append(spl(age_vec_cub)[i])\n",
    "cubic_pred = sum(score_c)/len(score_c)\n",
    "print(\"The predicted coolness of a 73 year-old from the cubic spline is\", cubic_pred)"
   ]
  },
  {
   "cell_type": "code",
   "execution_count": null,
   "metadata": {
    "collapsed": true
   },
   "outputs": [],
   "source": []
  }
 ],
 "metadata": {
  "kernelspec": {
   "display_name": "Python 3",
   "language": "python",
   "name": "python3"
  },
  "language_info": {
   "codemirror_mode": {
    "name": "ipython",
    "version": 3
   },
   "file_extension": ".py",
   "mimetype": "text/x-python",
   "name": "python",
   "nbconvert_exporter": "python",
   "pygments_lexer": "ipython3",
   "version": "3.6.2"
  }
 },
 "nbformat": 4,
 "nbformat_minor": 2
}
