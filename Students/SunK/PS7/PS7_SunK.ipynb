{
 "cells": [
  {
   "cell_type": "markdown",
   "metadata": {},
   "source": [
    "## Problem Set 7 (March 5, 2017)\n",
    "## MACS 30100\n",
    "## Dr. Rick Evans\n",
    "## Kevin Sun"
   ]
  },
  {
   "cell_type": "code",
   "execution_count": 69,
   "metadata": {},
   "outputs": [],
   "source": [
    "import numpy as np\n",
    "import pandas as pd\n",
    "import sklearn\n",
    "from sklearn import preprocessing\n",
    "from sklearn.linear_model import LogisticRegression\n",
    "from sklearn.cross_validation import train_test_split\n",
    "from sklearn.metrics import classification_report, confusion_matrix\n",
    "from pylab import rcParams\n",
    "from sklearn.model_selection import KFold\n",
    "from sklearn.ensemble import RandomForestClassifier\n",
    "from sklearn.metrics import mean_squared_error\n",
    "from sklearn.tree import export_graphviz\n",
    "import graphviz\n",
    "from sklearn import svm"
   ]
  },
  {
   "cell_type": "code",
   "execution_count": 70,
   "metadata": {
    "collapsed": true
   },
   "outputs": [],
   "source": [
    "# read in data\n",
    "auto = pd.read_csv(\"Auto.csv\", na_values = \"?\")\n",
    "auto.dropna(inplace = True)\n",
    "auto['constant'] = 1"
   ]
  },
  {
   "cell_type": "code",
   "execution_count": 71,
   "metadata": {
    "collapsed": true
   },
   "outputs": [],
   "source": [
    "def mpg_high(mpg):\n",
    "    med = auto[\"mpg\"].median()\n",
    "    if mpg >= med:\n",
    "        mpg_high = 1\n",
    "    else:\n",
    "        mpg_high = 0\n",
    "    return mpg_high\n",
    "\n",
    "auto[\"mpg_high\"] = auto[\"mpg\"].apply(mpg_high)"
   ]
  },
  {
   "cell_type": "code",
   "execution_count": 72,
   "metadata": {},
   "outputs": [
    {
     "data": {
      "text/html": [
       "<div>\n",
       "<style>\n",
       "    .dataframe thead tr:only-child th {\n",
       "        text-align: right;\n",
       "    }\n",
       "\n",
       "    .dataframe thead th {\n",
       "        text-align: left;\n",
       "    }\n",
       "\n",
       "    .dataframe tbody tr th {\n",
       "        vertical-align: top;\n",
       "    }\n",
       "</style>\n",
       "<table border=\"1\" class=\"dataframe\">\n",
       "  <thead>\n",
       "    <tr style=\"text-align: right;\">\n",
       "      <th></th>\n",
       "      <th>mpg</th>\n",
       "      <th>cylinders</th>\n",
       "      <th>displacement</th>\n",
       "      <th>horsepower</th>\n",
       "      <th>weight</th>\n",
       "      <th>acceleration</th>\n",
       "      <th>year</th>\n",
       "      <th>origin</th>\n",
       "      <th>name</th>\n",
       "      <th>constant</th>\n",
       "      <th>mpg_high</th>\n",
       "    </tr>\n",
       "  </thead>\n",
       "  <tbody>\n",
       "    <tr>\n",
       "      <th>0</th>\n",
       "      <td>18.0</td>\n",
       "      <td>8</td>\n",
       "      <td>307.0</td>\n",
       "      <td>130.0</td>\n",
       "      <td>3504</td>\n",
       "      <td>12.0</td>\n",
       "      <td>70</td>\n",
       "      <td>1</td>\n",
       "      <td>chevrolet chevelle malibu</td>\n",
       "      <td>1</td>\n",
       "      <td>0</td>\n",
       "    </tr>\n",
       "    <tr>\n",
       "      <th>1</th>\n",
       "      <td>15.0</td>\n",
       "      <td>8</td>\n",
       "      <td>350.0</td>\n",
       "      <td>165.0</td>\n",
       "      <td>3693</td>\n",
       "      <td>11.5</td>\n",
       "      <td>70</td>\n",
       "      <td>1</td>\n",
       "      <td>buick skylark 320</td>\n",
       "      <td>1</td>\n",
       "      <td>0</td>\n",
       "    </tr>\n",
       "    <tr>\n",
       "      <th>2</th>\n",
       "      <td>18.0</td>\n",
       "      <td>8</td>\n",
       "      <td>318.0</td>\n",
       "      <td>150.0</td>\n",
       "      <td>3436</td>\n",
       "      <td>11.0</td>\n",
       "      <td>70</td>\n",
       "      <td>1</td>\n",
       "      <td>plymouth satellite</td>\n",
       "      <td>1</td>\n",
       "      <td>0</td>\n",
       "    </tr>\n",
       "    <tr>\n",
       "      <th>3</th>\n",
       "      <td>16.0</td>\n",
       "      <td>8</td>\n",
       "      <td>304.0</td>\n",
       "      <td>150.0</td>\n",
       "      <td>3433</td>\n",
       "      <td>12.0</td>\n",
       "      <td>70</td>\n",
       "      <td>1</td>\n",
       "      <td>amc rebel sst</td>\n",
       "      <td>1</td>\n",
       "      <td>0</td>\n",
       "    </tr>\n",
       "    <tr>\n",
       "      <th>4</th>\n",
       "      <td>17.0</td>\n",
       "      <td>8</td>\n",
       "      <td>302.0</td>\n",
       "      <td>140.0</td>\n",
       "      <td>3449</td>\n",
       "      <td>10.5</td>\n",
       "      <td>70</td>\n",
       "      <td>1</td>\n",
       "      <td>ford torino</td>\n",
       "      <td>1</td>\n",
       "      <td>0</td>\n",
       "    </tr>\n",
       "  </tbody>\n",
       "</table>\n",
       "</div>"
      ],
      "text/plain": [
       "    mpg  cylinders  displacement  horsepower  weight  acceleration  year  \\\n",
       "0  18.0          8         307.0       130.0    3504          12.0    70   \n",
       "1  15.0          8         350.0       165.0    3693          11.5    70   \n",
       "2  18.0          8         318.0       150.0    3436          11.0    70   \n",
       "3  16.0          8         304.0       150.0    3433          12.0    70   \n",
       "4  17.0          8         302.0       140.0    3449          10.5    70   \n",
       "\n",
       "   origin                       name  constant  mpg_high  \n",
       "0       1  chevrolet chevelle malibu         1         0  \n",
       "1       1          buick skylark 320         1         0  \n",
       "2       1         plymouth satellite         1         0  \n",
       "3       1              amc rebel sst         1         0  \n",
       "4       1                ford torino         1         0  "
      ]
     },
     "execution_count": 72,
     "metadata": {},
     "output_type": "execute_result"
    }
   ],
   "source": [
    "auto.head(5)"
   ]
  },
  {
   "cell_type": "markdown",
   "metadata": {},
   "source": [
    "### 1a) Logistic Model"
   ]
  },
  {
   "cell_type": "code",
   "execution_count": 73,
   "metadata": {},
   "outputs": [],
   "source": [
    "X = auto[[\"constant\",\"cylinders\", \"displacement\", \\\n",
    "                 \"horsepower\", \"weight\", \"acceleration\", \"year\", \"origin\"]].values\n",
    "y = auto['mpg_high'].values"
   ]
  },
  {
   "cell_type": "code",
   "execution_count": 74,
   "metadata": {},
   "outputs": [
    {
     "name": "stdout",
     "output_type": "stream",
     "text": [
      "k index= 0\n",
      "\n",
      "              precision    recall  f1-score   support\n",
      "\n",
      "          0      0.942     0.891     0.916        55\n",
      "          1      0.870     0.930     0.899        43\n",
      "\n",
      "avg / total      0.910     0.908     0.908        98\n",
      "\n",
      "MSE for test set 0  is 0.0918367346939\n",
      "______________________________________________________\n",
      "\n",
      "k index= 1\n",
      "\n",
      "              precision    recall  f1-score   support\n",
      "\n",
      "          0      0.878     0.915     0.896        47\n",
      "          1      0.918     0.882     0.900        51\n",
      "\n",
      "avg / total      0.899     0.898     0.898        98\n",
      "\n",
      "MSE for test set 1  is 0.102040816327\n",
      "______________________________________________________\n",
      "\n",
      "k index= 2\n",
      "\n",
      "              precision    recall  f1-score   support\n",
      "\n",
      "          0      0.848     0.867     0.857        45\n",
      "          1      0.885     0.868     0.876        53\n",
      "\n",
      "avg / total      0.868     0.867     0.867        98\n",
      "\n",
      "MSE for test set 2  is 0.132653061224\n",
      "______________________________________________________\n",
      "\n",
      "k index= 3\n",
      "\n",
      "              precision    recall  f1-score   support\n",
      "\n",
      "          0      0.953     0.837     0.891        49\n",
      "          1      0.855     0.959     0.904        49\n",
      "\n",
      "avg / total      0.904     0.898     0.898        98\n",
      "\n",
      "MSE for test set 3  is 0.102040816327\n",
      "______________________________________________________\n",
      "\n",
      "Test estimate MSE k-fold = 0.107142857143\n",
      "\n",
      "Test estimate MSE standard err = 0.015306122449\n"
     ]
    }
   ],
   "source": [
    "k=4\n",
    "kf = KFold(n_splits=k, shuffle=True, random_state=15)\n",
    "kf.get_n_splits(X)\n",
    "MSE_vec_kf = np.zeros(k)\n",
    "y_test_vec = np.array([])\n",
    "y_pred_vec = np.array([])\n",
    "\n",
    "k_ind = int(0)\n",
    "for train_index, test_index in kf.split(X):\n",
    "    print('k index=', k_ind)\n",
    "    X_train, X_test = X[train_index], X[test_index]\n",
    "    y_train, y_test = y[train_index], y[test_index]\n",
    "    y_test_vec = np.append(y_test_vec, y_test)\n",
    "    LogReg = LogisticRegression(fit_intercept=True)\n",
    "    LogReg.fit(X_train, y_train)\n",
    "    y_pred = LogReg.predict(X_test)\n",
    "    y_pred_vec = np.append(y_pred_vec, y_pred)\n",
    "    MSE_vec_kf[k_ind] = ((y_test - y_pred) ** 2).mean()\n",
    "    print('\\n',classification_report(y_test, y_pred, digits=3))\n",
    "    print('MSE for test set', k_ind, ' is', MSE_vec_kf[k_ind])\n",
    "    print(\"______________________________________________________\")\n",
    "    print()\n",
    "    k_ind += 1\n",
    "\n",
    "MSE_kf = MSE_vec_kf.mean()\n",
    "MSE_kf_std = MSE_vec_kf.std()\n",
    "print('Test estimate MSE k-fold =', MSE_kf)\n",
    "print()\n",
    "print('Test estimate MSE standard err =', MSE_kf_std)"
   ]
  },
  {
   "cell_type": "markdown",
   "metadata": {},
   "source": [
    "### 1b) Random Forest Model"
   ]
  },
  {
   "cell_type": "code",
   "execution_count": 66,
   "metadata": {
    "collapsed": true
   },
   "outputs": [],
   "source": [
    "X = auto[[\"constant\",\"cylinders\", \"displacement\", \\\n",
    "                 \"horsepower\", \"weight\", \"acceleration\", \"year\", \"origin\"]].values\n",
    "y = auto['mpg_high'].values"
   ]
  },
  {
   "cell_type": "code",
   "execution_count": 77,
   "metadata": {},
   "outputs": [
    {
     "name": "stdout",
     "output_type": "stream",
     "text": [
      "The MSE of the random forest model is: 0.0790816326531\n"
     ]
    }
   ],
   "source": [
    "B = 20\n",
    "m = 2\n",
    "random_forest = RandomForestClassifier(n_estimators=B, max_features=m, bootstrap=True,\n",
    "                                  oob_score=True, random_state=25)\n",
    "random_forest.fit(X, y)\n",
    "\n",
    "random_forest.score(X, y)\n",
    "rf_pred = random_forest.oob_decision_function_\n",
    "MSE_rf = pd.DataFrame({'ypred' : rf_pred.T[1], 'yvals': y})\n",
    "MSE_rf['ypred'] = MSE_rf['ypred'].apply(lambda x: 1 if x >= 0.5 else 0)\n",
    "MSE_model = mean_squared_error(MSE_rf['yvals'], MSE_rf['ypred'])\n",
    "print('The MSE of the random forest model is:',MSE_model)"
   ]
  },
  {
   "cell_type": "code",
   "execution_count": 78,
   "metadata": {},
   "outputs": [
    {
     "name": "stdout",
     "output_type": "stream",
     "text": [
      "The MSE of the mpg_high = 0 is: 0.0725388601036\n"
     ]
    }
   ],
   "source": [
    "MSE_rf_0 = MSE_rf[MSE_rf['ypred'] < 0.5]\n",
    "MSE_0 = mean_squared_error(MSE_rf_0['yvals'], MSE_rf_0['ypred'])\n",
    "print('The MSE of the mpg_high = 0 is:',MSE_0)"
   ]
  },
  {
   "cell_type": "code",
   "execution_count": 79,
   "metadata": {},
   "outputs": [
    {
     "name": "stdout",
     "output_type": "stream",
     "text": [
      "The MSE of the mpg_high = 1 is: 0.0854271356784\n"
     ]
    }
   ],
   "source": [
    "MSE_rf_1 = MSE_rf[MSE_rf['ypred'] >= 0.5]\n",
    "MSE_1 = mean_squared_error(MSE_rf_1['yvals'], MSE_rf_1['ypred'])\n",
    "print('The MSE of the mpg_high = 1 is:',MSE_1)"
   ]
  },
  {
   "cell_type": "markdown",
   "metadata": {},
   "source": [
    "### 1c) Support Vector Machines Model"
   ]
  },
  {
   "cell_type": "code",
   "execution_count": 83,
   "metadata": {},
   "outputs": [
    {
     "name": "stdout",
     "output_type": "stream",
     "text": [
      "k index= 0\n",
      "\n",
      "              precision    recall  f1-score   support\n",
      "\n",
      "          0      1.000     0.036     0.070        55\n",
      "          1      0.448     1.000     0.619        43\n",
      "\n",
      "avg / total      0.758     0.459     0.311        98\n",
      "\n",
      "MSE for test set 0  is 0.540816326531\n",
      "______________________________________________________\n",
      "\n",
      "k index= 1\n",
      "\n",
      "              precision    recall  f1-score   support\n",
      "\n",
      "          0      0.480     1.000     0.648        47\n",
      "          1      0.000     0.000     0.000        51\n",
      "\n",
      "avg / total      0.230     0.480     0.311        98\n",
      "\n",
      "MSE for test set 1  is 0.520408163265\n",
      "______________________________________________________\n",
      "\n",
      "k index= 2\n",
      "\n",
      "              precision    recall  f1-score   support\n",
      "\n",
      "          0      0.469     1.000     0.638        45\n",
      "          1      1.000     0.038     0.073        53\n",
      "\n",
      "avg / total      0.756     0.480     0.332        98\n",
      "\n",
      "MSE for test set 2  is 0.520408163265\n",
      "______________________________________________________\n",
      "\n",
      "k index= 3\n",
      "\n",
      "              precision    recall  f1-score   support\n",
      "\n",
      "          0      0.527     1.000     0.690        49\n",
      "          1      1.000     0.102     0.185        49\n",
      "\n",
      "avg / total      0.763     0.551     0.438        98\n",
      "\n",
      "MSE for test set 3  is 0.448979591837\n",
      "______________________________________________________\n",
      "\n",
      "The average error rate of mpg_high = 0 is 0.381194110709\n",
      "\n",
      "The average error rate of mpg_high = 1 is 0.184027777778\n",
      "\n",
      "The average MSE of the SVM model is 0.507653061224\n"
     ]
    },
    {
     "name": "stderr",
     "output_type": "stream",
     "text": [
      "/Users/kevinsun/anaconda3/lib/python3.6/site-packages/ipykernel_launcher.py:22: RuntimeWarning: invalid value encountered in long_scalars\n",
      "/Users/kevinsun/anaconda3/lib/python3.6/site-packages/sklearn/metrics/classification.py:1135: UndefinedMetricWarning: Precision and F-score are ill-defined and being set to 0.0 in labels with no predicted samples.\n",
      "  'precision', 'predicted', average, warn_for)\n"
     ]
    }
   ],
   "source": [
    "k=4\n",
    "kf = KFold(n_splits=k, shuffle=True, random_state=15)\n",
    "kf.get_n_splits(X)\n",
    "SVM_MSE = np.zeros(k)\n",
    "#y_test_vec = np.array([])\n",
    "#y_pred_vec = np.array([])\n",
    "SVM_error_0 = np.zeros(k)\n",
    "SVM_error_1 = np.zeros(k)\n",
    "\n",
    "k_ind = int(0)\n",
    "for train_index, test_index in kf.split(X):\n",
    "    print('k index=', k_ind)\n",
    "    X_train, X_test = X[train_index], X[test_index]\n",
    "    y_train, y_test = y[train_index], y[test_index]\n",
    "    y_test_vec = np.append(y_test_vec, y_test)\n",
    "    svc = svm.SVC(kernel='rbf', gamma = 0.2, C=1)\n",
    "    svc.fit(X_train, y_train)\n",
    "    y_pred = svc.predict(X_test)\n",
    "    error = y_test != y_pred\n",
    "    error_all_class = error.mean()\n",
    "    error_0 = ((y_pred == 0) * error).sum() / (y_pred == 0).sum() \n",
    "    error_1 = ((y_pred == 1) * error).sum() / (y_pred == 1).sum()\n",
    "    SVM_error_0[k_ind] = error_0\n",
    "    SVM_error_1[k_ind] = error_1\n",
    "    #y_pred_vec = np.append(y_pred_vec, y_pred)\n",
    "    SVM_MSE[k_ind] = ((y_test - y_pred) ** 2).mean()\n",
    "    print('\\n',classification_report(y_test, y_pred, digits=3))\n",
    "    print('MSE for test set', k_ind, ' is', MSE_vec_kf[k_ind])\n",
    "    print(\"______________________________________________________\")\n",
    "    print()\n",
    "    k_ind += 1\n",
    "\n",
    "SVM_error_0 = SVM_error_0[~np.isnan(SVM_error_0)]\n",
    "print('The average error rate of mpg_high = 0 is', SVM_error_0.mean())\n",
    "print()\n",
    "SVM_error_1 = SVM_error_1[~np.isnan(SVM_error_1)]\n",
    "print('The average error rate of mpg_high = 1 is', SVM_error_1.mean())\n",
    "print()\n",
    "print('The average MSE of the SVM model is', SVM_MSE.mean())"
   ]
  },
  {
   "cell_type": "markdown",
   "metadata": {},
   "source": [
    "### 1d) Conclusion"
   ]
  },
  {
   "cell_type": "markdown",
   "metadata": {},
   "source": [
    "With an average MSE of 0.0790816326531 the Random Forest model is the best predictor of *mpg_high*."
   ]
  },
  {
   "cell_type": "code",
   "execution_count": null,
   "metadata": {
    "collapsed": true
   },
   "outputs": [],
   "source": []
  }
 ],
 "metadata": {
  "kernelspec": {
   "display_name": "Python 3",
   "language": "python",
   "name": "python3"
  },
  "language_info": {
   "codemirror_mode": {
    "name": "ipython",
    "version": 3
   },
   "file_extension": ".py",
   "mimetype": "text/x-python",
   "name": "python",
   "nbconvert_exporter": "python",
   "pygments_lexer": "ipython3",
   "version": "3.6.2"
  }
 },
 "nbformat": 4,
 "nbformat_minor": 2
}
