{
 "cells": [
  {
   "cell_type": "markdown",
   "metadata": {},
   "source": [
    "# Problem set #5\n",
    "### by Alexander Tyan, February 18, 2018"
   ]
  },
  {
   "cell_type": "markdown",
   "metadata": {},
   "source": [
    "## 1).\n",
    "### a). Use a multinomial logistic regression model of the following form with the following linear predictor \u0011j for j = 1; 2 (the baseline class is j = 3)"
   ]
  },
  {
   "cell_type": "code",
   "execution_count": 237,
   "metadata": {},
   "outputs": [],
   "source": [
    "import pandas as pd\n",
    "import numpy as np\n",
    "from sklearn.cross_validation import train_test_split\n",
    "from sklearn.metrics import classification_report, confusion_matrix\n",
    "from sklearn.model_selection import LeaveOneOut, KFold\n",
    "from sklearn.linear_model import LogisticRegression\n",
    "import seaborn as sns\n",
    "import matplotlib.pyplot as plt\n",
    "import statsmodels.api as sm\n",
    "#%matplotlib inline\n",
    "#%matplotlib notebook"
   ]
  },
  {
   "cell_type": "code",
   "execution_count": 238,
   "metadata": {
    "collapsed": true
   },
   "outputs": [],
   "source": [
    "# Import dataset as pandas df:\n",
    "df = pd.read_csv(\"data/strongdrink.txt\")"
   ]
  },
  {
   "cell_type": "code",
   "execution_count": 239,
   "metadata": {},
   "outputs": [
    {
     "data": {
      "text/plain": [
       "cultivar     0\n",
       "alco         0\n",
       "malic        0\n",
       "tot_phen     0\n",
       "color_int    0\n",
       "dtype: int64"
      ]
     },
     "execution_count": 239,
     "metadata": {},
     "output_type": "execute_result"
    }
   ],
   "source": [
    "# We want alco, malic, tot_phen, and color_int as future independent vars, \n",
    "# cultivar as categorical response:\n",
    "df = df[[\"cultivar\", \"alco\", \"malic\", \"tot_phen\", \"color_int\"]]\n",
    "# Check for missing values:\n",
    "df.isnull().sum()"
   ]
  },
  {
   "cell_type": "code",
   "execution_count": 240,
   "metadata": {
    "collapsed": true
   },
   "outputs": [],
   "source": [
    "# Dependent/independent variables:\n",
    "X = df[[\"alco\", \"malic\", \"tot_phen\", \"color_int\"]]\n",
    "y = df[[\"cultivar\"]]"
   ]
  },
  {
   "cell_type": "code",
   "execution_count": 241,
   "metadata": {
    "collapsed": true
   },
   "outputs": [],
   "source": [
    "# 75% sample training set:\n",
    "X_train, X_test, y_train, y_test = \\\n",
    "train_test_split(X, y, test_size = 0.25, random_state=20)"
   ]
  },
  {
   "cell_type": "code",
   "execution_count": 242,
   "metadata": {},
   "outputs": [
    {
     "name": "stderr",
     "output_type": "stream",
     "text": [
      "/Users/alexander/anaconda3/lib/python3.6/site-packages/sklearn/utils/validation.py:578: DataConversionWarning: A column-vector y was passed when a 1d array was expected. Please change the shape of y to (n_samples, ), for example using ravel().\n",
      "  y = column_or_1d(y, warn=True)\n"
     ]
    }
   ],
   "source": [
    "# Train to fit a multinomial logistic regression:\n",
    "MultLogReg = LogisticRegression(multi_class='multinomial',\n",
    "                                solver='newton-cg')\n",
    "MultLogReg.fit(X_train, y_train)\n",
    "# Predict response based on test indep. vars.:\n",
    "y_pred = MultLogReg.predict(X_test)"
   ]
  },
  {
   "cell_type": "code",
   "execution_count": 243,
   "metadata": {},
   "outputs": [
    {
     "name": "stdout",
     "output_type": "stream",
     "text": [
      "Estimated Coefficients:\n",
      "[-24.01128406  22.80206034   1.20922372]\n",
      "[[ 1.70042763 -0.26560802  1.22389493  0.02275095]\n",
      " [-1.46801436 -0.33305176  0.66400715 -0.92271029]\n",
      " [-0.23241342  0.5986597  -1.88790213  0.89995925]]\n"
     ]
    }
   ],
   "source": [
    "print(\"Estimated Coefficients:\")\n",
    "print(MultLogReg.intercept_)\n",
    "print(MultLogReg.coef_)"
   ]
  },
  {
   "cell_type": "markdown",
   "metadata": {},
   "source": [
    "So estimated coefficients for j = 1: \n",
    "\n",
    "$\\beta_{1,0} = -24.01128406$ \n",
    "\n",
    "$\\beta_{1,1} = 1.70042763$\n",
    "\n",
    "$\\beta_{1,2} = -0.26560802$\n",
    "\n",
    "$\\beta_{1,3} = 1.22389493$\n",
    "\n",
    "$\\beta_{1,4} = 0.02275095$\n",
    "\n",
    "\n",
    "So estimated coefficients for j = 2: \n",
    "\n",
    "$\\beta_{2,0} = 22.80206034$ \n",
    "\n",
    "$\\beta_{2,1} = -1.46801436$\n",
    "\n",
    "$\\beta_{2,2} = -0.33305176$\n",
    "\n",
    "$\\beta_{2,3} = 0.66400715$\n",
    "\n",
    "$\\beta_{2,4} = -0.92271029$\n"
   ]
  },
  {
   "cell_type": "code",
   "execution_count": 244,
   "metadata": {},
   "outputs": [
    {
     "name": "stdout",
     "output_type": "stream",
     "text": [
      "             precision    recall  f1-score   support\n",
      "\n",
      "          1       0.87      1.00      0.93        13\n",
      "          2       1.00      0.90      0.95        21\n",
      "          3       1.00      1.00      1.00        10\n",
      "\n",
      "avg / total       0.96      0.95      0.96        44\n",
      "\n",
      "Error Rates:\n",
      "Error rate for cultivar j = 1: 0.13\n",
      "Error rate for cultivar j = 2: 0\n",
      "Error rate for cultivar j = 3: 0\n"
     ]
    }
   ],
   "source": [
    "classification = classification_report(y_test, y_pred)\n",
    "print(classification)\n",
    "# Error rates:\n",
    "print(\"Error Rates:\")\n",
    "# For cultivar 1:\n",
    "print(\"Error rate for cultivar j = 1:\", 1 - 0.87)\n",
    "# For cultivar 2:\n",
    "print(\"Error rate for cultivar j = 2:\", 1 - 1)\n",
    "# For cultivar 3:\n",
    "print(\"Error rate for cultivar j = 3:\", 1 - 1)"
   ]
  },
  {
   "cell_type": "code",
   "execution_count": 245,
   "metadata": {},
   "outputs": [
    {
     "data": {
      "text/plain": [
       "array([[13,  0,  0],\n",
       "       [ 2, 19,  0],\n",
       "       [ 0,  0, 10]])"
      ]
     },
     "execution_count": 245,
     "metadata": {},
     "output_type": "execute_result"
    }
   ],
   "source": [
    "# See false positives/negatives:\n",
    "confusion_matrix = confusion_matrix(y_test, y_pred)\n",
    "confusion_matrix"
   ]
  },
  {
   "cell_type": "markdown",
   "metadata": {},
   "source": [
    "Between categories j = 1 and j = 2, category two is perfectly predicted and it does have the most observations. However, between j = 1, j = 2, and j = 3, both j = 2 and j = 3 are equal in precision (100% of true positives). However, j = 3 is the category that has better recall (true positives over all actual category two cases). So category 3 is predicted best and it is the one with the least observations (The category best predicted is not the one with the most observations.)"
   ]
  },
  {
   "cell_type": "markdown",
   "metadata": {},
   "source": [
    "### b). Perform a leave-one-out cross validation (LOOCV) with the model from part (a)."
   ]
  },
  {
   "cell_type": "code",
   "execution_count": 246,
   "metadata": {
    "collapsed": true
   },
   "outputs": [],
   "source": [
    "# Indicator function:\n",
    "def indicator(y_test_val, y_pred_val):\n",
    "    \"\"\"\n",
    "    Indicator function, returns 1 if the predicted\n",
    "    value is the same as the test value, 0 otherwise.\n",
    "    y_test_val: integer\n",
    "    y_pred_val: integer\n",
    "    return: integer, 0 or 1\n",
    "    \"\"\"\n",
    "    if y_test_val == y_pred_val:\n",
    "        return 1\n",
    "    else:\n",
    "        return 0"
   ]
  },
  {
   "cell_type": "code",
   "execution_count": 247,
   "metadata": {},
   "outputs": [
    {
     "name": "stderr",
     "output_type": "stream",
     "text": [
      "/Users/alexander/anaconda3/lib/python3.6/site-packages/sklearn/utils/validation.py:578: DataConversionWarning: A column-vector y was passed when a 1d array was expected. Please change the shape of y to (n_samples, ), for example using ravel().\n",
      "  y = column_or_1d(y, warn=True)\n"
     ]
    }
   ],
   "source": [
    "# Separate into dependent/indepndent vars Numpy arrays:\n",
    "Xvars = df[[\"alco\", \"malic\", \"tot_phen\", \"color_int\"]].values\n",
    "yvals = df[[\"cultivar\"]].values\n",
    "\n",
    "results_df = pd.DataFrame(columns=[\"y_test\", \"y_pred\", \"MSE\"])\n",
    "\n",
    "loo = LeaveOneOut()\n",
    "#loo.get_n_splits(Xvars)\n",
    "for train_index, test_index in loo.split(Xvars):\n",
    "    X_train, X_test = Xvars[train_index], Xvars[test_index]\n",
    "    y_train, y_test = yvals[train_index], yvals[test_index]\n",
    "    MultLogReg = LogisticRegression(multi_class='multinomial', \n",
    "                                    solver='newton-cg')\n",
    "    MultLogReg.fit(X_train, y_train)\n",
    "    y_pred = MultLogReg.predict(X_test)\n",
    "    y_test_int = y_test[0][0]\n",
    "    y_pred_int = y_pred[0]\n",
    "    one_mse = (1 - indicator(y_test_int, y_pred_int)) ** 2\n",
    "    results_df.loc[test_index[0]] = [y_test_int, y_pred_int, one_mse]\n",
    "\n",
    "# Enforce integer dtypes:\n",
    "results_df[[\"y_test\", \"y_pred\", \"MSE\"]] = results_df[[\"y_test\", \"y_pred\", \"MSE\"]].apply(pd.to_numeric)"
   ]
  },
  {
   "cell_type": "markdown",
   "metadata": {},
   "source": [
    "### Report your error rates (1 - precision) for each category? How do your error rates compare to those from part (a)?"
   ]
  },
  {
   "cell_type": "code",
   "execution_count": 248,
   "metadata": {},
   "outputs": [
    {
     "name": "stdout",
     "output_type": "stream",
     "text": [
      "             precision    recall  f1-score   support\n",
      "\n",
      "          1       0.90      0.93      0.92        59\n",
      "          2       0.91      0.90      0.91        71\n",
      "          3       0.96      0.93      0.95        46\n",
      "\n",
      "avg / total       0.92      0.92      0.92       176\n",
      "\n",
      "Error Rates:\n",
      "Error rate for cultivar j = 1: 0.09999999999999998\n",
      "Error rate for cultivar j = 2: 0.08999999999999997\n",
      "Error rate for cultivar j = 3: 0.040000000000000036\n"
     ]
    }
   ],
   "source": [
    "classification = classification_report(results_df[\"y_test\"], results_df[\"y_pred\"])\n",
    "print(classification)\n",
    "\n",
    "# Error rates:\n",
    "print(\"Error Rates:\")\n",
    "# For cultivar 1:\n",
    "print(\"Error rate for cultivar j = 1:\", 1 - 0.90)\n",
    "# For cultivar 2:\n",
    "print(\"Error rate for cultivar j = 2:\", 1 - 0.91)\n",
    "# For cultivar 3:\n",
    "print(\"Error rate for cultivar j = 3:\", 1 - 0.96)"
   ]
  },
  {
   "cell_type": "markdown",
   "metadata": {},
   "source": [
    "Previous rates in part (a) were:\n",
    "\n",
    "Error rate for cultivar j = 1: 0.13\n",
    "\n",
    "Error rate for cultivar j = 2: 0\n",
    "\n",
    "Error rate for cultivar j = 3: 0\n",
    "\n",
    "\n",
    "Our new error rate for j = 1 category is better (smaller) (0.10 vs 0.13), but our rates for j = 2 and j = 3 are worse (.09 vs 0 and .04 vs 0 respectively) (zeros are pretty hard to beat, I guess).\n"
   ]
  },
  {
   "cell_type": "markdown",
   "metadata": {},
   "source": [
    "### Report your LOOCV estimate for the test MSE as the average MSE, where yi is the left out observation from each test set"
   ]
  },
  {
   "cell_type": "code",
   "execution_count": 249,
   "metadata": {},
   "outputs": [
    {
     "name": "stdout",
     "output_type": "stream",
     "text": [
      "test estimate MSE loocv =  0.07954545454545454\n",
      "test estimate MSE standard err =  0.2713602101199873\n"
     ]
    }
   ],
   "source": [
    "MSE_loo = results_df[\"MSE\"].mean()\n",
    "MSE_loo_std = results_df[\"MSE\"].std()\n",
    "print('test estimate MSE loocv = ', MSE_loo)\n",
    "print(\"test estimate MSE standard err = \", MSE_loo_std)"
   ]
  },
  {
   "cell_type": "markdown",
   "metadata": {
    "collapsed": true
   },
   "source": [
    "### c). Perform a k-fold cross validation in which the data are divided into k = 4 groups."
   ]
  },
  {
   "cell_type": "code",
   "execution_count": 250,
   "metadata": {
    "collapsed": true
   },
   "outputs": [],
   "source": [
    "# Indicator function:\n",
    "def indicator_2(y_test_array, y_pred_array):\n",
    "    \"\"\"\n",
    "    Indicator function, returns 1 if the predicted\n",
    "    value is the same as the test value, 0 otherwise.\n",
    "    y_test_val: integer\n",
    "    y_pred_val: integer\n",
    "    return: integer, 0 or 1\n",
    "    \"\"\"\n",
    "    array = (y_test_array == y_pred_array)\n",
    "    return array.astype(int)"
   ]
  },
  {
   "cell_type": "code",
   "execution_count": 251,
   "metadata": {},
   "outputs": [
    {
     "name": "stderr",
     "output_type": "stream",
     "text": [
      "/Users/alexander/anaconda3/lib/python3.6/site-packages/sklearn/utils/validation.py:578: DataConversionWarning: A column-vector y was passed when a 1d array was expected. Please change the shape of y to (n_samples, ), for example using ravel().\n",
      "  y = column_or_1d(y, warn=True)\n"
     ]
    }
   ],
   "source": [
    "k = 4\n",
    "kf = KFold(n_splits=k, shuffle=True, random_state=10)\n",
    "kf.get_n_splits(X)\n",
    "\n",
    "results_df_kf = pd.DataFrame(columns=[\"y_test\", \"y_pred\", \"MSE\"])\n",
    "\n",
    "MSE_vec_kf = np.zeros(k)\n",
    "\n",
    "k_ind = int(0)\n",
    "for train_index, test_index in kf.split(Xvars):\n",
    "    X_train, X_test = Xvars[train_index], Xvars[test_index]\n",
    "    y_train, y_test = yvals[train_index], yvals[test_index]\n",
    "    MultLogReg = LogisticRegression(multi_class='multinomial', \n",
    "                                    solver='newton-cg')\n",
    "    MultLogReg.fit(X_train, y_train)\n",
    "    y_pred = MultLogReg.predict(X_test)\n",
    "    df1 = pd.DataFrame(y_test[:, 0], columns=[\"y_test\"])\n",
    "    df2 = pd.DataFrame(y_pred, columns=[\"y_pred\"])\n",
    "    df_concat = pd.concat([df1, df2], axis=1)\n",
    "    one_MSE = (1 - indicator_2(df_concat[\"y_test\"], df_concat[\"y_pred\"])) ** 2\n",
    "    df_concat[\"MSE\"] = one_MSE\n",
    "    results_df_kf = results_df_kf.append(df_concat)\n",
    "    MSE_vec_kf[k_ind] = one_MSE.mean()\n",
    "    k_ind += 1\n",
    "\n",
    "# Enforce integer dtypes:\n",
    "results_df_kf[[\"y_test\", \"y_pred\", \"MSE\"]] = results_df_kf[[\"y_test\", \"y_pred\", \"MSE\"]].apply(pd.to_numeric)"
   ]
  },
  {
   "cell_type": "markdown",
   "metadata": {},
   "source": [
    "### Report your error rates (1 - precision) for each category. How do your error rates compare to those from parts (a) and (b)?"
   ]
  },
  {
   "cell_type": "code",
   "execution_count": 252,
   "metadata": {},
   "outputs": [
    {
     "name": "stdout",
     "output_type": "stream",
     "text": [
      "             precision    recall  f1-score   support\n",
      "\n",
      "          1       0.87      0.93      0.90        59\n",
      "          2       0.91      0.87      0.89        71\n",
      "          3       0.96      0.93      0.95        46\n",
      "\n",
      "avg / total       0.91      0.91      0.91       176\n",
      "\n",
      "Error Rates:\n",
      "Error rate for cultivar j = 1: 0.13\n",
      "Error rate for cultivar j = 2: 0.08999999999999997\n",
      "Error rate for cultivar j = 3: 0.040000000000000036\n"
     ]
    }
   ],
   "source": [
    "classification = classification_report(results_df_kf[\"y_test\"], results_df_kf[\"y_pred\"])\n",
    "print(classification)\n",
    "# Error rates:\n",
    "print(\"Error Rates:\")\n",
    "# For cultivar 1:\n",
    "print(\"Error rate for cultivar j = 1:\", 1 - 0.87)\n",
    "# For cultivar 2:\n",
    "print(\"Error rate for cultivar j = 2:\", 1 - 0.91)\n",
    "# For cultivar 3:\n",
    "print(\"Error rate for cultivar j = 3:\", 1 - 0.96)"
   ]
  },
  {
   "cell_type": "markdown",
   "metadata": {},
   "source": [
    "Previous rates in part (a) were:\n",
    "\n",
    "Error rate for cultivar j = 1: 0.13\n",
    "\n",
    "Error rate for cultivar j = 2: 0\n",
    "\n",
    "Error rate for cultivar j = 3: 0\n",
    "\n",
    "\n",
    "Previous rates in part (b) were:\n",
    "\n",
    "Error rate for cultivar j = 1: 0.09999999999999998\n",
    "\n",
    "Error rate for cultivar j = 2: 0.08999999999999997\n",
    "\n",
    "Error rate for cultivar j = 3: 0.040000000000000036\n",
    "\n",
    "So for our error for j = 1, we have similar error rates as in part (a) and higher than in part (b).\n",
    "\n",
    "For j = 2, the error rate is higher than in (a), but about the same as (b).\n",
    "\n",
    "For j = 3, it is higher than (a), but about the same as (b).\n"
   ]
  },
  {
   "cell_type": "markdown",
   "metadata": {},
   "source": [
    "### Report your k-fold estimate for the test MSE as the average MSE."
   ]
  },
  {
   "cell_type": "code",
   "execution_count": 253,
   "metadata": {},
   "outputs": [
    {
     "name": "stdout",
     "output_type": "stream",
     "text": [
      "test estimate MSE k-fold= 0.0909090909091\n",
      "test estimate MSE standard err= 0.04821182599\n"
     ]
    }
   ],
   "source": [
    "MSE_kf = MSE_vec_kf.mean()\n",
    "MSE_kf_std = MSE_vec_kf.std()\n",
    "print('test estimate MSE k-fold=', MSE_kf)\n",
    "print('test estimate MSE standard err=', MSE_kf_std)"
   ]
  },
  {
   "cell_type": "markdown",
   "metadata": {},
   "source": [
    "## 2).\n",
    "### a). Create a scatterplot of the data with age on the x-axis and Coolness Index on the y-axis. Label your axes, and give the plot a title."
   ]
  },
  {
   "cell_type": "code",
   "execution_count": 254,
   "metadata": {},
   "outputs": [],
   "source": [
    "# Import dataset as pandas df:\n",
    "df_cool = pd.read_csv(\"data/CoolIndex.txt\", \n",
    "                      header=None, \n",
    "                      names=[\"age\", \"coolness_index\"])"
   ]
  },
  {
   "cell_type": "code",
   "execution_count": 255,
   "metadata": {},
   "outputs": [
    {
     "data": {
      "application/javascript": [
       "/* Put everything inside the global mpl namespace */\n",
       "window.mpl = {};\n",
       "\n",
       "\n",
       "mpl.get_websocket_type = function() {\n",
       "    if (typeof(WebSocket) !== 'undefined') {\n",
       "        return WebSocket;\n",
       "    } else if (typeof(MozWebSocket) !== 'undefined') {\n",
       "        return MozWebSocket;\n",
       "    } else {\n",
       "        alert('Your browser does not have WebSocket support.' +\n",
       "              'Please try Chrome, Safari or Firefox ≥ 6. ' +\n",
       "              'Firefox 4 and 5 are also supported but you ' +\n",
       "              'have to enable WebSockets in about:config.');\n",
       "    };\n",
       "}\n",
       "\n",
       "mpl.figure = function(figure_id, websocket, ondownload, parent_element) {\n",
       "    this.id = figure_id;\n",
       "\n",
       "    this.ws = websocket;\n",
       "\n",
       "    this.supports_binary = (this.ws.binaryType != undefined);\n",
       "\n",
       "    if (!this.supports_binary) {\n",
       "        var warnings = document.getElementById(\"mpl-warnings\");\n",
       "        if (warnings) {\n",
       "            warnings.style.display = 'block';\n",
       "            warnings.textContent = (\n",
       "                \"This browser does not support binary websocket messages. \" +\n",
       "                    \"Performance may be slow.\");\n",
       "        }\n",
       "    }\n",
       "\n",
       "    this.imageObj = new Image();\n",
       "\n",
       "    this.context = undefined;\n",
       "    this.message = undefined;\n",
       "    this.canvas = undefined;\n",
       "    this.rubberband_canvas = undefined;\n",
       "    this.rubberband_context = undefined;\n",
       "    this.format_dropdown = undefined;\n",
       "\n",
       "    this.image_mode = 'full';\n",
       "\n",
       "    this.root = $('<div/>');\n",
       "    this._root_extra_style(this.root)\n",
       "    this.root.attr('style', 'display: inline-block');\n",
       "\n",
       "    $(parent_element).append(this.root);\n",
       "\n",
       "    this._init_header(this);\n",
       "    this._init_canvas(this);\n",
       "    this._init_toolbar(this);\n",
       "\n",
       "    var fig = this;\n",
       "\n",
       "    this.waiting = false;\n",
       "\n",
       "    this.ws.onopen =  function () {\n",
       "            fig.send_message(\"supports_binary\", {value: fig.supports_binary});\n",
       "            fig.send_message(\"send_image_mode\", {});\n",
       "            if (mpl.ratio != 1) {\n",
       "                fig.send_message(\"set_dpi_ratio\", {'dpi_ratio': mpl.ratio});\n",
       "            }\n",
       "            fig.send_message(\"refresh\", {});\n",
       "        }\n",
       "\n",
       "    this.imageObj.onload = function() {\n",
       "            if (fig.image_mode == 'full') {\n",
       "                // Full images could contain transparency (where diff images\n",
       "                // almost always do), so we need to clear the canvas so that\n",
       "                // there is no ghosting.\n",
       "                fig.context.clearRect(0, 0, fig.canvas.width, fig.canvas.height);\n",
       "            }\n",
       "            fig.context.drawImage(fig.imageObj, 0, 0);\n",
       "        };\n",
       "\n",
       "    this.imageObj.onunload = function() {\n",
       "        fig.ws.close();\n",
       "    }\n",
       "\n",
       "    this.ws.onmessage = this._make_on_message_function(this);\n",
       "\n",
       "    this.ondownload = ondownload;\n",
       "}\n",
       "\n",
       "mpl.figure.prototype._init_header = function() {\n",
       "    var titlebar = $(\n",
       "        '<div class=\"ui-dialog-titlebar ui-widget-header ui-corner-all ' +\n",
       "        'ui-helper-clearfix\"/>');\n",
       "    var titletext = $(\n",
       "        '<div class=\"ui-dialog-title\" style=\"width: 100%; ' +\n",
       "        'text-align: center; padding: 3px;\"/>');\n",
       "    titlebar.append(titletext)\n",
       "    this.root.append(titlebar);\n",
       "    this.header = titletext[0];\n",
       "}\n",
       "\n",
       "\n",
       "\n",
       "mpl.figure.prototype._canvas_extra_style = function(canvas_div) {\n",
       "\n",
       "}\n",
       "\n",
       "\n",
       "mpl.figure.prototype._root_extra_style = function(canvas_div) {\n",
       "\n",
       "}\n",
       "\n",
       "mpl.figure.prototype._init_canvas = function() {\n",
       "    var fig = this;\n",
       "\n",
       "    var canvas_div = $('<div/>');\n",
       "\n",
       "    canvas_div.attr('style', 'position: relative; clear: both; outline: 0');\n",
       "\n",
       "    function canvas_keyboard_event(event) {\n",
       "        return fig.key_event(event, event['data']);\n",
       "    }\n",
       "\n",
       "    canvas_div.keydown('key_press', canvas_keyboard_event);\n",
       "    canvas_div.keyup('key_release', canvas_keyboard_event);\n",
       "    this.canvas_div = canvas_div\n",
       "    this._canvas_extra_style(canvas_div)\n",
       "    this.root.append(canvas_div);\n",
       "\n",
       "    var canvas = $('<canvas/>');\n",
       "    canvas.addClass('mpl-canvas');\n",
       "    canvas.attr('style', \"left: 0; top: 0; z-index: 0; outline: 0\")\n",
       "\n",
       "    this.canvas = canvas[0];\n",
       "    this.context = canvas[0].getContext(\"2d\");\n",
       "\n",
       "    var backingStore = this.context.backingStorePixelRatio ||\n",
       "\tthis.context.webkitBackingStorePixelRatio ||\n",
       "\tthis.context.mozBackingStorePixelRatio ||\n",
       "\tthis.context.msBackingStorePixelRatio ||\n",
       "\tthis.context.oBackingStorePixelRatio ||\n",
       "\tthis.context.backingStorePixelRatio || 1;\n",
       "\n",
       "    mpl.ratio = (window.devicePixelRatio || 1) / backingStore;\n",
       "\n",
       "    var rubberband = $('<canvas/>');\n",
       "    rubberband.attr('style', \"position: absolute; left: 0; top: 0; z-index: 1;\")\n",
       "\n",
       "    var pass_mouse_events = true;\n",
       "\n",
       "    canvas_div.resizable({\n",
       "        start: function(event, ui) {\n",
       "            pass_mouse_events = false;\n",
       "        },\n",
       "        resize: function(event, ui) {\n",
       "            fig.request_resize(ui.size.width, ui.size.height);\n",
       "        },\n",
       "        stop: function(event, ui) {\n",
       "            pass_mouse_events = true;\n",
       "            fig.request_resize(ui.size.width, ui.size.height);\n",
       "        },\n",
       "    });\n",
       "\n",
       "    function mouse_event_fn(event) {\n",
       "        if (pass_mouse_events)\n",
       "            return fig.mouse_event(event, event['data']);\n",
       "    }\n",
       "\n",
       "    rubberband.mousedown('button_press', mouse_event_fn);\n",
       "    rubberband.mouseup('button_release', mouse_event_fn);\n",
       "    // Throttle sequential mouse events to 1 every 20ms.\n",
       "    rubberband.mousemove('motion_notify', mouse_event_fn);\n",
       "\n",
       "    rubberband.mouseenter('figure_enter', mouse_event_fn);\n",
       "    rubberband.mouseleave('figure_leave', mouse_event_fn);\n",
       "\n",
       "    canvas_div.on(\"wheel\", function (event) {\n",
       "        event = event.originalEvent;\n",
       "        event['data'] = 'scroll'\n",
       "        if (event.deltaY < 0) {\n",
       "            event.step = 1;\n",
       "        } else {\n",
       "            event.step = -1;\n",
       "        }\n",
       "        mouse_event_fn(event);\n",
       "    });\n",
       "\n",
       "    canvas_div.append(canvas);\n",
       "    canvas_div.append(rubberband);\n",
       "\n",
       "    this.rubberband = rubberband;\n",
       "    this.rubberband_canvas = rubberband[0];\n",
       "    this.rubberband_context = rubberband[0].getContext(\"2d\");\n",
       "    this.rubberband_context.strokeStyle = \"#000000\";\n",
       "\n",
       "    this._resize_canvas = function(width, height) {\n",
       "        // Keep the size of the canvas, canvas container, and rubber band\n",
       "        // canvas in synch.\n",
       "        canvas_div.css('width', width)\n",
       "        canvas_div.css('height', height)\n",
       "\n",
       "        canvas.attr('width', width * mpl.ratio);\n",
       "        canvas.attr('height', height * mpl.ratio);\n",
       "        canvas.attr('style', 'width: ' + width + 'px; height: ' + height + 'px;');\n",
       "\n",
       "        rubberband.attr('width', width);\n",
       "        rubberband.attr('height', height);\n",
       "    }\n",
       "\n",
       "    // Set the figure to an initial 600x600px, this will subsequently be updated\n",
       "    // upon first draw.\n",
       "    this._resize_canvas(600, 600);\n",
       "\n",
       "    // Disable right mouse context menu.\n",
       "    $(this.rubberband_canvas).bind(\"contextmenu\",function(e){\n",
       "        return false;\n",
       "    });\n",
       "\n",
       "    function set_focus () {\n",
       "        canvas.focus();\n",
       "        canvas_div.focus();\n",
       "    }\n",
       "\n",
       "    window.setTimeout(set_focus, 100);\n",
       "}\n",
       "\n",
       "mpl.figure.prototype._init_toolbar = function() {\n",
       "    var fig = this;\n",
       "\n",
       "    var nav_element = $('<div/>')\n",
       "    nav_element.attr('style', 'width: 100%');\n",
       "    this.root.append(nav_element);\n",
       "\n",
       "    // Define a callback function for later on.\n",
       "    function toolbar_event(event) {\n",
       "        return fig.toolbar_button_onclick(event['data']);\n",
       "    }\n",
       "    function toolbar_mouse_event(event) {\n",
       "        return fig.toolbar_button_onmouseover(event['data']);\n",
       "    }\n",
       "\n",
       "    for(var toolbar_ind in mpl.toolbar_items) {\n",
       "        var name = mpl.toolbar_items[toolbar_ind][0];\n",
       "        var tooltip = mpl.toolbar_items[toolbar_ind][1];\n",
       "        var image = mpl.toolbar_items[toolbar_ind][2];\n",
       "        var method_name = mpl.toolbar_items[toolbar_ind][3];\n",
       "\n",
       "        if (!name) {\n",
       "            // put a spacer in here.\n",
       "            continue;\n",
       "        }\n",
       "        var button = $('<button/>');\n",
       "        button.addClass('ui-button ui-widget ui-state-default ui-corner-all ' +\n",
       "                        'ui-button-icon-only');\n",
       "        button.attr('role', 'button');\n",
       "        button.attr('aria-disabled', 'false');\n",
       "        button.click(method_name, toolbar_event);\n",
       "        button.mouseover(tooltip, toolbar_mouse_event);\n",
       "\n",
       "        var icon_img = $('<span/>');\n",
       "        icon_img.addClass('ui-button-icon-primary ui-icon');\n",
       "        icon_img.addClass(image);\n",
       "        icon_img.addClass('ui-corner-all');\n",
       "\n",
       "        var tooltip_span = $('<span/>');\n",
       "        tooltip_span.addClass('ui-button-text');\n",
       "        tooltip_span.html(tooltip);\n",
       "\n",
       "        button.append(icon_img);\n",
       "        button.append(tooltip_span);\n",
       "\n",
       "        nav_element.append(button);\n",
       "    }\n",
       "\n",
       "    var fmt_picker_span = $('<span/>');\n",
       "\n",
       "    var fmt_picker = $('<select/>');\n",
       "    fmt_picker.addClass('mpl-toolbar-option ui-widget ui-widget-content');\n",
       "    fmt_picker_span.append(fmt_picker);\n",
       "    nav_element.append(fmt_picker_span);\n",
       "    this.format_dropdown = fmt_picker[0];\n",
       "\n",
       "    for (var ind in mpl.extensions) {\n",
       "        var fmt = mpl.extensions[ind];\n",
       "        var option = $(\n",
       "            '<option/>', {selected: fmt === mpl.default_extension}).html(fmt);\n",
       "        fmt_picker.append(option)\n",
       "    }\n",
       "\n",
       "    // Add hover states to the ui-buttons\n",
       "    $( \".ui-button\" ).hover(\n",
       "        function() { $(this).addClass(\"ui-state-hover\");},\n",
       "        function() { $(this).removeClass(\"ui-state-hover\");}\n",
       "    );\n",
       "\n",
       "    var status_bar = $('<span class=\"mpl-message\"/>');\n",
       "    nav_element.append(status_bar);\n",
       "    this.message = status_bar[0];\n",
       "}\n",
       "\n",
       "mpl.figure.prototype.request_resize = function(x_pixels, y_pixels) {\n",
       "    // Request matplotlib to resize the figure. Matplotlib will then trigger a resize in the client,\n",
       "    // which will in turn request a refresh of the image.\n",
       "    this.send_message('resize', {'width': x_pixels, 'height': y_pixels});\n",
       "}\n",
       "\n",
       "mpl.figure.prototype.send_message = function(type, properties) {\n",
       "    properties['type'] = type;\n",
       "    properties['figure_id'] = this.id;\n",
       "    this.ws.send(JSON.stringify(properties));\n",
       "}\n",
       "\n",
       "mpl.figure.prototype.send_draw_message = function() {\n",
       "    if (!this.waiting) {\n",
       "        this.waiting = true;\n",
       "        this.ws.send(JSON.stringify({type: \"draw\", figure_id: this.id}));\n",
       "    }\n",
       "}\n",
       "\n",
       "\n",
       "mpl.figure.prototype.handle_save = function(fig, msg) {\n",
       "    var format_dropdown = fig.format_dropdown;\n",
       "    var format = format_dropdown.options[format_dropdown.selectedIndex].value;\n",
       "    fig.ondownload(fig, format);\n",
       "}\n",
       "\n",
       "\n",
       "mpl.figure.prototype.handle_resize = function(fig, msg) {\n",
       "    var size = msg['size'];\n",
       "    if (size[0] != fig.canvas.width || size[1] != fig.canvas.height) {\n",
       "        fig._resize_canvas(size[0], size[1]);\n",
       "        fig.send_message(\"refresh\", {});\n",
       "    };\n",
       "}\n",
       "\n",
       "mpl.figure.prototype.handle_rubberband = function(fig, msg) {\n",
       "    var x0 = msg['x0'] / mpl.ratio;\n",
       "    var y0 = (fig.canvas.height - msg['y0']) / mpl.ratio;\n",
       "    var x1 = msg['x1'] / mpl.ratio;\n",
       "    var y1 = (fig.canvas.height - msg['y1']) / mpl.ratio;\n",
       "    x0 = Math.floor(x0) + 0.5;\n",
       "    y0 = Math.floor(y0) + 0.5;\n",
       "    x1 = Math.floor(x1) + 0.5;\n",
       "    y1 = Math.floor(y1) + 0.5;\n",
       "    var min_x = Math.min(x0, x1);\n",
       "    var min_y = Math.min(y0, y1);\n",
       "    var width = Math.abs(x1 - x0);\n",
       "    var height = Math.abs(y1 - y0);\n",
       "\n",
       "    fig.rubberband_context.clearRect(\n",
       "        0, 0, fig.canvas.width, fig.canvas.height);\n",
       "\n",
       "    fig.rubberband_context.strokeRect(min_x, min_y, width, height);\n",
       "}\n",
       "\n",
       "mpl.figure.prototype.handle_figure_label = function(fig, msg) {\n",
       "    // Updates the figure title.\n",
       "    fig.header.textContent = msg['label'];\n",
       "}\n",
       "\n",
       "mpl.figure.prototype.handle_cursor = function(fig, msg) {\n",
       "    var cursor = msg['cursor'];\n",
       "    switch(cursor)\n",
       "    {\n",
       "    case 0:\n",
       "        cursor = 'pointer';\n",
       "        break;\n",
       "    case 1:\n",
       "        cursor = 'default';\n",
       "        break;\n",
       "    case 2:\n",
       "        cursor = 'crosshair';\n",
       "        break;\n",
       "    case 3:\n",
       "        cursor = 'move';\n",
       "        break;\n",
       "    }\n",
       "    fig.rubberband_canvas.style.cursor = cursor;\n",
       "}\n",
       "\n",
       "mpl.figure.prototype.handle_message = function(fig, msg) {\n",
       "    fig.message.textContent = msg['message'];\n",
       "}\n",
       "\n",
       "mpl.figure.prototype.handle_draw = function(fig, msg) {\n",
       "    // Request the server to send over a new figure.\n",
       "    fig.send_draw_message();\n",
       "}\n",
       "\n",
       "mpl.figure.prototype.handle_image_mode = function(fig, msg) {\n",
       "    fig.image_mode = msg['mode'];\n",
       "}\n",
       "\n",
       "mpl.figure.prototype.updated_canvas_event = function() {\n",
       "    // Called whenever the canvas gets updated.\n",
       "    this.send_message(\"ack\", {});\n",
       "}\n",
       "\n",
       "// A function to construct a web socket function for onmessage handling.\n",
       "// Called in the figure constructor.\n",
       "mpl.figure.prototype._make_on_message_function = function(fig) {\n",
       "    return function socket_on_message(evt) {\n",
       "        if (evt.data instanceof Blob) {\n",
       "            /* FIXME: We get \"Resource interpreted as Image but\n",
       "             * transferred with MIME type text/plain:\" errors on\n",
       "             * Chrome.  But how to set the MIME type?  It doesn't seem\n",
       "             * to be part of the websocket stream */\n",
       "            evt.data.type = \"image/png\";\n",
       "\n",
       "            /* Free the memory for the previous frames */\n",
       "            if (fig.imageObj.src) {\n",
       "                (window.URL || window.webkitURL).revokeObjectURL(\n",
       "                    fig.imageObj.src);\n",
       "            }\n",
       "\n",
       "            fig.imageObj.src = (window.URL || window.webkitURL).createObjectURL(\n",
       "                evt.data);\n",
       "            fig.updated_canvas_event();\n",
       "            fig.waiting = false;\n",
       "            return;\n",
       "        }\n",
       "        else if (typeof evt.data === 'string' && evt.data.slice(0, 21) == \"data:image/png;base64\") {\n",
       "            fig.imageObj.src = evt.data;\n",
       "            fig.updated_canvas_event();\n",
       "            fig.waiting = false;\n",
       "            return;\n",
       "        }\n",
       "\n",
       "        var msg = JSON.parse(evt.data);\n",
       "        var msg_type = msg['type'];\n",
       "\n",
       "        // Call the  \"handle_{type}\" callback, which takes\n",
       "        // the figure and JSON message as its only arguments.\n",
       "        try {\n",
       "            var callback = fig[\"handle_\" + msg_type];\n",
       "        } catch (e) {\n",
       "            console.log(\"No handler for the '\" + msg_type + \"' message type: \", msg);\n",
       "            return;\n",
       "        }\n",
       "\n",
       "        if (callback) {\n",
       "            try {\n",
       "                // console.log(\"Handling '\" + msg_type + \"' message: \", msg);\n",
       "                callback(fig, msg);\n",
       "            } catch (e) {\n",
       "                console.log(\"Exception inside the 'handler_\" + msg_type + \"' callback:\", e, e.stack, msg);\n",
       "            }\n",
       "        }\n",
       "    };\n",
       "}\n",
       "\n",
       "// from http://stackoverflow.com/questions/1114465/getting-mouse-location-in-canvas\n",
       "mpl.findpos = function(e) {\n",
       "    //this section is from http://www.quirksmode.org/js/events_properties.html\n",
       "    var targ;\n",
       "    if (!e)\n",
       "        e = window.event;\n",
       "    if (e.target)\n",
       "        targ = e.target;\n",
       "    else if (e.srcElement)\n",
       "        targ = e.srcElement;\n",
       "    if (targ.nodeType == 3) // defeat Safari bug\n",
       "        targ = targ.parentNode;\n",
       "\n",
       "    // jQuery normalizes the pageX and pageY\n",
       "    // pageX,Y are the mouse positions relative to the document\n",
       "    // offset() returns the position of the element relative to the document\n",
       "    var x = e.pageX - $(targ).offset().left;\n",
       "    var y = e.pageY - $(targ).offset().top;\n",
       "\n",
       "    return {\"x\": x, \"y\": y};\n",
       "};\n",
       "\n",
       "/*\n",
       " * return a copy of an object with only non-object keys\n",
       " * we need this to avoid circular references\n",
       " * http://stackoverflow.com/a/24161582/3208463\n",
       " */\n",
       "function simpleKeys (original) {\n",
       "  return Object.keys(original).reduce(function (obj, key) {\n",
       "    if (typeof original[key] !== 'object')\n",
       "        obj[key] = original[key]\n",
       "    return obj;\n",
       "  }, {});\n",
       "}\n",
       "\n",
       "mpl.figure.prototype.mouse_event = function(event, name) {\n",
       "    var canvas_pos = mpl.findpos(event)\n",
       "\n",
       "    if (name === 'button_press')\n",
       "    {\n",
       "        this.canvas.focus();\n",
       "        this.canvas_div.focus();\n",
       "    }\n",
       "\n",
       "    var x = canvas_pos.x * mpl.ratio;\n",
       "    var y = canvas_pos.y * mpl.ratio;\n",
       "\n",
       "    this.send_message(name, {x: x, y: y, button: event.button,\n",
       "                             step: event.step,\n",
       "                             guiEvent: simpleKeys(event)});\n",
       "\n",
       "    /* This prevents the web browser from automatically changing to\n",
       "     * the text insertion cursor when the button is pressed.  We want\n",
       "     * to control all of the cursor setting manually through the\n",
       "     * 'cursor' event from matplotlib */\n",
       "    event.preventDefault();\n",
       "    return false;\n",
       "}\n",
       "\n",
       "mpl.figure.prototype._key_event_extra = function(event, name) {\n",
       "    // Handle any extra behaviour associated with a key event\n",
       "}\n",
       "\n",
       "mpl.figure.prototype.key_event = function(event, name) {\n",
       "\n",
       "    // Prevent repeat events\n",
       "    if (name == 'key_press')\n",
       "    {\n",
       "        if (event.which === this._key)\n",
       "            return;\n",
       "        else\n",
       "            this._key = event.which;\n",
       "    }\n",
       "    if (name == 'key_release')\n",
       "        this._key = null;\n",
       "\n",
       "    var value = '';\n",
       "    if (event.ctrlKey && event.which != 17)\n",
       "        value += \"ctrl+\";\n",
       "    if (event.altKey && event.which != 18)\n",
       "        value += \"alt+\";\n",
       "    if (event.shiftKey && event.which != 16)\n",
       "        value += \"shift+\";\n",
       "\n",
       "    value += 'k';\n",
       "    value += event.which.toString();\n",
       "\n",
       "    this._key_event_extra(event, name);\n",
       "\n",
       "    this.send_message(name, {key: value,\n",
       "                             guiEvent: simpleKeys(event)});\n",
       "    return false;\n",
       "}\n",
       "\n",
       "mpl.figure.prototype.toolbar_button_onclick = function(name) {\n",
       "    if (name == 'download') {\n",
       "        this.handle_save(this, null);\n",
       "    } else {\n",
       "        this.send_message(\"toolbar_button\", {name: name});\n",
       "    }\n",
       "};\n",
       "\n",
       "mpl.figure.prototype.toolbar_button_onmouseover = function(tooltip) {\n",
       "    this.message.textContent = tooltip;\n",
       "};\n",
       "mpl.toolbar_items = [[\"Home\", \"Reset original view\", \"fa fa-home icon-home\", \"home\"], [\"Back\", \"Back to  previous view\", \"fa fa-arrow-left icon-arrow-left\", \"back\"], [\"Forward\", \"Forward to next view\", \"fa fa-arrow-right icon-arrow-right\", \"forward\"], [\"\", \"\", \"\", \"\"], [\"Pan\", \"Pan axes with left mouse, zoom with right\", \"fa fa-arrows icon-move\", \"pan\"], [\"Zoom\", \"Zoom to rectangle\", \"fa fa-square-o icon-check-empty\", \"zoom\"], [\"\", \"\", \"\", \"\"], [\"Download\", \"Download plot\", \"fa fa-floppy-o icon-save\", \"download\"]];\n",
       "\n",
       "mpl.extensions = [\"eps\", \"jpeg\", \"pdf\", \"png\", \"ps\", \"raw\", \"svg\", \"tif\"];\n",
       "\n",
       "mpl.default_extension = \"png\";var comm_websocket_adapter = function(comm) {\n",
       "    // Create a \"websocket\"-like object which calls the given IPython comm\n",
       "    // object with the appropriate methods. Currently this is a non binary\n",
       "    // socket, so there is still some room for performance tuning.\n",
       "    var ws = {};\n",
       "\n",
       "    ws.close = function() {\n",
       "        comm.close()\n",
       "    };\n",
       "    ws.send = function(m) {\n",
       "        //console.log('sending', m);\n",
       "        comm.send(m);\n",
       "    };\n",
       "    // Register the callback with on_msg.\n",
       "    comm.on_msg(function(msg) {\n",
       "        //console.log('receiving', msg['content']['data'], msg);\n",
       "        // Pass the mpl event to the overriden (by mpl) onmessage function.\n",
       "        ws.onmessage(msg['content']['data'])\n",
       "    });\n",
       "    return ws;\n",
       "}\n",
       "\n",
       "mpl.mpl_figure_comm = function(comm, msg) {\n",
       "    // This is the function which gets called when the mpl process\n",
       "    // starts-up an IPython Comm through the \"matplotlib\" channel.\n",
       "\n",
       "    var id = msg.content.data.id;\n",
       "    // Get hold of the div created by the display call when the Comm\n",
       "    // socket was opened in Python.\n",
       "    var element = $(\"#\" + id);\n",
       "    var ws_proxy = comm_websocket_adapter(comm)\n",
       "\n",
       "    function ondownload(figure, format) {\n",
       "        window.open(figure.imageObj.src);\n",
       "    }\n",
       "\n",
       "    var fig = new mpl.figure(id, ws_proxy,\n",
       "                           ondownload,\n",
       "                           element.get(0));\n",
       "\n",
       "    // Call onopen now - mpl needs it, as it is assuming we've passed it a real\n",
       "    // web socket which is closed, not our websocket->open comm proxy.\n",
       "    ws_proxy.onopen();\n",
       "\n",
       "    fig.parent_element = element.get(0);\n",
       "    fig.cell_info = mpl.find_output_cell(\"<div id='\" + id + \"'></div>\");\n",
       "    if (!fig.cell_info) {\n",
       "        console.error(\"Failed to find cell for figure\", id, fig);\n",
       "        return;\n",
       "    }\n",
       "\n",
       "    var output_index = fig.cell_info[2]\n",
       "    var cell = fig.cell_info[0];\n",
       "\n",
       "};\n",
       "\n",
       "mpl.figure.prototype.handle_close = function(fig, msg) {\n",
       "    var width = fig.canvas.width/mpl.ratio\n",
       "    fig.root.unbind('remove')\n",
       "\n",
       "    // Update the output cell to use the data from the current canvas.\n",
       "    fig.push_to_output();\n",
       "    var dataURL = fig.canvas.toDataURL();\n",
       "    // Re-enable the keyboard manager in IPython - without this line, in FF,\n",
       "    // the notebook keyboard shortcuts fail.\n",
       "    IPython.keyboard_manager.enable()\n",
       "    $(fig.parent_element).html('<img src=\"' + dataURL + '\" width=\"' + width + '\">');\n",
       "    fig.close_ws(fig, msg);\n",
       "}\n",
       "\n",
       "mpl.figure.prototype.close_ws = function(fig, msg){\n",
       "    fig.send_message('closing', msg);\n",
       "    // fig.ws.close()\n",
       "}\n",
       "\n",
       "mpl.figure.prototype.push_to_output = function(remove_interactive) {\n",
       "    // Turn the data on the canvas into data in the output cell.\n",
       "    var width = this.canvas.width/mpl.ratio\n",
       "    var dataURL = this.canvas.toDataURL();\n",
       "    this.cell_info[1]['text/html'] = '<img src=\"' + dataURL + '\" width=\"' + width + '\">';\n",
       "}\n",
       "\n",
       "mpl.figure.prototype.updated_canvas_event = function() {\n",
       "    // Tell IPython that the notebook contents must change.\n",
       "    IPython.notebook.set_dirty(true);\n",
       "    this.send_message(\"ack\", {});\n",
       "    var fig = this;\n",
       "    // Wait a second, then push the new image to the DOM so\n",
       "    // that it is saved nicely (might be nice to debounce this).\n",
       "    setTimeout(function () { fig.push_to_output() }, 1000);\n",
       "}\n",
       "\n",
       "mpl.figure.prototype._init_toolbar = function() {\n",
       "    var fig = this;\n",
       "\n",
       "    var nav_element = $('<div/>')\n",
       "    nav_element.attr('style', 'width: 100%');\n",
       "    this.root.append(nav_element);\n",
       "\n",
       "    // Define a callback function for later on.\n",
       "    function toolbar_event(event) {\n",
       "        return fig.toolbar_button_onclick(event['data']);\n",
       "    }\n",
       "    function toolbar_mouse_event(event) {\n",
       "        return fig.toolbar_button_onmouseover(event['data']);\n",
       "    }\n",
       "\n",
       "    for(var toolbar_ind in mpl.toolbar_items){\n",
       "        var name = mpl.toolbar_items[toolbar_ind][0];\n",
       "        var tooltip = mpl.toolbar_items[toolbar_ind][1];\n",
       "        var image = mpl.toolbar_items[toolbar_ind][2];\n",
       "        var method_name = mpl.toolbar_items[toolbar_ind][3];\n",
       "\n",
       "        if (!name) { continue; };\n",
       "\n",
       "        var button = $('<button class=\"btn btn-default\" href=\"#\" title=\"' + name + '\"><i class=\"fa ' + image + ' fa-lg\"></i></button>');\n",
       "        button.click(method_name, toolbar_event);\n",
       "        button.mouseover(tooltip, toolbar_mouse_event);\n",
       "        nav_element.append(button);\n",
       "    }\n",
       "\n",
       "    // Add the status bar.\n",
       "    var status_bar = $('<span class=\"mpl-message\" style=\"text-align:right; float: right;\"/>');\n",
       "    nav_element.append(status_bar);\n",
       "    this.message = status_bar[0];\n",
       "\n",
       "    // Add the close button to the window.\n",
       "    var buttongrp = $('<div class=\"btn-group inline pull-right\"></div>');\n",
       "    var button = $('<button class=\"btn btn-mini btn-primary\" href=\"#\" title=\"Stop Interaction\"><i class=\"fa fa-power-off icon-remove icon-large\"></i></button>');\n",
       "    button.click(function (evt) { fig.handle_close(fig, {}); } );\n",
       "    button.mouseover('Stop Interaction', toolbar_mouse_event);\n",
       "    buttongrp.append(button);\n",
       "    var titlebar = this.root.find($('.ui-dialog-titlebar'));\n",
       "    titlebar.prepend(buttongrp);\n",
       "}\n",
       "\n",
       "mpl.figure.prototype._root_extra_style = function(el){\n",
       "    var fig = this\n",
       "    el.on(\"remove\", function(){\n",
       "\tfig.close_ws(fig, {});\n",
       "    });\n",
       "}\n",
       "\n",
       "mpl.figure.prototype._canvas_extra_style = function(el){\n",
       "    // this is important to make the div 'focusable\n",
       "    el.attr('tabindex', 0)\n",
       "    // reach out to IPython and tell the keyboard manager to turn it's self\n",
       "    // off when our div gets focus\n",
       "\n",
       "    // location in version 3\n",
       "    if (IPython.notebook.keyboard_manager) {\n",
       "        IPython.notebook.keyboard_manager.register_events(el);\n",
       "    }\n",
       "    else {\n",
       "        // location in version 2\n",
       "        IPython.keyboard_manager.register_events(el);\n",
       "    }\n",
       "\n",
       "}\n",
       "\n",
       "mpl.figure.prototype._key_event_extra = function(event, name) {\n",
       "    var manager = IPython.notebook.keyboard_manager;\n",
       "    if (!manager)\n",
       "        manager = IPython.keyboard_manager;\n",
       "\n",
       "    // Check for shift+enter\n",
       "    if (event.shiftKey && event.which == 13) {\n",
       "        this.canvas_div.blur();\n",
       "        event.shiftKey = false;\n",
       "        // Send a \"J\" for go to next cell\n",
       "        event.which = 74;\n",
       "        event.keyCode = 74;\n",
       "        manager.command_mode();\n",
       "        manager.handle_keydown(event);\n",
       "    }\n",
       "}\n",
       "\n",
       "mpl.figure.prototype.handle_save = function(fig, msg) {\n",
       "    fig.ondownload(fig, null);\n",
       "}\n",
       "\n",
       "\n",
       "mpl.find_output_cell = function(html_output) {\n",
       "    // Return the cell and output element which can be found *uniquely* in the notebook.\n",
       "    // Note - this is a bit hacky, but it is done because the \"notebook_saving.Notebook\"\n",
       "    // IPython event is triggered only after the cells have been serialised, which for\n",
       "    // our purposes (turning an active figure into a static one), is too late.\n",
       "    var cells = IPython.notebook.get_cells();\n",
       "    var ncells = cells.length;\n",
       "    for (var i=0; i<ncells; i++) {\n",
       "        var cell = cells[i];\n",
       "        if (cell.cell_type === 'code'){\n",
       "            for (var j=0; j<cell.output_area.outputs.length; j++) {\n",
       "                var data = cell.output_area.outputs[j];\n",
       "                if (data.data) {\n",
       "                    // IPython >= 3 moved mimebundle to data attribute of output\n",
       "                    data = data.data;\n",
       "                }\n",
       "                if (data['text/html'] == html_output) {\n",
       "                    return [cell, data, j];\n",
       "                }\n",
       "            }\n",
       "        }\n",
       "    }\n",
       "}\n",
       "\n",
       "// Register the function which deals with the matplotlib target/channel.\n",
       "// The kernel may be null if the page has been refreshed.\n",
       "if (IPython.notebook.kernel != null) {\n",
       "    IPython.notebook.kernel.comm_manager.register_target('matplotlib', mpl.mpl_figure_comm);\n",
       "}\n"
      ],
      "text/plain": [
       "<IPython.core.display.Javascript object>"
      ]
     },
     "metadata": {},
     "output_type": "display_data"
    },
    {
     "data": {
      "text/html": [
       "<img src=\"data:image/png;base64,iVBORw0KGgoAAAANSUhEUgAAAbAAAAEgCAYAAADVKCZpAAAAAXNSR0IArs4c6QAAQABJREFUeAHsXQdgVdX5/7Je9h4kJBBISNhbBLEizrq11n/RutC6tVL3qFbUarVurdaFxVUcVZy17slUtoEwA4TsvZOX9f/9zsuJN4+XBSHkJefAzV3n3nvud+47v/NtEVMMBQwFDAUMBQwFDAUMBQwFDAUMBQwFDAUMBQwFDAUMBQwFDAUMBQwFDAUMBQwFDAUMBQwFDAUMBQwFDAUMBQwFDAUMBQwFDAUMBQwFDAUMBQwFDAUMBQwFDAUMBQwFDAUMBQwFDAUMBQwFDAUMBQwFDAUMBQwFDAUMBQwFDAUMBQwFDAUMBQwFDAUMBQwFDAUMBQwFDAUMBQwFDAUMBQwFDAUMBQwFDAUMBQwFDAUMBQwFDAUMBQwFDAUMBQwFDAUMBQwFDAX6BAU8+kQrTCP6NQVGjhx5dHNz85d4ySIfH5/BaWlp9v76wnjXb/Cuw7Zs2TKss3ccO3asrb6+/kLUm4tlFJZALFs8PDxeb2xsfHzbtm112D8gpTvtPCANMDc1FOgBCnj2wD3MLQwFOqQABvTfo0IVlsiGhobTOqw8QE4CvGIBXt/hdZ8DfbIBWvdifRP2d2H9gKen5ycjRozwHSDkMK9pKLBPFPDep6vMRYYCXaRAyyD8WwzKr2CQ/j3Wc3Hpf7p4eX+t5mG32xeBHhPxgsdv3br1C8uLPgXu6GbQ6UGA2N9w/HrLObNpKGAoYKGA4cAsxDCbPU8BDMIn4a5hWH+N9adYTiD30fNPcp87pqSk/AbgNRst/htEjVbwUi+xefPmv2MjHcuFCQkJ/uqg+WMoYCiwFwUMB7YXScyBnqQABupzwU00g+P4DvovL9z7d9g+H+uHrM9JTU09EfvzUX8cqudh+1Esk7Aca9UngaMbAzC8D8ePwmLDsgb796SnpxMcOyzgbM7Cvf+ISrwvgSELz3sb+qY7tb6JuqGmpqZa3PNx1P0r6ozDko/lJbTjHqybsKiCNh+L63lsIurmYn2740zHf3HN2azh5eX1Qns18fwTy8vL87Ozs2t0nVGjRo1H2+7F/mwsFC+uw/IA2vUe1q2lq/VaL8BGd967K31Azhvv+SAWiozjsZCGH/j6+t6xYcOGEmyzeICGd2J9LpZELGVYPkN/3L59+/ZMbJtiKNAhBQwH1iF5zMn9oQAGsRAM7CfjHssyMjLyMJh9jO06rOda7wuO5BTsf4iFgHQ7zlPE+DCW32BpLRyYMbAvw4ExqHM/1n/G4oNB/b8YCOe0VnSxgfOXoC1vYynFcguWG3EP6ptuwj1vtV6C4+Nx/C0c+wbLtdjfgfVduMcVWKuC7WOx8QnqhWK5A9tvYlmA7SmqQsd/puL0rk2bNuW0Vw2AvBPgVa3P43nTcO/l2J+O9jyCNcGS9FqMc1djrUpX6+n61nVX3rurfQCa/gPLpbj/G7jvVWg7+/Syuro60kkV9Dvf4S6c/x+Wq7EQ0M8AsH+GNSc7phgKdEgBw4F1SB5zcn8ogAHpt7jeD8u7vA9EYxUYYCkyO5kDLTiHH3kc9cjt7KipqZm5Z88exXGAI1iCY+QsKliHBftPYVXg5+c3Zf369TQKkdmzZz+Fgf4rbD4B0eTiDiwcb8BzluGZZ6Buc8u1z+DaDGyznXfzWEsZDFA8DVzZh9wfNmzYKzabLRub5BSe4TGUB7DkoN5hqFfOA2jz52gj21LM/fYK2hGLeuvbO9/O8adwDR7XNA3P28M6aNc/wdGQTg+Bnm/i3QpxuKv1XD2m0/fGs7raB+S8ybW2cqWgTyWOUYQchH6qBB1Iz0/wXczTjQGoZeL4lZj8DMN7btfHzdpQwBUFDAfmiirmWI9QoGWAIkApAONNLdtzuY9BbQJWyTj+rAYvHseg9j5Wm7jNgpl/JAa/I7H539raWn8M2FFcAEBhOLYYyyBYOE7D2mUJDg6egNn/STipwIuVcnJyYrCiOCuI+7qgLdUYPMktqrJz585abGzGEssDycnJvG4q2rNIgxePo81fY9UpMOG6RtTrMocxfPjwQag/Hde9qsEL+8J24RhFsf5YH9fVerzWVensvbvTB2gPQXYOAGkugJZ9RPrcCUCbRvBqef4ePPMofAPzWtouMGh5DnUmGfBqoZBZdUgBA2Adksec3FcKjB49Og7XzsZCv6ZmDH7DuGCbehuCyDnUk4CjSMG2YL2Va6dC0FAF55NbNqnDKnBaHuU51BnKtauyatWqenBRh2BAXQDgW4IlD4NsFuqOx9Lmd4DjRTjWZL0P2l2HfQU6EHEl8hyOueIQ0q3XudrG/XNxnCDYpeLt7T2MFSGSa6WH5UIF8mhLYlfrWa5ts9nZe3enD9CeK9lkrP8FuheA3t9huS4pKSlUPxTnbsR2IZ77OPSjOTj/I8DszoFu5KPpY9adU6DND7fz6qaGoUDXKABF/NmoyQE/FQNfhmX5CcfoQB8OIDgdg5gPtlkIEM6FnI8quF5zLE/jwHGuFgzg36jKLv5gcKRJ+ud43mSs12LQpO5lIra/d1G9DXg5n8d1iovDPSgebVNwrNPfFK5fiosSW0C+zfV6B+29GstiAO5o3LPdgAOgi36evav19DNcrDt87+70AbioLyHq5YTiHLSLeq9RWB5FH23AxCWazwZHth77KaDH6dhdgIWi1XvgH7cJ7876phgKdEgBowPrkDzm5H5Q4Pe4lgP9hVgqnO5D4JiPwWou11jIXaRiReW9taToHczQdwIUqQdrcPKbEgyINOoYDhFhta5vXQMoEnHtrTj2KgbWC6znABCxuNZ6qNNttGEnKjXjOra5TcF7JOF8m2POO7juXdS5ECLPi3HuPufz2CcoXYJlLOpcERAQUIJBndX2GtTxvJE8gXtmQh+2syv1WH9fSlf7gJw12jMJot49oPcbeBYXT9D6ehx/CAsnN8+g3kTUKYfF4QfY50KR8u9AGwLepVhu4DFTDAXao4CevbV33hw3FOg2BQAYBJ5DsHyDAYyg8Z51gT7qfpzLxXI8BjPqSjKx/IEDH9aqYHsGNqa07EqLxd5PqD8Xg9xgfXzq1Kk+GMRfwvH/QFTlckKGQT2ipf5GfR3XmOWfhOvYVpfXWetat/EuhbjuOxw7T+tueB5tPgyDb2ubrddYt8F5cLBejnvcBrHqbOs5bmOgn4/VJCzP03oTOiPS6ifc+zw8IwHbqkDUZsPG9ViA3XWfd7We4+ru/+1qHwDoIvBuy/CE2yxPaUL7tdFOI9ruhX77Glz445Y6nMis4D6up57QFEOBDinQrR9uh3cyJw0FWigAbofWZRyEKBbaq1AfBfB4CSdooXY+6l2Pwe0tDGZLAU6v4Fg09udhTbFiKzsDEda1GOC+wrlVqPcM1kUVFRXnoM50LLfB9Jy6K1dlI56xG/Vvx3P9UIGgeSiWuVhqsQRj6VbB/W7A/b7HYL0cgPM09gNxg+uw0BKw04J3PRt0+hLv9AXa9B9c8D3uF4D7nILtWdyHCO4WfSP97nh/6omewfEKAPN5WNOY5FoYdJSyblfrse6+FH1/PLPDPsA7vY77X4U16bIUSySWa7DkYXkLYGvHezyJ+9yBOouxpil9AGhyGdbV2Of3YYqhQIcUMBxYh+QxJ/eFAhh8KD4sq6qqarU+dL4PBvDncYyz8rngSP6DQWsOtr2x/L3lenIWP2Fp1Y3BMm0ZBtDDeRx1aBb/ELY5QM4FV/QA1i4LrqvDwEhui1wBgfFhbE/FMg/3IUiEgBOa6vLidg4CLFfh1JFYduA+87G+hGvc71Nsd1rAzewC+B2K+vNReRSW+3D9PViHYLkBXOox2lUA+2J591W45kYsf8XhWlxzBkSqT7EOS1frOWp3/6/l/h32QXV19WW4+71YZmJ5EgsNNpagH35FDhbb1IHdhRUnLyPwHo9gm/uk5yzUSce2KYYChgKGAn2aAl4QiymlvnMrwdlswOycojpTDAUMBQwF9qKA4cD2Iok50JsUaNGFZEGc9Kz1udCjjcNMfCyOrbQeN9uGAoYChgKaAt0zv9JXmbWhQA9SAJzWawCrs7G8AHHSKqzjsL4Kj4Ck0WtiRyGXerAZ5laGAoYCbkYBLzdrr2luP6QAzMQ/gQVhPUCL/kA0ypiA7S8BXudA10SDC1MMBQwFDAUMBQwFDAUMBQwFDAUMBQwFDAUMBQwFDAUMBQ4aBfqtDiw/v7zVf+igUXc/HhwU5CuVla0W5Ptxp/55qaFP5/1qaNQxjQx9XNMnJibEbXDBWCG67sODftTb26gnO+oEQ5+OqOM4Z2jUMY0MfTqmjzucNQDmDr1k2mgoYChgKGAosBcFDIDtRRJzwFDAUMBQwFDAHShgAMwdesm00VDAUMBQwFBgLwoYANuLJOaAoYChgKGAoYA7UMAAmDv0kmmjoYChgKGAocBeFDDpVPYiiTlgKND3KJBXXisb8yqkpLpBwgO8ZcygYBkUwswwphgKDFwKGA5s4Pa9eXM3oQDB67sdxVJT3yQRgT5qzX0eN8VQYCBTwHBgA7n3zbu7BQXIeQXavCTI1/Fz1WseN1xYz3Xhq68ulJ9+Woms0B5MxiqXXXa1IGebVFSUy6RJU3rsQXzO1KmHyJgx43rsngP1RgbABmrPm/d2GwpQbEjOy1oCAGjFVfXWQ2Z7PyiQkbFDliz5Tv75zwUKvLZu3Sx//et8mTVrtkRGRvYogJ1//tz9aKm51EoBA2BWaphtQ4EDSIF91WNR51Vtb2zlwNhE7vN4fyu+pWXih6UnS21YqNRh6aiEh0dIXl6ufPzx+zJ9+kxJSRkpDz74qFxzzWXi7e0jqamjpK6uTp5//hnm+JHBg+Pl5pv/LJ999ol8//23Ul1dJaWlpXLRRZeAg/MCJ7dCrr/+Fnn11X9JWtoGeeCBR+XTT/+rnpGZuVuOOeZ4dY/7778b9/dW97zjjrslOjpGnn32H7Ju3WppamqWOXPOlaOPPrajpg/oc/3vFzCgu9O8fF+lgNZjURRIbooARD3WrKSITsWANNhgXRZyXry2CsvUhI4H5b5Ki77YrrCwMAUy77zzprz00gvi5+cHEeJVcuKJpygObPTosXLOOb8Fh/aiEOxeeOGf8t//fqjAp6amWh577GkAWIlceumFAK03ZcECR37WdevWSHFxkTQ0NIDD+17+8IfL5bXXFioS/PjjChk5cpT88Y/XA7DWKFHltm1bJScnC895SQHm5ZdfJNOmTZfg4OC+SLaD3iYDYAe9C0wDBgIF9kePRT0XgY73oNiQnBfBqz/qv8gpdcYtHYjvZc+eTAkMDJTbb79L3T49faPceOM8OfbY4xWAEZyKigrlzjtvVefJjR166AyJj09Q4kVPT0+JiIgE0ISAG6uRIUOGyqZNaQrgxo6doACKHF5i4rDW5p9yyuny+usvyw03/BHPDpLLL79aduzYJps3pyvOjxUJfLm5OQbAWqnWdsMAWFt6mD1DgQNCgf3VYxGs+iNgHRBi78NNt2/fKosX/wdiw8fE19dXAVBQUJCEhIQqUV5oaJjExMQoLo3Hf/jhW/H3D1AiQQIOCzmtqqoqcGjh0J0dJU8//YTSoVHc+NxzTytOyto03mPixMly8cWXyeef/0+BGXVukycfIrfc8mc8t0kWLnwRIBlvvcxsWyhgAMxCDLNpKHCgKDCQ9FgHioYH8r5HHnm07NyZAbHhXAkI8FegddVV8xQH9cwzT8iwYcNl3rwb5aab5gmyhaNOILixuxWAEbjmzbsS6Y8qwU3dovRZM2ceIX/72z3Yv1UGDRokd9xxCzg6B/em32PUqDFyzz13qvrk4ChKTE0dKWvWrJKrrrpEKJokEPJZprimgNvkfXHd/PaPuns+sLCwAMjUq9t/wQF+xt3oY9WBWfVYXdGB7WtXuxuN9vU99/W6nqAP9WC7du2UK6/84742o89dZ/KB9bkuMQ0yFDi4FNB6LH8fT6XH4vpAgtfBfVvzdEOB3qGAESH2Dp3NUwwFlA7L6LH614dw0kmn9q8XcrO3cQsAS01NvQ10PQ3e8Tasn4FlzrfwxViI7WYc+3nz5s1XY7sJiymGAoYChgKGAgOEAn0+FuKoUaNmoy9mbtmy5XA4/B0JBeoQrB+F0vMOHDsC5zwAcKcPkP4yr9mPKEC92NdbC+TddTlqzX1TDAUMBbpOgT4PYDAl/TVeZ0NKSspiu93+ITiujwBiU9PT079tec1PsD62669sahoKHHwKaKMOE6D34PeFaYH7UsAdRIhRIG+izWY7BaLD4QCvD7BP4G1uIXsFju0VkiAoyBcmsF4tVdxv5eXlKbSSMsU1BdydPiuzyyUG/Rvk5/gJMs5CZW2D7Kq0y8ihEa5fuptH3Z1G3Xzdblc39Ok2yfrcBe4AYEWgWnpaWpod680QF1LOMsRCyWBwZaWWfbVZWVnnfMit9nvCxNetXribjXV3+uwpqFIhpaqqGlvfHBMx2VNW32PuE+5Oo1bCHKANTZ/Vq3+S999/R+6++29tnnTXXbfBf+seFZG+zYke3CkpKZGHH74fPl81yr8sNjZO/vSnG+FM7TrX2333zVdxFNkERvY4/fQze7A17nerPi9CxI/6B5D1BCweI0eOHIw1vfq+bNGNYVNOxPI9N0wxFHAXCmjHZmt7+2uAXus7utM2AY3pVA5kWbToFRWh49FH/6HiKfr5+ct7773T6SNnzJg54MGLROrzHNjWrVs/AnDNAue1Eu2F7YYnLQ4zoBt7AcdolbgJxhz/wdoUQwG3oYAJ0Ou6q95M/7csSn/N9cl9PHrOqPNkzqjfd/vqs846FeGd/gMOyQFkjEnIeIi33z5fBeH96qsv5M03X+egJBMmTFLOzPn5eaj/gNjtdVJeXiZz516qwkmdf/7vEJ4qUQHi3Xff39qWQYPi5Ouvv0K4qCG4x0S5+up5Kp1LTk62irvIVC4FBfkqQj5jJeqiHajPOOO3Mn/+nxHmapBkZe1BjrGxiPhxm4oK8sAD90hZmSOy/5/+dJMkJ4/Ql/ebdZ8HMFIaZvI3u6D4kS6OmUOGAm5BAe3YPBAC9LpFh3TSSIr2mD7lgw8WY3lXBd596aXn5MUXX1WR6++990758cfluIuHnH32uTJlyiGyYcM6RKV/TgEYRYRz5/5BpWWxPuo3vzlLxV5ctOhVBVgEQoajYsnNzZZHH31KBfplaCkdc9F6PbeZnuWxx/6hxI6/+93pCmTffPPfSJp5qPD+PM+0Lcx11t+KWwBYfyO6eZ/+SwFaFxKUGLyXYkJyWu05L/N4e+f6L4U6fjNySvvCLXV81/0/y/xgLOR0CEyMXs8I9TfeeK06Xl1dDQ4oS3FiL7+8QOUVI5gxmrwuQ4cO05uta+rfTjjhZGFkelhZy7///Yo8+eQjiEZ/HTimVBVMmJWZvXn37p2t11k34hERX8dLjIyMUvdhVHve+8svP1NVKyoqrJf0m20DYP2mK82LHGwKaNP4fcn5dbDbbp7fMQVgKNamQlxcvAKzxx9/RgX8pUgvJSUVHNmzcuqpZ8hhhx0OEPtAPvnko9brnO/BE2+/vUiys7PktNN+I7C0luHDk1RQYZ7btStDamtrldhx48afhVE/Vq4kl9e2uLov07Ycf/wYLCdISUmxfPjhe20v6id7BsD6SUea1zj4FNifnF/daX13uLzu3Hcg1125cgWSTZ7fSoK77vpr67arDaZMYbZkZmxubGyUuLjByJx8nBx11DHyxBMPq0zM5NaYpbmjctNNt8sjjzyAVC5vKxEgE2tSh1VfX6+A6847b0GalmKZPfsYBZAd3ct67oILLkbql3uVuJPZopmypT+WttOKfvSGJhp9P+pMF6+iTaBdnOr1QxpQvtpSKIOCbTI0PEDCAmhfhBxRVXWyKa9SRsYEdypS7ErDrVxeZ1Ht+xKNuvJuvV2nL9OHRhx33XW7PP/8wt4mCzjLELfBhT5vRt/rvWceaCjQDQpoQGFEjUHBvlJR1yhpuZVSWm1Xy9qscrF5eSifL9b5bkex8Jp9LVYuzxNirSBfb6HIksdNMRQYaBQwADbQety8b49SwAooQ8P9ER6Gk9dm2V1SLVvgrExFfkp0kPQU2NA4hJyXtXCfx03pPxSgSPJgcF/uRkGjA3O3HjPt7VMUIHBEBDqcXSk2HBcbBPCqkbyKOgU0k+ODW8WJbDjBpriqvtvvoMWUm/MrpL6hUfx8vBRYBoIDi4S1YywsGk0xFBhoFDAANtB63Lxvj1JAR9SgKI+FIOaNOJZj4xjdUIRiQ2vZl2gbWkxJUWF8iK98ta1IvOE8mxodIBW19ZJVViMT4kKsjzHbhgIDggJGhDggutm85IGiAP28quyNUlnXIE2IZcg193m8o3PdaY9VTFlub5KUqEAJRhDgPWW1EoL1RIBXfhVDhZpiKDCwKGA4sIHV3+Zte5gCnUXUmJUUoQwsKDYktzY1IbTbzstWMWUVADIcXF54oA3cV4OMHxyqgHNfxJI9TApzO0OBXqeAAbBeJ7l5YH+jQEcRNazntB5rSUZJt0zqrWJK6rzqGhxiySBfhzHHvogl+1sf7O/77NixHaGWnlSOwwz7REdk+k65chLms3RUeAbV1YVxEv/1rxfhx3WrPtTuetmyJfLGG6+p+yOuq4rEcfzxjEvuupx22q/h0/UpfMweUf5nsbGxrisOsKMGwAZYh5vXPTgUsOqxaPRB0KFJPTm0zsJJURTJuiwJob5C03xaN9JARIssydmZsm8UYJil+fNvByg9hIC7Q5Vj8p133qpSrJxxxlldvinDOHUFvHhDBgheuHCRBAcHCx2NL7zw9yoqfXh4x7ng5s27ocvtGQgVDYANhF4273jQKWDVY7Ex2uiDxzsDMJ7XoshaGIVMHEwDEQ9pbPaQEB/PfRJLHnSCtNMAXwSh9Vv0Wjtn9+1w7TnnSd2c9qPR//DDtwi+O02BF5/g5eWFPGB3q0gYzrnCNCfEeoyewSC8jMRx6613quu08/GSJd+DG3uB1RBBY6TcdNNtKmq9OoA/ERERKowUI2wwfNTrr7+tQkkx+C9jHjJPWEVFOXKD3SwTJ07Sl6nIH4ze8cUXnwqdnVkvLy9H/vjH6xGx/jBZs2YVzO+fUW0ZPDheBSD29u6/w3z/fbPWLjcbhgK9RwEtJqTeyhrM16rH0q3pjkm9VRSprzfrnqFAYWGBcLC3loCAzrOhjxs3Uc4/f64sW/aDPPPMkwCR69QtGMD3scf+Li+88LKQoyKQ5efni1Xs98ADjyIVy7+RRPPPCoSYmFKHe2IyyyeffFYo1rz77jvk5ZcXWZvWuu3jY0MYqidVFPxFi16XQw+dIQ8+eB9EoS+q577wwj+FMRoZZ7G/FgNg/bVnzXv1OgU6EhNa9Vi6Yfuqu2oPJPV93XlNTqkjbulAvBtzcm3Zkt7m1gywy9xezoVZs3WZNGmy2iSQPf30k/owcnCVKtGgFgdedNGlree4UV5ejlQpuXLVVdeqhfm+/vznm5FjbLSqN3XqNLVOSkpGHEQmpHddUlN1hPxYlX+M0fGph6P4k6Wurk6Bmuur+8dRY0bfP/rRvEUfoIBVTOgceaOnTOo1SNK/jLq0nghP1QdId1CbcPjhv5IVK5aqhJBsCDmop556THFANpsvQMEBIkxoySSVumzalKY2161bIwQbXQhclZWVrXUff/whYTR5Xerr7fKXv9wK0V+uOkTdGRNXMho9y+bNm9SaKVGio6PVtqs/TgHyJTQ0DHEMYxDE91H5xz+eh17tYpWXzNW1/eWY4cD6S0+a9zjoFKCY0NOjWdYXVQvN3WkxSKML6q2seqz9Mam3giRfmLq0shq7vLU2S+JDA9qILQ86QdykAYGBQeCA7ob47a9Ci0Dm9jr88CNUMkjqt4KCguTSSy+UYcOGI+r8L6LGtLQNcu21VyhLwttu+4to7owZmq+//hbovf6k9F7klEaPHttKDQLWddfdpLgu6tuamhpl5swjFLfEXGNbtmyWefOuFFpD3nzzHa3XdbbB586bdyOeO0+1hTnC7rzz7s4uc+vzbhN1uLtUNtHou0sx96rfFyOJL16XJeuyKyTUz0d8vT2VuXsZImXQ6OI3E38Z+PaH0u+uy1GcFzk8FgYN/jmnQhqammXWiEhl3ZiDYMER/j7iD38xXwScIvfXmaHI/rTJXa/ti98QjTjIjXXH+rGn6e9O0egNB9bTvW/uN4ApQFBpmRO2Tg0txzqhTEe6LX2OsRAZ3Z4Bghm2andpLTgAkUiIEwlqDY1NkolYjAS2WUjhUoCgwl011++keea0oUCfo4ABsD7XJaZB7koBRqKnbxZDPDFKBh2NuU9zd1dFgxJFjx7SJMU19RIX4q84rBzEN1yaUQyxoD84OgQAbjk3elCQ8gNbvadc3bsYIaS8PT1kSJi/egQBjeGl6hubWyPg80RXzPVdtdEc610K/OEPl/fuA938aQbA3LwDTfP7DgVoaUijCoZ30oWOxvTVci7aGIMBemmM8dPuUjglN0p0oK+U1zRJRnGtAqDKunopBEjpcxE4PwVOy0zVshGJMvlMXqMTaFL35gNA01E6+NzumOs7t9PsGwr0ZQoYAOvLvWPa5lYUsEbMIGjQTJ6BfV1FyXA2xmiEDisEHFtmaY1Kk+IPHZovgI+cHAuTp/ywowiiQl+13wyOrRqBfUfFBCrujEDJZ3oBvMoBhFOiA1U9/tlXc/3WG5gNQ4E+SgEDYH20Y0yz3I8C3bE0dHZspsWiHXm+yGmxBDPmIbg5clI8tqO4SnF3ZRAllgHUaCQyBuJEXx/8hGsaULdRWTsmR/orQGNKF2t0fFcg6n4UNi02FGhLAQNgbelh9gwF9osCHUXMsOq8ssqqAVi+MrhFdzU0zE9W7ykDcHkBnLwAUvVoh4ckRwXJ6swSlXE5EOfs0G3xeGVdkwI0mtHHIdSUP7i1o1IcPkP6OUWVder4vkTA3y8imIsNBXqJAgbAeonQ5jEDkwJp2WVIQFkou+AbVoMo8pPiQyQF1oF1DTZZl8OgvCKxoX4qCeaQcBhwwPy9DBwVjTj8wF2lIVbiprwq8fP2UP5GuTCRp6gwAhaINOxgcdZxaRDti2biqsHmj6FAD1HAAFgPEdLcxlDAmQIEr9dWZ0G35Q2HVtgZIgzRChhr+Pt4ydAIh46qoKpObOC4aIxxyphByl+LHFTjxiaYwtcra8IGONfaYR6fGOQHE3pPcG5NUgGxovYFMzouZ8qb/YFCAbcAsNTU1DXIy6NiuMDbPQPe8s/B6/wJdBI13J9t2bLl7oHSYeY93YcC5LwIXmH+NsmtqFMOztXQVa0H50UAi4OJvC8ihZ85MU69FIHr660FsnxnSRtfryyY5XOpgEViODi0PBiGENBs4MpMOhX3+R5MS3ueAn0ewIYNG+bH1968efNs/foAtLUAsd9u27ZtB7Y/HjFixBRsr9bnzdpQoC9QIL/CrnRau2CAUVhJfy1RAFQGvy8WK+dE8KLDMc3qoeLCfw9Jy62UsbFBEBf6SC25LhhvwFgRJvM+4MyalK6Mui+j4+oLvW3acDAo0OcBzMfHZyIIEwCg+gxrb3Bg87H2BWBtx5p6gU+xHINNA2AkiCl9hgKBNk/4a1WD84KvVhA4p3K7ipwRj/iIzpyT1aw+2BcABcCi3otm9dHBfkr8GO7vrczoabEYCZFjLIw3tOGG9aW1EUcdQNCEkrJSxmz3Nwr0eQBDsMtqcFsPQ0z44qhRo1Kw/QkAq9TSERUQJyZZ9tVmUJCveEO34K7FC7oOKuFNcU0Bd6BPEow1thXBrwv6r2BEGqfeqrTMYQa/ByLFpMgAeX9TPoCtVhhRY1iEvxRU1ktueQ30XM2SBF+uUC8fSYoKlPyqejk8KRRWiwGSjVBRW+DE7AEjj5XZ5TI+PlSJI0kpGn/8mF0pwYjHGAPAq4BBCPePgbiSIktTfqGAO3xDv7TWbLmiQJ8HMKQ22FJbW7sNjW9OT0/fAk6sDFyYNe92MEDNCmjqPSthQuzOxViQddx77kAfb3BAs4aHywaIAndDjGiH5HDK4BAJhh4LOTtk4bJdkhQRAMMNX9mWWy7r95RKIiwRyXGVAtDWZ5bBjD5AJsUFy5wJgwBidknbVSJbCyqUhWJGfoPsKaySDbtLWg1AlkOH5gmjD49GD0QkRwsQTd0T0c6Xb8l3ya11TOX+fdYdvqH+3QP7/3Z9HsDAgV3s7+8/Hq961ciRIwcDvMiWVEHvlUwdGPZ/jX1jxLH/34K5QxcpoEV0dEam9WB70d55zg86qlPhy7UenBLFgiw0vthaWKP0YzTG8PTwFDBcypS+BHqumGCEggIHRZdmBunVYkIm5FhcnSU+kCzQ/0tHvGfw3qUZRSrivbODNJ/nbGbPY6YYCvQHCvR5APP29l5QX1+/EJzXDwCrZogLLwZX1oT16zhGGeFnW7duXdEfOsO8Q9+ngNXYgjEMaYjRXrR3a2gpWhD6Il9THRyR6Zy8DoAWDt0YYyeyMB1KNIwzSiHyq4GlIgQOygl5E0SFtEzUIJmeX6WC9frBFJ+F62b843EWgibFiEUAV3qJgddr1ZfxvCmGAv2JAn0ewNLS0uwg+O9dEH2Gi2PmkKHAAaWA1diCDyInxOIq2rs1tBQwRgENrQoZeJc5wwqqanHQA+BTAe6sGY7OCBEFQKptCSmFIPTgxmwK5DRIqocxGIe1WPZjAm3y2eYCZb4fDZ1XAcAsC8uEuBDrFWbbUKBfUKDPA1i/oLJ5iX5DAVciOsYwXJdVpsI9OYsUdVQMzY3pGIVxwT6yEXqvWBgb+SG/l7dnk+SB+xoKYLODA6uH7qrK3izThoa3AclRMeTeKlRUDgb7ZbxEBu9l0kwW6skmAqyKkA9MRcIHlzccejYe/yUncL/pDvMiA5wCBsAG+AdgXr97FCBAUWyoOS8mjlybVa70WRQpWvN4JcKqUIv+rNxYMSwKqcc6LiVKsmFsVApxXyBM58fF2ZSIkcF6aXqfCg7KEdr3Fz3W4cMjEELKrqJ0lNc0ig/Ab0i4r8zEcRYCLENTMcZiICLXZ8HgYzd0ZGm5Feq8bo/aMX8MBdycAgbA3LwDTfN7lwKak+JTaRzBvFx0O2aG5HLEJrTm8aqp922jH9PcGK99d12OygM2hemUUZYheaWOPE8/Lxp8WNOpaKdn3mMGuDJG+SgFkFHEGAOrxrfWZgkdp2vqG2QkuLSRg0KkBGGqfoYFJOwRZZCTKJL3McVQwN0pYADM3XuwB9rfVau6HniU29/CmZNiRAxmXaZei5aG1jxe5NLKADIEl/jQgDYWi86cHEGrHBHomU15CCLTE3ioC2N0eqvTs+orGGzQEGT8YABoXrm8uT5XmePHwhw/t7xZvt1e7KAzuDyCFwF2aHhAK9do1deZvnf7T3JAv8DeqWIHNDkG3strqzpaw1EExjUNBnjcFNcUIIjRtJ0xDGcMC1fiQNZkNmRl2g4akpuieDEDjsxab2alLTk5JrskODHILyNrlGM7EkAYAo4qKsBL9iAKx87iGtleWCljkLiSzyX4NEA/tgPR7VcgZuLSjFLxgN8X65IbxC2hV/ORzfmVkov4iQRAbTjCNpJrZHtYTN8rMpg/bkwBw4G5cef1RNO7Y1XXE89zx3t0xKVYRYqMY2jN47W7tFaZxNcBcAg2BDUCFGlOAJyVFKG2qRNjWChaCtLYYmdhtYrIcURSpNJnUXy4EVxXFAw+dgEQszG5YER7Jr0sYcR6ABiMDyFO9FXbdJjGKfn12FgpBLBpfR1pr0WR3DZ9TyqY4s4UMADmzr3XA23X3IH1VgPR8dUZpGiOTjAhYNAMPRnhnGgcQQDQJu3kiKwixSAbRYb1KnoGuags6LXyoYdKQuT5YIgGaTFIzomBeVn09Vba01LwaylQDtC0JNwFAwwr8FXY62GB6PD/4nVeCFNVDx8y/kOINRXFvhoI5uvhpUJMfQROjIV9yraT69PZmU3fK9KYP25MgV4DMEaV37lzZxu5FCNrIMp8thvTz+2b7qyL4QtZZ+lu/4JdeAEtSiMHpS0J6UtFc/RKgAFzeWVAlEcQoK6LhdwLAYilFYhSHGI5niNXRc4oPgRJKmENyEKnY+q16NTcUdmFZ20rqFT90ABgYkiqHFstrg0C1+WDqPSNUgtTexp5sM0UQ8LHXy1M18LoHmMjQlTsQyuXx762Rq43fd9RL5hz7kCBXgMwm822Ijk5+bfbt29nXEMBeJ2OH91z2Ix1B0L11zZaRWCuZun99b2t7+UsSmMUC+bxIgdEjsULnA0zIX+BILupCNCbgGjyteCmXJVWMMNJWiVS3KfABrlUtsJheVtRlQBfZFdxtZwOEd8RECU6FwbzzYVFYSiC8QYgegc5LO4H+dbI9GERiFLvqdrG9CpxaIu/j4cUQpS4BaBHI5BJAN6xiJ/IYm0P9wnWjOxB7gspNmFiX4soIE0qcSZN8pmq5ZQx5idJWpnS9ynQawAG8caTiGv4XUpKyo3YPgwBeH8NAPtN3ydR/24hB7iOZun9++0db+csSqMxBoGgEg7CLBkQ+/lDf8WAhTRvp9+Xdhx23MH138RIJKwEuBAQ03PLEHGjWoLAMUUFeylgfG75bnWhM4hV1TWp3GHKgBAwA9ZK7fM4Jxw7AIIERXJdnqhUhvaOiw0BWPnCkrFB8gBmFIE6F1ecZgaCDEcGMHMDk2M2Kp3aJ4iQb/Vhc76P2TcU6CsU6DUAg6hwAWIXZgO8PsLL5wLMJiC6fFFfIURfbYezboYDGEGnJ4vzLL0n7+0O93IWpdGknRwXjS+YfLIMETJoKRgGEZyj0HfL4b/F/fb6iH1VCFFiUqRNftpVrK63wbSdGZodsQzt8n5a7l5cWADA0t9OsWW18uvyR9qURDgr8zhLJcztGcC3Glwg9V1hAFvtQ8Y0KkzLQv2dc3HFaQ5C5HuH6b6/Mt23gburhIjT2YfN+V5m31CgL1Cg18zowXldgRd+Gcs8gNiH4MCWQIx4SF8gQl9tg54xt2fizvMUB9Eplmvum9J9ChBorCbtNs9mBR5+Xl5Kz0SLPiaWzCqtk5wKGHRE+tFkQj2ooz7S3C2zJheBK2KCy2hwRjoQbxNkiRsQFurOjzfJU99tl7TsMnXPENTbDq6PYBIHgOGa+zy+FIYh2eV1Si/HSPeNANZ6BAgmoB6GaBwTkK6FForLYfX4xo+723wX5DQpJtbFymnSYpI+bKEwPqmy0w3AW+nXCHqmGAr0VQroKeUBbx9A6xpwXUdv2rTpZz4MgHYmVuTGjMCdBHFRnGfM2hxaDyq0htOGB87WcS5uZw61QwENNKQrjS8YMZ5iVYzjkofEk5DQwbnYX3FQscH+AJNaiBAZ571zU3TN3X4MTosgqcGrpLpOdhTXYt8DJvQO0d9rq7PkPNyzAvWCYKzBqPSV0KP5AKi4z+Nr9pSBI2xU/U4w8vGql2IA06rMUofEEX9L8A7RiLwRCbP7gpLqVqtJV5ymdp6mIQjN8mkpSW6OhfcnPUwxFOirFOg1ALPb7YdYrRCRAuVd5PRa2VcJc7DaxRk9B1Kmg1+DWfSYQUEOp56WBulBpSNw46BpSvcooIGGV5Gj9fRolj1ldQ7rPjBb3jBwqCGiqUKOxxEC3ll/Rudlxh4k8LFokS8NNhw6L7syENkDjqcJ9xgfG6rygVGsyMIQURQ7BgK0fGD92AgDRsKJDc/ncVoxcptcGUsA6uWU1sOyUZS5fyETucLoZByC+3pibZ30sC2c9KjrAE50nqaLAIP9Njfb2/iwsc5As0ZVhDF/3IoCvQZggYGBYdCBLYDiOQX5vI6AVeIryPV1oVtR6wA3VoujyFVFI/SPj5enrMmqkCkJtA5zDHB6UHEeONk0DW4HuJn9/va0zlsLujPliR/6whtAUgSdEsVrPgCOJOiYmH+LQJdVVo1My74qeC7Bq73Yg9pQgzqvXKANdWrTEkJkCHzEdKEuKhfiQYIjo9ZHBf1iiMG4hzwejjYUVNrFB+JHAlwpODRkZFG5xoipyMUsTeCiaIixbHepBKK942KDkSDTpnSnVoMdq/M0rSqtPmzW8FW6fWZtKNDXKNBrAIaklM/g5d+jKDEiIqK4vLx8LY4twLGT+xpRDlZ7rFwVZ8+p0YGyGiKjrTCPnooArgQv7YjKutzXM2y2WYPbgWy/5hAJoBRJaQ7jQD6z9+9N/ZZDx6V8twAM4bDUGw7gGoo4hUt2FEGsCG4MVewY+HcgcsZ0XFEIkOso9mAqOCB+7KTd0oxCZYTx4+5i1aectDBKx1A8Q5psKmUKdVTUZ1GUiBi9khgTIAnhfkq/Rb1XNUCMloPBcKBOBBfFAL51e0pke2WtNEMdShAsQb0scJLHp0YpMlo5TXUAf+g8LU4+bOxbq8+YrmvWhgJ9iQK9BmB46WFbtmx5AVzYVatWraJg/RbowTb0JWIc7LZwYKPoaj0U9jqbLmf7WZiVUxfhPKhYxUFWcDtQ72HlEDvLRnyg2tAb96WBBg01NiAFST5ob4cf1vBwf8U1UQeVV1kvKVEBEgq9VJ2XwxJwJ8zRafzAqO8MnKs5Zp0rzDmiRyj0TF9lliErs4/SrZHjodhx1nDk/wKQ0Ql6A4IDZ0LEFwbd1HgYZ4yLD1ETBoooGWNRRfQA+0WryQTo6FgYWqoBoOUN/zGCb2NjA0CuAfEUHRmbO6KfK3DrqH5Xzw2MSU9XqWHq9SQFehPAqEBotXqEBWIwxImt+z35Uu56L6voKhTiozKIinZAp0Gfo98gcKy1cLCxioOcwc1at6e2rRwi76m5Px5ne5xLXx64OmobuSgaasTBYGMYRHzF6IdMBMb1AigwF9cIgJc1ugbfnRzZ0eByaDGq6UKR4rKMEqlrapRsABFLLUzzKeotR7LKhBCbVMO3jMAXaPNRvlvfwsowMSwA+bsqkecrQA5pMfAosPh2BUHUOAScGLkw6sfoB8bnB/g2K0MPGzivAHBlPMbgwiF+iFKPd+itYqUtv+liiDnjVEQSHyUlsIbi6q02mef0Twr0JoC8C+7rdZAxFJzX5QCvr7D9Vv8k676+1S+iK22m7RBlOcRZznelwv7nnHJYppWqtVLgO1fqwX1yiBx8rYX7PO5cOIhxoGrPBcC5fm/ud942GmhwcazI4cQBSCZDZxWPJJMB4GzalJaqzub4a5GlOQ/ivGiIHz2gr/IBABZWwqk5r1IZTAwGUCVgmY1oHGNigwB0dJpGVHlEn/cCJ55TUYscX3WIo+iDQL/ByreLkwWCwbTECJmJYL8njhmkgG8TonyshSUiMzkTtIZHBiixIgP8khuzwVG5N4ozbbfjfTJL6sAVNrUalVBcyvcwxVBgfynQaxwYxIf3A8AuQIM9UY4DgD2PYy/u7wv0p+sJWswttQez/Qo4q3LQ4X4jtfROhT5DNLtmyCNHHqhaefTbHagfqsIIHQjdFLk8q96NHAZTeDAn1tdb2+rDusutOb3eAdnVnAF9pGjJxySUnh50Anb8DDQnyfgWkyCuoxViBbgbAhj3m9APo5Asch18t6DLVT5iNDsvhx6KXLIzV0xjixGRgYpbYx2GbAqA2fwecGM0ECmHwzDXLEyHQkMRmrAT7JQZPbizQHBS9O2i0Yc2aaf41lrYfpr+U39G0WMewk6xnwL9wd2h/Xz2UcmOjM2aBpx0sD97+jtx7vdGiF9D8E70o9NiVWNsZO09s70/FOg1AGMjAVivYMXFFBcU4IBCjmX84FCVDr4KkcyzSquVcQAt3qwDDs2tCV40v2bkhFJEi+CgvKukSpIQOd1ZTNMTAxcHO613o26HWYRLEVg2FuLOVdDnMNL6KeAIOJBzgHQeaA/mwKU5A87+MU/Afw8lptO5sqxtI50ZicNaaEhBqz3SQOmgQOdqvHuAn5fEgMNice6jzeCKyA2xRAF0tkEPRUBsgGgvCWGmijEBiEag36bmJsnh87AeERWiRIpWsOP1VgMd6ySCDsiKQ0SkfH43Y9G+LxGIuKjWLl4ARBvedXJ8kJyAfrHS4EDpMJ37nW3jt6LDcjm/C/dNMRTYVwoccAAD15WBxrUIWfZuJkAtae+jA/OIFSD8ocgneK3PqVBR0Z0HHKaPJ+fFQv8g+gUFelKcV78XR9FTA5eVw1iWUQTwaoBVnj+A1ab0LQxvtBTHfzMxXoGtdaBlO62DMPd7s1g5A0Z0Z0xDP3C4mjOwto1xBBmNnhMEh2l7DcS0dYq7JddZVQd9UhOQAZxSLeR+O2oQoBdfOIPhcmGsQgbEHYUklIpbA1iCgVLPtOO5EQiYGwX9Wgi4L0a6p+k8xYspmHhEB/mJPyYkBEny3UyT4mzSricRDtC1KzN/OlqzkMs5Crq4TRBTTkbg3xo4TBOul0AXR5N/AmaQr+O7ceY81Q328w/B39rvtNqkJS0Ta5KL5DltSbufjzKXGwogU8MBLhAXnsVHNDY2XoVtO9bPw/8LE8ymi3D4F0eXA9wOd7i9FSCKoN+iWTZTegxuGZysA04MrN0YuJUcGJ1bGQaIqTRCMYCwWDkKDt6NEPNlwDCBM2Frfik+szuF9blQDDcyxgYzb8fzaPHGwZb+USxWMGZbDvbAZeUMOKjSX4sAxtQkzgDBOIKkO6PRUwdVCm4yXtEJFqIQH2YgggatEAnc1EEWVtRDnFgL0S3M2MFBU+ezFNzpzOGRMGBoUJOK3ZiMBAAQ42HNOG1ImAIaPpdhppjccvG6LEVTRqxvwEDP/iLXNwT1Wcdq0u5svENQ0uI50p7xFpkpekZqtHy0Jqs1asfPOQ3qfdkfur71O+G1+1uc+52m/HyHCPivubKk3d/nmesHNgUOOIAhYO8qkhic2DgE9KW7jC7X49iAj8ThSrTHAS0Myv2Xvt3erhju6BFR8iKimWdBX1YCUSP1ZNSZHT/UkZ7DylEwv1Q26qksvrBgc06sqDuk22tnvtqybwXjvjBwWTkDDt7jYDRB/R2b7AwQBDsmr+TEYT1M2TlJYO4tpi/hpII6HYoCaYnISQTFkmVYUyxJ0V8ZgI+OxExNMmNomDK+oJNweyb2fF4FzucgjUpJNfJ5wWrRBm6a9edMjpexEA1ai55E8Jjmrstr61RYKnuDZyuHswFGJGybnvhEgLOkblVznbze+p1wf3+Lq37XYuX9vbe53lDAmQIHHMAsDwxD6Kjobdu2FfAYk1nCkCPEcn7AberBh4OMs4iQAGYddDVx9IDD9PLDIvyU1RpnuTUYQL0x6G0BB0R/ImteJyZQhM1Baxw+5ZwLrq2zxIp8piuA5SDVkTGDbqt1oNXHurJu75lduba9Oq44Azr/kpthO63FSncaQbSJEQg6eoOY1FWyWO1rqIvUoj9fTCZYZyP6g89g4b4GE4oimZaFojX2/Y+7iwCOjmeFejl+ltUQNzLGoTOAWenjb6uTjeXvyBvbnpeq+nL5v+R5ct0hV6t3WgMxIjksXRTnmVMPY5H6AyrO29d+1+00a0OBrlKg1wAMVluPQ4S4AVzXp2icB8DreKxv7mpD+2M9q16G76cHNx4fOTSiQzEc66TEhMjkIREQcdllJcIGMdxQCWbyTGevLBVaiBYMH6PWLL4QNdI/iDoZHu+odASwMxH53NmYYXh4IMRmjsG6o/t2dK6jZzoDTUf3cT7Ha51Fb1axnLW+Few4uVCcEUSBkeCoyLIVgc6R4GYoMg3F+exyO8zrETgXVofUWzEBJaN2sD/LUPettVmK1ow7mAw9F7k7cn/sI4clJI1v6qAT81JWhzR9r0HojQJMRD7amI9wUwGt1oKkz9K0TAko2Cq5WxbJpj2fS0N9tcwJTJKK4GhZkXe/nJv1jvzt2McAjBOkENZ/+rsi5xkV6K2eTUMPiqHJye8PXa10M9uGAr1NgV4DMIgP/wnwWooXPIYvicj0f9eR6bvy0sjmHINrKI48Dnq0BmwvxHYzgPFn3PtqbDumxNhwl0LRkY68wZk+Lbas2X47GnSplOfMnYWWaEzNUQX9VilEROSwQnw9W9PeWxMrUvTFQlEX/YyYhoVGC9T7sD3kPvQ+9Vz03/GFToWiNqvujIM8HWoTQgOkPphx+RAxHfv7WzoC9f0daHl9V+5hpXszwCgb5vTxAB0CCw0R6NvlD66XGZdpSEMgo4Uio2bQRywKQDcK9OHEgn5dDbgHLQTtiIrxPcJQUZTLScShQ0NbdVH03+K1dqX7oqgSsVjA6TVTnLh1s+Qt+EoCtm6QQelr5bKCPBdk3tF6zO61WTZGnST5Y5IkeMZcqZ15svhEhksO2peBDMyHDAlXIEpunhwiufmu0KX1AWbDUKCPUGD/R5xuvAgMN8LAhWWA+/JAQN9UODSnMip9Z7eYOnWqT0VFxXO4rob+NzACeRTrO6Bf+waiyGcBjKfDmnFxZ/fpa+etkTeUmAqDGk3TwzEAMpcTh0YCBXViLFp0pC3KCis9VcqPJTtgNo3wRowUQT1YNmbdedB51dU3q2t5Dw6ITKxIk2aKrjj7Z6R7movT4o5GC+QMOMjp/RoMcPRPqoIxQRgs5gIh7sqxMYSRI119HAZtchC60CiBALQ/gyFBVAOzvm9PGxro+3ZlXYl3HxTkoyYGFM3SSOawxHAVZzAe4N0e4NMKsAi6ST+Av8qUDLArhH6LIZ8oNqyFjxejfYRCv0bOKBZ5v6in5CShHNze8OztctTK/8nRaT9IdHGuauouRN/4Oq5W1o2HyDhmgkyceI5U+wyTOsgxm8CxTQtsEL/CfPHZulGa076Q6Ut3SOjXf5FGz7sk85AjZPkRp8jkWcdLrAujoP3pM2c66u9UT4j4/XX1/t25tjt1ndto9vsHBXoNwAAyL4BkJwJ4tgGIOKGnMyjXnQJYZWXlwwC+Z3HZbbwUy1RwXd/yHiifYKE40u0AjCBCSzMaADSCI2JoIFofVtT5is23XJoAaNq3ii9K82mtLyus9FD7SRAvVcGSzo5rPeFHRIMDmnLTeu6zLfmKs6KoaBIAirzXOij2OYASeDhwZsJIgebitLij0UIRAETvUyTJHFT0ZSLHhqkDAA9m+gAxmoAfCKCx6p/4zixa7+fY6/rffR3geJ2mNUGcloQeHp4yAsGVGdWCfTYYk4wzLeG9GBCXnCudy6mTpPn99kL0K9KUpMKcXieM1MYgozF5sAZqHh8XJKVFpXLa6q/lmCXvS0r2NqmHLmzTxLHy6JF+8u/EnZIV5iGJtjkS63WmeDUhXxn61A+OzoxKz/vmtxh7NDWfCYu/W8RvlF1ue3KuDFuySs7/eYmcvfI7qX3hfsn47fmy/awLpC4iqo21atcp235NK+34fbDvSEurrrG9funKtfrJ3amrrzHr/keBXgMwkO4YANZoAE+3YsiAS5sLzq0AnNqn4LZua+kCqhoUCGJdAUBra6bVUqmvrwhckBop4GJbmeSQsfLoKxQGPRZjIWrfKoKN1aLMDj8k5nFi/RrUZ/w+LwyyxfADYxiiCsTX8wPw6GSJ/wWXdd6UeJi+ByvgYbR7FoouOdhqR1PrPoPFAgvVQpEXHoIBHNdgUOpJoFENafnD2brVz4kD4L74De3PAEcuUrsdqCC4eO9wTAwYKSMRsRHptuDKAIZiWIZ84iSA3CjTr7AP2M8U71qNQdifjO5BTq06K0/O+GSR3Pjua+JbWizbElLksd+eLAvHbZP1HuvgjBwuCd4Xy3H+Z8KHLExx0xTtUo82GSb5jLQxBeCqiwb8QL/BMvbY12TL9G9k8pZ7ZcLGbLl5tU2O/ddTkvr685Jx2hxZde5VEh7TlsPfF85JP7szETD75aONuRCv1qvvnhIB6uNGYEJFmnbVT62z5+j2mHX/pkBvAlhmd8GLpAfoXYxVM8DrWADVJGy/giUGiy7BqFOqd/Q6CHJ9b4hv+nJheNWIoOIbI6QAAEAASURBVABJbtFlfYMfMnR74oEZPMWBYdC5+IA7yoAOZgyiPTBHmAYeRqtPxI+eA+UepLovBviRS+DAy7BCBB5/zM4DMPBy8YUIcQmiZUzCgEcxYSHAkWbh5LCQUUriEOMvEGbhkRAjlmMAjsI6DwMyg8JygAR7J/5wAI7BceYpm5EaI++C29gBnQqc+xAFxEuJPo9C4sYw3Mu58Jk06y7GPWnOPR4hr/hM50LryxAc13WjwBUe5aKuF9rAus5FP+cHRCqhc/eokGAJBu0o9KzE++7Ce9NApqOSB45rM1KkEDjrQE9ytw2Ndmn2hOEGCOsDmpAO+vmtz4TOMA7HRwGYmH6F7g1r4cRbAevDSOjKKpBJuRn9OhLnA3Heu6pCjvpyoSS/8ZJ4VCMDwckny+JTR8r11e/JzvKPJTZgmFyT+oCsS58ELthXif788U3Tz6sAIuMKOFSPR3/StD8UjtH+4Kyr0VdN6Cv6gKXBCX4QDGuS406Xo5KOk5cTHpcTUp6TMYX+8vTGUXL44tcl8eN3pOraP0nFFdfIj9k1Ku7ikBg/dZ8fsyvlGPSFq37S7+zcn0zEav1OSWc65VOyQHp9urUQOkT4L/L98d1kFdiVg3cUvmN0j9TBQT8KfmOkn/O16kDLn86eY63b3nZ731B79c3xvkeB3gSwJRAjvgGw+RAclSM0N+jRmQ4Muq1ZmmwAsW8AYldg/6FRo0bNpg4M2ydi+RpLm1KJH0xfLzbwkLWYdZZCPEcxnR16DBoJeGGA5LoWv2i7HZHGMYhSH8b08NqijOYbBQAFck/BsIRD8AeIkkTpqYqrHY6wNOxYu7tE6WEioLvJhPHB4UNC5etNecqwgGBYg/szmvkgiMQqcD4Q99heUSODg0LUsa0YyH0xaFNU6Q2QKoORSCri/pXj2bUYQOvQfoo+m70apdarWR33d0iIW8nvPOumiHMD8mAxWoUr3Qhh7VDE/2stuF8pHIGthYOh8zEr11WH9xL4RP24vVh0uCh8O4hDCHo73ct6X27vzEMaE/jOhfojEgcmEJW4F7mD5vJmaYppknjoxGJAL97H+sxw1C2AHqsAEw79TNYlwPiAga1BeCdaIfoCrKIXPC1jFz0vfpXlUnH66bLg5AS5v+RtKcj9WCZFT5ZHjlggg32PgBVjs+QH5ykr0kZwwXUwCGF8QU5QDkkIlV+nRLXqRmlEQs44FPO2F7/dJmvhdI1dWE/6qsnMhMBLZeSYE+TNjPtlVuRSOXLqMFm4Ik6GPXif2Ba8KDGX3yorJx+lgJsGRTYA4YvflsGAxaHr07os6ztTP0lLx4/yK5WYkN/pdsTppEja6jRPPSDptXpnsfhh8uGBbz4b0UZs+N5s+HB3IOddKqQD9FPbjIkOjV5YOEGjn55znzn/Hjqqq27k4o+rb8hFNXOoD1Og1wAMg8dhpAPWl2h6AMy6pAPT9fUa+rAbAILMLWbDsU0Auf/oc+6w5gBAEQitABswC63Hj5jWZ7QGK8cPOAC/aoxRUgtdC7kfBorl4PHRxjwV1YEBW5lIkdl4KUaMQVoOiv6434R7kazkPsiBMUIH628tqEacPX+InSoBSODyUIfcGjP1YjhRDru7wU1RX3bSyGilL2OWXrbHD9E2qD+D74OKqsAIE2w/o6KnRDsMOkh3DjY87gxKjEqxBQMcgY4WecxwnI8JxlL/YoSdGtxjXWYVK3UWLqqjh1YhPBTIpoTUnCDQfwtMIwxZvGEIA50jODP2B4v1mUPBOeiMzLsx2aAujKD/u0nxiiZ5AJjyN9+W8U/cJ8EFOVI46wh55Ix4+VvNR1IFbueoIcfINZP/JL+Kn0XJg7o//4yMDpAXlu+C5SK+FRzn5CYIVqangttlIb01zRnkmXVJ5yr0XRa5Tq9aFcmDaVYqamPk1kkvil/IWrnjh1tk+FHL5Paj8NyFO+Xk+66T5ClHyP8uvU0yAqNlJ0A8GnEuCSbkuNiPjMbfkajPOQwXHb0ZnPq8uHjVVvWn5dUoiuU3xXQrdK6npWc1viF+J3zHjsTHPSVq/qVRZssdKfDLr8QdW99Bm/PzMV3ug8U6e7VaBDLqPENBrdxVCj2HDUkNfWDEAes/rMmpsLwBkV2GUxDZ0UgXn05wQF1HOCfE4kPQ2F0IrOsLIAyB2A9eX5g4NMkJowap5Jjk9nQIKDrfbswtV4YJExPClDk8rSB19AQNts56EQaupZJeizTZvmKIzKjToZ6NnEAlZuHMb0VjBUzmkU3YH5aOiJgOToIgEIPB8Z6TR/PSbhdXs2drm2jCrsNFUac4AWJIBsxlSCNG/Wf7NEfBh1vfk64FNHRhdBNOIohkjLiP28g5U+PbXGd9Ju/D59I/jhaLzA+mn+G1dYsE3XaT2L77WqpGpsgjZw+Tv3p9g2c0yhkjzpSrAVzjoybwFi4LgYkBnBkDU/tvOTs488IHPt+MoMEO7pFiO4IH9Zc09KAFJN979ohoNXGohv/YfcselH+lPQ1xnrfct3qyXPP5KvX8N/7vWvlg+skSDHr9ChMWDcykSzFEzPx2Ce6kpXb/YLR+3p+WrdQDatcQcnIUa5OT25JfDhqB4wfoZkBswDiQuEwGg0MbBv0ir+U9UuHj6NxHzoSx9llndZ2v5b6rb8hVvYF2LCYmxG1w4YBzYOCSru/oAwD39GhH5/vbOeuMHXJDmQIxEJXxGzHwM37dJTOGKstByvi1GT1/7IvXZcNJuQHJDiGCgkiFM1YaB7BcPH1oq9UcRTolGETLazFQY7bOWbsfjg0KYkbhlu/SAu00k+eAQi4tB/5k1AtkFlfDibZWDSI09VfWG2iPtXDA4KxcD1Q8R30IB1cC22qICD9NBxCAC2SGYIrvOKOnv1gUdHuV4A62Ie+VcwR36zO6u802cdZOMSuNJKzhouogniUQ+cJqhjRiPW0dx+doq0O2nVwHA/KmRAXBaMO/ldbkhLVLg26b9Zk8xueS8xoLYw7Wzc8rlsL5d0oq9Fz1mEw88fvRckPyJojN9sj5o+bKlZP+KIkhw/TtWteuBuc/zkpuPd/exnaAF15PGUnkAByoE2PXsQ/IoVdhwkJOisDDvk2yXSR/nXaSPL3+TrnhkCWyYORQWfRJkFzw2t9l3Jrv5K1L/wILykD4o+F7A3e0kxMjuGqU4VuMBJ1GgEYESLpmkD6c6NDPDU9UTSSI5aKvqbcbP9hH5SjLrShR3DqdtTm5CkV/JYD7YvFH40ciZY1zAld10umPlfN0OmV2BwgFDjiAgY7j26NliwixvdP98jh/4BwkdeGAd8hQR6BTPTjSJFvPDr8HN/DQV1th/l6uRItjB4UgMkOgg9sCKJD7ohjOGmWCJu80k7cq3x0m8fUqBNQ3mMkzaj11awUY5DjA0RGXBhvUQeSAe6A4kM64a7NoNOrIS0ZRGsWY5GL2gMtYCxN8in2o39gE0SGvGY9BjFzZT7vLlBiM9pGc/cPtSeludkG0Rp0HMwyHI/IEaWEFEy0K0/TpbG0d6Dkg6+y/BCkCiQ4XxYmDL0ShWodIK75dAOqXIFKl75Uv6qKK4hrouE2/twIYxnih7dTZDQn3bY0y0tEzrWKvys++lPibrpWwnEx5Z3qUXHlEoVSHZculo2+QaxHuqbE+SIkgV2XktOE2eH8roPKemu4aeNgnrjhJiobzYeARhL5k/3KuwqkHxYd8T3I87KsIgE8edHWcDB0+fKjMHfGsrC74TL72ekQmnbVb7lo7Wm77ZLWM/Mu58urc2yR91Ez0KwGa3witMBtBF4AUb64KNxygyG+Gec5odbkN9C3Hd5EKK0l+F/HQXTIgKvWC9kZ/cF5NmJg1ylYAI0W0iQi0zIDQPTmxcbTP/O2PFDjgAAYO66L+SLh9fSfnGTvvwwGKx50Lwes5BOyl2IYDMgfdVVBwsxDEfhk8MCBAXMTI6BQxUe/AkYviL82tAetwH6TxgHgwF9wVhxpMpBXnxUEuELNmjC+wBIOhgL1etkMc+M8lO5UOjYYHFEUxZQfN+ikm4yA/GOBFwKC+hoMTkzdqrrAIxwMgquQQyggdtHj0gJEH35XbfKeRAEhep0GFINNlAGtAtAqIU1fuKlG0iQ3wghiUhhIgS309xLGM1O8th8aFIiOyt6xCmymOpa9cOfzbMjBIBgOY7CBMGQCDAYeZEHIQwJkix2ZcSxqNhw8XoYJlFVLFcHsPjBEa4MZQj3v5wPKT+jKPenB/Lc+cEewlCXffJIGvviw7I33k9LlQ1I6yyemJd8jh0WcCuKE/q/VH2wstbW+QlTsKlZP0dgz6EUjkFUgLBzyPETxKwO3W19TJMOjgfs6pxHE4osN3jJMKzUmSdrHQo+YjOj51YNRxsk/Z9wRhWmFym+LQUHwLmY216K9a+WJzPr4/cI71M+S4sFdlU9Wrcs+UN+Sdod6y+ENfueLJm2Xw0b+Tt868WqLxDdQ21KqQVHZMlNiXBEadeBWPU23TKzps0+hkD7h7OulrcSPFiQkQJzPdzPBIP/WdFsNC9FsY3TDFTAbE4Ajtie/SW+ngyAlrcay6t/ljKAAKOL63fkgKd9CBaVEW9UFWR092BzmwSxauULoiOifvAedCC0CMGRDHeMgRydFqn2KbVHBbjEzPGHwcYBmslWA3FvoxOrpygCEXxBn5ZnBsdgAbuS2KGLdzH8cDATLUXf28pxQRI+i4C/+vFkMGjNHKYIPcDBMkVuB6Al04rqFDM4GBT84CoNAQhPfagnQl3sDkcH9YwCELMQGiBuJMFhp+RME679Ch4UrkxmNU2rOO1TmYx10V3zI4X2fluDp10I/VLP9W6h+6W4KKK+SxGdBbnjJc5iXPlTkxx6MP9p6k7E+DCUbf2EJld70HaOxIy7IQ38HPOWVKDJ0BroahsMjxcsLRCDEiI67R3YLcdRGsTskdoYpKF0OjojoATgC+l/CgQtlQ/YRkVyyXp74IlcuXI2FpygR576aHZU1ToNLXDkL0kGNg8MOiE69yAsVpC7mqWnxXVZgs4FNRWaYZiouBkAmmFJezrNhZimgy0C+ibdkAafoxRgOE48DVZ2NiwcnEJFikHgo9XEc6THWzbv7RUo5uXtbvqxsdWL/v4n1/Qc6SreI+cl7tBZVlcNhY/OhZqG8gANFCi/EMGzF6Mc8SLQL/tWKXOkaxDX20CHJMs5ILrmzOlGilq/oWYkNPDFxboXciCFGcxgGFzrYMOFuGgWMHzlGnRa1XANHLgz5QGPLA0HGwo0k5swjT14mO1oxSUV1fhzrNKtzSTwgozEGL0SqoF0FwdcAa/HwaaRDBuwpANQRBiJG40SmHVXtcKK+xiuxIr5M8MTAjEPGSGgdnSrDVhYM67zURvlbWQk6BGZFpnZkFvR8tITmwcqCkxSDTndDQgGBP+rH9fEdycQRrvgnrplPOiML7RLT4KjGOYUXxLhmx8M8y45t02Rkl8uC1oyRu0uUy12ua+CGB5OfV4KCBFIziER/GPvVU3Je17bTAy4X4loWiyxgM5NQJZcCVgd3BNhNg6ByN5siRfo2S2gifPluwAn9eZ417Sb0TJz7UQwb7I+gw/AWrwbHxm+J9+V7UZTEGYxVcBWoReow+fUE4F2YbKlMaH5AE2xK57qQn5cuEMvnXh2ly6Q3/J4uuvk+WJ0/F5MWRpJK60BXghGmun8uUMLhnKCYxzFiQns9oMlWKk+J3QV0oYXQM6nAC5U0umPMavBLbwokWOXqKKNkuij63IZ7klKHMs+bg/qdi4sM+topV+V1YOTTnb8Z6jnQypX9QoGenhP2DJgf8LQhi7YnK9A+PRhwsdDiOQX1aDVJkRystfx+bTIU/l/5R7sAPnODCQZWF0eg5UBAAydVsgpVhZS0yAQd6OYLQYnAor+NgBvEPBisOHJylc1TkWMIBhoUDC/BIlSoMbgUAL/oiUUzIGXMBAJIDMsWAFHOxDhX4GJOkCV8WpHxqoMGYpNpGfdnlMxOVuwDFXtSZWblQArlzcdYHNUK8GdAMziE6UrLxjnnQ6eztcxQgIyMcM3x9P2odI4KClc5peVXtL1abeKc9pUwxgszGaHiYv4cydiD1x8b6SzPEksG+jozTtpJGSS+l2BB0gvXgqEGwyKvbI01f3S+3vvGDxECy99Lxw6Tw6gfk1Jjpshwix89goBOCCQIjTTgMb5pkIoCQXKtzepXVeyqVaJUi22UI1ly6qxoTA4drhUNXFalCUtXDzJ8lCBOSI7zA8djtEAE69Kr8JnTcy1QYkixavhP5vyAirWEfOcKCceLCTiZg85th3xdiAtOAwMGcAFEEvbu4CjThdzEVzswLZemEV2Rq7Fvyn7fK5ZIHr5HY/7tSvj3tIhVFgxFkqG+kKJjfaRm4L7p/UOxcim+LwOXBjwAPJY3ppL8NoMZ2UKRIvRjLDkboR7uow7U3OuozDicnSj8gCDK5fc4l+L1RwuAMaFqUyns56xD1ufZ+d7zGFPejQK8CGByRgxmNA3nBJsOXa1xwcPAbq1atYlAJU0ABDtba18sTAwtFdGmwTiRgcACjLoGczAWHRraxhqNIkbN7B6/mICUHFBpXUCT31dZ8ZSzBwcIXEDUmc5OMLtgpSYWZElNbJgGICEHrw2YAY6ZPsGSFREt25GBZPyhZdoTAhB8DBgeWUgxUFDdh3JMqPJOKeA5MVL5XwnmaQw7DXdHSj9Zn0BJRYAVzckfgFFpEfpCWp8RHY8CFMfQSAbYCuh0ajqyHfs/ZRJx6MfrK7SiqU/ecBQtfT8QPXl8LDgUGIAw8TPCmSbezz5GeDGgXAPoosQShfWsxWGoDlFoAeSWAcTz0ZfRz+hkRLJoUx9iMAdZHcWOkP7m4IQBhWo3We22XT9Jfk8ve+kouWgvnb4i5Xpr/Vwk/7BQJJb1QSJEUGC+QG3bWFRFoOKiyEMR5T04gdHBkH/Q/RW1MjxOFdtOCkFwHsxXoYMx7oHOEt5eMgC7LK8ERXcTK4ZPjbIDlaRIsBWk5SItTgibfl3iCblR0iw5CJH1watT5ERywUsBDjp/6qBDo7JJq/iBFUcfIry97Wh5+b42c89Y/ZXD2Wtl17wJZlGaXarRvVzMcu9GPfBa/ERqM0LqVbiEESprxs/Db4HslRyJ8FAxClK4W5zmZIvfmjwZwAsZwU5xQ8f0rAdrl0NfRD4+FsSXZ55RIOOtRed4adm2fdKy8iSl9ngK9BmCIaXgPPsoRSUlJtwK8/gfKpCHC/JFYX9LnqdRLDVyKGTtnlRQFUrRXjYElCPt0+KTIMBAimxqvd2TuN8/J0FWJMi12ukyLmy7xEYmSnu0YwCga4oyVM+Cjkh3HGiAeOnzzCjnip89l1IblElzLwRLckY+vFAWGSYV/kBoEggE340oKJaKmvPWNSzB4LUmcKD+MOESWj5wmu32QFgRRNxrhMc1BkKBaibiLBDaMW0pnRwBjezkIc8bMwLX0I+JAQp0GB1Gd6JHGJ6+tLlEgpOM2MiDueWgB/Zx2gbukLkRlk8b1o33qpQBTnnV0usbAaI09GAy6DYOyn8AYhWuss3CKuXSUfYKu1QCFDt/jBtmUcQPFs4y6b/OA+A3AE+6PYL4AWXI40dDbFTWukZVVzyKu4E/y1ge4T4WHfHb6HNl92e3gzuxiQ+QTHSiZEwaCqJ/ibh0k5btzYmEFGt6fhhU0hKBVKrNAKwd0tIuDeBTExxRfFsCwhsYP1HsSZSoATpkeNhnrVS8fgMtmlgItSqNF69bi3TIGelDqUFkCIHYtqKxRfRMPMCGAMSUMHedZuN+EjuT7FyNyPo8SHAgyNLoJ8k2WGPtDsvi6tZK+aL7c9cUysZ03Qyrm3C/FoSMU+PA7AAYhwoaHypkW5uEDoxLosgBkzARN7pxLArguq7iTdKdRz3r4DNaBdS+vcYjL+T1zEkApgQppplrpAEGKGyny1YUTAdKSxWrpy33rOe6b0j8o0GsABrn2SYgqPysoKOhyANkihJD6E3zEfuwfZGz7Fs4zfy3qa1vLsWet+xXixDGtBh2SlR4AQDQE8Q85Iz5rUjx0IeXylzXvSohXsgR6DJevdn0j72x9S93IxwPhfmrGSoT3OIQgmiBDg8ZKfkmFfHndPfL0f1+V2JI8KQsOl6/GHiHfDZ8iaXEpUhkTJ5XQqVAcQ05jPLiIdZnFUlFeLcnFWTIhZ6tMyUqXWTtXyymbf5Cmjz1kKcDsg4nHyBcpM6TW2zEIUvREoZYdg1cT2uztCX0SgIrgNhgcg47EzoYGY9ZsnRHTcpIclB5k9ZpOuwSwCnBGZApIkwCYiCcj/tZ7iPK+vKRERX9nSpj4wY5ZOe+vjUHa+NvhOHV7NCBYncXEn8h7hnbEQYRFUV401nTM5Wz+sOERAM0q+RJ9wUGbYq4GKAF/LPyvZOe9JRVlm+QfX/jJhfhyi4YMkw/ue0A2J46WuEB/GQ1RI7mj1XvKFRjRgTcDpvoMw8WB1plDJIhpkdbXWx0RP/gO9MErAnBxgkCzdTv6KAdiT34TBDCCnP6mygrLxDs/VxIaAEyBMK4A/bW4jN+WL+6xC+JAAicNfJi1m9aJ02FEMbTMT+muGKjYB7OPBkxKwIiDg8IfXEdxnwpxhvqEN6Z54cSksnyqfDb7dcmMfUQef+s7efm5a+Tis06X7OGXwQrSXxlilGFSw/BlTPy5sxiiSTy3tAHiTrwDDU5GRDmSdDLbAjkwWqvyHHW9nPiQe7Ph+Zy4EBRJpwAYMdGqkX1MHSEBzVUQY9LQ6qPIiYR2praa59OIwxT3pkCvARjJlJ2dXQ3QOhYc2HMtZLNKvdybki2t56BhnflbBxQ9WOkXda5LIz1GPydX4g1dQi5mrCEY+Lzxg+ag+ubG/0lNU4EM97lSUr2OlkGYeR8yGmDhnS4rspfJ5tI1kl6zEEuznLzCQ+74zFuSi+plXdIQefC4a2T7IadJDvQTNdBV+cAyMBngSA6HbWyCg+sGDL6l0JXV+/jJRogP07AsmnQCxq5mGVeQISdsXiqnpX0tf//gEalCnXfGHSOvTD1FdkcPQaIV6FQw0GB8UbNlviMHwwlI+cHQQ7407ABAJEOcxaJnxLRaI+dlLRQNcQBjoem/FjON8aW+TeSHUjrR+mNQ9JQ18DmakgAxJgZ1Fr4LuRCKDRmVfwPoxph827GmdQZyyQEsEccQAEHTbg6W5BDpxM1Bewm4YOUfhcGzsblO3tuxWLbXvimVjVlyVvYgefH9CAnJL5Hqq+dJ0y1/lvpMxBtEn3MgpmiMAy5FpXRMJ2jRYAdjudL3WTlE+vpZCwFJR2mn7xRFcIzFOBScEnVCuaBTkB8MR5z85jaW2BGo2EvGwlgmUwLbTA44cG9En9KggpwMI6DUwsWA9yWnQt+/S2ckKo6V+jEaW+BR6tl0gSBY0JSfXBmd49kmZppmW+oafSVn8t3yl6TVcu1Tt8vi196XP578g3w/9c8QoY5F/9IPDd8ZOowm+6Rza8F9KCJ0FIflLLpKPYPcH8W41JtxAsQ+obiRE4lwtJtiTbY9ORJAieMUlTuHneLvxypapmFJBpzoj4REwko/Bo12CDVbW2Y23IwCvQZgmD0WQYz4DOhzCESH/wcgewAfcbab0avT5jrP/K3chjOAOdeNDfbBDJ7R3ZtkeDQin+NHznT1kyBa+hGiqV32T2BAECLDAn4Faz/GFYReozhEjk09Wbxqj5TDI2BFV18kM/55p5y0YqVsifaSU8/1kI9GZGIg+IfYqt/AEDcahhyjJcprAsRJKRjUHGbUNMpgZARgmyoYh8GZYcznHmbGaTFJko7l4V+dKzNzN8lvV38qc9Z/Khes+VhxdC9PP12+HDpF1aVISjkAY/BhWCXO/QMx+B6CUFUaaDhDpg6tBAYOdLJOBJiSC2Qhp0JdGAv9f2h1R0ONkd6NkmOHu7Kfn3LSjsbAbM2pRfCiSwKNQRhtguDGwZtcXy2OV2IZGobEnOAAMnA/vJbwiTQm2VVWLZGIC8nwSrkVCNkkH0pO0/tS01gsyR6jZdHXiXLKt0ulISlZSj98UxoOpTsuuJui/DYiTs15xoGTpjENB0xyFrpoDlHvW9f008qEaFSZtoPwNKjgN8CIGhz/Q8Hh8V7Wb4pAvcHTR45FvMOK3GLZ2eyIasE4loxusQp0YL+2FvQvgwBrdwVOoihyjYFV6E6AMEHPD/0XCnE1/d0IIkXVtTDHF2XeTgMTAhjfiMBaMfRwueSyV+XuN2+W5z/YKY8UXC+Pn3S8jPK7An0ar4AzGSLAXHzH1RBlE9hiEbszG/dQ3z8marWIdEwungZBdAWhJWYkOOMN0EVywhIOOvKbyANnOgUhwVj4HdF9xJUele+bAHD2wUfMyQv7hFywyplnoR8zHrQJGq3ubP64EwV6DcDsdvsFmP1eCiA7uYUTa0ZW5gvdiVhdaatzpA1eo7kN5+tZtwoR3b/ZVgEzdochgR9EORzk+GPmTLkeaTzyYU24pTBXCmWJxHufgh90oMOAAqPKRojg6B9DEdvMugK58vEbJCI/S1498mxZcMwF4oMf+rSGbVJk/1mqPTdC5b9Rshu+xwL9RgOsGz1TMFCOgUXbGIhZxqCJjjkpFfoOg2dHqxWuqXEYYsS4MbL05DFy/+yL5PdrP5HzsCx44y5ZB7Hk8786R+p+faLy+coCV1OGAeTsKYOVaI0x+hidgTEf12NwYhbo0CHeiPFXpKIvpCJoLWf5HMBPGztIPZicCa3qRmHGPRYmgd9UwdAAo1oilPmM5p8EgFuZ6RALagMQx0QBNMSASd85iswIbDReyEOk/YIqhi9WjCXWiHQO0VgI9ENevsWS0/iu/Fj/HxgP1EqcbbrcVzJdLnrlbQkpSsc7nyspTz8ieYhyvxFO5uy/n3NhBINBmI7ALOwHlS8Mok/qeAiqGnB4XnOI3LYW6j+ZkZkDNq3tyC2x/dsAKjSAoMEJ09Door8p9tL7exisV2ROGMR8TfQVBMcLkGafnT4hUIEQGR7iKCcWft5w6t6egQkKRHFoXwLAcXYEQCQsSNVlHU8PX3x7DD9GkZ1+KnVijXJlWLCiH4+zvY1xQ6T5sFel6MVH5YaPFsvows/l8t8tkdlRV8r5UWciYC9E4gk0zaAg0sF9eXk2ia22RBq8wYEBk/i91SDaCe9JdwECdRP0dxRZsvihXkMUpxsIkoy+8UByAk8Y8kzH5GRjeIj8M/MXPeq6rDrZUINUNSOilBM0HajJDeucd7yfg35MaGSKO1Og1wAsIyMjD1aIT2grRBBtY0RERDGOuzP99mo7xVddHbQqkV6Duh4OWDQSoKiEgxZFKNR9MVWJ8tHBgF/q8TVm4/US532ieiadkanXUToLLy+ZkL5KrntlPqbtPnLzFY/I/yJTpAGKcE+Yy2MuLr7NCUiPchr0Ej6yoyxT6jzSFaCVNKTBovBt3L9J9uDOPr5DxbdpjPg1gVMD5+HRHKcGF0jU8HzH6+qBiAYgTx1+jiw47Cw54+ev5PJlb8vTb98jmcv+Lf8+9jwpGnM4xIrNGHh928R85GBC8GIGaJYxAOAlcGjdBUfowZg5nzU+Vum/eI5gRIvF8j35yvrw45wascNa8meIxkifEoAbI/Jr3yAahzCqP025acVH4wiOnBjPMewxCgUGPrSJIEidF/Usuyu3SHbjW7K74nNWlXjb0TK28ni5ZfHHMnvdk5I9eLjMv/JxSRs+XiYsyVTcCE3PeT3jP+Y10fIOVqMAGJrKk04UfTrEgr9kEKDIUwdK5ruR+yEXQiD8BCG6GDxYGYvgPnngUBh/kEtiOPO+QR/aQi9GQlGWkHg3Ahg5m/fLMVEJcIAN3zkMEyGK8Oqg16IvlS7k7r0xeQm22ZQbRCN0UwSMonq4EaB95LgZeJngVgFxMgGE70MrV96G3yMLLWN5X1r70WcLTRCvC26QhLhkOeGlx+S7Fxvl2DkPyysJ78u8wTfI+MCJ6jr+oc6VIEmwYiHtCFjkGgmYFAuy7/hcvgvPecNwiLRt4PkWgGPfTUd0l9JSB3hp/SknE+X4ba3H5G4oItaQq2RWBYqmdeFvlLnmTHFvCvzSowf4PQaKFSIHLat5NH8oWqzlTGJa11GpTlERC63VGuBAZcMgcQSsyJZhls8f+XD88L4t/xLiwRSJ9h4hifgxhwZ4yFCknKfOYCLSxV+8YL4UxCTIOzc8LI2+4TIFAzh+57g3nXIdosBghieCVj/eIw4DQRyeeJQyEIDwRio8tkqlNyKZV62V/IYfpFJoKIo2SZhEg0MbBOOQcBkjYZ4jxA+JHTmbp27HUWySc8ypMv/Ik2T2z9/KiZ//W25ZOF/mDhoqy86YK5EzYiUG7zAiIUDps3hNMESKnk0Y/EmDqhr5VZQNnBI4GQ7eOSWSDVFfIszEqXvJySqRmTYEG4Yp9YrCOugFG2QydCK0aqP4b1xL/EXN6RAUaPzBgY/cSyMGPg6KFIdVYKQlSHFgbPRJlx2V70iWfQn4MF8Z4nO6TAo+W479YaXM/fBuscFJ+1+/vkien/5bJOkMhFjKBh0lRYx1sAR0ADAHTYo386i3xDMIznEhAQBerdf7RcdDsHHwIA7wsupKy2Hpx7526Ku8cT2NOSBeBVBY9T2M+K/N6Gm1yFBMNLZIg97zZ/h6cbCmqX0T/KggbYVLAPR18BOD2zA4FwdfHQBwhR8LorI0AGSDQHNfWV9drrg+7S6wHZxfAfqGHxFT9zDzNwGYBjc0hyfXD122el4pnNyLwMVyUmAbcpxMuzBG/rboXlm3wFPmzCmUq6uvkMHev5YU22XSUI9ccngnTkxoOJKDeIyM30gRH2lAd4MIWHvacG9y4rTIpTP55vwKJXVgQk++I0WrBLtPDgvHZIuR8X/hTqOoJ8S1RaAf60RiUpkFkTUnOtzXv0kmSlUoyQ/SFLekAH/LvVKg8/rJYoWYqK0QEStx2oFowMEMJWWdWWuzZmf9F9/5zo83qQGP6SkoduKPSUUMx494JjLqboGYjSGXYiNy5Z41Z8i0kOvk+riz5Oy4X36ssvQ7kb/cIjIiFWk+/wFkoIn1/hX6QG2qzpAlZeuwrFfr7bXkzzBbhtn2IcGj5fDQiTIzdILMDJkg0ba2TsNAIpHvvhJ59SV4p24DSzNE5LyLRI4D98j4UvtY3itqlBd2VqtQVzRKIPAPg9iJjrA6ASIHKCr5GZZoDSwOA6FzIdfAlDEMU0T9TrXHCsluegvrTUqnmGQ7E5Kp4+VX2bly02fPycjMzbIycYK8eM6Nkh0zBCBCq0pkrVam7LCKBFdEw5oEWojieRyQOfmYMyVBWb/RoMOaN0tzmnxtAi6t8FisaUdWQQzKiB7kxhmE2TnljP6mliPrMzkPbapPk3sGYCZ3oWmgwzqVgjNiosgADPrkeKizKsfEZuSgQDkC4jVGTimgvgkDPidZDEFGDnAQ9I/fbClEyDBk5g7wg4M69KQAfDoVk+YpiLARQUMQfLcEs5+gn6Uu0w99OwgTC+qcQrN3yxOL7pKY/Ey5/8xpMn/sTzCq8ZMhnnMlqukkpPqBmBQToEa8M2GVfoh0gaBxTTi/edxnG3LY+UC6kARR7H/T8pRumOBFkGc/871fmhKGSYqX3LurrR41GzpNiuFnDo/CO3krI6O14Mis6WgOHxO3V6JM1TED/I8JJdXOBzAQrBD56gQrV4ClyaIHI/7o/5+984DPqrz++MneCSGMECDsjWwUHIC7Kto66q6r2mXbf+2ywy67tNtWrdZRR7XDLW7rpOJCEZWNskeABLJ38v99nzcXLi9JGIYQ4Hk+eXPve987nnvuc895zjm/c05BSSQvoVNptANw7mTN4plZ4A9DU3it4CFBwBPtguHn2mD5E4pl3vn50gobtPg9u/xPV9v6/IF2w+evt80fYRqDoQnuLObgmLwYF+AAKWHCqkXyKOLMRhnATMN1KvQdlpokZKJ4nNYb9dLniuF1k5/sGJuWHGOHJmy2ldUf2Mb6ebaobIG9XnK/Nay6R0fJZxPbywakjpKuNlTgkJGWE59vyd0nW/03Jtrw92fZyc/ca/nXX2ub77jNFp9/hS0/5lRbVEz2CMU8yRSIwMR8hn8M3wSaCgz1uCHd7F0xdsyeGdJ0npH5kMBcUIRx6nuOlmSUh9HNFSNntj5IRTsHKafjmmJB+FVwk3uFkVXVCYKd8IKtjnnIKhpXSovsbvkxX7HusSfa6KpqO+vRm+3ED162jVld7KefvdpmDJtmfQT13iQGj12NvtGou4YpK0HqUqRYqNIvCQgjBcye+GCd05i6S4tcH1Pl+paTXuXuCdBBuFaYewB6BphXOTfBugQaU/4EkyBmsiylfxrblJ0kGFOBjxXtkpav7O0friOTiHxfYuqAYwL/oqp2SWjomYqifZV2bJ18bDWa+5AXkeO7C7JOGAMZWciNyPFYBRBCnD5VAgkNHpNjme4b8yPjqlA0gS6kFKPvgGN4amiC7ONg+P3727e/cbP9/D+/th89MNOO2HKyfem4QltSeaOts6dtSOP/WbY0+xKhhgh2jtFx9DVB9ss1ArJ8pGeaoclGfmfVs3PDVeeVkMMvq696L6jRZrZa8WpTuwupKrqRxT7wo4KGvfTQfGeK5n1D2wUBe0hepJQOpub+PSt3QCFufTclnFubfDri+3/7nAJ7Ph3eza4fLCjEnZEleJnwHQwTOutZzXTjY8nwkOTMUOWyy50yrItNHNTN1ojpvL1qo7228nE7tPsJynjR2XIaSi1RAi6/eq2df/M1tkYZM6644Jcyr1C4UmgyBT8XlMGwxWRlamTGDEPU+401yAksXm7xhgi0WUyrAli9GBVoLwKNaf1laqyWGapcjnICfxPiuohxT7L6qkOtmxhVD8V6balbJD/aAotNWmzzyl9THNhT7thEISWzYuU/qxlqmT1H2P1f/oPMnHPsC6/cZ4f9+VobcO8tVnjMufbkhJNtcUkEBYlWkqjyHGRxIGYJYTQlNUXnVe0qmagGdhHjASKpeyCeCw4rEirXX5WqUKufYqJrYyqV77DUhkmAZWiGXyAYfHltqS0uf9TmNf5L1YwLhcLsb2NTrrGMxiMtfUuJXTDzHjvzzRmu3/864SJ79pSLbG2tZv1C4WESzJHghJaYaqENJkm0KOEklFNRKalkvnL+KT2rLtJcMPkVyRTWSQIJSP36klrlTyyTgIgEcyOc0XAQujB+AtZjFDTdj0rPOm+9fscPyOSCGLXDFZcWbtE+VgRjP2koIDrRPFkG/sV10maGaIyB+MPcSsMMulpCDmBDocyRnaXNFOgYJgBkVDksv5PTsEjRtVpaDHMd/K1leiYIGBCcQNnx1wIs4Xmoq9aoZ4B5kQBpUICYP1UFzO7+7h/t5PtusGMev9eeWHeofe7T37L3Eu6x92q+7syKXWMuVU7ETDcu0XQLlEm/p4QykxSCm0lxNVL+0m5CdWJOpg/443gWCEwp5ZahsXzCoByBeUr0/CskpDIcCCgo+IlJOZzNBS0Os2I0CjH8bobh9tGJtsPPw6/vWwq0mwA7WFCIO3ucDjoszou/plH+r0NyMx1zAZoMwxzUJdk+VlqfKvm/yPFeEfuGVTUU2/jOn5FPQkxICVxXbCy0z/78SjHuWPvJ5b+2gjgFFEuLgWECP0ZLIH0Rs2HxFi3dfN8JLfEjmYPIoCENTcxACo1itJQgVsfizyFOaLOY8AbNsGGuqGaItMECUhRWiPGu36L4G/kfZJRJUrxP3/SxMnMmS+sTJL5mpVXGLrS6hAW2onyuVce9KTi6YtskEGYPVkzZwGF28rJx9s1X37WvPPRnO+u5++zOQz9j9488XuhIxYdJmJLhg34TRIyW0Fd+iyVKs4RmQMqsygqVe9E5QSEukV8EYRwjhobZSjzU3dfzizfYgG4Kdi66zRaWPyLBWiotcYz1s6usT+pk61q5xT717B121luPW6I0s/+OPdZuE2KzxyFDrJ/uJUZaHWAaWjeZsz5WDJF4vDQS0cupAxLoWif4lvyP9BNNZI38OTBxAo7JrYiGUqG4vmUKJA40Szh+vkyP5KnEbMx9DewqE5eeJcmZOXawBHBLs//mfKwk6KU0Cc8WYZrfSQ9NjfCBUtGFTBZo5QhPwB+YG/ltsSoRIIgI6B4hIQENQXwmkjy3d6Z7DjW6X8x6mDY5P+MW8EaGxvAmCZSuOi/VlLl3AC0EJTOZ0G24cIYcacG3feZKK+0/2I658Vp7dMNau/Kcn9jsbjNtdd2Dtr7xNethF9norDMccIQsLqA6yUjPdakY/tSCApf+q1g0YmKDcK9TX13iX4UWMMaHZidbngAbCPEgRAAa0KKzuXCfy3SPsdJEwzD68LvJcWGfamsWFfb1bd9QoN0EGChE5UC8S87XUbrVOEHo/8q2fXPb++6qgQmIHjDjZsbaU4wrYDBkO68UV8Yz0KDp78ubH7LsxFz79KDjlHV+tV3YT5ksfn+tZRatty9d8htLGDjAekkTqNRLCdPgkyvGiXkSwUUAaZx+E1jLlVZhJoo4k6xwS17+VGkblD2BgW4oxUwjhJ3MOgozc4g7nOwwO5h6lSReD2mL+CG4JibOHprVIwhrGvKtW2I/fT/D4rYU6fsWCbPF8jXNt7LG+VYU+7TdO7DG7h1gdtyybPvJK/X2vRfusK+/eq89MuJou3/cqbam9wDHHMvFlNES6GunpFgJCjRKCQpdl3sE7DFbDJRZOAJEvE2z81irbFxjj6y60QpXPi/hJg0k4xg7qvulgiAOsJo57ymDxm/tqHdfsDglH35hzDH24plfsGWd86xCjBj/IwhGmDM5/QZISOITQmatlUYCHINJRk8xSwQSSEOJ24hPS33SDqK5IDF6fmhpNMyfgBE4H5oXwgutqas0Cs5FQmSePeAPNA3AH0FhU3eCqH8w0nA1A8QoF3aMX31C4w6CuxH+b2lsICiZEGBmBMCAKY5xhpBlPBRXAeigxhgAB4FlJFSPkUaTl6X0WhoEyyWACekghmuQ4sA26jz468olLMlcggCb8cF6xcxFwhUgBQIdX1mQqPfVzOlW3qe/HfvjK+2e279n15z7Q3ui5zRNvm6xNTE3W1n589Y/7ms2tNNYyOgamj/+LXxdQ3sq3ZmecYK+u7Iwmu+gHXfuTGC8MPUyA8/eSOWDBiOrCYI+EDrhbC6cGF/gWk0GSU7dTc8n2Df8broO6F8Ebu/TtQb06GhLGWHapwmFeIpQS4/oaid169btX5ppLurSpcu8wsLCRXujB9/5zvd/ujfO+0nPSTFJTGSYopj9YgoBHZcimx4MdHmR0v9odo/JpLBirc0u/aMNTzvLFq7q75jgF95+zDIe/ZfdeuqXbIbSOS1XoDBmI4Qhs/8UfYBAI7ww8UwTGGSZMiwAh2aWjzNf/EtMXyhAMX/SCMH4MZEx44SpMVPvKgGBJlCqE4EuY9aKKY0M85i2cqSZwMAcrFnnQbNQt53ph2BUNLi4WAkD+cOS6kZbduNx1qXxLFNlJxmW8m1ZVqPdPnaTPTpEeQ7FYM/+8CO7+J2n7NAlz8j0uFYJhYWUTM2ySq4hHt1LZqXBqiNG/8f37mQT+3ex5+fLsS9hgT+svHGJrba/6nOT2NkyO7z76XZ+v+ssv2SyjX9upn3uP3+0y567y3I3rrYZ4060P134fSs972IbPXqAoxMCB0EDyg0kXk8xb4ASCPpiaQE9pEmQDYKyI7pV9SVdII4UmVUjNEB7TZUPkdIfiBRMbWhT1FY7Qmmbxqh6AJk4CG6mJanPxH11kx9qYp9sR3tXHFS/LZDJkXEC+CTQAjBvEcw+R2mqytQHmC7HgYhMlsbCflwP0zQCiPsZolRcCrZ04JUu8rVhMsRvF6sBgCaJuRP/IDRlQkLQeaESNuMZRSPXZiH3IjGHaPf9hQol2FynUN+rXXA6NeTQkBnPmEn1OFwISKBNUjOMvpFK6oTjx9uD/Q6z3Fkv2dmzHraGjHwr6PVVS4vrY8WKcVxZ95A0xgLrLX9qTZ3STkvQEDOYKCDHYJ0b4U8s3LjewsPqO7RMF91HSid/Z3Ot/GuNLjcmdgdMiRRv5doLlIczMkEkT2O9K0+Dvy9XY4qyPsG+0DV4N91D0j+0yQxN8Prp3g+W9tvf/vpn+8u9tpsAk7D6R1xc3HHSwM5ULNjvFAOGw+TPEmC37A1idVQBBlPihaGRpmeFmAYIN3wVQKL1s2btiWKCMTJ/PWAFNbOtT8w3Fe+UaANXL7azbvuZrR4z2b475fOu3hbnoeQG2hIBueKbrqAkOQiTdH6EEwmCgR2LF2iSTUb7iMaC8CL/YbHMf1mCIeN/QaAyi4cxIcjINwdT7CpGS1wQwBJg/pTNgJHBCApkDiPND0lx+4jhAQIolGZBEHOyBEKDGFGNTG11jYKZx3WzhLrBElpHWVc7wypSj7GnBikAenyqrUvfYiMLiuzcuUvs/FmPW/7c+61+3SuCz6+32qyu1j83T+bROpsjfw3aGUy9LGaObYj7iz53yeeiXJJVJ9uZBWfbNSvj7Ii7/m7n/vvPNmH+61aR2cn+Pe1ce/hrv7Si40/R9L2LBHKjhL5Mp6I3KEJ8I/2UIb2/wBtoQRMkIALkIX4X6CP+50y1CCyEOpqTNouxClgiWlNXjAkJ5wLMQM0sMlGMUxaS4LmjNeJbYmKAvwumWS+7LsyVvmSKlmwLGCuTE0AICKjo3xbLl8Y2fqMheGL0TOZJwwLl2KC+nDS0m50wrLvNExLTaZAyN2KiA5XJeOBYJiNMBqiAnCKNNzcDqLx8iGLqZBWhJAv3w0SHvm1SUmBVlLHZAtlQX220SreMy8dfF+MEL5py4BsMC4H7FbT/4NBp1nvdx3burEesU0mhze7/GctLPE3abpyE0GO2qOIxPWcFUlf2cZOX4bnpGmuRXJII4vMUtT1Mpveeoh0+skGqEF2i6yZ2znQhAQhTGhNCBA/WCMyemKY/1rvHBIWcoz0kEDGfBvsyKQg/I/rNZ4ImTMFEwu18gP/bnwRYu5kQ9czjFixYsE5wevf4BaN/T+t6jQ+uFjYBEbgZZBZHqIA8G6AXLkd+mCQxiofXPWWZMaMEGOhudTKR/PiR3ytrQSd74pKrrbJAfihN9YFzU0EXrYfGf2aqMI9JvTIdQ6Qe2EfydiN8EFQwxHIxS3wIh4jx4FfArAKyq4tmtWiG+dIulskX11PmIQQUEOkMMbbE+ATHJNGImLFnwoS1DoOmqCEz/yqBP3LFJIGsIzTXyq+GL41yGaliHqQNEl9w11e6Bcuoy7WYxKPtqUmx9sRkBSIXvGKnLnzZpn30sX3t5UUW99Iiq4+515YKyLEip5MdohIvDV0627KSDyTot1iXiiTrU9rb+m9utH6Fj8tc+qgEumbhvQbboydcaG9MONY+zO4tRq0M91kZ7t7Ijo+AppglTD1es/yzx/TcanZyxNQ/5xeRUKhKUAZ+JXvEfErwtA7ZGjyNxtNZdCOt1QgxWwQC5kaEWKZoADoOs2y8TLFobDx3fFzTh3ffer2X5POkyGjAKIMl16cxiQi2BUt+iwZ1gHTEZ0fM05RhubZR9xcEd2PyxJRJZhe0G4J7GS+dJYwxBzNxoe9Jii9kPGzQJGSFjh+jeKmuafHOX4dGhKaZooB5tCz8aQvUj5nkkNR5OR/mVkYiKcDeXhHR2KcPz9U2JdlVSqmNiiP84QU/tc8/e6ddPPPf1mfTarv63B/ZUeO+ZWPLT7OXNv3W3i//o8AZM+yE3O9J8z3UHesynEgbDhrvEp+yecXWPz3ONig4O2hh0x+CCd8ewgwtO8jLiR+VDgf7ht9NfGnQtqVis8F1/HLfUqA9BViFSqnk63YZ4ybhdZQWipQ8+Frw4kXfOWwPLQxH+Jqa95RAdrWMbec6B/rFL91vgwqWmf3id/aRkdctQjrMjcx6g9gYNCYCX2HMLluDUIuguRJcdeUYZ3LCp0WyVmaqzPiDnHL4AHhpqZtFjjkyqfNyn6Cy8ey3ojDVZWkHTIHvxgk9Cc7RMlXh6xguhsg10c7IdweyDj/I+2u3ODMOJshOEpYwyVplfkAD0ibXxOfdfVbUpFtlz+n2QK/TbOFFmVa2bp31XvSM9VkzxwavX2a5RZtt1KpCCS1326KYtJ4UmVvlX1rbpZs9P+woW5g7wN7tM9w2JmQ6vwkmKKmZDpABypN7AfVJDNXCAnxbZscoLornEt1WSBhg6sOEhlYBhD5eaEm03YDJBYKo+SKVxc7/FKDamNFP6Z+9w7V25n/h+HALmO4R/bK3C5yH/owHzJ/4BsPCjjGCj4hxRkObqlBwOGZEABmYT7uKjgQOA+kH9YeJeK3MmdLxBBBKdLXcQDFKV3c0cDW/9BBJuLxYgBUCvBHSTGQAjyDInc3VXVE+QmnQaHCgTv9y3KW2qEu+/eTxP9l9t33dFvzhb7Z6wDg7eci/bMZHj9qjK6+3h9Zebh9XfsamdPmaNEuZYYUujW6V0s5SUAdDDV8fY5kWFkzcOkB8JhrZqiBdLrNq9L7NjYPQqf1qB6JAuwkwmZGuVi7E53TvPSS8XtdykLad2YFosde6gqmL2XK0gAi+B05kINNFMneAvnp9/YNizamWl3CUjS1bZ5e/cr+9PmqKTT5yqhXN3ixzlbqrD+YoGs5uzEEg3w7vl+MydXMeySqZY1yxCr38Qj5KZyERMOYwzIowk6A2V/jFJVs6/SJD+hIFw6KdAaLolZkg06ACneWnoVzG5D6dXboeZv6bVMGXjAhTBuY4pgBK8H0FE7MvM/X+YoDJ6sNmMY0EMTCu3zSfcT45TFRoeJvV71jlygP6XSzg+9phZ9pHEy+wF3Sr2RKA5Q0b5CvZqKzngx36DeDBIKEkl28qc8G1+EaqBeWuUX0X7j9VGUigzzqg3Q0l7ppB0O5EwcYp+BhoKWEaaEcJ/23lXPiOiQ7NCtNhNNoNeoWzsLQmTKKvE61Jca0wY2U9EEbh3zhPGNSBgArqirEfLRB2CC43uVDSaGi9WpOcDwtqrbPuJUelWEASQheSAJMRH3Qj8WkEQjMJIpsFvjkaPrwMPWsEOyY6RiEoREyKbBumPIbUXCO4GmHG+KevidLkUxKEiJTmjln2GQFp1nTOs98++Cs7+oozbe5Xv29vnXy+nTbwdOufNtkeXn6zvbf5XzZvywt2Yt5XVQbmUnf98L+ktGRLKym1h99fIzCONESZbbtJONGHcPkUzMLBM0LrxvxN35hUNFcNPHwNv94xKdBuAmzp0qWv9+3bd1JiYuJkMS6Fc8S8oW2bOiZZ2q5X0bElBJoGhRVBC/KdzOlkbiDz+qT8bGVGL7I/Lfmv9ZZZrYsKSl5+54+sMjHZnj736zZZXavTy99XSLiVioFyPitpL0VyvpMRonenzvaf99Y45/SgPpGsHB9I06gWs0iU6UeGLAkimbLE6PDDBEwxYDA73nnEHNYoSYBZUvzNjpCAHNKtxjG1zWIYLkBXPhJN+F1WB2b+5LtDc8FPhObCTBxcHqVL3lweQRciDNJ1TIkYCCYtzoPmtkEd6ywh4SDrOhcaAoKuXNcq1j5xsRkSgJ0sBpOmaJEihozgJrExzJoCkMsLKaciGa/fCXLtoe1S+JwJifNR2XqdmPEQCb7WaMCMPyjnAtPnfpC7zWkCMGjyNpLfkowP+GAOzc9yGh90dXSS2RUzHi2YuATrYeGHwAoz1tZ+47p8aOG6Ym6D/gWCkAnTmJ6Ziu8S8lGMm7C6QyR0S0UPYgCrNBHgIWJuw8wJEAV/JqY7NG4mCk6bR6PV8wDQwTNH46oRUTAZ9lA/iNNjLMbHRpLlBgKU/oBY5VkDKtLCnWf5wEPs29+7w65/4k829k/XWrd3ZtmyX/wIKdR4AABAAElEQVTBniuR9t/jKpsqX+mM1dfZjDW/toVlT1hW5h9tQm7ErMgZNmt4dNE7QCBBg55zua79nsYe2iRB7dw/9EPQQ6dA4OOnRRPsIxM445+CoBFUZ2TMM6kIPyOu5VvHogAjsd2agByHSXDBVRGcfXJycoYVFRUt2Bsd6CggDpBjmMxgkiyXyySld97N/njhccKLx2pboxh9gvwlZfb2xhn2buGzdlKP79kxs+faSS/+x/502let8ZAxNlU5A18hI7t8EMR+IRhw/jfKh0YWgt7yfcCoSLaK1oOQ+GBtsRK0RpK7BklZmSUDvR4r3xVaHMcwYw03+s7x+A7wqyEI0MKYueIjW6l7wU9CHSkENUrgcCXx45g58geBkJPcdKVSMMV9LA2JzA/AsBEu6bpfUgiRXBdTFWAWhF2KTJRk3CBvYYMEBuAC8u6B6V+rQFdXLkMCC78f6Y2OlObaV3DqOSqPgUUVHx7xWfBHndYt43S8JubO94YfB2AJaYrwB+kSDlBDnbRoGqBdYNLFJLtcwgfBjImN/q7ZUu00kgAtCA1mCyUI8m6IBDWMk8BcAC6cA78bQAKXWUT3HoA0GBt8QM0h9HgWIN8AD8BwW/st/LxYD4OEUnWNLXo+ARABlB3jBd8VHxe3JZMeKFYEFj5LwDouU4fIzRLoPOmmHNJVxwNQIXNKpYQZz5ZYQcAeIF8JAcjCn6Z75RkUabKB5ovA4ryMI3d/+o3taHE8Z8rv9O3Zxco+faaVqTr48Bn/tC5PPGyxo8fYlm55Aotk2aFdT7N+mYNtTtFzdseHf7W1ZWucEEtNSLVXFq63UcmNMhmnWJJSX5HEmPFFoDhgpGhQB/SkLxMGdLFYPQ+eGe8m94UJn0TKeRK00WjGaFofqN89iKOZJyuz4W3afJIGylJpYBr6TPYw8NjDrLfS4pTF/jYdMkT76F1ouFTrMUI03qXvjTrHh0I1Xql1N5/TskM1mFHYfwGAAoFF3A0ZGhAIzFrxzcAcQQy+sP4/1it9gB2VfYid+/DVtrLvMHvvmE/bCekRhTlOzuo6+ZBG9ezk4qFgSpgJg0SsQI2JncEEh7+HQGOVJ5S2Ix+OhIHkpmbLcUoIHDlfMEOPJlxzfUcooonRIDhAEPoO4xTf2trwoYD8YvaNwCEgFeg+GgzZFFiS4gphCCNk386aMZNJZKl8KYAW+CBAyJfH/vhsOiVGskJgnsuTdjBJSMHhip/CPPTAuyttuYQKWlnQXB/1Bb8HyWIzJEzQELYoJ6AehesLtCNBbgRQExwZWeIPfE7PhLRXfTQ5ANn3rvaNLo4YzOrDYIvB8gEF9coQBkXKKALAAU0OAMxAxVSFNd+wJrV9L3aenizYvzkNIwxECGtyWyqrNaEoc0hI4t0Q7KBi8QeOUwqrNwTKIRVXgfqNqZmJDoAfpltke6dUDYIKBCf+NbJnpEjLX1AQEfRM0Ig3o5zNZIUSYM5jogbyMgIaStTkBEAPwk+lffS8O337Kis+40SLveRiO+PqS2z0mZ+zD75ytdWnptnIxtNtTM40W1J9j936/k3ykz1un+3/TYspPMIuzMq0VFXO1khyGiMhJVv07gUtrAUGJn0CBpasK3bWivQk+USVwzJyfyYttcqZPzk+/IyC8/llx6BAu5kQdbvHStgMo5zK7ty6BN+p7K+kv0cMHTp0moTXHyS8dKqYaxYuXPiyhNst2ufT+p0Ysw7Xon0bvMAwXwQBs3gKLb6zqtgFijLLrY9dY2sq59plI39oR8+4xzoXb7KHvvNbId5yVBRFMUZi9pMG5MjXUOwECSU28DERfrxSQoPZLvFfZOPGb4WAID/gq2K81M5CCCyR1lctoXBIbrbO0bIPILrv+H6CshQrZTLEqc8HUAf9eE1mmheXblRZ+WQ3axfPltDCPAPiL5JpHZNelrKJLFO8GwxTck/akGDlkjQIJMARMBtmycRdla0Hxi9BI6HLNmKUMnUuYr9Gyb9CbNOLizY5rQXhjFTFv8f1mB3RoBlwcJHDHY9GQoJalmhGCB0QePwa3QCzjBJSk9I10ArgSa60CWKfSGYLTUhLBJND4IerQOMng+ZrJLSWFZY6TQWfkgN76NpvrSh2grm1wOXo/uzK90AQdhKwZouKUgYtLNwAoLgAamlYmAhXq8o1Y6dKWuj/ZNI+aVi3rYJGriWHkCWWC1qi3bDOROB8QdpdUmBpeowFKopDeCquoTlvkvBj8vHGii2yDkSqaEveuZgynlJzZrq6MePs1XuftGE3/9aGPXyP5b7+ss3+4W9s+YgJmux1svMH/dyO73WWfffVb9sdC39sOQlD7PKS71lc7VArFwKWyRkCNpigcf/BJC1s0u8qq8JbemaYiBlzTC4JwGYYQBtaWPC5Df5fh6IAb217tVW7K7zomATToz169PgC69K++khwFUiIjZfweoVtak/rc5xb64D/sKHDKGF+CBNmsphf8Buslw8LsxR+rGRxBWJx3tr4iN6fODst7nAbfP/fbMUJp1nDYYfbJZPybaQEUYWYwwvKn0gGBUxTOKMxli0SQ8UMhCABdcesVu+kQ8rhB/iijscngPaUJyBGH+2H+fIjmfXw28Dcolt032HUwJBhVIAb9BzE/CLX5Fi0yWoxQFmFHFweBo85iYwi7AtAJVOdipE5L00zdWRGnPIAiodKK1FpDZnzCBomFRamyVXyD5LHkewWkQwR1RKMESDBatGNLOj0v1QwfbRcTEckJOb6IpNrIoGu51D8jjEhNDlnnZgrgAd8gTAsMrwXS3hGN4QS2eFHCV1H1gnCABCU0BFmh/Y2T1UDEKJzBGB4av4GzfxrnSkUBv6xBPVQITHRUii4iXaMjxDBJ7Cmg6lHX5PvMFqg9WgtLPneFo3njMAEgOICoGW+g1bchwtaFy0QOA7Sr0kWwctojNrslggHGuZr6IogBPWKyY24tg0SWJipk/WcB0oDpfHsXGoy+czQvjc7Oje6PtCX5sbekD7d7OUvft+eueE+Pc9Ym3rleTb52m/aqEYyhqiP1Xl25dA77cze1ykDiKqQv3up/X3dr2xl8To37jF3kzWEdy6YpDGemWgEWjLPgeehhbNW8Ey4d5CmLr5P18FHvUY5Idv6Obib8P8+MQX0CrVbe02aEhk4ZkgQRTKL6tKKB9uZCdFefvnlOh17t3Y/XceeJX/IdK0HPKpUzFGFfTpmi571YjrpIdAB9vWmPzE0BAEIsQZbUf2MqwTc+4Zb3D4vXPgNN0uFgcVL28DHQ9wXWTUgAYIQwUc2BepAUT6ElxBzzBAxztPFqIJGjbHwDJTZJTPTlhB40X3PFfMbJXNdALHHLAccGTMlkHQYAGAKkGewvHr5u/DP0dUGSZV09Q1/RJ0yJsA40IhgaOyTLuaGqSlJ97GuTCg1bWdGjHDHDKjJOzMY+TX4Fgkcxs/HvQox7oQCNKCh3XIc/hqugXmT38pk8qIx84fmLNkH82XER1W8HWqN+4/WQkHm1Yl5Y2qijzxPzL5ofYQmwJyJcxsal6HJBcyeYcpHAlv7O9CNrofw5LsbBPofbuFnFMDvwyCE8L67u865A20RYAZaFAAilzlFlaYxPYMCJXsLExW0xQESBPg70XpJXuzqfukeMNNtazxxMX+NYx4D9IY++BUxM7uM8/qOfxTKExvXWts69tIOs3/f8phNeuh2G3b/bRZzwotW/s3v2uqx022VxtHg9BNt8LAptqHoZrt73T91ypftuB5X2mWHXiQBq2BtCVieYQDUeFGTvyClV5qCosPZ/EcpCXC41hplaYhtzBGisaxGSQY0kCmVE4RNtNZ//1v7UCA8AvfqFSVkANAxE788uJAGOG/2TgUY+0sTu3jEiBFXK4fimzpHuJRqhs6zJThnsExXpoH4ptlisG1fLTHlDHFZCsx+8+xCMVJpT9IYSCYKcwOxRh65huT3VMG40KZumWBjX/mLzZx+kb1ak2oTxRT/9uZK+0InCSvN5LuL4aD5bNHLmSomc8RglT0R08CvgukjQyauEUpdhLmHa4fbWxI03bQtXUyeBmwDX9QKaT9BH90PTf/CfQ9vn6RrvrBgYwR0IYFKtvIEqRRDFPSaphc+UcxtrPxTMPde8h2RfZ1Cg7Fi8jjwyxUUfKg0GpjoMmmPpLByrF4MEmEOb8Snh7wSzsABNoJ8j8ycyTeoU7nrV4gWMCNoSiYMfHJUMkZ40RDUCI44HYAQxVRWpusjPmC0aB6ANMjysEIz7rXlsfooKezYnhbcZ6OEEROHVHWsGC1Uwo17XKVQATKOoPmViVmzLBF8f7l8KGOFKA2ew2AEv4QHIQyVul6K/EXZcfL56Tyf9Bm5m2zmHwCZ8LnRJt5eWyaaKQi5WwS5iCk0JVmasiYRJRpnTKwwQccomHmRslYsEV3Q8jkXzwNTK9npq/TqJggSv1znpEwLPr5pQ7ooEbVyDMpkivkafxoTA8Ym4RXJTWOOIHMlo9yub8103/2+dUye+Cer/97XLe4737b0X/zEruh8k730mctsyWnnWH1iJ/usauVdknuKnTXvtyq7c53NLb3Xvjv5O3bZ4Z+XRiyrhRurCZYvrbBU/s8l0ozTZeruqfRkPNsCIVKTBUCZLP8fjaHz0WbF8GlbjuiBP493rqCs1t6TSfycpvfZ7ez/7TMKtJsAk6Z19J7cpTSvz+m4XhJgv66urq6Q9sUUfDb+MHxgWleVRHtJn+1amRhjR2xy58iZX2mrlCB1g14aXnReFswa7xU9qjpVneybz71r1Slp9l8JsBqZu2bJhLRGzC9FpeU3SvgVlVdJ21FGDMm/dwVJnyQHOWbJwRIUQcNsAkQ47APht9ViWMzqy8u3IS40IZDTWuVRQv6S4DwtLZlBTMxT/JRMMpj6lKhBL3mMLRISEPMavinMTfiA0Mg+VJqoWcu32Dr5nrrI9JkkBt4ooV0kGpQA1BARQOcVlIKUQ2OTYVRPGiGDrgl8G4HMB5Qipjz8YRWqvIyGRUBqshgR6bkqJNy4OykMzuwFv0Q75D5BASJAoDqpnwAmAG9XQn4n2NAAq9X/JcWl9kzMGmmwedvdZxfN5ntlkqld/h3d93p90DyS42Qe0wxdj0sGYKEqJdB5HsFzOEITin+8q3g49aOHQiCAmWOOZXs03T/pMwq0LEAKlQqvgIqIa0xh5P7LFFqvUnW0QJZSqJKK0pg9oQWplahoUC6Ax0cSzg0SVASfU5sL7TMZYaazAdogDjBZxC2X4CttrLF3P1aAuZ7rKmkpPLdI/k09IwmxNB1XKe0O8xyaM4CZ6PvWIc5CEGiIO/jHOuea3fEPS3htppVe8xM77c7rrOjhO+zJI0+3hSdPt3OGDbCzcm+2lE4L7JHlN9lVz3/DfvW/X9kJvS5VQufzLCYhy7qrfxsVRgBFPt5Yanma6NZoPHxaPj+0vnCbo3crW/cZo2eNz9jdk2ZTM+ausXLRa4f+hQ/26+1Cgb0uwCSAZjRpWs3ekPxipzX7Q9PG5OTkh6uqqv6u87yqTQk61zf0WSBT4m3ahjxYIOH2YGvn6Ei/hbMhiAc7cABw4s5pFbLf/88+UzDFJrz3oi258jtWkdHJqmXKQePAr5Upxr1EggeE3xAV8dM76Bq2/TC6DLNgkN4oHMjZnEmMEwQO7sjZdv0/5wte+nmC6v/j3TWOQUeQijK3KJNHbzHrIgmXDdJoBsrWR5AtGcUJcsY/BmQZs1K+mD1muU3SBJMUp0YWfVB/y3X/zoyoe8V8KiXHzYQb5ZvCB4gQIloZgQeDIRC6fxdp3xJEnBsfV0+ZVvFpzF1Tq8z2Mv1JCqIJIdBIbgtDjZNZEOa6SLNr+pMuhk1IAy18n2HzHpodBTcJYdCppPkRPxUxmeEjDHwvAQrwQp2LGDGyV+APO21Ed1dw0V0k9C/abMlPu/qMwv2LV/+AhSPAoDv+POp8oW1GqBUJzCb/Y69sxXqJXnq3nABbJjAGMHRSZOVLY19Wr+rI8QoYV57I5fLdQjvQhOxP6AOVCkDuYY4ko3+1NDoaZViIt4rXwyuRdoyftLeqaEfXOWPfcN+bM50Ggnlz+kBb/P2bLe2N1+z0Z++xzz3xN6t75u8WO/UYO3rs8RZ7yik2svORtqxstr28/m9235Lr7bHlt9r0PpfZSfkX20iZvbFWoDkOUDhB8Hzoww6t6R1jO0hayhTplt0kkGfSVqbdHa7rN+wSBfa6AFMvHmSw72l7//33MZaf3czxU5vZth9s2pYNAT9WkgQTJqmlFc+JqdTZz14ssPLMbFt+4RW2es4G55+BUfLiZ+hTxsxf5rY+jvlXu1kgAZjhPHtoBEi3oMRG+EVrTtgBMvmkmQii0Xrdlb29twJEMbsEKEmADPg+0IZAGOJTQ2DhN0nUb4wT5y+TFoNA4jvBtYwejK2Yomh8d/XPZA7E/JktoYSvA6EQJ1UK7aZKgqteTBSNjewSnKuPNA4ygRAg3SBtIFYAEkxiwPzJDamYDKeNiMxOe+uZtU2jdRfWP4RZAJnnmljF8MsBKadnxENVyIRI3BMacJg5UmAxKLLI+WDIADQQLOHZ/Cd5RmGQwmJNIMKw8AC+j0Y0UNlH8B/ii0O4J8hkmJcZ8VFhRmRMYvIlsTQmRxIcE5j+kbLtcx4SSGMFoLHfR9KiYew8rX4SChTJRJOjbAz5IEFitlbnjPOE+853UKc0ttMQFlgqEG6gVWf1GGkffu0Gy1n5kX1u9gyb8ubzduYLz1rdTT+2golH2orh4+3/zviJ/bXLF+w/q/5m/1r6B3t8+W1OiE3L/Zwd2q3ndvXAuMZWIalngpZGCAGJjTGfIvBEMsVbprlJZbh/wUSOc/jWfhTY6wJM2tHdwe0MGzasj2J6pul7gpYvf/TRR0uD3w7kZfilWEQpc5nVSsT0qEALAKK/Xoi7lz9tn93Q3w5ZNM8ePv8qS1bcC+ZFWr4AD5htkqWZFIvZo5FQQBJ0Xt/OWVtngwgi8uzxwreUGBbUV5gBwzjDTHZPn0OA1uvZqUnK6EQIIZg8M28KNxI4DPODcVJQEMQiCVUBEKjrzg/TVf6zDRXaV5IMwRYYOtHIiJPj7JI5AlLIlChm1ruTHPHS1EDVIbjflJkySWAYsjEUa990HUfpDVkFRbd6B/AgxIDA6BwJGXcuaRcIIUyWxJBRxLFYfpJenZgItN7w/TSoKKYO1PWpF4a+02ADhd5rDR7PmAgz5PAkI1pI7s4z4jnA4Gn4Q6G3OuTWYch8xcfINlqKMo0Q7ItGFPSHCdMymQFpwP63tshwdBot8V9pEoQwdiZiCEr6qUfufIUn9Irkz+RYNFEC7FujB/uF+853Gn1hDEULN+rD9dDzQwCv6NHXbj3j6zblmu/YMy+8YYPnv2Vd35pph7+qzHW3/Nq+r3H3hR75trz7RJubvt7mJd1ob2TdalWjT7UhYy+27C59rDEjUxW84+3V1ZEJFjTEAlAg+D/9r66TOVb3mysEL2Vjghb0L/jul+1Lgb0uwILbkc/qRAmtf+j7/2R2UChX3G8Vw3WJTIiPBfsciMtoRsWMf57MVCC8KCwIim1NxXzbVLPUfvzaQKvI6mzzTvms9ZXZpW9nClOS+TzWuiifnwxoSqFK3SVV7BVjYUabJzg8LTwbbI0RsG/YJMb3tmgwL5hw0A/OyXe243vh5cdUh1MfEx2wdQoNEjR7+xsrHUgDBpulWXuVBHM3zfCpWyW54Pxj5HEkXgkfFloVZUpARHJesqxHmjQI7dddahFpotBAxeekGShIWk46EHZof/2FqsPkBaIMYQpDz0qS+BGdye6BpgffXldSuwMqMfp5IgviBdwA/anD3cwcU6dTR5p61dwimiEHdGN78Hz2ZFYffg6Y9kql4dLQsvBNAtAgw4mLAdM2TItUQogWmuGxhzl0mQAd0AYTYr4mYGHGjnVgcPc0ofPko1JDEAa5BhkDu6rhh/vuTqR/wRjaYUzzjPQsmeMNa6qMUK3YtLoJk2zmiSqeqesek1ptefPftao5c23znA8sX5ra6I0bLMGBUfXvAfBj2zBkwDeGkIk/Ld3q0zOsVsszk+THTEy12E5ZtjlePrKcrhbXN98quudZZfeetr5rnsZ4pCRL0Ge/bD8KtJsAk8/q5/pMVf7D+dyeqjOP0CwYgXZAC7BoRtVds0bSKRGL1EvCh9ihDyofsIlr4m3k3KX23Plfs9MPG2igr8ZqpkcyXRzsDdIQaLliHkcN7unytgUzbfeD/gWzwdYYQbBvWy9bM3sRJ0UFXJg8gIsKmexI/EuePfwlMEs0sgppZJiIRvVIF0pSZV90z5tlFiwWcAUId6yCVPFtReptJcjfRRaTVDHfCAPBrwNDxhdDyiIc8L11fgReGC6tbrh9MIEdkpfi/FgIRxgiJjMEaUl1RJuCxjBRmHKguQZxRNCQe4qX6Y3YJwQpZkOEUQDpD9N5e0281GmGUpG27hI8v60b9mAl/BxI9zWLwOImuiyREEJYHalclmj+NLSLTPWZFghO1gtKsreOvVUOiShtTM+CVFsce6j2wZSNmZXxxnUDgRvQCc2J33ZVww/3HVqEhR/vEd8DQd9bgjhICMBzw6RZoPHSSxObCt0P1wQpWj24n708YopVnoOpVLSWilixsdA2LFlhsYXzbWPhk7Z2w9uWKTk/IGaoDYkZZunVcdZdRTLTqsotoVxJq0uLrHPRamssLrHY4s0Wi6re1OqV0q1m8DCzMWOs9rDJVjtlmjXk9Qx+3roMP/toem3dya/sNgW2vT27fehuH5AYCC+O1Po8gTBwbRzQLXrmCOSaUvXk4MO5XVlXY5sForz7f8qKkVJpD0ycbhdoO3mzYAjManl5UyoJZFVtJmXkSNf21oRUa4xgbxE7egYfZlwg/nrKJ+YQgFKJEGIg29jOvQ3qlmlje1MMMZLwlvRLaKrHDslxJiKAHPhX8Fm5YGN9odTH6yuKrK9AA0nxkTRFAcoO1CPCjMS/pG4CNo8Ggq8GUEekWvS2uDnSRK2Uv6hepkeSFlPvi+tRjRgADabLFfr9TmVop2GSDAQPkxBipoBZE3eHRoc/jPi4cIvW3Li/OWtKlbIpZqswCbSN8HG7ux5+DooUaEqPJaEvwRUps1O1XXUB4rwCzSl8rfDYw98UxE4Fgo/g7iTB6KMz8nMOjuWzuy3c9+aEH5MIGsKNXI7kYKQoKyZqKppXi6ZDMuKsp8zk4RZ+B5nYvFUkE3N6D6tOzbXE/GOtNqbAVsQ8YDerAkRD4yLVjDvJpnb7vB3df4wT8ExKAvNngTKqLJ//kdWvWKXSPmutf8Fyy1o03+KfmmEp993jLls3eIhVn3a6VZ91ttX3H7hTcEq4r3599yjQngKsUibDCTIZzqaLrMuxHjG0716f96u9owUNwbnM2od2V8Z0BYdayls2ZHWZnbSgzF45+4uW0S3HIdWOGL4tAJkbThJLptVhp1KLFlLE+GASAwXmfld2DYAVzTECt8Ne+NcS43IZ3VUQEkER+MCc6U/+lzBzoUukqALFiP8P4dFLwAuX4QNTn7RWUlmlSBsj00OlJgOzBdvHTzNGMVfVdYk2V9otDeDA7JXlzj9DkuMAtn7huJ7KWiKfl3yIHyi57gohOlHRSG6MZgfAA22MflLVGog9SXgJEcAyiGksLHjIrr9W4QeF0pLfExKT0iP9lJmCkjbhFq2Jh/Mkjlffw9pG+LhdWW9udg/DJQYsDFVnv6LKAtFcoBYJ6ggSkbtqvoWfJxlkAu2HvdtC2DZ31fA1w79HCzcAQJcruwxjnDHEe5adJFCNNKbYlWvCh9r0RE1iahTPpnenqEapwXJ055oM8SzJQCI8pTLDfNPK+1xiNy6/2x7Y8JDNK35SY/F4+3L+5XZE1+GW1HTOTJ15UB8JSD42zl2HN9MFan+0xGLfnGWxM1+21N9fb2m/u84axo632DMvsOmTp+j6MnULoCQvgNUlKi5xzVrL3NL25scGjcGy3G66ToRXuE4eoP/aU4B9VwLrCWldS6Cl1ofIpPjZA5SuW28rWtBgWqLo5DgBN+YqqHhF9dP2x/8JrScfzFunXOCYNzBrWnjWPkClQ0A0zFLm7PFK5ht+oZfLNEStJjImUKIF5tJcja+tnWrnlT5i6AT4kk+QeC5MPpRNgQnR6G/AHBHwZG5AY6Jh+ovArwn4Vr49CSsCofM0Ay8UneJiJTgktMapLhlFNWkbBdvH3wNYJpL5IQL17qvvMDxAFlQtBgZO5WJqX6GZkVmdCQDCjBg2fHZbZL4Eak/Dp0SqriBBL4KHHIsAQgBCIGj5BEHi7qCmf9GCGk2G0iYgND/JJIMx8sT8iFCCiYazRYSDmOkGQpT4uUqEtdQzaMN3tjOeWmrRY/iTCNuWrrEn2zE/h1Gd8eUVCnqXl1igGrRmUqsRi4aIYHIiiImqy0kQaywyG2GSUqNhFinbo3CLlK72xyHfsm/1vthuW3u/3b3+AZux8Tk7tdvR9oMBX7DxWVTJa7nV5fe18h75Vv/pcyxWvrakF56x5Ef/YznXfNM69cq3qiu+arVTj3X+USnEzjJAX9u6xYCkOUhauwkwoRFnKpPG8Nra2sMkvGIF4nhD2woPdDqHBQ2MCjNOkcwYkewGmyxl7Zt25ocx9r9TLrRKxX0R1AscnBaetSfpxaTFSnsLGA7n5vOSbVRGB2KdIo8zWAb7uQP34T8YINohAA7muywrakEHRsq3hE1DCHjqZeXI3Pe6ksoi7LoIgEGeQ7Qc1jvJbET1YEyS6dLEtkjQBA3hg/CCyUabvQJUZESXatI8tIik8VKAsoTXJKHxnNYlvx3w+wRpXkEJ+gGCnkcLHvxAhynjSACmoR/4laJpH62Jsx+CmCD0wDzFtt1ts5YVumwnoABT5YPDhEn2E7ZvzWLRdNIV8jOCBoVG5HEMo0FtUMtXjh7DYfNwy0e17S/hyVy0X5L+0WrTpHH27+smfhHfcb3T5JlU4DslcPvpJRtkAYl1E5UcPW+C0UlAjMn4nHFdBZWXJWNzZ+uT+x27YdDX7Z2if9l9i26zGa+fZ8fkH2ffHH+1HdrjsB1uLjKRwF8tsJLe74KyNOs08Rw74owrLPmpJ2zaQ7dZz5981wpHjrP3vvVTW91vmDN7Ht1/e3PnDif2G1qlQLsJMPUiVmmgLpfwoqRKgrSv56ZNm/Yr8hy22sMD4MdA0AS3wmCHwW1qfN6++bosWIL5vv2ZiwQ8qHHZGQhwpYVn7VQnglCg7BCE4RbeL9jeFoCA4Fxts8RgpY8mhyyJmaJFM8euoBZlkqtvTHBIQ0yGZKzA9IcfCnQZmgONHIYg5DA50hA85LLLkPaWIYAI2t48mf+CfI0INZgv9ArAHhE0nvL6OZ+cO40TUpgBEU4IQ4xtwTnYIyx4CBQPg2noA0GyQdFKyrGg9SE8orXkXUXncc1gzNB37gHhD+2Iq+P+A5pENM7mcw2C+oRRh/fFXMr2nbXoMbyz/dv6d96XMHimtUnaLE18Vm2udtlCMlPkG5MmRo5KKcwuyz7B3SB7pZQ5s2IQArCjJUMaXvrn7ZlPf8meXHmv/fW9v9j0R463I3tOsavGf8cGZRxqCxTszjNZvKHEIYaJGSNIHoRxSVWDLSystqHyh/16zFSb9vpTdspDt9jRnz/d5pxzuSVfc02zZGrpWTe780G+McIJ2oEIgwYNuk7Ca7KE101avqFLfqa0tHSsClo+uzcu31EKWnJvDEiKQ86R+Y+S7F1l+hiuEh23/+8qu/E/KvI4Zbr9d8xxYkwJdlTfzq5CLubF5cq0rgQRLpC0d71SJck0MLeewFL8LJFM35yfc+KjCAr3sQ3mGL0f2/dFixTGjHd97q1ZcE+Z4dDC3hYCk6KQFFqEIU+UJkPYABoW2hLCA7MdZj7KsAwXSGKW4nI0fmSSBBYv/4cY0xE6rrtMpx9IayLF00jRFnPgBuWtQ1hyLTQ5aEKRSK5HRBl9AQwAZH+pUmxtqdb5NDmg5heox9MPyVPBT6V6khkRpk+qJc4RnAcmGqZ94C9DMyQtFvfw/JJNLv9iL5kv0QTQRAGxUTU6KFi5s2fC+EFLJetFprKP8KyDYpiRIp6YLrf5OzCfYTo7fkSuVWkCELQFEuYIbHRP7g/Gjq+RHJBjdJ8dufHucO/QIGg8D4RHdBHSRz9YJ59WnDScSPkdZ+3QYQUCR502MtcFJ+ODJd5PE2nrqWwx54zt5fxYmCVz9OE6wftUURNj5448zi4deYXlpOTYM8uesjs/vM2eXf6CZcR3tYHZA1RKaLM02kaXHQYLi0sgrXMQ6zmud7Ybj3O69LeN8odllxba8IfvteyZL1rN1KOtsZMka1Nr7VkHQjvYd28tfUHLZiirAfGpjIyMCe+88457owSjf1K+g7na9apmdj9gNgUDMsgggBYAM0pJXWCnvLTKUkSNfj/5vv182LDtfF7UKtqs2XsASpicqhx+Yj0wTyDC4QbzD5vhOoqPIugjTCZaSwE2D/T8kLztYersix8vbJILTH8B4u2xeeudkAHyfrqYdLqWaKUEtaJZBUi5IGUQ2tCIHttnxQjTCz8Wue7IOo5vIgxuiNYQo81nYdqjeUW0y4i5ygFSJOTINcj94KOjYnEY1RbQqLVla9oHpVrQKGC4BBUjlPCxBsU5GX8cD13RVrumC/YtoRXEgYXDEFrrw774Ldx3EKY1dUnbjYtAo26ub1TqLhDSl8kLkw98qpgReZ4BspeMiICjAm2WjDbhccp5w5aMtIQ0+9Lor9olIy63n776V3ts2a32hw8ut/4rDrEeMedZr8QjndaO/5S0U1gOeB5URCfuc6u5+Ig7rfjZz1rGV79o2cdPtdJbbreaY09wt9Has6bvvm1PgXYzIWrWHBsIL7ogGH21tLJt08Pt+3XAfGtpQN7z3p1239uK7p82zeqHDXf3G94XBF4YlBCbpDRFmnESYxM9kHfGZPc1MWH6MJtgBglj1+05Pxf3GWzn/qP3pe9hRkVJGD7RCDv2e2lJRDthnYYgY/Y9QhpZ2M8UTS9MhZMEAgkLzbAfi/2jaR65wvYmUARl2O8GQCOSFzLIJ7I9QwzOsbNl9ASA/QPGeoR8dtRZI1awRNlD0PKCXIP4cxDUweQJlOb70lJH98gUTSJgHyZEMPCO1qInfmGEaQBUam4yx33kyYf80kdFLi8n/j6C1sk2f/SASKhG8Dyjx9DOxl5Ao2QFNB+ac64d1+scm7nuMXvk45vttcofWGZcPxuWepGN7XyiLRXACCM5JY5AwBKbeGGPnsEprObEk2zz869Y5mWfs8wLzray391gVRde7CYarQnRrSfwK44C7SbANEN8TwLrjxJkN0rz4tl+VdveP9CfQ3PMx2IrrK8QSrmljbbly1/fSoLm9g3ibbokV1m5sgTA5Jkp8rIFM0dOELyUW0/WgVbCWkqE8da42TCIvqBtY8jZe6xNRl9nVzVRTJX5nbaZ4OhT0J+gf60tw7QPw80xWwYVrIPjw8I42LazZWuMlWsHGgXjJzwu3lKIQdhvFJ4Q4cdj36BOFmMKdGbEQ9l8peSd9bMtfw9P5jhvc31vKUA6U1ougc1o5JXSrJ3mpe9sb64Fmt7u+CmhHc/62F5n27S8M+z5lY/aAx/dZG+W/szmV9xpA5MutF5Jx4vGkVySAQI2jGNs6NvPtjz+jGVdfpFlfPNrFruhwLJPvXS7yR793ZMx09x9Hojb2k2AydZ8pQTXnyW0ZomQcItn4uPjv3YgEjV8Twz09Zp9YUaCUWLKWFT6qH1vlkq6D+xntdOO2bo7+zJYA42EH7YOXpVxoIBfpWpIMUNjO7Pr5jSyrSfsICsw2ejsDJT1CEx94ftsbt+WGFX07e3qsdGz++aCitFe0Myis/lHXzP8PVqAUsEa4AY+PMygPLOWtIbweaLXo88bfR7um090K1L/EcThFkyIMMeG6UCBz/cUWI0AwwwLc26P8RUIj2jh29pkLjAlh+8rvI4J+PB+2U7rCd65XjJLE8wd3bh+OAwBszaZckhC3Ud+y5bGHs8kyJKDHzEn7hi7ctA029Twmj308U02p+LXtqrhXjuzx5floztTyaEjZu7o66somRXf+2/L+MaVlnbdL2yqzI4PnXSJ241nF/2sdzg+tKElWoZ2OeBW202AyWRIhOklULBv377Jy5cvJ7XEAd9AoT23aOPWMiOYE2pevctGF5iVfP/bLiYkIEKYUaVo5oYZyzE8xQvFrikSWjFhq3ALhBwz1eaYV3DOjrIMM9mAcXJ/zb2k4X131v/mXtqwubC546Nn99FBxQivwNS2O5MF+h0W1OEK1p8k1iv6vEx0woy1ORpwDFWvNylQOxgr0AKGyPG0MB3eF7gknLmebCbBPpxrb7RgHAQmTvoWCM1WJ3M76QzHIoCDe2B3xlqQMit8+A5hCHGRTCpZAkrtbBwF2moQFJ6RkmznDT/fjuk93d5Y/4I9sepmu3X+D+3Bj2+0T/W63D6Vf2740tvWlY6q9M9/dd+7//E6Oz0pyWaeetFuxQe2Rsu99fy23cC+W9vrAkyxX4mK/bpNt/io4r4e4VYTExMfVEDzxry8vCsOdBg9EOp+Qjkt2VRpywQDb4xbY194dbltyVK2+TPP3u7JhxkVaaaCchy50rhQWYHbh9vumLnCx+3r9fB9fhLGvqcvbfTsvrnYLvxEgU8sEAC7Mlng3qIZRthsFKZ9S4InvM/O1lujwSGqjv1EU02z5iYKYToQQE5smJQXB/Dgunt7fIUFKNcL0zk8mWuu7+zfUtudY3cnDIHrBc/sjeWbXULqwapxF1gSAr/piNxMveuH2+m5E+yj9NeVuuoOu2/pz+2Z1bfYlZVft0tGfl7B1NunGhMs1EpvuFklE2qsx3U/s0/17mnVn21B4IVuPLo/g9Sf2Jj47WgZPR5Dh+/3q3tdgEl4XSsqZSoT/Wshan1R6zetW7fup1o2HwwR2nl/XsWuTuLaIOvDh3P+aCcvVWHDc862QzTTim4BAww7mGM0qGmlYAFCTyw8m3Y77Ef/gvv8JF1ujQG29tI2N7tvLbaLPrY1M29N8ET3vbV9W6PB6UoIHdYIue+w5hamA/46AptpQRaUvT2+wgLUXVj/AjpDg9b6Huzf3HK3j42EJG47VfT3pl/CzwFBT0B8OM4w6Htk90hVg76pkxQvNtk218+1D8rutmtf/5H95d0/2AVDv2jjss+xmtrtkyGX3vQ3i9200TKu+qo19M632kmHb+tX1Nru9Sfq4APka4gd7rU7ml5RUTFx9erVlcEVpImtEYz+IvnEXte2A1qAhYNH6xtr7ciXn7ZawXlnH3eeHRIQJLRkUMKUwhDfnvGRN6pE2drLFM68uzPS0On3y9WAJjA8mC4zbAR8awywtRvd2Qw9zNiD87Q1M29N8EQLsNb23RkNOFf0+YJ7CtMBtBxB4LBlfGBbzddRIRvBsW2x3BmdW+v7zq6/q8fuLAwhfJ3wc6DyAHkUyZG5SmZatLBgjLBfDyWvHtR1G7qzrPooOzZhqv1o8jK7/s3f2I1zr1NOzxtdcc2je1xkmz6udQKbfpfcea91Ovk4y7z4PNv83CvW0KdvuBtb13e1P1sPOABXsEzt7VYTFl7BxZp8YpGkf8HGA3DJQJf/3sWjLC98yS54p8reGnOIxeTm7XC3wYwK+z3BlIEjvVgQYNpQ+SUwK2J2Y8kMtSXmtMPJ99MNYZrgjwpogp8qYIDhWwuYSHhb9Do0g3Yt0RLGju8RJh4JqI74ItneVg3Bw0Qk3PjO9ujW2r57SgOuEaZDgwAOxI7xAezQHuOrPegcTcvo7xTyJOygQRkDyLnJMghDiN43/BzI0VkpAUaWFmLqAoHPPYX3C85BMVXMjisLetuU7OvtOyMftNFdjrSHl91k33nzaJux6rc2a+XHbvfG7M5WfN8DJEu0zC9cYlbdPJsMX6e1/gR9OBCX7aGB1SvzfIay0EfqgjdRkW1CJiYciEQN3xNIJkptgELs8tId1kV66CtnftUhnNgvrF0E5UDSZVoMx0et31JufbVvtmZ1R3fdPoiZcxzILTzL5D4DP8kHgojDLHD603ZXK4V5tyT8A8bOtT+Jj851rIV/geAJ7ofdWhK+re37SWjANVujA7/vzdYedN5Z/+lDS2EI0ceGnwMaF4Hy1CTDPoLAD8yz4f04RzjFGZOwD9cJyFXfy47M+qUNSb7M3i2+y55d9Xd7Yc0/7O3Nl9iVY/7PevYf4HxiWZdeYGk/u8bKf/Xb6O5sncAxhlrrzw4HHkAb2kOA/VOxX7ePGjXqsvfff78c2mk9raqq6nZB6h86gGjZ7K3AYDZJY8rJqLLjXltgq7urdPn4I22KtgfaRYDCYmCXKm0RzDhNMHMa6/WVknqarEeDOJq94AG2kVkmL324QRMg4ofmZe6xnyR8vubW9zZj3x3B09q+HUEINEe/Xd22t+m8K/3Y1T5EPweC5PsoRCKwhPA+v7Rk4w55LxFymGYjAAuVApLZcaVyNVYk19vArkMsL/WXdohyLq6oud/umneH3T3vTjt36AX2tSOvshFfvNJSb73Jao+cajUnT9/udnbWn+12PkC/7BgY0fY3GivE4S067Xn6zNMHs+UwCa/7pJV9ResRz7FW2rJt2FDSgiu2La+ya+diYN/30A/s11ffbq9ccYU1Xvljl+A1QDIxsJlBva/8h5S9J3vDpEHdrNyVBamzCbFVNryhyjYNG6z3oD0e2a7dV3vsBUPAbBjWVDDXdFEQNAJsf25h7ZtZOwwJZtpc2519g+PDQKBgm19uo8Ce0Gee0kK9uHSTSvtEqkYcM7CLK+nC88EawGSUCRYm7qA+3zr9RhHU7KZJKVUWKIKKlWWk0K5MxlZpf6q1j+xdYzM3/N0eWXqfTLn1dnb/M+1vv55rqRuKrGjmW9aYs32duT0ZF9so0Pxat24qMb6ftHbr6LBhw/ooG/14CS4pEnFvLliwYN3epFFHEmAkn33urD722deL7eNZ8+2lLTFuoM/VyxCU6ggq+H6oVD8EU540Os82qpQ7vphzspUktKrC5vfovTWv3c4Y3t6kbXueO5oxYGaDJtPH9rQUnIu+tUiBPWHQLZ7sAPxhd+nT0lgM0JLNTbQwLdLCvyHAapSjsVQprkh1Rdme7iqHRB28UQp9QODFxhbZc2v/bjPX/8uGrKuyd/6mxMXHH2Mx97hIpL36NLwA26vk3bWTdyQBNnfZTJs45RRbM2WCffjTf28dzGhcIJloiTIrEHhJKREyQAzqkbU10ejAEmUir6i0OypSts7wAkYemC92jSr7517NzTKpdRWuNrx/3tne7fXuMui925uOd/ZdoU947AU+6iA+EN8W5kFSVtHCWhbfgyTURygrSFg7m71yi0AfKmrbK9NVIN+i971I56rThIyCqmhk1ASkYOr6sg32xIo7bNK/77Kf/bfWfvnVcXbol/5gY7qN4xJ7pe1PAqw9fGB7hcgd+aTRZoZOM6614wQkeubEL9mbQiIx0FUO1lUbDsrV4/vCNBavgMazx/R0xQgDBh27WbM1pasJ57ULTGoADVoyO3VkGu1O33bVR7E759xb+4YZ3sGiJe8tWu7r84Y1rgB8Efio6Vvw7mLGwh82R6m4xvWK2RrYHIByGL+BlgYoKFzUtqC00jbKHCnLlKsgjvZV0ZRBHxNjXkZ3O3/Qd63he5fbmmWn2aX3zLEhGdPs0EEtF9fc13Rrz+u3B4y+Pe9nn18L4fWPd9e4GVauzAJriottyvNv29LcDIudfLSr28RAZ/YWIIdkMdyKZIrWqHiJyuQLW6tg6I9VH4zjgoatHZCDbx2DAgHDw1wUhvyz3bf9jwJhBCzChNRcWri4LyoqpAhdTDAzNetIR8ZbvGRjWbOhFwgxUlORx/H00T0d8hHz4mZVEaCCwICcVEtPTjRyFfC9UrlPgwYE/4OCOHvr63+2PLn2H5s/yeZumOOKa57x2HSbufoVVyMv2P9gWnoB1kZPGyYF4OCvs5ZbmYAY2LNjY2ItbsF9NmFtgz171Imya8e6gV6pCrgvLt6orPKFzgRBIcvLDst3AzysTQUMkWrM9Tq2VGYHIv8DIRbM8NroFvxpPiEFohkeWjJaM9t92/8oEI6zovfEWuF2xWdFbTV82yT9paoCk9ExyllKrbVdidMMBNoEFbsk6JkK0cSUERlIcuCU+IhxjHedAPNECbW6iRNt8SnKfj/jbXtp+H127RG/siWbF9uZj58qYXaCvbDiuYNOkHkB1gbvVSBomHkzgBM0GJmhlWuQT3n5EStPiLFZ4y/ZeiWyn1fLbq4E4Jq/AUTgs2OD8dWpHESCXpTC6gb5x2RekON3pcAd4cDJHY/0W/YFBaIZHn1oKy05mCCRHZ+JEt9927sUCOK5gqsgpPrlpESSIeuVReAAvmI7LUhHhpaFthWejAbniF4SJ9pf2hc+cAKiAXN0Sk4QEjnOaXLREPxFX/ue1aRnWNdrf+6Ka7594ft23ZTf27qytXbek2fZ8Q9OteeWPx19mQP2e4f3gY0fPz6htLT0Tj2BvvokyVb8C6EZ5wvJeJe+N+r7h4LjX6n1vQLH13l32sIzbzJ6V8uGjZBav36+/XjuJntq9CArTkoz0EcANAhsBj4bZMtGGHGO6AFPHsWCkkpL6iVBlxBvuRkxTSXs61WQMHNr4OROO+h3aBcKBAwv8E9y0bbQkoMJUhAvyDmDrO3RY6ZdbvQguUh0nBV0D3zUkIBngO/rk5bKIU60X06am+xwDfxgnVMSnCYXXWW8JivbFl76VRtzwy9sy0svmB19rF028gq7cNjF9uDif9uf3vmdXfLMBbbosuWWkbh/h5nsyjDr8BpYSUnJhVLVC5U/8SiZ4E7S+o2qI/YHrV/DNt1kjOLMPr0rN7vL+zRIO5Lms6ufctmxs6RlJSgNzcQe6VYrE2FpeZX1f/Evlqaa009MvNDyM5KsS3Ks1UorKy6rtG6aYbE/H47lHOHrmWzgtbU1ltMUw1up9D6kl+opcwWztl2d4e3yPfsdPzEFYHh7IwVVeIIUZGjxpslP/Lh2egImB/ik8VVFmwVb+22nJw7t0Nx5pg/vLj9ZnvOXTeqbbQkqPhpuH5xyrpX16GVpP/+Jpu1NKGbVCTx/2Ods1vnv2FsXzD0ohBc06fAamEqvPCCN68HQAxTatHG8tK5XmrahL5+gT5sESMQr60WnZStl2tv1dilCRoLKNQEMrxyTrnFVb4uvf9cW906zu885uelHOWYlfCJNJqCakBmIc2yfbct+EIpZLNc4rZJmhw2e/Iq+dTwKBMwIgdOWKahazkYSDLqOR4sDpUc8Uz7NtdZ+a27/lra1dp7mtMByse3N3/mh9f7mly3pof9sV3YlPjbeemX0bulSB9z2Di/A5s2bVwbVyZ2okiwIsmtkNvydloHjqFQCLYt9wi1d2kp81Mwl/HuL6xmq3CrnVEzTzKbF/UI/UDZ+cUGZkPGxtlr+KaL0q+b+x75SUGf3fO4Ue3Z5pWXJTp6nGI9y+bAwCcUJ5NFdWhnOW/wko5qyfgfnSVaA47JN5c4unqTf59XEWGZ6gvVXtD5VdYlhOZhbnEw3HZEG9IkYtbZsvYRwq6xpsDSh3YJWJn9Jr66JrdKgo9IouId9vdwf6MN4ytT7Tu5P4sPIQHO0gp1zp3zeGu+9zTKu/4WlXHwhRRb3NTn3yfW3vRH75PK7dtEBAwb0lpB6RGbDm6V53S+T4W9CR2ZIoG0JfXerZSoIuccteTeFg3ZPi09xfqx/frzRGmR+/NzT/5Tfy+zWXuebrakSRLbejohPFfiC+JEawWUblQw0Ub6yBjmB4yyn6fjKxkRL1ywqLTnJ1iY12rsbi6VxNSqoMdP5U8qFROwjIRbEiO3xPe7nB/JiHyw04HnjbynXRIbJDn4STJWYt1qjwcFEoz0ZzvsLfbDZbJc2TWaYLZoEJ1z9Q+t07plW9bc7rOrCi/eEBPv9MR3eB9avX7/uAmw8J0pfLeEFmIM2Z+jQodPcmtlJWs5sWt9nC8wA+KWyNEuu3rTSpn+43h4b28+qkrJsi8o0MGOWEFaONMWPiAkNyEm3w/vn2MQ+nR2MFrNTNIptd6G5++zm/YX3KgUYWy35Yvbqhf3JOzQFao8+zmrHjLXUG35v+MwPxtbhNTD5wH4gxp8tLetHMiP+iIek7/+nUix/liaG3rxAYI6wj2yfPsfK2jo7avZtJoXLHptwrvoioLwEV7mAHe8pyJkUMn1Vf4hUMUFjVh34TJhdh1FsATQX4ejbwUuB1vwkBy9VDvI7V1R1xVXftSwVvkx6+AGrPpt86QdX6/ACTFrX/+mR8IluU6M3dITvMUqrcfbbb9qs3km2pPNRVlerInkCYCQqRdRoZU9fIE1rbUm1Dc/dBnFFaAVphzAV0VLkMwtivagz5JungKeAp0A0BWpOPMnqho+01D/9zqrPPFtll7ZHLEbvf6B97/ACbH8jeN8FT9qgolr7y9SjVTcmko3DYhsE1jCnfRG1v6ywwp5ZuMFSBTJJFZy+X3aanTuup0M7YSrCnFgoZ1m4SN7+RgffX08BT4G2pwAAsMDdEEx6k676tmVecYklPvm41Zx2ettftAOfscP7wDow7Zrt2rSZ91uhvK4zh12i1FFK/yKNjFyHGUorNFnly/Pkz6iQGbFaWTuSZTqsU+aOZUXltqkJdBL40s6duGNqqWYv6Dd6CngKHBQUCALao3NtrpxyotX162+pt9x0UNAhfJNegIWp8QnWGVwzX5tjx85bbfePybPGhG4qSKfcZsphlqRAyFqkmNr7qveVJq1rQJc0G6bqzCNyswSnT3ZF8j7B5f2hngKeAgc4BdC8gooU2wW0b6qwyiu+ZAmz37L4d94+wKmw/e15AbY9PfboG8LrifkFVnn3ry1B/q4HxpzhtC6K1WUmxZkKq7p4rlkfF7qM8nXKg9hFma2DRgVmYsd88xTwFPAUaIkC0Shl9gtybVafe4E1ZGRaym1/benwA3K7F2Bt8FhnKav8h6uKbMpLL9oL/eJtdebxLmtGlYKWG6R51StNY5L8XcoGJb9WvEv4G75siSD2YVRi+De/7ingKeApAAWCXJthagQAsEYl+K264CJLevxRi127JrzLAb3uBVgbPN7XhBzs/PqT1ru4xu4dN0HQDWWSliYmN5fLY5aVkmj5SiF1RL8cO3FoV1e8boUydjQoD+La4gpbqowb1BXyWcbb4GH4U3gKHKAU2FmuzcrLv+hyI6b8/fYDlAI73pYXYDvSZLe3UN7klLf+aetV0+6V/p9zafEJK6RWECCOTjIRZkuI0foo6/QxA3NcHixSRRUpie+kPp1spCD2OGeB0WOS9M1TwFPAUyBMgZ0FtDfk97Gak6Zb8j13ivkcHDzEw+jDI2QP11PXr7Hjlqyy3x/RRRqXBpE0LxoJgbNVFoEaYZsra1w5lXT5xHIU43Wmsk3TEFpB4HKwxFnb1vn03MX8P08BT4H9mgI7C2iv+Ma3LH2dTIi7kct1fyaI18Da4Omd8u59rjjlQ+NOddniVZvOVVZVbl/rlZVs5crOQSZ5hBf+rrnrSqybQBytOWXboFv+FJ4CngIHGQXqRo+1Lc+8JHTHbuZz3U/p5DWwT/rglGnjjDmv2tODYq048xTV9FKqK2lgCgFzFVprhZ6n4upGoQznri1RrsQE65GR4GDzpJWiVPigrtuqugZO2U/aLX+8p4CngKfAgU4Br4F9wifc+NQjlltabfdNGCWtK9VpYKqQ4mK/BnZJtVTFgFXJTEip8DF5WZalgOb56yts7ZZqxYGlW6mE2LurS2xzefXW1FE4a33zFPAUWWIOzQAAEzJJREFU8BTwFGidAl6AtU6fnf5adevvbaXSGr43+HxnIgTqSl0wGuCN4so6ATnMZeBQQmIrVd5DIekdtL5zWpKNU55DTIvzVU+M1FGkksLO7ZungKeAp4CnQOsU8CbE1unT4q8gBVe+84GdPHuB/fyYTBubO9mKqxpUq6nOOqXEWLIcYZur6i1XWefTk2Nd4cpGYQ9L5QOLkyBLiY+QnpIpE/ITXDZ6n3G+RXL7HzwFPAU8BXaggBdgO5Bk5xuCzBtj777R6uTrenLCydZVgmmEMsynJSW4E1BWpVqq16S+2bZ0Y5ktEWS+uKJOiMR66yrNKxy47P1eO6e538NTwFPAUyCaAt6EGE2RXfhO5o11G4rtsFeesseGmuXknWUbymps9qottmB9iS2WwCpQyZSh3dIc2vDjokoXBzaqZ6b1Ujb6tfKZAd5oUK7EoGSK93vtAuH9Lp4CngKeAiEKeA0sRIxdXV24odzGzv6vdRLw4oFJQy0ptqtV1ZTJhFjrqi8jnLqkJdjgrr1sQ3mNjeqRYYXSvhBW3TNTrHenZBfkHBSxpN6X93vtKvX9fp4CngKeAhEKeAG2ByMBP9eY5+62pdlmG0efb3USUtUCasTLt5Wj+K5GhTALXGizV26xDGXgSFVS3yKrdVdSfWaXfb5eiRHPGN1jD67uD/EU8BTwFPAUgAJegIXGAb6t6GJxzWlG/TcstzEfL7Orj0+ykpJxQhpWC5hhliXfVn52JICwXNrW26u32LGDutqcNaWK/4q3DH2oA8b30XkeKh8ivV/1FPAU8BTYbQp4H1gTyRBe5CGMLhbH9qCxTsLdoTP+YdWq3P3o6GlWU6eilNK+hI7frsUrkrmmjhpgwadp1e0V2rbdUf6Lp4CngKeAp8CuUsALsCZKtVgsTnkJaYGAqy0ps2mzn7OHhinbfPIpKlrZIIh85CTlQiIKlyHB1WAl0sD656RIfMXaGIE3EhQbVqptLPnOdt88BTwFPAU8BfacAt6E2EQ78hJ2FvAi3CgWB9CCFgi4oc8+ZZlVNXbHxDzLjBtsxCwnxTUKwFEv2Hy9ldfUSjjFWIYybpw6IteBONDqRinbfNAAcxC07JungKeAp4CnwJ5TwHPRJtq1ViyOXRBwtYrt6nr/rfZBNwm0ntONlFGYDzOSEyWwtJO+k6yXIOYzDsm1EUodtbMaPk2X9wtPAU8BTwFPgd2kgNfAmgiGoHli/nrbovpctSp/kiBURqfUBJs+PNftAXpw88w3LH/FcvvKKbGW3jDNZdXA11VU0aAEvrHWJzvFLp3Ux9YVV9qry4rsI8V/9VEhy+GKBwNO72Hzuzk6/e6eAp4CngKtUMALsBBxyhTHtWpzpVXI5EcS3qaUhk17NNrk5/9lpapL+eTowyy2Hj8WGlijTIeNlijtq6cS9pZU1tqyoiplo49R3FetQCFJNl9xYz7HYYjQftVTwFPAU6ANKOBNiE1EnCWNaW1xjRM8yZJGCCC+s51WXVBoh779gt07SkLLPuWEl4CIyqhB2RTpZ4LRFyjDxsotVcpzGGtZKmRZrsqWFKlM00740HzzFPAU8BTwFGg7CngB1kTLdxWzRSaNGJkEU+Pj3JLvbKf1feo/llhXZ7dP7GTx9WPcNrm/HOqQzBsIKdJJEf9FNnrivcgyTwMMgg/NN08BTwFPAU+BtqPAfmFCHDRo0GGxsbHXL1q0aNqAAQMGxsXF3SUSNKo8yYfadqXWkSWfqG2W6Y8EvJskhKrqGyxZ2Pja+jpbuqnMLrnnbbv56X/ZzHyzNd1OtJSqiGDChEhDeJUIhdgY3+DWEXwmJOKALunu9+hkvUDydyVg2h3s/3kKeAp4CngKNEuBDq+BDRky5Lvq+e2NjY2uSFZ8fPwfJMyuWbx48VHaHjN48OBPN3tnu7kxRgFcyworbJ2ES5GE2AqZAteW1gmo0WA933nN+mzeYDdPNEuvO267M8tKqLyGKpSieLBOqracnhhvDfKL9RN4I1NmxOhkvUE8WWsB09tdwH/xFPAU8BTwFGiWAh1egDU0NHwkoXVG0HsJsvELFy58pen701puL1GCHXdzWSSUoBDwJuVrO3UO1e6s2U/ahtRYe3LwcGuo2zF/IVnlU1VGheKUl0zKt8sn93EVmEEdRhepDOLJ8I3hZ/M+st18UH53TwFPAU+BJgp0eBPikiVLHho6dGjf0BMTXMJhKNhUKoGWFfpt62p6epLFy5e1qw2YO7HFCBVavaD0tLySDXbs0rfs+iOENIw5wV2Y/Yj/Yg+Qiv1lKuyqwpWds1KsU6dU9xmS39kdH/2vWqbFrsqXGFyH31NU1LKwrNodF+wfJxMm5/KteQp4+jRPl/BWT6MwNXZc9/TZkSb725YOL8CaIShKUdAy5AeLoCyCLU3LMgmE3WnCXCibvNJDSZsKfFscf+57zxrmxb+NT7LU+iPcKdmXhvraTdnnh3VLl/+s3oSwty1bKvipxZaks2/cXOE0r2CnIDNH+FiEV/h7sK9fRijg6bPzkeBp1DqNPH1ap8/+8Cs8eH9rc6SRTWvq9ElazmyLG0iVKlWhhLxyX23V75Lqauy8uc/YE4NjrTBjqgRWynaXYleqLgOj75+T6oKWt9uhmS8+M0czRPGbPAU8BTwF9oAC+50AE4DjW/KL/Uzgjdd1v4kCczy4B/e9wyHZKfJJaWvYPnnqgleta0Wx3TBJ6ML6ba62NAksTIcIMBL0Vkn7KheCcVeqKlOehaBmfGPN+ch26Jjf4CngKeAp4CnQLAX2CxOiQBvL1ftJ3IHWF2sxlfW2bPjLuqYLNahilfi/6oUsvHT24/Zh1yR7tU+O5dUo/bwaAq5B/2IkvfCwobGRvDfyixa70BBizdUZ24VD/S6eAp4CngKeAk0U2C8EWHs8LYpNEvtFCa8aQRF7zHnDRmz42C4/1Syz4QSJKIQUmTdiHAAjGSSHRFecvh/aJ9vB5UEYesHkyOT/eQp4CngK7HUK7HcmxL1FkYm9Olm1wBkEJedlJduFs2dYYUqi3XdIjOUnn2jJohTEIsYrUdk6SO5bJ3DH8K5prks+28beejL+vJ4CngKeAs1TwAuwJrp8anh3G9szXdqVWcKqFTZt0Rt2+/g4y06fbON69LNRPbNMSHn3e7U0tFjtOFTC69ih3d0ZorNtNE9uv9VTwFPAU8BToK0o4E2ITZTE9HfuuN4uxdOQ/97hkvP+ZWKlDc041UHk05VlY0yvbOfqGpmbZWtUMmVAl7Ttsm2MVyCzb54CngKeAp4C7UMBL8BCdEaI5cbWWufnH7aXxudaYXaFHZI9zbJTUlyhyhKFll04rqcrVBnkM/Q1vkIE9KueAp4CngLtSAEvwKKIHT/7bYstKbYfjymz6f0usazkZFsvydVN9sPTRnR3wotDEHYesBFFPP/VU8BTwFOgHSngBVgUsWuPmmq33vktm7Xy9/byhMtteM6AqD38V08BTwFPAU+BjkABD+KIegqNsbH25/JnbXTXsRJeI6J+9V89BTwFPAU8BToKBbwAi3oSHxZ+YPMLP7Tzhl0Y9Yv/6ingKeAp4CnQkSjgBVjU00iKTbLj8k+wMwd9NuoX/9VTwFPAU8BToCNRwPvAop7G4M5D7P7pbZJeMerM/qungKeAp4CnQFtSwGtgbUlNfy5PAU8BTwFPgXajgBdg7UZqfyFPAU8BTwFPgbakgBdgbUlNfy5PAU8BTwFPgXajgBdg7UZqfyFPAU8BTwFPgbakgBdgbUlNfy5PAU8BTwFPgXajgBdg7UZqfyFPAU8BTwFPgbakgBdgbUlNfy5PAU8BTwFPgXajgBdg7UZqfyFPAU8BTwFPAU8BTwFPAU8BTwFPAU8BTwFPAU8BTwFPAU8BTwFPAU8BTwFPAU8BT4F2okBMO13HX6YVCowfPz6htLT0Tu3SV5+kmJiYX9TV1c2Pi4u7S98b9f3DRYsWXan1Bn0O2jZgwIBuosk7IsDx9fX1dZ4+2w+FwYMHf19bTtN4SdTyZo2hVzyNIjRqesfuFm36NjY21mvrFX4MRWizP//3II4O8PRKSkou1EtVuHjx4qNiY2NP0vqN8fHxf9D6NWxTF2PEnD7dAbq6z7oAAxIzvlW0qaQTnj7bP4qhQ4dO05bDNV6OEG2mik69PY220aisrOxkfYvXRPBw0eZarf/S02cbffbXNS/AOsCTS0xMfEDC6kehrtTpJRu/cOHCV5q2Pa3lcaHfD7pVMaDfiUa36LOWm/f02X4INDQ0nKgtHwwaNOiRmpqaGdI0nvA02kYj0WexvlF9A56XqU+tp4+osJ83L8A6wAOcN29emWaGpUOGDMmQWeNBvVjXqFuYdxubuleqbVkdoKv7pAtiypeIAW2UQH821AFPnxAxtNpFnwmaDH1WQv5LGi/36Tvvtx9DIoLGT5kWfTWWFkq43yYa/Vnf/RgSEfbn5gVYB3l68u/0FtN5SS/WvUuWLLlf3Qr7uzL00m3pIF1t927o3i/T53gJ+JdFozHqwD36dAt15KCmTxMdCrV8VpOhGk2GFmm9Sp/wpOegppHMz1dBH71bgzVJHC2Bdre+4ysM2kFNn4AI+9vSC7AO8MT69evXXS/Yc+rK1eI9gDloc5r8GqyfpM9MVg7GJr/OFH2mijbTJMjeEw0u0udpT59to0GC/X/69il9YiTo87RM0+cFTyNRQU3jZrMWxaynpaUVaZGgj3/HIMh+3FChfdvHFBDDuUEM6By9ZAuDruj7/2kdM0eiti8Q875C66CnDurWpIV9SZqqJtENt4kYnj5NI0K0+Y3GzdEaL7H6/ECbl3kaRYgzYsSI9NraWiaHPfRJFJ1u0KRxtqdPhD7+v6eAp4CngKeAp4CngKeAp4CngKeAp4CngKeAp4CngKeAp4CngKeAp4CngKeAp4CngKeAp4CngKeAp4CngKeAp4CngKeAp4CngKeAp4CngKeAp4CnwEFJAfItKufkOn1I3bVXmqDuZ+n8mwcOHNgrfAEg8Nr+irbFhbf7dU8BT4GWKeADmVumjf/lIKOAKgKcoVsmUHqCUg4N2xu3r3g+UoU9rDi2v+v8Lg5TgusobbtIsVvnadtBH+u3N+juz3lgUsAHMh+Yz9Xf1R5QgCBpBbb+S4JkpD5kLv8Sp5GA+Z4Wn9eHnJSv6rfPKDNIXwXHJipx7vX6PlW/oTnN0fFfX7p0aYnWW2yjRo1Kq6qqelc7/DkhIeFuBdjO1Tmu1PWe4SBpZyMk4G7Qtmxdj/P+Ude7W8s49eVPWk7Uh4S05Pi7TNd7QwL3HzomU/sP0ObHtP1Zff+d1oN3/Bc6x6Mc45unwIFCAa+BHShP0t/HJ6KAhMZwMf/Jys7wgE50t9YvUhqmHH3I8n6JBNVECYDxWs8ILiTB8z0JiTq26zNa29dK6FwX/N7S8v333y+XgEHb+pnOiyb2n0B4YcbUOenDt7RtvH6fpvXvS7hOkPA6XOtdda3D9aG/92vfq7UtaEnaPkKfH2j7terL9VqfoGuRxeWYYCe/9BQ4UChAeQHfPAUOegqI4X9ZRHhCGe9Jilv4/+2dMWgUQRSGTwWFI6KNINcoh82BYGwEwUKQFIJoQiwUsRJOhaCggoKlRToLIUaMoGKlFhGsBMUDC1FMgooWCrKKlTZWBweH+L293SMQctEcFlm+gXczO/Nmdvfb4ue9W3YQi/gMUx0R2Iw9TJLkV0BCNCY43hdtygF8NuI71DksrWWdH1m7Z0XUNEvUdB2nkUqlchShSf3ZNiZSl1XsLuumffys47w78Zmi7ydidpLjbVzHXur4rl9auJYXeZv6AWM3OMcw7aeMxQ4HFgkUioARWKEepzezHAKR0mPecWwPApGE0Y5v5o0hAm3qPA1XQqC6/1EhIGuwswjLYBjpwF34H8b/b8sX5n9tNBpxjrTwpfRIGcbmpuma2bq7icTuIVyHGHvc8SxNI0o3ac+/ttgyJC3Mm6ARUeEzzrGf634bKc/OqL8SKAYBBawYz9G76IMA/0cdY3qIRgXbGoZgRBQ0gCDNYKPVanVDdooT1OkeW/Q/oT2WCcNqUorxceHxzG+51Ucm/kZEj8QCtVptC+t+QBx3cL4hxOgRqcXJZrM5Q3uYvhC8BYX5rxGt7Wwfcrvdbtdx2NRqteZvQbNgjh0SWGkEFLCV9sS83v9BINKHV7FudBUpQwTiGhb7SE2x/fxLROEN7RCyJlZCRK5QJQjMHGMhPKuIis7HGKm7U/Tdiva/FFKLLdY4yJzTzH9HRBYvdlxCiF7RPxkixtrvy+XyLP2fEakQ2m4URjst+F3Af5w15rj259zHZdb+no9bS0ACEpBAwQnEyxMIxpn8NhGEc9j9/Hixmnnr8buz2Lj9EpBA/wR8iaN/hq5QYAJEQJ+IXi4iRnWimkgdfsMiJdez4DqIw5JvJPZcxEEJSEACEpCABCQgAQlIQAISkIAEJCABCUhAAhKQgAQkIAEJSEACEpCABCQgAQlIQAISkIAEJCABCUhAAhKQgAQkIAEJSEACEpCABCQgAQlIQAISkIAEJCABCUhAAhKQwJIE/gDM+HM8H1C1ZwAAAABJRU5ErkJggg==\" width=\"432\">"
      ],
      "text/plain": [
       "<IPython.core.display.HTML object>"
      ]
     },
     "metadata": {},
     "output_type": "display_data"
    },
    {
     "data": {
      "text/plain": [
       "Text(0,0.5,'Coolness Index')"
      ]
     },
     "execution_count": 255,
     "metadata": {},
     "output_type": "execute_result"
    }
   ],
   "source": [
    "%matplotlib notebook\n",
    "sns.set_style(\"darkgrid\")\n",
    "ax = sns.regplot(x=df_cool[\"age\"], y=df_cool[\"coolness_index\"], \n",
    "            fit_reg=False, \n",
    "            scatter_kws={'alpha':0.3}).set_title('Age and Coolness', fontsize=18)\n",
    "plt.xlabel('Age, Years', fontsize=12)\n",
    "plt.ylabel('Coolness Index', fontsize=12)"
   ]
  },
  {
   "cell_type": "markdown",
   "metadata": {},
   "source": [
    "### b). Use ordinary least squares (OLS) regression to \f",
    "t a stepwise function to these data. Use 5 bins [11; 22), [22; 40), [40; 59), [59; 77), [77; 95]. Remember that your dummy variables must be integer type (0, 1), not boolean type (True, False). Plot this step function on top of the scatterplot of the data from part (a). Label your axes, include a legend, and give the plot a title."
   ]
  },
  {
   "cell_type": "code",
   "execution_count": 256,
   "metadata": {},
   "outputs": [
    {
     "name": "stdout",
     "output_type": "stream",
     "text": [
      "                            OLS Regression Results                            \n",
      "==============================================================================\n",
      "Dep. Variable:         coolness_index   R-squared:                       0.429\n",
      "Model:                            OLS   Adj. R-squared:                  0.427\n",
      "Method:                 Least Squares   F-statistic:                     178.7\n",
      "Date:                Mon, 19 Feb 2018   Prob (F-statistic):          3.73e-114\n",
      "Time:                        05:42:11   Log-Likelihood:                -3214.5\n",
      "No. Observations:                 956   AIC:                             6439.\n",
      "Df Residuals:                     951   BIC:                             6463.\n",
      "Df Model:                           4                                         \n",
      "Covariance Type:            nonrobust                                         \n",
      "==============================================================================\n",
      "                 coef    std err          t      P>|t|      [0.025      0.975]\n",
      "------------------------------------------------------------------------------\n",
      "age_bin1      20.1025      0.562     35.746      0.000      18.999      21.206\n",
      "age_bin2      34.4758      0.431     80.006      0.000      33.630      35.321\n",
      "age_bin3      37.6351      0.424     88.814      0.000      36.804      38.467\n",
      "age_bin4      35.2254      0.485     72.560      0.000      34.273      36.178\n",
      "age_bin5      27.2964      0.936     29.175      0.000      25.460      29.132\n",
      "==============================================================================\n",
      "Omnibus:                       80.102   Durbin-Watson:                   1.236\n",
      "Prob(Omnibus):                  0.000   Jarque-Bera (JB):              101.718\n",
      "Skew:                           0.714   Prob(JB):                     8.17e-23\n",
      "Kurtosis:                       3.719   Cond. No.                         2.21\n",
      "==============================================================================\n",
      "\n",
      "Warnings:\n",
      "[1] Standard Errors assume that the covariance matrix of the errors is correctly specified.\n"
     ]
    }
   ],
   "source": [
    "coolness_index = df_cool['coolness_index']\n",
    "age = df_cool['age']\n",
    "#age_bin1 = (age < 11).astype(int)\n",
    "age_bin1 = ((age >= 11) & (age < 22)).astype(int)\n",
    "age_bin2 = ((age >= 22) & (age < 40)).astype(int)\n",
    "age_bin3 = ((age >= 40) & (age < 59)).astype(int)\n",
    "age_bin4 = ((age >= 59) & (age < 77)).astype(int)\n",
    "age_bin5 = ((age >= 77) & (age <= 95)).astype(int)\n",
    "#age_bin7 = (age >= 95).astype(int)\n",
    "X_step = pd.DataFrame(dict(age_bin1=age_bin1, age_bin2=age_bin2, age_bin3=age_bin3, \n",
    "                           age_bin4=age_bin4, age_bin5=age_bin5,\n",
    "                           ))\n",
    "reg1 = sm.OLS(endog=coolness_index, exog=X_step, missing='drop')\n",
    "reg1_results = reg1.fit()\n",
    "print(reg1_results.summary())"
   ]
  },
  {
   "cell_type": "code",
   "execution_count": 257,
   "metadata": {},
   "outputs": [
    {
     "data": {
      "text/plain": [
       "<matplotlib.legend.Legend at 0x1c12317240>"
      ]
     },
     "execution_count": 257,
     "metadata": {},
     "output_type": "execute_result"
    }
   ],
   "source": [
    "expected_y = reg1_results.predict(X_step)\n",
    "plt.plot(df_cool['age'], expected_y, color = 'pink', label='Stepwise')\n",
    "plt.legend()"
   ]
  },
  {
   "cell_type": "markdown",
   "metadata": {},
   "source": [
    "### Report your estimated step function values for each bin[\f",
    "1; \f",
    "2; \f",
    "3; \f",
    "4; \f",
    "5]."
   ]
  },
  {
   "cell_type": "code",
   "execution_count": 258,
   "metadata": {},
   "outputs": [
    {
     "name": "stdout",
     "output_type": "stream",
     "text": [
      "Coefficients (Estimated Step Function Values):\n",
      "beta_1: 20.1024572521\n",
      "beta_2: 34.4757880776\n",
      "beta_3: 37.6351054924\n",
      "beta_4: 35.2254000402\n",
      "beta_5: 27.2963782443\n",
      "\n",
      "Corresponding Standard Errors:\n",
      "age_bin1    0.562375\n",
      "age_bin2    0.430913\n",
      "age_bin3    0.423751\n",
      "age_bin4    0.485467\n",
      "age_bin5    0.935616\n",
      "dtype: float64\n"
     ]
    }
   ],
   "source": [
    "b_1, b_2, b_3, b_4, b_5 = reg1_results.params\n",
    "print(\"Coefficients (Estimated Step Function Values):\")\n",
    "print(\"beta_1:\", b_1)\n",
    "print(\"beta_2:\", b_2)\n",
    "print(\"beta_3:\", b_3)\n",
    "print(\"beta_4:\", b_4)\n",
    "print(\"beta_5:\", b_5)\n",
    "\n",
    "print()\n",
    "print(\"Corresponding Standard Errors:\")\n",
    "print(reg1_results.bse)"
   ]
  },
  {
   "cell_type": "markdown",
   "metadata": {},
   "source": [
    "### What is the predicted coolness of a 73-year old from the stepwise function?"
   ]
  },
  {
   "cell_type": "code",
   "execution_count": 259,
   "metadata": {},
   "outputs": [
    {
     "name": "stdout",
     "output_type": "stream",
     "text": [
      "Fourth bin => Predicted coolness of a 73-year old: 35.2254000402\n"
     ]
    }
   ],
   "source": [
    "y = b_4\n",
    "print(\"Fourth bin => Predicted coolness of a 73-year old:\", y)"
   ]
  },
  {
   "cell_type": "markdown",
   "metadata": {},
   "source": [
    "### Fit a linear spline (continuous) to the data over the 5 age bins from part (b). Use the scipy.interpolate.LQUnivariateSpline function with k = 1 (linear) and the knots equal to t =[22,40,59,77]. Plot your continuous linear spline against a scatterplot of the data from part (a) and the esti- mated step function from part (b). Label your axes, include a legend, and give the plot a title."
   ]
  },
  {
   "cell_type": "code",
   "execution_count": 260,
   "metadata": {},
   "outputs": [
    {
     "data": {
      "text/plain": [
       "<matplotlib.legend.Legend at 0x1c1350ca20>"
      ]
     },
     "execution_count": 260,
     "metadata": {},
     "output_type": "execute_result"
    }
   ],
   "source": [
    "from scipy.interpolate import LSQUnivariateSpline\n",
    "\n",
    "knots = [22, 40, 59, 77]\n",
    "spl_coolness = LSQUnivariateSpline(age.values, coolness_index.values, knots, k=1)\n",
    "\n",
    "age_vec = np.linspace(age.values.min(), age.values.max(), 1000)\n",
    "plt.plot(age_vec, spl_coolness(age_vec), color = 'green', label='Linear Spline')\n",
    "plt.legend()"
   ]
  },
  {
   "cell_type": "markdown",
   "metadata": {},
   "source": [
    "### What is the predicted coolness of a 73-year old from the linear spline?"
   ]
  },
  {
   "cell_type": "code",
   "execution_count": 261,
   "metadata": {},
   "outputs": [
    {
     "name": "stdout",
     "output_type": "stream",
     "text": [
      "Predicted coolness of a 73-year old: 32.536832389143306\n"
     ]
    }
   ],
   "source": [
    "print(\"Predicted coolness of a 73-year old:\", spl_coolness(73))"
   ]
  },
  {
   "cell_type": "markdown",
   "metadata": {},
   "source": [
    "### d). Fit a cubic spline (continuous) to the data over the 5 age bins from part (b). Use the scipy.interpolate.LQUnivariateSpline function with k = 3 (cubic) and the knots equal to t =[22,40,59,77]. Plot your continuous cubic spline against a scatterplot of the data from part (a) and the estimated step function from part (b), and the linear spline from part (c). Label your axes, include a legend, and give the plot a title."
   ]
  },
  {
   "cell_type": "code",
   "execution_count": 262,
   "metadata": {},
   "outputs": [
    {
     "data": {
      "text/plain": [
       "<matplotlib.legend.Legend at 0x1c13521ef0>"
      ]
     },
     "execution_count": 262,
     "metadata": {},
     "output_type": "execute_result"
    }
   ],
   "source": [
    "knots_2 = [22, 40, 59, 77]\n",
    "spl_coolness_cubic = LSQUnivariateSpline(age.values, coolness_index.values, knots_2, k=3)\n",
    "\n",
    "age_vec_2 = np.linspace(age.values.min(), age.values.max(), 1000)\n",
    "plt.plot(age_vec_2, spl_coolness_cubic(age_vec_2), color = 'red', label='Cubic Spline')\n",
    "plt.legend()"
   ]
  },
  {
   "cell_type": "markdown",
   "metadata": {},
   "source": [
    "### What is the predicted coolness of a 73-year old from the cubic spline?"
   ]
  },
  {
   "cell_type": "code",
   "execution_count": 263,
   "metadata": {},
   "outputs": [
    {
     "name": "stdout",
     "output_type": "stream",
     "text": [
      "Predicted coolness of a 73-year old: 31.262429389257864\n"
     ]
    }
   ],
   "source": [
    "print(\"Predicted coolness of a 73-year old:\", spl_coolness_cubic(73))"
   ]
  },
  {
   "cell_type": "code",
   "execution_count": null,
   "metadata": {
    "collapsed": true
   },
   "outputs": [],
   "source": []
  }
 ],
 "metadata": {
  "kernelspec": {
   "display_name": "Python 3",
   "language": "python",
   "name": "python3"
  },
  "language_info": {
   "codemirror_mode": {
    "name": "ipython",
    "version": 3
   },
   "file_extension": ".py",
   "mimetype": "text/x-python",
   "name": "python",
   "nbconvert_exporter": "python",
   "pygments_lexer": "ipython3",
   "version": "3.6.3"
  }
 },
 "nbformat": 4,
 "nbformat_minor": 2
}
