{
 "cells": [
  {
   "cell_type": "markdown",
   "metadata": {},
   "source": [
    "# Problem set #3\n",
    "### by Alexander Tyan, January 24, 2018"
   ]
  },
  {
   "cell_type": "markdown",
   "metadata": {},
   "source": [
    "## 1)."
   ]
  },
  {
   "cell_type": "code",
   "execution_count": 37,
   "metadata": {},
   "outputs": [],
   "source": [
    "# Import packages and load the data\n",
    "import numpy as np\n",
    "import numpy.linalg as lin\n",
    "import scipy.stats as sts\n",
    "import scipy.integrate as intgr\n",
    "import scipy.optimize as opt\n",
    "import matplotlib\n",
    "import matplotlib.pyplot as plt\n",
    "from mpl_toolkits.mplot3d import Axes3D\n",
    "from matplotlib import cm\n",
    "cmap1 = matplotlib.cm.get_cmap('summer')\n",
    "# This next command is specifically for Jupyter Notebook\n",
    "%matplotlib notebook\n",
    "\n",
    "incomes_data = np.loadtxt('incomes.txt')"
   ]
  },
  {
   "cell_type": "markdown",
   "metadata": {},
   "source": [
    "### a). Plot a histogram of percentages of the income.txt data with 30 bins. Make sure that the bins are weighted using the normed=True option. Make sure your plot has correct x-axis and y-axis labels as well as a plot title."
   ]
  },
  {
   "cell_type": "code",
   "execution_count": 38,
   "metadata": {},
   "outputs": [
    {
     "data": {
      "application/javascript": [
       "/* Put everything inside the global mpl namespace */\n",
       "window.mpl = {};\n",
       "\n",
       "\n",
       "mpl.get_websocket_type = function() {\n",
       "    if (typeof(WebSocket) !== 'undefined') {\n",
       "        return WebSocket;\n",
       "    } else if (typeof(MozWebSocket) !== 'undefined') {\n",
       "        return MozWebSocket;\n",
       "    } else {\n",
       "        alert('Your browser does not have WebSocket support.' +\n",
       "              'Please try Chrome, Safari or Firefox ≥ 6. ' +\n",
       "              'Firefox 4 and 5 are also supported but you ' +\n",
       "              'have to enable WebSockets in about:config.');\n",
       "    };\n",
       "}\n",
       "\n",
       "mpl.figure = function(figure_id, websocket, ondownload, parent_element) {\n",
       "    this.id = figure_id;\n",
       "\n",
       "    this.ws = websocket;\n",
       "\n",
       "    this.supports_binary = (this.ws.binaryType != undefined);\n",
       "\n",
       "    if (!this.supports_binary) {\n",
       "        var warnings = document.getElementById(\"mpl-warnings\");\n",
       "        if (warnings) {\n",
       "            warnings.style.display = 'block';\n",
       "            warnings.textContent = (\n",
       "                \"This browser does not support binary websocket messages. \" +\n",
       "                    \"Performance may be slow.\");\n",
       "        }\n",
       "    }\n",
       "\n",
       "    this.imageObj = new Image();\n",
       "\n",
       "    this.context = undefined;\n",
       "    this.message = undefined;\n",
       "    this.canvas = undefined;\n",
       "    this.rubberband_canvas = undefined;\n",
       "    this.rubberband_context = undefined;\n",
       "    this.format_dropdown = undefined;\n",
       "\n",
       "    this.image_mode = 'full';\n",
       "\n",
       "    this.root = $('<div/>');\n",
       "    this._root_extra_style(this.root)\n",
       "    this.root.attr('style', 'display: inline-block');\n",
       "\n",
       "    $(parent_element).append(this.root);\n",
       "\n",
       "    this._init_header(this);\n",
       "    this._init_canvas(this);\n",
       "    this._init_toolbar(this);\n",
       "\n",
       "    var fig = this;\n",
       "\n",
       "    this.waiting = false;\n",
       "\n",
       "    this.ws.onopen =  function () {\n",
       "            fig.send_message(\"supports_binary\", {value: fig.supports_binary});\n",
       "            fig.send_message(\"send_image_mode\", {});\n",
       "            if (mpl.ratio != 1) {\n",
       "                fig.send_message(\"set_dpi_ratio\", {'dpi_ratio': mpl.ratio});\n",
       "            }\n",
       "            fig.send_message(\"refresh\", {});\n",
       "        }\n",
       "\n",
       "    this.imageObj.onload = function() {\n",
       "            if (fig.image_mode == 'full') {\n",
       "                // Full images could contain transparency (where diff images\n",
       "                // almost always do), so we need to clear the canvas so that\n",
       "                // there is no ghosting.\n",
       "                fig.context.clearRect(0, 0, fig.canvas.width, fig.canvas.height);\n",
       "            }\n",
       "            fig.context.drawImage(fig.imageObj, 0, 0);\n",
       "        };\n",
       "\n",
       "    this.imageObj.onunload = function() {\n",
       "        fig.ws.close();\n",
       "    }\n",
       "\n",
       "    this.ws.onmessage = this._make_on_message_function(this);\n",
       "\n",
       "    this.ondownload = ondownload;\n",
       "}\n",
       "\n",
       "mpl.figure.prototype._init_header = function() {\n",
       "    var titlebar = $(\n",
       "        '<div class=\"ui-dialog-titlebar ui-widget-header ui-corner-all ' +\n",
       "        'ui-helper-clearfix\"/>');\n",
       "    var titletext = $(\n",
       "        '<div class=\"ui-dialog-title\" style=\"width: 100%; ' +\n",
       "        'text-align: center; padding: 3px;\"/>');\n",
       "    titlebar.append(titletext)\n",
       "    this.root.append(titlebar);\n",
       "    this.header = titletext[0];\n",
       "}\n",
       "\n",
       "\n",
       "\n",
       "mpl.figure.prototype._canvas_extra_style = function(canvas_div) {\n",
       "\n",
       "}\n",
       "\n",
       "\n",
       "mpl.figure.prototype._root_extra_style = function(canvas_div) {\n",
       "\n",
       "}\n",
       "\n",
       "mpl.figure.prototype._init_canvas = function() {\n",
       "    var fig = this;\n",
       "\n",
       "    var canvas_div = $('<div/>');\n",
       "\n",
       "    canvas_div.attr('style', 'position: relative; clear: both; outline: 0');\n",
       "\n",
       "    function canvas_keyboard_event(event) {\n",
       "        return fig.key_event(event, event['data']);\n",
       "    }\n",
       "\n",
       "    canvas_div.keydown('key_press', canvas_keyboard_event);\n",
       "    canvas_div.keyup('key_release', canvas_keyboard_event);\n",
       "    this.canvas_div = canvas_div\n",
       "    this._canvas_extra_style(canvas_div)\n",
       "    this.root.append(canvas_div);\n",
       "\n",
       "    var canvas = $('<canvas/>');\n",
       "    canvas.addClass('mpl-canvas');\n",
       "    canvas.attr('style', \"left: 0; top: 0; z-index: 0; outline: 0\")\n",
       "\n",
       "    this.canvas = canvas[0];\n",
       "    this.context = canvas[0].getContext(\"2d\");\n",
       "\n",
       "    var backingStore = this.context.backingStorePixelRatio ||\n",
       "\tthis.context.webkitBackingStorePixelRatio ||\n",
       "\tthis.context.mozBackingStorePixelRatio ||\n",
       "\tthis.context.msBackingStorePixelRatio ||\n",
       "\tthis.context.oBackingStorePixelRatio ||\n",
       "\tthis.context.backingStorePixelRatio || 1;\n",
       "\n",
       "    mpl.ratio = (window.devicePixelRatio || 1) / backingStore;\n",
       "\n",
       "    var rubberband = $('<canvas/>');\n",
       "    rubberband.attr('style', \"position: absolute; left: 0; top: 0; z-index: 1;\")\n",
       "\n",
       "    var pass_mouse_events = true;\n",
       "\n",
       "    canvas_div.resizable({\n",
       "        start: function(event, ui) {\n",
       "            pass_mouse_events = false;\n",
       "        },\n",
       "        resize: function(event, ui) {\n",
       "            fig.request_resize(ui.size.width, ui.size.height);\n",
       "        },\n",
       "        stop: function(event, ui) {\n",
       "            pass_mouse_events = true;\n",
       "            fig.request_resize(ui.size.width, ui.size.height);\n",
       "        },\n",
       "    });\n",
       "\n",
       "    function mouse_event_fn(event) {\n",
       "        if (pass_mouse_events)\n",
       "            return fig.mouse_event(event, event['data']);\n",
       "    }\n",
       "\n",
       "    rubberband.mousedown('button_press', mouse_event_fn);\n",
       "    rubberband.mouseup('button_release', mouse_event_fn);\n",
       "    // Throttle sequential mouse events to 1 every 20ms.\n",
       "    rubberband.mousemove('motion_notify', mouse_event_fn);\n",
       "\n",
       "    rubberband.mouseenter('figure_enter', mouse_event_fn);\n",
       "    rubberband.mouseleave('figure_leave', mouse_event_fn);\n",
       "\n",
       "    canvas_div.on(\"wheel\", function (event) {\n",
       "        event = event.originalEvent;\n",
       "        event['data'] = 'scroll'\n",
       "        if (event.deltaY < 0) {\n",
       "            event.step = 1;\n",
       "        } else {\n",
       "            event.step = -1;\n",
       "        }\n",
       "        mouse_event_fn(event);\n",
       "    });\n",
       "\n",
       "    canvas_div.append(canvas);\n",
       "    canvas_div.append(rubberband);\n",
       "\n",
       "    this.rubberband = rubberband;\n",
       "    this.rubberband_canvas = rubberband[0];\n",
       "    this.rubberband_context = rubberband[0].getContext(\"2d\");\n",
       "    this.rubberband_context.strokeStyle = \"#000000\";\n",
       "\n",
       "    this._resize_canvas = function(width, height) {\n",
       "        // Keep the size of the canvas, canvas container, and rubber band\n",
       "        // canvas in synch.\n",
       "        canvas_div.css('width', width)\n",
       "        canvas_div.css('height', height)\n",
       "\n",
       "        canvas.attr('width', width * mpl.ratio);\n",
       "        canvas.attr('height', height * mpl.ratio);\n",
       "        canvas.attr('style', 'width: ' + width + 'px; height: ' + height + 'px;');\n",
       "\n",
       "        rubberband.attr('width', width);\n",
       "        rubberband.attr('height', height);\n",
       "    }\n",
       "\n",
       "    // Set the figure to an initial 600x600px, this will subsequently be updated\n",
       "    // upon first draw.\n",
       "    this._resize_canvas(600, 600);\n",
       "\n",
       "    // Disable right mouse context menu.\n",
       "    $(this.rubberband_canvas).bind(\"contextmenu\",function(e){\n",
       "        return false;\n",
       "    });\n",
       "\n",
       "    function set_focus () {\n",
       "        canvas.focus();\n",
       "        canvas_div.focus();\n",
       "    }\n",
       "\n",
       "    window.setTimeout(set_focus, 100);\n",
       "}\n",
       "\n",
       "mpl.figure.prototype._init_toolbar = function() {\n",
       "    var fig = this;\n",
       "\n",
       "    var nav_element = $('<div/>')\n",
       "    nav_element.attr('style', 'width: 100%');\n",
       "    this.root.append(nav_element);\n",
       "\n",
       "    // Define a callback function for later on.\n",
       "    function toolbar_event(event) {\n",
       "        return fig.toolbar_button_onclick(event['data']);\n",
       "    }\n",
       "    function toolbar_mouse_event(event) {\n",
       "        return fig.toolbar_button_onmouseover(event['data']);\n",
       "    }\n",
       "\n",
       "    for(var toolbar_ind in mpl.toolbar_items) {\n",
       "        var name = mpl.toolbar_items[toolbar_ind][0];\n",
       "        var tooltip = mpl.toolbar_items[toolbar_ind][1];\n",
       "        var image = mpl.toolbar_items[toolbar_ind][2];\n",
       "        var method_name = mpl.toolbar_items[toolbar_ind][3];\n",
       "\n",
       "        if (!name) {\n",
       "            // put a spacer in here.\n",
       "            continue;\n",
       "        }\n",
       "        var button = $('<button/>');\n",
       "        button.addClass('ui-button ui-widget ui-state-default ui-corner-all ' +\n",
       "                        'ui-button-icon-only');\n",
       "        button.attr('role', 'button');\n",
       "        button.attr('aria-disabled', 'false');\n",
       "        button.click(method_name, toolbar_event);\n",
       "        button.mouseover(tooltip, toolbar_mouse_event);\n",
       "\n",
       "        var icon_img = $('<span/>');\n",
       "        icon_img.addClass('ui-button-icon-primary ui-icon');\n",
       "        icon_img.addClass(image);\n",
       "        icon_img.addClass('ui-corner-all');\n",
       "\n",
       "        var tooltip_span = $('<span/>');\n",
       "        tooltip_span.addClass('ui-button-text');\n",
       "        tooltip_span.html(tooltip);\n",
       "\n",
       "        button.append(icon_img);\n",
       "        button.append(tooltip_span);\n",
       "\n",
       "        nav_element.append(button);\n",
       "    }\n",
       "\n",
       "    var fmt_picker_span = $('<span/>');\n",
       "\n",
       "    var fmt_picker = $('<select/>');\n",
       "    fmt_picker.addClass('mpl-toolbar-option ui-widget ui-widget-content');\n",
       "    fmt_picker_span.append(fmt_picker);\n",
       "    nav_element.append(fmt_picker_span);\n",
       "    this.format_dropdown = fmt_picker[0];\n",
       "\n",
       "    for (var ind in mpl.extensions) {\n",
       "        var fmt = mpl.extensions[ind];\n",
       "        var option = $(\n",
       "            '<option/>', {selected: fmt === mpl.default_extension}).html(fmt);\n",
       "        fmt_picker.append(option)\n",
       "    }\n",
       "\n",
       "    // Add hover states to the ui-buttons\n",
       "    $( \".ui-button\" ).hover(\n",
       "        function() { $(this).addClass(\"ui-state-hover\");},\n",
       "        function() { $(this).removeClass(\"ui-state-hover\");}\n",
       "    );\n",
       "\n",
       "    var status_bar = $('<span class=\"mpl-message\"/>');\n",
       "    nav_element.append(status_bar);\n",
       "    this.message = status_bar[0];\n",
       "}\n",
       "\n",
       "mpl.figure.prototype.request_resize = function(x_pixels, y_pixels) {\n",
       "    // Request matplotlib to resize the figure. Matplotlib will then trigger a resize in the client,\n",
       "    // which will in turn request a refresh of the image.\n",
       "    this.send_message('resize', {'width': x_pixels, 'height': y_pixels});\n",
       "}\n",
       "\n",
       "mpl.figure.prototype.send_message = function(type, properties) {\n",
       "    properties['type'] = type;\n",
       "    properties['figure_id'] = this.id;\n",
       "    this.ws.send(JSON.stringify(properties));\n",
       "}\n",
       "\n",
       "mpl.figure.prototype.send_draw_message = function() {\n",
       "    if (!this.waiting) {\n",
       "        this.waiting = true;\n",
       "        this.ws.send(JSON.stringify({type: \"draw\", figure_id: this.id}));\n",
       "    }\n",
       "}\n",
       "\n",
       "\n",
       "mpl.figure.prototype.handle_save = function(fig, msg) {\n",
       "    var format_dropdown = fig.format_dropdown;\n",
       "    var format = format_dropdown.options[format_dropdown.selectedIndex].value;\n",
       "    fig.ondownload(fig, format);\n",
       "}\n",
       "\n",
       "\n",
       "mpl.figure.prototype.handle_resize = function(fig, msg) {\n",
       "    var size = msg['size'];\n",
       "    if (size[0] != fig.canvas.width || size[1] != fig.canvas.height) {\n",
       "        fig._resize_canvas(size[0], size[1]);\n",
       "        fig.send_message(\"refresh\", {});\n",
       "    };\n",
       "}\n",
       "\n",
       "mpl.figure.prototype.handle_rubberband = function(fig, msg) {\n",
       "    var x0 = msg['x0'] / mpl.ratio;\n",
       "    var y0 = (fig.canvas.height - msg['y0']) / mpl.ratio;\n",
       "    var x1 = msg['x1'] / mpl.ratio;\n",
       "    var y1 = (fig.canvas.height - msg['y1']) / mpl.ratio;\n",
       "    x0 = Math.floor(x0) + 0.5;\n",
       "    y0 = Math.floor(y0) + 0.5;\n",
       "    x1 = Math.floor(x1) + 0.5;\n",
       "    y1 = Math.floor(y1) + 0.5;\n",
       "    var min_x = Math.min(x0, x1);\n",
       "    var min_y = Math.min(y0, y1);\n",
       "    var width = Math.abs(x1 - x0);\n",
       "    var height = Math.abs(y1 - y0);\n",
       "\n",
       "    fig.rubberband_context.clearRect(\n",
       "        0, 0, fig.canvas.width, fig.canvas.height);\n",
       "\n",
       "    fig.rubberband_context.strokeRect(min_x, min_y, width, height);\n",
       "}\n",
       "\n",
       "mpl.figure.prototype.handle_figure_label = function(fig, msg) {\n",
       "    // Updates the figure title.\n",
       "    fig.header.textContent = msg['label'];\n",
       "}\n",
       "\n",
       "mpl.figure.prototype.handle_cursor = function(fig, msg) {\n",
       "    var cursor = msg['cursor'];\n",
       "    switch(cursor)\n",
       "    {\n",
       "    case 0:\n",
       "        cursor = 'pointer';\n",
       "        break;\n",
       "    case 1:\n",
       "        cursor = 'default';\n",
       "        break;\n",
       "    case 2:\n",
       "        cursor = 'crosshair';\n",
       "        break;\n",
       "    case 3:\n",
       "        cursor = 'move';\n",
       "        break;\n",
       "    }\n",
       "    fig.rubberband_canvas.style.cursor = cursor;\n",
       "}\n",
       "\n",
       "mpl.figure.prototype.handle_message = function(fig, msg) {\n",
       "    fig.message.textContent = msg['message'];\n",
       "}\n",
       "\n",
       "mpl.figure.prototype.handle_draw = function(fig, msg) {\n",
       "    // Request the server to send over a new figure.\n",
       "    fig.send_draw_message();\n",
       "}\n",
       "\n",
       "mpl.figure.prototype.handle_image_mode = function(fig, msg) {\n",
       "    fig.image_mode = msg['mode'];\n",
       "}\n",
       "\n",
       "mpl.figure.prototype.updated_canvas_event = function() {\n",
       "    // Called whenever the canvas gets updated.\n",
       "    this.send_message(\"ack\", {});\n",
       "}\n",
       "\n",
       "// A function to construct a web socket function for onmessage handling.\n",
       "// Called in the figure constructor.\n",
       "mpl.figure.prototype._make_on_message_function = function(fig) {\n",
       "    return function socket_on_message(evt) {\n",
       "        if (evt.data instanceof Blob) {\n",
       "            /* FIXME: We get \"Resource interpreted as Image but\n",
       "             * transferred with MIME type text/plain:\" errors on\n",
       "             * Chrome.  But how to set the MIME type?  It doesn't seem\n",
       "             * to be part of the websocket stream */\n",
       "            evt.data.type = \"image/png\";\n",
       "\n",
       "            /* Free the memory for the previous frames */\n",
       "            if (fig.imageObj.src) {\n",
       "                (window.URL || window.webkitURL).revokeObjectURL(\n",
       "                    fig.imageObj.src);\n",
       "            }\n",
       "\n",
       "            fig.imageObj.src = (window.URL || window.webkitURL).createObjectURL(\n",
       "                evt.data);\n",
       "            fig.updated_canvas_event();\n",
       "            fig.waiting = false;\n",
       "            return;\n",
       "        }\n",
       "        else if (typeof evt.data === 'string' && evt.data.slice(0, 21) == \"data:image/png;base64\") {\n",
       "            fig.imageObj.src = evt.data;\n",
       "            fig.updated_canvas_event();\n",
       "            fig.waiting = false;\n",
       "            return;\n",
       "        }\n",
       "\n",
       "        var msg = JSON.parse(evt.data);\n",
       "        var msg_type = msg['type'];\n",
       "\n",
       "        // Call the  \"handle_{type}\" callback, which takes\n",
       "        // the figure and JSON message as its only arguments.\n",
       "        try {\n",
       "            var callback = fig[\"handle_\" + msg_type];\n",
       "        } catch (e) {\n",
       "            console.log(\"No handler for the '\" + msg_type + \"' message type: \", msg);\n",
       "            return;\n",
       "        }\n",
       "\n",
       "        if (callback) {\n",
       "            try {\n",
       "                // console.log(\"Handling '\" + msg_type + \"' message: \", msg);\n",
       "                callback(fig, msg);\n",
       "            } catch (e) {\n",
       "                console.log(\"Exception inside the 'handler_\" + msg_type + \"' callback:\", e, e.stack, msg);\n",
       "            }\n",
       "        }\n",
       "    };\n",
       "}\n",
       "\n",
       "// from http://stackoverflow.com/questions/1114465/getting-mouse-location-in-canvas\n",
       "mpl.findpos = function(e) {\n",
       "    //this section is from http://www.quirksmode.org/js/events_properties.html\n",
       "    var targ;\n",
       "    if (!e)\n",
       "        e = window.event;\n",
       "    if (e.target)\n",
       "        targ = e.target;\n",
       "    else if (e.srcElement)\n",
       "        targ = e.srcElement;\n",
       "    if (targ.nodeType == 3) // defeat Safari bug\n",
       "        targ = targ.parentNode;\n",
       "\n",
       "    // jQuery normalizes the pageX and pageY\n",
       "    // pageX,Y are the mouse positions relative to the document\n",
       "    // offset() returns the position of the element relative to the document\n",
       "    var x = e.pageX - $(targ).offset().left;\n",
       "    var y = e.pageY - $(targ).offset().top;\n",
       "\n",
       "    return {\"x\": x, \"y\": y};\n",
       "};\n",
       "\n",
       "/*\n",
       " * return a copy of an object with only non-object keys\n",
       " * we need this to avoid circular references\n",
       " * http://stackoverflow.com/a/24161582/3208463\n",
       " */\n",
       "function simpleKeys (original) {\n",
       "  return Object.keys(original).reduce(function (obj, key) {\n",
       "    if (typeof original[key] !== 'object')\n",
       "        obj[key] = original[key]\n",
       "    return obj;\n",
       "  }, {});\n",
       "}\n",
       "\n",
       "mpl.figure.prototype.mouse_event = function(event, name) {\n",
       "    var canvas_pos = mpl.findpos(event)\n",
       "\n",
       "    if (name === 'button_press')\n",
       "    {\n",
       "        this.canvas.focus();\n",
       "        this.canvas_div.focus();\n",
       "    }\n",
       "\n",
       "    var x = canvas_pos.x * mpl.ratio;\n",
       "    var y = canvas_pos.y * mpl.ratio;\n",
       "\n",
       "    this.send_message(name, {x: x, y: y, button: event.button,\n",
       "                             step: event.step,\n",
       "                             guiEvent: simpleKeys(event)});\n",
       "\n",
       "    /* This prevents the web browser from automatically changing to\n",
       "     * the text insertion cursor when the button is pressed.  We want\n",
       "     * to control all of the cursor setting manually through the\n",
       "     * 'cursor' event from matplotlib */\n",
       "    event.preventDefault();\n",
       "    return false;\n",
       "}\n",
       "\n",
       "mpl.figure.prototype._key_event_extra = function(event, name) {\n",
       "    // Handle any extra behaviour associated with a key event\n",
       "}\n",
       "\n",
       "mpl.figure.prototype.key_event = function(event, name) {\n",
       "\n",
       "    // Prevent repeat events\n",
       "    if (name == 'key_press')\n",
       "    {\n",
       "        if (event.which === this._key)\n",
       "            return;\n",
       "        else\n",
       "            this._key = event.which;\n",
       "    }\n",
       "    if (name == 'key_release')\n",
       "        this._key = null;\n",
       "\n",
       "    var value = '';\n",
       "    if (event.ctrlKey && event.which != 17)\n",
       "        value += \"ctrl+\";\n",
       "    if (event.altKey && event.which != 18)\n",
       "        value += \"alt+\";\n",
       "    if (event.shiftKey && event.which != 16)\n",
       "        value += \"shift+\";\n",
       "\n",
       "    value += 'k';\n",
       "    value += event.which.toString();\n",
       "\n",
       "    this._key_event_extra(event, name);\n",
       "\n",
       "    this.send_message(name, {key: value,\n",
       "                             guiEvent: simpleKeys(event)});\n",
       "    return false;\n",
       "}\n",
       "\n",
       "mpl.figure.prototype.toolbar_button_onclick = function(name) {\n",
       "    if (name == 'download') {\n",
       "        this.handle_save(this, null);\n",
       "    } else {\n",
       "        this.send_message(\"toolbar_button\", {name: name});\n",
       "    }\n",
       "};\n",
       "\n",
       "mpl.figure.prototype.toolbar_button_onmouseover = function(tooltip) {\n",
       "    this.message.textContent = tooltip;\n",
       "};\n",
       "mpl.toolbar_items = [[\"Home\", \"Reset original view\", \"fa fa-home icon-home\", \"home\"], [\"Back\", \"Back to  previous view\", \"fa fa-arrow-left icon-arrow-left\", \"back\"], [\"Forward\", \"Forward to next view\", \"fa fa-arrow-right icon-arrow-right\", \"forward\"], [\"\", \"\", \"\", \"\"], [\"Pan\", \"Pan axes with left mouse, zoom with right\", \"fa fa-arrows icon-move\", \"pan\"], [\"Zoom\", \"Zoom to rectangle\", \"fa fa-square-o icon-check-empty\", \"zoom\"], [\"\", \"\", \"\", \"\"], [\"Download\", \"Download plot\", \"fa fa-floppy-o icon-save\", \"download\"]];\n",
       "\n",
       "mpl.extensions = [\"eps\", \"jpeg\", \"pdf\", \"png\", \"ps\", \"raw\", \"svg\", \"tif\"];\n",
       "\n",
       "mpl.default_extension = \"png\";var comm_websocket_adapter = function(comm) {\n",
       "    // Create a \"websocket\"-like object which calls the given IPython comm\n",
       "    // object with the appropriate methods. Currently this is a non binary\n",
       "    // socket, so there is still some room for performance tuning.\n",
       "    var ws = {};\n",
       "\n",
       "    ws.close = function() {\n",
       "        comm.close()\n",
       "    };\n",
       "    ws.send = function(m) {\n",
       "        //console.log('sending', m);\n",
       "        comm.send(m);\n",
       "    };\n",
       "    // Register the callback with on_msg.\n",
       "    comm.on_msg(function(msg) {\n",
       "        //console.log('receiving', msg['content']['data'], msg);\n",
       "        // Pass the mpl event to the overriden (by mpl) onmessage function.\n",
       "        ws.onmessage(msg['content']['data'])\n",
       "    });\n",
       "    return ws;\n",
       "}\n",
       "\n",
       "mpl.mpl_figure_comm = function(comm, msg) {\n",
       "    // This is the function which gets called when the mpl process\n",
       "    // starts-up an IPython Comm through the \"matplotlib\" channel.\n",
       "\n",
       "    var id = msg.content.data.id;\n",
       "    // Get hold of the div created by the display call when the Comm\n",
       "    // socket was opened in Python.\n",
       "    var element = $(\"#\" + id);\n",
       "    var ws_proxy = comm_websocket_adapter(comm)\n",
       "\n",
       "    function ondownload(figure, format) {\n",
       "        window.open(figure.imageObj.src);\n",
       "    }\n",
       "\n",
       "    var fig = new mpl.figure(id, ws_proxy,\n",
       "                           ondownload,\n",
       "                           element.get(0));\n",
       "\n",
       "    // Call onopen now - mpl needs it, as it is assuming we've passed it a real\n",
       "    // web socket which is closed, not our websocket->open comm proxy.\n",
       "    ws_proxy.onopen();\n",
       "\n",
       "    fig.parent_element = element.get(0);\n",
       "    fig.cell_info = mpl.find_output_cell(\"<div id='\" + id + \"'></div>\");\n",
       "    if (!fig.cell_info) {\n",
       "        console.error(\"Failed to find cell for figure\", id, fig);\n",
       "        return;\n",
       "    }\n",
       "\n",
       "    var output_index = fig.cell_info[2]\n",
       "    var cell = fig.cell_info[0];\n",
       "\n",
       "};\n",
       "\n",
       "mpl.figure.prototype.handle_close = function(fig, msg) {\n",
       "    var width = fig.canvas.width/mpl.ratio\n",
       "    fig.root.unbind('remove')\n",
       "\n",
       "    // Update the output cell to use the data from the current canvas.\n",
       "    fig.push_to_output();\n",
       "    var dataURL = fig.canvas.toDataURL();\n",
       "    // Re-enable the keyboard manager in IPython - without this line, in FF,\n",
       "    // the notebook keyboard shortcuts fail.\n",
       "    IPython.keyboard_manager.enable()\n",
       "    $(fig.parent_element).html('<img src=\"' + dataURL + '\" width=\"' + width + '\">');\n",
       "    fig.close_ws(fig, msg);\n",
       "}\n",
       "\n",
       "mpl.figure.prototype.close_ws = function(fig, msg){\n",
       "    fig.send_message('closing', msg);\n",
       "    // fig.ws.close()\n",
       "}\n",
       "\n",
       "mpl.figure.prototype.push_to_output = function(remove_interactive) {\n",
       "    // Turn the data on the canvas into data in the output cell.\n",
       "    var width = this.canvas.width/mpl.ratio\n",
       "    var dataURL = this.canvas.toDataURL();\n",
       "    this.cell_info[1]['text/html'] = '<img src=\"' + dataURL + '\" width=\"' + width + '\">';\n",
       "}\n",
       "\n",
       "mpl.figure.prototype.updated_canvas_event = function() {\n",
       "    // Tell IPython that the notebook contents must change.\n",
       "    IPython.notebook.set_dirty(true);\n",
       "    this.send_message(\"ack\", {});\n",
       "    var fig = this;\n",
       "    // Wait a second, then push the new image to the DOM so\n",
       "    // that it is saved nicely (might be nice to debounce this).\n",
       "    setTimeout(function () { fig.push_to_output() }, 1000);\n",
       "}\n",
       "\n",
       "mpl.figure.prototype._init_toolbar = function() {\n",
       "    var fig = this;\n",
       "\n",
       "    var nav_element = $('<div/>')\n",
       "    nav_element.attr('style', 'width: 100%');\n",
       "    this.root.append(nav_element);\n",
       "\n",
       "    // Define a callback function for later on.\n",
       "    function toolbar_event(event) {\n",
       "        return fig.toolbar_button_onclick(event['data']);\n",
       "    }\n",
       "    function toolbar_mouse_event(event) {\n",
       "        return fig.toolbar_button_onmouseover(event['data']);\n",
       "    }\n",
       "\n",
       "    for(var toolbar_ind in mpl.toolbar_items){\n",
       "        var name = mpl.toolbar_items[toolbar_ind][0];\n",
       "        var tooltip = mpl.toolbar_items[toolbar_ind][1];\n",
       "        var image = mpl.toolbar_items[toolbar_ind][2];\n",
       "        var method_name = mpl.toolbar_items[toolbar_ind][3];\n",
       "\n",
       "        if (!name) { continue; };\n",
       "\n",
       "        var button = $('<button class=\"btn btn-default\" href=\"#\" title=\"' + name + '\"><i class=\"fa ' + image + ' fa-lg\"></i></button>');\n",
       "        button.click(method_name, toolbar_event);\n",
       "        button.mouseover(tooltip, toolbar_mouse_event);\n",
       "        nav_element.append(button);\n",
       "    }\n",
       "\n",
       "    // Add the status bar.\n",
       "    var status_bar = $('<span class=\"mpl-message\" style=\"text-align:right; float: right;\"/>');\n",
       "    nav_element.append(status_bar);\n",
       "    this.message = status_bar[0];\n",
       "\n",
       "    // Add the close button to the window.\n",
       "    var buttongrp = $('<div class=\"btn-group inline pull-right\"></div>');\n",
       "    var button = $('<button class=\"btn btn-mini btn-primary\" href=\"#\" title=\"Stop Interaction\"><i class=\"fa fa-power-off icon-remove icon-large\"></i></button>');\n",
       "    button.click(function (evt) { fig.handle_close(fig, {}); } );\n",
       "    button.mouseover('Stop Interaction', toolbar_mouse_event);\n",
       "    buttongrp.append(button);\n",
       "    var titlebar = this.root.find($('.ui-dialog-titlebar'));\n",
       "    titlebar.prepend(buttongrp);\n",
       "}\n",
       "\n",
       "mpl.figure.prototype._root_extra_style = function(el){\n",
       "    var fig = this\n",
       "    el.on(\"remove\", function(){\n",
       "\tfig.close_ws(fig, {});\n",
       "    });\n",
       "}\n",
       "\n",
       "mpl.figure.prototype._canvas_extra_style = function(el){\n",
       "    // this is important to make the div 'focusable\n",
       "    el.attr('tabindex', 0)\n",
       "    // reach out to IPython and tell the keyboard manager to turn it's self\n",
       "    // off when our div gets focus\n",
       "\n",
       "    // location in version 3\n",
       "    if (IPython.notebook.keyboard_manager) {\n",
       "        IPython.notebook.keyboard_manager.register_events(el);\n",
       "    }\n",
       "    else {\n",
       "        // location in version 2\n",
       "        IPython.keyboard_manager.register_events(el);\n",
       "    }\n",
       "\n",
       "}\n",
       "\n",
       "mpl.figure.prototype._key_event_extra = function(event, name) {\n",
       "    var manager = IPython.notebook.keyboard_manager;\n",
       "    if (!manager)\n",
       "        manager = IPython.keyboard_manager;\n",
       "\n",
       "    // Check for shift+enter\n",
       "    if (event.shiftKey && event.which == 13) {\n",
       "        this.canvas_div.blur();\n",
       "        event.shiftKey = false;\n",
       "        // Send a \"J\" for go to next cell\n",
       "        event.which = 74;\n",
       "        event.keyCode = 74;\n",
       "        manager.command_mode();\n",
       "        manager.handle_keydown(event);\n",
       "    }\n",
       "}\n",
       "\n",
       "mpl.figure.prototype.handle_save = function(fig, msg) {\n",
       "    fig.ondownload(fig, null);\n",
       "}\n",
       "\n",
       "\n",
       "mpl.find_output_cell = function(html_output) {\n",
       "    // Return the cell and output element which can be found *uniquely* in the notebook.\n",
       "    // Note - this is a bit hacky, but it is done because the \"notebook_saving.Notebook\"\n",
       "    // IPython event is triggered only after the cells have been serialised, which for\n",
       "    // our purposes (turning an active figure into a static one), is too late.\n",
       "    var cells = IPython.notebook.get_cells();\n",
       "    var ncells = cells.length;\n",
       "    for (var i=0; i<ncells; i++) {\n",
       "        var cell = cells[i];\n",
       "        if (cell.cell_type === 'code'){\n",
       "            for (var j=0; j<cell.output_area.outputs.length; j++) {\n",
       "                var data = cell.output_area.outputs[j];\n",
       "                if (data.data) {\n",
       "                    // IPython >= 3 moved mimebundle to data attribute of output\n",
       "                    data = data.data;\n",
       "                }\n",
       "                if (data['text/html'] == html_output) {\n",
       "                    return [cell, data, j];\n",
       "                }\n",
       "            }\n",
       "        }\n",
       "    }\n",
       "}\n",
       "\n",
       "// Register the function which deals with the matplotlib target/channel.\n",
       "// The kernel may be null if the page has been refreshed.\n",
       "if (IPython.notebook.kernel != null) {\n",
       "    IPython.notebook.kernel.comm_manager.register_target('matplotlib', mpl.mpl_figure_comm);\n",
       "}\n"
      ],
      "text/plain": [
       "<IPython.core.display.Javascript object>"
      ]
     },
     "metadata": {},
     "output_type": "display_data"
    },
    {
     "data": {
      "text/html": [
       "<img src=\"data:image/png;base64,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\" width=\"640\">"
      ],
      "text/plain": [
       "<IPython.core.display.HTML object>"
      ]
     },
     "metadata": {},
     "output_type": "display_data"
    },
    {
     "data": {
      "text/plain": [
       "(0, 150000)"
      ]
     },
     "execution_count": 38,
     "metadata": {},
     "output_type": "execute_result"
    }
   ],
   "source": [
    "count, bins, ignored = plt.hist(incomes_data, bins=30, edgecolor='black', normed=True)\n",
    "plt.title('MACSS Incomes: 2018-2020', fontsize=20)\n",
    "plt.xlabel('Income, USD')\n",
    "plt.ylabel('Proportion of Income') # Not sure why y-axis label is not showing up (?)\n",
    "plt.xlim([0, 150000]) "
   ]
  },
  {
   "cell_type": "markdown",
   "metadata": {},
   "source": [
    "### b). Estimate the parameters of the lognormal distribution by generalized method of moments. "
   ]
  },
  {
   "cell_type": "code",
   "execution_count": 39,
   "metadata": {
    "collapsed": true
   },
   "outputs": [],
   "source": [
    "# Define function that generates values of a lognormal pdf:\n",
    "def lognormal_pdf(xvals, mu, sigma):\n",
    "    \"\"\"\n",
    "    Generates a vector of values from a lognormal distribution.\n",
    "    Inputs:\n",
    "        xvals: Numpy array, vector of x-values\n",
    "        mu: Integer mean\n",
    "        sigma: Integer standard deviation\n",
    "    Returns:\n",
    "        pdf_vals: Numpy array, vector of y-values, i.e. pdf-values.\n",
    "    \"\"\"\n",
    "    pdf_vals = ( 1 / \n",
    "           (xvals * sigma * np.sqrt(2 * np.pi))) * np.exp( (- (np.log(xvals) - mu) ** 2) / (2 * (sigma ** 2)))\n",
    "    return pdf_vals"
   ]
  },
  {
   "cell_type": "markdown",
   "metadata": {},
   "source": [
    "Function to calculate $m(x)$ - Rx1 vector of moments from real data:"
   ]
  },
  {
   "cell_type": "code",
   "execution_count": 40,
   "metadata": {
    "collapsed": true
   },
   "outputs": [],
   "source": [
    "def data_moments(xvals):\n",
    "    \"\"\"\n",
    "    Takes in continuous data and returns mean and standard deviation.\n",
    "    Inputs:\n",
    "        xvals: Numpy array of data\n",
    "    Return:\n",
    "        \n",
    "    \"\"\"\n",
    "    data_mean = xvals.mean()\n",
    "    data_sd = xvals.std()\n",
    "    \n",
    "    return data_mean, data_sd"
   ]
  },
  {
   "cell_type": "markdown",
   "metadata": {},
   "source": [
    "Function to calculate $m(x|\\theta)$ - Rx1 vector of moments from the model:"
   ]
  },
  {
   "cell_type": "code",
   "execution_count": 41,
   "metadata": {
    "collapsed": true
   },
   "outputs": [],
   "source": [
    "def model_moments(mu, sigma):\n",
    "    \"\"\"\n",
    "    Takes mean and SD values, and calculates mean and SD from using a\n",
    "    PDF intergral.\n",
    "    Inputs:\n",
    "        mu: float, mean\n",
    "        sigma: float, standard deviation\n",
    "    Returns:\n",
    "        mean_model: float, model's mean\n",
    "        \n",
    "    \"\"\"\n",
    "    # This freaks Python out, b/c of infities I think:\n",
    "    #xfx = lambda x: x * lognormal_pdf(x, mu, sigma)\n",
    "    #(model_mean, m_m_err) = intgr.quad(xfx, -np.inf, +np.inf)\n",
    "    \n",
    "    # This doesn't (Saw formula for lognormal mean on wikipedia):\n",
    "    model_mean = np.exp(mu + ((sigma ** 2) / 2))\n",
    "    \n",
    "    #x2fx = lambda x: ((x - model_mean) ** 2) * lognormal_pdf(x, mu, sigma)\n",
    "    #(model_var, v_m_err) = intgr.quad(x2fx, 0, +np.inf)\n",
    "    \n",
    "    # Likewise, let's try formula for SD, instead of intergral:\n",
    "    model_var = (np.exp(sigma ** 2) - 1) * (np.exp(2 * mu + sigma ** 2))\n",
    "    model_sd = np.sqrt(model_var)\n",
    "    \n",
    "    return model_mean, model_sd"
   ]
  },
  {
   "cell_type": "markdown",
   "metadata": {},
   "source": [
    "Function to calculate $e(x|\\theta)$ - Rx1 vector of percent difference:\n",
    "$e(x|\\theta) = \\frac{m(x|\\theta) - m(x)}{m(x)}$:"
   ]
  },
  {
   "cell_type": "code",
   "execution_count": 42,
   "metadata": {
    "collapsed": true
   },
   "outputs": [],
   "source": [
    "def err_vec(xvals, mu, sigma):\n",
    "    \"\"\"\n",
    "    Takes observation values, mean and sd and calculates the values of\n",
    "    the moment error function (e(x|theta))\n",
    "    Inputs:\n",
    "        xvals: Numpy array of observations\n",
    "        mu: float, mean\n",
    "        sigma: float, sd\n",
    "    Returns:\n",
    "        err_vec: Numpy array of he values of the moment error function\n",
    "        as the percent difference\n",
    "    \"\"\"\n",
    "    # m(x|theta):\n",
    "    model_mean, model_sd = model_moments(mu, sigma)\n",
    "    moments_from_model = np.array([[model_mean], [model_sd]])\n",
    "    \n",
    "    # m(x):\n",
    "    data_mean, data_sd = data_moments(xvals)\n",
    "    moments_from_data = np.array([[data_mean], [data_sd]])\n",
    "    \n",
    "    # e(x|theta):\n",
    "    err_vec = (moments_from_model - moments_from_data) / moments_from_data\n",
    "    \n",
    "    return err_vec"
   ]
  },
  {
   "cell_type": "markdown",
   "metadata": {},
   "source": [
    "Function to calculate criterion function: $e(x|\\theta)^T$ $W$ $e(x)$"
   ]
  },
  {
   "cell_type": "code",
   "execution_count": 43,
   "metadata": {
    "collapsed": true
   },
   "outputs": [],
   "source": [
    "def criterion(params, *args):\n",
    "    \"\"\"\n",
    "    Calculate the value of the criterion function: \n",
    "    e(x|theta)^T * W * e(x|theta)\n",
    "    Inputs:\n",
    "        params: mean and sd floats\n",
    "        *args: Numpy array of observations and W weighing matrix \n",
    "        (Numpy array)\n",
    "    Outputs:\n",
    "        crit_val: float, value of the error criterion function\n",
    "    \"\"\"\n",
    "    mu, sigma = params\n",
    "    xvals, W = args\n",
    "    err = err_vec(xvals, mu, sigma)\n",
    "    crit_val = np.dot(np.dot(err.T, W), err) \n",
    "    \n",
    "    return crit_val"
   ]
  },
  {
   "cell_type": "markdown",
   "metadata": {},
   "source": [
    "### Use the average income and standard deviation of income as your two moments. Use the identity matrix as your weighting matrix $\\hat{W}$."
   ]
  },
  {
   "cell_type": "code",
   "execution_count": 44,
   "metadata": {},
   "outputs": [
    {
     "name": "stdout",
     "output_type": "stream",
     "text": [
      "mu_GMM1= 11.3318806818  sig_GMM1= 0.208696739063\n"
     ]
    }
   ],
   "source": [
    "# Guesses from HW2:\n",
    "mu_init = 11.36\n",
    "sig_init = .21\n",
    "\n",
    "params_init = np.array([mu_init, sig_init])\n",
    "W_hat = np.eye(2)\n",
    "gmm_args = (incomes_data, W_hat)\n",
    "# Bounds on Mean: -inf to inf. Bounds on SD: 0 to inf.:\n",
    "results = opt.minimize(criterion, params_init, args=(gmm_args),\n",
    "                       method='L-BFGS-B', bounds=((None, None), (1e-10, None)))\n",
    "mu_GMM1, sig_GMM1 = results.x\n",
    "print('mu_GMM1=', mu_GMM1, ' sig_GMM1=', sig_GMM1)"
   ]
  },
  {
   "cell_type": "markdown",
   "metadata": {},
   "source": [
    "### Plot your estimated lognormal PDF against the histogram from part (a)."
   ]
  },
  {
   "cell_type": "code",
   "execution_count": 45,
   "metadata": {},
   "outputs": [
    {
     "data": {
      "text/plain": [
       "<matplotlib.legend.Legend at 0x1a17a89208>"
      ]
     },
     "execution_count": 45,
     "metadata": {},
     "output_type": "execute_result"
    }
   ],
   "source": [
    "# Plot the estimated GMM PDF\n",
    "dist_pts = np.linspace(0.00000001, 150000, 500)\n",
    "plt.plot(dist_pts, lognormal_pdf(dist_pts, mu_GMM1, sig_GMM1),\n",
    "         linewidth=2, color='k', label='1: $\\mu_{GMM1}$=11.3319, $\\sigma_{GMM1}=0.2087$')\n",
    "plt.legend(loc='upper left')"
   ]
  },
  {
   "cell_type": "markdown",
   "metadata": {},
   "source": [
    "See results on the histogram earlier ^"
   ]
  },
  {
   "cell_type": "markdown",
   "metadata": {},
   "source": [
    "###  Report the value of your GMM criterion function at the estimated parameter values. "
   ]
  },
  {
   "cell_type": "code",
   "execution_count": 46,
   "metadata": {},
   "outputs": [
    {
     "name": "stdout",
     "output_type": "stream",
     "text": [
      "Value of the GMM criterion function at the estimated mu and sigma:\n",
      "[[  7.57475098e-14]]\n"
     ]
    }
   ],
   "source": [
    "params = np.array([mu_GMM1, sig_GMM1])\n",
    "W_hat = np.eye(2)\n",
    "gmm_args = (incomes_data, W_hat)\n",
    "print(\"Value of the GMM criterion function at the estimated mu and sigma:\")\n",
    "crit1 = criterion(params, incomes_data, W_hat)\n",
    "print(crit1)"
   ]
  },
  {
   "cell_type": "markdown",
   "metadata": {},
   "source": [
    "### Report and compare your two data moments against your two model moments at the estimated parameter values."
   ]
  },
  {
   "cell_type": "code",
   "execution_count": 47,
   "metadata": {},
   "outputs": [
    {
     "name": "stdout",
     "output_type": "stream",
     "text": [
      "Mean of Data = 85276.8236063 , SD of Data = 17992.542128\n",
      "Mean of Model = 85276.811169 , SD of Model = 17992.5463275\n",
      "Error vector= [ -1.45845960e-07   2.33401941e-07]\n"
     ]
    }
   ],
   "source": [
    "mean_data, sd_data = data_moments(incomes_data)\n",
    "mean_model, sd_model = model_moments(mu_GMM1, sig_GMM1)\n",
    "err1 = err_vec(incomes_data, mu_GMM1, sig_GMM1)\n",
    "print('Mean of Data =', mean_data, ', SD of Data =', sd_data)\n",
    "print('Mean of Model =', mean_model, ', SD of Model =', sd_model)\n",
    "print('Error vector=', err1.reshape(2,))"
   ]
  },
  {
   "cell_type": "markdown",
   "metadata": {},
   "source": [
    "^ Pretty darn good!"
   ]
  },
  {
   "cell_type": "markdown",
   "metadata": {},
   "source": [
    "### c). Perform the two-step GMM estimator by using your estimates from part (b) with two moments to generate an estimator for the variance covariance matrix  $\\hat{\\Omega}_{2step}$ which you then use to get the two-step estimator for the optimal weighting matrix $\\hat{W}_{2step}$."
   ]
  },
  {
   "cell_type": "markdown",
   "metadata": {},
   "source": [
    "Find $\\hat{\\Omega}_{2step}$ and $\\hat{W}_{2step}$:"
   ]
  },
  {
   "cell_type": "code",
   "execution_count": 48,
   "metadata": {},
   "outputs": [
    {
     "name": "stdout",
     "output_type": "stream",
     "text": [
      "[[  1.06355220e-16  -1.70203650e-16]\n",
      " [ -1.70203650e-16   2.72382329e-16]]\n",
      "[[  7.41450361e+14  -1.18656666e+15]\n",
      " [ -1.18656666e+15   1.89890046e+15]]\n"
     ]
    }
   ],
   "source": [
    "omega_twostep_vcv = np.dot(err1, err1.T) / incomes_data.shape[0]\n",
    "print(omega_twostep_vcv)\n",
    "W_hat2 = lin.pinv(omega_twostep_vcv)  # Use the pseudo-inverse calculated by SVD because VCV2 is ill-conditioned\n",
    "print(W_hat2)"
   ]
  },
  {
   "cell_type": "code",
   "execution_count": 49,
   "metadata": {},
   "outputs": [],
   "source": [
    "params_init = np.array([mu_GMM1, sig_GMM1])\n",
    "gmm_args = (incomes_data, W_hat2)\n",
    "# Bounds on Mean: -inf to inf. Bounds on SD: 0 to inf.:\n",
    "results = opt.minimize(criterion, params_init, args=(gmm_args),\n",
    "                       method='L-BFGS-B', bounds=((None, None), (1e-10, None)))\n",
    "mu_GMM2, sig_GMM2 = results.x"
   ]
  },
  {
   "cell_type": "markdown",
   "metadata": {},
   "source": [
    "### Report your estimates as well as the criterion function value at these estimates."
   ]
  },
  {
   "cell_type": "code",
   "execution_count": 50,
   "metadata": {},
   "outputs": [
    {
     "name": "stdout",
     "output_type": "stream",
     "text": [
      "mu_GMM2= 11.3318799055  sig_GMM2= 0.208696732361\n",
      "Value of the GMM criterion function at the two-step estimated mu and sigma:\n",
      "[[  7.07242457e-10]]\n"
     ]
    }
   ],
   "source": [
    "print('mu_GMM2=', mu_GMM2, ' sig_GMM2=', sig_GMM2)\n",
    "\n",
    "params = np.array([mu_GMM2, sig_GMM2])\n",
    "gmm_args = (incomes_data, W_hat2)\n",
    "print(\"Value of the GMM criterion function at the two-step estimated mu and sigma:\")\n",
    "crit2 = criterion(params, incomes_data, W_hat2)\n",
    "print(crit2)"
   ]
  },
  {
   "cell_type": "markdown",
   "metadata": {},
   "source": [
    "### Plot your estimated lognormal PDF against the histogram from part (a) and the estimated PDF from part (b)."
   ]
  },
  {
   "cell_type": "code",
   "execution_count": 51,
   "metadata": {},
   "outputs": [
    {
     "data": {
      "text/plain": [
       "<matplotlib.legend.Legend at 0x1a17e63048>"
      ]
     },
     "execution_count": 51,
     "metadata": {},
     "output_type": "execute_result"
    }
   ],
   "source": [
    "# Plot the two-step estimated GMM PDF:\n",
    "dist_pts = np.linspace(0.00000001, 150000, 500)\n",
    "plt.plot(dist_pts, lognormal_pdf(dist_pts, mu_GMM2, sig_GMM2),\n",
    "         linewidth=2, color='r', label='1: $\\mu_{GMM2}$=11.3319, $\\sigma_{GMM2}=0.2087$')\n",
    "plt.legend(loc='upper left')"
   ]
  },
  {
   "cell_type": "markdown",
   "metadata": {},
   "source": [
    "See results on the histogram earlier ^"
   ]
  },
  {
   "cell_type": "markdown",
   "metadata": {},
   "source": [
    "### Report and compare your two data moments against your two model moments at the estimated parameter values."
   ]
  },
  {
   "cell_type": "code",
   "execution_count": 52,
   "metadata": {},
   "outputs": [
    {
     "name": "stdout",
     "output_type": "stream",
     "text": [
      "Mean of Data = 85276.8236063 , SD of Data = 17992.542128\n",
      "Mean of Model = 85276.811169 , SD of Model = 17992.5463275\n",
      "Error Vector = [ -1.45845960e-07   2.33401941e-07]\n",
      "Mean of Model (Two-Step) = 85276.7448531\n",
      "SD of Model (Two-Step) = 17992.5317451\n",
      "Error Vector (Two-Step) = [ -9.23499677e-07  -5.77068206e-07]\n"
     ]
    }
   ],
   "source": [
    "mean_data, sd_data = data_moments(incomes_data)\n",
    "\n",
    "# W=I: \n",
    "mean_model1, sd_model1 = model_moments(mu_GMM1, sig_GMM1)\n",
    "err1 = err_vec(incomes_data, mu_GMM1, sig_GMM1)\n",
    "\n",
    "# W=W2:\n",
    "mean_model2, sd_model2 = model_moments(mu_GMM2, sig_GMM2)\n",
    "err2 = err_vec(incomes_data, mu_GMM2, sig_GMM2)\n",
    "\n",
    "print('Mean of Data =', mean_data, ', SD of Data =', sd_data)\n",
    "print('Mean of Model =', mean_model1, ', SD of Model =', sd_model1)\n",
    "print('Error Vector =', err1.reshape(2,))\n",
    "print('Mean of Model (Two-Step) =', mean_model2)\n",
    "print('SD of Model (Two-Step) =', sd_model2)\n",
    "print('Error Vector (Two-Step) =', err2.reshape(2,))"
   ]
  },
  {
   "cell_type": "markdown",
   "metadata": {},
   "source": [
    "^ Pretty good, as error vectors are pretty small, but the W=I for the weighting matrix shows better results; those error vectors were even better (smaller) in the our W=I case!"
   ]
  },
  {
   "cell_type": "markdown",
   "metadata": {},
   "source": [
    "### d). Now estimate the lognormal PDF to fit the data by GMM using different moments."
   ]
  },
  {
   "cell_type": "markdown",
   "metadata": {},
   "source": [
    "### Use percent of individuals who earn less than USD75,000, percent of individuals who earn between USD75,000 and USD100,000, and percent of individuals who earn more than USD100,000 as your three moments."
   ]
  },
  {
   "cell_type": "code",
   "execution_count": 53,
   "metadata": {
    "collapsed": true
   },
   "outputs": [],
   "source": [
    "# New data moments function:\n",
    "def data_moments3(xvals):\n",
    "    \"\"\"\n",
    "    Split our data to calculate percent of individuals in each income\n",
    "    category.\n",
    "    Input:\n",
    "        xvals: Numpy array of observations\n",
    "    Return:\n",
    "        bpct_1_dat, bpct_2_dat, bpct_3_dat: \n",
    "        Tuple of float percents in each category\n",
    "    \"\"\"\n",
    "    bpct_1_dat = xvals[xvals < 75000].shape[0] / xvals.shape[0]\n",
    "    bpct_2_dat = (xvals[(xvals >=75000) & (xvals < 100000)].shape[0] /\n",
    "                  xvals.shape[0])\n",
    "    bpct_3_dat = xvals[xvals >= 100000].shape[0] / xvals.shape[0]\n",
    "\n",
    "    return bpct_1_dat, bpct_2_dat, bpct_3_dat"
   ]
  },
  {
   "cell_type": "code",
   "execution_count": 54,
   "metadata": {
    "collapsed": true
   },
   "outputs": [],
   "source": [
    "# New model moments function:\n",
    "def model_moments3(mu, sigma):\n",
    "    \"\"\"\n",
    "    Takes mean and SD values, and calculates mean and SD from using a\n",
    "    PDF intergral.\n",
    "    Inputs:\n",
    "        mu: float, mean\n",
    "        sigma: float, standard deviation\n",
    "    Returns:\n",
    "        mean_model: float, model's mean\n",
    "        \n",
    "    \"\"\"\n",
    "    xfx = lambda x: lognormal_pdf(x, mu, sigma)\n",
    "    # This gives warnings::\n",
    "    #(bpct_1_mod, bp_1_err) = intgr.quad(xfx, 0.0000001, 75000)  # b/c 0 <= x < inf\n",
    "    #(bpct_2_mod, bp_2_err) = intgr.quad(xfx, 75000, 100000)\n",
    "    #(bpct_3_mod, bp_3_err) = intgr.quad(xfx, 100000, +np.inf)\n",
    "    \n",
    "    # Use CDF properties to calculate area under the curve instead of integrals\n",
    "    # to avoid integration warnings:\n",
    "    bpct_1_mod = intgr.quad(xfx, 1e-10, 75000)[0]\n",
    "    bpct_2_mod = intgr.quad(xfx, 1e-10, 100000)[0] - bpct_1_mod\n",
    "    bpct_3_mod = 1 - bpct_1_mod - bpct_2_mod \n",
    "    \n",
    "    return bpct_1_mod, bpct_2_mod, bpct_3_mod"
   ]
  },
  {
   "cell_type": "code",
   "execution_count": 55,
   "metadata": {
    "collapsed": true
   },
   "outputs": [],
   "source": [
    "# New error vector function:\n",
    "def err_vec3(xvals, mu, sigma):\n",
    "    \"\"\"\n",
    "    Computes error vector\n",
    "    \"\"\"\n",
    "    bpct_1_dat, bpct_2_dat, bpct_3_dat = data_moments3(xvals)\n",
    "    moms_data = np.array([[bpct_1_dat], [bpct_2_dat], [bpct_3_dat]])\n",
    "    bpct_1_mod, bpct_2_mod, bpct_3_mod = model_moments3(mu, sigma)\n",
    "    moms_model = np.array([[bpct_1_mod], [bpct_2_mod], [bpct_3_mod]])\n",
    "\n",
    "    err_vec = ((moms_model - moms_data) / moms_data)\n",
    "    \n",
    "    return err_vec\n"
   ]
  },
  {
   "cell_type": "code",
   "execution_count": 56,
   "metadata": {
    "collapsed": true
   },
   "outputs": [],
   "source": [
    "def criterion3(params, *args):\n",
    "    \"\"\"\n",
    "    Calculate the value of the criterion function: \n",
    "    e(x|theta)^T * W * e(x|theta)\n",
    "    Inputs:\n",
    "        params: mean and sd floats\n",
    "        *args: Numpy array of observations and W weighing matrix \n",
    "        (Numpy array)\n",
    "    Outputs:\n",
    "        crit_val: float, value of the error criterion function\n",
    "    \"\"\"\n",
    "    mu, sigma = params\n",
    "    xvals, W = args\n",
    "    err = err_vec3(xvals, mu, sigma)\n",
    "    crit_val = np.dot(np.dot(err.T, W), err)\n",
    "    \n",
    "    return crit_val"
   ]
  },
  {
   "cell_type": "markdown",
   "metadata": {},
   "source": [
    "### Use the identity matrix as your estimator for the optimal weighting matrix."
   ]
  },
  {
   "cell_type": "code",
   "execution_count": 57,
   "metadata": {},
   "outputs": [
    {
     "name": "stdout",
     "output_type": "stream",
     "text": [
      "mu_GMM1_3 = 11.3356813295  sig_GMM1_3 = 0.210598454265\n"
     ]
    }
   ],
   "source": [
    "# Guesses from HW2:\n",
    "mu_init = 11.36\n",
    "sig_init = .21\n",
    "\n",
    "params_init = np.array([mu_init, sig_init])\n",
    "W_hat = np.eye(3)\n",
    "gmm_args = (incomes_data, W_hat)\n",
    "# Bounds on Mean: -inf to inf. Bounds on SD: 0 to inf.:\n",
    "results_3 = opt.minimize(criterion3, params_init, args=(gmm_args),\n",
    "                       method='L-BFGS-B', bounds=((None, None), (1e-10, None)))\n",
    "mu_GMM1_3, sig_GMM1_3 = results_3.x\n",
    "print('mu_GMM1_3 =', mu_GMM1_3, ' sig_GMM1_3 =', sig_GMM1_3)"
   ]
  },
  {
   "cell_type": "markdown",
   "metadata": {},
   "source": [
    "### Plot your estimated lognormal PDF against the histogram from part (a)."
   ]
  },
  {
   "cell_type": "code",
   "execution_count": 58,
   "metadata": {},
   "outputs": [
    {
     "data": {
      "text/plain": [
       "<matplotlib.legend.Legend at 0x1a17e7f048>"
      ]
     },
     "execution_count": 58,
     "metadata": {},
     "output_type": "execute_result"
    }
   ],
   "source": [
    "# Plot the estimated 3-moment GMM PDF\n",
    "dist_pts = np.linspace(0.00000001, 150000, 500)\n",
    "plt.plot(dist_pts, lognormal_pdf(dist_pts, mu_GMM1_3, sig_GMM1_3),\n",
    "         linewidth=2, color='b', label='1: $\\mu_{GMM1_3}$=11.3357, $\\sigma_{GMM1_3}=0.2106$')\n",
    "plt.legend(loc='upper left')"
   ]
  },
  {
   "cell_type": "markdown",
   "metadata": {},
   "source": [
    "### Report the value of your GMM criterion function at the estimated parameter values. Report and compare your three data moments against your three model moments at the estimated parameter values."
   ]
  },
  {
   "cell_type": "code",
   "execution_count": 59,
   "metadata": {},
   "outputs": [
    {
     "name": "stdout",
     "output_type": "stream",
     "text": [
      "Value of the GMM criterion function at the 3-moment estimated mu and sigma:\n",
      "[[  1.05895281e-15]]\n",
      "\n",
      "Three data moments:\n",
      "(0.3, 0.5, 0.2)\n",
      "\n",
      "Three model moments at the estimated parameter values:\n",
      "(0.3000000006750251, 0.5000000054419387, 0.19999999388303624)\n"
     ]
    }
   ],
   "source": [
    "params = np.array([mu_GMM1_3, sig_GMM1_3])\n",
    "gmm_args = (incomes_data, W_hat)\n",
    "print(\"Value of the GMM criterion function at the 3-moment estimated mu and sigma:\")\n",
    "crit3 = criterion3(params, incomes_data, W_hat)\n",
    "print(crit3)\n",
    "print()\n",
    "print(\"Three data moments:\")\n",
    "print(data_moments3(incomes_data))\n",
    "print()\n",
    "print(\"Three model moments at the estimated parameter values:\")\n",
    "print(model_moments3(mu_GMM1_3, sig_GMM1_3))"
   ]
  },
  {
   "cell_type": "markdown",
   "metadata": {},
   "source": [
    "^ This is very close, pretty much spot on! Rounding up to 8 decimal points would yield identical results, which means our estimate parameters are of good quality. "
   ]
  },
  {
   "cell_type": "markdown",
   "metadata": {},
   "source": [
    "### e). Perform the two-step GMM estimator by using your estimates from part (d) with three moments to generate an estimator for the variance covariance matrix  $\\hat{\\Omega}_{2step}$ which you then use to get the two-step estimator for the optimal weighting matrix $\\hat{W}_{2step}$."
   ]
  },
  {
   "cell_type": "code",
   "execution_count": 60,
   "metadata": {},
   "outputs": [
    {
     "name": "stdout",
     "output_type": "stream",
     "text": [
      "[[  2.53143819e-20   1.22448172e-19  -3.44092002e-19]\n",
      " [  1.22448172e-19   5.92293931e-19  -1.66440709e-18]\n",
      " [ -3.44092002e-19  -1.66440709e-18   4.67715572e-18]]\n",
      "[[  9.02971634e+14   4.36776320e+15  -1.22738655e+16]\n",
      " [  4.36776320e+15   2.11273031e+16  -5.93699026e+16]\n",
      " [ -1.22738655e+16  -5.93699026e+16   1.66835555e+17]]\n"
     ]
    }
   ],
   "source": [
    "err1_3 = err_vec3(incomes_data, mu_GMM1_3, sig_GMM1_3)\n",
    "VCV2_3 = np.dot(err1_3, err1_3.T) / incomes_data.shape[0]\n",
    "print(VCV2_3)\n",
    "W_hat2_3 = lin.pinv(VCV2_3)  # Use the pseudo-inverse calculated by SVD because VCV2 is ill-conditioned\n",
    "print(W_hat2_3)"
   ]
  },
  {
   "cell_type": "markdown",
   "metadata": {},
   "source": [
    "### Report your estimates as well as the criterion function value at these estimates."
   ]
  },
  {
   "cell_type": "code",
   "execution_count": 61,
   "metadata": {},
   "outputs": [
    {
     "name": "stdout",
     "output_type": "stream",
     "text": [
      "mu_GMM2_3 = 11.3356813295  sig_GMM2_3 = 0.210598454317\n",
      "Error vector (Two-Step) =  [  2.21042703e-09   1.06993672e-08  -3.00640582e-08]\n",
      "\n",
      "Value of the GMM criterion function at the 3-moment Two-Step estimated mu and sigma:\n",
      "[[ 193.24941236]]\n",
      "^ Large criterion value. Seems to depend on the mu and sigma values \n",
      " their decimal values \n",
      " where even small changes can result in drastically different criterion values. \n",
      " This could because of a different W weighting used in the criterion function.\n"
     ]
    }
   ],
   "source": [
    "params_init = np.array([mu_GMM1_3, sig_GMM1_3])\n",
    "gmm_args = (incomes_data, W_hat2_3)\n",
    "results2_3 = opt.minimize(criterion3, params_init, args=(gmm_args),\n",
    "                       method='L-BFGS-B', bounds=((None, None), (1e-10, None)))\n",
    "mu_GMM2_3, sig_GMM2_3 = results2_3.x\n",
    "print('mu_GMM2_3 =', mu_GMM2_3, ' sig_GMM2_3 =', sig_GMM2_3)\n",
    "err2_3 = err_vec3(incomes_data, mu_GMM2_3, sig_GMM2_3)\n",
    "print(\"Error vector (Two-Step) = \", err2_3.reshape(3,))\n",
    "print()\n",
    "params = np.array([mu_GMM2_3, sig_GMM2_3])\n",
    "print(\"Value of the GMM criterion function at the 3-moment Two-Step estimated mu and sigma:\")\n",
    "crit4 = criterion3(params, incomes_data, W_hat2_3)\n",
    "print(crit4)\n",
    "print(\"^ Large criterion value. Seems to depend on the mu and sigma values \\n their decimal values \\n where even small changes can result in drastically different criterion values. \\n This could because of a different W weighting used in the criterion function.\")\n"
   ]
  },
  {
   "cell_type": "markdown",
   "metadata": {},
   "source": [
    "### Plot your estimated log-normal PDF against the histogram from part (a) and the estimated PDF from part (d). Report and compare your three data moments against your three model moments at the estimated parameter values."
   ]
  },
  {
   "cell_type": "code",
   "execution_count": 62,
   "metadata": {},
   "outputs": [
    {
     "data": {
      "text/plain": [
       "<matplotlib.legend.Legend at 0x1a17800cf8>"
      ]
     },
     "execution_count": 62,
     "metadata": {},
     "output_type": "execute_result"
    }
   ],
   "source": [
    "# Plot the estimated 3-moment GMM PDF from 2-step:\n",
    "dist_pts = np.linspace(0.00000001, 150000, 500)\n",
    "plt.plot(dist_pts, lognormal_pdf(dist_pts, mu_GMM2_3, sig_GMM2_3),\n",
    "         linewidth=2, color='g', label='1: $\\mu_{GMM2_3}$=11.3357, $\\sigma_{GMM2_3}=0.2106$')\n",
    "plt.legend(loc='upper left')"
   ]
  },
  {
   "cell_type": "markdown",
   "metadata": {},
   "source": [
    "### f). Which of the four estimations from parts (b), (c), (d), and (e) fits the data best? Justify your answer."
   ]
  },
  {
   "cell_type": "code",
   "execution_count": 63,
   "metadata": {},
   "outputs": [
    {
     "name": "stdout",
     "output_type": "stream",
     "text": [
      "Error Vector (Two moments) = [ -1.45845960e-07   2.33401941e-07]\n",
      "Error Vector (Two moments - Two-Step) = [ -9.23499677e-07  -5.77068206e-07]\n",
      "Error Vector (Three moments)=  [  2.25008364e-09   1.08838774e-08  -3.05848188e-08]\n",
      "Error Vector (Three moments - Two-Step)=  [  2.21042703e-09   1.06993672e-08  -3.00640582e-08]\n",
      "[[  7.57475098e-14]] [[  7.07242457e-10]] [[  1.05895281e-15]] [[ 193.24941236]]\n"
     ]
    }
   ],
   "source": [
    "print('Error Vector (Two moments) =', err1.reshape(2,))\n",
    "print('Error Vector (Two moments - Two-Step) =', err2.reshape(2,))\n",
    "print('Error Vector (Three moments)= ', err1_3.reshape(3,))\n",
    "print('Error Vector (Three moments - Two-Step)= ', err2_3.reshape(3,))\n",
    "\n",
    "print(crit1, crit2, crit3, crit4) "
   ]
  },
  {
   "cell_type": "markdown",
   "metadata": {},
   "source": [
    "In this case, errors are almost indistinguishibly small, which is not surprising given that the parameter estimates are really close to each other and, after some rounding, may not even be different (see histogram, where all graphs of PDFs overlap heavily). Based on criterion values, with the smallest value coming from pard (c), three moments GMM estimation with W=I weighting matrix, we may pick this third estimation. However, again, most of the values are very close to each other."
   ]
  },
  {
   "cell_type": "markdown",
   "metadata": {},
   "source": [
    "## 2."
   ]
  },
  {
   "cell_type": "code",
   "execution_count": 64,
   "metadata": {
    "collapsed": true
   },
   "outputs": [],
   "source": [
    "sick_data = np.genfromtxt(\"sick.txt\", dtype=float, delimiter=',', names=True) \n",
    "sick_vec = sick_data[\"sick\"]\n",
    "age_vec = sick_data[\"age\"]\n",
    "children_vec = sick_data[\"children\"]\n",
    "temp_vec = sick_data[\"avgtemp_winter\"]"
   ]
  },
  {
   "cell_type": "markdown",
   "metadata": {},
   "source": [
    "$m(x)$:"
   ]
  },
  {
   "cell_type": "code",
   "execution_count": 65,
   "metadata": {},
   "outputs": [
    {
     "data": {
      "text/plain": [
       "array([ 1.67,  0.71,  1.39,  1.37,  1.45,  0.62,  1.06,  1.29,  1.05,\n",
       "        1.18,  1.21,  0.63,  0.67,  0.64,  0.86,  1.25,  0.88,  0.12,\n",
       "        1.53,  1.36,  0.73,  0.15,  0.6 ,  1.28,  0.89,  0.46,  1.03,\n",
       "        0.42,  0.6 ,  1.86,  1.1 ,  1.35,  1.11,  2.04,  0.89,  0.69,\n",
       "        1.58,  0.86,  0.81,  0.81,  1.04,  1.68,  1.36,  0.37,  1.05,\n",
       "        2.8 ,  1.03,  1.22,  1.83,  1.25,  1.02,  0.89,  1.98,  1.51,\n",
       "        1.14,  1.18,  0.79,  1.66,  1.21,  0.5 ,  1.51,  0.81,  0.64,\n",
       "        1.35,  0.2 ,  0.66,  1.04,  1.88,  0.55,  1.01,  0.81,  0.95,\n",
       "        1.27,  0.78,  0.9 ,  0.96,  0.79,  0.56,  1.81,  1.63,  0.63,\n",
       "        0.91,  0.66,  0.53,  0.96,  2.11,  0.07,  0.59,  1.15,  0.11,\n",
       "        1.06,  1.72,  0.26,  0.93,  1.61,  1.48,  0.65,  1.58,  1.16,\n",
       "        0.14,  0.96,  0.65,  0.12,  0.12,  0.86,  0.08,  1.92,  1.56,\n",
       "        1.49,  1.32,  0.13,  1.34,  0.61,  0.97,  0.65,  0.49,  1.18,\n",
       "        0.88,  0.46,  1.42,  0.56,  0.95,  1.52,  1.2 ,  1.16,  1.3 ,\n",
       "        1.22,  0.54,  1.47,  1.97,  0.51,  0.05,  1.12,  0.99,  0.91,\n",
       "        0.87,  0.7 ,  2.12,  0.5 ,  0.65,  0.8 ,  0.04,  2.11,  0.78,\n",
       "        0.23,  0.4 ,  1.19,  1.09,  2.22,  0.79,  1.66,  1.28,  1.9 ,\n",
       "        1.61,  0.93,  1.11,  0.74,  1.68,  1.72,  0.27,  0.2 ,  0.57,\n",
       "        1.54,  0.32,  0.79,  0.85,  0.79,  1.32,  1.34,  1.33,  0.91,\n",
       "        0.6 ,  1.14,  1.15,  0.73,  0.93,  0.88,  1.13,  0.69,  1.23,\n",
       "        0.38,  1.23,  1.03,  1.76,  0.9 ,  0.32,  0.63,  1.56,  1.06,\n",
       "        1.16,  0.34,  0.33,  1.98,  0.61,  1.  ,  0.53,  0.86,  1.39,\n",
       "        0.72,  1.29])"
      ]
     },
     "execution_count": 65,
     "metadata": {},
     "output_type": "execute_result"
    }
   ],
   "source": [
    "# Data moments:\n",
    "sick_vec"
   ]
  },
  {
   "cell_type": "markdown",
   "metadata": {},
   "source": [
    "$m(x|\\theta)$:"
   ]
  },
  {
   "cell_type": "code",
   "execution_count": 66,
   "metadata": {
    "collapsed": true
   },
   "outputs": [],
   "source": [
    "# Model moments:\n",
    "def model_moments(xvals, beta_0, beta_1, beta_2, beta_3):\n",
    "    \"\"\"\n",
    "    Takes observations and beta coefficients, \n",
    "    and calculates model moment function values.\n",
    "    Inputs:\n",
    "        x_vals: tuple of age, children and temp vectors\n",
    "        beta_0, beta_1, beta_2, beta_3: beta coefficient floats\n",
    "    Returns:\n",
    "        m_x_theta: vector of model moment values\n",
    "        \n",
    "    \"\"\"\n",
    "    age_vec, children_vec, temp_vec = xvals\n",
    "    m_x_theta = beta_0 + beta_1 * age_vec + beta_2 * children_vec + beta_3 * temp_vec \n",
    "    \n",
    "    return m_x_theta"
   ]
  },
  {
   "cell_type": "markdown",
   "metadata": {},
   "source": [
    "$e(x|\\theta) = m(x|\\theta) - m(x)$:"
   ]
  },
  {
   "cell_type": "code",
   "execution_count": 67,
   "metadata": {
    "collapsed": true
   },
   "outputs": [],
   "source": [
    "def err_vec(m_x, xvals, beta_0, beta_1, beta_2, beta_3):\n",
    "    \"\"\"\n",
    "    Takes observation values, mean and sd and calculates the values of\n",
    "    the moment error function (e(x|theta))\n",
    "    Inputs:\n",
    "        m_x: array of moments from real data\n",
    "        x_vals: tuple of age, children and temp vectors\n",
    "        beta_0, beta_1, beta_2, beta_3: beta coefficient floats\n",
    "    Returns:\n",
    "        err_vec: Numpy array of the values of the moment error function\n",
    "        as the difference\n",
    "    \"\"\"\n",
    "    err_vec = m_x - model_moments(xvals, beta_0, beta_1, beta_2, beta_3)\n",
    "    return err_vec"
   ]
  },
  {
   "cell_type": "markdown",
   "metadata": {},
   "source": [
    "$e(x|\\theta)^T$ $W$ $e(x)$:"
   ]
  },
  {
   "cell_type": "code",
   "execution_count": 68,
   "metadata": {
    "collapsed": true
   },
   "outputs": [],
   "source": [
    "def criterion(params, *args):\n",
    "    \"\"\"\n",
    "    Calculate the value of the criterion function: \n",
    "    e(x|theta)^T * W * e(x|theta)\n",
    "    Inputs:\n",
    "        params: beta coefficient floats\n",
    "        *args: vector of moments from real data; \n",
    "        tuple of age, children and temp vectors; W weighing matrix \n",
    "        (Numpy array)\n",
    "    Returns:\n",
    "        crit_val: float, value of the error criterion function\n",
    "    \"\"\"\n",
    "    beta_0, beta_1, beta_2, beta_3 = params\n",
    "    m_x, xvals, W = args\n",
    "    err = err_vec(m_x, xvals, beta_0, beta_1, beta_2, beta_3)\n",
    "    crit_val = np.dot(np.dot(err.T, W), err) \n",
    "    \n",
    "    return crit_val"
   ]
  },
  {
   "cell_type": "markdown",
   "metadata": {},
   "source": [
    "### Report your estimates and report the value of your GMM criterion function."
   ]
  },
  {
   "cell_type": "code",
   "execution_count": 69,
   "metadata": {},
   "outputs": [
    {
     "name": "stdout",
     "output_type": "stream",
     "text": [
      "beta_0 = 0.251644863611\n",
      "beta_1 = 0.0129334709599\n",
      "beta_2 = 0.400500984781\n",
      "beta_3 = -0.00999170970792\n",
      "Value of GMM criterion function: 0.00182128980608\n"
     ]
    }
   ],
   "source": [
    "# Guesses:\n",
    "beta_0_init = 1\n",
    "beta_1_init = 0\n",
    "beta_2_init = 0\n",
    "beta_3_init = 0\n",
    "\n",
    "n = sick_data.shape[0]\n",
    "params_init = np.array([beta_0_init, beta_1_init, beta_2_init, beta_3_init])\n",
    "W_hat = np.eye(n)\n",
    "xvals = (age_vec, children_vec, temp_vec)\n",
    "gmm_args = (sick_vec, xvals, W_hat)\n",
    "\n",
    "results = opt.minimize(criterion, params_init, args=(gmm_args),\n",
    "                       method='L-BFGS-B', bounds=((None, None), (1e-10, None), (1e-10, None), (None, None)))\n",
    "\n",
    "beta_0_est = results.x[0]\n",
    "beta_1_est = results.x[1]\n",
    "beta_2_est = results.x[2]\n",
    "beta_3_est = results.x[3]\n",
    "print(\"beta_0 =\", beta_0_est)\n",
    "print(\"beta_1 =\", beta_1_est)\n",
    "print(\"beta_2 =\", beta_2_est)\n",
    "print(\"beta_3 =\", beta_3_est)\n",
    "\n",
    "params = np.array([beta_0_est, beta_1_est, beta_2_est, beta_3_est])\n",
    "crit = criterion(params, sick_vec, xvals, W_hat)\n",
    "print(\"Value of GMM criterion function:\", crit)"
   ]
  },
  {
   "cell_type": "code",
   "execution_count": null,
   "metadata": {
    "collapsed": true
   },
   "outputs": [],
   "source": []
  }
 ],
 "metadata": {
  "kernelspec": {
   "display_name": "Python 3",
   "language": "python",
   "name": "python3"
  },
  "language_info": {
   "codemirror_mode": {
    "name": "ipython",
    "version": 3
   },
   "file_extension": ".py",
   "mimetype": "text/x-python",
   "name": "python",
   "nbconvert_exporter": "python",
   "pygments_lexer": "ipython3",
   "version": "3.6.3"
  }
 },
 "nbformat": 4,
 "nbformat_minor": 2
}
