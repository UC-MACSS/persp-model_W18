{
 "cells": [
  {
   "cell_type": "markdown",
   "metadata": {},
   "source": [
    "# Problem set #3\n",
    "### by Alexander Tyan, January 24, 2018"
   ]
  },
  {
   "cell_type": "markdown",
   "metadata": {},
   "source": [
    "## 1)."
   ]
  },
  {
   "cell_type": "code",
   "execution_count": 497,
   "metadata": {
    "collapsed": true
   },
   "outputs": [],
   "source": [
    "# Import packages and load the data\n",
    "import numpy as np\n",
    "import numpy.linalg as lin\n",
    "import scipy.stats as sts\n",
    "import scipy.integrate as intgr\n",
    "import scipy.optimize as opt\n",
    "import matplotlib\n",
    "import matplotlib.pyplot as plt\n",
    "from mpl_toolkits.mplot3d import Axes3D\n",
    "from matplotlib import cm\n",
    "cmap1 = matplotlib.cm.get_cmap('summer')\n",
    "# This next command is specifically for Jupyter Notebook\n",
    "%matplotlib notebook\n",
    "\n",
    "incomes_data = np.loadtxt('incomes.txt')"
   ]
  },
  {
   "cell_type": "markdown",
   "metadata": {},
   "source": [
    "### a). Plot a histogram of percentages of the income.txt data with 30 bins. Make sure that the bins are weighted using the normed=True option. Make sure your plot has correct x-axis and y-axis labels as well as a plot title."
   ]
  },
  {
   "cell_type": "code",
   "execution_count": 498,
   "metadata": {},
   "outputs": [
    {
     "data": {
      "application/javascript": [
       "/* Put everything inside the global mpl namespace */\n",
       "window.mpl = {};\n",
       "\n",
       "\n",
       "mpl.get_websocket_type = function() {\n",
       "    if (typeof(WebSocket) !== 'undefined') {\n",
       "        return WebSocket;\n",
       "    } else if (typeof(MozWebSocket) !== 'undefined') {\n",
       "        return MozWebSocket;\n",
       "    } else {\n",
       "        alert('Your browser does not have WebSocket support.' +\n",
       "              'Please try Chrome, Safari or Firefox ≥ 6. ' +\n",
       "              'Firefox 4 and 5 are also supported but you ' +\n",
       "              'have to enable WebSockets in about:config.');\n",
       "    };\n",
       "}\n",
       "\n",
       "mpl.figure = function(figure_id, websocket, ondownload, parent_element) {\n",
       "    this.id = figure_id;\n",
       "\n",
       "    this.ws = websocket;\n",
       "\n",
       "    this.supports_binary = (this.ws.binaryType != undefined);\n",
       "\n",
       "    if (!this.supports_binary) {\n",
       "        var warnings = document.getElementById(\"mpl-warnings\");\n",
       "        if (warnings) {\n",
       "            warnings.style.display = 'block';\n",
       "            warnings.textContent = (\n",
       "                \"This browser does not support binary websocket messages. \" +\n",
       "                    \"Performance may be slow.\");\n",
       "        }\n",
       "    }\n",
       "\n",
       "    this.imageObj = new Image();\n",
       "\n",
       "    this.context = undefined;\n",
       "    this.message = undefined;\n",
       "    this.canvas = undefined;\n",
       "    this.rubberband_canvas = undefined;\n",
       "    this.rubberband_context = undefined;\n",
       "    this.format_dropdown = undefined;\n",
       "\n",
       "    this.image_mode = 'full';\n",
       "\n",
       "    this.root = $('<div/>');\n",
       "    this._root_extra_style(this.root)\n",
       "    this.root.attr('style', 'display: inline-block');\n",
       "\n",
       "    $(parent_element).append(this.root);\n",
       "\n",
       "    this._init_header(this);\n",
       "    this._init_canvas(this);\n",
       "    this._init_toolbar(this);\n",
       "\n",
       "    var fig = this;\n",
       "\n",
       "    this.waiting = false;\n",
       "\n",
       "    this.ws.onopen =  function () {\n",
       "            fig.send_message(\"supports_binary\", {value: fig.supports_binary});\n",
       "            fig.send_message(\"send_image_mode\", {});\n",
       "            if (mpl.ratio != 1) {\n",
       "                fig.send_message(\"set_dpi_ratio\", {'dpi_ratio': mpl.ratio});\n",
       "            }\n",
       "            fig.send_message(\"refresh\", {});\n",
       "        }\n",
       "\n",
       "    this.imageObj.onload = function() {\n",
       "            if (fig.image_mode == 'full') {\n",
       "                // Full images could contain transparency (where diff images\n",
       "                // almost always do), so we need to clear the canvas so that\n",
       "                // there is no ghosting.\n",
       "                fig.context.clearRect(0, 0, fig.canvas.width, fig.canvas.height);\n",
       "            }\n",
       "            fig.context.drawImage(fig.imageObj, 0, 0);\n",
       "        };\n",
       "\n",
       "    this.imageObj.onunload = function() {\n",
       "        fig.ws.close();\n",
       "    }\n",
       "\n",
       "    this.ws.onmessage = this._make_on_message_function(this);\n",
       "\n",
       "    this.ondownload = ondownload;\n",
       "}\n",
       "\n",
       "mpl.figure.prototype._init_header = function() {\n",
       "    var titlebar = $(\n",
       "        '<div class=\"ui-dialog-titlebar ui-widget-header ui-corner-all ' +\n",
       "        'ui-helper-clearfix\"/>');\n",
       "    var titletext = $(\n",
       "        '<div class=\"ui-dialog-title\" style=\"width: 100%; ' +\n",
       "        'text-align: center; padding: 3px;\"/>');\n",
       "    titlebar.append(titletext)\n",
       "    this.root.append(titlebar);\n",
       "    this.header = titletext[0];\n",
       "}\n",
       "\n",
       "\n",
       "\n",
       "mpl.figure.prototype._canvas_extra_style = function(canvas_div) {\n",
       "\n",
       "}\n",
       "\n",
       "\n",
       "mpl.figure.prototype._root_extra_style = function(canvas_div) {\n",
       "\n",
       "}\n",
       "\n",
       "mpl.figure.prototype._init_canvas = function() {\n",
       "    var fig = this;\n",
       "\n",
       "    var canvas_div = $('<div/>');\n",
       "\n",
       "    canvas_div.attr('style', 'position: relative; clear: both; outline: 0');\n",
       "\n",
       "    function canvas_keyboard_event(event) {\n",
       "        return fig.key_event(event, event['data']);\n",
       "    }\n",
       "\n",
       "    canvas_div.keydown('key_press', canvas_keyboard_event);\n",
       "    canvas_div.keyup('key_release', canvas_keyboard_event);\n",
       "    this.canvas_div = canvas_div\n",
       "    this._canvas_extra_style(canvas_div)\n",
       "    this.root.append(canvas_div);\n",
       "\n",
       "    var canvas = $('<canvas/>');\n",
       "    canvas.addClass('mpl-canvas');\n",
       "    canvas.attr('style', \"left: 0; top: 0; z-index: 0; outline: 0\")\n",
       "\n",
       "    this.canvas = canvas[0];\n",
       "    this.context = canvas[0].getContext(\"2d\");\n",
       "\n",
       "    var backingStore = this.context.backingStorePixelRatio ||\n",
       "\tthis.context.webkitBackingStorePixelRatio ||\n",
       "\tthis.context.mozBackingStorePixelRatio ||\n",
       "\tthis.context.msBackingStorePixelRatio ||\n",
       "\tthis.context.oBackingStorePixelRatio ||\n",
       "\tthis.context.backingStorePixelRatio || 1;\n",
       "\n",
       "    mpl.ratio = (window.devicePixelRatio || 1) / backingStore;\n",
       "\n",
       "    var rubberband = $('<canvas/>');\n",
       "    rubberband.attr('style', \"position: absolute; left: 0; top: 0; z-index: 1;\")\n",
       "\n",
       "    var pass_mouse_events = true;\n",
       "\n",
       "    canvas_div.resizable({\n",
       "        start: function(event, ui) {\n",
       "            pass_mouse_events = false;\n",
       "        },\n",
       "        resize: function(event, ui) {\n",
       "            fig.request_resize(ui.size.width, ui.size.height);\n",
       "        },\n",
       "        stop: function(event, ui) {\n",
       "            pass_mouse_events = true;\n",
       "            fig.request_resize(ui.size.width, ui.size.height);\n",
       "        },\n",
       "    });\n",
       "\n",
       "    function mouse_event_fn(event) {\n",
       "        if (pass_mouse_events)\n",
       "            return fig.mouse_event(event, event['data']);\n",
       "    }\n",
       "\n",
       "    rubberband.mousedown('button_press', mouse_event_fn);\n",
       "    rubberband.mouseup('button_release', mouse_event_fn);\n",
       "    // Throttle sequential mouse events to 1 every 20ms.\n",
       "    rubberband.mousemove('motion_notify', mouse_event_fn);\n",
       "\n",
       "    rubberband.mouseenter('figure_enter', mouse_event_fn);\n",
       "    rubberband.mouseleave('figure_leave', mouse_event_fn);\n",
       "\n",
       "    canvas_div.on(\"wheel\", function (event) {\n",
       "        event = event.originalEvent;\n",
       "        event['data'] = 'scroll'\n",
       "        if (event.deltaY < 0) {\n",
       "            event.step = 1;\n",
       "        } else {\n",
       "            event.step = -1;\n",
       "        }\n",
       "        mouse_event_fn(event);\n",
       "    });\n",
       "\n",
       "    canvas_div.append(canvas);\n",
       "    canvas_div.append(rubberband);\n",
       "\n",
       "    this.rubberband = rubberband;\n",
       "    this.rubberband_canvas = rubberband[0];\n",
       "    this.rubberband_context = rubberband[0].getContext(\"2d\");\n",
       "    this.rubberband_context.strokeStyle = \"#000000\";\n",
       "\n",
       "    this._resize_canvas = function(width, height) {\n",
       "        // Keep the size of the canvas, canvas container, and rubber band\n",
       "        // canvas in synch.\n",
       "        canvas_div.css('width', width)\n",
       "        canvas_div.css('height', height)\n",
       "\n",
       "        canvas.attr('width', width * mpl.ratio);\n",
       "        canvas.attr('height', height * mpl.ratio);\n",
       "        canvas.attr('style', 'width: ' + width + 'px; height: ' + height + 'px;');\n",
       "\n",
       "        rubberband.attr('width', width);\n",
       "        rubberband.attr('height', height);\n",
       "    }\n",
       "\n",
       "    // Set the figure to an initial 600x600px, this will subsequently be updated\n",
       "    // upon first draw.\n",
       "    this._resize_canvas(600, 600);\n",
       "\n",
       "    // Disable right mouse context menu.\n",
       "    $(this.rubberband_canvas).bind(\"contextmenu\",function(e){\n",
       "        return false;\n",
       "    });\n",
       "\n",
       "    function set_focus () {\n",
       "        canvas.focus();\n",
       "        canvas_div.focus();\n",
       "    }\n",
       "\n",
       "    window.setTimeout(set_focus, 100);\n",
       "}\n",
       "\n",
       "mpl.figure.prototype._init_toolbar = function() {\n",
       "    var fig = this;\n",
       "\n",
       "    var nav_element = $('<div/>')\n",
       "    nav_element.attr('style', 'width: 100%');\n",
       "    this.root.append(nav_element);\n",
       "\n",
       "    // Define a callback function for later on.\n",
       "    function toolbar_event(event) {\n",
       "        return fig.toolbar_button_onclick(event['data']);\n",
       "    }\n",
       "    function toolbar_mouse_event(event) {\n",
       "        return fig.toolbar_button_onmouseover(event['data']);\n",
       "    }\n",
       "\n",
       "    for(var toolbar_ind in mpl.toolbar_items) {\n",
       "        var name = mpl.toolbar_items[toolbar_ind][0];\n",
       "        var tooltip = mpl.toolbar_items[toolbar_ind][1];\n",
       "        var image = mpl.toolbar_items[toolbar_ind][2];\n",
       "        var method_name = mpl.toolbar_items[toolbar_ind][3];\n",
       "\n",
       "        if (!name) {\n",
       "            // put a spacer in here.\n",
       "            continue;\n",
       "        }\n",
       "        var button = $('<button/>');\n",
       "        button.addClass('ui-button ui-widget ui-state-default ui-corner-all ' +\n",
       "                        'ui-button-icon-only');\n",
       "        button.attr('role', 'button');\n",
       "        button.attr('aria-disabled', 'false');\n",
       "        button.click(method_name, toolbar_event);\n",
       "        button.mouseover(tooltip, toolbar_mouse_event);\n",
       "\n",
       "        var icon_img = $('<span/>');\n",
       "        icon_img.addClass('ui-button-icon-primary ui-icon');\n",
       "        icon_img.addClass(image);\n",
       "        icon_img.addClass('ui-corner-all');\n",
       "\n",
       "        var tooltip_span = $('<span/>');\n",
       "        tooltip_span.addClass('ui-button-text');\n",
       "        tooltip_span.html(tooltip);\n",
       "\n",
       "        button.append(icon_img);\n",
       "        button.append(tooltip_span);\n",
       "\n",
       "        nav_element.append(button);\n",
       "    }\n",
       "\n",
       "    var fmt_picker_span = $('<span/>');\n",
       "\n",
       "    var fmt_picker = $('<select/>');\n",
       "    fmt_picker.addClass('mpl-toolbar-option ui-widget ui-widget-content');\n",
       "    fmt_picker_span.append(fmt_picker);\n",
       "    nav_element.append(fmt_picker_span);\n",
       "    this.format_dropdown = fmt_picker[0];\n",
       "\n",
       "    for (var ind in mpl.extensions) {\n",
       "        var fmt = mpl.extensions[ind];\n",
       "        var option = $(\n",
       "            '<option/>', {selected: fmt === mpl.default_extension}).html(fmt);\n",
       "        fmt_picker.append(option)\n",
       "    }\n",
       "\n",
       "    // Add hover states to the ui-buttons\n",
       "    $( \".ui-button\" ).hover(\n",
       "        function() { $(this).addClass(\"ui-state-hover\");},\n",
       "        function() { $(this).removeClass(\"ui-state-hover\");}\n",
       "    );\n",
       "\n",
       "    var status_bar = $('<span class=\"mpl-message\"/>');\n",
       "    nav_element.append(status_bar);\n",
       "    this.message = status_bar[0];\n",
       "}\n",
       "\n",
       "mpl.figure.prototype.request_resize = function(x_pixels, y_pixels) {\n",
       "    // Request matplotlib to resize the figure. Matplotlib will then trigger a resize in the client,\n",
       "    // which will in turn request a refresh of the image.\n",
       "    this.send_message('resize', {'width': x_pixels, 'height': y_pixels});\n",
       "}\n",
       "\n",
       "mpl.figure.prototype.send_message = function(type, properties) {\n",
       "    properties['type'] = type;\n",
       "    properties['figure_id'] = this.id;\n",
       "    this.ws.send(JSON.stringify(properties));\n",
       "}\n",
       "\n",
       "mpl.figure.prototype.send_draw_message = function() {\n",
       "    if (!this.waiting) {\n",
       "        this.waiting = true;\n",
       "        this.ws.send(JSON.stringify({type: \"draw\", figure_id: this.id}));\n",
       "    }\n",
       "}\n",
       "\n",
       "\n",
       "mpl.figure.prototype.handle_save = function(fig, msg) {\n",
       "    var format_dropdown = fig.format_dropdown;\n",
       "    var format = format_dropdown.options[format_dropdown.selectedIndex].value;\n",
       "    fig.ondownload(fig, format);\n",
       "}\n",
       "\n",
       "\n",
       "mpl.figure.prototype.handle_resize = function(fig, msg) {\n",
       "    var size = msg['size'];\n",
       "    if (size[0] != fig.canvas.width || size[1] != fig.canvas.height) {\n",
       "        fig._resize_canvas(size[0], size[1]);\n",
       "        fig.send_message(\"refresh\", {});\n",
       "    };\n",
       "}\n",
       "\n",
       "mpl.figure.prototype.handle_rubberband = function(fig, msg) {\n",
       "    var x0 = msg['x0'] / mpl.ratio;\n",
       "    var y0 = (fig.canvas.height - msg['y0']) / mpl.ratio;\n",
       "    var x1 = msg['x1'] / mpl.ratio;\n",
       "    var y1 = (fig.canvas.height - msg['y1']) / mpl.ratio;\n",
       "    x0 = Math.floor(x0) + 0.5;\n",
       "    y0 = Math.floor(y0) + 0.5;\n",
       "    x1 = Math.floor(x1) + 0.5;\n",
       "    y1 = Math.floor(y1) + 0.5;\n",
       "    var min_x = Math.min(x0, x1);\n",
       "    var min_y = Math.min(y0, y1);\n",
       "    var width = Math.abs(x1 - x0);\n",
       "    var height = Math.abs(y1 - y0);\n",
       "\n",
       "    fig.rubberband_context.clearRect(\n",
       "        0, 0, fig.canvas.width, fig.canvas.height);\n",
       "\n",
       "    fig.rubberband_context.strokeRect(min_x, min_y, width, height);\n",
       "}\n",
       "\n",
       "mpl.figure.prototype.handle_figure_label = function(fig, msg) {\n",
       "    // Updates the figure title.\n",
       "    fig.header.textContent = msg['label'];\n",
       "}\n",
       "\n",
       "mpl.figure.prototype.handle_cursor = function(fig, msg) {\n",
       "    var cursor = msg['cursor'];\n",
       "    switch(cursor)\n",
       "    {\n",
       "    case 0:\n",
       "        cursor = 'pointer';\n",
       "        break;\n",
       "    case 1:\n",
       "        cursor = 'default';\n",
       "        break;\n",
       "    case 2:\n",
       "        cursor = 'crosshair';\n",
       "        break;\n",
       "    case 3:\n",
       "        cursor = 'move';\n",
       "        break;\n",
       "    }\n",
       "    fig.rubberband_canvas.style.cursor = cursor;\n",
       "}\n",
       "\n",
       "mpl.figure.prototype.handle_message = function(fig, msg) {\n",
       "    fig.message.textContent = msg['message'];\n",
       "}\n",
       "\n",
       "mpl.figure.prototype.handle_draw = function(fig, msg) {\n",
       "    // Request the server to send over a new figure.\n",
       "    fig.send_draw_message();\n",
       "}\n",
       "\n",
       "mpl.figure.prototype.handle_image_mode = function(fig, msg) {\n",
       "    fig.image_mode = msg['mode'];\n",
       "}\n",
       "\n",
       "mpl.figure.prototype.updated_canvas_event = function() {\n",
       "    // Called whenever the canvas gets updated.\n",
       "    this.send_message(\"ack\", {});\n",
       "}\n",
       "\n",
       "// A function to construct a web socket function for onmessage handling.\n",
       "// Called in the figure constructor.\n",
       "mpl.figure.prototype._make_on_message_function = function(fig) {\n",
       "    return function socket_on_message(evt) {\n",
       "        if (evt.data instanceof Blob) {\n",
       "            /* FIXME: We get \"Resource interpreted as Image but\n",
       "             * transferred with MIME type text/plain:\" errors on\n",
       "             * Chrome.  But how to set the MIME type?  It doesn't seem\n",
       "             * to be part of the websocket stream */\n",
       "            evt.data.type = \"image/png\";\n",
       "\n",
       "            /* Free the memory for the previous frames */\n",
       "            if (fig.imageObj.src) {\n",
       "                (window.URL || window.webkitURL).revokeObjectURL(\n",
       "                    fig.imageObj.src);\n",
       "            }\n",
       "\n",
       "            fig.imageObj.src = (window.URL || window.webkitURL).createObjectURL(\n",
       "                evt.data);\n",
       "            fig.updated_canvas_event();\n",
       "            fig.waiting = false;\n",
       "            return;\n",
       "        }\n",
       "        else if (typeof evt.data === 'string' && evt.data.slice(0, 21) == \"data:image/png;base64\") {\n",
       "            fig.imageObj.src = evt.data;\n",
       "            fig.updated_canvas_event();\n",
       "            fig.waiting = false;\n",
       "            return;\n",
       "        }\n",
       "\n",
       "        var msg = JSON.parse(evt.data);\n",
       "        var msg_type = msg['type'];\n",
       "\n",
       "        // Call the  \"handle_{type}\" callback, which takes\n",
       "        // the figure and JSON message as its only arguments.\n",
       "        try {\n",
       "            var callback = fig[\"handle_\" + msg_type];\n",
       "        } catch (e) {\n",
       "            console.log(\"No handler for the '\" + msg_type + \"' message type: \", msg);\n",
       "            return;\n",
       "        }\n",
       "\n",
       "        if (callback) {\n",
       "            try {\n",
       "                // console.log(\"Handling '\" + msg_type + \"' message: \", msg);\n",
       "                callback(fig, msg);\n",
       "            } catch (e) {\n",
       "                console.log(\"Exception inside the 'handler_\" + msg_type + \"' callback:\", e, e.stack, msg);\n",
       "            }\n",
       "        }\n",
       "    };\n",
       "}\n",
       "\n",
       "// from http://stackoverflow.com/questions/1114465/getting-mouse-location-in-canvas\n",
       "mpl.findpos = function(e) {\n",
       "    //this section is from http://www.quirksmode.org/js/events_properties.html\n",
       "    var targ;\n",
       "    if (!e)\n",
       "        e = window.event;\n",
       "    if (e.target)\n",
       "        targ = e.target;\n",
       "    else if (e.srcElement)\n",
       "        targ = e.srcElement;\n",
       "    if (targ.nodeType == 3) // defeat Safari bug\n",
       "        targ = targ.parentNode;\n",
       "\n",
       "    // jQuery normalizes the pageX and pageY\n",
       "    // pageX,Y are the mouse positions relative to the document\n",
       "    // offset() returns the position of the element relative to the document\n",
       "    var x = e.pageX - $(targ).offset().left;\n",
       "    var y = e.pageY - $(targ).offset().top;\n",
       "\n",
       "    return {\"x\": x, \"y\": y};\n",
       "};\n",
       "\n",
       "/*\n",
       " * return a copy of an object with only non-object keys\n",
       " * we need this to avoid circular references\n",
       " * http://stackoverflow.com/a/24161582/3208463\n",
       " */\n",
       "function simpleKeys (original) {\n",
       "  return Object.keys(original).reduce(function (obj, key) {\n",
       "    if (typeof original[key] !== 'object')\n",
       "        obj[key] = original[key]\n",
       "    return obj;\n",
       "  }, {});\n",
       "}\n",
       "\n",
       "mpl.figure.prototype.mouse_event = function(event, name) {\n",
       "    var canvas_pos = mpl.findpos(event)\n",
       "\n",
       "    if (name === 'button_press')\n",
       "    {\n",
       "        this.canvas.focus();\n",
       "        this.canvas_div.focus();\n",
       "    }\n",
       "\n",
       "    var x = canvas_pos.x * mpl.ratio;\n",
       "    var y = canvas_pos.y * mpl.ratio;\n",
       "\n",
       "    this.send_message(name, {x: x, y: y, button: event.button,\n",
       "                             step: event.step,\n",
       "                             guiEvent: simpleKeys(event)});\n",
       "\n",
       "    /* This prevents the web browser from automatically changing to\n",
       "     * the text insertion cursor when the button is pressed.  We want\n",
       "     * to control all of the cursor setting manually through the\n",
       "     * 'cursor' event from matplotlib */\n",
       "    event.preventDefault();\n",
       "    return false;\n",
       "}\n",
       "\n",
       "mpl.figure.prototype._key_event_extra = function(event, name) {\n",
       "    // Handle any extra behaviour associated with a key event\n",
       "}\n",
       "\n",
       "mpl.figure.prototype.key_event = function(event, name) {\n",
       "\n",
       "    // Prevent repeat events\n",
       "    if (name == 'key_press')\n",
       "    {\n",
       "        if (event.which === this._key)\n",
       "            return;\n",
       "        else\n",
       "            this._key = event.which;\n",
       "    }\n",
       "    if (name == 'key_release')\n",
       "        this._key = null;\n",
       "\n",
       "    var value = '';\n",
       "    if (event.ctrlKey && event.which != 17)\n",
       "        value += \"ctrl+\";\n",
       "    if (event.altKey && event.which != 18)\n",
       "        value += \"alt+\";\n",
       "    if (event.shiftKey && event.which != 16)\n",
       "        value += \"shift+\";\n",
       "\n",
       "    value += 'k';\n",
       "    value += event.which.toString();\n",
       "\n",
       "    this._key_event_extra(event, name);\n",
       "\n",
       "    this.send_message(name, {key: value,\n",
       "                             guiEvent: simpleKeys(event)});\n",
       "    return false;\n",
       "}\n",
       "\n",
       "mpl.figure.prototype.toolbar_button_onclick = function(name) {\n",
       "    if (name == 'download') {\n",
       "        this.handle_save(this, null);\n",
       "    } else {\n",
       "        this.send_message(\"toolbar_button\", {name: name});\n",
       "    }\n",
       "};\n",
       "\n",
       "mpl.figure.prototype.toolbar_button_onmouseover = function(tooltip) {\n",
       "    this.message.textContent = tooltip;\n",
       "};\n",
       "mpl.toolbar_items = [[\"Home\", \"Reset original view\", \"fa fa-home icon-home\", \"home\"], [\"Back\", \"Back to  previous view\", \"fa fa-arrow-left icon-arrow-left\", \"back\"], [\"Forward\", \"Forward to next view\", \"fa fa-arrow-right icon-arrow-right\", \"forward\"], [\"\", \"\", \"\", \"\"], [\"Pan\", \"Pan axes with left mouse, zoom with right\", \"fa fa-arrows icon-move\", \"pan\"], [\"Zoom\", \"Zoom to rectangle\", \"fa fa-square-o icon-check-empty\", \"zoom\"], [\"\", \"\", \"\", \"\"], [\"Download\", \"Download plot\", \"fa fa-floppy-o icon-save\", \"download\"]];\n",
       "\n",
       "mpl.extensions = [\"eps\", \"jpeg\", \"pdf\", \"png\", \"ps\", \"raw\", \"svg\", \"tif\"];\n",
       "\n",
       "mpl.default_extension = \"png\";var comm_websocket_adapter = function(comm) {\n",
       "    // Create a \"websocket\"-like object which calls the given IPython comm\n",
       "    // object with the appropriate methods. Currently this is a non binary\n",
       "    // socket, so there is still some room for performance tuning.\n",
       "    var ws = {};\n",
       "\n",
       "    ws.close = function() {\n",
       "        comm.close()\n",
       "    };\n",
       "    ws.send = function(m) {\n",
       "        //console.log('sending', m);\n",
       "        comm.send(m);\n",
       "    };\n",
       "    // Register the callback with on_msg.\n",
       "    comm.on_msg(function(msg) {\n",
       "        //console.log('receiving', msg['content']['data'], msg);\n",
       "        // Pass the mpl event to the overriden (by mpl) onmessage function.\n",
       "        ws.onmessage(msg['content']['data'])\n",
       "    });\n",
       "    return ws;\n",
       "}\n",
       "\n",
       "mpl.mpl_figure_comm = function(comm, msg) {\n",
       "    // This is the function which gets called when the mpl process\n",
       "    // starts-up an IPython Comm through the \"matplotlib\" channel.\n",
       "\n",
       "    var id = msg.content.data.id;\n",
       "    // Get hold of the div created by the display call when the Comm\n",
       "    // socket was opened in Python.\n",
       "    var element = $(\"#\" + id);\n",
       "    var ws_proxy = comm_websocket_adapter(comm)\n",
       "\n",
       "    function ondownload(figure, format) {\n",
       "        window.open(figure.imageObj.src);\n",
       "    }\n",
       "\n",
       "    var fig = new mpl.figure(id, ws_proxy,\n",
       "                           ondownload,\n",
       "                           element.get(0));\n",
       "\n",
       "    // Call onopen now - mpl needs it, as it is assuming we've passed it a real\n",
       "    // web socket which is closed, not our websocket->open comm proxy.\n",
       "    ws_proxy.onopen();\n",
       "\n",
       "    fig.parent_element = element.get(0);\n",
       "    fig.cell_info = mpl.find_output_cell(\"<div id='\" + id + \"'></div>\");\n",
       "    if (!fig.cell_info) {\n",
       "        console.error(\"Failed to find cell for figure\", id, fig);\n",
       "        return;\n",
       "    }\n",
       "\n",
       "    var output_index = fig.cell_info[2]\n",
       "    var cell = fig.cell_info[0];\n",
       "\n",
       "};\n",
       "\n",
       "mpl.figure.prototype.handle_close = function(fig, msg) {\n",
       "    var width = fig.canvas.width/mpl.ratio\n",
       "    fig.root.unbind('remove')\n",
       "\n",
       "    // Update the output cell to use the data from the current canvas.\n",
       "    fig.push_to_output();\n",
       "    var dataURL = fig.canvas.toDataURL();\n",
       "    // Re-enable the keyboard manager in IPython - without this line, in FF,\n",
       "    // the notebook keyboard shortcuts fail.\n",
       "    IPython.keyboard_manager.enable()\n",
       "    $(fig.parent_element).html('<img src=\"' + dataURL + '\" width=\"' + width + '\">');\n",
       "    fig.close_ws(fig, msg);\n",
       "}\n",
       "\n",
       "mpl.figure.prototype.close_ws = function(fig, msg){\n",
       "    fig.send_message('closing', msg);\n",
       "    // fig.ws.close()\n",
       "}\n",
       "\n",
       "mpl.figure.prototype.push_to_output = function(remove_interactive) {\n",
       "    // Turn the data on the canvas into data in the output cell.\n",
       "    var width = this.canvas.width/mpl.ratio\n",
       "    var dataURL = this.canvas.toDataURL();\n",
       "    this.cell_info[1]['text/html'] = '<img src=\"' + dataURL + '\" width=\"' + width + '\">';\n",
       "}\n",
       "\n",
       "mpl.figure.prototype.updated_canvas_event = function() {\n",
       "    // Tell IPython that the notebook contents must change.\n",
       "    IPython.notebook.set_dirty(true);\n",
       "    this.send_message(\"ack\", {});\n",
       "    var fig = this;\n",
       "    // Wait a second, then push the new image to the DOM so\n",
       "    // that it is saved nicely (might be nice to debounce this).\n",
       "    setTimeout(function () { fig.push_to_output() }, 1000);\n",
       "}\n",
       "\n",
       "mpl.figure.prototype._init_toolbar = function() {\n",
       "    var fig = this;\n",
       "\n",
       "    var nav_element = $('<div/>')\n",
       "    nav_element.attr('style', 'width: 100%');\n",
       "    this.root.append(nav_element);\n",
       "\n",
       "    // Define a callback function for later on.\n",
       "    function toolbar_event(event) {\n",
       "        return fig.toolbar_button_onclick(event['data']);\n",
       "    }\n",
       "    function toolbar_mouse_event(event) {\n",
       "        return fig.toolbar_button_onmouseover(event['data']);\n",
       "    }\n",
       "\n",
       "    for(var toolbar_ind in mpl.toolbar_items){\n",
       "        var name = mpl.toolbar_items[toolbar_ind][0];\n",
       "        var tooltip = mpl.toolbar_items[toolbar_ind][1];\n",
       "        var image = mpl.toolbar_items[toolbar_ind][2];\n",
       "        var method_name = mpl.toolbar_items[toolbar_ind][3];\n",
       "\n",
       "        if (!name) { continue; };\n",
       "\n",
       "        var button = $('<button class=\"btn btn-default\" href=\"#\" title=\"' + name + '\"><i class=\"fa ' + image + ' fa-lg\"></i></button>');\n",
       "        button.click(method_name, toolbar_event);\n",
       "        button.mouseover(tooltip, toolbar_mouse_event);\n",
       "        nav_element.append(button);\n",
       "    }\n",
       "\n",
       "    // Add the status bar.\n",
       "    var status_bar = $('<span class=\"mpl-message\" style=\"text-align:right; float: right;\"/>');\n",
       "    nav_element.append(status_bar);\n",
       "    this.message = status_bar[0];\n",
       "\n",
       "    // Add the close button to the window.\n",
       "    var buttongrp = $('<div class=\"btn-group inline pull-right\"></div>');\n",
       "    var button = $('<button class=\"btn btn-mini btn-primary\" href=\"#\" title=\"Stop Interaction\"><i class=\"fa fa-power-off icon-remove icon-large\"></i></button>');\n",
       "    button.click(function (evt) { fig.handle_close(fig, {}); } );\n",
       "    button.mouseover('Stop Interaction', toolbar_mouse_event);\n",
       "    buttongrp.append(button);\n",
       "    var titlebar = this.root.find($('.ui-dialog-titlebar'));\n",
       "    titlebar.prepend(buttongrp);\n",
       "}\n",
       "\n",
       "mpl.figure.prototype._root_extra_style = function(el){\n",
       "    var fig = this\n",
       "    el.on(\"remove\", function(){\n",
       "\tfig.close_ws(fig, {});\n",
       "    });\n",
       "}\n",
       "\n",
       "mpl.figure.prototype._canvas_extra_style = function(el){\n",
       "    // this is important to make the div 'focusable\n",
       "    el.attr('tabindex', 0)\n",
       "    // reach out to IPython and tell the keyboard manager to turn it's self\n",
       "    // off when our div gets focus\n",
       "\n",
       "    // location in version 3\n",
       "    if (IPython.notebook.keyboard_manager) {\n",
       "        IPython.notebook.keyboard_manager.register_events(el);\n",
       "    }\n",
       "    else {\n",
       "        // location in version 2\n",
       "        IPython.keyboard_manager.register_events(el);\n",
       "    }\n",
       "\n",
       "}\n",
       "\n",
       "mpl.figure.prototype._key_event_extra = function(event, name) {\n",
       "    var manager = IPython.notebook.keyboard_manager;\n",
       "    if (!manager)\n",
       "        manager = IPython.keyboard_manager;\n",
       "\n",
       "    // Check for shift+enter\n",
       "    if (event.shiftKey && event.which == 13) {\n",
       "        this.canvas_div.blur();\n",
       "        event.shiftKey = false;\n",
       "        // Send a \"J\" for go to next cell\n",
       "        event.which = 74;\n",
       "        event.keyCode = 74;\n",
       "        manager.command_mode();\n",
       "        manager.handle_keydown(event);\n",
       "    }\n",
       "}\n",
       "\n",
       "mpl.figure.prototype.handle_save = function(fig, msg) {\n",
       "    fig.ondownload(fig, null);\n",
       "}\n",
       "\n",
       "\n",
       "mpl.find_output_cell = function(html_output) {\n",
       "    // Return the cell and output element which can be found *uniquely* in the notebook.\n",
       "    // Note - this is a bit hacky, but it is done because the \"notebook_saving.Notebook\"\n",
       "    // IPython event is triggered only after the cells have been serialised, which for\n",
       "    // our purposes (turning an active figure into a static one), is too late.\n",
       "    var cells = IPython.notebook.get_cells();\n",
       "    var ncells = cells.length;\n",
       "    for (var i=0; i<ncells; i++) {\n",
       "        var cell = cells[i];\n",
       "        if (cell.cell_type === 'code'){\n",
       "            for (var j=0; j<cell.output_area.outputs.length; j++) {\n",
       "                var data = cell.output_area.outputs[j];\n",
       "                if (data.data) {\n",
       "                    // IPython >= 3 moved mimebundle to data attribute of output\n",
       "                    data = data.data;\n",
       "                }\n",
       "                if (data['text/html'] == html_output) {\n",
       "                    return [cell, data, j];\n",
       "                }\n",
       "            }\n",
       "        }\n",
       "    }\n",
       "}\n",
       "\n",
       "// Register the function which deals with the matplotlib target/channel.\n",
       "// The kernel may be null if the page has been refreshed.\n",
       "if (IPython.notebook.kernel != null) {\n",
       "    IPython.notebook.kernel.comm_manager.register_target('matplotlib', mpl.mpl_figure_comm);\n",
       "}\n"
      ],
      "text/plain": [
       "<IPython.core.display.Javascript object>"
      ]
     },
     "metadata": {},
     "output_type": "display_data"
    },
    {
     "data": {
      "text/html": [
       "<img src=\"data:image/png;base64,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\" width=\"640\">"
      ],
      "text/plain": [
       "<IPython.core.display.HTML object>"
      ]
     },
     "metadata": {},
     "output_type": "display_data"
    },
    {
     "data": {
      "text/plain": [
       "(0, 150000)"
      ]
     },
     "execution_count": 498,
     "metadata": {},
     "output_type": "execute_result"
    }
   ],
   "source": [
    "count, bins, ignored = plt.hist(incomes_data, bins=30, edgecolor='black', normed=True)\n",
    "plt.title('MACSS Incomes: 2018-2020', fontsize=20)\n",
    "plt.xlabel('Income, USD')\n",
    "plt.ylabel('Proportion of Income') # Not sure why y-axis label is not showing up (?)\n",
    "plt.xlim([0, 150000]) "
   ]
  },
  {
   "cell_type": "markdown",
   "metadata": {},
   "source": [
    "### b). Estimate the parameters of the lognormal distribution by generalized method of moments. "
   ]
  },
  {
   "cell_type": "code",
   "execution_count": 499,
   "metadata": {
    "collapsed": true
   },
   "outputs": [],
   "source": [
    "# Define function that generates values of a lognormal pdf:\n",
    "def lognormal_pdf(xvals, mu, sigma):\n",
    "    \"\"\"\n",
    "    Generates a vector of values from a lognormal distribution.\n",
    "    Inputs:\n",
    "        xvals: Numpy array, vector of x-values\n",
    "        mu: Integer mean\n",
    "        sigma: Integer standard deviation\n",
    "    Returns:\n",
    "        pdf_vals: Numpy array, vector of y-values, i.e. pdf-values.\n",
    "    \"\"\"\n",
    "    pdf_vals = ( 1 / \n",
    "           (xvals * sigma * np.sqrt(2 * np.pi))) * np.exp( (- (np.log(xvals) - mu) ** 2) / (2 * (sigma ** 2)))\n",
    "    return pdf_vals"
   ]
  },
  {
   "cell_type": "markdown",
   "metadata": {},
   "source": [
    "Function to calculate $m(x)$ - Rx1 vector of moments from real data:"
   ]
  },
  {
   "cell_type": "code",
   "execution_count": 500,
   "metadata": {
    "collapsed": true
   },
   "outputs": [],
   "source": [
    "def data_moments(xvals):\n",
    "    \"\"\"\n",
    "    Takes in continuous data and returns mean and standard deviation.\n",
    "    Inputs:\n",
    "        xvals: Numpy array of data\n",
    "    Return:\n",
    "        \n",
    "    \"\"\"\n",
    "    data_mean = xvals.mean()\n",
    "    data_sd = xvals.std()\n",
    "    \n",
    "    return data_mean, data_sd"
   ]
  },
  {
   "cell_type": "markdown",
   "metadata": {},
   "source": [
    "Function to calculate $m(x|\\theta)$ - Rx1 vector of moments from the model:"
   ]
  },
  {
   "cell_type": "code",
   "execution_count": 501,
   "metadata": {},
   "outputs": [],
   "source": [
    "def model_moments(mu, sigma):\n",
    "    \"\"\"\n",
    "    Takes mean and SD values, and calculates mean and SD from using a\n",
    "    PDF intergral.\n",
    "    Inputs:\n",
    "        mu: float, mean\n",
    "        sigma: float, standard deviation\n",
    "    Returns:\n",
    "        mean_model: float, model's mean\n",
    "        \n",
    "    \"\"\"\n",
    "    # This freaks Python out, b/c of infities I think:\n",
    "    #xfx = lambda x: x * lognormal_pdf(x, mu, sigma)\n",
    "    #(model_mean, m_m_err) = intgr.quad(xfx, -np.inf, +np.inf)\n",
    "    \n",
    "    # This doesn't (Saw formula for lognormal mean on wikipedia):\n",
    "    model_mean = np.exp(mu + ((sigma ** 2) / 2))\n",
    "    \n",
    "    #x2fx = lambda x: ((x - model_mean) ** 2) * lognormal_pdf(x, mu, sigma)\n",
    "    #(model_var, v_m_err) = intgr.quad(x2fx, 0, +np.inf)\n",
    "    \n",
    "    # Likewise, let's try formula for SD, instead of intergral:\n",
    "    model_var = (np.exp(sigma ** 2) - 1) * (np.exp(2 * mu + sigma ** 2))\n",
    "    model_sd = np.sqrt(model_var)\n",
    "    \n",
    "    return model_mean, model_sd"
   ]
  },
  {
   "cell_type": "markdown",
   "metadata": {},
   "source": [
    "Function to calculate $e(x|\\theta)$ - Rx1 vector of percent difference:\n",
    "$e(x|\\theta) = \\frac{m(x|\\theta) - m(x)}{m(x)}$:"
   ]
  },
  {
   "cell_type": "code",
   "execution_count": 502,
   "metadata": {},
   "outputs": [],
   "source": [
    "def err_vec(xvals, mu, sigma):\n",
    "    \"\"\"\n",
    "    Takes observation values, mean and sd and calculates the values of\n",
    "    the moment error function (e(x|theta))\n",
    "    Inputs:\n",
    "        xvals: Numpy array of observations\n",
    "        mu: float, mean\n",
    "        sigma: float, sd\n",
    "    Returns:\n",
    "        err_vec: Numpy array of he values of the moment error function\n",
    "        as the percent difference\n",
    "    \"\"\"\n",
    "    # m(x|theta):\n",
    "    model_mean, model_sd = model_moments(mu, sigma)\n",
    "    moments_from_model = np.array([[model_mean], [model_sd]])\n",
    "    \n",
    "    # m(x):\n",
    "    data_mean, data_sd = data_moments(xvals)\n",
    "    moments_from_data = np.array([[data_mean], [data_sd]])\n",
    "    \n",
    "    # e(x|theta):\n",
    "    err_vec = (moments_from_model - moments_from_data) / moments_from_data\n",
    "    \n",
    "    return err_vec"
   ]
  },
  {
   "cell_type": "markdown",
   "metadata": {},
   "source": [
    "Function to calculate criterion function: $e(x|\\theta)^T$ $W$ $e(x)$"
   ]
  },
  {
   "cell_type": "code",
   "execution_count": 503,
   "metadata": {},
   "outputs": [],
   "source": [
    "def criterion(params, *args):\n",
    "    \"\"\"\n",
    "    Calculate the value of the criterion function: \n",
    "    e(x|theta)^T * W * e(x|theta)\n",
    "    Inputs:\n",
    "        params: mean and sd floats\n",
    "        *args: Numpy array of observations and W weighing matrix \n",
    "        (Numpy array)\n",
    "    Outputs:\n",
    "        crit_val: float, value of the error criterion function\n",
    "    \"\"\"\n",
    "    mu, sigma = params\n",
    "    xvals, W = args\n",
    "    err = err_vec(xvals, mu, sigma)\n",
    "    crit_val = np.dot(np.dot(err.T, W), err) \n",
    "    \n",
    "    return crit_val"
   ]
  },
  {
   "cell_type": "markdown",
   "metadata": {},
   "source": [
    "### Use the average income and standard deviation of income as your two moments. Use the identity matrix as your weighting matrix $\\hat{W}$."
   ]
  },
  {
   "cell_type": "code",
   "execution_count": 504,
   "metadata": {},
   "outputs": [
    {
     "name": "stdout",
     "output_type": "stream",
     "text": [
      "mu_GMM1= 11.3318806818  sig_GMM1= 0.208696739063\n"
     ]
    }
   ],
   "source": [
    "# Guesses from HW2:\n",
    "mu_init = 11.36\n",
    "sig_init = .21\n",
    "\n",
    "params_init = np.array([mu_init, sig_init])\n",
    "W_hat = np.eye(2)\n",
    "gmm_args = (incomes_data, W_hat)\n",
    "# Bounds on Mean: -inf to inf. Bounds on SD: 0 to inf.:\n",
    "results = opt.minimize(criterion, params_init, args=(gmm_args),\n",
    "                       method='L-BFGS-B', bounds=((None, None), (1e-10, None)))\n",
    "mu_GMM1, sig_GMM1 = results.x\n",
    "print('mu_GMM1=', mu_GMM1, ' sig_GMM1=', sig_GMM1)"
   ]
  },
  {
   "cell_type": "markdown",
   "metadata": {},
   "source": [
    "### Plot your estimated lognormal PDF against the histogram from part (a)."
   ]
  },
  {
   "cell_type": "code",
   "execution_count": 505,
   "metadata": {},
   "outputs": [
    {
     "data": {
      "text/plain": [
       "<matplotlib.legend.Legend at 0x1a185bbeb8>"
      ]
     },
     "execution_count": 505,
     "metadata": {},
     "output_type": "execute_result"
    }
   ],
   "source": [
    "# Plot the estimated GMM PDF\n",
    "dist_pts = np.linspace(0.00000001, 150000, 500)\n",
    "plt.plot(dist_pts, lognormal_pdf(dist_pts, mu_GMM1, sig_GMM1),\n",
    "         linewidth=2, color='k', label='1: $\\mu_{GMM1}$=11.3319, $\\sigma_{GMM1}=0.2087$')\n",
    "plt.legend(loc='upper left')"
   ]
  },
  {
   "cell_type": "markdown",
   "metadata": {},
   "source": [
    "See results on the histogram earlier ^"
   ]
  },
  {
   "cell_type": "markdown",
   "metadata": {},
   "source": [
    "###  Report the value of your GMM criterion function at the estimated parameter values. "
   ]
  },
  {
   "cell_type": "code",
   "execution_count": 506,
   "metadata": {},
   "outputs": [
    {
     "name": "stdout",
     "output_type": "stream",
     "text": [
      "Value of the GMM criterion function at the estimated mu and sigma:\n",
      "[[  7.57475098e-14]]\n"
     ]
    }
   ],
   "source": [
    "params = np.array([mu_GMM1, sig_GMM1])\n",
    "W_hat = np.eye(2)\n",
    "gmm_args = (incomes_data, W_hat)\n",
    "print(\"Value of the GMM criterion function at the estimated mu and sigma:\")\n",
    "crit1 = criterion(params, incomes_data, W_hat)\n",
    "print(crit1)"
   ]
  },
  {
   "cell_type": "markdown",
   "metadata": {},
   "source": [
    "### Report and compare your two data moments against your two model moments at the estimated parameter values."
   ]
  },
  {
   "cell_type": "code",
   "execution_count": 507,
   "metadata": {},
   "outputs": [
    {
     "name": "stdout",
     "output_type": "stream",
     "text": [
      "Mean of Data = 85276.8236063 , SD of Data = 17992.542128\n",
      "Mean of Model = 85276.811169 , SD of Model = 17992.5463275\n",
      "Error vector= [ -1.45845960e-07   2.33401941e-07]\n"
     ]
    }
   ],
   "source": [
    "mean_data, sd_data = data_moments(incomes_data)\n",
    "mean_model, sd_model = model_moments(mu_GMM1, sig_GMM1)\n",
    "err1 = err_vec(incomes_data, mu_GMM1, sig_GMM1)\n",
    "print('Mean of Data =', mean_data, ', SD of Data =', sd_data)\n",
    "print('Mean of Model =', mean_model, ', SD of Model =', sd_model)\n",
    "print('Error vector=', err1.reshape(2,))"
   ]
  },
  {
   "cell_type": "markdown",
   "metadata": {},
   "source": [
    "^ Pretty darn good!"
   ]
  },
  {
   "cell_type": "markdown",
   "metadata": {},
   "source": [
    "### c). Perform the two-step GMM estimator by using your estimates from part (b) with two moments to generate an estimator for the variance covariance matrix  $\\hat{\\Omega}_{2step}$ which you then use to get the two-step estimator for the optimal weighting matrix $\\hat{W}_{2step}$."
   ]
  },
  {
   "cell_type": "markdown",
   "metadata": {},
   "source": [
    "Find $\\hat{\\Omega}_{2step}$ and $\\hat{W}_{2step}$:"
   ]
  },
  {
   "cell_type": "code",
   "execution_count": 508,
   "metadata": {},
   "outputs": [
    {
     "name": "stdout",
     "output_type": "stream",
     "text": [
      "[[  1.06355220e-16  -1.70203650e-16]\n",
      " [ -1.70203650e-16   2.72382329e-16]]\n",
      "[[  7.41450361e+14  -1.18656666e+15]\n",
      " [ -1.18656666e+15   1.89890046e+15]]\n"
     ]
    }
   ],
   "source": [
    "omega_twostep_vcv = np.dot(err1, err1.T) / incomes_data.shape[0]\n",
    "print(omega_twostep_vcv)\n",
    "W_hat2 = lin.pinv(omega_twostep_vcv)  # Use the pseudo-inverse calculated by SVD because VCV2 is ill-conditioned\n",
    "print(W_hat2)"
   ]
  },
  {
   "cell_type": "code",
   "execution_count": 509,
   "metadata": {},
   "outputs": [],
   "source": [
    "params_init = np.array([mu_GMM1, sig_GMM1])\n",
    "gmm_args = (incomes_data, W_hat2)\n",
    "# Bounds on Mean: -inf to inf. Bounds on SD: 0 to inf.:\n",
    "results = opt.minimize(criterion, params_init, args=(gmm_args),\n",
    "                       method='L-BFGS-B', bounds=((None, None), (1e-10, None)))\n",
    "mu_GMM2, sig_GMM2 = results.x"
   ]
  },
  {
   "cell_type": "markdown",
   "metadata": {},
   "source": [
    "### Report your estimates as well as the criterion function value at these estimates."
   ]
  },
  {
   "cell_type": "code",
   "execution_count": 510,
   "metadata": {},
   "outputs": [
    {
     "name": "stdout",
     "output_type": "stream",
     "text": [
      "mu_GMM2= 11.3318799055  sig_GMM2= 0.208696732361\n",
      "Value of the GMM criterion function at the two-step estimated mu and sigma:\n",
      "[[  1.18585937e-12]]\n"
     ]
    }
   ],
   "source": [
    "print('mu_GMM2=', mu_GMM2, ' sig_GMM2=', sig_GMM2)\n",
    "\n",
    "params = np.array([mu_GMM2, sig_GMM2])\n",
    "gmm_args = (incomes_data, W_hat2)\n",
    "print(\"Value of the GMM criterion function at the two-step estimated mu and sigma:\")\n",
    "crit2 = criterion(params, incomes_data, W_hat)\n",
    "print(crit2)"
   ]
  },
  {
   "cell_type": "markdown",
   "metadata": {},
   "source": [
    "### Plot your estimated lognormal PDF against the histogram from part (a) and the estimated PDF from part (b)."
   ]
  },
  {
   "cell_type": "code",
   "execution_count": 511,
   "metadata": {},
   "outputs": [
    {
     "data": {
      "text/plain": [
       "<matplotlib.legend.Legend at 0x1a19b27438>"
      ]
     },
     "execution_count": 511,
     "metadata": {},
     "output_type": "execute_result"
    }
   ],
   "source": [
    "# Plot the two-step estimated GMM PDF:\n",
    "dist_pts = np.linspace(0.00000001, 150000, 500)\n",
    "plt.plot(dist_pts, lognormal_pdf(dist_pts, mu_GMM2, sig_GMM2),\n",
    "         linewidth=2, color='r', label='1: $\\mu_{GMM2}$=11.3319, $\\sigma_{GMM2}=0.2087$')\n",
    "plt.legend(loc='upper left')"
   ]
  },
  {
   "cell_type": "markdown",
   "metadata": {},
   "source": [
    "See results on the histogram earlier ^"
   ]
  },
  {
   "cell_type": "markdown",
   "metadata": {},
   "source": [
    "### Report and compare your two data moments against your two model moments at the estimated parameter values."
   ]
  },
  {
   "cell_type": "code",
   "execution_count": 512,
   "metadata": {},
   "outputs": [
    {
     "name": "stdout",
     "output_type": "stream",
     "text": [
      "Mean of Data = 85276.8236063 , SD of Data = 17992.542128\n",
      "Mean of Model = 85276.811169 , SD of Model = 17992.5463275\n",
      "Error Vector = [ -1.45845960e-07   2.33401941e-07]\n",
      "Mean of Model (Two-Step) = 85276.7448531\n",
      "SD of Model (Two-Step) = 17992.5317451\n",
      "Error Vector (Two-Step) = [ -9.23499677e-07  -5.77068206e-07]\n"
     ]
    }
   ],
   "source": [
    "mean_data, sd_data = data_moments(incomes_data)\n",
    "\n",
    "# W=I: \n",
    "mean_model1, sd_model1 = model_moments(mu_GMM1, sig_GMM1)\n",
    "err1 = err_vec(incomes_data, mu_GMM1, sig_GMM1)\n",
    "\n",
    "# W=W2:\n",
    "mean_model2, sd_model2 = model_moments(mu_GMM2, sig_GMM2)\n",
    "err2 = err_vec(incomes_data, mu_GMM2, sig_GMM2)\n",
    "\n",
    "print('Mean of Data =', mean_data, ', SD of Data =', sd_data)\n",
    "print('Mean of Model =', mean_model1, ', SD of Model =', sd_model1)\n",
    "print('Error Vector =', err1.reshape(2,))\n",
    "print('Mean of Model (Two-Step) =', mean_model2)\n",
    "print('SD of Model (Two-Step) =', sd_model2)\n",
    "print('Error Vector (Two-Step) =', err2.reshape(2,))"
   ]
  },
  {
   "cell_type": "markdown",
   "metadata": {},
   "source": [
    "^ Pretty good, as error vectors are pretty small, but the W=I for the weighting matrix shows better results; those error vectors were even better (smaller) in the our W=I case!"
   ]
  },
  {
   "cell_type": "markdown",
   "metadata": {},
   "source": [
    "### d). Now estimate the lognormal PDF to fit the data by GMM using different moments."
   ]
  },
  {
   "cell_type": "markdown",
   "metadata": {},
   "source": [
    "### Use percent of individuals who earn less than USD75,000, percent of individuals who earn between USD75,000 and USD100,000, and percent of individuals who earn more than USD100,000 as your three moments."
   ]
  },
  {
   "cell_type": "code",
   "execution_count": 513,
   "metadata": {
    "collapsed": true
   },
   "outputs": [],
   "source": [
    "# New data moments function:\n",
    "def data_moments3(xvals):\n",
    "    \"\"\"\n",
    "    Split our data to calculate percent of individuals in each income\n",
    "    category.\n",
    "    Input:\n",
    "        xvals: Numpy array of observations\n",
    "    Return:\n",
    "        bpct_1_dat, bpct_2_dat, bpct_3_dat: \n",
    "        Tuple of float percents in each category\n",
    "    \"\"\"\n",
    "    bpct_1_dat = xvals[xvals < 75000].shape[0] / xvals.shape[0]\n",
    "    bpct_2_dat = (xvals[(xvals >=75000) & (xvals < 100000)].shape[0] /\n",
    "                  xvals.shape[0])\n",
    "    bpct_3_dat = xvals[xvals >= 100000].shape[0] / xvals.shape[0]\n",
    "\n",
    "    return bpct_1_dat, bpct_2_dat, bpct_3_dat"
   ]
  },
  {
   "cell_type": "code",
   "execution_count": 514,
   "metadata": {},
   "outputs": [],
   "source": [
    "# New model moments function:\n",
    "def model_moments3(mu, sigma):\n",
    "    \"\"\"\n",
    "    Takes mean and SD values, and calculates mean and SD from using a\n",
    "    PDF intergral.\n",
    "    Inputs:\n",
    "        mu: float, mean\n",
    "        sigma: float, standard deviation\n",
    "    Returns:\n",
    "        mean_model: float, model's mean\n",
    "        \n",
    "    \"\"\"\n",
    "    xfx = lambda x: lognormal_pdf(x, mu, sigma)\n",
    "    # This gives warnings::\n",
    "    #(bpct_1_mod, bp_1_err) = intgr.quad(xfx, 0.0000001, 75000)  # b/c 0 <= x < inf\n",
    "    #(bpct_2_mod, bp_2_err) = intgr.quad(xfx, 75000, 100000)\n",
    "    #(bpct_3_mod, bp_3_err) = intgr.quad(xfx, 100000, +np.inf)\n",
    "    \n",
    "    # Use CDF properties to calculate area under the curve instead of integrals\n",
    "    # to avoid integration warnings:\n",
    "    bpct_1_mod = intgr.quad(xfx, 1e-10, 75000)[0]\n",
    "    bpct_2_mod = intgr.quad(xfx, 1e-10, 100000)[0] - bpct_1_mod\n",
    "    bpct_3_mod = 1 - bpct_1_mod - bpct_2_mod \n",
    "    \n",
    "    return bpct_1_mod, bpct_2_mod, bpct_3_mod"
   ]
  },
  {
   "cell_type": "code",
   "execution_count": 515,
   "metadata": {},
   "outputs": [],
   "source": [
    "# New error vector function:\n",
    "def err_vec3(xvals, mu, sigma):\n",
    "    \"\"\"\n",
    "    Computes error vector\n",
    "    \"\"\"\n",
    "    bpct_1_dat, bpct_2_dat, bpct_3_dat = data_moments3(xvals)\n",
    "    moms_data = np.array([[bpct_1_dat], [bpct_2_dat], [bpct_3_dat]])\n",
    "    bpct_1_mod, bpct_2_mod, bpct_3_mod = model_moments3(mu, sigma)\n",
    "    moms_model = np.array([[bpct_1_mod], [bpct_2_mod], [bpct_3_mod]])\n",
    "\n",
    "    err_vec = ((moms_model - moms_data) / moms_data)\n",
    "    \n",
    "    return err_vec\n"
   ]
  },
  {
   "cell_type": "code",
   "execution_count": 516,
   "metadata": {
    "collapsed": true
   },
   "outputs": [],
   "source": [
    "def criterion3(params, *args):\n",
    "    \"\"\"\n",
    "    Calculate the value of the criterion function: \n",
    "    e(x|theta)^T * W * e(x|theta)\n",
    "    Inputs:\n",
    "        params: mean and sd floats\n",
    "        *args: Numpy array of observations and W weighing matrix \n",
    "        (Numpy array)\n",
    "    Outputs:\n",
    "        crit_val: float, value of the error criterion function\n",
    "    \"\"\"\n",
    "    mu, sigma = params\n",
    "    xvals, W = args\n",
    "    err = err_vec3(xvals, mu, sigma)\n",
    "    crit_val = np.dot(np.dot(err.T, W), err)\n",
    "    \n",
    "    return crit_val"
   ]
  },
  {
   "cell_type": "markdown",
   "metadata": {},
   "source": [
    "### Use the identity matrix as your estimator for the optimal weighting matrix."
   ]
  },
  {
   "cell_type": "code",
   "execution_count": 517,
   "metadata": {},
   "outputs": [
    {
     "name": "stdout",
     "output_type": "stream",
     "text": [
      "mu_GMM1_3 = 11.3356813295  sig_GMM1_3 = 0.210598454265\n"
     ]
    }
   ],
   "source": [
    "# Guesses from HW2:\n",
    "mu_init = 11.36\n",
    "sig_init = .21\n",
    "\n",
    "params_init = np.array([mu_init, sig_init])\n",
    "W_hat = np.eye(3)\n",
    "gmm_args = (incomes_data, W_hat)\n",
    "# Bounds on Mean: -inf to inf. Bounds on SD: 0 to inf.:\n",
    "results_3 = opt.minimize(criterion3, params_init, args=(gmm_args),\n",
    "                       method='L-BFGS-B', bounds=((None, None), (1e-10, None)))\n",
    "mu_GMM1_3, sig_GMM1_3 = results_3.x\n",
    "print('mu_GMM1_3 =', mu_GMM1_3, ' sig_GMM1_3 =', sig_GMM1_3)"
   ]
  },
  {
   "cell_type": "markdown",
   "metadata": {},
   "source": [
    "### Plot your estimated lognormal PDF against the histogram from part (a)."
   ]
  },
  {
   "cell_type": "code",
   "execution_count": 518,
   "metadata": {},
   "outputs": [
    {
     "data": {
      "text/plain": [
       "<matplotlib.legend.Legend at 0x1a19b3f9e8>"
      ]
     },
     "execution_count": 518,
     "metadata": {},
     "output_type": "execute_result"
    }
   ],
   "source": [
    "# Plot the estimated 3-moment GMM PDF\n",
    "dist_pts = np.linspace(0.00000001, 150000, 500)\n",
    "plt.plot(dist_pts, lognormal_pdf(dist_pts, mu_GMM1_3, sig_GMM1_3),\n",
    "         linewidth=2, color='b', label='1: $\\mu_{GMM1_3}$=11.3357, $\\sigma_{GMM1_3}=0.2106$')\n",
    "plt.legend(loc='upper left')"
   ]
  },
  {
   "cell_type": "markdown",
   "metadata": {},
   "source": [
    "### Report the value of your GMM criterion function at the estimated parameter values. Report and compare your three data moments against your three model moments at the estimated parameter values."
   ]
  },
  {
   "cell_type": "code",
   "execution_count": 519,
   "metadata": {},
   "outputs": [
    {
     "name": "stdout",
     "output_type": "stream",
     "text": [
      "Value of the GMM criterion function at the 3-moment estimated mu and sigma:\n",
      "[[  1.05895281e-15]]\n",
      "\n",
      "Three data moments:\n",
      "(0.3, 0.5, 0.2)\n",
      "\n",
      "Three model moments at the estimated parameter values:\n",
      "(0.3000000006750251, 0.5000000054419387, 0.19999999388303624)\n"
     ]
    }
   ],
   "source": [
    "params = np.array([mu_GMM1_3, sig_GMM1_3])\n",
    "gmm_args = (incomes_data, W_hat)\n",
    "print(\"Value of the GMM criterion function at the 3-moment estimated mu and sigma:\")\n",
    "crit3 = criterion3(params, incomes_data, W_hat)\n",
    "print(crit3)\n",
    "print()\n",
    "print(\"Three data moments:\")\n",
    "print(data_moments3(incomes_data))\n",
    "print()\n",
    "print(\"Three model moments at the estimated parameter values:\")\n",
    "print(model_moments3(mu_GMM1_3, sig_GMM1_3))"
   ]
  },
  {
   "cell_type": "markdown",
   "metadata": {},
   "source": [
    "^ This is very close, pretty much spot on! Rounding up to 8 decimal points would yield identical results, which means our estimate parameters are of good quality. "
   ]
  },
  {
   "cell_type": "markdown",
   "metadata": {},
   "source": [
    "### e). Perform the two-step GMM estimator by using your estimates from part (d) with three moments to generate an estimator for the variance covariance matrix  $\\hat{\\Omega}_{2step}$ which you then use to get the two-step estimator for the optimal weighting matrix $\\hat{W}_{2step}$."
   ]
  },
  {
   "cell_type": "code",
   "execution_count": 520,
   "metadata": {},
   "outputs": [
    {
     "name": "stdout",
     "output_type": "stream",
     "text": [
      "[[  2.53143819e-20   1.22448172e-19  -3.44092002e-19]\n",
      " [  1.22448172e-19   5.92293931e-19  -1.66440709e-18]\n",
      " [ -3.44092002e-19  -1.66440709e-18   4.67715572e-18]]\n",
      "[[  9.02971634e+14   4.36776320e+15  -1.22738655e+16]\n",
      " [  4.36776320e+15   2.11273031e+16  -5.93699026e+16]\n",
      " [ -1.22738655e+16  -5.93699026e+16   1.66835555e+17]]\n"
     ]
    }
   ],
   "source": [
    "err1_3 = err_vec3(incomes_data, mu_GMM1_3, sig_GMM1_3)\n",
    "VCV2_3 = np.dot(err1_3, err1_3.T) / incomes_data.shape[0]\n",
    "print(VCV2_3)\n",
    "W_hat2_3 = lin.pinv(VCV2_3)  # Use the pseudo-inverse calculated by SVD because VCV2 is ill-conditioned\n",
    "print(W_hat2_3)"
   ]
  },
  {
   "cell_type": "markdown",
   "metadata": {},
   "source": [
    "### Report your estimates as well as the criterion function value at these estimates."
   ]
  },
  {
   "cell_type": "code",
   "execution_count": 533,
   "metadata": {},
   "outputs": [
    {
     "name": "stdout",
     "output_type": "stream",
     "text": [
      "mu_GMM2_3 = 11.3356813295  sig_GMM2_3 = 0.210598454317\n",
      "Error vector (Two-Step) =  [  2.21042703e-09   1.06993672e-08  -3.00640582e-08]\n",
      "\n",
      "Value of the GMM criterion function at the 3-moment Two-Step estimated mu and sigma:\n",
      "[[ 193.24941236]]\n",
      "^ Large criterion value. Seems to depend on the mu and sigma values \n",
      " their decimal values \n",
      " where even small changes can result in drastically different criterion values. \n",
      " This could because of a different W weighting used in the criterion function.\n"
     ]
    }
   ],
   "source": [
    "params_init = np.array([mu_GMM1_3, sig_GMM1_3])\n",
    "gmm_args = (incomes_data, W_hat2_3)\n",
    "results2_3 = opt.minimize(criterion3, params_init, args=(gmm_args),\n",
    "                       method='L-BFGS-B', bounds=((None, None), (1e-10, None)))\n",
    "mu_GMM2_3, sig_GMM2_3 = results2_3.x\n",
    "print('mu_GMM2_3 =', mu_GMM2_3, ' sig_GMM2_3 =', sig_GMM2_3)\n",
    "err2_3 = err_vec3(incomes_data, mu_GMM2_3, sig_GMM2_3)\n",
    "print(\"Error vector (Two-Step) = \", err2_3.reshape(3,))\n",
    "print()\n",
    "params = np.array([mu_GMM2_3, sig_GMM2_3])\n",
    "print(\"Value of the GMM criterion function at the 3-moment Two-Step estimated mu and sigma:\")\n",
    "crit4 = criterion3(params, incomes_data, W_hat2_3)\n",
    "print(crit4)\n",
    "print(\"^ Large criterion value. Seems to depend on the mu and sigma values \\n their decimal values \\n where even small changes can result in drastically different criterion values. \\n This could because of a different W weighting used in the criterion function.\")\n"
   ]
  },
  {
   "cell_type": "markdown",
   "metadata": {},
   "source": [
    "### Plot your estimated log-normal PDF against the histogram from part (a) and the estimated PDF from part (d). Report and compare your three data moments against your three model moments at the estimated parameter values."
   ]
  },
  {
   "cell_type": "code",
   "execution_count": 522,
   "metadata": {},
   "outputs": [
    {
     "data": {
      "text/plain": [
       "<matplotlib.legend.Legend at 0x1a19b3fcc0>"
      ]
     },
     "execution_count": 522,
     "metadata": {},
     "output_type": "execute_result"
    }
   ],
   "source": [
    "# Plot the estimated 3-moment GMM PDF from 2-step:\n",
    "dist_pts = np.linspace(0.00000001, 150000, 500)\n",
    "plt.plot(dist_pts, lognormal_pdf(dist_pts, mu_GMM2_3, sig_GMM2_3),\n",
    "         linewidth=2, color='g', label='1: $\\mu_{GMM2_3}$=11.3357, $\\sigma_{GMM2_3}=0.2106$')\n",
    "plt.legend(loc='upper left')"
   ]
  },
  {
   "cell_type": "markdown",
   "metadata": {},
   "source": [
    "### f). Which of the four estimations from parts (b), (c), (d), and (e) fits the data best? Justify your answer."
   ]
  },
  {
   "cell_type": "code",
   "execution_count": 523,
   "metadata": {},
   "outputs": [
    {
     "name": "stdout",
     "output_type": "stream",
     "text": [
      "Error Vector (Two moments) = [ -1.45845960e-07   2.33401941e-07]\n",
      "Error Vector (Two moments - Two-Step) = [ -9.23499677e-07  -5.77068206e-07]\n",
      "Error Vector (Three moments)=  [  2.25008364e-09   1.08838774e-08  -3.05848188e-08]\n",
      "Error Vector (Three moments - Two-Step)=  [  2.21042703e-09   1.06993672e-08  -3.00640582e-08]\n",
      "[[  7.57475098e-14]] [[  1.18585937e-12]] [[  1.05895281e-15]] [[ 193.24941236]]\n"
     ]
    }
   ],
   "source": [
    "print('Error Vector (Two moments) =', err1.reshape(2,))\n",
    "print('Error Vector (Two moments - Two-Step) =', err2.reshape(2,))\n",
    "print('Error Vector (Three moments)= ', err1_3.reshape(3,))\n",
    "print('Error Vector (Three moments - Two-Step)= ', err2_3.reshape(3,))\n",
    "\n",
    "print(crit1, crit2, crit3, crit4) "
   ]
  },
  {
   "cell_type": "markdown",
   "metadata": {},
   "source": [
    "In this case, errors are almost indistinguishibly small, which is not surprising given that the parameter estimates are really close to each other and, after some rounding, may not even be different (see histogram, where all graphs of PDFs overlap heavily). Based on criterion values, with the smallest value coming from pard (c), three moments GMM estimation with W=I weighting matrix, we may pick this third estimation. However, again, most of the values are very close to each other."
   ]
  },
  {
   "cell_type": "markdown",
   "metadata": {},
   "source": [
    "## 2."
   ]
  },
  {
   "cell_type": "code",
   "execution_count": 524,
   "metadata": {},
   "outputs": [],
   "source": [
    "sick_data = np.genfromtxt(\"sick.txt\", dtype=float, delimiter=',', names=True) \n",
    "sick_vec = sick_data[\"sick\"]\n",
    "age_vec = sick_data[\"age\"]\n",
    "children_vec = sick_data[\"children\"]\n",
    "temp_vec = sick_data[\"avgtemp_winter\"]"
   ]
  },
  {
   "cell_type": "markdown",
   "metadata": {},
   "source": [
    "$m(x)$:"
   ]
  },
  {
   "cell_type": "code",
   "execution_count": 525,
   "metadata": {},
   "outputs": [
    {
     "data": {
      "text/plain": [
       "array([ 1.67,  0.71,  1.39,  1.37,  1.45,  0.62,  1.06,  1.29,  1.05,\n",
       "        1.18,  1.21,  0.63,  0.67,  0.64,  0.86,  1.25,  0.88,  0.12,\n",
       "        1.53,  1.36,  0.73,  0.15,  0.6 ,  1.28,  0.89,  0.46,  1.03,\n",
       "        0.42,  0.6 ,  1.86,  1.1 ,  1.35,  1.11,  2.04,  0.89,  0.69,\n",
       "        1.58,  0.86,  0.81,  0.81,  1.04,  1.68,  1.36,  0.37,  1.05,\n",
       "        2.8 ,  1.03,  1.22,  1.83,  1.25,  1.02,  0.89,  1.98,  1.51,\n",
       "        1.14,  1.18,  0.79,  1.66,  1.21,  0.5 ,  1.51,  0.81,  0.64,\n",
       "        1.35,  0.2 ,  0.66,  1.04,  1.88,  0.55,  1.01,  0.81,  0.95,\n",
       "        1.27,  0.78,  0.9 ,  0.96,  0.79,  0.56,  1.81,  1.63,  0.63,\n",
       "        0.91,  0.66,  0.53,  0.96,  2.11,  0.07,  0.59,  1.15,  0.11,\n",
       "        1.06,  1.72,  0.26,  0.93,  1.61,  1.48,  0.65,  1.58,  1.16,\n",
       "        0.14,  0.96,  0.65,  0.12,  0.12,  0.86,  0.08,  1.92,  1.56,\n",
       "        1.49,  1.32,  0.13,  1.34,  0.61,  0.97,  0.65,  0.49,  1.18,\n",
       "        0.88,  0.46,  1.42,  0.56,  0.95,  1.52,  1.2 ,  1.16,  1.3 ,\n",
       "        1.22,  0.54,  1.47,  1.97,  0.51,  0.05,  1.12,  0.99,  0.91,\n",
       "        0.87,  0.7 ,  2.12,  0.5 ,  0.65,  0.8 ,  0.04,  2.11,  0.78,\n",
       "        0.23,  0.4 ,  1.19,  1.09,  2.22,  0.79,  1.66,  1.28,  1.9 ,\n",
       "        1.61,  0.93,  1.11,  0.74,  1.68,  1.72,  0.27,  0.2 ,  0.57,\n",
       "        1.54,  0.32,  0.79,  0.85,  0.79,  1.32,  1.34,  1.33,  0.91,\n",
       "        0.6 ,  1.14,  1.15,  0.73,  0.93,  0.88,  1.13,  0.69,  1.23,\n",
       "        0.38,  1.23,  1.03,  1.76,  0.9 ,  0.32,  0.63,  1.56,  1.06,\n",
       "        1.16,  0.34,  0.33,  1.98,  0.61,  1.  ,  0.53,  0.86,  1.39,\n",
       "        0.72,  1.29])"
      ]
     },
     "execution_count": 525,
     "metadata": {},
     "output_type": "execute_result"
    }
   ],
   "source": [
    "# Data moments:\n",
    "sick_vec"
   ]
  },
  {
   "cell_type": "markdown",
   "metadata": {},
   "source": [
    "$m(x|\\theta)$:"
   ]
  },
  {
   "cell_type": "code",
   "execution_count": 526,
   "metadata": {
    "collapsed": true
   },
   "outputs": [],
   "source": [
    "# Model moments:\n",
    "def model_moments(xvals, beta_0, beta_1, beta_2, beta_3):\n",
    "    \"\"\"\n",
    "    Takes observations and beta coefficients, \n",
    "    and calculates model moment function values.\n",
    "    Inputs:\n",
    "        x_vals: tuple of age, children and temp vectors\n",
    "        beta_0, beta_1, beta_2, beta_3: beta coefficient floats\n",
    "    Returns:\n",
    "        m_x_theta: vector of model moment values\n",
    "        \n",
    "    \"\"\"\n",
    "    age_vec, children_vec, temp_vec = xvals\n",
    "    m_x_theta = beta_0 + beta_1 * age_vec + beta_2 * children_vec + beta_3 * temp_vec \n",
    "    \n",
    "    return m_x_theta"
   ]
  },
  {
   "cell_type": "markdown",
   "metadata": {},
   "source": [
    "$e(x|\\theta) = m(x|\\theta) - m(x)$:"
   ]
  },
  {
   "cell_type": "code",
   "execution_count": 527,
   "metadata": {},
   "outputs": [],
   "source": [
    "def err_vec(m_x, xvals, beta_0, beta_1, beta_2, beta_3):\n",
    "    \"\"\"\n",
    "    Takes observation values, mean and sd and calculates the values of\n",
    "    the moment error function (e(x|theta))\n",
    "    Inputs:\n",
    "        m_x: array of moments from real data\n",
    "        x_vals: tuple of age, children and temp vectors\n",
    "        beta_0, beta_1, beta_2, beta_3: beta coefficient floats\n",
    "    Returns:\n",
    "        err_vec: Numpy array of the values of the moment error function\n",
    "        as the difference\n",
    "    \"\"\"\n",
    "    err_vec = m_x - model_moments(xvals, beta_0, beta_1, beta_2, beta_3)\n",
    "    return err_vec"
   ]
  },
  {
   "cell_type": "markdown",
   "metadata": {},
   "source": [
    "$e(x|\\theta)^T$ $W$ $e(x)$:"
   ]
  },
  {
   "cell_type": "code",
   "execution_count": 528,
   "metadata": {
    "collapsed": true
   },
   "outputs": [],
   "source": [
    "def criterion(params, *args):\n",
    "    \"\"\"\n",
    "    Calculate the value of the criterion function: \n",
    "    e(x|theta)^T * W * e(x|theta)\n",
    "    Inputs:\n",
    "        params: beta coefficient floats\n",
    "        *args: vector of moments from real data; \n",
    "        tuple of age, children and temp vectors; W weighing matrix \n",
    "        (Numpy array)\n",
    "    Returns:\n",
    "        crit_val: float, value of the error criterion function\n",
    "    \"\"\"\n",
    "    beta_0, beta_1, beta_2, beta_3 = params\n",
    "    m_x, xvals, W = args\n",
    "    err = err_vec(m_x, xvals, beta_0, beta_1, beta_2, beta_3)\n",
    "    crit_val = np.dot(np.dot(err.T, W), err) \n",
    "    \n",
    "    return crit_val"
   ]
  },
  {
   "cell_type": "markdown",
   "metadata": {},
   "source": [
    "### Report your estimates and report the value of your GMM criterion function."
   ]
  },
  {
   "cell_type": "code",
   "execution_count": 529,
   "metadata": {},
   "outputs": [
    {
     "name": "stdout",
     "output_type": "stream",
     "text": [
      "beta_0 = 0.251644863611\n",
      "beta_1 = 0.0129334709599\n",
      "beta_2 = 0.400500984781\n",
      "beta_3 = -0.00999170970792\n",
      "Value of GMM criterion function: 0.00182128980608\n"
     ]
    }
   ],
   "source": [
    "# Guesses:\n",
    "beta_0_init = 1\n",
    "beta_1_init = 0\n",
    "beta_2_init = 0\n",
    "beta_3_init = 0\n",
    "\n",
    "n = sick_data.shape[0]\n",
    "params_init = np.array([beta_0_init, beta_1_init, beta_2_init, beta_3_init])\n",
    "W_hat = np.eye(n)\n",
    "xvals = (age_vec, children_vec, temp_vec)\n",
    "gmm_args = (sick_vec, xvals, W_hat)\n",
    "\n",
    "results = opt.minimize(criterion, params_init, args=(gmm_args),\n",
    "                       method='L-BFGS-B', bounds=((None, None), (1e-10, None), (1e-10, None), (None, None)))\n",
    "\n",
    "beta_0_est = results.x[0]\n",
    "beta_1_est = results.x[1]\n",
    "beta_2_est = results.x[2]\n",
    "beta_3_est = results.x[3]\n",
    "print(\"beta_0 =\", beta_0_est)\n",
    "print(\"beta_1 =\", beta_1_est)\n",
    "print(\"beta_2 =\", beta_2_est)\n",
    "print(\"beta_3 =\", beta_3_est)\n",
    "\n",
    "params = np.array([beta_0_est, beta_1_est, beta_2_est, beta_3_est])\n",
    "crit = criterion(params, sick_vec, xvals, W_hat)\n",
    "print(\"Value of GMM criterion function:\", crit)"
   ]
  },
  {
   "cell_type": "code",
   "execution_count": null,
   "metadata": {
    "collapsed": true
   },
   "outputs": [],
   "source": []
  }
 ],
 "metadata": {
  "kernelspec": {
   "display_name": "Python 3",
   "language": "python",
   "name": "python3"
  },
  "language_info": {
   "codemirror_mode": {
    "name": "ipython",
    "version": 3
   },
   "file_extension": ".py",
   "mimetype": "text/x-python",
   "name": "python",
   "nbconvert_exporter": "python",
   "pygments_lexer": "ipython3",
   "version": "3.6.3"
  }
 },
 "nbformat": 4,
 "nbformat_minor": 2
}
