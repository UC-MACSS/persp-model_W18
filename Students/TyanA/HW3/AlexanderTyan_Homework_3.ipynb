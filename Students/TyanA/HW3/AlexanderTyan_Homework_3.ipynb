{
 "cells": [
  {
   "cell_type": "markdown",
   "metadata": {},
   "source": [
    "# Problem set #3\n",
    "### by Alexander Tyan, January 24, 2018"
   ]
  },
  {
   "cell_type": "markdown",
   "metadata": {},
   "source": [
    "## 1)."
   ]
  },
  {
   "cell_type": "code",
   "execution_count": 403,
   "metadata": {
    "collapsed": true
   },
   "outputs": [],
   "source": [
    "# Import packages and load the data\n",
    "import numpy as np\n",
    "import numpy.linalg as lin\n",
    "import scipy.stats as sts\n",
    "import scipy.integrate as intgr\n",
    "import scipy.optimize as opt\n",
    "import matplotlib\n",
    "import matplotlib.pyplot as plt\n",
    "from mpl_toolkits.mplot3d import Axes3D\n",
    "from matplotlib import cm\n",
    "cmap1 = matplotlib.cm.get_cmap('summer')\n",
    "# This next command is specifically for Jupyter Notebook\n",
    "%matplotlib notebook\n",
    "\n",
    "incomes_data = np.loadtxt('incomes.txt')"
   ]
  },
  {
   "cell_type": "markdown",
   "metadata": {},
   "source": [
    "### a). Plot a histogram of percentages of the income.txt data with 30 bins. Make sure that the bins are weighted using the normed=True option. Make sure your plot has correct x-axis and y-axis labels as well as a plot title."
   ]
  },
  {
   "cell_type": "code",
   "execution_count": 404,
   "metadata": {},
   "outputs": [
    {
     "data": {
      "application/javascript": [
       "/* Put everything inside the global mpl namespace */\n",
       "window.mpl = {};\n",
       "\n",
       "\n",
       "mpl.get_websocket_type = function() {\n",
       "    if (typeof(WebSocket) !== 'undefined') {\n",
       "        return WebSocket;\n",
       "    } else if (typeof(MozWebSocket) !== 'undefined') {\n",
       "        return MozWebSocket;\n",
       "    } else {\n",
       "        alert('Your browser does not have WebSocket support.' +\n",
       "              'Please try Chrome, Safari or Firefox ≥ 6. ' +\n",
       "              'Firefox 4 and 5 are also supported but you ' +\n",
       "              'have to enable WebSockets in about:config.');\n",
       "    };\n",
       "}\n",
       "\n",
       "mpl.figure = function(figure_id, websocket, ondownload, parent_element) {\n",
       "    this.id = figure_id;\n",
       "\n",
       "    this.ws = websocket;\n",
       "\n",
       "    this.supports_binary = (this.ws.binaryType != undefined);\n",
       "\n",
       "    if (!this.supports_binary) {\n",
       "        var warnings = document.getElementById(\"mpl-warnings\");\n",
       "        if (warnings) {\n",
       "            warnings.style.display = 'block';\n",
       "            warnings.textContent = (\n",
       "                \"This browser does not support binary websocket messages. \" +\n",
       "                    \"Performance may be slow.\");\n",
       "        }\n",
       "    }\n",
       "\n",
       "    this.imageObj = new Image();\n",
       "\n",
       "    this.context = undefined;\n",
       "    this.message = undefined;\n",
       "    this.canvas = undefined;\n",
       "    this.rubberband_canvas = undefined;\n",
       "    this.rubberband_context = undefined;\n",
       "    this.format_dropdown = undefined;\n",
       "\n",
       "    this.image_mode = 'full';\n",
       "\n",
       "    this.root = $('<div/>');\n",
       "    this._root_extra_style(this.root)\n",
       "    this.root.attr('style', 'display: inline-block');\n",
       "\n",
       "    $(parent_element).append(this.root);\n",
       "\n",
       "    this._init_header(this);\n",
       "    this._init_canvas(this);\n",
       "    this._init_toolbar(this);\n",
       "\n",
       "    var fig = this;\n",
       "\n",
       "    this.waiting = false;\n",
       "\n",
       "    this.ws.onopen =  function () {\n",
       "            fig.send_message(\"supports_binary\", {value: fig.supports_binary});\n",
       "            fig.send_message(\"send_image_mode\", {});\n",
       "            if (mpl.ratio != 1) {\n",
       "                fig.send_message(\"set_dpi_ratio\", {'dpi_ratio': mpl.ratio});\n",
       "            }\n",
       "            fig.send_message(\"refresh\", {});\n",
       "        }\n",
       "\n",
       "    this.imageObj.onload = function() {\n",
       "            if (fig.image_mode == 'full') {\n",
       "                // Full images could contain transparency (where diff images\n",
       "                // almost always do), so we need to clear the canvas so that\n",
       "                // there is no ghosting.\n",
       "                fig.context.clearRect(0, 0, fig.canvas.width, fig.canvas.height);\n",
       "            }\n",
       "            fig.context.drawImage(fig.imageObj, 0, 0);\n",
       "        };\n",
       "\n",
       "    this.imageObj.onunload = function() {\n",
       "        fig.ws.close();\n",
       "    }\n",
       "\n",
       "    this.ws.onmessage = this._make_on_message_function(this);\n",
       "\n",
       "    this.ondownload = ondownload;\n",
       "}\n",
       "\n",
       "mpl.figure.prototype._init_header = function() {\n",
       "    var titlebar = $(\n",
       "        '<div class=\"ui-dialog-titlebar ui-widget-header ui-corner-all ' +\n",
       "        'ui-helper-clearfix\"/>');\n",
       "    var titletext = $(\n",
       "        '<div class=\"ui-dialog-title\" style=\"width: 100%; ' +\n",
       "        'text-align: center; padding: 3px;\"/>');\n",
       "    titlebar.append(titletext)\n",
       "    this.root.append(titlebar);\n",
       "    this.header = titletext[0];\n",
       "}\n",
       "\n",
       "\n",
       "\n",
       "mpl.figure.prototype._canvas_extra_style = function(canvas_div) {\n",
       "\n",
       "}\n",
       "\n",
       "\n",
       "mpl.figure.prototype._root_extra_style = function(canvas_div) {\n",
       "\n",
       "}\n",
       "\n",
       "mpl.figure.prototype._init_canvas = function() {\n",
       "    var fig = this;\n",
       "\n",
       "    var canvas_div = $('<div/>');\n",
       "\n",
       "    canvas_div.attr('style', 'position: relative; clear: both; outline: 0');\n",
       "\n",
       "    function canvas_keyboard_event(event) {\n",
       "        return fig.key_event(event, event['data']);\n",
       "    }\n",
       "\n",
       "    canvas_div.keydown('key_press', canvas_keyboard_event);\n",
       "    canvas_div.keyup('key_release', canvas_keyboard_event);\n",
       "    this.canvas_div = canvas_div\n",
       "    this._canvas_extra_style(canvas_div)\n",
       "    this.root.append(canvas_div);\n",
       "\n",
       "    var canvas = $('<canvas/>');\n",
       "    canvas.addClass('mpl-canvas');\n",
       "    canvas.attr('style', \"left: 0; top: 0; z-index: 0; outline: 0\")\n",
       "\n",
       "    this.canvas = canvas[0];\n",
       "    this.context = canvas[0].getContext(\"2d\");\n",
       "\n",
       "    var backingStore = this.context.backingStorePixelRatio ||\n",
       "\tthis.context.webkitBackingStorePixelRatio ||\n",
       "\tthis.context.mozBackingStorePixelRatio ||\n",
       "\tthis.context.msBackingStorePixelRatio ||\n",
       "\tthis.context.oBackingStorePixelRatio ||\n",
       "\tthis.context.backingStorePixelRatio || 1;\n",
       "\n",
       "    mpl.ratio = (window.devicePixelRatio || 1) / backingStore;\n",
       "\n",
       "    var rubberband = $('<canvas/>');\n",
       "    rubberband.attr('style', \"position: absolute; left: 0; top: 0; z-index: 1;\")\n",
       "\n",
       "    var pass_mouse_events = true;\n",
       "\n",
       "    canvas_div.resizable({\n",
       "        start: function(event, ui) {\n",
       "            pass_mouse_events = false;\n",
       "        },\n",
       "        resize: function(event, ui) {\n",
       "            fig.request_resize(ui.size.width, ui.size.height);\n",
       "        },\n",
       "        stop: function(event, ui) {\n",
       "            pass_mouse_events = true;\n",
       "            fig.request_resize(ui.size.width, ui.size.height);\n",
       "        },\n",
       "    });\n",
       "\n",
       "    function mouse_event_fn(event) {\n",
       "        if (pass_mouse_events)\n",
       "            return fig.mouse_event(event, event['data']);\n",
       "    }\n",
       "\n",
       "    rubberband.mousedown('button_press', mouse_event_fn);\n",
       "    rubberband.mouseup('button_release', mouse_event_fn);\n",
       "    // Throttle sequential mouse events to 1 every 20ms.\n",
       "    rubberband.mousemove('motion_notify', mouse_event_fn);\n",
       "\n",
       "    rubberband.mouseenter('figure_enter', mouse_event_fn);\n",
       "    rubberband.mouseleave('figure_leave', mouse_event_fn);\n",
       "\n",
       "    canvas_div.on(\"wheel\", function (event) {\n",
       "        event = event.originalEvent;\n",
       "        event['data'] = 'scroll'\n",
       "        if (event.deltaY < 0) {\n",
       "            event.step = 1;\n",
       "        } else {\n",
       "            event.step = -1;\n",
       "        }\n",
       "        mouse_event_fn(event);\n",
       "    });\n",
       "\n",
       "    canvas_div.append(canvas);\n",
       "    canvas_div.append(rubberband);\n",
       "\n",
       "    this.rubberband = rubberband;\n",
       "    this.rubberband_canvas = rubberband[0];\n",
       "    this.rubberband_context = rubberband[0].getContext(\"2d\");\n",
       "    this.rubberband_context.strokeStyle = \"#000000\";\n",
       "\n",
       "    this._resize_canvas = function(width, height) {\n",
       "        // Keep the size of the canvas, canvas container, and rubber band\n",
       "        // canvas in synch.\n",
       "        canvas_div.css('width', width)\n",
       "        canvas_div.css('height', height)\n",
       "\n",
       "        canvas.attr('width', width * mpl.ratio);\n",
       "        canvas.attr('height', height * mpl.ratio);\n",
       "        canvas.attr('style', 'width: ' + width + 'px; height: ' + height + 'px;');\n",
       "\n",
       "        rubberband.attr('width', width);\n",
       "        rubberband.attr('height', height);\n",
       "    }\n",
       "\n",
       "    // Set the figure to an initial 600x600px, this will subsequently be updated\n",
       "    // upon first draw.\n",
       "    this._resize_canvas(600, 600);\n",
       "\n",
       "    // Disable right mouse context menu.\n",
       "    $(this.rubberband_canvas).bind(\"contextmenu\",function(e){\n",
       "        return false;\n",
       "    });\n",
       "\n",
       "    function set_focus () {\n",
       "        canvas.focus();\n",
       "        canvas_div.focus();\n",
       "    }\n",
       "\n",
       "    window.setTimeout(set_focus, 100);\n",
       "}\n",
       "\n",
       "mpl.figure.prototype._init_toolbar = function() {\n",
       "    var fig = this;\n",
       "\n",
       "    var nav_element = $('<div/>')\n",
       "    nav_element.attr('style', 'width: 100%');\n",
       "    this.root.append(nav_element);\n",
       "\n",
       "    // Define a callback function for later on.\n",
       "    function toolbar_event(event) {\n",
       "        return fig.toolbar_button_onclick(event['data']);\n",
       "    }\n",
       "    function toolbar_mouse_event(event) {\n",
       "        return fig.toolbar_button_onmouseover(event['data']);\n",
       "    }\n",
       "\n",
       "    for(var toolbar_ind in mpl.toolbar_items) {\n",
       "        var name = mpl.toolbar_items[toolbar_ind][0];\n",
       "        var tooltip = mpl.toolbar_items[toolbar_ind][1];\n",
       "        var image = mpl.toolbar_items[toolbar_ind][2];\n",
       "        var method_name = mpl.toolbar_items[toolbar_ind][3];\n",
       "\n",
       "        if (!name) {\n",
       "            // put a spacer in here.\n",
       "            continue;\n",
       "        }\n",
       "        var button = $('<button/>');\n",
       "        button.addClass('ui-button ui-widget ui-state-default ui-corner-all ' +\n",
       "                        'ui-button-icon-only');\n",
       "        button.attr('role', 'button');\n",
       "        button.attr('aria-disabled', 'false');\n",
       "        button.click(method_name, toolbar_event);\n",
       "        button.mouseover(tooltip, toolbar_mouse_event);\n",
       "\n",
       "        var icon_img = $('<span/>');\n",
       "        icon_img.addClass('ui-button-icon-primary ui-icon');\n",
       "        icon_img.addClass(image);\n",
       "        icon_img.addClass('ui-corner-all');\n",
       "\n",
       "        var tooltip_span = $('<span/>');\n",
       "        tooltip_span.addClass('ui-button-text');\n",
       "        tooltip_span.html(tooltip);\n",
       "\n",
       "        button.append(icon_img);\n",
       "        button.append(tooltip_span);\n",
       "\n",
       "        nav_element.append(button);\n",
       "    }\n",
       "\n",
       "    var fmt_picker_span = $('<span/>');\n",
       "\n",
       "    var fmt_picker = $('<select/>');\n",
       "    fmt_picker.addClass('mpl-toolbar-option ui-widget ui-widget-content');\n",
       "    fmt_picker_span.append(fmt_picker);\n",
       "    nav_element.append(fmt_picker_span);\n",
       "    this.format_dropdown = fmt_picker[0];\n",
       "\n",
       "    for (var ind in mpl.extensions) {\n",
       "        var fmt = mpl.extensions[ind];\n",
       "        var option = $(\n",
       "            '<option/>', {selected: fmt === mpl.default_extension}).html(fmt);\n",
       "        fmt_picker.append(option)\n",
       "    }\n",
       "\n",
       "    // Add hover states to the ui-buttons\n",
       "    $( \".ui-button\" ).hover(\n",
       "        function() { $(this).addClass(\"ui-state-hover\");},\n",
       "        function() { $(this).removeClass(\"ui-state-hover\");}\n",
       "    );\n",
       "\n",
       "    var status_bar = $('<span class=\"mpl-message\"/>');\n",
       "    nav_element.append(status_bar);\n",
       "    this.message = status_bar[0];\n",
       "}\n",
       "\n",
       "mpl.figure.prototype.request_resize = function(x_pixels, y_pixels) {\n",
       "    // Request matplotlib to resize the figure. Matplotlib will then trigger a resize in the client,\n",
       "    // which will in turn request a refresh of the image.\n",
       "    this.send_message('resize', {'width': x_pixels, 'height': y_pixels});\n",
       "}\n",
       "\n",
       "mpl.figure.prototype.send_message = function(type, properties) {\n",
       "    properties['type'] = type;\n",
       "    properties['figure_id'] = this.id;\n",
       "    this.ws.send(JSON.stringify(properties));\n",
       "}\n",
       "\n",
       "mpl.figure.prototype.send_draw_message = function() {\n",
       "    if (!this.waiting) {\n",
       "        this.waiting = true;\n",
       "        this.ws.send(JSON.stringify({type: \"draw\", figure_id: this.id}));\n",
       "    }\n",
       "}\n",
       "\n",
       "\n",
       "mpl.figure.prototype.handle_save = function(fig, msg) {\n",
       "    var format_dropdown = fig.format_dropdown;\n",
       "    var format = format_dropdown.options[format_dropdown.selectedIndex].value;\n",
       "    fig.ondownload(fig, format);\n",
       "}\n",
       "\n",
       "\n",
       "mpl.figure.prototype.handle_resize = function(fig, msg) {\n",
       "    var size = msg['size'];\n",
       "    if (size[0] != fig.canvas.width || size[1] != fig.canvas.height) {\n",
       "        fig._resize_canvas(size[0], size[1]);\n",
       "        fig.send_message(\"refresh\", {});\n",
       "    };\n",
       "}\n",
       "\n",
       "mpl.figure.prototype.handle_rubberband = function(fig, msg) {\n",
       "    var x0 = msg['x0'] / mpl.ratio;\n",
       "    var y0 = (fig.canvas.height - msg['y0']) / mpl.ratio;\n",
       "    var x1 = msg['x1'] / mpl.ratio;\n",
       "    var y1 = (fig.canvas.height - msg['y1']) / mpl.ratio;\n",
       "    x0 = Math.floor(x0) + 0.5;\n",
       "    y0 = Math.floor(y0) + 0.5;\n",
       "    x1 = Math.floor(x1) + 0.5;\n",
       "    y1 = Math.floor(y1) + 0.5;\n",
       "    var min_x = Math.min(x0, x1);\n",
       "    var min_y = Math.min(y0, y1);\n",
       "    var width = Math.abs(x1 - x0);\n",
       "    var height = Math.abs(y1 - y0);\n",
       "\n",
       "    fig.rubberband_context.clearRect(\n",
       "        0, 0, fig.canvas.width, fig.canvas.height);\n",
       "\n",
       "    fig.rubberband_context.strokeRect(min_x, min_y, width, height);\n",
       "}\n",
       "\n",
       "mpl.figure.prototype.handle_figure_label = function(fig, msg) {\n",
       "    // Updates the figure title.\n",
       "    fig.header.textContent = msg['label'];\n",
       "}\n",
       "\n",
       "mpl.figure.prototype.handle_cursor = function(fig, msg) {\n",
       "    var cursor = msg['cursor'];\n",
       "    switch(cursor)\n",
       "    {\n",
       "    case 0:\n",
       "        cursor = 'pointer';\n",
       "        break;\n",
       "    case 1:\n",
       "        cursor = 'default';\n",
       "        break;\n",
       "    case 2:\n",
       "        cursor = 'crosshair';\n",
       "        break;\n",
       "    case 3:\n",
       "        cursor = 'move';\n",
       "        break;\n",
       "    }\n",
       "    fig.rubberband_canvas.style.cursor = cursor;\n",
       "}\n",
       "\n",
       "mpl.figure.prototype.handle_message = function(fig, msg) {\n",
       "    fig.message.textContent = msg['message'];\n",
       "}\n",
       "\n",
       "mpl.figure.prototype.handle_draw = function(fig, msg) {\n",
       "    // Request the server to send over a new figure.\n",
       "    fig.send_draw_message();\n",
       "}\n",
       "\n",
       "mpl.figure.prototype.handle_image_mode = function(fig, msg) {\n",
       "    fig.image_mode = msg['mode'];\n",
       "}\n",
       "\n",
       "mpl.figure.prototype.updated_canvas_event = function() {\n",
       "    // Called whenever the canvas gets updated.\n",
       "    this.send_message(\"ack\", {});\n",
       "}\n",
       "\n",
       "// A function to construct a web socket function for onmessage handling.\n",
       "// Called in the figure constructor.\n",
       "mpl.figure.prototype._make_on_message_function = function(fig) {\n",
       "    return function socket_on_message(evt) {\n",
       "        if (evt.data instanceof Blob) {\n",
       "            /* FIXME: We get \"Resource interpreted as Image but\n",
       "             * transferred with MIME type text/plain:\" errors on\n",
       "             * Chrome.  But how to set the MIME type?  It doesn't seem\n",
       "             * to be part of the websocket stream */\n",
       "            evt.data.type = \"image/png\";\n",
       "\n",
       "            /* Free the memory for the previous frames */\n",
       "            if (fig.imageObj.src) {\n",
       "                (window.URL || window.webkitURL).revokeObjectURL(\n",
       "                    fig.imageObj.src);\n",
       "            }\n",
       "\n",
       "            fig.imageObj.src = (window.URL || window.webkitURL).createObjectURL(\n",
       "                evt.data);\n",
       "            fig.updated_canvas_event();\n",
       "            fig.waiting = false;\n",
       "            return;\n",
       "        }\n",
       "        else if (typeof evt.data === 'string' && evt.data.slice(0, 21) == \"data:image/png;base64\") {\n",
       "            fig.imageObj.src = evt.data;\n",
       "            fig.updated_canvas_event();\n",
       "            fig.waiting = false;\n",
       "            return;\n",
       "        }\n",
       "\n",
       "        var msg = JSON.parse(evt.data);\n",
       "        var msg_type = msg['type'];\n",
       "\n",
       "        // Call the  \"handle_{type}\" callback, which takes\n",
       "        // the figure and JSON message as its only arguments.\n",
       "        try {\n",
       "            var callback = fig[\"handle_\" + msg_type];\n",
       "        } catch (e) {\n",
       "            console.log(\"No handler for the '\" + msg_type + \"' message type: \", msg);\n",
       "            return;\n",
       "        }\n",
       "\n",
       "        if (callback) {\n",
       "            try {\n",
       "                // console.log(\"Handling '\" + msg_type + \"' message: \", msg);\n",
       "                callback(fig, msg);\n",
       "            } catch (e) {\n",
       "                console.log(\"Exception inside the 'handler_\" + msg_type + \"' callback:\", e, e.stack, msg);\n",
       "            }\n",
       "        }\n",
       "    };\n",
       "}\n",
       "\n",
       "// from http://stackoverflow.com/questions/1114465/getting-mouse-location-in-canvas\n",
       "mpl.findpos = function(e) {\n",
       "    //this section is from http://www.quirksmode.org/js/events_properties.html\n",
       "    var targ;\n",
       "    if (!e)\n",
       "        e = window.event;\n",
       "    if (e.target)\n",
       "        targ = e.target;\n",
       "    else if (e.srcElement)\n",
       "        targ = e.srcElement;\n",
       "    if (targ.nodeType == 3) // defeat Safari bug\n",
       "        targ = targ.parentNode;\n",
       "\n",
       "    // jQuery normalizes the pageX and pageY\n",
       "    // pageX,Y are the mouse positions relative to the document\n",
       "    // offset() returns the position of the element relative to the document\n",
       "    var x = e.pageX - $(targ).offset().left;\n",
       "    var y = e.pageY - $(targ).offset().top;\n",
       "\n",
       "    return {\"x\": x, \"y\": y};\n",
       "};\n",
       "\n",
       "/*\n",
       " * return a copy of an object with only non-object keys\n",
       " * we need this to avoid circular references\n",
       " * http://stackoverflow.com/a/24161582/3208463\n",
       " */\n",
       "function simpleKeys (original) {\n",
       "  return Object.keys(original).reduce(function (obj, key) {\n",
       "    if (typeof original[key] !== 'object')\n",
       "        obj[key] = original[key]\n",
       "    return obj;\n",
       "  }, {});\n",
       "}\n",
       "\n",
       "mpl.figure.prototype.mouse_event = function(event, name) {\n",
       "    var canvas_pos = mpl.findpos(event)\n",
       "\n",
       "    if (name === 'button_press')\n",
       "    {\n",
       "        this.canvas.focus();\n",
       "        this.canvas_div.focus();\n",
       "    }\n",
       "\n",
       "    var x = canvas_pos.x * mpl.ratio;\n",
       "    var y = canvas_pos.y * mpl.ratio;\n",
       "\n",
       "    this.send_message(name, {x: x, y: y, button: event.button,\n",
       "                             step: event.step,\n",
       "                             guiEvent: simpleKeys(event)});\n",
       "\n",
       "    /* This prevents the web browser from automatically changing to\n",
       "     * the text insertion cursor when the button is pressed.  We want\n",
       "     * to control all of the cursor setting manually through the\n",
       "     * 'cursor' event from matplotlib */\n",
       "    event.preventDefault();\n",
       "    return false;\n",
       "}\n",
       "\n",
       "mpl.figure.prototype._key_event_extra = function(event, name) {\n",
       "    // Handle any extra behaviour associated with a key event\n",
       "}\n",
       "\n",
       "mpl.figure.prototype.key_event = function(event, name) {\n",
       "\n",
       "    // Prevent repeat events\n",
       "    if (name == 'key_press')\n",
       "    {\n",
       "        if (event.which === this._key)\n",
       "            return;\n",
       "        else\n",
       "            this._key = event.which;\n",
       "    }\n",
       "    if (name == 'key_release')\n",
       "        this._key = null;\n",
       "\n",
       "    var value = '';\n",
       "    if (event.ctrlKey && event.which != 17)\n",
       "        value += \"ctrl+\";\n",
       "    if (event.altKey && event.which != 18)\n",
       "        value += \"alt+\";\n",
       "    if (event.shiftKey && event.which != 16)\n",
       "        value += \"shift+\";\n",
       "\n",
       "    value += 'k';\n",
       "    value += event.which.toString();\n",
       "\n",
       "    this._key_event_extra(event, name);\n",
       "\n",
       "    this.send_message(name, {key: value,\n",
       "                             guiEvent: simpleKeys(event)});\n",
       "    return false;\n",
       "}\n",
       "\n",
       "mpl.figure.prototype.toolbar_button_onclick = function(name) {\n",
       "    if (name == 'download') {\n",
       "        this.handle_save(this, null);\n",
       "    } else {\n",
       "        this.send_message(\"toolbar_button\", {name: name});\n",
       "    }\n",
       "};\n",
       "\n",
       "mpl.figure.prototype.toolbar_button_onmouseover = function(tooltip) {\n",
       "    this.message.textContent = tooltip;\n",
       "};\n",
       "mpl.toolbar_items = [[\"Home\", \"Reset original view\", \"fa fa-home icon-home\", \"home\"], [\"Back\", \"Back to  previous view\", \"fa fa-arrow-left icon-arrow-left\", \"back\"], [\"Forward\", \"Forward to next view\", \"fa fa-arrow-right icon-arrow-right\", \"forward\"], [\"\", \"\", \"\", \"\"], [\"Pan\", \"Pan axes with left mouse, zoom with right\", \"fa fa-arrows icon-move\", \"pan\"], [\"Zoom\", \"Zoom to rectangle\", \"fa fa-square-o icon-check-empty\", \"zoom\"], [\"\", \"\", \"\", \"\"], [\"Download\", \"Download plot\", \"fa fa-floppy-o icon-save\", \"download\"]];\n",
       "\n",
       "mpl.extensions = [\"eps\", \"jpeg\", \"pdf\", \"png\", \"ps\", \"raw\", \"svg\", \"tif\"];\n",
       "\n",
       "mpl.default_extension = \"png\";var comm_websocket_adapter = function(comm) {\n",
       "    // Create a \"websocket\"-like object which calls the given IPython comm\n",
       "    // object with the appropriate methods. Currently this is a non binary\n",
       "    // socket, so there is still some room for performance tuning.\n",
       "    var ws = {};\n",
       "\n",
       "    ws.close = function() {\n",
       "        comm.close()\n",
       "    };\n",
       "    ws.send = function(m) {\n",
       "        //console.log('sending', m);\n",
       "        comm.send(m);\n",
       "    };\n",
       "    // Register the callback with on_msg.\n",
       "    comm.on_msg(function(msg) {\n",
       "        //console.log('receiving', msg['content']['data'], msg);\n",
       "        // Pass the mpl event to the overriden (by mpl) onmessage function.\n",
       "        ws.onmessage(msg['content']['data'])\n",
       "    });\n",
       "    return ws;\n",
       "}\n",
       "\n",
       "mpl.mpl_figure_comm = function(comm, msg) {\n",
       "    // This is the function which gets called when the mpl process\n",
       "    // starts-up an IPython Comm through the \"matplotlib\" channel.\n",
       "\n",
       "    var id = msg.content.data.id;\n",
       "    // Get hold of the div created by the display call when the Comm\n",
       "    // socket was opened in Python.\n",
       "    var element = $(\"#\" + id);\n",
       "    var ws_proxy = comm_websocket_adapter(comm)\n",
       "\n",
       "    function ondownload(figure, format) {\n",
       "        window.open(figure.imageObj.src);\n",
       "    }\n",
       "\n",
       "    var fig = new mpl.figure(id, ws_proxy,\n",
       "                           ondownload,\n",
       "                           element.get(0));\n",
       "\n",
       "    // Call onopen now - mpl needs it, as it is assuming we've passed it a real\n",
       "    // web socket which is closed, not our websocket->open comm proxy.\n",
       "    ws_proxy.onopen();\n",
       "\n",
       "    fig.parent_element = element.get(0);\n",
       "    fig.cell_info = mpl.find_output_cell(\"<div id='\" + id + \"'></div>\");\n",
       "    if (!fig.cell_info) {\n",
       "        console.error(\"Failed to find cell for figure\", id, fig);\n",
       "        return;\n",
       "    }\n",
       "\n",
       "    var output_index = fig.cell_info[2]\n",
       "    var cell = fig.cell_info[0];\n",
       "\n",
       "};\n",
       "\n",
       "mpl.figure.prototype.handle_close = function(fig, msg) {\n",
       "    var width = fig.canvas.width/mpl.ratio\n",
       "    fig.root.unbind('remove')\n",
       "\n",
       "    // Update the output cell to use the data from the current canvas.\n",
       "    fig.push_to_output();\n",
       "    var dataURL = fig.canvas.toDataURL();\n",
       "    // Re-enable the keyboard manager in IPython - without this line, in FF,\n",
       "    // the notebook keyboard shortcuts fail.\n",
       "    IPython.keyboard_manager.enable()\n",
       "    $(fig.parent_element).html('<img src=\"' + dataURL + '\" width=\"' + width + '\">');\n",
       "    fig.close_ws(fig, msg);\n",
       "}\n",
       "\n",
       "mpl.figure.prototype.close_ws = function(fig, msg){\n",
       "    fig.send_message('closing', msg);\n",
       "    // fig.ws.close()\n",
       "}\n",
       "\n",
       "mpl.figure.prototype.push_to_output = function(remove_interactive) {\n",
       "    // Turn the data on the canvas into data in the output cell.\n",
       "    var width = this.canvas.width/mpl.ratio\n",
       "    var dataURL = this.canvas.toDataURL();\n",
       "    this.cell_info[1]['text/html'] = '<img src=\"' + dataURL + '\" width=\"' + width + '\">';\n",
       "}\n",
       "\n",
       "mpl.figure.prototype.updated_canvas_event = function() {\n",
       "    // Tell IPython that the notebook contents must change.\n",
       "    IPython.notebook.set_dirty(true);\n",
       "    this.send_message(\"ack\", {});\n",
       "    var fig = this;\n",
       "    // Wait a second, then push the new image to the DOM so\n",
       "    // that it is saved nicely (might be nice to debounce this).\n",
       "    setTimeout(function () { fig.push_to_output() }, 1000);\n",
       "}\n",
       "\n",
       "mpl.figure.prototype._init_toolbar = function() {\n",
       "    var fig = this;\n",
       "\n",
       "    var nav_element = $('<div/>')\n",
       "    nav_element.attr('style', 'width: 100%');\n",
       "    this.root.append(nav_element);\n",
       "\n",
       "    // Define a callback function for later on.\n",
       "    function toolbar_event(event) {\n",
       "        return fig.toolbar_button_onclick(event['data']);\n",
       "    }\n",
       "    function toolbar_mouse_event(event) {\n",
       "        return fig.toolbar_button_onmouseover(event['data']);\n",
       "    }\n",
       "\n",
       "    for(var toolbar_ind in mpl.toolbar_items){\n",
       "        var name = mpl.toolbar_items[toolbar_ind][0];\n",
       "        var tooltip = mpl.toolbar_items[toolbar_ind][1];\n",
       "        var image = mpl.toolbar_items[toolbar_ind][2];\n",
       "        var method_name = mpl.toolbar_items[toolbar_ind][3];\n",
       "\n",
       "        if (!name) { continue; };\n",
       "\n",
       "        var button = $('<button class=\"btn btn-default\" href=\"#\" title=\"' + name + '\"><i class=\"fa ' + image + ' fa-lg\"></i></button>');\n",
       "        button.click(method_name, toolbar_event);\n",
       "        button.mouseover(tooltip, toolbar_mouse_event);\n",
       "        nav_element.append(button);\n",
       "    }\n",
       "\n",
       "    // Add the status bar.\n",
       "    var status_bar = $('<span class=\"mpl-message\" style=\"text-align:right; float: right;\"/>');\n",
       "    nav_element.append(status_bar);\n",
       "    this.message = status_bar[0];\n",
       "\n",
       "    // Add the close button to the window.\n",
       "    var buttongrp = $('<div class=\"btn-group inline pull-right\"></div>');\n",
       "    var button = $('<button class=\"btn btn-mini btn-primary\" href=\"#\" title=\"Stop Interaction\"><i class=\"fa fa-power-off icon-remove icon-large\"></i></button>');\n",
       "    button.click(function (evt) { fig.handle_close(fig, {}); } );\n",
       "    button.mouseover('Stop Interaction', toolbar_mouse_event);\n",
       "    buttongrp.append(button);\n",
       "    var titlebar = this.root.find($('.ui-dialog-titlebar'));\n",
       "    titlebar.prepend(buttongrp);\n",
       "}\n",
       "\n",
       "mpl.figure.prototype._root_extra_style = function(el){\n",
       "    var fig = this\n",
       "    el.on(\"remove\", function(){\n",
       "\tfig.close_ws(fig, {});\n",
       "    });\n",
       "}\n",
       "\n",
       "mpl.figure.prototype._canvas_extra_style = function(el){\n",
       "    // this is important to make the div 'focusable\n",
       "    el.attr('tabindex', 0)\n",
       "    // reach out to IPython and tell the keyboard manager to turn it's self\n",
       "    // off when our div gets focus\n",
       "\n",
       "    // location in version 3\n",
       "    if (IPython.notebook.keyboard_manager) {\n",
       "        IPython.notebook.keyboard_manager.register_events(el);\n",
       "    }\n",
       "    else {\n",
       "        // location in version 2\n",
       "        IPython.keyboard_manager.register_events(el);\n",
       "    }\n",
       "\n",
       "}\n",
       "\n",
       "mpl.figure.prototype._key_event_extra = function(event, name) {\n",
       "    var manager = IPython.notebook.keyboard_manager;\n",
       "    if (!manager)\n",
       "        manager = IPython.keyboard_manager;\n",
       "\n",
       "    // Check for shift+enter\n",
       "    if (event.shiftKey && event.which == 13) {\n",
       "        this.canvas_div.blur();\n",
       "        event.shiftKey = false;\n",
       "        // Send a \"J\" for go to next cell\n",
       "        event.which = 74;\n",
       "        event.keyCode = 74;\n",
       "        manager.command_mode();\n",
       "        manager.handle_keydown(event);\n",
       "    }\n",
       "}\n",
       "\n",
       "mpl.figure.prototype.handle_save = function(fig, msg) {\n",
       "    fig.ondownload(fig, null);\n",
       "}\n",
       "\n",
       "\n",
       "mpl.find_output_cell = function(html_output) {\n",
       "    // Return the cell and output element which can be found *uniquely* in the notebook.\n",
       "    // Note - this is a bit hacky, but it is done because the \"notebook_saving.Notebook\"\n",
       "    // IPython event is triggered only after the cells have been serialised, which for\n",
       "    // our purposes (turning an active figure into a static one), is too late.\n",
       "    var cells = IPython.notebook.get_cells();\n",
       "    var ncells = cells.length;\n",
       "    for (var i=0; i<ncells; i++) {\n",
       "        var cell = cells[i];\n",
       "        if (cell.cell_type === 'code'){\n",
       "            for (var j=0; j<cell.output_area.outputs.length; j++) {\n",
       "                var data = cell.output_area.outputs[j];\n",
       "                if (data.data) {\n",
       "                    // IPython >= 3 moved mimebundle to data attribute of output\n",
       "                    data = data.data;\n",
       "                }\n",
       "                if (data['text/html'] == html_output) {\n",
       "                    return [cell, data, j];\n",
       "                }\n",
       "            }\n",
       "        }\n",
       "    }\n",
       "}\n",
       "\n",
       "// Register the function which deals with the matplotlib target/channel.\n",
       "// The kernel may be null if the page has been refreshed.\n",
       "if (IPython.notebook.kernel != null) {\n",
       "    IPython.notebook.kernel.comm_manager.register_target('matplotlib', mpl.mpl_figure_comm);\n",
       "}\n"
      ],
      "text/plain": [
       "<IPython.core.display.Javascript object>"
      ]
     },
     "metadata": {},
     "output_type": "display_data"
    },
    {
     "data": {
      "text/html": [
       "<img src=\"data:image/png;base64,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\" width=\"640\">"
      ],
      "text/plain": [
       "<IPython.core.display.HTML object>"
      ]
     },
     "metadata": {},
     "output_type": "display_data"
    },
    {
     "data": {
      "text/plain": [
       "(0, 150000)"
      ]
     },
     "execution_count": 404,
     "metadata": {},
     "output_type": "execute_result"
    }
   ],
   "source": [
    "count, bins, ignored = plt.hist(incomes_data, bins=30, edgecolor='black', normed=True)\n",
    "plt.title('MACSS Incomes: 2018-2020', fontsize=20)\n",
    "plt.xlabel('Income, USD')\n",
    "plt.ylabel('Proportion of Income') # Not sure why y-axis label is not showing up (?)\n",
    "plt.xlim([0, 150000]) "
   ]
  },
  {
   "cell_type": "markdown",
   "metadata": {},
   "source": [
    "### b). Estimate the parameters of the lognormal distribution by generalized method of moments. "
   ]
  },
  {
   "cell_type": "code",
   "execution_count": 405,
   "metadata": {
    "collapsed": true
   },
   "outputs": [],
   "source": [
    "# Define function that generates values of a lognormal pdf:\n",
    "def lognormal_pdf(xvals, mu, sigma):\n",
    "    \"\"\"\n",
    "    Generates a vector of values from a lognormal distribution.\n",
    "    Inputs:\n",
    "        xvals: Numpy array, vector of x-values\n",
    "        mu: Integer mean\n",
    "        sigma: Integer standard deviation\n",
    "    Returns:\n",
    "        pdf_vals: Numpy array, vector of y-values, i.e. pdf-values.\n",
    "    \"\"\"\n",
    "    pdf_vals = ( 1 / \n",
    "           (xvals * sigma * np.sqrt(2 * np.pi))) * np.exp( (- (np.log(xvals) - mu) ** 2) / (2 * (sigma ** 2)))\n",
    "    return pdf_vals"
   ]
  },
  {
   "cell_type": "markdown",
   "metadata": {},
   "source": [
    "Function to calculate $m(x)$ - Rx1 vector of moments from real data:"
   ]
  },
  {
   "cell_type": "code",
   "execution_count": 406,
   "metadata": {
    "collapsed": true
   },
   "outputs": [],
   "source": [
    "def data_moments(xvals):\n",
    "    \"\"\"\n",
    "    Takes in continuous data and returns mean and standard deviation.\n",
    "    Inputs:\n",
    "        xvals: Numpy array of data\n",
    "    Return:\n",
    "        \n",
    "    \"\"\"\n",
    "    data_mean = xvals.mean()\n",
    "    data_sd = xvals.std()\n",
    "    \n",
    "    return data_mean, data_sd"
   ]
  },
  {
   "cell_type": "markdown",
   "metadata": {},
   "source": [
    "Function to calculate $m(x|\\theta)$ - Rx1 vector of moments from the model:"
   ]
  },
  {
   "cell_type": "code",
   "execution_count": 407,
   "metadata": {},
   "outputs": [],
   "source": [
    "def model_moments(mu, sigma):\n",
    "    \"\"\"\n",
    "    Takes mean and SD values, and calculates mean and SD from using a\n",
    "    PDF intergral.\n",
    "    Inputs:\n",
    "        mu: float, mean\n",
    "        sigma: float, standard deviation\n",
    "    Returns:\n",
    "        mean_model: float, model's mean\n",
    "        \n",
    "    \"\"\"\n",
    "    # This freaks Python out, b/c of infities I think:\n",
    "    #xfx = lambda x: x * lognormal_pdf(x, mu, sigma)\n",
    "    #(model_mean, m_m_err) = intgr.quad(xfx, -np.inf, +np.inf)\n",
    "    \n",
    "    # This doesn't (Saw formula for lognormal mean on wikipedia):\n",
    "    model_mean = np.exp(mu + ((sigma ** 2) / 2))\n",
    "    \n",
    "    #x2fx = lambda x: ((x - model_mean) ** 2) * lognormal_pdf(x, mu, sigma)\n",
    "    #(model_var, v_m_err) = intgr.quad(x2fx, 0, +np.inf)\n",
    "    \n",
    "    # Likewise, let's try formula for SD, instead of intergral:\n",
    "    model_var = (np.exp(sigma ** 2) - 1) * (np.exp(2 * mu + sigma ** 2))\n",
    "    model_sd = np.sqrt(model_var)\n",
    "    \n",
    "    return model_mean, model_sd"
   ]
  },
  {
   "cell_type": "markdown",
   "metadata": {},
   "source": [
    "Function to calculate $e(x|\\theta)$ - Rx1 vector of percent difference:\n",
    "$e(x|\\theta) = \\frac{m(x|\\theta) - m(x)}{m(x)}$:"
   ]
  },
  {
   "cell_type": "code",
   "execution_count": 408,
   "metadata": {},
   "outputs": [],
   "source": [
    "def err_vec(xvals, mu, sigma):\n",
    "    \"\"\"\n",
    "    Takes observation values, mean and sd and calculates the values of\n",
    "    the moment error function (e(x|theta))\n",
    "    Inputs:\n",
    "        xvals: Numpy array of observations\n",
    "        mu: float, mean\n",
    "        sigma: float, sd\n",
    "    Returns:\n",
    "        err_vec: Numpy array of he values of the moment error function\n",
    "        as the percent difference\n",
    "    \"\"\"\n",
    "    # m(x|theta):\n",
    "    model_mean, model_sd = model_moments(mu, sigma)\n",
    "    moments_from_model = np.array([[model_mean], [model_sd]])\n",
    "    \n",
    "    # m(x):\n",
    "    data_mean, data_sd = data_moments(xvals)\n",
    "    moments_from_data = np.array([[data_mean], [data_sd]])\n",
    "    \n",
    "    # e(x|theta):\n",
    "    err_vec = (moments_from_model - moments_from_data) / moments_from_data\n",
    "    \n",
    "    return err_vec"
   ]
  },
  {
   "cell_type": "markdown",
   "metadata": {},
   "source": [
    "Function to calculate criterion function: $e(x|\\theta)^T$ $W$ $e(x)$"
   ]
  },
  {
   "cell_type": "code",
   "execution_count": 409,
   "metadata": {},
   "outputs": [],
   "source": [
    "def criterion(params, *args):\n",
    "    \"\"\"\n",
    "    Calculate the value of the criterion function: \n",
    "    e(x|theta)^T * W * e(x|theta)\n",
    "    Inputs:\n",
    "        params: mean and sd floats\n",
    "        *args: Numpy array of observations and W weighing matrix \n",
    "        (Numpy array)\n",
    "    Outputs:\n",
    "        crit_val: float, value of the error criterion function\n",
    "    \"\"\"\n",
    "    mu, sigma = params\n",
    "    xvals, W = args\n",
    "    err = err_vec(xvals, mu, sigma)\n",
    "    crit_val = np.dot(np.dot(err.T, W), err) \n",
    "    \n",
    "    return crit_val"
   ]
  },
  {
   "cell_type": "markdown",
   "metadata": {},
   "source": [
    "### Use the average income and standard deviation of income as your two moments. Use the identity matrix as your weighting matrix $\\hat{W}$."
   ]
  },
  {
   "cell_type": "code",
   "execution_count": 410,
   "metadata": {},
   "outputs": [
    {
     "name": "stdout",
     "output_type": "stream",
     "text": [
      "mu_GMM1= 11.3318806818  sig_GMM1= 0.208696739063\n"
     ]
    }
   ],
   "source": [
    "# Guesses from HW2:\n",
    "mu_init = 11.36\n",
    "sig_init = .21\n",
    "\n",
    "params_init = np.array([mu_init, sig_init])\n",
    "W_hat = np.eye(2)\n",
    "gmm_args = (incomes_data, W_hat)\n",
    "# Bounds on Mean: -inf to inf. Bounds on SD: 0 to inf.:\n",
    "results = opt.minimize(criterion, params_init, args=(gmm_args),\n",
    "                       method='L-BFGS-B', bounds=((None, None), (1e-10, None)))\n",
    "mu_GMM1, sig_GMM1 = results.x\n",
    "print('mu_GMM1=', mu_GMM1, ' sig_GMM1=', sig_GMM1)"
   ]
  },
  {
   "cell_type": "markdown",
   "metadata": {},
   "source": [
    "### Plot your estimated lognormal PDF against the histogram from part (a)."
   ]
  },
  {
   "cell_type": "code",
   "execution_count": 411,
   "metadata": {},
   "outputs": [
    {
     "data": {
      "text/plain": [
       "<matplotlib.legend.Legend at 0x1a17638a20>"
      ]
     },
     "execution_count": 411,
     "metadata": {},
     "output_type": "execute_result"
    }
   ],
   "source": [
    "# Plot the estimated GMM PDF\n",
    "dist_pts = np.linspace(0.00000001, 150000, 500)\n",
    "plt.plot(dist_pts, lognormal_pdf(dist_pts, mu_GMM1, sig_GMM1),\n",
    "         linewidth=2, color='k', label='1: $\\mu_{GMM1}$=11.3319, $\\sigma_{GMM1}=0.2087$')\n",
    "plt.legend(loc='upper left')"
   ]
  },
  {
   "cell_type": "markdown",
   "metadata": {},
   "source": [
    "See results on the histogram earlier ^"
   ]
  },
  {
   "cell_type": "markdown",
   "metadata": {},
   "source": [
    "###  Report the value of your GMM criterion function at the estimated parameter values. "
   ]
  },
  {
   "cell_type": "code",
   "execution_count": 412,
   "metadata": {},
   "outputs": [
    {
     "name": "stdout",
     "output_type": "stream",
     "text": [
      "Value of the GMM criterion function at the estimated mu and sigma:\n",
      "[[  7.57475098e-14]]\n"
     ]
    }
   ],
   "source": [
    "params = np.array([mu_GMM1, sig_GMM1])\n",
    "W_hat = np.eye(2)\n",
    "gmm_args = (incomes_data, W_hat)\n",
    "print(\"Value of the GMM criterion function at the estimated mu and sigma:\")\n",
    "crit1 = criterion(params, incomes_data, W_hat)\n",
    "print(crit1)"
   ]
  },
  {
   "cell_type": "markdown",
   "metadata": {},
   "source": [
    "### Report and compare your two data moments against your two model moments at the estimated parameter values."
   ]
  },
  {
   "cell_type": "code",
   "execution_count": 413,
   "metadata": {},
   "outputs": [
    {
     "name": "stdout",
     "output_type": "stream",
     "text": [
      "Mean of Data = 85276.8236063 , SD of Data = 17992.542128\n",
      "Mean of Model = 85276.811169 , SD of Model = 17992.5463275\n",
      "Error vector= [ -1.45845960e-07   2.33401941e-07]\n"
     ]
    }
   ],
   "source": [
    "mean_data, sd_data = data_moments(incomes_data)\n",
    "mean_model, sd_model = model_moments(mu_GMM1, sig_GMM1)\n",
    "err1 = err_vec(incomes_data, mu_GMM1, sig_GMM1)\n",
    "print('Mean of Data =', mean_data, ', SD of Data =', sd_data)\n",
    "print('Mean of Model =', mean_model, ', SD of Model =', sd_model)\n",
    "print('Error vector=', err1.reshape(2,))"
   ]
  },
  {
   "cell_type": "markdown",
   "metadata": {},
   "source": [
    "^ Pretty darn good!"
   ]
  },
  {
   "cell_type": "markdown",
   "metadata": {},
   "source": [
    "### c). Perform the two-step GMM estimator by using your estimates from part (b) with two moments to generate an estimator for the variance covariance matrix  $\\hat{\\Omega}_{2step}$ which you then use to get the two-step estimator for the optimal weighting matrix $\\hat{W}_{2step}$."
   ]
  },
  {
   "cell_type": "markdown",
   "metadata": {},
   "source": [
    "Find $\\hat{\\Omega}_{2step}$ and $\\hat{W}_{2step}$:"
   ]
  },
  {
   "cell_type": "code",
   "execution_count": 414,
   "metadata": {},
   "outputs": [
    {
     "name": "stdout",
     "output_type": "stream",
     "text": [
      "[[  1.06355220e-16  -1.70203650e-16]\n",
      " [ -1.70203650e-16   2.72382329e-16]]\n",
      "[[  7.41450361e+14  -1.18656666e+15]\n",
      " [ -1.18656666e+15   1.89890046e+15]]\n"
     ]
    }
   ],
   "source": [
    "omega_twostep_vcv = np.dot(err1, err1.T) / incomes_data.shape[0]\n",
    "print(omega_twostep_vcv)\n",
    "W_hat2 = lin.pinv(omega_twostep_vcv)  # Use the pseudo-inverse calculated by SVD because VCV2 is ill-conditioned\n",
    "print(W_hat2)"
   ]
  },
  {
   "cell_type": "code",
   "execution_count": 415,
   "metadata": {},
   "outputs": [],
   "source": [
    "params_init = np.array([mu_GMM1, sig_GMM1])\n",
    "gmm_args = (incomes_data, W_hat2)\n",
    "# Bounds on Mean: -inf to inf. Bounds on SD: 0 to inf.:\n",
    "results = opt.minimize(criterion, params_init, args=(gmm_args),\n",
    "                       method='L-BFGS-B', bounds=((None, None), (1e-10, None)))\n",
    "mu_GMM2, sig_GMM2 = results.x"
   ]
  },
  {
   "cell_type": "markdown",
   "metadata": {},
   "source": [
    "### Report your estimates as well as the criterion function value at these estimates."
   ]
  },
  {
   "cell_type": "code",
   "execution_count": 416,
   "metadata": {},
   "outputs": [
    {
     "name": "stdout",
     "output_type": "stream",
     "text": [
      "mu_GMM2= 11.3318799055  sig_GMM2= 0.208696732361\n",
      "Value of the GMM criterion function at the two-step estimated mu and sigma:\n",
      "[[  1.18585937e-12]]\n"
     ]
    }
   ],
   "source": [
    "print('mu_GMM2=', mu_GMM2, ' sig_GMM2=', sig_GMM2)\n",
    "\n",
    "params = np.array([mu_GMM2, sig_GMM2])\n",
    "gmm_args = (incomes_data, W_hat2)\n",
    "print(\"Value of the GMM criterion function at the two-step estimated mu and sigma:\")\n",
    "crit2 = criterion(params, incomes_data, W_hat)\n",
    "print(crit2)"
   ]
  },
  {
   "cell_type": "markdown",
   "metadata": {},
   "source": [
    "### Plot your estimated lognormal PDF against the histogram from part (a) and the estimated PDF from part (b)."
   ]
  },
  {
   "cell_type": "code",
   "execution_count": 417,
   "metadata": {},
   "outputs": [
    {
     "data": {
      "text/plain": [
       "<matplotlib.legend.Legend at 0x1a176466d8>"
      ]
     },
     "execution_count": 417,
     "metadata": {},
     "output_type": "execute_result"
    }
   ],
   "source": [
    "# Plot the two-step estimated GMM PDF:\n",
    "dist_pts = np.linspace(0.00000001, 150000, 500)\n",
    "plt.plot(dist_pts, lognormal_pdf(dist_pts, mu_GMM2, sig_GMM2),\n",
    "         linewidth=2, color='r', label='1: $\\mu_{GMM2}$=11.3319, $\\sigma_{GMM2}=0.2087$')\n",
    "plt.legend(loc='upper left')"
   ]
  },
  {
   "cell_type": "markdown",
   "metadata": {},
   "source": [
    "See results on the histogram earlier ^"
   ]
  },
  {
   "cell_type": "markdown",
   "metadata": {},
   "source": [
    "### Report and compare your two data moments against your two model moments at the estimated parameter values."
   ]
  },
  {
   "cell_type": "code",
   "execution_count": 418,
   "metadata": {},
   "outputs": [
    {
     "name": "stdout",
     "output_type": "stream",
     "text": [
      "Mean of Data = 85276.8236063 , SD of Data = 17992.542128\n",
      "Mean of Model = 85276.811169 , SD of Model = 17992.5463275\n",
      "Error Vector = [ -1.45845960e-07   2.33401941e-07]\n",
      "Mean of Model (Two-Step) = 85276.7448531\n",
      "SD of Model (Two-Step) = 17992.5317451\n",
      "Error Vector (Two-Step) = [ -9.23499677e-07  -5.77068206e-07]\n"
     ]
    }
   ],
   "source": [
    "mean_data, sd_data = data_moments(incomes_data)\n",
    "\n",
    "# W=I: \n",
    "mean_model1, sd_model1 = model_moments(mu_GMM1, sig_GMM1)\n",
    "err1 = err_vec(incomes_data, mu_GMM1, sig_GMM1)\n",
    "\n",
    "# W=W2:\n",
    "mean_model2, sd_model2 = model_moments(mu_GMM2, sig_GMM2)\n",
    "err2 = err_vec(incomes_data, mu_GMM2, sig_GMM2)\n",
    "\n",
    "print('Mean of Data =', mean_data, ', SD of Data =', sd_data)\n",
    "print('Mean of Model =', mean_model1, ', SD of Model =', sd_model1)\n",
    "print('Error Vector =', err1.reshape(2,))\n",
    "print('Mean of Model (Two-Step) =', mean_model2)\n",
    "print('SD of Model (Two-Step) =', sd_model2)\n",
    "print('Error Vector (Two-Step) =', err2.reshape(2,))"
   ]
  },
  {
   "cell_type": "markdown",
   "metadata": {},
   "source": [
    "^ Pretty good, as error vectors are pretty small, but the W=I for the weighting matrix shows better results; those error vectors were even better (smalle) in the our W=I case!"
   ]
  },
  {
   "cell_type": "markdown",
   "metadata": {},
   "source": [
    "### d). Now estimate the lognormal PDF to fit the data by GMM using different moments."
   ]
  },
  {
   "cell_type": "markdown",
   "metadata": {},
   "source": [
    "### Use percent of individuals who earn less than USD75,000, percent of individuals who earn between USD75,000 and USD100,000, and percent of individuals who earn more than USD100,000 as your three moments."
   ]
  },
  {
   "cell_type": "code",
   "execution_count": 419,
   "metadata": {
    "collapsed": true
   },
   "outputs": [],
   "source": [
    "# New data moments function:\n",
    "def data_moments3(xvals):\n",
    "    \"\"\"\n",
    "    Split our data to calculate percent of individuals in each income\n",
    "    category.\n",
    "    Input:\n",
    "        xvals: Numpy array of observations\n",
    "    Return:\n",
    "        bpct_1_dat, bpct_2_dat, bpct_3_dat: \n",
    "        Tuple of float percents in each category\n",
    "    \"\"\"\n",
    "    bpct_1_dat = xvals[xvals < 75000].shape[0] / xvals.shape[0]\n",
    "    bpct_2_dat = (xvals[(xvals >=75000) & (xvals < 100000)].shape[0] /\n",
    "                  xvals.shape[0])\n",
    "    bpct_3_dat = xvals[xvals >= 100000].shape[0] / xvals.shape[0]\n",
    "\n",
    "    return bpct_1_dat, bpct_2_dat, bpct_3_dat"
   ]
  },
  {
   "cell_type": "code",
   "execution_count": 420,
   "metadata": {},
   "outputs": [],
   "source": [
    "# New model moments function:\n",
    "def model_moments3(mu, sigma):\n",
    "    \"\"\"\n",
    "    Takes mean and SD values, and calculates mean and SD from using a\n",
    "    PDF intergral.\n",
    "    Inputs:\n",
    "        mu: float, mean\n",
    "        sigma: float, standard deviation\n",
    "    Returns:\n",
    "        mean_model: float, model's mean\n",
    "        \n",
    "    \"\"\"\n",
    "    xfx = lambda x: lognormal_pdf(x, mu, sigma)\n",
    "    # This gives warnings::\n",
    "    #(bpct_1_mod, bp_1_err) = intgr.quad(xfx, 0.0000001, 75000)  # b/c 0 <= x < inf\n",
    "    #(bpct_2_mod, bp_2_err) = intgr.quad(xfx, 75000, 100000)\n",
    "    #(bpct_3_mod, bp_3_err) = intgr.quad(xfx, 100000, +np.inf)\n",
    "    \n",
    "    # Use CDF properties to avoid integration warnings:\n",
    "    bpct_1_mod = intgr.quad(xfx, 1e-10, 75000)[0]\n",
    "    bpct_2_mod = intgr.quad(xfx, 1e-10, 100000)[0] - bpct_1_mod\n",
    "    bpct_3_mod = 1 - bpct_1_mod - bpct_2_mod \n",
    "    \n",
    "    return bpct_1_mod, bpct_2_mod, bpct_3_mod"
   ]
  },
  {
   "cell_type": "code",
   "execution_count": 421,
   "metadata": {},
   "outputs": [],
   "source": [
    "# New error vector function:\n",
    "def err_vec3(xvals, mu, sigma):\n",
    "    \"\"\"\n",
    "    Computes error vector\n",
    "    \"\"\"\n",
    "    bpct_1_dat, bpct_2_dat, bpct_3_dat = data_moments3(xvals)\n",
    "    moms_data = np.array([[bpct_1_dat], [bpct_2_dat], [bpct_3_dat]])\n",
    "    bpct_1_mod, bpct_2_mod, bpct_3_mod = model_moments3(mu, sigma)\n",
    "    moms_model = np.array([[bpct_1_mod], [bpct_2_mod], [bpct_3_mod]])\n",
    "\n",
    "    err_vec = ((moms_model - moms_data) / moms_data)\n",
    "    \n",
    "    return err_vec\n"
   ]
  },
  {
   "cell_type": "code",
   "execution_count": 422,
   "metadata": {
    "collapsed": true
   },
   "outputs": [],
   "source": [
    "def criterion3(params, *args):\n",
    "    \"\"\"\n",
    "    Calculate the value of the criterion function: \n",
    "    e(x|theta)^T * W * e(x|theta)\n",
    "    Inputs:\n",
    "        params: mean and sd floats\n",
    "        *args: Numpy array of observations and W weighing matrix \n",
    "        (Numpy array)\n",
    "    Outputs:\n",
    "        crit_val: float, value of the error criterion function\n",
    "    \"\"\"\n",
    "    mu, sigma = params\n",
    "    xvals, W = args\n",
    "    err = err_vec3(xvals, mu, sigma)\n",
    "    crit_val = np.dot(np.dot(err.T, W), err)\n",
    "    \n",
    "    return crit_val"
   ]
  },
  {
   "cell_type": "markdown",
   "metadata": {},
   "source": [
    "### Use the identity matrix as your estimator for the optimal weighting matrix."
   ]
  },
  {
   "cell_type": "code",
   "execution_count": 423,
   "metadata": {},
   "outputs": [
    {
     "name": "stdout",
     "output_type": "stream",
     "text": [
      "mu_GMM1_3 = 11.3356813295  sig_GMM1_3 = 0.210598454265\n"
     ]
    }
   ],
   "source": [
    "# Guesses from HW2:\n",
    "mu_init = 11.36\n",
    "sig_init = .21\n",
    "\n",
    "params_init = np.array([mu_init, sig_init])\n",
    "W_hat = np.eye(3)\n",
    "gmm_args = (incomes_data, W_hat)\n",
    "# Bounds on Mean: -inf to inf. Bounds on SD: 0 to inf.:\n",
    "results_3 = opt.minimize(criterion3, params_init, args=(gmm_args),\n",
    "                       method='L-BFGS-B', bounds=((None, None), (1e-10, None)))\n",
    "mu_GMM1_3, sig_GMM1_3 = results_3.x\n",
    "print('mu_GMM1_3 =', mu_GMM1_3, ' sig_GMM1_3 =', sig_GMM1_3)"
   ]
  },
  {
   "cell_type": "markdown",
   "metadata": {},
   "source": [
    "### Plot your estimated lognormal PDF against the histogram from part (a)."
   ]
  },
  {
   "cell_type": "code",
   "execution_count": 424,
   "metadata": {},
   "outputs": [
    {
     "data": {
      "text/plain": [
       "<matplotlib.legend.Legend at 0x1a18560390>"
      ]
     },
     "execution_count": 424,
     "metadata": {},
     "output_type": "execute_result"
    }
   ],
   "source": [
    "# Plot the estimated 3-moment GMM PDF\n",
    "dist_pts = np.linspace(0.00000001, 150000, 500)\n",
    "plt.plot(dist_pts, lognormal_pdf(dist_pts, mu_GMM1_3, sig_GMM1_3),\n",
    "         linewidth=2, color='b', label='1: $\\mu_{GMM1_3}$=11.3357, $\\sigma_{GMM1_3}=0.2106$')\n",
    "plt.legend(loc='upper left')"
   ]
  },
  {
   "cell_type": "markdown",
   "metadata": {},
   "source": [
    "### Report the value of your GMM criterion function at the estimated parameter values. Report and compare your three data moments against your three model moments at the estimated parameter values."
   ]
  },
  {
   "cell_type": "code",
   "execution_count": 425,
   "metadata": {},
   "outputs": [
    {
     "name": "stdout",
     "output_type": "stream",
     "text": [
      "Value of the GMM criterion function at the 3-moment estimated mu and sigma:\n",
      "[[  1.05895281e-15]]\n",
      "\n",
      "Three data moments:\n",
      "(0.3, 0.5, 0.2)\n",
      "\n",
      "Three model moments at the estimated parameter values:\n",
      "(0.3000000006750251, 0.5000000054419387, 0.19999999388303624)\n"
     ]
    }
   ],
   "source": [
    "params = np.array([mu_GMM1_3, sig_GMM1_3])\n",
    "gmm_args = (incomes_data, W_hat)\n",
    "print(\"Value of the GMM criterion function at the 3-moment estimated mu and sigma:\")\n",
    "crit3 = criterion3(params, incomes_data, W_hat)\n",
    "print(crit3)\n",
    "print()\n",
    "print(\"Three data moments:\")\n",
    "print(data_moments3(incomes_data))\n",
    "print()\n",
    "print(\"Three model moments at the estimated parameter values:\")\n",
    "print(model_moments3(mu_GMM1_3, sig_GMM1_3))"
   ]
  },
  {
   "cell_type": "markdown",
   "metadata": {},
   "source": [
    "^ This is very close, pretty much spot on!"
   ]
  },
  {
   "cell_type": "markdown",
   "metadata": {},
   "source": [
    "### e). Perform the two-step GMM estimator by using your estimates from part (d) with three moments to generate an estimator for the variance covariance matrix  $\\hat{\\Omega}_{2step}$ which you then use to get the two-step estimator for the optimal weighting matrix $\\hat{W}_{2step}$."
   ]
  },
  {
   "cell_type": "code",
   "execution_count": 426,
   "metadata": {},
   "outputs": [
    {
     "name": "stdout",
     "output_type": "stream",
     "text": [
      "[[  2.53143819e-20   1.22448172e-19  -3.44092002e-19]\n",
      " [  1.22448172e-19   5.92293931e-19  -1.66440709e-18]\n",
      " [ -3.44092002e-19  -1.66440709e-18   4.67715572e-18]]\n",
      "[[  9.02971634e+14   4.36776320e+15  -1.22738655e+16]\n",
      " [  4.36776320e+15   2.11273031e+16  -5.93699026e+16]\n",
      " [ -1.22738655e+16  -5.93699026e+16   1.66835555e+17]]\n"
     ]
    }
   ],
   "source": [
    "err1_3 = err_vec3(incomes_data, mu_GMM1_3, sig_GMM1_3)\n",
    "VCV2_3 = np.dot(err1_3, err1_3.T) / incomes_data.shape[0]\n",
    "print(VCV2_3)\n",
    "W_hat2_3 = lin.pinv(VCV2_3)  # Use the pseudo-inverse calculated by SVD because VCV2 is ill-conditioned\n",
    "print(W_hat2_3)"
   ]
  },
  {
   "cell_type": "markdown",
   "metadata": {},
   "source": [
    "### Report your estimates as well as the criterion function value at these estimates."
   ]
  },
  {
   "cell_type": "code",
   "execution_count": 430,
   "metadata": {},
   "outputs": [
    {
     "name": "stdout",
     "output_type": "stream",
     "text": [
      "mu_GMM2_3 = 11.3356813295  sig_GMM2_3 = 0.210598454317\n",
      "Error vector (Two-Step) =  [  2.21042703e-09   1.06993672e-08  -3.00640582e-08]\n",
      "\n",
      "Value of the GMM criterion function at the 3-moment Two-Step estimated mu and sigma:\n",
      "[[ 193.24941236]]\n",
      "^unexpected criterion behavior. Seems to depend on the mu and sigma values after the \n",
      " where even small changes can result in drastically different criterion values.\n"
     ]
    }
   ],
   "source": [
    "params_init = np.array([mu_GMM1_3, sig_GMM1_3])\n",
    "gmm_args = (incomes_data, W_hat2_3)\n",
    "results2_3 = opt.minimize(criterion3, params_init, args=(gmm_args),\n",
    "                       method='L-BFGS-B', bounds=((None, None), (1e-10, None)))\n",
    "mu_GMM2_3, sig_GMM2_3 = results2_3.x\n",
    "print('mu_GMM2_3 =', mu_GMM2_3, ' sig_GMM2_3 =', sig_GMM2_3)\n",
    "err2_3 = err_vec3(incomes_data, mu_GMM2_3, sig_GMM2_3)\n",
    "print(\"Error vector (Two-Step) = \", err2_3.reshape(3,))\n",
    "print()\n",
    "params = np.array([mu_GMM2_3, sig_GMM2_3])\n",
    "print(\"Value of the GMM criterion function at the 3-moment Two-Step estimated mu and sigma:\")\n",
    "crit4 = criterion3(params, incomes_data, W_hat2_3)\n",
    "print(crit4)\n",
    "print(\"^unexpected criterion behavior. Seems to depend on the mu and sigma values after the \\n where even small changes can result in drastically different criterion values.\")\n"
   ]
  },
  {
   "cell_type": "markdown",
   "metadata": {},
   "source": [
    "### Plot your estimated log-normal PDF against the histogram from part (a) and the estimated PDF from part (d). Report and compare your three data moments against your three model moments at the estimated parameter values."
   ]
  },
  {
   "cell_type": "code",
   "execution_count": 428,
   "metadata": {},
   "outputs": [
    {
     "data": {
      "text/plain": [
       "<matplotlib.legend.Legend at 0x1a16cf24e0>"
      ]
     },
     "execution_count": 428,
     "metadata": {},
     "output_type": "execute_result"
    }
   ],
   "source": [
    "# Plot the estimated 3-moment GMM PDF from 2-step:\n",
    "dist_pts = np.linspace(0.00000001, 150000, 500)\n",
    "plt.plot(dist_pts, lognormal_pdf(dist_pts, mu_GMM2_3, sig_GMM2_3),\n",
    "         linewidth=2, color='b', label='1: $\\mu_{GMM2_3}$=11.3357, $\\sigma_{GMM2_3}=0.2106$')\n",
    "plt.legend(loc='upper left')"
   ]
  },
  {
   "cell_type": "markdown",
   "metadata": {},
   "source": [
    "### f). Which of the four estimations from parts (b), (c), (d), and (e) fits the data best? Justify your answer."
   ]
  },
  {
   "cell_type": "code",
   "execution_count": 431,
   "metadata": {},
   "outputs": [
    {
     "name": "stdout",
     "output_type": "stream",
     "text": [
      "Error Vector (Two moments) = [ -1.45845960e-07   2.33401941e-07]\n",
      "Error Vector (Two moments - Two-Step) = [ -9.23499677e-07  -5.77068206e-07]\n",
      "Error Vector (Three moments)=  [  2.25008364e-09   1.08838774e-08  -3.05848188e-08]\n",
      "Error Vector (Three moments - Two-Step)=  [  2.21042703e-09   1.06993672e-08  -3.00640582e-08]\n",
      "[[  7.57475098e-14]] [[  1.18585937e-12]] [[  1.05895281e-15]] [[ 193.24941236]]\n"
     ]
    }
   ],
   "source": [
    "print('Error Vector (Two moments) =', err1.reshape(2,))\n",
    "print('Error Vector (Two moments - Two-Step) =', err2.reshape(2,))\n",
    "print('Error Vector (Three moments)= ', err1_3.reshape(3,))\n",
    "print('Error Vector (Three moments - Two-Step)= ', err2_3.reshape(3,))\n",
    "\n",
    "print(crit1, crit2, crit3, crit4) "
   ]
  },
  {
   "cell_type": "markdown",
   "metadata": {},
   "source": [
    "In this case, errors are almost indistinguishibly small, which is not surprising given that the parameter estimates are really close to each other and, after some rounding, may not even be different (see histogram, where all graphs of PDFs overlap heavily). Based on criterion values, with the smallest value coming from pard (c), three moments GMM estimation with W=I weighting matrix, we may pick this third estimation. However, again, most of the values are very close to each other."
   ]
  },
  {
   "cell_type": "markdown",
   "metadata": {},
   "source": [
    "## 2."
   ]
  },
  {
   "cell_type": "code",
   "execution_count": 458,
   "metadata": {},
   "outputs": [],
   "source": [
    "sick_data = np.genfromtxt(\"sick.txt\", dtype=float, delimiter=',', names=True) \n",
    "sick_vec = sick_data[\"sick\"]\n",
    "age_vec = sick_data[\"age\"]\n",
    "children_vec = sick_data[\"children\"]\n",
    "temp_vec = sick_data[\"avgtemp_winter\"]"
   ]
  },
  {
   "cell_type": "markdown",
   "metadata": {},
   "source": [
    "$m(x)$:"
   ]
  },
  {
   "cell_type": "code",
   "execution_count": 459,
   "metadata": {},
   "outputs": [
    {
     "data": {
      "text/plain": [
       "array([ 1.67,  0.71,  1.39,  1.37,  1.45,  0.62,  1.06,  1.29,  1.05,\n",
       "        1.18,  1.21,  0.63,  0.67,  0.64,  0.86,  1.25,  0.88,  0.12,\n",
       "        1.53,  1.36,  0.73,  0.15,  0.6 ,  1.28,  0.89,  0.46,  1.03,\n",
       "        0.42,  0.6 ,  1.86,  1.1 ,  1.35,  1.11,  2.04,  0.89,  0.69,\n",
       "        1.58,  0.86,  0.81,  0.81,  1.04,  1.68,  1.36,  0.37,  1.05,\n",
       "        2.8 ,  1.03,  1.22,  1.83,  1.25,  1.02,  0.89,  1.98,  1.51,\n",
       "        1.14,  1.18,  0.79,  1.66,  1.21,  0.5 ,  1.51,  0.81,  0.64,\n",
       "        1.35,  0.2 ,  0.66,  1.04,  1.88,  0.55,  1.01,  0.81,  0.95,\n",
       "        1.27,  0.78,  0.9 ,  0.96,  0.79,  0.56,  1.81,  1.63,  0.63,\n",
       "        0.91,  0.66,  0.53,  0.96,  2.11,  0.07,  0.59,  1.15,  0.11,\n",
       "        1.06,  1.72,  0.26,  0.93,  1.61,  1.48,  0.65,  1.58,  1.16,\n",
       "        0.14,  0.96,  0.65,  0.12,  0.12,  0.86,  0.08,  1.92,  1.56,\n",
       "        1.49,  1.32,  0.13,  1.34,  0.61,  0.97,  0.65,  0.49,  1.18,\n",
       "        0.88,  0.46,  1.42,  0.56,  0.95,  1.52,  1.2 ,  1.16,  1.3 ,\n",
       "        1.22,  0.54,  1.47,  1.97,  0.51,  0.05,  1.12,  0.99,  0.91,\n",
       "        0.87,  0.7 ,  2.12,  0.5 ,  0.65,  0.8 ,  0.04,  2.11,  0.78,\n",
       "        0.23,  0.4 ,  1.19,  1.09,  2.22,  0.79,  1.66,  1.28,  1.9 ,\n",
       "        1.61,  0.93,  1.11,  0.74,  1.68,  1.72,  0.27,  0.2 ,  0.57,\n",
       "        1.54,  0.32,  0.79,  0.85,  0.79,  1.32,  1.34,  1.33,  0.91,\n",
       "        0.6 ,  1.14,  1.15,  0.73,  0.93,  0.88,  1.13,  0.69,  1.23,\n",
       "        0.38,  1.23,  1.03,  1.76,  0.9 ,  0.32,  0.63,  1.56,  1.06,\n",
       "        1.16,  0.34,  0.33,  1.98,  0.61,  1.  ,  0.53,  0.86,  1.39,\n",
       "        0.72,  1.29])"
      ]
     },
     "execution_count": 459,
     "metadata": {},
     "output_type": "execute_result"
    }
   ],
   "source": [
    "# Data moments:\n",
    "sick_vec"
   ]
  },
  {
   "cell_type": "markdown",
   "metadata": {},
   "source": [
    "$m(x|\\theta)$:"
   ]
  },
  {
   "cell_type": "code",
   "execution_count": 460,
   "metadata": {
    "collapsed": true
   },
   "outputs": [],
   "source": [
    "# Model moments:\n",
    "def model_moments(xvals, beta_0, beta_1, beta_2, beta_3):\n",
    "    \"\"\"\n",
    "    Takes observations and beta coefficients, \n",
    "    and calculates model moment function values.\n",
    "    Inputs:\n",
    "        x_vals: tuple of age, children and temp vectors\n",
    "        beta_0, beta_1, beta_2, beta_3: beta coefficient floats\n",
    "    Returns:\n",
    "        m_x_theta: vector of model moment values\n",
    "        \n",
    "    \"\"\"\n",
    "    age_vec, children_vec, temp_vec = xvals\n",
    "    m_x_theta = beta_0 + beta_1 * age_vec + beta_2 * children_vec + beta_3 * temp_vec \n",
    "    \n",
    "    return m_x_theta"
   ]
  },
  {
   "cell_type": "markdown",
   "metadata": {},
   "source": [
    "$e(x|\\theta) = m(x|\\theta) - m(x)$:"
   ]
  },
  {
   "cell_type": "code",
   "execution_count": 461,
   "metadata": {},
   "outputs": [],
   "source": [
    "def err_vec(m_x, xvals, beta_0, beta_1, beta_2, beta_3):\n",
    "    \"\"\"\n",
    "    Takes observation values, mean and sd and calculates the values of\n",
    "    the moment error function (e(x|theta))\n",
    "    Inputs:\n",
    "        m_x: array of moments from real data\n",
    "        x_vals: tuple of age, children and temp vectors\n",
    "        beta_0, beta_1, beta_2, beta_3: beta coefficient floats\n",
    "    Returns:\n",
    "        err_vec: Numpy array of the values of the moment error function\n",
    "        as the difference\n",
    "    \"\"\"\n",
    "    err_vec = m_x - model_moments(xvals, beta_0, beta_1, beta_2, beta_3)\n",
    "    return err_vec"
   ]
  },
  {
   "cell_type": "markdown",
   "metadata": {},
   "source": [
    "$e(x|\\theta)^T$ $W$ $e(x)$:"
   ]
  },
  {
   "cell_type": "code",
   "execution_count": 462,
   "metadata": {
    "collapsed": true
   },
   "outputs": [],
   "source": [
    "def criterion(params, *args):\n",
    "    \"\"\"\n",
    "    Calculate the value of the criterion function: \n",
    "    e(x|theta)^T * W * e(x|theta)\n",
    "    Inputs:\n",
    "        params: beta coefficient floats\n",
    "        *args: vector of moments from real data; \n",
    "        tuple of age, children and temp vectors; W weighing matrix \n",
    "        (Numpy array)\n",
    "    Returns:\n",
    "        crit_val: float, value of the error criterion function\n",
    "    \"\"\"\n",
    "    beta_0, beta_1, beta_2, beta_3 = params\n",
    "    m_x, xvals, W = args\n",
    "    err = err_vec(m_x, xvals, beta_0, beta_1, beta_2, beta_3)\n",
    "    crit_val = np.dot(np.dot(err.T, W), err) \n",
    "    \n",
    "    return crit_val"
   ]
  },
  {
   "cell_type": "markdown",
   "metadata": {},
   "source": [
    "### Report your estimates and report the value of your GMM criterion function."
   ]
  },
  {
   "cell_type": "code",
   "execution_count": 463,
   "metadata": {},
   "outputs": [
    {
     "name": "stdout",
     "output_type": "stream",
     "text": [
      "beta_0 = 0.251644863611\n",
      "beta_1 = 0.0129334709599\n",
      "beta_2 = 0.400500984781\n",
      "beta_3 = -0.00999170970792\n",
      "Value of GMM criterion function: 0.00182128980608\n"
     ]
    }
   ],
   "source": [
    "# Guesses:\n",
    "beta_0_init = 1\n",
    "beta_1_init = 0\n",
    "beta_2_init = 0\n",
    "beta_3_init = 0\n",
    "\n",
    "n = sick_data.shape[0]\n",
    "params_init = np.array([beta_0_init, beta_1_init, beta_2_init, beta_3_init])\n",
    "W_hat = np.eye(n)\n",
    "xvals = (age_vec, children_vec, temp_vec)\n",
    "gmm_args = (sick_vec, xvals, W_hat)\n",
    "\n",
    "results = opt.minimize(criterion, params_init, args=(gmm_args),\n",
    "                       method='L-BFGS-B', bounds=((None, None), (1e-10, None), (1e-10, None), (None, None)))\n",
    "\n",
    "beta_0_est = results.x[0]\n",
    "beta_1_est = results.x[1]\n",
    "beta_2_est = results.x[2]\n",
    "beta_3_est = results.x[3]\n",
    "print(\"beta_0 =\", beta_0_est)\n",
    "print(\"beta_1 =\", beta_1_est)\n",
    "print(\"beta_2 =\", beta_2_est)\n",
    "print(\"beta_3 =\", beta_3_est)\n",
    "\n",
    "params = np.array([beta_0_est, beta_1_est, beta_2_est, beta_3_est])\n",
    "crit = criterion(params, sick_vec, xvals, W_hat)\n",
    "print(\"Value of GMM criterion function:\", crit)"
   ]
  },
  {
   "cell_type": "code",
   "execution_count": null,
   "metadata": {
    "collapsed": true
   },
   "outputs": [],
   "source": []
  }
 ],
 "metadata": {
  "kernelspec": {
   "display_name": "Python 3",
   "language": "python",
   "name": "python3"
  },
  "language_info": {
   "codemirror_mode": {
    "name": "ipython",
    "version": 3
   },
   "file_extension": ".py",
   "mimetype": "text/x-python",
   "name": "python",
   "nbconvert_exporter": "python",
   "pygments_lexer": "ipython3",
   "version": "3.6.3"
  }
 },
 "nbformat": 4,
 "nbformat_minor": 2
}
