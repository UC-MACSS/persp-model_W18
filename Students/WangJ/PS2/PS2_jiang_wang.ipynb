{
 "cells": [
  {
   "cell_type": "code",
   "execution_count": 1,
   "metadata": {
    "collapsed": true
   },
   "outputs": [],
   "source": [
    "# Import packages\n",
    "import numpy as np\n",
    "import pandas as pd\n",
    "import scipy.stats as sts\n",
    "import matplotlib.pyplot as plt\n",
    "import scipy.optimize as opt\n",
    "%matplotlib inline"
   ]
  },
  {
   "cell_type": "code",
   "execution_count": 2,
   "metadata": {
    "collapsed": true
   },
   "outputs": [],
   "source": [
    "def trunc_pdf(xvals, mu, sigma, cutoff='None', lognormal=0, cdf=0):\n",
    "    if lognormal:\n",
    "        f_cdf = sts.lognorm.cdf\n",
    "        f_pdf = sts.lognorm.pdf\n",
    "        s = sigma\n",
    "        scale = np.exp(mu)\n",
    "        if cutoff == 'None':\n",
    "            prob_notcut = 1.0 - f_cdf(0, s=s, scale=scale)\n",
    "        else:\n",
    "            prob_notcut = (f_cdf(cutoff, s=s, scale=scale) - \n",
    "                       f_cdf(0, s=s, scale=scale))\n",
    "        cdf_vals = f_cdf(xvals, s=s, scale=scale)/ prob_notcut\n",
    "        pdf_vals = f_pdf(xvals, s=s, scale=scale)/ prob_notcut\n",
    "        \n",
    "    else:\n",
    "        f_cdf = sts.norm.cdf\n",
    "        f_pdf = sts.norm.pdf\n",
    "        if cutoff == 'None':\n",
    "            prob_notcut = 1.0 - f_cdf(0, mu=mu, sigma=sigma)\n",
    "        else:\n",
    "            prob_notcut = (f_cdf(cutoff, mu=mu, sigma=sigma) - \n",
    "               f_cdf(0, mu=mu, sigma=sigma))\n",
    "        cdf_vals = f_cdf(xvals, mu=mu, scale=sigma)/ prob_notcut\n",
    "        pdf_vals = f_pdf(xvals, mu=mu, scale=sigma)/ prob_notcut\n",
    "    \n",
    "    if cdf:\n",
    "        return cdf_vals\n",
    "    else:\n",
    "        return pdf_vals"
   ]
  },
  {
   "cell_type": "code",
   "execution_count": 3,
   "metadata": {
    "collapsed": true
   },
   "outputs": [],
   "source": [
    "def log_lik_trunc(xvals, mu, sigma, cutoff, lognormal=0):\n",
    "    pdf_vals = trunc_pdf(xvals, mu, sigma, cutoff, lognormal)\n",
    "    ln_pdf_vals = np.log(pdf_vals)\n",
    "    log_lik_val = ln_pdf_vals.sum()\n",
    "    \n",
    "    return log_lik_val"
   ]
  },
  {
   "cell_type": "markdown",
   "metadata": {},
   "source": [
    "## Problem 1 "
   ]
  },
  {
   "cell_type": "code",
   "execution_count": 4,
   "metadata": {
    "collapsed": true
   },
   "outputs": [],
   "source": [
    "# Load Data\n",
    "income = np.loadtxt('incomes.txt')"
   ]
  },
  {
   "cell_type": "code",
   "execution_count": 5,
   "metadata": {
    "collapsed": true
   },
   "outputs": [],
   "source": [
    "def crit1(params, *args, lognormal=1):\n",
    "    mu, sigma = params\n",
    "    xvals, cutoff = args\n",
    "    log_lik_val = log_lik_trunc(xvals, mu, sigma, cutoff, lognormal)\n",
    "    neg_log_lik_val = -1*log_lik_val\n",
    "\n",
    "    return neg_log_lik_val"
   ]
  },
  {
   "cell_type": "markdown",
   "metadata": {},
   "source": [
    "##### (a) Plot a histogram of percentages of the income.txt data with 30 bins. \n",
    "Make sure that the bins are weighted using the normed=True option. Make sure your plot has correct x-axis and y-axis labels as well as a plot title."
   ]
  },
  {
   "cell_type": "code",
   "execution_count": 6,
   "metadata": {},
   "outputs": [
    {
     "data": {
      "text/plain": [
       "(0, 150000)"
      ]
     },
     "execution_count": 6,
     "metadata": {},
     "output_type": "execute_result"
    },
    {
     "data": {
      "image/png": "[encoded data removed]",
      "text/plain": [
       "<matplotlib.figure.Figure at 0x19edf9bd5c0>"
      ]
     },
     "metadata": {},
     "output_type": "display_data"
    }
   ],
   "source": [
    "fig1 = plt.figure()\n",
    "\n",
    "count, bins, ignored = plt.hist(income, 30, edgecolor='black', normed=True)\n",
    "\n",
    "plt.title('Annual Income of MACSS graduates (2018-2020)')\n",
    "plt.xlabel(r'Annual Income (\\$)')\n",
    "plt.ylabel(r'Percent of Annual Income')\n",
    "plt.xlim([0, 150000])"
   ]
  },
  {
   "cell_type": "markdown",
   "metadata": {
    "collapsed": true
   },
   "source": [
    "##### (b) Plot the lognormal PDF $$ f(x\\mid µ = 11.0;\\  σ = 0.5),\\   0 ≤ x ≤ 150,000. $$\n",
    "What is the value of the log likelihood value for this parameterization of\n",
    "the distribution and given this data?"
   ]
  },
  {
   "cell_type": "code",
   "execution_count": 7,
   "metadata": {
    "collapsed": true
   },
   "outputs": [],
   "source": [
    "#generate initial guesses\n",
    "dist_pts = np.linspace(0, 150000, 150000)\n",
    "mu = 11.0\n",
    "sigma = 0.5"
   ]
  },
  {
   "cell_type": "code",
   "execution_count": 8,
   "metadata": {},
   "outputs": [
    {
     "data": {
      "text/plain": [
       "(0, 150000)"
      ]
     },
     "execution_count": 8,
     "metadata": {},
     "output_type": "execute_result"
    },
    {
     "data": {
      "image/png": "[encoded data removed]",
      "text/plain": [
       "<matplotlib.figure.Figure at 0x19edfc0b780>"
      ]
     },
     "metadata": {},
     "output_type": "display_data"
    }
   ],
   "source": [
    "fig2 = plt.figure()\n",
    "\n",
    "plt.plot(dist_pts, trunc_pdf(dist_pts, mu, sigma, 1500000, 1), linewidth=2, color='r', \n",
    "    label='1: $\\mu$=11,$\\sigma$=0.5')\n",
    "plt.legend(loc='upper right')\n",
    "plt.title(r'Lognormal PDF ($\\mu$=11, $\\sigma$=0.5, 0$\\leq$x$\\leq$150,000)')\n",
    "plt.xlabel(r'Annual Income (\\$)')\n",
    "plt.ylabel(r'Probability density')\n",
    "plt.xlim([0, 150000])"
   ]
  },
  {
   "cell_type": "code",
   "execution_count": 9,
   "metadata": {},
   "outputs": [
    {
     "name": "stdout",
     "output_type": "stream",
     "text": [
      "Log-likelihood (μ=11, σ=0.5): -2379.12059193\n"
     ]
    }
   ],
   "source": [
    "print(f'Log-likelihood (μ=11, σ=0.5):', log_lik_trunc(income, mu, sigma, 150000,1))"
   ]
  },
  {
   "cell_type": "markdown",
   "metadata": {},
   "source": [
    "##### (c) Estimate the parameters of the lognormal distribution by maximum likelihood and plot its PDF against the PDF from part (b) and the histogram from part (a). \n",
    "Plot the estimated PDF for 0 ≤ x ≤ 150,000. Report the\n",
    "ML estimates for µ and σ, the value of the likelihood function, and the\n",
    "variance-covariance matrix."
   ]
  },
  {
   "cell_type": "markdown",
   "metadata": {},
   "source": [
    "#### Considering a good guess is focally important to the result, we will set up a two-step sequence to generate the estimation. (First get an estimation of our initial values, then get another estimation by using our first estimation)"
   ]
  },
  {
   "cell_type": "code",
   "execution_count": 10,
   "metadata": {
    "scrolled": true
   },
   "outputs": [
    {
     "name": "stderr",
     "output_type": "stream",
     "text": [
      "D:\\Users\\Jiang\\Anaconda3\\lib\\site-packages\\ipykernel_launcher.py:12: RuntimeWarning: invalid value encountered in true_divide\n",
      "  if sys.path[0] == '':\n",
      "D:\\Users\\Jiang\\Anaconda3\\lib\\site-packages\\ipykernel_launcher.py:13: RuntimeWarning: invalid value encountered in true_divide\n",
      "  del sys.path[0]\n",
      "D:\\Users\\Jiang\\Anaconda3\\lib\\site-packages\\ipykernel_launcher.py:3: RuntimeWarning: divide by zero encountered in log\n",
      "  This is separate from the ipykernel package so we can avoid doing imports until\n"
     ]
    }
   ],
   "source": [
    "mu1 = 11\n",
    "sig1 = 0.5\n",
    "cutoff = 150000\n",
    "results1 = opt.minimize(crit1, np.array([mu1, sig1]), args=(income, cutoff), \n",
    "                       bounds = ((1e-10, None), (1e-10, None)), method = 'SLSQP')\n",
    "mu_MLE, sig_MLE = results1.x"
   ]
  },
  {
   "cell_type": "code",
   "execution_count": 11,
   "metadata": {
    "scrolled": true
   },
   "outputs": [
    {
     "name": "stderr",
     "output_type": "stream",
     "text": [
      "D:\\Users\\Jiang\\Anaconda3\\lib\\site-packages\\scipy\\optimize\\_minimize.py:430: RuntimeWarning: Method BFGS cannot handle constraints nor bounds.\n",
      "  RuntimeWarning)\n"
     ]
    }
   ],
   "source": [
    "results2 = opt.minimize(crit1, np.array([mu_MLE, sig_MLE]), args=(income, 150000), \n",
    "                       bounds = ((1e-10, None), (1e-10, None)), method = 'BFGS')\n",
    "MU_2, SIG_2 = results2.x"
   ]
  },
  {
   "cell_type": "code",
   "execution_count": 12,
   "metadata": {},
   "outputs": [
    {
     "name": "stdout",
     "output_type": "stream",
     "text": [
      "mu_MLE= 11.3616999747 \n",
      "sig_MLE= 0.2117432661\n",
      "Log-likelihood (MLE):  -2240.93433751\n"
     ]
    }
   ],
   "source": [
    "print('mu_MLE=', MU_2, '\\nsig_MLE=', SIG_2)\n",
    "print('Log-likelihood (MLE): ', log_lik_trunc(income, MU_2, SIG_2, 150000,1))"
   ]
  },
  {
   "cell_type": "code",
   "execution_count": 13,
   "metadata": {},
   "outputs": [
    {
     "name": "stdout",
     "output_type": "stream",
     "text": [
      "VCV(MLE) = \n",
      " [[  2.94107038e-04  -6.03224262e-05]\n",
      " [ -6.03224262e-05   1.53115581e-04]]\n"
     ]
    }
   ],
   "source": [
    "OffDiagNeg = np.array([[1, -1], [-1, 1]])\n",
    "vcv_mle = results2.hess_inv * OffDiagNeg\n",
    "stderr_mu_mle = np.sqrt(vcv_mle[0,0])\n",
    "stderr_sig_mle = np.sqrt(vcv_mle[1,1])\n",
    "print('VCV(MLE) = \\n', vcv_mle)"
   ]
  },
  {
   "cell_type": "code",
   "execution_count": 14,
   "metadata": {},
   "outputs": [
    {
     "data": {
      "text/plain": [
       "(0, 150000)"
      ]
     },
     "execution_count": 14,
     "metadata": {},
     "output_type": "execute_result"
    },
    {
     "data": {
      "image/png": "[encoded data removed]",
      "text/plain": [
       "<matplotlib.figure.Figure at 0x19edfea43c8>"
      ]
     },
     "metadata": {},
     "output_type": "display_data"
    }
   ],
   "source": [
    "fig3 = plt.figure()\n",
    "\n",
    "count, bins, ignored = plt.hist(income, 30, edgecolor='black', normed=True)\n",
    "plt.plot(dist_pts, trunc_pdf(dist_pts, mu, sigma, 1500000, 1), linewidth=2, color='r', \n",
    "    label='1: $\\mu$=11,$\\sigma$=0.5')\n",
    "plt.plot(dist_pts, trunc_pdf(dist_pts, mu_MLE, sig_MLE, 1500000, 1), linewidth=2, color='g', \n",
    "    label=f'2: $\\mu$={round(mu_MLE,2)},$\\sigma$={round(sig_MLE,2)}')\n",
    "plt.legend(loc='best')\n",
    "plt.title(f'Lognormal PDF (Comparison, 0$\\leq$x$\\leq$150,000)')\n",
    "plt.xlabel(r'Annual Income (\\$)')\n",
    "plt.ylabel(r'Probability density')\n",
    "plt.xlim([0, 150000])"
   ]
  },
  {
   "cell_type": "markdown",
   "metadata": {},
   "source": [
    "##### (d) Perform a likelihood ratio test to determine the probability that the data in incomes.txt came from the distribution in part (b)."
   ]
  },
  {
   "cell_type": "code",
   "execution_count": 15,
   "metadata": {},
   "outputs": [
    {
     "name": "stdout",
     "output_type": "stream",
     "text": [
      "chi-squared test (degrees of freedom = 2) p_value (h0) =  0.0\n"
     ]
    }
   ],
   "source": [
    "cutoff = 150000\n",
    "log_lik_h0 = log_lik_trunc(income, 11, 0.5, cutoff, 1)\n",
    "log_lik_mle = log_lik_trunc(income, mu_MLE, sig_MLE, cutoff, 1)\n",
    "LR_val = 2 * (log_lik_mle - log_lik_h0)\n",
    "pval_h0 = 1.0 - sts.chi2.cdf(LR_val, 2)\n",
    "print('chi-squared test (degrees of freedom = 2) p_value (h0) = ', pval_h0)"
   ]
  },
  {
   "cell_type": "markdown",
   "metadata": {},
   "source": [
    "#### Given that our model estimate 2 parameters, we get a p-value of 0.0, this means the data in income.txt unlikely came from the distribution in part (b) (h0)."
   ]
  },
  {
   "cell_type": "markdown",
   "metadata": {},
   "source": [
    "##### (e) With your estimated distribution of incomes for Chicago MACSS students from part (c), \n",
    "you now have a model for what your own income might look like when you graduate. Using that estimated model from part (c), What is the probability that you will earn more than \\$100,000? What is the probability that you will earn less than \\$75,000?"
   ]
  },
  {
   "cell_type": "code",
   "execution_count": 16,
   "metadata": {},
   "outputs": [
    {
     "name": "stdout",
     "output_type": "stream",
     "text": [
      "Probability of earning more than $100,000:  0.234278207168\n",
      "Probability of earning less than $75,000:  0.260759454836\n"
     ]
    }
   ],
   "source": [
    "print('Probability of earning more than $100,000: ', 1- trunc_pdf(100000, sigma = sig_MLE, mu= mu_MLE, cutoff=150000,lognormal=1,cdf=1))\n",
    "print('Probability of earning less than $75,000: ', trunc_pdf(75000, sigma = sig_MLE, mu= mu_MLE, cutoff=150000, lognormal=1, cdf=1))"
   ]
  },
  {
   "cell_type": "markdown",
   "metadata": {},
   "source": [
    "## Problem 2"
   ]
  },
  {
   "cell_type": "code",
   "execution_count": 17,
   "metadata": {
    "collapsed": true
   },
   "outputs": [],
   "source": [
    "#Load Data\n",
    "sick = np.loadtxt('sick.txt', skiprows=1, delimiter=',')"
   ]
  },
  {
   "cell_type": "code",
   "execution_count": 18,
   "metadata": {
    "collapsed": true
   },
   "outputs": [],
   "source": [
    "def crit2(params, *args):\n",
    "    b0, b1, b2, b3, sigma = params\n",
    "    sick, age, children, temp_winter = args\n",
    "    err = sick - b0 - b1 * age - b2 * children - b3 * temp_winter\n",
    "    pdf_vals = sts.norm.pdf(err, 0, sigma)\n",
    "    ln_pdf_vals = np.log(pdf_vals)\n",
    "    neg_log_lik_val = -1*ln_pdf_vals.sum()\n",
    "    \n",
    "    return neg_log_lik_val"
   ]
  },
  {
   "cell_type": "markdown",
   "metadata": {},
   "source": [
    "##### (a) Estimate the parameters of the model (β0; β1; β2; β3; $σ^2$) by maximum likelihood using the fact that each error term \"i is distributed normally N(0, $σ^2$).\n",
    "We can solve the regression equation for \"i which tells us that the following equation is distributed normally N(0; σ2).\n",
    "            $$sick_i − β_0 − β_1age_i − β_2children_i − β_2temp\\_winter_i ∼ N(0, σ^2)$$\n",
    "Estimate (β0; β1; β2; β3; σ2) to maximize the likelihood of seeing the data in\n",
    "sick.txt. Report your estimates, the value of the log likelihood function,\n",
    "and the estimated variance covariance matrix of the estimates."
   ]
  },
  {
   "cell_type": "code",
   "execution_count": 19,
   "metadata": {
    "collapsed": true
   },
   "outputs": [],
   "source": [
    "#Set initial values\n",
    "b0 = 0\n",
    "b1 = 0\n",
    "b2 = 0\n",
    "b3 = 0\n",
    "sig = 0.1"
   ]
  },
  {
   "cell_type": "markdown",
   "metadata": {},
   "source": [
    "#### Considering a good guess is focally important to the result, we will set up a two-step sequence to generate the estimation. (First get an estimation of our initial values, then get another estimation by using our first estimation)"
   ]
  },
  {
   "cell_type": "code",
   "execution_count": 20,
   "metadata": {
    "scrolled": true
   },
   "outputs": [
    {
     "name": "stderr",
     "output_type": "stream",
     "text": [
      "D:\\Users\\Jiang\\Anaconda3\\lib\\site-packages\\ipykernel_launcher.py:6: RuntimeWarning: divide by zero encountered in log\n",
      "  \n"
     ]
    }
   ],
   "source": [
    "params = np.array([b0, b1, b2, b3, sig])\n",
    "mle_args = (sick[:,0], sick[:,1], sick[:,2], sick[:,3])\n",
    "bnds = ((None, None), (None, None), (None, None), (None, None), (1e-10, None))\n",
    "results2_1 = opt.minimize(crit2, params, args = mle_args, bounds = bnds, method='SLSQP')\n",
    "b0_MLE1, b1_MLE1, b2_MLE1, b3_MLE1, sig_MLEA = results2_1.x"
   ]
  },
  {
   "cell_type": "code",
   "execution_count": 21,
   "metadata": {},
   "outputs": [
    {
     "name": "stderr",
     "output_type": "stream",
     "text": [
      "D:\\Users\\Jiang\\Anaconda3\\lib\\site-packages\\ipykernel_launcher.py:6: RuntimeWarning: divide by zero encountered in log\n",
      "  \n",
      "D:\\Users\\Jiang\\Anaconda3\\lib\\site-packages\\scipy\\optimize\\optimize.py:643: RuntimeWarning: invalid value encountered in double_scalars\n",
      "  grad[k] = (f(*((xk + d,) + args)) - f0) / d[k]\n"
     ]
    }
   ],
   "source": [
    "params_refined = np.array([b0_MLE1, b1_MLE1, b2_MLE1, b3_MLE1, sig_MLEA])\n",
    "bnds = ((None, None), (None, None), (None, None), (None, None), (1e-10, None))\n",
    "results2_2 = opt.minimize(crit2, params_refined, args = mle_args, bounds=bnds, method='L-BFGS-B')\n",
    "b0_MLE2, b1_MLE2, b2_MLE2, b3_MLE2, sig_MLEB = results2_2.x"
   ]
  },
  {
   "cell_type": "code",
   "execution_count": 22,
   "metadata": {
    "collapsed": true
   },
   "outputs": [],
   "source": [
    "params_final = np.array([b0_MLE2, b1_MLE2, b2_MLE2, b3_MLE2, sig_MLEB])"
   ]
  },
  {
   "cell_type": "code",
   "execution_count": 23,
   "metadata": {},
   "outputs": [
    {
     "name": "stdout",
     "output_type": "stream",
     "text": [
      "Our model yields the following parameter estimates:\n",
      "b0_MLE =  0.251646508478  \n",
      "b1_MLE =  0.0129333453579 \n",
      "b2_MLE =  0.400502100232 \n",
      "b3_MLE =  -0.00999167316645 \n",
      "sigma_MLE =  0.00301766753241\n",
      "\n",
      "Log-likelihood (MLE):  876.865044902\n",
      "VCV(MLE) = \n",
      " [[ 1. -0. -0. -0. -0.]\n",
      " [-0.  1. -0. -0. -0.]\n",
      " [-0. -0.  1. -0. -0.]\n",
      " [-0. -0. -0.  1. -0.]\n",
      " [-0. -0. -0. -0.  1.]]\n"
     ]
    }
   ],
   "source": [
    "print('Our model yields the following parameter estimates:')\n",
    "print('b0_MLE = ', b0_MLE2, ' \\nb1_MLE = ', b1_MLE2, \"\\nb2_MLE = \", b2_MLE2, \"\\nb3_MLE = \", b3_MLE2, \"\\nsigma_MLE = \", sig_MLEB)\n",
    "print('\\nLog-likelihood (MLE): ', -crit2(params_final, *mle_args))\n",
    "vcv_mle = results2_2.hess_inv.todense()\n",
    "OffDiagNeg = -np.ones(vcv_mle.shape) + np.eye(vcv_mle.shape[0])*2\n",
    "VCV = vcv_mle * OffDiagNeg\n",
    "print('VCV(MLE) = \\n', VCV)"
   ]
  },
  {
   "cell_type": "markdown",
   "metadata": {},
   "source": [
    "##### (b) Use a likelihood ratio test to determine the probability that $$β_0 = 1.0,σ^2 = 0.01 \\ and\\  β_1, β_2, β_3 = 0.$$\n",
    "That is, what is the likelihood that age,\n",
    "number of children, and average winter temperature have no effect on the\n",
    "number of sick days?"
   ]
  },
  {
   "cell_type": "code",
   "execution_count": 24,
   "metadata": {},
   "outputs": [
    {
     "name": "stdout",
     "output_type": "stream",
     "text": [
      "chi-squared test (degrees of freedom = 5) p_value (h0) =  0.0\n"
     ]
    }
   ],
   "source": [
    "params_h0 = np.array((1,0,0,0,0.1))\n",
    "log_lik_h0 = -crit2(params_h0, *mle_args)\n",
    "log_lik_mle = -crit2(params_final, *mle_args)\n",
    "pval_h0 = 1.0 - sts.chi2.cdf(2 * (log_lik_mle - log_lik_h0), 5)\n",
    "print('chi-squared test (degrees of freedom = 5) p_value (h0) = ', pval_h0)"
   ]
  },
  {
   "cell_type": "markdown",
   "metadata": {},
   "source": [
    "#### Given that our model estimate 5 parameters, we get a p-value of 0.0, this means that there is a very low likelihood that age, number of children, and average winter temperature have no effect on the number of sick days, and we should reject h0."
   ]
  }
 ],
 "metadata": {
  "kernelspec": {
   "display_name": "Python 3",
   "language": "python",
   "name": "python3"
  },
  "language_info": {
   "codemirror_mode": {
    "name": "ipython",
    "version": 3
   },
   "file_extension": ".py",
   "mimetype": "text/x-python",
   "name": "python",
   "nbconvert_exporter": "python",
   "pygments_lexer": "ipython3",
   "version": "3.6.3"
  }
 },
 "nbformat": 4,
 "nbformat_minor": 2
}
