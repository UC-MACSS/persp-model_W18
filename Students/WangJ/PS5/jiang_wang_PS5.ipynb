{
 "cells": [
  {
   "cell_type": "markdown",
   "metadata": {},
   "source": [
    "## PS5 "
   ]
  },
  {
   "cell_type": "markdown",
   "metadata": {},
   "source": [
    "#### MACS 30100\n",
    "Author: Jiang Wang"
   ]
  },
  {
   "cell_type": "code",
   "execution_count": 1,
   "metadata": {},
   "outputs": [
    {
     "name": "stderr",
     "output_type": "stream",
     "text": [
      "C:\\Users\\jiangwang-admin\\AppData\\Local\\Continuum\\anaconda3\\lib\\site-packages\\sklearn\\cross_validation.py:41: DeprecationWarning: This module was deprecated in version 0.18 in favor of the model_selection module into which all the refactored classes and functions are moved. Also note that the interface of the new CV iterators are different from that of this module. This module will be removed in 0.20.\n",
      "  \"This module will be removed in 0.20.\", DeprecationWarning)\n",
      "C:\\Users\\jiangwang-admin\\AppData\\Local\\Continuum\\anaconda3\\lib\\site-packages\\statsmodels\\compat\\pandas.py:56: FutureWarning: The pandas.core.datetools module is deprecated and will be removed in a future version. Please use the pandas.tseries module instead.\n",
      "  from pandas.core import datetools\n"
     ]
    }
   ],
   "source": [
    "#Import the packages\n",
    "import numpy as np\n",
    "import pandas as pd\n",
    "from pandas import Series, DataFrame\n",
    "import matplotlib.pyplot as plt\n",
    "import seaborn as sb\n",
    "sb.set_style('whitegrid')\n",
    "from pylab import rcParams\n",
    "#Import Scikit-learn\n",
    "import sklearn\n",
    "from sklearn import preprocessing\n",
    "from sklearn.cross_validation import train_test_split #use to split train and test data\n",
    "from sklearn.model_selection import LeaveOneOut, KFold #import the cross validation methods\n",
    "from sklearn.linear_model import LogisticRegression\n",
    "from sklearn.metrics import classification_report, confusion_matrix, mean_squared_error\n",
    "#Import modules used in Part2\n",
    "import statsmodels.api as sm\n",
    "from scipy.interpolate import LSQUnivariateSpline\n",
    "#Graphing\n",
    "%matplotlib inline"
   ]
  },
  {
   "cell_type": "markdown",
   "metadata": {},
   "source": [
    "### Part1: Multinomial logistic regression and cross validation"
   ]
  },
  {
   "cell_type": "code",
   "execution_count": 2,
   "metadata": {},
   "outputs": [
    {
     "data": {
      "text/html": [
       "<div>\n",
       "<style>\n",
       "    .dataframe thead tr:only-child th {\n",
       "        text-align: right;\n",
       "    }\n",
       "\n",
       "    .dataframe thead th {\n",
       "        text-align: left;\n",
       "    }\n",
       "\n",
       "    .dataframe tbody tr th {\n",
       "        vertical-align: top;\n",
       "    }\n",
       "</style>\n",
       "<table border=\"1\" class=\"dataframe\">\n",
       "  <thead>\n",
       "    <tr style=\"text-align: right;\">\n",
       "      <th></th>\n",
       "      <th>cultivar</th>\n",
       "      <th>alco</th>\n",
       "      <th>malic</th>\n",
       "      <th>tot_phen</th>\n",
       "      <th>color_int</th>\n",
       "    </tr>\n",
       "  </thead>\n",
       "  <tbody>\n",
       "    <tr>\n",
       "      <th>0</th>\n",
       "      <td>1</td>\n",
       "      <td>14.23</td>\n",
       "      <td>1.71</td>\n",
       "      <td>2.80</td>\n",
       "      <td>5.64</td>\n",
       "    </tr>\n",
       "    <tr>\n",
       "      <th>1</th>\n",
       "      <td>1</td>\n",
       "      <td>13.20</td>\n",
       "      <td>1.78</td>\n",
       "      <td>2.65</td>\n",
       "      <td>4.38</td>\n",
       "    </tr>\n",
       "    <tr>\n",
       "      <th>2</th>\n",
       "      <td>1</td>\n",
       "      <td>13.16</td>\n",
       "      <td>2.36</td>\n",
       "      <td>2.80</td>\n",
       "      <td>5.68</td>\n",
       "    </tr>\n",
       "    <tr>\n",
       "      <th>3</th>\n",
       "      <td>1</td>\n",
       "      <td>14.37</td>\n",
       "      <td>1.95</td>\n",
       "      <td>3.85</td>\n",
       "      <td>7.80</td>\n",
       "    </tr>\n",
       "    <tr>\n",
       "      <th>4</th>\n",
       "      <td>1</td>\n",
       "      <td>13.24</td>\n",
       "      <td>2.59</td>\n",
       "      <td>2.80</td>\n",
       "      <td>4.32</td>\n",
       "    </tr>\n",
       "  </tbody>\n",
       "</table>\n",
       "</div>"
      ],
      "text/plain": [
       "   cultivar   alco  malic  tot_phen  color_int\n",
       "0         1  14.23   1.71      2.80       5.64\n",
       "1         1  13.20   1.78      2.65       4.38\n",
       "2         1  13.16   2.36      2.80       5.68\n",
       "3         1  14.37   1.95      3.85       7.80\n",
       "4         1  13.24   2.59      2.80       4.32"
      ]
     },
     "execution_count": 2,
     "metadata": {},
     "output_type": "execute_result"
    }
   ],
   "source": [
    "src = pd.read_csv('strongdrink.txt') #import the source\n",
    "df1 = src[['cultivar','alco','malic','tot_phen','color_int']] #slice the data for problem (a)\n",
    "df1.head()"
   ]
  },
  {
   "cell_type": "code",
   "execution_count": 3,
   "metadata": {},
   "outputs": [
    {
     "data": {
      "text/plain": [
       "cultivar     0\n",
       "alco         0\n",
       "malic        0\n",
       "tot_phen     0\n",
       "color_int    0\n",
       "dtype: int64"
      ]
     },
     "execution_count": 3,
     "metadata": {},
     "output_type": "execute_result"
    }
   ],
   "source": [
    "df1.isnull().sum()"
   ]
  },
  {
   "cell_type": "code",
   "execution_count": 4,
   "metadata": {},
   "outputs": [
    {
     "name": "stdout",
     "output_type": "stream",
     "text": [
      "<class 'pandas.core.frame.DataFrame'>\n",
      "RangeIndex: 176 entries, 0 to 175\n",
      "Data columns (total 5 columns):\n",
      "cultivar     176 non-null int64\n",
      "alco         176 non-null float64\n",
      "malic        176 non-null float64\n",
      "tot_phen     176 non-null float64\n",
      "color_int    176 non-null float64\n",
      "dtypes: float64(4), int64(1)\n",
      "memory usage: 7.0 KB\n"
     ]
    }
   ],
   "source": [
    "df1.info()"
   ]
  },
  {
   "cell_type": "markdown",
   "metadata": {},
   "source": [
    "##### (a) M-logit regression"
   ]
  },
  {
   "cell_type": "code",
   "execution_count": 5,
   "metadata": {
    "collapsed": true
   },
   "outputs": [],
   "source": [
    "#Set the variables\n",
    "X = df1[['alco','malic','tot_phen','color_int']]\n",
    "y = df1[['cultivar']]\n",
    "#split the data into train set and test set\n",
    "X_train, X_test, y_train, y_test = \\\n",
    "    train_test_split(X, y, test_size = 0.25,\n",
    "        random_state=20)\n",
    "#Multi-logit\n",
    "MultLogReg = LogisticRegression(multi_class='multinomial',\n",
    "                                solver='newton-cg')\n",
    "resultA1 = MultLogReg.fit(X_train, y_train.values.ravel())"
   ]
  },
  {
   "cell_type": "code",
   "execution_count": 6,
   "metadata": {},
   "outputs": [
    {
     "name": "stdout",
     "output_type": "stream",
     "text": [
      "The estimated coefficients for j=1:\n",
      "b0 = -24.0109894515\n",
      "b1 = 1.7004033763\n",
      "b2 = -0.265605226518\n",
      "b3 = 1.2238937289\n",
      "b4 = 0.0227563746875\n",
      "\n",
      "The estimated coefficients for j=2:\n",
      "b0 = 22.8024461982\n",
      "b1 = -1.46804431964\n",
      "b2 = -0.333053122096\n",
      "b3 = 0.664011854001\n",
      "b4 = -0.922712234869\n",
      "\n"
     ]
    }
   ],
   "source": [
    "#Report the coefficients\n",
    "for x in range(2):\n",
    "    print(f'The estimated coefficients for j={x+1}:')\n",
    "    print('b0 =', resultA1.intercept_[x])\n",
    "    for y in range(4):\n",
    "        print(f'b{y+1} =',resultA1.coef_[x][y])\n",
    "    print('')"
   ]
  },
  {
   "cell_type": "code",
   "execution_count": 7,
   "metadata": {},
   "outputs": [
    {
     "data": {
      "text/plain": [
       "array([[13,  0,  0],\n",
       "       [ 2, 19,  0],\n",
       "       [ 0,  0, 10]], dtype=int64)"
      ]
     },
     "execution_count": 7,
     "metadata": {},
     "output_type": "execute_result"
    }
   ],
   "source": [
    "y_pred = MultLogReg.predict(X_test)\n",
    "confusion_matrix = confusion_matrix(y_test, y_pred)\n",
    "confusion_matrix"
   ]
  },
  {
   "cell_type": "code",
   "execution_count": 8,
   "metadata": {
    "scrolled": true
   },
   "outputs": [
    {
     "name": "stdout",
     "output_type": "stream",
     "text": [
      "             precision    recall  f1-score   support\n",
      "\n",
      "          1       0.87      1.00      0.93        13\n",
      "          2       1.00      0.90      0.95        21\n",
      "          3       1.00      1.00      1.00        10\n",
      "\n",
      "avg / total       0.96      0.95      0.96        44\n",
      "\n",
      "The error rate of class 1 (j=1) is 0.13\n",
      "The error rate of class 2 (j=2) is 0\n",
      "The error rate of class 3 (j=3) is 0\n",
      "Set Average MSE =  0.0454545454545\n"
     ]
    }
   ],
   "source": [
    "#Print the error rate\n",
    "print(classification_report(y_test, y_pred))\n",
    "print('The error rate of class 1 (j=1) is {}'.format(1-0.87))\n",
    "print('The error rate of class 2 (j=2) is {}'.format(1-1))\n",
    "print('The error rate of class 3 (j=3) is {}'.format(1-1))\n",
    "#Get the MSE of this model, note the following two methods yield the same result\n",
    "#MSE_vs = ((y_test.values.ravel() - y_pred) ** 2).sum() / y_pred.shape[0]\n",
    "#print('Validation set MSE = ', MSE_vs)\n",
    "print('Set Average MSE = ', mean_squared_error(y_test, y_pred))"
   ]
  },
  {
   "cell_type": "code",
   "execution_count": 9,
   "metadata": {},
   "outputs": [
    {
     "data": {
      "text/plain": [
       "2    71\n",
       "1    59\n",
       "3    46\n",
       "Name: cultivar, dtype: int64"
      ]
     },
     "execution_count": 9,
     "metadata": {},
     "output_type": "execute_result"
    }
   ],
   "source": [
    "df1.cultivar.value_counts()"
   ]
  },
  {
   "cell_type": "markdown",
   "metadata": {},
   "source": [
    "1a) Answer: \n",
    "\n",
    "The model is best at predicting the category j=2 and j=3, each with an error rate of 0.0. \n",
    "\n",
    "Checking the f-score (balancing precision and recall), we can see j=3 is the most accurately predicted category, however it has the least observations in this sample (n=46). So the category the model predicts most accurately is not the one with the most observations."
   ]
  },
  {
   "cell_type": "markdown",
   "metadata": {},
   "source": [
    "##### (b) Leave-one-out cross validation (LOOCV)"
   ]
  },
  {
   "cell_type": "code",
   "execution_count": 10,
   "metadata": {
    "collapsed": true
   },
   "outputs": [],
   "source": [
    "#Leave-one-out\n",
    "Xvars = df1[['alco','malic','tot_phen','color_int']].values\n",
    "yvals = df1[['cultivar']].values\n",
    "#Adjust the shape of yvals\n",
    "yvals.shape = (yvals.shape[0],) #It seems there is some differences between shape (x,1) and (x,) when broadcasting\n",
    "N_loo = Xvars.shape[0]\n",
    "loo = LeaveOneOut()\n",
    "loo.get_n_splits(Xvars)\n",
    "MSE = pd.DataFrame({'index': np.zeros(N_loo), \n",
    "                    'error': np.zeros(N_loo), \n",
    "                    'y_pred': np.zeros(N_loo),\n",
    "                    'y_test': np.zeros(N_loo)})\n",
    "#Begin to estimate MSE\n",
    "for train_index, test_index in loo.split(Xvars):\n",
    "    X_train, X_test = Xvars[train_index], Xvars[test_index]\n",
    "    y_train, y_test = yvals[train_index], yvals[test_index]\n",
    "    LogReg = LogisticRegression(multi_class='multinomial',solver='newton-cg')\n",
    "    LogReg.fit(X_train, y_train)\n",
    "    y_pred = LogReg.predict(X_test)\n",
    "    MSE['index'][test_index] = test_index\n",
    "    MSE['error'][test_index] = (((y_test - y_pred) ** 2) != 0).astype(int)\n",
    "    MSE['y_pred'][test_index] = y_pred\n",
    "    MSE['y_test'][test_index] = y_test\n",
    "#Compute the errors\n",
    "error_1 = MSE[MSE['y_pred'] == 1]['error'].mean()\n",
    "error_2 = MSE[MSE['y_pred'] == 2]['error'].mean()\n",
    "error_3 = MSE[MSE['y_pred'] == 3]['error'].mean()\n",
    "MSE_All = MSE['error'].mean()"
   ]
  },
  {
   "cell_type": "code",
   "execution_count": 11,
   "metadata": {},
   "outputs": [
    {
     "name": "stdout",
     "output_type": "stream",
     "text": [
      "             precision    recall  f1-score   support\n",
      "\n",
      "        1.0      0.902     0.932     0.917        59\n",
      "        2.0      0.914     0.901     0.908        71\n",
      "        3.0      0.956     0.935     0.945        46\n",
      "\n",
      "avg / total      0.921     0.920     0.921       176\n",
      "\n",
      "The error rate for category j=1 is 0.098 , standard error is 0.3\n",
      "The error rate for category j=2 is 0.086 , standard error is 0.282\n",
      "The error rate for category j=3 is 0.044 , standard error is 0.208\n",
      "The average MSE (for all catogeries) is 0.08 , standard error is 0.271\n"
     ]
    }
   ],
   "source": [
    "print(classification_report(MSE['y_test'], MSE['y_pred'], digits = 3))\n",
    "print('The error rate for category j=1 is', round(error_1,3),\n",
    "      ', standard error is', round(MSE[MSE['y_pred'] == 1]['error'].std(),3))\n",
    "print('The error rate for category j=2 is', round(error_2,3), \n",
    "      ', standard error is', round(MSE[MSE['y_pred'] == 2]['error'].std(),3))\n",
    "print('The error rate for category j=3 is', round(error_3,3), \n",
    "      ', standard error is', round(MSE[MSE['y_pred'] == 3]['error'].std(),3))\n",
    "print('The average MSE (for all catogeries) is', round(MSE_All,3),\n",
    "      ', standard error is', round(MSE['error'].std(),3))"
   ]
  },
  {
   "cell_type": "markdown",
   "metadata": {},
   "source": [
    "1b) Answer: Compared to part(a), the error rate is smaller for category j=1, but bigger for categories j=2 and j=3. The average MSE is larger than that in part(a)."
   ]
  },
  {
   "cell_type": "markdown",
   "metadata": {},
   "source": [
    "##### (c) K-fold"
   ]
  },
  {
   "cell_type": "code",
   "execution_count": 12,
   "metadata": {},
   "outputs": [
    {
     "name": "stdout",
     "output_type": "stream",
     "text": [
      "k index= 0\n",
      "MSE for test set 0 is 0.1590909090909091\n",
      "k index= 1\n",
      "MSE for test set 1 is 0.11363636363636363\n",
      "k index= 2\n",
      "MSE for test set 2 is 0.045454545454545456\n",
      "k index= 3\n",
      "MSE for test set 3 is 0.045454545454545456\n"
     ]
    }
   ],
   "source": [
    "k=4\n",
    "kf = KFold(n_splits=k, random_state=10, shuffle=True)\n",
    "kf.get_n_splits(Xvars)\n",
    "k_ind = int(0)\n",
    "error_1 = np.zeros(k)\n",
    "error_2 = np.zeros(k)\n",
    "error_3 = np.zeros(k)\n",
    "error_all = np.zeros(k)\n",
    "\n",
    "for train_index, test_index in kf.split(Xvars):\n",
    "    print('k index=', k_ind)\n",
    "    X_train, X_test = Xvars[train_index], Xvars[test_index]\n",
    "    y_train, y_test = yvals[train_index], yvals[test_index]\n",
    "    LogReg = LogisticRegression(multi_class='multinomial',solver='newton-cg')\n",
    "    LogReg.fit(X_train, y_train)\n",
    "    y_pred = LogReg.predict(X_test)\n",
    "    MSE = pd.DataFrame({'error': (((y_test - y_pred) ** 2) != 0).astype(int), \n",
    "                    'y_pred': y_pred})\n",
    "    error_1[k_ind] = MSE[MSE['y_pred'] == 1]['error'].mean()\n",
    "    error_2[k_ind] = MSE[MSE['y_pred'] == 2]['error'].mean()\n",
    "    error_3[k_ind] = MSE[MSE['y_pred'] == 3]['error'].mean()\n",
    "    error_all[k_ind] = MSE['error'].mean()\n",
    "    print('MSE for test set {} is {}'.format(k_ind, MSE['error'].mean()))\n",
    "    k_ind += 1"
   ]
  },
  {
   "cell_type": "code",
   "execution_count": 13,
   "metadata": {},
   "outputs": [
    {
     "name": "stdout",
     "output_type": "stream",
     "text": [
      "1C:\n",
      "The average error rate (category j=1) is 0.11857 \n",
      "The standard error of this estimate is 0.10957\n",
      "\n",
      "The average error rate (category j=2) is 0.09375 \n",
      "The standard error of this estimate is 0.12885\n",
      "\n",
      "The average error rate (category j=3) is 0.05556 \n",
      "The standard error of this estimate is 0.09623\n",
      "\n",
      "The average MSE (for all categories) is 0.09091 \n",
      "The standard error of this estimate is 0.04821\n"
     ]
    }
   ],
   "source": [
    "print('1C:')\n",
    "print('The average error rate (category j=1) is', round(error_1.mean(),5),\n",
    "     '\\nThe standard error of this estimate is', round(error_1.std(),5))\n",
    "print('\\nThe average error rate (category j=2) is', round(error_2.mean(),5),\n",
    "     '\\nThe standard error of this estimate is', round(error_2.std(),5))\n",
    "print('\\nThe average error rate (category j=3) is', round(error_3.mean(),5),\n",
    "     '\\nThe standard error of this estimate is', round(error_3.std(),5))\n",
    "print('\\nThe average MSE (for all categories) is', round(error_all.mean(),5),\n",
    "     '\\nThe standard error of this estimate is', round(error_all.std(),5))"
   ]
  },
  {
   "cell_type": "markdown",
   "metadata": {},
   "source": [
    "1C) Answer: The error rates of K-fold is very close to those in LOOCV. \n",
    "\n",
    "The average MSE and error rate in the category j=1 in K-fold (part c) and LOOCV (part a) are lower than those in part a.\n",
    "\n",
    "The error rate in the categories j=2 and j=3 in K-fold (part c) and LOOCV (part a) are higher than those in part a."
   ]
  },
  {
   "cell_type": "markdown",
   "metadata": {},
   "source": [
    "### Part2: Splines and Interpolation"
   ]
  },
  {
   "cell_type": "code",
   "execution_count": 14,
   "metadata": {},
   "outputs": [
    {
     "data": {
      "text/html": [
       "<div>\n",
       "<style>\n",
       "    .dataframe thead tr:only-child th {\n",
       "        text-align: right;\n",
       "    }\n",
       "\n",
       "    .dataframe thead th {\n",
       "        text-align: left;\n",
       "    }\n",
       "\n",
       "    .dataframe tbody tr th {\n",
       "        vertical-align: top;\n",
       "    }\n",
       "</style>\n",
       "<table border=\"1\" class=\"dataframe\">\n",
       "  <thead>\n",
       "    <tr style=\"text-align: right;\">\n",
       "      <th></th>\n",
       "      <th>age</th>\n",
       "      <th>index</th>\n",
       "    </tr>\n",
       "  </thead>\n",
       "  <tbody>\n",
       "    <tr>\n",
       "      <th>0</th>\n",
       "      <td>11.0</td>\n",
       "      <td>10.981602</td>\n",
       "    </tr>\n",
       "    <tr>\n",
       "      <th>1</th>\n",
       "      <td>11.0</td>\n",
       "      <td>11.364925</td>\n",
       "    </tr>\n",
       "    <tr>\n",
       "      <th>2</th>\n",
       "      <td>11.0</td>\n",
       "      <td>10.190227</td>\n",
       "    </tr>\n",
       "    <tr>\n",
       "      <th>3</th>\n",
       "      <td>11.0</td>\n",
       "      <td>9.903725</td>\n",
       "    </tr>\n",
       "    <tr>\n",
       "      <th>4</th>\n",
       "      <td>11.0</td>\n",
       "      <td>8.997918</td>\n",
       "    </tr>\n",
       "  </tbody>\n",
       "</table>\n",
       "</div>"
      ],
      "text/plain": [
       "    age      index\n",
       "0  11.0  10.981602\n",
       "1  11.0  11.364925\n",
       "2  11.0  10.190227\n",
       "3  11.0   9.903725\n",
       "4  11.0   8.997918"
      ]
     },
     "execution_count": 14,
     "metadata": {},
     "output_type": "execute_result"
    }
   ],
   "source": [
    "cool = pd.read_csv('CoolIndex.txt', sep=',', header=None)\n",
    "cool.columns = ['age','index']\n",
    "cool.head()"
   ]
  },
  {
   "cell_type": "markdown",
   "metadata": {},
   "source": [
    "##### (a) scatterplot"
   ]
  },
  {
   "cell_type": "code",
   "execution_count": 15,
   "metadata": {},
   "outputs": [
    {
     "data": {
      "text/plain": [
       "Text(0,0.5,'Coolness Index Value')"
      ]
     },
     "execution_count": 15,
     "metadata": {},
     "output_type": "execute_result"
    },
    {
     "data": {
      "image/png": "[encoded data removed]",
      "text/plain": [
       "<matplotlib.figure.Figure at 0x180cb287f28>"
      ]
     },
     "metadata": {},
     "output_type": "display_data"
    }
   ],
   "source": [
    "fig1 = plt.figure(figsize = (9,6))\n",
    "plt.scatter(cool['age'], cool['index'], s = 4, c = 'grey', alpha = 0.3)\n",
    "plt.title('Scatterplot of Age(X) and Coolness Index value(Y) of American High School Students', fontsize = 15)\n",
    "plt.xlabel(r'Age (years)')\n",
    "plt.ylabel(r'Coolness Index Value')"
   ]
  },
  {
   "cell_type": "markdown",
   "metadata": {},
   "source": [
    "##### (b) Step functions"
   ]
  },
  {
   "cell_type": "code",
   "execution_count": 16,
   "metadata": {},
   "outputs": [
    {
     "data": {
      "text/html": [
       "<div>\n",
       "<style>\n",
       "    .dataframe thead tr:only-child th {\n",
       "        text-align: right;\n",
       "    }\n",
       "\n",
       "    .dataframe thead th {\n",
       "        text-align: left;\n",
       "    }\n",
       "\n",
       "    .dataframe tbody tr th {\n",
       "        vertical-align: top;\n",
       "    }\n",
       "</style>\n",
       "<table border=\"1\" class=\"dataframe\">\n",
       "  <thead>\n",
       "    <tr style=\"text-align: right;\">\n",
       "      <th></th>\n",
       "      <th>age_11_22</th>\n",
       "      <th>age_22_40</th>\n",
       "      <th>age_40_59</th>\n",
       "      <th>age_59_77</th>\n",
       "      <th>age_77_95</th>\n",
       "    </tr>\n",
       "  </thead>\n",
       "  <tbody>\n",
       "    <tr>\n",
       "      <th>count</th>\n",
       "      <td>956.000000</td>\n",
       "      <td>956.000000</td>\n",
       "      <td>956.000000</td>\n",
       "      <td>956.000000</td>\n",
       "      <td>956.000000</td>\n",
       "    </tr>\n",
       "    <tr>\n",
       "      <th>mean</th>\n",
       "      <td>0.162134</td>\n",
       "      <td>0.276151</td>\n",
       "      <td>0.285565</td>\n",
       "      <td>0.217573</td>\n",
       "      <td>0.058577</td>\n",
       "    </tr>\n",
       "    <tr>\n",
       "      <th>std</th>\n",
       "      <td>0.368767</td>\n",
       "      <td>0.447326</td>\n",
       "      <td>0.451919</td>\n",
       "      <td>0.412812</td>\n",
       "      <td>0.234955</td>\n",
       "    </tr>\n",
       "    <tr>\n",
       "      <th>min</th>\n",
       "      <td>0.000000</td>\n",
       "      <td>0.000000</td>\n",
       "      <td>0.000000</td>\n",
       "      <td>0.000000</td>\n",
       "      <td>0.000000</td>\n",
       "    </tr>\n",
       "    <tr>\n",
       "      <th>25%</th>\n",
       "      <td>0.000000</td>\n",
       "      <td>0.000000</td>\n",
       "      <td>0.000000</td>\n",
       "      <td>0.000000</td>\n",
       "      <td>0.000000</td>\n",
       "    </tr>\n",
       "    <tr>\n",
       "      <th>50%</th>\n",
       "      <td>0.000000</td>\n",
       "      <td>0.000000</td>\n",
       "      <td>0.000000</td>\n",
       "      <td>0.000000</td>\n",
       "      <td>0.000000</td>\n",
       "    </tr>\n",
       "    <tr>\n",
       "      <th>75%</th>\n",
       "      <td>0.000000</td>\n",
       "      <td>1.000000</td>\n",
       "      <td>1.000000</td>\n",
       "      <td>0.000000</td>\n",
       "      <td>0.000000</td>\n",
       "    </tr>\n",
       "    <tr>\n",
       "      <th>max</th>\n",
       "      <td>1.000000</td>\n",
       "      <td>1.000000</td>\n",
       "      <td>1.000000</td>\n",
       "      <td>1.000000</td>\n",
       "      <td>1.000000</td>\n",
       "    </tr>\n",
       "  </tbody>\n",
       "</table>\n",
       "</div>"
      ],
      "text/plain": [
       "        age_11_22   age_22_40   age_40_59   age_59_77   age_77_95\n",
       "count  956.000000  956.000000  956.000000  956.000000  956.000000\n",
       "mean     0.162134    0.276151    0.285565    0.217573    0.058577\n",
       "std      0.368767    0.447326    0.451919    0.412812    0.234955\n",
       "min      0.000000    0.000000    0.000000    0.000000    0.000000\n",
       "25%      0.000000    0.000000    0.000000    0.000000    0.000000\n",
       "50%      0.000000    0.000000    0.000000    0.000000    0.000000\n",
       "75%      0.000000    1.000000    1.000000    0.000000    0.000000\n",
       "max      1.000000    1.000000    1.000000    1.000000    1.000000"
      ]
     },
     "execution_count": 16,
     "metadata": {},
     "output_type": "execute_result"
    }
   ],
   "source": [
    "age = cool['age']\n",
    "age_bin1 = ((age >= 11) & (age < 22)).astype(int)\n",
    "age_bin2 = ((age >= 22) & (age < 40)).astype(int)\n",
    "age_bin3 = ((age >= 40) & (age < 59)).astype(int)\n",
    "age_bin4 = ((age >= 59) & (age < 77)).astype(int)\n",
    "age_bin5 = ((age >= 77) & (age <= 95)).astype(int)\n",
    "X_step = pd.DataFrame(dict(age_11_22=age_bin1, age_22_40=age_bin2,\n",
    "                           age_40_59=age_bin3, age_59_77=age_bin4,\n",
    "                           age_77_95=age_bin5))\n",
    "X_step.describe()"
   ]
  },
  {
   "cell_type": "code",
   "execution_count": 17,
   "metadata": {},
   "outputs": [
    {
     "name": "stdout",
     "output_type": "stream",
     "text": [
      "                            OLS Regression Results                            \n",
      "==============================================================================\n",
      "Dep. Variable:                  index   R-squared:                       0.429\n",
      "Model:                            OLS   Adj. R-squared:                  0.427\n",
      "Method:                 Least Squares   F-statistic:                     178.7\n",
      "Date:                Mon, 19 Feb 2018   Prob (F-statistic):          3.73e-114\n",
      "Time:                        09:00:56   Log-Likelihood:                -3214.5\n",
      "No. Observations:                 956   AIC:                             6439.\n",
      "Df Residuals:                     951   BIC:                             6463.\n",
      "Df Model:                           4                                         \n",
      "Covariance Type:            nonrobust                                         \n",
      "==============================================================================\n",
      "                 coef    std err          t      P>|t|      [0.025      0.975]\n",
      "------------------------------------------------------------------------------\n",
      "age_11_22     20.1025      0.562     35.746      0.000      18.999      21.206\n",
      "age_22_40     34.4758      0.431     80.006      0.000      33.630      35.321\n",
      "age_40_59     37.6351      0.424     88.814      0.000      36.804      38.467\n",
      "age_59_77     35.2254      0.485     72.560      0.000      34.273      36.178\n",
      "age_77_95     27.2964      0.936     29.175      0.000      25.460      29.132\n",
      "==============================================================================\n",
      "Omnibus:                       80.102   Durbin-Watson:                   1.236\n",
      "Prob(Omnibus):                  0.000   Jarque-Bera (JB):              101.718\n",
      "Skew:                           0.714   Prob(JB):                     8.17e-23\n",
      "Kurtosis:                       3.719   Cond. No.                         2.21\n",
      "==============================================================================\n",
      "\n",
      "Warnings:\n",
      "[1] Standard Errors assume that the covariance matrix of the errors is correctly specified.\n"
     ]
    }
   ],
   "source": [
    "regB1 = sm.OLS(endog=cool['index'], exog=X_step, missing='drop')\n",
    "regB1_results = regB1.fit()\n",
    "print(regB1_results.summary())"
   ]
  },
  {
   "cell_type": "code",
   "execution_count": 18,
   "metadata": {
    "collapsed": true
   },
   "outputs": [],
   "source": [
    "age_step = np.array([11, 22, 40, 59, 77, 95])\n",
    "cool_step = np.append(regB1_results.params[0], regB1_results.params)"
   ]
  },
  {
   "cell_type": "code",
   "execution_count": 19,
   "metadata": {},
   "outputs": [
    {
     "data": {
      "text/plain": [
       "Text(0,0.5,'Coolness Index Value')"
      ]
     },
     "execution_count": 19,
     "metadata": {},
     "output_type": "execute_result"
    },
    {
     "data": {
      "image/png": "[encoded data removed]",
      "text/plain": [
       "<matplotlib.figure.Figure at 0x180cb9f0208>"
      ]
     },
     "metadata": {},
     "output_type": "display_data"
    }
   ],
   "source": [
    "fig2 = plt.figure(figsize = (9,6))\n",
    "plt.scatter(cool['age'], cool['index'], s = 4, c = 'grey', alpha = 0.3)\n",
    "plt.step(age_step, cool_step, 'k-', label='Stepwise')\n",
    "plt.legend(loc='best')\n",
    "plt.title('Scatterplot of Age(X) and Coolness Index value(Y) of American High School Students', fontsize = 15)\n",
    "plt.xlabel(r'Age (years)')\n",
    "plt.ylabel(r'Coolness Index Value')"
   ]
  },
  {
   "cell_type": "code",
   "execution_count": 20,
   "metadata": {},
   "outputs": [
    {
     "name": "stdout",
     "output_type": "stream",
     "text": [
      "2B:The estimated step function values for each bin are:\n",
      "bin1 = 20.1024572521\n",
      "bin2 = 34.4757880776\n",
      "bin3 = 37.6351054924\n",
      "bin4 = 35.2254000402\n",
      "bin5 = 27.2963782443\n",
      "\n",
      "The predicted coolness index value of 73-year old is 35.2254000402\n"
     ]
    }
   ],
   "source": [
    "print('2B:The estimated step function values for each bin are:')\n",
    "[print('bin{} ='.format(x+1),regB1_results.params[x]) for x in range(5)]\n",
    "print('\\nThe predicted coolness index value of 73-year old is', regB1_results.params[3])"
   ]
  },
  {
   "cell_type": "markdown",
   "metadata": {},
   "source": [
    "##### (c) Linear Spline"
   ]
  },
  {
   "cell_type": "code",
   "execution_count": 21,
   "metadata": {
    "collapsed": true
   },
   "outputs": [],
   "source": [
    "knots = [22, 40, 59, 77]\n",
    "spl_linear = LSQUnivariateSpline(cool['age'].values, cool['index'].values, knots, k=1)\n",
    "age_vec = np.linspace(age.values.min(), age.values.max(), 1000)"
   ]
  },
  {
   "cell_type": "code",
   "execution_count": 22,
   "metadata": {},
   "outputs": [
    {
     "data": {
      "text/plain": [
       "Text(0,0.5,'Coolness Index Value')"
      ]
     },
     "execution_count": 22,
     "metadata": {},
     "output_type": "execute_result"
    },
    {
     "data": {
      "image/png": "[encoded data removed]",
      "text/plain": [
       "<matplotlib.figure.Figure at 0x180cb9dc278>"
      ]
     },
     "metadata": {},
     "output_type": "display_data"
    }
   ],
   "source": [
    "fig3 = plt.figure(figsize = (9,6))\n",
    "plt.scatter(cool['age'], cool['index'], s = 4, c = 'grey', alpha = 0.3)\n",
    "plt.step(age_step, cool_step, 'k-', label='Stepwise')\n",
    "plt.plot(age_vec, spl_linear(age_vec), 'b-', label='Spline (Linear)')\n",
    "plt.legend(loc='best')\n",
    "plt.title('Scatterplot of Age(X) and Coolness Index value(Y) of American High School Students', fontsize = 15)\n",
    "plt.xlabel(r'Age (years)')\n",
    "plt.ylabel(r'Coolness Index Value')"
   ]
  },
  {
   "cell_type": "code",
   "execution_count": 23,
   "metadata": {},
   "outputs": [
    {
     "name": "stdout",
     "output_type": "stream",
     "text": [
      "2C:The predicted coolness index value of 73-year old is 32.536832389143306\n"
     ]
    }
   ],
   "source": [
    "print('2C:The predicted coolness index value of 73-year old is', spl_linear(73))"
   ]
  },
  {
   "cell_type": "markdown",
   "metadata": {},
   "source": [
    "##### (d) Cubic Spline"
   ]
  },
  {
   "cell_type": "code",
   "execution_count": 24,
   "metadata": {
    "collapsed": true
   },
   "outputs": [],
   "source": [
    "spl_cubic = LSQUnivariateSpline(cool['age'].values, cool['index'].values, knots, k=3)"
   ]
  },
  {
   "cell_type": "code",
   "execution_count": 25,
   "metadata": {},
   "outputs": [
    {
     "data": {
      "text/plain": [
       "Text(0,0.5,'Coolness Index Value')"
      ]
     },
     "execution_count": 25,
     "metadata": {},
     "output_type": "execute_result"
    },
    {
     "data": {
      "image/png": "[encoded data removed]",
      "text/plain": [
       "<matplotlib.figure.Figure at 0x180cba671d0>"
      ]
     },
     "metadata": {},
     "output_type": "display_data"
    }
   ],
   "source": [
    "fig4 = plt.figure(figsize = (9,6))\n",
    "plt.scatter(cool['age'], cool['index'], s = 4, c = 'grey', alpha = 0.3)\n",
    "plt.step(age_step, cool_step, 'k-', label='Stepwise')\n",
    "plt.plot(age_vec, spl_linear(age_vec), 'b-', label='Spline (Linear)')\n",
    "plt.plot(age_vec, spl_cubic(age_vec), 'r-', label='Spline (Cubic)')\n",
    "plt.legend(loc='best')\n",
    "plt.title('Scatterplot of Age(X) and Coolness Index value(Y) of American High School Students', fontsize = 15)\n",
    "plt.xlabel(r'Age (years)')\n",
    "plt.ylabel(r'Coolness Index Value')"
   ]
  },
  {
   "cell_type": "code",
   "execution_count": 26,
   "metadata": {},
   "outputs": [
    {
     "name": "stdout",
     "output_type": "stream",
     "text": [
      "2D:The predicted coolness index value of 73-year old is 31.262429389257864\n"
     ]
    }
   ],
   "source": [
    "print('2D:The predicted coolness index value of 73-year old is', spl_cubic(73))"
   ]
  }
 ],
 "metadata": {
  "kernelspec": {
   "display_name": "Python 3",
   "language": "python",
   "name": "python3"
  },
  "language_info": {
   "codemirror_mode": {
    "name": "ipython",
    "version": 3
   },
   "file_extension": ".py",
   "mimetype": "text/x-python",
   "name": "python",
   "nbconvert_exporter": "python",
   "pygments_lexer": "ipython3",
   "version": "3.6.3"
  }
 },
 "nbformat": 4,
 "nbformat_minor": 2
}
