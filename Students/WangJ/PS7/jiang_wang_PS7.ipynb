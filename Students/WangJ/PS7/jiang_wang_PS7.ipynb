{
 "cells": [
  {
   "cell_type": "code",
   "execution_count": 1,
   "metadata": {},
   "outputs": [],
   "source": [
    "#Core modules\n",
    "import numpy as np\n",
    "import pandas as pd\n",
    "import matplotlib.pyplot as plt\n",
    "%matplotlib inline\n",
    "#modules used in part a\n",
    "from sklearn.model_selection import KFold\n",
    "from sklearn.linear_model import LogisticRegression\n",
    "from sklearn.metrics import classification_report, mean_squared_error #partb\n",
    "#modules used in part b\n",
    "from sklearn.ensemble import RandomForestClassifier\n",
    "#modules used in part c\n",
    "from sklearn import svm"
   ]
  },
  {
   "cell_type": "code",
   "execution_count": 2,
   "metadata": {},
   "outputs": [
    {
     "data": {
      "text/html": [
       "<div>\n",
       "<style scoped>\n",
       "    .dataframe tbody tr th:only-of-type {\n",
       "        vertical-align: middle;\n",
       "    }\n",
       "\n",
       "    .dataframe tbody tr th {\n",
       "        vertical-align: top;\n",
       "    }\n",
       "\n",
       "    .dataframe thead th {\n",
       "        text-align: right;\n",
       "    }\n",
       "</style>\n",
       "<table border=\"1\" class=\"dataframe\">\n",
       "  <thead>\n",
       "    <tr style=\"text-align: right;\">\n",
       "      <th></th>\n",
       "      <th>mpg</th>\n",
       "      <th>cylinders</th>\n",
       "      <th>displacement</th>\n",
       "      <th>horsepower</th>\n",
       "      <th>weight</th>\n",
       "      <th>acceleration</th>\n",
       "      <th>year</th>\n",
       "      <th>origin</th>\n",
       "      <th>mpg_high</th>\n",
       "    </tr>\n",
       "  </thead>\n",
       "  <tbody>\n",
       "    <tr>\n",
       "      <th>0</th>\n",
       "      <td>18.0</td>\n",
       "      <td>8</td>\n",
       "      <td>307.0</td>\n",
       "      <td>130.0</td>\n",
       "      <td>3504</td>\n",
       "      <td>12.0</td>\n",
       "      <td>70</td>\n",
       "      <td>1</td>\n",
       "      <td>0</td>\n",
       "    </tr>\n",
       "    <tr>\n",
       "      <th>1</th>\n",
       "      <td>15.0</td>\n",
       "      <td>8</td>\n",
       "      <td>350.0</td>\n",
       "      <td>165.0</td>\n",
       "      <td>3693</td>\n",
       "      <td>11.5</td>\n",
       "      <td>70</td>\n",
       "      <td>1</td>\n",
       "      <td>0</td>\n",
       "    </tr>\n",
       "    <tr>\n",
       "      <th>2</th>\n",
       "      <td>18.0</td>\n",
       "      <td>8</td>\n",
       "      <td>318.0</td>\n",
       "      <td>150.0</td>\n",
       "      <td>3436</td>\n",
       "      <td>11.0</td>\n",
       "      <td>70</td>\n",
       "      <td>1</td>\n",
       "      <td>0</td>\n",
       "    </tr>\n",
       "    <tr>\n",
       "      <th>3</th>\n",
       "      <td>16.0</td>\n",
       "      <td>8</td>\n",
       "      <td>304.0</td>\n",
       "      <td>150.0</td>\n",
       "      <td>3433</td>\n",
       "      <td>12.0</td>\n",
       "      <td>70</td>\n",
       "      <td>1</td>\n",
       "      <td>0</td>\n",
       "    </tr>\n",
       "    <tr>\n",
       "      <th>4</th>\n",
       "      <td>17.0</td>\n",
       "      <td>8</td>\n",
       "      <td>302.0</td>\n",
       "      <td>140.0</td>\n",
       "      <td>3449</td>\n",
       "      <td>10.5</td>\n",
       "      <td>70</td>\n",
       "      <td>1</td>\n",
       "      <td>0</td>\n",
       "    </tr>\n",
       "  </tbody>\n",
       "</table>\n",
       "</div>"
      ],
      "text/plain": [
       "    mpg  cylinders  displacement  horsepower  weight  acceleration  year  \\\n",
       "0  18.0          8         307.0       130.0    3504          12.0    70   \n",
       "1  15.0          8         350.0       165.0    3693          11.5    70   \n",
       "2  18.0          8         318.0       150.0    3436          11.0    70   \n",
       "3  16.0          8         304.0       150.0    3433          12.0    70   \n",
       "4  17.0          8         302.0       140.0    3449          10.5    70   \n",
       "\n",
       "   origin  mpg_high  \n",
       "0       1         0  \n",
       "1       1         0  \n",
       "2       1         0  \n",
       "3       1         0  \n",
       "4       1         0  "
      ]
     },
     "execution_count": 2,
     "metadata": {},
     "output_type": "execute_result"
    }
   ],
   "source": [
    "#read-in data\n",
    "#and drop all the nan values and the 'name' variable\n",
    "auto = pd.read_csv('Auto.csv', na_values='?').dropna().drop(['name'], axis=1) \n",
    "#create the median variable\n",
    "auto['mpg_high'] = auto['mpg'].apply(lambda x: int(x>=auto['mpg'].median()))\n",
    "auto.head()"
   ]
  },
  {
   "cell_type": "code",
   "execution_count": 3,
   "metadata": {},
   "outputs": [],
   "source": [
    "y = auto['mpg_high'].values\n",
    "X = auto[['cylinders', 'displacement', 'horsepower', 'weight',\n",
    "          'acceleration', 'year', 'origin']].values"
   ]
  },
  {
   "cell_type": "markdown",
   "metadata": {},
   "source": [
    "### (a) Logit regression with k-fold cross-validation"
   ]
  },
  {
   "cell_type": "code",
   "execution_count": 4,
   "metadata": {},
   "outputs": [],
   "source": [
    "#K-fold cross-validation\n",
    "k = 4\n",
    "kf_log = KFold(n_splits=4, shuffle=True, random_state=15)\n",
    "kf_log.get_n_splits(X)\n",
    "k_ind = 0\n",
    "a_Error0 = np.zeros(k)\n",
    "a_Error1 = np.zeros(k)\n",
    "a_MSE = np.zeros(k)"
   ]
  },
  {
   "cell_type": "code",
   "execution_count": 5,
   "metadata": {},
   "outputs": [
    {
     "name": "stdout",
     "output_type": "stream",
     "text": [
      "k index= 0\n",
      "\n",
      "              precision    recall  f1-score   support\n",
      "\n",
      "          0      0.942     0.891     0.916        55\n",
      "          1      0.870     0.930     0.899        43\n",
      "\n",
      "avg / total      0.910     0.908     0.908        98\n",
      "\n",
      "Error rate for category 0 is 0.057692307692307696\n",
      "Error rate for category 1 is 0.13043478260869565\n",
      "MSE for test set 0 is 0.09183673469387756\n",
      "\n",
      "k index= 1\n",
      "\n",
      "              precision    recall  f1-score   support\n",
      "\n",
      "          0      0.878     0.915     0.896        47\n",
      "          1      0.918     0.882     0.900        51\n",
      "\n",
      "avg / total      0.899     0.898     0.898        98\n",
      "\n",
      "Error rate for category 0 is 0.12244897959183673\n",
      "Error rate for category 1 is 0.08163265306122448\n",
      "MSE for test set 1 is 0.10204081632653061\n",
      "\n",
      "k index= 2\n",
      "\n",
      "              precision    recall  f1-score   support\n",
      "\n",
      "          0      0.848     0.867     0.857        45\n",
      "          1      0.885     0.868     0.876        53\n",
      "\n",
      "avg / total      0.868     0.867     0.867        98\n",
      "\n",
      "Error rate for category 0 is 0.15217391304347827\n",
      "Error rate for category 1 is 0.11538461538461539\n",
      "MSE for test set 2 is 0.1326530612244898\n",
      "\n",
      "k index= 3\n",
      "\n",
      "              precision    recall  f1-score   support\n",
      "\n",
      "          0      0.953     0.837     0.891        49\n",
      "          1      0.855     0.959     0.904        49\n",
      "\n",
      "avg / total      0.904     0.898     0.898        98\n",
      "\n",
      "Error rate for category 0 is 0.046511627906976744\n",
      "Error rate for category 1 is 0.14545454545454545\n",
      "MSE for test set 3 is 0.10204081632653061\n",
      "\n",
      "\n",
      "k-fold results:\n",
      "Average error rate (category 0) is 0.09470670705864986, std is 0.044059462275132855\n",
      "Average error rate (category 1) is 0.11822664912727025, std is 0.023651609698841367\n",
      "Average MSE for this model is 0.10714285714285715, std is 0.015306122448979593\n"
     ]
    }
   ],
   "source": [
    "for train_index, test_index in kf_log.split(X):\n",
    "    print('k index=', k_ind)\n",
    "    X_train, X_test = X[train_index], X[test_index]\n",
    "    y_train, y_test = y[train_index], y[test_index]\n",
    "    LogReg = LogisticRegression()\n",
    "    LogReg.fit(X_train, y_train)\n",
    "    y_pred = LogReg.predict(X_test)\n",
    "    MSE = pd.DataFrame({'error': (y_test != y_pred).astype(int), \n",
    "                    'y_pred': y_pred})\n",
    "    a_Error0[k_ind] = MSE[MSE['y_pred'] == 0]['error'].mean()\n",
    "    a_Error1[k_ind] = MSE[MSE['y_pred'] == 1]['error'].mean()\n",
    "    a_MSE[k_ind] = MSE['error'].mean()\n",
    "    print('\\n',classification_report(y_test,y_pred,digits=3))\n",
    "    print('Error rate for category 0 is {}'.format(a_Error0[k_ind]))\n",
    "    print('Error rate for category 1 is {}'.format(a_Error1[k_ind]))\n",
    "    print('MSE for test set {} is {}\\n'.format(k_ind, a_MSE[k_ind]))\n",
    "    k_ind += 1\n",
    "print('\\nk-fold results:')\n",
    "print('Average error rate (category 0) is {}, std is {}'.format(a_Error0.mean(),a_Error0.std()))\n",
    "print('Average error rate (category 1) is {}, std is {}'.format(a_Error1.mean(),a_Error1.std()))\n",
    "print('Average MSE for this model is {}, std is {}'.format(a_MSE.mean(),a_MSE.std()))"
   ]
  },
  {
   "cell_type": "markdown",
   "metadata": {},
   "source": [
    "## (b) Random Forest"
   ]
  },
  {
   "cell_type": "markdown",
   "metadata": {},
   "source": [
    "Please see the following discussion for more details of this assignment:\n",
    "\n",
    "https://github.com/UC-MACSS/persp-model_W18/issues/267"
   ]
  },
  {
   "cell_type": "code",
   "execution_count": 6,
   "metadata": {},
   "outputs": [
    {
     "name": "stdout",
     "output_type": "stream",
     "text": [
      "Error rate (category 0) is 0.05789473684210526\n",
      "Error rate (category 1) is 0.08415841584158416\n",
      "MSE of the model is 0.07142857142857142\n"
     ]
    }
   ],
   "source": [
    "RF = RandomForestClassifier(n_estimators=20, max_features=2, bootstrap=True,\n",
    "                           oob_score=True, random_state=25)\n",
    "RF.fit(X, y)\n",
    "oob_prediction_ = RF.oob_decision_function_.T[1]\n",
    "MSE_RF = pd.DataFrame({'pred' : oob_prediction_, 'yvals': y})\n",
    "MSE_RF['pred'] = MSE_RF['pred'].apply(lambda x: int(x>=0.5))\n",
    "b_MSE = mean_squared_error(MSE_RF['yvals'],MSE_RF['pred'])\n",
    "MSE_RF_0 = MSE_RF[MSE_RF['pred'] < 0.5]\n",
    "b_Error0 = mean_squared_error(MSE_RF_0['yvals'], MSE_RF_0['pred'])\n",
    "MSE_RF_1 = MSE_RF[MSE_RF['pred'] >= 0.5]\n",
    "b_Error1 = mean_squared_error(MSE_RF_1['yvals'], MSE_RF_1['pred'])\n",
    "print('Error rate (category 0) is {}'.format(b_Error0))\n",
    "print('Error rate (category 1) is {}'.format(b_Error1))\n",
    "print('MSE of the model is {}'.format(b_MSE))"
   ]
  },
  {
   "cell_type": "markdown",
   "metadata": {},
   "source": [
    "## (c) SVC"
   ]
  },
  {
   "cell_type": "markdown",
   "metadata": {},
   "source": [
    "The SVC estimate will sometimes yield such a bad estimate that there is not a single prediction pointed to one estimate. Be careful when interpreting the results."
   ]
  },
  {
   "cell_type": "code",
   "execution_count": 7,
   "metadata": {},
   "outputs": [],
   "source": [
    "#K-fold cross-validation\n",
    "k = 4\n",
    "kf_svm = KFold(n_splits=4, shuffle=True, random_state=15)\n",
    "kf_svm.get_n_splits(X)\n",
    "k_ind = 0\n",
    "c_Error0 = np.zeros(k)\n",
    "c_Error1 = np.zeros(k)\n",
    "c_MSE = np.zeros(k)"
   ]
  },
  {
   "cell_type": "code",
   "execution_count": 8,
   "metadata": {},
   "outputs": [
    {
     "name": "stdout",
     "output_type": "stream",
     "text": [
      "k index= 0\n",
      "\n",
      "              precision    recall  f1-score   support\n",
      "\n",
      "          0      1.000     0.036     0.070        55\n",
      "          1      0.448     1.000     0.619        43\n",
      "\n",
      "avg / total      0.758     0.459     0.311        98\n",
      "\n",
      "Error rate for category 0 is 0.0\n",
      "Error rate for category 1 is 0.5520833333333334\n",
      "MSE for test set 0 is 0.5408163265306123\n",
      "\n",
      "k index= 1\n",
      "\n",
      "              precision    recall  f1-score   support\n",
      "\n",
      "          0      0.480     1.000     0.648        47\n",
      "          1      0.000     0.000     0.000        51\n",
      "\n",
      "avg / total      0.230     0.480     0.311        98\n",
      "\n",
      "Error rate for category 0 is 0.5204081632653061\n",
      "Error rate for this category is nan (since all predictions are 0)\n",
      "MSE for test set 1 is 0.5204081632653061\n",
      "\n",
      "k index= 2\n",
      "\n",
      "              precision    recall  f1-score   support\n",
      "\n",
      "          0      0.469     1.000     0.638        45\n",
      "          1      1.000     0.038     0.073        53\n",
      "\n",
      "avg / total      0.756     0.480     0.332        98\n",
      "\n",
      "Error rate for category 0 is 0.53125\n",
      "Error rate for category 1 is 0.0\n",
      "MSE for test set 2 is 0.5204081632653061\n",
      "\n",
      "k index= 3\n",
      "\n",
      "              precision    recall  f1-score   support\n",
      "\n",
      "          0      0.527     1.000     0.690        49\n",
      "          1      1.000     0.102     0.185        49\n",
      "\n",
      "avg / total      0.763     0.551     0.438        98\n",
      "\n",
      "Error rate for category 0 is 0.4731182795698925\n",
      "Error rate for category 1 is 0.0\n",
      "MSE for test set 3 is 0.4489795918367347\n",
      "\n",
      "\n",
      "k-fold results:\n",
      "Average error rate (category 0) is 0.38119411070879966, std is 0.22116528050309686\n",
      "Average error rate (category 1) is 0.1840277777777778, std is 0.26025457918671546\n",
      "Average MSE for this model is 0.5076530612244898, std is 0.03488467941626875\n"
     ]
    },
    {
     "name": "stderr",
     "output_type": "stream",
     "text": [
      "C:\\Users\\Jiang\\Anaconda3\\lib\\site-packages\\sklearn\\metrics\\classification.py:1135: UndefinedMetricWarning: Precision and F-score are ill-defined and being set to 0.0 in labels with no predicted samples.\n",
      "  'precision', 'predicted', average, warn_for)\n"
     ]
    }
   ],
   "source": [
    "for train_index, test_index in kf_svm.split(X):\n",
    "    print('k index=', k_ind)\n",
    "    X_train, X_test = X[train_index], X[test_index]\n",
    "    y_train, y_test = y[train_index], y[test_index]\n",
    "    svc = svm.SVC(kernel='rbf', gamma=0.2, C=1)\n",
    "    svc.fit(X_train,y_train)\n",
    "    y_pred = svc.predict(X_test)\n",
    "    MSE = pd.DataFrame({'error': (y_test != y_pred).astype(int), \n",
    "                    'y_pred': y_pred})\n",
    "    c_Error0[k_ind] = MSE[MSE['y_pred'] == 0]['error'].mean()\n",
    "    c_Error1[k_ind] = MSE[MSE['y_pred'] == 1]['error'].mean() #warning message occurs because this line is empty\n",
    "    c_MSE[k_ind] = MSE['error'].mean()\n",
    "    print('\\n',classification_report(y_test,y_pred,digits=3))\n",
    "    print('Error rate for category 0 is {}'.format(c_Error0[k_ind]))\n",
    "    if np.isnan(c_Error1[k_ind]):\n",
    "        print('Error rate for this category is nan (since all predictions are 0)')\n",
    "    else:\n",
    "        print('Error rate for category 1 is {}'.format(c_Error1[k_ind]))\n",
    "    print('MSE for test set {} is {}\\n'.format(k_ind, c_MSE[k_ind]))\n",
    "    k_ind += 1\n",
    "c_Error0 = c_Error0[~np.isnan(c_Error0)]\n",
    "c_Error1 = c_Error1[~np.isnan(c_Error1)]\n",
    "print('\\nk-fold results:')\n",
    "print('Average error rate (category 0) is {}, std is {}'.format(c_Error0.mean(),c_Error0.std()))\n",
    "print('Average error rate (category 1) is {}, std is {}'.format(c_Error1.mean(),c_Error1.std()))\n",
    "print('Average MSE for this model is {}, std is {}'.format(c_MSE.mean(),c_MSE.std()))"
   ]
  },
  {
   "cell_type": "markdown",
   "metadata": {},
   "source": [
    "## (d) Comparison"
   ]
  },
  {
   "cell_type": "code",
   "execution_count": 9,
   "metadata": {},
   "outputs": [
    {
     "data": {
      "text/html": [
       "<div>\n",
       "<style scoped>\n",
       "    .dataframe tbody tr th:only-of-type {\n",
       "        vertical-align: middle;\n",
       "    }\n",
       "\n",
       "    .dataframe tbody tr th {\n",
       "        vertical-align: top;\n",
       "    }\n",
       "\n",
       "    .dataframe thead th {\n",
       "        text-align: right;\n",
       "    }\n",
       "</style>\n",
       "<table border=\"1\" class=\"dataframe\">\n",
       "  <thead>\n",
       "    <tr style=\"text-align: right;\">\n",
       "      <th></th>\n",
       "      <th>Logit</th>\n",
       "      <th>RF</th>\n",
       "      <th>SVC</th>\n",
       "    </tr>\n",
       "  </thead>\n",
       "  <tbody>\n",
       "    <tr>\n",
       "      <th>MSE</th>\n",
       "      <td>0.107143</td>\n",
       "      <td>0.071429</td>\n",
       "      <td>0.507653</td>\n",
       "    </tr>\n",
       "    <tr>\n",
       "      <th>Category 0</th>\n",
       "      <td>0.094707</td>\n",
       "      <td>0.057895</td>\n",
       "      <td>0.381194</td>\n",
       "    </tr>\n",
       "    <tr>\n",
       "      <th>Category 1</th>\n",
       "      <td>0.118227</td>\n",
       "      <td>0.084158</td>\n",
       "      <td>0.184028</td>\n",
       "    </tr>\n",
       "  </tbody>\n",
       "</table>\n",
       "</div>"
      ],
      "text/plain": [
       "               Logit        RF       SVC\n",
       "MSE         0.107143  0.071429  0.507653\n",
       "Category 0  0.094707  0.057895  0.381194\n",
       "Category 1  0.118227  0.084158  0.184028"
      ]
     },
     "execution_count": 9,
     "metadata": {},
     "output_type": "execute_result"
    }
   ],
   "source": [
    "pd.DataFrame({'Logit':[a_MSE.mean(),a_Error0.mean(),a_Error1.mean()], \n",
    "              'RF':[b_MSE.mean(),b_Error0.mean(),b_Error1.mean()], \n",
    "              'SVC':[c_MSE.mean(),c_Error0.mean(),c_Error1.mean()]},\n",
    "             index = ['MSE','Category 0','Category 1'])"
   ]
  },
  {
   "cell_type": "markdown",
   "metadata": {},
   "source": [
    "##### Random Forest Classifier seems to be the best model\n",
    "\n",
    "Overall, the Random Forest Classifier (RF) yields the lowest MSE and the error rates within each categories. The support vector classifiers (SVC) yields a increadibly high MSE and error rates of each categories. The result of Logit regression is reasonable but not as good as other the Random Forest Classifier."
   ]
  },
  {
   "cell_type": "markdown",
   "metadata": {},
   "source": [
    "##### But this is an unfair comparison since we are using different validation methods to calculate the MSE\n",
    "\n",
    "But one thing needs notice is that in part b) we in fact used bootstrapping to calculate the MSE, while in part a) and part c) we used k-fold validation to calculate the MSE. As we have discussed in class, bootstrapping is very likely to yield a lower MSE compare with k-fold and therefore it is unfair to argue that logit regression is de facto worse than the Random Forest Classifier."
   ]
  },
  {
   "cell_type": "markdown",
   "metadata": {},
   "source": [
    "##### Therefore random forest classifier is not necessarily bettter than the logit regression model\n",
    "\n",
    "Finally we reach our conclusion that Random Forest Classifier is likely but necessarily better than the logit regression. More analysis should be done to compare these two methods (for example, use bootstrapping to calculate the MSE of the logit model)."
   ]
  }
 ],
 "metadata": {
  "kernelspec": {
   "display_name": "Python 3",
   "language": "python",
   "name": "python3"
  },
  "language_info": {
   "codemirror_mode": {
    "name": "ipython",
    "version": 3
   },
   "file_extension": ".py",
   "mimetype": "text/x-python",
   "name": "python",
   "nbconvert_exporter": "python",
   "pygments_lexer": "ipython3",
   "version": "3.6.3"
  }
 },
 "nbformat": 4,
 "nbformat_minor": 2
}
