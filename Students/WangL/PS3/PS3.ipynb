{
 "cells": [
  {
   "cell_type": "markdown",
   "metadata": {},
   "source": [
    "### MACS 30100 \n",
    "Lerong Wang"
   ]
  },
  {
   "cell_type": "code",
   "execution_count": 718,
   "metadata": {
    "collapsed": true
   },
   "outputs": [],
   "source": [
    "# Import packages and load the data\n",
    "import numpy as np\n",
    "import numpy.linalg as lin\n",
    "import scipy.stats as sts\n",
    "import scipy.integrate as intgr\n",
    "import scipy.optimize as opt\n",
    "import matplotlib\n",
    "import matplotlib.pyplot as plt\n",
    "from mpl_toolkits.mplot3d import Axes3D\n",
    "from matplotlib import cm\n",
    "from scipy.stats import norm\n",
    "cmap1 = matplotlib.cm.get_cmap('summer')\n",
    "# This next command is specifically for Jupyter Notebook\n",
    "%matplotlib notebook\n",
    "%matplotlib inline"
   ]
  },
  {
   "cell_type": "markdown",
   "metadata": {},
   "source": [
    "### 1 Income Data"
   ]
  },
  {
   "cell_type": "markdown",
   "metadata": {},
   "source": [
    "### (a) Plot a histogram of percentages of the income.txt data with 30 bins"
   ]
  },
  {
   "cell_type": "code",
   "execution_count": 719,
   "metadata": {
    "collapsed": true
   },
   "outputs": [],
   "source": [
    "income = np.loadtxt('incomes.txt')"
   ]
  },
  {
   "cell_type": "code",
   "execution_count": 720,
   "metadata": {
    "scrolled": true
   },
   "outputs": [
    {
     "data": {
      "text/plain": [
       "Text(0,0.5,'Percent of observations')"
      ]
     },
     "execution_count": 720,
     "metadata": {},
     "output_type": "execute_result"
    },
    {
     "data": {
      "image/png": "[encoded data removed]",
      "text/plain": [
       "<matplotlib.figure.Figure at 0x1a22a6c668>"
      ]
     },
     "metadata": {},
     "output_type": "display_data"
    }
   ],
   "source": [
    "count, bins, ignored = plt.hist(income, 30, edgecolor='black', normed=True)\n",
    "plt.title('Annual income of macss graduates', fontsize=20)\n",
    "plt.xlabel('Annual income')\n",
    "plt.ylabel('Percent of observations')"
   ]
  },
  {
   "cell_type": "markdown",
   "metadata": {},
   "source": [
    "### (b) Estimate the parameters of the lognormal distribution by generalized method of moments. Plot your estimated lognormal PDF against the histogram from part (a). Report the value of your GMM criterion function at the estimated parameter values. Report and compare your two data moments against your two model moments at the estimated parameter values."
   ]
  },
  {
   "cell_type": "code",
   "execution_count": 721,
   "metadata": {
    "collapsed": true
   },
   "outputs": [],
   "source": [
    "def lognorm_pdf(xvals, mu, sigma):\n",
    "    '''\n",
    "    --------------------------------------------------------------------\n",
    "    Generate pdf values from the lognormal pdf with mean mu and\n",
    "    standard deviation sigma. If the cutoff is finite, then the PDF\n",
    "    values are inflated upward to reflect the zero probability on values\n",
    "    above the cutoff. If there is no cutoff given or if it is given as\n",
    "    infinity, this function does the same thing as\n",
    "    sp.stats.norm.pdf(x, loc=mu, scale=sigma).\n",
    "    --------------------------------------------------------------------\n",
    "    INPUTS:\n",
    "    xvals  = (N,) vector, values of the normally distributed random\n",
    "             variable\n",
    "    mu     = scalar, mean of the normally distributed random variable\n",
    "    sigma  = scalar > 0, standard deviation of the normally distributed\n",
    "             random variable\n",
    "    cutoff = scalar or string, ='None' if no cutoff is given, otherwise\n",
    "             is scalar upper bound value of distribution. Values above\n",
    "             this value have zero probability\n",
    "    \n",
    "    OTHER FUNCTIONS AND FILES CALLED BY THIS FUNCTION: None\n",
    "    \n",
    "    OBJECTS CREATED WITHIN FUNCTION:\n",
    "    prob_notcut = scalar \n",
    "    pdf_vals = (N,) vector, normal PDF values for mu and sigma\n",
    "               corresponding to xvals data\n",
    "    \n",
    "    FILES CREATED BY THIS FUNCTION: None\n",
    "    \n",
    "    RETURNS: pdf_vals\n",
    "    --------------------------------------------------------------------\n",
    "    '''\n",
    "        \n",
    "    pdf_vals    = ((1/(xvals*sigma * np.sqrt(2 * np.pi)) *\n",
    "                    np.exp( - (np.log(xvals) - mu)**2 / (2 * sigma**2))))\n",
    "    \n",
    "    return pdf_vals"
   ]
  },
  {
   "cell_type": "code",
   "execution_count": 722,
   "metadata": {},
   "outputs": [],
   "source": [
    "def data_moments(xvals):\n",
    "    '''\n",
    "    --------------------------------------------------------------------\n",
    "    This function computes the two data moments for GMM\n",
    "    (mean(data), variance(data)).\n",
    "    --------------------------------------------------------------------\n",
    "    INPUTS:\n",
    "    xvals = (N,) vector, test scores data\n",
    "    \n",
    "    OTHER FUNCTIONS AND FILES CALLED BY THIS FUNCTION: None\n",
    "    \n",
    "    OBJECTS CREATED WITHIN FUNCTION:\n",
    "    mean_data = scalar, mean value of test scores data\n",
    "    var_data  = scalar > 0, variance of test scores data\n",
    "    \n",
    "    FILES CREATED BY THIS FUNCTION: None\n",
    "    \n",
    "    RETURNS: mean_data, stf_data\n",
    "    --------------------------------------------------------------------\n",
    "    '''\n",
    "    mean_data = xvals.mean()\n",
    "    std_data = xvals.std()\n",
    "    \n",
    "    return mean_data, std_data\n",
    "\n",
    "\n",
    "def model_moments(mu, sigma):\n",
    "    '''\n",
    "    --------------------------------------------------------------------\n",
    "    This function computes the two model moments for GMM\n",
    "    (mean(model data), variance(model data)).\n",
    "    --------------------------------------------------------------------\n",
    "    INPUTS:\n",
    "    mu     = scalar, mean of the normally distributed random variable\n",
    "    sigma  = scalar > 0, standard deviation of the normally distributed\n",
    "             random variable\n",
    "    cutoff = scalar or string, ='None' if no cutoff is given, otherwise\n",
    "             is scalar upper bound value of distribution. Values above\n",
    "             this value have zero probability\n",
    "    \n",
    "    OTHER FUNCTIONS AND FILES CALLED BY THIS FUNCTION:\n",
    "        trunc_norm_pdf()\n",
    "        xfx()\n",
    "        x2fx()\n",
    "    \n",
    "    OBJECTS CREATED WITHIN FUNCTION:\n",
    "    mean_model = scalar, mean value of test scores from model\n",
    "    m_m_err    = scalar > 0, estimated error in the computation of the\n",
    "                 integral for the mean of the distribution\n",
    "    var_model  = scalar > 0, variance of test scores from model\n",
    "    v_m_err    = scalar > 0, estimated error in the computation of the\n",
    "                 integral for the variance of the distribution\n",
    "    \n",
    "    FILES CREATED BY THIS FUNCTION: None\n",
    "    \n",
    "    RETURNS: mean_model, std_model\n",
    "    --------------------------------------------------------------------\n",
    "    '''\n",
    "    mean_model = np.exp(mu + sigma ** 2/2)\n",
    "    var_model = (np.exp(sigma ** 2) - 1) * np.exp(2 * mu + sigma**2)\n",
    "    std_model = np.sqrt(var_model)\n",
    "    \n",
    "    return mean_model, std_model\n",
    "\n",
    "\n",
    "def err_vec(xvals, mu, sigma, simple):\n",
    "    '''\n",
    "    --------------------------------------------------------------------\n",
    "    This function computes the vector of moment errors (in percent\n",
    "    deviation from the data moment vector) for GMM.\n",
    "    --------------------------------------------------------------------\n",
    "    INPUTS:\n",
    "    xvals  = (N,) vector, test scores data\n",
    "    mu     = scalar, mean of the normally distributed random variable\n",
    "    sigma  = scalar > 0, standard deviation of the normally distributed\n",
    "             random variable\n",
    "    cutoff = scalar or string, ='None' if no cutoff is given, otherwise\n",
    "             is scalar upper bound value of distribution. Values above\n",
    "             this value have zero probability\n",
    "    simple = boolean, =True if errors are simple difference, =False if\n",
    "             errors are percent deviation from data moments\n",
    "    \n",
    "    OTHER FUNCTIONS AND FILES CALLED BY THIS FUNCTION:\n",
    "        data_moments()\n",
    "        model_moments()\n",
    "    \n",
    "    OBJECTS CREATED WITHIN FUNCTION:\n",
    "    mean_data  = scalar, mean value of data\n",
    "    var_data   = scalar > 0, variance of data\n",
    "    moms_data  = (2, 1) matrix, column vector of two data moments\n",
    "    mean_model = scalar, mean value from model\n",
    "    var_model  = scalar > 0, variance from model\n",
    "    moms_model = (2, 1) matrix, column vector of two model moments\n",
    "    err_vec    = (2, 1) matrix, column vector of two moment error\n",
    "                 functions\n",
    "    \n",
    "    FILES CREATED BY THIS FUNCTION: None\n",
    "    \n",
    "    RETURNS: err_vec\n",
    "    --------------------------------------------------------------------\n",
    "    '''\n",
    "    mean_data, std_data = data_moments(xvals)\n",
    "    moms_data = np.array([[mean_data], [std_data]])\n",
    "    mean_model, std_model = model_moments(mu, sigma)\n",
    "    moms_model = np.array([[mean_model], [std_model]])\n",
    "    if simple:\n",
    "        err_vec = moms_model - moms_data\n",
    "    else:\n",
    "        err_vec = (moms_model - moms_data) / moms_data\n",
    "    \n",
    "    return err_vec\n",
    "\n",
    "\n",
    "def criterion(params, *args):\n",
    "    '''\n",
    "    --------------------------------------------------------------------\n",
    "    This function computes the GMM weighted sum of squared moment errors\n",
    "    criterion function value given parameter values and an estimate of\n",
    "    the weighting matrix.\n",
    "    --------------------------------------------------------------------\n",
    "    INPUTS:\n",
    "    params = (2,) vector, ([mu, sigma])\n",
    "    mu     = scalar, mean of the normally distributed random variable\n",
    "    sigma  = scalar > 0, standard deviation of the normally distributed\n",
    "             random variable\n",
    "    args   = length 3 tuple, (xvals, cutoff, W_hat)\n",
    "    xvals  = (N,) vector, values of the truncated normally distributed\n",
    "             random variable\n",
    "    cutoff = scalar or string, ='None' if no cutoff is given, otherwise\n",
    "             is scalar upper bound value of distribution. Values above\n",
    "             this value have zero probability\n",
    "    W_hat  = (R, R) matrix, estimate of optimal weighting matrix\n",
    "    \n",
    "    OTHER FUNCTIONS AND FILES CALLED BY THIS FUNCTION:\n",
    "        norm_pdf()\n",
    "    \n",
    "    OBJECTS CREATED WITHIN FUNCTION:\n",
    "    err        = (2, 1) matrix, column vector of two moment error\n",
    "                 functions\n",
    "    crit_val   = scalar > 0, GMM criterion function value\n",
    "    \n",
    "    FILES CREATED BY THIS FUNCTION: None\n",
    "    \n",
    "    RETURNS: crit_val\n",
    "    --------------------------------------------------------------------\n",
    "    '''\n",
    "    mu, sigma = params\n",
    "    xvals, W = args\n",
    "    err = err_vec(xvals, mu, sigma, simple=False)\n",
    "    crit_val = np.dot(np.dot(err.T, W), err) \n",
    "    \n",
    "    return crit_val"
   ]
  },
  {
   "cell_type": "code",
   "execution_count": 723,
   "metadata": {
    "scrolled": true
   },
   "outputs": [
    {
     "name": "stdout",
     "output_type": "stream",
     "text": [
      "mu_GMM= 11.3318807729  sig_GMM= 0.208696666481\n",
      "The value of GMM criterion function is 6.99496827822e-15\n"
     ]
    }
   ],
   "source": [
    "mu_init, sig_init = 11, 0.5   # get the values from ps2\n",
    "params_init = np.array([mu_init, sig_init])\n",
    "W_hat = np.eye(2)\n",
    "gmm_args = (income, W_hat)\n",
    "results = opt.minimize(criterion, params_init, gmm_args, \n",
    "                       method='L-BFGS-B', bounds=((None, None), (1e-10, None)))\n",
    "mu_GMM, sig_GMM = results.x\n",
    "print('mu_GMM=', mu_GMM, ' sig_GMM=', sig_GMM)\n",
    "print(\"The value of GMM criterion function is\", results.fun[0][0])"
   ]
  },
  {
   "cell_type": "code",
   "execution_count": 724,
   "metadata": {},
   "outputs": [
    {
     "name": "stdout",
     "output_type": "stream",
     "text": [
      "Mean of data = 85276.8236063 , Standard deviation of data = 17992.542128\n",
      "Mean of model = 85276.8176502 , Standard deviation of model = 17992.5413002\n",
      "error vector is [[ -6.98440504e-08]\n",
      " [ -4.60084439e-08]]\n"
     ]
    }
   ],
   "source": [
    "mean_data, std_data = data_moments(income)\n",
    "mean_model, std_model = model_moments(mu_GMM, sig_GMM)\n",
    "err = err_vec(income, mu_GMM, sig_GMM, False)\n",
    "print('Mean of data =', mean_data, ', Standard deviation of data =', std_data)\n",
    "print('Mean of model =', mean_model, ', Standard deviation of model =', std_model)\n",
    "print('error vector is', err)"
   ]
  },
  {
   "cell_type": "markdown",
   "metadata": {},
   "source": [
    "The two data moments are quite close to the two model moments at the estimated parameter values"
   ]
  },
  {
   "cell_type": "code",
   "execution_count": 725,
   "metadata": {},
   "outputs": [
    {
     "name": "stderr",
     "output_type": "stream",
     "text": [
      "/anaconda3/lib/python3.6/site-packages/ipykernel_launcher.py:34: RuntimeWarning: divide by zero encountered in true_divide\n",
      "/anaconda3/lib/python3.6/site-packages/ipykernel_launcher.py:35: RuntimeWarning: divide by zero encountered in log\n",
      "/anaconda3/lib/python3.6/site-packages/ipykernel_launcher.py:35: RuntimeWarning: invalid value encountered in multiply\n"
     ]
    },
    {
     "data": {
      "text/plain": [
       "<matplotlib.legend.Legend at 0x1a22a46470>"
      ]
     },
     "execution_count": 725,
     "metadata": {},
     "output_type": "execute_result"
    },
    {
     "data": {
      "image/png": "[encoded data removed]",
      "text/plain": [
       "<matplotlib.figure.Figure at 0x1a22c57828>"
      ]
     },
     "metadata": {},
     "output_type": "display_data"
    }
   ],
   "source": [
    "count, bins, ignored = plt.hist(income, 30, edgecolor='black', normed=True)\n",
    "plt.title('Annual income of macss graduates', fontsize=20)\n",
    "plt.xlabel('Annual income')\n",
    "plt.ylabel('Percent of observations')\n",
    "\n",
    "# Plot the estimated GMM PDF\n",
    "dist_income = np.linspace(0, 150000, 1000)\n",
    "plt.plot(dist_pts, lognorm_pdf(dist_pts, mu_GMM, sig_GMM),\n",
    "         linewidth=2, color='k', label='1: $\\mu_{GMM1}$,$\\sigma_{GMM1}$')\n",
    "plt.legend(loc='upper left')"
   ]
  },
  {
   "cell_type": "markdown",
   "metadata": {},
   "source": [
    "### (c) Perform the two-step GMM estimator"
   ]
  },
  {
   "cell_type": "code",
   "execution_count": 726,
   "metadata": {},
   "outputs": [
    {
     "name": "stdout",
     "output_type": "stream",
     "text": [
      "Variance covariance matrix is: \n",
      " [[  2.43909569e-17   1.60670804e-17]\n",
      " [  1.60670804e-17   1.05838845e-17]]\n",
      "Optimal weighting matrix is: \n",
      " [[  1.99396408e+16   1.31348603e+16]\n",
      " [  1.31348603e+16   8.65234018e+15]]\n"
     ]
    }
   ],
   "source": [
    "err = err_vec(income, mu_GMM, sig_GMM, False)\n",
    "VCV = np.dot(err, err.T) / income.shape[0]\n",
    "print('Variance covariance matrix is: \\n', VCV)\n",
    "W_hat2 = lin.pinv(VCV)  # Use the pseudo-inverse calculated by SVD because VCV2 is ill-conditioned\n",
    "print('Optimal weighting matrix is: \\n', W_hat2 )"
   ]
  },
  {
   "cell_type": "code",
   "execution_count": 727,
   "metadata": {},
   "outputs": [
    {
     "name": "stdout",
     "output_type": "stream",
     "text": [
      "mu_GMM2= 11.3318808111  sig_GMM2= 0.208696676794\n"
     ]
    }
   ],
   "source": [
    "mu_init = mu_GMM\n",
    "sig_init = sig_GMM\n",
    "params_init = np.array([mu_init, sig_init])\n",
    "gmm_args = (income, W_hat2)\n",
    "results2 = opt.minimize(criterion, params_init, args=(gmm_args),\n",
    "                       method='L-BFGS-B', bounds=((None, None), (1e-10, None)))\n",
    "mu_GMM2, sig_GMM2 = results2.x\n",
    "print('mu_GMM2=', mu_GMM2, ' sig_GMM2=', sig_GMM2)"
   ]
  },
  {
   "cell_type": "code",
   "execution_count": 728,
   "metadata": {},
   "outputs": [
    {
     "name": "stderr",
     "output_type": "stream",
     "text": [
      "/anaconda3/lib/python3.6/site-packages/ipykernel_launcher.py:34: RuntimeWarning: divide by zero encountered in true_divide\n",
      "/anaconda3/lib/python3.6/site-packages/ipykernel_launcher.py:35: RuntimeWarning: divide by zero encountered in log\n",
      "/anaconda3/lib/python3.6/site-packages/ipykernel_launcher.py:35: RuntimeWarning: invalid value encountered in multiply\n"
     ]
    },
    {
     "data": {
      "image/png": "[encoded data removed]",
      "text/plain": [
       "<matplotlib.figure.Figure at 0x1a22e4ad68>"
      ]
     },
     "metadata": {},
     "output_type": "display_data"
    }
   ],
   "source": [
    "count, bins, ignored = plt.hist(income, 30, edgecolor='black', normed=True)\n",
    "plt.title('Annual income of macss graduates', fontsize=20)\n",
    "plt.xlabel('Annual income')\n",
    "plt.ylabel('Percent of observations')\n",
    "plt.xlim([0,150000])\n",
    "# Plot the estimated GMM PDF\n",
    "dist_income = np.linspace(0, 150000, 1000)\n",
    "plt.plot(dist_income, lognorm_pdf(dist_pts, mu_GMM, sig_GMM),\n",
    "         linewidth=2, color='k', label='1: $\\mu_{GMM1}$,$\\sigma_{GMM1}$')\n",
    "plt.legend(loc='upper left')\n",
    "\n",
    "# Plot the GMM2 estimated distribution\n",
    "plt.plot(dist_income, lognorm_pdf(dist_income, mu_GMM2, sig_GMM2),\n",
    "         linewidth=2, color='g', label='2: $\\mu$=11.332,$\\sigma$=0.2087')\n",
    "plt.legend(loc='upper left')\n",
    "plt.show()"
   ]
  },
  {
   "cell_type": "code",
   "execution_count": 729,
   "metadata": {},
   "outputs": [
    {
     "name": "stdout",
     "output_type": "stream",
     "text": [
      "The value of GMM criterion function: [[  2.53627630e-05]]\n",
      "Mean of points = 85276.8236063 , Standard deviation of points = 17992.542128\n",
      "Mean of model = 85276.8210871 , Standard deviation of model = 17992.5429339\n",
      "error vector is \n",
      " [[ -2.95405833e-08]\n",
      " [  4.47905394e-08]]\n"
     ]
    }
   ],
   "source": [
    "print('The value of GMM criterion function:', results2.fun)\n",
    "mean_data, std_data = data_moments(income)\n",
    "mean_model2, std_model2 = model_moments(mu_GMM2, sig_GMM2)\n",
    "err2 = err_vec(income, mu_GMM2, sig_GMM2, False)\n",
    "print('Mean of points =', mean_data, ', Standard deviation of points =', std_data)\n",
    "print('Mean of model =', mean_model2, ', Standard deviation of model =', std_model2)\n",
    "print('error vector is \\n', err2)"
   ]
  },
  {
   "cell_type": "markdown",
   "metadata": {},
   "source": [
    "The two data moments are quite close to the two model moments at the estimated parameter values."
   ]
  },
  {
   "cell_type": "markdown",
   "metadata": {},
   "source": [
    "### (d)"
   ]
  },
  {
   "cell_type": "code",
   "execution_count": 730,
   "metadata": {},
   "outputs": [],
   "source": [
    "def data_moments4(xvals):     \n",
    "    bpct_1_dat = xvals[xvals < 75000].shape[0] / xvals.shape[0]\n",
    "    bpct_2_dat = (xvals[(xvals >=75000) & (xvals < 100000)].shape[0] /\n",
    "                  xvals.shape[0])\n",
    "    bpct_3_dat = (xvals[(xvals >=100000) & (xvals < 150000)].shape[0] /\n",
    "                  xvals.shape[0])\n",
    "   \n",
    "\n",
    "    return bpct_1_dat, bpct_2_dat, bpct_3_dat\n",
    "\n",
    "def model_moments4(mu, sigma):\n",
    "\n",
    "    bpct_1_mod = norm.cdf((np.log(75000)-mu)/sigma)\n",
    "    bpct_2_mod = norm.cdf((np.log(100000)-mu)/sigma) - bpct_1_mod\n",
    "    bpct_3_mod = 1 - norm.cdf((np.log(100000)-mu)/sigma)\n",
    "    return bpct_1_mod, bpct_2_mod, bpct_3_mod\n",
    "\n",
    "\n",
    "def err_vec4(xvals, mu, sigma, simple):\n",
    "    '''\n",
    "    --------------------------------------------------------------------\n",
    "    This function computes the vector of moment errors (in percent\n",
    "    deviation from the data moment vector) for GMM.\n",
    "    --------------------------------------------------------------------\n",
    "    INPUTS:\n",
    "    xvals  = (N,) vector, test scores data\n",
    "    mu     = scalar, mean of the normally distributed random variable\n",
    "    sigma  = scalar > 0, standard deviation of the normally distributed\n",
    "             random variable\n",
    "    simple = boolean, =True if errors are simple difference, =False if\n",
    "             errors are percent deviation from data moments\n",
    "    \n",
    "    OTHER FUNCTIONS AND FILES CALLED BY THIS FUNCTION:\n",
    "        data_moments4()\n",
    "        model_moments4()\n",
    "    \n",
    "    OBJECTS CREATED WITHIN FUNCTION:\n",
    "    mean_data  = scalar, mean value of data\n",
    "    var_data   = scalar > 0, variance of data\n",
    "    moms_data  = (2, 1) matrix, column vector of two data moments\n",
    "    mean_model = scalar, mean value from model\n",
    "    var_model  = scalar > 0, variance from model\n",
    "    moms_model = (2, 1) matrix, column vector of two model moments\n",
    "    err_vec    = (2, 1) matrix, column vector of two moment error\n",
    "                 functions\n",
    "    \n",
    "    FILES CREATED BY THIS FUNCTION: None\n",
    "    \n",
    "    RETURNS: err_vec\n",
    "    --------------------------------------------------------------------\n",
    "    '''\n",
    "    bpct_1_dat, bpct_2_dat, bpct_3_dat= \\\n",
    "        data_moments4(xvals)\n",
    "    moms_data = np.array([[bpct_1_dat], [bpct_2_dat], [bpct_3_dat]])\n",
    "    bpct_1_mod, bpct_2_mod, bpct_3_mod = \\\n",
    "        model_moments4(mu, sigma)\n",
    "    moms_model = np.array([[bpct_1_mod], [bpct_2_mod], [bpct_3_mod]])\n",
    "    if simple:\n",
    "        err_vec = moms_model - moms_data\n",
    "    else:\n",
    "        err_vec = 100 * ((moms_model - moms_data) / moms_data)\n",
    "    \n",
    "    return err_vec\n",
    "\n",
    "\n",
    "def criterion4(params, *args):\n",
    "    '''\n",
    "    --------------------------------------------------------------------\n",
    "    This function computes the GMM weighted sum of squared moment errors\n",
    "    criterion function value given parameter values and an estimate of\n",
    "    the weighting matrix.\n",
    "    --------------------------------------------------------------------\n",
    "    INPUTS:\n",
    "    params = (2,) vector, ([mu, sigma])\n",
    "    mu     = scalar, mean of the normally distributed random variable\n",
    "    sigma  = scalar > 0, standard deviation of the normally distributed\n",
    "             random variable\n",
    "    args   = length 3 tuple, (xvals, cutoff, W_hat)\n",
    "    xvals  = (N,) vector, values of the truncated normally distributed\n",
    "             random variable\n",
    "    W_hat  = (R, R) matrix, estimate of optimal weighting matrix\n",
    "    \n",
    "    OTHER FUNCTIONS AND FILES CALLED BY THIS FUNCTION:\n",
    "        err_vec4()\n",
    "    \n",
    "    OBJECTS CREATED WITHIN FUNCTION:\n",
    "    err        = (4, 1) matrix, column vector of four moment error\n",
    "                 functions\n",
    "    crit_val   = scalar > 0, GMM criterion function value\n",
    "    \n",
    "    FILES CREATED BY THIS FUNCTION: None\n",
    "    \n",
    "    RETURNS: crit_val\n",
    "    --------------------------------------------------------------------\n",
    "    '''\n",
    "    mu, sigma = params\n",
    "    xvals, W = args\n",
    "    err = err_vec4(xvals, mu, sigma, simple=False)\n",
    "    crit_val = np.dot(np.dot(err.T, W), err) \n",
    "    \n",
    "    return crit_val"
   ]
  },
  {
   "cell_type": "code",
   "execution_count": 731,
   "metadata": {},
   "outputs": [
    {
     "name": "stdout",
     "output_type": "stream",
     "text": [
      "mu_GMM3= 11.3356813274  sig_GMM3= 0.210598453879\n",
      "The value of the GMM criterion function at the estimated parameter values is 2.50233171872e-11\n"
     ]
    }
   ],
   "source": [
    "mu_init = mu_GMM\n",
    "sig_init = sig_GMM\n",
    "params_init = np.array([mu_init, sig_init])\n",
    "W_hat = np.eye(3)\n",
    "gmm_args = (income, W_hat)\n",
    "results3 = opt.minimize(criterion4, params_init, args=(gmm_args),\n",
    "                       method='L-BFGS-B', bounds=((1e-10, None), (1e-10, None)))\n",
    "mu_GMM3, sig_GMM3 = results3.x\n",
    "print('mu_GMM3=', mu_GMM3, ' sig_GMM3=', sig_GMM3)\n",
    "print('The value of the GMM criterion function at the estimated parameter values is', \n",
    "      results3.fun[0][0])"
   ]
  },
  {
   "cell_type": "code",
   "execution_count": 732,
   "metadata": {},
   "outputs": [
    {
     "name": "stderr",
     "output_type": "stream",
     "text": [
      "/anaconda3/lib/python3.6/site-packages/ipykernel_launcher.py:34: RuntimeWarning: divide by zero encountered in true_divide\n",
      "/anaconda3/lib/python3.6/site-packages/ipykernel_launcher.py:35: RuntimeWarning: divide by zero encountered in log\n",
      "/anaconda3/lib/python3.6/site-packages/ipykernel_launcher.py:35: RuntimeWarning: invalid value encountered in multiply\n"
     ]
    },
    {
     "data": {
      "text/plain": [
       "<matplotlib.legend.Legend at 0x1a2275c978>"
      ]
     },
     "execution_count": 732,
     "metadata": {},
     "output_type": "execute_result"
    },
    {
     "data": {
      "image/png": "[encoded data removed]",
      "text/plain": [
       "<matplotlib.figure.Figure at 0x1a22e30438>"
      ]
     },
     "metadata": {},
     "output_type": "display_data"
    }
   ],
   "source": [
    "count, bins, ignored = plt.hist(income, 30, edgecolor='black', normed=True)\n",
    "plt.title('Annual income of macss graduates', fontsize=20)\n",
    "plt.xlabel('Annual income')\n",
    "plt.ylabel('Percent of observations')\n",
    "plt.xlim([0,150000])\n",
    "# Plot the estimated GMM PDF\n",
    "dist_income = np.linspace(0, 150000, 1000)\n",
    "plt.plot(dist_income, lognorm_pdf(dist_pts, mu_GMM3, sig_GMM3),\n",
    "         linewidth=2, color='k', label='1: $\\mu_{GMM3}$,$\\sigma_{GMM3}$')\n",
    "plt.legend(loc='upper left')"
   ]
  },
  {
   "cell_type": "code",
   "execution_count": 733,
   "metadata": {},
   "outputs": [
    {
     "name": "stdout",
     "output_type": "stream",
     "text": [
      "error vector is \n",
      " [[ 1.56219091]\n",
      " [ 0.49594954]\n",
      " [-3.5831602 ]]\n",
      "Data moment1(<75000) =  0.3 \n",
      " Data moment2(75000~100000) =  0.5 \n",
      " Data moment3(>100000) =  0.2 \n",
      " Model moment1(<75000) =  0.300000003891 \n",
      " Model moment2(75000~100000) = 0.500000005516 \n",
      " Model moment3(>100000) =  0.199999990593\n"
     ]
    }
   ],
   "source": [
    "err3 = err_vec4(income, mu_GMM2, sig_GMM2, False)\n",
    "bpct_1_dat, bpct_2_dat, bpct_3_dat = data_moments4(income)\n",
    "bpct_1_mod, bpct_2_mod, bpct_3_mod = model_moments4(mu_GMM3, sig_GMM3)\n",
    "print(\"error vector is \\n\", err3)\n",
    "print('Data moment1(<75000) = ', bpct_1_dat, \n",
    "      '\\n Data moment2(75000~100000) = ', bpct_2_dat, \n",
    "      '\\n Data moment3(>100000) = ', bpct_3_dat,\n",
    "      '\\n Model moment1(<75000) = ', bpct_1_mod, \n",
    "      '\\n Model moment2(75000~100000) =', bpct_2_mod, \n",
    "      '\\n Model moment3(>100000) = ', bpct_3_mod)"
   ]
  },
  {
   "cell_type": "markdown",
   "metadata": {},
   "source": [
    "The value three data moments and the three model moments at the estimated parameter values are quite close."
   ]
  },
  {
   "cell_type": "markdown",
   "metadata": {},
   "source": [
    "### (e) Perform the two-step GMM estimator by using your estimates from part (d)"
   ]
  },
  {
   "cell_type": "code",
   "execution_count": 734,
   "metadata": {},
   "outputs": [
    {
     "name": "stdout",
     "output_type": "stream",
     "text": [
      "The variance covariance matrix is:\n",
      "[[  8.41278706e-15   7.15471604e-15  -3.05059707e-14]\n",
      " [  7.15471604e-15   6.08478037e-15  -2.59440250e-14]\n",
      " [ -3.05059707e-14  -2.59440250e-14   1.10619019e-13]]\n",
      "The optimal weighting matrix is:\n",
      "[[  5.37415423e+11   4.57048861e+11  -1.94874529e+12]\n",
      " [  4.57048861e+11   3.88700534e+11  -1.65732463e+12]\n",
      " [ -1.94874529e+12  -1.65732463e+12   7.06642950e+12]]\n"
     ]
    }
   ],
   "source": [
    "err3= err_vec4(income, mu_GMM3, sig_GMM3, False)\n",
    "VCV3 = np.dot(err3, err3.T) / income.shape[0]\n",
    "print('The variance covariance matrix is:')\n",
    "print(VCV3)\n",
    "W_hat3 = lin.pinv(VCV3)  \n",
    "print('The optimal weighting matrix is:')\n",
    "print(W_hat3)"
   ]
  },
  {
   "cell_type": "code",
   "execution_count": 735,
   "metadata": {},
   "outputs": [
    {
     "name": "stdout",
     "output_type": "stream",
     "text": [
      "mu_GMM4= 11.3356813285  sig_GMM4= 0.210598456534\n",
      "The value of the GMM criterion function at the estimated parameter values is 57.1063108448\n"
     ]
    }
   ],
   "source": [
    "params_init = np.array([mu_GMM3, sig_GMM3])\n",
    "gmm_args = (income, W_hat3)\n",
    "results4 = opt.minimize(criterion4, params_init, args=(gmm_args),\n",
    "                        method='L-BFGS-B', bounds=((1e-10, None), (1e-10, None)))\n",
    "mu_GMM4, sig_GMM4 = results4.x\n",
    "print('mu_GMM4=', mu_GMM4, ' sig_GMM4=', sig_GMM4)\n",
    "print('The value of the GMM criterion function at the estimated parameter values is', \n",
    "      results4.fun[0][0])"
   ]
  },
  {
   "cell_type": "code",
   "execution_count": 736,
   "metadata": {},
   "outputs": [
    {
     "name": "stderr",
     "output_type": "stream",
     "text": [
      "/anaconda3/lib/python3.6/site-packages/ipykernel_launcher.py:34: RuntimeWarning: divide by zero encountered in true_divide\n",
      "/anaconda3/lib/python3.6/site-packages/ipykernel_launcher.py:35: RuntimeWarning: divide by zero encountered in log\n",
      "/anaconda3/lib/python3.6/site-packages/ipykernel_launcher.py:35: RuntimeWarning: invalid value encountered in multiply\n"
     ]
    },
    {
     "data": {
      "text/plain": [
       "<matplotlib.legend.Legend at 0x1a21e57d30>"
      ]
     },
     "execution_count": 736,
     "metadata": {},
     "output_type": "execute_result"
    },
    {
     "data": {
      "image/png": "[encoded data removed]",
      "text/plain": [
       "<matplotlib.figure.Figure at 0x1a222014a8>"
      ]
     },
     "metadata": {},
     "output_type": "display_data"
    }
   ],
   "source": [
    "count, bins, ignored = plt.hist(income, 30, edgecolor='black', normed=True)\n",
    "plt.title('Annual income of macss graduates', fontsize=20)\n",
    "plt.xlabel('Annual income')\n",
    "plt.ylabel('Percent of observations')\n",
    "plt.xlim([0,150000])\n",
    "# Plot the estimated GMM PDF\n",
    "dist_income = np.linspace(0, 150000, 1000)\n",
    "plt.plot(dist_income, lognorm_pdf(dist_pts, mu_GMM3, sig_GMM3),\n",
    "         linewidth=2, color='k', label='1: $\\mu_{GMM3}$,$\\sigma_{GMM3}$')\n",
    "plt.legend(loc='upper left')\n",
    "\n",
    "\n",
    "plt.plot(dist_income, lognorm_pdf(dist_pts, mu_GMM4, sig_GMM4),\n",
    "         linewidth=2, color='k', label='2: $\\mu_{GMM4}$,$\\sigma_{GMM4}$')\n",
    "plt.legend(loc='upper left')"
   ]
  },
  {
   "cell_type": "code",
   "execution_count": 737,
   "metadata": {},
   "outputs": [
    {
     "name": "stdout",
     "output_type": "stream",
     "text": [
      "error vector is \n",
      " [[  1.40653876e-06]\n",
      " [  1.26191679e-07]\n",
      " [ -2.42528733e-06]]\n",
      "Data moment1(<75000) =  0.3 \n",
      " Data moment2(75000~100000) =  0.5 \n",
      " Data moment3(>100000) =  0.2 \n",
      " Model moment1(<75000) =  0.30000000422 \n",
      " Model moment2(75000~100000) = 0.500000000631 \n",
      " Model moment3(>100000) =  0.199999995149\n"
     ]
    }
   ],
   "source": [
    "err4 = err_vec4(income, mu_GMM4, sig_GMM4, False)\n",
    "bpct_1_dat2, bpct_2_dat2, bpct_3_dat2 = data_moments4(income)\n",
    "bpct_1_mod2, bpct_2_mod2, bpct_3_mod2 = model_moments4(mu_GMM4, sig_GMM4)\n",
    "print(\"error vector is \\n\", err4)\n",
    "print('Data moment1(<75000) = ', bpct_1_dat2, \n",
    "      '\\n Data moment2(75000~100000) = ', bpct_2_dat2, \n",
    "      '\\n Data moment3(>100000) = ', bpct_3_dat2,\n",
    "      '\\n Model moment1(<75000) = ', bpct_1_mod2, \n",
    "      '\\n Model moment2(75000~100000) =', bpct_2_mod2, \n",
    "      '\\n Model moment3(>100000) = ', bpct_3_mod2)"
   ]
  },
  {
   "cell_type": "markdown",
   "metadata": {},
   "source": [
    "Again, the value three data moments and the three model moments at the estimated parameter values are quite close."
   ]
  },
  {
   "cell_type": "markdown",
   "metadata": {},
   "source": [
    "### (f) Which of the four estimations from parts (b), (c), (d), and (e) is the data best? Justify your answer."
   ]
  },
  {
   "cell_type": "code",
   "execution_count": 745,
   "metadata": {},
   "outputs": [
    {
     "name": "stdout",
     "output_type": "stream",
     "text": [
      "[[ -6.98440504e-08]\n",
      " [ -4.60084439e-08]]\n",
      "[[ -2.95405833e-08]\n",
      " [  4.47905394e-08]]\n",
      "[[  1.29713431e-06]\n",
      " [  1.10315732e-06]\n",
      " [ -4.70359476e-06]]\n",
      "[[  1.40653876e-06]\n",
      " [  1.26191679e-07]\n",
      " [ -2.42528733e-06]]\n"
     ]
    }
   ],
   "source": [
    "print(err)\n",
    "print(err2)\n",
    "print(err3)\n",
    "print(err4)"
   ]
  },
  {
   "cell_type": "markdown",
   "metadata": {},
   "source": [
    "From the plots, we can see tht the four estimations from (b), (c), (d) and (e) fit the data almost equally well. Since the values of error vectors in (d) and (e) are smaller, (d) and (e) might be two slightly better estimations."
   ]
  },
  {
   "cell_type": "markdown",
   "metadata": {},
   "source": [
    "### 2"
   ]
  },
  {
   "cell_type": "code",
   "execution_count": 738,
   "metadata": {
    "collapsed": true
   },
   "outputs": [],
   "source": [
    "import pandas as pd"
   ]
  },
  {
   "cell_type": "code",
   "execution_count": 739,
   "metadata": {
    "collapsed": true
   },
   "outputs": [],
   "source": [
    "df = pd.read_csv('sick.txt')"
   ]
  },
  {
   "cell_type": "code",
   "execution_count": 740,
   "metadata": {},
   "outputs": [
    {
     "data": {
      "text/html": [
       "<div>\n",
       "<style>\n",
       "    .dataframe thead tr:only-child th {\n",
       "        text-align: right;\n",
       "    }\n",
       "\n",
       "    .dataframe thead th {\n",
       "        text-align: left;\n",
       "    }\n",
       "\n",
       "    .dataframe tbody tr th {\n",
       "        vertical-align: top;\n",
       "    }\n",
       "</style>\n",
       "<table border=\"1\" class=\"dataframe\">\n",
       "  <thead>\n",
       "    <tr style=\"text-align: right;\">\n",
       "      <th></th>\n",
       "      <th>sick</th>\n",
       "      <th>age</th>\n",
       "      <th>children</th>\n",
       "      <th>avgtemp_winter</th>\n",
       "    </tr>\n",
       "  </thead>\n",
       "  <tbody>\n",
       "    <tr>\n",
       "      <th>0</th>\n",
       "      <td>1.67</td>\n",
       "      <td>57.47</td>\n",
       "      <td>3.04</td>\n",
       "      <td>54.10</td>\n",
       "    </tr>\n",
       "    <tr>\n",
       "      <th>1</th>\n",
       "      <td>0.71</td>\n",
       "      <td>26.77</td>\n",
       "      <td>1.20</td>\n",
       "      <td>36.54</td>\n",
       "    </tr>\n",
       "    <tr>\n",
       "      <th>2</th>\n",
       "      <td>1.39</td>\n",
       "      <td>41.85</td>\n",
       "      <td>2.31</td>\n",
       "      <td>32.38</td>\n",
       "    </tr>\n",
       "    <tr>\n",
       "      <th>3</th>\n",
       "      <td>1.37</td>\n",
       "      <td>51.27</td>\n",
       "      <td>2.46</td>\n",
       "      <td>52.94</td>\n",
       "    </tr>\n",
       "    <tr>\n",
       "      <th>4</th>\n",
       "      <td>1.45</td>\n",
       "      <td>44.22</td>\n",
       "      <td>2.72</td>\n",
       "      <td>45.90</td>\n",
       "    </tr>\n",
       "  </tbody>\n",
       "</table>\n",
       "</div>"
      ],
      "text/plain": [
       "   sick    age  children  avgtemp_winter\n",
       "0  1.67  57.47      3.04           54.10\n",
       "1  0.71  26.77      1.20           36.54\n",
       "2  1.39  41.85      2.31           32.38\n",
       "3  1.37  51.27      2.46           52.94\n",
       "4  1.45  44.22      2.72           45.90"
      ]
     },
     "execution_count": 740,
     "metadata": {},
     "output_type": "execute_result"
    }
   ],
   "source": [
    "df.head()"
   ]
  },
  {
   "cell_type": "code",
   "execution_count": 741,
   "metadata": {
    "collapsed": true
   },
   "outputs": [],
   "source": [
    "sick = df['sick']\n",
    "age = df['age']\n",
    "children = df['children']\n",
    "avgtemp_winter = df['avgtemp_winter']"
   ]
  },
  {
   "cell_type": "code",
   "execution_count": 752,
   "metadata": {},
   "outputs": [],
   "source": [
    "def data_moments200(xvals):\n",
    "    vals = []\n",
    "    for i in range(len(xvals)):\n",
    "        vals.append(sick[i])\n",
    "    return vals\n",
    "\n",
    "def model_moments200(xvals,b0,b1,b2,b3):\n",
    "    models = []\n",
    "    for i in range(len(xvals)):\n",
    "        model = b0 + b1 *age[i] + b2 * children[i] + b3 * avgtemp_winter[i]\n",
    "        models.append(model)      \n",
    "    return models\n",
    "\n",
    "def err_vec200(xvals,b0,b1,b2,b3):\n",
    "    errors = np.array(model_moments200(xvals,b0,b1,b2,b3))- np.array(data_moments200(xvals))\n",
    "    \n",
    "    return errors\n",
    "\n",
    "def criterion_200(params, *args): \n",
    "   \n",
    "    b0,b1,b2,b3 = params\n",
    "    xvals, W = args\n",
    "    err = err_vec200(xvals,b0,b1,b2,b3)\n",
    "    crit_val = np.dot(np.dot(err.T, W), err) \n",
    "    \n",
    "    return crit_val"
   ]
  },
  {
   "cell_type": "code",
   "execution_count": 753,
   "metadata": {},
   "outputs": [
    {
     "name": "stdout",
     "output_type": "stream",
     "text": [
      "b0_GMM= 0.251645437572 b1_GMM= 0.0129335422436 b2_GMM= 0.400500401025 b3_GMM= -0.00999176584737\n",
      "the value of GMM criterion function. 0.00182128980861\n"
     ]
    }
   ],
   "source": [
    "b0_init=0\n",
    "b1_init=0\n",
    "b2_init=0\n",
    "b3_init=0\n",
    "params_init_200 = np.array([b0_init,b1_init,b2_init,b3_init])\n",
    "W_hat200 = np.eye(200)\n",
    "gmm_args = (sick,W_hat200)\n",
    "results200 = opt.minimize(criterion_200, params_init_200, args=(gmm_args),                       method='L-BFGS-B')\n",
    "b0_GMM,b1_GMM,b2_GMM,b3_GMM = results200.x\n",
    "print('b0_GMM=', b0_GMM, 'b1_GMM=', b1_GMM,'b2_GMM=', b2_GMM,'b3_GMM=', b3_GMM)\n",
    "print('the value of GMM criterion function.',results200.fun)"
   ]
  },
  {
   "cell_type": "code",
   "execution_count": null,
   "metadata": {
    "collapsed": true
   },
   "outputs": [],
   "source": []
  }
 ],
 "metadata": {
  "kernelspec": {
   "display_name": "Python 3",
   "language": "python",
   "name": "python3"
  },
  "language_info": {
   "codemirror_mode": {
    "name": "ipython",
    "version": 3
   },
   "file_extension": ".py",
   "mimetype": "text/x-python",
   "name": "python",
   "nbconvert_exporter": "python",
   "pygments_lexer": "ipython3",
   "version": "3.6.3"
  }
 },
 "nbformat": 4,
 "nbformat_minor": 2
}
