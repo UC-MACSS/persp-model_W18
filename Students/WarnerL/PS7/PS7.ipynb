{
 "cells": [
  {
   "cell_type": "markdown",
   "metadata": {},
   "source": [
    "# PS7"
   ]
  },
  {
   "cell_type": "markdown",
   "metadata": {},
   "source": [
    "## Laurence Warner "
   ]
  },
  {
   "cell_type": "code",
   "execution_count": 117,
   "metadata": {},
   "outputs": [],
   "source": [
    "import pandas as pd\n",
    "import numpy as np\n",
    "\n",
    "from sklearn.linear_model import LogisticRegression\n",
    "\n",
    "from sklearn.model_selection import KFold\n",
    "\n",
    "import statsmodels.api as sm\n",
    "\n",
    "from sklearn.metrics import precision_score\n",
    "\n",
    "from sklearn.ensemble import RandomForestClassifier\n",
    "\n",
    "import math\n",
    "\n",
    "from sklearn import svm"
   ]
  },
  {
   "cell_type": "code",
   "execution_count": 3,
   "metadata": {
    "collapsed": true
   },
   "outputs": [],
   "source": [
    "auto_data = pd.read_csv(\"Auto.csv\", na_values = '?')  #convert to NaN"
   ]
  },
  {
   "cell_type": "code",
   "execution_count": 4,
   "metadata": {},
   "outputs": [
    {
     "data": {
      "text/html": [
       "<div>\n",
       "<style>\n",
       "    .dataframe thead tr:only-child th {\n",
       "        text-align: right;\n",
       "    }\n",
       "\n",
       "    .dataframe thead th {\n",
       "        text-align: left;\n",
       "    }\n",
       "\n",
       "    .dataframe tbody tr th {\n",
       "        vertical-align: top;\n",
       "    }\n",
       "</style>\n",
       "<table border=\"1\" class=\"dataframe\">\n",
       "  <thead>\n",
       "    <tr style=\"text-align: right;\">\n",
       "      <th></th>\n",
       "      <th>mpg</th>\n",
       "      <th>cylinders</th>\n",
       "      <th>displacement</th>\n",
       "      <th>horsepower</th>\n",
       "      <th>weight</th>\n",
       "      <th>acceleration</th>\n",
       "      <th>year</th>\n",
       "      <th>origin</th>\n",
       "      <th>name</th>\n",
       "    </tr>\n",
       "  </thead>\n",
       "  <tbody>\n",
       "    <tr>\n",
       "      <th>0</th>\n",
       "      <td>18.0</td>\n",
       "      <td>8</td>\n",
       "      <td>307.0</td>\n",
       "      <td>130.0</td>\n",
       "      <td>3504</td>\n",
       "      <td>12.0</td>\n",
       "      <td>70</td>\n",
       "      <td>1</td>\n",
       "      <td>chevrolet chevelle malibu</td>\n",
       "    </tr>\n",
       "    <tr>\n",
       "      <th>1</th>\n",
       "      <td>15.0</td>\n",
       "      <td>8</td>\n",
       "      <td>350.0</td>\n",
       "      <td>165.0</td>\n",
       "      <td>3693</td>\n",
       "      <td>11.5</td>\n",
       "      <td>70</td>\n",
       "      <td>1</td>\n",
       "      <td>buick skylark 320</td>\n",
       "    </tr>\n",
       "    <tr>\n",
       "      <th>2</th>\n",
       "      <td>18.0</td>\n",
       "      <td>8</td>\n",
       "      <td>318.0</td>\n",
       "      <td>150.0</td>\n",
       "      <td>3436</td>\n",
       "      <td>11.0</td>\n",
       "      <td>70</td>\n",
       "      <td>1</td>\n",
       "      <td>plymouth satellite</td>\n",
       "    </tr>\n",
       "    <tr>\n",
       "      <th>3</th>\n",
       "      <td>16.0</td>\n",
       "      <td>8</td>\n",
       "      <td>304.0</td>\n",
       "      <td>150.0</td>\n",
       "      <td>3433</td>\n",
       "      <td>12.0</td>\n",
       "      <td>70</td>\n",
       "      <td>1</td>\n",
       "      <td>amc rebel sst</td>\n",
       "    </tr>\n",
       "    <tr>\n",
       "      <th>4</th>\n",
       "      <td>17.0</td>\n",
       "      <td>8</td>\n",
       "      <td>302.0</td>\n",
       "      <td>140.0</td>\n",
       "      <td>3449</td>\n",
       "      <td>10.5</td>\n",
       "      <td>70</td>\n",
       "      <td>1</td>\n",
       "      <td>ford torino</td>\n",
       "    </tr>\n",
       "  </tbody>\n",
       "</table>\n",
       "</div>"
      ],
      "text/plain": [
       "    mpg  cylinders  displacement  horsepower  weight  acceleration  year  \\\n",
       "0  18.0          8         307.0       130.0    3504          12.0    70   \n",
       "1  15.0          8         350.0       165.0    3693          11.5    70   \n",
       "2  18.0          8         318.0       150.0    3436          11.0    70   \n",
       "3  16.0          8         304.0       150.0    3433          12.0    70   \n",
       "4  17.0          8         302.0       140.0    3449          10.5    70   \n",
       "\n",
       "   origin                       name  \n",
       "0       1  chevrolet chevelle malibu  \n",
       "1       1          buick skylark 320  \n",
       "2       1         plymouth satellite  \n",
       "3       1              amc rebel sst  \n",
       "4       1                ford torino  "
      ]
     },
     "execution_count": 4,
     "metadata": {},
     "output_type": "execute_result"
    }
   ],
   "source": [
    "auto_data.head()"
   ]
  },
  {
   "cell_type": "code",
   "execution_count": 5,
   "metadata": {
    "collapsed": true
   },
   "outputs": [],
   "source": [
    "auto_data['mpg_binary'] = 0"
   ]
  },
  {
   "cell_type": "code",
   "execution_count": 6,
   "metadata": {
    "collapsed": true
   },
   "outputs": [],
   "source": [
    "med = np.median(auto_data.mpg)"
   ]
  },
  {
   "cell_type": "code",
   "execution_count": 7,
   "metadata": {},
   "outputs": [
    {
     "name": "stderr",
     "output_type": "stream",
     "text": [
      "/Users/laurencewarner/anaconda3/lib/python3.6/site-packages/pandas/core/indexing.py:179: SettingWithCopyWarning: \n",
      "A value is trying to be set on a copy of a slice from a DataFrame\n",
      "\n",
      "See the caveats in the documentation: http://pandas.pydata.org/pandas-docs/stable/indexing.html#indexing-view-versus-copy\n",
      "  self._setitem_with_indexer(indexer, value)\n"
     ]
    }
   ],
   "source": [
    "for i in range(len(auto_data)):\n",
    "    if auto_data.mpg.iloc[i] >= med:\n",
    "        auto_data.mpg_binary.iloc[i] = 1"
   ]
  },
  {
   "cell_type": "code",
   "execution_count": 8,
   "metadata": {
    "collapsed": true
   },
   "outputs": [],
   "source": [
    "quant = auto_data.drop(['mpg','name'], axis = 1)"
   ]
  },
  {
   "cell_type": "code",
   "execution_count": 9,
   "metadata": {
    "collapsed": true
   },
   "outputs": [],
   "source": [
    "quant_nonull = quant.dropna()"
   ]
  },
  {
   "cell_type": "code",
   "execution_count": 10,
   "metadata": {
    "collapsed": true
   },
   "outputs": [],
   "source": [
    "y = quant_nonull['mpg_binary']"
   ]
  },
  {
   "cell_type": "code",
   "execution_count": 11,
   "metadata": {
    "collapsed": true
   },
   "outputs": [],
   "source": [
    "quant_nonull = sm.add_constant(quant_nonull)\n",
    "X = quant_nonull.drop('mpg_binary', axis = 1)"
   ]
  },
  {
   "cell_type": "markdown",
   "metadata": {},
   "source": [
    "### 1"
   ]
  },
  {
   "cell_type": "markdown",
   "metadata": {},
   "source": [
    "#### a "
   ]
  },
  {
   "cell_type": "code",
   "execution_count": 62,
   "metadata": {
    "collapsed": true
   },
   "outputs": [],
   "source": [
    "X_vals = X.values\n",
    "y_vals = y.values"
   ]
  },
  {
   "cell_type": "code",
   "execution_count": 63,
   "metadata": {},
   "outputs": [
    {
     "data": {
      "text/plain": [
       "KFold(n_splits=4, random_state=15, shuffle=True)"
      ]
     },
     "execution_count": 63,
     "metadata": {},
     "output_type": "execute_result"
    }
   ],
   "source": [
    "kf_log = KFold(n_splits=4, shuffle=True, random_state=15)\n",
    "kf_log"
   ]
  },
  {
   "cell_type": "code",
   "execution_count": 64,
   "metadata": {
    "collapsed": true
   },
   "outputs": [],
   "source": [
    "MSE_vec = np.zeros(4)\n",
    "prec0 = np.zeros(4)\n",
    "prec1 = np.zeros(4)"
   ]
  },
  {
   "cell_type": "code",
   "execution_count": 65,
   "metadata": {
    "collapsed": true
   },
   "outputs": [],
   "source": [
    "def MSE_fold(y_test, y_pred):\n",
    "    '''\n",
    "    Sums squared errors for given fold.\n",
    "    '''\n",
    "    count = 0 \n",
    "    for i in range(len(y_pred)):\n",
    "        if y_pred[i] != y_test[i]:\n",
    "            count += 1\n",
    "    MSE = count/len(y_test)\n",
    "    return MSE"
   ]
  },
  {
   "cell_type": "markdown",
   "metadata": {},
   "source": [
    "Error rates = (1- precision).\n",
    "precision = True Positive / All Positives"
   ]
  },
  {
   "cell_type": "code",
   "execution_count": 66,
   "metadata": {
    "collapsed": true
   },
   "outputs": [],
   "source": [
    "k_ind = 0\n",
    "\n",
    "for train_index, test_index in kf_log.split(X):\n",
    "    \n",
    "    X_train, X_test = X_vals[train_index], X_vals[test_index]\n",
    "    y_train, y_test = y_vals[train_index], y_vals[test_index]\n",
    "    \n",
    "    LR = LogisticRegression()\n",
    "    LR.fit(X_train, y_train)\n",
    "    y_pred = LR.predict(X_test)\n",
    "    \n",
    "    MSE_vec[k_ind] = MSE_fold(y_test, y_pred)\n",
    "    prec0[k_ind] = (1 - precision_score(y_test, LR.predict(X_test), pos_label=0))\n",
    "    prec1[k_ind] = (1 - precision_score(y_test, LR.predict(X_test), pos_label=1))\n",
    "    \n",
    "    k_ind += 1"
   ]
  },
  {
   "cell_type": "code",
   "execution_count": 67,
   "metadata": {},
   "outputs": [
    {
     "data": {
      "text/plain": [
       "array([ 0.09183673,  0.10204082,  0.13265306,  0.10204082])"
      ]
     },
     "execution_count": 67,
     "metadata": {},
     "output_type": "execute_result"
    }
   ],
   "source": [
    "MSE_vec"
   ]
  },
  {
   "cell_type": "code",
   "execution_count": 68,
   "metadata": {},
   "outputs": [
    {
     "data": {
      "text/plain": [
       "array([ 0.05769231,  0.12244898,  0.15217391,  0.04651163])"
      ]
     },
     "execution_count": 68,
     "metadata": {},
     "output_type": "execute_result"
    }
   ],
   "source": [
    "prec0"
   ]
  },
  {
   "cell_type": "code",
   "execution_count": 69,
   "metadata": {},
   "outputs": [
    {
     "data": {
      "text/plain": [
       "array([ 0.13043478,  0.08163265,  0.11538462,  0.14545455])"
      ]
     },
     "execution_count": 69,
     "metadata": {},
     "output_type": "execute_result"
    }
   ],
   "source": [
    "prec1"
   ]
  },
  {
   "cell_type": "code",
   "execution_count": 70,
   "metadata": {},
   "outputs": [
    {
     "name": "stdout",
     "output_type": "stream",
     "text": [
      "Average Mean Squared Error =  0.107142857143\n"
     ]
    }
   ],
   "source": [
    "MSE = MSE_vec.mean()\n",
    "print(\"Average Mean Squared Error = \", MSE)"
   ]
  },
  {
   "cell_type": "code",
   "execution_count": 71,
   "metadata": {},
   "outputs": [
    {
     "name": "stdout",
     "output_type": "stream",
     "text": [
      "Mean error when predicting y_pred = 0 is: 0.0947067070586\n"
     ]
    }
   ],
   "source": [
    "mean_prec0 = prec0.mean()\n",
    "print(\"Mean error when predicting y_pred = 0 is:\", mean_prec0)"
   ]
  },
  {
   "cell_type": "code",
   "execution_count": 72,
   "metadata": {},
   "outputs": [
    {
     "name": "stdout",
     "output_type": "stream",
     "text": [
      "Mean error when predicting y_pred = 1 is: 0.118226649127\n"
     ]
    }
   ],
   "source": [
    "mean_prec1 = prec1.mean()\n",
    "print(\"Mean error when predicting y_pred = 1 is:\", mean_prec1)"
   ]
  },
  {
   "cell_type": "markdown",
   "metadata": {},
   "source": [
    "#### b "
   ]
  },
  {
   "cell_type": "markdown",
   "metadata": {},
   "source": [
    "Random forest classifier, where features are chosen from those in part a"
   ]
  },
  {
   "cell_type": "code",
   "execution_count": 73,
   "metadata": {},
   "outputs": [
    {
     "data": {
      "text/plain": [
       "Index(['const', 'cylinders', 'displacement', 'horsepower', 'weight',\n",
       "       'acceleration', 'year', 'origin', 'mpg_binary'],\n",
       "      dtype='object')"
      ]
     },
     "execution_count": 73,
     "metadata": {},
     "output_type": "execute_result"
    }
   ],
   "source": [
    "quant_nonull.columns"
   ]
  },
  {
   "cell_type": "code",
   "execution_count": 74,
   "metadata": {},
   "outputs": [
    {
     "data": {
      "text/plain": [
       "8"
      ]
     },
     "execution_count": 74,
     "metadata": {},
     "output_type": "execute_result"
    }
   ],
   "source": [
    "len(X.columns)"
   ]
  },
  {
   "cell_type": "code",
   "execution_count": 75,
   "metadata": {},
   "outputs": [
    {
     "data": {
      "text/plain": [
       "2.8284271247461903"
      ]
     },
     "execution_count": 75,
     "metadata": {},
     "output_type": "execute_result"
    }
   ],
   "source": [
    "math.sqrt(8)"
   ]
  },
  {
   "cell_type": "markdown",
   "metadata": {},
   "source": [
    "2 features slightly less than usual square root."
   ]
  },
  {
   "cell_type": "code",
   "execution_count": 76,
   "metadata": {
    "collapsed": true
   },
   "outputs": [],
   "source": [
    "RFC = RandomForestClassifier(n_estimators=20, max_features=2, bootstrap=True,\n",
    "                                  oob_score=True, random_state=25)"
   ]
  },
  {
   "cell_type": "markdown",
   "metadata": {},
   "source": [
    "X Vals with no constant"
   ]
  },
  {
   "cell_type": "code",
   "execution_count": 77,
   "metadata": {},
   "outputs": [],
   "source": [
    "X_vals = quant_nonull.drop(['const', 'mpg_binary'], axis = 1).values"
   ]
  },
  {
   "cell_type": "code",
   "execution_count": 78,
   "metadata": {},
   "outputs": [
    {
     "data": {
      "text/plain": [
       "RandomForestClassifier(bootstrap=True, class_weight=None, criterion='gini',\n",
       "            max_depth=None, max_features=2, max_leaf_nodes=None,\n",
       "            min_impurity_decrease=0.0, min_impurity_split=None,\n",
       "            min_samples_leaf=1, min_samples_split=2,\n",
       "            min_weight_fraction_leaf=0.0, n_estimators=20, n_jobs=1,\n",
       "            oob_score=True, random_state=25, verbose=0, warm_start=False)"
      ]
     },
     "execution_count": 78,
     "metadata": {},
     "output_type": "execute_result"
    }
   ],
   "source": [
    "RFC.fit(X_vals, y_vals)"
   ]
  },
  {
   "cell_type": "code",
   "execution_count": 83,
   "metadata": {},
   "outputs": [
    {
     "data": {
      "text/plain": [
       "1.0"
      ]
     },
     "execution_count": 83,
     "metadata": {},
     "output_type": "execute_result"
    }
   ],
   "source": [
    "RFC.score(X_vals, y_vals)"
   ]
  },
  {
   "cell_type": "markdown",
   "metadata": {},
   "source": [
    "Can't proceed: RandomForestClassifier has no oob_prediction_ attribute, only RandomForestRegressor."
   ]
  },
  {
   "cell_type": "markdown",
   "metadata": {},
   "source": [
    "#### c "
   ]
  },
  {
   "cell_type": "code",
   "execution_count": 95,
   "metadata": {},
   "outputs": [
    {
     "data": {
      "text/plain": [
       "(392, 7)"
      ]
     },
     "execution_count": 95,
     "metadata": {},
     "output_type": "execute_result"
    }
   ],
   "source": [
    "X_vals.shape"
   ]
  },
  {
   "cell_type": "code",
   "execution_count": 97,
   "metadata": {},
   "outputs": [
    {
     "data": {
      "text/plain": [
       "(392,)"
      ]
     },
     "execution_count": 97,
     "metadata": {},
     "output_type": "execute_result"
    }
   ],
   "source": [
    "y_vals.shape"
   ]
  },
  {
   "cell_type": "markdown",
   "metadata": {},
   "source": [
    "Firstly practise without using folds."
   ]
  },
  {
   "cell_type": "code",
   "execution_count": 103,
   "metadata": {
    "collapsed": true
   },
   "outputs": [],
   "source": [
    "from sklearn.cross_validation import train_test_split"
   ]
  },
  {
   "cell_type": "code",
   "execution_count": 110,
   "metadata": {
    "collapsed": true
   },
   "outputs": [],
   "source": [
    "X_train, X_test, y_train, y_test = train_test_split(X_vals, y_vals, random_state = 25)"
   ]
  },
  {
   "cell_type": "code",
   "execution_count": 120,
   "metadata": {
    "collapsed": true
   },
   "outputs": [],
   "source": [
    "s = svm.SVC(kernel='rbf', gamma=0.7)"
   ]
  },
  {
   "cell_type": "code",
   "execution_count": 121,
   "metadata": {},
   "outputs": [
    {
     "data": {
      "text/plain": [
       "SVC(C=1.0, cache_size=200, class_weight=None, coef0=0.0,\n",
       "  decision_function_shape='ovr', degree=3, gamma=0.7, kernel='rbf',\n",
       "  max_iter=-1, probability=False, random_state=None, shrinking=True,\n",
       "  tol=0.001, verbose=False)"
      ]
     },
     "execution_count": 121,
     "metadata": {},
     "output_type": "execute_result"
    }
   ],
   "source": [
    "s.fit(X_train, y_train)"
   ]
  },
  {
   "cell_type": "code",
   "execution_count": 122,
   "metadata": {
    "collapsed": true
   },
   "outputs": [],
   "source": [
    "y_pred = s.predict(X_test)"
   ]
  },
  {
   "cell_type": "code",
   "execution_count": 123,
   "metadata": {
    "collapsed": true
   },
   "outputs": [],
   "source": [
    "from sklearn.metrics import classification_report"
   ]
  },
  {
   "cell_type": "code",
   "execution_count": 127,
   "metadata": {},
   "outputs": [
    {
     "data": {
      "text/plain": [
       "array([0, 0, 0, 0, 0, 0, 0, 0, 0, 0, 1, 0, 0, 0, 0, 0, 0, 0, 0, 0, 0, 0, 0,\n",
       "       0, 0, 0, 0, 0, 0, 0, 0, 0, 0, 0, 0, 0, 0, 0, 0, 0, 0, 0, 0, 0, 0, 1,\n",
       "       0, 0, 0, 0, 0, 0, 0, 0, 0, 0, 0, 0, 0, 0, 0, 0, 0, 0, 0, 0, 0, 0, 0,\n",
       "       0, 0, 0, 0, 0, 0, 0, 0, 0, 0, 0, 0, 0, 0, 0, 0, 0, 0, 0, 0, 0, 0, 0,\n",
       "       0, 0, 1, 0, 0, 0])"
      ]
     },
     "execution_count": 127,
     "metadata": {},
     "output_type": "execute_result"
    }
   ],
   "source": [
    "y_pred"
   ]
  },
  {
   "cell_type": "code",
   "execution_count": 128,
   "metadata": {},
   "outputs": [
    {
     "data": {
      "text/plain": [
       "array([1, 1, 0, 1, 1, 0, 1, 1, 0, 1, 1, 0, 1, 0, 0, 0, 1, 0, 0, 0, 1, 1, 1,\n",
       "       0, 1, 0, 0, 1, 1, 1, 1, 0, 1, 1, 0, 1, 0, 0, 1, 0, 0, 1, 1, 0, 0, 1,\n",
       "       1, 0, 1, 0, 0, 0, 1, 1, 1, 0, 0, 0, 0, 0, 1, 1, 1, 1, 1, 1, 1, 0, 1,\n",
       "       0, 1, 1, 1, 0, 0, 1, 1, 0, 0, 0, 1, 0, 0, 0, 1, 1, 1, 0, 1, 1, 1, 1,\n",
       "       1, 1, 1, 0, 1, 0])"
      ]
     },
     "execution_count": 128,
     "metadata": {},
     "output_type": "execute_result"
    }
   ],
   "source": [
    "y_test"
   ]
  },
  {
   "cell_type": "code",
   "execution_count": 126,
   "metadata": {},
   "outputs": [
    {
     "name": "stdout",
     "output_type": "stream",
     "text": [
      "             precision    recall  f1-score   support\n",
      "\n",
      "          0       0.45      1.00      0.62        43\n",
      "          1       1.00      0.05      0.10        55\n",
      "\n",
      "avg / total       0.76      0.47      0.33        98\n",
      "\n"
     ]
    }
   ],
   "source": [
    "print(classification_report(y_test, y_pred))"
   ]
  },
  {
   "cell_type": "markdown",
   "metadata": {},
   "source": [
    "Overpredicts category 0. Precision TP / (TP + FP) is very low. Lots of false positives."
   ]
  },
  {
   "cell_type": "code",
   "execution_count": 144,
   "metadata": {
    "collapsed": true
   },
   "outputs": [],
   "source": [
    "s2 = svm.SVC(kernel='rbf', gamma=0.2)"
   ]
  },
  {
   "cell_type": "code",
   "execution_count": 145,
   "metadata": {},
   "outputs": [
    {
     "data": {
      "text/plain": [
       "SVC(C=1.0, cache_size=200, class_weight=None, coef0=0.0,\n",
       "  decision_function_shape='ovr', degree=3, gamma=0.2, kernel='rbf',\n",
       "  max_iter=-1, probability=False, random_state=None, shrinking=True,\n",
       "  tol=0.001, verbose=False)"
      ]
     },
     "execution_count": 145,
     "metadata": {},
     "output_type": "execute_result"
    }
   ],
   "source": [
    "s2.fit(X_train, y_train)"
   ]
  },
  {
   "cell_type": "code",
   "execution_count": 146,
   "metadata": {},
   "outputs": [],
   "source": [
    "y_pred = s2.predict(X_test)"
   ]
  },
  {
   "cell_type": "code",
   "execution_count": 147,
   "metadata": {
    "collapsed": true
   },
   "outputs": [],
   "source": [
    "from sklearn.metrics import classification_report"
   ]
  },
  {
   "cell_type": "code",
   "execution_count": 148,
   "metadata": {},
   "outputs": [
    {
     "data": {
      "text/plain": [
       "array([0, 0, 0, 0, 0, 0, 0, 0, 0, 0, 1, 0, 0, 0, 0, 0, 0, 0, 0, 0, 0, 0, 0,\n",
       "       0, 0, 0, 0, 0, 0, 0, 0, 0, 0, 0, 0, 0, 0, 0, 0, 0, 0, 0, 0, 0, 0, 1,\n",
       "       0, 0, 0, 0, 0, 0, 0, 0, 0, 0, 0, 0, 0, 0, 0, 0, 0, 0, 0, 0, 0, 0, 0,\n",
       "       0, 0, 0, 0, 0, 0, 0, 0, 0, 0, 0, 0, 0, 0, 0, 0, 0, 0, 0, 0, 0, 0, 0,\n",
       "       0, 0, 1, 0, 0, 0])"
      ]
     },
     "execution_count": 148,
     "metadata": {},
     "output_type": "execute_result"
    }
   ],
   "source": [
    "y_pred"
   ]
  },
  {
   "cell_type": "code",
   "execution_count": 149,
   "metadata": {},
   "outputs": [
    {
     "data": {
      "text/plain": [
       "array([1, 1, 0, 1, 1, 0, 1, 1, 0, 1, 1, 0, 1, 0, 0, 0, 1, 0, 0, 0, 1, 1, 1,\n",
       "       0, 1, 0, 0, 1, 1, 1, 1, 0, 1, 1, 0, 1, 0, 0, 1, 0, 0, 1, 1, 0, 0, 1,\n",
       "       1, 0, 1, 0, 0, 0, 1, 1, 1, 0, 0, 0, 0, 0, 1, 1, 1, 1, 1, 1, 1, 0, 1,\n",
       "       0, 1, 1, 1, 0, 0, 1, 1, 0, 0, 0, 1, 0, 0, 0, 1, 1, 1, 0, 1, 1, 1, 1,\n",
       "       1, 1, 1, 0, 1, 0])"
      ]
     },
     "execution_count": 149,
     "metadata": {},
     "output_type": "execute_result"
    }
   ],
   "source": [
    "y_test"
   ]
  },
  {
   "cell_type": "code",
   "execution_count": 150,
   "metadata": {},
   "outputs": [
    {
     "name": "stdout",
     "output_type": "stream",
     "text": [
      "             precision    recall  f1-score   support\n",
      "\n",
      "          0       0.45      1.00      0.62        43\n",
      "          1       1.00      0.05      0.10        55\n",
      "\n",
      "avg / total       0.76      0.47      0.33        98\n",
      "\n"
     ]
    }
   ],
   "source": [
    "print(classification_report(y_test, y_pred))"
   ]
  },
  {
   "cell_type": "markdown",
   "metadata": {},
   "source": [
    "Using gamma=0.2 hasn't changed anything!"
   ]
  },
  {
   "cell_type": "code",
   "execution_count": 143,
   "metadata": {},
   "outputs": [],
   "source": [
    "svm.SVC?"
   ]
  },
  {
   "cell_type": "code",
   "execution_count": 98,
   "metadata": {},
   "outputs": [],
   "source": [
    "kf_svm = KFold(n_splits=4, shuffle=True, random_state=15)\n",
    "kf_svm?"
   ]
  },
  {
   "cell_type": "code",
   "execution_count": 152,
   "metadata": {
    "collapsed": true
   },
   "outputs": [],
   "source": [
    "MSE_vec = np.zeros(4)\n",
    "prec0 = np.zeros(4)\n",
    "prec1 = np.zeros(4)"
   ]
  },
  {
   "cell_type": "code",
   "execution_count": 155,
   "metadata": {},
   "outputs": [
    {
     "data": {
      "text/plain": [
       "array([[   8. ,  307. ,  130. , ...,   12. ,   70. ,    1. ],\n",
       "       [   8. ,  350. ,  165. , ...,   11.5,   70. ,    1. ],\n",
       "       [   8. ,  318. ,  150. , ...,   11. ,   70. ,    1. ],\n",
       "       ..., \n",
       "       [   4. ,  135. ,   84. , ...,   11.6,   82. ,    1. ],\n",
       "       [   4. ,  120. ,   79. , ...,   18.6,   82. ,    1. ],\n",
       "       [   4. ,  119. ,   82. , ...,   19.4,   82. ,    1. ]])"
      ]
     },
     "execution_count": 155,
     "metadata": {},
     "output_type": "execute_result"
    }
   ],
   "source": [
    "X_vals"
   ]
  },
  {
   "cell_type": "code",
   "execution_count": 158,
   "metadata": {},
   "outputs": [],
   "source": [
    "kf_svm.split?"
   ]
  },
  {
   "cell_type": "code",
   "execution_count": 167,
   "metadata": {},
   "outputs": [
    {
     "name": "stdout",
     "output_type": "stream",
     "text": [
      "train_index: [  0   1   3   4   5   7   8  10  11  12  14  15  16  17  19  20  22  23\n",
      "  26  27  28  29  30  31  32  34  36  37  39  40  41  42  43  45  46  48\n",
      "  49  50  51  52  53  55  56  57  59  60  61  62  63  66  68  69  70  71\n",
      "  72  74  75  76  77  78  79  81  82  84  85  87  88  89  90  91  92  93\n",
      "  94  95  96  98  99 100 101 102 104 107 108 109 112 113 114 115 117 118\n",
      " 119 120 121 122 123 128 130 132 133 134 136 137 139 140 141 142 143 144\n",
      " 145 146 147 148 150 151 152 153 154 155 156 157 159 160 161 162 163 165\n",
      " 166 167 168 169 171 173 175 176 177 179 180 181 182 183 184 186 187 188\n",
      " 189 193 195 196 198 199 201 202 203 205 206 207 208 210 211 212 213 215\n",
      " 216 217 218 219 220 221 223 224 225 226 227 229 230 231 232 234 235 236\n",
      " 237 238 240 241 243 244 245 246 247 249 250 251 252 253 255 256 259 260\n",
      " 262 263 265 266 267 270 271 274 278 279 280 281 282 283 284 289 291 292\n",
      " 293 294 295 296 298 299 300 301 302 303 304 305 306 307 308 309 310 311\n",
      " 312 313 314 316 317 318 319 322 324 325 326 330 331 332 333 334 335 337\n",
      " 338 339 340 342 343 344 345 346 347 348 349 350 351 352 355 356 358 359\n",
      " 360 361 362 363 364 366 367 368 369 372 374 375 376 377 378 379 380 382\n",
      " 383 384 386 388 390 391] test_index: [  2   6   9  13  18  21  24  25  33  35  38  44  47  54  58  64  65  67\n",
      "  73  80  83  86  97 103 105 106 110 111 116 124 125 126 127 129 131 135\n",
      " 138 149 158 164 170 172 174 178 185 190 191 192 194 197 200 204 209 214\n",
      " 222 228 233 239 242 248 254 257 258 261 264 268 269 272 273 275 276 277\n",
      " 285 286 287 288 290 297 315 320 321 323 327 328 329 336 341 353 354 357\n",
      " 365 370 371 373 381 385 387 389]\n",
      "train_index: [  0   1   2   4   5   6   9  10  13  14  15  16  17  18  19  21  22  23\n",
      "  24  25  26  27  28  29  32  33  34  35  36  37  38  39  40  41  42  43\n",
      "  44  45  46  47  48  51  53  54  57  58  59  60  62  63  64  65  66  67\n",
      "  68  70  72  73  74  76  78  80  81  82  83  85  86  87  88  89  90  95\n",
      "  96  97 102 103 104 105 106 107 108 110 111 112 113 114 115 116 118 119\n",
      " 120 123 124 125 126 127 128 129 130 131 133 134 135 136 137 138 139 140\n",
      " 143 144 149 150 151 155 156 157 158 159 160 161 162 164 165 166 168 169\n",
      " 170 171 172 173 174 177 178 179 180 181 182 183 185 188 190 191 192 193\n",
      " 194 195 196 197 198 199 200 203 204 205 207 208 209 212 213 214 215 217\n",
      " 219 221 222 223 224 226 228 229 231 232 233 234 235 236 237 239 240 242\n",
      " 243 245 246 248 251 252 254 257 258 259 260 261 263 264 265 266 268 269\n",
      " 272 273 274 275 276 277 278 280 281 284 285 286 287 288 289 290 291 292\n",
      " 293 295 296 297 298 300 301 302 305 306 307 309 310 311 312 314 315 316\n",
      " 317 318 319 320 321 322 323 324 327 328 329 331 332 334 335 336 337 338\n",
      " 339 340 341 344 345 346 347 349 350 351 352 353 354 355 356 357 359 360\n",
      " 361 363 365 366 368 370 371 372 373 374 375 376 377 378 379 380 381 383\n",
      " 384 385 387 388 389 390] test_index: [  3   7   8  11  12  20  30  31  49  50  52  55  56  61  69  71  75  77\n",
      "  79  84  91  92  93  94  98  99 100 101 109 117 121 122 132 141 142 145\n",
      " 146 147 148 152 153 154 163 167 175 176 184 186 187 189 201 202 206 210\n",
      " 211 216 218 220 225 227 230 238 241 244 247 249 250 253 255 256 262 267\n",
      " 270 271 279 282 283 294 299 303 304 308 313 325 326 330 333 342 343 348\n",
      " 358 362 364 367 369 382 386 391]\n",
      "train_index: [  1   2   3   6   7   8   9  11  12  13  14  15  16  17  18  19  20  21\n",
      "  22  23  24  25  28  29  30  31  33  34  35  38  39  41  42  44  45  46\n",
      "  47  49  50  51  52  53  54  55  56  58  61  64  65  66  67  69  71  73\n",
      "  75  77  79  80  81  82  83  84  85  86  87  88  90  91  92  93  94  96\n",
      "  97  98  99 100 101 102 103 104 105 106 108 109 110 111 112 114 116 117\n",
      " 118 119 121 122 123 124 125 126 127 129 130 131 132 133 135 136 138 141\n",
      " 142 143 145 146 147 148 149 151 152 153 154 155 156 157 158 160 161 163\n",
      " 164 166 167 168 169 170 172 174 175 176 177 178 180 184 185 186 187 189\n",
      " 190 191 192 194 196 197 199 200 201 202 203 204 205 206 209 210 211 214\n",
      " 215 216 218 220 221 222 225 226 227 228 229 230 231 232 233 234 236 237\n",
      " 238 239 240 241 242 243 244 245 247 248 249 250 253 254 255 256 257 258\n",
      " 260 261 262 263 264 266 267 268 269 270 271 272 273 274 275 276 277 279\n",
      " 280 282 283 284 285 286 287 288 289 290 291 293 294 297 299 300 303 304\n",
      " 306 308 309 312 313 314 315 318 319 320 321 322 323 325 326 327 328 329\n",
      " 330 331 332 333 335 336 338 339 341 342 343 345 346 348 349 353 354 357\n",
      " 358 361 362 363 364 365 366 367 369 370 371 373 375 376 377 381 382 383\n",
      " 384 385 386 387 389 391] test_index: [  0   4   5  10  26  27  32  36  37  40  43  48  57  59  60  62  63  68\n",
      "  70  72  74  76  78  89  95 107 113 115 120 128 134 137 139 140 144 150\n",
      " 159 162 165 171 173 179 181 182 183 188 193 195 198 207 208 212 213 217\n",
      " 219 223 224 235 246 251 252 259 265 278 281 292 295 296 298 301 302 305\n",
      " 307 310 311 316 317 324 334 337 340 344 347 350 351 352 355 356 359 360\n",
      " 368 372 374 378 379 380 388 390]\n",
      "train_index: [  0   2   3   4   5   6   7   8   9  10  11  12  13  18  20  21  24  25\n",
      "  26  27  30  31  32  33  35  36  37  38  40  43  44  47  48  49  50  52\n",
      "  54  55  56  57  58  59  60  61  62  63  64  65  67  68  69  70  71  72\n",
      "  73  74  75  76  77  78  79  80  83  84  86  89  91  92  93  94  95  97\n",
      "  98  99 100 101 103 105 106 107 109 110 111 113 115 116 117 120 121 122\n",
      " 124 125 126 127 128 129 131 132 134 135 137 138 139 140 141 142 144 145\n",
      " 146 147 148 149 150 152 153 154 158 159 162 163 164 165 167 170 171 172\n",
      " 173 174 175 176 178 179 181 182 183 184 185 186 187 188 189 190 191 192\n",
      " 193 194 195 197 198 200 201 202 204 206 207 208 209 210 211 212 213 214\n",
      " 216 217 218 219 220 222 223 224 225 227 228 230 233 235 238 239 241 242\n",
      " 244 246 247 248 249 250 251 252 253 254 255 256 257 258 259 261 262 264\n",
      " 265 267 268 269 270 271 272 273 275 276 277 278 279 281 282 283 285 286\n",
      " 287 288 290 292 294 295 296 297 298 299 301 302 303 304 305 307 308 310\n",
      " 311 313 315 316 317 320 321 323 324 325 326 327 328 329 330 333 334 336\n",
      " 337 340 341 342 343 344 347 348 350 351 352 353 354 355 356 357 358 359\n",
      " 360 362 364 365 367 368 369 370 371 372 373 374 378 379 380 381 382 385\n",
      " 386 387 388 389 390 391] test_index: [  1  14  15  16  17  19  22  23  28  29  34  39  41  42  45  46  51  53\n",
      "  66  81  82  85  87  88  90  96 102 104 108 112 114 118 119 123 130 133\n",
      " 136 143 151 155 156 157 160 161 166 168 169 177 180 196 199 203 205 215\n",
      " 221 226 229 231 232 234 236 237 240 243 245 260 263 266 274 280 284 289\n",
      " 291 293 300 306 309 312 314 318 319 322 331 332 335 338 339 345 346 349\n",
      " 361 363 366 375 376 377 383 384]\n"
     ]
    },
    {
     "name": "stderr",
     "output_type": "stream",
     "text": [
      "/Users/laurencewarner/anaconda3/lib/python3.6/site-packages/sklearn/metrics/classification.py:1135: UndefinedMetricWarning: Precision is ill-defined and being set to 0.0 due to no predicted samples.\n",
      "  'precision', 'predicted', average, warn_for)\n"
     ]
    }
   ],
   "source": [
    "k_ind = 0\n",
    "\n",
    "for train_index, test_index in kf_svm.split(X_vals, y_vals):\n",
    "    print(\"train_index:\", train_index, \"test_index:\", test_index)\n",
    "    X_train, X_test = X_vals[train_index], X_vals[test_index]\n",
    "    y_train, y_test = y_vals[train_index], y_vals[test_index]\n",
    "    \n",
    "    s = svm.SVC(kernel='rbf', gamma=0.2)\n",
    "    s.fit(X_train, y_train)\n",
    "    y_pred = s.predict(X_test)\n",
    "    \n",
    "    MSE_vec[k_ind] = MSE_fold(y_test, y_pred)\n",
    "    prec0[k_ind] = (1 - precision_score(y_test, y_pred, pos_label=0))\n",
    "    prec1[k_ind] = (1 - precision_score(y_test, y_pred, pos_label=1))\n",
    "    \n",
    "    k_ind += 1"
   ]
  },
  {
   "cell_type": "code",
   "execution_count": 168,
   "metadata": {},
   "outputs": [
    {
     "data": {
      "text/plain": [
       "array([ 0.54081633,  0.52040816,  0.52040816,  0.44897959])"
      ]
     },
     "execution_count": 168,
     "metadata": {},
     "output_type": "execute_result"
    }
   ],
   "source": [
    "MSE_vec"
   ]
  },
  {
   "cell_type": "code",
   "execution_count": 169,
   "metadata": {},
   "outputs": [
    {
     "data": {
      "text/plain": [
       "array([ 0.        ,  0.52040816,  0.53125   ,  0.47311828])"
      ]
     },
     "execution_count": 169,
     "metadata": {},
     "output_type": "execute_result"
    }
   ],
   "source": [
    "prec0"
   ]
  },
  {
   "cell_type": "code",
   "execution_count": 170,
   "metadata": {},
   "outputs": [
    {
     "data": {
      "text/plain": [
       "array([ 0.55208333,  1.        ,  0.        ,  0.        ])"
      ]
     },
     "execution_count": 170,
     "metadata": {},
     "output_type": "execute_result"
    }
   ],
   "source": [
    "prec1"
   ]
  },
  {
   "cell_type": "code",
   "execution_count": 171,
   "metadata": {},
   "outputs": [
    {
     "name": "stdout",
     "output_type": "stream",
     "text": [
      "Average Mean Squared Error =  0.507653061224\n"
     ]
    }
   ],
   "source": [
    "MSE = MSE_vec.mean()\n",
    "print(\"Average Mean Squared Error = \", MSE)"
   ]
  },
  {
   "cell_type": "code",
   "execution_count": 172,
   "metadata": {},
   "outputs": [
    {
     "name": "stdout",
     "output_type": "stream",
     "text": [
      "Mean error when predicting y_pred = 0 is: 0.381194110709\n"
     ]
    }
   ],
   "source": [
    "mean_prec0 = prec0.mean()\n",
    "print(\"Mean error when predicting y_pred = 0 is:\", mean_prec0)"
   ]
  },
  {
   "cell_type": "code",
   "execution_count": 174,
   "metadata": {},
   "outputs": [
    {
     "name": "stdout",
     "output_type": "stream",
     "text": [
      "Mean error when predicting y_pred = 1 is: 0.388020833333\n"
     ]
    }
   ],
   "source": [
    "mean_prec1 = prec1.mean()\n",
    "print(\"Mean error when predicting y_pred = 1 is:\", mean_prec1)"
   ]
  },
  {
   "cell_type": "markdown",
   "metadata": {},
   "source": [
    "#### d "
   ]
  },
  {
   "cell_type": "markdown",
   "metadata": {},
   "source": [
    "I can only compare Logistic Regression and Support Vector Machine."
   ]
  },
  {
   "cell_type": "markdown",
   "metadata": {},
   "source": [
    "Logistic regression has an average MSE of around 0.1, whereas the SVM has an average MSE of around 0.5 (which means it is not better than random)."
   ]
  },
  {
   "cell_type": "markdown",
   "metadata": {},
   "source": [
    "This implies that Logistic Regression is more suitable, although there could be a problem with my SVM implementation. "
   ]
  }
 ],
 "metadata": {
  "kernelspec": {
   "display_name": "Python 3",
   "language": "python",
   "name": "python3"
  },
  "language_info": {
   "codemirror_mode": {
    "name": "ipython",
    "version": 3
   },
   "file_extension": ".py",
   "mimetype": "text/x-python",
   "name": "python",
   "nbconvert_exporter": "python",
   "pygments_lexer": "ipython3",
   "version": "3.6.3"
  }
 },
 "nbformat": 4,
 "nbformat_minor": 2
}
