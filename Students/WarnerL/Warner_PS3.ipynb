{
 "cells": [
  {
   "cell_type": "markdown",
   "metadata": {},
   "source": [
    "# PS3"
   ]
  },
  {
   "cell_type": "markdown",
   "metadata": {},
   "source": [
    "### Laurence Warner"
   ]
  },
  {
   "cell_type": "code",
   "execution_count": 1,
   "metadata": {
    "collapsed": true
   },
   "outputs": [],
   "source": [
    "import numpy as np\n",
    "import scipy.stats as sts\n",
    "import matplotlib.pyplot as plt\n",
    "import math\n",
    "import scipy.optimize as opt\n",
    "from scipy import integrate\n",
    "import pandas as pd"
   ]
  },
  {
   "cell_type": "markdown",
   "metadata": {},
   "source": [
    "## 1"
   ]
  },
  {
   "cell_type": "markdown",
   "metadata": {},
   "source": [
    "## a"
   ]
  },
  {
   "cell_type": "code",
   "execution_count": 2,
   "metadata": {},
   "outputs": [
    {
     "data": {
      "text/plain": [
       "array([ 53711.54439888,  99731.23334901,  84773.60541676,  75184.025931  ,\n",
       "        73390.9559334 ,  77276.56474964,  82597.32702898,  76098.11372822,\n",
       "        91850.97696668,  71750.0904012 ])"
      ]
     },
     "execution_count": 2,
     "metadata": {},
     "output_type": "execute_result"
    }
   ],
   "source": [
    "incomes = np.loadtxt('incomes.txt')\n",
    "incomes[0:10]"
   ]
  },
  {
   "cell_type": "code",
   "execution_count": 11,
   "metadata": {
    "collapsed": true
   },
   "outputs": [],
   "source": [
    "%matplotlib inline"
   ]
  },
  {
   "cell_type": "code",
   "execution_count": 12,
   "metadata": {},
   "outputs": [
    {
     "data": {
      "text/plain": [
       "Text(0,0.5,'Density')"
      ]
     },
     "execution_count": 12,
     "metadata": {},
     "output_type": "execute_result"
    },
    {
     "data": {
      "image/png": "[encoded data removed]",
      "text/plain": [
       "<matplotlib.figure.Figure at 0x115841f28>"
      ]
     },
     "metadata": {},
     "output_type": "display_data"
    }
   ],
   "source": [
    "count, bins, patches = plt.hist(incomes, bins = 30, normed = True)\n",
    "plt.title('Incomes')\n",
    "plt.xlabel('Income ($)')\n",
    "plt.ylabel('Density')"
   ]
  },
  {
   "cell_type": "markdown",
   "metadata": {},
   "source": [
    "### b"
   ]
  },
  {
   "cell_type": "code",
   "execution_count": 13,
   "metadata": {},
   "outputs": [
    {
     "data": {
      "text/plain": [
       "85276.823606258113"
      ]
     },
     "execution_count": 13,
     "metadata": {},
     "output_type": "execute_result"
    }
   ],
   "source": [
    "data1 = incomes.mean()\n",
    "data1"
   ]
  },
  {
   "cell_type": "code",
   "execution_count": 14,
   "metadata": {},
   "outputs": [
    {
     "data": {
      "text/plain": [
       "17992.542128046523"
      ]
     },
     "execution_count": 14,
     "metadata": {},
     "output_type": "execute_result"
    }
   ],
   "source": [
    "data2 = incomes.std()\n",
    "data2"
   ]
  },
  {
   "cell_type": "code",
   "execution_count": 211,
   "metadata": {
    "collapsed": true
   },
   "outputs": [],
   "source": [
    "DATA_MOMENTS = np.array([[data1],[data2]])"
   ]
  },
  {
   "cell_type": "code",
   "execution_count": 212,
   "metadata": {},
   "outputs": [
    {
     "data": {
      "text/plain": [
       "array([[ 1.,  0.],\n",
       "       [ 0.,  1.]])"
      ]
     },
     "execution_count": 212,
     "metadata": {},
     "output_type": "execute_result"
    }
   ],
   "source": [
    "W = np.eye(2)\n",
    "W"
   ]
  },
  {
   "cell_type": "markdown",
   "metadata": {},
   "source": [
    "Method 1: theory"
   ]
  },
  {
   "cell_type": "code",
   "execution_count": 213,
   "metadata": {
    "collapsed": true
   },
   "outputs": [],
   "source": [
    "def theory(params):\n",
    "    mu, sigma = params\n",
    "    mean = np.exp(mu + sigma**2/2)\n",
    "    sd = np.sqrt((np.exp(sigma**2)-1)*np.exp(2*mu+sigma**2))\n",
    "    model_moments = np.array([[mean],[sd]])\n",
    "    return model_moments"
   ]
  },
  {
   "cell_type": "code",
   "execution_count": 214,
   "metadata": {},
   "outputs": [
    {
     "data": {
      "text/plain": [
       "array([[ 76879.91976468],\n",
       "       [ 36158.02610735]])"
      ]
     },
     "execution_count": 214,
     "metadata": {},
     "output_type": "execute_result"
    }
   ],
   "source": [
    "PARAMS_EX = (11.0, 0.5)\n",
    "lognormal_moments(PARAMS_EX)"
   ]
  },
  {
   "cell_type": "markdown",
   "metadata": {},
   "source": [
    "Method 2: integrate"
   ]
  },
  {
   "cell_type": "code",
   "execution_count": 215,
   "metadata": {
    "collapsed": true
   },
   "outputs": [],
   "source": [
    "def lognormal_pdf(x, params):\n",
    "    mu, sigma = params\n",
    "    pdf = 1/x/sigma/np.sqrt(2*np.pi) * np.exp(-(np.log(x)-mu)**2/2/sigma/sigma)\n",
    "    return pdf"
   ]
  },
  {
   "cell_type": "code",
   "execution_count": 216,
   "metadata": {
    "collapsed": true
   },
   "outputs": [],
   "source": [
    "def model_moms(params):\n",
    "    xfx = lambda x: x * lognormal_pdf(x, params)\n",
    "    mean = integrate.quad(xfx, 0, 100000000)[0]\n",
    "    x2fx = lambda x: (x - mean)**2 * lognormal_pdf(x, params)\n",
    "    var = integrate.quad(x2fx, 0, 100000000)[0]\n",
    "    sd = np.sqrt(var)\n",
    "    model_moments = np.array([[mean],[sd]])\n",
    "    return model_moments"
   ]
  },
  {
   "cell_type": "markdown",
   "metadata": {},
   "source": [
    "Almost identical!!"
   ]
  },
  {
   "cell_type": "code",
   "execution_count": 219,
   "metadata": {},
   "outputs": [],
   "source": [
    "def err_vec(params, data_moments):\n",
    "    model_moments = model_moms(params)\n",
    "    err_vec = (model_moments - data_moments)/model_moments\n",
    "    return err_vec"
   ]
  },
  {
   "cell_type": "code",
   "execution_count": 243,
   "metadata": {},
   "outputs": [],
   "source": [
    "def crit(params, *args):\n",
    "    data_moments, W = args\n",
    "    e = err_vec(params, data_moments)\n",
    "    crit = np.dot(e.transpose(), np.dot(W, e))\n",
    "    return crit"
   ]
  },
  {
   "cell_type": "code",
   "execution_count": 228,
   "metadata": {},
   "outputs": [],
   "source": [
    "a = (DATA_MOMENTS, W)\n",
    "PARAMS_INIT = PARAMS_EX"
   ]
  },
  {
   "cell_type": "code",
   "execution_count": 245,
   "metadata": {},
   "outputs": [
    {
     "data": {
      "text/plain": [
       "      fun: array([[  1.46015357e-15]])\n",
       " hess_inv: <2x2 LbfgsInvHessProduct with dtype=float64>\n",
       "      jac: array([  2.90998433e-08,   2.15901796e-08])\n",
       "  message: b'CONVERGENCE: NORM_OF_PROJECTED_GRADIENT_<=_PGTOL'\n",
       "     nfev: 39\n",
       "      nit: 8\n",
       "   status: 0\n",
       "  success: True\n",
       "        x: array([ 11.33188088,   0.20869665])"
      ]
     },
     "execution_count": 245,
     "metadata": {},
     "output_type": "execute_result"
    }
   ],
   "source": [
    "res = opt.minimize(crit, PARAMS_INIT, a, bounds= ((None, None), (0.1, None)))\n",
    "res"
   ]
  },
  {
   "cell_type": "code",
   "execution_count": 234,
   "metadata": {},
   "outputs": [
    {
     "name": "stdout",
     "output_type": "stream",
     "text": [
      "mean: 11.33, sig: 0.21\n"
     ]
    }
   ],
   "source": [
    "print(\"mean: {:.2f}, sig: {:.2f}\".format(res.x[0], res.x[1]))"
   ]
  },
  {
   "cell_type": "markdown",
   "metadata": {},
   "source": [
    "versus ML estimates. Mu: 11.359, Sigma: 0.208"
   ]
  },
  {
   "cell_type": "code",
   "execution_count": 235,
   "metadata": {
    "collapsed": true
   },
   "outputs": [],
   "source": [
    "gmm_params = (res.x[0],res.x[1])"
   ]
  },
  {
   "cell_type": "code",
   "execution_count": 236,
   "metadata": {},
   "outputs": [
    {
     "data": {
      "text/plain": [
       "[<matplotlib.lines.Line2D at 0x1a1a320588>]"
      ]
     },
     "execution_count": 236,
     "metadata": {},
     "output_type": "execute_result"
    },
    {
     "data": {
      "image/png": "[encoded data removed]",
      "text/plain": [
       "<matplotlib.figure.Figure at 0x1a1a271e48>"
      ]
     },
     "metadata": {},
     "output_type": "display_data"
    }
   ],
   "source": [
    "count, bins, patches = plt.hist(incomes, bins = 30, normed = True)\n",
    "plt.title('Incomes')\n",
    "plt.xlabel('Income ($)')\n",
    "plt.ylabel('Density')\n",
    "x = np.linspace(1, 150000, 1000)\n",
    "y_max = lognormal_pdf(x, gmm_params)\n",
    "plt.plot(x, y_max)"
   ]
  },
  {
   "cell_type": "code",
   "execution_count": 237,
   "metadata": {},
   "outputs": [
    {
     "name": "stdout",
     "output_type": "stream",
     "text": [
      "GMM criterion function at minimum is [[  1.46015357e-15]]\n"
     ]
    }
   ],
   "source": [
    "print(\"GMM criterion function at minimum is\", res.fun)"
   ]
  },
  {
   "cell_type": "code",
   "execution_count": 238,
   "metadata": {},
   "outputs": [
    {
     "data": {
      "text/plain": [
       "array([[ 85276.82360626],\n",
       "       [ 17992.54212805]])"
      ]
     },
     "execution_count": 238,
     "metadata": {},
     "output_type": "execute_result"
    }
   ],
   "source": [
    "DATA_MOMENTS"
   ]
  },
  {
   "cell_type": "code",
   "execution_count": 239,
   "metadata": {},
   "outputs": [
    {
     "data": {
      "text/plain": [
       "array([[ 85276.82609625],\n",
       "       [ 17992.54168455]])"
      ]
     },
     "execution_count": 239,
     "metadata": {},
     "output_type": "execute_result"
    }
   ],
   "source": [
    "model_moms(gmm_params)"
   ]
  },
  {
   "cell_type": "markdown",
   "metadata": {},
   "source": [
    "almost identical"
   ]
  },
  {
   "cell_type": "markdown",
   "metadata": {},
   "source": [
    "c) not sure"
   ]
  },
  {
   "cell_type": "markdown",
   "metadata": {},
   "source": [
    "d"
   ]
  },
  {
   "cell_type": "code",
   "execution_count": 275,
   "metadata": {},
   "outputs": [],
   "source": [
    "n = incomes.size\n",
    "poor = incomes < 75000\n",
    "medium1 = 75000 <= incomes\n",
    "medium = incomes[medium1] <= 100000\n",
    "medium\n",
    "rich = 100000 <= incomes \n",
    "poor = poor.sum()/n\n",
    "med = medium.sum()/n\n",
    "rich = rich.sum()/n"
   ]
  },
  {
   "cell_type": "code",
   "execution_count": 276,
   "metadata": {},
   "outputs": [
    {
     "data": {
      "text/plain": [
       "array([[ 0.3],\n",
       "       [ 0.5],\n",
       "       [ 0.2]])"
      ]
     },
     "execution_count": 276,
     "metadata": {},
     "output_type": "execute_result"
    }
   ],
   "source": [
    "DATA_MOMENTS = np.array([[poor], [med], [rich]])\n",
    "DATA_MOMENTS"
   ]
  },
  {
   "cell_type": "code",
   "execution_count": 277,
   "metadata": {},
   "outputs": [],
   "source": [
    "def model_moms_3(params):\n",
    "    def area(a, b):\n",
    "        a = integrate.quad(lognormal_pdf, a, b, args = ((params,)))[0]\n",
    "        return a\n",
    "    poor = area(0, 75000)\n",
    "    medium = area(75000, 100000)\n",
    "    rich = area(100000,np.inf)\n",
    "    m = np.array([[poor], [medium], [rich]])\n",
    "    return m"
   ]
  },
  {
   "cell_type": "code",
   "execution_count": 278,
   "metadata": {
    "collapsed": true
   },
   "outputs": [],
   "source": [
    "def err_vec_3(params, data_moments):\n",
    "    model_moments = model_moms_3(params)\n",
    "    err_vec = (model_moments - data_moments)/model_moments\n",
    "    return err_vec"
   ]
  },
  {
   "cell_type": "code",
   "execution_count": 272,
   "metadata": {
    "collapsed": true
   },
   "outputs": [],
   "source": [
    "def crit(params, *args):\n",
    "    data_moments, W = args\n",
    "    e = err_vec_3(params, data_moments)\n",
    "    crit = np.dot(e.transpose(), np.dot(W, e))\n",
    "    return crit"
   ]
  },
  {
   "cell_type": "code",
   "execution_count": 279,
   "metadata": {
    "collapsed": true
   },
   "outputs": [],
   "source": [
    "W = np.eye(3)\n",
    "a = (DATA_MOMENTS, W)\n",
    "PARAMS_INIT = PARAMS_EX"
   ]
  },
  {
   "cell_type": "code",
   "execution_count": 282,
   "metadata": {},
   "outputs": [
    {
     "name": "stderr",
     "output_type": "stream",
     "text": [
      "/Users/laurencewarner/anaconda3/lib/python3.6/site-packages/scipy/integrate/quadpack.py:364: IntegrationWarning: The algorithm does not converge.  Roundoff error is detected\n",
      "  in the extrapolation table.  It is assumed that the requested tolerance\n",
      "  cannot be achieved, and that the returned result (if full_output = 1) is \n",
      "  the best which can be obtained.\n",
      "  warnings.warn(msg, IntegrationWarning)\n"
     ]
    },
    {
     "data": {
      "text/plain": [
       "      fun: array([[  7.13214379e-14]])\n",
       " hess_inv: <2x2 LbfgsInvHessProduct with dtype=float64>\n",
       "      jac: array([  2.54939923e-06,  -2.49749002e-06])\n",
       "  message: b'CONVERGENCE: NORM_OF_PROJECTED_GRADIENT_<=_PGTOL'\n",
       "     nfev: 36\n",
       "      nit: 9\n",
       "   status: 0\n",
       "  success: True\n",
       "        x: array([ 11.33568135,   0.21059842])"
      ]
     },
     "execution_count": 282,
     "metadata": {},
     "output_type": "execute_result"
    }
   ],
   "source": [
    "res = opt.minimize(crit, PARAMS_INIT, a, bounds= ((None, None), (0.1, None)))\n",
    "res"
   ]
  },
  {
   "cell_type": "code",
   "execution_count": 283,
   "metadata": {},
   "outputs": [
    {
     "data": {
      "text/plain": [
       "array([ 11.33568135,   0.21059842])"
      ]
     },
     "execution_count": 283,
     "metadata": {},
     "output_type": "execute_result"
    }
   ],
   "source": [
    "res.x"
   ]
  },
  {
   "cell_type": "code",
   "execution_count": 284,
   "metadata": {
    "collapsed": true
   },
   "outputs": [],
   "source": [
    "gmm_3_params = (res.x[0],res.x[1])"
   ]
  },
  {
   "cell_type": "markdown",
   "metadata": {},
   "source": [
    "Model and data moments are almost identical:"
   ]
  },
  {
   "cell_type": "code",
   "execution_count": 286,
   "metadata": {},
   "outputs": [
    {
     "data": {
      "text/plain": [
       "array([[ 0.29999994],\n",
       "       [ 0.50000008],\n",
       "       [ 0.19999999]])"
      ]
     },
     "execution_count": 286,
     "metadata": {},
     "output_type": "execute_result"
    }
   ],
   "source": [
    "model_moms_3(gmm_3_params)"
   ]
  },
  {
   "cell_type": "code",
   "execution_count": 287,
   "metadata": {},
   "outputs": [
    {
     "data": {
      "text/plain": [
       "array([[ 0.3],\n",
       "       [ 0.5],\n",
       "       [ 0.2]])"
      ]
     },
     "execution_count": 287,
     "metadata": {},
     "output_type": "execute_result"
    }
   ],
   "source": [
    "DATA_MOMENTS"
   ]
  },
  {
   "cell_type": "code",
   "execution_count": 288,
   "metadata": {},
   "outputs": [
    {
     "name": "stdout",
     "output_type": "stream",
     "text": [
      "minimal value of criterion function: [[  7.13214379e-14]]\n"
     ]
    }
   ],
   "source": [
    "print(\"minimal value of criterion function:\", res.fun)"
   ]
  },
  {
   "cell_type": "code",
   "execution_count": 291,
   "metadata": {},
   "outputs": [
    {
     "data": {
      "text/plain": [
       "[<matplotlib.lines.Line2D at 0x1a1a4212b0>]"
      ]
     },
     "execution_count": 291,
     "metadata": {},
     "output_type": "execute_result"
    },
    {
     "data": {
      "image/png": "[encoded data removed]",
      "text/plain": [
       "<matplotlib.figure.Figure at 0x1a19c40e48>"
      ]
     },
     "metadata": {},
     "output_type": "display_data"
    }
   ],
   "source": [
    "count, bins, patches = plt.hist(incomes, bins = 30, normed = True)\n",
    "plt.title('Incomes')\n",
    "plt.xlabel('Income ($)')\n",
    "plt.ylabel('Density')\n",
    "x = np.linspace(1, 150000, 1000)\n",
    "y_gmm3 = lognormal_pdf(x, gmm_3_params)\n",
    "y_max = lognormal_pdf(x, gmm_params)\n",
    "plt.plot(x, y_gmm3)\n",
    "plt.plot(x, y_max)"
   ]
  },
  {
   "cell_type": "markdown",
   "metadata": {},
   "source": [
    "Using different moments leads to almost identical results"
   ]
  },
  {
   "cell_type": "markdown",
   "metadata": {},
   "source": [
    "Out of b and d they both fit the data very well."
   ]
  },
  {
   "cell_type": "markdown",
   "metadata": {},
   "source": [
    "### 2"
   ]
  },
  {
   "cell_type": "markdown",
   "metadata": {},
   "source": [
    "Don't understand using MLE or GMM for linear regression yet. Sorry."
   ]
  },
  {
   "cell_type": "code",
   "execution_count": null,
   "metadata": {
    "collapsed": true
   },
   "outputs": [],
   "source": []
  }
 ],
 "metadata": {
  "kernelspec": {
   "display_name": "Python 3",
   "language": "python",
   "name": "python3"
  },
  "language_info": {
   "codemirror_mode": {
    "name": "ipython",
    "version": 3
   },
   "file_extension": ".py",
   "mimetype": "text/x-python",
   "name": "python",
   "nbconvert_exporter": "python",
   "pygments_lexer": "ipython3",
   "version": "3.6.3"
  }
 },
 "nbformat": 4,
 "nbformat_minor": 2
}
