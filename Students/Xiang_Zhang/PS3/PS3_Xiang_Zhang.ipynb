{
 "cells": [
  {
   "cell_type": "markdown",
   "metadata": {},
   "source": [
    "## Problem Set #3\n",
    "### MACS 30100, Dr. Evans\n",
    "\n",
    "### Name: Xiang Zhang\n",
    "### snzhang@uchicago.edu"
   ]
  },
  {
   "cell_type": "markdown",
   "metadata": {},
   "source": [
    "### Problem One: Some income data, lognormal distribution, and GMM"
   ]
  },
  {
   "cell_type": "markdown",
   "metadata": {},
   "source": [
    "I first import the packages to be used and the data"
   ]
  },
  {
   "cell_type": "code",
   "execution_count": 1,
   "metadata": {},
   "outputs": [],
   "source": [
    "# Import packages and load the data\n",
    "import numpy as np\n",
    "import numpy.linalg as lin\n",
    "import scipy.stats as sts\n",
    "import scipy.integrate as intgr\n",
    "import scipy.optimize as opt\n",
    "import matplotlib\n",
    "import matplotlib.pyplot as plt\n",
    "from mpl_toolkits.mplot3d import Axes3D\n",
    "from matplotlib import cm\n",
    "cmap1 = matplotlib.cm.get_cmap('summer')\n",
    "\n",
    "wages = np.loadtxt('incomes.txt')"
   ]
  },
  {
   "cell_type": "markdown",
   "metadata": {},
   "source": [
    "#### (a) Histogram\n",
    "\n",
    "Below I plot a histogram with 30 bins to show the income distribution"
   ]
  },
  {
   "cell_type": "code",
   "execution_count": 2,
   "metadata": {},
   "outputs": [
    {
     "data": {
      "image/png": "[encoded data removed]",
      "text/plain": [
       "<matplotlib.figure.Figure at 0x2368e1f82b0>"
      ]
     },
     "metadata": {},
     "output_type": "display_data"
    }
   ],
   "source": [
    "count, bins, patches = plt.hist(wages, 30, edgecolor='black', normed=True)\n",
    "plt.title('Income Distribution of MACSS Students', fontsize=20)\n",
    "plt.xlabel('Annual Income')\n",
    "plt.ylabel('Density: Percent of scores')\n",
    "plt.show()"
   ]
  },
  {
   "cell_type": "markdown",
   "metadata": {},
   "source": [
    "#### (b) GMM Estimates"
   ]
  },
  {
   "cell_type": "markdown",
   "metadata": {},
   "source": [
    "I first define the function computing log normal distribution"
   ]
  },
  {
   "cell_type": "code",
   "execution_count": 3,
   "metadata": {},
   "outputs": [],
   "source": [
    "def lognorm_pdf(xvals, mu, sigma):\n",
    "    '''\n",
    "    --------------------------------------------------------------------\n",
    "    Generate pdf values from the log normal pdf with mean mu and\n",
    "    standard deviation sigma. \n",
    "    --------------------------------------------------------------------\n",
    "    INPUTS:\n",
    "    xvals  = (N,) vector, values of the normally distributed random\n",
    "             variable\n",
    "    mu     = scalar, mean of the log normally distributed random variable\n",
    "    sigma  = scalar > 0, standard deviation of the log normally distributed\n",
    "             random variable\n",
    "    \n",
    "    OTHER FUNCTIONS AND FILES CALLED BY THIS FUNCTION: None\n",
    "    \n",
    "    OBJECTS CREATED WITHIN FUNCTION:\n",
    "\n",
    "    pdf_vals = (N,) vector, log normal PDF values for mu and sigma\n",
    "               corresponding to xvals data\n",
    "    \n",
    "    FILES CREATED BY THIS FUNCTION: None\n",
    "    \n",
    "    RETURNS: pdf_vals\n",
    "    --------------------------------------------------------------------\n",
    "    '''\n",
    "            \n",
    "    pdf_vals    = (1/(xvals * sigma * np.sqrt(2 * np.pi) ) *\n",
    "                   np.exp( - (np.log(xvals) - mu)**2 / (2 * sigma**2)))\n",
    "    \n",
    "    return pdf_vals"
   ]
  },
  {
   "cell_type": "markdown",
   "metadata": {},
   "source": [
    "Then I define the function computing the data moments"
   ]
  },
  {
   "cell_type": "code",
   "execution_count": 4,
   "metadata": {},
   "outputs": [],
   "source": [
    "def data_moments(xvals):\n",
    "    '''\n",
    "    --------------------------------------------------------------------\n",
    "    This function computes the two data moments for GMM\n",
    "    (mean(data), variance(data)).\n",
    "    --------------------------------------------------------------------\n",
    "    INPUTS:\n",
    "    xvals = (N,) vector, test scores data\n",
    "    \n",
    "    OTHER FUNCTIONS AND FILES CALLED BY THIS FUNCTION: None\n",
    "    \n",
    "    OBJECTS CREATED WITHIN FUNCTION:\n",
    "    mean_data = scalar, mean value of test scores data\n",
    "    var_data  = scalar > 0, variance of test scores data\n",
    "    \n",
    "    FILES CREATED BY THIS FUNCTION: None\n",
    "    \n",
    "    RETURNS: mean_data, var_data\n",
    "    --------------------------------------------------------------------\n",
    "    '''\n",
    "    mean_data = xvals.mean()\n",
    "    sd_data = np.sqrt(xvals.var())\n",
    "  \n",
    "    return mean_data, sd_data"
   ]
  },
  {
   "cell_type": "markdown",
   "metadata": {},
   "source": [
    "Then I define the function generating model moments"
   ]
  },
  {
   "cell_type": "code",
   "execution_count": 5,
   "metadata": {},
   "outputs": [],
   "source": [
    "def model_moments(mu, sigma):\n",
    "    '''\n",
    "    --------------------------------------------------------------------\n",
    "    This function computes the two model moments for GMM\n",
    "    (mean(model data), variance(model data)).\n",
    "    --------------------------------------------------------------------\n",
    "    INPUTS:\n",
    "    mu     = scalar, mean of the normally distributed random variable\n",
    "    sigma  = scalar > 0, standard deviation\n",
    "    \n",
    "    RETURNS: mean_model, var_model\n",
    "    --------------------------------------------------------------------\n",
    "    '''\n",
    "    \n",
    "    mean_model = np.exp(mu + sigma ** 2 / 2)\n",
    "    var_model = np.exp(2 * mu + sigma ** 2) * (np.exp(sigma ** 2) - 1)\n",
    "    \n",
    "    std_model = np.sqrt(var_model)\n",
    "    \n",
    "    return mean_model, std_model"
   ]
  },
  {
   "cell_type": "markdown",
   "metadata": {},
   "source": [
    "Then the function defining moment error"
   ]
  },
  {
   "cell_type": "code",
   "execution_count": 6,
   "metadata": {},
   "outputs": [],
   "source": [
    "def err_vec(xvals, mu, sigma):\n",
    "    '''\n",
    "    --------------------------------------------------------------------\n",
    "    This function computes the vector of moment errors (in percent\n",
    "    deviation from the data moment vector) for GMM.\n",
    "    --------------------------------------------------------------------\n",
    "    INPUTS:\n",
    "    xvals  = (N,) vector, test scores data\n",
    "    mu     = scalar, mean of the normally distributed random variable\n",
    "    sigma  = scalar > 0, standard deviation of the normally distributed\n",
    "             random variable\n",
    "    \n",
    "    OTHER FUNCTIONS AND FILES CALLED BY THIS FUNCTION:\n",
    "        data_moments()\n",
    "        model_moments()\n",
    "    \n",
    "    OBJECTS CREATED WITHIN FUNCTION:\n",
    "    mean_data  = scalar, mean value of data\n",
    "    var_data   = scalar > 0, variance of data\n",
    "    moms_data  = (2, 1) matrix, column vector of two data moments\n",
    "    mean_model = scalar, mean value from model\n",
    "    var_model  = scalar > 0, variance from model\n",
    "    moms_model = (2, 1) matrix, column vector of two model moments\n",
    "    err_vec    = (2, 1) matrix, column vector of two moment error\n",
    "                 functions\n",
    "    \n",
    "    FILES CREATED BY THIS FUNCTION: None\n",
    "    \n",
    "    RETURNS: err_vec\n",
    "    --------------------------------------------------------------------\n",
    "    '''\n",
    "    mean_data, std_data = data_moments(xvals)\n",
    "    moms_data = np.array([[mean_data], [std_data]])\n",
    "    \n",
    "    mean_model, std_model = model_moments(mu, sigma)\n",
    "    moms_model = np.array([[mean_model], [std_model]])\n",
    "\n",
    "    err_vec = (moms_model - moms_data) / moms_data\n",
    "    \n",
    "    return err_vec"
   ]
  },
  {
   "cell_type": "markdown",
   "metadata": {},
   "source": [
    "And fianlly, the criterion function"
   ]
  },
  {
   "cell_type": "code",
   "execution_count": 7,
   "metadata": {},
   "outputs": [],
   "source": [
    "def criterion(params, *args):\n",
    "    '''\n",
    "    --------------------------------------------------------------------\n",
    "    This function computes the GMM weighted sum of squared moment errors\n",
    "    criterion function value given parameter values and an estimate of\n",
    "    the weighting matrix.\n",
    "    --------------------------------------------------------------------\n",
    "    INPUTS:\n",
    "    params = (2,) vector, ([mu, sigma])\n",
    "    mu     = scalar, mean of the normally distributed random variable\n",
    "    sigma  = scalar > 0, standard deviation of the normally distributed\n",
    "             random variable\n",
    "    args   = length 2 tuple, (xvals, W_hat)\n",
    "    xvals  = (N,) vector, values of the truncated normally distributed\n",
    "             random variable\n",
    "    W_hat  = (R, R) matrix, estimate of optimal weighting matrix\n",
    "    \n",
    "    OTHER FUNCTIONS AND FILES CALLED BY THIS FUNCTION:\n",
    "        norm_pdf()\n",
    "    \n",
    "    OBJECTS CREATED WITHIN FUNCTION:\n",
    "    err        = (2, 1) matrix, column vector of two moment error\n",
    "                 functions\n",
    "    crit_val   = scalar > 0, GMM criterion function value\n",
    "    \n",
    "    FILES CREATED BY THIS FUNCTION: None\n",
    "    \n",
    "    RETURNS: crit_val\n",
    "    --------------------------------------------------------------------\n",
    "    '''\n",
    "    mu, sigma = params\n",
    "    xvals, W = args\n",
    "    err = err_vec(xvals, mu, sigma)\n",
    "    crit_val = np.dot(np.dot(err.T, W), err) \n",
    "    \n",
    "    return crit_val"
   ]
  },
  {
   "cell_type": "markdown",
   "metadata": {},
   "source": [
    "Now I start to implement GMM estimation"
   ]
  },
  {
   "cell_type": "code",
   "execution_count": 8,
   "metadata": {},
   "outputs": [
    {
     "name": "stdout",
     "output_type": "stream",
     "text": [
      "      fun: array([[  2.07488379e-11]])\n",
      " hess_inv: <2x2 LbfgsInvHessProduct with dtype=float64>\n",
      "      jac: array([  1.24921689e-05,   2.54907972e-05])\n",
      "  message: b'CONVERGENCE: REL_REDUCTION_OF_F_<=_FACTR*EPSMCH'\n",
      "     nfev: 27\n",
      "      nit: 7\n",
      "   status: 0\n",
      "  success: True\n",
      "        x: array([ 11.33188484,   0.20869633])\n"
     ]
    }
   ],
   "source": [
    "mu_init, sigma_init = data_moments(np.log(wages))\n",
    "params_init = np.array([mu_init, sigma_init])\n",
    "\n",
    "W_hat = np.eye(2)\n",
    "gmm_args = (wages, W_hat)\n",
    "\n",
    "results = opt.minimize(criterion, params_init, gmm_args, method='L-BFGS-B', bounds=((None, None), (1e-10, None)))\n",
    "\n",
    "mu_GMM_ident_mat, sig_GMM_ident_mat = results.x\n",
    "print(results)"
   ]
  },
  {
   "cell_type": "markdown",
   "metadata": {},
   "source": [
    "I plot the estimated distribution against the histogram below"
   ]
  },
  {
   "cell_type": "code",
   "execution_count": 9,
   "metadata": {},
   "outputs": [
    {
     "data": {
      "image/png": "[encoded data removed]",
      "text/plain": [
       "<matplotlib.figure.Figure at 0x236902fb0b8>"
      ]
     },
     "metadata": {},
     "output_type": "display_data"
    }
   ],
   "source": [
    "count, bins, patches = plt.hist(wages, 30, edgecolor='black', normed=True)\n",
    "plt.title(\"Income Distribution of MACSS Students\", fontsize = 20)\n",
    "plt.ylabel(\"Density: Percent of incomes\")\n",
    "plt.xlabel(\"Income\")\n",
    "\n",
    "dist_pts = np.linspace(0.1, 150000, 1000)\n",
    "plt.plot(dist_pts, lognorm_pdf(dist_pts, mu_GMM_ident_mat, sig_GMM_ident_mat),\n",
    "         linewidth=2, color='r', label='Log Normal: GMM with Identity Matrix')\n",
    "plt.legend(loc='upper left')\n",
    "\n",
    "plt.show()"
   ]
  },
  {
   "cell_type": "code",
   "execution_count": 10,
   "metadata": {},
   "outputs": [
    {
     "name": "stdout",
     "output_type": "stream",
     "text": [
      "GMM criterion function at the estimated parameter values is [  2.07488379e-11]\n",
      "Two data moments are (85276.823606258113, 17992.542128046523)\n",
      "Two model moments are (85277.158375889354, 17992.583697689046)\n",
      "Error vector \n",
      " [[  3.92568129e-06]\n",
      " [  2.31038184e-06]]\n"
     ]
    }
   ],
   "source": [
    "print(\"GMM criterion function at the estimated parameter values is\", results.fun[0])\n",
    "print(\"Two data moments are\", data_moments(wages))\n",
    "print(\"Two model moments are\", model_moments(mu_GMM_ident_mat, sig_GMM_ident_mat))\n",
    "print(\"Error vector \\n\", err_vec(wages, mu_GMM_ident_mat, sig_GMM_ident_mat))"
   ]
  },
  {
   "cell_type": "markdown",
   "metadata": {},
   "source": [
    "#### (c) Two-step GMM\n",
    "The code below performs a two-step GMM estimation"
   ]
  },
  {
   "cell_type": "code",
   "execution_count": 11,
   "metadata": {},
   "outputs": [
    {
     "name": "stdout",
     "output_type": "stream",
     "text": [
      "Variance-covariance matrix is \n",
      " [[  7.70548681e-14   4.53491138e-14]\n",
      " [  4.53491138e-14   2.66893211e-14]]\n",
      "W_hat is \n",
      " [[  7.15933228e+12   4.21348296e+12]\n",
      " [  4.21348296e+12   2.47976180e+12]]\n"
     ]
    }
   ],
   "source": [
    "err_firststep = err_vec(wages, mu_GMM_ident_mat, sig_GMM_ident_mat)\n",
    "VCV_2step = np.dot(err_firststep, err_firststep.T) / len(wages)\n",
    "print(\"Variance-covariance matrix is \\n\", VCV_2step)\n",
    "\n",
    "'''\n",
    "# If sometimes found the elements in matrix is too small, use code below\n",
    "for x in np.nditer(VCV_2step, op_flags=['readwrite']):\n",
    "    if x < 1e-7:\n",
    "        x[...] = 1e-7\n",
    "'''\n",
    "\n",
    "W_hat_2step = lin.pinv(VCV_2step)  \n",
    "print(\"W_hat is \\n\", W_hat_2step)"
   ]
  },
  {
   "cell_type": "code",
   "execution_count": 12,
   "metadata": {},
   "outputs": [
    {
     "name": "stdout",
     "output_type": "stream",
     "text": [
      "      fun: array([[ 0.00045164]])\n",
      " hess_inv: <2x2 LbfgsInvHessProduct with dtype=float64>\n",
      "      jac: array([  7.77424702e-01,   3.71019676e+05])\n",
      "  message: b'ABNORMAL_TERMINATION_IN_LNSRCH'\n",
      "     nfev: 201\n",
      "      nit: 6\n",
      "   status: 2\n",
      "  success: False\n",
      "        x: array([ 11.32586446,   0.21167458])\n"
     ]
    }
   ],
   "source": [
    "mu_init, sigma_init = data_moments(np.log(wages))\n",
    "params_init = np.array([mu_init, sigma_init])\n",
    "\n",
    "W_hat = W_hat_2step\n",
    "gmm_args = (wages, W_hat)\n",
    "\n",
    "results = opt.minimize(criterion, params_init, gmm_args, method='L-BFGS-B', bounds=((None, None), (1e-10, None)))\n",
    "\n",
    "mu_GMM_2step, sig_GMM_2step = results.x\n",
    "print(results)"
   ]
  },
  {
   "cell_type": "code",
   "execution_count": 13,
   "metadata": {},
   "outputs": [
    {
     "data": {
      "image/png": "[encoded data removed]",
      "text/plain": [
       "<matplotlib.figure.Figure at 0x236903a0a58>"
      ]
     },
     "metadata": {},
     "output_type": "display_data"
    }
   ],
   "source": [
    "count, bins, patches = plt.hist(wages, 30, edgecolor='black', normed=True)\n",
    "plt.title(\"Income Distribution of MACSS Students\", fontsize = 20)\n",
    "plt.ylabel(\"Density: Percent of incomes\")\n",
    "plt.xlabel(\"Income\")\n",
    "\n",
    "dist_pts = np.linspace(0.1, 150000, 1000)\n",
    "plt.plot(dist_pts, lognorm_pdf(dist_pts, mu_GMM_ident_mat, sig_GMM_ident_mat),\n",
    "         linewidth=2, color='r', label='Log Normal: GMM with Identity Matrix')\n",
    "plt.legend(loc='upper left')\n",
    "\n",
    "dist_pts = np.linspace(0.1, 150000, 1000)\n",
    "plt.plot(dist_pts, lognorm_pdf(dist_pts, mu_GMM_2step, sig_GMM_2step),\n",
    "         linewidth=2, color='b', label='Log Normal: GMM with 2-step estimation')\n",
    "plt.legend(loc='upper left')\n",
    "\n",
    "plt.show()"
   ]
  },
  {
   "cell_type": "code",
   "execution_count": 14,
   "metadata": {},
   "outputs": [
    {
     "name": "stdout",
     "output_type": "stream",
     "text": [
      "GMM criterion function at the estimated parameter values is [ 0.00045164]\n",
      "Two data moments are (85276.823606258113, 17992.542128046523)\n",
      "Two model moments are (84818.378453149897, 18156.895846265455)\n",
      "Error vector \n",
      " [[-0.00537596]\n",
      " [ 0.00913455]]\n"
     ]
    }
   ],
   "source": [
    "print(\"GMM criterion function at the estimated parameter values is\", results.fun[0])\n",
    "print(\"Two data moments are\", data_moments(wages))\n",
    "print(\"Two model moments are\", model_moments(results.x[0], results.x[1]))\n",
    "print(\"Error vector \\n\", err_vec(wages, results.x[0], results.x[1]))"
   ]
  },
  {
   "cell_type": "markdown",
   "metadata": {},
   "source": [
    "#### (d) Change to different moments\n",
    "Below I first define the data moment function"
   ]
  },
  {
   "cell_type": "code",
   "execution_count": 15,
   "metadata": {},
   "outputs": [],
   "source": [
    "def data_moments3(xvals):\n",
    "    '''\n",
    "    --------------------------------------------------------------------\n",
    "    This function computes the four data moments for GMM\n",
    "    (binpct_1, binpct_2, binpct_3, binpct_4).\n",
    "    --------------------------------------------------------------------\n",
    "    INPUTS:\n",
    "    xvals = (N,) vector, test scores data\n",
    "\n",
    "    OTHER FUNCTIONS AND FILES CALLED BY THIS FUNCTION: None\n",
    "\n",
    "    OBJECTS CREATED WITHIN FUNCTION:\n",
    "    bpct_1_dat = scalar in [0, 1], percent of observations\n",
    "                 0 < x < 75000\n",
    "    bpct_2_dat = scalar in [0, 1], percent of observations\n",
    "                 75000 <= x <= 100000\n",
    "    bpct_3_dat = scalar in [0, 1], percent of observations\n",
    "                 x > 100000\n",
    "\n",
    "    FILES CREATED BY THIS FUNCTION: None\n",
    "\n",
    "    RETURNS: bpct_1, bpct_2, bpct_3\n",
    "    --------------------------------------------------------------------\n",
    "    '''\n",
    "    bpct_1_dat = xvals[xvals < 75000].shape[0] / xvals.shape[0]\n",
    "    bpct_2_dat = (xvals[(xvals >=75000) & (xvals <= 100000)].shape[0] /\n",
    "                  xvals.shape[0])\n",
    "    bpct_3_dat = xvals[xvals > 100000].shape[0] / xvals.shape[0]\n",
    "\n",
    "    return bpct_1_dat, bpct_2_dat, bpct_3_dat"
   ]
  },
  {
   "cell_type": "markdown",
   "metadata": {},
   "source": [
    "Then I define the function for model moments"
   ]
  },
  {
   "cell_type": "code",
   "execution_count": 16,
   "metadata": {},
   "outputs": [],
   "source": [
    "def model_moments3(mu, sigma):\n",
    "    '''\n",
    "    --------------------------------------------------------------------\n",
    "    This function computes the four model moments for GMM\n",
    "    (binpct_1, binpct_2, binpct_3, binpct_4).\n",
    "    --------------------------------------------------------------------\n",
    "    INPUTS:\n",
    "    mu     = scalar, mean of the normally distributed random variable\n",
    "    sigma  = scalar > 0, standard deviation of the normally distributed\n",
    "             random variable\n",
    "    \n",
    "    OTHER FUNCTIONS AND FILES CALLED BY THIS FUNCTION:\n",
    "        trunc_norm_pdf()\n",
    "        xfx()\n",
    "    \n",
    "    OBJECTS CREATED WITHIN FUNCTION:\n",
    "    bpct_1_mod = scalar in [0, 1], percent of model observations in\n",
    "                 bin 1\n",
    "    bp_1_err   = scalar > 0, estimated error in the computation of the\n",
    "                 integral for bpct_1_mod\n",
    "    bpct_2_mod = scalar in [0, 1], percent of model observations in\n",
    "                 bin 2\n",
    "    bp_2_err   = scalar > 0, estimated error in the computation of the\n",
    "                 integral for bpct_2_mod\n",
    "    bpct_3_mod = scalar in [0, 1], percent of model observations in\n",
    "                 bin 3\n",
    "    bp_3_err   = scalar > 0, estimated error in the computation of the\n",
    "                 integral for bpct_3_mod\n",
    "    \n",
    "    FILES CREATED BY THIS FUNCTION: None\n",
    "    \n",
    "    RETURNS: bpct_1_mod, bpct_2_mod, bpct_3_mod, bpct_4_mod\n",
    "    --------------------------------------------------------------------\n",
    "    '''\n",
    "    xfx = lambda x: lognorm_pdf(x, mu, sigma)\n",
    "    (bpct_1_mod, bp_1_err) = intgr.quad(xfx, 1e-6, 75000 - 1e-6)\n",
    "    (bpct_2_mod, bp_2_err) = intgr.quad(xfx, 75000, 100000)\n",
    "    (bpct_3_mod, bp_3_err) = (1, 0) - intgr.quad(xfx, 1e-6, 100000)* np.array([1, -1])\n",
    "    \n",
    "    return bpct_1_mod, bpct_2_mod, bpct_3_mod"
   ]
  },
  {
   "cell_type": "markdown",
   "metadata": {},
   "source": [
    "Then the Error vector"
   ]
  },
  {
   "cell_type": "code",
   "execution_count": 17,
   "metadata": {},
   "outputs": [],
   "source": [
    "def err_vec3(xvals, mu, sigma):\n",
    "    '''\n",
    "    --------------------------------------------------------------------\n",
    "    This function computes the vector of moment errors (in percent\n",
    "    deviation from the data moment vector) for GMM.\n",
    "    --------------------------------------------------------------------\n",
    "    INPUTS:\n",
    "    xvals  = (N,) vector, test scores data\n",
    "    mu     = scalar, mean of the normally distributed random variable\n",
    "    sigma  = scalar > 0, standard deviation of the normally distributed\n",
    "             random variable\n",
    "    \n",
    "    OTHER FUNCTIONS AND FILES CALLED BY THIS FUNCTION:\n",
    "        data_moments4()\n",
    "        model_moments4()\n",
    "    \n",
    "    OBJECTS CREATED WITHIN FUNCTION:\n",
    "    mean_data  = scalar, mean value of data\n",
    "    var_data   = scalar > 0, variance of data\n",
    "    moms_data  = (2, 1) matrix, column vector of two data moments\n",
    "    mean_model = scalar, mean value from model\n",
    "    var_model  = scalar > 0, variance from model\n",
    "    moms_model = (2, 1) matrix, column vector of two model moments\n",
    "    err_vec    = (2, 1) matrix, column vector of two moment error\n",
    "                 functions\n",
    "    \n",
    "    FILES CREATED BY THIS FUNCTION: None\n",
    "    \n",
    "    RETURNS: err_vec\n",
    "    --------------------------------------------------------------------\n",
    "    '''\n",
    "    bpct_1_dat, bpct_2_dat, bpct_3_dat = data_moments3(xvals)\n",
    "    \n",
    "    moms_data = np.array([[bpct_1_dat], [bpct_2_dat], [bpct_3_dat]])\n",
    "    \n",
    "    bpct_1_mod, bpct_2_mod, bpct_3_mod = model_moments3(mu, sigma)\n",
    "    moms_model = np.array([[bpct_1_mod], [bpct_2_mod], [bpct_3_mod]])\n",
    "    \n",
    "    err_vec = 100 * ((moms_model - moms_data) / moms_data)\n",
    "    \n",
    "    return err_vec"
   ]
  },
  {
   "cell_type": "markdown",
   "metadata": {},
   "source": [
    "Then the criterion function"
   ]
  },
  {
   "cell_type": "code",
   "execution_count": 18,
   "metadata": {},
   "outputs": [],
   "source": [
    "def criterion3(params, *args):\n",
    "    '''\n",
    "    --------------------------------------------------------------------\n",
    "    This function computes the GMM weighted sum of squared moment errors\n",
    "    criterion function value given parameter values and an estimate of\n",
    "    the weighting matrix.\n",
    "    --------------------------------------------------------------------\n",
    "    INPUTS:\n",
    "    params = (2,) vector, ([mu, sigma])\n",
    "    mu     = scalar, mean of the normally distributed random variable\n",
    "    sigma  = scalar > 0, standard deviation of the normally distributed\n",
    "             random variable\n",
    "    args   = length 3 tuple, (xvals, cutoff, W_hat)\n",
    "    xvals  = (N,) vector, values of the truncated normally distributed\n",
    "             random variable\n",
    "    W_hat  = (R, R) matrix, estimate of optimal weighting matrix\n",
    "    \n",
    "    OTHER FUNCTIONS AND FILES CALLED BY THIS FUNCTION:\n",
    "        err_vec3()\n",
    "    \n",
    "    OBJECTS CREATED WITHIN FUNCTION:\n",
    "    err        = (3, 1) matrix, column vector of four moment error\n",
    "                 functions\n",
    "    crit_val   = scalar > 0, GMM criterion function value\n",
    "    \n",
    "    FILES CREATED BY THIS FUNCTION: None\n",
    "    \n",
    "    RETURNS: crit_val\n",
    "    --------------------------------------------------------------------\n",
    "    '''\n",
    "    mu, sigma = params\n",
    "    xvals, W = args\n",
    "    err = err_vec3(xvals, mu, sigma)\n",
    "    crit_val = np.dot(np.dot(err.T, W), err) \n",
    "    \n",
    "    return crit_val"
   ]
  },
  {
   "cell_type": "code",
   "execution_count": 19,
   "metadata": {},
   "outputs": [
    {
     "name": "stdout",
     "output_type": "stream",
     "text": [
      "      fun: array([[  2.53446197e-11]])\n",
      " hess_inv: <2x2 LbfgsInvHessProduct with dtype=float64>\n",
      "      jac: array([  1.50342190e-06,  -3.56173135e-06])\n",
      "  message: b'CONVERGENCE: NORM_OF_PROJECTED_GRADIENT_<=_PGTOL'\n",
      "     nfev: 24\n",
      "      nit: 6\n",
      "   status: 0\n",
      "  success: True\n",
      "        x: array([ 11.33568133,   0.21059845])\n"
     ]
    }
   ],
   "source": [
    "mu_init, sigma_init = data_moments(np.log(wages))\n",
    "params_init = np.array([mu_init, sigma_init])\n",
    "\n",
    "W_hat = np.eye(3)\n",
    "gmm_args = (wages, W_hat)\n",
    "\n",
    "results = opt.minimize(criterion3, params_init, gmm_args, method='L-BFGS-B', bounds=((None, None), (1e-10, None)))\n",
    "mu_GMM_ident_mat, sig_GMM_ident_mat = results.x\n",
    "print(results)"
   ]
  },
  {
   "cell_type": "code",
   "execution_count": 20,
   "metadata": {},
   "outputs": [
    {
     "data": {
      "image/png": "[encoded data removed]",
      "text/plain": [
       "<matplotlib.figure.Figure at 0x236904c5978>"
      ]
     },
     "metadata": {},
     "output_type": "display_data"
    }
   ],
   "source": [
    "count, bins, patches = plt.hist(wages, 30, edgecolor='black', normed=True)\n",
    "plt.title(\"Income Distribution of MACSS Students\", fontsize = 20)\n",
    "plt.ylabel(\"Density: Percent of incomes\")\n",
    "plt.xlabel(\"Income\")\n",
    "\n",
    "dist_pts = np.linspace(0.1, 150000, 1000)\n",
    "plt.plot(dist_pts, lognorm_pdf(dist_pts, results.x[0], results.x[1]),\n",
    "         linewidth=2, color='r', label='GMM with Identity Matrix')\n",
    "plt.legend(loc='upper left')\n",
    "\n",
    "plt.show()"
   ]
  },
  {
   "cell_type": "code",
   "execution_count": 21,
   "metadata": {},
   "outputs": [
    {
     "name": "stdout",
     "output_type": "stream",
     "text": [
      "GMM criterion function at the estimated parameter values is [  2.53446197e-11]\n",
      "Two data moments are (0.3, 0.5, 0.2)\n",
      "Two model moments are (0.30000000362083074, 0.5000000058481757, 0.19999999050898098)\n",
      "Error vector \n",
      " [[ 0.00420802]\n",
      " [ 0.01356259]]\n"
     ]
    }
   ],
   "source": [
    "print(\"GMM criterion function at the estimated parameter values is\", results.fun[0])\n",
    "print(\"Two data moments are\", data_moments3(wages))\n",
    "print(\"Two model moments are\", model_moments3(results.x[0], results.x[1]))\n",
    "print(\"Error vector \\n\", err_vec(wages, results.x[0], results.x[1]))"
   ]
  },
  {
   "cell_type": "markdown",
   "metadata": {},
   "source": [
    "#### (d) Two-step GMM\n",
    "Below I perform two-step GMM"
   ]
  },
  {
   "cell_type": "code",
   "execution_count": 22,
   "metadata": {},
   "outputs": [
    {
     "name": "stdout",
     "output_type": "stream",
     "text": [
      "Variance-covariance matrix is \n",
      " [[  8.85371054e-08   2.85358188e-07]\n",
      " [  2.85358188e-07   9.19719422e-07]]\n",
      "W_hat is \n",
      " [[  87092.99681788  280703.77546746]\n",
      " [ 280703.77546746  904718.08802785]]\n"
     ]
    }
   ],
   "source": [
    "err_firststep = err_vec(wages, results.x[0], results.x[1])\n",
    "VCV_2step = np.dot(err_firststep, err_firststep.T) / len(wages)\n",
    "print(\"Variance-covariance matrix is \\n\", VCV_2step)\n",
    "'''\n",
    "for x in np.nditer(VCV_2step, op_flags=['readwrite']):\n",
    "    if x < 1e-7:\n",
    "        x[...] = 1e-7\n",
    "'''\n",
    "W_hat_2step = lin.pinv(VCV_2step)  \n",
    "print(\"W_hat is \\n\", W_hat_2step)"
   ]
  },
  {
   "cell_type": "code",
   "execution_count": 23,
   "metadata": {},
   "outputs": [
    {
     "name": "stdout",
     "output_type": "stream",
     "text": [
      "mu_GMM1= 11.3201824015  sig_GMM1= 0.211674510077\n",
      "      fun: array([[  3.93937743e-11]])\n",
      " hess_inv: <2x2 LbfgsInvHessProduct with dtype=float64>\n",
      "      jac: array([ -1.12698683e-04,   1.76412898e-01])\n",
      "  message: b'CONVERGENCE: REL_REDUCTION_OF_F_<=_FACTR*EPSMCH'\n",
      "     nfev: 54\n",
      "      nit: 5\n",
      "   status: 0\n",
      "  success: True\n",
      "        x: array([ 11.3201824 ,   0.21167451])\n"
     ]
    }
   ],
   "source": [
    "mu_init, sigma_init = data_moments(np.log(wages))\n",
    "params_init = np.array([mu_init, sigma_init])\n",
    "\n",
    "W_hat = W_hat_2step\n",
    "gmm_args = (wages, W_hat)\n",
    "\n",
    "results = opt.minimize(criterion, params_init, gmm_args, method='L-BFGS-B', bounds=((None, None), (1e-10, None)))\n",
    "\n",
    "mu_GMM_2step, sig_GMM_2step = results.x\n",
    "print('mu_GMM1=',mu_GMM_2step, ' sig_GMM1=', sig_GMM_2step)\n",
    "print(results)"
   ]
  },
  {
   "cell_type": "code",
   "execution_count": 24,
   "metadata": {},
   "outputs": [
    {
     "data": {
      "image/png": "[encoded data removed]",
      "text/plain": [
       "<matplotlib.figure.Figure at 0x23690565898>"
      ]
     },
     "metadata": {},
     "output_type": "display_data"
    }
   ],
   "source": [
    "count, bins, patches = plt.hist(wages, 30, edgecolor='black', normed=True)\n",
    "plt.title(\"Income Distribution of MACSS Students\", fontsize = 20)\n",
    "plt.ylabel(\"Density: Percent of incomes\")\n",
    "plt.xlabel(\"Income\")\n",
    "\n",
    "dist_pts = np.linspace(0.1, 150000, 1000)\n",
    "plt.plot(dist_pts, lognorm_pdf(dist_pts, mu_GMM_ident_mat, sig_GMM_ident_mat),\n",
    "         linewidth=2, color='r', label='Log Normal: GMM with Identity Matrix')\n",
    "plt.legend(loc='upper left')\n",
    "\n",
    "dist_pts = np.linspace(0.1, 150000, 1000)\n",
    "plt.plot(dist_pts, lognorm_pdf(dist_pts, mu_GMM_2step, sig_GMM_2step),\n",
    "         linewidth=2, color='b', label='Log Normal: GMM with 2-step estimation')\n",
    "plt.legend(loc='upper left')\n",
    "\n",
    "plt.show()"
   ]
  },
  {
   "cell_type": "code",
   "execution_count": 25,
   "metadata": {},
   "outputs": [
    {
     "name": "stdout",
     "output_type": "stream",
     "text": [
      "GMM criterion function at the estimated parameter values is [  3.93937743e-11]\n",
      "Two data moments are (0.3, 0.5, 0.2)\n",
      "Two model moments are (0.3268910950046711, 0.49184617620552695, 0.18126272876707761)\n",
      "Error vector \n",
      " [[-0.01101147]\n",
      " [ 0.00341648]]\n"
     ]
    }
   ],
   "source": [
    "print(\"GMM criterion function at the estimated parameter values is\", results.fun[0])\n",
    "print(\"Two data moments are\", data_moments3(wages))\n",
    "print(\"Two model moments are\", model_moments3(results.x[0], results.x[1]))\n",
    "print(\"Error vector \\n\", err_vec(wages, results.x[0], results.x[1]))"
   ]
  },
  {
   "cell_type": "markdown",
   "metadata": {},
   "source": [
    "#### (e) Best Estimates\n",
    "Basically, all these estimated are very close to each other. Having a closer look, answers from (b) and (c) are very close since they all use sample mean and standard deviation as the moments; similarly, answers from (d) and (e) are quite close since they all use the proportion as moments.\n",
    "\n",
    "Theoretically, all these estimations are asymptotic equivalent and they are valid estimators. However, if I have to make a choice, I would choose the estimation from (d) and (e) since tey have smaller criterion function value, which suggests we get better estimation by using proportion as moments. And by theoretical design, using 2-step estimation should get better results. "
   ]
  },
  {
   "cell_type": "markdown",
   "metadata": {},
   "source": [
    "### Problem 2.Linear regression and GMM (3 points)"
   ]
  },
  {
   "cell_type": "markdown",
   "metadata": {},
   "source": [
    "I first import pandas package and data"
   ]
  },
  {
   "cell_type": "code",
   "execution_count": 26,
   "metadata": {},
   "outputs": [],
   "source": [
    "import pandas as pd\n",
    "sick = pd.read_csv(\"sick.txt\")"
   ]
  },
  {
   "cell_type": "code",
   "execution_count": 27,
   "metadata": {},
   "outputs": [],
   "source": [
    "def data_moment(xvals):\n",
    "    return xvals[\"sick\"]\n",
    "\n",
    "def model_moment(xvals, beta_0, beta_1, beta_2, beta_3):\n",
    "    return beta_0 + beta_1 * xvals[\"age\"] + beta_2 * xvals[\"children\"] + beta_3 * xvals[\"avgtemp_winter\"]\n",
    "\n",
    "def err_vec(xvals, beta_0, beta_1, beta_2, beta_3):\n",
    "    '''\n",
    "    Compute Error Vector\n",
    "    '''\n",
    "    data_mom = data_moment(xvals)\n",
    "    moms_data = np.array(data_mom)\n",
    "    \n",
    "    model_mom = model_moment(xvals, beta_0, beta_1, beta_2, beta_3)\n",
    "    moms_model = np.array(model_mom)\n",
    "    \n",
    "    err_vec = (moms_model - moms_data) / moms_data\n",
    "    \n",
    "    return err_vec\n",
    "\n",
    "def criterion(params, *args):\n",
    "    beta_0, beta_1, beta_2, beta_3 = params     \n",
    "    xvals, W = args\n",
    "    \n",
    "    err = err_vec(xvals, beta_0, beta_1, beta_2, beta_3)\n",
    "    crit_val = np.dot(np.dot(err.T, W), err) \n",
    "    \n",
    "    return crit_val"
   ]
  },
  {
   "cell_type": "code",
   "execution_count": 28,
   "metadata": {},
   "outputs": [
    {
     "name": "stdout",
     "output_type": "stream",
     "text": [
      "      fun: 0.014856789121411675\n",
      " hess_inv: <4x4 LbfgsInvHessProduct with dtype=float64>\n",
      "      jac: array([-0.000477  , -0.01194443,  0.00012643, -0.02469765])\n",
      "  message: b'CONVERGENCE: REL_REDUCTION_OF_F_<=_FACTR*EPSMCH'\n",
      "     nfev: 155\n",
      "      nit: 25\n",
      "   status: 0\n",
      "  success: True\n",
      "        x: array([ 0.25222326,  0.01302316,  0.39976412, -0.01006035])\n"
     ]
    }
   ],
   "source": [
    "params_init = np.array([1, 2, 3, 4])\n",
    "\n",
    "W_hat = np.eye(200)\n",
    "gmm_args = (sick, W_hat)\n",
    "\n",
    "results = opt.minimize(criterion, params_init, gmm_args, method='L-BFGS-B', \\\n",
    "                       bounds=((None, None), (None, None), (None, None), (None, None)))\n",
    "\n",
    "print(results)"
   ]
  },
  {
   "cell_type": "code",
   "execution_count": 29,
   "metadata": {},
   "outputs": [
    {
     "name": "stdout",
     "output_type": "stream",
     "text": [
      "The estimated coefficients are:\n",
      "\n",
      "beta_0 =  0.252223262258\n",
      "beta_1 =  0.0130231588196\n",
      "beta_2 =  0.399764120493\n",
      "beta_3 =  -0.0100603454099\n",
      "GMM criterion function at the estimated parameter values is 0.0148567891214\n",
      "Error vector \n",
      " [  1.00744865e-03   4.17626362e-03   3.55654160e-03   5.44281278e-04\n",
      "   2.54889565e-03   5.71776807e-03  -4.32030543e-03  -1.50430393e-03\n",
      "   6.08665477e-03  -2.86623843e-03   1.40105826e-03   2.94479684e-03\n",
      "  -8.81138239e-03  -4.23207059e-03  -9.19593644e-04   2.04387113e-03\n",
      "   4.18095452e-04  -2.54821651e-02  -1.20204671e-03   2.33821193e-03\n",
      "  -3.33185900e-03   1.63400529e-02  -6.20876033e-03  -3.18105287e-03\n",
      "   5.06547824e-03  -3.77614500e-03  -1.67278865e-03   7.31312616e-03\n",
      "   3.76438104e-03   4.65608583e-04  -1.42717166e-03  -1.40523566e-03\n",
      "   6.69679996e-04   1.27426878e-03   1.84490881e-03   9.42313140e-03\n",
      "  -3.21300857e-03   4.23691348e-03   1.64048525e-03  -1.78467893e-03\n",
      "   5.01490907e-03  -6.06243264e-04  -5.11654523e-04   1.02671787e-02\n",
      "  -3.79268499e-03   1.25617697e-03   1.43934052e-03   1.27024231e-03\n",
      "   1.78090381e-03   3.31737960e-03   2.95647265e-03  -4.09003049e-03\n",
      "  -2.43452691e-03  -9.74458966e-04   2.21005689e-03   3.62316888e-03\n",
      "  -7.80678506e-03   9.44655818e-04  -1.10709755e-04   6.05296700e-03\n",
      "  -1.45434838e-03   3.31675868e-03   3.30293045e-03   2.40350726e-04\n",
      "   8.09809562e-03   1.67990335e-03  -8.30436416e-05  -1.16340282e-03\n",
      "   8.04083364e-04  -5.59394166e-03   7.18383581e-04  -3.95601465e-03\n",
      "   6.97740865e-04   1.31400627e-03  -1.77442378e-03  -1.54549499e-03\n",
      "  -1.59386040e-03   7.45591335e-03   1.21010446e-03  -1.16932889e-03\n",
      "  -7.70027523e-03   3.59693282e-03  -1.51182714e-03  -6.34443616e-03\n",
      "   3.83531471e-03  -1.21435300e-03   6.14531402e-02   4.25458742e-03\n",
      "  -4.39136356e-03   3.12771360e-02  -1.08194171e-03   2.37445288e-03\n",
      "   3.32454418e-03   2.07061490e-04  -2.59801014e-03   2.40588427e-05\n",
      "  -1.30359120e-03   4.26091013e-04   2.47509248e-03  -3.07138991e-02\n",
      "  -3.10745441e-03  -8.96676875e-03  -2.94581171e-02  -1.85584322e-02\n",
      "   3.95226953e-03  -5.51111012e-02  -3.07242055e-03  -2.09625350e-03\n",
      "  -3.44248578e-03   2.91750961e-03   2.48250278e-02   2.50023164e-03\n",
      "  -1.21977820e-03  -3.92888243e-03  -1.74750228e-03  -8.23223963e-04\n",
      "  -2.40263539e-03  -2.52455492e-03  -1.02767752e-02   7.86893347e-04\n",
      "  -6.78874044e-03  -2.43674310e-03  -1.88217524e-03   4.99335561e-03\n",
      "   3.96748660e-03   2.83792212e-03   3.78427287e-04   2.28296454e-03\n",
      "  -2.81409365e-03  -7.42821245e-05  -7.84401295e-03   7.78935904e-03\n",
      "  -8.37815667e-04  -2.42218597e-03   1.69034419e-03  -4.51214043e-04\n",
      "   6.64357916e-03  -1.83972628e-04  -1.22594053e-02   4.08508370e-04\n",
      "   7.41788491e-03  -8.82927643e-03   3.15379242e-04   6.22570949e-04\n",
      "  -3.84917943e-03  -3.98661115e-03  -7.08154344e-04   3.34234069e-03\n",
      "   1.59640628e-03  -2.05167185e-03   1.10809843e-03  -2.66560244e-03\n",
      "   3.05279964e-04  -5.41113395e-04   1.14381741e-03  -1.98887377e-03\n",
      "  -3.60828776e-03  -1.06057258e-03   7.96515608e-05  -3.53780632e-03\n",
      "   2.50145830e-02  -3.55315513e-03   1.62960041e-03  -2.36930158e-03\n",
      "  -6.67639944e-04   4.17460811e-03   5.32281516e-03  -2.37019469e-03\n",
      "   1.05234687e-03  -2.00119209e-03  -4.48040175e-03  -9.35501383e-03\n",
      "   1.96843295e-03  -7.87238115e-04   1.75390214e-03   2.74115720e-03\n",
      "  -8.11185127e-04  -1.80710178e-03  -1.97050520e-04  -3.89326839e-03\n",
      "   5.23618739e-03   5.33047267e-03   3.97311371e-03   2.47637428e-03\n",
      "  -3.72003844e-03   3.26021354e-04  -2.87536538e-03   2.19999617e-03\n",
      "  -1.07779574e-03  -1.08752595e-03   8.90111174e-03  -1.27399208e-03\n",
      "  -1.32961576e-03   4.49100085e-03  -3.14507242e-03  -7.70486673e-03\n",
      "   1.08166340e-03   1.93755467e-03   2.22271564e-03  -2.52696435e-03]\n"
     ]
    }
   ],
   "source": [
    "beta_0, beta_1, beta_2, beta_3 = results.x\n",
    "print(\"The estimated coefficients are:\\n\")\n",
    "print(\"beta_0 = \", beta_0)\n",
    "print(\"beta_1 = \", beta_1)\n",
    "print(\"beta_2 = \", beta_2)\n",
    "print(\"beta_3 = \", beta_3)\n",
    "print(\"GMM criterion function at the estimated parameter values is\", results.fun)\n",
    "\n",
    "print(\"Error vector \\n\", err_vec(sick, results.x[0], results.x[1], results.x[2], results.x[3]))"
   ]
  },
  {
   "cell_type": "markdown",
   "metadata": {},
   "source": [
    "#### My answer to Probalem Set 3 ends here, thanks for your attention!"
   ]
  },
  {
   "cell_type": "markdown",
   "metadata": {},
   "source": []
  },
  {
   "cell_type": "code",
   "execution_count": null,
   "metadata": {},
   "outputs": [],
   "source": []
  }
 ],
 "metadata": {
  "kernelspec": {
   "display_name": "Python 3",
   "language": "python",
   "name": "python3"
  },
  "language_info": {
   "codemirror_mode": {
    "name": "ipython",
    "version": 3
   },
   "file_extension": ".py",
   "mimetype": "text/x-python",
   "name": "python",
   "nbconvert_exporter": "python",
   "pygments_lexer": "ipython3",
   "version": "3.5.2"
  }
 },
 "nbformat": 4,
 "nbformat_minor": 2
}
