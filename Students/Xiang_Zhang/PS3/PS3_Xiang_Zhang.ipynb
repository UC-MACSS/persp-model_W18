{
 "cells": [
  {
   "cell_type": "markdown",
   "metadata": {},
   "source": [
    "## Problem Set #3\n",
    "### MACS 30100, Dr. Evans\n",
    "\n",
    "### Name: Xiang Zhang\n",
    "### snzhang@uchicago.edu"
   ]
  },
  {
   "cell_type": "markdown",
   "metadata": {},
   "source": [
    "### Problem One: Some income data, lognormal distribution, and GMM"
   ]
  },
  {
   "cell_type": "code",
   "execution_count": 56,
   "metadata": {},
   "outputs": [],
   "source": [
    "# Import packages and load the data\n",
    "import numpy as np\n",
    "import numpy.linalg as lin\n",
    "import scipy.stats as sts\n",
    "import scipy.integrate as intgr\n",
    "import scipy.optimize as opt\n",
    "import matplotlib\n",
    "import matplotlib.pyplot as plt\n",
    "from mpl_toolkits.mplot3d import Axes3D\n",
    "from matplotlib import cm\n",
    "cmap1 = matplotlib.cm.get_cmap('summer')\n",
    "\n",
    "wages = np.loadtxt('incomes.txt')"
   ]
  },
  {
   "cell_type": "markdown",
   "metadata": {},
   "source": [
    "#### (a) Histogram\n",
    "\n",
    "Below I plot a histogram with 30 bins to show the income distribution"
   ]
  },
  {
   "cell_type": "code",
   "execution_count": 57,
   "metadata": {},
   "outputs": [
    {
     "data": {
      "image/png": "[encoded data removed]",
      "text/plain": [
       "<matplotlib.figure.Figure at 0x2c49c35e908>"
      ]
     },
     "metadata": {},
     "output_type": "display_data"
    }
   ],
   "source": [
    "count, bins, patches = plt.hist(wages, 30, edgecolor='black', normed=True)\n",
    "plt.title('Income Distribution of MACSS Students', fontsize=20)\n",
    "plt.xlabel('Annual Income')\n",
    "plt.ylabel('Density: Percent of scores')\n",
    "plt.show()"
   ]
  },
  {
   "cell_type": "markdown",
   "metadata": {},
   "source": [
    "#### (b) GMM Estimates"
   ]
  },
  {
   "cell_type": "markdown",
   "metadata": {},
   "source": [
    "I first define the function computing log normal distribution"
   ]
  },
  {
   "cell_type": "code",
   "execution_count": 58,
   "metadata": {},
   "outputs": [],
   "source": [
    "def lognorm_pdf(xvals, mu, sigma):\n",
    "    '''\n",
    "    --------------------------------------------------------------------\n",
    "    Generate pdf values from the log normal pdf with mean mu and\n",
    "    standard deviation sigma. \n",
    "    --------------------------------------------------------------------\n",
    "    INPUTS:\n",
    "    xvals  = (N,) vector, values of the normally distributed random\n",
    "             variable\n",
    "    mu     = scalar, mean of the log normally distributed random variable\n",
    "    sigma  = scalar > 0, standard deviation of the log normally distributed\n",
    "             random variable\n",
    "    \n",
    "    OTHER FUNCTIONS AND FILES CALLED BY THIS FUNCTION: None\n",
    "    \n",
    "    OBJECTS CREATED WITHIN FUNCTION:\n",
    "\n",
    "    pdf_vals = (N,) vector, log normal PDF values for mu and sigma\n",
    "               corresponding to xvals data\n",
    "    \n",
    "    FILES CREATED BY THIS FUNCTION: None\n",
    "    \n",
    "    RETURNS: pdf_vals\n",
    "    --------------------------------------------------------------------\n",
    "    '''\n",
    "            \n",
    "    pdf_vals    = (1/(xvals * sigma * np.sqrt(2 * np.pi) ) *\n",
    "                   np.exp( - (np.log(xvals) - mu)**2 / (2 * sigma**2)))\n",
    "    \n",
    "    return pdf_vals"
   ]
  },
  {
   "cell_type": "markdown",
   "metadata": {},
   "source": [
    "Then I define the function computing the data moments"
   ]
  },
  {
   "cell_type": "code",
   "execution_count": 59,
   "metadata": {},
   "outputs": [],
   "source": [
    "def data_moments(xvals):\n",
    "    '''\n",
    "    --------------------------------------------------------------------\n",
    "    This function computes the two data moments for GMM\n",
    "    (mean(data), variance(data)).\n",
    "    --------------------------------------------------------------------\n",
    "    INPUTS:\n",
    "    xvals = (N,) vector, test scores data\n",
    "    \n",
    "    OTHER FUNCTIONS AND FILES CALLED BY THIS FUNCTION: None\n",
    "    \n",
    "    OBJECTS CREATED WITHIN FUNCTION:\n",
    "    mean_data = scalar, mean value of test scores data\n",
    "    var_data  = scalar > 0, variance of test scores data\n",
    "    \n",
    "    FILES CREATED BY THIS FUNCTION: None\n",
    "    \n",
    "    RETURNS: mean_data, var_data\n",
    "    --------------------------------------------------------------------\n",
    "    '''\n",
    "    mean_data = xvals.mean()\n",
    "    sd_data = np.sqrt(xvals.var())\n",
    "    \n",
    "    return mean_data, sd_data"
   ]
  },
  {
   "cell_type": "markdown",
   "metadata": {},
   "source": [
    "Then I define the function generating model moments"
   ]
  },
  {
   "cell_type": "code",
   "execution_count": 60,
   "metadata": {},
   "outputs": [],
   "source": [
    "def model_moments(mu, sigma):\n",
    "    '''\n",
    "    --------------------------------------------------------------------\n",
    "    This function computes the two model moments for GMM\n",
    "    (mean(model data), variance(model data)).\n",
    "    --------------------------------------------------------------------\n",
    "    INPUTS:\n",
    "    mu     = scalar, mean of the normally distributed random variable\n",
    "    sigma  = scalar > 0, standard deviation\n",
    "    \n",
    "    RETURNS: mean_model, var_model\n",
    "    --------------------------------------------------------------------\n",
    "    '''\n",
    "    \n",
    "    mean_model = np.exp(mu + sigma ** 2 / 2)\n",
    "    var_model = np.exp(2 * mu + sigma ** 2) * (np.exp(sigma ** 2) - 1)\n",
    "    \n",
    "    std_model = np.sqrt(var_model)\n",
    "    \n",
    "    return mean_model, std_model"
   ]
  },
  {
   "cell_type": "markdown",
   "metadata": {},
   "source": [
    "Then the function defining moment error"
   ]
  },
  {
   "cell_type": "code",
   "execution_count": 61,
   "metadata": {},
   "outputs": [],
   "source": [
    "def err_vec(xvals, mu, sigma):\n",
    "    '''\n",
    "    --------------------------------------------------------------------\n",
    "    This function computes the vector of moment errors (in percent\n",
    "    deviation from the data moment vector) for GMM.\n",
    "    --------------------------------------------------------------------\n",
    "    INPUTS:\n",
    "    xvals  = (N,) vector, test scores data\n",
    "    mu     = scalar, mean of the normally distributed random variable\n",
    "    sigma  = scalar > 0, standard deviation of the normally distributed\n",
    "             random variable\n",
    "    \n",
    "    OTHER FUNCTIONS AND FILES CALLED BY THIS FUNCTION:\n",
    "        data_moments()\n",
    "        model_moments()\n",
    "    \n",
    "    OBJECTS CREATED WITHIN FUNCTION:\n",
    "    mean_data  = scalar, mean value of data\n",
    "    var_data   = scalar > 0, variance of data\n",
    "    moms_data  = (2, 1) matrix, column vector of two data moments\n",
    "    mean_model = scalar, mean value from model\n",
    "    var_model  = scalar > 0, variance from model\n",
    "    moms_model = (2, 1) matrix, column vector of two model moments\n",
    "    err_vec    = (2, 1) matrix, column vector of two moment error\n",
    "                 functions\n",
    "    \n",
    "    FILES CREATED BY THIS FUNCTION: None\n",
    "    \n",
    "    RETURNS: err_vec\n",
    "    --------------------------------------------------------------------\n",
    "    '''\n",
    "    mean_data, std_data = data_moments(xvals)\n",
    "    moms_data = np.array([[mean_data], [std_data]])\n",
    "    \n",
    "    mean_model, std_model = model_moments(mu, sigma)\n",
    "    moms_model = np.array([[mean_model], [std_model]])\n",
    "\n",
    "    err_vec = (moms_model - moms_data) / moms_data\n",
    "    \n",
    "    return err_vec"
   ]
  },
  {
   "cell_type": "markdown",
   "metadata": {},
   "source": [
    "And fianlly, the criterion function"
   ]
  },
  {
   "cell_type": "code",
   "execution_count": 62,
   "metadata": {},
   "outputs": [],
   "source": [
    "def criterion(params, *args):\n",
    "    '''\n",
    "    --------------------------------------------------------------------\n",
    "    This function computes the GMM weighted sum of squared moment errors\n",
    "    criterion function value given parameter values and an estimate of\n",
    "    the weighting matrix.\n",
    "    --------------------------------------------------------------------\n",
    "    INPUTS:\n",
    "    params = (2,) vector, ([mu, sigma])\n",
    "    mu     = scalar, mean of the normally distributed random variable\n",
    "    sigma  = scalar > 0, standard deviation of the normally distributed\n",
    "             random variable\n",
    "    args   = length 3 tuple, (xvals, cutoff, W_hat)\n",
    "    xvals  = (N,) vector, values of the truncated normally distributed\n",
    "             random variable\n",
    "    cutoff = scalar or string, ='None' if no cutoff is given, otherwise\n",
    "             is scalar upper bound value of distribution. Values above\n",
    "             this value have zero probability\n",
    "    W_hat  = (R, R) matrix, estimate of optimal weighting matrix\n",
    "    \n",
    "    OTHER FUNCTIONS AND FILES CALLED BY THIS FUNCTION:\n",
    "        norm_pdf()\n",
    "    \n",
    "    OBJECTS CREATED WITHIN FUNCTION:\n",
    "    err        = (2, 1) matrix, column vector of two moment error\n",
    "                 functions\n",
    "    crit_val   = scalar > 0, GMM criterion function value\n",
    "    \n",
    "    FILES CREATED BY THIS FUNCTION: None\n",
    "    \n",
    "    RETURNS: crit_val\n",
    "    --------------------------------------------------------------------\n",
    "    '''\n",
    "    mu, sigma = params\n",
    "    xvals, W = args\n",
    "    err = err_vec(xvals, mu, sigma)\n",
    "    crit_val = np.dot(np.dot(err.T, W), err) \n",
    "    \n",
    "    return crit_val"
   ]
  },
  {
   "cell_type": "markdown",
   "metadata": {},
   "source": [
    "Now I start to implement GMM estimation"
   ]
  },
  {
   "cell_type": "code",
   "execution_count": 63,
   "metadata": {},
   "outputs": [
    {
     "name": "stdout",
     "output_type": "stream",
     "text": [
      "mu_GMM1= 11.3318833907  sig_GMM1= 0.208696169441\n",
      "      fun: array([[  5.97510202e-12]])\n",
      " hess_inv: <2x2 LbfgsInvHessProduct with dtype=float64>\n",
      "      jac: array([  4.97656516e-06,   1.62958736e-06])\n",
      "  message: b'CONVERGENCE: NORM_OF_PROJECTED_GRADIENT_<=_PGTOL'\n",
      "     nfev: 39\n",
      "      nit: 11\n",
      "   status: 0\n",
      "  success: True\n",
      "        x: array([ 11.33188339,   0.20869617])\n"
     ]
    }
   ],
   "source": [
    "mean_data, std_data = data_moments(wages)\n",
    "mu_init = np.log(mean_data / np.sqrt(1 + std_data ** 2 / mean_data ** 2))\n",
    "sigma_init = np.log(1 + + std_data ** 2 / mean_data ** 2)\n",
    "\n",
    "params_init = np.array([mu_init, sigma_init])\n",
    "\n",
    "W_hat = np.eye(2)\n",
    "gmm_args = (wages, W_hat)\n",
    "\n",
    "results = opt.minimize(criterion, params_init, gmm_args, method='L-BFGS-B', bounds=((None, None), (1e-10, None)))\n",
    "\n",
    "mu_GMM_ident_mat, sig_GMM_ident_mat = results.x\n",
    "print('mu_GMM1=',mu_GMM_ident_mat, ' sig_GMM1=', sig_GMM_ident_mat)\n",
    "print(results)"
   ]
  },
  {
   "cell_type": "code",
   "execution_count": 64,
   "metadata": {},
   "outputs": [
    {
     "data": {
      "image/png": "[encoded data removed]",
      "text/plain": [
       "<matplotlib.figure.Figure at 0x2c49c5e5a20>"
      ]
     },
     "metadata": {},
     "output_type": "display_data"
    }
   ],
   "source": [
    "count, bins, patches = plt.hist(wages, 30, edgecolor='black', normed=True)\n",
    "plt.title(\"Income Distribution of MACSS Students\", fontsize = 20)\n",
    "plt.ylabel(\"Density: Percent of incomes\")\n",
    "plt.xlabel(\"Income\")\n",
    "\n",
    "dist_pts = np.linspace(0.1, 150000, 1000)\n",
    "plt.plot(dist_pts, lognorm_pdf(dist_pts, mu_GMM_ident_mat, sig_GMM_ident_mat),\n",
    "         linewidth=2, color='r', label='Log Normal: GMM with Identity Matrix')\n",
    "plt.legend(loc='upper left')\n",
    "\n",
    "plt.show()"
   ]
  },
  {
   "cell_type": "code",
   "execution_count": 83,
   "metadata": {},
   "outputs": [
    {
     "name": "stdout",
     "output_type": "stream",
     "text": [
      "GMM criterion function at the estimated parameter values is [ -7.09510673e-07]\n",
      "Two data moments are (85276.823606258113, 17992.542128046523)\n",
      "Two model moments are (85277.032036812874, 17992.542741812224)\n",
      "Error vector [[  2.44416415e-06]\n",
      " [  3.41122280e-08]]\n"
     ]
    }
   ],
   "source": [
    "print(\"GMM criterion function at the estimated parameter values is\", results.fun[0])\n",
    "print(\"Two data moments are\", data_moments(wages))\n",
    "print(\"Two model moments are\", model_moments(mu_GMM_ident_mat, sig_GMM_ident_mat))\n",
    "print(\"Error vector\", err_vec(wages, mu_GMM_ident_mat, sig_GMM_ident_mat))"
   ]
  },
  {
   "cell_type": "markdown",
   "metadata": {},
   "source": [
    "#### (c) Two-step GMM\n",
    "The code below performs a two-step GMM estimation"
   ]
  },
  {
   "cell_type": "code",
   "execution_count": 82,
   "metadata": {},
   "outputs": [
    {
     "name": "stdout",
     "output_type": "stream",
     "text": [
      "200 (200,)\n",
      "Variance-covariance matrix is \n",
      " [[  2.98696919e-14   4.16879424e-16]\n",
      " [  4.16879424e-16   5.81822051e-18]]\n",
      "W_hat is \n",
      " [[  3.34657132e+13   4.67067664e+11]\n",
      " [  4.67067664e+11   6.51867785e+09]]\n"
     ]
    }
   ],
   "source": [
    "err_firststep = err_vec(wages, mu_GMM_ident_mat, sig_GMM_ident_mat)\n",
    "print(len(wages), wages.shape)\n",
    "VCV_2step = np.dot(err_firststep, err_firststep.T) / len(wages)\n",
    "print(\"Variance-covariance matrix is \\n\", VCV_2step)\n",
    "\n",
    "W_hat_2step = lin.pinv(VCV_2step)  \n",
    "print(\"W_hat is \\n\", W_hat_2step)"
   ]
  },
  {
   "cell_type": "code",
   "execution_count": 76,
   "metadata": {},
   "outputs": [
    {
     "name": "stdout",
     "output_type": "stream",
     "text": [
      "mu_GMM1= 11.363307605  sig_GMM1= 0.04700121268\n",
      "      fun: array([[ -7.09510673e-07]])\n",
      " hess_inv: <2x2 LbfgsInvHessProduct with dtype=float64>\n",
      "      jac: array([ 345025.9853012 ,    4591.37175293])\n",
      "  message: b'ABNORMAL_TERMINATION_IN_LNSRCH'\n",
      "     nfev: 309\n",
      "      nit: 8\n",
      "   status: 2\n",
      "  success: False\n",
      "        x: array([ 11.3633076 ,   0.04700121])\n"
     ]
    }
   ],
   "source": [
    "mean_data, std_data = data_moments(wages)\n",
    "mu_init = np.log(mean_data / np.sqrt(1 + std_data ** 2 / mean_data ** 2))\n",
    "sigma_init = np.log(1 + + std_data ** 2 / mean_data ** 2)\n",
    "\n",
    "params_init = np.array([mu_init, sigma_init])\n",
    "\n",
    "W_hat = W_hat_2step\n",
    "gmm_args = (wages, W_hat)\n",
    "\n",
    "results = opt.minimize(criterion, params_init, gmm_args, method='L-BFGS-B', bounds=((None, None), (1e-10, None)))\n",
    "\n",
    "mu_GMM_2step, sig_GMM_2step = results.x\n",
    "print('mu_GMM1=',mu_GMM_2step, ' sig_GMM1=', sig_GMM_2step)\n",
    "print(results)"
   ]
  },
  {
   "cell_type": "code",
   "execution_count": 77,
   "metadata": {},
   "outputs": [
    {
     "data": {
      "image/png": "[encoded data removed]",
      "text/plain": [
       "<matplotlib.figure.Figure at 0x2c49c36c588>"
      ]
     },
     "metadata": {},
     "output_type": "display_data"
    }
   ],
   "source": [
    "count, bins, patches = plt.hist(wages, 30, edgecolor='black', normed=True)\n",
    "plt.title(\"Income Distribution of MACSS Students\", fontsize = 20)\n",
    "plt.ylabel(\"Density: Percent of incomes\")\n",
    "plt.xlabel(\"Income\")\n",
    "\n",
    "dist_pts = np.linspace(0.1, 150000, 1000)\n",
    "plt.plot(dist_pts, lognorm_pdf(dist_pts, mu_GMM_ident_mat, sig_GMM_ident_mat),\n",
    "         linewidth=2, color='r', label='Log Normal: GMM with Identity Matrix')\n",
    "plt.legend(loc='upper left')\n",
    "\n",
    "dist_pts = np.linspace(0.1, 150000, 1000)\n",
    "plt.plot(dist_pts, lognorm_pdf(dist_pts, mu_GMM_2step, sig_GMM_2step),\n",
    "         linewidth=2, color='r', label='Log Normal: GMM with 2-step estimation')\n",
    "plt.legend(loc='upper left')\n",
    "\n",
    "plt.show()"
   ]
  },
  {
   "cell_type": "code",
   "execution_count": null,
   "metadata": {},
   "outputs": [],
   "source": []
  }
 ],
 "metadata": {
  "kernelspec": {
   "display_name": "Python 3",
   "language": "python",
   "name": "python3"
  },
  "language_info": {
   "codemirror_mode": {
    "name": "ipython",
    "version": 3
   },
   "file_extension": ".py",
   "mimetype": "text/x-python",
   "name": "python",
   "nbconvert_exporter": "python",
   "pygments_lexer": "ipython3",
   "version": "3.5.2"
  }
 },
 "nbformat": 4,
 "nbformat_minor": 2
}
