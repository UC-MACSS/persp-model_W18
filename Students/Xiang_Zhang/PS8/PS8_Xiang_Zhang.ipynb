{
 "cells": [
  {
   "cell_type": "markdown",
   "metadata": {},
   "source": [
    "### Problem Set #8\n",
    "#### MACS 30100, Dr. Evans\n",
    "#### Name: Xiang Zhang\n",
    "#### snzhang@uchicago.edu"
   ]
  },
  {
   "cell_type": "code",
   "execution_count": 41,
   "metadata": {
    "collapsed": true
   },
   "outputs": [],
   "source": [
    "import numpy as np\n",
    "import pandas as pd\n",
    "from matplotlib.colors import ListedColormap\n",
    "from sklearn.cross_validation import train_test_split\n",
    "from sklearn.preprocessing import StandardScaler\n",
    "from sklearn.metrics import classification_report\n",
    "from sklearn.datasets import make_moons, make_circles, make_classification\n",
    "from sklearn.neural_network import MLPClassifier\n",
    "from sklearn.neighbors import KNeighborsClassifier\n",
    "from sklearn.svm import SVC\n",
    "from sklearn.gaussian_process import GaussianProcessClassifier\n",
    "from sklearn.gaussian_process.kernels import RBF\n",
    "from sklearn.tree import DecisionTreeClassifier\n",
    "from sklearn.ensemble import RandomForestClassifier, AdaBoostClassifier\n",
    "from sklearn.naive_bayes import GaussianNB\n",
    "from sklearn.discriminant_analysis import QuadraticDiscriminantAnalysis\n",
    "\n",
    "from pylab import rcParams\n",
    "import matplotlib.pyplot as plt\n",
    "import seaborn as sb\n",
    "\n",
    "from sklearn.model_selection import LeaveOneOut, KFold\n",
    "from sklearn.linear_model import LogisticRegression\n",
    "from sklearn import svm"
   ]
  },
  {
   "cell_type": "code",
   "execution_count": 2,
   "metadata": {},
   "outputs": [
    {
     "data": {
      "text/html": [
       "<div>\n",
       "<style>\n",
       "    .dataframe thead tr:only-child th {\n",
       "        text-align: right;\n",
       "    }\n",
       "\n",
       "    .dataframe thead th {\n",
       "        text-align: left;\n",
       "    }\n",
       "\n",
       "    .dataframe tbody tr th {\n",
       "        vertical-align: top;\n",
       "    }\n",
       "</style>\n",
       "<table border=\"1\" class=\"dataframe\">\n",
       "  <thead>\n",
       "    <tr style=\"text-align: right;\">\n",
       "      <th></th>\n",
       "      <th>cultivar</th>\n",
       "      <th>alco</th>\n",
       "      <th>malic</th>\n",
       "      <th>ash</th>\n",
       "      <th>alk</th>\n",
       "      <th>magn</th>\n",
       "      <th>tot_phen</th>\n",
       "      <th>flav</th>\n",
       "      <th>nonfl_phen</th>\n",
       "      <th>proanth</th>\n",
       "      <th>color_int</th>\n",
       "      <th>hue</th>\n",
       "      <th>OD280rat</th>\n",
       "      <th>proline</th>\n",
       "    </tr>\n",
       "  </thead>\n",
       "  <tbody>\n",
       "    <tr>\n",
       "      <th>0</th>\n",
       "      <td>1</td>\n",
       "      <td>14.23</td>\n",
       "      <td>1.71</td>\n",
       "      <td>2.43</td>\n",
       "      <td>15.6</td>\n",
       "      <td>127</td>\n",
       "      <td>2.80</td>\n",
       "      <td>3.06</td>\n",
       "      <td>0.28</td>\n",
       "      <td>2.29</td>\n",
       "      <td>5.64</td>\n",
       "      <td>1.04</td>\n",
       "      <td>3.92</td>\n",
       "      <td>1065</td>\n",
       "    </tr>\n",
       "    <tr>\n",
       "      <th>1</th>\n",
       "      <td>1</td>\n",
       "      <td>13.20</td>\n",
       "      <td>1.78</td>\n",
       "      <td>2.14</td>\n",
       "      <td>11.2</td>\n",
       "      <td>100</td>\n",
       "      <td>2.65</td>\n",
       "      <td>2.76</td>\n",
       "      <td>0.26</td>\n",
       "      <td>1.28</td>\n",
       "      <td>4.38</td>\n",
       "      <td>1.05</td>\n",
       "      <td>3.40</td>\n",
       "      <td>1050</td>\n",
       "    </tr>\n",
       "    <tr>\n",
       "      <th>2</th>\n",
       "      <td>1</td>\n",
       "      <td>13.16</td>\n",
       "      <td>2.36</td>\n",
       "      <td>2.67</td>\n",
       "      <td>18.6</td>\n",
       "      <td>101</td>\n",
       "      <td>2.80</td>\n",
       "      <td>3.24</td>\n",
       "      <td>0.30</td>\n",
       "      <td>2.81</td>\n",
       "      <td>5.68</td>\n",
       "      <td>1.03</td>\n",
       "      <td>3.17</td>\n",
       "      <td>1185</td>\n",
       "    </tr>\n",
       "    <tr>\n",
       "      <th>3</th>\n",
       "      <td>1</td>\n",
       "      <td>14.37</td>\n",
       "      <td>1.95</td>\n",
       "      <td>2.50</td>\n",
       "      <td>16.8</td>\n",
       "      <td>113</td>\n",
       "      <td>3.85</td>\n",
       "      <td>3.49</td>\n",
       "      <td>0.24</td>\n",
       "      <td>2.18</td>\n",
       "      <td>7.80</td>\n",
       "      <td>0.86</td>\n",
       "      <td>3.45</td>\n",
       "      <td>1480</td>\n",
       "    </tr>\n",
       "    <tr>\n",
       "      <th>4</th>\n",
       "      <td>1</td>\n",
       "      <td>13.24</td>\n",
       "      <td>2.59</td>\n",
       "      <td>2.87</td>\n",
       "      <td>21.0</td>\n",
       "      <td>118</td>\n",
       "      <td>2.80</td>\n",
       "      <td>2.69</td>\n",
       "      <td>0.39</td>\n",
       "      <td>1.82</td>\n",
       "      <td>4.32</td>\n",
       "      <td>1.04</td>\n",
       "      <td>2.93</td>\n",
       "      <td>735</td>\n",
       "    </tr>\n",
       "  </tbody>\n",
       "</table>\n",
       "</div>"
      ],
      "text/plain": [
       "   cultivar   alco  malic   ash   alk  magn  tot_phen  flav  nonfl_phen  \\\n",
       "0         1  14.23   1.71  2.43  15.6   127      2.80  3.06        0.28   \n",
       "1         1  13.20   1.78  2.14  11.2   100      2.65  2.76        0.26   \n",
       "2         1  13.16   2.36  2.67  18.6   101      2.80  3.24        0.30   \n",
       "3         1  14.37   1.95  2.50  16.8   113      3.85  3.49        0.24   \n",
       "4         1  13.24   2.59  2.87  21.0   118      2.80  2.69        0.39   \n",
       "\n",
       "   proanth  color_int   hue  OD280rat  proline  \n",
       "0     2.29       5.64  1.04      3.92     1065  \n",
       "1     1.28       4.38  1.05      3.40     1050  \n",
       "2     2.81       5.68  1.03      3.17     1185  \n",
       "3     2.18       7.80  0.86      3.45     1480  \n",
       "4     1.82       4.32  1.04      2.93      735  "
      ]
     },
     "execution_count": 2,
     "metadata": {},
     "output_type": "execute_result"
    }
   ],
   "source": [
    "url = \"https://raw.githubusercontent.com/UC-MACSS/persp-model_W18/master/ProblemSets/PS8/data/strongdrink.txt\"\n",
    "df = pd.read_csv(url)\n",
    "df.head()"
   ]
  },
  {
   "cell_type": "code",
   "execution_count": 3,
   "metadata": {},
   "outputs": [
    {
     "data": {
      "image/png": "[encoded data removed]",
      "text/plain": [
       "<matplotlib.figure.Figure at 0x1eb33b3bda0>"
      ]
     },
     "metadata": {},
     "output_type": "display_data"
    }
   ],
   "source": [
    "# I refer to the code source: https://pythonspot.com/matplotlib-scatterplot/\n",
    "groups = df.groupby('cultivar')\n",
    "\n",
    "fig, ax = plt.subplots()\n",
    "\n",
    "for name, group in groups:\n",
    "    ax.plot(group.alco, group.color_int, marker = 'o', linestyle='', ms = 2.5, label = name)\n",
    "ax.legend()\n",
    "    \n",
    "ax.legend()\n",
    "plt.xlabel('Alcohol')\n",
    "plt.ylabel('Color Intensity')\n",
    "plt.title('Scatter Plot of Alcohol and Color Intensity: by Cultivar')\n",
    "plt.show()"
   ]
  },
  {
   "cell_type": "markdown",
   "metadata": {},
   "source": [
    "#### (b) Logit Regression"
   ]
  },
  {
   "cell_type": "code",
   "execution_count": 4,
   "metadata": {
    "collapsed": true
   },
   "outputs": [],
   "source": [
    "df['const'] = 1\n",
    "\n",
    "xvars = ['alco', 'malic', 'tot_phen', 'color_int', 'const']\n",
    "yvar = 'cultivar'\n",
    "\n",
    "Xvals = df[xvars].values\n",
    "yvals = df[yvar].values"
   ]
  },
  {
   "cell_type": "code",
   "execution_count": 5,
   "metadata": {
    "collapsed": true
   },
   "outputs": [],
   "source": [
    "k = 4\n",
    "clf_mlog = KFold(n_splits = 4, shuffle = True, random_state = 22)\n",
    "clf_mlog.get_n_splits(Xvals)\n",
    "\n",
    "Log_MSE = np.zeros(k)\n",
    "C = np.zeros(100)\n",
    "MSE_C = np.zeros(100)\n",
    "\n",
    "MSE_temp = np.zeros(k)\n",
    "\n",
    "for c in range(100):\n",
    "    k_ind = int(0)\n",
    "    c_temp = (c + 1) / 100\n",
    "    \n",
    "    for train_index, test_index in clf_mlog.split(Xvals):\n",
    "        X_train, X_test = Xvals[train_index], Xvals[test_index]\n",
    "        y_train, y_test = yvals[train_index], yvals[test_index]\n",
    "        \n",
    "        # Fit Logit Regression\n",
    "        LogReg = LogisticRegression(multi_class='multinomial', fit_intercept = True,\n",
    "                                    solver='newton-cg', C = c_temp)\n",
    "        \n",
    "        LogReg.fit(X_train, y_train)\n",
    "        y_pred = LogReg.predict(X_test)\n",
    "        error = y_test != y_pred\n",
    "        MSE_temp[k_ind] = error.mean()\n",
    "        \n",
    "        k_ind += 1\n",
    "        \n",
    "    C[c] = c_temp\n",
    "    \n",
    "    MSE_C[c] =  MSE_temp.mean()\n"
   ]
  },
  {
   "cell_type": "code",
   "execution_count": 6,
   "metadata": {
    "collapsed": true
   },
   "outputs": [],
   "source": [
    "Logitmodel_MSE = pd.DataFrame({'C':C, 'MSE':MSE_C})\n",
    "Logitmodel_MSE = Logitmodel_MSE.sort_values(['MSE'])"
   ]
  },
  {
   "cell_type": "code",
   "execution_count": 7,
   "metadata": {},
   "outputs": [
    {
     "data": {
      "text/html": [
       "<div>\n",
       "<style>\n",
       "    .dataframe thead tr:only-child th {\n",
       "        text-align: right;\n",
       "    }\n",
       "\n",
       "    .dataframe thead th {\n",
       "        text-align: left;\n",
       "    }\n",
       "\n",
       "    .dataframe tbody tr th {\n",
       "        vertical-align: top;\n",
       "    }\n",
       "</style>\n",
       "<table border=\"1\" class=\"dataframe\">\n",
       "  <thead>\n",
       "    <tr style=\"text-align: right;\">\n",
       "      <th></th>\n",
       "      <th>C</th>\n",
       "      <th>MSE</th>\n",
       "    </tr>\n",
       "  </thead>\n",
       "  <tbody>\n",
       "    <tr>\n",
       "      <th>36</th>\n",
       "      <td>0.37</td>\n",
       "      <td>0.068182</td>\n",
       "    </tr>\n",
       "    <tr>\n",
       "      <th>29</th>\n",
       "      <td>0.30</td>\n",
       "      <td>0.068182</td>\n",
       "    </tr>\n",
       "    <tr>\n",
       "      <th>30</th>\n",
       "      <td>0.31</td>\n",
       "      <td>0.068182</td>\n",
       "    </tr>\n",
       "    <tr>\n",
       "      <th>31</th>\n",
       "      <td>0.32</td>\n",
       "      <td>0.068182</td>\n",
       "    </tr>\n",
       "    <tr>\n",
       "      <th>32</th>\n",
       "      <td>0.33</td>\n",
       "      <td>0.068182</td>\n",
       "    </tr>\n",
       "    <tr>\n",
       "      <th>33</th>\n",
       "      <td>0.34</td>\n",
       "      <td>0.068182</td>\n",
       "    </tr>\n",
       "    <tr>\n",
       "      <th>34</th>\n",
       "      <td>0.35</td>\n",
       "      <td>0.068182</td>\n",
       "    </tr>\n",
       "    <tr>\n",
       "      <th>35</th>\n",
       "      <td>0.36</td>\n",
       "      <td>0.068182</td>\n",
       "    </tr>\n",
       "    <tr>\n",
       "      <th>37</th>\n",
       "      <td>0.38</td>\n",
       "      <td>0.068182</td>\n",
       "    </tr>\n",
       "    <tr>\n",
       "      <th>38</th>\n",
       "      <td>0.39</td>\n",
       "      <td>0.068182</td>\n",
       "    </tr>\n",
       "    <tr>\n",
       "      <th>39</th>\n",
       "      <td>0.40</td>\n",
       "      <td>0.068182</td>\n",
       "    </tr>\n",
       "    <tr>\n",
       "      <th>40</th>\n",
       "      <td>0.41</td>\n",
       "      <td>0.068182</td>\n",
       "    </tr>\n",
       "    <tr>\n",
       "      <th>41</th>\n",
       "      <td>0.42</td>\n",
       "      <td>0.068182</td>\n",
       "    </tr>\n",
       "    <tr>\n",
       "      <th>27</th>\n",
       "      <td>0.28</td>\n",
       "      <td>0.068182</td>\n",
       "    </tr>\n",
       "    <tr>\n",
       "      <th>42</th>\n",
       "      <td>0.43</td>\n",
       "      <td>0.068182</td>\n",
       "    </tr>\n",
       "    <tr>\n",
       "      <th>44</th>\n",
       "      <td>0.45</td>\n",
       "      <td>0.068182</td>\n",
       "    </tr>\n",
       "    <tr>\n",
       "      <th>45</th>\n",
       "      <td>0.46</td>\n",
       "      <td>0.068182</td>\n",
       "    </tr>\n",
       "    <tr>\n",
       "      <th>46</th>\n",
       "      <td>0.47</td>\n",
       "      <td>0.068182</td>\n",
       "    </tr>\n",
       "    <tr>\n",
       "      <th>47</th>\n",
       "      <td>0.48</td>\n",
       "      <td>0.068182</td>\n",
       "    </tr>\n",
       "    <tr>\n",
       "      <th>43</th>\n",
       "      <td>0.44</td>\n",
       "      <td>0.068182</td>\n",
       "    </tr>\n",
       "    <tr>\n",
       "      <th>28</th>\n",
       "      <td>0.29</td>\n",
       "      <td>0.068182</td>\n",
       "    </tr>\n",
       "    <tr>\n",
       "      <th>48</th>\n",
       "      <td>0.49</td>\n",
       "      <td>0.073864</td>\n",
       "    </tr>\n",
       "    <tr>\n",
       "      <th>50</th>\n",
       "      <td>0.51</td>\n",
       "      <td>0.073864</td>\n",
       "    </tr>\n",
       "    <tr>\n",
       "      <th>51</th>\n",
       "      <td>0.52</td>\n",
       "      <td>0.073864</td>\n",
       "    </tr>\n",
       "    <tr>\n",
       "      <th>52</th>\n",
       "      <td>0.53</td>\n",
       "      <td>0.073864</td>\n",
       "    </tr>\n",
       "  </tbody>\n",
       "</table>\n",
       "</div>"
      ],
      "text/plain": [
       "       C       MSE\n",
       "36  0.37  0.068182\n",
       "29  0.30  0.068182\n",
       "30  0.31  0.068182\n",
       "31  0.32  0.068182\n",
       "32  0.33  0.068182\n",
       "33  0.34  0.068182\n",
       "34  0.35  0.068182\n",
       "35  0.36  0.068182\n",
       "37  0.38  0.068182\n",
       "38  0.39  0.068182\n",
       "39  0.40  0.068182\n",
       "40  0.41  0.068182\n",
       "41  0.42  0.068182\n",
       "27  0.28  0.068182\n",
       "42  0.43  0.068182\n",
       "44  0.45  0.068182\n",
       "45  0.46  0.068182\n",
       "46  0.47  0.068182\n",
       "47  0.48  0.068182\n",
       "43  0.44  0.068182\n",
       "28  0.29  0.068182\n",
       "48  0.49  0.073864\n",
       "50  0.51  0.073864\n",
       "51  0.52  0.073864\n",
       "52  0.53  0.073864"
      ]
     },
     "execution_count": 7,
     "metadata": {},
     "output_type": "execute_result"
    }
   ],
   "source": [
    "Logitmodel_MSE.head(25)"
   ]
  },
  {
   "cell_type": "markdown",
   "metadata": {},
   "source": [
    "#### From the table above, we can see that the first 21 C values yield the same MSE value, thus, we can choose C value ranging from 0.28 to 0.44 (inclusive)"
   ]
  },
  {
   "cell_type": "markdown",
   "metadata": {},
   "source": [
    "#### (c) Random Forest"
   ]
  },
  {
   "cell_type": "code",
   "execution_count": 8,
   "metadata": {
    "collapsed": true
   },
   "outputs": [],
   "source": [
    "def RF_model(X, y, n_estimator, md, msl):\n",
    "    RF = RandomForestClassifier(n_estimators = n_estimator, \n",
    "                                min_samples_leaf = msl,\n",
    "                                max_depth = md, \n",
    "                                bootstrap = True, \n",
    "                                oob_score = True, \n",
    "                                random_state=22)\n",
    "    RF.fit(X, y)\n",
    "    \n",
    "    return (1 - RF.oob_score_)"
   ]
  },
  {
   "cell_type": "code",
   "execution_count": 29,
   "metadata": {},
   "outputs": [
    {
     "name": "stdout",
     "output_type": "stream",
     "text": [
      "0 0 0 0\n",
      "0.517045454545\n",
      "0 0 50 1\n",
      "0.153409090909\n",
      "0 0 100 2\n",
      "0.159090909091\n",
      "0"
     ]
    },
    {
     "name": "stderr",
     "output_type": "stream",
     "text": [
      "C:\\Users\\Xiang Zhang\\Anaconda3\\lib\\site-packages\\sklearn\\ensemble\\forest.py:453: UserWarning: Some inputs do not have OOB scores. This probably means too few trees were used to compute any reliable oob estimates.\n",
      "  warn(\"Some inputs do not have OOB scores. \"\n",
      "C:\\Users\\Xiang Zhang\\Anaconda3\\lib\\site-packages\\sklearn\\ensemble\\forest.py:458: RuntimeWarning: invalid value encountered in true_divide\n",
      "  predictions[k].sum(axis=1)[:, np.newaxis])\n"
     ]
    },
    {
     "name": "stdout",
     "output_type": "stream",
     "text": [
      " 0 150 3\n",
      "0.136363636364\n",
      "0 0 200 4\n",
      "0.142045454545\n",
      "0 0 250 5\n",
      "0.125\n",
      "0 1 0 0\n",
      "0.4375\n",
      "0 1 50 1\n",
      "0.113636363636\n",
      "0 1 100 2\n",
      "0.0795454545455\n",
      "0 1 "
     ]
    },
    {
     "name": "stderr",
     "output_type": "stream",
     "text": [
      "C:\\Users\\Xiang Zhang\\Anaconda3\\lib\\site-packages\\sklearn\\ensemble\\forest.py:453: UserWarning: Some inputs do not have OOB scores. This probably means too few trees were used to compute any reliable oob estimates.\n",
      "  warn(\"Some inputs do not have OOB scores. \"\n",
      "C:\\Users\\Xiang Zhang\\Anaconda3\\lib\\site-packages\\sklearn\\ensemble\\forest.py:458: RuntimeWarning: invalid value encountered in true_divide\n",
      "  predictions[k].sum(axis=1)[:, np.newaxis])\n"
     ]
    },
    {
     "name": "stdout",
     "output_type": "stream",
     "text": [
      "150 3\n",
      "0.0795454545455\n",
      "0 1 200 4\n",
      "0.0852272727273\n",
      "0 1 250 5\n",
      "0.0795454545455\n",
      "0 2 0 0\n",
      "0.443181818182\n",
      "0 2 50 1\n",
      "0.0795454545455\n",
      "0 2 100 2\n",
      "0.0681818181818\n",
      "0 2 "
     ]
    },
    {
     "name": "stderr",
     "output_type": "stream",
     "text": [
      "C:\\Users\\Xiang Zhang\\Anaconda3\\lib\\site-packages\\sklearn\\ensemble\\forest.py:453: UserWarning: Some inputs do not have OOB scores. This probably means too few trees were used to compute any reliable oob estimates.\n",
      "  warn(\"Some inputs do not have OOB scores. \"\n",
      "C:\\Users\\Xiang Zhang\\Anaconda3\\lib\\site-packages\\sklearn\\ensemble\\forest.py:458: RuntimeWarning: invalid value encountered in true_divide\n",
      "  predictions[k].sum(axis=1)[:, np.newaxis])\n"
     ]
    },
    {
     "name": "stdout",
     "output_type": "stream",
     "text": [
      "150 3\n",
      "0.0625\n",
      "0 2 200 4\n",
      "0.0681818181818\n",
      "0 2 250 5\n",
      "0.0625\n",
      "0 3 0 0\n",
      "0.443181818182\n",
      "0 3 50 1\n",
      "0.0852272727273\n",
      "0 3 100 2\n",
      "0.0795454545455\n",
      "0 "
     ]
    },
    {
     "name": "stderr",
     "output_type": "stream",
     "text": [
      "C:\\Users\\Xiang Zhang\\Anaconda3\\lib\\site-packages\\sklearn\\ensemble\\forest.py:453: UserWarning: Some inputs do not have OOB scores. This probably means too few trees were used to compute any reliable oob estimates.\n",
      "  warn(\"Some inputs do not have OOB scores. \"\n",
      "C:\\Users\\Xiang Zhang\\Anaconda3\\lib\\site-packages\\sklearn\\ensemble\\forest.py:458: RuntimeWarning: invalid value encountered in true_divide\n",
      "  predictions[k].sum(axis=1)[:, np.newaxis])\n"
     ]
    },
    {
     "name": "stdout",
     "output_type": "stream",
     "text": [
      "3 150 3\n",
      "0.0852272727273\n",
      "0 3 200 4\n",
      "0.0795454545455\n",
      "0 3 250 5\n",
      "0.0738636363636\n",
      "0 4 0 0\n",
      "0.448863636364\n",
      "0 4 50 1\n",
      "0.0909090909091\n",
      "0 4 100 2\n",
      "0.0795454545455\n",
      "0"
     ]
    },
    {
     "name": "stderr",
     "output_type": "stream",
     "text": [
      "C:\\Users\\Xiang Zhang\\Anaconda3\\lib\\site-packages\\sklearn\\ensemble\\forest.py:453: UserWarning: Some inputs do not have OOB scores. This probably means too few trees were used to compute any reliable oob estimates.\n",
      "  warn(\"Some inputs do not have OOB scores. \"\n",
      "C:\\Users\\Xiang Zhang\\Anaconda3\\lib\\site-packages\\sklearn\\ensemble\\forest.py:458: RuntimeWarning: invalid value encountered in true_divide\n",
      "  predictions[k].sum(axis=1)[:, np.newaxis])\n"
     ]
    },
    {
     "name": "stdout",
     "output_type": "stream",
     "text": [
      " 4 150 3\n",
      "0.0738636363636\n",
      "0 4 200 4\n",
      "0.0795454545455\n",
      "0 4 250 5\n",
      "0.0738636363636\n",
      "0 5 0 0\n",
      "0.448863636364\n",
      "0 5 50 1\n",
      "0.0909090909091\n",
      "0 5 100 2\n",
      "0.0795454545455\n",
      "0 5"
     ]
    },
    {
     "name": "stderr",
     "output_type": "stream",
     "text": [
      "C:\\Users\\Xiang Zhang\\Anaconda3\\lib\\site-packages\\sklearn\\ensemble\\forest.py:453: UserWarning: Some inputs do not have OOB scores. This probably means too few trees were used to compute any reliable oob estimates.\n",
      "  warn(\"Some inputs do not have OOB scores. \"\n",
      "C:\\Users\\Xiang Zhang\\Anaconda3\\lib\\site-packages\\sklearn\\ensemble\\forest.py:458: RuntimeWarning: invalid value encountered in true_divide\n",
      "  predictions[k].sum(axis=1)[:, np.newaxis])\n"
     ]
    },
    {
     "name": "stdout",
     "output_type": "stream",
     "text": [
      " 150 3\n",
      "0.0738636363636\n",
      "0 5 200 4\n",
      "0.0795454545455\n",
      "0 5 250 5\n",
      "0.0738636363636\n",
      "0 6 0 0\n",
      "0.448863636364\n",
      "0 6 50 1\n",
      "0.0909090909091\n",
      "0 6 100 2\n",
      "0.0795454545455\n",
      "0"
     ]
    },
    {
     "name": "stderr",
     "output_type": "stream",
     "text": [
      "C:\\Users\\Xiang Zhang\\Anaconda3\\lib\\site-packages\\sklearn\\ensemble\\forest.py:453: UserWarning: Some inputs do not have OOB scores. This probably means too few trees were used to compute any reliable oob estimates.\n",
      "  warn(\"Some inputs do not have OOB scores. \"\n",
      "C:\\Users\\Xiang Zhang\\Anaconda3\\lib\\site-packages\\sklearn\\ensemble\\forest.py:458: RuntimeWarning: invalid value encountered in true_divide\n",
      "  predictions[k].sum(axis=1)[:, np.newaxis])\n"
     ]
    },
    {
     "name": "stdout",
     "output_type": "stream",
     "text": [
      " 6 150 3\n",
      "0.0738636363636\n",
      "0 6 200 4\n",
      "0.0795454545455\n",
      "0 6 250 5\n",
      "0.0738636363636\n",
      "0 7 0 0\n",
      "0.448863636364\n",
      "0 7 50 1\n",
      "0.0909090909091\n",
      "0 7 100 2\n",
      "0.0795454545455\n",
      "0"
     ]
    },
    {
     "name": "stderr",
     "output_type": "stream",
     "text": [
      "C:\\Users\\Xiang Zhang\\Anaconda3\\lib\\site-packages\\sklearn\\ensemble\\forest.py:453: UserWarning: Some inputs do not have OOB scores. This probably means too few trees were used to compute any reliable oob estimates.\n",
      "  warn(\"Some inputs do not have OOB scores. \"\n",
      "C:\\Users\\Xiang Zhang\\Anaconda3\\lib\\site-packages\\sklearn\\ensemble\\forest.py:458: RuntimeWarning: invalid value encountered in true_divide\n",
      "  predictions[k].sum(axis=1)[:, np.newaxis])\n"
     ]
    },
    {
     "name": "stdout",
     "output_type": "stream",
     "text": [
      " 7 150 3\n",
      "0.0738636363636\n",
      "0 7 200 4\n",
      "0.0795454545455\n",
      "0 7 250 5\n",
      "0.0738636363636\n",
      "0 8 0 0\n",
      "0.448863636364\n",
      "0 8 50 1\n",
      "0.0909090909091\n",
      "0 8 100 2\n",
      "0.0795454545455"
     ]
    },
    {
     "name": "stderr",
     "output_type": "stream",
     "text": [
      "C:\\Users\\Xiang Zhang\\Anaconda3\\lib\\site-packages\\sklearn\\ensemble\\forest.py:453: UserWarning: Some inputs do not have OOB scores. This probably means too few trees were used to compute any reliable oob estimates.\n",
      "  warn(\"Some inputs do not have OOB scores. \"\n",
      "C:\\Users\\Xiang Zhang\\Anaconda3\\lib\\site-packages\\sklearn\\ensemble\\forest.py:458: RuntimeWarning: invalid value encountered in true_divide\n",
      "  predictions[k].sum(axis=1)[:, np.newaxis])\n"
     ]
    },
    {
     "name": "stdout",
     "output_type": "stream",
     "text": [
      "\n",
      "0 8 150 3\n",
      "0.0738636363636\n",
      "0 8 200 4\n",
      "0.0795454545455\n",
      "0 8 250 5\n",
      "0.0738636363636\n",
      "0 9 0 0\n",
      "0.448863636364\n",
      "0 9 50 1\n",
      "0.0909090909091\n",
      "0 9 100 2\n",
      "0.0795454545455"
     ]
    },
    {
     "name": "stderr",
     "output_type": "stream",
     "text": [
      "C:\\Users\\Xiang Zhang\\Anaconda3\\lib\\site-packages\\sklearn\\ensemble\\forest.py:453: UserWarning: Some inputs do not have OOB scores. This probably means too few trees were used to compute any reliable oob estimates.\n",
      "  warn(\"Some inputs do not have OOB scores. \"\n",
      "C:\\Users\\Xiang Zhang\\Anaconda3\\lib\\site-packages\\sklearn\\ensemble\\forest.py:458: RuntimeWarning: invalid value encountered in true_divide\n",
      "  predictions[k].sum(axis=1)[:, np.newaxis])\n"
     ]
    },
    {
     "name": "stdout",
     "output_type": "stream",
     "text": [
      "\n",
      "0 9 150 3\n",
      "0.0738636363636\n",
      "0 9 200 4\n",
      "0.0795454545455\n",
      "0 9 250 5\n",
      "0.0738636363636\n",
      "0 10 0 0\n",
      "0.448863636364\n",
      "0 10 50 1\n",
      "0.0909090909091\n",
      "0 10 100 2\n",
      "0.0795454545455\n",
      "0 10"
     ]
    },
    {
     "name": "stderr",
     "output_type": "stream",
     "text": [
      "C:\\Users\\Xiang Zhang\\Anaconda3\\lib\\site-packages\\sklearn\\ensemble\\forest.py:453: UserWarning: Some inputs do not have OOB scores. This probably means too few trees were used to compute any reliable oob estimates.\n",
      "  warn(\"Some inputs do not have OOB scores. \"\n",
      "C:\\Users\\Xiang Zhang\\Anaconda3\\lib\\site-packages\\sklearn\\ensemble\\forest.py:458: RuntimeWarning: invalid value encountered in true_divide\n",
      "  predictions[k].sum(axis=1)[:, np.newaxis])\n"
     ]
    },
    {
     "name": "stdout",
     "output_type": "stream",
     "text": [
      " 150 3\n",
      "0.0738636363636\n",
      "0 10 200 4\n",
      "0.0795454545455\n",
      "0 10 250 5\n",
      "0.0738636363636\n",
      "0 11 0 0\n",
      "0.448863636364\n",
      "0 11 50 1\n",
      "0.0909090909091\n",
      "0 11 100 2\n",
      "0.0795454545455\n",
      "0 "
     ]
    },
    {
     "name": "stderr",
     "output_type": "stream",
     "text": [
      "C:\\Users\\Xiang Zhang\\Anaconda3\\lib\\site-packages\\sklearn\\ensemble\\forest.py:453: UserWarning: Some inputs do not have OOB scores. This probably means too few trees were used to compute any reliable oob estimates.\n",
      "  warn(\"Some inputs do not have OOB scores. \"\n",
      "C:\\Users\\Xiang Zhang\\Anaconda3\\lib\\site-packages\\sklearn\\ensemble\\forest.py:458: RuntimeWarning: invalid value encountered in true_divide\n",
      "  predictions[k].sum(axis=1)[:, np.newaxis])\n"
     ]
    },
    {
     "name": "stdout",
     "output_type": "stream",
     "text": [
      "11 150 3\n",
      "0.0738636363636\n",
      "0 11 200 4\n",
      "0.0795454545455\n",
      "0 11 250 5\n",
      "0.0738636363636\n",
      "0 12 0 0\n",
      "0.448863636364\n",
      "0 12 50 1\n",
      "0.0909090909091\n",
      "0 12 100 2\n",
      "0.0795454545455\n",
      "0 12 150 3"
     ]
    },
    {
     "name": "stderr",
     "output_type": "stream",
     "text": [
      "C:\\Users\\Xiang Zhang\\Anaconda3\\lib\\site-packages\\sklearn\\ensemble\\forest.py:453: UserWarning: Some inputs do not have OOB scores. This probably means too few trees were used to compute any reliable oob estimates.\n",
      "  warn(\"Some inputs do not have OOB scores. \"\n",
      "C:\\Users\\Xiang Zhang\\Anaconda3\\lib\\site-packages\\sklearn\\ensemble\\forest.py:458: RuntimeWarning: invalid value encountered in true_divide\n",
      "  predictions[k].sum(axis=1)[:, np.newaxis])\n"
     ]
    },
    {
     "name": "stdout",
     "output_type": "stream",
     "text": [
      "\n",
      "0.0738636363636\n",
      "0 12 200 4\n",
      "0.0795454545455\n",
      "0 12 250 5\n",
      "0.0738636363636\n",
      "0 13 0 0\n",
      "0.448863636364\n",
      "0 13 50 1\n",
      "0.0909090909091\n",
      "0 13 100 2\n",
      "0.0795454545455\n",
      "0"
     ]
    },
    {
     "name": "stderr",
     "output_type": "stream",
     "text": [
      "C:\\Users\\Xiang Zhang\\Anaconda3\\lib\\site-packages\\sklearn\\ensemble\\forest.py:453: UserWarning: Some inputs do not have OOB scores. This probably means too few trees were used to compute any reliable oob estimates.\n",
      "  warn(\"Some inputs do not have OOB scores. \"\n",
      "C:\\Users\\Xiang Zhang\\Anaconda3\\lib\\site-packages\\sklearn\\ensemble\\forest.py:458: RuntimeWarning: invalid value encountered in true_divide\n",
      "  predictions[k].sum(axis=1)[:, np.newaxis])\n"
     ]
    },
    {
     "name": "stdout",
     "output_type": "stream",
     "text": [
      " 13 150 3\n",
      "0.0738636363636\n",
      "0 13 200 4\n",
      "0.0795454545455\n",
      "0 13 250 5\n",
      "0.0738636363636\n",
      "0 14 0 0\n",
      "0.448863636364\n",
      "0 14 50 1\n",
      "0.0909090909091\n",
      "0 14 100 2\n",
      "0.0795454545455\n",
      "0 "
     ]
    },
    {
     "name": "stderr",
     "output_type": "stream",
     "text": [
      "C:\\Users\\Xiang Zhang\\Anaconda3\\lib\\site-packages\\sklearn\\ensemble\\forest.py:453: UserWarning: Some inputs do not have OOB scores. This probably means too few trees were used to compute any reliable oob estimates.\n",
      "  warn(\"Some inputs do not have OOB scores. \"\n",
      "C:\\Users\\Xiang Zhang\\Anaconda3\\lib\\site-packages\\sklearn\\ensemble\\forest.py:458: RuntimeWarning: invalid value encountered in true_divide\n",
      "  predictions[k].sum(axis=1)[:, np.newaxis])\n"
     ]
    },
    {
     "name": "stdout",
     "output_type": "stream",
     "text": [
      "14 150 3\n",
      "0.0738636363636\n",
      "0 14 200 4\n",
      "0.0795454545455\n",
      "0 14 250 5\n",
      "0.0738636363636\n",
      "10 0 0 0\n",
      "0.590909090909\n",
      "10 0 50 1\n",
      "0.261363636364\n",
      "10 0 100 2\n",
      "0.301136363636\n",
      "10"
     ]
    },
    {
     "name": "stderr",
     "output_type": "stream",
     "text": [
      "C:\\Users\\Xiang Zhang\\Anaconda3\\lib\\site-packages\\sklearn\\ensemble\\forest.py:453: UserWarning: Some inputs do not have OOB scores. This probably means too few trees were used to compute any reliable oob estimates.\n",
      "  warn(\"Some inputs do not have OOB scores. \"\n",
      "C:\\Users\\Xiang Zhang\\Anaconda3\\lib\\site-packages\\sklearn\\ensemble\\forest.py:458: RuntimeWarning: invalid value encountered in true_divide\n",
      "  predictions[k].sum(axis=1)[:, np.newaxis])\n"
     ]
    },
    {
     "name": "stdout",
     "output_type": "stream",
     "text": [
      " 0 150 3\n",
      "0.301136363636\n",
      "10 0 200 4\n",
      "0.318181818182\n",
      "10 0 250 5\n",
      "0.289772727273\n",
      "10 1 0 0\n",
      "0.590909090909\n",
      "10 1 50 1\n",
      "0.261363636364\n",
      "10 1 100 2\n",
      "0.301136363636\n",
      "10 1"
     ]
    },
    {
     "name": "stderr",
     "output_type": "stream",
     "text": [
      "C:\\Users\\Xiang Zhang\\Anaconda3\\lib\\site-packages\\sklearn\\ensemble\\forest.py:453: UserWarning: Some inputs do not have OOB scores. This probably means too few trees were used to compute any reliable oob estimates.\n",
      "  warn(\"Some inputs do not have OOB scores. \"\n",
      "C:\\Users\\Xiang Zhang\\Anaconda3\\lib\\site-packages\\sklearn\\ensemble\\forest.py:458: RuntimeWarning: invalid value encountered in true_divide\n",
      "  predictions[k].sum(axis=1)[:, np.newaxis])\n"
     ]
    },
    {
     "name": "stdout",
     "output_type": "stream",
     "text": [
      " 150 3\n",
      "0.301136363636\n",
      "10 1 200 4\n",
      "0.318181818182\n",
      "10 1 250 5\n",
      "0.289772727273\n",
      "10 2 0 0\n",
      "0.590909090909\n",
      "10 2 50 1\n",
      "0.261363636364\n",
      "10 2 100 2\n",
      "0.301136363636\n",
      "10 2"
     ]
    },
    {
     "name": "stderr",
     "output_type": "stream",
     "text": [
      "C:\\Users\\Xiang Zhang\\Anaconda3\\lib\\site-packages\\sklearn\\ensemble\\forest.py:453: UserWarning: Some inputs do not have OOB scores. This probably means too few trees were used to compute any reliable oob estimates.\n",
      "  warn(\"Some inputs do not have OOB scores. \"\n",
      "C:\\Users\\Xiang Zhang\\Anaconda3\\lib\\site-packages\\sklearn\\ensemble\\forest.py:458: RuntimeWarning: invalid value encountered in true_divide\n",
      "  predictions[k].sum(axis=1)[:, np.newaxis])\n"
     ]
    },
    {
     "name": "stdout",
     "output_type": "stream",
     "text": [
      " 150 3\n",
      "0.301136363636\n",
      "10 2 200 4\n",
      "0.318181818182\n",
      "10 2 250 5\n",
      "0.289772727273\n",
      "10 3 0 0\n",
      "0.590909090909\n",
      "10 3 50 1\n",
      "0.261363636364\n",
      "10 3 100 2\n",
      "0.301136363636\n",
      "10 "
     ]
    },
    {
     "name": "stderr",
     "output_type": "stream",
     "text": [
      "C:\\Users\\Xiang Zhang\\Anaconda3\\lib\\site-packages\\sklearn\\ensemble\\forest.py:453: UserWarning: Some inputs do not have OOB scores. This probably means too few trees were used to compute any reliable oob estimates.\n",
      "  warn(\"Some inputs do not have OOB scores. \"\n",
      "C:\\Users\\Xiang Zhang\\Anaconda3\\lib\\site-packages\\sklearn\\ensemble\\forest.py:458: RuntimeWarning: invalid value encountered in true_divide\n",
      "  predictions[k].sum(axis=1)[:, np.newaxis])\n"
     ]
    },
    {
     "name": "stdout",
     "output_type": "stream",
     "text": [
      "3 150 3\n",
      "0.301136363636\n",
      "10 3 200 4\n",
      "0.318181818182\n",
      "10 3 250 5\n",
      "0.289772727273\n",
      "10 4 0 0\n",
      "0.590909090909\n",
      "10 4 50 1\n",
      "0.261363636364\n",
      "10 4 100 2\n",
      "0.301136363636\n",
      "10 4 "
     ]
    },
    {
     "name": "stderr",
     "output_type": "stream",
     "text": [
      "C:\\Users\\Xiang Zhang\\Anaconda3\\lib\\site-packages\\sklearn\\ensemble\\forest.py:453: UserWarning: Some inputs do not have OOB scores. This probably means too few trees were used to compute any reliable oob estimates.\n",
      "  warn(\"Some inputs do not have OOB scores. \"\n",
      "C:\\Users\\Xiang Zhang\\Anaconda3\\lib\\site-packages\\sklearn\\ensemble\\forest.py:458: RuntimeWarning: invalid value encountered in true_divide\n",
      "  predictions[k].sum(axis=1)[:, np.newaxis])\n"
     ]
    },
    {
     "name": "stdout",
     "output_type": "stream",
     "text": [
      "150 3\n",
      "0.301136363636\n",
      "10 4 200 4\n",
      "0.318181818182\n",
      "10 4 250 5\n",
      "0.289772727273\n",
      "10 5 0 0\n",
      "0.590909090909\n",
      "10 5 50 1\n",
      "0.261363636364\n",
      "10 5 100 2\n",
      "0.301136363636\n",
      "10 5 150 "
     ]
    },
    {
     "name": "stderr",
     "output_type": "stream",
     "text": [
      "C:\\Users\\Xiang Zhang\\Anaconda3\\lib\\site-packages\\sklearn\\ensemble\\forest.py:453: UserWarning: Some inputs do not have OOB scores. This probably means too few trees were used to compute any reliable oob estimates.\n",
      "  warn(\"Some inputs do not have OOB scores. \"\n",
      "C:\\Users\\Xiang Zhang\\Anaconda3\\lib\\site-packages\\sklearn\\ensemble\\forest.py:458: RuntimeWarning: invalid value encountered in true_divide\n",
      "  predictions[k].sum(axis=1)[:, np.newaxis])\n"
     ]
    },
    {
     "name": "stdout",
     "output_type": "stream",
     "text": [
      "3\n",
      "0.301136363636\n",
      "10 5 200 4\n",
      "0.318181818182\n",
      "10 5 250 5\n",
      "0.289772727273\n",
      "10 6 0 0\n",
      "0.590909090909\n",
      "10 6 50 1\n",
      "0.261363636364\n",
      "10 6 100 2\n",
      "0.301136363636\n",
      "10 6 "
     ]
    },
    {
     "name": "stderr",
     "output_type": "stream",
     "text": [
      "C:\\Users\\Xiang Zhang\\Anaconda3\\lib\\site-packages\\sklearn\\ensemble\\forest.py:453: UserWarning: Some inputs do not have OOB scores. This probably means too few trees were used to compute any reliable oob estimates.\n",
      "  warn(\"Some inputs do not have OOB scores. \"\n",
      "C:\\Users\\Xiang Zhang\\Anaconda3\\lib\\site-packages\\sklearn\\ensemble\\forest.py:458: RuntimeWarning: invalid value encountered in true_divide\n",
      "  predictions[k].sum(axis=1)[:, np.newaxis])\n"
     ]
    },
    {
     "name": "stdout",
     "output_type": "stream",
     "text": [
      "150 3\n",
      "0.301136363636\n",
      "10 6 200 4\n",
      "0.318181818182\n",
      "10 6 250 5\n",
      "0.289772727273\n",
      "10 7 0 0\n",
      "0.590909090909\n",
      "10 7 50 1\n",
      "0.261363636364\n",
      "10 7 100 2\n",
      "0.301136363636\n",
      "10 7"
     ]
    },
    {
     "name": "stderr",
     "output_type": "stream",
     "text": [
      "C:\\Users\\Xiang Zhang\\Anaconda3\\lib\\site-packages\\sklearn\\ensemble\\forest.py:453: UserWarning: Some inputs do not have OOB scores. This probably means too few trees were used to compute any reliable oob estimates.\n",
      "  warn(\"Some inputs do not have OOB scores. \"\n",
      "C:\\Users\\Xiang Zhang\\Anaconda3\\lib\\site-packages\\sklearn\\ensemble\\forest.py:458: RuntimeWarning: invalid value encountered in true_divide\n",
      "  predictions[k].sum(axis=1)[:, np.newaxis])\n"
     ]
    },
    {
     "name": "stdout",
     "output_type": "stream",
     "text": [
      " 150 3\n",
      "0.301136363636\n",
      "10 7 200 4\n",
      "0.318181818182\n",
      "10 7 250 5\n",
      "0.289772727273\n",
      "10 8 0 0\n",
      "0.590909090909\n",
      "10 8 50 1\n",
      "0.261363636364\n",
      "10 8 100 2\n",
      "0.301136363636\n",
      "10 8 150"
     ]
    },
    {
     "name": "stderr",
     "output_type": "stream",
     "text": [
      "C:\\Users\\Xiang Zhang\\Anaconda3\\lib\\site-packages\\sklearn\\ensemble\\forest.py:453: UserWarning: Some inputs do not have OOB scores. This probably means too few trees were used to compute any reliable oob estimates.\n",
      "  warn(\"Some inputs do not have OOB scores. \"\n",
      "C:\\Users\\Xiang Zhang\\Anaconda3\\lib\\site-packages\\sklearn\\ensemble\\forest.py:458: RuntimeWarning: invalid value encountered in true_divide\n",
      "  predictions[k].sum(axis=1)[:, np.newaxis])\n"
     ]
    },
    {
     "name": "stdout",
     "output_type": "stream",
     "text": [
      " 3\n",
      "0.301136363636\n",
      "10 8 200 4\n",
      "0.318181818182\n",
      "10 8 250 5\n",
      "0.289772727273\n",
      "10 9 0 0\n",
      "0.590909090909\n",
      "10 9 50 1\n",
      "0.261363636364\n",
      "10 9 100 2\n",
      "0.301136363636\n",
      "10 "
     ]
    },
    {
     "name": "stderr",
     "output_type": "stream",
     "text": [
      "C:\\Users\\Xiang Zhang\\Anaconda3\\lib\\site-packages\\sklearn\\ensemble\\forest.py:453: UserWarning: Some inputs do not have OOB scores. This probably means too few trees were used to compute any reliable oob estimates.\n",
      "  warn(\"Some inputs do not have OOB scores. \"\n",
      "C:\\Users\\Xiang Zhang\\Anaconda3\\lib\\site-packages\\sklearn\\ensemble\\forest.py:458: RuntimeWarning: invalid value encountered in true_divide\n",
      "  predictions[k].sum(axis=1)[:, np.newaxis])\n"
     ]
    },
    {
     "name": "stdout",
     "output_type": "stream",
     "text": [
      "9 150 3\n",
      "0.301136363636\n",
      "10 9 200 4\n",
      "0.318181818182\n",
      "10 9 250 5\n",
      "0.289772727273\n",
      "10 10 0 0\n",
      "0.590909090909\n",
      "10 10 50 1\n",
      "0.261363636364\n",
      "10 10 100 2\n",
      "0.301136363636\n",
      "10 "
     ]
    },
    {
     "name": "stderr",
     "output_type": "stream",
     "text": [
      "C:\\Users\\Xiang Zhang\\Anaconda3\\lib\\site-packages\\sklearn\\ensemble\\forest.py:453: UserWarning: Some inputs do not have OOB scores. This probably means too few trees were used to compute any reliable oob estimates.\n",
      "  warn(\"Some inputs do not have OOB scores. \"\n",
      "C:\\Users\\Xiang Zhang\\Anaconda3\\lib\\site-packages\\sklearn\\ensemble\\forest.py:458: RuntimeWarning: invalid value encountered in true_divide\n",
      "  predictions[k].sum(axis=1)[:, np.newaxis])\n"
     ]
    },
    {
     "name": "stdout",
     "output_type": "stream",
     "text": [
      "10 150 3\n",
      "0.301136363636\n",
      "10 10 200 4\n",
      "0.318181818182\n",
      "10 10 250 5\n",
      "0.289772727273\n",
      "10 11 0 0\n",
      "0.590909090909\n",
      "10 11 50 1\n",
      "0.261363636364\n",
      "10 11 100 2\n",
      "0.301136363636\n",
      "10 11"
     ]
    },
    {
     "name": "stderr",
     "output_type": "stream",
     "text": [
      "C:\\Users\\Xiang Zhang\\Anaconda3\\lib\\site-packages\\sklearn\\ensemble\\forest.py:453: UserWarning: Some inputs do not have OOB scores. This probably means too few trees were used to compute any reliable oob estimates.\n",
      "  warn(\"Some inputs do not have OOB scores. \"\n",
      "C:\\Users\\Xiang Zhang\\Anaconda3\\lib\\site-packages\\sklearn\\ensemble\\forest.py:458: RuntimeWarning: invalid value encountered in true_divide\n",
      "  predictions[k].sum(axis=1)[:, np.newaxis])\n"
     ]
    },
    {
     "name": "stdout",
     "output_type": "stream",
     "text": [
      " 150 3\n",
      "0.301136363636\n",
      "10 11 200 4\n",
      "0.318181818182\n",
      "10 11 250 5\n",
      "0.289772727273\n",
      "10 12 0 0\n",
      "0.590909090909\n",
      "10 12 50 1\n",
      "0.261363636364\n",
      "10 12 100 2\n",
      "0.301136363636\n",
      "10 12 150 3\n"
     ]
    },
    {
     "name": "stderr",
     "output_type": "stream",
     "text": [
      "C:\\Users\\Xiang Zhang\\Anaconda3\\lib\\site-packages\\sklearn\\ensemble\\forest.py:453: UserWarning: Some inputs do not have OOB scores. This probably means too few trees were used to compute any reliable oob estimates.\n",
      "  warn(\"Some inputs do not have OOB scores. \"\n",
      "C:\\Users\\Xiang Zhang\\Anaconda3\\lib\\site-packages\\sklearn\\ensemble\\forest.py:458: RuntimeWarning: invalid value encountered in true_divide\n",
      "  predictions[k].sum(axis=1)[:, np.newaxis])\n"
     ]
    },
    {
     "name": "stdout",
     "output_type": "stream",
     "text": [
      "0.301136363636\n",
      "10 12 200 4\n",
      "0.318181818182\n",
      "10 12 250 5\n",
      "0.289772727273\n",
      "10 13 0 0\n",
      "0.590909090909\n",
      "10 13 50 1\n",
      "0.261363636364\n",
      "10 13 100 2\n",
      "0.301136363636\n",
      "10 13"
     ]
    },
    {
     "name": "stderr",
     "output_type": "stream",
     "text": [
      "C:\\Users\\Xiang Zhang\\Anaconda3\\lib\\site-packages\\sklearn\\ensemble\\forest.py:453: UserWarning: Some inputs do not have OOB scores. This probably means too few trees were used to compute any reliable oob estimates.\n",
      "  warn(\"Some inputs do not have OOB scores. \"\n",
      "C:\\Users\\Xiang Zhang\\Anaconda3\\lib\\site-packages\\sklearn\\ensemble\\forest.py:458: RuntimeWarning: invalid value encountered in true_divide\n",
      "  predictions[k].sum(axis=1)[:, np.newaxis])\n"
     ]
    },
    {
     "name": "stdout",
     "output_type": "stream",
     "text": [
      " 150 3\n",
      "0.301136363636\n",
      "10 13 200 4\n",
      "0.318181818182\n",
      "10 13 250 5\n",
      "0.289772727273\n",
      "10 14 0 0\n",
      "0.590909090909\n",
      "10 14 50 1\n",
      "0.261363636364\n",
      "10 14 100 2\n",
      "0.301136363636\n",
      "10 14 150 "
     ]
    },
    {
     "name": "stderr",
     "output_type": "stream",
     "text": [
      "C:\\Users\\Xiang Zhang\\Anaconda3\\lib\\site-packages\\sklearn\\ensemble\\forest.py:453: UserWarning: Some inputs do not have OOB scores. This probably means too few trees were used to compute any reliable oob estimates.\n",
      "  warn(\"Some inputs do not have OOB scores. \"\n",
      "C:\\Users\\Xiang Zhang\\Anaconda3\\lib\\site-packages\\sklearn\\ensemble\\forest.py:458: RuntimeWarning: invalid value encountered in true_divide\n",
      "  predictions[k].sum(axis=1)[:, np.newaxis])\n"
     ]
    },
    {
     "name": "stdout",
     "output_type": "stream",
     "text": [
      "3\n",
      "0.301136363636\n",
      "10 14 200 4\n",
      "0.318181818182\n",
      "10 14 250 5\n",
      "0.289772727273\n",
      "20 0 0 0\n",
      "0.590909090909\n",
      "20 0 50 1\n",
      "0.596590909091\n",
      "20 0 100 2\n",
      "0.596590909091\n",
      "20 0 "
     ]
    },
    {
     "name": "stderr",
     "output_type": "stream",
     "text": [
      "C:\\Users\\Xiang Zhang\\Anaconda3\\lib\\site-packages\\sklearn\\ensemble\\forest.py:453: UserWarning: Some inputs do not have OOB scores. This probably means too few trees were used to compute any reliable oob estimates.\n",
      "  warn(\"Some inputs do not have OOB scores. \"\n",
      "C:\\Users\\Xiang Zhang\\Anaconda3\\lib\\site-packages\\sklearn\\ensemble\\forest.py:458: RuntimeWarning: invalid value encountered in true_divide\n",
      "  predictions[k].sum(axis=1)[:, np.newaxis])\n"
     ]
    },
    {
     "name": "stdout",
     "output_type": "stream",
     "text": [
      "150 3\n",
      "0.596590909091\n",
      "20 0 200 4\n",
      "0.596590909091\n",
      "20 0 250 5\n",
      "0.596590909091\n",
      "20 1 0 0\n",
      "0.590909090909\n",
      "20 1 50 1\n",
      "0.596590909091\n",
      "20 1 100 2\n",
      "0.596590909091\n",
      "20"
     ]
    },
    {
     "name": "stderr",
     "output_type": "stream",
     "text": [
      "C:\\Users\\Xiang Zhang\\Anaconda3\\lib\\site-packages\\sklearn\\ensemble\\forest.py:453: UserWarning: Some inputs do not have OOB scores. This probably means too few trees were used to compute any reliable oob estimates.\n",
      "  warn(\"Some inputs do not have OOB scores. \"\n",
      "C:\\Users\\Xiang Zhang\\Anaconda3\\lib\\site-packages\\sklearn\\ensemble\\forest.py:458: RuntimeWarning: invalid value encountered in true_divide\n",
      "  predictions[k].sum(axis=1)[:, np.newaxis])\n"
     ]
    },
    {
     "name": "stdout",
     "output_type": "stream",
     "text": [
      " 1 150 3\n",
      "0.596590909091\n",
      "20 1 200 4\n",
      "0.596590909091\n",
      "20 1 250 5\n",
      "0.596590909091\n",
      "20 2 0 0\n",
      "0.590909090909\n",
      "20 2 50 1\n",
      "0.596590909091\n",
      "20 2 100 2\n",
      "0.596590909091\n",
      "20 2"
     ]
    },
    {
     "name": "stderr",
     "output_type": "stream",
     "text": [
      "C:\\Users\\Xiang Zhang\\Anaconda3\\lib\\site-packages\\sklearn\\ensemble\\forest.py:453: UserWarning: Some inputs do not have OOB scores. This probably means too few trees were used to compute any reliable oob estimates.\n",
      "  warn(\"Some inputs do not have OOB scores. \"\n",
      "C:\\Users\\Xiang Zhang\\Anaconda3\\lib\\site-packages\\sklearn\\ensemble\\forest.py:458: RuntimeWarning: invalid value encountered in true_divide\n",
      "  predictions[k].sum(axis=1)[:, np.newaxis])\n"
     ]
    },
    {
     "name": "stdout",
     "output_type": "stream",
     "text": [
      " 150 3\n",
      "0.596590909091\n",
      "20 2 200 4\n",
      "0.596590909091\n",
      "20 2 250 5\n",
      "0.596590909091\n",
      "20 3 0 0\n",
      "0.590909090909\n",
      "20 3 50 1\n",
      "0.596590909091\n",
      "20 3 100 2\n",
      "0.596590909091\n",
      "20 3"
     ]
    },
    {
     "name": "stderr",
     "output_type": "stream",
     "text": [
      "C:\\Users\\Xiang Zhang\\Anaconda3\\lib\\site-packages\\sklearn\\ensemble\\forest.py:453: UserWarning: Some inputs do not have OOB scores. This probably means too few trees were used to compute any reliable oob estimates.\n",
      "  warn(\"Some inputs do not have OOB scores. \"\n",
      "C:\\Users\\Xiang Zhang\\Anaconda3\\lib\\site-packages\\sklearn\\ensemble\\forest.py:458: RuntimeWarning: invalid value encountered in true_divide\n",
      "  predictions[k].sum(axis=1)[:, np.newaxis])\n"
     ]
    },
    {
     "name": "stdout",
     "output_type": "stream",
     "text": [
      " 150 3\n",
      "0.596590909091\n",
      "20 3 200 4\n",
      "0.596590909091\n",
      "20 3 250 5\n",
      "0.596590909091\n",
      "20 4 0 0\n",
      "0.590909090909\n",
      "20 4 50 1\n",
      "0.596590909091\n",
      "20 4 100 2\n",
      "0.596590909091\n",
      "20 "
     ]
    },
    {
     "name": "stderr",
     "output_type": "stream",
     "text": [
      "C:\\Users\\Xiang Zhang\\Anaconda3\\lib\\site-packages\\sklearn\\ensemble\\forest.py:453: UserWarning: Some inputs do not have OOB scores. This probably means too few trees were used to compute any reliable oob estimates.\n",
      "  warn(\"Some inputs do not have OOB scores. \"\n",
      "C:\\Users\\Xiang Zhang\\Anaconda3\\lib\\site-packages\\sklearn\\ensemble\\forest.py:458: RuntimeWarning: invalid value encountered in true_divide\n",
      "  predictions[k].sum(axis=1)[:, np.newaxis])\n"
     ]
    },
    {
     "name": "stdout",
     "output_type": "stream",
     "text": [
      "4 150 3\n",
      "0.596590909091\n",
      "20 4 200 4\n",
      "0.596590909091\n",
      "20 4 250 5\n",
      "0.596590909091\n",
      "20 5 0 0\n",
      "0.590909090909\n",
      "20 5 50 1\n",
      "0.596590909091\n",
      "20 5 100 2\n",
      "0.596590909091\n",
      "20 "
     ]
    },
    {
     "name": "stderr",
     "output_type": "stream",
     "text": [
      "C:\\Users\\Xiang Zhang\\Anaconda3\\lib\\site-packages\\sklearn\\ensemble\\forest.py:453: UserWarning: Some inputs do not have OOB scores. This probably means too few trees were used to compute any reliable oob estimates.\n",
      "  warn(\"Some inputs do not have OOB scores. \"\n",
      "C:\\Users\\Xiang Zhang\\Anaconda3\\lib\\site-packages\\sklearn\\ensemble\\forest.py:458: RuntimeWarning: invalid value encountered in true_divide\n",
      "  predictions[k].sum(axis=1)[:, np.newaxis])\n"
     ]
    },
    {
     "name": "stdout",
     "output_type": "stream",
     "text": [
      "5 150 3\n",
      "0.596590909091\n",
      "20 5 200 4\n",
      "0.596590909091\n",
      "20 5 250 5\n",
      "0.596590909091\n",
      "20 6 0 0\n",
      "0.590909090909\n",
      "20 6 50 1\n",
      "0.596590909091\n",
      "20 6 100 2\n",
      "0.596590909091\n",
      "20 "
     ]
    },
    {
     "name": "stderr",
     "output_type": "stream",
     "text": [
      "C:\\Users\\Xiang Zhang\\Anaconda3\\lib\\site-packages\\sklearn\\ensemble\\forest.py:453: UserWarning: Some inputs do not have OOB scores. This probably means too few trees were used to compute any reliable oob estimates.\n",
      "  warn(\"Some inputs do not have OOB scores. \"\n",
      "C:\\Users\\Xiang Zhang\\Anaconda3\\lib\\site-packages\\sklearn\\ensemble\\forest.py:458: RuntimeWarning: invalid value encountered in true_divide\n",
      "  predictions[k].sum(axis=1)[:, np.newaxis])\n"
     ]
    },
    {
     "name": "stdout",
     "output_type": "stream",
     "text": [
      "6 150 3\n",
      "0.596590909091\n",
      "20 6 200 4\n",
      "0.596590909091\n",
      "20 6 250 5\n",
      "0.596590909091\n",
      "20 7 0 0\n",
      "0.590909090909\n",
      "20 7 50 1\n",
      "0.596590909091\n",
      "20 7 100 2\n",
      "0.596590909091\n",
      "20 7"
     ]
    },
    {
     "name": "stderr",
     "output_type": "stream",
     "text": [
      "C:\\Users\\Xiang Zhang\\Anaconda3\\lib\\site-packages\\sklearn\\ensemble\\forest.py:453: UserWarning: Some inputs do not have OOB scores. This probably means too few trees were used to compute any reliable oob estimates.\n",
      "  warn(\"Some inputs do not have OOB scores. \"\n",
      "C:\\Users\\Xiang Zhang\\Anaconda3\\lib\\site-packages\\sklearn\\ensemble\\forest.py:458: RuntimeWarning: invalid value encountered in true_divide\n",
      "  predictions[k].sum(axis=1)[:, np.newaxis])\n"
     ]
    },
    {
     "name": "stdout",
     "output_type": "stream",
     "text": [
      " 150 3\n",
      "0.596590909091\n",
      "20 7 200 4\n",
      "0.596590909091\n",
      "20 7 250 5\n",
      "0.596590909091\n",
      "20 8 0 0\n",
      "0.590909090909\n",
      "20 8 50 1\n",
      "0.596590909091\n",
      "20 8 100 2\n",
      "0.596590909091\n",
      "20 8 "
     ]
    },
    {
     "name": "stderr",
     "output_type": "stream",
     "text": [
      "C:\\Users\\Xiang Zhang\\Anaconda3\\lib\\site-packages\\sklearn\\ensemble\\forest.py:453: UserWarning: Some inputs do not have OOB scores. This probably means too few trees were used to compute any reliable oob estimates.\n",
      "  warn(\"Some inputs do not have OOB scores. \"\n",
      "C:\\Users\\Xiang Zhang\\Anaconda3\\lib\\site-packages\\sklearn\\ensemble\\forest.py:458: RuntimeWarning: invalid value encountered in true_divide\n",
      "  predictions[k].sum(axis=1)[:, np.newaxis])\n"
     ]
    },
    {
     "name": "stdout",
     "output_type": "stream",
     "text": [
      "150 3\n",
      "0.596590909091\n",
      "20 8 200 4\n",
      "0.596590909091\n",
      "20 8 250 5\n",
      "0.596590909091\n",
      "20 9 0 0\n",
      "0.590909090909\n",
      "20 9 50 1\n",
      "0.596590909091\n",
      "20 9 100 2\n",
      "0.596590909091\n",
      "20 9"
     ]
    },
    {
     "name": "stderr",
     "output_type": "stream",
     "text": [
      "C:\\Users\\Xiang Zhang\\Anaconda3\\lib\\site-packages\\sklearn\\ensemble\\forest.py:453: UserWarning: Some inputs do not have OOB scores. This probably means too few trees were used to compute any reliable oob estimates.\n",
      "  warn(\"Some inputs do not have OOB scores. \"\n",
      "C:\\Users\\Xiang Zhang\\Anaconda3\\lib\\site-packages\\sklearn\\ensemble\\forest.py:458: RuntimeWarning: invalid value encountered in true_divide\n",
      "  predictions[k].sum(axis=1)[:, np.newaxis])\n"
     ]
    },
    {
     "name": "stdout",
     "output_type": "stream",
     "text": [
      " 150 3\n",
      "0.596590909091\n",
      "20 9 200 4\n",
      "0.596590909091\n",
      "20 9 250 5\n",
      "0.596590909091\n",
      "20 10 0 0\n",
      "0.590909090909\n",
      "20 10 50 1\n",
      "0.596590909091\n",
      "20 10 100 2\n",
      "0.596590909091\n",
      "20 10 "
     ]
    },
    {
     "name": "stderr",
     "output_type": "stream",
     "text": [
      "C:\\Users\\Xiang Zhang\\Anaconda3\\lib\\site-packages\\sklearn\\ensemble\\forest.py:453: UserWarning: Some inputs do not have OOB scores. This probably means too few trees were used to compute any reliable oob estimates.\n",
      "  warn(\"Some inputs do not have OOB scores. \"\n",
      "C:\\Users\\Xiang Zhang\\Anaconda3\\lib\\site-packages\\sklearn\\ensemble\\forest.py:458: RuntimeWarning: invalid value encountered in true_divide\n",
      "  predictions[k].sum(axis=1)[:, np.newaxis])\n"
     ]
    },
    {
     "name": "stdout",
     "output_type": "stream",
     "text": [
      "150 3\n",
      "0.596590909091\n",
      "20 10 200 4\n",
      "0.596590909091\n",
      "20 10 250 5\n",
      "0.596590909091\n",
      "20 11 0 0\n",
      "0.590909090909\n",
      "20 11 50 1\n",
      "0.596590909091\n",
      "20 11 100 2\n",
      "0.596590909091\n",
      "20 11 "
     ]
    },
    {
     "name": "stderr",
     "output_type": "stream",
     "text": [
      "C:\\Users\\Xiang Zhang\\Anaconda3\\lib\\site-packages\\sklearn\\ensemble\\forest.py:453: UserWarning: Some inputs do not have OOB scores. This probably means too few trees were used to compute any reliable oob estimates.\n",
      "  warn(\"Some inputs do not have OOB scores. \"\n",
      "C:\\Users\\Xiang Zhang\\Anaconda3\\lib\\site-packages\\sklearn\\ensemble\\forest.py:458: RuntimeWarning: invalid value encountered in true_divide\n",
      "  predictions[k].sum(axis=1)[:, np.newaxis])\n"
     ]
    },
    {
     "name": "stdout",
     "output_type": "stream",
     "text": [
      "150 3\n",
      "0.596590909091\n",
      "20 11 200 4\n",
      "0.596590909091\n",
      "20 11 250 5\n",
      "0.596590909091\n",
      "20 12 0 0\n",
      "0.590909090909\n",
      "20 12 50 1\n",
      "0.596590909091\n",
      "20 12 100 2\n",
      "0.596590909091\n",
      "20 12 150"
     ]
    },
    {
     "name": "stderr",
     "output_type": "stream",
     "text": [
      "C:\\Users\\Xiang Zhang\\Anaconda3\\lib\\site-packages\\sklearn\\ensemble\\forest.py:453: UserWarning: Some inputs do not have OOB scores. This probably means too few trees were used to compute any reliable oob estimates.\n",
      "  warn(\"Some inputs do not have OOB scores. \"\n",
      "C:\\Users\\Xiang Zhang\\Anaconda3\\lib\\site-packages\\sklearn\\ensemble\\forest.py:458: RuntimeWarning: invalid value encountered in true_divide\n",
      "  predictions[k].sum(axis=1)[:, np.newaxis])\n"
     ]
    },
    {
     "name": "stdout",
     "output_type": "stream",
     "text": [
      " 3\n",
      "0.596590909091\n",
      "20 12 200 4\n",
      "0.596590909091\n",
      "20 12 250 5\n",
      "0.596590909091\n",
      "20 13 0 0\n",
      "0.590909090909\n",
      "20 13 50 1\n",
      "0.596590909091\n",
      "20 13 100 2\n",
      "0.596590909091\n",
      "20 "
     ]
    },
    {
     "name": "stderr",
     "output_type": "stream",
     "text": [
      "C:\\Users\\Xiang Zhang\\Anaconda3\\lib\\site-packages\\sklearn\\ensemble\\forest.py:453: UserWarning: Some inputs do not have OOB scores. This probably means too few trees were used to compute any reliable oob estimates.\n",
      "  warn(\"Some inputs do not have OOB scores. \"\n",
      "C:\\Users\\Xiang Zhang\\Anaconda3\\lib\\site-packages\\sklearn\\ensemble\\forest.py:458: RuntimeWarning: invalid value encountered in true_divide\n",
      "  predictions[k].sum(axis=1)[:, np.newaxis])\n"
     ]
    },
    {
     "name": "stdout",
     "output_type": "stream",
     "text": [
      "13 150 3\n",
      "0.596590909091\n",
      "20 13 200 4\n",
      "0.596590909091\n",
      "20 13 250 5\n",
      "0.596590909091\n",
      "20 14 0 0\n",
      "0.590909090909\n",
      "20 14 50 1\n",
      "0.596590909091\n",
      "20 14 100 2\n",
      "0.596590909091\n",
      "20 14 150"
     ]
    },
    {
     "name": "stderr",
     "output_type": "stream",
     "text": [
      "C:\\Users\\Xiang Zhang\\Anaconda3\\lib\\site-packages\\sklearn\\ensemble\\forest.py:453: UserWarning: Some inputs do not have OOB scores. This probably means too few trees were used to compute any reliable oob estimates.\n",
      "  warn(\"Some inputs do not have OOB scores. \"\n",
      "C:\\Users\\Xiang Zhang\\Anaconda3\\lib\\site-packages\\sklearn\\ensemble\\forest.py:458: RuntimeWarning: invalid value encountered in true_divide\n",
      "  predictions[k].sum(axis=1)[:, np.newaxis])\n"
     ]
    },
    {
     "name": "stdout",
     "output_type": "stream",
     "text": [
      " 3\n",
      "0.596590909091\n",
      "20 14 200 4\n",
      "0.596590909091\n",
      "20 14 250 5\n",
      "0.596590909091\n",
      "30 0 0 0\n",
      "0.590909090909\n",
      "30 0 50 1\n",
      "0.596590909091\n",
      "30 0 100 2\n",
      "0.596590909091\n",
      "30 0 150 3"
     ]
    },
    {
     "name": "stderr",
     "output_type": "stream",
     "text": [
      "C:\\Users\\Xiang Zhang\\Anaconda3\\lib\\site-packages\\sklearn\\ensemble\\forest.py:453: UserWarning: Some inputs do not have OOB scores. This probably means too few trees were used to compute any reliable oob estimates.\n",
      "  warn(\"Some inputs do not have OOB scores. \"\n",
      "C:\\Users\\Xiang Zhang\\Anaconda3\\lib\\site-packages\\sklearn\\ensemble\\forest.py:458: RuntimeWarning: invalid value encountered in true_divide\n",
      "  predictions[k].sum(axis=1)[:, np.newaxis])\n"
     ]
    },
    {
     "name": "stdout",
     "output_type": "stream",
     "text": [
      "\n",
      "0.596590909091\n",
      "30 0 200 4\n",
      "0.596590909091\n",
      "30 0 250 5\n",
      "0.596590909091\n",
      "30 1 0 0\n",
      "0.590909090909\n",
      "30 1 50 1\n",
      "0.596590909091\n",
      "30 1 100 2\n",
      "0.596590909091\n",
      "30 "
     ]
    },
    {
     "name": "stderr",
     "output_type": "stream",
     "text": [
      "C:\\Users\\Xiang Zhang\\Anaconda3\\lib\\site-packages\\sklearn\\ensemble\\forest.py:453: UserWarning: Some inputs do not have OOB scores. This probably means too few trees were used to compute any reliable oob estimates.\n",
      "  warn(\"Some inputs do not have OOB scores. \"\n",
      "C:\\Users\\Xiang Zhang\\Anaconda3\\lib\\site-packages\\sklearn\\ensemble\\forest.py:458: RuntimeWarning: invalid value encountered in true_divide\n",
      "  predictions[k].sum(axis=1)[:, np.newaxis])\n"
     ]
    },
    {
     "name": "stdout",
     "output_type": "stream",
     "text": [
      "1 150 3\n",
      "0.596590909091\n",
      "30 1 200 4\n",
      "0.596590909091\n",
      "30 1 250 5\n",
      "0.596590909091\n",
      "30 2 0 0\n",
      "0.590909090909\n",
      "30 2 50 1\n",
      "0.596590909091\n",
      "30 2 100 2\n",
      "0.596590909091\n",
      "30 2 150 3\n"
     ]
    },
    {
     "name": "stderr",
     "output_type": "stream",
     "text": [
      "C:\\Users\\Xiang Zhang\\Anaconda3\\lib\\site-packages\\sklearn\\ensemble\\forest.py:453: UserWarning: Some inputs do not have OOB scores. This probably means too few trees were used to compute any reliable oob estimates.\n",
      "  warn(\"Some inputs do not have OOB scores. \"\n",
      "C:\\Users\\Xiang Zhang\\Anaconda3\\lib\\site-packages\\sklearn\\ensemble\\forest.py:458: RuntimeWarning: invalid value encountered in true_divide\n",
      "  predictions[k].sum(axis=1)[:, np.newaxis])\n"
     ]
    },
    {
     "name": "stdout",
     "output_type": "stream",
     "text": [
      "0.596590909091\n",
      "30 2 200 4\n",
      "0.596590909091\n",
      "30 2 250 5\n",
      "0.596590909091\n",
      "30 3 0 0\n",
      "0.590909090909\n",
      "30 3 50 1\n",
      "0.596590909091\n",
      "30 3 100 2\n",
      "0.596590909091\n",
      "30 3"
     ]
    },
    {
     "name": "stderr",
     "output_type": "stream",
     "text": [
      "C:\\Users\\Xiang Zhang\\Anaconda3\\lib\\site-packages\\sklearn\\ensemble\\forest.py:453: UserWarning: Some inputs do not have OOB scores. This probably means too few trees were used to compute any reliable oob estimates.\n",
      "  warn(\"Some inputs do not have OOB scores. \"\n",
      "C:\\Users\\Xiang Zhang\\Anaconda3\\lib\\site-packages\\sklearn\\ensemble\\forest.py:458: RuntimeWarning: invalid value encountered in true_divide\n",
      "  predictions[k].sum(axis=1)[:, np.newaxis])\n"
     ]
    },
    {
     "name": "stdout",
     "output_type": "stream",
     "text": [
      " 150 3\n",
      "0.596590909091\n",
      "30 3 200 4\n",
      "0.596590909091\n",
      "30 3 250 5\n",
      "0.596590909091\n",
      "30 4 0 0\n",
      "0.590909090909\n",
      "30 4 50 1\n",
      "0.596590909091\n",
      "30 4 100 2\n",
      "0.596590909091\n",
      "30 4 150"
     ]
    },
    {
     "name": "stderr",
     "output_type": "stream",
     "text": [
      "C:\\Users\\Xiang Zhang\\Anaconda3\\lib\\site-packages\\sklearn\\ensemble\\forest.py:453: UserWarning: Some inputs do not have OOB scores. This probably means too few trees were used to compute any reliable oob estimates.\n",
      "  warn(\"Some inputs do not have OOB scores. \"\n",
      "C:\\Users\\Xiang Zhang\\Anaconda3\\lib\\site-packages\\sklearn\\ensemble\\forest.py:458: RuntimeWarning: invalid value encountered in true_divide\n",
      "  predictions[k].sum(axis=1)[:, np.newaxis])\n"
     ]
    },
    {
     "name": "stdout",
     "output_type": "stream",
     "text": [
      " 3\n",
      "0.596590909091\n",
      "30 4 200 4\n",
      "0.596590909091\n",
      "30 4 250 5\n",
      "0.596590909091\n",
      "30 5 0 0\n",
      "0.590909090909\n",
      "30 5 50 1\n",
      "0.596590909091\n",
      "30 5 100 2\n",
      "0.596590909091\n",
      "30 5 150 3\n"
     ]
    },
    {
     "name": "stderr",
     "output_type": "stream",
     "text": [
      "C:\\Users\\Xiang Zhang\\Anaconda3\\lib\\site-packages\\sklearn\\ensemble\\forest.py:453: UserWarning: Some inputs do not have OOB scores. This probably means too few trees were used to compute any reliable oob estimates.\n",
      "  warn(\"Some inputs do not have OOB scores. \"\n",
      "C:\\Users\\Xiang Zhang\\Anaconda3\\lib\\site-packages\\sklearn\\ensemble\\forest.py:458: RuntimeWarning: invalid value encountered in true_divide\n",
      "  predictions[k].sum(axis=1)[:, np.newaxis])\n"
     ]
    },
    {
     "name": "stdout",
     "output_type": "stream",
     "text": [
      "0.596590909091\n",
      "30 5 200 4\n",
      "0.596590909091\n",
      "30 5 250 5\n",
      "0.596590909091\n",
      "30 6 0 0\n",
      "0.590909090909\n",
      "30 6 50 1\n",
      "0.596590909091\n",
      "30 6 100 2\n",
      "0.596590909091\n",
      "30 6 150"
     ]
    },
    {
     "name": "stderr",
     "output_type": "stream",
     "text": [
      "C:\\Users\\Xiang Zhang\\Anaconda3\\lib\\site-packages\\sklearn\\ensemble\\forest.py:453: UserWarning: Some inputs do not have OOB scores. This probably means too few trees were used to compute any reliable oob estimates.\n",
      "  warn(\"Some inputs do not have OOB scores. \"\n",
      "C:\\Users\\Xiang Zhang\\Anaconda3\\lib\\site-packages\\sklearn\\ensemble\\forest.py:458: RuntimeWarning: invalid value encountered in true_divide\n",
      "  predictions[k].sum(axis=1)[:, np.newaxis])\n"
     ]
    },
    {
     "name": "stdout",
     "output_type": "stream",
     "text": [
      " 3\n",
      "0.596590909091\n",
      "30 6 200 4\n",
      "0.596590909091\n",
      "30 6 250 5\n",
      "0.596590909091\n",
      "30 7 0 0\n",
      "0.590909090909\n",
      "30 7 50 1\n",
      "0.596590909091\n",
      "30 7 100 2\n",
      "0.596590909091\n",
      "30 7"
     ]
    },
    {
     "name": "stderr",
     "output_type": "stream",
     "text": [
      "C:\\Users\\Xiang Zhang\\Anaconda3\\lib\\site-packages\\sklearn\\ensemble\\forest.py:453: UserWarning: Some inputs do not have OOB scores. This probably means too few trees were used to compute any reliable oob estimates.\n",
      "  warn(\"Some inputs do not have OOB scores. \"\n",
      "C:\\Users\\Xiang Zhang\\Anaconda3\\lib\\site-packages\\sklearn\\ensemble\\forest.py:458: RuntimeWarning: invalid value encountered in true_divide\n",
      "  predictions[k].sum(axis=1)[:, np.newaxis])\n"
     ]
    },
    {
     "name": "stdout",
     "output_type": "stream",
     "text": [
      " 150 3\n",
      "0.596590909091\n",
      "30 7 200 4\n",
      "0.596590909091\n",
      "30 7 250 5\n",
      "0.596590909091\n",
      "30 8 0 0\n",
      "0.590909090909\n",
      "30 8 50 1\n",
      "0.596590909091\n",
      "30 8 100 2\n",
      "0.596590909091\n",
      "30 8 150 3"
     ]
    },
    {
     "name": "stderr",
     "output_type": "stream",
     "text": [
      "C:\\Users\\Xiang Zhang\\Anaconda3\\lib\\site-packages\\sklearn\\ensemble\\forest.py:453: UserWarning: Some inputs do not have OOB scores. This probably means too few trees were used to compute any reliable oob estimates.\n",
      "  warn(\"Some inputs do not have OOB scores. \"\n",
      "C:\\Users\\Xiang Zhang\\Anaconda3\\lib\\site-packages\\sklearn\\ensemble\\forest.py:458: RuntimeWarning: invalid value encountered in true_divide\n",
      "  predictions[k].sum(axis=1)[:, np.newaxis])\n"
     ]
    },
    {
     "name": "stdout",
     "output_type": "stream",
     "text": [
      "\n",
      "0.596590909091\n",
      "30 8 200 4\n",
      "0.596590909091\n",
      "30 8 250 5\n",
      "0.596590909091\n",
      "30 9 0 0\n",
      "0.590909090909\n",
      "30 9 50 1\n",
      "0.596590909091\n",
      "30 9 100 2\n",
      "0.596590909091\n",
      "30 9"
     ]
    },
    {
     "name": "stderr",
     "output_type": "stream",
     "text": [
      "C:\\Users\\Xiang Zhang\\Anaconda3\\lib\\site-packages\\sklearn\\ensemble\\forest.py:453: UserWarning: Some inputs do not have OOB scores. This probably means too few trees were used to compute any reliable oob estimates.\n",
      "  warn(\"Some inputs do not have OOB scores. \"\n",
      "C:\\Users\\Xiang Zhang\\Anaconda3\\lib\\site-packages\\sklearn\\ensemble\\forest.py:458: RuntimeWarning: invalid value encountered in true_divide\n",
      "  predictions[k].sum(axis=1)[:, np.newaxis])\n"
     ]
    },
    {
     "name": "stdout",
     "output_type": "stream",
     "text": [
      " 150 3\n",
      "0.596590909091\n",
      "30 9 200 4\n",
      "0.596590909091\n",
      "30 9 250 5\n",
      "0.596590909091\n",
      "30 10 0 0\n",
      "0.590909090909\n",
      "30 10 50 1\n",
      "0.596590909091\n",
      "30 10 100 2\n",
      "0.596590909091\n",
      "30 10"
     ]
    },
    {
     "name": "stderr",
     "output_type": "stream",
     "text": [
      "C:\\Users\\Xiang Zhang\\Anaconda3\\lib\\site-packages\\sklearn\\ensemble\\forest.py:453: UserWarning: Some inputs do not have OOB scores. This probably means too few trees were used to compute any reliable oob estimates.\n",
      "  warn(\"Some inputs do not have OOB scores. \"\n",
      "C:\\Users\\Xiang Zhang\\Anaconda3\\lib\\site-packages\\sklearn\\ensemble\\forest.py:458: RuntimeWarning: invalid value encountered in true_divide\n",
      "  predictions[k].sum(axis=1)[:, np.newaxis])\n"
     ]
    },
    {
     "name": "stdout",
     "output_type": "stream",
     "text": [
      " 150 3\n",
      "0.596590909091\n",
      "30 10 200 4\n",
      "0.596590909091\n",
      "30 10 250 5\n",
      "0.596590909091\n",
      "30 11 0 0\n",
      "0.590909090909\n",
      "30 11 50 1\n",
      "0.596590909091\n",
      "30 11 100 2\n",
      "0.596590909091\n",
      "30 11 150 3\n"
     ]
    },
    {
     "name": "stderr",
     "output_type": "stream",
     "text": [
      "C:\\Users\\Xiang Zhang\\Anaconda3\\lib\\site-packages\\sklearn\\ensemble\\forest.py:453: UserWarning: Some inputs do not have OOB scores. This probably means too few trees were used to compute any reliable oob estimates.\n",
      "  warn(\"Some inputs do not have OOB scores. \"\n",
      "C:\\Users\\Xiang Zhang\\Anaconda3\\lib\\site-packages\\sklearn\\ensemble\\forest.py:458: RuntimeWarning: invalid value encountered in true_divide\n",
      "  predictions[k].sum(axis=1)[:, np.newaxis])\n"
     ]
    },
    {
     "name": "stdout",
     "output_type": "stream",
     "text": [
      "0.596590909091\n",
      "30 11 200 4\n",
      "0.596590909091\n",
      "30 11 250 5\n",
      "0.596590909091\n",
      "30 12 0 0\n",
      "0.590909090909\n",
      "30 12 50 1\n",
      "0.596590909091\n",
      "30 12 100 2\n",
      "0.596590909091\n",
      "30 "
     ]
    },
    {
     "name": "stderr",
     "output_type": "stream",
     "text": [
      "C:\\Users\\Xiang Zhang\\Anaconda3\\lib\\site-packages\\sklearn\\ensemble\\forest.py:453: UserWarning: Some inputs do not have OOB scores. This probably means too few trees were used to compute any reliable oob estimates.\n",
      "  warn(\"Some inputs do not have OOB scores. \"\n",
      "C:\\Users\\Xiang Zhang\\Anaconda3\\lib\\site-packages\\sklearn\\ensemble\\forest.py:458: RuntimeWarning: invalid value encountered in true_divide\n",
      "  predictions[k].sum(axis=1)[:, np.newaxis])\n"
     ]
    },
    {
     "name": "stdout",
     "output_type": "stream",
     "text": [
      "12 150 3\n",
      "0.596590909091\n",
      "30 12 200 4\n",
      "0.596590909091\n",
      "30 12 250 5\n",
      "0.596590909091\n",
      "30 13 0 0\n",
      "0.590909090909\n",
      "30 13 50 1\n",
      "0.596590909091\n",
      "30 13 100 2\n",
      "0.596590909091\n",
      "30 13"
     ]
    },
    {
     "name": "stderr",
     "output_type": "stream",
     "text": [
      "C:\\Users\\Xiang Zhang\\Anaconda3\\lib\\site-packages\\sklearn\\ensemble\\forest.py:453: UserWarning: Some inputs do not have OOB scores. This probably means too few trees were used to compute any reliable oob estimates.\n",
      "  warn(\"Some inputs do not have OOB scores. \"\n",
      "C:\\Users\\Xiang Zhang\\Anaconda3\\lib\\site-packages\\sklearn\\ensemble\\forest.py:458: RuntimeWarning: invalid value encountered in true_divide\n",
      "  predictions[k].sum(axis=1)[:, np.newaxis])\n"
     ]
    },
    {
     "name": "stdout",
     "output_type": "stream",
     "text": [
      " 150 3\n",
      "0.596590909091\n",
      "30 13 200 4\n",
      "0.596590909091\n",
      "30 13 250 5\n",
      "0.596590909091\n",
      "30 14 0 0\n",
      "0.590909090909\n",
      "30 14 50 1\n",
      "0.596590909091\n",
      "30 14 100 2\n",
      "0.596590909091\n",
      "30 "
     ]
    },
    {
     "name": "stderr",
     "output_type": "stream",
     "text": [
      "C:\\Users\\Xiang Zhang\\Anaconda3\\lib\\site-packages\\sklearn\\ensemble\\forest.py:453: UserWarning: Some inputs do not have OOB scores. This probably means too few trees were used to compute any reliable oob estimates.\n",
      "  warn(\"Some inputs do not have OOB scores. \"\n",
      "C:\\Users\\Xiang Zhang\\Anaconda3\\lib\\site-packages\\sklearn\\ensemble\\forest.py:458: RuntimeWarning: invalid value encountered in true_divide\n",
      "  predictions[k].sum(axis=1)[:, np.newaxis])\n"
     ]
    },
    {
     "name": "stdout",
     "output_type": "stream",
     "text": [
      "14 150 3\n",
      "0.596590909091\n",
      "30 14 200 4\n",
      "0.596590909091\n",
      "30 14 250 5\n",
      "0.596590909091\n",
      "40 0 0 0\n",
      "0.590909090909\n",
      "40 0 50 1\n",
      "0.596590909091\n",
      "40 0 100 2\n",
      "0.596590909091\n",
      "40 0"
     ]
    },
    {
     "name": "stderr",
     "output_type": "stream",
     "text": [
      "C:\\Users\\Xiang Zhang\\Anaconda3\\lib\\site-packages\\sklearn\\ensemble\\forest.py:453: UserWarning: Some inputs do not have OOB scores. This probably means too few trees were used to compute any reliable oob estimates.\n",
      "  warn(\"Some inputs do not have OOB scores. \"\n",
      "C:\\Users\\Xiang Zhang\\Anaconda3\\lib\\site-packages\\sklearn\\ensemble\\forest.py:458: RuntimeWarning: invalid value encountered in true_divide\n",
      "  predictions[k].sum(axis=1)[:, np.newaxis])\n"
     ]
    },
    {
     "name": "stdout",
     "output_type": "stream",
     "text": [
      " 150 3\n",
      "0.596590909091\n",
      "40 0 200 4\n",
      "0.596590909091\n",
      "40 0 250 5\n",
      "0.596590909091\n",
      "40 1 0 0\n",
      "0.590909090909\n",
      "40 1 50 1\n",
      "0.596590909091\n",
      "40 1 100 2\n",
      "0.596590909091\n",
      "40 1"
     ]
    },
    {
     "name": "stderr",
     "output_type": "stream",
     "text": [
      "C:\\Users\\Xiang Zhang\\Anaconda3\\lib\\site-packages\\sklearn\\ensemble\\forest.py:453: UserWarning: Some inputs do not have OOB scores. This probably means too few trees were used to compute any reliable oob estimates.\n",
      "  warn(\"Some inputs do not have OOB scores. \"\n",
      "C:\\Users\\Xiang Zhang\\Anaconda3\\lib\\site-packages\\sklearn\\ensemble\\forest.py:458: RuntimeWarning: invalid value encountered in true_divide\n",
      "  predictions[k].sum(axis=1)[:, np.newaxis])\n"
     ]
    },
    {
     "name": "stdout",
     "output_type": "stream",
     "text": [
      " 150 3\n",
      "0.596590909091\n",
      "40 1 200 4\n",
      "0.596590909091\n",
      "40 1 250 5\n",
      "0.596590909091\n",
      "40 2 0 0\n",
      "0.590909090909\n",
      "40 2 50 1\n",
      "0.596590909091\n",
      "40 2 100 2\n",
      "0.596590909091\n",
      "40 2"
     ]
    },
    {
     "name": "stderr",
     "output_type": "stream",
     "text": [
      "C:\\Users\\Xiang Zhang\\Anaconda3\\lib\\site-packages\\sklearn\\ensemble\\forest.py:453: UserWarning: Some inputs do not have OOB scores. This probably means too few trees were used to compute any reliable oob estimates.\n",
      "  warn(\"Some inputs do not have OOB scores. \"\n",
      "C:\\Users\\Xiang Zhang\\Anaconda3\\lib\\site-packages\\sklearn\\ensemble\\forest.py:458: RuntimeWarning: invalid value encountered in true_divide\n",
      "  predictions[k].sum(axis=1)[:, np.newaxis])\n"
     ]
    },
    {
     "name": "stdout",
     "output_type": "stream",
     "text": [
      " 150 3\n",
      "0.596590909091\n",
      "40 2 200 4\n",
      "0.596590909091\n",
      "40 2 250 5\n",
      "0.596590909091\n",
      "40 3 0 0\n",
      "0.590909090909\n",
      "40 3 50 1\n",
      "0.596590909091\n",
      "40 3 100 2\n",
      "0.596590909091\n",
      "40 3 "
     ]
    },
    {
     "name": "stderr",
     "output_type": "stream",
     "text": [
      "C:\\Users\\Xiang Zhang\\Anaconda3\\lib\\site-packages\\sklearn\\ensemble\\forest.py:453: UserWarning: Some inputs do not have OOB scores. This probably means too few trees were used to compute any reliable oob estimates.\n",
      "  warn(\"Some inputs do not have OOB scores. \"\n",
      "C:\\Users\\Xiang Zhang\\Anaconda3\\lib\\site-packages\\sklearn\\ensemble\\forest.py:458: RuntimeWarning: invalid value encountered in true_divide\n",
      "  predictions[k].sum(axis=1)[:, np.newaxis])\n"
     ]
    },
    {
     "name": "stdout",
     "output_type": "stream",
     "text": [
      "150 3\n",
      "0.596590909091\n",
      "40 3 200 4\n",
      "0.596590909091\n",
      "40 3 250 5\n",
      "0.596590909091\n",
      "40 4 0 0\n",
      "0.590909090909\n",
      "40 4 50 1\n",
      "0.596590909091\n",
      "40 4 100 2\n",
      "0.596590909091\n",
      "40 4 150"
     ]
    },
    {
     "name": "stderr",
     "output_type": "stream",
     "text": [
      "C:\\Users\\Xiang Zhang\\Anaconda3\\lib\\site-packages\\sklearn\\ensemble\\forest.py:453: UserWarning: Some inputs do not have OOB scores. This probably means too few trees were used to compute any reliable oob estimates.\n",
      "  warn(\"Some inputs do not have OOB scores. \"\n",
      "C:\\Users\\Xiang Zhang\\Anaconda3\\lib\\site-packages\\sklearn\\ensemble\\forest.py:458: RuntimeWarning: invalid value encountered in true_divide\n",
      "  predictions[k].sum(axis=1)[:, np.newaxis])\n"
     ]
    },
    {
     "name": "stdout",
     "output_type": "stream",
     "text": [
      " 3\n",
      "0.596590909091\n",
      "40 4 200 4\n",
      "0.596590909091\n",
      "40 4 250 5\n",
      "0.596590909091\n",
      "40 5 0 0\n",
      "0.590909090909\n",
      "40 5 50 1\n",
      "0.596590909091\n",
      "40 5 100 2\n",
      "0.596590909091\n",
      "40 5 150 "
     ]
    },
    {
     "name": "stderr",
     "output_type": "stream",
     "text": [
      "C:\\Users\\Xiang Zhang\\Anaconda3\\lib\\site-packages\\sklearn\\ensemble\\forest.py:453: UserWarning: Some inputs do not have OOB scores. This probably means too few trees were used to compute any reliable oob estimates.\n",
      "  warn(\"Some inputs do not have OOB scores. \"\n",
      "C:\\Users\\Xiang Zhang\\Anaconda3\\lib\\site-packages\\sklearn\\ensemble\\forest.py:458: RuntimeWarning: invalid value encountered in true_divide\n",
      "  predictions[k].sum(axis=1)[:, np.newaxis])\n"
     ]
    },
    {
     "name": "stdout",
     "output_type": "stream",
     "text": [
      "3\n",
      "0.596590909091\n",
      "40 5 200 4\n",
      "0.596590909091\n",
      "40 5 250 5\n",
      "0.596590909091\n",
      "40 6 0 0\n",
      "0.590909090909\n",
      "40 6 50 1\n",
      "0.596590909091\n",
      "40 6 100 2\n",
      "0.596590909091\n",
      "40 6"
     ]
    },
    {
     "name": "stderr",
     "output_type": "stream",
     "text": [
      "C:\\Users\\Xiang Zhang\\Anaconda3\\lib\\site-packages\\sklearn\\ensemble\\forest.py:453: UserWarning: Some inputs do not have OOB scores. This probably means too few trees were used to compute any reliable oob estimates.\n",
      "  warn(\"Some inputs do not have OOB scores. \"\n",
      "C:\\Users\\Xiang Zhang\\Anaconda3\\lib\\site-packages\\sklearn\\ensemble\\forest.py:458: RuntimeWarning: invalid value encountered in true_divide\n",
      "  predictions[k].sum(axis=1)[:, np.newaxis])\n"
     ]
    },
    {
     "name": "stdout",
     "output_type": "stream",
     "text": [
      " 150 3\n",
      "0.596590909091\n",
      "40 6 200 4\n",
      "0.596590909091\n",
      "40 6 250 5\n",
      "0.596590909091\n",
      "40 7 0 0\n",
      "0.590909090909\n",
      "40 7 50 1\n",
      "0.596590909091\n",
      "40 7 100 2\n",
      "0.596590909091\n",
      "40 7 150 3\n"
     ]
    },
    {
     "name": "stderr",
     "output_type": "stream",
     "text": [
      "C:\\Users\\Xiang Zhang\\Anaconda3\\lib\\site-packages\\sklearn\\ensemble\\forest.py:453: UserWarning: Some inputs do not have OOB scores. This probably means too few trees were used to compute any reliable oob estimates.\n",
      "  warn(\"Some inputs do not have OOB scores. \"\n",
      "C:\\Users\\Xiang Zhang\\Anaconda3\\lib\\site-packages\\sklearn\\ensemble\\forest.py:458: RuntimeWarning: invalid value encountered in true_divide\n",
      "  predictions[k].sum(axis=1)[:, np.newaxis])\n"
     ]
    },
    {
     "name": "stdout",
     "output_type": "stream",
     "text": [
      "0.596590909091\n",
      "40 7 200 4\n",
      "0.596590909091\n",
      "40 7 250 5\n",
      "0.596590909091\n",
      "40 8 0 0\n",
      "0.590909090909\n",
      "40 8 50 1\n",
      "0.596590909091\n",
      "40 8 100 2\n",
      "0.596590909091\n",
      "40 "
     ]
    },
    {
     "name": "stderr",
     "output_type": "stream",
     "text": [
      "C:\\Users\\Xiang Zhang\\Anaconda3\\lib\\site-packages\\sklearn\\ensemble\\forest.py:453: UserWarning: Some inputs do not have OOB scores. This probably means too few trees were used to compute any reliable oob estimates.\n",
      "  warn(\"Some inputs do not have OOB scores. \"\n",
      "C:\\Users\\Xiang Zhang\\Anaconda3\\lib\\site-packages\\sklearn\\ensemble\\forest.py:458: RuntimeWarning: invalid value encountered in true_divide\n",
      "  predictions[k].sum(axis=1)[:, np.newaxis])\n"
     ]
    },
    {
     "name": "stdout",
     "output_type": "stream",
     "text": [
      "8 150 3\n",
      "0.596590909091\n",
      "40 8 200 4\n",
      "0.596590909091\n",
      "40 8 250 5\n",
      "0.596590909091\n",
      "40 9 0 0\n",
      "0.590909090909\n",
      "40 9 50 1\n",
      "0.596590909091\n",
      "40 9 100 2\n",
      "0.596590909091\n",
      "40 9 150 3\n"
     ]
    },
    {
     "name": "stderr",
     "output_type": "stream",
     "text": [
      "C:\\Users\\Xiang Zhang\\Anaconda3\\lib\\site-packages\\sklearn\\ensemble\\forest.py:453: UserWarning: Some inputs do not have OOB scores. This probably means too few trees were used to compute any reliable oob estimates.\n",
      "  warn(\"Some inputs do not have OOB scores. \"\n",
      "C:\\Users\\Xiang Zhang\\Anaconda3\\lib\\site-packages\\sklearn\\ensemble\\forest.py:458: RuntimeWarning: invalid value encountered in true_divide\n",
      "  predictions[k].sum(axis=1)[:, np.newaxis])\n"
     ]
    },
    {
     "name": "stdout",
     "output_type": "stream",
     "text": [
      "0.596590909091\n",
      "40 9 200 4\n",
      "0.596590909091\n",
      "40 9 250 5\n",
      "0.596590909091\n",
      "40 10 0 0\n",
      "0.590909090909\n",
      "40 10 50 1\n",
      "0.596590909091\n",
      "40 10 100 2\n",
      "0.596590909091\n",
      "40 10"
     ]
    },
    {
     "name": "stderr",
     "output_type": "stream",
     "text": [
      "C:\\Users\\Xiang Zhang\\Anaconda3\\lib\\site-packages\\sklearn\\ensemble\\forest.py:453: UserWarning: Some inputs do not have OOB scores. This probably means too few trees were used to compute any reliable oob estimates.\n",
      "  warn(\"Some inputs do not have OOB scores. \"\n",
      "C:\\Users\\Xiang Zhang\\Anaconda3\\lib\\site-packages\\sklearn\\ensemble\\forest.py:458: RuntimeWarning: invalid value encountered in true_divide\n",
      "  predictions[k].sum(axis=1)[:, np.newaxis])\n"
     ]
    },
    {
     "name": "stdout",
     "output_type": "stream",
     "text": [
      " 150 3\n",
      "0.596590909091\n",
      "40 10 200 4\n",
      "0.596590909091\n",
      "40 10 250 5\n",
      "0.596590909091\n",
      "40 11 0 0\n",
      "0.590909090909\n",
      "40 11 50 1\n",
      "0.596590909091\n",
      "40 11 100 2\n",
      "0.596590909091\n",
      "40 11 "
     ]
    },
    {
     "name": "stderr",
     "output_type": "stream",
     "text": [
      "C:\\Users\\Xiang Zhang\\Anaconda3\\lib\\site-packages\\sklearn\\ensemble\\forest.py:453: UserWarning: Some inputs do not have OOB scores. This probably means too few trees were used to compute any reliable oob estimates.\n",
      "  warn(\"Some inputs do not have OOB scores. \"\n",
      "C:\\Users\\Xiang Zhang\\Anaconda3\\lib\\site-packages\\sklearn\\ensemble\\forest.py:458: RuntimeWarning: invalid value encountered in true_divide\n",
      "  predictions[k].sum(axis=1)[:, np.newaxis])\n"
     ]
    },
    {
     "name": "stdout",
     "output_type": "stream",
     "text": [
      "150 3\n",
      "0.596590909091\n",
      "40 11 200 4\n",
      "0.596590909091\n",
      "40 11 250 5\n",
      "0.596590909091\n",
      "40 12 0 0\n",
      "0.590909090909\n",
      "40 12 50 1\n",
      "0.596590909091\n",
      "40 12 100 2\n",
      "0.596590909091\n",
      "40 12 150 3"
     ]
    },
    {
     "name": "stderr",
     "output_type": "stream",
     "text": [
      "C:\\Users\\Xiang Zhang\\Anaconda3\\lib\\site-packages\\sklearn\\ensemble\\forest.py:453: UserWarning: Some inputs do not have OOB scores. This probably means too few trees were used to compute any reliable oob estimates.\n",
      "  warn(\"Some inputs do not have OOB scores. \"\n",
      "C:\\Users\\Xiang Zhang\\Anaconda3\\lib\\site-packages\\sklearn\\ensemble\\forest.py:458: RuntimeWarning: invalid value encountered in true_divide\n",
      "  predictions[k].sum(axis=1)[:, np.newaxis])\n"
     ]
    },
    {
     "name": "stdout",
     "output_type": "stream",
     "text": [
      "\n",
      "0.596590909091\n",
      "40 12 200 4\n",
      "0.596590909091\n",
      "40 12 250 5\n",
      "0.596590909091\n",
      "40 13 0 0\n",
      "0.590909090909\n",
      "40 13 50 1\n",
      "0.596590909091\n",
      "40 13 100 2\n",
      "0.596590909091\n",
      "40 13 "
     ]
    },
    {
     "name": "stderr",
     "output_type": "stream",
     "text": [
      "C:\\Users\\Xiang Zhang\\Anaconda3\\lib\\site-packages\\sklearn\\ensemble\\forest.py:453: UserWarning: Some inputs do not have OOB scores. This probably means too few trees were used to compute any reliable oob estimates.\n",
      "  warn(\"Some inputs do not have OOB scores. \"\n",
      "C:\\Users\\Xiang Zhang\\Anaconda3\\lib\\site-packages\\sklearn\\ensemble\\forest.py:458: RuntimeWarning: invalid value encountered in true_divide\n",
      "  predictions[k].sum(axis=1)[:, np.newaxis])\n"
     ]
    },
    {
     "name": "stdout",
     "output_type": "stream",
     "text": [
      "150 3\n",
      "0.596590909091\n",
      "40 13 200 4\n",
      "0.596590909091\n",
      "40 13 250 5\n",
      "0.596590909091\n",
      "40 14 0 0\n",
      "0.590909090909\n",
      "40 14 50 1\n",
      "0.596590909091\n",
      "40 14 100 2\n",
      "0.596590909091\n",
      "40 14 150"
     ]
    },
    {
     "name": "stderr",
     "output_type": "stream",
     "text": [
      "C:\\Users\\Xiang Zhang\\Anaconda3\\lib\\site-packages\\sklearn\\ensemble\\forest.py:453: UserWarning: Some inputs do not have OOB scores. This probably means too few trees were used to compute any reliable oob estimates.\n",
      "  warn(\"Some inputs do not have OOB scores. \"\n",
      "C:\\Users\\Xiang Zhang\\Anaconda3\\lib\\site-packages\\sklearn\\ensemble\\forest.py:458: RuntimeWarning: invalid value encountered in true_divide\n",
      "  predictions[k].sum(axis=1)[:, np.newaxis])\n"
     ]
    },
    {
     "name": "stdout",
     "output_type": "stream",
     "text": [
      " 3\n",
      "0.596590909091\n",
      "40 14 200 4\n",
      "0.596590909091\n",
      "40 14 250 5\n",
      "0.596590909091\n",
      "50 0 0 0\n",
      "0.590909090909\n",
      "50 0 50 1\n",
      "0.596590909091\n",
      "50 0 100 2\n",
      "0.596590909091\n",
      "50 0"
     ]
    },
    {
     "name": "stderr",
     "output_type": "stream",
     "text": [
      "C:\\Users\\Xiang Zhang\\Anaconda3\\lib\\site-packages\\sklearn\\ensemble\\forest.py:453: UserWarning: Some inputs do not have OOB scores. This probably means too few trees were used to compute any reliable oob estimates.\n",
      "  warn(\"Some inputs do not have OOB scores. \"\n",
      "C:\\Users\\Xiang Zhang\\Anaconda3\\lib\\site-packages\\sklearn\\ensemble\\forest.py:458: RuntimeWarning: invalid value encountered in true_divide\n",
      "  predictions[k].sum(axis=1)[:, np.newaxis])\n"
     ]
    },
    {
     "name": "stdout",
     "output_type": "stream",
     "text": [
      " 150 3\n",
      "0.596590909091\n",
      "50 0 200 4\n",
      "0.596590909091\n",
      "50 0 250 5\n",
      "0.596590909091\n",
      "50 1 0 0\n",
      "0.590909090909\n",
      "50 1 50 1\n",
      "0.596590909091\n",
      "50 1 100 2\n",
      "0.596590909091\n",
      "50"
     ]
    },
    {
     "name": "stderr",
     "output_type": "stream",
     "text": [
      "C:\\Users\\Xiang Zhang\\Anaconda3\\lib\\site-packages\\sklearn\\ensemble\\forest.py:453: UserWarning: Some inputs do not have OOB scores. This probably means too few trees were used to compute any reliable oob estimates.\n",
      "  warn(\"Some inputs do not have OOB scores. \"\n",
      "C:\\Users\\Xiang Zhang\\Anaconda3\\lib\\site-packages\\sklearn\\ensemble\\forest.py:458: RuntimeWarning: invalid value encountered in true_divide\n",
      "  predictions[k].sum(axis=1)[:, np.newaxis])\n"
     ]
    },
    {
     "name": "stdout",
     "output_type": "stream",
     "text": [
      " 1 150 3\n",
      "0.596590909091\n",
      "50 1 200 4\n",
      "0.596590909091\n",
      "50 1 250 5\n",
      "0.596590909091\n",
      "50 2 0 0\n",
      "0.590909090909\n",
      "50 2 50 1\n",
      "0.596590909091\n",
      "50 2 100 2\n",
      "0.596590909091\n",
      "50 2 150 "
     ]
    },
    {
     "name": "stderr",
     "output_type": "stream",
     "text": [
      "C:\\Users\\Xiang Zhang\\Anaconda3\\lib\\site-packages\\sklearn\\ensemble\\forest.py:453: UserWarning: Some inputs do not have OOB scores. This probably means too few trees were used to compute any reliable oob estimates.\n",
      "  warn(\"Some inputs do not have OOB scores. \"\n",
      "C:\\Users\\Xiang Zhang\\Anaconda3\\lib\\site-packages\\sklearn\\ensemble\\forest.py:458: RuntimeWarning: invalid value encountered in true_divide\n",
      "  predictions[k].sum(axis=1)[:, np.newaxis])\n"
     ]
    },
    {
     "name": "stdout",
     "output_type": "stream",
     "text": [
      "3\n",
      "0.596590909091\n",
      "50 2 200 4\n",
      "0.596590909091\n",
      "50 2 250 5\n",
      "0.596590909091\n",
      "50 3 0 0\n",
      "0.590909090909\n",
      "50 3 50 1\n",
      "0.596590909091\n",
      "50 3 100 2\n",
      "0.596590909091\n",
      "50 3"
     ]
    },
    {
     "name": "stderr",
     "output_type": "stream",
     "text": [
      "C:\\Users\\Xiang Zhang\\Anaconda3\\lib\\site-packages\\sklearn\\ensemble\\forest.py:453: UserWarning: Some inputs do not have OOB scores. This probably means too few trees were used to compute any reliable oob estimates.\n",
      "  warn(\"Some inputs do not have OOB scores. \"\n",
      "C:\\Users\\Xiang Zhang\\Anaconda3\\lib\\site-packages\\sklearn\\ensemble\\forest.py:458: RuntimeWarning: invalid value encountered in true_divide\n",
      "  predictions[k].sum(axis=1)[:, np.newaxis])\n"
     ]
    },
    {
     "name": "stdout",
     "output_type": "stream",
     "text": [
      " 150 3\n",
      "0.596590909091\n",
      "50 3 200 4\n",
      "0.596590909091\n",
      "50 3 250 5\n",
      "0.596590909091\n",
      "50 4 0 0\n",
      "0.590909090909\n",
      "50 4 50 1\n",
      "0.596590909091\n",
      "50 4 100 2\n",
      "0.596590909091\n",
      "50"
     ]
    },
    {
     "name": "stderr",
     "output_type": "stream",
     "text": [
      "C:\\Users\\Xiang Zhang\\Anaconda3\\lib\\site-packages\\sklearn\\ensemble\\forest.py:453: UserWarning: Some inputs do not have OOB scores. This probably means too few trees were used to compute any reliable oob estimates.\n",
      "  warn(\"Some inputs do not have OOB scores. \"\n",
      "C:\\Users\\Xiang Zhang\\Anaconda3\\lib\\site-packages\\sklearn\\ensemble\\forest.py:458: RuntimeWarning: invalid value encountered in true_divide\n",
      "  predictions[k].sum(axis=1)[:, np.newaxis])\n"
     ]
    },
    {
     "name": "stdout",
     "output_type": "stream",
     "text": [
      " 4 150 3\n",
      "0.596590909091\n",
      "50 4 200 4\n",
      "0.596590909091\n",
      "50 4 250 5\n",
      "0.596590909091\n",
      "50 5 0 0\n",
      "0.590909090909\n",
      "50 5 50 1\n",
      "0.596590909091\n",
      "50 5 100 2\n",
      "0.596590909091\n",
      "50 5 150 3\n"
     ]
    },
    {
     "name": "stderr",
     "output_type": "stream",
     "text": [
      "C:\\Users\\Xiang Zhang\\Anaconda3\\lib\\site-packages\\sklearn\\ensemble\\forest.py:453: UserWarning: Some inputs do not have OOB scores. This probably means too few trees were used to compute any reliable oob estimates.\n",
      "  warn(\"Some inputs do not have OOB scores. \"\n",
      "C:\\Users\\Xiang Zhang\\Anaconda3\\lib\\site-packages\\sklearn\\ensemble\\forest.py:458: RuntimeWarning: invalid value encountered in true_divide\n",
      "  predictions[k].sum(axis=1)[:, np.newaxis])\n"
     ]
    },
    {
     "name": "stdout",
     "output_type": "stream",
     "text": [
      "0.596590909091\n",
      "50 5 200 4\n",
      "0.596590909091\n",
      "50 5 250 5\n",
      "0.596590909091\n",
      "50 6 0 0\n",
      "0.590909090909\n",
      "50 6 50 1\n",
      "0.596590909091\n",
      "50 6 100 2\n",
      "0.596590909091\n",
      "50 "
     ]
    },
    {
     "name": "stderr",
     "output_type": "stream",
     "text": [
      "C:\\Users\\Xiang Zhang\\Anaconda3\\lib\\site-packages\\sklearn\\ensemble\\forest.py:453: UserWarning: Some inputs do not have OOB scores. This probably means too few trees were used to compute any reliable oob estimates.\n",
      "  warn(\"Some inputs do not have OOB scores. \"\n",
      "C:\\Users\\Xiang Zhang\\Anaconda3\\lib\\site-packages\\sklearn\\ensemble\\forest.py:458: RuntimeWarning: invalid value encountered in true_divide\n",
      "  predictions[k].sum(axis=1)[:, np.newaxis])\n"
     ]
    },
    {
     "name": "stdout",
     "output_type": "stream",
     "text": [
      "6 150 3\n",
      "0.596590909091\n",
      "50 6 200 4\n",
      "0.596590909091\n",
      "50 6 250 5\n",
      "0.596590909091\n",
      "50 7 0 0\n",
      "0.590909090909\n",
      "50 7 50 1\n",
      "0.596590909091\n",
      "50 7 100 2\n",
      "0.596590909091\n",
      "50 7 "
     ]
    },
    {
     "name": "stderr",
     "output_type": "stream",
     "text": [
      "C:\\Users\\Xiang Zhang\\Anaconda3\\lib\\site-packages\\sklearn\\ensemble\\forest.py:453: UserWarning: Some inputs do not have OOB scores. This probably means too few trees were used to compute any reliable oob estimates.\n",
      "  warn(\"Some inputs do not have OOB scores. \"\n",
      "C:\\Users\\Xiang Zhang\\Anaconda3\\lib\\site-packages\\sklearn\\ensemble\\forest.py:458: RuntimeWarning: invalid value encountered in true_divide\n",
      "  predictions[k].sum(axis=1)[:, np.newaxis])\n"
     ]
    },
    {
     "name": "stdout",
     "output_type": "stream",
     "text": [
      "150 3\n",
      "0.596590909091\n",
      "50 7 200 4\n",
      "0.596590909091\n",
      "50 7 250 5\n",
      "0.596590909091\n",
      "50 8 0 0\n",
      "0.590909090909\n",
      "50 8 50 1\n",
      "0.596590909091\n",
      "50 8 100 2\n",
      "0.596590909091\n",
      "50 "
     ]
    },
    {
     "name": "stderr",
     "output_type": "stream",
     "text": [
      "C:\\Users\\Xiang Zhang\\Anaconda3\\lib\\site-packages\\sklearn\\ensemble\\forest.py:453: UserWarning: Some inputs do not have OOB scores. This probably means too few trees were used to compute any reliable oob estimates.\n",
      "  warn(\"Some inputs do not have OOB scores. \"\n",
      "C:\\Users\\Xiang Zhang\\Anaconda3\\lib\\site-packages\\sklearn\\ensemble\\forest.py:458: RuntimeWarning: invalid value encountered in true_divide\n",
      "  predictions[k].sum(axis=1)[:, np.newaxis])\n"
     ]
    },
    {
     "name": "stdout",
     "output_type": "stream",
     "text": [
      "8 150 3\n",
      "0.596590909091\n",
      "50 8 200 4\n",
      "0.596590909091\n",
      "50 8 250 5\n",
      "0.596590909091\n",
      "50 9 0 0\n",
      "0.590909090909\n",
      "50 9 50 1\n",
      "0.596590909091\n",
      "50 9 100 2\n",
      "0.596590909091\n",
      "50 9 "
     ]
    },
    {
     "name": "stderr",
     "output_type": "stream",
     "text": [
      "C:\\Users\\Xiang Zhang\\Anaconda3\\lib\\site-packages\\sklearn\\ensemble\\forest.py:453: UserWarning: Some inputs do not have OOB scores. This probably means too few trees were used to compute any reliable oob estimates.\n",
      "  warn(\"Some inputs do not have OOB scores. \"\n",
      "C:\\Users\\Xiang Zhang\\Anaconda3\\lib\\site-packages\\sklearn\\ensemble\\forest.py:458: RuntimeWarning: invalid value encountered in true_divide\n",
      "  predictions[k].sum(axis=1)[:, np.newaxis])\n"
     ]
    },
    {
     "name": "stdout",
     "output_type": "stream",
     "text": [
      "150 3\n",
      "0.596590909091\n",
      "50 9 200 4\n",
      "0.596590909091\n",
      "50 9 250 5\n",
      "0.596590909091\n",
      "50 10 0 0\n",
      "0.590909090909\n",
      "50 10 50 1\n",
      "0.596590909091\n",
      "50 10 100 2\n",
      "0.596590909091\n",
      "50 10 "
     ]
    },
    {
     "name": "stderr",
     "output_type": "stream",
     "text": [
      "C:\\Users\\Xiang Zhang\\Anaconda3\\lib\\site-packages\\sklearn\\ensemble\\forest.py:453: UserWarning: Some inputs do not have OOB scores. This probably means too few trees were used to compute any reliable oob estimates.\n",
      "  warn(\"Some inputs do not have OOB scores. \"\n",
      "C:\\Users\\Xiang Zhang\\Anaconda3\\lib\\site-packages\\sklearn\\ensemble\\forest.py:458: RuntimeWarning: invalid value encountered in true_divide\n",
      "  predictions[k].sum(axis=1)[:, np.newaxis])\n"
     ]
    },
    {
     "name": "stdout",
     "output_type": "stream",
     "text": [
      "150 3\n",
      "0.596590909091\n",
      "50 10 200 4\n",
      "0.596590909091\n",
      "50 10 250 5\n",
      "0.596590909091\n",
      "50 11 0 0\n",
      "0.590909090909\n",
      "50 11 50 1\n",
      "0.596590909091\n",
      "50 11 100 2\n",
      "0.596590909091\n",
      "50 11 150"
     ]
    },
    {
     "name": "stderr",
     "output_type": "stream",
     "text": [
      "C:\\Users\\Xiang Zhang\\Anaconda3\\lib\\site-packages\\sklearn\\ensemble\\forest.py:453: UserWarning: Some inputs do not have OOB scores. This probably means too few trees were used to compute any reliable oob estimates.\n",
      "  warn(\"Some inputs do not have OOB scores. \"\n",
      "C:\\Users\\Xiang Zhang\\Anaconda3\\lib\\site-packages\\sklearn\\ensemble\\forest.py:458: RuntimeWarning: invalid value encountered in true_divide\n",
      "  predictions[k].sum(axis=1)[:, np.newaxis])\n"
     ]
    },
    {
     "name": "stdout",
     "output_type": "stream",
     "text": [
      " 3\n",
      "0.596590909091\n",
      "50 11 200 4\n",
      "0.596590909091\n",
      "50 11 250 5\n",
      "0.596590909091\n",
      "50 12 0 0\n",
      "0.590909090909\n",
      "50 12 50 1\n",
      "0.596590909091\n",
      "50 12 100 2\n",
      "0.596590909091\n",
      "50"
     ]
    },
    {
     "name": "stderr",
     "output_type": "stream",
     "text": [
      "C:\\Users\\Xiang Zhang\\Anaconda3\\lib\\site-packages\\sklearn\\ensemble\\forest.py:453: UserWarning: Some inputs do not have OOB scores. This probably means too few trees were used to compute any reliable oob estimates.\n",
      "  warn(\"Some inputs do not have OOB scores. \"\n",
      "C:\\Users\\Xiang Zhang\\Anaconda3\\lib\\site-packages\\sklearn\\ensemble\\forest.py:458: RuntimeWarning: invalid value encountered in true_divide\n",
      "  predictions[k].sum(axis=1)[:, np.newaxis])\n"
     ]
    },
    {
     "name": "stdout",
     "output_type": "stream",
     "text": [
      " 12 150 3\n",
      "0.596590909091\n",
      "50 12 200 4\n",
      "0.596590909091\n",
      "50 12 250 5\n",
      "0.596590909091\n",
      "50 13 0 0\n",
      "0.590909090909\n",
      "50 13 50 1\n",
      "0.596590909091\n",
      "50 13 100 2\n",
      "0.596590909091\n",
      "50 "
     ]
    },
    {
     "name": "stderr",
     "output_type": "stream",
     "text": [
      "C:\\Users\\Xiang Zhang\\Anaconda3\\lib\\site-packages\\sklearn\\ensemble\\forest.py:453: UserWarning: Some inputs do not have OOB scores. This probably means too few trees were used to compute any reliable oob estimates.\n",
      "  warn(\"Some inputs do not have OOB scores. \"\n",
      "C:\\Users\\Xiang Zhang\\Anaconda3\\lib\\site-packages\\sklearn\\ensemble\\forest.py:458: RuntimeWarning: invalid value encountered in true_divide\n",
      "  predictions[k].sum(axis=1)[:, np.newaxis])\n"
     ]
    },
    {
     "name": "stdout",
     "output_type": "stream",
     "text": [
      "13 150 3\n",
      "0.596590909091\n",
      "50 13 200 4\n",
      "0.596590909091\n",
      "50 13 250 5\n",
      "0.596590909091\n",
      "50 14 0 0\n",
      "0.590909090909\n",
      "50 14 50 1\n",
      "0.596590909091\n",
      "50 14 100 2\n",
      "0.596590909091\n",
      "50 "
     ]
    },
    {
     "name": "stderr",
     "output_type": "stream",
     "text": [
      "C:\\Users\\Xiang Zhang\\Anaconda3\\lib\\site-packages\\sklearn\\ensemble\\forest.py:453: UserWarning: Some inputs do not have OOB scores. This probably means too few trees were used to compute any reliable oob estimates.\n",
      "  warn(\"Some inputs do not have OOB scores. \"\n",
      "C:\\Users\\Xiang Zhang\\Anaconda3\\lib\\site-packages\\sklearn\\ensemble\\forest.py:458: RuntimeWarning: invalid value encountered in true_divide\n",
      "  predictions[k].sum(axis=1)[:, np.newaxis])\n"
     ]
    },
    {
     "name": "stdout",
     "output_type": "stream",
     "text": [
      "14 150 3\n",
      "0.596590909091\n",
      "50 14 200 4\n",
      "0.596590909091\n",
      "50 14 250 5\n",
      "0.596590909091\n",
      "60 0 0 0\n",
      "0.590909090909\n",
      "60 0 50 1\n",
      "0.596590909091\n",
      "60 0 100 2\n",
      "0.596590909091\n",
      "60 0 "
     ]
    },
    {
     "name": "stderr",
     "output_type": "stream",
     "text": [
      "C:\\Users\\Xiang Zhang\\Anaconda3\\lib\\site-packages\\sklearn\\ensemble\\forest.py:453: UserWarning: Some inputs do not have OOB scores. This probably means too few trees were used to compute any reliable oob estimates.\n",
      "  warn(\"Some inputs do not have OOB scores. \"\n",
      "C:\\Users\\Xiang Zhang\\Anaconda3\\lib\\site-packages\\sklearn\\ensemble\\forest.py:458: RuntimeWarning: invalid value encountered in true_divide\n",
      "  predictions[k].sum(axis=1)[:, np.newaxis])\n"
     ]
    },
    {
     "name": "stdout",
     "output_type": "stream",
     "text": [
      "150 3\n",
      "0.596590909091\n",
      "60 0 200 4\n",
      "0.596590909091\n",
      "60 0 250 5\n",
      "0.596590909091\n",
      "60 1 0 0\n",
      "0.590909090909\n",
      "60 1 50 1\n",
      "0.596590909091\n",
      "60 1 100 2\n",
      "0.596590909091\n",
      "60 1 150 "
     ]
    },
    {
     "name": "stderr",
     "output_type": "stream",
     "text": [
      "C:\\Users\\Xiang Zhang\\Anaconda3\\lib\\site-packages\\sklearn\\ensemble\\forest.py:453: UserWarning: Some inputs do not have OOB scores. This probably means too few trees were used to compute any reliable oob estimates.\n",
      "  warn(\"Some inputs do not have OOB scores. \"\n",
      "C:\\Users\\Xiang Zhang\\Anaconda3\\lib\\site-packages\\sklearn\\ensemble\\forest.py:458: RuntimeWarning: invalid value encountered in true_divide\n",
      "  predictions[k].sum(axis=1)[:, np.newaxis])\n"
     ]
    },
    {
     "name": "stdout",
     "output_type": "stream",
     "text": [
      "3\n",
      "0.596590909091\n",
      "60 1 200 4\n",
      "0.596590909091\n",
      "60 1 250 5\n",
      "0.596590909091\n",
      "60 2 0 0\n",
      "0.590909090909\n",
      "60 2 50 1\n",
      "0.596590909091\n",
      "60 2 100 2\n",
      "0.596590909091\n",
      "60 "
     ]
    },
    {
     "name": "stderr",
     "output_type": "stream",
     "text": [
      "C:\\Users\\Xiang Zhang\\Anaconda3\\lib\\site-packages\\sklearn\\ensemble\\forest.py:453: UserWarning: Some inputs do not have OOB scores. This probably means too few trees were used to compute any reliable oob estimates.\n",
      "  warn(\"Some inputs do not have OOB scores. \"\n",
      "C:\\Users\\Xiang Zhang\\Anaconda3\\lib\\site-packages\\sklearn\\ensemble\\forest.py:458: RuntimeWarning: invalid value encountered in true_divide\n",
      "  predictions[k].sum(axis=1)[:, np.newaxis])\n"
     ]
    },
    {
     "name": "stdout",
     "output_type": "stream",
     "text": [
      "2 150 3\n",
      "0.596590909091\n",
      "60 2 200 4\n",
      "0.596590909091\n",
      "60 2 250 5\n",
      "0.596590909091\n",
      "60 3 0 0\n",
      "0.590909090909\n",
      "60 3 50 1\n",
      "0.596590909091\n",
      "60 3 100 2\n",
      "0.596590909091\n",
      "60 "
     ]
    },
    {
     "name": "stderr",
     "output_type": "stream",
     "text": [
      "C:\\Users\\Xiang Zhang\\Anaconda3\\lib\\site-packages\\sklearn\\ensemble\\forest.py:453: UserWarning: Some inputs do not have OOB scores. This probably means too few trees were used to compute any reliable oob estimates.\n",
      "  warn(\"Some inputs do not have OOB scores. \"\n",
      "C:\\Users\\Xiang Zhang\\Anaconda3\\lib\\site-packages\\sklearn\\ensemble\\forest.py:458: RuntimeWarning: invalid value encountered in true_divide\n",
      "  predictions[k].sum(axis=1)[:, np.newaxis])\n"
     ]
    },
    {
     "name": "stdout",
     "output_type": "stream",
     "text": [
      "3 150 3\n",
      "0.596590909091\n",
      "60 3 200 4\n",
      "0.596590909091\n",
      "60 3 250 5\n",
      "0.596590909091\n",
      "60 4 0 0\n",
      "0.590909090909\n",
      "60 4 50 1\n",
      "0.596590909091\n",
      "60 4 100 2\n",
      "0.596590909091\n",
      "60 4 "
     ]
    },
    {
     "name": "stderr",
     "output_type": "stream",
     "text": [
      "C:\\Users\\Xiang Zhang\\Anaconda3\\lib\\site-packages\\sklearn\\ensemble\\forest.py:453: UserWarning: Some inputs do not have OOB scores. This probably means too few trees were used to compute any reliable oob estimates.\n",
      "  warn(\"Some inputs do not have OOB scores. \"\n",
      "C:\\Users\\Xiang Zhang\\Anaconda3\\lib\\site-packages\\sklearn\\ensemble\\forest.py:458: RuntimeWarning: invalid value encountered in true_divide\n",
      "  predictions[k].sum(axis=1)[:, np.newaxis])\n"
     ]
    },
    {
     "name": "stdout",
     "output_type": "stream",
     "text": [
      "150 3\n",
      "0.596590909091\n",
      "60 4 200 4\n",
      "0.596590909091\n",
      "60 4 250 5\n",
      "0.596590909091\n",
      "60 5 0 0\n",
      "0.590909090909\n",
      "60 5 50 1\n",
      "0.596590909091\n",
      "60 5 100 2\n",
      "0.596590909091\n",
      "60 5"
     ]
    },
    {
     "name": "stderr",
     "output_type": "stream",
     "text": [
      "C:\\Users\\Xiang Zhang\\Anaconda3\\lib\\site-packages\\sklearn\\ensemble\\forest.py:453: UserWarning: Some inputs do not have OOB scores. This probably means too few trees were used to compute any reliable oob estimates.\n",
      "  warn(\"Some inputs do not have OOB scores. \"\n",
      "C:\\Users\\Xiang Zhang\\Anaconda3\\lib\\site-packages\\sklearn\\ensemble\\forest.py:458: RuntimeWarning: invalid value encountered in true_divide\n",
      "  predictions[k].sum(axis=1)[:, np.newaxis])\n"
     ]
    },
    {
     "name": "stdout",
     "output_type": "stream",
     "text": [
      " 150 3\n",
      "0.596590909091\n",
      "60 5 200 4\n",
      "0.596590909091\n",
      "60 5 250 5\n",
      "0.596590909091\n",
      "60 6 0 0\n",
      "0.590909090909\n",
      "60 6 50 1\n",
      "0.596590909091\n",
      "60 6 100 2\n",
      "0.596590909091\n",
      "60 6 "
     ]
    },
    {
     "name": "stderr",
     "output_type": "stream",
     "text": [
      "C:\\Users\\Xiang Zhang\\Anaconda3\\lib\\site-packages\\sklearn\\ensemble\\forest.py:453: UserWarning: Some inputs do not have OOB scores. This probably means too few trees were used to compute any reliable oob estimates.\n",
      "  warn(\"Some inputs do not have OOB scores. \"\n",
      "C:\\Users\\Xiang Zhang\\Anaconda3\\lib\\site-packages\\sklearn\\ensemble\\forest.py:458: RuntimeWarning: invalid value encountered in true_divide\n",
      "  predictions[k].sum(axis=1)[:, np.newaxis])\n"
     ]
    },
    {
     "name": "stdout",
     "output_type": "stream",
     "text": [
      "150 3\n",
      "0.596590909091\n",
      "60 6 200 4\n",
      "0.596590909091\n",
      "60 6 250 5\n",
      "0.596590909091\n",
      "60 7 0 0\n",
      "0.590909090909\n",
      "60 7 50 1\n",
      "0.596590909091\n",
      "60 7 100 2\n",
      "0.596590909091\n",
      "60 7 150 "
     ]
    },
    {
     "name": "stderr",
     "output_type": "stream",
     "text": [
      "C:\\Users\\Xiang Zhang\\Anaconda3\\lib\\site-packages\\sklearn\\ensemble\\forest.py:453: UserWarning: Some inputs do not have OOB scores. This probably means too few trees were used to compute any reliable oob estimates.\n",
      "  warn(\"Some inputs do not have OOB scores. \"\n",
      "C:\\Users\\Xiang Zhang\\Anaconda3\\lib\\site-packages\\sklearn\\ensemble\\forest.py:458: RuntimeWarning: invalid value encountered in true_divide\n",
      "  predictions[k].sum(axis=1)[:, np.newaxis])\n"
     ]
    },
    {
     "name": "stdout",
     "output_type": "stream",
     "text": [
      "3\n",
      "0.596590909091\n",
      "60 7 200 4\n",
      "0.596590909091\n",
      "60 7 250 5\n",
      "0.596590909091\n",
      "60 8 0 0\n",
      "0.590909090909\n",
      "60 8 50 1\n",
      "0.596590909091\n",
      "60 8 100 2\n",
      "0.596590909091\n",
      "60 8"
     ]
    },
    {
     "name": "stderr",
     "output_type": "stream",
     "text": [
      "C:\\Users\\Xiang Zhang\\Anaconda3\\lib\\site-packages\\sklearn\\ensemble\\forest.py:453: UserWarning: Some inputs do not have OOB scores. This probably means too few trees were used to compute any reliable oob estimates.\n",
      "  warn(\"Some inputs do not have OOB scores. \"\n",
      "C:\\Users\\Xiang Zhang\\Anaconda3\\lib\\site-packages\\sklearn\\ensemble\\forest.py:458: RuntimeWarning: invalid value encountered in true_divide\n",
      "  predictions[k].sum(axis=1)[:, np.newaxis])\n"
     ]
    },
    {
     "name": "stdout",
     "output_type": "stream",
     "text": [
      " 150 3\n",
      "0.596590909091\n",
      "60 8 200 4\n",
      "0.596590909091\n",
      "60 8 250 5\n",
      "0.596590909091\n",
      "60 9 0 0\n",
      "0.590909090909\n",
      "60 9 50 1\n",
      "0.596590909091\n",
      "60 9 100 2\n",
      "0.596590909091\n",
      "60"
     ]
    },
    {
     "name": "stderr",
     "output_type": "stream",
     "text": [
      "C:\\Users\\Xiang Zhang\\Anaconda3\\lib\\site-packages\\sklearn\\ensemble\\forest.py:453: UserWarning: Some inputs do not have OOB scores. This probably means too few trees were used to compute any reliable oob estimates.\n",
      "  warn(\"Some inputs do not have OOB scores. \"\n",
      "C:\\Users\\Xiang Zhang\\Anaconda3\\lib\\site-packages\\sklearn\\ensemble\\forest.py:458: RuntimeWarning: invalid value encountered in true_divide\n",
      "  predictions[k].sum(axis=1)[:, np.newaxis])\n"
     ]
    },
    {
     "name": "stdout",
     "output_type": "stream",
     "text": [
      " 9 150 3\n",
      "0.596590909091\n",
      "60 9 200 4\n",
      "0.596590909091\n",
      "60 9 250 5\n",
      "0.596590909091\n",
      "60 10 0 0\n",
      "0.590909090909\n",
      "60 10 50 1\n",
      "0.596590909091\n",
      "60 10 100 2\n",
      "0.596590909091\n",
      "60 10"
     ]
    },
    {
     "name": "stderr",
     "output_type": "stream",
     "text": [
      "C:\\Users\\Xiang Zhang\\Anaconda3\\lib\\site-packages\\sklearn\\ensemble\\forest.py:453: UserWarning: Some inputs do not have OOB scores. This probably means too few trees were used to compute any reliable oob estimates.\n",
      "  warn(\"Some inputs do not have OOB scores. \"\n",
      "C:\\Users\\Xiang Zhang\\Anaconda3\\lib\\site-packages\\sklearn\\ensemble\\forest.py:458: RuntimeWarning: invalid value encountered in true_divide\n",
      "  predictions[k].sum(axis=1)[:, np.newaxis])\n"
     ]
    },
    {
     "name": "stdout",
     "output_type": "stream",
     "text": [
      " 150 3\n",
      "0.596590909091\n",
      "60 10 200 4\n",
      "0.596590909091\n",
      "60 10 250 5\n",
      "0.596590909091\n",
      "60 11 0 0\n",
      "0.590909090909\n",
      "60 11 50 1\n",
      "0.596590909091\n",
      "60 11 100 2\n",
      "0.596590909091\n"
     ]
    },
    {
     "name": "stderr",
     "output_type": "stream",
     "text": [
      "C:\\Users\\Xiang Zhang\\Anaconda3\\lib\\site-packages\\sklearn\\ensemble\\forest.py:453: UserWarning: Some inputs do not have OOB scores. This probably means too few trees were used to compute any reliable oob estimates.\n",
      "  warn(\"Some inputs do not have OOB scores. \"\n",
      "C:\\Users\\Xiang Zhang\\Anaconda3\\lib\\site-packages\\sklearn\\ensemble\\forest.py:458: RuntimeWarning: invalid value encountered in true_divide\n",
      "  predictions[k].sum(axis=1)[:, np.newaxis])\n"
     ]
    },
    {
     "name": "stdout",
     "output_type": "stream",
     "text": [
      "60 11 150 3\n",
      "0.596590909091\n",
      "60 11 200 4\n",
      "0.596590909091\n",
      "60 11 250 5\n",
      "0.596590909091\n",
      "60 12 0 0\n",
      "0.590909090909\n",
      "60 12 50 1\n",
      "0.596590909091\n",
      "60 12 100 2\n",
      "0.596590909091\n",
      "60 "
     ]
    },
    {
     "name": "stderr",
     "output_type": "stream",
     "text": [
      "C:\\Users\\Xiang Zhang\\Anaconda3\\lib\\site-packages\\sklearn\\ensemble\\forest.py:453: UserWarning: Some inputs do not have OOB scores. This probably means too few trees were used to compute any reliable oob estimates.\n",
      "  warn(\"Some inputs do not have OOB scores. \"\n",
      "C:\\Users\\Xiang Zhang\\Anaconda3\\lib\\site-packages\\sklearn\\ensemble\\forest.py:458: RuntimeWarning: invalid value encountered in true_divide\n",
      "  predictions[k].sum(axis=1)[:, np.newaxis])\n"
     ]
    },
    {
     "name": "stdout",
     "output_type": "stream",
     "text": [
      "12 150 3\n",
      "0.596590909091\n",
      "60 12 200 4\n",
      "0.596590909091\n",
      "60 12 250 5\n",
      "0.596590909091\n",
      "60 13 0 0\n",
      "0.590909090909\n",
      "60 13 50 1\n",
      "0.596590909091\n",
      "60 13 100 2\n",
      "0.596590909091\n",
      "60 13"
     ]
    },
    {
     "name": "stderr",
     "output_type": "stream",
     "text": [
      "C:\\Users\\Xiang Zhang\\Anaconda3\\lib\\site-packages\\sklearn\\ensemble\\forest.py:453: UserWarning: Some inputs do not have OOB scores. This probably means too few trees were used to compute any reliable oob estimates.\n",
      "  warn(\"Some inputs do not have OOB scores. \"\n",
      "C:\\Users\\Xiang Zhang\\Anaconda3\\lib\\site-packages\\sklearn\\ensemble\\forest.py:458: RuntimeWarning: invalid value encountered in true_divide\n",
      "  predictions[k].sum(axis=1)[:, np.newaxis])\n"
     ]
    },
    {
     "name": "stdout",
     "output_type": "stream",
     "text": [
      " 150 3\n",
      "0.596590909091\n",
      "60 13 200 4\n",
      "0.596590909091\n",
      "60 13 250 5\n",
      "0.596590909091\n",
      "60 14 0 0\n",
      "0.590909090909\n",
      "60 14 50 1\n",
      "0.596590909091\n",
      "60 14 100 2\n",
      "0.596590909091\n",
      "60 14"
     ]
    },
    {
     "name": "stderr",
     "output_type": "stream",
     "text": [
      "C:\\Users\\Xiang Zhang\\Anaconda3\\lib\\site-packages\\sklearn\\ensemble\\forest.py:453: UserWarning: Some inputs do not have OOB scores. This probably means too few trees were used to compute any reliable oob estimates.\n",
      "  warn(\"Some inputs do not have OOB scores. \"\n",
      "C:\\Users\\Xiang Zhang\\Anaconda3\\lib\\site-packages\\sklearn\\ensemble\\forest.py:458: RuntimeWarning: invalid value encountered in true_divide\n",
      "  predictions[k].sum(axis=1)[:, np.newaxis])\n"
     ]
    },
    {
     "name": "stdout",
     "output_type": "stream",
     "text": [
      " 150 3\n",
      "0.596590909091\n",
      "60 14 200 4\n",
      "0.596590909091\n",
      "60 14 250 5\n",
      "0.596590909091\n",
      "70 0 0 0\n",
      "0.590909090909\n",
      "70 0 50 1\n",
      "0.596590909091\n",
      "70 0 100 2\n",
      "0.596590909091\n",
      "70 0"
     ]
    },
    {
     "name": "stderr",
     "output_type": "stream",
     "text": [
      "C:\\Users\\Xiang Zhang\\Anaconda3\\lib\\site-packages\\sklearn\\ensemble\\forest.py:453: UserWarning: Some inputs do not have OOB scores. This probably means too few trees were used to compute any reliable oob estimates.\n",
      "  warn(\"Some inputs do not have OOB scores. \"\n",
      "C:\\Users\\Xiang Zhang\\Anaconda3\\lib\\site-packages\\sklearn\\ensemble\\forest.py:458: RuntimeWarning: invalid value encountered in true_divide\n",
      "  predictions[k].sum(axis=1)[:, np.newaxis])\n"
     ]
    },
    {
     "name": "stdout",
     "output_type": "stream",
     "text": [
      " 150 3\n",
      "0.596590909091\n",
      "70 0 200 4\n",
      "0.596590909091\n",
      "70 0 250 5\n",
      "0.596590909091\n",
      "70 1 0 0\n",
      "0.590909090909\n",
      "70 1 50 1\n",
      "0.596590909091\n",
      "70 1 100 2\n",
      "0.596590909091\n",
      "70 "
     ]
    },
    {
     "name": "stderr",
     "output_type": "stream",
     "text": [
      "C:\\Users\\Xiang Zhang\\Anaconda3\\lib\\site-packages\\sklearn\\ensemble\\forest.py:453: UserWarning: Some inputs do not have OOB scores. This probably means too few trees were used to compute any reliable oob estimates.\n",
      "  warn(\"Some inputs do not have OOB scores. \"\n",
      "C:\\Users\\Xiang Zhang\\Anaconda3\\lib\\site-packages\\sklearn\\ensemble\\forest.py:458: RuntimeWarning: invalid value encountered in true_divide\n",
      "  predictions[k].sum(axis=1)[:, np.newaxis])\n"
     ]
    },
    {
     "name": "stdout",
     "output_type": "stream",
     "text": [
      "1 150 3\n",
      "0.596590909091\n",
      "70 1 200 4\n",
      "0.596590909091\n",
      "70 1 250 5\n",
      "0.596590909091\n",
      "70 2 0 0\n",
      "0.590909090909\n",
      "70 2 50 1\n",
      "0.596590909091\n",
      "70 2 100 2\n",
      "0.596590909091\n",
      "70 2 150 3\n"
     ]
    },
    {
     "name": "stderr",
     "output_type": "stream",
     "text": [
      "C:\\Users\\Xiang Zhang\\Anaconda3\\lib\\site-packages\\sklearn\\ensemble\\forest.py:453: UserWarning: Some inputs do not have OOB scores. This probably means too few trees were used to compute any reliable oob estimates.\n",
      "  warn(\"Some inputs do not have OOB scores. \"\n",
      "C:\\Users\\Xiang Zhang\\Anaconda3\\lib\\site-packages\\sklearn\\ensemble\\forest.py:458: RuntimeWarning: invalid value encountered in true_divide\n",
      "  predictions[k].sum(axis=1)[:, np.newaxis])\n"
     ]
    },
    {
     "name": "stdout",
     "output_type": "stream",
     "text": [
      "0.596590909091\n",
      "70 2 200 4\n",
      "0.596590909091\n",
      "70 2 250 5\n",
      "0.596590909091\n",
      "70 3 0 0\n",
      "0.590909090909\n",
      "70 3 50 1\n",
      "0.596590909091\n",
      "70 3 100 2\n",
      "0.596590909091\n",
      "70 3"
     ]
    },
    {
     "name": "stderr",
     "output_type": "stream",
     "text": [
      "C:\\Users\\Xiang Zhang\\Anaconda3\\lib\\site-packages\\sklearn\\ensemble\\forest.py:453: UserWarning: Some inputs do not have OOB scores. This probably means too few trees were used to compute any reliable oob estimates.\n",
      "  warn(\"Some inputs do not have OOB scores. \"\n",
      "C:\\Users\\Xiang Zhang\\Anaconda3\\lib\\site-packages\\sklearn\\ensemble\\forest.py:458: RuntimeWarning: invalid value encountered in true_divide\n",
      "  predictions[k].sum(axis=1)[:, np.newaxis])\n"
     ]
    },
    {
     "name": "stdout",
     "output_type": "stream",
     "text": [
      " 150 3\n",
      "0.596590909091\n",
      "70 3 200 4\n",
      "0.596590909091\n",
      "70 3 250 5\n",
      "0.596590909091\n",
      "70 4 0 0\n",
      "0.590909090909\n",
      "70 4 50 1\n",
      "0.596590909091\n",
      "70 4 100 2\n",
      "0.596590909091\n",
      "70 "
     ]
    },
    {
     "name": "stderr",
     "output_type": "stream",
     "text": [
      "C:\\Users\\Xiang Zhang\\Anaconda3\\lib\\site-packages\\sklearn\\ensemble\\forest.py:453: UserWarning: Some inputs do not have OOB scores. This probably means too few trees were used to compute any reliable oob estimates.\n",
      "  warn(\"Some inputs do not have OOB scores. \"\n",
      "C:\\Users\\Xiang Zhang\\Anaconda3\\lib\\site-packages\\sklearn\\ensemble\\forest.py:458: RuntimeWarning: invalid value encountered in true_divide\n",
      "  predictions[k].sum(axis=1)[:, np.newaxis])\n"
     ]
    },
    {
     "name": "stdout",
     "output_type": "stream",
     "text": [
      "4 150 3\n",
      "0.596590909091\n",
      "70 4 200 4\n",
      "0.596590909091\n",
      "70 4 250 5\n",
      "0.596590909091\n",
      "70 5 0 0\n",
      "0.590909090909\n",
      "70 5 50 1\n",
      "0.596590909091\n",
      "70 5 100 2\n",
      "0.596590909091\n",
      "70 5"
     ]
    },
    {
     "name": "stderr",
     "output_type": "stream",
     "text": [
      "C:\\Users\\Xiang Zhang\\Anaconda3\\lib\\site-packages\\sklearn\\ensemble\\forest.py:453: UserWarning: Some inputs do not have OOB scores. This probably means too few trees were used to compute any reliable oob estimates.\n",
      "  warn(\"Some inputs do not have OOB scores. \"\n",
      "C:\\Users\\Xiang Zhang\\Anaconda3\\lib\\site-packages\\sklearn\\ensemble\\forest.py:458: RuntimeWarning: invalid value encountered in true_divide\n",
      "  predictions[k].sum(axis=1)[:, np.newaxis])\n"
     ]
    },
    {
     "name": "stdout",
     "output_type": "stream",
     "text": [
      " 150 3\n",
      "0.596590909091\n",
      "70 5 200 4\n",
      "0.596590909091\n",
      "70 5 250 5\n",
      "0.596590909091\n",
      "70 6 0 0\n",
      "0.590909090909\n",
      "70 6 50 1\n",
      "0.596590909091\n",
      "70 6 100 2\n",
      "0.596590909091\n",
      "70 6"
     ]
    },
    {
     "name": "stderr",
     "output_type": "stream",
     "text": [
      "C:\\Users\\Xiang Zhang\\Anaconda3\\lib\\site-packages\\sklearn\\ensemble\\forest.py:453: UserWarning: Some inputs do not have OOB scores. This probably means too few trees were used to compute any reliable oob estimates.\n",
      "  warn(\"Some inputs do not have OOB scores. \"\n",
      "C:\\Users\\Xiang Zhang\\Anaconda3\\lib\\site-packages\\sklearn\\ensemble\\forest.py:458: RuntimeWarning: invalid value encountered in true_divide\n",
      "  predictions[k].sum(axis=1)[:, np.newaxis])\n"
     ]
    },
    {
     "name": "stdout",
     "output_type": "stream",
     "text": [
      " 150 3\n",
      "0.596590909091\n",
      "70 6 200 4\n",
      "0.596590909091\n",
      "70 6 250 5\n",
      "0.596590909091\n",
      "70 7 0 0\n",
      "0.590909090909\n",
      "70 7 50 1\n",
      "0.596590909091\n",
      "70 7 100 2\n",
      "0.596590909091\n",
      "70 7 "
     ]
    },
    {
     "name": "stderr",
     "output_type": "stream",
     "text": [
      "C:\\Users\\Xiang Zhang\\Anaconda3\\lib\\site-packages\\sklearn\\ensemble\\forest.py:453: UserWarning: Some inputs do not have OOB scores. This probably means too few trees were used to compute any reliable oob estimates.\n",
      "  warn(\"Some inputs do not have OOB scores. \"\n",
      "C:\\Users\\Xiang Zhang\\Anaconda3\\lib\\site-packages\\sklearn\\ensemble\\forest.py:458: RuntimeWarning: invalid value encountered in true_divide\n",
      "  predictions[k].sum(axis=1)[:, np.newaxis])\n"
     ]
    },
    {
     "name": "stdout",
     "output_type": "stream",
     "text": [
      "150 3\n",
      "0.596590909091\n",
      "70 7 200 4\n",
      "0.596590909091\n",
      "70 7 250 5\n",
      "0.596590909091\n",
      "70 8 0 0\n",
      "0.590909090909\n",
      "70 8 50 1\n",
      "0.596590909091\n",
      "70 8 100 2\n",
      "0.596590909091\n",
      "70 8 "
     ]
    },
    {
     "name": "stderr",
     "output_type": "stream",
     "text": [
      "C:\\Users\\Xiang Zhang\\Anaconda3\\lib\\site-packages\\sklearn\\ensemble\\forest.py:453: UserWarning: Some inputs do not have OOB scores. This probably means too few trees were used to compute any reliable oob estimates.\n",
      "  warn(\"Some inputs do not have OOB scores. \"\n",
      "C:\\Users\\Xiang Zhang\\Anaconda3\\lib\\site-packages\\sklearn\\ensemble\\forest.py:458: RuntimeWarning: invalid value encountered in true_divide\n",
      "  predictions[k].sum(axis=1)[:, np.newaxis])\n"
     ]
    },
    {
     "name": "stdout",
     "output_type": "stream",
     "text": [
      "150 3\n",
      "0.596590909091\n",
      "70 8 200 4\n",
      "0.596590909091\n",
      "70 8 250 5\n",
      "0.596590909091\n",
      "70 9 0 0\n",
      "0.590909090909\n",
      "70 9 50 1\n",
      "0.596590909091\n",
      "70 9 100 2\n",
      "0.596590909091\n",
      "70 9 "
     ]
    },
    {
     "name": "stderr",
     "output_type": "stream",
     "text": [
      "C:\\Users\\Xiang Zhang\\Anaconda3\\lib\\site-packages\\sklearn\\ensemble\\forest.py:453: UserWarning: Some inputs do not have OOB scores. This probably means too few trees were used to compute any reliable oob estimates.\n",
      "  warn(\"Some inputs do not have OOB scores. \"\n",
      "C:\\Users\\Xiang Zhang\\Anaconda3\\lib\\site-packages\\sklearn\\ensemble\\forest.py:458: RuntimeWarning: invalid value encountered in true_divide\n",
      "  predictions[k].sum(axis=1)[:, np.newaxis])\n"
     ]
    },
    {
     "name": "stdout",
     "output_type": "stream",
     "text": [
      "150 3\n",
      "0.596590909091\n",
      "70 9 200 4\n",
      "0.596590909091\n",
      "70 9 250 5\n",
      "0.596590909091\n",
      "70 10 0 0\n",
      "0.590909090909\n",
      "70 10 50 1\n",
      "0.596590909091\n",
      "70 10 100 2\n",
      "0.596590909091\n",
      "70 "
     ]
    },
    {
     "name": "stderr",
     "output_type": "stream",
     "text": [
      "C:\\Users\\Xiang Zhang\\Anaconda3\\lib\\site-packages\\sklearn\\ensemble\\forest.py:453: UserWarning: Some inputs do not have OOB scores. This probably means too few trees were used to compute any reliable oob estimates.\n",
      "  warn(\"Some inputs do not have OOB scores. \"\n",
      "C:\\Users\\Xiang Zhang\\Anaconda3\\lib\\site-packages\\sklearn\\ensemble\\forest.py:458: RuntimeWarning: invalid value encountered in true_divide\n",
      "  predictions[k].sum(axis=1)[:, np.newaxis])\n"
     ]
    },
    {
     "name": "stdout",
     "output_type": "stream",
     "text": [
      "10 150 3\n",
      "0.596590909091\n",
      "70 10 200 4\n",
      "0.596590909091\n",
      "70 10 250 5\n",
      "0.596590909091\n",
      "70 11 0 0\n",
      "0.590909090909\n",
      "70 11 50 1\n",
      "0.596590909091\n",
      "70 11 100 2\n",
      "0.596590909091\n",
      "70 11 150 "
     ]
    },
    {
     "name": "stderr",
     "output_type": "stream",
     "text": [
      "C:\\Users\\Xiang Zhang\\Anaconda3\\lib\\site-packages\\sklearn\\ensemble\\forest.py:453: UserWarning: Some inputs do not have OOB scores. This probably means too few trees were used to compute any reliable oob estimates.\n",
      "  warn(\"Some inputs do not have OOB scores. \"\n",
      "C:\\Users\\Xiang Zhang\\Anaconda3\\lib\\site-packages\\sklearn\\ensemble\\forest.py:458: RuntimeWarning: invalid value encountered in true_divide\n",
      "  predictions[k].sum(axis=1)[:, np.newaxis])\n"
     ]
    },
    {
     "name": "stdout",
     "output_type": "stream",
     "text": [
      "3\n",
      "0.596590909091\n",
      "70 11 200 4\n",
      "0.596590909091\n",
      "70 11 250 5\n",
      "0.596590909091\n",
      "70 12 0 0\n",
      "0.590909090909\n",
      "70 12 50 1\n",
      "0.596590909091\n",
      "70 12 100 2\n",
      "0.596590909091\n",
      "70"
     ]
    },
    {
     "name": "stderr",
     "output_type": "stream",
     "text": [
      "C:\\Users\\Xiang Zhang\\Anaconda3\\lib\\site-packages\\sklearn\\ensemble\\forest.py:453: UserWarning: Some inputs do not have OOB scores. This probably means too few trees were used to compute any reliable oob estimates.\n",
      "  warn(\"Some inputs do not have OOB scores. \"\n",
      "C:\\Users\\Xiang Zhang\\Anaconda3\\lib\\site-packages\\sklearn\\ensemble\\forest.py:458: RuntimeWarning: invalid value encountered in true_divide\n",
      "  predictions[k].sum(axis=1)[:, np.newaxis])\n"
     ]
    },
    {
     "name": "stdout",
     "output_type": "stream",
     "text": [
      " 12 150 3\n",
      "0.596590909091\n",
      "70 12 200 4\n",
      "0.596590909091\n",
      "70 12 250 5\n",
      "0.596590909091\n",
      "70 13 0 0\n",
      "0.590909090909\n",
      "70 13 50 1\n",
      "0.596590909091\n",
      "70 13 100 2\n",
      "0.596590909091\n",
      "70 13 150 3"
     ]
    },
    {
     "name": "stderr",
     "output_type": "stream",
     "text": [
      "C:\\Users\\Xiang Zhang\\Anaconda3\\lib\\site-packages\\sklearn\\ensemble\\forest.py:453: UserWarning: Some inputs do not have OOB scores. This probably means too few trees were used to compute any reliable oob estimates.\n",
      "  warn(\"Some inputs do not have OOB scores. \"\n",
      "C:\\Users\\Xiang Zhang\\Anaconda3\\lib\\site-packages\\sklearn\\ensemble\\forest.py:458: RuntimeWarning: invalid value encountered in true_divide\n",
      "  predictions[k].sum(axis=1)[:, np.newaxis])\n"
     ]
    },
    {
     "name": "stdout",
     "output_type": "stream",
     "text": [
      "\n",
      "0.596590909091\n",
      "70 13 200 4\n",
      "0.596590909091\n",
      "70 13 250 5\n",
      "0.596590909091\n",
      "70 14 0 0\n",
      "0.590909090909\n",
      "70 14 50 1\n",
      "0.596590909091\n",
      "70 14 100 2\n",
      "0.596590909091\n",
      "70 "
     ]
    },
    {
     "name": "stderr",
     "output_type": "stream",
     "text": [
      "C:\\Users\\Xiang Zhang\\Anaconda3\\lib\\site-packages\\sklearn\\ensemble\\forest.py:453: UserWarning: Some inputs do not have OOB scores. This probably means too few trees were used to compute any reliable oob estimates.\n",
      "  warn(\"Some inputs do not have OOB scores. \"\n",
      "C:\\Users\\Xiang Zhang\\Anaconda3\\lib\\site-packages\\sklearn\\ensemble\\forest.py:458: RuntimeWarning: invalid value encountered in true_divide\n",
      "  predictions[k].sum(axis=1)[:, np.newaxis])\n"
     ]
    },
    {
     "name": "stdout",
     "output_type": "stream",
     "text": [
      "14 150 3\n",
      "0.596590909091\n",
      "70 14 200 4\n",
      "0.596590909091\n",
      "70 14 250 5\n",
      "0.596590909091\n",
      "80 0 0 0\n",
      "0.590909090909\n",
      "80 0 50 1\n",
      "0.596590909091\n",
      "80 0 100 2\n",
      "0.596590909091\n",
      "80 0"
     ]
    },
    {
     "name": "stderr",
     "output_type": "stream",
     "text": [
      "C:\\Users\\Xiang Zhang\\Anaconda3\\lib\\site-packages\\sklearn\\ensemble\\forest.py:453: UserWarning: Some inputs do not have OOB scores. This probably means too few trees were used to compute any reliable oob estimates.\n",
      "  warn(\"Some inputs do not have OOB scores. \"\n",
      "C:\\Users\\Xiang Zhang\\Anaconda3\\lib\\site-packages\\sklearn\\ensemble\\forest.py:458: RuntimeWarning: invalid value encountered in true_divide\n",
      "  predictions[k].sum(axis=1)[:, np.newaxis])\n"
     ]
    },
    {
     "name": "stdout",
     "output_type": "stream",
     "text": [
      " 150 3\n",
      "0.596590909091\n",
      "80 0 200 4\n",
      "0.596590909091\n",
      "80 0 250 5\n",
      "0.596590909091\n",
      "80 1 0 0\n",
      "0.590909090909\n",
      "80 1 50 1\n",
      "0.596590909091\n",
      "80 1 100 2\n",
      "0.596590909091\n",
      "80 1 150 "
     ]
    },
    {
     "name": "stderr",
     "output_type": "stream",
     "text": [
      "C:\\Users\\Xiang Zhang\\Anaconda3\\lib\\site-packages\\sklearn\\ensemble\\forest.py:453: UserWarning: Some inputs do not have OOB scores. This probably means too few trees were used to compute any reliable oob estimates.\n",
      "  warn(\"Some inputs do not have OOB scores. \"\n",
      "C:\\Users\\Xiang Zhang\\Anaconda3\\lib\\site-packages\\sklearn\\ensemble\\forest.py:458: RuntimeWarning: invalid value encountered in true_divide\n",
      "  predictions[k].sum(axis=1)[:, np.newaxis])\n"
     ]
    },
    {
     "name": "stdout",
     "output_type": "stream",
     "text": [
      "3\n",
      "0.596590909091\n",
      "80 1 200 4\n",
      "0.596590909091\n",
      "80 1 250 5\n",
      "0.596590909091\n",
      "80 2 0 0\n",
      "0.590909090909\n",
      "80 2 50 1\n",
      "0.596590909091\n",
      "80 2 100 2\n",
      "0.596590909091\n",
      "80 2"
     ]
    },
    {
     "name": "stderr",
     "output_type": "stream",
     "text": [
      "C:\\Users\\Xiang Zhang\\Anaconda3\\lib\\site-packages\\sklearn\\ensemble\\forest.py:453: UserWarning: Some inputs do not have OOB scores. This probably means too few trees were used to compute any reliable oob estimates.\n",
      "  warn(\"Some inputs do not have OOB scores. \"\n",
      "C:\\Users\\Xiang Zhang\\Anaconda3\\lib\\site-packages\\sklearn\\ensemble\\forest.py:458: RuntimeWarning: invalid value encountered in true_divide\n",
      "  predictions[k].sum(axis=1)[:, np.newaxis])\n"
     ]
    },
    {
     "name": "stdout",
     "output_type": "stream",
     "text": [
      " 150 3\n",
      "0.596590909091\n",
      "80 2 200 4\n",
      "0.596590909091\n",
      "80 2 250 5\n",
      "0.596590909091\n",
      "80 3 0 0\n",
      "0.590909090909\n",
      "80 3 50 1\n",
      "0.596590909091\n",
      "80 3 100 2\n",
      "0.596590909091\n",
      "80 3"
     ]
    },
    {
     "name": "stderr",
     "output_type": "stream",
     "text": [
      "C:\\Users\\Xiang Zhang\\Anaconda3\\lib\\site-packages\\sklearn\\ensemble\\forest.py:453: UserWarning: Some inputs do not have OOB scores. This probably means too few trees were used to compute any reliable oob estimates.\n",
      "  warn(\"Some inputs do not have OOB scores. \"\n",
      "C:\\Users\\Xiang Zhang\\Anaconda3\\lib\\site-packages\\sklearn\\ensemble\\forest.py:458: RuntimeWarning: invalid value encountered in true_divide\n",
      "  predictions[k].sum(axis=1)[:, np.newaxis])\n"
     ]
    },
    {
     "name": "stdout",
     "output_type": "stream",
     "text": [
      " 150 3\n",
      "0.596590909091\n",
      "80 3 200 4\n",
      "0.596590909091\n",
      "80 3 250 5\n",
      "0.596590909091\n",
      "80 4 0 0\n",
      "0.590909090909\n",
      "80 4 50 1\n",
      "0.596590909091\n",
      "80 4 100 2\n",
      "0.596590909091\n",
      "80 4 150 3\n"
     ]
    },
    {
     "name": "stderr",
     "output_type": "stream",
     "text": [
      "C:\\Users\\Xiang Zhang\\Anaconda3\\lib\\site-packages\\sklearn\\ensemble\\forest.py:453: UserWarning: Some inputs do not have OOB scores. This probably means too few trees were used to compute any reliable oob estimates.\n",
      "  warn(\"Some inputs do not have OOB scores. \"\n",
      "C:\\Users\\Xiang Zhang\\Anaconda3\\lib\\site-packages\\sklearn\\ensemble\\forest.py:458: RuntimeWarning: invalid value encountered in true_divide\n",
      "  predictions[k].sum(axis=1)[:, np.newaxis])\n"
     ]
    },
    {
     "name": "stdout",
     "output_type": "stream",
     "text": [
      "0.596590909091\n",
      "80 4 200 4\n",
      "0.596590909091\n",
      "80 4 250 5\n",
      "0.596590909091\n",
      "80 5 0 0\n",
      "0.590909090909\n",
      "80 5 50 1\n",
      "0.596590909091\n",
      "80 5 100 2\n",
      "0.596590909091\n",
      "80 5 150 "
     ]
    },
    {
     "name": "stderr",
     "output_type": "stream",
     "text": [
      "C:\\Users\\Xiang Zhang\\Anaconda3\\lib\\site-packages\\sklearn\\ensemble\\forest.py:453: UserWarning: Some inputs do not have OOB scores. This probably means too few trees were used to compute any reliable oob estimates.\n",
      "  warn(\"Some inputs do not have OOB scores. \"\n",
      "C:\\Users\\Xiang Zhang\\Anaconda3\\lib\\site-packages\\sklearn\\ensemble\\forest.py:458: RuntimeWarning: invalid value encountered in true_divide\n",
      "  predictions[k].sum(axis=1)[:, np.newaxis])\n"
     ]
    },
    {
     "name": "stdout",
     "output_type": "stream",
     "text": [
      "3\n",
      "0.596590909091\n",
      "80 5 200 4\n",
      "0.596590909091\n",
      "80 5 250 5\n",
      "0.596590909091\n",
      "80 6 0 0\n",
      "0.590909090909\n",
      "80 6 50 1\n",
      "0.596590909091\n",
      "80 6 100 2\n",
      "0.596590909091\n",
      "80 6 150"
     ]
    },
    {
     "name": "stderr",
     "output_type": "stream",
     "text": [
      "C:\\Users\\Xiang Zhang\\Anaconda3\\lib\\site-packages\\sklearn\\ensemble\\forest.py:453: UserWarning: Some inputs do not have OOB scores. This probably means too few trees were used to compute any reliable oob estimates.\n",
      "  warn(\"Some inputs do not have OOB scores. \"\n",
      "C:\\Users\\Xiang Zhang\\Anaconda3\\lib\\site-packages\\sklearn\\ensemble\\forest.py:458: RuntimeWarning: invalid value encountered in true_divide\n",
      "  predictions[k].sum(axis=1)[:, np.newaxis])\n"
     ]
    },
    {
     "name": "stdout",
     "output_type": "stream",
     "text": [
      " 3\n",
      "0.596590909091\n",
      "80 6 200 4\n",
      "0.596590909091\n",
      "80 6 250 5\n",
      "0.596590909091\n",
      "80 7 0 0\n",
      "0.590909090909\n",
      "80 7 50 1\n",
      "0.596590909091\n",
      "80 7 100 2\n",
      "0.596590909091\n",
      "80 7"
     ]
    },
    {
     "name": "stderr",
     "output_type": "stream",
     "text": [
      "C:\\Users\\Xiang Zhang\\Anaconda3\\lib\\site-packages\\sklearn\\ensemble\\forest.py:453: UserWarning: Some inputs do not have OOB scores. This probably means too few trees were used to compute any reliable oob estimates.\n",
      "  warn(\"Some inputs do not have OOB scores. \"\n",
      "C:\\Users\\Xiang Zhang\\Anaconda3\\lib\\site-packages\\sklearn\\ensemble\\forest.py:458: RuntimeWarning: invalid value encountered in true_divide\n",
      "  predictions[k].sum(axis=1)[:, np.newaxis])\n"
     ]
    },
    {
     "name": "stdout",
     "output_type": "stream",
     "text": [
      " 150 3\n",
      "0.596590909091\n",
      "80 7 200 4\n",
      "0.596590909091\n",
      "80 7 250 5\n",
      "0.596590909091\n",
      "80 8 0 0\n",
      "0.590909090909\n",
      "80 8 50 1\n",
      "0.596590909091\n",
      "80 8 100 2\n",
      "0.596590909091\n",
      "80"
     ]
    },
    {
     "name": "stderr",
     "output_type": "stream",
     "text": [
      "C:\\Users\\Xiang Zhang\\Anaconda3\\lib\\site-packages\\sklearn\\ensemble\\forest.py:453: UserWarning: Some inputs do not have OOB scores. This probably means too few trees were used to compute any reliable oob estimates.\n",
      "  warn(\"Some inputs do not have OOB scores. \"\n",
      "C:\\Users\\Xiang Zhang\\Anaconda3\\lib\\site-packages\\sklearn\\ensemble\\forest.py:458: RuntimeWarning: invalid value encountered in true_divide\n",
      "  predictions[k].sum(axis=1)[:, np.newaxis])\n"
     ]
    },
    {
     "name": "stdout",
     "output_type": "stream",
     "text": [
      " 8 150 3\n",
      "0.596590909091\n",
      "80 8 200 4\n",
      "0.596590909091\n",
      "80 8 250 5\n",
      "0.596590909091\n",
      "80 9 0 0\n",
      "0.590909090909\n",
      "80 9 50 1\n",
      "0.596590909091\n",
      "80 9 100 2\n",
      "0.596590909091\n",
      "80 9 150"
     ]
    },
    {
     "name": "stderr",
     "output_type": "stream",
     "text": [
      "C:\\Users\\Xiang Zhang\\Anaconda3\\lib\\site-packages\\sklearn\\ensemble\\forest.py:453: UserWarning: Some inputs do not have OOB scores. This probably means too few trees were used to compute any reliable oob estimates.\n",
      "  warn(\"Some inputs do not have OOB scores. \"\n",
      "C:\\Users\\Xiang Zhang\\Anaconda3\\lib\\site-packages\\sklearn\\ensemble\\forest.py:458: RuntimeWarning: invalid value encountered in true_divide\n",
      "  predictions[k].sum(axis=1)[:, np.newaxis])\n"
     ]
    },
    {
     "name": "stdout",
     "output_type": "stream",
     "text": [
      " 3\n",
      "0.596590909091\n",
      "80 9 200 4\n",
      "0.596590909091\n",
      "80 9 250 5\n",
      "0.596590909091\n",
      "80 10 0 0\n",
      "0.590909090909\n",
      "80 10 50 1\n",
      "0.596590909091\n",
      "80 10 100 2\n",
      "0.596590909091\n",
      "80 10 "
     ]
    },
    {
     "name": "stderr",
     "output_type": "stream",
     "text": [
      "C:\\Users\\Xiang Zhang\\Anaconda3\\lib\\site-packages\\sklearn\\ensemble\\forest.py:453: UserWarning: Some inputs do not have OOB scores. This probably means too few trees were used to compute any reliable oob estimates.\n",
      "  warn(\"Some inputs do not have OOB scores. \"\n",
      "C:\\Users\\Xiang Zhang\\Anaconda3\\lib\\site-packages\\sklearn\\ensemble\\forest.py:458: RuntimeWarning: invalid value encountered in true_divide\n",
      "  predictions[k].sum(axis=1)[:, np.newaxis])\n"
     ]
    },
    {
     "name": "stdout",
     "output_type": "stream",
     "text": [
      "150 3\n",
      "0.596590909091\n",
      "80 10 200 4\n",
      "0.596590909091\n",
      "80 10 250 5\n",
      "0.596590909091\n",
      "80 11 0 0\n",
      "0.590909090909\n",
      "80 11 50 1\n",
      "0.596590909091\n",
      "80 11 100 2\n",
      "0.596590909091\n",
      "80 "
     ]
    },
    {
     "name": "stderr",
     "output_type": "stream",
     "text": [
      "C:\\Users\\Xiang Zhang\\Anaconda3\\lib\\site-packages\\sklearn\\ensemble\\forest.py:453: UserWarning: Some inputs do not have OOB scores. This probably means too few trees were used to compute any reliable oob estimates.\n",
      "  warn(\"Some inputs do not have OOB scores. \"\n",
      "C:\\Users\\Xiang Zhang\\Anaconda3\\lib\\site-packages\\sklearn\\ensemble\\forest.py:458: RuntimeWarning: invalid value encountered in true_divide\n",
      "  predictions[k].sum(axis=1)[:, np.newaxis])\n"
     ]
    },
    {
     "name": "stdout",
     "output_type": "stream",
     "text": [
      "11 150 3\n",
      "0.596590909091\n",
      "80 11 200 4\n",
      "0.596590909091\n",
      "80 11 250 5\n",
      "0.596590909091\n",
      "80 12 0 0\n",
      "0.590909090909\n",
      "80 12 50 1\n",
      "0.596590909091\n",
      "80 12 100 2\n",
      "0.596590909091\n",
      "80 12 "
     ]
    },
    {
     "name": "stderr",
     "output_type": "stream",
     "text": [
      "C:\\Users\\Xiang Zhang\\Anaconda3\\lib\\site-packages\\sklearn\\ensemble\\forest.py:453: UserWarning: Some inputs do not have OOB scores. This probably means too few trees were used to compute any reliable oob estimates.\n",
      "  warn(\"Some inputs do not have OOB scores. \"\n",
      "C:\\Users\\Xiang Zhang\\Anaconda3\\lib\\site-packages\\sklearn\\ensemble\\forest.py:458: RuntimeWarning: invalid value encountered in true_divide\n",
      "  predictions[k].sum(axis=1)[:, np.newaxis])\n"
     ]
    },
    {
     "name": "stdout",
     "output_type": "stream",
     "text": [
      "150 3\n",
      "0.596590909091\n",
      "80 12 200 4\n",
      "0.596590909091\n",
      "80 12 250 5\n",
      "0.596590909091\n",
      "80 13 0 0\n",
      "0.590909090909\n",
      "80 13 50 1\n",
      "0.596590909091\n",
      "80 13 100 2\n",
      "0.596590909091\n",
      "80 "
     ]
    },
    {
     "name": "stderr",
     "output_type": "stream",
     "text": [
      "C:\\Users\\Xiang Zhang\\Anaconda3\\lib\\site-packages\\sklearn\\ensemble\\forest.py:453: UserWarning: Some inputs do not have OOB scores. This probably means too few trees were used to compute any reliable oob estimates.\n",
      "  warn(\"Some inputs do not have OOB scores. \"\n",
      "C:\\Users\\Xiang Zhang\\Anaconda3\\lib\\site-packages\\sklearn\\ensemble\\forest.py:458: RuntimeWarning: invalid value encountered in true_divide\n",
      "  predictions[k].sum(axis=1)[:, np.newaxis])\n"
     ]
    },
    {
     "name": "stdout",
     "output_type": "stream",
     "text": [
      "13 150 3\n",
      "0.596590909091\n",
      "80 13 200 4\n",
      "0.596590909091\n",
      "80 13 250 5\n",
      "0.596590909091\n",
      "80 14 0 0\n",
      "0.590909090909\n",
      "80 14 50 1\n",
      "0.596590909091\n",
      "80 14 100 2\n",
      "0.596590909091\n",
      "80 "
     ]
    },
    {
     "name": "stderr",
     "output_type": "stream",
     "text": [
      "C:\\Users\\Xiang Zhang\\Anaconda3\\lib\\site-packages\\sklearn\\ensemble\\forest.py:453: UserWarning: Some inputs do not have OOB scores. This probably means too few trees were used to compute any reliable oob estimates.\n",
      "  warn(\"Some inputs do not have OOB scores. \"\n",
      "C:\\Users\\Xiang Zhang\\Anaconda3\\lib\\site-packages\\sklearn\\ensemble\\forest.py:458: RuntimeWarning: invalid value encountered in true_divide\n",
      "  predictions[k].sum(axis=1)[:, np.newaxis])\n"
     ]
    },
    {
     "name": "stdout",
     "output_type": "stream",
     "text": [
      "14 150 3\n",
      "0.596590909091\n",
      "80 14 200 4\n",
      "0.596590909091\n",
      "80 14 250 5\n",
      "0.596590909091\n",
      "90 0 0 0\n",
      "0.590909090909\n",
      "90 0 50 1\n",
      "0.596590909091\n",
      "90 0 100 2\n",
      "0.596590909091\n",
      "90 0 150 "
     ]
    },
    {
     "name": "stderr",
     "output_type": "stream",
     "text": [
      "C:\\Users\\Xiang Zhang\\Anaconda3\\lib\\site-packages\\sklearn\\ensemble\\forest.py:453: UserWarning: Some inputs do not have OOB scores. This probably means too few trees were used to compute any reliable oob estimates.\n",
      "  warn(\"Some inputs do not have OOB scores. \"\n",
      "C:\\Users\\Xiang Zhang\\Anaconda3\\lib\\site-packages\\sklearn\\ensemble\\forest.py:458: RuntimeWarning: invalid value encountered in true_divide\n",
      "  predictions[k].sum(axis=1)[:, np.newaxis])\n"
     ]
    },
    {
     "name": "stdout",
     "output_type": "stream",
     "text": [
      "3\n",
      "0.596590909091\n",
      "90 0 200 4\n",
      "0.596590909091\n",
      "90 0 250 5\n",
      "0.596590909091\n",
      "90 1 0 0\n",
      "0.590909090909\n",
      "90 1 50 1\n",
      "0.596590909091\n",
      "90 1 100 2\n",
      "0.596590909091\n",
      "90 1"
     ]
    },
    {
     "name": "stderr",
     "output_type": "stream",
     "text": [
      "C:\\Users\\Xiang Zhang\\Anaconda3\\lib\\site-packages\\sklearn\\ensemble\\forest.py:453: UserWarning: Some inputs do not have OOB scores. This probably means too few trees were used to compute any reliable oob estimates.\n",
      "  warn(\"Some inputs do not have OOB scores. \"\n",
      "C:\\Users\\Xiang Zhang\\Anaconda3\\lib\\site-packages\\sklearn\\ensemble\\forest.py:458: RuntimeWarning: invalid value encountered in true_divide\n",
      "  predictions[k].sum(axis=1)[:, np.newaxis])\n"
     ]
    },
    {
     "name": "stdout",
     "output_type": "stream",
     "text": [
      " 150 3\n",
      "0.596590909091\n",
      "90 1 200 4\n",
      "0.596590909091\n",
      "90 1 250 5\n",
      "0.596590909091\n",
      "90 2 0 0\n",
      "0.590909090909\n",
      "90 2 50 1\n",
      "0.596590909091\n",
      "90 2 100 2\n",
      "0.596590909091\n",
      "90 2"
     ]
    },
    {
     "name": "stderr",
     "output_type": "stream",
     "text": [
      "C:\\Users\\Xiang Zhang\\Anaconda3\\lib\\site-packages\\sklearn\\ensemble\\forest.py:453: UserWarning: Some inputs do not have OOB scores. This probably means too few trees were used to compute any reliable oob estimates.\n",
      "  warn(\"Some inputs do not have OOB scores. \"\n",
      "C:\\Users\\Xiang Zhang\\Anaconda3\\lib\\site-packages\\sklearn\\ensemble\\forest.py:458: RuntimeWarning: invalid value encountered in true_divide\n",
      "  predictions[k].sum(axis=1)[:, np.newaxis])\n"
     ]
    },
    {
     "name": "stdout",
     "output_type": "stream",
     "text": [
      " 150 3\n",
      "0.596590909091\n",
      "90 2 200 4\n",
      "0.596590909091\n",
      "90 2 250 5\n",
      "0.596590909091\n",
      "90 3 0 0\n",
      "0.590909090909\n",
      "90 3 50 1\n",
      "0.596590909091\n",
      "90 3 100 2\n",
      "0.596590909091\n",
      "90 3 150 "
     ]
    },
    {
     "name": "stderr",
     "output_type": "stream",
     "text": [
      "C:\\Users\\Xiang Zhang\\Anaconda3\\lib\\site-packages\\sklearn\\ensemble\\forest.py:453: UserWarning: Some inputs do not have OOB scores. This probably means too few trees were used to compute any reliable oob estimates.\n",
      "  warn(\"Some inputs do not have OOB scores. \"\n",
      "C:\\Users\\Xiang Zhang\\Anaconda3\\lib\\site-packages\\sklearn\\ensemble\\forest.py:458: RuntimeWarning: invalid value encountered in true_divide\n",
      "  predictions[k].sum(axis=1)[:, np.newaxis])\n"
     ]
    },
    {
     "name": "stdout",
     "output_type": "stream",
     "text": [
      "3\n",
      "0.596590909091\n",
      "90 3 200 4\n",
      "0.596590909091\n",
      "90 3 250 5\n",
      "0.596590909091\n",
      "90 4 0 0\n",
      "0.590909090909\n",
      "90 4 50 1\n",
      "0.596590909091\n",
      "90 4 100 2\n",
      "0.596590909091\n",
      "90 4"
     ]
    },
    {
     "name": "stderr",
     "output_type": "stream",
     "text": [
      "C:\\Users\\Xiang Zhang\\Anaconda3\\lib\\site-packages\\sklearn\\ensemble\\forest.py:453: UserWarning: Some inputs do not have OOB scores. This probably means too few trees were used to compute any reliable oob estimates.\n",
      "  warn(\"Some inputs do not have OOB scores. \"\n",
      "C:\\Users\\Xiang Zhang\\Anaconda3\\lib\\site-packages\\sklearn\\ensemble\\forest.py:458: RuntimeWarning: invalid value encountered in true_divide\n",
      "  predictions[k].sum(axis=1)[:, np.newaxis])\n"
     ]
    },
    {
     "name": "stdout",
     "output_type": "stream",
     "text": [
      " 150 3\n",
      "0.596590909091\n",
      "90 4 200 4\n",
      "0.596590909091\n",
      "90 4 250 5\n",
      "0.596590909091\n",
      "90 5 0 0\n",
      "0.590909090909\n",
      "90 5 50 1\n",
      "0.596590909091\n",
      "90 5 100 2\n",
      "0.596590909091\n",
      "90 "
     ]
    },
    {
     "name": "stderr",
     "output_type": "stream",
     "text": [
      "C:\\Users\\Xiang Zhang\\Anaconda3\\lib\\site-packages\\sklearn\\ensemble\\forest.py:453: UserWarning: Some inputs do not have OOB scores. This probably means too few trees were used to compute any reliable oob estimates.\n",
      "  warn(\"Some inputs do not have OOB scores. \"\n",
      "C:\\Users\\Xiang Zhang\\Anaconda3\\lib\\site-packages\\sklearn\\ensemble\\forest.py:458: RuntimeWarning: invalid value encountered in true_divide\n",
      "  predictions[k].sum(axis=1)[:, np.newaxis])\n"
     ]
    },
    {
     "name": "stdout",
     "output_type": "stream",
     "text": [
      "5 150 3\n",
      "0.596590909091\n",
      "90 5 200 4\n",
      "0.596590909091\n",
      "90 5 250 5\n",
      "0.596590909091\n",
      "90 6 0 0\n",
      "0.590909090909\n",
      "90 6 50 1\n",
      "0.596590909091\n",
      "90 6 100 2\n",
      "0.596590909091\n",
      "90 6 150 "
     ]
    },
    {
     "name": "stderr",
     "output_type": "stream",
     "text": [
      "C:\\Users\\Xiang Zhang\\Anaconda3\\lib\\site-packages\\sklearn\\ensemble\\forest.py:453: UserWarning: Some inputs do not have OOB scores. This probably means too few trees were used to compute any reliable oob estimates.\n",
      "  warn(\"Some inputs do not have OOB scores. \"\n",
      "C:\\Users\\Xiang Zhang\\Anaconda3\\lib\\site-packages\\sklearn\\ensemble\\forest.py:458: RuntimeWarning: invalid value encountered in true_divide\n",
      "  predictions[k].sum(axis=1)[:, np.newaxis])\n"
     ]
    },
    {
     "name": "stdout",
     "output_type": "stream",
     "text": [
      "3\n",
      "0.596590909091\n",
      "90 6 200 4\n",
      "0.596590909091\n",
      "90 6 250 5\n",
      "0.596590909091\n",
      "90 7 0 0\n",
      "0.590909090909\n",
      "90 7 50 1\n",
      "0.596590909091\n",
      "90 7 100 2\n",
      "0.596590909091\n",
      "90 "
     ]
    },
    {
     "name": "stderr",
     "output_type": "stream",
     "text": [
      "C:\\Users\\Xiang Zhang\\Anaconda3\\lib\\site-packages\\sklearn\\ensemble\\forest.py:453: UserWarning: Some inputs do not have OOB scores. This probably means too few trees were used to compute any reliable oob estimates.\n",
      "  warn(\"Some inputs do not have OOB scores. \"\n",
      "C:\\Users\\Xiang Zhang\\Anaconda3\\lib\\site-packages\\sklearn\\ensemble\\forest.py:458: RuntimeWarning: invalid value encountered in true_divide\n",
      "  predictions[k].sum(axis=1)[:, np.newaxis])\n"
     ]
    },
    {
     "name": "stdout",
     "output_type": "stream",
     "text": [
      "7 150 3\n",
      "0.596590909091\n",
      "90 7 200 4\n",
      "0.596590909091\n",
      "90 7 250 5\n",
      "0.596590909091\n",
      "90 8 0 0\n",
      "0.590909090909\n",
      "90 8 50 1\n",
      "0.596590909091\n",
      "90 8 100 2\n",
      "0.596590909091\n",
      "90 8"
     ]
    },
    {
     "name": "stderr",
     "output_type": "stream",
     "text": [
      "C:\\Users\\Xiang Zhang\\Anaconda3\\lib\\site-packages\\sklearn\\ensemble\\forest.py:453: UserWarning: Some inputs do not have OOB scores. This probably means too few trees were used to compute any reliable oob estimates.\n",
      "  warn(\"Some inputs do not have OOB scores. \"\n",
      "C:\\Users\\Xiang Zhang\\Anaconda3\\lib\\site-packages\\sklearn\\ensemble\\forest.py:458: RuntimeWarning: invalid value encountered in true_divide\n",
      "  predictions[k].sum(axis=1)[:, np.newaxis])\n"
     ]
    },
    {
     "name": "stdout",
     "output_type": "stream",
     "text": [
      " 150 3\n",
      "0.596590909091\n",
      "90 8 200 4\n",
      "0.596590909091\n",
      "90 8 250 5\n",
      "0.596590909091\n",
      "90 9 0 0\n",
      "0.590909090909\n",
      "90 9 50 1\n",
      "0.596590909091\n",
      "90 9 100 2\n",
      "0.596590909091\n",
      "90 9 150 3\n"
     ]
    },
    {
     "name": "stderr",
     "output_type": "stream",
     "text": [
      "C:\\Users\\Xiang Zhang\\Anaconda3\\lib\\site-packages\\sklearn\\ensemble\\forest.py:453: UserWarning: Some inputs do not have OOB scores. This probably means too few trees were used to compute any reliable oob estimates.\n",
      "  warn(\"Some inputs do not have OOB scores. \"\n",
      "C:\\Users\\Xiang Zhang\\Anaconda3\\lib\\site-packages\\sklearn\\ensemble\\forest.py:458: RuntimeWarning: invalid value encountered in true_divide\n",
      "  predictions[k].sum(axis=1)[:, np.newaxis])\n"
     ]
    },
    {
     "name": "stdout",
     "output_type": "stream",
     "text": [
      "0.596590909091\n",
      "90 9 200 4\n",
      "0.596590909091\n",
      "90 9 250 5\n",
      "0.596590909091\n",
      "90 10 0 0\n",
      "0.590909090909\n",
      "90 10 50 1\n",
      "0.596590909091\n",
      "90 10 100 2\n",
      "0.596590909091\n",
      "90 10 150"
     ]
    },
    {
     "name": "stderr",
     "output_type": "stream",
     "text": [
      "C:\\Users\\Xiang Zhang\\Anaconda3\\lib\\site-packages\\sklearn\\ensemble\\forest.py:453: UserWarning: Some inputs do not have OOB scores. This probably means too few trees were used to compute any reliable oob estimates.\n",
      "  warn(\"Some inputs do not have OOB scores. \"\n",
      "C:\\Users\\Xiang Zhang\\Anaconda3\\lib\\site-packages\\sklearn\\ensemble\\forest.py:458: RuntimeWarning: invalid value encountered in true_divide\n",
      "  predictions[k].sum(axis=1)[:, np.newaxis])\n"
     ]
    },
    {
     "name": "stdout",
     "output_type": "stream",
     "text": [
      " 3\n",
      "0.596590909091\n",
      "90 10 200 4\n",
      "0.596590909091\n",
      "90 10 250 5\n",
      "0.596590909091\n",
      "90 11 0 0\n",
      "0.590909090909\n",
      "90 11 50 1\n",
      "0.596590909091\n",
      "90 11 100 2\n",
      "0.596590909091\n",
      "90 11"
     ]
    },
    {
     "name": "stderr",
     "output_type": "stream",
     "text": [
      "C:\\Users\\Xiang Zhang\\Anaconda3\\lib\\site-packages\\sklearn\\ensemble\\forest.py:453: UserWarning: Some inputs do not have OOB scores. This probably means too few trees were used to compute any reliable oob estimates.\n",
      "  warn(\"Some inputs do not have OOB scores. \"\n",
      "C:\\Users\\Xiang Zhang\\Anaconda3\\lib\\site-packages\\sklearn\\ensemble\\forest.py:458: RuntimeWarning: invalid value encountered in true_divide\n",
      "  predictions[k].sum(axis=1)[:, np.newaxis])\n"
     ]
    },
    {
     "name": "stdout",
     "output_type": "stream",
     "text": [
      " 150 3\n",
      "0.596590909091\n",
      "90 11 200 4\n",
      "0.596590909091\n",
      "90 11 250 5\n",
      "0.596590909091\n",
      "90 12 0 0\n",
      "0.590909090909\n",
      "90 12 50 1\n",
      "0.596590909091\n",
      "90 12 100 2\n",
      "0.596590909091\n"
     ]
    },
    {
     "name": "stderr",
     "output_type": "stream",
     "text": [
      "C:\\Users\\Xiang Zhang\\Anaconda3\\lib\\site-packages\\sklearn\\ensemble\\forest.py:453: UserWarning: Some inputs do not have OOB scores. This probably means too few trees were used to compute any reliable oob estimates.\n",
      "  warn(\"Some inputs do not have OOB scores. \"\n",
      "C:\\Users\\Xiang Zhang\\Anaconda3\\lib\\site-packages\\sklearn\\ensemble\\forest.py:458: RuntimeWarning: invalid value encountered in true_divide\n",
      "  predictions[k].sum(axis=1)[:, np.newaxis])\n"
     ]
    },
    {
     "name": "stdout",
     "output_type": "stream",
     "text": [
      "90 12 150 3\n",
      "0.596590909091\n",
      "90 12 200 4\n",
      "0.596590909091\n",
      "90 12 250 5\n",
      "0.596590909091\n",
      "90 13 0 0\n",
      "0.590909090909\n",
      "90 13 50 1\n",
      "0.596590909091\n",
      "90 13 100 2\n",
      "0.596590909091\n",
      "90"
     ]
    },
    {
     "name": "stderr",
     "output_type": "stream",
     "text": [
      "C:\\Users\\Xiang Zhang\\Anaconda3\\lib\\site-packages\\sklearn\\ensemble\\forest.py:453: UserWarning: Some inputs do not have OOB scores. This probably means too few trees were used to compute any reliable oob estimates.\n",
      "  warn(\"Some inputs do not have OOB scores. \"\n",
      "C:\\Users\\Xiang Zhang\\Anaconda3\\lib\\site-packages\\sklearn\\ensemble\\forest.py:458: RuntimeWarning: invalid value encountered in true_divide\n",
      "  predictions[k].sum(axis=1)[:, np.newaxis])\n"
     ]
    },
    {
     "name": "stdout",
     "output_type": "stream",
     "text": [
      " 13 150 3\n",
      "0.596590909091\n",
      "90 13 200 4\n",
      "0.596590909091\n",
      "90 13 250 5\n",
      "0.596590909091\n",
      "90 14 0 0\n",
      "0.590909090909\n",
      "90 14 50 1\n",
      "0.596590909091\n",
      "90 14 100 2\n",
      "0.596590909091\n",
      "90 14 "
     ]
    },
    {
     "name": "stderr",
     "output_type": "stream",
     "text": [
      "C:\\Users\\Xiang Zhang\\Anaconda3\\lib\\site-packages\\sklearn\\ensemble\\forest.py:453: UserWarning: Some inputs do not have OOB scores. This probably means too few trees were used to compute any reliable oob estimates.\n",
      "  warn(\"Some inputs do not have OOB scores. \"\n",
      "C:\\Users\\Xiang Zhang\\Anaconda3\\lib\\site-packages\\sklearn\\ensemble\\forest.py:458: RuntimeWarning: invalid value encountered in true_divide\n",
      "  predictions[k].sum(axis=1)[:, np.newaxis])\n"
     ]
    },
    {
     "name": "stdout",
     "output_type": "stream",
     "text": [
      "150 3\n",
      "0.596590909091\n",
      "90 14 200 4\n",
      "0.596590909091\n",
      "90 14 250 5\n",
      "0.596590909091\n"
     ]
    }
   ],
   "source": [
    "Num_n_estimator = 300\n",
    "Num_max_depth = 15\n",
    "Num_min_samples_leaf = 100\n",
    "\n",
    "\n",
    "RF_MSE_single = pd.DataFrame({'n_estimator' : np.zeros(6),\n",
    "                              'max_depth' : np.zeros(6),\n",
    "                              'min_samples_leaf' : np.zeros(6),\n",
    "                              'MSE' : np.zeros(6)})\n",
    "RF_model_MSE = RF_MSE_single[:0]\n",
    "\n",
    "for msl in range(0, Num_min_samples_leaf, 10):\n",
    "    for md in range(0, Num_max_depth):\n",
    "        for n_estimator in range(0, Num_n_estimator, 50):\n",
    "            position = int(n_estimator / 50)\n",
    "            print(msl, md, n_estimator, position)\n",
    "            RF_MSE_single['n_estimator'][position] = n_estimator + 10\n",
    "            RF_MSE_single['max_depth'][position] = md + 1\n",
    "            RF_MSE_single['min_samples_leaf'][position] = msl * 5 + 5\n",
    "            RF_MSE_single['MSE'][position] = RF_model(Xvals, yvals, n_estimator + 1, md + 1, msl * 5 + 5)\n",
    "            print(RF_MSE_single['MSE'][position])\n",
    "            \n",
    "        RF_model_MSE = pd.concat([RF_model_MSE, RF_MSE_single])"
   ]
  },
  {
   "cell_type": "code",
   "execution_count": 31,
   "metadata": {},
   "outputs": [
    {
     "data": {
      "text/html": [
       "<div>\n",
       "<style>\n",
       "    .dataframe thead tr:only-child th {\n",
       "        text-align: right;\n",
       "    }\n",
       "\n",
       "    .dataframe thead th {\n",
       "        text-align: left;\n",
       "    }\n",
       "\n",
       "    .dataframe tbody tr th {\n",
       "        vertical-align: top;\n",
       "    }\n",
       "</style>\n",
       "<table border=\"1\" class=\"dataframe\">\n",
       "  <thead>\n",
       "    <tr style=\"text-align: right;\">\n",
       "      <th></th>\n",
       "      <th>MSE</th>\n",
       "      <th>max_depth</th>\n",
       "      <th>min_samples_leaf</th>\n",
       "      <th>n_estimator</th>\n",
       "    </tr>\n",
       "  </thead>\n",
       "  <tbody>\n",
       "    <tr>\n",
       "      <th>5</th>\n",
       "      <td>0.062500</td>\n",
       "      <td>3.0</td>\n",
       "      <td>5.0</td>\n",
       "      <td>260.0</td>\n",
       "    </tr>\n",
       "    <tr>\n",
       "      <th>3</th>\n",
       "      <td>0.062500</td>\n",
       "      <td>3.0</td>\n",
       "      <td>5.0</td>\n",
       "      <td>160.0</td>\n",
       "    </tr>\n",
       "    <tr>\n",
       "      <th>2</th>\n",
       "      <td>0.068182</td>\n",
       "      <td>3.0</td>\n",
       "      <td>5.0</td>\n",
       "      <td>110.0</td>\n",
       "    </tr>\n",
       "    <tr>\n",
       "      <th>4</th>\n",
       "      <td>0.068182</td>\n",
       "      <td>3.0</td>\n",
       "      <td>5.0</td>\n",
       "      <td>210.0</td>\n",
       "    </tr>\n",
       "    <tr>\n",
       "      <th>5</th>\n",
       "      <td>0.073864</td>\n",
       "      <td>13.0</td>\n",
       "      <td>5.0</td>\n",
       "      <td>260.0</td>\n",
       "    </tr>\n",
       "    <tr>\n",
       "      <th>5</th>\n",
       "      <td>0.073864</td>\n",
       "      <td>11.0</td>\n",
       "      <td>5.0</td>\n",
       "      <td>260.0</td>\n",
       "    </tr>\n",
       "    <tr>\n",
       "      <th>3</th>\n",
       "      <td>0.073864</td>\n",
       "      <td>13.0</td>\n",
       "      <td>5.0</td>\n",
       "      <td>160.0</td>\n",
       "    </tr>\n",
       "    <tr>\n",
       "      <th>5</th>\n",
       "      <td>0.073864</td>\n",
       "      <td>12.0</td>\n",
       "      <td>5.0</td>\n",
       "      <td>260.0</td>\n",
       "    </tr>\n",
       "    <tr>\n",
       "      <th>5</th>\n",
       "      <td>0.073864</td>\n",
       "      <td>14.0</td>\n",
       "      <td>5.0</td>\n",
       "      <td>260.0</td>\n",
       "    </tr>\n",
       "    <tr>\n",
       "      <th>3</th>\n",
       "      <td>0.073864</td>\n",
       "      <td>12.0</td>\n",
       "      <td>5.0</td>\n",
       "      <td>160.0</td>\n",
       "    </tr>\n",
       "  </tbody>\n",
       "</table>\n",
       "</div>"
      ],
      "text/plain": [
       "        MSE  max_depth  min_samples_leaf  n_estimator\n",
       "5  0.062500        3.0               5.0        260.0\n",
       "3  0.062500        3.0               5.0        160.0\n",
       "2  0.068182        3.0               5.0        110.0\n",
       "4  0.068182        3.0               5.0        210.0\n",
       "5  0.073864       13.0               5.0        260.0\n",
       "5  0.073864       11.0               5.0        260.0\n",
       "3  0.073864       13.0               5.0        160.0\n",
       "5  0.073864       12.0               5.0        260.0\n",
       "5  0.073864       14.0               5.0        260.0\n",
       "3  0.073864       12.0               5.0        160.0"
      ]
     },
     "execution_count": 31,
     "metadata": {},
     "output_type": "execute_result"
    }
   ],
   "source": [
    "RF_model_MSE = RF_model_MSE.sort_values(['MSE'])\n",
    "\n",
    "RF_model_MSE.head(10)"
   ]
  },
  {
   "cell_type": "markdown",
   "metadata": {},
   "source": [
    "#### From the table above, we can see that the random forest with ma depth = 3, and n_estimator = 160 or 260, min_samples_leaf = 5 yield the smallest MSE. However, there's one thing to keeo in mind, that is, in the loop, I set the step of n_estimator as 50, and the step for min_samples_leaf as 10, thus, I may have skipped some even better combinition that yield smaller MSE. However, if I fit the model with gap 1 (or less), it will be very computational inefficient."
   ]
  },
  {
   "cell_type": "markdown",
   "metadata": {},
   "source": [
    "#### (d) Support Vector Machine"
   ]
  },
  {
   "cell_type": "code",
   "execution_count": 92,
   "metadata": {
    "collapsed": true
   },
   "outputs": [],
   "source": [
    "k = 4\n",
    "clf_svm = KFold(n_splits=4, shuffle = True, random_state=22)\n",
    "clf_svm.get_n_splits(Xvals)\n",
    "MSE = np.zeros(k)\n",
    "\n",
    "MSE_C = pd.DataFrame({\"C\" : np.zeros(100),\n",
    "                      \"Gamma\" : np.zeros(100),\n",
    "                      \"MSE\" : np.zeros(100)})\n",
    "MSE_SVM = MSE_C[:0]\n",
    "\n",
    "for gm in range(100):\n",
    "    for c in range(100):\n",
    "        k_ind = int(0)\n",
    "        g_temp = gm / 20 + 0.05\n",
    "        c_temp = c / 20 + 0.05\n",
    "        \n",
    "        for train_index, test_index in clf_svm.split(Xvals):\n",
    "            X_train, X_test = Xvals[train_index], Xvals[test_index]\n",
    "            y_train, y_test = yvals[train_index], yvals[test_index]\n",
    "            \n",
    "            svc = svm.SVC(kernel='rbf', gamma = g_temp, C = c_temp)\n",
    "            svc.fit(X_train, y_train)\n",
    "            y_pred = svc.predict(X_test)\n",
    "            error = y_test != y_pred\n",
    "            MSE[k_ind] = error.mean()\n",
    "            k_ind += 1\n",
    "            \n",
    "        MSE_C['C'][c] = c_temp\n",
    "        MSE_C['Gamma'][c] = g_temp\n",
    "        MSE_C['MSE'][c] =  MSE.mean()\n",
    "        \n",
    "    MSE_SVM = pd.concat([MSE_SVM, MSE_C])"
   ]
  },
  {
   "cell_type": "code",
   "execution_count": 99,
   "metadata": {},
   "outputs": [
    {
     "data": {
      "text/html": [
       "<div>\n",
       "<style>\n",
       "    .dataframe thead tr:only-child th {\n",
       "        text-align: right;\n",
       "    }\n",
       "\n",
       "    .dataframe thead th {\n",
       "        text-align: left;\n",
       "    }\n",
       "\n",
       "    .dataframe tbody tr th {\n",
       "        vertical-align: top;\n",
       "    }\n",
       "</style>\n",
       "<table border=\"1\" class=\"dataframe\">\n",
       "  <thead>\n",
       "    <tr style=\"text-align: right;\">\n",
       "      <th></th>\n",
       "      <th>C</th>\n",
       "      <th>Gamma</th>\n",
       "      <th>MSE</th>\n",
       "    </tr>\n",
       "  </thead>\n",
       "  <tbody>\n",
       "    <tr>\n",
       "      <th>19</th>\n",
       "      <td>1.00</td>\n",
       "      <td>1.70</td>\n",
       "      <td>0.045455</td>\n",
       "    </tr>\n",
       "    <tr>\n",
       "      <th>18</th>\n",
       "      <td>0.95</td>\n",
       "      <td>1.65</td>\n",
       "      <td>0.045455</td>\n",
       "    </tr>\n",
       "    <tr>\n",
       "      <th>18</th>\n",
       "      <td>0.95</td>\n",
       "      <td>1.70</td>\n",
       "      <td>0.045455</td>\n",
       "    </tr>\n",
       "    <tr>\n",
       "      <th>91</th>\n",
       "      <td>4.60</td>\n",
       "      <td>0.10</td>\n",
       "      <td>0.051136</td>\n",
       "    </tr>\n",
       "    <tr>\n",
       "      <th>19</th>\n",
       "      <td>1.00</td>\n",
       "      <td>2.30</td>\n",
       "      <td>0.051136</td>\n",
       "    </tr>\n",
       "    <tr>\n",
       "      <th>20</th>\n",
       "      <td>1.05</td>\n",
       "      <td>2.30</td>\n",
       "      <td>0.051136</td>\n",
       "    </tr>\n",
       "    <tr>\n",
       "      <th>89</th>\n",
       "      <td>4.50</td>\n",
       "      <td>0.10</td>\n",
       "      <td>0.051136</td>\n",
       "    </tr>\n",
       "    <tr>\n",
       "      <th>23</th>\n",
       "      <td>1.20</td>\n",
       "      <td>1.65</td>\n",
       "      <td>0.051136</td>\n",
       "    </tr>\n",
       "    <tr>\n",
       "      <th>22</th>\n",
       "      <td>1.15</td>\n",
       "      <td>1.75</td>\n",
       "      <td>0.051136</td>\n",
       "    </tr>\n",
       "    <tr>\n",
       "      <th>23</th>\n",
       "      <td>1.20</td>\n",
       "      <td>1.75</td>\n",
       "      <td>0.051136</td>\n",
       "    </tr>\n",
       "  </tbody>\n",
       "</table>\n",
       "</div>"
      ],
      "text/plain": [
       "       C  Gamma       MSE\n",
       "19  1.00   1.70  0.045455\n",
       "18  0.95   1.65  0.045455\n",
       "18  0.95   1.70  0.045455\n",
       "91  4.60   0.10  0.051136\n",
       "19  1.00   2.30  0.051136\n",
       "20  1.05   2.30  0.051136\n",
       "89  4.50   0.10  0.051136\n",
       "23  1.20   1.65  0.051136\n",
       "22  1.15   1.75  0.051136\n",
       "23  1.20   1.75  0.051136"
      ]
     },
     "execution_count": 99,
     "metadata": {},
     "output_type": "execute_result"
    }
   ],
   "source": [
    "MSE_SVM = MSE_SVM.sort_values(['MSE'])\n",
    "\n",
    "MSE_SVM.head(10)"
   ]
  },
  {
   "cell_type": "markdown",
   "metadata": {},
   "source": [
    "#### When cost = 1, gamma = 1.7, or when cost = 0.95, gamma = 1.65, or cost = 0.95, gamma = 1.7, the SVM model have the lowest MSE of 0.045455."
   ]
  },
  {
   "cell_type": "markdown",
   "metadata": {},
   "source": [
    "#### (e) Neural Network"
   ]
  },
  {
   "cell_type": "code",
   "execution_count": 39,
   "metadata": {},
   "outputs": [
    {
     "name": "stderr",
     "output_type": "stream",
     "text": [
      "C:\\Users\\Xiang Zhang\\Anaconda3\\lib\\site-packages\\ipykernel_launcher.py:35: SettingWithCopyWarning: \n",
      "A value is trying to be set on a copy of a slice from a DataFrame\n",
      "\n",
      "See the caveats in the documentation: http://pandas.pydata.org/pandas-docs/stable/indexing.html#indexing-view-versus-copy\n",
      "C:\\Users\\Xiang Zhang\\Anaconda3\\lib\\site-packages\\ipykernel_launcher.py:36: SettingWithCopyWarning: \n",
      "A value is trying to be set on a copy of a slice from a DataFrame\n",
      "\n",
      "See the caveats in the documentation: http://pandas.pydata.org/pandas-docs/stable/indexing.html#indexing-view-versus-copy\n",
      "C:\\Users\\Xiang Zhang\\Anaconda3\\lib\\site-packages\\ipykernel_launcher.py:37: SettingWithCopyWarning: \n",
      "A value is trying to be set on a copy of a slice from a DataFrame\n",
      "\n",
      "See the caveats in the documentation: http://pandas.pydata.org/pandas-docs/stable/indexing.html#indexing-view-versus-copy\n",
      "C:\\Users\\Xiang Zhang\\Anaconda3\\lib\\site-packages\\ipykernel_launcher.py:34: SettingWithCopyWarning: \n",
      "A value is trying to be set on a copy of a slice from a DataFrame\n",
      "\n",
      "See the caveats in the documentation: http://pandas.pydata.org/pandas-docs/stable/indexing.html#indexing-view-versus-copy\n"
     ]
    }
   ],
   "source": [
    "k = 4\n",
    "clf_mlp = KFold(n_splits=4, shuffle = True, random_state = 22)\n",
    "clf_mlp.get_n_splits(Xvals)\n",
    "MSE = np.zeros(k)\n",
    "\n",
    "activation = np.array(['identity', 'logistic', 'tanh', 'relu'])\n",
    "MSE_mlp_single = pd.DataFrame({\"activation\": np.zeros(20),\n",
    "                               \"hide_layer\": np.zeros(20),\n",
    "                               \"alpha\": np.zeros(20),\n",
    "                               \"MSE\": np.zeros(20)})\n",
    "\n",
    "MLP_model_MSE = MSE_mlp_single\n",
    "\n",
    "for ac in range(0, 4):\n",
    "    for h in range(8):\n",
    "        for al in range(20):\n",
    "            k_ind = int(0)\n",
    "            \n",
    "            for train_index, test_index in clf_mlp.split(Xvals):\n",
    "                X_train, X_test = Xvals[train_index], Xvals[test_index]\n",
    "                y_train, y_test = yvals[train_index], yvals[test_index]\n",
    "                mlp = MLPClassifier(activation = activation[ac], \n",
    "                                    solver = 'lbfgs',\n",
    "                                    alpha = (al/20 + 0.05), # Set the step as 0.05\n",
    "                                    random_state = 25,\n",
    "                                    hidden_layer_sizes = ((50 * (h + 1)),))\n",
    "                \n",
    "                mlp.fit(X_train, y_train)\n",
    "                y_pred = mlp.predict(X_test)\n",
    "                error = y_test != y_pred\n",
    "                MSE[k_ind] = error.mean()\n",
    "                k_ind = k_ind + 1\n",
    "                \n",
    "            MSE_mlp_single['activation'][al] = activation[ac]\n",
    "            MSE_mlp_single['hide_layer'][al] = 50 * (h + 1)\n",
    "            MSE_mlp_single['alpha'][al] = al / 20 + 0.05\n",
    "            MSE_mlp_single['MSE'][al] =  MSE.mean()\n",
    "            \n",
    "        MLP_model_MSE = pd.concat([MLP_model_MSE, MSE_mlp_single])"
   ]
  },
  {
   "cell_type": "code",
   "execution_count": 40,
   "metadata": {},
   "outputs": [
    {
     "data": {
      "text/html": [
       "<div>\n",
       "<style>\n",
       "    .dataframe thead tr:only-child th {\n",
       "        text-align: right;\n",
       "    }\n",
       "\n",
       "    .dataframe thead th {\n",
       "        text-align: left;\n",
       "    }\n",
       "\n",
       "    .dataframe tbody tr th {\n",
       "        vertical-align: top;\n",
       "    }\n",
       "</style>\n",
       "<table border=\"1\" class=\"dataframe\">\n",
       "  <thead>\n",
       "    <tr style=\"text-align: right;\">\n",
       "      <th></th>\n",
       "      <th>MSE</th>\n",
       "      <th>activation</th>\n",
       "      <th>alpha</th>\n",
       "      <th>hide_layer</th>\n",
       "    </tr>\n",
       "  </thead>\n",
       "  <tbody>\n",
       "    <tr>\n",
       "      <th>8</th>\n",
       "      <td>0.039773</td>\n",
       "      <td>relu</td>\n",
       "      <td>0.45</td>\n",
       "      <td>200.0</td>\n",
       "    </tr>\n",
       "    <tr>\n",
       "      <th>12</th>\n",
       "      <td>0.039773</td>\n",
       "      <td>relu</td>\n",
       "      <td>0.65</td>\n",
       "      <td>200.0</td>\n",
       "    </tr>\n",
       "    <tr>\n",
       "      <th>11</th>\n",
       "      <td>0.039773</td>\n",
       "      <td>relu</td>\n",
       "      <td>0.60</td>\n",
       "      <td>200.0</td>\n",
       "    </tr>\n",
       "    <tr>\n",
       "      <th>3</th>\n",
       "      <td>0.039773</td>\n",
       "      <td>relu</td>\n",
       "      <td>0.20</td>\n",
       "      <td>200.0</td>\n",
       "    </tr>\n",
       "    <tr>\n",
       "      <th>2</th>\n",
       "      <td>0.045455</td>\n",
       "      <td>tanh</td>\n",
       "      <td>0.15</td>\n",
       "      <td>150.0</td>\n",
       "    </tr>\n",
       "    <tr>\n",
       "      <th>15</th>\n",
       "      <td>0.045455</td>\n",
       "      <td>relu</td>\n",
       "      <td>0.80</td>\n",
       "      <td>300.0</td>\n",
       "    </tr>\n",
       "    <tr>\n",
       "      <th>6</th>\n",
       "      <td>0.045455</td>\n",
       "      <td>relu</td>\n",
       "      <td>0.35</td>\n",
       "      <td>350.0</td>\n",
       "    </tr>\n",
       "    <tr>\n",
       "      <th>9</th>\n",
       "      <td>0.045455</td>\n",
       "      <td>relu</td>\n",
       "      <td>0.50</td>\n",
       "      <td>350.0</td>\n",
       "    </tr>\n",
       "    <tr>\n",
       "      <th>15</th>\n",
       "      <td>0.045455</td>\n",
       "      <td>relu</td>\n",
       "      <td>0.80</td>\n",
       "      <td>350.0</td>\n",
       "    </tr>\n",
       "    <tr>\n",
       "      <th>6</th>\n",
       "      <td>0.045455</td>\n",
       "      <td>relu</td>\n",
       "      <td>0.35</td>\n",
       "      <td>200.0</td>\n",
       "    </tr>\n",
       "  </tbody>\n",
       "</table>\n",
       "</div>"
      ],
      "text/plain": [
       "         MSE activation  alpha  hide_layer\n",
       "8   0.039773       relu   0.45       200.0\n",
       "12  0.039773       relu   0.65       200.0\n",
       "11  0.039773       relu   0.60       200.0\n",
       "3   0.039773       relu   0.20       200.0\n",
       "2   0.045455       tanh   0.15       150.0\n",
       "15  0.045455       relu   0.80       300.0\n",
       "6   0.045455       relu   0.35       350.0\n",
       "9   0.045455       relu   0.50       350.0\n",
       "15  0.045455       relu   0.80       350.0\n",
       "6   0.045455       relu   0.35       200.0"
      ]
     },
     "execution_count": 40,
     "metadata": {},
     "output_type": "execute_result"
    }
   ],
   "source": [
    "MLP_model_MSE = MLP_model_MSE.sort_values(['MSE'])\n",
    "\n",
    "MLP_model_MSE.head(10)"
   ]
  },
  {
   "cell_type": "markdown",
   "metadata": {},
   "source": [
    "From the above results, we can see that:\n",
    "- Logit regression model has the smallest MSE of 0.068182\n",
    "- Random Forest model has the smallest MSE of 0.062500\t\n",
    "- SVM has the smallest MSE of 0.045455\n",
    "- MLP has the smallest MSE of 0.039773\n",
    "\n",
    "Thus, MLP neural network model is the best predictor since it has the smallest MSE. At the same time, SVM slao has quite good performance since it only yield a little larger MSE."
   ]
  }
 ],
 "metadata": {
  "kernelspec": {
   "display_name": "Python 3",
   "language": "python",
   "name": "python3"
  },
  "language_info": {
   "codemirror_mode": {
    "name": "ipython",
    "version": 3
   },
   "file_extension": ".py",
   "mimetype": "text/x-python",
   "name": "python",
   "nbconvert_exporter": "python",
   "pygments_lexer": "ipython3",
   "version": "3.6.4"
  }
 },
 "nbformat": 4,
 "nbformat_minor": 2
}
