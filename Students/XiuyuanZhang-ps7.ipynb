{
 "cells": [
  {
   "cell_type": "markdown",
   "metadata": {},
   "source": [
    "# Problem Set #7\n",
    "### MACS 30100 Dr. Evans\n",
    "### Xiuyuan Zhang"
   ]
  },
  {
   "cell_type": "code",
   "execution_count": 41,
   "metadata": {},
   "outputs": [],
   "source": [
    "# import library\n",
    "import numpy as np\n",
    "import pandas as pd\n",
    "import sklearn\n",
    "from sklearn import preprocessing\n",
    "from sklearn.linear_model import LogisticRegression\n",
    "from sklearn.cross_validation import train_test_split\n",
    "from pylab import rcParams\n",
    "import warnings\n",
    "from sklearn.cross_validation import train_test_split\n",
    "from sklearn import metrics \n",
    "from sklearn.metrics import classification_report, confusion_matrix\n",
    "from sklearn.model_selection import LeaveOneOut, KFold\n",
    "from sklearn.ensemble import RandomForestRegressor\n",
    "from sklearn.metrics import mean_squared_error\n",
    "from sklearn import svm\n",
    "from sklearn.ensemble import RandomForestClassifier\n",
    "warnings.filterwarnings(\"ignore\")"
   ]
  },
  {
   "cell_type": "markdown",
   "metadata": {},
   "source": [
    "## Problem 1 Classifier “horse” race\n",
    "### (a) Logistic Regression"
   ]
  },
  {
   "cell_type": "code",
   "execution_count": 42,
   "metadata": {
    "scrolled": true
   },
   "outputs": [
    {
     "name": "stdout",
     "output_type": "stream",
     "text": [
      "<class 'pandas.core.frame.DataFrame'>\n",
      "RangeIndex: 397 entries, 0 to 396\n",
      "Data columns (total 9 columns):\n",
      "mpg             397 non-null float64\n",
      "cylinders       397 non-null int64\n",
      "displacement    397 non-null float64\n",
      "horsepower      392 non-null float64\n",
      "weight          397 non-null int64\n",
      "acceleration    397 non-null float64\n",
      "year            397 non-null int64\n",
      "origin          397 non-null int64\n",
      "name            397 non-null object\n",
      "dtypes: float64(4), int64(4), object(1)\n",
      "memory usage: 28.0+ KB\n"
     ]
    }
   ],
   "source": [
    "# Import data, drop NA\n",
    "auto_df = pd.read_csv('Auto.csv',na_values='?')\n",
    "auto_df.info()\n",
    "auto_df = auto_df.dropna()"
   ]
  },
  {
   "cell_type": "code",
   "execution_count": 43,
   "metadata": {},
   "outputs": [
    {
     "data": {
      "text/html": [
       "<div>\n",
       "<style scoped>\n",
       "    .dataframe tbody tr th:only-of-type {\n",
       "        vertical-align: middle;\n",
       "    }\n",
       "\n",
       "    .dataframe tbody tr th {\n",
       "        vertical-align: top;\n",
       "    }\n",
       "\n",
       "    .dataframe thead th {\n",
       "        text-align: right;\n",
       "    }\n",
       "</style>\n",
       "<table border=\"1\" class=\"dataframe\">\n",
       "  <thead>\n",
       "    <tr style=\"text-align: right;\">\n",
       "      <th></th>\n",
       "      <th>mpg</th>\n",
       "      <th>cylinders</th>\n",
       "      <th>displacement</th>\n",
       "      <th>horsepower</th>\n",
       "      <th>weight</th>\n",
       "      <th>acceleration</th>\n",
       "      <th>year</th>\n",
       "      <th>origin</th>\n",
       "      <th>name</th>\n",
       "    </tr>\n",
       "  </thead>\n",
       "  <tbody>\n",
       "    <tr>\n",
       "      <th>0</th>\n",
       "      <td>18.0</td>\n",
       "      <td>8</td>\n",
       "      <td>307.0</td>\n",
       "      <td>130.0</td>\n",
       "      <td>3504</td>\n",
       "      <td>12.0</td>\n",
       "      <td>70</td>\n",
       "      <td>1</td>\n",
       "      <td>chevrolet chevelle malibu</td>\n",
       "    </tr>\n",
       "    <tr>\n",
       "      <th>1</th>\n",
       "      <td>15.0</td>\n",
       "      <td>8</td>\n",
       "      <td>350.0</td>\n",
       "      <td>165.0</td>\n",
       "      <td>3693</td>\n",
       "      <td>11.5</td>\n",
       "      <td>70</td>\n",
       "      <td>1</td>\n",
       "      <td>buick skylark 320</td>\n",
       "    </tr>\n",
       "    <tr>\n",
       "      <th>2</th>\n",
       "      <td>18.0</td>\n",
       "      <td>8</td>\n",
       "      <td>318.0</td>\n",
       "      <td>150.0</td>\n",
       "      <td>3436</td>\n",
       "      <td>11.0</td>\n",
       "      <td>70</td>\n",
       "      <td>1</td>\n",
       "      <td>plymouth satellite</td>\n",
       "    </tr>\n",
       "    <tr>\n",
       "      <th>3</th>\n",
       "      <td>16.0</td>\n",
       "      <td>8</td>\n",
       "      <td>304.0</td>\n",
       "      <td>150.0</td>\n",
       "      <td>3433</td>\n",
       "      <td>12.0</td>\n",
       "      <td>70</td>\n",
       "      <td>1</td>\n",
       "      <td>amc rebel sst</td>\n",
       "    </tr>\n",
       "    <tr>\n",
       "      <th>4</th>\n",
       "      <td>17.0</td>\n",
       "      <td>8</td>\n",
       "      <td>302.0</td>\n",
       "      <td>140.0</td>\n",
       "      <td>3449</td>\n",
       "      <td>10.5</td>\n",
       "      <td>70</td>\n",
       "      <td>1</td>\n",
       "      <td>ford torino</td>\n",
       "    </tr>\n",
       "  </tbody>\n",
       "</table>\n",
       "</div>"
      ],
      "text/plain": [
       "    mpg  cylinders  displacement  horsepower  weight  acceleration  year  \\\n",
       "0  18.0          8         307.0       130.0    3504          12.0    70   \n",
       "1  15.0          8         350.0       165.0    3693          11.5    70   \n",
       "2  18.0          8         318.0       150.0    3436          11.0    70   \n",
       "3  16.0          8         304.0       150.0    3433          12.0    70   \n",
       "4  17.0          8         302.0       140.0    3449          10.5    70   \n",
       "\n",
       "   origin                       name  \n",
       "0       1  chevrolet chevelle malibu  \n",
       "1       1          buick skylark 320  \n",
       "2       1         plymouth satellite  \n",
       "3       1              amc rebel sst  \n",
       "4       1                ford torino  "
      ]
     },
     "execution_count": 43,
     "metadata": {},
     "output_type": "execute_result"
    }
   ],
   "source": [
    "auto_df.head()"
   ]
  },
  {
   "cell_type": "code",
   "execution_count": 44,
   "metadata": {},
   "outputs": [],
   "source": [
    "# drop column\n",
    "auto_df = auto_df.drop(['name'], axis = 1)\n",
    "auto_df['horsepower'] = auto_df['horsepower'].convert_objects(convert_numeric = True)\n",
    "auto_df['mpg_high'] = auto_df['mpg'].apply(lambda x: 1 if x >= auto_df['mpg'].median() else 0).astype('category')"
   ]
  },
  {
   "cell_type": "code",
   "execution_count": 45,
   "metadata": {},
   "outputs": [],
   "source": [
    "# set the variables\n",
    "X = auto_df[['cylinders', 'displacement', 'horsepower', 'weight',\n",
    "              'acceleration', 'year', 'origin']].values\n",
    "y = auto_df['mpg_high'].values"
   ]
  },
  {
   "cell_type": "code",
   "execution_count": 46,
   "metadata": {},
   "outputs": [
    {
     "name": "stdout",
     "output_type": "stream",
     "text": [
      "When k = 0\n",
      "             precision    recall  f1-score   support\n",
      "\n",
      "          0      0.942     0.891     0.916        55\n",
      "          1      0.870     0.930     0.899        43\n",
      "\n",
      "avg / total      0.910     0.908     0.908        98\n",
      "\n",
      "The error rate for mpg_high = 0 is 0.0576923076923\n",
      "The error rate for mpg_high = 1 is 0.130434782609\n",
      "The MSE is 0.0918367346939\n",
      "\n",
      "When k = 1\n",
      "             precision    recall  f1-score   support\n",
      "\n",
      "          0      0.878     0.915     0.896        47\n",
      "          1      0.918     0.882     0.900        51\n",
      "\n",
      "avg / total      0.899     0.898     0.898        98\n",
      "\n",
      "The error rate for mpg_high = 0 is 0.122448979592\n",
      "The error rate for mpg_high = 1 is 0.0816326530612\n",
      "The MSE is 0.102040816327\n",
      "\n",
      "When k = 2\n",
      "             precision    recall  f1-score   support\n",
      "\n",
      "          0      0.848     0.867     0.857        45\n",
      "          1      0.885     0.868     0.876        53\n",
      "\n",
      "avg / total      0.868     0.867     0.867        98\n",
      "\n",
      "The error rate for mpg_high = 0 is 0.152173913043\n",
      "The error rate for mpg_high = 1 is 0.115384615385\n",
      "The MSE is 0.132653061224\n",
      "\n",
      "When k = 3\n",
      "             precision    recall  f1-score   support\n",
      "\n",
      "          0      0.953     0.837     0.891        49\n",
      "          1      0.855     0.959     0.904        49\n",
      "\n",
      "avg / total      0.904     0.898     0.898        98\n",
      "\n",
      "The error rate for mpg_high = 0 is 0.046511627907\n",
      "The error rate for mpg_high = 1 is 0.145454545455\n",
      "The MSE is 0.102040816327\n",
      "\n",
      "The k-fold results are as follows:\n",
      "The average error rate of mpg_high = 0 is 0.0947067070586\n",
      "\n",
      "The average error rate of mpg_high = 1 is 0.118226649127\n",
      "\n",
      "The average MSE of this model for all classes is 0.107142857143\n"
     ]
    }
   ],
   "source": [
    "# set k-fold cross-validation to k = 4\n",
    "k = 4\n",
    "kf = KFold(n_splits=k, random_state=15, shuffle=True)\n",
    "kf.get_n_splits(X)\n",
    "General_error_0 = np.zeros(k)\n",
    "General_error_1 = np.zeros(k)\n",
    "General_MSE = np.zeros(k)\n",
    "\n",
    "k_ind = int(0)\n",
    "for train_index, test_index in kf.split(X):\n",
    "    print('When k =', k_ind)\n",
    "    X_train, X_test = X[train_index], X[test_index]\n",
    "    y_train, y_test = y[train_index], y[test_index]\n",
    "    LogReg = LogisticRegression(fit_intercept=True) #add constant fit_intercept = True\n",
    "    LogReg.fit(X_train, y_train)\n",
    "    y_pred = LogReg.predict(X_test)\n",
    "    MSE = pd.DataFrame({'Error': (y_test != y_pred).astype(int), \n",
    "                        'y_pred': y_pred})\n",
    "    error_0 = MSE[MSE['y_pred'] == 0]['Error'].mean()\n",
    "    error_1 = MSE[MSE['y_pred'] == 1]['Error'].mean()\n",
    "    error_all_class = MSE['Error'].mean()\n",
    "    General_error_0[k_ind] = error_0\n",
    "    General_error_1[k_ind] = error_1\n",
    "    General_MSE[k_ind] = error_all_class\n",
    "    print(classification_report(y_test, y_pred, digits=3))\n",
    "    print('The error rate for mpg_high = 0 is', error_0)\n",
    "    print('The error rate for mpg_high = 1 is', error_1)\n",
    "    print('The MSE is', error_all_class) \n",
    "    print()\n",
    "    k_ind += 1\n",
    "\n",
    "print('The k-fold results are as follows:')\n",
    "print('The average error rate of mpg_high = 0 is', General_error_0.mean())\n",
    "print('')\n",
    "print('The average error rate of mpg_high = 1 is', General_error_1.mean())\n",
    "print('')\n",
    "print('The average MSE of this model for all classes is', General_MSE.mean())"
   ]
  },
  {
   "cell_type": "markdown",
   "metadata": {},
   "source": [
    "### (b) Random Forest "
   ]
  },
  {
   "cell_type": "code",
   "execution_count": 47,
   "metadata": {},
   "outputs": [],
   "source": [
    "random_forest = RandomForestClassifier(n_estimators=20, max_features=2, bootstrap=True,\n",
    "                                       oob_score=True, random_state=25)\n",
    "X_rf = auto_df[['cylinders', 'displacement', 'horsepower', 'weight',\n",
    "              'acceleration', 'year', 'origin']].values\n",
    "random_forest.fit(X_rf, y)\n",
    "rf_pred = random_forest.oob_decision_function_\n",
    "MSE_rf = pd.DataFrame({'ypred' : rf_pred.T[1], 'yvals': y})\n",
    "MSE_rf['ypred'] = MSE_rf['ypred'].apply(lambda x: 1 if x >= 0.5 else 0)"
   ]
  },
  {
   "cell_type": "code",
   "execution_count": 48,
   "metadata": {},
   "outputs": [
    {
     "name": "stdout",
     "output_type": "stream",
     "text": [
      "The MSE of the random forest model is: 0.0714285714286\n",
      "The MSE of the mpg_high = 0 is: 0.0578947368421\n",
      "The MSE of the mpg_high = 1 is: 0.0841584158416\n"
     ]
    }
   ],
   "source": [
    "# mean squared error\n",
    "MSE_model = mean_squared_error(MSE_rf['yvals'], MSE_rf['ypred'])\n",
    "print('The MSE of the random forest model is:',MSE_model)\n",
    "\n",
    "# mpg_high = 0\n",
    "MSE_rf_0 = MSE_rf[MSE_rf['ypred'] < 0.5]\n",
    "MSE_0 = mean_squared_error(MSE_rf_0['yvals'], MSE_rf_0['ypred'])\n",
    "print('The MSE of the mpg_high = 0 is:',MSE_0)\n",
    "\n",
    "# mpg_high = 1\n",
    "MSE_rf_1 = MSE_rf[MSE_rf['ypred'] >= 0.5]\n",
    "MSE_1 = mean_squared_error(MSE_rf_1['yvals'], MSE_rf_1['ypred'])\n",
    "print('The MSE of the mpg_high = 1 is:',MSE_1)"
   ]
  },
  {
   "cell_type": "markdown",
   "metadata": {},
   "source": [
    "### (c) SVC (Support Vector Machine)"
   ]
  },
  {
   "cell_type": "code",
   "execution_count": 52,
   "metadata": {},
   "outputs": [
    {
     "name": "stdout",
     "output_type": "stream",
     "text": [
      "When k = 0\n",
      "             precision    recall  f1-score   support\n",
      "\n",
      "          0      1.000     0.036     0.070        55\n",
      "          1      0.448     1.000     0.619        43\n",
      "\n",
      "avg / total      0.758     0.459     0.311        98\n",
      "\n",
      "The error rate of mpg_high = 0 is 0.0\n",
      "The error rate of mpg_high = 1 is 0.552083333333\n",
      "The MSE is 0.540816326531\n",
      "\n",
      "When k = 1\n",
      "             precision    recall  f1-score   support\n",
      "\n",
      "          0      0.480     1.000     0.648        47\n",
      "          1      0.000     0.000     0.000        51\n",
      "\n",
      "avg / total      0.230     0.480     0.311        98\n",
      "\n",
      "The error rate of mpg_high = 0 is 0.520408163265\n",
      "The error rate of mpg_high = 1 is nan\n",
      "The MSE is 0.520408163265\n",
      "\n",
      "When k = 2\n",
      "             precision    recall  f1-score   support\n",
      "\n",
      "          0      0.469     1.000     0.638        45\n",
      "          1      1.000     0.038     0.073        53\n",
      "\n",
      "avg / total      0.756     0.480     0.332        98\n",
      "\n",
      "The error rate of mpg_high = 0 is 0.53125\n",
      "The error rate of mpg_high = 1 is 0.0\n",
      "The MSE is 0.520408163265\n",
      "\n",
      "When k = 3\n",
      "             precision    recall  f1-score   support\n",
      "\n",
      "          0      0.527     1.000     0.690        49\n",
      "          1      1.000     0.102     0.185        49\n",
      "\n",
      "avg / total      0.763     0.551     0.438        98\n",
      "\n",
      "The error rate of mpg_high = 0 is 0.47311827957\n",
      "The error rate of mpg_high = 1 is 0.0\n",
      "The MSE is 0.448979591837\n",
      "\n"
     ]
    }
   ],
   "source": [
    "# set k-fold cross-validation to k = 4\n",
    "k = 4\n",
    "kf = KFold(n_splits=k, random_state=15, shuffle=True)\n",
    "kf.get_n_splits(X_rf)\n",
    "SVMGeneral_error_0 = np.zeros(k)\n",
    "SVMGeneral_error_1 = np.zeros(k)\n",
    "SVMGeneral_MSE = np.zeros(k)\n",
    "\n",
    "k_ind = int(0)\n",
    "for train_index, test_index in kf.split(X_rf):\n",
    "    print('When k =', k_ind)\n",
    "    X_train, X_test = X_rf[train_index], X_rf[test_index]\n",
    "    y_train, y_test = y[train_index], y[test_index]\n",
    "    # Set the penalty parameter to C=1 and set gamma=0.2\n",
    "    svc = svm.SVC(kernel='rbf', gamma = 0.2, C=1)\n",
    "    svc.fit(X_train, y_train)\n",
    "    y_pred = svc.predict(X_test)\n",
    "    error = y_test != y_pred\n",
    "    error_all_class = error.mean()\n",
    "    error_0 = ((y_pred == 0) * error).sum() / (y_pred == 0).sum() \n",
    "    error_1 = ((y_pred == 1) * error).sum() / (y_pred == 1).sum()\n",
    "    SVMGeneral_error_0[k_ind] = error_0\n",
    "    SVMGeneral_error_1[k_ind] = error_1\n",
    "    SVMGeneral_MSE[k_ind] = error_all_class\n",
    "    print(classification_report(y_test, y_pred, digits=3))  \n",
    "    print('The error rate of mpg_high = 0 is', error_0)\n",
    "    print('The error rate of mpg_high = 1 is', error_1)\n",
    "    print('The MSE is', error_all_class) \n",
    "    print()\n",
    "    k_ind += 1"
   ]
  },
  {
   "cell_type": "code",
   "execution_count": 53,
   "metadata": {},
   "outputs": [
    {
     "name": "stdout",
     "output_type": "stream",
     "text": [
      "The average error rate of mpg_high = 0 is 0.381194110709\n",
      "\n",
      "The average error rate of mpg_high = 1 is 0.184027777778\n",
      "\n",
      "The average MSE of the SVM model is 0.507653061224\n"
     ]
    }
   ],
   "source": [
    "SVMGeneral_error_0 = SVMGeneral_error_0[~np.isnan(SVMGeneral_error_0)]\n",
    "print('The average error rate of mpg_high = 0 is', SVMGeneral_error_0.mean())\n",
    "print()\n",
    "SVMGeneral_error_1 = SVMGeneral_error_1[~np.isnan(SVMGeneral_error_1)]\n",
    "print('The average error rate of mpg_high = 1 is', SVMGeneral_error_1.mean())\n",
    "print()\n",
    "print('The average MSE of the SVM model is', SVMGeneral_MSE.mean())"
   ]
  },
  {
   "cell_type": "markdown",
   "metadata": {},
   "source": [
    "### (d) Which of the above three models do you think is the best predictor of mpg high? Why?"
   ]
  },
  {
   "cell_type": "markdown",
   "metadata": {},
   "source": [
    "Looking at the results of average model MSE, average error rate of each category from the previous three models:\n",
    "\n",
    "#### For the Logistic regression model:\n",
    "\n",
    "The average error rate of mpg_high = 0 is 0.0947067070586\n",
    "\n",
    "The average error rate of mpg_high = 1 is 0.118226649127\n",
    "\n",
    "The average MSE of the logistic regression model is 0.107142857143\n",
    "\n",
    "#### For the random forest model:\n",
    "\n",
    "The average error rate of mpg_high = 0 is: 0.0578947368421\n",
    "\n",
    "The average error rate of mpg_high = 1 is: 0.0841584158416\n",
    "\n",
    "The average MSE of the random forest model is: 0.0714285714286\n",
    "\n",
    "#### For the SVM model:\n",
    "\n",
    "The average error rate of mpg_high = 0 is 0.381194110709\n",
    "\n",
    "The average error rate of mpg_high = 1 is 0.184027777778\n",
    "\n",
    "The average MSE of the SVM model is 0.507653061224\n",
    "\n",
    "One can see that the Randome Forest model has the least amount of average error rate for both categories within the class mpg_high, and an overall least average MSE, among all three models. It is clear from our understanding about fitting models and performing predictions that the smaller the error rate and MSE the more accurate the prediction results. Thus, I think that the Random Forest model is the best predictior of $mpg_high$.\n",
    "\n",
    "One should also note the different methods used to compute MSE values in these models. While both SVC and Logistic Regression used k-fold cross validation, the Random Forest model used OOB prediction function. Using OOB prediction function when the sample size is not sufficiently large could lead to smaller MSE values comparing to the cross validation method with the same sample size. It is thus more advantageous to standardize the methologies when possible. Here, however, one can still use not only the average MSE values but the average error rate to get a comparison that overall the Random Forest model achieved the best performance."
   ]
  }
 ],
 "metadata": {
  "kernelspec": {
   "display_name": "Python 3",
   "language": "python",
   "name": "python3"
  },
  "language_info": {
   "codemirror_mode": {
    "name": "ipython",
    "version": 3
   },
   "file_extension": ".py",
   "mimetype": "text/x-python",
   "name": "python",
   "nbconvert_exporter": "python",
   "pygments_lexer": "ipython3",
   "version": "3.6.3"
  }
 },
 "nbformat": 4,
 "nbformat_minor": 2
}
