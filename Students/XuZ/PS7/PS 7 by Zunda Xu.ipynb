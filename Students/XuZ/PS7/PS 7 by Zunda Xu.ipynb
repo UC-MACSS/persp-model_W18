{
 "cells": [
  {
   "cell_type": "markdown",
   "metadata": {},
   "source": [
    "# Problem Set # 7"
   ]
  },
  {
   "cell_type": "markdown",
   "metadata": {},
   "source": [
    "### MACS 30100,  Dr. Evans"
   ]
  },
  {
   "cell_type": "markdown",
   "metadata": {},
   "source": [
    "### Name : Zunda Xu ( zunda@uchicago.edu )"
   ]
  },
  {
   "cell_type": "markdown",
   "metadata": {},
   "source": [
    "### Problem 1: Classifier \"horse\" race"
   ]
  },
  {
   "cell_type": "markdown",
   "metadata": {},
   "source": [
    "As usual, we first import the packages and some functions used in the problem set."
   ]
  },
  {
   "cell_type": "code",
   "execution_count": 21,
   "metadata": {},
   "outputs": [],
   "source": [
    "# Import the package\n",
    "import numpy as np\n",
    "import pandas as pd\n",
    "import sklearn\n",
    "from sklearn import preprocessing\n",
    "from sklearn.linear_model import LogisticRegression\n",
    "from sklearn.cross_validation import train_test_split\n",
    "from pylab import rcParams\n",
    "import warnings\n",
    "import matplotlib.pyplot as plt\n",
    "import seaborn as sb\n",
    "from sklearn.cross_validation import train_test_split\n",
    "from sklearn import metrics \n",
    "from sklearn.metrics import classification_report, confusion_matrix\n",
    "from sklearn.model_selection import LeaveOneOut, KFold\n",
    "from sklearn.ensemble import RandomForestRegressor\n",
    "from sklearn.metrics import mean_squared_error\n",
    "from sklearn import svm\n",
    "from sklearn.ensemble import RandomForestClassifier\n",
    "warnings.filterwarnings(\"ignore\") \n",
    "%matplotlib inline"
   ]
  },
  {
   "cell_type": "markdown",
   "metadata": {},
   "source": [
    "Now, we import the dataset and check the basic information of the orginal dataset."
   ]
  },
  {
   "cell_type": "code",
   "execution_count": 25,
   "metadata": {},
   "outputs": [
    {
     "name": "stdout",
     "output_type": "stream",
     "text": [
      "<class 'pandas.core.frame.DataFrame'>\n",
      "RangeIndex: 397 entries, 0 to 396\n",
      "Data columns (total 9 columns):\n",
      "mpg             397 non-null float64\n",
      "cylinders       397 non-null int64\n",
      "displacement    397 non-null float64\n",
      "horsepower      392 non-null float64\n",
      "weight          397 non-null int64\n",
      "acceleration    397 non-null float64\n",
      "year            397 non-null int64\n",
      "origin          397 non-null int64\n",
      "name            397 non-null object\n",
      "dtypes: float64(4), int64(4), object(1)\n",
      "memory usage: 28.0+ KB\n"
     ]
    }
   ],
   "source": [
    "# Import the dataset\n",
    "auto_df = pd.read_csv('Auto.csv', na_values='?')\n",
    "# Check the basic information of the orginal dataset\n",
    "auto_df.info()"
   ]
  },
  {
   "cell_type": "markdown",
   "metadata": {},
   "source": [
    "#### Part ( a ) : Fit a logistic regression model of mpg_high and fit the model using k-fold cross validation with k=4 folds"
   ]
  },
  {
   "cell_type": "markdown",
   "metadata": {},
   "source": [
    "First of all, we clean and pre-process the dataset as required."
   ]
  },
  {
   "cell_type": "code",
   "execution_count": 26,
   "metadata": {
    "collapsed": true
   },
   "outputs": [],
   "source": [
    "# Drop the missing value of the dataset\n",
    "auto_df = auto_df.dropna()"
   ]
  },
  {
   "cell_type": "code",
   "execution_count": 27,
   "metadata": {},
   "outputs": [
    {
     "data": {
      "text/html": [
       "<div>\n",
       "<style>\n",
       "    .dataframe thead tr:only-child th {\n",
       "        text-align: right;\n",
       "    }\n",
       "\n",
       "    .dataframe thead th {\n",
       "        text-align: left;\n",
       "    }\n",
       "\n",
       "    .dataframe tbody tr th {\n",
       "        vertical-align: top;\n",
       "    }\n",
       "</style>\n",
       "<table border=\"1\" class=\"dataframe\">\n",
       "  <thead>\n",
       "    <tr style=\"text-align: right;\">\n",
       "      <th></th>\n",
       "      <th>mpg</th>\n",
       "      <th>cylinders</th>\n",
       "      <th>displacement</th>\n",
       "      <th>horsepower</th>\n",
       "      <th>weight</th>\n",
       "      <th>acceleration</th>\n",
       "      <th>year</th>\n",
       "      <th>origin</th>\n",
       "      <th>name</th>\n",
       "    </tr>\n",
       "  </thead>\n",
       "  <tbody>\n",
       "    <tr>\n",
       "      <th>0</th>\n",
       "      <td>18.0</td>\n",
       "      <td>8</td>\n",
       "      <td>307.0</td>\n",
       "      <td>130.0</td>\n",
       "      <td>3504</td>\n",
       "      <td>12.0</td>\n",
       "      <td>70</td>\n",
       "      <td>1</td>\n",
       "      <td>chevrolet chevelle malibu</td>\n",
       "    </tr>\n",
       "    <tr>\n",
       "      <th>1</th>\n",
       "      <td>15.0</td>\n",
       "      <td>8</td>\n",
       "      <td>350.0</td>\n",
       "      <td>165.0</td>\n",
       "      <td>3693</td>\n",
       "      <td>11.5</td>\n",
       "      <td>70</td>\n",
       "      <td>1</td>\n",
       "      <td>buick skylark 320</td>\n",
       "    </tr>\n",
       "    <tr>\n",
       "      <th>2</th>\n",
       "      <td>18.0</td>\n",
       "      <td>8</td>\n",
       "      <td>318.0</td>\n",
       "      <td>150.0</td>\n",
       "      <td>3436</td>\n",
       "      <td>11.0</td>\n",
       "      <td>70</td>\n",
       "      <td>1</td>\n",
       "      <td>plymouth satellite</td>\n",
       "    </tr>\n",
       "    <tr>\n",
       "      <th>3</th>\n",
       "      <td>16.0</td>\n",
       "      <td>8</td>\n",
       "      <td>304.0</td>\n",
       "      <td>150.0</td>\n",
       "      <td>3433</td>\n",
       "      <td>12.0</td>\n",
       "      <td>70</td>\n",
       "      <td>1</td>\n",
       "      <td>amc rebel sst</td>\n",
       "    </tr>\n",
       "    <tr>\n",
       "      <th>4</th>\n",
       "      <td>17.0</td>\n",
       "      <td>8</td>\n",
       "      <td>302.0</td>\n",
       "      <td>140.0</td>\n",
       "      <td>3449</td>\n",
       "      <td>10.5</td>\n",
       "      <td>70</td>\n",
       "      <td>1</td>\n",
       "      <td>ford torino</td>\n",
       "    </tr>\n",
       "  </tbody>\n",
       "</table>\n",
       "</div>"
      ],
      "text/plain": [
       "    mpg  cylinders  displacement  horsepower  weight  acceleration  year  \\\n",
       "0  18.0          8         307.0       130.0    3504          12.0    70   \n",
       "1  15.0          8         350.0       165.0    3693          11.5    70   \n",
       "2  18.0          8         318.0       150.0    3436          11.0    70   \n",
       "3  16.0          8         304.0       150.0    3433          12.0    70   \n",
       "4  17.0          8         302.0       140.0    3449          10.5    70   \n",
       "\n",
       "   origin                       name  \n",
       "0       1  chevrolet chevelle malibu  \n",
       "1       1          buick skylark 320  \n",
       "2       1         plymouth satellite  \n",
       "3       1              amc rebel sst  \n",
       "4       1                ford torino  "
      ]
     },
     "execution_count": 27,
     "metadata": {},
     "output_type": "execute_result"
    }
   ],
   "source": [
    "# Check the head of the dataset\n",
    "auto_df.head()"
   ]
  },
  {
   "cell_type": "code",
   "execution_count": 28,
   "metadata": {},
   "outputs": [
    {
     "data": {
      "text/html": [
       "<div>\n",
       "<style>\n",
       "    .dataframe thead tr:only-child th {\n",
       "        text-align: right;\n",
       "    }\n",
       "\n",
       "    .dataframe thead th {\n",
       "        text-align: left;\n",
       "    }\n",
       "\n",
       "    .dataframe tbody tr th {\n",
       "        vertical-align: top;\n",
       "    }\n",
       "</style>\n",
       "<table border=\"1\" class=\"dataframe\">\n",
       "  <thead>\n",
       "    <tr style=\"text-align: right;\">\n",
       "      <th></th>\n",
       "      <th>mpg</th>\n",
       "      <th>cylinders</th>\n",
       "      <th>displacement</th>\n",
       "      <th>horsepower</th>\n",
       "      <th>weight</th>\n",
       "      <th>acceleration</th>\n",
       "      <th>year</th>\n",
       "      <th>origin</th>\n",
       "      <th>const</th>\n",
       "    </tr>\n",
       "  </thead>\n",
       "  <tbody>\n",
       "    <tr>\n",
       "      <th>0</th>\n",
       "      <td>18.0</td>\n",
       "      <td>8</td>\n",
       "      <td>307.0</td>\n",
       "      <td>130.0</td>\n",
       "      <td>3504</td>\n",
       "      <td>12.0</td>\n",
       "      <td>70</td>\n",
       "      <td>1</td>\n",
       "      <td>1</td>\n",
       "    </tr>\n",
       "    <tr>\n",
       "      <th>1</th>\n",
       "      <td>15.0</td>\n",
       "      <td>8</td>\n",
       "      <td>350.0</td>\n",
       "      <td>165.0</td>\n",
       "      <td>3693</td>\n",
       "      <td>11.5</td>\n",
       "      <td>70</td>\n",
       "      <td>1</td>\n",
       "      <td>1</td>\n",
       "    </tr>\n",
       "    <tr>\n",
       "      <th>2</th>\n",
       "      <td>18.0</td>\n",
       "      <td>8</td>\n",
       "      <td>318.0</td>\n",
       "      <td>150.0</td>\n",
       "      <td>3436</td>\n",
       "      <td>11.0</td>\n",
       "      <td>70</td>\n",
       "      <td>1</td>\n",
       "      <td>1</td>\n",
       "    </tr>\n",
       "    <tr>\n",
       "      <th>3</th>\n",
       "      <td>16.0</td>\n",
       "      <td>8</td>\n",
       "      <td>304.0</td>\n",
       "      <td>150.0</td>\n",
       "      <td>3433</td>\n",
       "      <td>12.0</td>\n",
       "      <td>70</td>\n",
       "      <td>1</td>\n",
       "      <td>1</td>\n",
       "    </tr>\n",
       "    <tr>\n",
       "      <th>4</th>\n",
       "      <td>17.0</td>\n",
       "      <td>8</td>\n",
       "      <td>302.0</td>\n",
       "      <td>140.0</td>\n",
       "      <td>3449</td>\n",
       "      <td>10.5</td>\n",
       "      <td>70</td>\n",
       "      <td>1</td>\n",
       "      <td>1</td>\n",
       "    </tr>\n",
       "  </tbody>\n",
       "</table>\n",
       "</div>"
      ],
      "text/plain": [
       "    mpg  cylinders  displacement  horsepower  weight  acceleration  year  \\\n",
       "0  18.0          8         307.0       130.0    3504          12.0    70   \n",
       "1  15.0          8         350.0       165.0    3693          11.5    70   \n",
       "2  18.0          8         318.0       150.0    3436          11.0    70   \n",
       "3  16.0          8         304.0       150.0    3433          12.0    70   \n",
       "4  17.0          8         302.0       140.0    3449          10.5    70   \n",
       "\n",
       "   origin  const  \n",
       "0       1      1  \n",
       "1       1      1  \n",
       "2       1      1  \n",
       "3       1      1  \n",
       "4       1      1  "
      ]
     },
     "execution_count": 28,
     "metadata": {},
     "output_type": "execute_result"
    }
   ],
   "source": [
    "auto_df = auto_df.drop(['name'], axis = 1)\n",
    "auto_df['horsepower'] = auto_df['horsepower'].convert_objects(convert_numeric = True)\n",
    "auto_df['const'] = 1\n",
    "auto_df.head()"
   ]
  },
  {
   "cell_type": "code",
   "execution_count": 29,
   "metadata": {
    "collapsed": true
   },
   "outputs": [],
   "source": [
    "# Create the category variable mpg_high\n",
    "auto_df['mpg_high'] = auto_df['mpg'].apply(lambda x: 1 if x >= auto_df['mpg'].median() else 0).astype('category')"
   ]
  },
  {
   "cell_type": "code",
   "execution_count": 30,
   "metadata": {
    "collapsed": true
   },
   "outputs": [],
   "source": [
    "X = auto_df[['const','cylinders', 'displacement', 'horsepower', 'weight',\n",
    "              'acceleration', 'year', 'origin']].values\n",
    "y = auto_df['mpg_high'].values"
   ]
  },
  {
   "cell_type": "markdown",
   "metadata": {},
   "source": [
    "Now we fit the logistic regression model of mpg_high and fit the model using k-fold cross validation with k=4 folds"
   ]
  },
  {
   "cell_type": "code",
   "execution_count": 69,
   "metadata": {},
   "outputs": [
    {
     "name": "stdout",
     "output_type": "stream",
     "text": [
      "When k = 0\n",
      "             precision    recall  f1-score   support\n",
      "\n",
      "          0      0.942     0.891     0.916        55\n",
      "          1      0.870     0.930     0.899        43\n",
      "\n",
      "avg / total      0.910     0.908     0.908        98\n",
      "\n",
      "The error rate of mpg_high = 0 is 0.057692307692307696\n",
      "The error rate of mpg_high = 1 is 0.13043478260869565\n",
      "The MSE is 0.09183673469387756\n",
      "\n",
      "When k = 1\n",
      "             precision    recall  f1-score   support\n",
      "\n",
      "          0      0.878     0.915     0.896        47\n",
      "          1      0.918     0.882     0.900        51\n",
      "\n",
      "avg / total      0.899     0.898     0.898        98\n",
      "\n",
      "The error rate of mpg_high = 0 is 0.12244897959183673\n",
      "The error rate of mpg_high = 1 is 0.08163265306122448\n",
      "The MSE is 0.10204081632653061\n",
      "\n",
      "When k = 2\n",
      "             precision    recall  f1-score   support\n",
      "\n",
      "          0      0.848     0.867     0.857        45\n",
      "          1      0.885     0.868     0.876        53\n",
      "\n",
      "avg / total      0.868     0.867     0.867        98\n",
      "\n",
      "The error rate of mpg_high = 0 is 0.15217391304347827\n",
      "The error rate of mpg_high = 1 is 0.11538461538461539\n",
      "The MSE is 0.1326530612244898\n",
      "\n",
      "When k = 3\n",
      "             precision    recall  f1-score   support\n",
      "\n",
      "          0      0.953     0.837     0.891        49\n",
      "          1      0.855     0.959     0.904        49\n",
      "\n",
      "avg / total      0.904     0.898     0.898        98\n",
      "\n",
      "The error rate of mpg_high = 0 is 0.046511627906976744\n",
      "The error rate of mpg_high = 1 is 0.14545454545454545\n",
      "The MSE is 0.10204081632653061\n",
      "\n",
      "The average results are as follows:\n",
      "\n",
      "The average error rate of mpg_high = 0 is 0.0947067070586\n",
      "\n",
      "The average error rate of mpg_high = 1 is 0.118226649127\n",
      "\n",
      "The average MSE for all classes is 0.107142857143\n"
     ]
    }
   ],
   "source": [
    "k = 4\n",
    "kf = KFold(n_splits=k, random_state=15, shuffle=True)\n",
    "kf.get_n_splits(X)\n",
    "General_error_0 = np.zeros(k)\n",
    "General_error_1 = np.zeros(k)\n",
    "General_MSE = np.zeros(k)\n",
    "\n",
    "k_ind = int(0)\n",
    "for train_index, test_index in kf.split(X):\n",
    "    print('When k =', k_ind)\n",
    "    X_train, X_test = X[train_index], X[test_index]\n",
    "    y_train, y_test = y[train_index], y[test_index]\n",
    "    LogReg = LogisticRegression(fit_intercept=True)\n",
    "    LogReg.fit(X_train, y_train)\n",
    "    y_pred = LogReg.predict(X_test)\n",
    "    MSE = pd.DataFrame({'Error': (y_test != y_pred).astype(int), \n",
    "                        'y_pred': y_pred})\n",
    "    error_0 = MSE[MSE['y_pred'] == 0]['Error'].mean()\n",
    "    error_1 = MSE[MSE['y_pred'] == 1]['Error'].mean()\n",
    "    error_all_class = MSE['Error'].mean()\n",
    "    General_error_0[k_ind] = error_0\n",
    "    General_error_1[k_ind] = error_1\n",
    "    General_MSE[k_ind] = error_all_class\n",
    "    print(classification_report(y_test, y_pred, digits=3))\n",
    "    print('The error rate of mpg_high = 0 is', error_0)\n",
    "    print('The error rate of mpg_high = 1 is', error_1)\n",
    "    print('The MSE is', error_all_class) \n",
    "    print()\n",
    "    k_ind += 1\n",
    "\n",
    "print('The average results are as follows:')\n",
    "print()\n",
    "print('The average error rate of mpg_high = 0 is', General_error_0.mean())\n",
    "print()\n",
    "print('The average error rate of mpg_high = 1 is', General_error_1.mean())\n",
    "print()\n",
    "print('The average MSE for all classes is', General_MSE.mean())"
   ]
  },
  {
   "cell_type": "markdown",
   "metadata": {},
   "source": [
    "According to the results shown above, the average error rate of mpg_high = 0 is ** 0.0947 **, the average error rate of mpg_high = 1 is ** 0.1182 **, and the average MSE is ** 0.10714 **. "
   ]
  },
  {
   "cell_type": "markdown",
   "metadata": {},
   "source": [
    "#### Part ( b ) : Fit a random forest model of mpg_high "
   ]
  },
  {
   "cell_type": "markdown",
   "metadata": {},
   "source": [
    "As required, we fit a random forest model of mpg_high as follows:"
   ]
  },
  {
   "cell_type": "code",
   "execution_count": 45,
   "metadata": {},
   "outputs": [],
   "source": [
    "random_forest = RandomForestClassifier(n_estimators=20, max_features=2, bootstrap=True,\n",
    "                                       oob_score=True, random_state=25)\n",
    "X1 = auto_df[['cylinders', 'displacement', 'horsepower', 'weight',\n",
    "              'acceleration', 'year', 'origin']].values\n",
    "random_forest.fit(X1, y)\n",
    "rf_pred = random_forest.oob_decision_function_\n",
    "MSE_rf = pd.DataFrame({'ypred' : rf_pred.T[1], 'yvals': y})\n",
    "MSE_rf['ypred'] = MSE_rf['ypred'].apply(lambda x: 1 if x >= 0.5 else 0)"
   ]
  },
  {
   "cell_type": "markdown",
   "metadata": {},
   "source": [
    "Now we will report the MSE of the random forest model and the MSE for each category:"
   ]
  },
  {
   "cell_type": "code",
   "execution_count": 46,
   "metadata": {},
   "outputs": [
    {
     "name": "stdout",
     "output_type": "stream",
     "text": [
      "The MSE of the random forest model is: 0.0714285714286\n"
     ]
    }
   ],
   "source": [
    "MSE_model = mean_squared_error(MSE_rf['yvals'], MSE_rf['ypred'])\n",
    "print('The MSE of the random forest model is:',MSE_model)"
   ]
  },
  {
   "cell_type": "code",
   "execution_count": 47,
   "metadata": {},
   "outputs": [
    {
     "name": "stdout",
     "output_type": "stream",
     "text": [
      "The MSE of the mpg_high = 0 is: 0.0578947368421\n"
     ]
    }
   ],
   "source": [
    "MSE_rf_0 = MSE_rf[MSE_rf['ypred'] < 0.5]\n",
    "MSE_0 = mean_squared_error(MSE_rf_0['yvals'], MSE_rf_0['ypred'])\n",
    "print('The MSE of the mpg_high = 0 is:',MSE_0)"
   ]
  },
  {
   "cell_type": "code",
   "execution_count": 48,
   "metadata": {},
   "outputs": [
    {
     "name": "stdout",
     "output_type": "stream",
     "text": [
      "The MSE of the mpg_high = 1 is: 0.0841584158416\n"
     ]
    }
   ],
   "source": [
    "MSE_rf_1 = MSE_rf[MSE_rf['ypred'] >= 0.5]\n",
    "MSE_1 = mean_squared_error(MSE_rf_1['yvals'], MSE_rf_1['ypred'])\n",
    "print('The MSE of the mpg_high = 1 is:',MSE_1)"
   ]
  },
  {
   "cell_type": "markdown",
   "metadata": {},
   "source": [
    "According to the report shown above, we note that the error rate for category 0 is ** 0.05789473684210526 **, the error rate for category 1 is ** 0.08415841584158416 **, and the MSE of the random forest model is ** 0.07142857142857142 **."
   ]
  },
  {
   "cell_type": "markdown",
   "metadata": {},
   "source": [
    "#### Part ( c ) : Fit a support vector machines model of mpg_high "
   ]
  },
  {
   "cell_type": "markdown",
   "metadata": {},
   "source": [
    "We fit a SVM model of mpg_high"
   ]
  },
  {
   "cell_type": "code",
   "execution_count": 61,
   "metadata": {},
   "outputs": [
    {
     "name": "stdout",
     "output_type": "stream",
     "text": [
      "When k = 0\n",
      "             precision    recall  f1-score   support\n",
      "\n",
      "          0      1.000     0.036     0.070        55\n",
      "          1      0.448     1.000     0.619        43\n",
      "\n",
      "avg / total      0.758     0.459     0.311        98\n",
      "\n",
      "The error rate of mpg_high = 0 is 0.0\n",
      "The error rate of mpg_high = 1 is 0.552083333333\n",
      "The MSE is 0.540816326531\n",
      "\n",
      "When k = 1\n",
      "             precision    recall  f1-score   support\n",
      "\n",
      "          0      0.480     1.000     0.648        47\n",
      "          1      0.000     0.000     0.000        51\n",
      "\n",
      "avg / total      0.230     0.480     0.311        98\n",
      "\n",
      "The error rate of mpg_high = 0 is 0.520408163265\n",
      "The error rate of mpg_high = 1 is nan\n",
      "The MSE is 0.520408163265\n",
      "\n",
      "When k = 2\n",
      "             precision    recall  f1-score   support\n",
      "\n",
      "          0      0.469     1.000     0.638        45\n",
      "          1      1.000     0.038     0.073        53\n",
      "\n",
      "avg / total      0.756     0.480     0.332        98\n",
      "\n",
      "The error rate of mpg_high = 0 is 0.53125\n",
      "The error rate of mpg_high = 1 is 0.0\n",
      "The MSE is 0.520408163265\n",
      "\n",
      "When k = 3\n",
      "             precision    recall  f1-score   support\n",
      "\n",
      "          0      0.527     1.000     0.690        49\n",
      "          1      1.000     0.102     0.185        49\n",
      "\n",
      "avg / total      0.763     0.551     0.438        98\n",
      "\n",
      "The error rate of mpg_high = 0 is 0.47311827957\n",
      "The error rate of mpg_high = 1 is 0.0\n",
      "The MSE is 0.448979591837\n",
      "\n"
     ]
    }
   ],
   "source": [
    "k = 4\n",
    "kf = KFold(n_splits=k, random_state=15, shuffle=True)\n",
    "kf.get_n_splits(X1)\n",
    "SVMGeneral_error_0 = np.zeros(k)\n",
    "SVMGeneral_error_1 = np.zeros(k)\n",
    "SVMGeneral_MSE = np.zeros(k)\n",
    "\n",
    "k_ind = int(0)\n",
    "for train_index, test_index in kf.split(X1):\n",
    "    print('When k =', k_ind)\n",
    "    X_train, X_test = X1[train_index], X1[test_index]\n",
    "    y_train, y_test = y[train_index], y[test_index]\n",
    "    svc = svm.SVC(kernel='rbf', gamma = 0.2, C=1)\n",
    "    svc.fit(X_train, y_train)\n",
    "    y_pred = svc.predict(X_test)\n",
    "    error = y_test != y_pred\n",
    "    error_all_class = error.mean()\n",
    "    error_0 = ((y_pred == 0) * error).sum() / (y_pred == 0).sum() \n",
    "    error_1 = ((y_pred == 1) * error).sum() / (y_pred == 1).sum()\n",
    "    SVMGeneral_error_0[k_ind] = error_0\n",
    "    SVMGeneral_error_1[k_ind] = error_1\n",
    "    SVMGeneral_MSE[k_ind] = error_all_class\n",
    "    print(classification_report(y_test, y_pred, digits=3))  \n",
    "    print('The error rate of mpg_high = 0 is', error_0)\n",
    "    print('The error rate of mpg_high = 1 is', error_1)\n",
    "    print('The MSE is', error_all_class) \n",
    "    print()\n",
    "    k_ind += 1"
   ]
  },
  {
   "cell_type": "markdown",
   "metadata": {},
   "source": [
    "**Explanation of nan**: \n",
    "\n",
    "From the results shown above, we note that when k = 1, the output error rate of mpg_high = 1 is nan, which means **all predicted values are 0**."
   ]
  },
  {
   "cell_type": "markdown",
   "metadata": {},
   "source": [
    "Next we will report the average MSE of the model and the average error rate of each category."
   ]
  },
  {
   "cell_type": "code",
   "execution_count": 66,
   "metadata": {},
   "outputs": [
    {
     "name": "stdout",
     "output_type": "stream",
     "text": [
      "The average error rate of mpg_high = 0 is 0.381194110709\n",
      "\n",
      "The average error rate of mpg_high = 1 is 0.184027777778\n",
      "\n",
      "The average MSE of the SVM model is 0.507653061224\n"
     ]
    }
   ],
   "source": [
    "SVMGeneral_error_0 = SVMGeneral_error_0[~np.isnan(SVMGeneral_error_0)]\n",
    "print('The average error rate of mpg_high = 0 is', SVMGeneral_error_0.mean())\n",
    "print()\n",
    "SVMGeneral_error_1 = SVMGeneral_error_1[~np.isnan(SVMGeneral_error_1)]\n",
    "print('The average error rate of mpg_high = 1 is', SVMGeneral_error_1.mean())\n",
    "print()\n",
    "print('The average MSE of the SVM model is', SVMGeneral_MSE.mean())"
   ]
  },
  {
   "cell_type": "markdown",
   "metadata": {},
   "source": [
    "According to the report shown above, we note that the error rate for category 0 is ** 0.381194110709 **, the error rate for category 1 is ** 0.184027777778 **, and the MSE of the SVM model is ** 0.507653061224 **."
   ]
  },
  {
   "cell_type": "markdown",
   "metadata": {},
   "source": [
    "#### Part ( D ) :  Which of the above three models is the best predictor of mpg_high ? "
   ]
  },
  {
   "cell_type": "markdown",
   "metadata": {},
   "source": [
    "**Answer:**"
   ]
  },
  {
   "cell_type": "markdown",
   "metadata": {},
   "source": [
    "We return back and take a look at the results of average model MSE, average error rate of each category again:"
   ]
  },
  {
   "cell_type": "markdown",
   "metadata": {},
   "source": [
    "For the Logistic regression model:\n",
    "\n",
    "The average error rate of mpg_high = 0 is 0.0947067070586\n",
    "\n",
    "The average error rate of mpg_high = 1 is 0.118226649127\n",
    "\n",
    "The average MSE of the logistic regression model is 0.107142857143"
   ]
  },
  {
   "cell_type": "markdown",
   "metadata": {},
   "source": [
    "For the random forest model:\n",
    "\n",
    "The average error rate of mpg_high = 0 is: 0.0578947368421\n",
    "\n",
    "The average error rate of mpg_high = 1 is: 0.0841584158416\n",
    "\n",
    "The average MSE of the random forest model is: 0.0714285714286"
   ]
  },
  {
   "cell_type": "markdown",
   "metadata": {},
   "source": [
    "For the SVM model:\n",
    "\n",
    "The average error rate of mpg_high = 0 is 0.381194110709\n",
    "\n",
    "The average error rate of mpg_high = 1 is 0.184027777778\n",
    "\n",
    "The average MSE of the SVM model is 0.507653061224\n"
   ]
  },
  {
   "cell_type": "markdown",
   "metadata": {},
   "source": [
    "From the results shown above, we can clearly note that, considering whatever the average model MSE or the average error rate of each category, the Random Forest model both has the lowest value among those three models. For error rate of each category of mpg_high, the lower the error rate has, the better results the prediction has. Thus, seems the random forest model is the best predictor of the mpg_high.\n",
    "\n",
    "While for the MSE values, we note that the MSEs in the random forest model are computed by OOB prediction while the two other models use the traditional cross-validation. If the sample size is not big enough, usually the MSE computed by OOB prediction will be smaller than the cross-validation method. Considering the sample size of our dataset is not that big, and the average MSE of logistic model is not far worse than that of the random forest model, thus comparing directly by average MSEs cannot tell us which model is better, but combine the error rate of each category and the average MSEs values, the **random forest model** seems still the best predictor of the mpg_high."
   ]
  }
 ],
 "metadata": {
  "kernelspec": {
   "display_name": "Python 3",
   "language": "python",
   "name": "python3"
  },
  "language_info": {
   "codemirror_mode": {
    "name": "ipython",
    "version": 3
   },
   "file_extension": ".py",
   "mimetype": "text/x-python",
   "name": "python",
   "nbconvert_exporter": "python",
   "pygments_lexer": "ipython3",
   "version": "3.6.3"
  }
 },
 "nbformat": 4,
 "nbformat_minor": 2
}
