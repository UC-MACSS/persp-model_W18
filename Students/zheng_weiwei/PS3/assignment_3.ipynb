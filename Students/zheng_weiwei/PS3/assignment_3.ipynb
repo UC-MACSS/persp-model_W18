{
 "cells": [
  {
   "cell_type": "markdown",
   "metadata": {},
   "source": [
    "# Problem Set #3\n",
    "## Name: Weiwei Zheng"
   ]
  },
  {
   "cell_type": "markdown",
   "metadata": {},
   "source": [
    "### Problem 1"
   ]
  },
  {
   "cell_type": "markdown",
   "metadata": {},
   "source": [
    "a) plot a histogram"
   ]
  },
  {
   "cell_type": "code",
   "execution_count": 36,
   "metadata": {
    "collapsed": true
   },
   "outputs": [],
   "source": [
    "# Import packages and load the data\n",
    "import numpy as np\n",
    "import numpy.linalg as lin\n",
    "import scipy.stats as sts\n",
    "import scipy.integrate as intgr\n",
    "import scipy.optimize as opt\n",
    "import matplotlib\n",
    "import matplotlib.pyplot as plt\n",
    "from mpl_toolkits.mplot3d import Axes3D\n",
    "from matplotlib import cm\n",
    "cmap1 = matplotlib.cm.get_cmap('summer') \n",
    "%matplotlib notebook\n",
    "\n",
    "income = np.loadtxt('incomes.txt')"
   ]
  },
  {
   "cell_type": "code",
   "execution_count": 37,
   "metadata": {},
   "outputs": [
    {
     "data": {
      "application/javascript": [
       "/* Put everything inside the global mpl namespace */\n",
       "window.mpl = {};\n",
       "\n",
       "\n",
       "mpl.get_websocket_type = function() {\n",
       "    if (typeof(WebSocket) !== 'undefined') {\n",
       "        return WebSocket;\n",
       "    } else if (typeof(MozWebSocket) !== 'undefined') {\n",
       "        return MozWebSocket;\n",
       "    } else {\n",
       "        alert('Your browser does not have WebSocket support.' +\n",
       "              'Please try Chrome, Safari or Firefox ≥ 6. ' +\n",
       "              'Firefox 4 and 5 are also supported but you ' +\n",
       "              'have to enable WebSockets in about:config.');\n",
       "    };\n",
       "}\n",
       "\n",
       "mpl.figure = function(figure_id, websocket, ondownload, parent_element) {\n",
       "    this.id = figure_id;\n",
       "\n",
       "    this.ws = websocket;\n",
       "\n",
       "    this.supports_binary = (this.ws.binaryType != undefined);\n",
       "\n",
       "    if (!this.supports_binary) {\n",
       "        var warnings = document.getElementById(\"mpl-warnings\");\n",
       "        if (warnings) {\n",
       "            warnings.style.display = 'block';\n",
       "            warnings.textContent = (\n",
       "                \"This browser does not support binary websocket messages. \" +\n",
       "                    \"Performance may be slow.\");\n",
       "        }\n",
       "    }\n",
       "\n",
       "    this.imageObj = new Image();\n",
       "\n",
       "    this.context = undefined;\n",
       "    this.message = undefined;\n",
       "    this.canvas = undefined;\n",
       "    this.rubberband_canvas = undefined;\n",
       "    this.rubberband_context = undefined;\n",
       "    this.format_dropdown = undefined;\n",
       "\n",
       "    this.image_mode = 'full';\n",
       "\n",
       "    this.root = $('<div/>');\n",
       "    this._root_extra_style(this.root)\n",
       "    this.root.attr('style', 'display: inline-block');\n",
       "\n",
       "    $(parent_element).append(this.root);\n",
       "\n",
       "    this._init_header(this);\n",
       "    this._init_canvas(this);\n",
       "    this._init_toolbar(this);\n",
       "\n",
       "    var fig = this;\n",
       "\n",
       "    this.waiting = false;\n",
       "\n",
       "    this.ws.onopen =  function () {\n",
       "            fig.send_message(\"supports_binary\", {value: fig.supports_binary});\n",
       "            fig.send_message(\"send_image_mode\", {});\n",
       "            if (mpl.ratio != 1) {\n",
       "                fig.send_message(\"set_dpi_ratio\", {'dpi_ratio': mpl.ratio});\n",
       "            }\n",
       "            fig.send_message(\"refresh\", {});\n",
       "        }\n",
       "\n",
       "    this.imageObj.onload = function() {\n",
       "            if (fig.image_mode == 'full') {\n",
       "                // Full images could contain transparency (where diff images\n",
       "                // almost always do), so we need to clear the canvas so that\n",
       "                // there is no ghosting.\n",
       "                fig.context.clearRect(0, 0, fig.canvas.width, fig.canvas.height);\n",
       "            }\n",
       "            fig.context.drawImage(fig.imageObj, 0, 0);\n",
       "        };\n",
       "\n",
       "    this.imageObj.onunload = function() {\n",
       "        this.ws.close();\n",
       "    }\n",
       "\n",
       "    this.ws.onmessage = this._make_on_message_function(this);\n",
       "\n",
       "    this.ondownload = ondownload;\n",
       "}\n",
       "\n",
       "mpl.figure.prototype._init_header = function() {\n",
       "    var titlebar = $(\n",
       "        '<div class=\"ui-dialog-titlebar ui-widget-header ui-corner-all ' +\n",
       "        'ui-helper-clearfix\"/>');\n",
       "    var titletext = $(\n",
       "        '<div class=\"ui-dialog-title\" style=\"width: 100%; ' +\n",
       "        'text-align: center; padding: 3px;\"/>');\n",
       "    titlebar.append(titletext)\n",
       "    this.root.append(titlebar);\n",
       "    this.header = titletext[0];\n",
       "}\n",
       "\n",
       "\n",
       "\n",
       "mpl.figure.prototype._canvas_extra_style = function(canvas_div) {\n",
       "\n",
       "}\n",
       "\n",
       "\n",
       "mpl.figure.prototype._root_extra_style = function(canvas_div) {\n",
       "\n",
       "}\n",
       "\n",
       "mpl.figure.prototype._init_canvas = function() {\n",
       "    var fig = this;\n",
       "\n",
       "    var canvas_div = $('<div/>');\n",
       "\n",
       "    canvas_div.attr('style', 'position: relative; clear: both; outline: 0');\n",
       "\n",
       "    function canvas_keyboard_event(event) {\n",
       "        return fig.key_event(event, event['data']);\n",
       "    }\n",
       "\n",
       "    canvas_div.keydown('key_press', canvas_keyboard_event);\n",
       "    canvas_div.keyup('key_release', canvas_keyboard_event);\n",
       "    this.canvas_div = canvas_div\n",
       "    this._canvas_extra_style(canvas_div)\n",
       "    this.root.append(canvas_div);\n",
       "\n",
       "    var canvas = $('<canvas/>');\n",
       "    canvas.addClass('mpl-canvas');\n",
       "    canvas.attr('style', \"left: 0; top: 0; z-index: 0; outline: 0\")\n",
       "\n",
       "    this.canvas = canvas[0];\n",
       "    this.context = canvas[0].getContext(\"2d\");\n",
       "\n",
       "    var backingStore = this.context.backingStorePixelRatio ||\n",
       "\tthis.context.webkitBackingStorePixelRatio ||\n",
       "\tthis.context.mozBackingStorePixelRatio ||\n",
       "\tthis.context.msBackingStorePixelRatio ||\n",
       "\tthis.context.oBackingStorePixelRatio ||\n",
       "\tthis.context.backingStorePixelRatio || 1;\n",
       "\n",
       "    mpl.ratio = (window.devicePixelRatio || 1) / backingStore;\n",
       "\n",
       "    var rubberband = $('<canvas/>');\n",
       "    rubberband.attr('style', \"position: absolute; left: 0; top: 0; z-index: 1;\")\n",
       "\n",
       "    var pass_mouse_events = true;\n",
       "\n",
       "    canvas_div.resizable({\n",
       "        start: function(event, ui) {\n",
       "            pass_mouse_events = false;\n",
       "        },\n",
       "        resize: function(event, ui) {\n",
       "            fig.request_resize(ui.size.width, ui.size.height);\n",
       "        },\n",
       "        stop: function(event, ui) {\n",
       "            pass_mouse_events = true;\n",
       "            fig.request_resize(ui.size.width, ui.size.height);\n",
       "        },\n",
       "    });\n",
       "\n",
       "    function mouse_event_fn(event) {\n",
       "        if (pass_mouse_events)\n",
       "            return fig.mouse_event(event, event['data']);\n",
       "    }\n",
       "\n",
       "    rubberband.mousedown('button_press', mouse_event_fn);\n",
       "    rubberband.mouseup('button_release', mouse_event_fn);\n",
       "    // Throttle sequential mouse events to 1 every 20ms.\n",
       "    rubberband.mousemove('motion_notify', mouse_event_fn);\n",
       "\n",
       "    rubberband.mouseenter('figure_enter', mouse_event_fn);\n",
       "    rubberband.mouseleave('figure_leave', mouse_event_fn);\n",
       "\n",
       "    canvas_div.on(\"wheel\", function (event) {\n",
       "        event = event.originalEvent;\n",
       "        event['data'] = 'scroll'\n",
       "        if (event.deltaY < 0) {\n",
       "            event.step = 1;\n",
       "        } else {\n",
       "            event.step = -1;\n",
       "        }\n",
       "        mouse_event_fn(event);\n",
       "    });\n",
       "\n",
       "    canvas_div.append(canvas);\n",
       "    canvas_div.append(rubberband);\n",
       "\n",
       "    this.rubberband = rubberband;\n",
       "    this.rubberband_canvas = rubberband[0];\n",
       "    this.rubberband_context = rubberband[0].getContext(\"2d\");\n",
       "    this.rubberband_context.strokeStyle = \"#000000\";\n",
       "\n",
       "    this._resize_canvas = function(width, height) {\n",
       "        // Keep the size of the canvas, canvas container, and rubber band\n",
       "        // canvas in synch.\n",
       "        canvas_div.css('width', width)\n",
       "        canvas_div.css('height', height)\n",
       "\n",
       "        canvas.attr('width', width * mpl.ratio);\n",
       "        canvas.attr('height', height * mpl.ratio);\n",
       "        canvas.attr('style', 'width: ' + width + 'px; height: ' + height + 'px;');\n",
       "\n",
       "        rubberband.attr('width', width);\n",
       "        rubberband.attr('height', height);\n",
       "    }\n",
       "\n",
       "    // Set the figure to an initial 600x600px, this will subsequently be updated\n",
       "    // upon first draw.\n",
       "    this._resize_canvas(600, 600);\n",
       "\n",
       "    // Disable right mouse context menu.\n",
       "    $(this.rubberband_canvas).bind(\"contextmenu\",function(e){\n",
       "        return false;\n",
       "    });\n",
       "\n",
       "    function set_focus () {\n",
       "        canvas.focus();\n",
       "        canvas_div.focus();\n",
       "    }\n",
       "\n",
       "    window.setTimeout(set_focus, 100);\n",
       "}\n",
       "\n",
       "mpl.figure.prototype._init_toolbar = function() {\n",
       "    var fig = this;\n",
       "\n",
       "    var nav_element = $('<div/>')\n",
       "    nav_element.attr('style', 'width: 100%');\n",
       "    this.root.append(nav_element);\n",
       "\n",
       "    // Define a callback function for later on.\n",
       "    function toolbar_event(event) {\n",
       "        return fig.toolbar_button_onclick(event['data']);\n",
       "    }\n",
       "    function toolbar_mouse_event(event) {\n",
       "        return fig.toolbar_button_onmouseover(event['data']);\n",
       "    }\n",
       "\n",
       "    for(var toolbar_ind in mpl.toolbar_items) {\n",
       "        var name = mpl.toolbar_items[toolbar_ind][0];\n",
       "        var tooltip = mpl.toolbar_items[toolbar_ind][1];\n",
       "        var image = mpl.toolbar_items[toolbar_ind][2];\n",
       "        var method_name = mpl.toolbar_items[toolbar_ind][3];\n",
       "\n",
       "        if (!name) {\n",
       "            // put a spacer in here.\n",
       "            continue;\n",
       "        }\n",
       "        var button = $('<button/>');\n",
       "        button.addClass('ui-button ui-widget ui-state-default ui-corner-all ' +\n",
       "                        'ui-button-icon-only');\n",
       "        button.attr('role', 'button');\n",
       "        button.attr('aria-disabled', 'false');\n",
       "        button.click(method_name, toolbar_event);\n",
       "        button.mouseover(tooltip, toolbar_mouse_event);\n",
       "\n",
       "        var icon_img = $('<span/>');\n",
       "        icon_img.addClass('ui-button-icon-primary ui-icon');\n",
       "        icon_img.addClass(image);\n",
       "        icon_img.addClass('ui-corner-all');\n",
       "\n",
       "        var tooltip_span = $('<span/>');\n",
       "        tooltip_span.addClass('ui-button-text');\n",
       "        tooltip_span.html(tooltip);\n",
       "\n",
       "        button.append(icon_img);\n",
       "        button.append(tooltip_span);\n",
       "\n",
       "        nav_element.append(button);\n",
       "    }\n",
       "\n",
       "    var fmt_picker_span = $('<span/>');\n",
       "\n",
       "    var fmt_picker = $('<select/>');\n",
       "    fmt_picker.addClass('mpl-toolbar-option ui-widget ui-widget-content');\n",
       "    fmt_picker_span.append(fmt_picker);\n",
       "    nav_element.append(fmt_picker_span);\n",
       "    this.format_dropdown = fmt_picker[0];\n",
       "\n",
       "    for (var ind in mpl.extensions) {\n",
       "        var fmt = mpl.extensions[ind];\n",
       "        var option = $(\n",
       "            '<option/>', {selected: fmt === mpl.default_extension}).html(fmt);\n",
       "        fmt_picker.append(option)\n",
       "    }\n",
       "\n",
       "    // Add hover states to the ui-buttons\n",
       "    $( \".ui-button\" ).hover(\n",
       "        function() { $(this).addClass(\"ui-state-hover\");},\n",
       "        function() { $(this).removeClass(\"ui-state-hover\");}\n",
       "    );\n",
       "\n",
       "    var status_bar = $('<span class=\"mpl-message\"/>');\n",
       "    nav_element.append(status_bar);\n",
       "    this.message = status_bar[0];\n",
       "}\n",
       "\n",
       "mpl.figure.prototype.request_resize = function(x_pixels, y_pixels) {\n",
       "    // Request matplotlib to resize the figure. Matplotlib will then trigger a resize in the client,\n",
       "    // which will in turn request a refresh of the image.\n",
       "    this.send_message('resize', {'width': x_pixels, 'height': y_pixels});\n",
       "}\n",
       "\n",
       "mpl.figure.prototype.send_message = function(type, properties) {\n",
       "    properties['type'] = type;\n",
       "    properties['figure_id'] = this.id;\n",
       "    this.ws.send(JSON.stringify(properties));\n",
       "}\n",
       "\n",
       "mpl.figure.prototype.send_draw_message = function() {\n",
       "    if (!this.waiting) {\n",
       "        this.waiting = true;\n",
       "        this.ws.send(JSON.stringify({type: \"draw\", figure_id: this.id}));\n",
       "    }\n",
       "}\n",
       "\n",
       "\n",
       "mpl.figure.prototype.handle_save = function(fig, msg) {\n",
       "    var format_dropdown = fig.format_dropdown;\n",
       "    var format = format_dropdown.options[format_dropdown.selectedIndex].value;\n",
       "    fig.ondownload(fig, format);\n",
       "}\n",
       "\n",
       "\n",
       "mpl.figure.prototype.handle_resize = function(fig, msg) {\n",
       "    var size = msg['size'];\n",
       "    if (size[0] != fig.canvas.width || size[1] != fig.canvas.height) {\n",
       "        fig._resize_canvas(size[0], size[1]);\n",
       "        fig.send_message(\"refresh\", {});\n",
       "    };\n",
       "}\n",
       "\n",
       "mpl.figure.prototype.handle_rubberband = function(fig, msg) {\n",
       "    var x0 = msg['x0'] / mpl.ratio;\n",
       "    var y0 = (fig.canvas.height - msg['y0']) / mpl.ratio;\n",
       "    var x1 = msg['x1'] / mpl.ratio;\n",
       "    var y1 = (fig.canvas.height - msg['y1']) / mpl.ratio;\n",
       "    x0 = Math.floor(x0) + 0.5;\n",
       "    y0 = Math.floor(y0) + 0.5;\n",
       "    x1 = Math.floor(x1) + 0.5;\n",
       "    y1 = Math.floor(y1) + 0.5;\n",
       "    var min_x = Math.min(x0, x1);\n",
       "    var min_y = Math.min(y0, y1);\n",
       "    var width = Math.abs(x1 - x0);\n",
       "    var height = Math.abs(y1 - y0);\n",
       "\n",
       "    fig.rubberband_context.clearRect(\n",
       "        0, 0, fig.canvas.width, fig.canvas.height);\n",
       "\n",
       "    fig.rubberband_context.strokeRect(min_x, min_y, width, height);\n",
       "}\n",
       "\n",
       "mpl.figure.prototype.handle_figure_label = function(fig, msg) {\n",
       "    // Updates the figure title.\n",
       "    fig.header.textContent = msg['label'];\n",
       "}\n",
       "\n",
       "mpl.figure.prototype.handle_cursor = function(fig, msg) {\n",
       "    var cursor = msg['cursor'];\n",
       "    switch(cursor)\n",
       "    {\n",
       "    case 0:\n",
       "        cursor = 'pointer';\n",
       "        break;\n",
       "    case 1:\n",
       "        cursor = 'default';\n",
       "        break;\n",
       "    case 2:\n",
       "        cursor = 'crosshair';\n",
       "        break;\n",
       "    case 3:\n",
       "        cursor = 'move';\n",
       "        break;\n",
       "    }\n",
       "    fig.rubberband_canvas.style.cursor = cursor;\n",
       "}\n",
       "\n",
       "mpl.figure.prototype.handle_message = function(fig, msg) {\n",
       "    fig.message.textContent = msg['message'];\n",
       "}\n",
       "\n",
       "mpl.figure.prototype.handle_draw = function(fig, msg) {\n",
       "    // Request the server to send over a new figure.\n",
       "    fig.send_draw_message();\n",
       "}\n",
       "\n",
       "mpl.figure.prototype.handle_image_mode = function(fig, msg) {\n",
       "    fig.image_mode = msg['mode'];\n",
       "}\n",
       "\n",
       "mpl.figure.prototype.updated_canvas_event = function() {\n",
       "    // Called whenever the canvas gets updated.\n",
       "    this.send_message(\"ack\", {});\n",
       "}\n",
       "\n",
       "// A function to construct a web socket function for onmessage handling.\n",
       "// Called in the figure constructor.\n",
       "mpl.figure.prototype._make_on_message_function = function(fig) {\n",
       "    return function socket_on_message(evt) {\n",
       "        if (evt.data instanceof Blob) {\n",
       "            /* FIXME: We get \"Resource interpreted as Image but\n",
       "             * transferred with MIME type text/plain:\" errors on\n",
       "             * Chrome.  But how to set the MIME type?  It doesn't seem\n",
       "             * to be part of the websocket stream */\n",
       "            evt.data.type = \"image/png\";\n",
       "\n",
       "            /* Free the memory for the previous frames */\n",
       "            if (fig.imageObj.src) {\n",
       "                (window.URL || window.webkitURL).revokeObjectURL(\n",
       "                    fig.imageObj.src);\n",
       "            }\n",
       "\n",
       "            fig.imageObj.src = (window.URL || window.webkitURL).createObjectURL(\n",
       "                evt.data);\n",
       "            fig.updated_canvas_event();\n",
       "            fig.waiting = false;\n",
       "            return;\n",
       "        }\n",
       "        else if (typeof evt.data === 'string' && evt.data.slice(0, 21) == \"data:image/png;base64\") {\n",
       "            fig.imageObj.src = evt.data;\n",
       "            fig.updated_canvas_event();\n",
       "            fig.waiting = false;\n",
       "            return;\n",
       "        }\n",
       "\n",
       "        var msg = JSON.parse(evt.data);\n",
       "        var msg_type = msg['type'];\n",
       "\n",
       "        // Call the  \"handle_{type}\" callback, which takes\n",
       "        // the figure and JSON message as its only arguments.\n",
       "        try {\n",
       "            var callback = fig[\"handle_\" + msg_type];\n",
       "        } catch (e) {\n",
       "            console.log(\"No handler for the '\" + msg_type + \"' message type: \", msg);\n",
       "            return;\n",
       "        }\n",
       "\n",
       "        if (callback) {\n",
       "            try {\n",
       "                // console.log(\"Handling '\" + msg_type + \"' message: \", msg);\n",
       "                callback(fig, msg);\n",
       "            } catch (e) {\n",
       "                console.log(\"Exception inside the 'handler_\" + msg_type + \"' callback:\", e, e.stack, msg);\n",
       "            }\n",
       "        }\n",
       "    };\n",
       "}\n",
       "\n",
       "// from http://stackoverflow.com/questions/1114465/getting-mouse-location-in-canvas\n",
       "mpl.findpos = function(e) {\n",
       "    //this section is from http://www.quirksmode.org/js/events_properties.html\n",
       "    var targ;\n",
       "    if (!e)\n",
       "        e = window.event;\n",
       "    if (e.target)\n",
       "        targ = e.target;\n",
       "    else if (e.srcElement)\n",
       "        targ = e.srcElement;\n",
       "    if (targ.nodeType == 3) // defeat Safari bug\n",
       "        targ = targ.parentNode;\n",
       "\n",
       "    // jQuery normalizes the pageX and pageY\n",
       "    // pageX,Y are the mouse positions relative to the document\n",
       "    // offset() returns the position of the element relative to the document\n",
       "    var x = e.pageX - $(targ).offset().left;\n",
       "    var y = e.pageY - $(targ).offset().top;\n",
       "\n",
       "    return {\"x\": x, \"y\": y};\n",
       "};\n",
       "\n",
       "/*\n",
       " * return a copy of an object with only non-object keys\n",
       " * we need this to avoid circular references\n",
       " * http://stackoverflow.com/a/24161582/3208463\n",
       " */\n",
       "function simpleKeys (original) {\n",
       "  return Object.keys(original).reduce(function (obj, key) {\n",
       "    if (typeof original[key] !== 'object')\n",
       "        obj[key] = original[key]\n",
       "    return obj;\n",
       "  }, {});\n",
       "}\n",
       "\n",
       "mpl.figure.prototype.mouse_event = function(event, name) {\n",
       "    var canvas_pos = mpl.findpos(event)\n",
       "\n",
       "    if (name === 'button_press')\n",
       "    {\n",
       "        this.canvas.focus();\n",
       "        this.canvas_div.focus();\n",
       "    }\n",
       "\n",
       "    var x = canvas_pos.x * mpl.ratio;\n",
       "    var y = canvas_pos.y * mpl.ratio;\n",
       "\n",
       "    this.send_message(name, {x: x, y: y, button: event.button,\n",
       "                             step: event.step,\n",
       "                             guiEvent: simpleKeys(event)});\n",
       "\n",
       "    /* This prevents the web browser from automatically changing to\n",
       "     * the text insertion cursor when the button is pressed.  We want\n",
       "     * to control all of the cursor setting manually through the\n",
       "     * 'cursor' event from matplotlib */\n",
       "    event.preventDefault();\n",
       "    return false;\n",
       "}\n",
       "\n",
       "mpl.figure.prototype._key_event_extra = function(event, name) {\n",
       "    // Handle any extra behaviour associated with a key event\n",
       "}\n",
       "\n",
       "mpl.figure.prototype.key_event = function(event, name) {\n",
       "\n",
       "    // Prevent repeat events\n",
       "    if (name == 'key_press')\n",
       "    {\n",
       "        if (event.which === this._key)\n",
       "            return;\n",
       "        else\n",
       "            this._key = event.which;\n",
       "    }\n",
       "    if (name == 'key_release')\n",
       "        this._key = null;\n",
       "\n",
       "    var value = '';\n",
       "    if (event.ctrlKey && event.which != 17)\n",
       "        value += \"ctrl+\";\n",
       "    if (event.altKey && event.which != 18)\n",
       "        value += \"alt+\";\n",
       "    if (event.shiftKey && event.which != 16)\n",
       "        value += \"shift+\";\n",
       "\n",
       "    value += 'k';\n",
       "    value += event.which.toString();\n",
       "\n",
       "    this._key_event_extra(event, name);\n",
       "\n",
       "    this.send_message(name, {key: value,\n",
       "                             guiEvent: simpleKeys(event)});\n",
       "    return false;\n",
       "}\n",
       "\n",
       "mpl.figure.prototype.toolbar_button_onclick = function(name) {\n",
       "    if (name == 'download') {\n",
       "        this.handle_save(this, null);\n",
       "    } else {\n",
       "        this.send_message(\"toolbar_button\", {name: name});\n",
       "    }\n",
       "};\n",
       "\n",
       "mpl.figure.prototype.toolbar_button_onmouseover = function(tooltip) {\n",
       "    this.message.textContent = tooltip;\n",
       "};\n",
       "mpl.toolbar_items = [[\"Home\", \"Reset original view\", \"fa fa-home icon-home\", \"home\"], [\"Back\", \"Back to  previous view\", \"fa fa-arrow-left icon-arrow-left\", \"back\"], [\"Forward\", \"Forward to next view\", \"fa fa-arrow-right icon-arrow-right\", \"forward\"], [\"\", \"\", \"\", \"\"], [\"Pan\", \"Pan axes with left mouse, zoom with right\", \"fa fa-arrows icon-move\", \"pan\"], [\"Zoom\", \"Zoom to rectangle\", \"fa fa-square-o icon-check-empty\", \"zoom\"], [\"\", \"\", \"\", \"\"], [\"Download\", \"Download plot\", \"fa fa-floppy-o icon-save\", \"download\"]];\n",
       "\n",
       "mpl.extensions = [\"eps\", \"jpeg\", \"pdf\", \"png\", \"ps\", \"raw\", \"svg\", \"tif\"];\n",
       "\n",
       "mpl.default_extension = \"png\";var comm_websocket_adapter = function(comm) {\n",
       "    // Create a \"websocket\"-like object which calls the given IPython comm\n",
       "    // object with the appropriate methods. Currently this is a non binary\n",
       "    // socket, so there is still some room for performance tuning.\n",
       "    var ws = {};\n",
       "\n",
       "    ws.close = function() {\n",
       "        comm.close()\n",
       "    };\n",
       "    ws.send = function(m) {\n",
       "        //console.log('sending', m);\n",
       "        comm.send(m);\n",
       "    };\n",
       "    // Register the callback with on_msg.\n",
       "    comm.on_msg(function(msg) {\n",
       "        //console.log('receiving', msg['content']['data'], msg);\n",
       "        // Pass the mpl event to the overriden (by mpl) onmessage function.\n",
       "        ws.onmessage(msg['content']['data'])\n",
       "    });\n",
       "    return ws;\n",
       "}\n",
       "\n",
       "mpl.mpl_figure_comm = function(comm, msg) {\n",
       "    // This is the function which gets called when the mpl process\n",
       "    // starts-up an IPython Comm through the \"matplotlib\" channel.\n",
       "\n",
       "    var id = msg.content.data.id;\n",
       "    // Get hold of the div created by the display call when the Comm\n",
       "    // socket was opened in Python.\n",
       "    var element = $(\"#\" + id);\n",
       "    var ws_proxy = comm_websocket_adapter(comm)\n",
       "\n",
       "    function ondownload(figure, format) {\n",
       "        window.open(figure.imageObj.src);\n",
       "    }\n",
       "\n",
       "    var fig = new mpl.figure(id, ws_proxy,\n",
       "                           ondownload,\n",
       "                           element.get(0));\n",
       "\n",
       "    // Call onopen now - mpl needs it, as it is assuming we've passed it a real\n",
       "    // web socket which is closed, not our websocket->open comm proxy.\n",
       "    ws_proxy.onopen();\n",
       "\n",
       "    fig.parent_element = element.get(0);\n",
       "    fig.cell_info = mpl.find_output_cell(\"<div id='\" + id + \"'></div>\");\n",
       "    if (!fig.cell_info) {\n",
       "        console.error(\"Failed to find cell for figure\", id, fig);\n",
       "        return;\n",
       "    }\n",
       "\n",
       "    var output_index = fig.cell_info[2]\n",
       "    var cell = fig.cell_info[0];\n",
       "\n",
       "};\n",
       "\n",
       "mpl.figure.prototype.handle_close = function(fig, msg) {\n",
       "    var width = fig.canvas.width/mpl.ratio\n",
       "    fig.root.unbind('remove')\n",
       "\n",
       "    // Update the output cell to use the data from the current canvas.\n",
       "    fig.push_to_output();\n",
       "    var dataURL = fig.canvas.toDataURL();\n",
       "    // Re-enable the keyboard manager in IPython - without this line, in FF,\n",
       "    // the notebook keyboard shortcuts fail.\n",
       "    IPython.keyboard_manager.enable()\n",
       "    $(fig.parent_element).html('<img src=\"' + dataURL + '\" width=\"' + width + '\">');\n",
       "    fig.close_ws(fig, msg);\n",
       "}\n",
       "\n",
       "mpl.figure.prototype.close_ws = function(fig, msg){\n",
       "    fig.send_message('closing', msg);\n",
       "    // fig.ws.close()\n",
       "}\n",
       "\n",
       "mpl.figure.prototype.push_to_output = function(remove_interactive) {\n",
       "    // Turn the data on the canvas into data in the output cell.\n",
       "    var width = this.canvas.width/mpl.ratio\n",
       "    var dataURL = this.canvas.toDataURL();\n",
       "    this.cell_info[1]['text/html'] = '<img src=\"' + dataURL + '\" width=\"' + width + '\">';\n",
       "}\n",
       "\n",
       "mpl.figure.prototype.updated_canvas_event = function() {\n",
       "    // Tell IPython that the notebook contents must change.\n",
       "    IPython.notebook.set_dirty(true);\n",
       "    this.send_message(\"ack\", {});\n",
       "    var fig = this;\n",
       "    // Wait a second, then push the new image to the DOM so\n",
       "    // that it is saved nicely (might be nice to debounce this).\n",
       "    setTimeout(function () { fig.push_to_output() }, 1000);\n",
       "}\n",
       "\n",
       "mpl.figure.prototype._init_toolbar = function() {\n",
       "    var fig = this;\n",
       "\n",
       "    var nav_element = $('<div/>')\n",
       "    nav_element.attr('style', 'width: 100%');\n",
       "    this.root.append(nav_element);\n",
       "\n",
       "    // Define a callback function for later on.\n",
       "    function toolbar_event(event) {\n",
       "        return fig.toolbar_button_onclick(event['data']);\n",
       "    }\n",
       "    function toolbar_mouse_event(event) {\n",
       "        return fig.toolbar_button_onmouseover(event['data']);\n",
       "    }\n",
       "\n",
       "    for(var toolbar_ind in mpl.toolbar_items){\n",
       "        var name = mpl.toolbar_items[toolbar_ind][0];\n",
       "        var tooltip = mpl.toolbar_items[toolbar_ind][1];\n",
       "        var image = mpl.toolbar_items[toolbar_ind][2];\n",
       "        var method_name = mpl.toolbar_items[toolbar_ind][3];\n",
       "\n",
       "        if (!name) { continue; };\n",
       "\n",
       "        var button = $('<button class=\"btn btn-default\" href=\"#\" title=\"' + name + '\"><i class=\"fa ' + image + ' fa-lg\"></i></button>');\n",
       "        button.click(method_name, toolbar_event);\n",
       "        button.mouseover(tooltip, toolbar_mouse_event);\n",
       "        nav_element.append(button);\n",
       "    }\n",
       "\n",
       "    // Add the status bar.\n",
       "    var status_bar = $('<span class=\"mpl-message\" style=\"text-align:right; float: right;\"/>');\n",
       "    nav_element.append(status_bar);\n",
       "    this.message = status_bar[0];\n",
       "\n",
       "    // Add the close button to the window.\n",
       "    var buttongrp = $('<div class=\"btn-group inline pull-right\"></div>');\n",
       "    var button = $('<button class=\"btn btn-mini btn-primary\" href=\"#\" title=\"Stop Interaction\"><i class=\"fa fa-power-off icon-remove icon-large\"></i></button>');\n",
       "    button.click(function (evt) { fig.handle_close(fig, {}); } );\n",
       "    button.mouseover('Stop Interaction', toolbar_mouse_event);\n",
       "    buttongrp.append(button);\n",
       "    var titlebar = this.root.find($('.ui-dialog-titlebar'));\n",
       "    titlebar.prepend(buttongrp);\n",
       "}\n",
       "\n",
       "mpl.figure.prototype._root_extra_style = function(el){\n",
       "    var fig = this\n",
       "    el.on(\"remove\", function(){\n",
       "\tfig.close_ws(fig, {});\n",
       "    });\n",
       "}\n",
       "\n",
       "mpl.figure.prototype._canvas_extra_style = function(el){\n",
       "    // this is important to make the div 'focusable\n",
       "    el.attr('tabindex', 0)\n",
       "    // reach out to IPython and tell the keyboard manager to turn it's self\n",
       "    // off when our div gets focus\n",
       "\n",
       "    // location in version 3\n",
       "    if (IPython.notebook.keyboard_manager) {\n",
       "        IPython.notebook.keyboard_manager.register_events(el);\n",
       "    }\n",
       "    else {\n",
       "        // location in version 2\n",
       "        IPython.keyboard_manager.register_events(el);\n",
       "    }\n",
       "\n",
       "}\n",
       "\n",
       "mpl.figure.prototype._key_event_extra = function(event, name) {\n",
       "    var manager = IPython.notebook.keyboard_manager;\n",
       "    if (!manager)\n",
       "        manager = IPython.keyboard_manager;\n",
       "\n",
       "    // Check for shift+enter\n",
       "    if (event.shiftKey && event.which == 13) {\n",
       "        this.canvas_div.blur();\n",
       "        // select the cell after this one\n",
       "        var index = IPython.notebook.find_cell_index(this.cell_info[0]);\n",
       "        IPython.notebook.select(index + 1);\n",
       "    }\n",
       "}\n",
       "\n",
       "mpl.figure.prototype.handle_save = function(fig, msg) {\n",
       "    fig.ondownload(fig, null);\n",
       "}\n",
       "\n",
       "\n",
       "mpl.find_output_cell = function(html_output) {\n",
       "    // Return the cell and output element which can be found *uniquely* in the notebook.\n",
       "    // Note - this is a bit hacky, but it is done because the \"notebook_saving.Notebook\"\n",
       "    // IPython event is triggered only after the cells have been serialised, which for\n",
       "    // our purposes (turning an active figure into a static one), is too late.\n",
       "    var cells = IPython.notebook.get_cells();\n",
       "    var ncells = cells.length;\n",
       "    for (var i=0; i<ncells; i++) {\n",
       "        var cell = cells[i];\n",
       "        if (cell.cell_type === 'code'){\n",
       "            for (var j=0; j<cell.output_area.outputs.length; j++) {\n",
       "                var data = cell.output_area.outputs[j];\n",
       "                if (data.data) {\n",
       "                    // IPython >= 3 moved mimebundle to data attribute of output\n",
       "                    data = data.data;\n",
       "                }\n",
       "                if (data['text/html'] == html_output) {\n",
       "                    return [cell, data, j];\n",
       "                }\n",
       "            }\n",
       "        }\n",
       "    }\n",
       "}\n",
       "\n",
       "// Register the function which deals with the matplotlib target/channel.\n",
       "// The kernel may be null if the page has been refreshed.\n",
       "if (IPython.notebook.kernel != null) {\n",
       "    IPython.notebook.kernel.comm_manager.register_target('matplotlib', mpl.mpl_figure_comm);\n",
       "}\n"
      ],
      "text/plain": [
       "<IPython.core.display.Javascript object>"
      ]
     },
     "metadata": {},
     "output_type": "display_data"
    },
    {
     "data": {
      "text/html": [
       "<img src=\"data:image/png;base64,iVBORw0KGgoAAAANSUhEUgAAAroAAAILCAYAAAAHaz/JAAAgAElEQVR4nOydfXgU1dn/v8mGhCRIJFCIAZoYCpWmIlVrxTyUgECeaJUfmvpQBQmK0qoVAa3QqkmhUJFKWqX1hVJBqhDeiYgiNKxAlboghvISJMpLBAkvBgKRkIR8f39MdvfMZnZ3dvMygb0/13UuyDn3uefMnNmZ75y5zxlAEARBEARBEARBEARBEARBEARBEARBEARBEARBEARBEARBEARBEARBEARBEARBEARBEARBEARBEARBEARBEARBEARBEARBEARBEARBEARBEARBEARBEARBEARBEARBEARBEARBEARBEARBEARBEARBEARBEARBEARBEARBEARBEARBEARBEARBEARBEARBEARBEARBEARBEARBEARBEARBEARBEARBEARBEARBEARBEARBEARBEARBEARBEARBEARBEARBEARBEARBEARBEARBEARBEARBEARBEARBEARBEARBEARBEARBEARBEARBEARBEARBEAShpUkHwPqUa2lLhECxw913giAIgtDqoUeaG0DdKQb1kwOo/7BH3ZEB1DWiC4BHACwH8DmAUwBq6v/dBWABgFEA2pnw1RvA8wD+DeAEgGoAVQCOAdgKYB6AXwL4XiPbHIqk49IUuldCa28ugP9naUsCZz60432wkX7sEKEraEQAGARgOoB/ATgC4AKASgAHACwD8AsAbQL02w3AHwAUASiv97cf2r3pJpM+YgD0A/BraOf+LgC1cJ+72QG2CQCuBfBnANvr21UD4AyAPfXbGBKET1+05uPbHcBDAP4J4L/QjkMNgJPQ7o8zAfQMsF0AcDeAVQAOQ7vflgHYDOBxaH0qCEHhKVTPwPwJVWxQPzmAbW/1qFsYQF2VdgBmA/jWoD1G6Ry0i0d7A19tALwM4KJJXwSQGWS7Q5V0XJpCNxnuds+3tCWBMx8idIWm46fQRI2Z6+NuANeZ9HsPtHuQN18XoYkof5zy06Zsk+0BgHBo9xcz94T3oT0QN5bWfHyXAagz0a5aADOgHT9/xEE7dr78fQ7tYUMQAsZ5EtUo/zczsnqLl7rJJrfbGw1P5DoAV5tvOgAgBdoTpernU2g/1ocB/Bzak+cfAPwH+ovVEwb+lnq0Zx2A30B7cr4HwK8A/A3aCIHT7mcBtjnUSYcI3ZZmPppG6AoCAIyA+7dwGpr4eRLadfI+ALMAHFdsvgFwjR+fGdDfS1YCGAvtLdxfoR/ImObH12no7wmHAHyt/J1tcj8B4EUPXwUAJkI7Bo8DWAT9aPFmmBN3vmjNx1cd4PoU2vEZC+1e+2to90z1eL3ip11toA1yOe2PAMip39cnoI2gq2Xd/fgThAY4T6CD0F5lEMAGE/Xm1tuegPZ6P1Ch+yelzj+U/0813XIgHsCXSt29AAb4qdML2usWI6E7DPoLx/+Y8PWCCTtBTzpE6LY08yFCV2g6RkAbSRwFINqLTTyATXD/Zjb68BcNoFSxfdjA5gYAZ+EeefQ1urcAwO+gibtO9XnzFf/ZPuqqJME9OFILYKgXu+uVthHAnSb9e6M1H98iaOL1B37ar4p/X/flXyt2RXD3lxMbgIWKzVIfvgTBEFXoToD7JP+ujzoxcL/++DP0rzOTTWwzAlqsKwEcBRAL9xP4YZh/Gl6tbNcBoIPJeoAmakd75Kmjub8KwJcQGOkQodvSzIcIXaHpiIO563QXaDGgzt+Ntzd2qthZ4cPf4whe8MxX6mabrDNWqbPEj606ePOnANvmSWs+vmbvs+pI+HwvNqoWqIP3EIwYAF8p/n5osg2CAEAvdL8DbdIVATzjo84opV5fBC50/59iP6s+73Ulz9tTs8pPFPtzAHqYqOMPNQSidxP4C4RwAGOgPZWfhPYaqQTAq3A/Oecq7Us38JGulOfW530P2gVnN9wPJ54j2b2gvRZbXb/NSmjnQRm0SRCTAFwRwL78D4DF0F4zVUEbSVgF4H99tFMlGf4vkCpOW7sPm8bso9oefyndi49oAI8CeA/aBbsK2kSQz6D9Bsy8jkuA9krv39DOEedkmC/q856v377RDXI+mkbo2uHeVyOylfLs+rzvQ3s1WgLgPLS3JZuhhRTZTG7XBuBeaOfVl9B+8xegnWMfQJsYm+THxyBox6Gkvn5l/f/fADDQRBs8z7P29dt1Tk46A+2B+5doOEHoarh/h+egPdhvBHCXie066QDg6fp6X0M7f09BC8nKAdAxAF8tyXvwP9K5RbHp78NXLNyjjufr/zbLfDQ8N/3xW6XOdD+26uTqVwNoV2NpLcfXE/Ue/akXm8GKzb/8+HtOsQ3kza8g6IQu4B4l3e+jjjOeZkf933bFT7KJbb6j2Dtfj6QpeYtN+Fis2P/VhL0Z9ig+f9pEPs3QHsCHyrY903lo8Uq5Sl66gZ90pTwXWiyX+rTvTKrQvc/HdtV0DNosZn9Mh++JCi8btNOTZKV8volt+hO6jd3HZJP1vfXLrdDeXPiqVwXgQR/7mAmgwmQbPF/9AdYJ3VHwPUl0LYBIP9v8EYB9Pnw40wEv9WOgrcTir/4SeH9NDMXODk287/ezX1H19e6A/rW2Z/qjn/0HNJFf7qf9pwHc7sePap9sYrtNwRJlm/9nUN4e7vCAM/D/8LNW8XdbAO2Yr9TLNlnnQaVOvh/bWYrtrwNoV2NpLcfXkx8ofvZ6sVGP2ZN+/N2k2H7SiHYJIYjzxDlY/7c62moUe5oMt5AZX59nh/mLZwLcAfE7PMqcN44q+H49Egb9jFSzS6L4o0DxuayJfPojDNqTrHqzehGaOLsf2kj3hfqkhmqkG/hKV8o/gDbicwFaDPQD0OKmnoW2hIuTsdD6czuAPADjoE26GwFt9EgV4N/A96jZU4ptHbQbw4PQRPrzcPfZCsUu18BPslI+38f2nKgCxIjG7mMMtN+FOmJTWJ/nmTxF5s/gPt8vAlgD7UHjHmihM69DLwSNJoImQi+U7NCO9ah6P49AmyDpFIOtReguhhandxrAX+rb+wto4U7qPuf42F4/6B/WDkKbaDoa2r4/Bm3fTsB432weba5Q2jIK2oPXOaV8A7y/Mnba7IA2A7wO2uvdh6AJjN9DP9s/F9q1qaZ+G3Pqt3kvgNegnxg0yMcx+KVidwHa7+pRaJN/xgJ4S/FVC+9vFdR9aEmhqw4g3GxQfjP057Y/fq/Y/yaAdsxX6mWbrJMI7ZgT2jH21k/Xwf0gWobAwugaS2s5vp78n+LnfS826koL6X78RcAd93sO2r1TEEzhKXTbwD2b8+8G9rn1ZdVw31DtMH/xfFqxneBR9qxS9pgPH+qKDecR+DqC3viF4pfQXq/+AsbCoalQRwy+hPEr7OuhCTC1bekGdukeNl8DSPWz/d7wH/bxC7hHBP7hxaYHtAcU57lhtBJFArQne7WNuQZ2yUr5fD9tg2Jr91LeVPsYaLu6wj0KdxLaSiVG9IJ7oshZNHwF/STM/S4ATVi1NdG2YLErbTEiG/r+3Qmt3z3pB7c4OwX36KdKe2ihCU5ff4H30d820EZOPVEfvr6A8YNaCrTrn9NuopdtqPtVBW2ikyfXwC3iT0N7eD9Qvw1P7lf8vetlm33hFlpfwHtI1c1whyYdgvdrYksL3QHK9o7DeDRRPQ7zTfgco9gb3aO8MV+plx1AvfFKvTpoYVhPQBNyj0H/oPEltD5rKVrT8fVko+LH2wi3Opk82YTPQ4p9t0a0TQgxPIUuoI16OUc/1DV1w6BdtAl9QLsd5k9W59IkNdAC6VWS4R4t9hbTA+jjeor9bC8QwuH9FecBaKM3T0G7qTTV06QaF+wrdirboz3pBjbpHjaNnfmr8ma9z29hfBP9s7LdP/jw0wf62bi5BjbJSvl8E23zJ3TN4m8fA22X83dE+F9MXj2np3iUvaqUWb1ouh3mhW4NfH9Q5S3F1ujt0WSl3NcEGm+0gXtJqYvQZpV7ox/c154jMO5/9bf1Wx++5nrYpvmw/Rxu4RxhUL4S7odHX7PcAf3EqV94sWlJodsW+mUYJ3mxUydAmZnEdadiH8ibt/lKvewA6gHa2wPnvc8oHYf2piiQuQyNpbUdXxV1Hs/X8B7rqw7gmPmQ06eKvUxIE0xjJHT7KPnqq9RBSr4qouxKfrKPbalxuN5GMFRf3p6M1VciW31sLxhs0Ead/cXDlUIbaTMaiTJLD8WfL2EPaDdeNVwj3cAmHfr+bMpXO+MU30aCwfmkXQugsx9fagxYrkF5slI+30Tbmkro+tvHQNqlhtcUmdy+c/Ryo0e+OnvZ18NQS2CHeaG70o+vBxTbcQblu5Vyf2uEGjFAqf+BCXt1LU+j4+wsq4XvjwKMVmy3+9nmG4rt9z3KroT7LcNqP34ATUw4RxbfMGHf3DgfHAlgG7yPxqsTvnw9JDsZotivC6A985V62QHUA7SHkGHQjyh6pi+hhZS0FK3t+DrpA3040N0+bKsVO6MHPU/UpUzNzBkRBADGQhdwPzmpMyGdP6wy6E9Ku+In2ce21PVyjYLmAf1rk5e82KhC92Mf22sMsdBiOOfDHY9ndHFzIPjQBnU/8kzYBxKj+88A2zIQWtzgp9CestX4Qc80zKNuZ6XMjKibpNjnGpQnK+XzTfgzK3Qbs4+BtitVsf0XjON5PZMzxvaYh68MxdcJaA9YgX5YpamwK20xIlsp9xffp+7XZI+yeKVsX3BNxW8UH/4munjaP2VQ7izb7cePul/+Jsr+UbH1jK+8XSlbBHPnkPMBvakHAAJFDUP7Br5Dh1Qh5u9DEEDLC92roYXgOO+TY6DF7raBdu37OfRv5uai+eNHW+PxBbRwLfVh4C9+7EXoCi2CN6HrfN1RB21N3SvgnhTyooetXfGT7GU77eCeUHMa3uMI1e14i91rrtAFX8RBmz3/B+jj+QhgfZA+nesWE+Zm6aqvwtMNytOVcjOfyQS0OMh3od8ff2mUh4++StlyE9tUP8yRa1CerJTPN+HPn9Btin0MtF2qSAk0VRv4W2BgdwjA29BGQ1vqa0F2ZftGZCvlD/jxla7Y5nqUXauUrQqmodD/XsyE8agTcWcblDvLNvnxk67Y+lsGKVexTfcoexTmzxnP9Lmf7TYnakzrGQA/9mPfmkMXEqAN7BDaUnTeBjWiof+kvecHGTrB9wNKIB8daq3HtzP0X037J/yvBSyhC0KL4E3odoR7EsSz0Md/eX4xxa6UJXvZjvqacq6fNqlfQbnHoLy5JqOZpQ20kRr1xuIrDs8bzyj1fS0t5eQPin26QXm6Up5rsg3q5xrPQRs5ehqa0Lsb7gvxS4pdtoeP/1HKFprYpvqgYtTOZKV8vgl//oRuU+xjoO0yu6SZt2TE/dBm/BvZ10ET856vv5sau582ZsP3MVRJV2xzPcrUMKdA3044+bvi41YT9up5aXSN8neeOUmH9/3yJFexTfco+x3MnStG6aCf7TYXv1LacBbeJ2CqtObJaHOUOiP82PZTbPd4lKXDd3/ZTbantR7fTtCPaufD3BrZMhlNaBF8XRidE7NKAHxU//9tBnZ2+D9Z1QWrA0lGy5KEQXuF67RpquXFAiEC+hjCnCB8NOeIbq4Jf/0V+yL4jq1VR5eyPcqsHNG1KbZ2g/Km2sdA26Xuo5l1UgOhOzQhPQf6ySiENoHU16dRG4td2ZYR2fB9DFXS4f08aM0junY/ftLh+/xWyVVs0z3K1JE7oxjm1sZDcId4nYP5ePLWvLyYKqz8fZAjDPplANsrZelKfrBCt7Ue347Qrq3qPcBMGAIgy4sJLYQvofszNPxBGgXb25XyZIPyXgZ+zKaLMH4tu0ixmeN7F5sNdVT3tSDqN2eMbq4Jf1MVe6PlwFTUhb2zPcqaOkb3KqX8bT++uii2doPyptpHIDChe4NiW+DHtrFcA/1azO8047bsynaMyIbvY6iSDu/nQTzcN/WmiNH1NiPdm71RTG9LC927lTJv8xVaC861qglt1RIzX5pzcgVa7wcj1Dh+M28O1eXwrgqgbf5orcc3Hvq3TKsR2BtW+WCE0CL4EroRcC/PQ2hL4MQb2NkVm2SD8ueV8rXQLu7+kvqkZ/Q5Ys9PAButU9ncqEtqecYtmyHQVRfUUex0A5t0pTzXxPZfU+z9zWrfqdhmG5QfrC9rilUXopXyD/34UkdO7QblTbmP31XKF/jxZYMWi+48P+P82DeWK+Ee7TjdjNuxo2WELqAfrW7sqgtmJtWoDwu+Vl2w+/GTDt/7pZKr2KZ7lH0HbnFzEOZHyVqaMXC38zy0EJBA2Qzfx95JLNwfZvgWzf8JYPUDIP7uMdHQT65qzIo8Kq31+HaAPmb2Xfj/yqEntyr15RPAQrPhS+gC2uzjrfXJm5izK36SPcps0H/+1GwMofr5wC9g/JpilWLjgO8lfzy5E9oyQCqe6/r6IgL6z5L6m3jjDfVm7mtCQrZi11RCd7Zi7+vToXd5bDvbwEZ9TezrIvRD+F9HF3DHbn0L72tThkG/KLndwKYp91FdCcDMJA11xN/MiH1jcT4IVTbjNuxoOaGrflwm2HV0ndcef+vo3gTz6+ja/Ww3Hf7Pbye5im26Qbk6iXK8QbnVjIJ7tNDbRzTM8Bjc++kr/EmdWLU0wG3Mh/lz04ldqWM04KIyWrE1u6SgP1rr8Y2Dds912r6P4IR9BLRVZgjt93edF7sYAF8p25OJaEJA+BO6ZrArfpI9yu5Qyv4ToN/t8H0TiIc+mH0PgJ/68dkL2uQWQvu6jcpH0C4Cg+B7tmgs9GsYnoH/+C1vmPky2o8Q+JfRck1sW/0S3H9gfKFKQ8M1hbMN7NQvo10AkGlg0wUNY0q9tVMViUZL1IQBeMHDl93Arin3EXCP0pbAf4xYV+j7LQe+Xxu2h3aj8RyxyYF2g/N1Tt6jbGeLn3Y1BruyHSOy4f8YOkmH7/OgPfQ3N19fRouAcWiK+lW5Emij8p5cDf11xPOLjU6sELrql9Fq0HA2vyedoU0e7uOlXD3Hk/348of6NcELCCyMwJO2cH8dkNDiUT25Ae4Y2IsIPBZ9Psyfm07UtbXPAxjqxe4G6H/rZkJl/NFaj2976FeYWI/GfY1RFeFFaHgvtUF/vw30AUcQml3orlTK/H2+1BN1MsabXmxS0FA8bYc2AWgs3N+Dnwbtx3lRsfMUuuqP9yi0+NAnoX00IwvaTeZvcC8343wKzQ5wv1TCoF+o/jS0kfN7oc2WfR3aRe4C9DG6RoI+XSnPNbHttgAOK3W+hDbTewS0C2E+tONVC/fDga+bhPq51TpocdRjoF2w/wj3iOMKE+38PtzC2TliMBaaoPsNgM/q899WbOwtsI/ql/OW1u9bJoD/rU+eoT1DPPbjALS4tGxo51Q2tBHw9+EWNCM9fNjr88ug/Q4mQjs/RkATZe9Df1435oboD2dbWkLoAtpM9m8Vu4PQls67H9pv+xEA86Adm4MG9W0eba6AFnJ0H7Tj/BL0E4g2wPsDhRVCF9BGCtX+3QVtBZZR0M6hB6GFh9nhflvi7e1QUwnd/4X+zcxcmFvn11cIyv9CHxO7Atq+jYQ2D0M9D/ytBzsI2jFSkzphqsCg3Ght6gjo7wsXob1J/BW0Yz8W2hf+1JCF7Wj8Z7hb8/FV17I9Du0aaKZt3mgD/T3wCLQwhRHQHvzVAa+jaLmlFIXLiOYUup3hvgBUI/APK3wH7h9mJfSzWFXaQXtFrf5QfaUKaOLC85X436G/uPhLZfD+4YtAaA9tbU5v2zkP7WKiLi/2IwM/6Up5rslt/xj6L64ZbXsMzAuYGfD+cQ1CExZm2+l5g/dMq6DdUPwJkKbcxz5wr/NslNK9bH+fjzpqqoJ2Q1IpNFn3XP1+NCd2ZXtGZMP/MXSSrtjm+rC7AVr4kr/9/9JL/VjoH7i9paXQ4iy94e88c5IOc/sFmBO6gHZOqCFgvtJZeB+NU+2S/bTNbLsDSbl+/N4D7Q2Zt/oXYW6N8GDal+7FVzzMr8O9Hv7nKJghmPa31PENpl3erhdO4qCfl2OUPkfzrigjXMY4T6KDjfBhV/wkK/nq7PpgZ56/o/jw99quC7RVIVZA+1E4v371DbRRkAXQRnJifPjoBE1U/g3aK+Cj0IRQDbTX23sALIYmwpryu+bh0OJ87fXtPQ/tVetrcH/j/hW4j0WSgY90pTw3gG13hTbK9Tk0oXUG2n7+Be4RgmzFd7Yff/8DYAm0Y3cB2uvn1XCHMwTSzuuhjdp+Ve+rDNrNRF3T0owAacp97AXg1fr656AX9ule6tig3WTegtavFXCfmzugvVYdBW2Chycx0F6Z/hHa5Lwj0I5FNbQRlU3QXlcn+mhzU2GH7xtXNsyfJ+kwfx60qfe3Ctor2PNwn1vroL1N8Lf/t0K7BnwB7WGlsv7/C2BuFruVQhfQwm4ehPZW4SC0c68a2kPcf6Cdk1nwfX1r7UIX0NZHnQ5tcuhpaAMYJdAGIswuJRlM+9L9+Eyvb8N/69tVC+13vBfa73comm7Jq2Da31LHtzmErpMsaPeKUmi/7+PQJtKNh+/zWhCEy4Rt0C4YpyFrCAqCIAiCIAiXCepyasEuoC8IgiAIgiAILUoqfMcvXwP9rHCjFQ0EQRAEQRAEodUxGVrc6LsAfgttRv3PocUbL4Z7Nj4hS6sIgiAIgiAIlxCTYS6YfzEav2yNIAiCIAiCILQY34G24kI+tJn8x6HNpj4DoBjaOqG+PtsoCIIgCIIgCIIgCIIgCIIgCIIgCIIgCJcpbaB9lag7tAX3JUmSJEmSJEmSmiN1h6Y52kAQWogbEPxXUCRJkiRJkiRJkgJNN0AQWojuAOhwOPjVV19JkiRJkiRJkiQ1S3I4HE6h291i7SOEEF0B8KuvvqIgCIIgCEJz8dVXXzmFbleLtY8QQojQFQRBEASh2RGhK1iBCF1BEARBEJodEbqCFYjQFQRBEASh2RGhK1iBCF1BEARBEJodEbqCFfgVunV1dTx+/DgPHz7MgwcPSpIkSVKj0+HDh3n8+HHW1dW14G1WEAQrEaErWIFPoVtXV8fS0lLu2bOHJSUlPHDggOU3SEmSJF3a6cCBAywpKeGePXtYWloqYlcQQgQRuoIV+BS6x48f5549e3jy5MkW/jkIgnC5c/LkSe7Zs4fHjx+3uimCILQAInQFK/ApdA8fPsySkpIW/ikIghAqlJSU8PDhw1Y3QxCEFkCErmAFPoWu8zWjIAhCc+AMhxIE4fJHhK5gBX6FrtyEBEFoLuQaIwihgwhdwQpE6AqCYBlyjRGE0EGErmAFInQFQbAMucYIQuggQlewgpARuvv37+fDDz/Ma6+9luHh4RwwYIDVTWq1FBQUMCMjgx07dmRERAQTEhJ41113ccOGDTq7nJwcAuDVV19t6KdPnz4EwPHjxzeqzqXYd6NHj+Z1113XLL4vp/65nK4xgiD4RoSuYAUhI3RXrVrFbt268ec//zl79ep1SYglK3jqqacIgHfffTfz8/P54YcfctGiRczKymJYWBi3bt3qss3JyWFUVBTbtGnDjz/+WOdnz549DAsLY2xsbAMhFWidS7HvSkpKuHPnzib3e7n1z+V0jREEwTcidAUrCBmhe/HiRdf/hw0bdkmIpZamoKCAADht2jTDcrvdzuLiYtffOTk5jIuL42233cbHH39cZ/vss88yLS2NSUlJDYRUoHWk7zQux/65nK4xgiD4RoSuYAUhI3RVGiuWysvLCYDvvPOOLj8nJ4c9evQI2q/zdffatWuZmprK6OhoDho0iEePHuWRI0d4++23MzY2lr1792ZhYaGu7oABAzhs2DBd3oEDBwiAK1euNLX9gQMHMjExkbW1tabsnaJo4cKFTEhI0Amenj17cs6cOV6FVCB1VILpu7KyMo4ZM4YJCQkMDw93XmgJgImJiQH5crJr1y5mZmYyPj6e0dHR7NWrF2fOnOkqNwpdePnll9mtWzfGxMQwMzOTmzdvDvn+aalrzKOPPsr+/fubTo8++mizt0kQQg0RuoIViNBV2LhxIwFw48aNPus77TwXuh8+fDiHDx/u+ruuro41NTV+k5PRo0ezU6dO7Nu3L5cuXcr8/Hx27tyZGRkZTEtL4+zZs7lu3TreeuutjI+P57lz51x1Gyt0a2pqGBUVxZEjR/q1deIURRUVFYyOjnbFiDocDtpsNpaVlXkVUoHUUQlUSFVVVbFPnz7s3r07582bx7Vr1zIjI4MAOHLkSM6dOzfgfiLJlJQU3nzzzVy1ahULCwv52muv8bnnnnOVewrdFStWEADHjRvHdevWcerUqUxOTg75/mmpa0z//v0ZFhnDqG6pflNYZAz79+/f7G0ShFBDhK5gBQELXbOioLlTXV1d0D+2xgrdvLw8dujQoUF+SkoKc3NzXX+/8cYbutFDb8n5UY7Ro0czPDyc+/btc/mYPn06AXDWrFmuvL179zYYUW6s0D127BgBcPLkybp8z/5WR/icoogks7KyOHbsWJLkpEmTOGTIEJL0KqQCqaMSqJDKyclhbGys7sMnJ06cYFhYGGfPnk0y8H46ceIEAbCgoMDrdj2F7o033sihQ4fqbCZNmhTy/dOSQjeqWyqTnl7jN0V1SxWhKwjNgAhdwQoCFro1NTWmREFzJ88RtkBobOhCdnY209PTdXkVFRUMCwvjihUrXHknT56kw+Hwmy5cuEBSE0dJSUk6v/n5+QTAHTt2uPJqa2sZFhbGV155xZXXWKH79ddfEwCnTJmiy1+4cKHuuOfk5LjKVFG0bNkydujQgVVVVezWrRvnzZtH0reQMltHJdC+69Gjh+Fr6Pj4eNcIbKD9VFdXx6SkJKampnL+/PksLS1t4F8VurW1tYyIiOCcOXN0Nps2bQr5/hGhKwihgwhdwQpE6AZB3759G9zot2zZQgAsKSlx5QUTuuAZ17ly5UrdaKITm83GvLw8199NFbowatQoXf6pU6dcQq9du3ZehdT58+fZvqoXotkAACAASURBVH17Tpo0iZGRkSwvLyfpW0iZraMSSN/t37/fcP8rKytps9lcDwrBhC4UFxczKyuLsbGxBMAbbriBmzdvdpWrfekUqfn5+Q18hHL/kCJ0BSGUEKErWIEI3QCprq5mZGSka3TLycyZM9muXTtdSEUwoQvBCt2MjAxmZmbqbLZv325aSJH+JzvFxcV5FVIkef/99zM8PFwnuH0JKbN1VALpu8LCQgJosEzW6tWrCYCHDh0iGXg/qVRXV9Nut/OWW27hlVdeycrKSpJNP6JLXn79Q4rQFYRQQoSuYAUSoxsgRUVFBMAFCxa48qqqqti7d2/269dPZxtM6EKwQvfBBx9kcnKy7rjMmDEjICHlXL5q6tSphuX+hNSWLVs4bNgwrlu3zpXnT0iZqaMSSN85hf6bb77pyquurmbfvn11DwWB9pMRzmP3xRdfkDSO0XXGuDqZOHFiSPcPKUJXEEIJEbqCFYTMqguVlZVcunQply5dyh//+Mf8wQ9+4Pr7+PHjJLV1SG02G+12u1c/CxYsoM1m4zXXXMNFixbx7bff1m6iUVG8/vrr+cknnwTdxsYI3ffee48A+Mgjj3D9+vWcMWMGe/XqFZCQIsknn3ySgPZBgiVLlnDTpk0sKCjghAkTaLPZdJPiPEWREf6ElJk6ZvqObDiZsLa2lj179mRiYiIXLVrE5cuXMy0tjZ07d+aRI0dMHxNPioqKOHjwYM6dO5eFhYVcuXIlb7rpJqakpLgmg5lZdSEpKYkAuHr1atPbvpT7xwgRuoIQOojQFawgZISuM17VKDmFkZlVFyZMmMDU1FROnz6d7du3Z0JCAvPy8jh+/HjGxcVx8eLFQbexMUKXJGfNmsWkpCTGxMTwjjvu4EcffRSw0CW1V/tDhw5lfHw8IyIi2KVLF955551cvny5zq6lhJSZviPJNWvWEAB3797tytuzZw8HDBjAqKgoxsfH89577230OV1WVsaRI0cyJSWFbdu2ZefOnZmVlcX9+/e7bIz68qWXXmLXrl3Ztm1bDh482BVC4evByohLtX+MEKErCKGDCF3BCkJG6DYVgwYN4n333Wd1MwQDnnnmmQarYbRm8vLyaLPZePLkSaubYhkidAUhdBChK1iBCN0A6dixo+71sNB6GDhwoM+1ba3k+PHjfOKJJ7h69Wpu2LCB06ZNY0xMDEePHm110yxFhK4ghA4idAUrEKEbAKWlpQTA9evXW92UoPA1uc/sZ2WF4Dh9+jQzMzPZqVMnRkREsGvXrpw4cSLPnz/vsgnF/hGhKwihgwhdwQpE6IYIvuIoATRqXWGh8YRq/4jQFYTQQYSuYAUidEOECxcu+Fw6q7i42OomhjSh2j8idAUhdBChGzzXAFgPoBLAMQAvAIg0US8SwKz6OpX1Pr7fCP8PAvgcQBWAIgA/M7CJAzAPwDcAzgJYBuAqD5txAD6o31YFgK0Ahhn4OoiGIz9VBna+EKErCIJliNAVhNBBhG5wdABwFMCHADIAPADgNIA5Juq+Wm/7QH3dTQC+giZGA/U/AkAdgGkABtb7rgFws4fd+wBKAdwD4E4A/wXwGYAIxeYwgLkAhgMYAuB1aCfGKA9fBwEsrt+GM91kYr9VROgKgmAZInQFIXQQoRscU6CNjMYreQ8DqAWQ6KNet3qbh5S8eADnAPwmCP/7ALzlsY1/A1ir/N0PWgcPUfK+D00g36PkdTJo7wcAdnjkHQTwZwPbQBChKwiCZYjQFYTQQYRucGwCsMIj70po4jHbR70H6m2u9MhfAcAeoP8UaB13p4fd4wAuAIiq/3sqgFMAwjzsPgUw30dbAWAmgDKPvIMQoSsIwiWMCF1BCB1E6AbHcQB/MMg/AuB5H/VegBam4Ml0aLGxgfi/DVrHfc/DZkh9/jX1fy8BsMXA11vQ4nB98RH0AhzQhG45NDF9FsBqAL38+PFEhK4gCJYhQlcQQgcRusFRA+BJg/xd0GJbvTG33saTJwFUB+j/Pmgd5xlycGN9/i31f68HsMbA1xxok9i8cS+MR4z/Ul/WH9oI9QFowjzBh6/20E4wZ7oBInQFQbAIEbqCEDqI0A2OGgCTDPJ3A3jNR7250CaCefIUtBHSQPw7hW5HD5sf1+f3q/97PYB3DHz9FVqMrxF9oK288A8v5SpXAzgPbUKcN3JhsEanCF1BEKxAhK4ghA4idIPjcg5dSKrfzgYAbQzKjfCcAOeJjOgKgtBqEKErCKGDCN3g2ARguUdeHMxPRovzyF+OhpPR/Pl3Tka7w8Pu19BGh51r7k4FcNKgLdvRcDJaJwDF0FZaaO9tJwz4N4B3A7CXGF1BECxDhK4ghA4idINjCrRX++rqCWOhhRyYWV7sQSWvA7RJXZ7Li5nxvw/AQo9tbIHx8mK3Knm90HB5sXYAHNBibj0/JuGLFGihC1MDqCNCVxAEyxChKwihgwjd4HB+0MEOYCiAMdBWIvD8oMO/6pPKq/W2Y+rr2uH9gxH+/Ds/GPF7AOkAXoH3D0YcBvBzaCPAO6F9MMKm2HxQX3cU9B+DUH3dDiAfwEhoH6h4CMAhaEuQ+ZqM5knICN0lS5bwzjvvZNeuXRkbG8vrrruO8+bNY11dndVNa3UUFBQwIyODHTt2ZEREBBMSEnjXXXdxw4YNOrucnBwC4NVXX23op0+fPgTA8ePHN6rOpdh3o0eP5nXXXdcsvi+n/hGhKwihgwjd4OkNLY71W2hCbxYafqLXjobLc0UB+FN9nW+hTRa7Bg0x4x/QRof3QwtX2AnfnwAuhzZ6vBwNR54bTBZTkpM+0IT7cWii+DiAt6GN6gZCyAjdm2++mSNGjODixYv5r3/9i5MnT2Z4eDinTp1qddNaFU899RQB8O6772Z+fj4//PBDLlq0iFlZWQwLC+PWrVtdtjk5OYyKimKbNm348ccf6/zs2bOHYWFhjI2NbSCkAq1zKfZdSUkJd+7c2eR+L7f+EaErCKGDCF3BCkJG6J44caJB3kMPPcQOHTpY0JrWSUFBAQFw2rRphuV2u53FxcWuv3NychgXF8fbbruNjz/+uM722WefZVpaGpOSkhoIqUDrSN9pXI79I0JXEEIHEbqCFYSM0DXib3/7GwHw22+/DaheeXk5AfCdd97R5efk5LBHjx5Bt8f5unvt2rVMTU1ldHQ0Bw0axKNHj/LIkSO8/fbbGRsby969e7OwsFBXd8CAARw2bJgu78CBAwTAlStXmtr+wIEDmZiYyNraWlP2TlG0cOFCJiQk8OLFi66ynj17cs6cOV6FVCB1jAik78rKyjhmzBgmJCQwPDxc95YkMTHR1L56smvXLmZmZjI+Pp7R0dHs1asXZ86c6So3Cl14+eWX2a1bN8bExDAzM5ObN28O+f4RoSsIoYMIXcEKQlro/uIXv2BSUpLr740bNxIAN27c6LOe0+7w4cO6/OHDh3P48OGuv+vq6lhTU+M3ORk9ejQ7derEvn37cunSpczPz2fnzp2ZkZHBtLQ0zp49m+vWreOtt97K+Ph4njt3zlW3sUK3pqaGUVFRHDlypF9bJ05RVFFRwejoaFeMqMPhoM1mY1lZmVchFUgdIzz7zhtVVVXs06cPu3fvznnz5nHt2rXMyMggAI4cOZJz584NuJ9IMiUlhTfffDNXrVrFwsJCvvbaa3zuuedc5Z5Cd8WKFQTAcePGcd26dZw6dSqTk5NDvn9E6ApC6CBCV7CCwIVuXR1ZU2N9auREpM2bNzM8PJwvvfSSK8+s0M3LyzN8LZuSksLc3FzX32+88YaveGtXOnDgAElNHIWHh3Pfvn0uH9OnTycAzpo1y5W3d+/eBiPKjRW6x44dIwBOnjxZl+8pAtURPqcoIsmsrCyOHTuWJDlp0iQOGTKEJL0KqUDqeGLUd97IyclhbGys6xiT2qv2sLAwzp49m2Tg/XTixAkCYEFBgdftegrdG2+8kUOHDtXZTJo0KeT7R4SuIIQOInQFKwhc6NbUkID1yWOELRBKS0uZmJjIW2+9VScMzJKdnc309HRdXkVFBcPCwrhixQpX3smTJ+lwOPymCxcukNTEkecoWH5+PgFwx44drrza2lqGhYXxlVdeceU1Vuh+/fXXBMApU6bo8hcuXKgTezk5Oa4yVRQtW7aMHTp0YFVVFbt168Z58+aR9C2kzNZRCbTvevTowUcffbRBfnx8vGsENtB+qqurY1JSElNTUzl//nyWlpY28K8K3draWkZERHDOnDk6m02bNoV8/4jQFYTQQYSuYAUhJ3TLy8v5wx/+kNdeey1Pnz4dlI++ffs2uNFv2bKFAFhSUuLKCyZ0wTOuc+XKlbrRRCc2m415eXmuv5sqdGHUqFG6/FOnTrmEXrt27bwKqfPnz7N9+/acNGkSIyMjWV5eTtK3kDJbx0mgfbd//37D/a+srKTNZnM9KAQTulBcXMysrCzGxsYSAG+44QZu3rzZVa72pVOk5ufnN/ARyv1DitAVhFBChK5gBSEldL/99lumpaWxe/fuXvfZH9XV1YyMjHSNbjmZOXMm27Vrp1s7NJjQhWCFbkZGBjMzM3U227dvNy2kSP+TneLi4rwKKZK8//77GR4erhPcvoSU2TpkcH1XWFhIAA2WyVq9ejUB8NChQyQD7yeV6upq2u123nLLLbzyyitZWVlJsulHdMnLr39IEbqCEEqI0BWsIGRidGtqavizn/2M8fHx3L17d7C/UxYVFREAFyxY4Mqrqqpi79692a9fP51tMKELwQrdBx98kMnJyTqhPWPGjICElHP5Km/rn/oTUlu2bOGwYcO4bt06V54/IWWmTrB95xT6b775piuvurqaffv21T0UBNpPRjiP3RdffEHSOEbXGePqZOLEiSHdP6QIXUEIJUToClYQMqsuPPTQQwTAF198kR9//LEuVVVVkdTWIbXZbLTb7V79LFiwgDabjddccw0XLVrEt99+W7uJRkXx+uuv5yeffBJ0GxsjdN977z0C4COPPML169dzxowZ7NWrV0BCiiSffPJJAtoHCZYsWcJNmzaxoKCAEyZMoM1m002K8xRFRvgTUmbqmOk7suFkwtraWvbs2ZOJiYlctGgRly9fzrS0NHbu3JlHjhwxfUw8KSoq4uDBgzl37lwWFhZy5cqVvOmmm5iSkuKKSzWz6kJSUhIBcPXq1aa3fSn3jxEidAUhdBChK1hByAhdp6gwSk4RaWbVhQkTJjA1NZXTp09n+/btmZCQwLy8PI4fP55xcXFcvHhx0G1sjNAlyVmzZjEpKYkxMTG84447+NFHHwUsdEnt1f7QoUMZHx/PiIgIdunShXfeeSeXL1+us2spIWWm70hyzZo1BKAbVdyzZw8HDBjAqKgoxsfH89577230OV1WVsaRI0cyJSWFbdu2ZefOnZmVlcX9+/e7bIz68qWXXmLXrl3Ztm1bDh482BVC4evByohLtX+MEKErCKGDCF3BCkJG6DYVgwYN4n333Wd1MwQDnnnmmQarYbRm8vLyaLPZePLkSaubYhkidAUhdBChK1iBCN0A6dixo+71sNB6GDhwoM+1ba3k+PHjfOKJJ7h69Wpu2LCB06ZNY0xMDEePHm110yxFhK4ghA4idAUrEKEbAKWlpQTA9evXW92UoPC1dJbZz8oKwXH69GlmZmayU6dOjIiIYNeuXTlx4kSeP3/eZROK/SNCVxBCBxG6ghWI0A0RnGvqeksDBgywuokhTaj2jwhdQQgdROgKViBCN0S4cOGCz6WziouLrW5iSBOq/SNCVxBCBxG6ghWI0BUEocWoOX+eZw8fZsXu3TxbVMT927dz6/PPc2O/ftz629/yjMHnlJsCEbqCYD0idAUrEKErCEKz8+2JEzxbVMSLDgeppIMOBw/+7neuLx5+C3BLUhL3vv12k25fhK4gWI8IXcEKROgKgtBsVH/7Lc8WFenErS+hq6Z/d+/OYzt2NEk7ROgKgvWI0BWsQISuIAjNwrkjR1htIG7Pb9vGit27WfHll9y/axc//sc/aL/2Wn7Zpk0DsVseFsZ/P/ZYo9siQlcQrEeErmAFInQFQWhyKkpKWOchcM/t2MFvT5xgXV0dz1dXsLyylMX7d3L91te5+KNRLNz9Ije/Op2ffOc7DQSvvW9fVldWBt0eEbqCYD0idAUrEKErCEKTUVdXx4q9e3UCt8bh4NnSUlZVn+OJimKeOr2NFRUOVlQ4+PnnDn700e+4cSO4cSO4oRD8x3sd+NdX+/KL2DCd2N3apQvPl5cH1S4RuoJgPSJ0BSsQoSsIQpNRUVysE7nfbt/Ob8+W8/iZPTx9xuESuN6ErpqWrwvnnImRrLG5xe62+HieKysLuF0idAXBekToClYgQlcQhIA5dOgQ9+7dq0tf7dihE7kV27ax5EART51uKHBPn3Gw7JSDu4u3cdn7OZz+ZiQXvBNmKHjnLQX/20cJY7DZOKBfP/bv35+PPvqoqfaK0BUE6xGhK1iBCF1BEAJm7969dGzbzm1Fu7itaBf3fvqZbumwCoeDX3y1nWc8RnGPf+PgvkOfcvvO/2p1t+/gczP+xKhuqYzqlsouPcH7c8K5ap1e7K5dDy4f4xa7b9naMCyirWlBKkJXEKxHhK5gBSJ0BUEImL1793Jb0S4WlZZz95fHeEENV9jm4OETRTqBW37GwZKyYhaVfsOi0nJX2r57H/+4ZJNLZIZFxjCqWyq/99s3+dgbvbj+X3rB+8Zz4MV6sTszMlqEriBcQojQFawgZITu0qVL2a9fP8bHxzMqKoq9evXi1KlTWVVVZXXTWh0FBQXMyMhgx44dGRERwYSEBN51113csGGDzi4nJ4cAePXVVxv66dOnDwFw/PjxjapzKfbd6NGjed111zWL79bQP6NGjXIJ3Tefn8l+117L+Lg4RkVGMqVHEn/3u3E8ceLfrlHcor1FOoHrT+g6/75lxhN8e224TuzO/TNccbvjExNNHTMRuoJgPSJ0BSsIGaH76quv8plnnuGKFStYWFjI559/nm3btuW4ceOsblqr4qmnniIA3n333czPz+eHH37IRYsWMSsri2FhYdy6davLNicnh1FRUWzTpg0//vhjnZ89e/YwLCyMsbGxDYRUoHUuxb4rKSnhzp07m9xva+kfp9At3bmHr06ZwmceeIArXniB+cte5+9//xjbto3iAw/cxa9PfcptO7a5RHGgQjfp6TXs9bu/86WVMXqx+xdtZLcC4Bfvvuv3uInQFQTrEaErWEHICF0jfvvb37Jdu3a8ePGi1U1pFRQUFBAAp02bZlhut9tZXFzs+jsnJ4dxcXG87bbb+Pjjj+tsn332WaalpTEpKamBkAq0jhGh2HetqX9GjRrFXTv0n/Q9cmi7K1ThySfHMDY2hp8dOumK5Q1W6CY9vYY9pizmtPx4ndj9+x81sbs/KoqVJ074PHYidAXBekToClYQ0kL3xRdfZFRUFGtrawOqV15eTgB85513dPk5OTns0aNH0O1xvu5eu3YtU1NTGR0dzUGDBvHo0aM8cuQIb7/9dsbGxrJ3794sLCzU1R0wYACHDRumyztw4AABcOXKlaa2P3DgQCYmJpo+Hk5RtHDhQiYkJOhEZ8+ePTlnzhyvQiqQOkYE0ndlZWUcM2YMExISGB4e7rzQEgATTb769mTXrl3MzMxkfHw8o6Oj2atXL86cOdNVbhS68PLLL7Nbt26MiYlhZmYmN2/efMn2z6hRo3hWEbnfFDt0y4flTpvAyKgofnqwaYSullZwWn5Hndhd+GT9SgzXXuvzWIjQFQTrEaErWEHICd3a2lpWVlZy8+bNTEpK4oQJE1xlGzduJABu3LjRpw+n3eHDh3X5w4cP5/Dhw11/19XVsaamxm9yMnr0aHbq1Il9+/bl0qVLmZ+fz86dOzMjI4NpaWmcPXs2161bx1tvvZXx8fE8d+6cq25jhW5NTQ2joqI4cuRIv7ZOnKKooqKC0dHRrhhRh8NBm83GsrIyr0IqkDpOfPWdN6qqqtinTx92796d8+bN49q1a5mRkUEAHDlyJOfOnRtwP5FkSkoKb775Zq5atYqFhYV87bXX+Nxzz7nKPYXuihUrCIDjxo3junXrOHXqVCYnJ1+y/fPgvfe6RO6FHQ6eOu1geflWHju2mWvem8vEbt05cuwjLCotb0Khu4ZXT17CF5a1131gYt2d9Wvs/vGPXo+FCF1BsB4RuoIVBCx06+rqWHOxxvJUV1cX1A8tKirKNZo3evRo3YiVWaGbl5fHDh06NMhPSUlhbm6u6+833nhDN3roLR04cICkJo7Cw8O5b98+l4/p06cTAGfNmuXK27t3b4MR5cYK3WPHjhEAJ0+erMv3FIHq8XKKIpLMysri2LFjSZKTJk3ikCFDSNKrkAqkjhNffeeNnJwcxsbGuo4xSZ44cYJhYWGcPXs2ycD76cSJEwTAgoICr9v1FLo33ngjhw4dqrOZNGnSpdk/3/0ufz1iBOlwsM7h4LET2ihuVFSk61jdmfUL7jh0qsmFrhbG8BZfL4h0id01H4C7fwgeDQ9n+ZdfGh4/EbqCYD0idAUrCFjo1lysIXJheaq5WGPYZn9s376dmzdv5ksvvcTvfOc7HDNmTMA+srOzmZ6ersurqKhgWFgYV6xY4co7efIkHQ6H33ThwgWSmjhKSkrS+c3PzycA7tixw5VXW1vLsLAwvvLKK668xgrdr7/+mgA4ZcoUXf7ChQt1Yi8nJ8dVpoqiZcuWsUOHDqyqqmK3bt04b948kr6FlNk6ToLpux49ehh+VCA+Pt41AhtoP9XV1TEpKYmpqamcP38+S0tLG/hXhW5tbS0jIiI4Z84cnc2mTZsuyf75bmIix9cL3ZMH3OEKmzYt5NurF/HpqTPZoWMnDrvnvmYRuklPr+G1uX/i8vfdIQz/XAlWRoMf9u5tePxE6AqC9YjQFawg5ISuyurVqwmA27ZtC6he3759GwixLVu2EABLSkpcecGELnjGda5cuVI3mujEZrMxLy/P9XdThS6MGjVKl3/q1CmX0GvXrp1XIXX+/Hm2b9+ekyZNYmRkJMvLy0n6FlJm6xhhpu/2799vuP+VlZW02WyuB4VgQheKi4uZlZXF2NhYAuANN9zAzZs3u8rVvnSK1Pz8/AY+LrX+qTp9mklXXcXxI0awaqe2Pq5T6H518jOXgP3LvLcIgIve3dgsQjfp6TW87q6r+IGyzu7cF7UQhp2vvdbg+InQFQTrEaErWEFIC93S0lLtZrxokek61dXVjIyMdI1uOZk5cybbtWunC6kIJnQhWKGbkZHBzMxMnc327dubdLJTXFycVyFFkvfffz/Dw8N1gtuXkDJbxwgzfVdYWEgADZbJcorkQ4cOkQy8n1Sqq6tpt9t5yy238Morr2RlZSXJph/RJVtH/5wtKnIJ3bLjbpF76rSD//3qhEvAfvDJLgLg83P+3mxCN6pbKn/5vH4lhjX/B+5r25bV9f3gRISuIFiPCF3BCkIuRldl8eLFBKBbe9QfRUVFBMAFCxa48qqqqti7d2/269dPZxtM6EKwQvfBBx9kcnKy7rjMmDEjICHlXL5q6tSphuX+hNSWLVs4bNgwrlu3zpXnT0iZqWOEmb5zCv0333zTlVddXc2+ffvqHgoC7ScjnMfuiy++IGkco+uMcXUyceLES6p/vj15knQ4mHTVVfzl6BG6L5/t+/oLnYCd+dd5BMCFBeubVej2/2ka573XySV0V70Pfp0AbrztNt2xEaErCNYjQlewgpBZdSEjI4OzZs3i2rVr+cEHH/APf/gD4+LidOLDbrfTZrPRbrd79bNgwQLabDZec801XLRoEd9++23tJhoVxeuvv56ffPJJ0G1sjNB97733CICPPPII169fzxkzZrBXr14BCSmSfPLJJwloHyRYsmQJN23axIKCAk6YMIE2m003Kc5TFBnhT0iZqWOm78iGkwlra2vZs2dPJiYmctGiRVy+fDnT0tLYuXNnHjlyxOwhaUBRUREHDx7MuXPnsrCwkCtXruRNN93ElJQU12QwM6suJCUlEQBXr15tettW9s+5HTtcQnfcL91CN33QLZz4u6n865tL+OpbK/jYU7/jFe3b8+b+A5stRlcVpF9981+u/CDMHcLwKngO4Nfbt7vaLkJXEKxHhK5gBSEjdJ955hn+8Ic/ZGxsLNu3b8/rrruOs2bN4vnz5102ZlZdmDBhAlNTUzl9+nS2b9+eCQkJzMvL4/jx4xkXF8fFixcH3cbGCF2SnDVrFpOSkhgTE8M77riDH330UcBCl9Re7Q8dOpTx8fGMiIhgly5deOedd3L58uU6u5YSumb6jiTXrFlDANy9e7crb8+ePRwwYACjoqIYHx/Pe++9t9HndFlZGUeOHMmUlBS2bduWnTt3ZlZWFvfv3++yMerLl156iV27dmXbtm05ePBgVwiFrwcrI6zon8rjx13LiXXvdhV/9StN6J4+4+C48RP4ve/3ZnRMLNtdcQW//4MfcuLvpvKT/V+3iNAlydXbJ+pCGNbeDW7q2dPVfhG6gmA9InQFKwgZodtUDBo0iPfdd5/VzRAMeOaZZxqshtGaycvLo81m48mTJ61uil/OfvYZ6XCweod+AtqXx3cbClg1tYTQJcm57yW6hO7yteCJDmBx/YOnCF1BsB4RuoIViNANkI4dO+peDwuth4EDB/pc29ZKjh8/zieeeIKrV6/mhg0bOG3aNMbExHD06NFWN80v50+dco3mHj+qn4C2s/RUqxG6pd8UsWB9mG4Vhu0dOrDu4kURuoLQChChK1iBCN0AcM70X79+vdVNCQpfS2cF+hlkITBOnz7NzMxMdurUiREREezatSsnTpyoC79orf1ztqiIdDhYtVP/md99hz71K3JbUuiS5NL/jNV9NW3bj8H/PPusCF1BaAWI0BWsQIRuiOBcU9dbGjBggNVNDGlaa/9UnTnDOudo7jG3yD1R7uC2zbOb2wAAIABJREFUov+2OqF78eJFzn/vCpfYfWMRuC+qDX+aliZCVxAsRoSuYAUidEOECxcu+Fw6q7i42OomhjSttX8qdu92jeaeUUZzSw4XeRWvVgpdknR8+Tb/VeiemLbyfnDSVVeJ0BUEixGhK1iBCF1BEAypvXCBNc7R3K/dIvfk6e3cu3dvqxW6JDn3gx/oJqZ9dgUYndhbhK4gWIgIXcEKROgKgmBIRUkJ6XDwQpE+Nre8srTVC91jpz/XTUyb/wz4UEycCF1BsBARuoIViNAVBKEBdXV1rNq2rcFKCydPb2NdXV2rF7ok+daWu11C9931oCMB/N74JSJ0BcEiROgKViBCVxCEBpw7epR0OFjzqX4095tzh0jykhC656vPMv/9CJfY/fsL4KTePxWhKwgWIUJXsAIRuoJwGXPo0CHu3bvXdDp0SBOyzs/9njysrpu7jXV12ieOLwWhS5Irt/3aJXQ/+Bdo/z6YMmGZCF1BsAARuoIViNAVhMuYvXv3uoSmv+TYpk0yu3D2LOscDtY5HDxVroQtVOzX+b0UhG7txRq+ubat+yMSr4C/vO5/RegKggWI0BWsQISuIFzGBCJItxXt4t69e1lRXEw6HDxd4ha5p884WFNbFZRfK4UuSW7YPdMldP9VCK75UTiTnlolQlcQWhgRuoIViNAVhMuYYITuhfolxU6cdAvd42d2Be3XaqFLkn/Jt7lHdV8DR//kbhG6gtDCiNAVrECEriBcxgQqdA/Uf+733B63yD1zxsHzF84E7bc1CN3hv0zRjequ+FEEv/tUgQhdQWhBROgKViBCVxAuYwIVut84lxRTPvd7/PRnjfLbGoRu//79mbcoXBerm/XT0SJ0BaEFEaErWEFICt2zZ8+ya9euBMAdO3ZY3ZxWR0FBATMyMtixY0dGREQwISGBd911Fzds2KCzy8nJIQBeffXVhn769OlDABw/fnyj6qhcKn03evRoXnfddc3iO9D+6dq1m6HI7NU7lQB434O/ZFFpOT/7bCefe+ghAmBSUqJ7RPfboy6fzv4ZNWqUoXj9uLiUnRMSCYD5729qVUL3+nsSXEJ3QyH4zxvaitAVhBZEhK5gBSEpdH/zm9+wS5curV4sWcFTTz1FALz77ruZn5/PDz/8kIsWLWJWVhbDwsK4detWl21OTg6joqLYpk0bfvzxxzo/e/bsYVhYGGNjYxsI3UDrqFwqfVdSUsKdO3c2ud9A+ycyMpIRERFcuPoDncBcWbiVYWFhjI6JdQndQ9u3M+ehhxgVGck2bSK4YcM/6pcUqyOp7x9vQjf7V4+z43c6t0qhG9UtlS8ti9KN6t467GkRuoLQQojQFawg5ITu3r17GRsby1dffbXVi6WWpqCggAA4bdo0w3K73c7i4mLX3zk5OYyLi+Ntt93Gxx9/XGf77LPPMi0tjUlJSQ2EbqB1nIR63wXTP1dccQXT+vfnvQ+M0wnMh8c/xb4//gkTu3V3Cd1zDgdzHnqI7du349ChafzlL/+PJyr2ufyp/WMkdFdt/A+jY2L5zB9nt1qhO/CFsbpR3b/8pIMIXUFoIUToClYQckJ3yJAhnDRpEjdu3Bi0WCovLycAvvPOO7r8nJwc9ujRI+i2OV93r127lqmpqYyOjuagQYN49OhRHjlyhLfffjtjY2PZu3dvFhYW6uoOGDCAw4YN0+UdOHCAALhy5UpT2x84cCATExNZW1tryt4pWhcuXMiEhARevHjRVdazZ0/OmTPHq9ANpI6TYPuurKyMY8aMYUJCAsPDw50XWgJgYmKiKR+e7Nq1i5mZmYyPj2d0dDR79erFmTNnusqNQhdefvllduvWjTExMczMzOTmzZubvX+uuOIKTp3+R3bq3IU7Dp1yCczvXt2DU6a94BK6e0uOkA4HpzzyEOPi2vH113/PLl068tsLFS5/av8YCd2b+w/k/Q8/xr8veafVCt2kp9dwztI2LrH7+p/BH2W/JEJXEFoAEbqCFYSU0F26dCk7d+7MM2fOGIolZ97GjRt9+nHaHT58WJc/fPhwDh8+3PV3XV0da2pq/CYno0ePZqdOndi3b18uXbqU+fn57Ny5MzMyMpiWlsbZs2dz3bp1vPXWWxkfH89z58656jZW6NbU1DAqKoojR470a+vEKVorKioYHR3tihF1OBy02WwsKyvzKnQDqUP67ztvVFVVsU+fPuzevTvnzZvHtWvXMiMjgwA4cuRIzp07N+B+IsmUlBTefPPNXLVqFQsLC/naa6/xueeec5V7Ct0VK1YQAMeNG8d169Zx6tSpTE5Obvb+ueKKK/jhR/9h27bRfH3RKhaVlvPtNYW02Wws3PG5S+geLdpFOhx8cpImdI8csTM6uq3X/vEUun96dT7jO32H/95zqNUL3cF/us8ldNdtAKddnyJCVxBaABG6ghUELHTr6up48WKN5ckZN2iWyspKl9gh2Sihm5eXxw4dOjTIT0lJYW5uruvvN954Qzd66C0dOHCApCaOwsPDuW+f+3Xx9OnTCYCzZs1y5e3du7fBiHJjhe6xY8cIgJMnT9ble4pAdQTWKVpJMisri2PHjiVJTpo0iUOGDCFJr0I3kDpm+s4bOTk5jI2NdR1jkjxx4gTDwsI4e/ZskoH304kTJwiABQUFXrfrKXRvvPFGDh06VGczadKkZu+fK664gtuKdnHI7cN41y/uZ1FpOe9/+DHe3H8gi0rLXUL3vMPB2u0OPj1ZE7oVFQ4OG3671/5Rhe7Wz48wIbErc2e9zKLS8lYvdL/7dAHfWOVegeG1aWDPX78lQlcQmhkRuoIVBCx0L16scd0grEwXL9YYttkbU6ZM4Y033ugSAo0JXcjOzmZ6erour6KigmFhYVyxYoUr7+TJk3Q4HH7ThQsXSGriKCkpSec3Pz+/QTtra2sZFhbGV155xZXXWKH79ddfEwCnTJmiy1+4cKFO7OXk5LjKVNG6bNkydujQgVVVVezWrZtLlPoSumbrNKbvevTowUcffbRBfnx8vGsENtB+qqurY1JSElNTUzl//nyWlpY28K8K3draWkZERHDOnDk6m02bNjV7/ziF7ouvLWD7uCvpKDnGLlclukRpYrfuvH/0A6TDwW++dHByvdD95rSDS5cu8do/qtB98NEJTO3zI1doRGsXuklPr+Fdfx7qupa88wE4/sc/EaErCM2MCF3BCkJC6B48eJCRkZF89913WV5ezvLycr7zjnYz3rRpE8+ePRvQj7Vv374NXq1v2bKFAFhSUuLKCyZ0wTOuc+XKlbrRRCc2m415eXmuv5sqdGHUqFG6/FOnTrmEXrt27bwK3fPnz7N9+/acNGkSIyMjWV5eTtK30DVTpzF9t3//fsP9r6yspM1mcz0oBBO6UFxczKysLMbGxhIAb7jhBm7evNlVrvalU6Tm5+c38NHc/eMUup/s/5rtrriC9z/8GNtERnLzroMuofvQvfdpa+eecAvdE2f2+Owfp9B97+MitomM5JwF+dy86yA37zrIl95YRAB8Y9m7/Li4tFUK3asnL2P+u+7ryd+eCnN9QEKEriA0DyJ0BSsICaHrHAH0ltLS0kz7qq6uZmRkpGt0y8nMmTPZrl07XUhFMKELwQrdjIwMZmZm6my2b9/epJOd4uLivApdkrz//vsZHh6uE9y+hK6ZOo3pu8LCQgJosIzZ6tWrCYCHDh0iGXg/qVRXV9Nut/OWW27hlVdeycrKSpJNP6JLBtc/TqFbVFrOO7JGMDw8nAOH3uYSmonduvPXI0bwwmfaF9CcQrfygiZqvfWPU+g6R2+9pb4//kmrFLpJT69h9kvXu64ny9eCWYPuFaErCM2ICN3guQbAegCVAI4BeAFApIl6kQBm1deprPfx/Ub4fxDA5wCqABQB+JmBTRyAeQC+AXAWwDIAV3nYjAPwQf22KgBsBTDMwFcYgMkADgM4D+BjADcb7agPQiJGt7y8nBs3btSlvLw8AuDcuXP56aefmvZVVFREAFywYIErr6qqir1792a/fv10tsGELgQrdB988EEmJyfrjsuMGTMCElLO5aumTp1qWO5P6G7ZsoXDhg3junXrXHn+hK6/Oo3pO6fQf/PNN1151dXV7Nu3r+6hINB+8nXsvvjiC5LGMbrOGFcnEydObPb+UYXu/BXvceDQ2/jKP5e7hGbXxK4cP2IETx7WPg4xebK2vJgTb/3jFLqbdx3k35e8o0tP5WjnXc4Lf+Hi9z5stUK3x2//ydXr3A/Pf/pVpAhdQWhGROgGRwcARwF8CCADwAMATgOYY6Luq/W2D9TX3QTgK2hiNFD/IwDUAZgGYGC97xo0FJ7vAygFcA+AOwH8F8BnACIUm8MA5gIYDmAIgNehnRijPHxNBnABwAQAtwJYAU0Yp5jYdychteqCilGcp91up81mo91u91pvwYIFtNlsvOaaa7ho0SK+/fbb2k00KorXX389P/nkk6Db1Bih+9577xEAH3nkEa5fv54zZsxgr169AhJSJPnkk08S0D5IsGTJEm7atIkFBQWcMGECbTabblKcp2g1wp/QNVPHE28xus78jfWTCWtra9mzZ08mJiZy0aJFXL58OdPS0ti5c2ceOXLEZxt8UVRUxMGDB3Pu3LksLCzkypUredNNNzElJcUVR2xm1YWkpCQC4OrVq01vO9D+UYWuUep+1VUcP2IET3yjCN24K3y2wdvyYs50KcToOtOEl7u6hO7C5eANo14QoSsIzYQI3eCYAm1kNF7JexhALYBEH/W61ds8pOTFAzgH4DdB+N8H4C2PbfwbwFrl737QOniIkvd9aAL5HiWvk0F7PwCwQ/m7LYAzAKYreZEADgL4m0F9b4jQDXDVhQkTJjA1NZXTp09n+/btmZCQwLy8PI4fP55xcXFcvHhx0G1qjNAlyVmzZjEpKYkxMTG84447+NFHHwUsdEnt1f7QoUMZHx/PiIgIdunShXfeeSeXL1+us2ttQnfNmjUEwN27d7vy9uzZwwEDBjAqKorx8fG89957G31Ol5WVceTIkUxJSWHbtm3ZuXNnZmVlcf//Z++8w6Mo/jD+XkJCD10NIh0Be1fA8ycgdrGCvSHWiA2RoigCoiIKSOeSEHpLAgmB9ARRbFiwIYgKgqCiiKhICeH7+2Mvt3uXy+XucpfZvbyf55lHbu/ducvubObjZnZm61ZXxtu5fPvtt+XEE0+UOnXqyGWXXeYaQuHrf6y8Ecj58SW6X+74U9rEx0vCXbe5lvvVhi5Ufn4iRXRPHTlF8gr1u7ojbzmeoktImKDoBsc6aHcyjTSGJo/3+dhvgDPT2GN7OoC1AdbfHtqJ6+uRewLaHdfaztejAeyFNuTAyGcAUnx8VwB4HcBvhte9nJ95hkfuLWiy6y81VnSDpVevXnLnnXeq/hrECy+88EK52TDMzMSJEyU6Olr++OOPsH3Gt99+W6Fkbt28TWTDBvl91waX6P6y95Mq1+tZzCy6bYZmybikui7RnZUIadCyM0WXkDBA0Q2OPQDGetm+C8BrPvYbD22YgievQBsbG0j9V0M7cR09Mn2c27s4Xy8D8J6XuhZCG4fri/fhLuCPQZNtz7HCDzo/s14l9ZVB0Q2QZs2auf15mJiHnj17+pzbViV79uyRp556SjIyMqSgoEDGjBkj9erVk3vvvTesn+tLSPd8/oUc27BB9u7TRfeHnRurXK/VRPfilx93iW5BEeTu0xtQdAkJAxTd4CgB8KyX7V9DG9taEQ5nxpNnARwJsP47oZ04zyEH5zm3d3e+zgeQ5aWuqdAeYquIO1D+jvHz0IZZeHKLM1vRsI04aA2srJwLiq7f7Ny5UwBIfn6+6q8SFL6mzvJ3WVkSHH/99ZdcddVV0rx5c6lVq5aceOKJ8swzz8jBgwddmXCcH19CenjDBvnnW11y/9q/QTZv2VTleq0mum2GZsmsZfoCEpPGgaJLSBig6AZHCYDBXrZ/A2CWj/0c0B4E82QItOEGgdRfJrrNPDLnO7d3c77OB7DKS13ToI3x9cYZ0B4wS/bY/jy0scOe9HN+pudMDmWMgpcpgCi6kU/ZnLoVlf/973+qv2KNJlznpyIh/W7Ldm3Ywm5ddH/+/RP59ttvq1SvVUW3/1i72wISt57VIajjTQipGIpucETy0IU2zs8pABDj8V6wQxd4R7eGcvjwYZ9TZ23evFn1V6zRhOv8VCSkv238stywhc3bP6+xott2WLosX6M/lDbuyaigjjchpGIousGxDkCax7ZG8P9htEYe29NQ/mG0yuovexjtOo/cIGh3h8tkdDSAP7x8l09R/mG05gA2Q5tpIc7LPmUPo53usf1N8GE0QoiTioT0kJdhC59++VWNFd02Q7PkqfH6VGOLMiB/eVnamRASPBTd4BgO7U/7xtkTBkIbcuDP9GIPGLY1gTYcwHN6MX/q3wJgvsdnvAfv04v1Nmw7GeWnF2sAYAOAbah4CELZ9GJjDNtinPtwejFCiIh4F9It3+0oN2xh197P5ZMvvraU6EbVbypxcXFit9srLXFxcZXW23nEDMku0O/qznrxrDCfHUJqFhTd4Chb0GEtgMsB3A9gH8ov6FDoLEZmOrP3O/ddi4oXjKis/rIFI14GcCmAGah4wYgd0MbSXgfgS2gLRkQbMnnOfe927m8sRoZBW4XtSWh3eFOhSXk7+A9Fl5AIxpuQ/rLxq3LDFr77davlRNcWW8+Vr6zAFuVXva9Or+0S3RnJCPPZIaRmQdENnq7QxrH+B22u2TdQfuzqWrgPSQC0+W0nOPf5D9rDYl1QHn/qB7S7w1uhDVf4Er6XAN4H7e5xGsrfefb1UIoRG7Q7zjuhCe+H0B9885dKRddzoQJCiHXwJqT/bfhE/vUYtvDlzj/UiO7XVRPdUGcvG3qPPtVYIWTtolfDfIYIqTlQdIkKfIrujh075Pvvv6/mS4EQEio8hXTTD7u9Dlv4Yuc+JaL70Reb5KVF75hGdNsMzZKk5frwhYnj64f5DBFSc6DoEhX4FN09e/bIpk2bwrpyEyEkfHgK6c4vN3kdtqBCdD//bocUffCZDJxVaCrRHfhoHZfopq2B/PUrH0ojJBRQdIkKfIrusWPHZOfOnbJp0yb5/vvvZdu2ba5xuywsLOYvGzdulE8+/Vw+/WaLfPrNFvnuk09k6+cb5Lvv9PLZN5vl02+2yCeffi4bN24Mql5fZcMnn7hnv94iH32xSYo++ExGLnxH2g0Lv7wGkm3YvpNk5up3dWeMO7OadYCQyISiS1TgU3RFNNnds2eP7NixQ3mnzcLCEliZMmWKvDhugry6bJ28sTBPfnz+eclLe17ef18rK4pGy6vL1smry9bJi+MmyJQpUwKut7Lywosvlcu+tOgdGTir0E1yzSK6tVudKuMm6CulzVrAh9IICQUUXaKCSkWXEGJdjPPHDjjvBhFA5qfpdytvmnK5m+CFcl5aM8lroKJ7c9+2rmNUXAwpSB0d5jNFSORD0SUqoOgSEsEYhXRho+Plx/YGeSuCdHlhJkXXi+ja7XaZvdimP5Q2uV6YzxQhkQ9Fl6iAoktIBFMmpG0Hp8vvsMmiJ3TRnZxez6vgBVKvVeQ1GNGdOel817HKyIX8+ftPYT5bhEQ2FF2iAoouIRFMmZBe2+cxEUCSFuiie++s8ym6PkT3n/2/S3q2frymTeZDaYRUBYouUQFFl5AIpkxI34rvLHubQPIKdXE7e/RYiq4P0RURmfhWA9fxSlxqC+epIiTioegSFVB0CYlgyoT06+gYWXG3LrlzsmJ8Cp6/9VpFXoMV3eK016SwSD9u762bFs7TRUhEQ9ElKqDoEhLB2O12ad+inQggjlm6sCUkd6bo+iG6IiKzDcM9Jk5vFK5TRUjEQ9ElKqDoEhLB2O12eaheIzkUA8nK04Xt4lcHUXT9FN2po092HbcV2ZCDh/4J1+kiJKKh6BIVUHQJiWDsdrukRtWSgqt1yU3NsUmboSspun6K7u7vvpCMHP34pcy7Olyni5CIhqJLVEDRJSSC+V+PHrIPkMTXdVEbtuBEvwTPFzVJdEVEJk2McR2/6Quiw3GqCIl4KLpEBRRdQiKYezp0EAFkUYYuuldPvJmiG6DoLp9wu9tCG5u3FYXjdBES0VB0iQoouoREMBPj4mTLybrk5hdCOo1IoegGKLpHDx+WOcv04zhpVutwnC5CIhqKLlEBRZeQCGZDVJTbamgT0+sHJHgVUdNEV0Rk8gvNXcdxSRbkaGlJqE8XIRENRZeogKJLSITyx+bNUgpIYoouuvfNPo+iG6TofpE5X1bn68dyZd6ToT5lhEQ0FF2iAoouIRHK+scflwN1IdkFupydP3YERTdI0RURmTrV5jqWU+bWCeXpIiTioegSFVB0CYlQ3u3QQfKu0yV3aXaUtB6aSdGtgugmD73QdTxzCyC//vVdKE8ZIRENRZeogKJLSARyrLRUfo2KksTxuugOXdAqaMHzpKaK7p/btsnClfoxnbHwvFCeNkIiGoouUQFFlxCLkZCQIHa73Wfp37mzCCCLMw3Tir11C0W3iqIrIjJ5ZB198Yh0W6hOKyERD0WXqICiS4jFsNvtLnGrqAyrXV+2dNElN68Q0mnEXIpuCEQ3e/Qjkl+oH9sN3y0O1aklJKKh6BIVUHQJsRj+SGZRnQbu04qlNaiy4AX6Hcwkr6EU3SMHDsjsOfqxnTw3PlSnlpCIhqJLVEDRJcRiVCaZHQctkoOAJM7VZezeWedTdEMkuiIi0wbpc+qm50COHD0YilNLSERD0SUqoOgSYjEqk8ybL72/3LRi540ZSdENoeh+ljRdMnINc+q++1QoTi0hEQ1Fl6iAokuIxahMMie07CIF1+gStng1fE4rRtEN/DgcKy2VaW/qx3jqonqhOLWERDQUXaICii4hFqMyyfwopo4kvaJL2LPTY0MmeP5+B7PJa6hFV0RkzsCu+py6hZDf/v6+qqeWkIiGoktUQNElxGL4ksxTH0mSo4DMS9NFt/ejTSm6YRDd7cXFsnCFfpyTV/Wp6qklJKKh6BIVUHQJsRi+JPOui/rLLydACos0+SosgjQ/swNFNwyiKyIydUS0Lrrp0VU5rYREPBRdogKKLiEWw5dkTj+unay4W7/LOCsNYRE8iq7GioeukgLDnLpf/JRRlVNLSERD0SUqoOgSYjF8SebX0THieFsXr4detVF0wyi6+3780W0at6lLO1bl1BIS0VB0iQoouoRYjIok8+z7pkgpIMtX6+J1Tt8Yim4YRVdEZMZD9V3HOy0bUnL0cLCnlpCIhqJLVEDRJcRiVCSZD519jXx7CtxmAohtXIeiG2bRXTviKck0zKmb/dmoYE8tIRENRZeogKJLiMWoSDJTmrSURYN04XozrUHYBI+iq3No/36ZOVE/7tOWNgr21BIS0VB0iQoouoRYDG+S2XpIpmyzRYkjSReu+2afS9GtBtEVEUm5taXruOcUQH7/Z3swp5aQiIaiS1RA0SXEYniTzG63vSIl0ZBVebroXvTKYIpuNYnuxhnTZVGGfuznF94UzKklJKKh6BIVUHQJsRjeJPPJU3rK+3ZdtFbk2qTN0JUU3WoS3WOlpTJzuM11/JNWxARzagmJaCi6RAUUXUIshjfJXNawuaQ8r4vuqCXNwyp4FN3ypN54thQU6edg0668gOsgJJKh6BIVUHQJsRjlJHPISvkNNklepEtWv2m9KLrVLLo/5uRI0nzDYh2rzgm4DkIiGYouUQFFlxCL4SmZl944QvY3hOQZVug6Y9R4im41i66IyOyHarnOwZLVNiktLQ2qHkIiEYouUQFFlxCL4SmZQ7pcLLnX65K7YHV02AWPouud7FuvljX5+rlYt2V6UPUQEolQdIkKKLqEWAxPyUxt2FwSX9Plasj81hRdRaK756uvZPZ0w5y6aScFVQ8hkQhFl6iAokuIxTBKZushmfIrbDIvTZerayfdQNFVJLoiIsm31nOdi8w8yH+H9wddFyGRBEWXqICiS4jFMEqm/ZaX5PdmkELD0/5dXphJ0VUoumsfe1DS1ujnI/PTZ4Oui5BIgqJLVEDRJcQEJCQkiN1u96vExcW5pO2ZrpfI6n66VCWtiqkWwYtk0Y2q31Ti4uL8Ohfx8fESHx/vtq3XhRfK7Ff1c/LG3GjXewkJCSFvD4HUS4hKKLpEBRRdQkyA3W53yVhlBbYol7Qti2shieN1qXp6XjuKbgiygZwLb9lJF0S7zkleIaTZGR3FFlsvoOPr73cIpF5CVELRJSqg6BJiAoIRx9ZDMmWXzSYL0nXRvXrizRRdE2Rvtd8lC1bo5+WOqT3CdnyrOtSCkOqCoktUQNElxAQEI449+o+WX4/TZaqwCNL5BQdF1wTZdoPTxfGcfm5mptWi6JIaD0WXqICiS4gJCEYcnzylp2TersuUIzO2StJG0Q1t9o2zWrotCdzmf60puqRGQ9ElKqDoEmICghHHxY2OE8cEXaSenNuBomui7BVXP+W2JPDAcXUouqRGQ9ElKqDoEmICAhXH2JZdZYctShau1EXqyrdupeiaKNt6SKYkDbC5zs+iLMjF9h4hP74UXWIVKLpEBRRdQkxAoOLYuXlb2dVSl9yCIkjn55MouibLvtzlFLclga9/qEPIjy9Fl1gFii5RAUWXEBMQqDg+UK+xrLxTF6hZGbWrLG0U3dBnu932ijgMSwKPnFk75MeXokusAkWXqICiS4gJCFQc50bHiGOiLlBPzOlE0TVpNvH6WgEvCUzRJZEIRZeogKJLiAkIVBy3AbIoQxfdy9+8g6Jr0uzgU7q7Lwn82ZCQHl+KLrEKFF2iAoouISYgELFpXau27DjJfXxupxEpFF2TZs8YOEMchiWBZ65oEtLjS9ElVoGiS1RA0SXEBAQiNnfboiX9Xl2cZmTUCYm0UXTDl03sUddtSeBf//ouZMeXokusAkWXqICiS4gJCERskmATx2Qw68V3AAAgAElEQVRddB+f05mia/LswHOudVsSeOF7/UN2fCm6xCpQdIkKKLqEmIBAxGYrIEtW6dLUZ8LdFF2TZzsNWijJhiWBkzN8z75A0SWRCEWXqICiS4gJ8Fdszrl3kmxrpwtTfiGk44h5FF0LZKe2jXZbEvjb3QUhOb4UXWIVKLrB0wVAPoADAH4FMB5ArB/7xQJ4w7nPAWcdnatQ/wMAvgNwCMAXAK71kmkEIAnAnwD+AZAKIN4jcx6AFABboDWIlAq+/3bn+8ZyqIJsRVB0CTEB/orNgPNukLT7dVmatrJuyESMohve7JVxx0nSAv3cJRVcHJLjS9ElVoGiGxxNAOwG8A6AKwAMAPAXgKl+7DvTmR3g3HcdgJ+hyWig9d8G4BiAMQB6OusuAXCRRy4HwE4A/QH0BfAVgI0AahkyTwLYCmA+NLFOqeD7bwewxPkZZeUC3z9yOSi6hJgAf8Vm+nHtxDFJl6XHkrtQdC2SrdOyq8wboJ+7JWuipLS0tMrHl6JLrAJFNziGQ7sz2tSw7SEARwG09LFfK2fmQcO2pgD+BfBcEPVvAbDQ4zPWA1hjeN0N2gnuY9jWGZog9zdsizL8eyN8i+6kCt7zF4ouISbAX7H5tFas2/y5fSbcRdG1SLZ2q1Nlygl13ZYEfve7mVU+vhRdYhUousGxDkC6x7bG0OTxPh/7DXBmGntsTwewNsD620M7cX09ck8AOAygtvP1aAB7Adg8cp+hYpml6BJSA/BHbLo8Nld2tPRv/lyKrvmytVudKrd37uy2JPDM1Z2qfHwpusQqUHSDYw+AsV627wLwmo/9xkMbpuDJK9CGCwRS/9XQTlxHj0wf5/YuztfLALznpa6FAD6s4HtWJrr7oMn0PwAyAJxcQbYiKLqEmAB/xOaWS+6VzNt1SZqdGRtyEaPohld0L+7RQ5ZcH1XpksAUXRKJUHSDowTAs162fw1gto/9HM6MJ88COBJg/XdCO3HNPTLnObd3d77OB5Dlpa6p0B5i84Yv0Z0M4A4Admh3qLdBE/MTKsgDQBy0BlZWzgVFlxDl+CM2r7U6TRLH66L79Nz2FF0LZcuOb0GfXpUuCUzRJZEIRTc4SgAM9rL9GwCzfOzngPYgmCdDoN0hDaT+MtFt5pE537m9m/N1PoBVXuqaBm2Mrzd8ia4n7QAchPZAXEWMQvmZGii6hCjGH7EpqtNA5qXpgnTNxBspuhbKlh3fHe+8I4mGJYFnZTar0vGl6BKrQNENjpo8dMEbng/AecI7uoSYkMrEpv3TqbKzCdzmYT1l5DSKroWyxuObdonvJYEpuiQSoegGxzoAaR7bGsH/h9EaeWxPQ/mH0Sqrv+xhtOs8coOg3R0um3N3NIA/vHyXTxHcw2jeWA9gdQB5jtElxARUJjZXXP2U5F6vS+7cTIRcxKLqN5W4uDix2+2Vlri4OOXiaLWsUUjfuf12tyWBF62/NaD2QNElVoSiGxzDAfwN99kTBkIbcuDP9GIPGLY1gfZQl+f0Yv7UvwXavLdG3oP36cV6G7adjPLTixkJRHTbQxu6MNrPPEDRJcQUVCY2IzpeKEljdDEaPL3yB9GCkbayfGUFtijl4mi1rFFI9373naQM0c/nnFV1AmoPFF1iRSi6wVG2oMNaAJcDuB/aTASeCzoUOouRmc7s/c5916LiBSMqq79swYiXAVwKYAYqXjBiB4B+0O4AfwlNZqMNmRYAbnGWbQCKDa/rOTPXAFgK4C5oC1Q8COAnAL/B98NonlB0CTEBlYnNigZNZc4SXYyufKKJZQSPWe9Cuvrspm5DUb7ZleN3e6DoEitC0Q2ergAKAPwHTfTeQPkletfCfUgCoM1vO8G5z3/QHhbrgvL4Uz+g3R3eCm24wpfwvQTwPmh3j9NQ/s7zpfDywJiztHVmzoAm7nugCfUeAIug3dUNBIouISbAl9i0HpIpP9aF5BbqUtSqe1vLCB6z3oX0/aeflqR5hiWBC3v41R4ousSqUHSJCii6hJgAX2LTo/9oeecyw9Kxq6Fc2pituuj+t3evLLlXP6/LsqPkaGlJpe2BokusCkWXqICiS4gJ8CU2j59+maQ8rwvRiJk25dLGbNVFV0Qk7/R2stqwJHDxt5MqbQ8UXWJVKLpEBRRdQkyAL7FJadJSkubrMnTdID4IZsWsNyH9bMIEcUwxzKm7pkOl7YGiS6wKRZeogKJLiAnwJTZfx9jc7vq1PjdWubQxGxrRPXr4sGRcoZ/b1fmQvw/+TtElEQlFl6iAokuICahIbM4aMFU+6q6L0IpcmyC2jnJpYzY0oisiUnj+ObJ8tX6O0zc8TtElEQlFl6iAokuICahIbO674CaZP1iXoLFLm5pC2pgNnehuXrpUkl/Wz7EjqwlFl0QkFF2iAoouISagIrGZcnwHcSTpEnT3zAtNIW3Mhk50j5WWSu7ZtVznuKAIctn1Z1N0ScRB0SUqoOgSYgIqEt0PY2IkI0cX3W7jBptC2pgNneiKiBRfcYXMXaaf50dea0rRJREHRZeogKJLiAnwJronP75APjvT/UGltsPSTSFtzIZWdH9+/31ZNEg/18kr/Z9CjqJLrAJFl6iAokuICfAmujf1HCBLHtPl543UONNIG7OhFV0RkeJ2DdxWv+t8ZSuKLokoKLpEBRRdQkyAN9F9pfUZ4pihi89Ax1mmkTZmQy+679x9tzgS9fP92Ft1KLokoqDoEhVQdAkxAd5EN79OQ7dpp/73+sOmkTZmQy+6+378UTL66ec7LUcbqkLRJZECRZeogKJLiAnwFN12g9Pli4669OQWQjoMX2IaaWM29KIrIvJO6+PdHj68/M07KbokYqDoEhVQdAkxAZ6i2+fawZI2QBeet1fUM5W0MRse0f1gyBBxTNDP+6jFzSm6JGKg6BIVUHQJMQGeojv05O7imGwYr5nc1VTSxmx4RPfgvn1S1EM/7zkFkJOfn0PRJREBRZeogKJLiAnwFN3Uhs1lUYYuPH0m3GUqaWM2PKIrIlLcuZPbue83rRdFl0QEFF2iAoouISbAKLqth2TK5y110SkognQakWIqaWM2fKL7+aRJMne4YdhKel2KLokIKLpEBRRdQkyAUXQvuv1VybxdF53ZGbGmkzZmwye6pSUl8n57SGGR3gbOfPlVii6xPBRdogKKLiEmwCi6j555hSS+oUvOU3Pbm07amA2f6IqITG3YUJIX6m3gwcQzKLrE8lB0iQoouoSYAKPoJjdtJfPSdMm5ZuJNppM2ZsMruv26dpXUgXobWLg6SloPzaToEktD0SUqoOgSYgKMovtR0ygpMPzZuusLM0wnbcwGno2q31Ti4uLEbrdXWuLi4mR9HCS7QG8H9tcSKLrE0lB0iQoouoSYgDLRPX3gTMm9XpebuVnRppQ2ZoPLluUrK7BFyXN1Gohjut4Wnpt/EkWXWBqKLlEBRZcQE1Amundd1F+SxuhyM3RBK9NKG7PhzbZr0U7yrtHbQmaevjoeRZdYEYouUQFFlxATUCa6k0/oJHOW6HJzw9tXmVbEmA1/tqBeXUlbo7eHvpOvo+gSy0LRJSqg6BJiAspEt7hhrOQW6mJzxqg3TC1izIY3O+i03pI0Vm8Pb6Q2pOgSy0LRJSqg6BJiAux2uzQ6obMU9NGlZsmaKNOLGLPhzZ7y6BzZeKreJgqLIKePmkDRJZaEoktUQNElxATY7Xbp1egESXlel5qRi443vYgxG/5sWoNmbsNZBjrOougSS0LRJSqg6BJiAux2u7xQu74kzdeF5tZpl1pCxJgNb/bui/rJsof1drFgdbTbnLoUXWIVKLpEBRRdQkyA3W6XVbVssjpfF5pzx7xkCRFjNrzZDk8vkx8aQdYY2sb/xj9E0SWWg6JLVEDRJcQEXNKjhxT30EVmRS4qXAnLbCLGbPizic1OEsdUvX2MWBhP0SWWg6JLVEDRJcQE9O/cWeYP1kVm7NKmyuWKWfNkr+vziKw1PKi4pgDSacRcii6xFBRdogKKLiEm4KXmzcWRpIvM3TMvUi5XzJooO2SlfG+DLFmlt5F+U3tTdImloOgSFVB0CTEBqbVjJCNHl5iLXhmsXq6YNVX2jRO7us3KMWVFXYousRQUXaICii4hijlWWipFZ+oCk5UPaTM03RRyxax5spfc/KL82F6bS7esrZwzejRFl1gGii5RAUWXEMXsfO89WZygy8uE5eVXv7KCiDEb/uxHMXXcpqB7LLkLRZdYBoouUQFFlxDFvPfoo+KYocvLA46zTSVXzJon+0zXS2TF3XpbWZ5jkzqtu1J0iSWg6BIVUHQJUcw7p5wiqasNc6S+/rCp5IpZ82RPfSRJ/qgLWZWnt5du97Sg6BJLQNElKqDoEqKY4q4xLmnJLYB0GL7EVHLFrLmyS+KOE8dbuui+lFyLokssAUWXqICiS4hC9v34o6QOMDxJn17HlHLFrHmyt/zvPvmou95mcgshva4+V3VTJqRSKLpEBRRdQhTy8UsviWOyLi2PJp9iSrli1kTZISvlRxtkwQq93Tw4tpnqpkxIpVB0iQoouoQopPjCC2Vxpi4sfSbcbU65YtZU2ddanea2kl5yhk1KS0tVN2dCfELRJSqg6BKikKKO9VyyUlCkL+tqRrli1jzZC29/VX45QRu2UNZ+3t+aqLo5E+ITii5RAUWXEEUc3LdPVtyui8qsNJup5YpZc2WLa9cXx2y9/ThyT1bdpAnxCUWXqICiS4giNk6ZIolv6KLy+MTappcrZs2TfeTMK6XwKr39rCmA/PnvTtXNmpAKoegSFVB0CVFE8eWXy/w0XVQuGdjM9HLFrHmynQYtlD+jIEtX6W1o8ft3qG7WhFQIRZeogKJLiCKKOjaRwiJdUpqf2cH0csWsubLJTVvJ3OF6G5qXXU91syakQii6RAUUXUIUcPTwYVl5gy4oczNslpErZs2TveaKBNnZCpJveCjt4x8XqG7ehHiFoktUQNElRAGbly6VpLG6nIyYVdcycsWsebKth2TKJkAcSYaH0vJOUd28CfEKRZeogKJLiALW9usnKUt1OblzeLxl5IpZc2WH1mkguX31trQ6H7L/v99UN3FCykHRJSqg6BKigKKTT5Q8w5+b+9x4lnJhYtaa2ZOOay+HoiDLV+vtadmH96tu4oSUg6JLVEDRJaSaOVZaKiuv1KVkaXaU2O125cLErDWztVudKqtiY2XOSMOY7+wGqps5IeWg6BIVUHQJqWZ2vvuuzHnRsFBEdjuKLrNVEt2HWreW7W201fXK2tXnP6WrbuqEuEHRJSqg6BJSzbz78MOSvND4Z+b7KLrMVkl0L+nRQ3ZGR0tiiuGhtPwzVTd1Qtyg6BIVUHQJqWYKTz1Zsgt0Ifl2dwFFl9kqia7dbpfiXr1k9S16u1qVb5N/D+5V3dwJcUHRJSqg6BJSzazsFe2SkfQcm5SWllJ0ma2y6O7esEEO1oKkrdFlN+3jR1Q3d0JcUHSJCii6hFQjf2zeLPOeM4zPzYoXEaHoMltl0RUR+fD44yX5Zb19pWQ3VNncCXGDoktUQNElpBr5cMQIt3GUi97rJyIUXWZDI7ofjRwpP3Rwfyjtk21LVTZ5QlxQdIkKKLqEVCMF558jWXm6hHy2PVVEKLrMhkZ0Sw4elF3R0ZKYbFwpravKJk+IC4ouUQFFl5BqJP2S2i4BycyDHC0tERGKLrOhEV0RkeJLLpG863TRXVMA2fvPT6qaPCEuKLpEBRRdQqqJA7//LvOf1AVkdmZT13sUXWZDJbo/v/++HImCLFmlt7WF792ioskT4gZFl6iAoktINfH5xInicOjyMW/dNa73KLrMhkp0RUQ+btFC5j9rGAueHSulpaXV3eQJcYOiGzxdAOQDOADgVwDjAcT6sV8sgDec+xxw1tG5CvU/AOA7AIcAfAHgWi+ZRgCSAPwJ4B8AqQDiPTLnAUgBsAVag0ip4PvbAAwDsAPAQQAfALiogmxFUHQJqSaKeveUFdm6fLz/fbLrPYous6EU3Q+HDZPfWkByDPM1F2+aWN1NnhA3KLrB0QTAbgDvALgCwAAAfwGY6se+M53ZAc591wH4GZqMBlr/bQCOARgDoKez7hKUF88cADsB9AfQF8BXADYCqGXIPAlgK4D50MQ6pYLvPwzAYQBPA+gNIB3A3wDa+/6x3aDoElJNpHdvqI+bzIccOnLA9R5Fl9lQiu6RAwfkl6gocUwxPJSW3aq6mzwhblB0g2M4tDujTQ3bHgJwFEBLH/u1cmYeNGxrCuBfAM8FUf8WAAs9PmM9gDWG192gneA+hm2doQlyf8O2KMO/N8K76NYBsB/AK4ZtsQC2A5juJV8RFF1CqoGSgwdlwSMG6cho4PY+RZfZUIquiEix3S4fddfbXH4h5Kc/Pq2uJk9IOSi6wbEO2p1MI42hyeN9PvYb4Mw09tieDmBtgPW3h3bi+nrknoB2x7W28/VoAHuhDTkw8hkqvmtbkej2cn7mGR7b34Imu/5C0SWkGti0YIE4punSMae4p9v7FF1mQy26uz/+WEoAmbu84nZHSHVC0Q2OPQDGetm+C8BrPvYbD22YgievQBsuEEj9V0M7cR09Mn2c27s4Xy8D8J6XuhYC+LCC71mR6D4GTbY9xwo/6PzMehXU5wlFl5BqYO1NN8myLMN4yW8nub1P0WU21KIrIvJBy5ayfKBhSeDcKLchM4RUJxTd4CgB8KyX7V8DmO1jP4cz48mzAI4EWP+d0E5cc4/Mec7t3Z2v8wFkealrKrSH2LxRkeg+D22YhSe3OD+zomEbcdAaWFk5FxRdQsLOyotauGQjtxDy78G9bu9TdJkNh+h+On68/FsPkpmry27mZ0Oqo8kTUg6KbnCUABjsZfs3AGb52M8B7UEwT4ZAG24QSP1lotvMI3O+c3s35+t8AKu81DUN2hhfb/gS3X+8bO/n/EzPmRzKGOV8361QdAkJH8dKS2XB/bpoJGXUKZeh6DIbDtE9VloqP8TGSuKrevtLzm4S7iZPiFcousHBoQvuVDZ0gXd0CakmEhISxG63y42nniqOSbpoPD2pgdjtdrcSFxenXJiYtWbWl+iKaMNmNncxDJsphmz8aaXf7dffkpCQEMrLh0QgFN3gWAcgzWNbI/j/MFojj+1pKP8wWmX1lz2Mdp1HbhC0u8NlMjoawB9evsunCP5htNM9tr8JPoxGiCmw2+1ii60nD9dtJIsydMnodk8Lqd3qVLcCW5RyYWLWmtnKRPevn36SfwFJnGuY9SO3i9/t17Oteiu22Ho+vwMhIhTdYBkObe5Y4+wJA6ENOfBnerEHDNuaQBsO4Dm9mD/1b4E2762R9+B9erHehm0no/z0YkYqm15sjGFbDIBt4PRihJiCsuEIszs3dQlGQSGk04gUUwoTs9bMVia6IiLvdOkiedfpoptdAPnt7+/9ar+h+g6EUHSDo2xBh7UALgdwP4B9KL+gQ6GzGJnpzN7v3HctKl4worL6yxaMeBnApQBmoOIFI3ZAG0t7HYAvoclstCHTAtpDZbdAE9diw2vjkIRh0FZhexLaHd5UaFLeDv5D0SUkTNjtdolt2VXm36ULxqz0WqYVJmatmfVHMjcvXSqlgNtfFua+c2Wl7ZeiS0IJRTd4ugIoAPAfgN+gLevrOXZ1LdyHJADa/LYTnPv8B+1hsS4ojz/1A9rd4a3Qhit8Cd9LAO+Ddvc4DeXvPF8KLw+MOUtbQ84G7Y7zTmjC+yH0B9/8haJLSJiw2+3SuXlbcUzU5WJQckfTChOz1sz6K5lfNGwoix/X22JqbrTPqcYouiTUUHSJCii6hIQJu90uA+o1druLdvmbd5pWmJi1ZtZfyXzvscdkf0PIqjy9Pa785Cmf7ZeiS0IJRZeogKJLSJiw2+0ytXUtj/G5c00rTMxaM+uvZB7av1/22GySOE4X3ZTshj7bL0WXhBKKLlEBRZeQMGG32yXl7srH55pFmJi1ZjYQySy+5BLZ2hFSUKS3yw9/mFth+6XoklBC0SUqoOgSEiauPfNMt/lzByV5H59rFmFi1prZQCTzty++kMOAOBINU43ltPOapeiSUEPRJSqg6BISJp494QRZnKkLRZ8Jd5lamJi1ZjZQyXy3fXtZ11tvl3mFkB17Py+Xo+iSUEPRJSqg6BISJmZ0rO3X+FyzCBOz1swGKpmbFiyQUkDmpRmWBS4qvz9Fl4Qaii5RAUWXkDCRfI8uEjPTKh6faxZhYtaa2WAk8/NGjSR1oN4+M/Js8u/BvW4Zii4JNRRdogKKLiFh4NfPP3cfn5vYwfTCxKw1s8FI5gfPPSf/1YGkZ+ttdPH7t7tlKLok1FB0iQoouoSEgfVPPOExPvdu0wsTs9bMBiOZRw8flh21aknKCL2NLsmJkZKjh10Zii4JNRRdogKKLiFhIK1XB7fxuR1HzDO9MDFrzWywklnct6/saQ5Zk6/LbuZnQ1zvU3RJqKHoEhVQdAkJA3MGRPk9PtcswsSsNbPBSuZfP/0kfwOSOF4X3bnZDaS0tFREKLok9FB0iQoouoSEmD82bxbHZMP4XIfv8blmESZmrZmtimSuPeMMbQGJQr29rtsyTUQouiT0UHSJCii6hISYD4YMkSWG8bmXTbjHEsLErDWzVZHM7QUFUgqIY6beXhOzTxARii4JPRRdogKKLiEhJq1PJ5c05PsxPtcswsSsNbNVlcwP4uNlw0W66BYXQ776eTVFl4Qcii5RAUWXkBCT9EC0SxhmLINlhIlZa2arKplfzpolAkjyQsOywLmdKbok5FB0iQoouoSEkD82bxbH27owPPJaHcsIE7PWzIZCMjfGxUluX73d5hZCevc9m6JLQgpFl6iAoktICHn/mWdk6SpdGC666zjLCBOz1syGQjI/euEFKQVkwQq97T49uSFFl4QUii5RAUWXkBCy7PI2bnfFGnbqbBlhYtaa2VBIZmlJiXwfGyupA3TRXZUHaXxKp2r7DiTyoegSFVB0CQkhiQk2lyhMW2JTLkHMRn42VJK57v775VAMZPlqXXbvGl2/Wr8DiWwoukQFFF1CQsTujz8WxyzD/Lnj45RLELORn42q31Ti4uLEbrdXWuLj4yU+Pt7re5d26yY/A7JokN6GV+ZCOoxYUOl3oOgSf6DoEhVQdAkJEWsfflBW5uiS0HdgR+USxGzNyJblKyuwRfnMDqnTQA7UhaRn6+34nlkXVPodKLrEHyi6RAUUXUJCxILrjnfJQVY+5JJLe5hCgphl1t9s10dT5C9A5g/WRXd5jk06DF/is16KLvEHii5RAUWXkBBwrLRUZg/R5WBGasOA5iG1ggQxWzOyb8V3lv0NIRmGv07cPv0Sn/tQdIk/UHSJCii6hISA7YWFkjhPF4N5xX0pusxaMnvOvZPkECApz+vtefGaKGk3LLXCfSi6xB8oukQFFF1CQkDBvbfKmnxdDL7cuYqiy6xls7Obt5a9TSBZeXqbvnlKnwrzFF3iDxRdogKKLiEhYE6/xi4hSMuGlJaWUnSZtWz2gjvHyxFAkl82/JVidS1pMzTda56iS/yBoktUQNElpIocKy2VWS/pQjB1eXMREYous5bOJsImv5wAt79U9J18rdcsRZf4A0WXqICiS0gV2bpypaQs1WVg6fr7RISiy6y1sx1qxcpRQBJf1dt2Spb3u7oUXeIPFF2iAoouIVVkzR1XS36hLgPbfv9YRCi6zFo/Oz86Rna2gmQX6O37hrevKZel6BJ/oOgSFVB0Cakis+9p4JKAhatsru0UXWatnj2tWWsp9birO391tLQd5n5Xl6JL/IGiS1RA0SWkChw9fFhmvW4cn3uS6z2KLrORkF3esLns9hir6zkDA0WX+ANFl6iAoktIFfg6OVkWrNAFIPPT51zvUXSZjYRszxuGiwCSNEZv54vWRLvNq0vRJf5A0SUqoOgSUgXSb77A1fkXFEF+/2e76z2KLrORkl3ZoKn81sJ9Xt3+03q6shRd4g8UXaICii4hVWDWozGujj95RS239yi6zEZKtucNw6UUkDmGafSWZkdJ+2HLpM1Qii7xD4ouUQFFl5Ag2b9zp8yeqXf8M1ee5fY+RZfZSMoui2shvzeDrDLc1b19ul3aDKXoEv+g6BIVUHQJCZL1I4ZJRo7e6a/f6nB7n6LLbCRl7beMkqOApDyvt/nlOTbpMHwhRZf4BUWXqICiS0iQzLn1RP0htDxIydHDbu9TdJmNtOy8xvGyrxHc/gdvgONsii7xC4ouUQFFl5AgmTHS5urspy2NK/c+RZfZSMteePurchiQBc/oorsqH9LsjI4UXVIpFF2iAoouIUGw45133Jb9XVh8a7kMRZfZSMzObt5a/qsDWZalt/+EiXUouqRSKLpEBRRdQoIg64HrpcCw7O/23zeUy1B0mY3E7Ln3TJSDgKTfp7f/3ELI5becoeBKJFaCoktUQNElJAhmPKgv+zsvI8prhqLLbKRmpxzfQY5GQean67L7cnKdar4KidWg6BIVUHQJCZCSgwdl5tuGZX+XtvOao+gyG6nZMwbOkL8AybtOvw4KiyCfbFtazVcjsRIUXaICii4hAfLF7FmSulrv4PO/fM1rjqLLbCRnX257trY08AL9WkjKbl7NVyOxEhRdogKKLrEMCQkJYrfb/S4JCQlhqff13k1dHXt2AeS/w/u91kvRZTaSs50GLZSdtij5qLsuusXFkPyvXw3lZU8iCIouUQFFl1gGu93u6nwrK7bYen4/BR5ovZOf1Tv1GUsrHpdI0WU20rOPn36ZCCCOWYYZSLJry5GjB0N12ZMIgqJLVEDRJZYhEHGs3cr/CewDqff4EzpK0ny9U0/M7BWSeq0iNswyayxtB6fLV9ExsrUjJKdAvy4Wrb8tVJc9iSAoukQFFF1iGcwgunec0FhyDdOKfbMrJyT1WkVsmGXWs9zW404RQJJf1q+LjDyb7Pn7x1Bd+iRCoOgSFVB0iVeN29UAACAASURBVGUwg+i+dmuUftcqyxayelXLCrPMBpttPSRTCmxR8lccJD3b8NeO/HNCcdmTCIKiS1RA0SWWQbXoth2c7jat2JRFrUP2fVXLCrPMViV7QZMTRQBJHWh4KK0Q8vXPa0Jx6ZMIgaJLVEDRJZZBtehefcWjbnesCr56PWTf1wyywiyzwWZrtzpVFtepI0ejIHNTDXd1s48LxaVPIgSKLlEBRZdYBtWiO/Lalq4OPCsPcujIgZB9XzPICrPMBput3epUufrss+VvQN7t6T7dWO5XY0Nx+ZMIgKJLVEDRJZZBtei+PcqwGtqi+iH9vmaQFWaZDTZbdr0VX3VVuenGluTEVDjXNKlZUHSJCii6xDKoFN1z7p0k8wx/kl2Qe2tIv68ZZIVZZoPNll1vh/bvl20xMfJje8iafP16SVnbu6qXP4kAKLpEBRRdYhlUiu5jvc53ddqFRZBf/toc0u9rBllhltlgs8br7aORI0UAmfecLro5BZAtvxRX5fInEQBFl6iAokssg0rRfWNQrKvTnr0MIf++ZpAVZpkNNmu83o6VlsrHLVrIoRjIopXGB9NaSGlpadDXP7E+FF2iAoousQyqRLfD08tk9hy9w35mbL2Qf18zyAqzzAab9bzeflizRo4AsraP+4Npqz57Lqhrn0QGFF2iAoousQyqRLdf79sk27C86VV3dA759zWDrDDLbLBZb9db8fnnaw+mTdOvndTcaPnrv18CvvZJZEDRJSqg6BLLoEp0x9wd5+qol66GXGzvEfLvawZZYZbZYLPerrd/f/tNdkZHy66WkFV5hiEMBecHfO2TyICiS1RA0SWWQYnoDlkp06fqnfTwN6PDsrSwGWSFWWaDzVZ0vX30wgsigCx+3LDQShHk4x8XBHTtk8iAoktUQNEllkGF6F5+zeOSkat30uf3a0HRZZZZj+LrevsgPl5KoiFzl+vX0fzsupUuuEIiD4ouUQFFl1gGFaL7wq3HuzrnFTmQOq27UnSZZdaj+Lredn/8sfwNyMazIXmFxrl1+/h97ZPIgKIbPF0A5AM4AOBXAOMBxPqxXyyAN5z7HHDW0bkK9T8A4DsAhwB8AeBaL5lGAJIA/AngHwCpAOK95LoD+ADAQQA/ARgKwOaR2Q6twRjLIS91+YKiSyyDCtGdMkHvmMfMrh/Ssb9mkxVmmQ02W9l1sfaGG0QAmfOiYWngQshXP6/261oikQFFNziaANgN4B0AVwAYAOAvAFP92HemMzvAue86AD9Dk9FA678NwDEAYwD0dNZdAuAij1wOgJ0A+gPoC+ArABsB1DJkOkKT4HQAvQE8DeAwgGc96toOYInzM8rKBX783EYousQyVLfodrt1tKSu0Tvma8ddT9FlllkvpbLrouTgQdlUt64crA1ZsMJwVze7oZQcPezX9USsD0U3OIZDk8Kmhm0PATgKoKWP/Vo5Mw8atjUF8C+A54KofwuAhR6fsR7AGsPrbtBOcB/Dts7QBLm/YdssANvgftd4HIB9AGobtm0HMMnzBwsQii6xDNUtukNuauvqkFfnQzoMX0LRZZZZL8Wf62LT/PlSAsgHF2sPpLmW037vJr+uJ2J9KLrBsQ7anU8jjaHJ430+9hvgzDT22J4OYG2A9beHduL6euSegHYntkxORwPYi/JDED4DkGJ4vQPAWx6ZM5yfcalh23ZQdEkNorpFd9JYm6szHp8cG7J6zSorzDIbbNbf66K4e3cRQBLH6aKbXQDZvLvQr2uKWBuKbnDsATDWy/ZdAF7zsd94aMMUPHkF2jjcQOq/GtqJ6+iR6ePc3sX5ehmA97zUtRDAh85/13fuM9AjEwtNrh8xbNsO7S7vYWh3nTMAnOylfl9QdIllqE7RPXPANFmcqXfGt75iD0m9ZpYVZpkNNuvvdXFo/37ZWru2/N0AsmQVhzDUNCi6wVGC8mNXAeBrALN97OdwZjx5FsCRAOu/E9qJa+6ROc+5vbvzdT6ALC91TYX2EBvgFE8At3jJ/QtghOH1ZAB3ALBDu0O9DZqYn+Bl3zLinJ9RVs4FRZdYhOoU3YTrznB7aKbTiJSQ1GtmWWGW2WCzgVwX36SkyFFA1vVyH8KQsvZyv/Yn1oWiGxwlAAZ72f4NtLGuFeGA9iCYJ0Og3SENpP4y0W3mkTnfub2b83U+gFVe6poGbYwvoIvuzV5yB6CNGa6IdtBmaRjjIzMK5WdqoOgSS1CdovvmqGhXB/z2glohq9fMssIss8Fmo+o3lbi4OLHb7X6V5OOPFwEkaawuuvmF5ReSSEhI8LtOu90uCQkJfl2bgdQbHx8v8fHxIf8ONRGKbnDU5KEL3vB8AM4T3tEllqW6RPe0gdNlUYbeAd/96rkhqdfsssIss1XJluUrK7bYetKzWzf5PjZWDtaGzE/Xr7VF2bHy78G9btdQIPUGcm36Wy9sUWH5DjURim5wrAOQ5rGtEfx/GK2Rx/Y0lH8YrbL6yx5Gu84jNwja3eGy2RNGA/jDy3f5FOUfRnvTI3M6yj+M5o31AFZXkjHCMbrEMlSX6D5+w6luwxZOfn5OSOq1gqwwy2y4s2XX0NfJyXLUuZBEboEuu4n5Z1X7NR/qn414h6IbHMMB/A332RMGQhty4M/0Yg8YtjWB9lCX5/Ri/tS/BcB8j894D96nF+tt2HYyvE8v9iOAGMO2sdAePPO1EEZ7aEMXRvvIeELRJZahujq9t8ZGuTrdifNqma4zZZZZK2eN11Cx3S4CyILBuugWF0Pyvh5Xrdd8OH42Uh6KbnCULeiwFsDlAO6HJoSeCzoUOouRmc7s/c5916LiBSMqq79swYiXod11nYGKF4zYAaAftDvAX0JbMCLakOkI7cGzVAC9ADyJ8gtGXANgKYC7oC1Q8SC0FdR+g++H0Tyh6BLLUB2d3ukDp8lSw9Pgt4/tZrrOlFlmrZw1XkMlBw/Klw0ayNEoSPJC/bpbkRclO//8gqIbYVB0g6crgAIA/0ETvTdQ/s7nWrgPSQC0+W0nOPf5D9rDYl1QHn/qB7S7w1uhSemX8L0E8D5od4/T4P3Oc3do43YPQVtJbRjc5989A5q474Em1HsALIJ2VzcQKLrEMlRHpzeoX2e3+T07jphnus6UWWatnPW8hn4qLpb9gGxrB8nM1WU3Obux2C/pQdGNICi6RAUUXWIZqkN0J76uD1uYkBxjys6UWWatnPV2Db378MMigKy52X0IwxNvNaLoRhAUXaICii6xDOEW3bMGTJLU1Xon22/0/0zZmTLLrJWz3q6hY6Wlsr51a23VtNf0a7CwCHLebccHXW91X5sUXd9QdIkKKLrEMoRbdJ+8s6Org12dD+kwfIkpO1NmmbVytqJr6K/t22VndLQcioHMXabLbmo25JSRU4OutzqvTYqubyi6RAUUXWIZwi26k9+yuTrX1x2xpu1MmWXWyllf19BXDoccAWRrR/fxuhPTGkjbYelB11td1yZF1zcUXaICii6xDOEU3S7xrSXD0LHeMOoK03amzDJr5Wxl19Dam24SASSrv8d43ZSOVaq3Oq5Niq5vKLpEBRRdYhnCKbrP3VHL1aGmZ6PCu0dm6EyZZdbK2cquoWOlpbL+pJO08brj3GX3hrevCbre6rg2Kbq+oegSFVB0iWUIl+he3KOHzEzWO9MX325o6s6UWWatnPXnGvp71y75ITZWSqIhSQv0azOnAHLRK0OCrjfc1yZF1zcUXaICii6xDOES3TsvaC15hXpnevHzCSGpl6LLLLPli7/X0NaVK+VfQH5rAbdFXJZkR0nXF2YEXW84r02Krm8oukQFFF1iGcIluq88o8+dO3cFQlYvRZdZZsuXQK6hwfHxIoB8dq62gEvZdTopvb60G5YadL0UXTVQdIkKKLrEMoRDdA//84/MTdU70CfHnRiyjoyiyyyz5Uug19CEmDoigKy803287vAFJ0rroZlB16v6Z6uJUHSJCii6xDKEQ3SXvXKLq+MsKIScNmJiSDtp1VLBLLNmywZ6DdVp2VWy6zYSASRprLvsDnCcHXS9qn+2mghFl6iAokssQzhEd/Kb0a5Oc8q8qJB30qqlgllmzZYN5ho65dE5sim6lhyNgjgc7rJ7/dvXBl2vyp+tJkLRJSqg6BLLEGrR/eH9ArdJ6W8b2T0snbRVBIRZZqsjG+w11P3WsfIHIP/Wg6QYVk7LLYRc8vojprg2Kbq+oegSFVB0iWUItei+/fyJrs4yLRvlHm4JZSdtBQFhltnqyFblGrqp5wNyBJDdJ7jPxJCRB2nXs7Xya5Oi6xuKLlEBRZdYhlCKbmlJiSQtNjzYMjY67J202QWEWWarI1vVa+jx0y8TAeSb09yXCV6yBtLnxjOVXpsUXd9QdIkKKLrEMoRSdNPfvNfVQRYWQTpcdFK1dNJmFhBmma2ObCiuoTFtzhQB5J3LILmGacfmrbLJrn1fK7s2Kbq+oegSFVB0iWUIpehOejPG1TlOm49q7aTNKiDMMlsd2VBcQ62HZIqjmbZMcFZ/bcaUsut5fnZd2fvPT0quTYqubyi6RAUUXWIZQiW62z59VzIMf/J88NEmFF1mma2mbKiuobaD0yWjfhMRQFIHuM/EMCc7Tv4++Hu1X5sUXd9QdIkKKLrEMoRKdCe/dILbQ2gXX3Kh3/VG1W8qcXFxYrfbKy1xcXHKpYJZZs2WDeX/LHYctEjWx9YVAWThk+6ym5TdTA4c3lfl3yUU3dBB0SUqoOgSyxAK0T24f7/MX2FYSnRGfMCdXlnHV1mBLUq5VDDLrNmyof6ryKmPJMmntWJFAJkz0lN2m8q/B/dW6XcJRTd0UHSJCii6xDKEQnSTx/Zwm3/zx58+4BADZpmtxmw4hv+c9uAs+QI2KQUkcZy77CZnNyk3jIGiqwaKLlEBRZdYhlCI7ow5egf4dmLtgOs1gygwy6yVs+EQ3TZDs+TE4zrItzZNdpNe8ZTdxrL/v9+CqpeiGzooukQFFF1iGaoqujkpw6SwSO/88gpeCbheM4gCs8xaORsu0a3d6lS5+qyzZFtMjCa7YzwfUGskf/67M6zXPEXXNxRdogKKLrEMVRXdSZNiXZ2eY6ktqHrNIArMMmvlbDhF1263y64PP3TJbvLL7rI7L7uu7Nr3NUVXERRdogKKLrEMVRHdjcVLZU2+4SGVxN5B1WsGUWCWWStnwy26IiK/fv65fFe7tpQCMudFd9ldkhMjl99yhvKfrSZC0SUqoOgSy1AV0Z04vr6ro1u8CnLkyMGg6jWDKDDLrJWz1SG6IiJ/bN4sm+pqU48teNpddlNzICdf2Urpz1YToegSFVB0iWUIttP78ct3JdOwQMTUaacFXa8ZRIFZZq2crS7RFRH566ef5IuGDUUASb8Pkm9YQW1VHqTn+AeU/Ww1EYouUQFFl1iGYDu9ia821e/krIEc+G9f0PWaQRSYZdbK2eoUXRGRf3/7TT5p2lQEkNy+kOwCXXbzCyH9pvVS8rPVRCi6RAUUXWIZgun09uzYIunZhgUiJreuUr1mEAVmmbVytrpFV0TkyIEDsq5jRxFA3r8EkpHjPpThiZSO0mZoerX+bDURii5RAUWXWIZgOr1Jr8a7OrOMXMjvv/9QpXrNIArMMmvlrArRFRE5VloqxZdeKgLIli6QRSvdZfe15Y2k04i51faz1UQoukQFFF1iGQLt9C67+BxJM9zNnTi5eZXrNYMoMMuslbOqRLeMdx94QI4AsrcJJGmex1y7WTFy7piXquVnq4lQdIkKKLrEMgTa6Y0aUcvVga3Mgez++esq12sGUWCWWStnVYuuiMjAtm1lLyBHakEcb7jL7up8yHWT+4b9Z6uJUHSJCii6xDIE0um17tTWbaaFiRNbhqReM4gCs8xaOWsG0bXb7dKleRv5KjpGBJDFCZDcQnfhfXpue2k3bBlFN4RQdIkKKLrEMgTS6Y162eY208Kff/wUknrNIArMMmvlrFlEt3arU6VzwjxJa9BMBJAPLoYsX+0uu9NW1pUTToml6IYIii5RAUWXWAZ/O72LHhshqw2roE1+s31I6jWLKDDLrJWzZhLdNkOzpPWQTHm57dlSCsivx0GS5rvLblY+5MonmkjroZkh/Q41EYouUQFFl1gGfzu9CdOi9eU+V0H+/XtvSOo1iygwy6yVs2YT3bJyU88Bsttmk5JobdngwiJ34R21pLmc/HxiyL5DTYSiS1RA0SWWwZ9O76bHrnLroGZNuigk9ZpJFJhl1spZs4pum6FZcuaAaZJbN04EkLV9yg9lWJodJZdNuCck36EmQtElKqDoEstQWad30pCVkrTUILkLIUdLSqpcr9lEgVlmrZw1s+i2GZolbYaslJHtz5MjgPzeDOKY6S67xcWQEQvjpfMLjip9h5oIRZeogKJLLENlnd6g59q4OqKCQsgd17UKSb1mEwVmmbVy1vSi6yxXXP2UbIquJQJI+n2QrDx32U3Ltck1E28M+jvURCi6RAUUXWIZfHVOZz853m2p39cm2MLSmZpBFJhl1spZq4hum6FZ0unJJTIeNikFZHsbSGJK+bu745Y1ljNffjXg71AToegSFVB0iWXw1TlNmKE/gLYyB9Kua2uKLrPMmjBrJdEt+9nsjeNlS1S0lAKy4m7td4xRdnMLIQ8nnSYNO3Wm6PqAoktUQNEllqGizumep89163SeeKZ1WDs9ZpllNvisFUW3dqtTpdOghTKhZRc5DMgvJ0AcM8rf3V28GnL7kBOltLTUr+9R06DoEhVQdIll8NY5nfL0VLcno6elQE4aslKi6jeVuLg4sdvtlZa4uDjlnT+zzNaUbLiuzeq65i+5aaSsq11PBJDiyyELV5QX3hlpUXLjI+0r/R4JCQl+/e5LSEjw6+cKtN7qhqJLVEDRJZbBm+iOnxajT+yeB7n0kUGuzqmsg6qswBalvPNnltmalA3XtVld13zrIZny6JlXyG+wyZFakIVPlX9YrbgYMm5+tHS6vJXX72CLrRfQHWh/f7ZA6q1uKLpEBRRdYhk8RffB57q6dSpDn2tuug6dWWaZjdzsKY/OkTdbdpaDgOxqCXFM1GZ8Mf5eKiyCjFx0vJw75iW3fc0whKO6oegSFVB0iWUw/rLv8eQzsspwB2XaHEjrIemW6SCZZZbZyMlecOd4WdzoOBFAvjkN4nCUv7tbWAR5eUlzuWDsMGkzlKKr2H1IDYKiSyxD2S/7jkPmSfJyvQNJXQPp9vAI03R6zDLLbM3MnhcdIwW2KBFA3rdDkheVF96yKclOvyGeoktINUDRJZbBbrdLbKuu8sbMGLe7JA88fKYpOz1mmWW2Zmavv+whKa5dX0oBKboSkrzQu/DOTIuS9A2Py6EjByr93UfRJSQ4KLrEMtjtdnni2Ri3jmL0S/VM3+kxyyyzNTN7Y6+B8o5zhoZ3e0IS53kX3rTcKElZe7ns2vd1hb/7KLqEBAdFl1iGRx5pJIVFeucwxWGTtoNTLdPpMcssszUze12fRySjfhMpBeSj7hDHrPIPrRUXQ/IKIY6cEyX3qzFScvSw63cfRZeQ4KHoEkuQlvqI5BboHcK8dMjZj4w3TUfGLLPMMltZtkf/0TKreRs5AMi2dpCksZDMXO93eVNzo2VO8f/ku1/fpegSUgUousT0rM4a7jbDwvLVkN4DHjJlR8Yss8wyW1nu9IEzZVjt+vKDzSZ/N4AseQwyL8278BYXQ6anRcnNwxvKqSOnVFo3RZcQdyi6xNR4Sm5mLuTm+64yfUfGLLPMMuur1G51qth79JBPxo2TD1q2lBJAPu4GcbzlffGJ4mJIQRFkYloD6T+tp5wycmrF9VJ0CXFB0SWmZVnqQDfJzcqD3NangWU6MmaZZZbZioqnkP7y6adSfNVV8l3t2vJ3A0jqAG16MuNzCZ7z8k5bWVcGOM6W88Y8L62HZnqt10xQdIkKKLrElDiSL5XcQnfJffT6Jso7J2aZZZbZUGR9CemW5cul+LzzZHdUlPzUBrLgGcjc5RUPbSguhixcEy1Pz20v3e9tIZf2ubCaf2P7B0WXqICiS0xFydHDMmlWC7df4Bk5kIWvXxfQAxlm6MiYZZZZZisq/tx5PXr4sHw2YYIk16snOwHZcjIkZUTl0ptfCJmTHSdzii+VdVumVTpPb3VB0SUqoOgS0/DDtvUye0mU2y/sJasgWbOfEJHAptgxQ0fGLLPMMltRCWSIgd1ul9otu8qVVz0pb8V3ls1RtWTHSZAlj0ISUyA5Bb7Fd00BJHlNE0kuulhyvxojv/+zPZy/yiuEoktUQNElpiB53pWyItv9l3PSYsiHGdNdGYous8wyGynZgEXXo97ut46VIZ17yOp6jeSXBpDV/SCONyGLM31Lb9n43gVrYsWR11WWfXifbNi2RA4e+Sdcv95dUHSJCii6RClbvi+SqXNjyv0injwhRv7YvtUtS9FllllmIyVbVdE1lo5PLpObej4gb8V3lo9sNtnaDrJ8IMQxA5KeXbn4FhdDcgshc1fXEUduF1m0/jZ5f2ui7P/vt5D+vqfoEhVQdIkS/ti3TSbOPF6yPf7ktjIHMu2FTnKstLTcPhRdZpllNlKyoRRdz3p7X3ihfPr661Jst8snjeNk4ylO8Z0MWbjSP/EtK0uzo8SR1VQSC86VZR/eJ+u3OmTvPz8F9XufoktUQNEl1crPu7+QSTNOlJU55X+hTpttk48zZla4L0WXWWaZjZRsOEXXs95D+/fLl7NmydqbbpJ327eXT+JrSfYNkOSXIYlz/b/rayxpOTZJyqgrM7PayJziXpK+4TFZv9Uhu/dtklIvNypEKLpVoQuAfAAHAPwKYDyAWD/2iwXwhnOfA846Oleh/gcAfAfgEIAvAFzrJdMIQBKAPwH8AyAVQLyXXHcAHwA4COAnAEMB2DwyNgDDAOxw5j4AcJG3H9QHFF0SdkpLSyU7/0WZNLt+uTu4xcWQRRmQGS+cIkcPH/ZZD0WXWWaZjZRsdYquN/bv3CmfT5woxVdfLe+1aSPrOsRK1o2QlBcgjiTIsqzA5besrM6HzMuMlplpDWX6ynYyp7C3pH38iCxbO4qiGwRNAOwG8A6AKwAMAPAXgKl+7DvTmR3g3HcdgJ+hyWig9d8G4BiAMQB6OusuQXnxzAGwE0B/AH0BfAVgI4BahkxHaBKcDqA3gKcBHAbwrEddw5zbn3bm0gH8DaC9Hz97GRRdEhaOlpZITt4omTithSzI8P7LcEU2ZNJLzeX3H7f4VSdFl1lmmY2UrGrR9caRAwdk68qVsn7QICnu0UOKOjSXVfZoWTYAkjQWkjhHmwmnoIJFLCory5aBohsEw6FJYVPDtocAHAXQ0sd+rZyZBw3bmgL4F8BzQdS/BcBCj89YD2CN4XU3aCe4j2FbZ2iC3N+wbRaAbXC/azwOwD4AtZ2v6wDYD+AVQyYWwHYA0+E/FF0SEo6Wlkhx8RsyZWoXeTsxVtJ8/ClscSZk8qgWsv3z9QF9BkWXWWaZjZSsGUW3Io4cOCDb8vLk41GjZO2NN0ruuV1l+SUNZFF/m8wbDHFM0IZALM6E20I/FN3QsA7anUwjjaHJ430+9hvgzDT22J4OYG2A9beHduL6euSegHbHtUxORwPYi/JDED4DkGJ4vQPAWx6ZM5yfcanzdS/n6zM8cm9Bk11/oegSvzlaWiJbf3hHVq14VhwzL5VJk0+Utx2xkpIGWZNfyRO9BZBpDpvMeuks2f/LrqA+n6LLLLPMRkrWSqLri6OHD8vujz+WL2fOlPWPPy6FV14uqZe1k7k3NpCkgdGSNBzieEub73eyg6IbDHsAjPWyfReA13zsNx7aMAVPXoE2DjeQ+q+GduI6emT6OLd3cb5eBuA9L3UtBPCh89/1nfsM9MjEQpPrR5yvH3O+9hwr/KBz/3pePscbJwKQjCWvyQeFs+SDwlnyfv4Mt7I+b2q58m7O225lXfbEcmXt6glupThrfLlStOpVt1KQMdajjJH8FaPdSl76KLeSu+JFyU0b6Vayl4/wKMPLldXLnnMrWUueLVdWLXnGrWQuerJ8WfiEW1m54HG3smLBY7Ji3qNuJX3eIx7lIUmb+6BbSU15wL3Mud+tLJ9znyxLvtetLE2+270k3S1LE+90K4sTb5N5M/tK0rTeMmvSRTJt4pky5c3OMnlCO5n05oky8a0WMvHthjJpZm2ZmhwtsxbaZE4qZEmW7/9Tr2ic1vQkm7z98knyec6CKv9CpegyyyyzkZKNFNH1h39/+022FxRI7ujRFN0gKEH5sasA8DWA2T72czgznjwL4EiA9d8J7cQ198ic59ze3fk6H0CWl7qmQnuIDXCKJ4BbvOT+BTDC+e/nna89ucW5f0XDNuKcn1FWzgcgM2dqf1JgYalKSVkEeW0S5KUR9eTNoRfKZ+/kys8//xyycsEFFwhi6khs/MmVFsDGLLPMMmvebEwdadCggVxwwQWVlgYNGgRU7wUXXBDS372hKhs2bCgT3ZMqcBTihRIAg71s/wbaWNeKcEB7EMyTIdCGGwRSf5noNvPInO/c3s35Oh/AKi91TYM2xhfQRfdmL7kD0MYMA5ro/uMl08+5v7eZHABglPN9FhYWFhYWFhYV5VwQv+HQBXcqG7rgeUf3Qmf+PI/tLFo5F/pFqfq7mLXwGPH48Pjw+PD4mLOY7fic5PwuMSB+sw5Amse2RvD/YbRGHtvTUP5htMrqL3sY7TqP3CBod4fLZHQ0gD+8fJdPUf5htDc9Mqc7P+NS5+uyh9FO98i9iSAeRnP+l5SHx6dyeIx8w+PjGx4f3/D4+IbHxzc8PhHAcGhzxxpnTxgIbciBP9OLPWDY1gTacADP6cX8qX8LgPken/EevE8v1tuw7WR4n17sR7j/H89YaNOLlUlz2fRiYwyZGGjTkgU8vRh4EVQEj0/l8Bj5hsfHNzw+vuHx8Q2Pj294fCKAsgUd1gK4HMD90ITQMs7KHgAADHVJREFUc0GHQmcxMtOZvd+571pUvGBEZfWXLRjxMrS7rjNQ8YIRO6CNpb0OwJfQFoz4f3v3HmNHWcZx/FtogUJTlquJklChQEFAFDRQUZZSKiBbNLThlqhtQYRYQUFpJSSHFhCLQBC5pIBsuKyClGCABCl/LDdrK2C5SUpBoUpoESgpbdlysf7xeyfn3TlzZmcvPZye+X2Sk+y85z1n5zw7M/ucmXeed8uoz1h0o9k96MztOdSfMKInPD8h9F8DfJ7ivBPkc3z65hjlc3zyOT75HJ98jk8+x6dF7As8AqwHVqFpfdNjV7vpPSQBVN/21+E169HNYuOoVeT9QWeHl6Ok9DnypwBejc4eLyD7zPN4NG63B82kNovsKYBnh+d7Qv/D6J/R6Aa10f18XVk4Pn1zjPI5Pvkcn3yOTz7HJ5/jY2ZmZmZmZmZmZmZmZmZmZmZmZmZmZmZmZmZmZlbPOFRlYh2aCW4e2ZUkNhdTgT+h8nBrUcm26dRWqpgBvIyqVDxLfmWMd1FljHvInlJ5PLAI+AB4Hbgg4/cNQxUzVoR+i6gtOfdpGIVitRE4KPVcmWO0JZoGfBmqnvIGKkMYK7q+n0VVVd5HcbqZ7DufO1Cce1Dcp2X02QpVe1mJ9tmFwD7FP9aQmQwsRp/pTeAusssZlmEbGotqnj8HfEJtVZ9Es8ai6PY5UH3FJ6kGsAR4D1U0up/aSZCgnPFJ+w46Xi/NeK4V42M2KElt4EeBb6KE8D1qawNvThYBvwdOQjWFf4kOHhdFfZJax3OBI1ECU6/W8b/RJB6TgefRwWV41Gcs2sHvRROA/IT6tY43hOePCv3XoNn0Pk2/QklTOtEte4w60b5xFnAEcCoqQRgrsr7DUUyeR4nsSSheD6Te63A0cc2NKN5zUfynpPrdiPbR6WiffYzamt+bWjvap24FJqLPtCw8ton6lWUbOgGt/90oBt0ZfZo1FkW3z8HoKz77oy9Ll6Aa9ZPRdr2O2jKfZYxPbCSaDGol2YluK8bHbFBmow1+x6jtB+gfbt5scs1s54y2+eibZmIZcGeqz5Nkz153dNS2D9mz1/2L3mfBL0P1kbcOy8nsdZdGfbZCUzT3Z/a6oTYOnfU+k9pEt8wxmoSSkP1y+hRd31NQPOKzrpNQ3L4atf0ZxTfWBfwjWk5mcTwjatsR/Q3jWRw3tRvRjI3xGaAj0WeK63eXZRvaIvr5PrITlWaNRdHtczD6is92wLaptlHAO8DVUVtZ4xObg05MdVKb6LZqfMwG5TH0LS3Whjbc7zd8bTads9CONxJ9G92Ivu3Gfoy+vSY7+hx0oE1fznkGHWQSK4CrUn0ODL+jPSxPCMsHpvpdhQ4cn5aH0VnKdnonumWP0V0o8cxTdH1vQ/GIDUNxq4TlrYEPUXxjk8PvGBOWp6N9sy3V7176vtw5lG5Bl95jX0brOj4sl3UbykpUmjkWRbbPodRXIhdbjPbFRNnjsyc6y/1FshPdMsTHrN/eQpeL0t4ALm/wumxKXVR3zuPQDjw21efo0J5cKrsbeCLjve5EM8+BzkRsBE5P9dkKJSQ/DMtnh+X02OczwuvTZzMaYQoaCzea2kS37DF6HbgWuAad1fgAXYqLx6AWXd8lwB0Zv+NJ4A/h5/3Cayam+uwV2o8Jy/PQMIW0S9GlzEb5OjrjfTYaMrEHumT6N6pTmJd1G8pKVJo5FkW2z6FUNNFtQ0ldJWore3weAG4IP3dSm+iWIT5m/fYRteNyAF5Al/tbweFoPOHMsHwa2lHTQxwOofcZqYVkjzP6LbqhBKpzh6fHUYIuJ/8i/HxhWE6bEl7f6GEi26Jv9dPDcju9E92yx2gDGtKzCCUpU4FX0DCCZKxb0fVdTvaY9wfQGXWAr4XXHJLqs3NoPzUs34T2zbTz0RnhRupAMdoYHs8Au0bPl3UbykpUmjkWRbbPoVQ00Z2Ptq/4b1bm+HSg4XfJNtRJbaJbhviY9dtHwHkZ7S+icTybu93Q2elHqI6DSv7p7JTq+xV6jzFciO78TbsOjbeD6kHjxIx+69AYaNBB4/2MPlPD67Puit2ULkNn35KYtJOd6JY1Rh+idYsTk+TSfPI5iq7vcnR2OO1BqsMjkkT34FSfXUL7KWH5JnTTR9rPUHLeKOPReL4r0djcKWgowxKql+HLug3lJbrNGIsi2+dQKpLoTkPr+L1Ue1njsw3wKtWTNVA/0W31+Jj1WysPXWhDScFz9L4jvZkvIzbC7igpOg7FqA2VOdqILkmPwjFaRXX9Y+9Rrd5R5qELT6G/fWw3FI/kKkFZtyEPXcjXV6J7LDoBMyfjubLGZxZKKHemeszuQv/f2qh+hjLEx6zfHkP172Lbs/nfjDYS7fAr0DfYWHJjSEeqfSZKAJMdew7wdsZ7P03twP4rU30OIHtgf7ou5JU0/kardqqXm7MeT+AYdVM/0b0w/Fx0fW9D8YgNQ3GrhOXkZrSZqX4dZN+Mli4ltoDG3oy2nuolzthbVO/SLus2lHczWjPGosj2OZTyEt1D0VnFW+o8X9b4dJJ/zE6S1jLEx6zfZqO6ePFd3Kejb9Sba3mx4ejyzTvULw+1DLg91fYE2aV+jora9ia7VMs/gRFR2yXo0m7yDywp1TI36jMClXhpdOmsNnQwix/nUj1gfin0K3OMzkfJ3C5RWzKeMinyX3R9k/I7e0VtE8N7pcuLPZ5ajzvILi82I2rbAV1ibGR5sZeo/YK8O/qccemzMm5DeeXFmjEWRbfPoVIvPvuhY/b99K75GitrfMZRe8x+CN030E51GEEZ4mPWb8mEEd2o9t00tLFvzhNGzEc72U/RGYL4kYwfTIq3X4wOFDdQv3j7CjQuqQMNg1hK9c5y0OXItWgGmgnAOdQvvt0Tnp8Q+q8hezapRmun9xhdKHeMRqPKC4tRSaiT0T+GJfQu3VNkfUdQHUJzPPqHs4L6E0Zcj+J9MfUnjFiN9tVJaN9t9IQR56Dt5RqqE0Y8j44lO0T9yrINbYv+TlPQNvJitJx8WWrWWBTdPgejr/jsiiYZ+E9Yz/iYnT5ZUcb4ZOmk/oQRrRYfs0HbF92stR6NTbyCzXsK4Neof4lnTNRvBhr3tIHqTpqWTKe4Gp01W0D2me7x6FJ3DzpgzyJ7OsXZ4fme0P8wmkM7tYkulDtGe6IbKtaiIQtdwGdSfYqu7+eoTpG5GsUra4rMySjOG1Dcp2f02RrVPl6F9tmF1M4etakNQ2P5nkXxeRPV8s2airgM29AY6h9z2qN+zRqLotvnQI0hPz7tOc93p96rjPHJ0kn+FMCtFB8zMzMzMzMzMzMzMzMzMzMzMzMzMzMzMzMzMzMzMzMzMzMzMzMzMzMzMzMzMzMzMzMzMzNrBhU0q5uZmZmZWUup4ETXzMzMzFpQBSe6ZmZmZtaCKlQT3XZgIzAB6ALeB1YAFwHDUq/7AnAfsBpYBzwNnBA9vyPwO+Bt4APgL8A3Uu/RHd7ju8Cr4X3uAUYB+wKPhrangANTr90CuABYDmwAXgHOLPqhzczMzKz1VahNdF8F5gATgXmhbWr0mn2ANcCzwGmh33nAzPD8lsBi4L/ADOB44GGUkB4cvU838AbwONAR+q4FbgeWAqcDx4bf8xK9k+3rUBI8O/z+ucDHwMkDiIGZmZmZtaAKtYnu5ak+S4E/RstdwEp05jXL5PA+k6K2EcDrwIKorRslzDtEbfPDa6dEbceEtv3D8ljgf8D01O+9Hni5zjqZmZmZWclUqE10j0z16QL+Gi2vAn6T855XAO9mtF8dXpvoDo/Yz8M6tEVte4S2Y8LymcAnoc/w6HFi6Ld9zrqZmZmZWUlUqE10D0r16URndRMfA7Ny3vNmNNQgbRbwUbTcjcboxs4N6xDbLbR9OyxfGJbrPfbHzMzMzEqvQv8T3b7O6M4D3slozzqjO5BE9yx0RvdQ4JCMx8icdTMzMzOzkqjQ/0S3C3gT2K7OeyZjdCdEbcOB16gdozuQRHdvNEb32Dq/38zMzMxsQIluUnXh78CpwFEoQf1ReD6purASmAZ8C3iI7KoLA0l0Aa5F44CTqgvHocoPt9f5nGZmZmZWMhX6n+gCHAA8iGrtrkW1bjui53cCbkVDGHpQHd0jUu/RzcAT3WGonNkLKIF+G5UpOwMzMzMzMzMzMzMzMzMzMzMzMzMzMzMzMzMzMzMzMzMzMzMzMzMzMzMzMzMzMzMzMzMzMzMzMzMzMzMzMzMzMzMzMzMzMzMzMzMzMzMzM7OG+j8TzBk0EM/TuAAAAABJRU5ErkJggg==\" width=\"639.8333142648146\">"
      ],
      "text/plain": [
       "<IPython.core.display.HTML object>"
      ]
     },
     "metadata": {},
     "output_type": "display_data"
    },
    {
     "data": {
      "text/plain": [
       "(0, 150000)"
      ]
     },
     "execution_count": 37,
     "metadata": {},
     "output_type": "execute_result"
    }
   ],
   "source": [
    "#plot the histogram\n",
    "count, bins, ignored = plt.hist(income, 30, edgecolor='black', normed=True)\n",
    "plt.title(\"MACS graduates' income: 2018-2020\", fontsize=20)\n",
    "plt.xlabel('Income')\n",
    "plt.ylabel('Percent of income')\n",
    "plt.xlim([0, 150000])"
   ]
  },
  {
   "cell_type": "markdown",
   "metadata": {},
   "source": [
    "b) Estimate the parameters of the lognormal distribution by GMM. "
   ]
  },
  {
   "cell_type": "markdown",
   "metadata": {},
   "source": [
    "i) Use the average income and standard deviation of income as your two moments."
   ]
  },
  {
   "cell_type": "markdown",
   "metadata": {},
   "source": [
    "ii) Use the identity matrix as your weighting matrix W^ "
   ]
  },
  {
   "cell_type": "markdown",
   "metadata": {},
   "source": [
    "iii) Plot your estimated lognormal PDF against the histogram from part (a)."
   ]
  },
  {
   "cell_type": "markdown",
   "metadata": {},
   "source": [
    "iv) Report the value of your GMM criterion function at the estimated parameter values."
   ]
  },
  {
   "cell_type": "markdown",
   "metadata": {},
   "source": [
    "v) Report and compare your two data moments against your two model moments at the estimated parameter values."
   ]
  },
  {
   "cell_type": "code",
   "execution_count": 38,
   "metadata": {
    "collapsed": true
   },
   "outputs": [],
   "source": [
    "#calculate the data moments of mean and std\n",
    "def data_moments(xvals):\n",
    "    '''\n",
    "    This function computes the mean and standard diviation as the \n",
    "    two data moments.\n",
    "    \n",
    "    Inputs:\n",
    "      xvals: vector, income data\n",
    "    \n",
    "    Returns: scalar, scalar\n",
    "    '''\n",
    "    mean_data = xvals.mean()\n",
    "    std_data = xvals.std()\n",
    "    \n",
    "    return mean_data, std_data"
   ]
  },
  {
   "cell_type": "code",
   "execution_count": 39,
   "metadata": {
    "collapsed": true
   },
   "outputs": [],
   "source": [
    "#calculate the model moments of mean and std\n",
    "def model_moments(mu, sigma):\n",
    "    '''\n",
    "    This function computes the two model moments for GMM.\n",
    "    \n",
    "    Inputs:\n",
    "      mu: scalar > 0, mean of the lognormally distributed random variable\n",
    "      sigma: scalar > 0, standard deviation of the lognormally distributed\n",
    "             random variable\n",
    "    \n",
    "    Returns: scalar, scalar\n",
    "    '''\n",
    "    mean_model = np.exp(mu + (sigma **2)/2)\n",
    "    std_model = np.sqrt((np.exp(sigma ** 2)- 1)*np.exp(2 * mu + sigma ** 2))\n",
    "    \n",
    "    return mean_model, std_model"
   ]
  },
  {
   "cell_type": "code",
   "execution_count": 40,
   "metadata": {
    "collapsed": true
   },
   "outputs": [],
   "source": [
    "def err_vec(xvals, mu, sigma):\n",
    "    '''\n",
    "    This function computes the vector of moment errors in percent\n",
    "    deviation from the data moment vector for GMM.\n",
    "    \n",
    "    Inputs:\n",
    "      xvals: vector, income data\n",
    "      mu: scalar > 0, mean of the lognormally distributed random variable\n",
    "      sigma: scalar > 0, standard deviation of the lognormally distributed\n",
    "             random variable\n",
    "    \n",
    "    Return: vector\n",
    "    '''\n",
    "    mean_data, std_data = data_moments(xvals)\n",
    "    moms_data = np.array([[mean_data], [std_data]])\n",
    "    mean_model, std_model = model_moments(mu, sigma)\n",
    "    moms_model = np.array([[mean_model], [std_model]])\n",
    "    err_vec = (moms_model - moms_data) / moms_data\n",
    "    \n",
    "    return err_vec"
   ]
  },
  {
   "cell_type": "code",
   "execution_count": 41,
   "metadata": {
    "collapsed": true
   },
   "outputs": [],
   "source": [
    "def criterion(params, *args):\n",
    "    '''\n",
    "    This function computes the GMM weighted sum of squared moment\n",
    "    given parameter values and an estimate of the weighting matrix.\n",
    "    \n",
    "    Inputs:\n",
    "      params: (2,) vector, ([mu, sigma])\n",
    "        mu: scalar > 0, mean of the lognormally distributed random variable\n",
    "        sigma: scalar > 0, standard deviation of the lognormally distributed\n",
    "              random variable\n",
    "      args: length 2 tuple, (xvals, W_hat)\n",
    "        xvals: vector, values of the lognormally distributed random variable\n",
    "        W_hat: (2, 2) matrix, estimate of optimal weighting matrix\n",
    "    \n",
    "    Return: scalar\n",
    "    '''\n",
    "    mu, sigma = params\n",
    "    xvals, W = args\n",
    "    err = err_vec(xvals, mu, sigma)\n",
    "    crit_val = np.dot(np.dot(err.T, W), err) \n",
    "    \n",
    "    return crit_val"
   ]
  },
  {
   "cell_type": "code",
   "execution_count": 42,
   "metadata": {},
   "outputs": [
    {
     "name": "stdout",
     "output_type": "stream",
     "text": [
      "mu_GMM1= 11.3318807729  sig_GMM1= 0.208696666482\n"
     ]
    }
   ],
   "source": [
    "# optimize the criterion function\n",
    "mu_init = 11\n",
    "sig_init = 0.5\n",
    "params_init = np.array([mu_init, sig_init])\n",
    "W_hat = np.eye(2)\n",
    "gmm_args = (income, W_hat)\n",
    "results = opt.minimize(criterion, params_init, args=(gmm_args),\n",
    "                       method='L-BFGS-B', bounds=((1e-10, None), (1e-10, None))) #inf\n",
    "mu_GMM1, sig_GMM1 = results.x\n",
    "print('mu_GMM1=', mu_GMM1, ' sig_GMM1=', sig_GMM1)"
   ]
  },
  {
   "cell_type": "code",
   "execution_count": 43,
   "metadata": {},
   "outputs": [
    {
     "data": {
      "text/plain": [
       "<matplotlib.legend.Legend at 0x1ebe1d25c50>"
      ]
     },
     "execution_count": 43,
     "metadata": {},
     "output_type": "execute_result"
    }
   ],
   "source": [
    "# plot the estimated value pdf\n",
    "xvals_1 = np.linspace(0.1, 150000, 1000) \n",
    "pdf_vals_1 = sts.lognorm.pdf(xvals_1, s = sig_GMM1, scale = np.exp(mu_GMM1))\n",
    "plt.plot(xvals_1, pdf_vals_1,\n",
    "         linewidth=2, color='k', label='1: $\\mu$=mu_GMM1,$\\sigma$=sig_GMM1')\n",
    "plt.legend(loc='upper left')"
   ]
  },
  {
   "cell_type": "code",
   "execution_count": 44,
   "metadata": {},
   "outputs": [
    {
     "name": "stdout",
     "output_type": "stream",
     "text": [
      "The value of GMM criterion function is 6.99555134767e-15\n"
     ]
    }
   ],
   "source": [
    "# value of GMM criterion function\n",
    "print(\"The value of GMM criterion function is\", results.fun[0, 0])"
   ]
  },
  {
   "cell_type": "code",
   "execution_count": 45,
   "metadata": {},
   "outputs": [
    {
     "name": "stdout",
     "output_type": "stream",
     "text": [
      "Mean of data = 85276.8236063 , Standard deviation of data = 17992.542128\n",
      "Mean of model = 85276.81765 , Standard deviation of model = 17992.5413002\n",
      "Error vector= [ -6.98466510e-08  -4.60108324e-08]\n"
     ]
    }
   ],
   "source": [
    "# data moments and model moments\n",
    "mean_data, std_data = data_moments(income)\n",
    "mean_model, std_model = model_moments(mu_GMM1, sig_GMM1)\n",
    "err1 = err_vec(income, mu_GMM1, sig_GMM1).reshape(2,)\n",
    "print('Mean of data =', mean_data, ', Standard deviation of data =', std_data)\n",
    "print('Mean of model =', mean_model, ', Standard deviation of model =', std_model)\n",
    "print('Error vector=', err1)"
   ]
  },
  {
   "cell_type": "markdown",
   "metadata": {},
   "source": [
    "c) Perform the two-step GMM"
   ]
  },
  {
   "cell_type": "markdown",
   "metadata": {},
   "source": [
    "i) Report your estimates as well as the criterion function value at these estimates"
   ]
  },
  {
   "cell_type": "markdown",
   "metadata": {},
   "source": [
    "ii) Plot your estimated lognormal PDF against the histogram "
   ]
  },
  {
   "cell_type": "markdown",
   "metadata": {},
   "source": [
    "iii) Report and compare data and model moments"
   ]
  },
  {
   "cell_type": "code",
   "execution_count": 46,
   "metadata": {},
   "outputs": [],
   "source": [
    "# calculate W^2\n",
    "err1 = err_vec(income, mu_GMM1, sig_GMM1).reshape(2,1)\n",
    "VCV1 = np.dot(err1, err1.T)/ income.shape[0]\n",
    "w_hat_2 = lin.pinv(VCV1)"
   ]
  },
  {
   "cell_type": "code",
   "execution_count": 48,
   "metadata": {},
   "outputs": [
    {
     "name": "stdout",
     "output_type": "stream",
     "text": [
      "mu_GMM2= 11.331880826  sig_GMM2= 0.208696667465  crition function value= 1.49552714848\n"
     ]
    }
   ],
   "source": [
    "# calculate the estimators\n",
    "mu_init = mu_GMM1\n",
    "sig_init = sig_GMM1\n",
    "params_init = np.array([mu_init, sig_init])\n",
    "gmm_args = (income, w_hat_2)\n",
    "results2 = opt.minimize(criterion, params_init, args=(gmm_args),\n",
    "                       method='TNC', bounds=((1e-10, None), (1e-10, None))) #inf\n",
    "mu_GMM2, sig_GMM2 = results2.x\n",
    "print('mu_GMM2=', mu_GMM2, ' sig_GMM2=', sig_GMM2, ' crition function value=', results2.fun[0][0])"
   ]
  },
  {
   "cell_type": "code",
   "execution_count": 49,
   "metadata": {},
   "outputs": [
    {
     "data": {
      "text/plain": [
       "<matplotlib.legend.Legend at 0x1ebe1a29128>"
      ]
     },
     "execution_count": 49,
     "metadata": {},
     "output_type": "execute_result"
    }
   ],
   "source": [
    "#plot the estimated pdf\n",
    "xvals_2 = np.linspace(0.1, 150000, 1000) \n",
    "pdf_vals_2 = sts.lognorm.pdf(xvals_2, s = sig_GMM2, scale = np.exp(mu_GMM2))\n",
    "plt.plot(xvals_2, pdf_vals_2,\n",
    "         linewidth=2, color='r', label='2: $\\mu$=mu_GMM2,$\\sigma$=sig_GMM2')\n",
    "plt.legend(loc='upper left')"
   ]
  },
  {
   "cell_type": "code",
   "execution_count": 50,
   "metadata": {},
   "outputs": [
    {
     "name": "stdout",
     "output_type": "stream",
     "text": [
      "Mean of data = 85276.8236063 , Standard deviation of data = 17992.542128\n",
      "Mean of model = 85276.8221908 , Standard deviation of model = 17992.5423449\n",
      "Error vector= [ -1.65989447e-08   1.20504692e-08]\n"
     ]
    }
   ],
   "source": [
    "# data moments and model moments\n",
    "mean_data, std_data = data_moments(income)\n",
    "mean_model2, std_model2 = model_moments(mu_GMM2, sig_GMM2)\n",
    "err2 = err_vec(income, mu_GMM2, sig_GMM2).reshape(2,)\n",
    "print('Mean of data =', mean_data, ', Standard deviation of data =', std_data)\n",
    "print('Mean of model =', mean_model2, ', Standard deviation of model =', std_model2)\n",
    "print('Error vector=', err2)"
   ]
  },
  {
   "cell_type": "markdown",
   "metadata": {},
   "source": [
    "d) Now estimate the lognormal PDF to fit the data by GMM using different moments."
   ]
  },
  {
   "cell_type": "markdown",
   "metadata": {},
   "source": [
    "i) Use the identity matrix as your estimator for the optimal weighting matrix."
   ]
  },
  {
   "cell_type": "markdown",
   "metadata": {},
   "source": [
    "ii) Plot your estimated lognormal PDF "
   ]
  },
  {
   "cell_type": "markdown",
   "metadata": {},
   "source": [
    "iii) Report the value of your GMM criterion function at the estimated parameter values. "
   ]
  },
  {
   "cell_type": "markdown",
   "metadata": {},
   "source": [
    "iv) Report and compare your three data moments against your three model moments at the estimated parameter values."
   ]
  },
  {
   "cell_type": "code",
   "execution_count": 51,
   "metadata": {
    "collapsed": true
   },
   "outputs": [],
   "source": [
    "# calculate the data moment\n",
    "def data_moments3(xvals):\n",
    "    '''\n",
    "    This function computes the three data moments for GMM.\n",
    "    \n",
    "    Inputs:\n",
    "      xvals: (N,) vector, income data\n",
    "\n",
    "    Return: three scalars\n",
    "    '''\n",
    "    bpct_1_dat = xvals[xvals < 75000].shape[0] / xvals.shape[0]\n",
    "    bpct_2_dat = (xvals[(xvals >= 75000) & (xvals < 100000)].shape[0] /\n",
    "                  xvals.shape[0])\n",
    "    bpct_3_dat = (xvals[(xvals >= 100000)].shape[0] / xvals.shape[0])\n",
    "\n",
    "    return bpct_1_dat, bpct_2_dat, bpct_3_dat"
   ]
  },
  {
   "cell_type": "code",
   "execution_count": 52,
   "metadata": {
    "collapsed": true
   },
   "outputs": [],
   "source": [
    "# calculate the model moment\n",
    "def model_moments3(mu, sigma):\n",
    "    '''\n",
    "    This function computes the three model moments for GMM.\n",
    "\n",
    "    Inputs:\n",
    "      mu: scalar > 0, mean of the lognormally distributed random variable\n",
    "      sigma: scalar > 0, standard deviation of the lognormally distributed\n",
    "             random variable\n",
    "    \n",
    "    Returns: scalar, scalar\n",
    "    '''\n",
    "    xfx = lambda x: sts.lognorm.pdf(x, scale = np.exp(mu), s=sigma)\n",
    "    (bpct_1_mod, bp_1_err) = intgr.quad(xfx, 0, 75000)\n",
    "    (bpct_2_mod, bp_2_err) = intgr.quad(xfx, 75000, 100000)\n",
    "    (bpct_3_mod, bp_3_err) = intgr.quad(xfx, 100000, np.inf)\n",
    "    \n",
    "    return bpct_1_mod, bpct_2_mod, bpct_3_mod"
   ]
  },
  {
   "cell_type": "code",
   "execution_count": 53,
   "metadata": {
    "collapsed": true
   },
   "outputs": [],
   "source": [
    "# calculate the error vector\n",
    "def err_vec3(xvals, mu, sigma):\n",
    "    '''\n",
    "    This function computes the vector of moment errors in percent\n",
    "    deviation from the data moment vector for GMM.\n",
    "    \n",
    "    Inputs:\n",
    "      xvals: vector, income data\n",
    "      mu: scalar > 0, mean of the lognormally distributed random variable\n",
    "      sigma: scalar > 0, standard deviation of the lognormally distributed\n",
    "             random variable\n",
    "    \n",
    "    Return: vector\n",
    "    '''\n",
    "    bpct_1_dat, bpct_2_dat, bpct_3_dat = data_moments3(xvals)\n",
    "    moms_data = np.array([[bpct_1_dat], [bpct_2_dat], [bpct_3_dat]])\n",
    "    bpct_1_mod, bpct_2_mod, bpct_3_mod = model_moments3(mu, sigma)\n",
    "    moms_model = np.array([[bpct_1_mod], [bpct_2_mod], [bpct_3_mod]])\n",
    "    err_vec = (moms_model - moms_data) / moms_data # need 100 or not\n",
    "    \n",
    "    return err_vec"
   ]
  },
  {
   "cell_type": "code",
   "execution_count": 54,
   "metadata": {
    "collapsed": true
   },
   "outputs": [],
   "source": [
    "# criterion function\n",
    "def criterion3(params, *args):\n",
    "    '''\n",
    "    This function computes the GMM weighted sum of squared moment\n",
    "    given parameter values and an estimate of the weighting matrix.\n",
    "    \n",
    "    Inputs:\n",
    "      params: (2,) vector, ([mu, sigma])\n",
    "        mu: scalar > 0, mean of the lognormally distributed random variable\n",
    "        sigma: scalar > 0, standard deviation of the lognormally distributed\n",
    "              random variable\n",
    "      args: length 2 tuple, (xvals, W_hat)\n",
    "        xvals: vector, values of the lognormally distributed random variable\n",
    "        W_hat: (2, 2) matrix, estimate of optimal weighting matrix\n",
    "    \n",
    "    Return: scalar\n",
    "    '''\n",
    "    mu, sigma = params\n",
    "    xvals, W = args\n",
    "    err = err_vec3(xvals, mu, sigma)\n",
    "    crit_val = np.dot(np.dot(err.T, W), err) \n",
    "    \n",
    "    return crit_val"
   ]
  },
  {
   "cell_type": "code",
   "execution_count": 55,
   "metadata": {},
   "outputs": [
    {
     "name": "stdout",
     "output_type": "stream",
     "text": [
      "mu_GMM_3= 11.3356813274  sig_GMM_3= 0.210598453887  crition function value= 2.4902792968e-15\n"
     ]
    }
   ],
   "source": [
    "# get the estimate values\n",
    "W_hat = np.eye(3)\n",
    "gmm_args = (income, W_hat)\n",
    "results_3 = opt.minimize(criterion3, params_init, args=(gmm_args),\n",
    "                       method='L-BFGS-B', bounds=((1e-10, None), (1e-10, None)))\n",
    "mu_GMM_3, sig_GMM_3 = results_3.x\n",
    "print('mu_GMM_3=', mu_GMM_3, ' sig_GMM_3=', sig_GMM_3, ' crition function value=', results_3.fun[0][0])"
   ]
  },
  {
   "cell_type": "code",
   "execution_count": 56,
   "metadata": {},
   "outputs": [
    {
     "data": {
      "text/plain": [
       "<matplotlib.legend.Legend at 0x1ebe1d48b70>"
      ]
     },
     "execution_count": 56,
     "metadata": {},
     "output_type": "execute_result"
    }
   ],
   "source": [
    "#plot the estimated pdf\n",
    "xvals_3 = np.linspace(0.1, 150000, 1000) \n",
    "pdf_vals_3 = sts.lognorm.pdf(xvals_3, s = sig_GMM_3, scale = np.exp(mu_GMM_3))\n",
    "plt.plot(xvals_3, pdf_vals_3,\n",
    "         linewidth=2, color='g', label='3: $\\mu$=mu_GMM3,$\\sigma$=sig_GMM3')\n",
    "plt.legend(loc='upper left')"
   ]
  },
  {
   "cell_type": "code",
   "execution_count": 57,
   "metadata": {},
   "outputs": [
    {
     "name": "stdout",
     "output_type": "stream",
     "text": [
      "In the data, the percent lower than 75 thousand = 0.3 , betweet 100 and 75 thousand = 0.5  higher than 100 thousand = 0.2\n",
      "In the model, the percent lower than 75 thousand = 0.3000000038800968 , betweet 100 and 75 thousand = 0.5000000055045689  higher than 100 thousand = 0.19999999061533438\n",
      "Error vector= [  1.29336560e-08   1.10091378e-08  -4.69233281e-08]\n"
     ]
    }
   ],
   "source": [
    "# data moments and model moments\n",
    "perc_1_data, perc_2_data, perc_3_data = data_moments3(income)\n",
    "perc_1_model, perc_2_model, perc_3_model = model_moments3(mu_GMM_3, sig_GMM_3)\n",
    "err3 = err_vec3(income, mu_GMM_3, sig_GMM_3).reshape(3,)\n",
    "print('In the data, the percent lower than 75 thousand =', perc_1_data, ', betweet 100 and 75 thousand =', perc_2_data,\\\n",
    "     ' higher than 100 thousand =', perc_3_data)\n",
    "print('In the model, the percent lower than 75 thousand =', perc_1_model, ', betweet 100 and 75 thousand =', \n",
    "      perc_2_model, ' higher than 100 thousand =', perc_3_model)\n",
    "print('Error vector=', err3)"
   ]
  },
  {
   "cell_type": "markdown",
   "metadata": {},
   "source": [
    "e) Perform the two-step GMM estimator by using your estimates from part(d) "
   ]
  },
  {
   "cell_type": "markdown",
   "metadata": {},
   "source": [
    "i) Report your estimates as well as the criterion function value at these estimates."
   ]
  },
  {
   "cell_type": "markdown",
   "metadata": {},
   "source": [
    "ii) Plot your estimated lognormal PDF"
   ]
  },
  {
   "cell_type": "markdown",
   "metadata": {},
   "source": [
    "iii) Report and compare your three data moments against your three model moments"
   ]
  },
  {
   "cell_type": "code",
   "execution_count": 58,
   "metadata": {
    "collapsed": true
   },
   "outputs": [],
   "source": [
    "# calculate W^2\n",
    "err3 = err_vec3(income, mu_GMM_3, sig_GMM_3).reshape(3, 1)\n",
    "VCV3 = np.dot(err3, err3.T)/ income.shape[0]\n",
    "w_hat_2 = lin.pinv(VCV3)"
   ]
  },
  {
   "cell_type": "code",
   "execution_count": 60,
   "metadata": {},
   "outputs": [
    {
     "name": "stderr",
     "output_type": "stream",
     "text": [
      "C:\\Users\\Administrator\\Anaconda3\\lib\\site-packages\\scipy\\integrate\\quadpack.py:364: IntegrationWarning: The integral is probably divergent, or slowly convergent.\n",
      "  warnings.warn(msg, IntegrationWarning)\n",
      "C:\\Users\\Administrator\\Anaconda3\\lib\\site-packages\\scipy\\integrate\\quadpack.py:364: IntegrationWarning: The maximum number of subdivisions (50) has been achieved.\n",
      "  If increasing the limit yields no improvement it is advised to analyze \n",
      "  the integrand in order to determine the difficulties.  If the position of a \n",
      "  local difficulty can be determined (singularity, discontinuity) one will \n",
      "  probably gain from splitting up the interval and calling the integrator \n",
      "  on the subranges.  Perhaps a special-purpose integrator should be used.\n",
      "  warnings.warn(msg, IntegrationWarning)\n"
     ]
    },
    {
     "name": "stdout",
     "output_type": "stream",
     "text": [
      "mu_GMM4= 11.3356813288  sig_GMM4= 0.210598455768  crition function value= 68.5386869157\n"
     ]
    }
   ],
   "source": [
    "# calculate the estimators\n",
    "mu_init = mu_GMM_3\n",
    "sig_init = sig_GMM_3\n",
    "params_init = np.array([mu_init, sig_init])\n",
    "gmm_args = (income, w_hat_2)\n",
    "results4 = opt.minimize(criterion3, params_init, args=(gmm_args),\n",
    "                       method='L-BFGS-B', bounds=((1e-10, None), (1e-10, None))) #inf\n",
    "mu_GMM4, sig_GMM4 = results4.x\n",
    "print('mu_GMM4=', mu_GMM4, ' sig_GMM4=', sig_GMM4, ' crition function value=', results4.fun[0][0])"
   ]
  },
  {
   "cell_type": "code",
   "execution_count": 61,
   "metadata": {},
   "outputs": [
    {
     "data": {
      "text/plain": [
       "<matplotlib.legend.Legend at 0x1ebe1a29208>"
      ]
     },
     "execution_count": 61,
     "metadata": {},
     "output_type": "execute_result"
    }
   ],
   "source": [
    "#plot the estimated pdf\n",
    "xvals_4 = np.linspace(0.1, 150000, 1000) \n",
    "pdf_vals_4 = sts.lognorm.pdf(xvals_4, s = sig_GMM4, scale = np.exp(mu_GMM4))\n",
    "plt.plot(xvals_4, pdf_vals_4,\n",
    "         linewidth=2, color='y', label='4: $\\mu$=mu_GMM4,$\\sigma$=sig_GMM4')\n",
    "plt.legend(loc='upper left')"
   ]
  },
  {
   "cell_type": "code",
   "execution_count": 62,
   "metadata": {},
   "outputs": [
    {
     "name": "stdout",
     "output_type": "stream",
     "text": [
      "In the data, the percent lower than 75 thousand = 0.3 , betweet 100 and 75 thousand = 0.5  higher than 100 thousand = 0.2\n",
      "In the model, the percent lower than 75 thousand = 0.3000000031956243 , betweet 100 and 75 thousand = 0.5000000022221961  higher than 100 thousand = 0.19999999458217968\n",
      "Error vector= [  1.06520811e-08   4.44439219e-09  -2.70891017e-08]\n"
     ]
    }
   ],
   "source": [
    "# data moments and model moments\n",
    "perc_1_data, perc_2_data, perc_3_data = data_moments3(income)\n",
    "perc_1_model_2, perc_2_model_2, perc_3_model_2 = model_moments3(mu_GMM4, sig_GMM4)\n",
    "err4 = err_vec3(income, mu_GMM4, sig_GMM4).reshape(3,)\n",
    "print('In the data, the percent lower than 75 thousand =', perc_1_data, ', betweet 100 and 75 thousand =', perc_2_data,\\\n",
    "     ' higher than 100 thousand =', perc_3_data)\n",
    "print('In the model, the percent lower than 75 thousand =', perc_1_model_2, ', betweet 100 and 75 thousand =', \n",
    "      perc_2_model_2, ' higher than 100 thousand =', perc_3_model_2)\n",
    "print('Error vector=', err4)"
   ]
  },
  {
   "cell_type": "markdown",
   "metadata": {},
   "source": [
    "f) Which of the four estimations from parts (b), (c), (d), and (e) fits the data best?"
   ]
  },
  {
   "cell_type": "code",
   "execution_count": 64,
   "metadata": {},
   "outputs": [
    {
     "name": "stdout",
     "output_type": "stream",
     "text": [
      "Error vector in d) [  1.29336560e-08   1.10091378e-08  -4.69233281e-08]  error vector in e) [  1.06520811e-08   4.44439219e-09  -2.70891017e-08]\n"
     ]
    }
   ],
   "source": [
    "print(\"Error vector in d)\", err3.reshape(3,), \" error vector in e)\", err4)"
   ]
  },
  {
   "cell_type": "markdown",
   "metadata": {},
   "source": [
    "The estimation which fits the data best should be that in e). Compared with b) and c), d) and e) use more moments to estimate the parameters. And compared with d), the absolute value of error vector of e), which uses the weighting matrix to estimate the parameters is smaller. "
   ]
  },
  {
   "cell_type": "markdown",
   "metadata": {},
   "source": [
    "### Problem 2"
   ]
  },
  {
   "cell_type": "markdown",
   "metadata": {},
   "source": [
    "a) estimate parameters b0, b1, b2, b3, report your estimates and report the value of your GMM criterion function.\n"
   ]
  },
  {
   "cell_type": "code",
   "execution_count": 65,
   "metadata": {
    "collapsed": true
   },
   "outputs": [],
   "source": [
    "import pandas as pd\n",
    "import scipy.stats as sts\n",
    "# import data\n",
    "df = pd.read_csv('sick.txt')"
   ]
  },
  {
   "cell_type": "code",
   "execution_count": 66,
   "metadata": {
    "collapsed": true
   },
   "outputs": [],
   "source": [
    "def model_moment(b0, b1, b2, b3, age, children, temp_winter):\n",
    "    '''\n",
    "    This function computes the model moment for GMM.\n",
    "    \n",
    "    Inputs:\n",
    "      b0: (scalar) constant\n",
    "      b1: (scalar) coefficient of age\n",
    "      b2: (scalar) coefficient of children\n",
    "      b3: (scalar) coefficient of winter temperature\n",
    "      age: (vector) age\n",
    "      children: (vector) number of children\n",
    "      temp_winter: (vector) temperature of winter\n",
    "      \n",
    "\n",
    "    Return: vector\n",
    "    '''\n",
    "    \n",
    "    mod_mom = b0 + b1 * age + b2 * children + b3 * temp_winter\n",
    "\n",
    "    return mod_mom"
   ]
  },
  {
   "cell_type": "code",
   "execution_count": 67,
   "metadata": {
    "collapsed": true
   },
   "outputs": [],
   "source": [
    "def error_vec_lin(sick, b0, b1, b2, b3, age, children, temp_winter):\n",
    "    '''\n",
    "    This function computes the error vector from the dataset.\n",
    "    \n",
    "    Inputs:\n",
    "      sick: (vector)the number of weeks being sick\n",
    "      b0: (scalar) constant\n",
    "      b1: (scalar) coefficient of age\n",
    "      b2: (scalar) coefficient of children\n",
    "      b3: (scalar) coefficient of winter temperature\n",
    "      age: (vector) age\n",
    "      children: (vector) number of children\n",
    "      temp_winter: (vector) temperature of winter\n",
    "    \n",
    "    Return: vector\n",
    "    '''\n",
    "    \n",
    "    error = sick - model_moment(b0, b1, b2, b3, age, children, temp_winter)\n",
    "    \n",
    "    return error      "
   ]
  },
  {
   "cell_type": "code",
   "execution_count": 68,
   "metadata": {
    "collapsed": true
   },
   "outputs": [],
   "source": [
    "def criterion(params, *args):\n",
    "    '''\n",
    "    This function computes the square of error vector. \n",
    "    \n",
    "    Inputs:\n",
    "      params: (4,) vector, ([b0, b1, b2, b3])\n",
    "        b0: (scalar) constant\n",
    "        b1: (scalar) coefficient of age\n",
    "        b2: (scalar) coefficient of children\n",
    "        b3: (scalar) coefficient of winter temperature\n",
    "      args: length 5 tuple, (sick, age, children, temp_winter, W_hat)\n",
    "        sick: (vector)the number of weeks being sick\n",
    "        age: (vector) age\n",
    "        children: (vector) number of children\n",
    "        temp_winter: (vector) temperature of winter\n",
    "        W_hat: (200, 200) matrix, estimate of optimal weighting matrix\n",
    "    \n",
    "    Return: scalar\n",
    "    '''\n",
    "    b0, b1, b2, b3 = params\n",
    "    sick, age, children, temp_winter, w_hat = args\n",
    "    \n",
    "    err = error_vec_lin(sick, b0, b1, b2, b3, age, children, temp_winter) \n",
    "    crit_val = np.dot(np.dot(err.T, w_hat), err)\n",
    "    \n",
    "    return crit_val"
   ]
  },
  {
   "cell_type": "code",
   "execution_count": 69,
   "metadata": {},
   "outputs": [
    {
     "name": "stdout",
     "output_type": "stream",
     "text": [
      "b0 = 0.251646391614  b1 = 0.0129333505472  b2 =  0.400502042642  b3 =  -0.00999167346007 value of GMM function = 0.0018212901365710831\n"
     ]
    }
   ],
   "source": [
    "# calculate the estimates\n",
    "initial_params = np.array([1, 0, 0, 0])\n",
    "w_hat = np.eye(df.shape[0])\n",
    "gmm_args = (df[\"sick\"], df[\"age\"], df[\"children\"], df[\"avgtemp_winter\"], w_hat)\n",
    "results_lin = opt.minimize(criterion, initial_params, args=(gmm_args))\n",
    "b0_GMM, b1_GMM, b2_GMM, b3_GMM = results_lin.x \n",
    "print(\"b0 =\", b0_GMM, \" b1 =\", b1_GMM, \" b2 = \", b2_GMM, \" b3 = \", b3_GMM, \n",
    "      \"value of GMM function =\", results_lin.fun)"
   ]
  }
 ],
 "metadata": {
  "kernelspec": {
   "display_name": "Python 3",
   "language": "python",
   "name": "python3"
  },
  "language_info": {
   "codemirror_mode": {
    "name": "ipython",
    "version": 3
   },
   "file_extension": ".py",
   "mimetype": "text/x-python",
   "name": "python",
   "nbconvert_exporter": "python",
   "pygments_lexer": "ipython3",
   "version": "3.6.2"
  }
 },
 "nbformat": 4,
 "nbformat_minor": 2
}
