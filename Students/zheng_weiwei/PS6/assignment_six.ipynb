{
 "cells": [
  {
   "cell_type": "markdown",
   "metadata": {},
   "source": [
    "# Problem Set #6\n",
    "## Name: Weiwei Zheng"
   ]
  },
  {
   "cell_type": "code",
   "execution_count": null,
   "metadata": {},
   "outputs": [],
   "source": [
    "import numpy as np\n",
    "import pandas as pd\n",
    "from sklearn.tree import DecisionTreeRegressor, DecisionTreeClassifier, export_graphviz\n",
    "from sklearn.cross_validation import train_test_split\n",
    "from sklearn.metrics import mean_squared_error\n",
    "from sklearn.ensemble import BaggingRegressor, RandomForestRegressor\n",
    "import graphviz"
   ]
  },
  {
   "cell_type": "code",
   "execution_count": 2,
   "metadata": {
    "collapsed": true
   },
   "outputs": [],
   "source": [
    "biden = pd.read_csv('biden.csv', sep=',')"
   ]
  },
  {
   "cell_type": "code",
   "execution_count": 3,
   "metadata": {},
   "outputs": [
    {
     "data": {
      "text/plain": [
       "biden     0\n",
       "female    0\n",
       "age       0\n",
       "educ      0\n",
       "dem       0\n",
       "rep       0\n",
       "dtype: int64"
      ]
     },
     "execution_count": 3,
     "metadata": {},
     "output_type": "execute_result"
    }
   ],
   "source": [
    "biden.isnull().sum()"
   ]
  },
  {
   "cell_type": "code",
   "execution_count": 4,
   "metadata": {},
   "outputs": [
    {
     "data": {
      "text/html": [
       "<div>\n",
       "<style>\n",
       "    .dataframe thead tr:only-child th {\n",
       "        text-align: right;\n",
       "    }\n",
       "\n",
       "    .dataframe thead th {\n",
       "        text-align: left;\n",
       "    }\n",
       "\n",
       "    .dataframe tbody tr th {\n",
       "        vertical-align: top;\n",
       "    }\n",
       "</style>\n",
       "<table border=\"1\" class=\"dataframe\">\n",
       "  <thead>\n",
       "    <tr style=\"text-align: right;\">\n",
       "      <th></th>\n",
       "      <th>biden</th>\n",
       "      <th>female</th>\n",
       "      <th>age</th>\n",
       "      <th>educ</th>\n",
       "      <th>dem</th>\n",
       "      <th>rep</th>\n",
       "    </tr>\n",
       "  </thead>\n",
       "  <tbody>\n",
       "    <tr>\n",
       "      <th>0</th>\n",
       "      <td>90</td>\n",
       "      <td>0</td>\n",
       "      <td>19</td>\n",
       "      <td>12</td>\n",
       "      <td>1</td>\n",
       "      <td>0</td>\n",
       "    </tr>\n",
       "    <tr>\n",
       "      <th>1</th>\n",
       "      <td>70</td>\n",
       "      <td>1</td>\n",
       "      <td>51</td>\n",
       "      <td>14</td>\n",
       "      <td>1</td>\n",
       "      <td>0</td>\n",
       "    </tr>\n",
       "    <tr>\n",
       "      <th>2</th>\n",
       "      <td>60</td>\n",
       "      <td>0</td>\n",
       "      <td>27</td>\n",
       "      <td>14</td>\n",
       "      <td>0</td>\n",
       "      <td>0</td>\n",
       "    </tr>\n",
       "    <tr>\n",
       "      <th>3</th>\n",
       "      <td>50</td>\n",
       "      <td>1</td>\n",
       "      <td>43</td>\n",
       "      <td>14</td>\n",
       "      <td>1</td>\n",
       "      <td>0</td>\n",
       "    </tr>\n",
       "    <tr>\n",
       "      <th>4</th>\n",
       "      <td>60</td>\n",
       "      <td>1</td>\n",
       "      <td>38</td>\n",
       "      <td>14</td>\n",
       "      <td>0</td>\n",
       "      <td>1</td>\n",
       "    </tr>\n",
       "  </tbody>\n",
       "</table>\n",
       "</div>"
      ],
      "text/plain": [
       "   biden  female  age  educ  dem  rep\n",
       "0     90       0   19    12    1    0\n",
       "1     70       1   51    14    1    0\n",
       "2     60       0   27    14    0    0\n",
       "3     50       1   43    14    1    0\n",
       "4     60       1   38    14    0    1"
      ]
     },
     "execution_count": 4,
     "metadata": {},
     "output_type": "execute_result"
    }
   ],
   "source": [
    "biden.head()"
   ]
  },
  {
   "cell_type": "markdown",
   "metadata": {},
   "source": [
    "***a) fit a binary tree***"
   ]
  },
  {
   "cell_type": "code",
   "execution_count": 5,
   "metadata": {},
   "outputs": [],
   "source": [
    "y = biden['biden'].values\n",
    "X = biden[biden.columns.difference(['biden'])]\n",
    "X_train, X_test, y_train, y_test = train_test_split(X, y, test_size = \n",
    "                                   .3, random_state = 0)"
   ]
  },
  {
   "cell_type": "code",
   "execution_count": 6,
   "metadata": {},
   "outputs": [
    {
     "data": {
      "text/html": [
       "<div>\n",
       "<style>\n",
       "    .dataframe thead tr:only-child th {\n",
       "        text-align: right;\n",
       "    }\n",
       "\n",
       "    .dataframe thead th {\n",
       "        text-align: left;\n",
       "    }\n",
       "\n",
       "    .dataframe tbody tr th {\n",
       "        vertical-align: top;\n",
       "    }\n",
       "</style>\n",
       "<table border=\"1\" class=\"dataframe\">\n",
       "  <thead>\n",
       "    <tr style=\"text-align: right;\">\n",
       "      <th></th>\n",
       "      <th>age</th>\n",
       "      <th>dem</th>\n",
       "      <th>educ</th>\n",
       "      <th>female</th>\n",
       "      <th>rep</th>\n",
       "    </tr>\n",
       "  </thead>\n",
       "  <tbody>\n",
       "    <tr>\n",
       "      <th>0</th>\n",
       "      <td>19</td>\n",
       "      <td>1</td>\n",
       "      <td>12</td>\n",
       "      <td>0</td>\n",
       "      <td>0</td>\n",
       "    </tr>\n",
       "    <tr>\n",
       "      <th>1</th>\n",
       "      <td>51</td>\n",
       "      <td>1</td>\n",
       "      <td>14</td>\n",
       "      <td>1</td>\n",
       "      <td>0</td>\n",
       "    </tr>\n",
       "    <tr>\n",
       "      <th>2</th>\n",
       "      <td>27</td>\n",
       "      <td>0</td>\n",
       "      <td>14</td>\n",
       "      <td>0</td>\n",
       "      <td>0</td>\n",
       "    </tr>\n",
       "    <tr>\n",
       "      <th>3</th>\n",
       "      <td>43</td>\n",
       "      <td>1</td>\n",
       "      <td>14</td>\n",
       "      <td>1</td>\n",
       "      <td>0</td>\n",
       "    </tr>\n",
       "    <tr>\n",
       "      <th>4</th>\n",
       "      <td>38</td>\n",
       "      <td>0</td>\n",
       "      <td>14</td>\n",
       "      <td>1</td>\n",
       "      <td>1</td>\n",
       "    </tr>\n",
       "  </tbody>\n",
       "</table>\n",
       "</div>"
      ],
      "text/plain": [
       "   age  dem  educ  female  rep\n",
       "0   19    1    12       0    0\n",
       "1   51    1    14       1    0\n",
       "2   27    0    14       0    0\n",
       "3   43    1    14       1    0\n",
       "4   38    0    14       1    1"
      ]
     },
     "execution_count": 6,
     "metadata": {},
     "output_type": "execute_result"
    }
   ],
   "source": [
    "X.head()"
   ]
  },
  {
   "cell_type": "code",
   "execution_count": 7,
   "metadata": {
    "collapsed": true
   },
   "outputs": [],
   "source": [
    "FEATURES = ['age', 'dem', 'educ', 'female', 'rep']"
   ]
  },
  {
   "cell_type": "code",
   "execution_count": 8,
   "metadata": {},
   "outputs": [
    {
     "data": {
      "text/plain": [
       "DecisionTreeRegressor(criterion='mse', max_depth=3, max_features=None,\n",
       "           max_leaf_nodes=None, min_impurity_decrease=0.0,\n",
       "           min_impurity_split=None, min_samples_leaf=5,\n",
       "           min_samples_split=2, min_weight_fraction_leaf=0.0,\n",
       "           presort=False, random_state=None, splitter='best')"
      ]
     },
     "execution_count": 8,
     "metadata": {},
     "output_type": "execute_result"
    }
   ],
   "source": [
    "tree1 = DecisionTreeRegressor(max_depth = 3, min_samples_leaf = 5)\n",
    "tree1.fit(X_train, y_train)"
   ]
  },
  {
   "cell_type": "code",
   "execution_count": 9,
   "metadata": {},
   "outputs": [
    {
     "data": {
      "image/svg+xml": [
       "<?xml version=\"1.0\" encoding=\"UTF-8\" standalone=\"no\"?>\r\n",
       "<!DOCTYPE svg PUBLIC \"-//W3C//DTD SVG 1.1//EN\"\r\n",
       " \"http://www.w3.org/Graphics/SVG/1.1/DTD/svg11.dtd\">\r\n",
       "<!-- Generated by graphviz version 2.38.0 (20140413.2041)\r\n",
       " -->\r\n",
       "<!-- Title: Tree Pages: 1 -->\r\n",
       "<svg width=\"1030pt\" height=\"373pt\"\r\n",
       " viewBox=\"0.00 0.00 1030.00 373.00\" xmlns=\"http://www.w3.org/2000/svg\" xmlns:xlink=\"http://www.w3.org/1999/xlink\">\r\n",
       "<g id=\"graph0\" class=\"graph\" transform=\"scale(1 1) rotate(0) translate(4 369)\">\r\n",
       "<title>Tree</title>\r\n",
       "<polygon fill=\"white\" stroke=\"none\" points=\"-4,4 -4,-369 1026,-369 1026,4 -4,4\"/>\r\n",
       "<!-- 0 -->\r\n",
       "<g id=\"node1\" class=\"node\"><title>0</title>\r\n",
       "<path fill=\"#e58139\" fill-opacity=\"0.505882\" stroke=\"black\" d=\"M562,-365C562,-365 467,-365 467,-365 461,-365 455,-359 455,-353 455,-353 455,-309 455,-309 455,-303 461,-297 467,-297 467,-297 562,-297 562,-297 568,-297 574,-303 574,-309 574,-309 574,-353 574,-353 574,-359 568,-365 562,-365\"/>\r\n",
       "<text text-anchor=\"middle\" x=\"514.5\" y=\"-349.8\" font-family=\"Helvetica,sans-Serif\" font-size=\"14.00\">dem &lt;= 0.5</text>\r\n",
       "<text text-anchor=\"middle\" x=\"514.5\" y=\"-334.8\" font-family=\"Helvetica,sans-Serif\" font-size=\"14.00\">mse = 570.835</text>\r\n",
       "<text text-anchor=\"middle\" x=\"514.5\" y=\"-319.8\" font-family=\"Helvetica,sans-Serif\" font-size=\"14.00\">samples = 1264</text>\r\n",
       "<text text-anchor=\"middle\" x=\"514.5\" y=\"-304.8\" font-family=\"Helvetica,sans-Serif\" font-size=\"14.00\">value = 62.078</text>\r\n",
       "</g>\r\n",
       "<!-- 1 -->\r\n",
       "<g id=\"node2\" class=\"node\"><title>1</title>\r\n",
       "<path fill=\"#e58139\" fill-opacity=\"0.313725\" stroke=\"black\" d=\"M428,-261C428,-261 339,-261 339,-261 333,-261 327,-255 327,-249 327,-249 327,-205 327,-205 327,-199 333,-193 339,-193 339,-193 428,-193 428,-193 434,-193 440,-199 440,-205 440,-205 440,-249 440,-249 440,-255 434,-261 428,-261\"/>\r\n",
       "<text text-anchor=\"middle\" x=\"383.5\" y=\"-245.8\" font-family=\"Helvetica,sans-Serif\" font-size=\"14.00\">rep &lt;= 0.5</text>\r\n",
       "<text text-anchor=\"middle\" x=\"383.5\" y=\"-230.8\" font-family=\"Helvetica,sans-Serif\" font-size=\"14.00\">mse = 533.885</text>\r\n",
       "<text text-anchor=\"middle\" x=\"383.5\" y=\"-215.8\" font-family=\"Helvetica,sans-Serif\" font-size=\"14.00\">samples = 720</text>\r\n",
       "<text text-anchor=\"middle\" x=\"383.5\" y=\"-200.8\" font-family=\"Helvetica,sans-Serif\" font-size=\"14.00\">value = 52.562</text>\r\n",
       "</g>\r\n",
       "<!-- 0&#45;&gt;1 -->\r\n",
       "<g id=\"edge1\" class=\"edge\"><title>0&#45;&gt;1</title>\r\n",
       "<path fill=\"none\" stroke=\"black\" d=\"M471.968,-296.884C459.956,-287.531 446.764,-277.259 434.318,-267.568\"/>\r\n",
       "<polygon fill=\"black\" stroke=\"black\" points=\"436.307,-264.681 426.267,-261.299 432.007,-270.205 436.307,-264.681\"/>\r\n",
       "<text text-anchor=\"middle\" x=\"429.355\" y=\"-282.408\" font-family=\"Helvetica,sans-Serif\" font-size=\"14.00\">True</text>\r\n",
       "</g>\r\n",
       "<!-- 8 -->\r\n",
       "<g id=\"node9\" class=\"node\"><title>8</title>\r\n",
       "<path fill=\"#e58139\" fill-opacity=\"0.760784\" stroke=\"black\" d=\"M688,-261C688,-261 599,-261 599,-261 593,-261 587,-255 587,-249 587,-249 587,-205 587,-205 587,-199 593,-193 599,-193 599,-193 688,-193 688,-193 694,-193 700,-199 700,-205 700,-205 700,-249 700,-249 700,-255 694,-261 688,-261\"/>\r\n",
       "<text text-anchor=\"middle\" x=\"643.5\" y=\"-245.8\" font-family=\"Helvetica,sans-Serif\" font-size=\"14.00\">age &lt;= 53.5</text>\r\n",
       "<text text-anchor=\"middle\" x=\"643.5\" y=\"-230.8\" font-family=\"Helvetica,sans-Serif\" font-size=\"14.00\">mse = 341.272</text>\r\n",
       "<text text-anchor=\"middle\" x=\"643.5\" y=\"-215.8\" font-family=\"Helvetica,sans-Serif\" font-size=\"14.00\">samples = 544</text>\r\n",
       "<text text-anchor=\"middle\" x=\"643.5\" y=\"-200.8\" font-family=\"Helvetica,sans-Serif\" font-size=\"14.00\">value = 74.673</text>\r\n",
       "</g>\r\n",
       "<!-- 0&#45;&gt;8 -->\r\n",
       "<g id=\"edge8\" class=\"edge\"><title>0&#45;&gt;8</title>\r\n",
       "<path fill=\"none\" stroke=\"black\" d=\"M556.383,-296.884C568.211,-287.531 581.201,-277.259 593.458,-267.568\"/>\r\n",
       "<polygon fill=\"black\" stroke=\"black\" points=\"595.713,-270.247 601.386,-261.299 591.371,-264.756 595.713,-270.247\"/>\r\n",
       "<text text-anchor=\"middle\" x=\"598.484\" y=\"-282.43\" font-family=\"Helvetica,sans-Serif\" font-size=\"14.00\">False</text>\r\n",
       "</g>\r\n",
       "<!-- 2 -->\r\n",
       "<g id=\"node3\" class=\"node\"><title>2</title>\r\n",
       "<path fill=\"#e58139\" fill-opacity=\"0.435294\" stroke=\"black\" d=\"M232,-157C232,-157 143,-157 143,-157 137,-157 131,-151 131,-145 131,-145 131,-101 131,-101 131,-95 137,-89 143,-89 143,-89 232,-89 232,-89 238,-89 244,-95 244,-101 244,-101 244,-145 244,-145 244,-151 238,-157 232,-157\"/>\r\n",
       "<text text-anchor=\"middle\" x=\"187.5\" y=\"-141.8\" font-family=\"Helvetica,sans-Serif\" font-size=\"14.00\">educ &lt;= 12.5</text>\r\n",
       "<text text-anchor=\"middle\" x=\"187.5\" y=\"-126.8\" font-family=\"Helvetica,sans-Serif\" font-size=\"14.00\">mse = 470.288</text>\r\n",
       "<text text-anchor=\"middle\" x=\"187.5\" y=\"-111.8\" font-family=\"Helvetica,sans-Serif\" font-size=\"14.00\">samples = 464</text>\r\n",
       "<text text-anchor=\"middle\" x=\"187.5\" y=\"-96.8\" font-family=\"Helvetica,sans-Serif\" font-size=\"14.00\">value = 58.524</text>\r\n",
       "</g>\r\n",
       "<!-- 1&#45;&gt;2 -->\r\n",
       "<g id=\"edge2\" class=\"edge\"><title>1&#45;&gt;2</title>\r\n",
       "<path fill=\"none\" stroke=\"black\" d=\"M326.809,-196.497C303.751,-184.498 276.959,-170.555 253.065,-158.121\"/>\r\n",
       "<polygon fill=\"black\" stroke=\"black\" points=\"254.55,-154.948 244.064,-153.436 251.319,-161.157 254.55,-154.948\"/>\r\n",
       "</g>\r\n",
       "<!-- 5 -->\r\n",
       "<g id=\"node6\" class=\"node\"><title>5</title>\r\n",
       "<path fill=\"#e58139\" fill-opacity=\"0.098039\" stroke=\"black\" d=\"M428,-157C428,-157 339,-157 339,-157 333,-157 327,-151 327,-145 327,-145 327,-101 327,-101 327,-95 333,-89 339,-89 339,-89 428,-89 428,-89 434,-89 440,-95 440,-101 440,-101 440,-145 440,-145 440,-151 434,-157 428,-157\"/>\r\n",
       "<text text-anchor=\"middle\" x=\"383.5\" y=\"-141.8\" font-family=\"Helvetica,sans-Serif\" font-size=\"14.00\">age &lt;= 56.5</text>\r\n",
       "<text text-anchor=\"middle\" x=\"383.5\" y=\"-126.8\" font-family=\"Helvetica,sans-Serif\" font-size=\"14.00\">mse = 468.004</text>\r\n",
       "<text text-anchor=\"middle\" x=\"383.5\" y=\"-111.8\" font-family=\"Helvetica,sans-Serif\" font-size=\"14.00\">samples = 256</text>\r\n",
       "<text text-anchor=\"middle\" x=\"383.5\" y=\"-96.8\" font-family=\"Helvetica,sans-Serif\" font-size=\"14.00\">value = 41.758</text>\r\n",
       "</g>\r\n",
       "<!-- 1&#45;&gt;5 -->\r\n",
       "<g id=\"edge5\" class=\"edge\"><title>1&#45;&gt;5</title>\r\n",
       "<path fill=\"none\" stroke=\"black\" d=\"M383.5,-192.884C383.5,-184.778 383.5,-175.982 383.5,-167.472\"/>\r\n",
       "<polygon fill=\"black\" stroke=\"black\" points=\"387,-167.299 383.5,-157.299 380,-167.299 387,-167.299\"/>\r\n",
       "</g>\r\n",
       "<!-- 3 -->\r\n",
       "<g id=\"node4\" class=\"node\"><title>3</title>\r\n",
       "<path fill=\"#e58139\" fill-opacity=\"0.482353\" stroke=\"black\" d=\"M101,-53C101,-53 12,-53 12,-53 6,-53 0,-47 0,-41 0,-41 0,-12 0,-12 0,-6 6,-0 12,-0 12,-0 101,-0 101,-0 107,-0 113,-6 113,-12 113,-12 113,-41 113,-41 113,-47 107,-53 101,-53\"/>\r\n",
       "<text text-anchor=\"middle\" x=\"56.5\" y=\"-37.8\" font-family=\"Helvetica,sans-Serif\" font-size=\"14.00\">mse = 416.243</text>\r\n",
       "<text text-anchor=\"middle\" x=\"56.5\" y=\"-22.8\" font-family=\"Helvetica,sans-Serif\" font-size=\"14.00\">samples = 209</text>\r\n",
       "<text text-anchor=\"middle\" x=\"56.5\" y=\"-7.8\" font-family=\"Helvetica,sans-Serif\" font-size=\"14.00\">value = 60.789</text>\r\n",
       "</g>\r\n",
       "<!-- 2&#45;&gt;3 -->\r\n",
       "<g id=\"edge3\" class=\"edge\"><title>2&#45;&gt;3</title>\r\n",
       "<path fill=\"none\" stroke=\"black\" d=\"M141.683,-88.9485C128.367,-79.3431 113.855,-68.8747 100.645,-59.345\"/>\r\n",
       "<polygon fill=\"black\" stroke=\"black\" points=\"102.335,-56.2486 92.1773,-53.2367 98.2398,-61.9257 102.335,-56.2486\"/>\r\n",
       "</g>\r\n",
       "<!-- 4 -->\r\n",
       "<g id=\"node5\" class=\"node\"><title>4</title>\r\n",
       "<path fill=\"#e58139\" fill-opacity=\"0.400000\" stroke=\"black\" d=\"M232,-53C232,-53 143,-53 143,-53 137,-53 131,-47 131,-41 131,-41 131,-12 131,-12 131,-6 137,-0 143,-0 143,-0 232,-0 232,-0 238,-0 244,-6 244,-12 244,-12 244,-41 244,-41 244,-47 238,-53 232,-53\"/>\r\n",
       "<text text-anchor=\"middle\" x=\"187.5\" y=\"-37.8\" font-family=\"Helvetica,sans-Serif\" font-size=\"14.00\">mse = 506.928</text>\r\n",
       "<text text-anchor=\"middle\" x=\"187.5\" y=\"-22.8\" font-family=\"Helvetica,sans-Serif\" font-size=\"14.00\">samples = 255</text>\r\n",
       "<text text-anchor=\"middle\" x=\"187.5\" y=\"-7.8\" font-family=\"Helvetica,sans-Serif\" font-size=\"14.00\">value = 56.667</text>\r\n",
       "</g>\r\n",
       "<!-- 2&#45;&gt;4 -->\r\n",
       "<g id=\"edge4\" class=\"edge\"><title>2&#45;&gt;4</title>\r\n",
       "<path fill=\"none\" stroke=\"black\" d=\"M187.5,-88.9485C187.5,-80.7153 187.5,-71.848 187.5,-63.4814\"/>\r\n",
       "<polygon fill=\"black\" stroke=\"black\" points=\"191,-63.2367 187.5,-53.2367 184,-63.2367 191,-63.2367\"/>\r\n",
       "</g>\r\n",
       "<!-- 6 -->\r\n",
       "<g id=\"node7\" class=\"node\"><title>6</title>\r\n",
       "<path fill=\"#e58139\" fill-opacity=\"0.149020\" stroke=\"black\" d=\"M363,-53C363,-53 274,-53 274,-53 268,-53 262,-47 262,-41 262,-41 262,-12 262,-12 262,-6 268,-0 274,-0 274,-0 363,-0 363,-0 369,-0 375,-6 375,-12 375,-12 375,-41 375,-41 375,-47 369,-53 363,-53\"/>\r\n",
       "<text text-anchor=\"middle\" x=\"318.5\" y=\"-37.8\" font-family=\"Helvetica,sans-Serif\" font-size=\"14.00\">mse = 444.776</text>\r\n",
       "<text text-anchor=\"middle\" x=\"318.5\" y=\"-22.8\" font-family=\"Helvetica,sans-Serif\" font-size=\"14.00\">samples = 167</text>\r\n",
       "<text text-anchor=\"middle\" x=\"318.5\" y=\"-7.8\" font-family=\"Helvetica,sans-Serif\" font-size=\"14.00\">value = 44.341</text>\r\n",
       "</g>\r\n",
       "<!-- 5&#45;&gt;6 -->\r\n",
       "<g id=\"edge6\" class=\"edge\"><title>5&#45;&gt;6</title>\r\n",
       "<path fill=\"none\" stroke=\"black\" d=\"M360.766,-88.9485C354.663,-80.0749 348.053,-70.4648 341.913,-61.5388\"/>\r\n",
       "<polygon fill=\"black\" stroke=\"black\" points=\"344.753,-59.4924 336.202,-53.2367 338.986,-63.4594 344.753,-59.4924\"/>\r\n",
       "</g>\r\n",
       "<!-- 7 -->\r\n",
       "<g id=\"node8\" class=\"node\"><title>7</title>\r\n",
       "<path fill=\"none\" stroke=\"black\" d=\"M494,-53C494,-53 405,-53 405,-53 399,-53 393,-47 393,-41 393,-41 393,-12 393,-12 393,-6 399,-0 405,-0 405,-0 494,-0 494,-0 500,-0 506,-6 506,-12 506,-12 506,-41 506,-41 506,-47 500,-53 494,-53\"/>\r\n",
       "<text text-anchor=\"middle\" x=\"449.5\" y=\"-37.8\" font-family=\"Helvetica,sans-Serif\" font-size=\"14.00\">mse = 475.565</text>\r\n",
       "<text text-anchor=\"middle\" x=\"449.5\" y=\"-22.8\" font-family=\"Helvetica,sans-Serif\" font-size=\"14.00\">samples = 89</text>\r\n",
       "<text text-anchor=\"middle\" x=\"449.5\" y=\"-7.8\" font-family=\"Helvetica,sans-Serif\" font-size=\"14.00\">value = 36.91</text>\r\n",
       "</g>\r\n",
       "<!-- 5&#45;&gt;7 -->\r\n",
       "<g id=\"edge7\" class=\"edge\"><title>5&#45;&gt;7</title>\r\n",
       "<path fill=\"none\" stroke=\"black\" d=\"M406.584,-88.9485C412.781,-80.0749 419.493,-70.4648 425.727,-61.5388\"/>\r\n",
       "<polygon fill=\"black\" stroke=\"black\" points=\"428.669,-63.4392 431.525,-53.2367 422.93,-59.4311 428.669,-63.4392\"/>\r\n",
       "</g>\r\n",
       "<!-- 9 -->\r\n",
       "<g id=\"node10\" class=\"node\"><title>9</title>\r\n",
       "<path fill=\"#e58139\" fill-opacity=\"0.725490\" stroke=\"black\" d=\"M688,-157C688,-157 599,-157 599,-157 593,-157 587,-151 587,-145 587,-145 587,-101 587,-101 587,-95 593,-89 599,-89 599,-89 688,-89 688,-89 694,-89 700,-95 700,-101 700,-101 700,-145 700,-145 700,-151 694,-157 688,-157\"/>\r\n",
       "<text text-anchor=\"middle\" x=\"643.5\" y=\"-141.8\" font-family=\"Helvetica,sans-Serif\" font-size=\"14.00\">educ &lt;= 15.5</text>\r\n",
       "<text text-anchor=\"middle\" x=\"643.5\" y=\"-126.8\" font-family=\"Helvetica,sans-Serif\" font-size=\"14.00\">mse = 343.234</text>\r\n",
       "<text text-anchor=\"middle\" x=\"643.5\" y=\"-111.8\" font-family=\"Helvetica,sans-Serif\" font-size=\"14.00\">samples = 332</text>\r\n",
       "<text text-anchor=\"middle\" x=\"643.5\" y=\"-96.8\" font-family=\"Helvetica,sans-Serif\" font-size=\"14.00\">value = 72.852</text>\r\n",
       "</g>\r\n",
       "<!-- 8&#45;&gt;9 -->\r\n",
       "<g id=\"edge9\" class=\"edge\"><title>8&#45;&gt;9</title>\r\n",
       "<path fill=\"none\" stroke=\"black\" d=\"M643.5,-192.884C643.5,-184.778 643.5,-175.982 643.5,-167.472\"/>\r\n",
       "<polygon fill=\"black\" stroke=\"black\" points=\"647,-167.299 643.5,-157.299 640,-167.299 647,-167.299\"/>\r\n",
       "</g>\r\n",
       "<!-- 12 -->\r\n",
       "<g id=\"node13\" class=\"node\"><title>12</title>\r\n",
       "<path fill=\"#e58139\" fill-opacity=\"0.819608\" stroke=\"black\" d=\"M883,-157C883,-157 794,-157 794,-157 788,-157 782,-151 782,-145 782,-145 782,-101 782,-101 782,-95 788,-89 794,-89 794,-89 883,-89 883,-89 889,-89 895,-95 895,-101 895,-101 895,-145 895,-145 895,-151 889,-157 883,-157\"/>\r\n",
       "<text text-anchor=\"middle\" x=\"838.5\" y=\"-141.8\" font-family=\"Helvetica,sans-Serif\" font-size=\"14.00\">educ &lt;= 6.5</text>\r\n",
       "<text text-anchor=\"middle\" x=\"838.5\" y=\"-126.8\" font-family=\"Helvetica,sans-Serif\" font-size=\"14.00\">mse = 324.882</text>\r\n",
       "<text text-anchor=\"middle\" x=\"838.5\" y=\"-111.8\" font-family=\"Helvetica,sans-Serif\" font-size=\"14.00\">samples = 212</text>\r\n",
       "<text text-anchor=\"middle\" x=\"838.5\" y=\"-96.8\" font-family=\"Helvetica,sans-Serif\" font-size=\"14.00\">value = 77.524</text>\r\n",
       "</g>\r\n",
       "<!-- 8&#45;&gt;12 -->\r\n",
       "<g id=\"edge12\" class=\"edge\"><title>8&#45;&gt;12</title>\r\n",
       "<path fill=\"none\" stroke=\"black\" d=\"M700.164,-196.36C722.898,-184.469 749.248,-170.686 772.813,-158.359\"/>\r\n",
       "<polygon fill=\"black\" stroke=\"black\" points=\"774.456,-161.45 781.695,-153.714 771.211,-155.247 774.456,-161.45\"/>\r\n",
       "</g>\r\n",
       "<!-- 10 -->\r\n",
       "<g id=\"node11\" class=\"node\"><title>10</title>\r\n",
       "<path fill=\"#e58139\" fill-opacity=\"0.698039\" stroke=\"black\" d=\"M625,-53C625,-53 536,-53 536,-53 530,-53 524,-47 524,-41 524,-41 524,-12 524,-12 524,-6 530,-0 536,-0 536,-0 625,-0 625,-0 631,-0 637,-6 637,-12 637,-12 637,-41 637,-41 637,-47 631,-53 625,-53\"/>\r\n",
       "<text text-anchor=\"middle\" x=\"580.5\" y=\"-37.8\" font-family=\"Helvetica,sans-Serif\" font-size=\"14.00\">mse = 363.807</text>\r\n",
       "<text text-anchor=\"middle\" x=\"580.5\" y=\"-22.8\" font-family=\"Helvetica,sans-Serif\" font-size=\"14.00\">samples = 253</text>\r\n",
       "<text text-anchor=\"middle\" x=\"580.5\" y=\"-7.8\" font-family=\"Helvetica,sans-Serif\" font-size=\"14.00\">value = 71.49</text>\r\n",
       "</g>\r\n",
       "<!-- 9&#45;&gt;10 -->\r\n",
       "<g id=\"edge10\" class=\"edge\"><title>9&#45;&gt;10</title>\r\n",
       "<path fill=\"none\" stroke=\"black\" d=\"M621.466,-88.9485C615.611,-80.1664 609.275,-70.6629 603.377,-61.815\"/>\r\n",
       "<polygon fill=\"black\" stroke=\"black\" points=\"606.117,-59.6158 597.658,-53.2367 600.293,-63.4987 606.117,-59.6158\"/>\r\n",
       "</g>\r\n",
       "<!-- 11 -->\r\n",
       "<g id=\"node12\" class=\"node\"><title>11</title>\r\n",
       "<path fill=\"#e58139\" fill-opacity=\"0.811765\" stroke=\"black\" d=\"M756,-53C756,-53 667,-53 667,-53 661,-53 655,-47 655,-41 655,-41 655,-12 655,-12 655,-6 661,-0 667,-0 667,-0 756,-0 756,-0 762,-0 768,-6 768,-12 768,-12 768,-41 768,-41 768,-47 762,-53 756,-53\"/>\r\n",
       "<text text-anchor=\"middle\" x=\"711.5\" y=\"-37.8\" font-family=\"Helvetica,sans-Serif\" font-size=\"14.00\">mse = 252.371</text>\r\n",
       "<text text-anchor=\"middle\" x=\"711.5\" y=\"-22.8\" font-family=\"Helvetica,sans-Serif\" font-size=\"14.00\">samples = 79</text>\r\n",
       "<text text-anchor=\"middle\" x=\"711.5\" y=\"-7.8\" font-family=\"Helvetica,sans-Serif\" font-size=\"14.00\">value = 77.215</text>\r\n",
       "</g>\r\n",
       "<!-- 9&#45;&gt;11 -->\r\n",
       "<g id=\"edge11\" class=\"edge\"><title>9&#45;&gt;11</title>\r\n",
       "<path fill=\"none\" stroke=\"black\" d=\"M667.283,-88.9485C673.668,-80.0749 680.584,-70.4648 687.007,-61.5388\"/>\r\n",
       "<polygon fill=\"black\" stroke=\"black\" points=\"689.981,-63.398 692.98,-53.2367 684.299,-59.3094 689.981,-63.398\"/>\r\n",
       "</g>\r\n",
       "<!-- 13 -->\r\n",
       "<g id=\"node14\" class=\"node\"><title>13</title>\r\n",
       "<path fill=\"#e58139\" stroke=\"black\" d=\"M879,-53C879,-53 798,-53 798,-53 792,-53 786,-47 786,-41 786,-41 786,-12 786,-12 786,-6 792,-0 798,-0 798,-0 879,-0 879,-0 885,-0 891,-6 891,-12 891,-12 891,-41 891,-41 891,-47 885,-53 879,-53\"/>\r\n",
       "<text text-anchor=\"middle\" x=\"838.5\" y=\"-37.8\" font-family=\"Helvetica,sans-Serif\" font-size=\"14.00\">mse = 295.25</text>\r\n",
       "<text text-anchor=\"middle\" x=\"838.5\" y=\"-22.8\" font-family=\"Helvetica,sans-Serif\" font-size=\"14.00\">samples = 10</text>\r\n",
       "<text text-anchor=\"middle\" x=\"838.5\" y=\"-7.8\" font-family=\"Helvetica,sans-Serif\" font-size=\"14.00\">value = 86.5</text>\r\n",
       "</g>\r\n",
       "<!-- 12&#45;&gt;13 -->\r\n",
       "<g id=\"edge13\" class=\"edge\"><title>12&#45;&gt;13</title>\r\n",
       "<path fill=\"none\" stroke=\"black\" d=\"M838.5,-88.9485C838.5,-80.7153 838.5,-71.848 838.5,-63.4814\"/>\r\n",
       "<polygon fill=\"black\" stroke=\"black\" points=\"842,-63.2367 838.5,-53.2367 835,-63.2367 842,-63.2367\"/>\r\n",
       "</g>\r\n",
       "<!-- 14 -->\r\n",
       "<g id=\"node15\" class=\"node\"><title>14</title>\r\n",
       "<path fill=\"#e58139\" fill-opacity=\"0.811765\" stroke=\"black\" d=\"M1010,-53C1010,-53 921,-53 921,-53 915,-53 909,-47 909,-41 909,-41 909,-12 909,-12 909,-6 915,-0 921,-0 921,-0 1010,-0 1010,-0 1016,-0 1022,-6 1022,-12 1022,-12 1022,-41 1022,-41 1022,-47 1016,-53 1010,-53\"/>\r\n",
       "<text text-anchor=\"middle\" x=\"965.5\" y=\"-37.8\" font-family=\"Helvetica,sans-Serif\" font-size=\"14.00\">mse = 322.162</text>\r\n",
       "<text text-anchor=\"middle\" x=\"965.5\" y=\"-22.8\" font-family=\"Helvetica,sans-Serif\" font-size=\"14.00\">samples = 202</text>\r\n",
       "<text text-anchor=\"middle\" x=\"965.5\" y=\"-7.8\" font-family=\"Helvetica,sans-Serif\" font-size=\"14.00\">value = 77.079</text>\r\n",
       "</g>\r\n",
       "<!-- 12&#45;&gt;14 -->\r\n",
       "<g id=\"edge14\" class=\"edge\"><title>12&#45;&gt;14</title>\r\n",
       "<path fill=\"none\" stroke=\"black\" d=\"M882.918,-88.9485C895.827,-79.3431 909.896,-68.8747 922.703,-59.345\"/>\r\n",
       "<polygon fill=\"black\" stroke=\"black\" points=\"924.979,-62.0143 930.912,-53.2367 920.8,-56.3984 924.979,-62.0143\"/>\r\n",
       "</g>\r\n",
       "</g>\r\n",
       "</svg>\r\n"
      ],
      "text/plain": [
       "<graphviz.files.Source at 0x17ba26c0668>"
      ]
     },
     "execution_count": 9,
     "metadata": {},
     "output_type": "execute_result"
    }
   ],
   "source": [
    "tree1_viz = export_graphviz(tree1, out_file = None, \n",
    "                            rounded = True, filled = True,\n",
    "                            feature_names = FEATURES)\n",
    "graph = graphviz.Source(tree1_viz)\n",
    "graph.render('tree1')\n",
    "graph"
   ]
  },
  {
   "cell_type": "markdown",
   "metadata": {},
   "source": [
    "The first split is on being democratic or not, and democratics seem to be warmer to bidens. The second split is on being a republican or not and age. For non-democratics, if they are republicans, they would be colder to bidens. For democratics, if they are older than 53.5, they would be warmer to bidens. The third split is on education and age. And there's no general pattern among the four subgroups."
   ]
  },
  {
   "cell_type": "code",
   "execution_count": 10,
   "metadata": {},
   "outputs": [
    {
     "name": "stdout",
     "output_type": "stream",
     "text": [
      "MSE= 370.051290373\n"
     ]
    }
   ],
   "source": [
    "y_pred = tree1.predict(X_test)\n",
    "MSE1 = mean_squared_error(y_test, y_pred)\n",
    "print('MSE=', MSE1)"
   ]
  },
  {
   "cell_type": "markdown",
   "metadata": {},
   "source": [
    "***b) optimal tree ***"
   ]
  },
  {
   "cell_type": "code",
   "execution_count": 11,
   "metadata": {},
   "outputs": [],
   "source": [
    "MSE_opt = MSE1\n",
    "level_list = []\n",
    "for i in range(1, 1000):\n",
    "    tree = DecisionTreeRegressor(max_depth = i, min_samples_leaf = 5)\n",
    "    tree.fit(X_train, y_train)\n",
    "    y_pred = tree.predict(X_test)\n",
    "    MSE = mean_squared_error(y_test, y_pred)\n",
    "    MSE_opt = min(MSE, MSE_opt) \n",
    "    if MSE_opt == MSE:\n",
    "        level_list.append((i, MSE))"
   ]
  },
  {
   "cell_type": "code",
   "execution_count": 12,
   "metadata": {},
   "outputs": [
    {
     "data": {
      "text/plain": [
       "[(2, 365.31209671596878)]"
      ]
     },
     "execution_count": 12,
     "metadata": {},
     "output_type": "execute_result"
    }
   ],
   "source": [
    "level_list"
   ]
  },
  {
   "cell_type": "code",
   "execution_count": 13,
   "metadata": {},
   "outputs": [
    {
     "name": "stdout",
     "output_type": "stream",
     "text": [
      "optimal level: 2 , MSE =  365.312096716\n"
     ]
    }
   ],
   "source": [
    "print(\"optimal level:\", level_list[0][0], \", MSE = \", level_list[0][1] )"
   ]
  },
  {
   "cell_type": "markdown",
   "metadata": {},
   "source": [
    "The pruning imporves MSE in part a). "
   ]
  },
  {
   "cell_type": "code",
   "execution_count": 14,
   "metadata": {},
   "outputs": [
    {
     "data": {
      "image/svg+xml": [
       "<?xml version=\"1.0\" encoding=\"UTF-8\" standalone=\"no\"?>\r\n",
       "<!DOCTYPE svg PUBLIC \"-//W3C//DTD SVG 1.1//EN\"\r\n",
       " \"http://www.w3.org/Graphics/SVG/1.1/DTD/svg11.dtd\">\r\n",
       "<!-- Generated by graphviz version 2.38.0 (20140413.2041)\r\n",
       " -->\r\n",
       "<!-- Title: Tree Pages: 1 -->\r\n",
       "<svg width=\"514pt\" height=\"269pt\"\r\n",
       " viewBox=\"0.00 0.00 514.00 269.00\" xmlns=\"http://www.w3.org/2000/svg\" xmlns:xlink=\"http://www.w3.org/1999/xlink\">\r\n",
       "<g id=\"graph0\" class=\"graph\" transform=\"scale(1 1) rotate(0) translate(4 265)\">\r\n",
       "<title>Tree</title>\r\n",
       "<polygon fill=\"white\" stroke=\"none\" points=\"-4,4 -4,-265 510,-265 510,4 -4,4\"/>\r\n",
       "<!-- 0 -->\r\n",
       "<g id=\"node1\" class=\"node\"><title>0</title>\r\n",
       "<path fill=\"#e58139\" fill-opacity=\"0.568627\" stroke=\"black\" d=\"M300,-261C300,-261 205,-261 205,-261 199,-261 193,-255 193,-249 193,-249 193,-205 193,-205 193,-199 199,-193 205,-193 205,-193 300,-193 300,-193 306,-193 312,-199 312,-205 312,-205 312,-249 312,-249 312,-255 306,-261 300,-261\"/>\r\n",
       "<text text-anchor=\"middle\" x=\"252.5\" y=\"-245.8\" font-family=\"Helvetica,sans-Serif\" font-size=\"14.00\">dem &lt;= 0.5</text>\r\n",
       "<text text-anchor=\"middle\" x=\"252.5\" y=\"-230.8\" font-family=\"Helvetica,sans-Serif\" font-size=\"14.00\">mse = 570.835</text>\r\n",
       "<text text-anchor=\"middle\" x=\"252.5\" y=\"-215.8\" font-family=\"Helvetica,sans-Serif\" font-size=\"14.00\">samples = 1264</text>\r\n",
       "<text text-anchor=\"middle\" x=\"252.5\" y=\"-200.8\" font-family=\"Helvetica,sans-Serif\" font-size=\"14.00\">value = 62.078</text>\r\n",
       "</g>\r\n",
       "<!-- 1 -->\r\n",
       "<g id=\"node2\" class=\"node\"><title>1</title>\r\n",
       "<path fill=\"#e58139\" fill-opacity=\"0.301961\" stroke=\"black\" d=\"M232,-157C232,-157 143,-157 143,-157 137,-157 131,-151 131,-145 131,-145 131,-101 131,-101 131,-95 137,-89 143,-89 143,-89 232,-89 232,-89 238,-89 244,-95 244,-101 244,-101 244,-145 244,-145 244,-151 238,-157 232,-157\"/>\r\n",
       "<text text-anchor=\"middle\" x=\"187.5\" y=\"-141.8\" font-family=\"Helvetica,sans-Serif\" font-size=\"14.00\">rep &lt;= 0.5</text>\r\n",
       "<text text-anchor=\"middle\" x=\"187.5\" y=\"-126.8\" font-family=\"Helvetica,sans-Serif\" font-size=\"14.00\">mse = 533.885</text>\r\n",
       "<text text-anchor=\"middle\" x=\"187.5\" y=\"-111.8\" font-family=\"Helvetica,sans-Serif\" font-size=\"14.00\">samples = 720</text>\r\n",
       "<text text-anchor=\"middle\" x=\"187.5\" y=\"-96.8\" font-family=\"Helvetica,sans-Serif\" font-size=\"14.00\">value = 52.562</text>\r\n",
       "</g>\r\n",
       "<!-- 0&#45;&gt;1 -->\r\n",
       "<g id=\"edge1\" class=\"edge\"><title>0&#45;&gt;1</title>\r\n",
       "<path fill=\"none\" stroke=\"black\" d=\"M231.396,-192.884C225.89,-184.243 219.885,-174.819 214.133,-165.793\"/>\r\n",
       "<polygon fill=\"black\" stroke=\"black\" points=\"217.046,-163.852 208.72,-157.299 211.143,-167.614 217.046,-163.852\"/>\r\n",
       "<text text-anchor=\"middle\" x=\"203.312\" y=\"-178.007\" font-family=\"Helvetica,sans-Serif\" font-size=\"14.00\">True</text>\r\n",
       "</g>\r\n",
       "<!-- 4 -->\r\n",
       "<g id=\"node5\" class=\"node\"><title>4</title>\r\n",
       "<path fill=\"#e58139\" fill-opacity=\"0.921569\" stroke=\"black\" d=\"M363,-157C363,-157 274,-157 274,-157 268,-157 262,-151 262,-145 262,-145 262,-101 262,-101 262,-95 268,-89 274,-89 274,-89 363,-89 363,-89 369,-89 375,-95 375,-101 375,-101 375,-145 375,-145 375,-151 369,-157 363,-157\"/>\r\n",
       "<text text-anchor=\"middle\" x=\"318.5\" y=\"-141.8\" font-family=\"Helvetica,sans-Serif\" font-size=\"14.00\">age &lt;= 53.5</text>\r\n",
       "<text text-anchor=\"middle\" x=\"318.5\" y=\"-126.8\" font-family=\"Helvetica,sans-Serif\" font-size=\"14.00\">mse = 341.272</text>\r\n",
       "<text text-anchor=\"middle\" x=\"318.5\" y=\"-111.8\" font-family=\"Helvetica,sans-Serif\" font-size=\"14.00\">samples = 544</text>\r\n",
       "<text text-anchor=\"middle\" x=\"318.5\" y=\"-96.8\" font-family=\"Helvetica,sans-Serif\" font-size=\"14.00\">value = 74.673</text>\r\n",
       "</g>\r\n",
       "<!-- 0&#45;&gt;4 -->\r\n",
       "<g id=\"edge4\" class=\"edge\"><title>0&#45;&gt;4</title>\r\n",
       "<path fill=\"none\" stroke=\"black\" d=\"M273.928,-192.884C279.519,-184.243 285.617,-174.819 291.458,-165.793\"/>\r\n",
       "<polygon fill=\"black\" stroke=\"black\" points=\"294.459,-167.596 296.953,-157.299 288.582,-163.794 294.459,-167.596\"/>\r\n",
       "<text text-anchor=\"middle\" x=\"302.192\" y=\"-178.044\" font-family=\"Helvetica,sans-Serif\" font-size=\"14.00\">False</text>\r\n",
       "</g>\r\n",
       "<!-- 2 -->\r\n",
       "<g id=\"node3\" class=\"node\"><title>2</title>\r\n",
       "<path fill=\"#e58139\" fill-opacity=\"0.470588\" stroke=\"black\" d=\"M101,-53C101,-53 12,-53 12,-53 6,-53 0,-47 0,-41 0,-41 0,-12 0,-12 0,-6 6,-0 12,-0 12,-0 101,-0 101,-0 107,-0 113,-6 113,-12 113,-12 113,-41 113,-41 113,-47 107,-53 101,-53\"/>\r\n",
       "<text text-anchor=\"middle\" x=\"56.5\" y=\"-37.8\" font-family=\"Helvetica,sans-Serif\" font-size=\"14.00\">mse = 470.288</text>\r\n",
       "<text text-anchor=\"middle\" x=\"56.5\" y=\"-22.8\" font-family=\"Helvetica,sans-Serif\" font-size=\"14.00\">samples = 464</text>\r\n",
       "<text text-anchor=\"middle\" x=\"56.5\" y=\"-7.8\" font-family=\"Helvetica,sans-Serif\" font-size=\"14.00\">value = 58.524</text>\r\n",
       "</g>\r\n",
       "<!-- 1&#45;&gt;2 -->\r\n",
       "<g id=\"edge2\" class=\"edge\"><title>1&#45;&gt;2</title>\r\n",
       "<path fill=\"none\" stroke=\"black\" d=\"M141.683,-88.9485C128.367,-79.3431 113.855,-68.8747 100.645,-59.345\"/>\r\n",
       "<polygon fill=\"black\" stroke=\"black\" points=\"102.335,-56.2486 92.1773,-53.2367 98.2398,-61.9257 102.335,-56.2486\"/>\r\n",
       "</g>\r\n",
       "<!-- 3 -->\r\n",
       "<g id=\"node4\" class=\"node\"><title>3</title>\r\n",
       "<path fill=\"none\" stroke=\"black\" d=\"M232,-53C232,-53 143,-53 143,-53 137,-53 131,-47 131,-41 131,-41 131,-12 131,-12 131,-6 137,-0 143,-0 143,-0 232,-0 232,-0 238,-0 244,-6 244,-12 244,-12 244,-41 244,-41 244,-47 238,-53 232,-53\"/>\r\n",
       "<text text-anchor=\"middle\" x=\"187.5\" y=\"-37.8\" font-family=\"Helvetica,sans-Serif\" font-size=\"14.00\">mse = 468.004</text>\r\n",
       "<text text-anchor=\"middle\" x=\"187.5\" y=\"-22.8\" font-family=\"Helvetica,sans-Serif\" font-size=\"14.00\">samples = 256</text>\r\n",
       "<text text-anchor=\"middle\" x=\"187.5\" y=\"-7.8\" font-family=\"Helvetica,sans-Serif\" font-size=\"14.00\">value = 41.758</text>\r\n",
       "</g>\r\n",
       "<!-- 1&#45;&gt;3 -->\r\n",
       "<g id=\"edge3\" class=\"edge\"><title>1&#45;&gt;3</title>\r\n",
       "<path fill=\"none\" stroke=\"black\" d=\"M187.5,-88.9485C187.5,-80.7153 187.5,-71.848 187.5,-63.4814\"/>\r\n",
       "<polygon fill=\"black\" stroke=\"black\" points=\"191,-63.2367 187.5,-53.2367 184,-63.2367 191,-63.2367\"/>\r\n",
       "</g>\r\n",
       "<!-- 5 -->\r\n",
       "<g id=\"node6\" class=\"node\"><title>5</title>\r\n",
       "<path fill=\"#e58139\" fill-opacity=\"0.870588\" stroke=\"black\" d=\"M363,-53C363,-53 274,-53 274,-53 268,-53 262,-47 262,-41 262,-41 262,-12 262,-12 262,-6 268,-0 274,-0 274,-0 363,-0 363,-0 369,-0 375,-6 375,-12 375,-12 375,-41 375,-41 375,-47 369,-53 363,-53\"/>\r\n",
       "<text text-anchor=\"middle\" x=\"318.5\" y=\"-37.8\" font-family=\"Helvetica,sans-Serif\" font-size=\"14.00\">mse = 343.234</text>\r\n",
       "<text text-anchor=\"middle\" x=\"318.5\" y=\"-22.8\" font-family=\"Helvetica,sans-Serif\" font-size=\"14.00\">samples = 332</text>\r\n",
       "<text text-anchor=\"middle\" x=\"318.5\" y=\"-7.8\" font-family=\"Helvetica,sans-Serif\" font-size=\"14.00\">value = 72.852</text>\r\n",
       "</g>\r\n",
       "<!-- 4&#45;&gt;5 -->\r\n",
       "<g id=\"edge5\" class=\"edge\"><title>4&#45;&gt;5</title>\r\n",
       "<path fill=\"none\" stroke=\"black\" d=\"M318.5,-88.9485C318.5,-80.7153 318.5,-71.848 318.5,-63.4814\"/>\r\n",
       "<polygon fill=\"black\" stroke=\"black\" points=\"322,-63.2367 318.5,-53.2367 315,-63.2367 322,-63.2367\"/>\r\n",
       "</g>\r\n",
       "<!-- 6 -->\r\n",
       "<g id=\"node7\" class=\"node\"><title>6</title>\r\n",
       "<path fill=\"#e58139\" stroke=\"black\" d=\"M494,-53C494,-53 405,-53 405,-53 399,-53 393,-47 393,-41 393,-41 393,-12 393,-12 393,-6 399,-0 405,-0 405,-0 494,-0 494,-0 500,-0 506,-6 506,-12 506,-12 506,-41 506,-41 506,-47 500,-53 494,-53\"/>\r\n",
       "<text text-anchor=\"middle\" x=\"449.5\" y=\"-37.8\" font-family=\"Helvetica,sans-Serif\" font-size=\"14.00\">mse = 324.882</text>\r\n",
       "<text text-anchor=\"middle\" x=\"449.5\" y=\"-22.8\" font-family=\"Helvetica,sans-Serif\" font-size=\"14.00\">samples = 212</text>\r\n",
       "<text text-anchor=\"middle\" x=\"449.5\" y=\"-7.8\" font-family=\"Helvetica,sans-Serif\" font-size=\"14.00\">value = 77.524</text>\r\n",
       "</g>\r\n",
       "<!-- 4&#45;&gt;6 -->\r\n",
       "<g id=\"edge6\" class=\"edge\"><title>4&#45;&gt;6</title>\r\n",
       "<path fill=\"none\" stroke=\"black\" d=\"M364.317,-88.9485C377.633,-79.3431 392.145,-68.8747 405.355,-59.345\"/>\r\n",
       "<polygon fill=\"black\" stroke=\"black\" points=\"407.76,-61.9257 413.823,-53.2367 403.665,-56.2486 407.76,-61.9257\"/>\r\n",
       "</g>\r\n",
       "</g>\r\n",
       "</svg>\r\n"
      ],
      "text/plain": [
       "<graphviz.files.Source at 0x17ba36afe80>"
      ]
     },
     "execution_count": 14,
     "metadata": {},
     "output_type": "execute_result"
    }
   ],
   "source": [
    "tree_opt = DecisionTreeRegressor(max_depth = 2, min_samples_leaf = 5)\n",
    "tree_opt.fit(X_train, y_train)\n",
    "tree_opt_viz = export_graphviz(tree_opt, out_file = None, \n",
    "                               rounded = True, filled = True,\n",
    "                               feature_names = FEATURES)\n",
    "graph = graphviz.Source(tree_opt_viz)\n",
    "graph.render('tree_opt')\n",
    "graph"
   ]
  },
  {
   "cell_type": "markdown",
   "metadata": {},
   "source": [
    "The first split is still being democratic or not, with democratic being warmer to biden. \n",
    "For non-democratics, the second split is on being republican or not. If they are republicans, they would be colder to bidens. For democratics, the second split is on age. If they are older than 53.5, they would be warmer to bidens. "
   ]
  },
  {
   "cell_type": "markdown",
   "metadata": {},
   "source": [
    "***c) Bagging ***"
   ]
  },
  {
   "cell_type": "code",
   "execution_count": 15,
   "metadata": {},
   "outputs": [
    {
     "data": {
      "text/plain": [
       "BaggingRegressor(base_estimator=DecisionTreeRegressor(criterion='mse', max_depth=None, max_features=None,\n",
       "           max_leaf_nodes=None, min_impurity_decrease=0.0,\n",
       "           min_impurity_split=None, min_samples_leaf=1,\n",
       "           min_samples_split=2, min_weight_fraction_leaf=0.0,\n",
       "           presort=False, random_state=None, splitter='best'),\n",
       "         bootstrap=True, bootstrap_features=False, max_features=1.0,\n",
       "         max_samples=100, n_estimators=100, n_jobs=1, oob_score=True,\n",
       "         random_state=0, verbose=0, warm_start=False)"
      ]
     },
     "execution_count": 15,
     "metadata": {},
     "output_type": "execute_result"
    }
   ],
   "source": [
    "tree_bag = BaggingRegressor(DecisionTreeRegressor(), n_estimators = 100, \\\n",
    "                            max_samples = 100, bootstrap = True, \\\n",
    "                            oob_score = True, random_state = 0)\n",
    "tree_bag.fit(X, y)"
   ]
  },
  {
   "cell_type": "code",
   "execution_count": 16,
   "metadata": {},
   "outputs": [
    {
     "name": "stdout",
     "output_type": "stream",
     "text": [
      "MSE_bagging =  404.215874174\n"
     ]
    }
   ],
   "source": [
    "y_pred_bag = tree_bag.oob_prediction_\n",
    "MSE_bag = mean_squared_error(y, y_pred_bag)\n",
    "print('MSE_bagging = ', MSE_bag)"
   ]
  },
  {
   "cell_type": "markdown",
   "metadata": {},
   "source": [
    "variable importance"
   ]
  },
  {
   "cell_type": "code",
   "execution_count": 17,
   "metadata": {},
   "outputs": [],
   "source": [
    "importances = np.mean([tree.feature_importances_ for \\\n",
    "                               tree in tree_bag.estimators_], axis=0)\n",
    "ranks = np.argsort(importances)[::-1]"
   ]
  },
  {
   "cell_type": "code",
   "execution_count": 18,
   "metadata": {},
   "outputs": [
    {
     "name": "stdout",
     "output_type": "stream",
     "text": [
      "Feature ranking:\n",
      "1 .  age :  0.440171003151\n",
      "2 .  educ :  0.201081226061\n",
      "3 .  dem :  0.189574875152\n",
      "4 .  rep :  0.107749413743\n",
      "5 .  female :  0.061423481893\n"
     ]
    }
   ],
   "source": [
    "print(\"Feature ranking:\")\n",
    "for f in range(X.shape[1]):\n",
    "    print(f + 1, \". \", FEATURES[ranks[f]], \": \", importances[ranks[f]])\n"
   ]
  },
  {
   "cell_type": "markdown",
   "metadata": {},
   "source": [
    "Age is the most important variable which explains 43 percent of the variance and is followed by education, democraic, republican, and gender. "
   ]
  },
  {
   "cell_type": "markdown",
   "metadata": {},
   "source": [
    "***d) Random Forest ***"
   ]
  },
  {
   "cell_type": "code",
   "execution_count": 19,
   "metadata": {},
   "outputs": [
    {
     "ename": "NameError",
     "evalue": "name 'hit_tree4' is not defined",
     "output_type": "error",
     "traceback": [
      "\u001b[1;31m---------------------------------------------------------------------------\u001b[0m",
      "\u001b[1;31mNameError\u001b[0m                                 Traceback (most recent call last)",
      "\u001b[1;32m<ipython-input-19-299866cacb20>\u001b[0m in \u001b[0;36m<module>\u001b[1;34m()\u001b[0m\n\u001b[0;32m      1\u001b[0m tree_random = RandomForestRegressor(n_estimators = 53, max_features='sqrt', bootstrap=True,\n\u001b[0;32m      2\u001b[0m                                   oob_score=True, random_state=15)\n\u001b[1;32m----> 3\u001b[1;33m \u001b[0mhit_tree4\u001b[0m\u001b[1;33m.\u001b[0m\u001b[0mfit\u001b[0m\u001b[1;33m(\u001b[0m\u001b[0mX\u001b[0m\u001b[1;33m,\u001b[0m \u001b[0my\u001b[0m\u001b[1;33m)\u001b[0m\u001b[1;33m\u001b[0m\u001b[0m\n\u001b[0m\u001b[0;32m      4\u001b[0m \u001b[1;33m\u001b[0m\u001b[0m\n\u001b[0;32m      5\u001b[0m \u001b[0mhit_tree4\u001b[0m\u001b[1;33m.\u001b[0m\u001b[0mscore\u001b[0m\u001b[1;33m(\u001b[0m\u001b[0mX\u001b[0m\u001b[1;33m,\u001b[0m \u001b[0my\u001b[0m\u001b[1;33m)\u001b[0m\u001b[1;33m\u001b[0m\u001b[0m\n",
      "\u001b[1;31mNameError\u001b[0m: name 'hit_tree4' is not defined"
     ]
    }
   ],
   "source": [
    "tree_random = RandomForestRegressor(n_estimators = 53, max_features='sqrt', bootstrap=True,\n",
    "                                  oob_score=True, random_state=15)\n",
    "hit_tree4.fit(X, y)\n",
    "\n",
    "hit_tree4.score(X, y)\n",
    "y_pred4 = hit_tree4.oob_prediction_\n",
    "MSE4 = mean_squared_error(y, y_pred4)\n",
    "print('MSE=', MSE4)"
   ]
  },
  {
   "cell_type": "code",
   "execution_count": null,
   "metadata": {
    "collapsed": true
   },
   "outputs": [],
   "source": [
    "def get_error_and_importance(i):\n",
    "    tree_random = RandomForestRegressor(n_estimators = 100, \\\n",
    "                  max_features = i, bootstrap = True,\\\n",
    "                  oob_score = True, random_state = 0)\n",
    "    tree_random.fit(X, y)\n",
    "    y_pred = tree_random.oob_prediction_\n",
    "    mse = mean_squared_error(y, y_pred)\n",
    "    print('MSE =', mse)\n",
    "    \n",
    "    importances = tree_random.feature_importances_  \n",
    "    ranks = np.argsort(importances)[::-1] \n",
    "    for f in range(X.shape[1]):\n",
    "        print(f + 1, \". \", FEATURES[ranks[f]], \": \", importances[ranks[f]])\n",
    "    \n",
    "    return       "
   ]
  },
  {
   "cell_type": "code",
   "execution_count": null,
   "metadata": {},
   "outputs": [],
   "source": [
    "for i in range(1, 4):\n",
    "    print('m = ', i)\n",
    "    get_error_and_importance(i)\n",
    "    print('\\n')"
   ]
  },
  {
   "cell_type": "markdown",
   "metadata": {},
   "source": [
    "As m gets larger, MSE gets smaller. As for variable importance, age is always the most important variable which explain around half of the variance, followed by dem, educ, rep, and female. "
   ]
  }
 ],
 "metadata": {
  "kernelspec": {
   "display_name": "Python 3",
   "language": "python",
   "name": "python3"
  },
  "language_info": {
   "codemirror_mode": {
    "name": "ipython",
    "version": 3
   },
   "file_extension": ".py",
   "mimetype": "text/x-python",
   "name": "python",
   "nbconvert_exporter": "python",
   "pygments_lexer": "ipython3",
   "version": "3.6.2"
  }
 },
 "nbformat": 4,
 "nbformat_minor": 2
}
